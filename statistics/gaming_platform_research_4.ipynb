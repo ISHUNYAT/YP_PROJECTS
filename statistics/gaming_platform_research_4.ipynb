{
  "cells": [
    {
      "cell_type": "markdown",
      "metadata": {
        "id": "FMqNYi2LSVoR"
      },
      "source": [
        "<h1>Содержание<span class=\"tocSkip\"></span></h1>\n",
        "<div class=\"toc\"><ul class=\"toc-item\"><li><span><a href=\"#Открытие-файлов-с-данными\" data-toc-modified-id=\"Открытие-файлов-с-данными-1\"><span class=\"toc-item-num\">1&nbsp;&nbsp;</span>Открытие файлов с данными</a></span><li><span><a href=\"#Подготовка-данных\" data-toc-modified-id=\"Подготовка-данных-2\"><span class=\"toc-item-num\">2&nbsp;&nbsp;</span>Подготовка данных</a></span></li><li><span><a href=\"#Проведение-исследовательского-анализа-данных\" data-toc-modified-id=\"Проведение-исследовательского-анализа-данных-3\"><span class=\"toc-item-num\">3&nbsp;&nbsp;</span>Проведение исследовательского анализа данных</a></span></li><li><span><a href=\"#Составим-портрет-пользователя-каждого-региона\" data-toc-modified-id=\"Составим-портрет-пользователя-каждого-региона-4\"><span class=\"toc-item-num\">4&nbsp;&nbsp;</span>Составим портрет пользователя каждого региона</a></span></li><li><span><a href=\"#Проверка-гипотез\" data-toc-modified-id=\"Проверка-гипотез-5\"><span class=\"toc-item-num\">5&nbsp;&nbsp;</span>Проверка гипотез</a></span></li><li><span><a href=\"#Общий-вывод\" data-toc-modified-id=\"Общий-вывод-6\"><span class=\"toc-item-num\">6&nbsp;&nbsp;</span>Общий вывод</a></span></li><li><span>"
      ]
    },
    {
      "cell_type": "markdown",
      "metadata": {
        "id": "pVn4TlbDSVoS"
      },
      "source": [
        "# Описание проекта"
      ]
    },
    {
      "cell_type": "markdown",
      "source": [
        "Мы работаеи в интернет-магазине «Стримчик», который продаёт по всему миру компьютерные игры. Из открытых источников доступны исторические данные о продажах игр, оценки пользователей и экспертов, жанры и платформы (например, Xbox или PlayStation). \n",
        "Нам нужно выявить определяющие успешность игры закономерности. Это позволит сделать ставку на потенциально популярный продукт и спланировать рекламные кампании. В нашем распоряжении данные до 2016 года. \n",
        "\n",
        " Представим, что сейчас декабрь 2016 г., и мы планируем кампанию на 2017-й. Нужно отработать принцип работы с данными. Неважно, прогнозируем ли мы продажи на 2017 год по данным 2016-го или же 2027-й — по данным 2026 года.\n",
        "В наборе данных попадается аббревиатура ESRB (Entertainment Software Rating Board) — это ассоциация, определяющая возрастной рейтинг компьютерных игр. ESRB оценивает игровой контент и присваивает ему подходящую возрастную категорию, например, «Для взрослых», «Для детей младшего возраста» или «Для подростков»."
      ],
      "metadata": {
        "id": "RVe8e9OVS0aI"
      }
    },
    {
      "cell_type": "markdown",
      "source": [
        "#Описание данных\n",
        "\n",
        "* Name — название игры\n",
        "* Platform — платформа\n",
        "* Year_of_Release — год выпуска\n",
        "* Genre — жанр игры\n",
        "* NA_sales — продажи в Северной Америке (миллионы проданных копий)\n",
        "* EU_sales — продажи в Европе (миллионы проданных копий)\n",
        "* JP_sales — продажи в Японии (миллионы проданных копий)\n",
        "* Other_sales — продажи в других странах (миллионы проданных копий)\n",
        "* Critic_Score — оценка критиков (максимум 100)\n",
        "* User_Score — оценка пользователей (максимум 10)\n",
        "* Rating — рейтинг от организации ESRB (англ. Entertainment Software Rating Board). Эта ассоциация определяет рейтинг компьютерных игр и присваивает им подходящую возрастную категорию."
      ],
      "metadata": {
        "id": "M9beHSOXTJlY"
      }
    },
    {
      "cell_type": "markdown",
      "metadata": {
        "id": "Y-HC3TG2SVoU"
      },
      "source": [
        "## Открытие файлов с данными"
      ]
    },
    {
      "cell_type": "code",
      "execution_count": null,
      "metadata": {
        "id": "3GNPOZdQSVoW"
      },
      "outputs": [],
      "source": [
        "import pandas as pd\n",
        "import numpy as np\n",
        "import matplotlib.pyplot as plt\n",
        "from scipy.stats import ttest_ind\n",
        "import seaborn as sns\n",
        "from scipy import stats as st\n",
        "pth1 = '/datasets/games.csv'\n",
        "pth2 = '/content/4_games.csv'\n",
        "try:\n",
        "    data = pd.read_csv(pth1)\n",
        "except:\n",
        "    data = pd.read_csv(pth2)\n"
      ]
    },
    {
      "cell_type": "markdown",
      "metadata": {
        "id": "NapKvtubSVoY"
      },
      "source": [
        "## Подготовка данных"
      ]
    },
    {
      "cell_type": "code",
      "execution_count": null,
      "metadata": {
        "colab": {
          "base_uri": "https://localhost:8080/",
          "height": 363
        },
        "id": "6wenUvlFSVoZ",
        "outputId": "3023cde6-4cdb-4fe5-fba4-cc17e1be02a2"
      },
      "outputs": [
        {
          "output_type": "execute_result",
          "data": {
            "text/plain": [
              "                                                   Name Platform  \\\n",
              "16705                                           15 Days       PC   \n",
              "16706                     Men in Black II: Alien Escape       GC   \n",
              "16707                                  Aiyoku no Eustia      PSV   \n",
              "16708                Woody Woodpecker in Crazy Castle 5      GBA   \n",
              "16709  SCORE International Baja 1000: The Official Game      PS2   \n",
              "16710                     Samurai Warriors: Sanada Maru      PS3   \n",
              "16711                                  LMA Manager 2007     X360   \n",
              "16712                           Haitaka no Psychedelica      PSV   \n",
              "16713                                  Spirits & Spells      GBA   \n",
              "16714                               Winning Post 8 2016      PSV   \n",
              "\n",
              "       Year_of_Release       Genre  NA_sales  EU_sales  JP_sales  Other_sales  \\\n",
              "16705           2009.0   Adventure      0.00      0.01      0.00          0.0   \n",
              "16706           2003.0     Shooter      0.01      0.00      0.00          0.0   \n",
              "16707           2014.0        Misc      0.00      0.00      0.01          0.0   \n",
              "16708           2002.0    Platform      0.01      0.00      0.00          0.0   \n",
              "16709           2008.0      Racing      0.00      0.00      0.00          0.0   \n",
              "16710           2016.0      Action      0.00      0.00      0.01          0.0   \n",
              "16711           2006.0      Sports      0.00      0.01      0.00          0.0   \n",
              "16712           2016.0   Adventure      0.00      0.00      0.01          0.0   \n",
              "16713           2003.0    Platform      0.01      0.00      0.00          0.0   \n",
              "16714           2016.0  Simulation      0.00      0.00      0.01          0.0   \n",
              "\n",
              "       Critic_Score User_Score Rating  \n",
              "16705          63.0        5.8    NaN  \n",
              "16706           NaN        tbd      T  \n",
              "16707           NaN        NaN    NaN  \n",
              "16708           NaN        NaN    NaN  \n",
              "16709           NaN        NaN    NaN  \n",
              "16710           NaN        NaN    NaN  \n",
              "16711           NaN        NaN    NaN  \n",
              "16712           NaN        NaN    NaN  \n",
              "16713           NaN        NaN    NaN  \n",
              "16714           NaN        NaN    NaN  "
            ],
            "text/html": [
              "\n",
              "  <div id=\"df-eec02185-3226-4b82-b82b-7a0f3f7fdeb9\">\n",
              "    <div class=\"colab-df-container\">\n",
              "      <div>\n",
              "<style scoped>\n",
              "    .dataframe tbody tr th:only-of-type {\n",
              "        vertical-align: middle;\n",
              "    }\n",
              "\n",
              "    .dataframe tbody tr th {\n",
              "        vertical-align: top;\n",
              "    }\n",
              "\n",
              "    .dataframe thead th {\n",
              "        text-align: right;\n",
              "    }\n",
              "</style>\n",
              "<table border=\"1\" class=\"dataframe\">\n",
              "  <thead>\n",
              "    <tr style=\"text-align: right;\">\n",
              "      <th></th>\n",
              "      <th>Name</th>\n",
              "      <th>Platform</th>\n",
              "      <th>Year_of_Release</th>\n",
              "      <th>Genre</th>\n",
              "      <th>NA_sales</th>\n",
              "      <th>EU_sales</th>\n",
              "      <th>JP_sales</th>\n",
              "      <th>Other_sales</th>\n",
              "      <th>Critic_Score</th>\n",
              "      <th>User_Score</th>\n",
              "      <th>Rating</th>\n",
              "    </tr>\n",
              "  </thead>\n",
              "  <tbody>\n",
              "    <tr>\n",
              "      <th>16705</th>\n",
              "      <td>15 Days</td>\n",
              "      <td>PC</td>\n",
              "      <td>2009.0</td>\n",
              "      <td>Adventure</td>\n",
              "      <td>0.00</td>\n",
              "      <td>0.01</td>\n",
              "      <td>0.00</td>\n",
              "      <td>0.0</td>\n",
              "      <td>63.0</td>\n",
              "      <td>5.8</td>\n",
              "      <td>NaN</td>\n",
              "    </tr>\n",
              "    <tr>\n",
              "      <th>16706</th>\n",
              "      <td>Men in Black II: Alien Escape</td>\n",
              "      <td>GC</td>\n",
              "      <td>2003.0</td>\n",
              "      <td>Shooter</td>\n",
              "      <td>0.01</td>\n",
              "      <td>0.00</td>\n",
              "      <td>0.00</td>\n",
              "      <td>0.0</td>\n",
              "      <td>NaN</td>\n",
              "      <td>tbd</td>\n",
              "      <td>T</td>\n",
              "    </tr>\n",
              "    <tr>\n",
              "      <th>16707</th>\n",
              "      <td>Aiyoku no Eustia</td>\n",
              "      <td>PSV</td>\n",
              "      <td>2014.0</td>\n",
              "      <td>Misc</td>\n",
              "      <td>0.00</td>\n",
              "      <td>0.00</td>\n",
              "      <td>0.01</td>\n",
              "      <td>0.0</td>\n",
              "      <td>NaN</td>\n",
              "      <td>NaN</td>\n",
              "      <td>NaN</td>\n",
              "    </tr>\n",
              "    <tr>\n",
              "      <th>16708</th>\n",
              "      <td>Woody Woodpecker in Crazy Castle 5</td>\n",
              "      <td>GBA</td>\n",
              "      <td>2002.0</td>\n",
              "      <td>Platform</td>\n",
              "      <td>0.01</td>\n",
              "      <td>0.00</td>\n",
              "      <td>0.00</td>\n",
              "      <td>0.0</td>\n",
              "      <td>NaN</td>\n",
              "      <td>NaN</td>\n",
              "      <td>NaN</td>\n",
              "    </tr>\n",
              "    <tr>\n",
              "      <th>16709</th>\n",
              "      <td>SCORE International Baja 1000: The Official Game</td>\n",
              "      <td>PS2</td>\n",
              "      <td>2008.0</td>\n",
              "      <td>Racing</td>\n",
              "      <td>0.00</td>\n",
              "      <td>0.00</td>\n",
              "      <td>0.00</td>\n",
              "      <td>0.0</td>\n",
              "      <td>NaN</td>\n",
              "      <td>NaN</td>\n",
              "      <td>NaN</td>\n",
              "    </tr>\n",
              "    <tr>\n",
              "      <th>16710</th>\n",
              "      <td>Samurai Warriors: Sanada Maru</td>\n",
              "      <td>PS3</td>\n",
              "      <td>2016.0</td>\n",
              "      <td>Action</td>\n",
              "      <td>0.00</td>\n",
              "      <td>0.00</td>\n",
              "      <td>0.01</td>\n",
              "      <td>0.0</td>\n",
              "      <td>NaN</td>\n",
              "      <td>NaN</td>\n",
              "      <td>NaN</td>\n",
              "    </tr>\n",
              "    <tr>\n",
              "      <th>16711</th>\n",
              "      <td>LMA Manager 2007</td>\n",
              "      <td>X360</td>\n",
              "      <td>2006.0</td>\n",
              "      <td>Sports</td>\n",
              "      <td>0.00</td>\n",
              "      <td>0.01</td>\n",
              "      <td>0.00</td>\n",
              "      <td>0.0</td>\n",
              "      <td>NaN</td>\n",
              "      <td>NaN</td>\n",
              "      <td>NaN</td>\n",
              "    </tr>\n",
              "    <tr>\n",
              "      <th>16712</th>\n",
              "      <td>Haitaka no Psychedelica</td>\n",
              "      <td>PSV</td>\n",
              "      <td>2016.0</td>\n",
              "      <td>Adventure</td>\n",
              "      <td>0.00</td>\n",
              "      <td>0.00</td>\n",
              "      <td>0.01</td>\n",
              "      <td>0.0</td>\n",
              "      <td>NaN</td>\n",
              "      <td>NaN</td>\n",
              "      <td>NaN</td>\n",
              "    </tr>\n",
              "    <tr>\n",
              "      <th>16713</th>\n",
              "      <td>Spirits &amp; Spells</td>\n",
              "      <td>GBA</td>\n",
              "      <td>2003.0</td>\n",
              "      <td>Platform</td>\n",
              "      <td>0.01</td>\n",
              "      <td>0.00</td>\n",
              "      <td>0.00</td>\n",
              "      <td>0.0</td>\n",
              "      <td>NaN</td>\n",
              "      <td>NaN</td>\n",
              "      <td>NaN</td>\n",
              "    </tr>\n",
              "    <tr>\n",
              "      <th>16714</th>\n",
              "      <td>Winning Post 8 2016</td>\n",
              "      <td>PSV</td>\n",
              "      <td>2016.0</td>\n",
              "      <td>Simulation</td>\n",
              "      <td>0.00</td>\n",
              "      <td>0.00</td>\n",
              "      <td>0.01</td>\n",
              "      <td>0.0</td>\n",
              "      <td>NaN</td>\n",
              "      <td>NaN</td>\n",
              "      <td>NaN</td>\n",
              "    </tr>\n",
              "  </tbody>\n",
              "</table>\n",
              "</div>\n",
              "      <button class=\"colab-df-convert\" onclick=\"convertToInteractive('df-eec02185-3226-4b82-b82b-7a0f3f7fdeb9')\"\n",
              "              title=\"Convert this dataframe to an interactive table.\"\n",
              "              style=\"display:none;\">\n",
              "        \n",
              "  <svg xmlns=\"http://www.w3.org/2000/svg\" height=\"24px\"viewBox=\"0 0 24 24\"\n",
              "       width=\"24px\">\n",
              "    <path d=\"M0 0h24v24H0V0z\" fill=\"none\"/>\n",
              "    <path d=\"M18.56 5.44l.94 2.06.94-2.06 2.06-.94-2.06-.94-.94-2.06-.94 2.06-2.06.94zm-11 1L8.5 8.5l.94-2.06 2.06-.94-2.06-.94L8.5 2.5l-.94 2.06-2.06.94zm10 10l.94 2.06.94-2.06 2.06-.94-2.06-.94-.94-2.06-.94 2.06-2.06.94z\"/><path d=\"M17.41 7.96l-1.37-1.37c-.4-.4-.92-.59-1.43-.59-.52 0-1.04.2-1.43.59L10.3 9.45l-7.72 7.72c-.78.78-.78 2.05 0 2.83L4 21.41c.39.39.9.59 1.41.59.51 0 1.02-.2 1.41-.59l7.78-7.78 2.81-2.81c.8-.78.8-2.07 0-2.86zM5.41 20L4 18.59l7.72-7.72 1.47 1.35L5.41 20z\"/>\n",
              "  </svg>\n",
              "      </button>\n",
              "      \n",
              "  <style>\n",
              "    .colab-df-container {\n",
              "      display:flex;\n",
              "      flex-wrap:wrap;\n",
              "      gap: 12px;\n",
              "    }\n",
              "\n",
              "    .colab-df-convert {\n",
              "      background-color: #E8F0FE;\n",
              "      border: none;\n",
              "      border-radius: 50%;\n",
              "      cursor: pointer;\n",
              "      display: none;\n",
              "      fill: #1967D2;\n",
              "      height: 32px;\n",
              "      padding: 0 0 0 0;\n",
              "      width: 32px;\n",
              "    }\n",
              "\n",
              "    .colab-df-convert:hover {\n",
              "      background-color: #E2EBFA;\n",
              "      box-shadow: 0px 1px 2px rgba(60, 64, 67, 0.3), 0px 1px 3px 1px rgba(60, 64, 67, 0.15);\n",
              "      fill: #174EA6;\n",
              "    }\n",
              "\n",
              "    [theme=dark] .colab-df-convert {\n",
              "      background-color: #3B4455;\n",
              "      fill: #D2E3FC;\n",
              "    }\n",
              "\n",
              "    [theme=dark] .colab-df-convert:hover {\n",
              "      background-color: #434B5C;\n",
              "      box-shadow: 0px 1px 3px 1px rgba(0, 0, 0, 0.15);\n",
              "      filter: drop-shadow(0px 1px 2px rgba(0, 0, 0, 0.3));\n",
              "      fill: #FFFFFF;\n",
              "    }\n",
              "  </style>\n",
              "\n",
              "      <script>\n",
              "        const buttonEl =\n",
              "          document.querySelector('#df-eec02185-3226-4b82-b82b-7a0f3f7fdeb9 button.colab-df-convert');\n",
              "        buttonEl.style.display =\n",
              "          google.colab.kernel.accessAllowed ? 'block' : 'none';\n",
              "\n",
              "        async function convertToInteractive(key) {\n",
              "          const element = document.querySelector('#df-eec02185-3226-4b82-b82b-7a0f3f7fdeb9');\n",
              "          const dataTable =\n",
              "            await google.colab.kernel.invokeFunction('convertToInteractive',\n",
              "                                                     [key], {});\n",
              "          if (!dataTable) return;\n",
              "\n",
              "          const docLinkHtml = 'Like what you see? Visit the ' +\n",
              "            '<a target=\"_blank\" href=https://colab.research.google.com/notebooks/data_table.ipynb>data table notebook</a>'\n",
              "            + ' to learn more about interactive tables.';\n",
              "          element.innerHTML = '';\n",
              "          dataTable['output_type'] = 'display_data';\n",
              "          await google.colab.output.renderOutput(dataTable, element);\n",
              "          const docLink = document.createElement('div');\n",
              "          docLink.innerHTML = docLinkHtml;\n",
              "          element.appendChild(docLink);\n",
              "        }\n",
              "      </script>\n",
              "    </div>\n",
              "  </div>\n",
              "  "
            ]
          },
          "metadata": {},
          "execution_count": 5
        }
      ],
      "source": [
        "data.tail(10) #выведем первые 10 строчек датасета на экран"
      ]
    },
    {
      "cell_type": "markdown",
      "metadata": {
        "id": "6lgPfCnKSVoa"
      },
      "source": [
        "Первое, что бросается в глаза при взгляде на таблицу - это то, что названия столбцов занесены в разных регистрах, переименуем столбцы и приведем их к нижнему регистру."
      ]
    },
    {
      "cell_type": "code",
      "execution_count": null,
      "metadata": {
        "id": "SSO-U2ZsSVob"
      },
      "outputs": [],
      "source": [
        "data.columns = data.columns.str.lower()"
      ]
    },
    {
      "cell_type": "code",
      "execution_count": null,
      "metadata": {
        "colab": {
          "base_uri": "https://localhost:8080/"
        },
        "id": "gcl_STaoSVoc",
        "outputId": "9c3c3584-4d84-4305-ad30-9aecf9d84e64"
      },
      "outputs": [
        {
          "output_type": "execute_result",
          "data": {
            "text/plain": [
              "Index(['name', 'platform', 'year_of_release', 'genre', 'na_sales', 'eu_sales',\n",
              "       'jp_sales', 'other_sales', 'critic_score', 'user_score', 'rating'],\n",
              "      dtype='object')"
            ]
          },
          "metadata": {},
          "execution_count": 7
        }
      ],
      "source": [
        "data.columns # проверим как сейчас выглядят названия столбцов"
      ]
    },
    {
      "cell_type": "code",
      "execution_count": null,
      "metadata": {
        "colab": {
          "base_uri": "https://localhost:8080/"
        },
        "id": "Lr4LUE8MSVod",
        "outputId": "f4dc4267-73fb-4298-939a-e1862c85859d"
      },
      "outputs": [
        {
          "output_type": "stream",
          "name": "stdout",
          "text": [
            "<class 'pandas.core.frame.DataFrame'>\n",
            "RangeIndex: 16715 entries, 0 to 16714\n",
            "Data columns (total 11 columns):\n",
            " #   Column           Non-Null Count  Dtype  \n",
            "---  ------           --------------  -----  \n",
            " 0   name             16713 non-null  object \n",
            " 1   platform         16715 non-null  object \n",
            " 2   year_of_release  16446 non-null  float64\n",
            " 3   genre            16713 non-null  object \n",
            " 4   na_sales         16715 non-null  float64\n",
            " 5   eu_sales         16715 non-null  float64\n",
            " 6   jp_sales         16715 non-null  float64\n",
            " 7   other_sales      16715 non-null  float64\n",
            " 8   critic_score     8137 non-null   float64\n",
            " 9   user_score       10014 non-null  object \n",
            " 10  rating           9949 non-null   object \n",
            "dtypes: float64(6), object(5)\n",
            "memory usage: 1.4+ MB\n"
          ]
        }
      ],
      "source": [
        "data.info() #посмотрим общую информацию о датафрейме"
      ]
    },
    {
      "cell_type": "code",
      "execution_count": null,
      "metadata": {
        "colab": {
          "base_uri": "https://localhost:8080/",
          "height": 423
        },
        "id": "eC1HRGw-SVod",
        "outputId": "5f7d7dca-2164-462e-fb94-8c548b0299de"
      },
      "outputs": [
        {
          "output_type": "execute_result",
          "data": {
            "text/plain": [
              "                                    name platform  year_of_release  \\\n",
              "183                      Madden NFL 2004      PS2              NaN   \n",
              "377                     FIFA Soccer 2004      PS2              NaN   \n",
              "456           LEGO Batman: The Videogame      Wii              NaN   \n",
              "475           wwe Smackdown vs. Raw 2006      PS2              NaN   \n",
              "609                       Space Invaders     2600              NaN   \n",
              "...                                  ...      ...              ...   \n",
              "16373  PDC World Championship Darts 2008      PSP              NaN   \n",
              "16405                      Freaky Flyers       GC              NaN   \n",
              "16448                          Inversion       PC              NaN   \n",
              "16458        Hakuouki: Shinsengumi Kitan      PS3              NaN   \n",
              "16522                       Virtua Quest       GC              NaN   \n",
              "\n",
              "              genre  na_sales  eu_sales  jp_sales  other_sales  critic_score  \\\n",
              "183          Sports      4.26      0.26      0.01         0.71          94.0   \n",
              "377          Sports      0.59      2.36      0.04         0.51          84.0   \n",
              "456          Action      1.80      0.97      0.00         0.29          74.0   \n",
              "475        Fighting      1.57      1.02      0.00         0.41           NaN   \n",
              "609         Shooter      2.36      0.14      0.00         0.03           NaN   \n",
              "...             ...       ...       ...       ...          ...           ...   \n",
              "16373        Sports      0.01      0.00      0.00         0.00          43.0   \n",
              "16405        Racing      0.01      0.00      0.00         0.00          69.0   \n",
              "16448       Shooter      0.01      0.00      0.00         0.00          59.0   \n",
              "16458     Adventure      0.01      0.00      0.00         0.00           NaN   \n",
              "16522  Role-Playing      0.01      0.00      0.00         0.00          55.0   \n",
              "\n",
              "      user_score rating  \n",
              "183          8.5      E  \n",
              "377          6.4      E  \n",
              "456          7.9   E10+  \n",
              "475          NaN    NaN  \n",
              "609          NaN    NaN  \n",
              "...          ...    ...  \n",
              "16373        tbd   E10+  \n",
              "16405        6.5      T  \n",
              "16448        6.7      M  \n",
              "16458        NaN    NaN  \n",
              "16522        5.5      T  \n",
              "\n",
              "[269 rows x 11 columns]"
            ],
            "text/html": [
              "\n",
              "  <div id=\"df-fd0631aa-1605-418f-8d81-94d3002e038b\">\n",
              "    <div class=\"colab-df-container\">\n",
              "      <div>\n",
              "<style scoped>\n",
              "    .dataframe tbody tr th:only-of-type {\n",
              "        vertical-align: middle;\n",
              "    }\n",
              "\n",
              "    .dataframe tbody tr th {\n",
              "        vertical-align: top;\n",
              "    }\n",
              "\n",
              "    .dataframe thead th {\n",
              "        text-align: right;\n",
              "    }\n",
              "</style>\n",
              "<table border=\"1\" class=\"dataframe\">\n",
              "  <thead>\n",
              "    <tr style=\"text-align: right;\">\n",
              "      <th></th>\n",
              "      <th>name</th>\n",
              "      <th>platform</th>\n",
              "      <th>year_of_release</th>\n",
              "      <th>genre</th>\n",
              "      <th>na_sales</th>\n",
              "      <th>eu_sales</th>\n",
              "      <th>jp_sales</th>\n",
              "      <th>other_sales</th>\n",
              "      <th>critic_score</th>\n",
              "      <th>user_score</th>\n",
              "      <th>rating</th>\n",
              "    </tr>\n",
              "  </thead>\n",
              "  <tbody>\n",
              "    <tr>\n",
              "      <th>183</th>\n",
              "      <td>Madden NFL 2004</td>\n",
              "      <td>PS2</td>\n",
              "      <td>NaN</td>\n",
              "      <td>Sports</td>\n",
              "      <td>4.26</td>\n",
              "      <td>0.26</td>\n",
              "      <td>0.01</td>\n",
              "      <td>0.71</td>\n",
              "      <td>94.0</td>\n",
              "      <td>8.5</td>\n",
              "      <td>E</td>\n",
              "    </tr>\n",
              "    <tr>\n",
              "      <th>377</th>\n",
              "      <td>FIFA Soccer 2004</td>\n",
              "      <td>PS2</td>\n",
              "      <td>NaN</td>\n",
              "      <td>Sports</td>\n",
              "      <td>0.59</td>\n",
              "      <td>2.36</td>\n",
              "      <td>0.04</td>\n",
              "      <td>0.51</td>\n",
              "      <td>84.0</td>\n",
              "      <td>6.4</td>\n",
              "      <td>E</td>\n",
              "    </tr>\n",
              "    <tr>\n",
              "      <th>456</th>\n",
              "      <td>LEGO Batman: The Videogame</td>\n",
              "      <td>Wii</td>\n",
              "      <td>NaN</td>\n",
              "      <td>Action</td>\n",
              "      <td>1.80</td>\n",
              "      <td>0.97</td>\n",
              "      <td>0.00</td>\n",
              "      <td>0.29</td>\n",
              "      <td>74.0</td>\n",
              "      <td>7.9</td>\n",
              "      <td>E10+</td>\n",
              "    </tr>\n",
              "    <tr>\n",
              "      <th>475</th>\n",
              "      <td>wwe Smackdown vs. Raw 2006</td>\n",
              "      <td>PS2</td>\n",
              "      <td>NaN</td>\n",
              "      <td>Fighting</td>\n",
              "      <td>1.57</td>\n",
              "      <td>1.02</td>\n",
              "      <td>0.00</td>\n",
              "      <td>0.41</td>\n",
              "      <td>NaN</td>\n",
              "      <td>NaN</td>\n",
              "      <td>NaN</td>\n",
              "    </tr>\n",
              "    <tr>\n",
              "      <th>609</th>\n",
              "      <td>Space Invaders</td>\n",
              "      <td>2600</td>\n",
              "      <td>NaN</td>\n",
              "      <td>Shooter</td>\n",
              "      <td>2.36</td>\n",
              "      <td>0.14</td>\n",
              "      <td>0.00</td>\n",
              "      <td>0.03</td>\n",
              "      <td>NaN</td>\n",
              "      <td>NaN</td>\n",
              "      <td>NaN</td>\n",
              "    </tr>\n",
              "    <tr>\n",
              "      <th>...</th>\n",
              "      <td>...</td>\n",
              "      <td>...</td>\n",
              "      <td>...</td>\n",
              "      <td>...</td>\n",
              "      <td>...</td>\n",
              "      <td>...</td>\n",
              "      <td>...</td>\n",
              "      <td>...</td>\n",
              "      <td>...</td>\n",
              "      <td>...</td>\n",
              "      <td>...</td>\n",
              "    </tr>\n",
              "    <tr>\n",
              "      <th>16373</th>\n",
              "      <td>PDC World Championship Darts 2008</td>\n",
              "      <td>PSP</td>\n",
              "      <td>NaN</td>\n",
              "      <td>Sports</td>\n",
              "      <td>0.01</td>\n",
              "      <td>0.00</td>\n",
              "      <td>0.00</td>\n",
              "      <td>0.00</td>\n",
              "      <td>43.0</td>\n",
              "      <td>tbd</td>\n",
              "      <td>E10+</td>\n",
              "    </tr>\n",
              "    <tr>\n",
              "      <th>16405</th>\n",
              "      <td>Freaky Flyers</td>\n",
              "      <td>GC</td>\n",
              "      <td>NaN</td>\n",
              "      <td>Racing</td>\n",
              "      <td>0.01</td>\n",
              "      <td>0.00</td>\n",
              "      <td>0.00</td>\n",
              "      <td>0.00</td>\n",
              "      <td>69.0</td>\n",
              "      <td>6.5</td>\n",
              "      <td>T</td>\n",
              "    </tr>\n",
              "    <tr>\n",
              "      <th>16448</th>\n",
              "      <td>Inversion</td>\n",
              "      <td>PC</td>\n",
              "      <td>NaN</td>\n",
              "      <td>Shooter</td>\n",
              "      <td>0.01</td>\n",
              "      <td>0.00</td>\n",
              "      <td>0.00</td>\n",
              "      <td>0.00</td>\n",
              "      <td>59.0</td>\n",
              "      <td>6.7</td>\n",
              "      <td>M</td>\n",
              "    </tr>\n",
              "    <tr>\n",
              "      <th>16458</th>\n",
              "      <td>Hakuouki: Shinsengumi Kitan</td>\n",
              "      <td>PS3</td>\n",
              "      <td>NaN</td>\n",
              "      <td>Adventure</td>\n",
              "      <td>0.01</td>\n",
              "      <td>0.00</td>\n",
              "      <td>0.00</td>\n",
              "      <td>0.00</td>\n",
              "      <td>NaN</td>\n",
              "      <td>NaN</td>\n",
              "      <td>NaN</td>\n",
              "    </tr>\n",
              "    <tr>\n",
              "      <th>16522</th>\n",
              "      <td>Virtua Quest</td>\n",
              "      <td>GC</td>\n",
              "      <td>NaN</td>\n",
              "      <td>Role-Playing</td>\n",
              "      <td>0.01</td>\n",
              "      <td>0.00</td>\n",
              "      <td>0.00</td>\n",
              "      <td>0.00</td>\n",
              "      <td>55.0</td>\n",
              "      <td>5.5</td>\n",
              "      <td>T</td>\n",
              "    </tr>\n",
              "  </tbody>\n",
              "</table>\n",
              "<p>269 rows × 11 columns</p>\n",
              "</div>\n",
              "      <button class=\"colab-df-convert\" onclick=\"convertToInteractive('df-fd0631aa-1605-418f-8d81-94d3002e038b')\"\n",
              "              title=\"Convert this dataframe to an interactive table.\"\n",
              "              style=\"display:none;\">\n",
              "        \n",
              "  <svg xmlns=\"http://www.w3.org/2000/svg\" height=\"24px\"viewBox=\"0 0 24 24\"\n",
              "       width=\"24px\">\n",
              "    <path d=\"M0 0h24v24H0V0z\" fill=\"none\"/>\n",
              "    <path d=\"M18.56 5.44l.94 2.06.94-2.06 2.06-.94-2.06-.94-.94-2.06-.94 2.06-2.06.94zm-11 1L8.5 8.5l.94-2.06 2.06-.94-2.06-.94L8.5 2.5l-.94 2.06-2.06.94zm10 10l.94 2.06.94-2.06 2.06-.94-2.06-.94-.94-2.06-.94 2.06-2.06.94z\"/><path d=\"M17.41 7.96l-1.37-1.37c-.4-.4-.92-.59-1.43-.59-.52 0-1.04.2-1.43.59L10.3 9.45l-7.72 7.72c-.78.78-.78 2.05 0 2.83L4 21.41c.39.39.9.59 1.41.59.51 0 1.02-.2 1.41-.59l7.78-7.78 2.81-2.81c.8-.78.8-2.07 0-2.86zM5.41 20L4 18.59l7.72-7.72 1.47 1.35L5.41 20z\"/>\n",
              "  </svg>\n",
              "      </button>\n",
              "      \n",
              "  <style>\n",
              "    .colab-df-container {\n",
              "      display:flex;\n",
              "      flex-wrap:wrap;\n",
              "      gap: 12px;\n",
              "    }\n",
              "\n",
              "    .colab-df-convert {\n",
              "      background-color: #E8F0FE;\n",
              "      border: none;\n",
              "      border-radius: 50%;\n",
              "      cursor: pointer;\n",
              "      display: none;\n",
              "      fill: #1967D2;\n",
              "      height: 32px;\n",
              "      padding: 0 0 0 0;\n",
              "      width: 32px;\n",
              "    }\n",
              "\n",
              "    .colab-df-convert:hover {\n",
              "      background-color: #E2EBFA;\n",
              "      box-shadow: 0px 1px 2px rgba(60, 64, 67, 0.3), 0px 1px 3px 1px rgba(60, 64, 67, 0.15);\n",
              "      fill: #174EA6;\n",
              "    }\n",
              "\n",
              "    [theme=dark] .colab-df-convert {\n",
              "      background-color: #3B4455;\n",
              "      fill: #D2E3FC;\n",
              "    }\n",
              "\n",
              "    [theme=dark] .colab-df-convert:hover {\n",
              "      background-color: #434B5C;\n",
              "      box-shadow: 0px 1px 3px 1px rgba(0, 0, 0, 0.15);\n",
              "      filter: drop-shadow(0px 1px 2px rgba(0, 0, 0, 0.3));\n",
              "      fill: #FFFFFF;\n",
              "    }\n",
              "  </style>\n",
              "\n",
              "      <script>\n",
              "        const buttonEl =\n",
              "          document.querySelector('#df-fd0631aa-1605-418f-8d81-94d3002e038b button.colab-df-convert');\n",
              "        buttonEl.style.display =\n",
              "          google.colab.kernel.accessAllowed ? 'block' : 'none';\n",
              "\n",
              "        async function convertToInteractive(key) {\n",
              "          const element = document.querySelector('#df-fd0631aa-1605-418f-8d81-94d3002e038b');\n",
              "          const dataTable =\n",
              "            await google.colab.kernel.invokeFunction('convertToInteractive',\n",
              "                                                     [key], {});\n",
              "          if (!dataTable) return;\n",
              "\n",
              "          const docLinkHtml = 'Like what you see? Visit the ' +\n",
              "            '<a target=\"_blank\" href=https://colab.research.google.com/notebooks/data_table.ipynb>data table notebook</a>'\n",
              "            + ' to learn more about interactive tables.';\n",
              "          element.innerHTML = '';\n",
              "          dataTable['output_type'] = 'display_data';\n",
              "          await google.colab.output.renderOutput(dataTable, element);\n",
              "          const docLink = document.createElement('div');\n",
              "          docLink.innerHTML = docLinkHtml;\n",
              "          element.appendChild(docLink);\n",
              "        }\n",
              "      </script>\n",
              "    </div>\n",
              "  </div>\n",
              "  "
            ]
          },
          "metadata": {},
          "execution_count": 9
        }
      ],
      "source": [
        "data[data['year_of_release'].isnull()==True]"
      ]
    },
    {
      "cell_type": "markdown",
      "metadata": {
        "id": "STCmp9BzSVoe"
      },
      "source": [
        "Данные в колонке year_of_release отображаются в дробном формате, приведем значения к целым для удобства работы и экономии памяти. Данные в столбце user_score - это численный показатель, а данные отображаются в формате object, это следует исправить. По остальным столбцам аномалий пока не вижу, посмотрим дальше."
      ]
    },
    {
      "cell_type": "code",
      "execution_count": null,
      "metadata": {
        "colab": {
          "base_uri": "https://localhost:8080/"
        },
        "id": "vJYbdTQkSVoe",
        "outputId": "1eda06b8-0db4-4188-db4c-fdd24ecfe531"
      },
      "outputs": [
        {
          "output_type": "execute_result",
          "data": {
            "text/plain": [
              "array([2006, 1985, 2008, 2009, 1996, 1989, 1984, 2005, 1999, 2007, 2010,\n",
              "       2013, 2004, 1990, 1988, 2002, 2001, 2011, 1998, 2015, 2012, 2014,\n",
              "       1992, 1997, 1993, 1994, 1982, 2016, 2003, 1986, 2000,   -1, 1995,\n",
              "       1991, 1981, 1987, 1980, 1983])"
            ]
          },
          "metadata": {},
          "execution_count": 10
        }
      ],
      "source": [
        "data['year_of_release'] = data['year_of_release'].fillna(-1) #пропущенные значения в стобце year_of_release заменим на индикатор -1\n",
        "data['year_of_release'] = data['year_of_release'].astype('int64')\n",
        "data['year_of_release'].unique()"
      ]
    },
    {
      "cell_type": "code",
      "execution_count": null,
      "metadata": {
        "colab": {
          "base_uri": "https://localhost:8080/"
        },
        "id": "ntaLRA3WSVof",
        "outputId": "f9608039-25a2-4f90-acd5-418e7752ae32"
      },
      "outputs": [
        {
          "output_type": "execute_result",
          "data": {
            "text/plain": [
              "name                0.011965\n",
              "platform            0.000000\n",
              "year_of_release     0.000000\n",
              "genre               0.011965\n",
              "na_sales            0.000000\n",
              "eu_sales            0.000000\n",
              "jp_sales            0.000000\n",
              "other_sales         0.000000\n",
              "critic_score       51.319174\n",
              "user_score         40.089740\n",
              "rating             40.478612\n",
              "dtype: float64"
            ]
          },
          "metadata": {},
          "execution_count": 11
        }
      ],
      "source": [
        "data.isna().sum()/len(data)*100 # проверим есть ли строки с пропущенными значениями и сколько их в процентном соотношении"
      ]
    },
    {
      "cell_type": "markdown",
      "metadata": {
        "id": "XXXJAy53SVog"
      },
      "source": [
        "Много пропущенных значений в колонках:\n",
        "\n",
        "* critic_score\n",
        "* user_score\n",
        "* rating\n",
        "\n",
        "Следует отметить, что процент пропусков в колонках user_score и rating практически одинаковый, возможно рейтинг основыватся на оценке пользователей."
      ]
    },
    {
      "cell_type": "code",
      "execution_count": null,
      "metadata": {
        "colab": {
          "base_uri": "https://localhost:8080/"
        },
        "id": "XYTPA0UWSVog",
        "outputId": "b70a5b34-7ae4-4441-c218-e7aa77f813c6"
      },
      "outputs": [
        {
          "output_type": "execute_result",
          "data": {
            "text/plain": [
              "0"
            ]
          },
          "metadata": {},
          "execution_count": 12
        }
      ],
      "source": [
        "data.duplicated().sum() #на всякий случай проверим, есть ли повторяющиеся строки"
      ]
    },
    {
      "cell_type": "markdown",
      "metadata": {
        "id": "tmfj_SgJSVoh"
      },
      "source": [
        "Повторяющиеся строки не найдены."
      ]
    },
    {
      "cell_type": "code",
      "execution_count": null,
      "metadata": {
        "colab": {
          "base_uri": "https://localhost:8080/"
        },
        "id": "fwe1r8xbSVoh",
        "outputId": "79caddfa-d001-441a-eda8-bba776a77172"
      },
      "outputs": [
        {
          "output_type": "execute_result",
          "data": {
            "text/plain": [
              "array(['8', nan, '8.3', '8.5', '6.6', '8.4', '8.6', '7.7', '6.3', '7.4',\n",
              "       '8.2', '9', '7.9', '8.1', '8.7', '7.1', '3.4', '5.3', '4.8', '3.2',\n",
              "       '8.9', '6.4', '7.8', '7.5', '2.6', '7.2', '9.2', '7', '7.3', '4.3',\n",
              "       '7.6', '5.7', '5', '9.1', '6.5', 'tbd', '8.8', '6.9', '9.4', '6.8',\n",
              "       '6.1', '6.7', '5.4', '4', '4.9', '4.5', '9.3', '6.2', '4.2', '6',\n",
              "       '3.7', '4.1', '5.8', '5.6', '5.5', '4.4', '4.6', '5.9', '3.9',\n",
              "       '3.1', '2.9', '5.2', '3.3', '4.7', '5.1', '3.5', '2.5', '1.9', '3',\n",
              "       '2.7', '2.2', '2', '9.5', '2.1', '3.6', '2.8', '1.8', '3.8', '0',\n",
              "       '1.6', '9.6', '2.4', '1.7', '1.1', '0.3', '1.5', '0.7', '1.2',\n",
              "       '2.3', '0.5', '1.3', '0.2', '0.6', '1.4', '0.9', '1', '9.7'],\n",
              "      dtype=object)"
            ]
          },
          "metadata": {},
          "execution_count": 13
        }
      ],
      "source": [
        "data['user_score'].unique() #посмотрим уникальные значения в столбце user_score"
      ]
    },
    {
      "cell_type": "markdown",
      "metadata": {
        "id": "1igqFsipSVoi"
      },
      "source": [
        "Помимо довольно большого числа пропусков, в данных по этому столбцу присутствует значение `tbd`, по всей видимости оно расшифровывается как to be determined, что значит, что рейтинг еще не определен. Возможно игра только поступила в магазин и еще не имеет оценок от пользователей. Такие данные можно приравнять к пропущенным данным, они имеют схожую природу возникновения. \n",
        "Заполнить пропущенные значения медианным или средним числом, на мой взгляд, было бы неправильно, т.к. слишком разные продукты могут иметь неопределенный рейтинг, а по итогам такого заполнения они станут равнозначными. Оставим данные незаполненными, но приведем их к правильному формату float."
      ]
    },
    {
      "cell_type": "code",
      "execution_count": null,
      "metadata": {
        "id": "sTS8_cNNSVoi"
      },
      "outputs": [],
      "source": [
        "data['user_score'] = data['user_score'].replace('tbd','nan')\n",
        "data['user_score'] = data['user_score'].astype(float)\n"
      ]
    },
    {
      "cell_type": "code",
      "execution_count": null,
      "metadata": {
        "colab": {
          "base_uri": "https://localhost:8080/"
        },
        "id": "fjnlxeXASVoj",
        "outputId": "c00e2115-a1fa-409e-dec2-71b5ed993e8b"
      },
      "outputs": [
        {
          "output_type": "execute_result",
          "data": {
            "text/plain": [
              "array([8. , nan, 8.3, 8.5, 6.6, 8.4, 8.6, 7.7, 6.3, 7.4, 8.2, 9. , 7.9,\n",
              "       8.1, 8.7, 7.1, 3.4, 5.3, 4.8, 3.2, 8.9, 6.4, 7.8, 7.5, 2.6, 7.2,\n",
              "       9.2, 7. , 7.3, 4.3, 7.6, 5.7, 5. , 9.1, 6.5, 8.8, 6.9, 9.4, 6.8,\n",
              "       6.1, 6.7, 5.4, 4. , 4.9, 4.5, 9.3, 6.2, 4.2, 6. , 3.7, 4.1, 5.8,\n",
              "       5.6, 5.5, 4.4, 4.6, 5.9, 3.9, 3.1, 2.9, 5.2, 3.3, 4.7, 5.1, 3.5,\n",
              "       2.5, 1.9, 3. , 2.7, 2.2, 2. , 9.5, 2.1, 3.6, 2.8, 1.8, 3.8, 0. ,\n",
              "       1.6, 9.6, 2.4, 1.7, 1.1, 0.3, 1.5, 0.7, 1.2, 2.3, 0.5, 1.3, 0.2,\n",
              "       0.6, 1.4, 0.9, 1. , 9.7])"
            ]
          },
          "metadata": {},
          "execution_count": 15
        }
      ],
      "source": [
        "data['user_score'].unique() #проверим что получилось, после проведенных изменений"
      ]
    },
    {
      "cell_type": "code",
      "execution_count": null,
      "metadata": {
        "colab": {
          "base_uri": "https://localhost:8080/"
        },
        "id": "qstvSCvASVoj",
        "outputId": "c7b2135f-8a9e-4e1d-db71-2fd66aa130d0"
      },
      "outputs": [
        {
          "output_type": "execute_result",
          "data": {
            "text/plain": [
              "name                0.011965\n",
              "platform            0.000000\n",
              "year_of_release     0.000000\n",
              "genre               0.011965\n",
              "na_sales            0.000000\n",
              "eu_sales            0.000000\n",
              "jp_sales            0.000000\n",
              "other_sales         0.000000\n",
              "critic_score       51.319174\n",
              "user_score         54.591684\n",
              "rating             40.478612\n",
              "dtype: float64"
            ]
          },
          "metadata": {},
          "execution_count": 16
        }
      ],
      "source": [
        "data.isna().sum()/len(data)*100 #посмотрим как изменилось количество пропусков"
      ]
    },
    {
      "cell_type": "code",
      "execution_count": null,
      "metadata": {
        "colab": {
          "base_uri": "https://localhost:8080/"
        },
        "id": "P968kJ4-SVok",
        "outputId": "736244cb-384a-4032-81ae-97a1554279c7"
      },
      "outputs": [
        {
          "output_type": "execute_result",
          "data": {
            "text/plain": [
              "array(['E', nan, 'M', 'T', 'E10+', 'K-A', 'AO', 'EC', 'RP'], dtype=object)"
            ]
          },
          "metadata": {},
          "execution_count": 17
        }
      ],
      "source": [
        "data['rating'].unique() #посмотрим уникальные значения столбца с рейтингом ESRB "
      ]
    },
    {
      "cell_type": "markdown",
      "metadata": {
        "id": "6_nR6avVSVol"
      },
      "source": [
        "Отсутствующие данные в колонке с оценкой критиков,также как и в случае с пользовательскими оценками, заменить усредненными или медианными значениями было бы неправильно, также не будем заполнять отсутствующие данные.\n",
        "В случае с рейтингом пропущенные значения поменяем на NoRating, данные могут отсутсвовать по разным причинам: например, игра вышла слишком давно и тогда такого рейтинга еще не существовало или, например, не набрано достаточного количества отзывов от пользователей или критиков для формирования рейтинга."
      ]
    },
    {
      "cell_type": "code",
      "execution_count": null,
      "metadata": {
        "id": "JDdtn5FOSVol"
      },
      "outputs": [],
      "source": [
        "data['rating'] = data['rating'].fillna('NoRate')"
      ]
    },
    {
      "cell_type": "markdown",
      "metadata": {
        "id": "wO2m2PKdSVom"
      },
      "source": [
        "Отсутствующие данные в колонках name и genre заполним значениями NoName и NoGenre сответсвенно."
      ]
    },
    {
      "cell_type": "code",
      "execution_count": null,
      "metadata": {
        "id": "4lyHagUVSVom"
      },
      "outputs": [],
      "source": [
        "data['name'] = data['name'].fillna('NoName')\n",
        "data['genre'] = data['genre'].fillna('NoGenre')"
      ]
    },
    {
      "cell_type": "code",
      "execution_count": null,
      "metadata": {
        "colab": {
          "base_uri": "https://localhost:8080/"
        },
        "id": "A1LMFYOmSVon",
        "outputId": "d6ca5c5e-d137-49f6-bf33-0ece78051b10"
      },
      "outputs": [
        {
          "output_type": "execute_result",
          "data": {
            "text/plain": [
              "name                0.000000\n",
              "platform            0.000000\n",
              "year_of_release     0.000000\n",
              "genre               0.000000\n",
              "na_sales            0.000000\n",
              "eu_sales            0.000000\n",
              "jp_sales            0.000000\n",
              "other_sales         0.000000\n",
              "critic_score       51.319174\n",
              "user_score         54.591684\n",
              "rating              0.000000\n",
              "dtype: float64"
            ]
          },
          "metadata": {},
          "execution_count": 20
        }
      ],
      "source": [
        "data.isna().sum()/len(data)*100"
      ]
    },
    {
      "cell_type": "markdown",
      "metadata": {
        "id": "GtRNcFTbSVon"
      },
      "source": [
        "Посчитаем суммарные продажи во всех регионах и добавим их в отдельный столбец с данными."
      ]
    },
    {
      "cell_type": "code",
      "execution_count": null,
      "metadata": {
        "colab": {
          "base_uri": "https://localhost:8080/",
          "height": 206
        },
        "id": "x3RtWO6oSVoo",
        "outputId": "6c0f862a-972b-4be6-cb5f-cf1306f86ff9"
      },
      "outputs": [
        {
          "output_type": "execute_result",
          "data": {
            "text/plain": [
              "                       name platform  year_of_release         genre  na_sales  \\\n",
              "0                Wii Sports      Wii             2006        Sports     41.36   \n",
              "1         Super Mario Bros.      NES             1985      Platform     29.08   \n",
              "2            Mario Kart Wii      Wii             2008        Racing     15.68   \n",
              "3         Wii Sports Resort      Wii             2009        Sports     15.61   \n",
              "4  Pokemon Red/Pokemon Blue       GB             1996  Role-Playing     11.27   \n",
              "\n",
              "   eu_sales  jp_sales  other_sales  critic_score  user_score  rating  \\\n",
              "0     28.96      3.77         8.45          76.0         8.0       E   \n",
              "1      3.58      6.81         0.77           NaN         NaN  NoRate   \n",
              "2     12.76      3.79         3.29          82.0         8.3       E   \n",
              "3     10.93      3.28         2.95          80.0         8.0       E   \n",
              "4      8.89     10.22         1.00           NaN         NaN  NoRate   \n",
              "\n",
              "   total_sales  \n",
              "0        82.54  \n",
              "1        40.24  \n",
              "2        35.52  \n",
              "3        32.77  \n",
              "4        31.38  "
            ],
            "text/html": [
              "\n",
              "  <div id=\"df-acd6895b-4742-43bc-8af1-7b2439d529db\">\n",
              "    <div class=\"colab-df-container\">\n",
              "      <div>\n",
              "<style scoped>\n",
              "    .dataframe tbody tr th:only-of-type {\n",
              "        vertical-align: middle;\n",
              "    }\n",
              "\n",
              "    .dataframe tbody tr th {\n",
              "        vertical-align: top;\n",
              "    }\n",
              "\n",
              "    .dataframe thead th {\n",
              "        text-align: right;\n",
              "    }\n",
              "</style>\n",
              "<table border=\"1\" class=\"dataframe\">\n",
              "  <thead>\n",
              "    <tr style=\"text-align: right;\">\n",
              "      <th></th>\n",
              "      <th>name</th>\n",
              "      <th>platform</th>\n",
              "      <th>year_of_release</th>\n",
              "      <th>genre</th>\n",
              "      <th>na_sales</th>\n",
              "      <th>eu_sales</th>\n",
              "      <th>jp_sales</th>\n",
              "      <th>other_sales</th>\n",
              "      <th>critic_score</th>\n",
              "      <th>user_score</th>\n",
              "      <th>rating</th>\n",
              "      <th>total_sales</th>\n",
              "    </tr>\n",
              "  </thead>\n",
              "  <tbody>\n",
              "    <tr>\n",
              "      <th>0</th>\n",
              "      <td>Wii Sports</td>\n",
              "      <td>Wii</td>\n",
              "      <td>2006</td>\n",
              "      <td>Sports</td>\n",
              "      <td>41.36</td>\n",
              "      <td>28.96</td>\n",
              "      <td>3.77</td>\n",
              "      <td>8.45</td>\n",
              "      <td>76.0</td>\n",
              "      <td>8.0</td>\n",
              "      <td>E</td>\n",
              "      <td>82.54</td>\n",
              "    </tr>\n",
              "    <tr>\n",
              "      <th>1</th>\n",
              "      <td>Super Mario Bros.</td>\n",
              "      <td>NES</td>\n",
              "      <td>1985</td>\n",
              "      <td>Platform</td>\n",
              "      <td>29.08</td>\n",
              "      <td>3.58</td>\n",
              "      <td>6.81</td>\n",
              "      <td>0.77</td>\n",
              "      <td>NaN</td>\n",
              "      <td>NaN</td>\n",
              "      <td>NoRate</td>\n",
              "      <td>40.24</td>\n",
              "    </tr>\n",
              "    <tr>\n",
              "      <th>2</th>\n",
              "      <td>Mario Kart Wii</td>\n",
              "      <td>Wii</td>\n",
              "      <td>2008</td>\n",
              "      <td>Racing</td>\n",
              "      <td>15.68</td>\n",
              "      <td>12.76</td>\n",
              "      <td>3.79</td>\n",
              "      <td>3.29</td>\n",
              "      <td>82.0</td>\n",
              "      <td>8.3</td>\n",
              "      <td>E</td>\n",
              "      <td>35.52</td>\n",
              "    </tr>\n",
              "    <tr>\n",
              "      <th>3</th>\n",
              "      <td>Wii Sports Resort</td>\n",
              "      <td>Wii</td>\n",
              "      <td>2009</td>\n",
              "      <td>Sports</td>\n",
              "      <td>15.61</td>\n",
              "      <td>10.93</td>\n",
              "      <td>3.28</td>\n",
              "      <td>2.95</td>\n",
              "      <td>80.0</td>\n",
              "      <td>8.0</td>\n",
              "      <td>E</td>\n",
              "      <td>32.77</td>\n",
              "    </tr>\n",
              "    <tr>\n",
              "      <th>4</th>\n",
              "      <td>Pokemon Red/Pokemon Blue</td>\n",
              "      <td>GB</td>\n",
              "      <td>1996</td>\n",
              "      <td>Role-Playing</td>\n",
              "      <td>11.27</td>\n",
              "      <td>8.89</td>\n",
              "      <td>10.22</td>\n",
              "      <td>1.00</td>\n",
              "      <td>NaN</td>\n",
              "      <td>NaN</td>\n",
              "      <td>NoRate</td>\n",
              "      <td>31.38</td>\n",
              "    </tr>\n",
              "  </tbody>\n",
              "</table>\n",
              "</div>\n",
              "      <button class=\"colab-df-convert\" onclick=\"convertToInteractive('df-acd6895b-4742-43bc-8af1-7b2439d529db')\"\n",
              "              title=\"Convert this dataframe to an interactive table.\"\n",
              "              style=\"display:none;\">\n",
              "        \n",
              "  <svg xmlns=\"http://www.w3.org/2000/svg\" height=\"24px\"viewBox=\"0 0 24 24\"\n",
              "       width=\"24px\">\n",
              "    <path d=\"M0 0h24v24H0V0z\" fill=\"none\"/>\n",
              "    <path d=\"M18.56 5.44l.94 2.06.94-2.06 2.06-.94-2.06-.94-.94-2.06-.94 2.06-2.06.94zm-11 1L8.5 8.5l.94-2.06 2.06-.94-2.06-.94L8.5 2.5l-.94 2.06-2.06.94zm10 10l.94 2.06.94-2.06 2.06-.94-2.06-.94-.94-2.06-.94 2.06-2.06.94z\"/><path d=\"M17.41 7.96l-1.37-1.37c-.4-.4-.92-.59-1.43-.59-.52 0-1.04.2-1.43.59L10.3 9.45l-7.72 7.72c-.78.78-.78 2.05 0 2.83L4 21.41c.39.39.9.59 1.41.59.51 0 1.02-.2 1.41-.59l7.78-7.78 2.81-2.81c.8-.78.8-2.07 0-2.86zM5.41 20L4 18.59l7.72-7.72 1.47 1.35L5.41 20z\"/>\n",
              "  </svg>\n",
              "      </button>\n",
              "      \n",
              "  <style>\n",
              "    .colab-df-container {\n",
              "      display:flex;\n",
              "      flex-wrap:wrap;\n",
              "      gap: 12px;\n",
              "    }\n",
              "\n",
              "    .colab-df-convert {\n",
              "      background-color: #E8F0FE;\n",
              "      border: none;\n",
              "      border-radius: 50%;\n",
              "      cursor: pointer;\n",
              "      display: none;\n",
              "      fill: #1967D2;\n",
              "      height: 32px;\n",
              "      padding: 0 0 0 0;\n",
              "      width: 32px;\n",
              "    }\n",
              "\n",
              "    .colab-df-convert:hover {\n",
              "      background-color: #E2EBFA;\n",
              "      box-shadow: 0px 1px 2px rgba(60, 64, 67, 0.3), 0px 1px 3px 1px rgba(60, 64, 67, 0.15);\n",
              "      fill: #174EA6;\n",
              "    }\n",
              "\n",
              "    [theme=dark] .colab-df-convert {\n",
              "      background-color: #3B4455;\n",
              "      fill: #D2E3FC;\n",
              "    }\n",
              "\n",
              "    [theme=dark] .colab-df-convert:hover {\n",
              "      background-color: #434B5C;\n",
              "      box-shadow: 0px 1px 3px 1px rgba(0, 0, 0, 0.15);\n",
              "      filter: drop-shadow(0px 1px 2px rgba(0, 0, 0, 0.3));\n",
              "      fill: #FFFFFF;\n",
              "    }\n",
              "  </style>\n",
              "\n",
              "      <script>\n",
              "        const buttonEl =\n",
              "          document.querySelector('#df-acd6895b-4742-43bc-8af1-7b2439d529db button.colab-df-convert');\n",
              "        buttonEl.style.display =\n",
              "          google.colab.kernel.accessAllowed ? 'block' : 'none';\n",
              "\n",
              "        async function convertToInteractive(key) {\n",
              "          const element = document.querySelector('#df-acd6895b-4742-43bc-8af1-7b2439d529db');\n",
              "          const dataTable =\n",
              "            await google.colab.kernel.invokeFunction('convertToInteractive',\n",
              "                                                     [key], {});\n",
              "          if (!dataTable) return;\n",
              "\n",
              "          const docLinkHtml = 'Like what you see? Visit the ' +\n",
              "            '<a target=\"_blank\" href=https://colab.research.google.com/notebooks/data_table.ipynb>data table notebook</a>'\n",
              "            + ' to learn more about interactive tables.';\n",
              "          element.innerHTML = '';\n",
              "          dataTable['output_type'] = 'display_data';\n",
              "          await google.colab.output.renderOutput(dataTable, element);\n",
              "          const docLink = document.createElement('div');\n",
              "          docLink.innerHTML = docLinkHtml;\n",
              "          element.appendChild(docLink);\n",
              "        }\n",
              "      </script>\n",
              "    </div>\n",
              "  </div>\n",
              "  "
            ]
          },
          "metadata": {},
          "execution_count": 21
        }
      ],
      "source": [
        "data['total_sales'] = data[['na_sales','eu_sales','jp_sales','other_sales']].sum(axis=1)\n",
        "data.head()\n"
      ]
    },
    {
      "cell_type": "code",
      "execution_count": null,
      "metadata": {
        "colab": {
          "base_uri": "https://localhost:8080/"
        },
        "id": "F8JuxtlWSVoo",
        "outputId": "f892c682-faa5-446a-a7f3-4e4762e003f4"
      },
      "outputs": [
        {
          "output_type": "stream",
          "name": "stdout",
          "text": [
            "<class 'pandas.core.frame.DataFrame'>\n",
            "RangeIndex: 16715 entries, 0 to 16714\n",
            "Data columns (total 12 columns):\n",
            " #   Column           Non-Null Count  Dtype  \n",
            "---  ------           --------------  -----  \n",
            " 0   name             16715 non-null  object \n",
            " 1   platform         16715 non-null  object \n",
            " 2   year_of_release  16715 non-null  int64  \n",
            " 3   genre            16715 non-null  object \n",
            " 4   na_sales         16715 non-null  float64\n",
            " 5   eu_sales         16715 non-null  float64\n",
            " 6   jp_sales         16715 non-null  float64\n",
            " 7   other_sales      16715 non-null  float64\n",
            " 8   critic_score     8137 non-null   float64\n",
            " 9   user_score       7590 non-null   float64\n",
            " 10  rating           16715 non-null  object \n",
            " 11  total_sales      16715 non-null  float64\n",
            "dtypes: float64(7), int64(1), object(4)\n",
            "memory usage: 1.5+ MB\n",
            "None\n",
            "-------------------------\n",
            "name [' Beyblade Burst' ' Fire Emblem Fates' \" Frozen: Olaf's Quest\" ...\n",
            " 'uDraw Studio: Instant Artist' 'wwe Smackdown vs. Raw 2006'\n",
            " '¡Shin Chan Flipa en colores!']\n",
            "name : кол-во NaN 0 , процент NaN 0.0 %\n",
            "-------------------------\n",
            "platform ['2600' '3DO' '3DS' 'DC' 'DS' 'GB' 'GBA' 'GC' 'GEN' 'GG' 'N64' 'NES' 'NG'\n",
            " 'PC' 'PCFX' 'PS' 'PS2' 'PS3' 'PS4' 'PSP' 'PSV' 'SAT' 'SCD' 'SNES' 'TG16'\n",
            " 'WS' 'Wii' 'WiiU' 'X360' 'XB' 'XOne']\n",
            "platform : кол-во NaN 0 , процент NaN 0.0 %\n",
            "-------------------------\n",
            "year_of_release [  -1 1980 1981 1982 1983 1984 1985 1986 1987 1988 1989 1990 1991 1992\n",
            " 1993 1994 1995 1996 1997 1998 1999 2000 2001 2002 2003 2004 2005 2006\n",
            " 2007 2008 2009 2010 2011 2012 2013 2014 2015 2016]\n",
            "year_of_release : кол-во NaN 0 , процент NaN 0.0 %\n",
            "-------------------------\n",
            "genre ['Action' 'Adventure' 'Fighting' 'Misc' 'NoGenre' 'Platform' 'Puzzle'\n",
            " 'Racing' 'Role-Playing' 'Shooter' 'Simulation' 'Sports' 'Strategy']\n",
            "genre : кол-во NaN 0 , процент NaN 0.0 %\n",
            "-------------------------\n",
            "critic_score [13. 17. 19. 20. 21. 22. 23. 24. 25. 26. 27. 28. 29. 30. 31. 32. 33. 34.\n",
            " 35. 36. 37. 38. 39. 40. 41. 42. 43. 44. 45. 46. 47. 48. 49. 50. 51. 52.\n",
            " 53. 54. 55. 56. 57. 58. 59. 60. 61. 62. 63. 64. 65. 66. 67. 68. 69. 70.\n",
            " 71. 72. 73. 74. 75. 76. 77. 78. 79. 80. 81. 82. 83. 84. 85. 86. 87. 88.\n",
            " 89. 90. 91. 92. 93. 94. 95. 96. 97. 98. nan]\n",
            "critic_score : кол-во NaN 8578 , процент NaN 51.32 %\n",
            "-------------------------\n",
            "user_score [0.  0.2 0.3 0.5 0.6 0.7 0.9 1.  1.1 1.2 1.3 1.4 1.5 1.6 1.7 1.8 1.9 2.\n",
            " 2.1 2.2 2.3 2.4 2.5 2.6 2.7 2.8 2.9 3.  3.1 3.2 3.3 3.4 3.5 3.6 3.7 3.8\n",
            " 3.9 4.  4.1 4.2 4.3 4.4 4.5 4.6 4.7 4.8 4.9 5.  5.1 5.2 5.3 5.4 5.5 5.6\n",
            " 5.7 5.8 5.9 6.  6.1 6.2 6.3 6.4 6.5 6.6 6.7 6.8 6.9 7.  7.1 7.2 7.3 7.4\n",
            " 7.5 7.6 7.7 7.8 7.9 8.  8.1 8.2 8.3 8.4 8.5 8.6 8.7 8.8 8.9 9.  9.1 9.2\n",
            " 9.3 9.4 9.5 9.6 9.7 nan]\n",
            "user_score : кол-во NaN 9125 , процент NaN 54.59 %\n",
            "-------------------------\n",
            "rating ['AO' 'E' 'E10+' 'EC' 'K-A' 'M' 'NoRate' 'RP' 'T']\n",
            "rating : кол-во NaN 0 , процент NaN 0.0 %\n"
          ]
        }
      ],
      "source": [
        "# Посмотрим, что у нас осталось\n",
        "temp = data.copy() \n",
        "list_c = ['name', 'platform', 'year_of_release', 'genre', 'critic_score', 'user_score', 'rating']\n",
        "print(temp.info())\n",
        "for col_l in list_c:\n",
        "  print('-------------------------')\n",
        "  print(col_l, temp[col_l].sort_values().unique())\n",
        "  print(col_l,': кол-во NaN',temp[col_l].isna().sum(),\n",
        "        ', процент NaN', round(temp[col_l].isna().sum()/len(temp)*100, 2),'%')"
      ]
    },
    {
      "cell_type": "markdown",
      "metadata": {
        "id": "sYRgnEL0SVop"
      },
      "source": [
        "## Проведение исследовательского анализа данных"
      ]
    },
    {
      "cell_type": "markdown",
      "metadata": {
        "id": "hXg7ynh-SVop"
      },
      "source": [
        "Посмотрим распределение количества игр по годам. Для наглядности построим bar_plot диаграмму."
      ]
    },
    {
      "cell_type": "code",
      "execution_count": null,
      "metadata": {
        "colab": {
          "base_uri": "https://localhost:8080/",
          "height": 383
        },
        "id": "RlMzgJx6SVoq",
        "outputId": "3f094199-b68f-4bff-9e01-ac1c98f50e76"
      },
      "outputs": [
        {
          "output_type": "execute_result",
          "data": {
            "text/plain": [
              "Text(0, 0.5, 'Количество игр')"
            ]
          },
          "metadata": {},
          "execution_count": 23
        },
        {
          "output_type": "display_data",
          "data": {
            "text/plain": [
              "<Figure size 1080x360 with 1 Axes>"
            ],
            "image/png": "[encoded data removed]"
          },
          "metadata": {
            "needs_background": "light"
          }
        }
      ],
      "source": [
        "(data.groupby('year_of_release')['year_of_release']\n",
        " .count().plot\n",
        " .bar(color='green',edgecolor='blue',figsize=(15,5)).set_title('Количество игр по годам')\n",
        ");\n",
        "plt.xlabel('Год выхода игры')\n",
        "plt.ylabel('Количество игр')"
      ]
    },
    {
      "cell_type": "markdown",
      "metadata": {
        "id": "ENErFkWHSVor"
      },
      "source": [
        "Распределение по годам показывает максимальное число выпущенных игр в 2002 - 2011 годах, до 1995 года количество игр было совсем незначительным, а после 2012 года произошло резкое падение этого показателя. Возможной причиной можно рассматривать развитие мобильных технологий. Возможно данными до 1995 года следует пренебречь. Отдельно отметим, что число игр с неопределенным годом выпуска является незначительным, индикатор -1 наглядно отражает, что доля таких игр невысокая - менее 300 единиц. Такими данными также можно будет пренебречь."
      ]
    },
    {
      "cell_type": "markdown",
      "metadata": {
        "id": "BWHh4DOkSVor"
      },
      "source": [
        "Далее посмотрим, как менялись продажи по платформам. Выберем платформы с наибольшими суммарными продажами и построим распределение по годам. Определим за какой характерный срок появляются новые и исчезают старые платформы."
      ]
    },
    {
      "cell_type": "code",
      "execution_count": null,
      "metadata": {
        "colab": {
          "base_uri": "https://localhost:8080/",
          "height": 366
        },
        "id": "T2BuA9COSVor",
        "outputId": "7df63a64-3cc3-49a2-ac41-64fb7596ee07"
      },
      "outputs": [
        {
          "output_type": "display_data",
          "data": {
            "text/plain": [
              "<Figure size 1080x360 with 1 Axes>"
            ],
            "image/png": "[encoded data removed]"
          },
          "metadata": {
            "needs_background": "light"
          }
        }
      ],
      "source": [
        "(data.groupby('platform')['total_sales']\n",
        " .sum().sort_values(ascending=False)\n",
        " .plot.bar(color='yellow',edgecolor='blue',figsize=(15,5))\n",
        " .set_title('Количество игр по годам')\n",
        ");\n",
        "plt.xlabel('Название платформы')\n",
        "plt.ylabel('Количество игр на платформе');"
      ]
    },
    {
      "cell_type": "markdown",
      "metadata": {
        "id": "_7sKq-91SVos"
      },
      "source": [
        "Платформами с наибольшими продажами ( более 400 млн. долларов) являются:\n",
        "* PS2\n",
        "* X360\n",
        "* PS3\n",
        "* Wii\n",
        "* DS\n",
        "* PS\n",
        "\n",
        "Посмотрим как распределялись продажи по этим шести платформам по годам."
      ]
    },
    {
      "cell_type": "code",
      "execution_count": null,
      "metadata": {
        "colab": {
          "base_uri": "https://localhost:8080/",
          "height": 334
        },
        "id": "MC-lQS6KSVow",
        "outputId": "a338e098-8662-4d51-f696-460df43c4155"
      },
      "outputs": [
        {
          "output_type": "display_data",
          "data": {
            "text/plain": [
              "<Figure size 864x360 with 1 Axes>"
            ],
            "image/png": "[encoded data removed]"
          },
          "metadata": {
            "needs_background": "light"
          }
        }
      ],
      "source": [
        "%matplotlib inline\n",
        "data_by_platform = data.query('platform in [\"PS2\",\"X360\",\"PS3\",\"Wii\",\"DS\",\"PS\"]')\n",
        "(data_by_platform\n",
        " .pivot_table(index='year_of_release', columns='platform',values='total_sales',aggfunc='sum')\n",
        " .plot(kind='line',style='o-',grid=True, figsize=(12,5))\n",
        ")\n",
        "plt.xlim(1990, 2020)\n",
        "plt.xlabel('Года')\n",
        "plt.ylabel('Продажи, млн. копий');\n"
      ]
    },
    {
      "cell_type": "markdown",
      "metadata": {
        "id": "bhpqocSwSVow"
      },
      "source": [
        "Судя по полученным графикам, жизненный цикл одной платформы не очень долог - около 10 лет. В течение первых пяти лет жизни платформа достигает максимума по выручаемым на ней средствам, а следующие 5 лет происходит спад."
      ]
    },
    {
      "cell_type": "markdown",
      "metadata": {
        "id": "zAwCRm08SVow"
      },
      "source": [
        "Для дальнейшего анализа на мой взгляд нужно взять период с 2006 по 2016 год, поскольку в 2006 году вышли все наиболее популярные к актуальному 2016 году платформы."
      ]
    },
    {
      "cell_type": "code",
      "execution_count": null,
      "metadata": {
        "colab": {
          "base_uri": "https://localhost:8080/",
          "height": 334
        },
        "id": "ROZ2lZJ2SVox",
        "outputId": "2c37d6c4-fb02-4f9b-a160-c20fff60f585"
      },
      "outputs": [
        {
          "output_type": "display_data",
          "data": {
            "text/plain": [
              "<Figure size 864x360 with 1 Axes>"
            ],
            "image/png": "[encoded data removed]"
          },
          "metadata": {
            "needs_background": "light"
          }
        }
      ],
      "source": [
        "data_after_2005 = data.query('year_of_release>2013')\n",
        "(data_after_2005\n",
        " .pivot_table(index='year_of_release', columns='platform',values='total_sales',aggfunc='sum')\n",
        " .plot(kind='line',style='o-',grid=True, figsize=(12,5))\n",
        ");\n",
        "plt.xlabel('Года')\n",
        "plt.ylabel('Продажи, млн. копий')\n",
        "plt.legend(title='Платформа', loc='upper left');"
      ]
    },
    {
      "cell_type": "markdown",
      "metadata": {
        "id": "-Kf3WBNASVoy"
      },
      "source": [
        "Из графика видно, что все платформы на текущем этапе находятся в периоде падения продаж. Наиболее прибыльными на данный момент всё еще можно назвать:\n",
        "* PS4\n",
        "* XOne\n",
        "* 3DS\n",
        "\n",
        "Но продажи по этим платформам также уже прошли свой пик, что свидетельствует о том, что весь рынок игр переживает падение."
      ]
    },
    {
      "cell_type": "markdown",
      "metadata": {
        "id": "Llk9W43_SVoy"
      },
      "source": [
        "Посмотрим диаграмму распределения для всех игр."
      ]
    },
    {
      "cell_type": "code",
      "execution_count": null,
      "metadata": {
        "colab": {
          "base_uri": "https://localhost:8080/",
          "height": 610
        },
        "id": "oYbQB3cZSVoy",
        "outputId": "d9704894-028d-4246-e7fc-19a09ab37864"
      },
      "outputs": [
        {
          "output_type": "display_data",
          "data": {
            "text/plain": [
              "<Figure size 864x720 with 1 Axes>"
            ],
            "image/png": "[encoded data removed]"
          },
          "metadata": {
            "needs_background": "light"
          }
        }
      ],
      "source": [
        "data.boxplot(column='total_sales', figsize=(12,10))\n",
        "plt.title('Диаграмма распределения продаж по всем играм',fontsize=15,fontstyle='italic')   \n",
        "plt.ylim(0,3);"
      ]
    },
    {
      "cell_type": "markdown",
      "metadata": {
        "id": "IK9b7OHySVoz"
      },
      "source": [
        "Медианное значение выручки по глобальным продажам для всех игр находится в районе 0,2 млн. долларов для предложенной выборки данных."
      ]
    },
    {
      "cell_type": "markdown",
      "metadata": {
        "id": "41B-W1PLSVoz"
      },
      "source": [
        "Теперь проверим распределение для шести наиболее прибыльных платформ.\n"
      ]
    },
    {
      "cell_type": "code",
      "execution_count": null,
      "metadata": {
        "colab": {
          "base_uri": "https://localhost:8080/",
          "height": 721
        },
        "id": "DscisSX_SVo0",
        "outputId": "31987981-0541-40d2-d4c7-462d15d267a3"
      },
      "outputs": [
        {
          "output_type": "stream",
          "name": "stderr",
          "text": [
            "/usr/local/lib/python3.7/dist-packages/matplotlib/cbook/__init__.py:1376: VisibleDeprecationWarning: Creating an ndarray from ragged nested sequences (which is a list-or-tuple of lists-or-tuples-or ndarrays with different lengths or shapes) is deprecated. If you meant to do this, you must specify 'dtype=object' when creating the ndarray.\n",
            "  X = np.atleast_1d(X.T if isinstance(X, np.ndarray) else np.asarray(X))\n"
          ]
        },
        {
          "output_type": "display_data",
          "data": {
            "text/plain": [
              "<Figure size 1152x720 with 1 Axes>"
            ],
            "image/png": "[encoded data removed]"
          },
          "metadata": {
            "needs_background": "light"
          }
        }
      ],
      "source": [
        "platforms_list = ['PS2','X360','PS3','Wii','DS','PS']\n",
        "(data.query('platform in @platforms_list')\n",
        " .boxplot(column='total_sales', by='platform',notch=True,figsize=(16,10), color='green')\n",
        ");\n",
        "plt.ylim(0, 2)\n",
        "plt.title('Распределение самых популярных платформ',fontsize=25,fontstyle='italic')   \n",
        "plt.xlabel('Платформа',fontsize=15,fontstyle='italic');\n",
        "plt.ylabel('Продажи, млн. копий',fontsize=15,fontstyle='italic');\n"
      ]
    },
    {
      "cell_type": "markdown",
      "metadata": {
        "id": "EmAa6e2CSVo1"
      },
      "source": [
        "Медианные значения продаж для наиболее популярных платформ подтверждают результаты по общей выборке - медианные значения здесь колеблются в пределах 0,2 - 0,25 млн долларов. Верхняяя граница пределов самая высокая у платформ PS3 и X360, она находится в районе 1,7 млн. долларов. Самые низкие показатели у DS - здесь верхняяя граница находится в районе 0,6 млн. долларов.\n",
        "\n",
        "Для дальнейшего анализа возьмем самую популярную платформу X360 и проверим как влияют на продажи игр внутри этой группы отзывы критиков и пользователей."
      ]
    },
    {
      "cell_type": "code",
      "execution_count": null,
      "metadata": {
        "colab": {
          "base_uri": "https://localhost:8080/",
          "height": 358
        },
        "id": "IetB4jmwSVo1",
        "outputId": "9195277c-3d71-4343-9026-f3f10ed4b4c5"
      },
      "outputs": [
        {
          "output_type": "display_data",
          "data": {
            "text/plain": [
              "<Figure size 864x360 with 1 Axes>"
            ],
            "image/png": "[encoded data removed]"
          },
          "metadata": {
            "needs_background": "light"
          }
        }
      ],
      "source": [
        "(data.query('platform == \"X360\"')\n",
        " .plot(kind='scatter',x='critic_score',y='total_sales', grid=True, figsize=(12,5),color='orange')\n",
        ");\n",
        "plt.title('Зависимость между объемом продаж и оценками критиков для платформы X360',fontsize=15,fontstyle='italic');\n",
        "plt.xlabel('Оценка критиков',fontsize=15,fontstyle='italic')\n",
        "plt.ylabel('Продажи, млн. копий',fontsize=15,fontstyle='italic');\n"
      ]
    },
    {
      "cell_type": "markdown",
      "metadata": {
        "id": "BQdo_ZWNSVo1"
      },
      "source": [
        "Диаграмма рассеивания показывает прямую зависимость между объемом продаж и оценкой критиков - чем выше оценка, тем больше продается копий игр, работающих на платформе X360. Визуально зависимость довольно умеренная, это подтверждается коэффициентом корреляции, рассчитанным ниже."
      ]
    },
    {
      "cell_type": "code",
      "execution_count": null,
      "metadata": {
        "colab": {
          "base_uri": "https://localhost:8080/"
        },
        "id": "fGwS92kTSVo2",
        "outputId": "67f24fcf-cbc3-4b61-d8a7-966cc354a3b4"
      },
      "outputs": [
        {
          "output_type": "execute_result",
          "data": {
            "text/plain": [
              "0.3937358653072588"
            ]
          },
          "metadata": {},
          "execution_count": 30
        }
      ],
      "source": [
        "corr_data = data.query('platform == \"X360\"')\n",
        "corr_data['critic_score'].corr(corr_data['total_sales'])"
      ]
    },
    {
      "cell_type": "code",
      "execution_count": null,
      "metadata": {
        "colab": {
          "base_uri": "https://localhost:8080/",
          "height": 358
        },
        "id": "OTfWROypSVo2",
        "outputId": "666b6478-1fc9-4593-adeb-74e3b8b7be99"
      },
      "outputs": [
        {
          "output_type": "display_data",
          "data": {
            "text/plain": [
              "<Figure size 864x360 with 1 Axes>"
            ],
            "image/png": "[encoded data removed]"
          },
          "metadata": {
            "needs_background": "light"
          }
        }
      ],
      "source": [
        "(data.query('platform == \"X360\"')\n",
        " .plot(kind='scatter',x='user_score',y='total_sales', grid=True, figsize=(12,5),ec='orange', color='green')\n",
        ");\n",
        "plt.title('Зависимость между объемом продаж и оценками пользователей для платформы X360',fontsize=15,fontstyle='italic');\n",
        "plt.xlabel('Оценка критиков',fontsize=15,fontstyle='italic')\n",
        "plt.ylabel('Продажи, млн. копий',fontsize=15,fontstyle='italic');"
      ]
    },
    {
      "cell_type": "markdown",
      "metadata": {
        "id": "vcnSw6q1SVo2"
      },
      "source": [
        "По всей видимости оценка пользователей также влияет на объем продаж, но эта зависимость ниже, чем в случае с оценками критиков.\n",
        "Это подтверждается величиной коэффициента корреляции, который в 3 раза ниже аналогичного показателя для оценки критиков."
      ]
    },
    {
      "cell_type": "code",
      "execution_count": null,
      "metadata": {
        "colab": {
          "base_uri": "https://localhost:8080/"
        },
        "id": "3YibXl_gSVo2",
        "outputId": "7dd04a35-7ba8-40a5-cb1b-7272d99833d1"
      },
      "outputs": [
        {
          "output_type": "execute_result",
          "data": {
            "text/plain": [
              "0.11445882978454185"
            ]
          },
          "metadata": {},
          "execution_count": 32
        }
      ],
      "source": [
        "corr_data['user_score'].corr(corr_data['total_sales'])"
      ]
    },
    {
      "cell_type": "markdown",
      "metadata": {
        "id": "ONLVAPffSVo3"
      },
      "source": [
        "Взаимосвязь между объемом продаж и оценками критиков и пользователей для всего датасета менее выраженная, чем для топовой платформы, это же подтверждают меньшие значения коэффициентов корреляции, но общая тенденция сохраняется - зависимость, хоть и небольшая, но есть. Ниже приведены соответствующие диаграммы распределения и расчеты коэффициентов корреляции."
      ]
    },
    {
      "cell_type": "code",
      "execution_count": null,
      "metadata": {
        "colab": {
          "base_uri": "https://localhost:8080/",
          "height": 376
        },
        "id": "WjnjtauOSVo3",
        "outputId": "465b63d3-32ac-479f-bf3d-09efb80229cd"
      },
      "outputs": [
        {
          "output_type": "stream",
          "name": "stdout",
          "text": [
            "Коэффициент корреляции: 0.08817911987579136\n"
          ]
        },
        {
          "output_type": "display_data",
          "data": {
            "text/plain": [
              "<Figure size 864x360 with 1 Axes>"
            ],
            "image/png": "[encoded data removed]"
          },
          "metadata": {
            "needs_background": "light"
          }
        }
      ],
      "source": [
        "data.plot(kind='scatter',x='user_score',y='total_sales', grid=True, figsize=(12,5),color='blue')\n",
        "print (f\"Коэффициент корреляции: {data['user_score'].corr(data['total_sales'])}\")\n",
        "plt.title('Зависимость между объемом продаж и оценками пользователей для всего датасета',fontsize=15,fontstyle='italic');\n",
        "plt.xlabel('Оценка пользователей',fontsize=15,fontstyle='italic')\n",
        "plt.ylabel('Продажи, млн. копий',fontsize=15,fontstyle='italic');"
      ]
    },
    {
      "cell_type": "code",
      "execution_count": null,
      "metadata": {
        "colab": {
          "base_uri": "https://localhost:8080/",
          "height": 376
        },
        "id": "rTVLtnMvSVo3",
        "outputId": "b82670b3-e0e4-4607-b700-e831044df229"
      },
      "outputs": [
        {
          "output_type": "stream",
          "name": "stdout",
          "text": [
            "Коэффициент корреляции: 0.24550668717736324\n"
          ]
        },
        {
          "output_type": "display_data",
          "data": {
            "text/plain": [
              "<Figure size 864x360 with 1 Axes>"
            ],
            "image/png": "[encoded data removed]"
          },
          "metadata": {
            "needs_background": "light"
          }
        }
      ],
      "source": [
        "data.plot(kind='scatter',x='critic_score',y='total_sales', grid=True, figsize=(12,5),color='blue')\n",
        "print (f\"Коэффициент корреляции: {data['critic_score'].corr(data['total_sales'])}\")\n",
        "plt.title('Зависимость между объемом продаж и оценками критиков для всего датасета',fontsize=15,fontstyle='italic');\n",
        "plt.xlabel('Оценка критиков',fontsize=15,fontstyle='italic')\n",
        "plt.ylabel('Продажи, млн. копий',fontsize=15,fontstyle='italic');"
      ]
    },
    {
      "cell_type": "code",
      "execution_count": null,
      "metadata": {
        "colab": {
          "base_uri": "https://localhost:8080/"
        },
        "id": "-riJ_WHaSVo4",
        "outputId": "b77a66ad-8577-4172-9754-8163a4bcf4ad"
      },
      "outputs": [
        {
          "output_type": "execute_result",
          "data": {
            "text/plain": [
              "array(['Wii', 'NES', 'GB', 'DS', 'X360', 'PS3', 'PS2', 'SNES', 'GBA',\n",
              "       'PS4', '3DS', 'N64', 'PS', 'XB', 'PC', '2600', 'PSP', 'XOne',\n",
              "       'WiiU', 'GC', 'GEN', 'DC', 'PSV', 'SAT', 'SCD', 'WS', 'NG', 'TG16',\n",
              "       '3DO', 'GG', 'PCFX'], dtype=object)"
            ]
          },
          "metadata": {},
          "execution_count": 35
        }
      ],
      "source": [
        "data['platform'].unique()"
      ]
    },
    {
      "cell_type": "markdown",
      "metadata": {
        "id": "JMnhxgp2SVo4"
      },
      "source": [
        "Дополнительно к X360 построим диаграммы рассеяния для оставшихся пяти платформ из Топ-6 (DS,PS,PS2,PS3,Wii)"
      ]
    },
    {
      "cell_type": "code",
      "execution_count": null,
      "metadata": {
        "colab": {
          "base_uri": "https://localhost:8080/",
          "height": 350
        },
        "id": "zp16FTXXSVo4",
        "outputId": "ff398897-d10d-4b90-8fc6-706ddeed8f43"
      },
      "outputs": [
        {
          "output_type": "display_data",
          "data": {
            "text/plain": [
              "<Figure size 1296x360 with 6 Axes>"
            ],
            "image/png": "[encoded data removed]"
          },
          "metadata": {
            "needs_background": "light"
          }
        }
      ],
      "source": [
        "fig, axes = plt.subplots(1, 6, figsize=(25,10))\n",
        "top_platforms = ['X360','Wii','DS', 'PS3', 'PS2', 'PS']\n",
        "i=0\n",
        "for platform in top_platforms:\n",
        "    (data[data['platform']==platform]\n",
        "    .plot(kind='scatter',x='critic_score',y='total_sales', \n",
        "    grid=True, figsize=(18,5),color='blue',ax=axes[i],title= platform,\n",
        "    ylabel='Продажи, млн. копий',xlabel='Оценка критиков')\n",
        "    )\n",
        "    i+=1\n",
        "   "
      ]
    },
    {
      "cell_type": "code",
      "execution_count": null,
      "metadata": {
        "colab": {
          "base_uri": "https://localhost:8080/",
          "height": 350
        },
        "id": "icw2XHw0SVo4",
        "outputId": "061d37da-9e6a-4313-effb-dc2111a86b50"
      },
      "outputs": [
        {
          "output_type": "display_data",
          "data": {
            "text/plain": [
              "<Figure size 1296x360 with 6 Axes>"
            ],
            "image/png": "[encoded data removed]"
          },
          "metadata": {
            "needs_background": "light"
          }
        }
      ],
      "source": [
        "fig, axes = plt.subplots(1, 6, figsize=(25,10))\n",
        "top_platforms = ['X360','Wii','DS', 'PS3', 'PS2', 'PS']\n",
        "i=0\n",
        "for platform in top_platforms:\n",
        "    (data[data['platform']==platform]\n",
        "    .plot(kind='scatter',x='user_score',y='total_sales', \n",
        "    grid=True, figsize=(18,5),color='green',ax=axes[i],title= platform,\n",
        "    ylabel='Продажи, млн. копий',xlabel='Оценка пользователей')\n",
        "    )\n",
        "    i+=1"
      ]
    },
    {
      "cell_type": "markdown",
      "metadata": {
        "id": "Jsa2w_nnSVo5"
      },
      "source": [
        "Полученные диаграммы наглядно подтверждают наличие прямой зависимости между оценками пользователей и критиков и количеством проданных копий продукции. Данное утверждение верно для шести самымх популярных платформ в выборке."
      ]
    },
    {
      "cell_type": "markdown",
      "metadata": {
        "id": "vsCgInTUSVo5"
      },
      "source": [
        "Изучим распределение продаж по жанрам игр."
      ]
    },
    {
      "cell_type": "code",
      "execution_count": null,
      "metadata": {
        "colab": {
          "base_uri": "https://localhost:8080/",
          "height": 409
        },
        "id": "TVhNAeUpSVo5",
        "outputId": "87c10293-9e7e-4657-d69e-6184ac8433f1"
      },
      "outputs": [
        {
          "output_type": "display_data",
          "data": {
            "text/plain": [
              "<Figure size 1080x360 with 1 Axes>"
            ],
            "image/png": "[encoded data removed]"
          },
          "metadata": {
            "needs_background": "light"
          }
        }
      ],
      "source": [
        "(data.groupby('genre')['total_sales']\n",
        " .sum().sort_values(ascending=False)\n",
        " .plot.bar(color='orange',edgecolor='blue',figsize=(15,5))\n",
        " .set_title('Объемы продаж по жанрам', fontsize=15)\n",
        ");\n",
        "plt.xlabel('Жанр игры',fontsize=15)\n",
        "plt.ylabel('Продажи, млн. копий',fontsize=15);"
      ]
    },
    {
      "cell_type": "markdown",
      "metadata": {
        "id": "p6u7_wL2SVo6"
      },
      "source": [
        "Самыми прибыльными являются Экшн игры, спортивные игры и стрелялки - чем более азартен человек, тем больше денег он готов потратить на виртуальную реальность :) А вот стратегиченские игры и паззлы не очень популярны, судя по долям в общем объеме продаж."
      ]
    },
    {
      "cell_type": "markdown",
      "metadata": {
        "id": "ikOk6oc_SVo6"
      },
      "source": [
        "Построим диаграммы размаха для всех игровых жанров."
      ]
    },
    {
      "cell_type": "code",
      "execution_count": null,
      "metadata": {
        "colab": {
          "base_uri": "https://localhost:8080/",
          "height": 982
        },
        "id": "64sEHoPvSVo6",
        "outputId": "bacfbc52-b394-43f3-994b-d43845177d05"
      },
      "outputs": [
        {
          "output_type": "display_data",
          "data": {
            "text/plain": [
              "<Figure size 1080x1080 with 1 Axes>"
            ],
            "image/png": "[encoded data removed]"
          },
          "metadata": {
            "needs_background": "light"
          }
        }
      ],
      "source": [
        "g = sns.catplot(y='genre', x='total_sales', kind=\"box\", data=data, orient='h', palette = 'pastel')\n",
        "g.fig.set_figwidth(15)\n",
        "g.fig.set_figheight(15)\n",
        "plt.xlim(0, 3);\n"
      ]
    },
    {
      "cell_type": "markdown",
      "metadata": {
        "id": "w07czC4ESVo6"
      },
      "source": [
        "Исходя из анализа медианных значений, наиболее стабильные прибыли приносят игры в жанрах шутеров и платформенные игры. Отдельным блоком наиболее прибыльных игр стоит выделить игры, которые не имеют присвоенного значения жанра."
      ]
    },
    {
      "cell_type": "markdown",
      "metadata": {
        "id": "Nds0ERpySVo7"
      },
      "source": [
        "## Составим портрет пользователя каждого региона\n"
      ]
    },
    {
      "cell_type": "markdown",
      "metadata": {
        "id": "eiEKXnJaSVo7"
      },
      "source": [
        "Определим для пользователя каждого региона (NA, EU, JP) самые популярные платформы (топ-5). Опишем различия в долях продаж."
      ]
    },
    {
      "cell_type": "code",
      "execution_count": null,
      "metadata": {
        "colab": {
          "base_uri": "https://localhost:8080/",
          "height": 529
        },
        "id": "9XAJhv2ySVo7",
        "outputId": "41e31034-9021-4b49-8e88-5a8cb26ba944"
      },
      "outputs": [
        {
          "output_type": "display_data",
          "data": {
            "text/plain": [
              "<Figure size 1440x576 with 3 Axes>"
            ],
            "image/png": "[encoded data removed]"
          },
          "metadata": {
            "needs_background": "light"
          }
        }
      ],
      "source": [
        "fig, axes = plt.subplots(1, 3, figsize=(25,10))\n",
        "na_pop_platforms = data.groupby('platform')['na_sales'].sum().sort_values(ascending=False)[:5]\n",
        "(na_pop_platforms.plot\n",
        " .bar(figsize=(20,8),color='magenta',edgecolor='black', \n",
        "      grid=True,alpha=0.5,ax=axes[0],title='Топ-5 платформ в Северной Америке')\n",
        ");\n",
        "\n",
        "jp_pop_platforms = data.groupby('platform')['jp_sales'].sum().sort_values(ascending=False)[:5]\n",
        "(jp_pop_platforms.plot\n",
        " .bar(color='yellow', alpha=0.5, edgecolor='black', \n",
        "      grid=True,ax=axes[1],title='Топ-5 платформ в Японии',ylim=(0,630))\n",
        ");\n",
        "\n",
        "eu_pop_platforms = data.groupby('platform')['eu_sales'].sum().sort_values(ascending=False)[:5]\n",
        "(eu_pop_platforms.plot\n",
        ".bar(color='green',edgecolor='black', \n",
        "     grid=True, alpha=0.5,ax=axes[2],title='Топ-5 платформ в Европе',ylim=(0,630))\n",
        ");\n",
        "\n"
      ]
    },
    {
      "cell_type": "markdown",
      "metadata": {
        "id": "8BPcs4OFSVo8"
      },
      "source": [
        "В Северной Америке и Европе набор топовых позиций практически одинаковый с небольшими различиями по долям продаж в Европе, где рынок практически в 2 раза менее емкий, чем в Америке. В Японии объем продаж еще меньше - около половины от продаж в Европе, и здесь популярностью пользуются также местные платформы SNES и 3DS, хотя и здесь они существенно проигрывают различным версиям PlayStation."
      ]
    },
    {
      "cell_type": "markdown",
      "metadata": {
        "id": "jFB266DpSVo8"
      },
      "source": [
        "Найдем топ-5 порулярных игровых жанров для каждого региона."
      ]
    },
    {
      "cell_type": "code",
      "execution_count": null,
      "metadata": {
        "colab": {
          "base_uri": "https://localhost:8080/",
          "height": 564
        },
        "id": "l4Xn-oC0SVo8",
        "outputId": "30d5e298-7120-40da-c188-1798b31dfa41"
      },
      "outputs": [
        {
          "output_type": "display_data",
          "data": {
            "text/plain": [
              "<Figure size 1440x576 with 3 Axes>"
            ],
            "image/png": "[encoded data removed]"
          },
          "metadata": {
            "needs_background": "light"
          }
        }
      ],
      "source": [
        "fig, axes = plt.subplots(1, 3, figsize=(25,10))\n",
        "na_pop_platforms = data.groupby('genre')['na_sales'].sum().sort_values(ascending=False)[:5]\n",
        "(na_pop_platforms.plot\n",
        " .bar(figsize=(20,8),color='magenta',edgecolor='black', \n",
        "      grid=True,alpha=0.5,ax=axes[0],title='Топ-5 жанров в Северной Америке')\n",
        ");\n",
        "\n",
        "jp_pop_platforms = data.groupby('genre')['jp_sales'].sum().sort_values(ascending=False)[:5]\n",
        "(jp_pop_platforms.plot\n",
        " .bar(color='yellow', alpha=0.5, edgecolor='black', \n",
        "      grid=True,ax=axes[1],title='Топ-5 жанров в Японии',ylim=(0,920))\n",
        ");\n",
        "\n",
        "eu_pop_platforms = data.groupby('genre')['eu_sales'].sum().sort_values(ascending=False)[:5]\n",
        "(eu_pop_platforms.plot\n",
        ".bar(color='green',edgecolor='black', \n",
        "     grid=True, alpha=0.5,ax=axes[2],title='Топ-5 жанров в Европе',ylim=(0,920))\n",
        ");\n"
      ]
    },
    {
      "cell_type": "markdown",
      "metadata": {
        "id": "PQIvXMClSVo8"
      },
      "source": [
        "Распределения для Америки и Европы снова очень схожи - экшн, спортивные игры и стрелялки здесь на первых местах. В Японии же вкусы другие, здесь на первом месте лидируют ролевые игры, причем с большим отрывом, а на следующих местах из Топ-3 тенденции повторяют общемировые - Экшн и спортивные игры также популярны."
      ]
    },
    {
      "cell_type": "markdown",
      "metadata": {
        "id": "7qqMPPvhSVo9"
      },
      "source": [
        "Проверим влиянение рейтинга ESRB на продажи в отдельном регионе."
      ]
    },
    {
      "cell_type": "code",
      "execution_count": null,
      "metadata": {
        "colab": {
          "base_uri": "https://localhost:8080/"
        },
        "id": "WvCJah5ZSVo9",
        "outputId": "a16bf268-7f7a-4883-f79e-7f1bbe9d0860"
      },
      "outputs": [
        {
          "output_type": "execute_result",
          "data": {
            "text/plain": [
              "array(['E', 'NoRate', 'M', 'T', 'E10+', 'K-A', 'AO', 'EC', 'RP'],\n",
              "      dtype=object)"
            ]
          },
          "metadata": {},
          "execution_count": 42
        }
      ],
      "source": [
        "data['rating'].unique()"
      ]
    },
    {
      "cell_type": "markdown",
      "metadata": {
        "id": "pVijqxiLSVo9"
      },
      "source": [
        "Сделаем расшифровку каждой категории."
      ]
    },
    {
      "cell_type": "code",
      "execution_count": null,
      "metadata": {
        "id": "KGMUcDs-SVo-"
      },
      "outputs": [],
      "source": [
        "ESRB_dict = {'E':'Для всех', 'NoRate':'NoRate', 'M':'Для взрослых', 'T':'Подросткам', \n",
        "             'E10+':'Для всех >= 10 лет', 'K-A':'Kids to Adults', 'AO':'Только для взрослых', \n",
        "             'EC':'Для детей младшего возраста', 'RP':'Рейтинг ожидается'}"
      ]
    },
    {
      "cell_type": "code",
      "execution_count": null,
      "metadata": {
        "colab": {
          "base_uri": "https://localhost:8080/",
          "height": 206
        },
        "id": "HsDQifPoSVo-",
        "outputId": "1c20fb45-2bb1-409f-a680-02753a3a7247"
      },
      "outputs": [
        {
          "output_type": "execute_result",
          "data": {
            "text/plain": [
              "                       name platform  year_of_release         genre  na_sales  \\\n",
              "0                Wii Sports      Wii             2006        Sports     41.36   \n",
              "1         Super Mario Bros.      NES             1985      Platform     29.08   \n",
              "2            Mario Kart Wii      Wii             2008        Racing     15.68   \n",
              "3         Wii Sports Resort      Wii             2009        Sports     15.61   \n",
              "4  Pokemon Red/Pokemon Blue       GB             1996  Role-Playing     11.27   \n",
              "\n",
              "   eu_sales  jp_sales  other_sales  critic_score  user_score  rating  \\\n",
              "0     28.96      3.77         8.45          76.0         8.0       E   \n",
              "1      3.58      6.81         0.77           NaN         NaN  NoRate   \n",
              "2     12.76      3.79         3.29          82.0         8.3       E   \n",
              "3     10.93      3.28         2.95          80.0         8.0       E   \n",
              "4      8.89     10.22         1.00           NaN         NaN  NoRate   \n",
              "\n",
              "   total_sales      ESRB  \n",
              "0        82.54  Для всех  \n",
              "1        40.24    NoRate  \n",
              "2        35.52  Для всех  \n",
              "3        32.77  Для всех  \n",
              "4        31.38    NoRate  "
            ],
            "text/html": [
              "\n",
              "  <div id=\"df-53042ed3-2f66-4c03-a685-a255f8ca5da8\">\n",
              "    <div class=\"colab-df-container\">\n",
              "      <div>\n",
              "<style scoped>\n",
              "    .dataframe tbody tr th:only-of-type {\n",
              "        vertical-align: middle;\n",
              "    }\n",
              "\n",
              "    .dataframe tbody tr th {\n",
              "        vertical-align: top;\n",
              "    }\n",
              "\n",
              "    .dataframe thead th {\n",
              "        text-align: right;\n",
              "    }\n",
              "</style>\n",
              "<table border=\"1\" class=\"dataframe\">\n",
              "  <thead>\n",
              "    <tr style=\"text-align: right;\">\n",
              "      <th></th>\n",
              "      <th>name</th>\n",
              "      <th>platform</th>\n",
              "      <th>year_of_release</th>\n",
              "      <th>genre</th>\n",
              "      <th>na_sales</th>\n",
              "      <th>eu_sales</th>\n",
              "      <th>jp_sales</th>\n",
              "      <th>other_sales</th>\n",
              "      <th>critic_score</th>\n",
              "      <th>user_score</th>\n",
              "      <th>rating</th>\n",
              "      <th>total_sales</th>\n",
              "      <th>ESRB</th>\n",
              "    </tr>\n",
              "  </thead>\n",
              "  <tbody>\n",
              "    <tr>\n",
              "      <th>0</th>\n",
              "      <td>Wii Sports</td>\n",
              "      <td>Wii</td>\n",
              "      <td>2006</td>\n",
              "      <td>Sports</td>\n",
              "      <td>41.36</td>\n",
              "      <td>28.96</td>\n",
              "      <td>3.77</td>\n",
              "      <td>8.45</td>\n",
              "      <td>76.0</td>\n",
              "      <td>8.0</td>\n",
              "      <td>E</td>\n",
              "      <td>82.54</td>\n",
              "      <td>Для всех</td>\n",
              "    </tr>\n",
              "    <tr>\n",
              "      <th>1</th>\n",
              "      <td>Super Mario Bros.</td>\n",
              "      <td>NES</td>\n",
              "      <td>1985</td>\n",
              "      <td>Platform</td>\n",
              "      <td>29.08</td>\n",
              "      <td>3.58</td>\n",
              "      <td>6.81</td>\n",
              "      <td>0.77</td>\n",
              "      <td>NaN</td>\n",
              "      <td>NaN</td>\n",
              "      <td>NoRate</td>\n",
              "      <td>40.24</td>\n",
              "      <td>NoRate</td>\n",
              "    </tr>\n",
              "    <tr>\n",
              "      <th>2</th>\n",
              "      <td>Mario Kart Wii</td>\n",
              "      <td>Wii</td>\n",
              "      <td>2008</td>\n",
              "      <td>Racing</td>\n",
              "      <td>15.68</td>\n",
              "      <td>12.76</td>\n",
              "      <td>3.79</td>\n",
              "      <td>3.29</td>\n",
              "      <td>82.0</td>\n",
              "      <td>8.3</td>\n",
              "      <td>E</td>\n",
              "      <td>35.52</td>\n",
              "      <td>Для всех</td>\n",
              "    </tr>\n",
              "    <tr>\n",
              "      <th>3</th>\n",
              "      <td>Wii Sports Resort</td>\n",
              "      <td>Wii</td>\n",
              "      <td>2009</td>\n",
              "      <td>Sports</td>\n",
              "      <td>15.61</td>\n",
              "      <td>10.93</td>\n",
              "      <td>3.28</td>\n",
              "      <td>2.95</td>\n",
              "      <td>80.0</td>\n",
              "      <td>8.0</td>\n",
              "      <td>E</td>\n",
              "      <td>32.77</td>\n",
              "      <td>Для всех</td>\n",
              "    </tr>\n",
              "    <tr>\n",
              "      <th>4</th>\n",
              "      <td>Pokemon Red/Pokemon Blue</td>\n",
              "      <td>GB</td>\n",
              "      <td>1996</td>\n",
              "      <td>Role-Playing</td>\n",
              "      <td>11.27</td>\n",
              "      <td>8.89</td>\n",
              "      <td>10.22</td>\n",
              "      <td>1.00</td>\n",
              "      <td>NaN</td>\n",
              "      <td>NaN</td>\n",
              "      <td>NoRate</td>\n",
              "      <td>31.38</td>\n",
              "      <td>NoRate</td>\n",
              "    </tr>\n",
              "  </tbody>\n",
              "</table>\n",
              "</div>\n",
              "      <button class=\"colab-df-convert\" onclick=\"convertToInteractive('df-53042ed3-2f66-4c03-a685-a255f8ca5da8')\"\n",
              "              title=\"Convert this dataframe to an interactive table.\"\n",
              "              style=\"display:none;\">\n",
              "        \n",
              "  <svg xmlns=\"http://www.w3.org/2000/svg\" height=\"24px\"viewBox=\"0 0 24 24\"\n",
              "       width=\"24px\">\n",
              "    <path d=\"M0 0h24v24H0V0z\" fill=\"none\"/>\n",
              "    <path d=\"M18.56 5.44l.94 2.06.94-2.06 2.06-.94-2.06-.94-.94-2.06-.94 2.06-2.06.94zm-11 1L8.5 8.5l.94-2.06 2.06-.94-2.06-.94L8.5 2.5l-.94 2.06-2.06.94zm10 10l.94 2.06.94-2.06 2.06-.94-2.06-.94-.94-2.06-.94 2.06-2.06.94z\"/><path d=\"M17.41 7.96l-1.37-1.37c-.4-.4-.92-.59-1.43-.59-.52 0-1.04.2-1.43.59L10.3 9.45l-7.72 7.72c-.78.78-.78 2.05 0 2.83L4 21.41c.39.39.9.59 1.41.59.51 0 1.02-.2 1.41-.59l7.78-7.78 2.81-2.81c.8-.78.8-2.07 0-2.86zM5.41 20L4 18.59l7.72-7.72 1.47 1.35L5.41 20z\"/>\n",
              "  </svg>\n",
              "      </button>\n",
              "      \n",
              "  <style>\n",
              "    .colab-df-container {\n",
              "      display:flex;\n",
              "      flex-wrap:wrap;\n",
              "      gap: 12px;\n",
              "    }\n",
              "\n",
              "    .colab-df-convert {\n",
              "      background-color: #E8F0FE;\n",
              "      border: none;\n",
              "      border-radius: 50%;\n",
              "      cursor: pointer;\n",
              "      display: none;\n",
              "      fill: #1967D2;\n",
              "      height: 32px;\n",
              "      padding: 0 0 0 0;\n",
              "      width: 32px;\n",
              "    }\n",
              "\n",
              "    .colab-df-convert:hover {\n",
              "      background-color: #E2EBFA;\n",
              "      box-shadow: 0px 1px 2px rgba(60, 64, 67, 0.3), 0px 1px 3px 1px rgba(60, 64, 67, 0.15);\n",
              "      fill: #174EA6;\n",
              "    }\n",
              "\n",
              "    [theme=dark] .colab-df-convert {\n",
              "      background-color: #3B4455;\n",
              "      fill: #D2E3FC;\n",
              "    }\n",
              "\n",
              "    [theme=dark] .colab-df-convert:hover {\n",
              "      background-color: #434B5C;\n",
              "      box-shadow: 0px 1px 3px 1px rgba(0, 0, 0, 0.15);\n",
              "      filter: drop-shadow(0px 1px 2px rgba(0, 0, 0, 0.3));\n",
              "      fill: #FFFFFF;\n",
              "    }\n",
              "  </style>\n",
              "\n",
              "      <script>\n",
              "        const buttonEl =\n",
              "          document.querySelector('#df-53042ed3-2f66-4c03-a685-a255f8ca5da8 button.colab-df-convert');\n",
              "        buttonEl.style.display =\n",
              "          google.colab.kernel.accessAllowed ? 'block' : 'none';\n",
              "\n",
              "        async function convertToInteractive(key) {\n",
              "          const element = document.querySelector('#df-53042ed3-2f66-4c03-a685-a255f8ca5da8');\n",
              "          const dataTable =\n",
              "            await google.colab.kernel.invokeFunction('convertToInteractive',\n",
              "                                                     [key], {});\n",
              "          if (!dataTable) return;\n",
              "\n",
              "          const docLinkHtml = 'Like what you see? Visit the ' +\n",
              "            '<a target=\"_blank\" href=https://colab.research.google.com/notebooks/data_table.ipynb>data table notebook</a>'\n",
              "            + ' to learn more about interactive tables.';\n",
              "          element.innerHTML = '';\n",
              "          dataTable['output_type'] = 'display_data';\n",
              "          await google.colab.output.renderOutput(dataTable, element);\n",
              "          const docLink = document.createElement('div');\n",
              "          docLink.innerHTML = docLinkHtml;\n",
              "          element.appendChild(docLink);\n",
              "        }\n",
              "      </script>\n",
              "    </div>\n",
              "  </div>\n",
              "  "
            ]
          },
          "metadata": {},
          "execution_count": 44
        }
      ],
      "source": [
        "data['ESRB'] = data['rating'].map(ESRB_dict) #создадим новый столбец с данными\n",
        "data.head()"
      ]
    },
    {
      "cell_type": "code",
      "execution_count": null,
      "metadata": {
        "colab": {
          "base_uri": "https://localhost:8080/",
          "height": 607
        },
        "id": "kpf1YGEhSVo-",
        "outputId": "1a028af7-abfd-4854-b757-8eb32db66d1a"
      },
      "outputs": [
        {
          "output_type": "display_data",
          "data": {
            "text/plain": [
              "<Figure size 1440x576 with 3 Axes>"
            ],
            "image/png": "[encoded data removed]"
          },
          "metadata": {
            "needs_background": "light"
          }
        }
      ],
      "source": [
        "fig, axes = plt.subplots(1, 3, figsize=(25,10))\n",
        "na_pop_platforms = data.groupby('ESRB')['na_sales'].sum().sort_values(ascending=False)[:5]\n",
        "(na_pop_platforms.plot\n",
        " .bar(figsize=(20,8),color='magenta',edgecolor='black', \n",
        "      grid=True,alpha=0.5,ax=axes[0],title='ESRB рейтинги в Северной Америке')\n",
        ");\n",
        "\n",
        "jp_pop_platforms = data.groupby('ESRB')['jp_sales'].sum().sort_values(ascending=False)[:5]\n",
        "(jp_pop_platforms.plot\n",
        " .bar(color='yellow', alpha=0.5, edgecolor='black', \n",
        "      grid=True,ax=axes[1],title='ESRB рейтинги в Японии',ylim=(0,1360))\n",
        ");\n",
        "\n",
        "eu_pop_platforms = data.groupby('ESRB')['eu_sales'].sum().sort_values(ascending=False)[:5]\n",
        "(eu_pop_platforms.plot\n",
        ".bar(color='green',edgecolor='black', \n",
        "     grid=True, alpha=0.5,ax=axes[2],title='ESRB рейтинги в Европе',ylim=(0,1360))\n",
        ");\n"
      ]
    },
    {
      "cell_type": "markdown",
      "metadata": {
        "id": "hL7KlB9hSVo-"
      },
      "source": [
        "Самые большие доходы разработчики получают от игр категории \"Для всех\", второе место делят между собой подростковые игры и игры для взрослых. Стоит отметить, что большая часть игр совсем не имеет рейтинга ESRB. Это может быть вызвано с тем, что рейтинг ESRB начали использовать только с 2002 года, а в Японии этот рейтинг совсем не популярен, возможно там есть свои критерии возрастного ценза на игры."
      ]
    },
    {
      "cell_type": "markdown",
      "metadata": {
        "id": "J4jgEtTOSVo_"
      },
      "source": [
        "## Проверка гипотез\n",
        "* \tСредние пользовательские рейтинги платформ Xbox One и PC одинаковые;\n",
        "* \tСредние пользовательские рейтинги жанров Action (англ. «действие», экшен-игры) и Sports (англ. «спортивные соревнования») разные.\n",
        "\n"
      ]
    },
    {
      "cell_type": "markdown",
      "metadata": {
        "id": "FCVFdyL6SVo_"
      },
      "source": [
        "Для проверки гипотезы о равенстве среднего двух генеральных совокупностей по взятым из них выборкам в обоих случаях воспользуемся специальным методом ttest_ind. Дисперсии в выборках будем считать одинаковыми, параметр equal_var по умолчанию будет указан как True."
      ]
    },
    {
      "cell_type": "markdown",
      "metadata": {
        "id": "Ux7m3pbwSVo_"
      },
      "source": [
        "Нулевая гипотеза:Средние пользовательские рейтинги платформ Xbox One и PC одинаковые. \n",
        "\n",
        "Альтернативная гипотеза: Средние пользовательские рейтинги платформ Xbox One и PC разные."
      ]
    },
    {
      "cell_type": "code",
      "execution_count": null,
      "metadata": {
        "colab": {
          "base_uri": "https://localhost:8080/"
        },
        "id": "b8bpYfgRSVpA",
        "outputId": "049073f6-541f-41ef-95f8-4386743f1756"
      },
      "outputs": [
        {
          "output_type": "stream",
          "name": "stdout",
          "text": [
            "p-значение:1.3896435533548819e-05\n",
            "Отвергаем нулевую гипотезу\n"
          ]
        }
      ],
      "source": [
        "xbox = data[(data['platform']=='XOne')&(data['user_score']>0)]['user_score'] #выборка по пользовательскому рейтингу для Xbox One\n",
        "pc = data[(data['platform']=='PC')&(data['user_score']>0)]['user_score'] #выборка по пользовательскому рейтингу для PC\n",
        "alpha = .05 # уровень статистической значимости\n",
        "results = st.ttest_ind(xbox,pc)\n",
        "print(f'p-значение:{results.pvalue}')\n",
        "if results.pvalue < alpha:\n",
        "    print('Отвергаем нулевую гипотезу')\n",
        "else:\n",
        "    print('Не получилось отвергнуть нулевую гипотезу')"
      ]
    },
    {
      "cell_type": "markdown",
      "metadata": {
        "id": "gIIDcISfSVpA"
      },
      "source": [
        "На основании полученного результата отвергаем нулевую гипотезу, данные в выборках не противоречат альтернативной гипотезе о том, что платформы Xbox и PC имеют разные средние пользовательские оценки."
      ]
    },
    {
      "cell_type": "markdown",
      "metadata": {
        "id": "vXqTdZuDSVpB"
      },
      "source": [
        "Нулевая гипотеза:Средние пользовательские рейтинги жанров Action и Sports одинаковые.\n",
        "\n",
        "Альтернативная гипотеза: Средние пользовательские рейтинги жанров Action и Sports разные."
      ]
    },
    {
      "cell_type": "code",
      "execution_count": null,
      "metadata": {
        "colab": {
          "base_uri": "https://localhost:8080/"
        },
        "id": "-bbOgH6xSVpB",
        "outputId": "c2792b4d-064b-4ba2-9831-01052612fd63"
      },
      "outputs": [
        {
          "output_type": "stream",
          "name": "stdout",
          "text": [
            "p-значение:0.10406951359049141\n",
            "Не получилось отвергнуть нулевую гипотезу\n"
          ]
        }
      ],
      "source": [
        "action = data[(data['genre']=='Action')&(data['user_score']>0)]['user_score'] #выборка по пользовательскому рейтингу для Xbox One\n",
        "sports = data[(data['genre']=='Sports')&(data['user_score']>0)]['user_score'] #выборка по пользовательскому рейтингу для PC\n",
        "alpha = .05 # уровень статистической значимости\n",
        "results = st.ttest_ind(action,sports)\n",
        "print(f'p-значение:{results.pvalue}')\n",
        "if results.pvalue < alpha:\n",
        "    print('Отвергаем нулевую гипотезу')\n",
        "else:\n",
        "    print('Не получилось отвергнуть нулевую гипотезу')"
      ]
    },
    {
      "cell_type": "markdown",
      "metadata": {
        "id": "14EF5ZUfSVpB"
      },
      "source": [
        "Полученное значение p-value (0.10406951359049141) говорит о том, что вероятность получить такое или большее различие случайно более 10%. Это слишком большая вероятность, чтобы делать вывод о значимом различии между средними пользовательскими оценками игр в жанрах Action и Sports."
      ]
    },
    {
      "cell_type": "markdown",
      "metadata": {
        "id": "I1RaeoxESVpC"
      },
      "source": [
        "## Общий вывод"
      ]
    },
    {
      "cell_type": "markdown",
      "metadata": {
        "id": "B4yVTJzvSVpC"
      },
      "source": [
        "Проведенный исследовательский анализ данных показал, что на рынке игровых платформ на конец 2016 года происходил значительный спад, связанный по всей видимости с увеличивающейся популярностью мобильных игровых приложений. Для акселлерации продаж нашему интернет магазину следует сделать упор на наиболее популярные игровые платформы, опираясь главным образом на оценки критиков, т.к. они с наибольшей долей вероятности могут гарантировать высокие объемы продаж.  При выборе игр для каждой популярной платформы следует отдать предпочтение играм в жанрах Action и Sports. Желательно избегать возрастных ограничений, применяемых к играм, поскольку каждое такое ограничение отрезает часть потенциальных покупателей."
      ]
    },
    {
      "cell_type": "markdown",
      "metadata": {
        "id": "QdYYQZJCSVpD"
      },
      "source": [
        "Дополнрительно порекомендуем нашему рекламному отделу обратить свое внимание на Северную Америку. В качестве целевой игры нужно использовать игру в жанре Platform ( такие игры в среднем продаются стабильно чаще)  на платформе PS4, как наиболее прибыльной платформе на конец 2016 года. При выборе игры следует обращать внимание на отзывы критиков в большей мере, чем на отзывы пользователей. По части квалификации игры в рейтинге ESRB рекомендуется выбирать категорию \"E\"(для всех).\n",
        "     Ниже представлена выборка игр, подходящих под указанные параметры. На мой взгляд стоит обратить свое внимание на игру Shovel Knight при планировании бюджета на 2017 год."
      ]
    },
    {
      "cell_type": "code",
      "execution_count": null,
      "metadata": {
        "colab": {
          "base_uri": "https://localhost:8080/",
          "height": 175
        },
        "id": "Aokka9ltSVpD",
        "outputId": "c5f72869-6490-4e78-8bed-ca74ad7ba4ab"
      },
      "outputs": [
        {
          "output_type": "execute_result",
          "data": {
            "text/plain": [
              "                             name platform  year_of_release     genre  \\\n",
              "908             LittleBigPlanet 3      PS4             2014  Platform   \n",
              "6448            Tearaway Unfolded      PS4             2015  Platform   \n",
              "11379               Shovel Knight      PS4             2015  Platform   \n",
              "11419  Mega Man Legacy Collection      PS4             2016  Platform   \n",
              "\n",
              "       na_sales  eu_sales  jp_sales  other_sales  critic_score  user_score  \\\n",
              "908        0.66      0.93      0.01         0.31          79.0         7.1   \n",
              "6448       0.09      0.13      0.00         0.04          81.0         8.1   \n",
              "11379      0.03      0.03      0.00         0.01          90.0         7.6   \n",
              "11419      0.07      0.00      0.00         0.02          77.0         6.1   \n",
              "\n",
              "      rating  total_sales      ESRB  \n",
              "908        E         1.91  Для всех  \n",
              "6448       E         0.26  Для всех  \n",
              "11379      E         0.07  Для всех  \n",
              "11419      E         0.09  Для всех  "
            ],
            "text/html": [
              "\n",
              "  <div id=\"df-b1c7ae00-dbcb-4bd8-8210-edd96e2ec793\">\n",
              "    <div class=\"colab-df-container\">\n",
              "      <div>\n",
              "<style scoped>\n",
              "    .dataframe tbody tr th:only-of-type {\n",
              "        vertical-align: middle;\n",
              "    }\n",
              "\n",
              "    .dataframe tbody tr th {\n",
              "        vertical-align: top;\n",
              "    }\n",
              "\n",
              "    .dataframe thead th {\n",
              "        text-align: right;\n",
              "    }\n",
              "</style>\n",
              "<table border=\"1\" class=\"dataframe\">\n",
              "  <thead>\n",
              "    <tr style=\"text-align: right;\">\n",
              "      <th></th>\n",
              "      <th>name</th>\n",
              "      <th>platform</th>\n",
              "      <th>year_of_release</th>\n",
              "      <th>genre</th>\n",
              "      <th>na_sales</th>\n",
              "      <th>eu_sales</th>\n",
              "      <th>jp_sales</th>\n",
              "      <th>other_sales</th>\n",
              "      <th>critic_score</th>\n",
              "      <th>user_score</th>\n",
              "      <th>rating</th>\n",
              "      <th>total_sales</th>\n",
              "      <th>ESRB</th>\n",
              "    </tr>\n",
              "  </thead>\n",
              "  <tbody>\n",
              "    <tr>\n",
              "      <th>908</th>\n",
              "      <td>LittleBigPlanet 3</td>\n",
              "      <td>PS4</td>\n",
              "      <td>2014</td>\n",
              "      <td>Platform</td>\n",
              "      <td>0.66</td>\n",
              "      <td>0.93</td>\n",
              "      <td>0.01</td>\n",
              "      <td>0.31</td>\n",
              "      <td>79.0</td>\n",
              "      <td>7.1</td>\n",
              "      <td>E</td>\n",
              "      <td>1.91</td>\n",
              "      <td>Для всех</td>\n",
              "    </tr>\n",
              "    <tr>\n",
              "      <th>6448</th>\n",
              "      <td>Tearaway Unfolded</td>\n",
              "      <td>PS4</td>\n",
              "      <td>2015</td>\n",
              "      <td>Platform</td>\n",
              "      <td>0.09</td>\n",
              "      <td>0.13</td>\n",
              "      <td>0.00</td>\n",
              "      <td>0.04</td>\n",
              "      <td>81.0</td>\n",
              "      <td>8.1</td>\n",
              "      <td>E</td>\n",
              "      <td>0.26</td>\n",
              "      <td>Для всех</td>\n",
              "    </tr>\n",
              "    <tr>\n",
              "      <th>11379</th>\n",
              "      <td>Shovel Knight</td>\n",
              "      <td>PS4</td>\n",
              "      <td>2015</td>\n",
              "      <td>Platform</td>\n",
              "      <td>0.03</td>\n",
              "      <td>0.03</td>\n",
              "      <td>0.00</td>\n",
              "      <td>0.01</td>\n",
              "      <td>90.0</td>\n",
              "      <td>7.6</td>\n",
              "      <td>E</td>\n",
              "      <td>0.07</td>\n",
              "      <td>Для всех</td>\n",
              "    </tr>\n",
              "    <tr>\n",
              "      <th>11419</th>\n",
              "      <td>Mega Man Legacy Collection</td>\n",
              "      <td>PS4</td>\n",
              "      <td>2016</td>\n",
              "      <td>Platform</td>\n",
              "      <td>0.07</td>\n",
              "      <td>0.00</td>\n",
              "      <td>0.00</td>\n",
              "      <td>0.02</td>\n",
              "      <td>77.0</td>\n",
              "      <td>6.1</td>\n",
              "      <td>E</td>\n",
              "      <td>0.09</td>\n",
              "      <td>Для всех</td>\n",
              "    </tr>\n",
              "  </tbody>\n",
              "</table>\n",
              "</div>\n",
              "      <button class=\"colab-df-convert\" onclick=\"convertToInteractive('df-b1c7ae00-dbcb-4bd8-8210-edd96e2ec793')\"\n",
              "              title=\"Convert this dataframe to an interactive table.\"\n",
              "              style=\"display:none;\">\n",
              "        \n",
              "  <svg xmlns=\"http://www.w3.org/2000/svg\" height=\"24px\"viewBox=\"0 0 24 24\"\n",
              "       width=\"24px\">\n",
              "    <path d=\"M0 0h24v24H0V0z\" fill=\"none\"/>\n",
              "    <path d=\"M18.56 5.44l.94 2.06.94-2.06 2.06-.94-2.06-.94-.94-2.06-.94 2.06-2.06.94zm-11 1L8.5 8.5l.94-2.06 2.06-.94-2.06-.94L8.5 2.5l-.94 2.06-2.06.94zm10 10l.94 2.06.94-2.06 2.06-.94-2.06-.94-.94-2.06-.94 2.06-2.06.94z\"/><path d=\"M17.41 7.96l-1.37-1.37c-.4-.4-.92-.59-1.43-.59-.52 0-1.04.2-1.43.59L10.3 9.45l-7.72 7.72c-.78.78-.78 2.05 0 2.83L4 21.41c.39.39.9.59 1.41.59.51 0 1.02-.2 1.41-.59l7.78-7.78 2.81-2.81c.8-.78.8-2.07 0-2.86zM5.41 20L4 18.59l7.72-7.72 1.47 1.35L5.41 20z\"/>\n",
              "  </svg>\n",
              "      </button>\n",
              "      \n",
              "  <style>\n",
              "    .colab-df-container {\n",
              "      display:flex;\n",
              "      flex-wrap:wrap;\n",
              "      gap: 12px;\n",
              "    }\n",
              "\n",
              "    .colab-df-convert {\n",
              "      background-color: #E8F0FE;\n",
              "      border: none;\n",
              "      border-radius: 50%;\n",
              "      cursor: pointer;\n",
              "      display: none;\n",
              "      fill: #1967D2;\n",
              "      height: 32px;\n",
              "      padding: 0 0 0 0;\n",
              "      width: 32px;\n",
              "    }\n",
              "\n",
              "    .colab-df-convert:hover {\n",
              "      background-color: #E2EBFA;\n",
              "      box-shadow: 0px 1px 2px rgba(60, 64, 67, 0.3), 0px 1px 3px 1px rgba(60, 64, 67, 0.15);\n",
              "      fill: #174EA6;\n",
              "    }\n",
              "\n",
              "    [theme=dark] .colab-df-convert {\n",
              "      background-color: #3B4455;\n",
              "      fill: #D2E3FC;\n",
              "    }\n",
              "\n",
              "    [theme=dark] .colab-df-convert:hover {\n",
              "      background-color: #434B5C;\n",
              "      box-shadow: 0px 1px 3px 1px rgba(0, 0, 0, 0.15);\n",
              "      filter: drop-shadow(0px 1px 2px rgba(0, 0, 0, 0.3));\n",
              "      fill: #FFFFFF;\n",
              "    }\n",
              "  </style>\n",
              "\n",
              "      <script>\n",
              "        const buttonEl =\n",
              "          document.querySelector('#df-b1c7ae00-dbcb-4bd8-8210-edd96e2ec793 button.colab-df-convert');\n",
              "        buttonEl.style.display =\n",
              "          google.colab.kernel.accessAllowed ? 'block' : 'none';\n",
              "\n",
              "        async function convertToInteractive(key) {\n",
              "          const element = document.querySelector('#df-b1c7ae00-dbcb-4bd8-8210-edd96e2ec793');\n",
              "          const dataTable =\n",
              "            await google.colab.kernel.invokeFunction('convertToInteractive',\n",
              "                                                     [key], {});\n",
              "          if (!dataTable) return;\n",
              "\n",
              "          const docLinkHtml = 'Like what you see? Visit the ' +\n",
              "            '<a target=\"_blank\" href=https://colab.research.google.com/notebooks/data_table.ipynb>data table notebook</a>'\n",
              "            + ' to learn more about interactive tables.';\n",
              "          element.innerHTML = '';\n",
              "          dataTable['output_type'] = 'display_data';\n",
              "          await google.colab.output.renderOutput(dataTable, element);\n",
              "          const docLink = document.createElement('div');\n",
              "          docLink.innerHTML = docLinkHtml;\n",
              "          element.appendChild(docLink);\n",
              "        }\n",
              "      </script>\n",
              "    </div>\n",
              "  </div>\n",
              "  "
            ]
          },
          "metadata": {},
          "execution_count": 48
        }
      ],
      "source": [
        "data.query('(platform == \"PS4\") & (genre == \"Platform\") & (rating == \"E\")')"
      ]
    }
  ],
  "metadata": {
    "ExecuteTimeLog": [
      {
        "duration": 1803,
        "start_time": "2022-05-11T12:27:28.058Z"
      },
      {
        "duration": 43,
        "start_time": "2022-05-11T12:27:38.815Z"
      },
      {
        "duration": 7,
        "start_time": "2022-05-11T12:28:05.053Z"
      },
      {
        "duration": 24,
        "start_time": "2022-05-11T12:28:20.069Z"
      },
      {
        "duration": 20,
        "start_time": "2022-05-11T12:28:30.071Z"
      },
      {
        "duration": 123,
        "start_time": "2022-05-11T12:28:52.636Z"
      },
      {
        "duration": 26,
        "start_time": "2022-05-11T12:29:11.101Z"
      },
      {
        "duration": 20,
        "start_time": "2022-05-11T12:29:27.063Z"
      },
      {
        "duration": 36,
        "start_time": "2022-05-11T12:29:48.679Z"
      },
      {
        "duration": 11,
        "start_time": "2022-05-11T12:30:11.475Z"
      },
      {
        "duration": 36,
        "start_time": "2022-05-11T12:30:35.321Z"
      },
      {
        "duration": 26,
        "start_time": "2022-05-11T12:30:44.534Z"
      },
      {
        "duration": 146,
        "start_time": "2022-05-11T12:34:00.775Z"
      },
      {
        "duration": 10,
        "start_time": "2022-05-11T12:34:09.945Z"
      },
      {
        "duration": 6,
        "start_time": "2022-05-11T12:34:21.157Z"
      },
      {
        "duration": 6,
        "start_time": "2022-05-11T12:34:26.637Z"
      },
      {
        "duration": 8,
        "start_time": "2022-05-11T12:34:52.077Z"
      },
      {
        "duration": 6,
        "start_time": "2022-05-11T12:35:43.784Z"
      },
      {
        "duration": 6,
        "start_time": "2022-05-11T12:35:46.150Z"
      },
      {
        "duration": 11,
        "start_time": "2022-05-11T12:35:57.714Z"
      },
      {
        "duration": 7,
        "start_time": "2022-05-11T12:36:00.734Z"
      },
      {
        "duration": 7,
        "start_time": "2022-05-11T12:36:30.884Z"
      },
      {
        "duration": 7,
        "start_time": "2022-05-11T12:36:33.215Z"
      },
      {
        "duration": 12,
        "start_time": "2022-05-11T12:44:06.556Z"
      },
      {
        "duration": 10,
        "start_time": "2022-05-11T12:45:32.011Z"
      },
      {
        "duration": 10,
        "start_time": "2022-05-11T12:45:37.257Z"
      },
      {
        "duration": 5,
        "start_time": "2022-05-11T12:46:45.745Z"
      },
      {
        "duration": 31,
        "start_time": "2022-05-11T12:46:58.341Z"
      },
      {
        "duration": 50,
        "start_time": "2022-05-11T12:47:06.003Z"
      },
      {
        "duration": 31,
        "start_time": "2022-05-11T12:47:09.695Z"
      },
      {
        "duration": 5,
        "start_time": "2022-05-11T12:47:11.683Z"
      },
      {
        "duration": 29,
        "start_time": "2022-05-11T12:47:13.518Z"
      },
      {
        "duration": 6,
        "start_time": "2022-05-11T12:47:37.020Z"
      },
      {
        "duration": 13,
        "start_time": "2022-05-11T12:55:21.419Z"
      },
      {
        "duration": 20,
        "start_time": "2022-05-11T12:55:34.331Z"
      },
      {
        "duration": 11,
        "start_time": "2022-05-11T13:01:42.972Z"
      },
      {
        "duration": 7,
        "start_time": "2022-05-11T13:01:45.594Z"
      },
      {
        "duration": 13,
        "start_time": "2022-05-11T13:02:46.004Z"
      },
      {
        "duration": 3,
        "start_time": "2022-05-11T13:07:24.940Z"
      },
      {
        "duration": 4,
        "start_time": "2022-05-11T13:07:31.857Z"
      },
      {
        "duration": 38,
        "start_time": "2022-05-11T13:20:06.170Z"
      },
      {
        "duration": 52,
        "start_time": "2022-05-11T13:20:16.425Z"
      },
      {
        "duration": 33,
        "start_time": "2022-05-11T13:20:45.866Z"
      },
      {
        "duration": 49,
        "start_time": "2022-05-11T13:21:00.409Z"
      },
      {
        "duration": 26,
        "start_time": "2022-05-11T13:21:20.947Z"
      },
      {
        "duration": 8,
        "start_time": "2022-05-11T13:26:58.791Z"
      },
      {
        "duration": 6,
        "start_time": "2022-05-11T13:30:38.030Z"
      },
      {
        "duration": 8,
        "start_time": "2022-05-11T13:33:12.878Z"
      },
      {
        "duration": 14,
        "start_time": "2022-05-11T13:33:30.135Z"
      },
      {
        "duration": 32,
        "start_time": "2022-05-11T13:35:18.400Z"
      },
      {
        "duration": 7,
        "start_time": "2022-05-11T14:26:34.345Z"
      },
      {
        "duration": 35,
        "start_time": "2022-05-11T14:26:41.561Z"
      },
      {
        "duration": 12,
        "start_time": "2022-05-11T14:28:27.099Z"
      },
      {
        "duration": 34,
        "start_time": "2022-05-11T14:29:29.288Z"
      },
      {
        "duration": 171,
        "start_time": "2022-05-11T14:30:00.047Z"
      },
      {
        "duration": 10,
        "start_time": "2022-05-11T14:30:07.555Z"
      },
      {
        "duration": 24,
        "start_time": "2022-05-11T14:31:27.953Z"
      },
      {
        "duration": 504,
        "start_time": "2022-05-11T14:31:39.532Z"
      },
      {
        "duration": 784,
        "start_time": "2022-05-11T14:32:17.445Z"
      },
      {
        "duration": 484,
        "start_time": "2022-05-11T14:37:30.081Z"
      },
      {
        "duration": 505,
        "start_time": "2022-05-11T14:38:12.361Z"
      },
      {
        "duration": 627,
        "start_time": "2022-05-11T14:40:25.625Z"
      },
      {
        "duration": 687,
        "start_time": "2022-05-11T14:41:00.017Z"
      },
      {
        "duration": 44,
        "start_time": "2022-05-11T14:41:27.485Z"
      },
      {
        "duration": 632,
        "start_time": "2022-05-11T14:41:31.720Z"
      },
      {
        "duration": 25,
        "start_time": "2022-05-11T14:44:09.860Z"
      },
      {
        "duration": 22,
        "start_time": "2022-05-11T14:44:36.787Z"
      },
      {
        "duration": 35,
        "start_time": "2022-05-11T14:44:42.104Z"
      },
      {
        "duration": 900,
        "start_time": "2022-05-11T14:45:04.899Z"
      },
      {
        "duration": 16,
        "start_time": "2022-05-11T14:47:35.914Z"
      },
      {
        "duration": 15,
        "start_time": "2022-05-11T14:47:40.217Z"
      },
      {
        "duration": 16,
        "start_time": "2022-05-11T14:48:07.015Z"
      },
      {
        "duration": 34,
        "start_time": "2022-05-11T14:48:11.206Z"
      },
      {
        "duration": 1052,
        "start_time": "2022-05-11T14:48:32.464Z"
      },
      {
        "duration": 1962,
        "start_time": "2022-05-11T14:48:45.580Z"
      },
      {
        "duration": 983,
        "start_time": "2022-05-11T14:48:50.851Z"
      },
      {
        "duration": 74,
        "start_time": "2022-05-11T14:48:57.068Z"
      },
      {
        "duration": 33,
        "start_time": "2022-05-11T14:49:00.185Z"
      },
      {
        "duration": 2008,
        "start_time": "2022-05-11T14:49:03.989Z"
      },
      {
        "duration": 2480,
        "start_time": "2022-05-11T14:49:44.287Z"
      },
      {
        "duration": 50,
        "start_time": "2022-05-11T14:50:07.060Z"
      },
      {
        "duration": 29,
        "start_time": "2022-05-11T14:50:07.113Z"
      },
      {
        "duration": 12,
        "start_time": "2022-05-11T14:50:07.145Z"
      },
      {
        "duration": 11,
        "start_time": "2022-05-11T14:50:07.181Z"
      },
      {
        "duration": 27,
        "start_time": "2022-05-11T14:50:07.195Z"
      },
      {
        "duration": 11,
        "start_time": "2022-05-11T14:50:07.225Z"
      },
      {
        "duration": 46,
        "start_time": "2022-05-11T14:50:07.238Z"
      },
      {
        "duration": 27,
        "start_time": "2022-05-11T14:50:07.287Z"
      },
      {
        "duration": 9,
        "start_time": "2022-05-11T14:50:07.317Z"
      },
      {
        "duration": 16,
        "start_time": "2022-05-11T14:50:07.331Z"
      },
      {
        "duration": 40,
        "start_time": "2022-05-11T14:50:07.353Z"
      },
      {
        "duration": 17,
        "start_time": "2022-05-11T14:50:07.396Z"
      },
      {
        "duration": 14,
        "start_time": "2022-05-11T14:50:07.416Z"
      },
      {
        "duration": 12,
        "start_time": "2022-05-11T14:50:07.433Z"
      },
      {
        "duration": 40,
        "start_time": "2022-05-11T14:50:07.448Z"
      },
      {
        "duration": 55,
        "start_time": "2022-05-11T14:50:07.495Z"
      },
      {
        "duration": 42,
        "start_time": "2022-05-11T14:50:07.555Z"
      },
      {
        "duration": 36,
        "start_time": "2022-05-11T14:50:07.600Z"
      },
      {
        "duration": 729,
        "start_time": "2022-05-11T14:50:07.639Z"
      },
      {
        "duration": 13,
        "start_time": "2022-05-11T14:50:08.372Z"
      },
      {
        "duration": 11,
        "start_time": "2022-05-11T14:50:08.388Z"
      },
      {
        "duration": 36,
        "start_time": "2022-05-11T14:50:24.171Z"
      },
      {
        "duration": 21,
        "start_time": "2022-05-11T14:53:44.183Z"
      },
      {
        "duration": 32,
        "start_time": "2022-05-11T14:54:18.024Z"
      },
      {
        "duration": 238,
        "start_time": "2022-05-11T14:54:33.583Z"
      },
      {
        "duration": 49,
        "start_time": "2022-05-11T14:54:49.121Z"
      },
      {
        "duration": 29,
        "start_time": "2022-05-11T14:54:49.174Z"
      },
      {
        "duration": 11,
        "start_time": "2022-05-11T14:54:49.207Z"
      },
      {
        "duration": 12,
        "start_time": "2022-05-11T14:54:49.221Z"
      },
      {
        "duration": 64,
        "start_time": "2022-05-11T14:54:49.237Z"
      },
      {
        "duration": 28,
        "start_time": "2022-05-11T14:54:49.304Z"
      },
      {
        "duration": 21,
        "start_time": "2022-05-11T14:54:49.335Z"
      },
      {
        "duration": 58,
        "start_time": "2022-05-11T14:54:49.358Z"
      },
      {
        "duration": 8,
        "start_time": "2022-05-11T14:54:49.420Z"
      },
      {
        "duration": 13,
        "start_time": "2022-05-11T14:54:49.431Z"
      },
      {
        "duration": 35,
        "start_time": "2022-05-11T14:54:49.446Z"
      },
      {
        "duration": 32,
        "start_time": "2022-05-11T14:54:49.483Z"
      },
      {
        "duration": 7,
        "start_time": "2022-05-11T14:54:49.519Z"
      },
      {
        "duration": 8,
        "start_time": "2022-05-11T14:54:49.529Z"
      },
      {
        "duration": 14,
        "start_time": "2022-05-11T14:54:49.541Z"
      },
      {
        "duration": 145,
        "start_time": "2022-05-11T14:54:49.559Z"
      },
      {
        "duration": 31,
        "start_time": "2022-05-11T14:54:49.707Z"
      },
      {
        "duration": 47,
        "start_time": "2022-05-11T14:54:49.741Z"
      },
      {
        "duration": 245,
        "start_time": "2022-05-11T14:54:49.791Z"
      },
      {
        "duration": 4,
        "start_time": "2022-05-11T14:54:50.039Z"
      },
      {
        "duration": 9,
        "start_time": "2022-05-11T14:54:50.045Z"
      },
      {
        "duration": 23,
        "start_time": "2022-05-11T14:58:48.710Z"
      },
      {
        "duration": 13,
        "start_time": "2022-05-11T14:58:56.955Z"
      },
      {
        "duration": 23,
        "start_time": "2022-05-11T14:59:03.860Z"
      },
      {
        "duration": 213,
        "start_time": "2022-05-11T14:59:09.172Z"
      },
      {
        "duration": 47,
        "start_time": "2022-05-11T14:59:20.118Z"
      },
      {
        "duration": 26,
        "start_time": "2022-05-11T14:59:20.168Z"
      },
      {
        "duration": 9,
        "start_time": "2022-05-11T14:59:20.197Z"
      },
      {
        "duration": 15,
        "start_time": "2022-05-11T14:59:20.210Z"
      },
      {
        "duration": 61,
        "start_time": "2022-05-11T14:59:20.231Z"
      },
      {
        "duration": 27,
        "start_time": "2022-05-11T14:59:20.295Z"
      },
      {
        "duration": 25,
        "start_time": "2022-05-11T14:59:20.325Z"
      },
      {
        "duration": 38,
        "start_time": "2022-05-11T14:59:20.383Z"
      },
      {
        "duration": 12,
        "start_time": "2022-05-11T14:59:20.424Z"
      },
      {
        "duration": 48,
        "start_time": "2022-05-11T14:59:20.438Z"
      },
      {
        "duration": 7,
        "start_time": "2022-05-11T14:59:20.489Z"
      },
      {
        "duration": 28,
        "start_time": "2022-05-11T14:59:20.499Z"
      },
      {
        "duration": 42,
        "start_time": "2022-05-11T14:59:20.539Z"
      },
      {
        "duration": 7,
        "start_time": "2022-05-11T14:59:20.585Z"
      },
      {
        "duration": 19,
        "start_time": "2022-05-11T14:59:20.595Z"
      },
      {
        "duration": 25,
        "start_time": "2022-05-11T14:59:20.617Z"
      },
      {
        "duration": 39,
        "start_time": "2022-05-11T14:59:20.645Z"
      },
      {
        "duration": 27,
        "start_time": "2022-05-11T14:59:20.688Z"
      },
      {
        "duration": 265,
        "start_time": "2022-05-11T14:59:20.717Z"
      },
      {
        "duration": 4,
        "start_time": "2022-05-11T14:59:20.984Z"
      },
      {
        "duration": 9,
        "start_time": "2022-05-11T14:59:20.990Z"
      },
      {
        "duration": 22,
        "start_time": "2022-05-11T15:00:10.713Z"
      },
      {
        "duration": 228,
        "start_time": "2022-05-11T15:00:20.084Z"
      },
      {
        "duration": 48,
        "start_time": "2022-05-11T15:00:25.864Z"
      },
      {
        "duration": 27,
        "start_time": "2022-05-11T15:00:25.916Z"
      },
      {
        "duration": 6,
        "start_time": "2022-05-11T15:00:25.946Z"
      },
      {
        "duration": 8,
        "start_time": "2022-05-11T15:00:25.983Z"
      },
      {
        "duration": 22,
        "start_time": "2022-05-11T15:00:25.994Z"
      },
      {
        "duration": 21,
        "start_time": "2022-05-11T15:00:26.018Z"
      },
      {
        "duration": 0,
        "start_time": "2022-05-11T15:00:26.042Z"
      },
      {
        "duration": 0,
        "start_time": "2022-05-11T15:00:26.043Z"
      },
      {
        "duration": 0,
        "start_time": "2022-05-11T15:00:26.082Z"
      },
      {
        "duration": 0,
        "start_time": "2022-05-11T15:00:26.084Z"
      },
      {
        "duration": 0,
        "start_time": "2022-05-11T15:00:26.085Z"
      },
      {
        "duration": 0,
        "start_time": "2022-05-11T15:00:26.087Z"
      },
      {
        "duration": 0,
        "start_time": "2022-05-11T15:00:26.088Z"
      },
      {
        "duration": 0,
        "start_time": "2022-05-11T15:00:26.089Z"
      },
      {
        "duration": 0,
        "start_time": "2022-05-11T15:00:26.091Z"
      },
      {
        "duration": 0,
        "start_time": "2022-05-11T15:00:26.092Z"
      },
      {
        "duration": 0,
        "start_time": "2022-05-11T15:00:26.094Z"
      },
      {
        "duration": 0,
        "start_time": "2022-05-11T15:00:26.095Z"
      },
      {
        "duration": 497,
        "start_time": "2022-05-11T15:00:26.413Z"
      },
      {
        "duration": 3,
        "start_time": "2022-05-11T15:00:26.913Z"
      },
      {
        "duration": 7,
        "start_time": "2022-05-11T15:00:26.918Z"
      },
      {
        "duration": 29,
        "start_time": "2022-05-11T15:00:49.869Z"
      },
      {
        "duration": 24,
        "start_time": "2022-05-11T15:00:54.101Z"
      },
      {
        "duration": 14,
        "start_time": "2022-05-11T15:01:02.036Z"
      },
      {
        "duration": 34,
        "start_time": "2022-05-11T15:01:09.644Z"
      },
      {
        "duration": 10,
        "start_time": "2022-05-11T15:01:50.253Z"
      },
      {
        "duration": 34,
        "start_time": "2022-05-11T15:02:58.124Z"
      },
      {
        "duration": 16,
        "start_time": "2022-05-11T15:03:42.307Z"
      },
      {
        "duration": 29,
        "start_time": "2022-05-11T15:03:47.574Z"
      },
      {
        "duration": 13,
        "start_time": "2022-05-11T15:04:36.304Z"
      },
      {
        "duration": 33,
        "start_time": "2022-05-11T15:04:43.576Z"
      },
      {
        "duration": 38,
        "start_time": "2022-05-11T15:05:01.792Z"
      },
      {
        "duration": 318,
        "start_time": "2022-05-11T15:05:10.767Z"
      },
      {
        "duration": 10,
        "start_time": "2022-05-11T15:05:34.521Z"
      },
      {
        "duration": 11,
        "start_time": "2022-05-11T15:05:43.720Z"
      },
      {
        "duration": 18,
        "start_time": "2022-05-11T15:06:37.926Z"
      },
      {
        "duration": 12,
        "start_time": "2022-05-11T15:06:45.904Z"
      },
      {
        "duration": 11,
        "start_time": "2022-05-11T15:15:14.586Z"
      },
      {
        "duration": 18,
        "start_time": "2022-05-11T15:15:34.353Z"
      },
      {
        "duration": 26,
        "start_time": "2022-05-11T15:16:03.051Z"
      },
      {
        "duration": 23,
        "start_time": "2022-05-11T15:16:29.918Z"
      },
      {
        "duration": 17,
        "start_time": "2022-05-11T15:16:56.877Z"
      },
      {
        "duration": 14,
        "start_time": "2022-05-11T15:17:04.514Z"
      },
      {
        "duration": 17,
        "start_time": "2022-05-11T15:17:17.323Z"
      },
      {
        "duration": 27,
        "start_time": "2022-05-11T15:17:20.667Z"
      },
      {
        "duration": 14,
        "start_time": "2022-05-11T15:17:27.018Z"
      },
      {
        "duration": 1278,
        "start_time": "2022-05-11T15:17:50.361Z"
      },
      {
        "duration": 80,
        "start_time": "2022-05-11T15:18:01.919Z"
      },
      {
        "duration": 39,
        "start_time": "2022-05-11T15:18:02.004Z"
      },
      {
        "duration": 46,
        "start_time": "2022-05-11T15:18:02.047Z"
      },
      {
        "duration": 18,
        "start_time": "2022-05-11T15:18:02.096Z"
      },
      {
        "duration": 54,
        "start_time": "2022-05-11T15:18:02.120Z"
      },
      {
        "duration": 72,
        "start_time": "2022-05-11T15:18:02.178Z"
      },
      {
        "duration": 15,
        "start_time": "2022-05-11T15:18:02.253Z"
      },
      {
        "duration": 40,
        "start_time": "2022-05-11T15:18:02.272Z"
      },
      {
        "duration": 39,
        "start_time": "2022-05-11T15:18:02.315Z"
      },
      {
        "duration": 28,
        "start_time": "2022-05-11T15:18:02.358Z"
      },
      {
        "duration": 19,
        "start_time": "2022-05-11T15:18:02.390Z"
      },
      {
        "duration": 17,
        "start_time": "2022-05-11T15:18:02.413Z"
      },
      {
        "duration": 53,
        "start_time": "2022-05-11T15:18:02.434Z"
      },
      {
        "duration": 10,
        "start_time": "2022-05-11T15:18:02.494Z"
      },
      {
        "duration": 21,
        "start_time": "2022-05-11T15:18:02.508Z"
      },
      {
        "duration": 25,
        "start_time": "2022-05-11T15:18:02.533Z"
      },
      {
        "duration": 70,
        "start_time": "2022-05-11T15:18:02.562Z"
      },
      {
        "duration": 22,
        "start_time": "2022-05-11T15:18:02.636Z"
      },
      {
        "duration": 55,
        "start_time": "2022-05-11T15:18:02.661Z"
      },
      {
        "duration": 874,
        "start_time": "2022-05-11T15:18:02.719Z"
      },
      {
        "duration": 5,
        "start_time": "2022-05-11T15:18:03.597Z"
      },
      {
        "duration": 15,
        "start_time": "2022-05-11T15:18:03.606Z"
      },
      {
        "duration": 27,
        "start_time": "2022-05-11T15:18:27.746Z"
      },
      {
        "duration": 12,
        "start_time": "2022-05-11T15:18:40.371Z"
      },
      {
        "duration": 22,
        "start_time": "2022-05-11T15:19:17.778Z"
      },
      {
        "duration": 132,
        "start_time": "2022-05-11T15:19:30.050Z"
      },
      {
        "duration": 586,
        "start_time": "2022-05-11T15:19:51.257Z"
      },
      {
        "duration": 16,
        "start_time": "2022-05-11T15:20:46.172Z"
      },
      {
        "duration": 19,
        "start_time": "2022-05-11T15:20:53.940Z"
      },
      {
        "duration": 7,
        "start_time": "2022-05-11T15:21:00.249Z"
      },
      {
        "duration": 21,
        "start_time": "2022-05-11T15:21:07.428Z"
      },
      {
        "duration": 21,
        "start_time": "2022-05-11T15:21:22.066Z"
      },
      {
        "duration": 11,
        "start_time": "2022-05-11T15:21:52.936Z"
      },
      {
        "duration": 25,
        "start_time": "2022-05-11T15:21:55.768Z"
      },
      {
        "duration": 10,
        "start_time": "2022-05-11T15:22:11.062Z"
      },
      {
        "duration": 22,
        "start_time": "2022-05-11T15:22:11.987Z"
      },
      {
        "duration": 11,
        "start_time": "2022-05-11T15:22:16.111Z"
      },
      {
        "duration": 23,
        "start_time": "2022-05-11T15:22:17.844Z"
      },
      {
        "duration": 7,
        "start_time": "2022-05-11T15:22:35.914Z"
      },
      {
        "duration": 22,
        "start_time": "2022-05-11T15:22:37.943Z"
      },
      {
        "duration": 18,
        "start_time": "2022-05-11T15:22:59.172Z"
      },
      {
        "duration": 9,
        "start_time": "2022-05-11T15:23:04.817Z"
      },
      {
        "duration": 8,
        "start_time": "2022-05-11T15:24:22.258Z"
      },
      {
        "duration": 25,
        "start_time": "2022-05-11T15:24:24.617Z"
      },
      {
        "duration": 70,
        "start_time": "2022-05-11T15:24:45.783Z"
      },
      {
        "duration": 54,
        "start_time": "2022-05-11T15:24:45.857Z"
      },
      {
        "duration": 22,
        "start_time": "2022-05-11T15:24:45.915Z"
      },
      {
        "duration": 10,
        "start_time": "2022-05-11T15:24:45.941Z"
      },
      {
        "duration": 46,
        "start_time": "2022-05-11T15:24:45.954Z"
      },
      {
        "duration": 49,
        "start_time": "2022-05-11T15:24:46.003Z"
      },
      {
        "duration": 18,
        "start_time": "2022-05-11T15:24:46.082Z"
      },
      {
        "duration": 28,
        "start_time": "2022-05-11T15:24:46.104Z"
      },
      {
        "duration": 55,
        "start_time": "2022-05-11T15:24:46.135Z"
      },
      {
        "duration": 11,
        "start_time": "2022-05-11T15:24:46.197Z"
      },
      {
        "duration": 20,
        "start_time": "2022-05-11T15:24:46.211Z"
      },
      {
        "duration": 11,
        "start_time": "2022-05-11T15:24:46.235Z"
      },
      {
        "duration": 25,
        "start_time": "2022-05-11T15:24:46.282Z"
      },
      {
        "duration": 10,
        "start_time": "2022-05-11T15:24:46.310Z"
      },
      {
        "duration": 15,
        "start_time": "2022-05-11T15:24:46.324Z"
      },
      {
        "duration": 44,
        "start_time": "2022-05-11T15:24:46.344Z"
      },
      {
        "duration": 16,
        "start_time": "2022-05-11T15:24:46.391Z"
      },
      {
        "duration": 28,
        "start_time": "2022-05-11T15:24:46.411Z"
      },
      {
        "duration": 50,
        "start_time": "2022-05-11T15:24:46.443Z"
      },
      {
        "duration": 643,
        "start_time": "2022-05-11T15:24:46.496Z"
      },
      {
        "duration": 4,
        "start_time": "2022-05-11T15:24:47.141Z"
      },
      {
        "duration": 6,
        "start_time": "2022-05-11T15:24:47.148Z"
      },
      {
        "duration": 36,
        "start_time": "2022-05-11T15:26:06.987Z"
      },
      {
        "duration": 13,
        "start_time": "2022-05-11T15:27:23.529Z"
      },
      {
        "duration": 18,
        "start_time": "2022-05-11T15:27:41.421Z"
      },
      {
        "duration": 13,
        "start_time": "2022-05-11T15:28:03.972Z"
      },
      {
        "duration": 24,
        "start_time": "2022-05-11T15:28:12.833Z"
      },
      {
        "duration": 48,
        "start_time": "2022-05-11T15:28:20.851Z"
      },
      {
        "duration": 26,
        "start_time": "2022-05-11T15:28:20.902Z"
      },
      {
        "duration": 8,
        "start_time": "2022-05-11T15:28:20.930Z"
      },
      {
        "duration": 12,
        "start_time": "2022-05-11T15:28:20.941Z"
      },
      {
        "duration": 46,
        "start_time": "2022-05-11T15:28:20.955Z"
      },
      {
        "duration": 33,
        "start_time": "2022-05-11T15:28:21.003Z"
      },
      {
        "duration": 53,
        "start_time": "2022-05-11T15:28:21.039Z"
      },
      {
        "duration": 0,
        "start_time": "2022-05-11T15:28:21.095Z"
      },
      {
        "duration": 0,
        "start_time": "2022-05-11T15:28:21.097Z"
      },
      {
        "duration": 0,
        "start_time": "2022-05-11T15:28:21.098Z"
      },
      {
        "duration": 10,
        "start_time": "2022-05-11T15:28:21.272Z"
      },
      {
        "duration": 18,
        "start_time": "2022-05-11T15:28:21.285Z"
      },
      {
        "duration": 21,
        "start_time": "2022-05-11T15:28:21.306Z"
      },
      {
        "duration": 10,
        "start_time": "2022-05-11T15:28:21.330Z"
      },
      {
        "duration": 38,
        "start_time": "2022-05-11T15:28:21.344Z"
      },
      {
        "duration": 12,
        "start_time": "2022-05-11T15:28:21.385Z"
      },
      {
        "duration": 39,
        "start_time": "2022-05-11T15:28:21.399Z"
      },
      {
        "duration": 46,
        "start_time": "2022-05-11T15:28:21.441Z"
      },
      {
        "duration": 39,
        "start_time": "2022-05-11T15:28:21.490Z"
      },
      {
        "duration": 631,
        "start_time": "2022-05-11T15:28:21.531Z"
      },
      {
        "duration": 4,
        "start_time": "2022-05-11T15:28:22.165Z"
      },
      {
        "duration": 6,
        "start_time": "2022-05-11T15:28:22.183Z"
      },
      {
        "duration": 13,
        "start_time": "2022-05-11T15:28:55.566Z"
      },
      {
        "duration": 27,
        "start_time": "2022-05-11T15:29:02.782Z"
      },
      {
        "duration": 11,
        "start_time": "2022-05-11T15:29:28.273Z"
      },
      {
        "duration": 515,
        "start_time": "2022-05-11T15:29:40.824Z"
      },
      {
        "duration": 9,
        "start_time": "2022-05-11T15:31:43.097Z"
      },
      {
        "duration": 14,
        "start_time": "2022-05-11T15:32:07.017Z"
      },
      {
        "duration": 48,
        "start_time": "2022-05-11T15:32:15.958Z"
      },
      {
        "duration": 29,
        "start_time": "2022-05-11T15:32:16.010Z"
      },
      {
        "duration": 40,
        "start_time": "2022-05-11T15:32:16.042Z"
      },
      {
        "duration": 9,
        "start_time": "2022-05-11T15:32:16.085Z"
      },
      {
        "duration": 23,
        "start_time": "2022-05-11T15:32:16.097Z"
      },
      {
        "duration": 67,
        "start_time": "2022-05-11T15:32:16.122Z"
      },
      {
        "duration": 10,
        "start_time": "2022-05-11T15:32:16.191Z"
      },
      {
        "duration": 16,
        "start_time": "2022-05-11T15:32:16.203Z"
      },
      {
        "duration": 102,
        "start_time": "2022-05-11T15:32:16.222Z"
      },
      {
        "duration": 8,
        "start_time": "2022-05-11T15:32:16.327Z"
      },
      {
        "duration": 13,
        "start_time": "2022-05-11T15:32:16.338Z"
      },
      {
        "duration": 9,
        "start_time": "2022-05-11T15:32:16.354Z"
      },
      {
        "duration": 23,
        "start_time": "2022-05-11T15:32:16.367Z"
      },
      {
        "duration": 8,
        "start_time": "2022-05-11T15:32:16.396Z"
      },
      {
        "duration": 9,
        "start_time": "2022-05-11T15:32:16.408Z"
      },
      {
        "duration": 10,
        "start_time": "2022-05-11T15:32:16.420Z"
      },
      {
        "duration": 67,
        "start_time": "2022-05-11T15:32:16.432Z"
      },
      {
        "duration": 18,
        "start_time": "2022-05-11T15:32:16.502Z"
      },
      {
        "duration": 66,
        "start_time": "2022-05-11T15:32:16.523Z"
      },
      {
        "duration": 932,
        "start_time": "2022-05-11T15:32:16.592Z"
      },
      {
        "duration": 5,
        "start_time": "2022-05-11T15:32:17.528Z"
      },
      {
        "duration": 9,
        "start_time": "2022-05-11T15:32:17.536Z"
      },
      {
        "duration": 15,
        "start_time": "2022-05-11T15:32:38.050Z"
      },
      {
        "duration": 14,
        "start_time": "2022-05-11T15:44:20.584Z"
      },
      {
        "duration": 18,
        "start_time": "2022-05-11T15:44:34.945Z"
      },
      {
        "duration": 13,
        "start_time": "2022-05-11T15:44:52.407Z"
      },
      {
        "duration": 131,
        "start_time": "2022-05-11T15:47:18.234Z"
      },
      {
        "duration": 435,
        "start_time": "2022-05-11T15:47:29.351Z"
      },
      {
        "duration": 28,
        "start_time": "2022-05-11T15:48:06.211Z"
      },
      {
        "duration": 858,
        "start_time": "2022-05-11T15:48:12.903Z"
      },
      {
        "duration": 442,
        "start_time": "2022-05-11T15:48:30.303Z"
      },
      {
        "duration": 435,
        "start_time": "2022-05-11T15:49:05.840Z"
      },
      {
        "duration": 439,
        "start_time": "2022-05-11T15:49:30.031Z"
      },
      {
        "duration": 435,
        "start_time": "2022-05-11T15:49:38.655Z"
      },
      {
        "duration": 656,
        "start_time": "2022-05-11T15:50:23.599Z"
      },
      {
        "duration": 823,
        "start_time": "2022-05-11T15:51:38.689Z"
      },
      {
        "duration": 19,
        "start_time": "2022-05-11T15:52:59.673Z"
      },
      {
        "duration": 437,
        "start_time": "2022-05-11T15:53:13.722Z"
      },
      {
        "duration": 20,
        "start_time": "2022-05-11T15:53:18.600Z"
      },
      {
        "duration": 770,
        "start_time": "2022-05-11T15:53:45.814Z"
      },
      {
        "duration": 779,
        "start_time": "2022-05-11T15:54:10.790Z"
      },
      {
        "duration": 765,
        "start_time": "2022-05-11T15:54:30.101Z"
      },
      {
        "duration": 239,
        "start_time": "2022-05-11T15:54:37.838Z"
      },
      {
        "duration": 443,
        "start_time": "2022-05-11T15:54:50.878Z"
      },
      {
        "duration": 543,
        "start_time": "2022-05-11T15:55:02.225Z"
      },
      {
        "duration": 431,
        "start_time": "2022-05-11T15:55:20.107Z"
      },
      {
        "duration": 16,
        "start_time": "2022-05-11T18:09:31.690Z"
      },
      {
        "duration": 526,
        "start_time": "2022-05-11T18:09:43.186Z"
      },
      {
        "duration": 466,
        "start_time": "2022-05-11T18:10:50.565Z"
      },
      {
        "duration": 449,
        "start_time": "2022-05-11T18:11:13.067Z"
      },
      {
        "duration": 13,
        "start_time": "2022-05-11T18:17:30.143Z"
      },
      {
        "duration": 16,
        "start_time": "2022-05-11T18:17:36.610Z"
      },
      {
        "duration": 10,
        "start_time": "2022-05-11T18:20:06.520Z"
      },
      {
        "duration": 16,
        "start_time": "2022-05-11T18:21:48.331Z"
      },
      {
        "duration": 25,
        "start_time": "2022-05-11T18:33:13.316Z"
      },
      {
        "duration": 80,
        "start_time": "2022-05-11T18:33:30.803Z"
      },
      {
        "duration": 944,
        "start_time": "2022-05-11T18:33:58.961Z"
      },
      {
        "duration": 1129,
        "start_time": "2022-05-11T18:34:27.801Z"
      },
      {
        "duration": 743,
        "start_time": "2022-05-11T18:35:00.108Z"
      },
      {
        "duration": 12,
        "start_time": "2022-05-11T18:36:12.060Z"
      },
      {
        "duration": 2898,
        "start_time": "2022-05-11T18:36:46.483Z"
      },
      {
        "duration": 17,
        "start_time": "2022-05-11T18:37:17.659Z"
      },
      {
        "duration": 1960,
        "start_time": "2022-05-11T18:37:47.293Z"
      },
      {
        "duration": 15,
        "start_time": "2022-05-11T18:38:18.028Z"
      },
      {
        "duration": 15,
        "start_time": "2022-05-11T18:39:23.563Z"
      },
      {
        "duration": 204,
        "start_time": "2022-05-11T18:39:53.610Z"
      },
      {
        "duration": 40,
        "start_time": "2022-05-11T18:47:03.388Z"
      },
      {
        "duration": 13,
        "start_time": "2022-05-11T18:47:28.820Z"
      },
      {
        "duration": 324,
        "start_time": "2022-05-11T18:48:12.800Z"
      },
      {
        "duration": 333,
        "start_time": "2022-05-11T18:49:45.913Z"
      },
      {
        "duration": 235,
        "start_time": "2022-05-11T18:53:03.256Z"
      },
      {
        "duration": 337,
        "start_time": "2022-05-11T18:54:19.033Z"
      },
      {
        "duration": 567,
        "start_time": "2022-05-11T18:55:36.833Z"
      },
      {
        "duration": 341,
        "start_time": "2022-05-11T18:55:50.374Z"
      },
      {
        "duration": 20,
        "start_time": "2022-05-11T18:56:12.039Z"
      },
      {
        "duration": 118,
        "start_time": "2022-05-11T18:56:46.820Z"
      },
      {
        "duration": 135,
        "start_time": "2022-05-11T18:57:02.174Z"
      },
      {
        "duration": 430,
        "start_time": "2022-05-11T18:57:18.999Z"
      },
      {
        "duration": 447,
        "start_time": "2022-05-11T19:01:13.141Z"
      },
      {
        "duration": 453,
        "start_time": "2022-05-11T19:01:43.462Z"
      },
      {
        "duration": 498,
        "start_time": "2022-05-11T19:02:12.406Z"
      },
      {
        "duration": 554,
        "start_time": "2022-05-11T19:02:50.137Z"
      },
      {
        "duration": 350,
        "start_time": "2022-05-11T19:05:51.358Z"
      },
      {
        "duration": 449,
        "start_time": "2022-05-11T19:05:59.015Z"
      },
      {
        "duration": 70,
        "start_time": "2022-05-12T08:59:22.357Z"
      },
      {
        "duration": 1895,
        "start_time": "2022-05-12T08:59:31.328Z"
      },
      {
        "duration": 31,
        "start_time": "2022-05-12T08:59:33.226Z"
      },
      {
        "duration": 5,
        "start_time": "2022-05-12T08:59:33.259Z"
      },
      {
        "duration": 10,
        "start_time": "2022-05-12T08:59:33.267Z"
      },
      {
        "duration": 57,
        "start_time": "2022-05-12T08:59:33.281Z"
      },
      {
        "duration": 41,
        "start_time": "2022-05-12T08:59:33.340Z"
      },
      {
        "duration": 9,
        "start_time": "2022-05-12T08:59:33.384Z"
      },
      {
        "duration": 44,
        "start_time": "2022-05-12T08:59:33.396Z"
      },
      {
        "duration": 35,
        "start_time": "2022-05-12T08:59:33.443Z"
      },
      {
        "duration": 10,
        "start_time": "2022-05-12T08:59:33.481Z"
      },
      {
        "duration": 39,
        "start_time": "2022-05-12T08:59:33.494Z"
      },
      {
        "duration": 11,
        "start_time": "2022-05-12T08:59:33.536Z"
      },
      {
        "duration": 15,
        "start_time": "2022-05-12T08:59:33.549Z"
      },
      {
        "duration": 7,
        "start_time": "2022-05-12T08:59:33.569Z"
      },
      {
        "duration": 48,
        "start_time": "2022-05-12T08:59:33.579Z"
      },
      {
        "duration": 12,
        "start_time": "2022-05-12T08:59:33.630Z"
      },
      {
        "duration": 19,
        "start_time": "2022-05-12T08:59:33.644Z"
      },
      {
        "duration": 28,
        "start_time": "2022-05-12T08:59:33.665Z"
      },
      {
        "duration": 583,
        "start_time": "2022-05-12T08:59:33.696Z"
      },
      {
        "duration": 470,
        "start_time": "2022-05-12T08:59:34.282Z"
      },
      {
        "duration": 375,
        "start_time": "2022-05-12T08:59:34.754Z"
      },
      {
        "duration": 38,
        "start_time": "2022-05-12T08:59:35.132Z"
      },
      {
        "duration": 3,
        "start_time": "2022-05-12T08:59:35.172Z"
      },
      {
        "duration": 7,
        "start_time": "2022-05-12T08:59:35.178Z"
      },
      {
        "duration": 622,
        "start_time": "2022-05-12T09:01:05.358Z"
      },
      {
        "duration": 308,
        "start_time": "2022-05-12T09:03:12.480Z"
      },
      {
        "duration": 531,
        "start_time": "2022-05-12T09:04:55.466Z"
      },
      {
        "duration": 632,
        "start_time": "2022-05-12T09:05:51.993Z"
      },
      {
        "duration": 876,
        "start_time": "2022-05-12T09:06:14.494Z"
      },
      {
        "duration": 462,
        "start_time": "2022-05-12T09:31:21.677Z"
      },
      {
        "duration": 471,
        "start_time": "2022-05-12T09:31:40.941Z"
      },
      {
        "duration": 464,
        "start_time": "2022-05-12T09:32:06.200Z"
      },
      {
        "duration": 461,
        "start_time": "2022-05-12T09:32:26.576Z"
      },
      {
        "duration": 317,
        "start_time": "2022-05-12T09:41:52.093Z"
      },
      {
        "duration": 567,
        "start_time": "2022-05-12T09:42:02.575Z"
      },
      {
        "duration": 450,
        "start_time": "2022-05-12T09:42:11.629Z"
      },
      {
        "duration": 344,
        "start_time": "2022-05-12T09:42:19.933Z"
      },
      {
        "duration": 148,
        "start_time": "2022-05-12T09:45:55.581Z"
      },
      {
        "duration": 142,
        "start_time": "2022-05-12T09:46:40.812Z"
      },
      {
        "duration": 1104,
        "start_time": "2022-05-12T09:46:57.340Z"
      },
      {
        "duration": 22,
        "start_time": "2022-05-12T09:48:16.565Z"
      },
      {
        "duration": 3286,
        "start_time": "2022-05-12T09:48:57.410Z"
      },
      {
        "duration": 24,
        "start_time": "2022-05-12T09:49:00.699Z"
      },
      {
        "duration": 17,
        "start_time": "2022-05-12T09:49:00.726Z"
      },
      {
        "duration": 15,
        "start_time": "2022-05-12T09:49:00.746Z"
      },
      {
        "duration": 25,
        "start_time": "2022-05-12T09:49:00.764Z"
      },
      {
        "duration": 45,
        "start_time": "2022-05-12T09:49:00.792Z"
      },
      {
        "duration": 17,
        "start_time": "2022-05-12T09:49:00.839Z"
      },
      {
        "duration": 26,
        "start_time": "2022-05-12T09:49:00.858Z"
      },
      {
        "duration": 37,
        "start_time": "2022-05-12T09:49:00.887Z"
      },
      {
        "duration": 7,
        "start_time": "2022-05-12T09:49:00.928Z"
      },
      {
        "duration": 25,
        "start_time": "2022-05-12T09:49:00.937Z"
      },
      {
        "duration": 19,
        "start_time": "2022-05-12T09:49:00.965Z"
      },
      {
        "duration": 23,
        "start_time": "2022-05-12T09:49:00.986Z"
      },
      {
        "duration": 14,
        "start_time": "2022-05-12T09:49:01.011Z"
      },
      {
        "duration": 9,
        "start_time": "2022-05-12T09:49:01.028Z"
      },
      {
        "duration": 16,
        "start_time": "2022-05-12T09:49:01.039Z"
      },
      {
        "duration": 21,
        "start_time": "2022-05-12T09:49:01.058Z"
      },
      {
        "duration": 46,
        "start_time": "2022-05-12T09:49:01.081Z"
      },
      {
        "duration": 697,
        "start_time": "2022-05-12T09:49:01.130Z"
      },
      {
        "duration": 465,
        "start_time": "2022-05-12T09:49:01.829Z"
      },
      {
        "duration": 500,
        "start_time": "2022-05-12T09:49:02.297Z"
      },
      {
        "duration": 585,
        "start_time": "2022-05-12T09:49:02.799Z"
      },
      {
        "duration": 37,
        "start_time": "2022-05-12T09:49:03.387Z"
      },
      {
        "duration": 0,
        "start_time": "2022-05-12T09:49:03.427Z"
      },
      {
        "duration": 0,
        "start_time": "2022-05-12T09:49:03.428Z"
      },
      {
        "duration": 9,
        "start_time": "2022-05-12T09:52:12.052Z"
      },
      {
        "duration": 197,
        "start_time": "2022-05-12T09:53:03.612Z"
      },
      {
        "duration": 117,
        "start_time": "2022-05-12T09:53:12.490Z"
      },
      {
        "duration": 19,
        "start_time": "2022-05-12T09:53:21.043Z"
      },
      {
        "duration": 19,
        "start_time": "2022-05-12T09:54:39.980Z"
      },
      {
        "duration": 19,
        "start_time": "2022-05-12T09:55:44.443Z"
      },
      {
        "duration": 33,
        "start_time": "2022-05-12T09:58:18.900Z"
      },
      {
        "duration": 26,
        "start_time": "2022-05-12T09:58:52.819Z"
      },
      {
        "duration": 148,
        "start_time": "2022-05-12T09:59:07.762Z"
      },
      {
        "duration": 168,
        "start_time": "2022-05-12T10:00:09.818Z"
      },
      {
        "duration": 146,
        "start_time": "2022-05-12T10:00:19.548Z"
      },
      {
        "duration": 175,
        "start_time": "2022-05-12T10:00:25.538Z"
      },
      {
        "duration": 173,
        "start_time": "2022-05-12T10:00:36.083Z"
      },
      {
        "duration": 151,
        "start_time": "2022-05-12T10:00:44.537Z"
      },
      {
        "duration": 175,
        "start_time": "2022-05-12T10:00:53.041Z"
      },
      {
        "duration": 263,
        "start_time": "2022-05-12T10:01:01.889Z"
      },
      {
        "duration": 14,
        "start_time": "2022-05-12T12:03:44.664Z"
      },
      {
        "duration": 1196,
        "start_time": "2022-05-12T12:03:53.245Z"
      },
      {
        "duration": 1317,
        "start_time": "2022-05-12T12:04:49.196Z"
      },
      {
        "duration": 154,
        "start_time": "2022-05-12T12:06:29.686Z"
      },
      {
        "duration": 1303,
        "start_time": "2022-05-12T12:06:46.206Z"
      },
      {
        "duration": 175,
        "start_time": "2022-05-12T12:18:16.765Z"
      },
      {
        "duration": 216,
        "start_time": "2022-05-12T12:18:32.540Z"
      },
      {
        "duration": 2230,
        "start_time": "2022-05-12T12:18:47.563Z"
      },
      {
        "duration": 189,
        "start_time": "2022-05-12T12:20:30.298Z"
      },
      {
        "duration": 175,
        "start_time": "2022-05-12T12:20:40.243Z"
      },
      {
        "duration": 176,
        "start_time": "2022-05-12T12:21:00.467Z"
      },
      {
        "duration": 176,
        "start_time": "2022-05-12T12:21:06.067Z"
      },
      {
        "duration": 204,
        "start_time": "2022-05-12T12:25:24.795Z"
      },
      {
        "duration": 25,
        "start_time": "2022-05-12T12:25:57.931Z"
      },
      {
        "duration": 198,
        "start_time": "2022-05-12T12:26:06.051Z"
      },
      {
        "duration": 193,
        "start_time": "2022-05-12T12:26:17.323Z"
      },
      {
        "duration": 8,
        "start_time": "2022-05-12T12:26:44.314Z"
      },
      {
        "duration": 9,
        "start_time": "2022-05-12T12:26:52.707Z"
      },
      {
        "duration": 224,
        "start_time": "2022-05-12T12:27:09.645Z"
      },
      {
        "duration": 313,
        "start_time": "2022-05-12T12:27:31.798Z"
      },
      {
        "duration": 201,
        "start_time": "2022-05-12T12:28:01.262Z"
      },
      {
        "duration": 209,
        "start_time": "2022-05-12T12:31:01.829Z"
      },
      {
        "duration": 198,
        "start_time": "2022-05-12T12:31:20.309Z"
      },
      {
        "duration": 189,
        "start_time": "2022-05-12T12:32:07.460Z"
      },
      {
        "duration": 199,
        "start_time": "2022-05-12T12:32:13.243Z"
      },
      {
        "duration": 494,
        "start_time": "2022-05-12T12:32:33.242Z"
      },
      {
        "duration": 189,
        "start_time": "2022-05-12T12:32:46.856Z"
      },
      {
        "duration": 298,
        "start_time": "2022-05-12T12:33:24.443Z"
      },
      {
        "duration": 201,
        "start_time": "2022-05-12T12:34:06.184Z"
      },
      {
        "duration": 182,
        "start_time": "2022-05-12T12:34:15.046Z"
      },
      {
        "duration": 257,
        "start_time": "2022-05-12T12:35:03.898Z"
      },
      {
        "duration": 249,
        "start_time": "2022-05-12T12:35:30.829Z"
      },
      {
        "duration": 34,
        "start_time": "2022-05-12T12:38:28.984Z"
      },
      {
        "duration": 421,
        "start_time": "2022-05-12T12:44:33.015Z"
      },
      {
        "duration": 409,
        "start_time": "2022-05-12T12:46:43.472Z"
      },
      {
        "duration": 397,
        "start_time": "2022-05-12T12:47:00.080Z"
      },
      {
        "duration": 367,
        "start_time": "2022-05-12T12:47:22.914Z"
      },
      {
        "duration": 353,
        "start_time": "2022-05-12T12:47:32.320Z"
      },
      {
        "duration": 339,
        "start_time": "2022-05-12T12:47:52.273Z"
      },
      {
        "duration": 345,
        "start_time": "2022-05-12T12:48:01.160Z"
      },
      {
        "duration": 1149,
        "start_time": "2022-05-12T12:51:38.960Z"
      },
      {
        "duration": 465,
        "start_time": "2022-05-12T12:52:05.791Z"
      },
      {
        "duration": 463,
        "start_time": "2022-05-12T12:53:16.478Z"
      },
      {
        "duration": 486,
        "start_time": "2022-05-12T12:54:10.374Z"
      },
      {
        "duration": 517,
        "start_time": "2022-05-12T12:54:19.726Z"
      },
      {
        "duration": 761,
        "start_time": "2022-05-12T12:54:35.895Z"
      },
      {
        "duration": 36,
        "start_time": "2022-05-12T12:56:40.041Z"
      },
      {
        "duration": 20,
        "start_time": "2022-05-12T12:56:57.023Z"
      },
      {
        "duration": 808,
        "start_time": "2022-05-12T12:57:08.847Z"
      },
      {
        "duration": 536,
        "start_time": "2022-05-12T12:57:47.271Z"
      },
      {
        "duration": 1065,
        "start_time": "2022-05-12T12:58:05.163Z"
      },
      {
        "duration": 1343,
        "start_time": "2022-05-12T13:24:46.942Z"
      },
      {
        "duration": 20,
        "start_time": "2022-05-12T13:24:48.287Z"
      },
      {
        "duration": 3,
        "start_time": "2022-05-12T13:24:48.308Z"
      },
      {
        "duration": 9,
        "start_time": "2022-05-12T13:24:48.313Z"
      },
      {
        "duration": 34,
        "start_time": "2022-05-12T13:24:48.324Z"
      },
      {
        "duration": 23,
        "start_time": "2022-05-12T13:24:48.359Z"
      },
      {
        "duration": 6,
        "start_time": "2022-05-12T13:24:48.384Z"
      },
      {
        "duration": 11,
        "start_time": "2022-05-12T13:24:48.391Z"
      },
      {
        "duration": 32,
        "start_time": "2022-05-12T13:24:48.404Z"
      },
      {
        "duration": 8,
        "start_time": "2022-05-12T13:24:48.438Z"
      },
      {
        "duration": 20,
        "start_time": "2022-05-12T13:24:48.448Z"
      },
      {
        "duration": 8,
        "start_time": "2022-05-12T13:24:48.469Z"
      },
      {
        "duration": 25,
        "start_time": "2022-05-12T13:24:48.478Z"
      },
      {
        "duration": 8,
        "start_time": "2022-05-12T13:24:48.506Z"
      },
      {
        "duration": 26,
        "start_time": "2022-05-12T13:24:48.515Z"
      },
      {
        "duration": 20,
        "start_time": "2022-05-12T13:24:48.543Z"
      },
      {
        "duration": 26,
        "start_time": "2022-05-12T13:24:48.567Z"
      },
      {
        "duration": 23,
        "start_time": "2022-05-12T13:24:48.595Z"
      },
      {
        "duration": 296,
        "start_time": "2022-05-12T13:24:48.619Z"
      },
      {
        "duration": 258,
        "start_time": "2022-05-12T13:24:48.917Z"
      },
      {
        "duration": 212,
        "start_time": "2022-05-12T13:24:49.177Z"
      },
      {
        "duration": 295,
        "start_time": "2022-05-12T13:24:49.391Z"
      },
      {
        "duration": 7,
        "start_time": "2022-05-12T13:24:49.688Z"
      },
      {
        "duration": 198,
        "start_time": "2022-05-12T13:24:49.696Z"
      },
      {
        "duration": 119,
        "start_time": "2022-05-12T13:25:27.368Z"
      },
      {
        "duration": 164,
        "start_time": "2022-05-12T13:25:53.841Z"
      },
      {
        "duration": 19,
        "start_time": "2022-05-12T13:26:36.984Z"
      },
      {
        "duration": 18,
        "start_time": "2022-05-12T13:26:44.225Z"
      },
      {
        "duration": 18,
        "start_time": "2022-05-12T13:27:53.633Z"
      },
      {
        "duration": 202,
        "start_time": "2022-05-12T13:30:34.014Z"
      },
      {
        "duration": 291,
        "start_time": "2022-05-12T13:31:15.519Z"
      },
      {
        "duration": 564,
        "start_time": "2022-05-12T13:32:15.086Z"
      },
      {
        "duration": 297,
        "start_time": "2022-05-12T13:32:29.957Z"
      },
      {
        "duration": 326,
        "start_time": "2022-05-12T13:34:03.461Z"
      },
      {
        "duration": 163,
        "start_time": "2022-05-12T13:34:15.335Z"
      },
      {
        "duration": 86,
        "start_time": "2022-05-12T13:34:35.479Z"
      },
      {
        "duration": 335,
        "start_time": "2022-05-12T13:34:50.303Z"
      },
      {
        "duration": 165,
        "start_time": "2022-05-12T13:34:56.146Z"
      },
      {
        "duration": 330,
        "start_time": "2022-05-12T13:37:46.982Z"
      },
      {
        "duration": 5,
        "start_time": "2022-05-12T13:37:53.780Z"
      },
      {
        "duration": 271,
        "start_time": "2022-05-12T13:37:55.925Z"
      },
      {
        "duration": 101,
        "start_time": "2022-05-12T13:41:20.590Z"
      },
      {
        "duration": 282,
        "start_time": "2022-05-12T13:41:52.160Z"
      },
      {
        "duration": 287,
        "start_time": "2022-05-12T13:41:59.397Z"
      },
      {
        "duration": 297,
        "start_time": "2022-05-12T13:42:05.777Z"
      },
      {
        "duration": 469,
        "start_time": "2022-05-12T13:44:46.681Z"
      },
      {
        "duration": 202,
        "start_time": "2022-05-12T13:44:58.376Z"
      },
      {
        "duration": 192,
        "start_time": "2022-05-12T13:45:13.508Z"
      },
      {
        "duration": 280,
        "start_time": "2022-05-12T13:45:24.206Z"
      },
      {
        "duration": 196,
        "start_time": "2022-05-12T13:45:34.517Z"
      },
      {
        "duration": 87,
        "start_time": "2022-05-12T13:45:43.021Z"
      },
      {
        "duration": 190,
        "start_time": "2022-05-12T13:45:56.110Z"
      },
      {
        "duration": 147,
        "start_time": "2022-05-12T13:46:45.653Z"
      },
      {
        "duration": 154,
        "start_time": "2022-05-12T13:47:05.907Z"
      },
      {
        "duration": 400,
        "start_time": "2022-05-12T13:47:14.332Z"
      },
      {
        "duration": 287,
        "start_time": "2022-05-12T13:47:32.501Z"
      },
      {
        "duration": 352,
        "start_time": "2022-05-12T13:47:59.327Z"
      },
      {
        "duration": 114,
        "start_time": "2022-05-12T13:58:08.514Z"
      },
      {
        "duration": 118,
        "start_time": "2022-05-12T13:58:21.019Z"
      },
      {
        "duration": 5,
        "start_time": "2022-05-12T13:58:40.321Z"
      },
      {
        "duration": 127,
        "start_time": "2022-05-12T13:58:41.949Z"
      },
      {
        "duration": 136,
        "start_time": "2022-05-12T13:58:47.201Z"
      },
      {
        "duration": 106,
        "start_time": "2022-05-12T14:08:28.640Z"
      },
      {
        "duration": 28,
        "start_time": "2022-05-12T14:10:06.850Z"
      },
      {
        "duration": 23,
        "start_time": "2022-05-12T14:10:18.113Z"
      },
      {
        "duration": 116,
        "start_time": "2022-05-12T14:11:33.145Z"
      },
      {
        "duration": 297,
        "start_time": "2022-05-12T14:11:49.159Z"
      },
      {
        "duration": 415,
        "start_time": "2022-05-12T14:13:47.697Z"
      },
      {
        "duration": 105,
        "start_time": "2022-05-12T14:14:42.224Z"
      },
      {
        "duration": 185,
        "start_time": "2022-05-12T14:15:01.617Z"
      },
      {
        "duration": 176,
        "start_time": "2022-05-12T14:15:22.893Z"
      },
      {
        "duration": 254,
        "start_time": "2022-05-12T14:16:04.518Z"
      },
      {
        "duration": 193,
        "start_time": "2022-05-12T14:16:45.475Z"
      },
      {
        "duration": 186,
        "start_time": "2022-05-12T14:16:56.884Z"
      },
      {
        "duration": 260,
        "start_time": "2022-05-12T14:17:25.049Z"
      },
      {
        "duration": 120,
        "start_time": "2022-05-12T14:17:40.447Z"
      },
      {
        "duration": 116,
        "start_time": "2022-05-12T14:17:48.512Z"
      },
      {
        "duration": 111,
        "start_time": "2022-05-12T14:17:51.872Z"
      },
      {
        "duration": 260,
        "start_time": "2022-05-12T14:17:58.066Z"
      },
      {
        "duration": 187,
        "start_time": "2022-05-12T14:18:02.918Z"
      },
      {
        "duration": 230,
        "start_time": "2022-05-12T14:18:15.466Z"
      },
      {
        "duration": 300,
        "start_time": "2022-05-12T14:18:21.032Z"
      },
      {
        "duration": 241,
        "start_time": "2022-05-12T14:18:26.057Z"
      },
      {
        "duration": 274,
        "start_time": "2022-05-12T14:18:30.135Z"
      },
      {
        "duration": 375,
        "start_time": "2022-05-12T14:18:38.791Z"
      },
      {
        "duration": 358,
        "start_time": "2022-05-12T14:19:23.058Z"
      },
      {
        "duration": 281,
        "start_time": "2022-05-12T14:19:51.311Z"
      },
      {
        "duration": 266,
        "start_time": "2022-05-12T14:19:56.998Z"
      },
      {
        "duration": 14,
        "start_time": "2022-05-12T14:26:03.212Z"
      },
      {
        "duration": 16,
        "start_time": "2022-05-12T14:26:12.240Z"
      },
      {
        "duration": 15,
        "start_time": "2022-05-12T14:26:18.710Z"
      },
      {
        "duration": 304,
        "start_time": "2022-05-12T14:26:26.219Z"
      },
      {
        "duration": 176,
        "start_time": "2022-05-12T14:27:06.118Z"
      },
      {
        "duration": 284,
        "start_time": "2022-05-12T14:29:13.542Z"
      },
      {
        "duration": 273,
        "start_time": "2022-05-12T14:29:23.748Z"
      },
      {
        "duration": 380,
        "start_time": "2022-05-12T14:29:29.854Z"
      },
      {
        "duration": 236,
        "start_time": "2022-05-12T14:30:06.449Z"
      },
      {
        "duration": 270,
        "start_time": "2022-05-12T14:30:19.229Z"
      },
      {
        "duration": 479,
        "start_time": "2022-05-12T14:35:15.318Z"
      },
      {
        "duration": 112,
        "start_time": "2022-05-12T14:35:51.721Z"
      },
      {
        "duration": 162,
        "start_time": "2022-05-12T14:37:05.689Z"
      },
      {
        "duration": 138,
        "start_time": "2022-05-12T14:37:13.095Z"
      },
      {
        "duration": 199,
        "start_time": "2022-05-12T14:37:23.104Z"
      },
      {
        "duration": 138,
        "start_time": "2022-05-12T14:40:07.542Z"
      },
      {
        "duration": 363,
        "start_time": "2022-05-12T17:04:04.630Z"
      },
      {
        "duration": 363,
        "start_time": "2022-05-12T17:04:23.144Z"
      },
      {
        "duration": 23,
        "start_time": "2022-05-12T17:06:40.095Z"
      },
      {
        "duration": 147,
        "start_time": "2022-05-12T17:10:46.997Z"
      },
      {
        "duration": 133,
        "start_time": "2022-05-12T17:10:53.586Z"
      },
      {
        "duration": 140,
        "start_time": "2022-05-12T17:11:22.204Z"
      },
      {
        "duration": 172,
        "start_time": "2022-05-12T17:11:49.745Z"
      },
      {
        "duration": 160,
        "start_time": "2022-05-12T17:12:02.714Z"
      },
      {
        "duration": 157,
        "start_time": "2022-05-12T17:12:16.496Z"
      },
      {
        "duration": 296,
        "start_time": "2022-05-12T17:16:48.689Z"
      },
      {
        "duration": 167,
        "start_time": "2022-05-12T17:17:23.746Z"
      },
      {
        "duration": 12,
        "start_time": "2022-05-12T17:17:48.145Z"
      },
      {
        "duration": 219,
        "start_time": "2022-05-12T17:17:55.585Z"
      },
      {
        "duration": 204,
        "start_time": "2022-05-12T17:18:14.714Z"
      },
      {
        "duration": 177,
        "start_time": "2022-05-12T17:18:42.546Z"
      },
      {
        "duration": 170,
        "start_time": "2022-05-12T17:18:51.753Z"
      },
      {
        "duration": 278,
        "start_time": "2022-05-12T17:19:06.625Z"
      },
      {
        "duration": 185,
        "start_time": "2022-05-12T17:20:17.233Z"
      },
      {
        "duration": 182,
        "start_time": "2022-05-12T17:21:43.825Z"
      },
      {
        "duration": 184,
        "start_time": "2022-05-12T17:22:36.579Z"
      },
      {
        "duration": 292,
        "start_time": "2022-05-12T17:23:06.240Z"
      },
      {
        "duration": 272,
        "start_time": "2022-05-12T17:23:22.269Z"
      },
      {
        "duration": 269,
        "start_time": "2022-05-12T17:24:57.220Z"
      },
      {
        "duration": 188,
        "start_time": "2022-05-12T17:25:17.279Z"
      },
      {
        "duration": 236,
        "start_time": "2022-05-12T17:25:28.711Z"
      },
      {
        "duration": 194,
        "start_time": "2022-05-12T17:25:35.472Z"
      },
      {
        "duration": 325,
        "start_time": "2022-05-12T17:25:46.495Z"
      },
      {
        "duration": 137,
        "start_time": "2022-05-12T17:26:00.719Z"
      },
      {
        "duration": 153,
        "start_time": "2022-05-12T17:26:43.418Z"
      },
      {
        "duration": 243,
        "start_time": "2022-05-12T17:27:17.656Z"
      },
      {
        "duration": 8,
        "start_time": "2022-05-12T17:34:28.356Z"
      },
      {
        "duration": 283,
        "start_time": "2022-05-12T17:36:38.636Z"
      },
      {
        "duration": 32,
        "start_time": "2022-05-12T17:38:34.909Z"
      },
      {
        "duration": 103,
        "start_time": "2022-05-12T17:38:46.957Z"
      },
      {
        "duration": 101,
        "start_time": "2022-05-12T17:38:53.277Z"
      },
      {
        "duration": 103,
        "start_time": "2022-05-12T17:39:04.788Z"
      },
      {
        "duration": 163,
        "start_time": "2022-05-12T17:39:08.472Z"
      },
      {
        "duration": 160,
        "start_time": "2022-05-12T17:39:40.430Z"
      },
      {
        "duration": 232,
        "start_time": "2022-05-12T17:40:01.547Z"
      },
      {
        "duration": 224,
        "start_time": "2022-05-12T17:40:40.941Z"
      },
      {
        "duration": 222,
        "start_time": "2022-05-12T17:41:10.083Z"
      },
      {
        "duration": 6,
        "start_time": "2022-05-12T17:42:59.243Z"
      },
      {
        "duration": 161,
        "start_time": "2022-05-12T17:47:35.123Z"
      },
      {
        "duration": 230,
        "start_time": "2022-05-12T17:48:35.619Z"
      },
      {
        "duration": 165,
        "start_time": "2022-05-12T17:49:34.644Z"
      },
      {
        "duration": 166,
        "start_time": "2022-05-12T17:50:06.249Z"
      },
      {
        "duration": 176,
        "start_time": "2022-05-12T17:50:43.715Z"
      },
      {
        "duration": 149,
        "start_time": "2022-05-12T17:50:51.069Z"
      },
      {
        "duration": 155,
        "start_time": "2022-05-12T17:50:55.523Z"
      },
      {
        "duration": 179,
        "start_time": "2022-05-12T17:51:18.683Z"
      },
      {
        "duration": 102,
        "start_time": "2022-05-12T17:52:07.507Z"
      },
      {
        "duration": 111,
        "start_time": "2022-05-12T17:52:28.555Z"
      },
      {
        "duration": 103,
        "start_time": "2022-05-12T17:52:47.106Z"
      },
      {
        "duration": 95,
        "start_time": "2022-05-12T17:52:52.476Z"
      },
      {
        "duration": 110,
        "start_time": "2022-05-12T17:53:01.314Z"
      },
      {
        "duration": 102,
        "start_time": "2022-05-12T17:53:16.443Z"
      },
      {
        "duration": 192,
        "start_time": "2022-05-12T17:55:03.121Z"
      },
      {
        "duration": 192,
        "start_time": "2022-05-12T17:55:22.827Z"
      },
      {
        "duration": 254,
        "start_time": "2022-05-12T17:55:33.490Z"
      },
      {
        "duration": 108,
        "start_time": "2022-05-12T17:56:06.479Z"
      },
      {
        "duration": 170,
        "start_time": "2022-05-12T17:56:14.849Z"
      },
      {
        "duration": 197,
        "start_time": "2022-05-12T18:00:28.403Z"
      },
      {
        "duration": 184,
        "start_time": "2022-05-12T18:00:59.978Z"
      },
      {
        "duration": 10,
        "start_time": "2022-05-12T18:04:44.665Z"
      },
      {
        "duration": 9,
        "start_time": "2022-05-12T18:04:52.985Z"
      },
      {
        "duration": 196,
        "start_time": "2022-05-12T18:04:59.921Z"
      },
      {
        "duration": 306,
        "start_time": "2022-05-12T18:05:14.850Z"
      },
      {
        "duration": 199,
        "start_time": "2022-05-12T18:09:07.232Z"
      },
      {
        "duration": 244,
        "start_time": "2022-05-12T18:09:50.585Z"
      },
      {
        "duration": 1919,
        "start_time": "2022-05-13T09:53:05.375Z"
      },
      {
        "duration": 31,
        "start_time": "2022-05-13T09:53:07.297Z"
      },
      {
        "duration": 22,
        "start_time": "2022-05-13T09:53:07.331Z"
      },
      {
        "duration": 19,
        "start_time": "2022-05-13T09:53:07.356Z"
      },
      {
        "duration": 31,
        "start_time": "2022-05-13T09:53:07.377Z"
      },
      {
        "duration": 59,
        "start_time": "2022-05-13T09:53:07.410Z"
      },
      {
        "duration": 10,
        "start_time": "2022-05-13T09:53:07.471Z"
      },
      {
        "duration": 34,
        "start_time": "2022-05-13T09:53:07.483Z"
      },
      {
        "duration": 45,
        "start_time": "2022-05-13T09:53:07.519Z"
      },
      {
        "duration": 7,
        "start_time": "2022-05-13T09:53:07.568Z"
      },
      {
        "duration": 20,
        "start_time": "2022-05-13T09:53:07.578Z"
      },
      {
        "duration": 8,
        "start_time": "2022-05-13T09:53:07.600Z"
      },
      {
        "duration": 45,
        "start_time": "2022-05-13T09:53:07.611Z"
      },
      {
        "duration": 10,
        "start_time": "2022-05-13T09:53:07.658Z"
      },
      {
        "duration": 22,
        "start_time": "2022-05-13T09:53:07.670Z"
      },
      {
        "duration": 18,
        "start_time": "2022-05-13T09:53:07.695Z"
      },
      {
        "duration": 33,
        "start_time": "2022-05-13T09:53:07.715Z"
      },
      {
        "duration": 36,
        "start_time": "2022-05-13T09:53:07.750Z"
      },
      {
        "duration": 591,
        "start_time": "2022-05-13T09:53:07.788Z"
      },
      {
        "duration": 512,
        "start_time": "2022-05-13T09:53:08.382Z"
      },
      {
        "duration": 378,
        "start_time": "2022-05-13T09:53:08.896Z"
      },
      {
        "duration": 704,
        "start_time": "2022-05-13T09:53:09.277Z"
      },
      {
        "duration": 331,
        "start_time": "2022-05-13T09:53:09.984Z"
      },
      {
        "duration": 580,
        "start_time": "2022-05-13T09:53:10.317Z"
      },
      {
        "duration": 360,
        "start_time": "2022-05-13T09:53:10.899Z"
      },
      {
        "duration": 14,
        "start_time": "2022-05-13T09:53:11.262Z"
      },
      {
        "duration": 392,
        "start_time": "2022-05-13T09:53:11.279Z"
      },
      {
        "duration": 7,
        "start_time": "2022-05-13T09:53:11.678Z"
      },
      {
        "duration": 530,
        "start_time": "2022-05-13T09:53:11.688Z"
      },
      {
        "duration": 399,
        "start_time": "2022-05-13T09:53:12.231Z"
      },
      {
        "duration": 491,
        "start_time": "2022-05-13T09:53:12.633Z"
      },
      {
        "duration": 228,
        "start_time": "2022-05-13T09:58:04.265Z"
      },
      {
        "duration": 18,
        "start_time": "2022-05-13T09:58:37.020Z"
      },
      {
        "duration": 22,
        "start_time": "2022-05-13T09:59:07.614Z"
      },
      {
        "duration": 544,
        "start_time": "2022-05-13T10:00:05.317Z"
      },
      {
        "duration": 526,
        "start_time": "2022-05-13T10:01:31.847Z"
      },
      {
        "duration": 575,
        "start_time": "2022-05-13T10:01:58.492Z"
      },
      {
        "duration": 630,
        "start_time": "2022-05-13T10:02:07.540Z"
      },
      {
        "duration": 514,
        "start_time": "2022-05-13T10:08:59.810Z"
      },
      {
        "duration": 493,
        "start_time": "2022-05-13T10:09:14.552Z"
      },
      {
        "duration": 640,
        "start_time": "2022-05-13T10:09:43.451Z"
      },
      {
        "duration": 692,
        "start_time": "2022-05-13T10:25:00.087Z"
      },
      {
        "duration": 462,
        "start_time": "2022-05-13T10:25:15.162Z"
      },
      {
        "duration": 18,
        "start_time": "2022-05-13T10:26:48.690Z"
      },
      {
        "duration": 14,
        "start_time": "2022-05-13T10:28:56.894Z"
      },
      {
        "duration": 20,
        "start_time": "2022-05-13T10:30:45.006Z"
      },
      {
        "duration": 577,
        "start_time": "2022-05-13T10:30:49.975Z"
      },
      {
        "duration": 520,
        "start_time": "2022-05-13T10:31:12.252Z"
      },
      {
        "duration": 499,
        "start_time": "2022-05-13T10:32:08.886Z"
      },
      {
        "duration": 517,
        "start_time": "2022-05-13T10:32:18.916Z"
      },
      {
        "duration": 484,
        "start_time": "2022-05-13T10:32:43.541Z"
      },
      {
        "duration": 556,
        "start_time": "2022-05-13T10:33:09.504Z"
      },
      {
        "duration": 776,
        "start_time": "2022-05-13T10:33:16.941Z"
      },
      {
        "duration": 486,
        "start_time": "2022-05-13T10:33:52.054Z"
      },
      {
        "duration": 469,
        "start_time": "2022-05-13T10:34:03.140Z"
      },
      {
        "duration": 841,
        "start_time": "2022-05-13T11:52:34.409Z"
      },
      {
        "duration": 864,
        "start_time": "2022-05-13T11:52:46.433Z"
      },
      {
        "duration": 1029,
        "start_time": "2022-05-13T11:53:55.959Z"
      },
      {
        "duration": 887,
        "start_time": "2022-05-13T11:54:13.215Z"
      },
      {
        "duration": 140,
        "start_time": "2022-05-13T11:54:58.256Z"
      },
      {
        "duration": 457,
        "start_time": "2022-05-13T11:55:09.252Z"
      },
      {
        "duration": 576,
        "start_time": "2022-05-13T11:55:33.412Z"
      },
      {
        "duration": 635,
        "start_time": "2022-05-13T11:55:52.054Z"
      },
      {
        "duration": 997,
        "start_time": "2022-05-13T11:56:22.751Z"
      },
      {
        "duration": 680,
        "start_time": "2022-05-13T11:57:03.818Z"
      },
      {
        "duration": 665,
        "start_time": "2022-05-13T11:57:17.777Z"
      },
      {
        "duration": 694,
        "start_time": "2022-05-13T11:57:28.750Z"
      },
      {
        "duration": 745,
        "start_time": "2022-05-13T11:57:39.722Z"
      },
      {
        "duration": 844,
        "start_time": "2022-05-13T11:57:54.230Z"
      },
      {
        "duration": 600,
        "start_time": "2022-05-13T11:58:31.899Z"
      },
      {
        "duration": 598,
        "start_time": "2022-05-13T11:58:53.999Z"
      },
      {
        "duration": 810,
        "start_time": "2022-05-13T11:59:25.155Z"
      },
      {
        "duration": 695,
        "start_time": "2022-05-13T12:00:24.840Z"
      },
      {
        "duration": 589,
        "start_time": "2022-05-13T12:04:13.454Z"
      },
      {
        "duration": 479,
        "start_time": "2022-05-13T12:04:38.761Z"
      },
      {
        "duration": 342,
        "start_time": "2022-05-13T12:05:09.125Z"
      },
      {
        "duration": 222,
        "start_time": "2022-05-13T12:05:13.576Z"
      },
      {
        "duration": 30,
        "start_time": "2022-05-13T12:08:34.520Z"
      },
      {
        "duration": 27,
        "start_time": "2022-05-13T12:09:08.173Z"
      },
      {
        "duration": 244,
        "start_time": "2022-05-13T12:09:31.625Z"
      },
      {
        "duration": 283,
        "start_time": "2022-05-13T12:10:09.541Z"
      },
      {
        "duration": 282,
        "start_time": "2022-05-13T12:12:15.358Z"
      },
      {
        "duration": 302,
        "start_time": "2022-05-13T12:12:33.135Z"
      },
      {
        "duration": 267,
        "start_time": "2022-05-13T12:13:31.538Z"
      },
      {
        "duration": 271,
        "start_time": "2022-05-13T12:13:44.190Z"
      },
      {
        "duration": 273,
        "start_time": "2022-05-13T12:13:52.723Z"
      },
      {
        "duration": 260,
        "start_time": "2022-05-13T12:14:50.800Z"
      },
      {
        "duration": 295,
        "start_time": "2022-05-13T12:15:40.973Z"
      },
      {
        "duration": 240,
        "start_time": "2022-05-13T12:16:41.678Z"
      },
      {
        "duration": 348,
        "start_time": "2022-05-13T12:16:52.246Z"
      },
      {
        "duration": 24,
        "start_time": "2022-05-13T12:17:48.373Z"
      },
      {
        "duration": 371,
        "start_time": "2022-05-13T12:18:01.416Z"
      },
      {
        "duration": 353,
        "start_time": "2022-05-13T12:18:46.533Z"
      },
      {
        "duration": 138,
        "start_time": "2022-05-13T12:21:16.288Z"
      },
      {
        "duration": 172,
        "start_time": "2022-05-13T12:21:23.840Z"
      },
      {
        "duration": 15,
        "start_time": "2022-05-13T12:23:30.877Z"
      },
      {
        "duration": 129,
        "start_time": "2022-05-13T12:23:41.261Z"
      },
      {
        "duration": 23,
        "start_time": "2022-05-13T12:23:41.393Z"
      },
      {
        "duration": 2749,
        "start_time": "2022-05-13T12:23:41.418Z"
      },
      {
        "duration": 42,
        "start_time": "2022-05-13T12:23:44.171Z"
      },
      {
        "duration": 74,
        "start_time": "2022-05-13T12:23:44.216Z"
      },
      {
        "duration": 52,
        "start_time": "2022-05-13T12:23:44.292Z"
      },
      {
        "duration": 28,
        "start_time": "2022-05-13T12:23:44.347Z"
      },
      {
        "duration": 24,
        "start_time": "2022-05-13T12:23:44.378Z"
      },
      {
        "duration": 40,
        "start_time": "2022-05-13T12:23:44.404Z"
      },
      {
        "duration": 28,
        "start_time": "2022-05-13T12:23:44.451Z"
      },
      {
        "duration": 30,
        "start_time": "2022-05-13T12:23:44.481Z"
      },
      {
        "duration": 35,
        "start_time": "2022-05-13T12:23:44.514Z"
      },
      {
        "duration": 33,
        "start_time": "2022-05-13T12:23:44.551Z"
      },
      {
        "duration": 8,
        "start_time": "2022-05-13T12:23:44.587Z"
      },
      {
        "duration": 10,
        "start_time": "2022-05-13T12:23:44.598Z"
      },
      {
        "duration": 21,
        "start_time": "2022-05-13T12:23:44.611Z"
      },
      {
        "duration": 34,
        "start_time": "2022-05-13T12:23:44.635Z"
      },
      {
        "duration": 31,
        "start_time": "2022-05-13T12:23:44.672Z"
      },
      {
        "duration": 745,
        "start_time": "2022-05-13T12:23:44.705Z"
      },
      {
        "duration": 681,
        "start_time": "2022-05-13T12:23:45.452Z"
      },
      {
        "duration": 373,
        "start_time": "2022-05-13T12:23:46.135Z"
      },
      {
        "duration": 504,
        "start_time": "2022-05-13T12:23:46.511Z"
      },
      {
        "duration": 272,
        "start_time": "2022-05-13T12:23:47.026Z"
      },
      {
        "duration": 483,
        "start_time": "2022-05-13T12:23:47.300Z"
      },
      {
        "duration": 417,
        "start_time": "2022-05-13T12:23:47.785Z"
      },
      {
        "duration": 24,
        "start_time": "2022-05-13T12:23:48.205Z"
      },
      {
        "duration": 265,
        "start_time": "2022-05-13T12:23:48.232Z"
      },
      {
        "duration": 8,
        "start_time": "2022-05-13T12:23:48.504Z"
      },
      {
        "duration": 392,
        "start_time": "2022-05-13T12:23:48.526Z"
      },
      {
        "duration": 327,
        "start_time": "2022-05-13T12:23:48.921Z"
      },
      {
        "duration": 359,
        "start_time": "2022-05-13T12:23:49.250Z"
      },
      {
        "duration": 265,
        "start_time": "2022-05-13T12:23:49.611Z"
      },
      {
        "duration": 271,
        "start_time": "2022-05-13T12:23:49.879Z"
      },
      {
        "duration": 286,
        "start_time": "2022-05-13T12:23:50.153Z"
      },
      {
        "duration": 14,
        "start_time": "2022-05-13T12:24:25.458Z"
      },
      {
        "duration": 10,
        "start_time": "2022-05-13T12:26:26.582Z"
      },
      {
        "duration": 9,
        "start_time": "2022-05-13T12:26:43.642Z"
      },
      {
        "duration": 15,
        "start_time": "2022-05-13T12:27:54.840Z"
      },
      {
        "duration": 47,
        "start_time": "2022-05-13T12:27:57.910Z"
      },
      {
        "duration": 27,
        "start_time": "2022-05-13T12:27:57.960Z"
      },
      {
        "duration": 36,
        "start_time": "2022-05-13T12:27:57.989Z"
      },
      {
        "duration": 9,
        "start_time": "2022-05-13T12:27:58.028Z"
      },
      {
        "duration": 23,
        "start_time": "2022-05-13T12:27:58.040Z"
      },
      {
        "duration": 69,
        "start_time": "2022-05-13T12:27:58.065Z"
      },
      {
        "duration": 14,
        "start_time": "2022-05-13T12:27:58.136Z"
      },
      {
        "duration": 20,
        "start_time": "2022-05-13T12:27:58.152Z"
      },
      {
        "duration": 60,
        "start_time": "2022-05-13T12:27:58.174Z"
      },
      {
        "duration": 10,
        "start_time": "2022-05-13T12:27:58.240Z"
      },
      {
        "duration": 18,
        "start_time": "2022-05-13T12:27:58.253Z"
      },
      {
        "duration": 10,
        "start_time": "2022-05-13T12:27:58.273Z"
      },
      {
        "duration": 43,
        "start_time": "2022-05-13T12:27:58.286Z"
      },
      {
        "duration": 13,
        "start_time": "2022-05-13T12:27:58.332Z"
      },
      {
        "duration": 37,
        "start_time": "2022-05-13T12:27:58.348Z"
      },
      {
        "duration": 15,
        "start_time": "2022-05-13T12:27:58.387Z"
      },
      {
        "duration": 26,
        "start_time": "2022-05-13T12:27:58.405Z"
      },
      {
        "duration": 26,
        "start_time": "2022-05-13T12:27:58.433Z"
      },
      {
        "duration": 541,
        "start_time": "2022-05-13T12:27:58.462Z"
      },
      {
        "duration": 574,
        "start_time": "2022-05-13T12:27:59.005Z"
      },
      {
        "duration": 371,
        "start_time": "2022-05-13T12:27:59.583Z"
      },
      {
        "duration": 717,
        "start_time": "2022-05-13T12:27:59.957Z"
      },
      {
        "duration": 286,
        "start_time": "2022-05-13T12:28:00.677Z"
      },
      {
        "duration": 479,
        "start_time": "2022-05-13T12:28:00.966Z"
      },
      {
        "duration": 318,
        "start_time": "2022-05-13T12:28:01.447Z"
      },
      {
        "duration": 12,
        "start_time": "2022-05-13T12:28:01.768Z"
      },
      {
        "duration": 285,
        "start_time": "2022-05-13T12:28:01.783Z"
      },
      {
        "duration": 11,
        "start_time": "2022-05-13T12:28:02.073Z"
      },
      {
        "duration": 309,
        "start_time": "2022-05-13T12:28:02.087Z"
      },
      {
        "duration": 409,
        "start_time": "2022-05-13T12:28:02.399Z"
      },
      {
        "duration": 508,
        "start_time": "2022-05-13T12:28:02.811Z"
      },
      {
        "duration": 380,
        "start_time": "2022-05-13T12:28:03.325Z"
      },
      {
        "duration": 386,
        "start_time": "2022-05-13T12:28:03.707Z"
      },
      {
        "duration": 366,
        "start_time": "2022-05-13T12:28:04.096Z"
      },
      {
        "duration": 634,
        "start_time": "2022-05-13T12:41:04.408Z"
      },
      {
        "duration": 487,
        "start_time": "2022-05-13T12:41:12.391Z"
      },
      {
        "duration": 466,
        "start_time": "2022-05-13T12:41:39.566Z"
      },
      {
        "duration": 491,
        "start_time": "2022-05-13T12:41:52.992Z"
      },
      {
        "duration": 430,
        "start_time": "2022-05-13T12:43:07.770Z"
      },
      {
        "duration": 511,
        "start_time": "2022-05-13T12:43:26.718Z"
      },
      {
        "duration": 475,
        "start_time": "2022-05-13T12:43:44.731Z"
      },
      {
        "duration": 151,
        "start_time": "2022-05-13T12:44:09.637Z"
      },
      {
        "duration": 727,
        "start_time": "2022-05-13T12:44:13.809Z"
      },
      {
        "duration": 143,
        "start_time": "2022-05-13T12:45:27.907Z"
      },
      {
        "duration": 525,
        "start_time": "2022-05-13T12:45:33.862Z"
      },
      {
        "duration": 496,
        "start_time": "2022-05-13T12:46:05.965Z"
      },
      {
        "duration": 535,
        "start_time": "2022-05-13T12:46:32.238Z"
      },
      {
        "duration": 179,
        "start_time": "2022-05-13T12:47:10.372Z"
      },
      {
        "duration": 135,
        "start_time": "2022-05-13T12:47:16.153Z"
      },
      {
        "duration": 540,
        "start_time": "2022-05-13T12:47:24.242Z"
      },
      {
        "duration": 882,
        "start_time": "2022-05-13T12:47:54.075Z"
      },
      {
        "duration": 915,
        "start_time": "2022-05-13T12:48:04.852Z"
      },
      {
        "duration": 565,
        "start_time": "2022-05-13T12:48:10.520Z"
      },
      {
        "duration": 779,
        "start_time": "2022-05-13T12:48:17.689Z"
      },
      {
        "duration": 554,
        "start_time": "2022-05-13T12:48:23.786Z"
      },
      {
        "duration": 585,
        "start_time": "2022-05-13T12:48:33.842Z"
      },
      {
        "duration": 1134,
        "start_time": "2022-05-13T12:48:54.707Z"
      },
      {
        "duration": 1106,
        "start_time": "2022-05-13T12:49:13.861Z"
      },
      {
        "duration": 711,
        "start_time": "2022-05-13T12:49:34.782Z"
      },
      {
        "duration": 727,
        "start_time": "2022-05-13T12:49:54.785Z"
      },
      {
        "duration": 747,
        "start_time": "2022-05-13T12:50:15.129Z"
      },
      {
        "duration": 796,
        "start_time": "2022-05-13T12:50:35.398Z"
      },
      {
        "duration": 841,
        "start_time": "2022-05-13T12:50:46.518Z"
      },
      {
        "duration": 859,
        "start_time": "2022-05-13T12:51:41.738Z"
      },
      {
        "duration": 570,
        "start_time": "2022-05-13T12:52:18.946Z"
      },
      {
        "duration": 550,
        "start_time": "2022-05-13T12:52:39.518Z"
      },
      {
        "duration": 614,
        "start_time": "2022-05-13T12:52:47.685Z"
      },
      {
        "duration": 976,
        "start_time": "2022-05-13T12:53:05.369Z"
      },
      {
        "duration": 571,
        "start_time": "2022-05-13T12:58:45.235Z"
      },
      {
        "duration": 916,
        "start_time": "2022-05-13T12:59:37.184Z"
      },
      {
        "duration": 637,
        "start_time": "2022-05-13T13:00:04.962Z"
      },
      {
        "duration": 896,
        "start_time": "2022-05-13T13:00:30.447Z"
      },
      {
        "duration": 827,
        "start_time": "2022-05-13T13:00:37.700Z"
      },
      {
        "duration": 156,
        "start_time": "2022-05-13T13:00:54.873Z"
      },
      {
        "duration": 615,
        "start_time": "2022-05-13T13:00:59.154Z"
      },
      {
        "duration": 553,
        "start_time": "2022-05-13T13:03:44.733Z"
      },
      {
        "duration": 756,
        "start_time": "2022-05-13T13:04:04.169Z"
      },
      {
        "duration": 635,
        "start_time": "2022-05-13T13:07:43.116Z"
      },
      {
        "duration": 666,
        "start_time": "2022-05-13T13:08:59.211Z"
      },
      {
        "duration": 815,
        "start_time": "2022-05-13T13:09:06.133Z"
      },
      {
        "duration": 712,
        "start_time": "2022-05-13T13:09:13.002Z"
      },
      {
        "duration": 847,
        "start_time": "2022-05-13T13:09:32.466Z"
      },
      {
        "duration": 1199,
        "start_time": "2022-05-13T13:09:51.669Z"
      },
      {
        "duration": 786,
        "start_time": "2022-05-13T13:10:05.321Z"
      },
      {
        "duration": 744,
        "start_time": "2022-05-13T13:10:18.992Z"
      },
      {
        "duration": 652,
        "start_time": "2022-05-13T13:10:29.782Z"
      },
      {
        "duration": 585,
        "start_time": "2022-05-13T13:10:40.437Z"
      },
      {
        "duration": 8,
        "start_time": "2022-05-13T13:29:11.806Z"
      },
      {
        "duration": 6,
        "start_time": "2022-05-13T13:39:54.500Z"
      },
      {
        "duration": 25,
        "start_time": "2022-05-13T13:40:21.921Z"
      },
      {
        "duration": 45,
        "start_time": "2022-05-13T13:40:41.388Z"
      },
      {
        "duration": 49,
        "start_time": "2022-05-13T13:41:12.837Z"
      },
      {
        "duration": 40,
        "start_time": "2022-05-13T13:44:06.198Z"
      },
      {
        "duration": 838,
        "start_time": "2022-05-13T13:45:08.100Z"
      },
      {
        "duration": 694,
        "start_time": "2022-05-13T13:47:05.195Z"
      },
      {
        "duration": 687,
        "start_time": "2022-05-13T13:47:13.763Z"
      },
      {
        "duration": 951,
        "start_time": "2022-05-13T13:47:19.666Z"
      },
      {
        "duration": 678,
        "start_time": "2022-05-13T13:47:25.732Z"
      },
      {
        "duration": 719,
        "start_time": "2022-05-13T13:47:33.253Z"
      },
      {
        "duration": 880,
        "start_time": "2022-05-13T13:47:42.504Z"
      },
      {
        "duration": 676,
        "start_time": "2022-05-13T13:48:27.212Z"
      },
      {
        "duration": 5,
        "start_time": "2022-05-13T13:51:24.039Z"
      },
      {
        "duration": 988,
        "start_time": "2022-05-13T13:51:27.196Z"
      },
      {
        "duration": 36,
        "start_time": "2022-05-13T13:51:35.036Z"
      },
      {
        "duration": 658,
        "start_time": "2022-05-13T13:51:38.150Z"
      },
      {
        "duration": 9,
        "start_time": "2022-05-13T14:58:44.993Z"
      },
      {
        "duration": 19,
        "start_time": "2022-05-13T15:04:34.783Z"
      },
      {
        "duration": 20,
        "start_time": "2022-05-13T15:04:56.248Z"
      },
      {
        "duration": 137,
        "start_time": "2022-05-13T15:05:16.169Z"
      },
      {
        "duration": 41,
        "start_time": "2022-05-13T15:05:16.309Z"
      },
      {
        "duration": 9,
        "start_time": "2022-05-13T15:05:16.353Z"
      },
      {
        "duration": 10,
        "start_time": "2022-05-13T15:05:16.365Z"
      },
      {
        "duration": 28,
        "start_time": "2022-05-13T15:05:16.377Z"
      },
      {
        "duration": 45,
        "start_time": "2022-05-13T15:05:16.424Z"
      },
      {
        "duration": 9,
        "start_time": "2022-05-13T15:05:16.472Z"
      },
      {
        "duration": 17,
        "start_time": "2022-05-13T15:05:16.483Z"
      },
      {
        "duration": 35,
        "start_time": "2022-05-13T15:05:16.531Z"
      },
      {
        "duration": 7,
        "start_time": "2022-05-13T15:05:16.570Z"
      },
      {
        "duration": 16,
        "start_time": "2022-05-13T15:05:16.580Z"
      },
      {
        "duration": 30,
        "start_time": "2022-05-13T15:05:16.599Z"
      },
      {
        "duration": 18,
        "start_time": "2022-05-13T15:05:16.632Z"
      },
      {
        "duration": 11,
        "start_time": "2022-05-13T15:05:16.653Z"
      },
      {
        "duration": 10,
        "start_time": "2022-05-13T15:05:16.666Z"
      },
      {
        "duration": 12,
        "start_time": "2022-05-13T15:05:16.678Z"
      },
      {
        "duration": 55,
        "start_time": "2022-05-13T15:05:16.692Z"
      },
      {
        "duration": 26,
        "start_time": "2022-05-13T15:05:16.751Z"
      },
      {
        "duration": 590,
        "start_time": "2022-05-13T15:05:16.780Z"
      },
      {
        "duration": 501,
        "start_time": "2022-05-13T15:05:17.373Z"
      },
      {
        "duration": 383,
        "start_time": "2022-05-13T15:05:17.876Z"
      },
      {
        "duration": 680,
        "start_time": "2022-05-13T15:05:18.261Z"
      },
      {
        "duration": 275,
        "start_time": "2022-05-13T15:05:18.944Z"
      },
      {
        "duration": 494,
        "start_time": "2022-05-13T15:05:19.224Z"
      },
      {
        "duration": 324,
        "start_time": "2022-05-13T15:05:19.729Z"
      },
      {
        "duration": 14,
        "start_time": "2022-05-13T15:05:20.056Z"
      },
      {
        "duration": 314,
        "start_time": "2022-05-13T15:05:20.073Z"
      },
      {
        "duration": 8,
        "start_time": "2022-05-13T15:05:20.392Z"
      },
      {
        "duration": 316,
        "start_time": "2022-05-13T15:05:20.402Z"
      },
      {
        "duration": 322,
        "start_time": "2022-05-13T15:05:20.728Z"
      },
      {
        "duration": 395,
        "start_time": "2022-05-13T15:05:21.053Z"
      },
      {
        "duration": 653,
        "start_time": "2022-05-13T15:05:21.452Z"
      },
      {
        "duration": 645,
        "start_time": "2022-05-13T15:05:22.108Z"
      },
      {
        "duration": 7,
        "start_time": "2022-05-13T15:05:22.756Z"
      },
      {
        "duration": 7,
        "start_time": "2022-05-13T15:05:22.765Z"
      },
      {
        "duration": 31,
        "start_time": "2022-05-13T15:05:22.774Z"
      },
      {
        "duration": 852,
        "start_time": "2022-05-13T15:05:22.807Z"
      },
      {
        "duration": 8,
        "start_time": "2022-05-13T15:05:23.661Z"
      },
      {
        "duration": 33,
        "start_time": "2022-05-13T15:05:23.672Z"
      },
      {
        "duration": 51,
        "start_time": "2022-05-13T15:06:08.491Z"
      },
      {
        "duration": 24,
        "start_time": "2022-05-13T15:06:08.545Z"
      },
      {
        "duration": 7,
        "start_time": "2022-05-13T15:06:08.571Z"
      },
      {
        "duration": 13,
        "start_time": "2022-05-13T15:06:08.581Z"
      },
      {
        "duration": 50,
        "start_time": "2022-05-13T15:06:08.596Z"
      },
      {
        "duration": 31,
        "start_time": "2022-05-13T15:06:08.648Z"
      },
      {
        "duration": 9,
        "start_time": "2022-05-13T15:06:08.681Z"
      },
      {
        "duration": 25,
        "start_time": "2022-05-13T15:06:08.724Z"
      },
      {
        "duration": 25,
        "start_time": "2022-05-13T15:06:08.752Z"
      },
      {
        "duration": 7,
        "start_time": "2022-05-13T15:06:08.782Z"
      },
      {
        "duration": 44,
        "start_time": "2022-05-13T15:06:08.792Z"
      },
      {
        "duration": 11,
        "start_time": "2022-05-13T15:06:08.838Z"
      },
      {
        "duration": 19,
        "start_time": "2022-05-13T15:06:08.851Z"
      },
      {
        "duration": 6,
        "start_time": "2022-05-13T15:06:08.873Z"
      },
      {
        "duration": 13,
        "start_time": "2022-05-13T15:06:08.881Z"
      },
      {
        "duration": 37,
        "start_time": "2022-05-13T15:06:08.897Z"
      },
      {
        "duration": 16,
        "start_time": "2022-05-13T15:06:08.937Z"
      },
      {
        "duration": 25,
        "start_time": "2022-05-13T15:06:08.956Z"
      },
      {
        "duration": 558,
        "start_time": "2022-05-13T15:06:08.983Z"
      },
      {
        "duration": 492,
        "start_time": "2022-05-13T15:06:09.543Z"
      },
      {
        "duration": 374,
        "start_time": "2022-05-13T15:06:10.038Z"
      },
      {
        "duration": 500,
        "start_time": "2022-05-13T15:06:10.414Z"
      },
      {
        "duration": 267,
        "start_time": "2022-05-13T15:06:10.916Z"
      },
      {
        "duration": 478,
        "start_time": "2022-05-13T15:06:11.186Z"
      },
      {
        "duration": 303,
        "start_time": "2022-05-13T15:06:11.667Z"
      },
      {
        "duration": 11,
        "start_time": "2022-05-13T15:06:11.972Z"
      },
      {
        "duration": 403,
        "start_time": "2022-05-13T15:06:11.985Z"
      },
      {
        "duration": 7,
        "start_time": "2022-05-13T15:06:12.393Z"
      },
      {
        "duration": 321,
        "start_time": "2022-05-13T15:06:12.403Z"
      },
      {
        "duration": 288,
        "start_time": "2022-05-13T15:06:12.728Z"
      },
      {
        "duration": 494,
        "start_time": "2022-05-13T15:06:13.030Z"
      },
      {
        "duration": 612,
        "start_time": "2022-05-13T15:06:13.533Z"
      },
      {
        "duration": 600,
        "start_time": "2022-05-13T15:06:14.147Z"
      },
      {
        "duration": 8,
        "start_time": "2022-05-13T15:06:14.750Z"
      },
      {
        "duration": 11,
        "start_time": "2022-05-13T15:06:14.760Z"
      },
      {
        "duration": 38,
        "start_time": "2022-05-13T15:06:14.773Z"
      },
      {
        "duration": 784,
        "start_time": "2022-05-13T15:06:14.830Z"
      },
      {
        "duration": 9,
        "start_time": "2022-05-13T15:06:15.616Z"
      },
      {
        "duration": 32,
        "start_time": "2022-05-13T15:06:15.628Z"
      },
      {
        "duration": 16,
        "start_time": "2022-05-13T15:07:05.784Z"
      },
      {
        "duration": 211,
        "start_time": "2022-05-13T15:08:54.613Z"
      },
      {
        "duration": 14,
        "start_time": "2022-05-13T15:10:06.012Z"
      },
      {
        "duration": 16,
        "start_time": "2022-05-13T15:10:22.835Z"
      },
      {
        "duration": 19,
        "start_time": "2022-05-13T15:10:41.611Z"
      },
      {
        "duration": 14,
        "start_time": "2022-05-13T15:11:13.448Z"
      },
      {
        "duration": 14,
        "start_time": "2022-05-13T15:11:26.912Z"
      },
      {
        "duration": 15,
        "start_time": "2022-05-13T15:11:40.175Z"
      },
      {
        "duration": 22,
        "start_time": "2022-05-13T15:12:05.514Z"
      },
      {
        "duration": 16,
        "start_time": "2022-05-13T15:13:22.801Z"
      },
      {
        "duration": 15,
        "start_time": "2022-05-13T15:15:48.047Z"
      },
      {
        "duration": 22,
        "start_time": "2022-05-13T15:15:50.835Z"
      },
      {
        "duration": 71,
        "start_time": "2022-05-13T15:19:21.720Z"
      },
      {
        "duration": 38,
        "start_time": "2022-05-13T15:19:21.794Z"
      },
      {
        "duration": 13,
        "start_time": "2022-05-13T15:19:21.835Z"
      },
      {
        "duration": 17,
        "start_time": "2022-05-13T15:19:21.851Z"
      },
      {
        "duration": 22,
        "start_time": "2022-05-13T15:19:21.870Z"
      },
      {
        "duration": 57,
        "start_time": "2022-05-13T15:19:21.895Z"
      },
      {
        "duration": 12,
        "start_time": "2022-05-13T15:19:21.960Z"
      },
      {
        "duration": 22,
        "start_time": "2022-05-13T15:19:21.974Z"
      },
      {
        "duration": 58,
        "start_time": "2022-05-13T15:19:21.999Z"
      },
      {
        "duration": 10,
        "start_time": "2022-05-13T15:19:22.063Z"
      },
      {
        "duration": 18,
        "start_time": "2022-05-13T15:19:22.076Z"
      },
      {
        "duration": 42,
        "start_time": "2022-05-13T15:19:22.097Z"
      },
      {
        "duration": 30,
        "start_time": "2022-05-13T15:19:22.144Z"
      },
      {
        "duration": 6,
        "start_time": "2022-05-13T15:19:22.177Z"
      },
      {
        "duration": 14,
        "start_time": "2022-05-13T15:19:22.186Z"
      },
      {
        "duration": 14,
        "start_time": "2022-05-13T15:19:22.202Z"
      },
      {
        "duration": 49,
        "start_time": "2022-05-13T15:19:22.218Z"
      },
      {
        "duration": 25,
        "start_time": "2022-05-13T15:19:22.269Z"
      },
      {
        "duration": 552,
        "start_time": "2022-05-13T15:19:22.296Z"
      },
      {
        "duration": 596,
        "start_time": "2022-05-13T15:19:22.851Z"
      },
      {
        "duration": 403,
        "start_time": "2022-05-13T15:19:23.455Z"
      },
      {
        "duration": 647,
        "start_time": "2022-05-13T15:19:23.861Z"
      },
      {
        "duration": 277,
        "start_time": "2022-05-13T15:19:24.510Z"
      },
      {
        "duration": 585,
        "start_time": "2022-05-13T15:19:24.789Z"
      },
      {
        "duration": 315,
        "start_time": "2022-05-13T15:19:25.376Z"
      },
      {
        "duration": 34,
        "start_time": "2022-05-13T15:19:25.694Z"
      },
      {
        "duration": 271,
        "start_time": "2022-05-13T15:19:25.731Z"
      },
      {
        "duration": 21,
        "start_time": "2022-05-13T15:19:26.007Z"
      },
      {
        "duration": 316,
        "start_time": "2022-05-13T15:19:26.031Z"
      },
      {
        "duration": 417,
        "start_time": "2022-05-13T15:19:26.349Z"
      },
      {
        "duration": 506,
        "start_time": "2022-05-13T15:19:26.769Z"
      },
      {
        "duration": 662,
        "start_time": "2022-05-13T15:19:27.277Z"
      },
      {
        "duration": 710,
        "start_time": "2022-05-13T15:19:27.945Z"
      },
      {
        "duration": 8,
        "start_time": "2022-05-13T15:19:28.658Z"
      },
      {
        "duration": 8,
        "start_time": "2022-05-13T15:19:28.668Z"
      },
      {
        "duration": 54,
        "start_time": "2022-05-13T15:19:28.678Z"
      },
      {
        "duration": 667,
        "start_time": "2022-05-13T15:19:28.735Z"
      },
      {
        "duration": 21,
        "start_time": "2022-05-13T15:19:29.405Z"
      },
      {
        "duration": 23,
        "start_time": "2022-05-13T15:19:29.428Z"
      },
      {
        "duration": 27,
        "start_time": "2022-05-13T15:19:29.453Z"
      },
      {
        "duration": 12,
        "start_time": "2022-05-13T15:20:07.874Z"
      },
      {
        "duration": 15,
        "start_time": "2022-05-13T15:20:31.816Z"
      },
      {
        "duration": 16,
        "start_time": "2022-05-13T15:20:44.803Z"
      },
      {
        "duration": 18,
        "start_time": "2022-05-13T15:20:52.601Z"
      },
      {
        "duration": 14,
        "start_time": "2022-05-13T15:20:59.293Z"
      },
      {
        "duration": 13,
        "start_time": "2022-05-13T15:21:10.475Z"
      },
      {
        "duration": 14,
        "start_time": "2022-05-13T15:21:24.065Z"
      },
      {
        "duration": 22,
        "start_time": "2022-05-13T15:21:35.824Z"
      },
      {
        "duration": 22,
        "start_time": "2022-05-13T15:21:45.654Z"
      },
      {
        "duration": 14,
        "start_time": "2022-05-13T15:21:56.790Z"
      },
      {
        "duration": 17,
        "start_time": "2022-05-13T15:22:40.362Z"
      },
      {
        "duration": 15,
        "start_time": "2022-05-13T15:23:03.399Z"
      },
      {
        "duration": 15,
        "start_time": "2022-05-13T15:23:11.578Z"
      },
      {
        "duration": 2089,
        "start_time": "2022-05-14T18:02:06.822Z"
      },
      {
        "duration": 29,
        "start_time": "2022-05-14T18:02:08.914Z"
      },
      {
        "duration": 5,
        "start_time": "2022-05-14T18:02:08.954Z"
      },
      {
        "duration": 30,
        "start_time": "2022-05-14T18:02:08.961Z"
      },
      {
        "duration": 42,
        "start_time": "2022-05-14T18:02:08.996Z"
      },
      {
        "duration": 47,
        "start_time": "2022-05-14T18:02:09.040Z"
      },
      {
        "duration": 8,
        "start_time": "2022-05-14T18:02:09.090Z"
      },
      {
        "duration": 21,
        "start_time": "2022-05-14T18:02:09.101Z"
      },
      {
        "duration": 60,
        "start_time": "2022-05-14T18:02:09.125Z"
      },
      {
        "duration": 26,
        "start_time": "2022-05-14T18:02:09.188Z"
      },
      {
        "duration": 21,
        "start_time": "2022-05-14T18:02:09.217Z"
      },
      {
        "duration": 29,
        "start_time": "2022-05-14T18:02:09.240Z"
      },
      {
        "duration": 24,
        "start_time": "2022-05-14T18:02:09.271Z"
      },
      {
        "duration": 20,
        "start_time": "2022-05-14T18:02:09.300Z"
      },
      {
        "duration": 46,
        "start_time": "2022-05-14T18:02:09.322Z"
      },
      {
        "duration": 15,
        "start_time": "2022-05-14T18:02:09.370Z"
      },
      {
        "duration": 33,
        "start_time": "2022-05-14T18:02:09.387Z"
      },
      {
        "duration": 22,
        "start_time": "2022-05-14T18:02:09.423Z"
      },
      {
        "duration": 534,
        "start_time": "2022-05-14T18:02:09.447Z"
      },
      {
        "duration": 460,
        "start_time": "2022-05-14T18:02:09.983Z"
      },
      {
        "duration": 356,
        "start_time": "2022-05-14T18:02:10.446Z"
      },
      {
        "duration": 508,
        "start_time": "2022-05-14T18:02:10.805Z"
      },
      {
        "duration": 276,
        "start_time": "2022-05-14T18:02:11.315Z"
      },
      {
        "duration": 543,
        "start_time": "2022-05-14T18:02:11.593Z"
      },
      {
        "duration": 305,
        "start_time": "2022-05-14T18:02:12.139Z"
      },
      {
        "duration": 18,
        "start_time": "2022-05-14T18:02:12.446Z"
      },
      {
        "duration": 261,
        "start_time": "2022-05-14T18:02:12.467Z"
      },
      {
        "duration": 7,
        "start_time": "2022-05-14T18:02:12.730Z"
      },
      {
        "duration": 320,
        "start_time": "2022-05-14T18:02:12.739Z"
      },
      {
        "duration": 278,
        "start_time": "2022-05-14T18:02:13.062Z"
      },
      {
        "duration": 347,
        "start_time": "2022-05-14T18:02:13.342Z"
      },
      {
        "duration": 605,
        "start_time": "2022-05-14T18:02:13.691Z"
      },
      {
        "duration": 576,
        "start_time": "2022-05-14T18:02:14.298Z"
      },
      {
        "duration": 7,
        "start_time": "2022-05-14T18:02:14.876Z"
      },
      {
        "duration": 7,
        "start_time": "2022-05-14T18:02:14.886Z"
      },
      {
        "duration": 56,
        "start_time": "2022-05-14T18:02:14.896Z"
      },
      {
        "duration": 703,
        "start_time": "2022-05-14T18:02:14.963Z"
      },
      {
        "duration": 8,
        "start_time": "2022-05-14T18:02:15.668Z"
      },
      {
        "duration": 16,
        "start_time": "2022-05-14T18:02:15.679Z"
      },
      {
        "duration": 14,
        "start_time": "2022-05-14T18:02:15.697Z"
      },
      {
        "duration": 159,
        "start_time": "2022-05-14T18:16:15.671Z"
      },
      {
        "duration": 23,
        "start_time": "2022-05-14T18:16:43.865Z"
      },
      {
        "duration": 43,
        "start_time": "2022-05-14T18:18:42.935Z"
      },
      {
        "duration": 23,
        "start_time": "2022-05-14T18:18:42.981Z"
      },
      {
        "duration": 5,
        "start_time": "2022-05-14T18:18:43.070Z"
      },
      {
        "duration": 9,
        "start_time": "2022-05-14T18:18:43.078Z"
      },
      {
        "duration": 23,
        "start_time": "2022-05-14T18:18:43.089Z"
      },
      {
        "duration": 41,
        "start_time": "2022-05-14T18:18:43.115Z"
      },
      {
        "duration": 9,
        "start_time": "2022-05-14T18:18:43.158Z"
      },
      {
        "duration": 14,
        "start_time": "2022-05-14T18:18:43.170Z"
      },
      {
        "duration": 28,
        "start_time": "2022-05-14T18:18:43.187Z"
      },
      {
        "duration": 40,
        "start_time": "2022-05-14T18:18:43.218Z"
      },
      {
        "duration": 10,
        "start_time": "2022-05-14T18:18:43.260Z"
      },
      {
        "duration": 7,
        "start_time": "2022-05-14T18:18:43.274Z"
      },
      {
        "duration": 15,
        "start_time": "2022-05-14T18:18:43.284Z"
      },
      {
        "duration": 53,
        "start_time": "2022-05-14T18:18:43.301Z"
      },
      {
        "duration": 7,
        "start_time": "2022-05-14T18:18:43.357Z"
      },
      {
        "duration": 10,
        "start_time": "2022-05-14T18:18:43.367Z"
      },
      {
        "duration": 20,
        "start_time": "2022-05-14T18:18:43.379Z"
      },
      {
        "duration": 51,
        "start_time": "2022-05-14T18:18:43.402Z"
      },
      {
        "duration": 500,
        "start_time": "2022-05-14T18:18:43.456Z"
      },
      {
        "duration": 431,
        "start_time": "2022-05-14T18:18:43.959Z"
      },
      {
        "duration": 331,
        "start_time": "2022-05-14T18:18:44.392Z"
      },
      {
        "duration": 448,
        "start_time": "2022-05-14T18:18:44.725Z"
      },
      {
        "duration": 261,
        "start_time": "2022-05-14T18:18:45.176Z"
      },
      {
        "duration": 461,
        "start_time": "2022-05-14T18:18:45.441Z"
      },
      {
        "duration": 305,
        "start_time": "2022-05-14T18:18:45.905Z"
      },
      {
        "duration": 13,
        "start_time": "2022-05-14T18:18:46.213Z"
      },
      {
        "duration": 343,
        "start_time": "2022-05-14T18:18:46.229Z"
      },
      {
        "duration": 8,
        "start_time": "2022-05-14T18:18:46.575Z"
      },
      {
        "duration": 293,
        "start_time": "2022-05-14T18:18:46.585Z"
      },
      {
        "duration": 284,
        "start_time": "2022-05-14T18:18:46.881Z"
      },
      {
        "duration": 343,
        "start_time": "2022-05-14T18:18:47.169Z"
      },
      {
        "duration": 592,
        "start_time": "2022-05-14T18:18:47.515Z"
      },
      {
        "duration": 576,
        "start_time": "2022-05-14T18:18:48.110Z"
      },
      {
        "duration": 8,
        "start_time": "2022-05-14T18:18:48.688Z"
      },
      {
        "duration": 18,
        "start_time": "2022-05-14T18:18:48.698Z"
      },
      {
        "duration": 53,
        "start_time": "2022-05-14T18:18:48.718Z"
      },
      {
        "duration": 628,
        "start_time": "2022-05-14T18:18:48.773Z"
      },
      {
        "duration": 8,
        "start_time": "2022-05-14T18:18:49.403Z"
      },
      {
        "duration": 32,
        "start_time": "2022-05-14T18:18:49.412Z"
      },
      {
        "duration": 14,
        "start_time": "2022-05-14T18:18:49.452Z"
      },
      {
        "duration": 47,
        "start_time": "2022-05-14T18:18:49.468Z"
      },
      {
        "duration": 14,
        "start_time": "2022-05-14T18:21:21.693Z"
      },
      {
        "duration": 15,
        "start_time": "2022-05-14T18:22:10.557Z"
      },
      {
        "duration": 21,
        "start_time": "2022-05-14T18:23:54.180Z"
      },
      {
        "duration": 7,
        "start_time": "2022-05-14T18:24:35.625Z"
      },
      {
        "duration": 8,
        "start_time": "2022-05-14T18:25:01.592Z"
      },
      {
        "duration": 7,
        "start_time": "2022-05-14T18:26:41.563Z"
      },
      {
        "duration": 14,
        "start_time": "2022-05-14T18:26:44.765Z"
      },
      {
        "duration": 7,
        "start_time": "2022-05-14T18:26:47.792Z"
      },
      {
        "duration": 16,
        "start_time": "2022-05-14T18:27:30.104Z"
      },
      {
        "duration": 17,
        "start_time": "2022-05-14T18:29:42.940Z"
      },
      {
        "duration": 386,
        "start_time": "2022-05-14T18:41:24.985Z"
      },
      {
        "duration": 4,
        "start_time": "2022-05-14T19:02:11.780Z"
      },
      {
        "duration": 306,
        "start_time": "2022-05-14T19:16:20.940Z"
      },
      {
        "duration": 43,
        "start_time": "2022-05-14T19:23:38.661Z"
      },
      {
        "duration": 25,
        "start_time": "2022-05-14T19:23:38.707Z"
      },
      {
        "duration": 6,
        "start_time": "2022-05-14T19:23:38.751Z"
      },
      {
        "duration": 7,
        "start_time": "2022-05-14T19:23:38.761Z"
      },
      {
        "duration": 23,
        "start_time": "2022-05-14T19:23:38.771Z"
      },
      {
        "duration": 77,
        "start_time": "2022-05-14T19:23:38.796Z"
      },
      {
        "duration": 9,
        "start_time": "2022-05-14T19:23:38.875Z"
      },
      {
        "duration": 16,
        "start_time": "2022-05-14T19:23:38.886Z"
      },
      {
        "duration": 61,
        "start_time": "2022-05-14T19:23:38.904Z"
      },
      {
        "duration": 7,
        "start_time": "2022-05-14T19:23:38.969Z"
      },
      {
        "duration": 12,
        "start_time": "2022-05-14T19:23:38.978Z"
      },
      {
        "duration": 8,
        "start_time": "2022-05-14T19:23:38.992Z"
      },
      {
        "duration": 52,
        "start_time": "2022-05-14T19:23:39.002Z"
      },
      {
        "duration": 8,
        "start_time": "2022-05-14T19:23:39.056Z"
      },
      {
        "duration": 11,
        "start_time": "2022-05-14T19:23:39.066Z"
      },
      {
        "duration": 21,
        "start_time": "2022-05-14T19:23:39.079Z"
      },
      {
        "duration": 20,
        "start_time": "2022-05-14T19:23:39.102Z"
      },
      {
        "duration": 46,
        "start_time": "2022-05-14T19:23:39.125Z"
      },
      {
        "duration": 524,
        "start_time": "2022-05-14T19:23:39.173Z"
      },
      {
        "duration": 455,
        "start_time": "2022-05-14T19:23:39.700Z"
      },
      {
        "duration": 353,
        "start_time": "2022-05-14T19:23:40.157Z"
      },
      {
        "duration": 470,
        "start_time": "2022-05-14T19:23:40.513Z"
      },
      {
        "duration": 270,
        "start_time": "2022-05-14T19:23:40.986Z"
      },
      {
        "duration": 465,
        "start_time": "2022-05-14T19:23:41.259Z"
      },
      {
        "duration": 295,
        "start_time": "2022-05-14T19:23:41.727Z"
      },
      {
        "duration": 13,
        "start_time": "2022-05-14T19:23:42.025Z"
      },
      {
        "duration": 418,
        "start_time": "2022-05-14T19:23:42.054Z"
      },
      {
        "duration": 10,
        "start_time": "2022-05-14T19:23:42.481Z"
      },
      {
        "duration": 412,
        "start_time": "2022-05-14T19:23:42.493Z"
      },
      {
        "duration": 293,
        "start_time": "2022-05-14T19:23:42.908Z"
      },
      {
        "duration": 356,
        "start_time": "2022-05-14T19:23:43.204Z"
      },
      {
        "duration": 608,
        "start_time": "2022-05-14T19:23:43.563Z"
      },
      {
        "duration": 594,
        "start_time": "2022-05-14T19:23:44.173Z"
      },
      {
        "duration": 7,
        "start_time": "2022-05-14T19:23:44.770Z"
      },
      {
        "duration": 7,
        "start_time": "2022-05-14T19:23:44.779Z"
      },
      {
        "duration": 27,
        "start_time": "2022-05-14T19:23:44.788Z"
      },
      {
        "duration": 658,
        "start_time": "2022-05-14T19:23:44.817Z"
      },
      {
        "duration": 15,
        "start_time": "2022-05-14T19:23:45.478Z"
      },
      {
        "duration": 16,
        "start_time": "2022-05-14T19:23:45.496Z"
      },
      {
        "duration": 53,
        "start_time": "2022-05-14T19:25:01.588Z"
      },
      {
        "duration": 28,
        "start_time": "2022-05-14T19:25:01.645Z"
      },
      {
        "duration": 18,
        "start_time": "2022-05-14T19:25:01.675Z"
      },
      {
        "duration": 30,
        "start_time": "2022-05-14T19:25:01.698Z"
      },
      {
        "duration": 41,
        "start_time": "2022-05-14T19:25:01.730Z"
      },
      {
        "duration": 35,
        "start_time": "2022-05-14T19:25:01.773Z"
      },
      {
        "duration": 11,
        "start_time": "2022-05-14T19:25:01.811Z"
      },
      {
        "duration": 44,
        "start_time": "2022-05-14T19:25:01.824Z"
      },
      {
        "duration": 46,
        "start_time": "2022-05-14T19:25:01.871Z"
      },
      {
        "duration": 32,
        "start_time": "2022-05-14T19:25:01.923Z"
      },
      {
        "duration": 70,
        "start_time": "2022-05-14T19:25:01.957Z"
      },
      {
        "duration": 18,
        "start_time": "2022-05-14T19:25:02.030Z"
      },
      {
        "duration": 24,
        "start_time": "2022-05-14T19:25:02.051Z"
      },
      {
        "duration": 11,
        "start_time": "2022-05-14T19:25:02.077Z"
      },
      {
        "duration": 13,
        "start_time": "2022-05-14T19:25:02.090Z"
      },
      {
        "duration": 18,
        "start_time": "2022-05-14T19:25:02.105Z"
      },
      {
        "duration": 28,
        "start_time": "2022-05-14T19:25:02.126Z"
      },
      {
        "duration": 25,
        "start_time": "2022-05-14T19:25:02.156Z"
      },
      {
        "duration": 544,
        "start_time": "2022-05-14T19:25:02.184Z"
      },
      {
        "duration": 567,
        "start_time": "2022-05-14T19:25:02.731Z"
      },
      {
        "duration": 356,
        "start_time": "2022-05-14T19:25:03.300Z"
      },
      {
        "duration": 484,
        "start_time": "2022-05-14T19:25:03.659Z"
      },
      {
        "duration": 272,
        "start_time": "2022-05-14T19:25:04.151Z"
      },
      {
        "duration": 463,
        "start_time": "2022-05-14T19:25:04.426Z"
      },
      {
        "duration": 292,
        "start_time": "2022-05-14T19:25:04.891Z"
      },
      {
        "duration": 11,
        "start_time": "2022-05-14T19:25:05.186Z"
      },
      {
        "duration": 270,
        "start_time": "2022-05-14T19:25:05.200Z"
      },
      {
        "duration": 8,
        "start_time": "2022-05-14T19:25:05.475Z"
      },
      {
        "duration": 315,
        "start_time": "2022-05-14T19:25:05.485Z"
      },
      {
        "duration": 298,
        "start_time": "2022-05-14T19:25:05.803Z"
      },
      {
        "duration": 359,
        "start_time": "2022-05-14T19:25:06.104Z"
      },
      {
        "duration": 890,
        "start_time": "2022-05-14T19:25:06.466Z"
      },
      {
        "duration": 702,
        "start_time": "2022-05-14T19:25:07.358Z"
      },
      {
        "duration": 8,
        "start_time": "2022-05-14T19:25:08.062Z"
      },
      {
        "duration": 12,
        "start_time": "2022-05-14T19:25:08.073Z"
      },
      {
        "duration": 31,
        "start_time": "2022-05-14T19:25:08.087Z"
      },
      {
        "duration": 664,
        "start_time": "2022-05-14T19:25:08.121Z"
      },
      {
        "duration": 18,
        "start_time": "2022-05-14T19:25:08.787Z"
      },
      {
        "duration": 15,
        "start_time": "2022-05-14T19:25:08.807Z"
      },
      {
        "duration": 1609,
        "start_time": "2022-05-15T13:08:03.339Z"
      },
      {
        "duration": 32,
        "start_time": "2022-05-15T13:08:04.951Z"
      },
      {
        "duration": 5,
        "start_time": "2022-05-15T13:08:04.986Z"
      },
      {
        "duration": 36,
        "start_time": "2022-05-15T13:08:04.994Z"
      },
      {
        "duration": 31,
        "start_time": "2022-05-15T13:08:05.035Z"
      },
      {
        "duration": 58,
        "start_time": "2022-05-15T13:08:05.069Z"
      },
      {
        "duration": 13,
        "start_time": "2022-05-15T13:08:05.131Z"
      },
      {
        "duration": 18,
        "start_time": "2022-05-15T13:08:05.147Z"
      },
      {
        "duration": 30,
        "start_time": "2022-05-15T13:08:05.167Z"
      },
      {
        "duration": 11,
        "start_time": "2022-05-15T13:08:05.231Z"
      },
      {
        "duration": 36,
        "start_time": "2022-05-15T13:08:05.245Z"
      },
      {
        "duration": 15,
        "start_time": "2022-05-15T13:08:05.284Z"
      },
      {
        "duration": 36,
        "start_time": "2022-05-15T13:08:05.302Z"
      },
      {
        "duration": 19,
        "start_time": "2022-05-15T13:08:05.344Z"
      },
      {
        "duration": 10,
        "start_time": "2022-05-15T13:08:05.365Z"
      },
      {
        "duration": 12,
        "start_time": "2022-05-15T13:08:05.377Z"
      },
      {
        "duration": 24,
        "start_time": "2022-05-15T13:08:05.391Z"
      },
      {
        "duration": 31,
        "start_time": "2022-05-15T13:08:05.426Z"
      },
      {
        "duration": 592,
        "start_time": "2022-05-15T13:08:05.460Z"
      },
      {
        "duration": 490,
        "start_time": "2022-05-15T13:08:06.054Z"
      },
      {
        "duration": 393,
        "start_time": "2022-05-15T13:08:06.547Z"
      },
      {
        "duration": 574,
        "start_time": "2022-05-15T13:08:06.943Z"
      },
      {
        "duration": 294,
        "start_time": "2022-05-15T13:08:07.520Z"
      },
      {
        "duration": 576,
        "start_time": "2022-05-15T13:08:07.816Z"
      },
      {
        "duration": 341,
        "start_time": "2022-05-15T13:08:08.394Z"
      },
      {
        "duration": 13,
        "start_time": "2022-05-15T13:08:08.739Z"
      },
      {
        "duration": 314,
        "start_time": "2022-05-15T13:08:08.755Z"
      },
      {
        "duration": 9,
        "start_time": "2022-05-15T13:08:09.072Z"
      },
      {
        "duration": 440,
        "start_time": "2022-05-15T13:08:09.084Z"
      },
      {
        "duration": 411,
        "start_time": "2022-05-15T13:08:09.530Z"
      },
      {
        "duration": 402,
        "start_time": "2022-05-15T13:08:09.944Z"
      },
      {
        "duration": 665,
        "start_time": "2022-05-15T13:08:10.349Z"
      },
      {
        "duration": 629,
        "start_time": "2022-05-15T13:08:11.017Z"
      },
      {
        "duration": 8,
        "start_time": "2022-05-15T13:08:11.649Z"
      },
      {
        "duration": 16,
        "start_time": "2022-05-15T13:08:11.659Z"
      },
      {
        "duration": 44,
        "start_time": "2022-05-15T13:08:11.677Z"
      },
      {
        "duration": 791,
        "start_time": "2022-05-15T13:08:11.725Z"
      },
      {
        "duration": 26,
        "start_time": "2022-05-15T13:08:12.518Z"
      },
      {
        "duration": 42,
        "start_time": "2022-05-15T13:08:12.546Z"
      },
      {
        "duration": 107,
        "start_time": "2022-05-15T13:15:21.880Z"
      },
      {
        "duration": 1592,
        "start_time": "2022-05-15T13:15:44.053Z"
      },
      {
        "duration": 31,
        "start_time": "2022-05-15T13:15:45.647Z"
      },
      {
        "duration": 5,
        "start_time": "2022-05-15T13:15:45.680Z"
      },
      {
        "duration": 9,
        "start_time": "2022-05-15T13:15:45.687Z"
      },
      {
        "duration": 47,
        "start_time": "2022-05-15T13:15:45.699Z"
      },
      {
        "duration": 43,
        "start_time": "2022-05-15T13:15:45.749Z"
      },
      {
        "duration": 34,
        "start_time": "2022-05-15T13:15:45.795Z"
      },
      {
        "duration": 20,
        "start_time": "2022-05-15T13:15:45.831Z"
      },
      {
        "duration": 24,
        "start_time": "2022-05-15T13:15:45.854Z"
      },
      {
        "duration": 7,
        "start_time": "2022-05-15T13:15:45.880Z"
      },
      {
        "duration": 11,
        "start_time": "2022-05-15T13:15:45.925Z"
      },
      {
        "duration": 20,
        "start_time": "2022-05-15T13:15:45.939Z"
      },
      {
        "duration": 15,
        "start_time": "2022-05-15T13:15:45.961Z"
      },
      {
        "duration": 7,
        "start_time": "2022-05-15T13:15:45.980Z"
      },
      {
        "duration": 45,
        "start_time": "2022-05-15T13:15:45.989Z"
      },
      {
        "duration": 17,
        "start_time": "2022-05-15T13:15:46.037Z"
      },
      {
        "duration": 15,
        "start_time": "2022-05-15T13:15:46.056Z"
      },
      {
        "duration": 60,
        "start_time": "2022-05-15T13:15:46.073Z"
      },
      {
        "duration": 132,
        "start_time": "2022-05-15T13:15:46.136Z"
      },
      {
        "duration": 613,
        "start_time": "2022-05-15T13:15:46.271Z"
      },
      {
        "duration": 500,
        "start_time": "2022-05-15T13:15:46.887Z"
      },
      {
        "duration": 382,
        "start_time": "2022-05-15T13:15:47.390Z"
      },
      {
        "duration": 570,
        "start_time": "2022-05-15T13:15:47.775Z"
      },
      {
        "duration": 289,
        "start_time": "2022-05-15T13:15:48.348Z"
      },
      {
        "duration": 708,
        "start_time": "2022-05-15T13:15:48.645Z"
      },
      {
        "duration": 323,
        "start_time": "2022-05-15T13:15:49.356Z"
      },
      {
        "duration": 13,
        "start_time": "2022-05-15T13:15:49.681Z"
      },
      {
        "duration": 288,
        "start_time": "2022-05-15T13:15:49.696Z"
      },
      {
        "duration": 7,
        "start_time": "2022-05-15T13:15:49.987Z"
      },
      {
        "duration": 328,
        "start_time": "2022-05-15T13:15:49.996Z"
      },
      {
        "duration": 307,
        "start_time": "2022-05-15T13:15:50.328Z"
      },
      {
        "duration": 362,
        "start_time": "2022-05-15T13:15:50.638Z"
      },
      {
        "duration": 654,
        "start_time": "2022-05-15T13:15:51.002Z"
      },
      {
        "duration": 623,
        "start_time": "2022-05-15T13:15:51.658Z"
      },
      {
        "duration": 8,
        "start_time": "2022-05-15T13:15:52.283Z"
      },
      {
        "duration": 8,
        "start_time": "2022-05-15T13:15:52.294Z"
      },
      {
        "duration": 50,
        "start_time": "2022-05-15T13:15:52.305Z"
      },
      {
        "duration": 796,
        "start_time": "2022-05-15T13:15:52.357Z"
      },
      {
        "duration": 15,
        "start_time": "2022-05-15T13:15:53.156Z"
      },
      {
        "duration": 14,
        "start_time": "2022-05-15T13:15:53.173Z"
      }
    ],
    "kernelspec": {
      "display_name": "Python 3 (ipykernel)",
      "language": "python",
      "name": "python3"
    },
    "language_info": {
      "codemirror_mode": {
        "name": "ipython",
        "version": 3
      },
      "file_extension": ".py",
      "mimetype": "text/x-python",
      "name": "python",
      "nbconvert_exporter": "python",
      "pygments_lexer": "ipython3",
      "version": "3.9.5"
    },
    "toc": {
      "base_numbering": 1,
      "nav_menu": {},
      "number_sections": true,
      "sideBar": true,
      "skip_h1_title": true,
      "title_cell": "Table of Contents",
      "title_sidebar": "Contents",
      "toc_cell": false,
      "toc_position": {
        "height": "calc(100% - 180px)",
        "left": "10px",
        "top": "150px",
        "width": "169.682px"
      },
      "toc_section_display": true,
      "toc_window_display": true
    },
    "colab": {
      "provenance": [],
      "collapsed_sections": []
    }
  },
  "nbformat": 4,
  "nbformat_minor": 0
}