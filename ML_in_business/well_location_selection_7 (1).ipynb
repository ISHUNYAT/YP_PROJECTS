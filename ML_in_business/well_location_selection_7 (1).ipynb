{
  "cells": [
    {
      "cell_type": "markdown",
      "metadata": {
        "id": "3RZ2M-9jlFBJ"
      },
      "source": [
        "<h1>Содержание<span class=\"tocSkip\"></span></h1>\n",
        "<div class=\"toc\"><ul class=\"toc-item\"><li><span><a href=\"#Загрузка-и-подготовка-данных\" data-toc-modified-id=\"Загрузка-и-подготовка-данных-1\"><span class=\"toc-item-num\">1&nbsp;&nbsp;</span>Загрузка и подготовка данных</a></span></li><li><span><a href=\"#Обучение-и-проверка-модели\" data-toc-modified-id=\"Обучение-и-проверка-модели-2\"><span class=\"toc-item-num\">2&nbsp;&nbsp;</span>Обучение и проверка модели</a></span></li><li><span><a href=\"#Подготовка-к-расчёту-прибыли\" data-toc-modified-id=\"Подготовка-к-расчёту-прибыли-3\"><span class=\"toc-item-num\">3&nbsp;&nbsp;</span>Подготовка к расчёту прибыли</a></span></li><li><span><a href=\"#Расчёт-прибыли-и-рисков \" data-toc-modified-id=\"Расчёт-прибыли-и-рисков-4\"><span class=\"toc-item-num\">4&nbsp;&nbsp;</span>Расчёт прибыли и рисков </a></span></li><li><span><a href=\"#Общий-вывод\" data-toc-modified-id=\"Общий-вывод-5\"><span class=\"toc-item-num\">5&nbsp;&nbsp;</span>Общий вывод</a></span></li></ul></div>"
      ]
    },
    {
      "cell_type": "markdown",
      "metadata": {
        "id": "-wpYxDT4lFBK"
      },
      "source": [
        "# Выбор локации для скважины"
      ]
    },
    {
      "cell_type": "markdown",
      "metadata": {
        "id": "UvZkqa1AlFBL"
      },
      "source": [
        "По условиям задания мы работаем в добывающей компании «ГлавРосГосНефть». Нужно решить, где бурить новую скважину.\n",
        "\n",
        "Нам предоставлены пробы нефти в трёх регионах: в каждом 10 000 месторождений, где измерили качество нефти и объём её запасов. Построим модель машинного обучения, которая поможет определить регион, где добыча принесёт наибольшую прибыль. Проанализируем возможную прибыль и риски техникой *Bootstrap.*\n",
        "\n",
        "Шаги для выбора локации:\n",
        "\n",
        "- В избранном регионе ищем месторождения, для каждого определяем значения признаков;\n",
        "- Строим модель и оцениваем объём запасов;\n",
        "- Выбираем месторождения с самым высокими оценками значений. Количество месторождений зависит от бюджета компании и стоимости разработки одной скважины;\n",
        "- Прибыль равна суммарной прибыли отобранных месторождений."
      ]
    },
    {
      "cell_type": "markdown",
      "metadata": {
        "id": "5nDJwOv7lFBM"
      },
      "source": [
        "При разведке региона исследуем 500 точек, из которых с помощью машинного обучения выбираем 200 лучших для разработки.\n",
        "\n",
        "Бюджет на разработку скважин в регионе — 10 млрд рублей.\n",
        "\n",
        "При нынешних ценах один баррель сырья приносит 450 рублей дохода. Доход с каждой единицы продукта составляет 450 тыс. рублей, поскольку объём указан в тысячах баррелей.\n",
        "\n",
        "После оценки рисков оставим лишь те регионы, в которых вероятность убытков меньше 2.5%. Среди них выберем регион с наибольшей средней прибылью."
      ]
    },
    {
      "cell_type": "markdown",
      "source": [
        "# Описание данных\n",
        "\n",
        "* id — уникальный идентификатор скважины;\n",
        "* f0, f1, f2 — три признака точек (неважно, что они означают, но сами признаки значимы);\n",
        "* product — объём запасов в скважине (тыс. баррелей)."
      ],
      "metadata": {
        "id": "946wQxSCmhFu"
      }
    },
    {
      "cell_type": "markdown",
      "metadata": {
        "id": "zQ4GAShglFBN"
      },
      "source": [
        "## Загрузка и подготовка данных"
      ]
    },
    {
      "cell_type": "markdown",
      "metadata": {
        "id": "fyXqJEQ4lFBO"
      },
      "source": [
        "Загрузим данные для дальнейшего анализа и построения моделей прогнозирования."
      ]
    },
    {
      "cell_type": "code",
      "source": [
        "pip install -U pandas-profiling"
      ],
      "metadata": {
        "colab": {
          "base_uri": "https://localhost:8080/"
        },
        "id": "GloJCUXbqkbf",
        "outputId": "32c28282-ac66-45cf-a020-c2d98acb9a3d"
      },
      "execution_count": null,
      "outputs": [
        {
          "output_type": "stream",
          "name": "stdout",
          "text": [
            "Looking in indexes: https://pypi.org/simple, https://us-python.pkg.dev/colab-wheels/public/simple/\n",
            "Requirement already satisfied: pandas-profiling in /usr/local/lib/python3.7/dist-packages (3.4.0)\n",
            "Requirement already satisfied: jinja2<3.2,>=2.11.1 in /usr/local/lib/python3.7/dist-packages (from pandas-profiling) (2.11.3)\n",
            "Requirement already satisfied: tqdm<4.65,>=4.48.2 in /usr/local/lib/python3.7/dist-packages (from pandas-profiling) (4.64.1)\n",
            "Requirement already satisfied: pydantic<1.11,>=1.8.1 in /usr/local/lib/python3.7/dist-packages (from pandas-profiling) (1.10.2)\n",
            "Requirement already satisfied: htmlmin==0.1.12 in /usr/local/lib/python3.7/dist-packages (from pandas-profiling) (0.1.12)\n",
            "Requirement already satisfied: numpy<1.24,>=1.16.0 in /usr/local/lib/python3.7/dist-packages (from pandas-profiling) (1.21.6)\n",
            "Requirement already satisfied: phik<0.13,>=0.11.1 in /usr/local/lib/python3.7/dist-packages (from pandas-profiling) (0.12.2)\n",
            "Requirement already satisfied: requests<2.29,>=2.24.0 in /usr/local/lib/python3.7/dist-packages (from pandas-profiling) (2.28.1)\n",
            "Requirement already satisfied: missingno<0.6,>=0.4.2 in /usr/local/lib/python3.7/dist-packages (from pandas-profiling) (0.5.1)\n",
            "Requirement already satisfied: multimethod<1.10,>=1.4 in /usr/local/lib/python3.7/dist-packages (from pandas-profiling) (1.9)\n",
            "Requirement already satisfied: scipy<1.10,>=1.4.1 in /usr/local/lib/python3.7/dist-packages (from pandas-profiling) (1.7.3)\n",
            "Requirement already satisfied: matplotlib<3.6,>=3.2 in /usr/local/lib/python3.7/dist-packages (from pandas-profiling) (3.2.2)\n",
            "Requirement already satisfied: PyYAML<6.1,>=5.0.0 in /usr/local/lib/python3.7/dist-packages (from pandas-profiling) (6.0)\n",
            "Requirement already satisfied: visions[type_image_path]==0.7.5 in /usr/local/lib/python3.7/dist-packages (from pandas-profiling) (0.7.5)\n",
            "Requirement already satisfied: pandas!=1.4.0,<1.6,>1.1 in /usr/local/lib/python3.7/dist-packages (from pandas-profiling) (1.3.5)\n",
            "Requirement already satisfied: statsmodels<0.14,>=0.13.2 in /usr/local/lib/python3.7/dist-packages (from pandas-profiling) (0.13.2)\n",
            "Requirement already satisfied: seaborn<0.13,>=0.10.1 in /usr/local/lib/python3.7/dist-packages (from pandas-profiling) (0.11.2)\n",
            "Requirement already satisfied: attrs>=19.3.0 in /usr/local/lib/python3.7/dist-packages (from visions[type_image_path]==0.7.5->pandas-profiling) (22.1.0)\n",
            "Requirement already satisfied: networkx>=2.4 in /usr/local/lib/python3.7/dist-packages (from visions[type_image_path]==0.7.5->pandas-profiling) (2.6.3)\n",
            "Requirement already satisfied: tangled-up-in-unicode>=0.0.4 in /usr/local/lib/python3.7/dist-packages (from visions[type_image_path]==0.7.5->pandas-profiling) (0.2.0)\n",
            "Requirement already satisfied: Pillow in /usr/local/lib/python3.7/dist-packages (from visions[type_image_path]==0.7.5->pandas-profiling) (7.1.2)\n",
            "Requirement already satisfied: imagehash in /usr/local/lib/python3.7/dist-packages (from visions[type_image_path]==0.7.5->pandas-profiling) (4.3.1)\n",
            "Requirement already satisfied: MarkupSafe>=0.23 in /usr/local/lib/python3.7/dist-packages (from jinja2<3.2,>=2.11.1->pandas-profiling) (2.0.1)\n",
            "Requirement already satisfied: pyparsing!=2.0.4,!=2.1.2,!=2.1.6,>=2.0.1 in /usr/local/lib/python3.7/dist-packages (from matplotlib<3.6,>=3.2->pandas-profiling) (3.0.9)\n",
            "Requirement already satisfied: kiwisolver>=1.0.1 in /usr/local/lib/python3.7/dist-packages (from matplotlib<3.6,>=3.2->pandas-profiling) (1.4.4)\n",
            "Requirement already satisfied: cycler>=0.10 in /usr/local/lib/python3.7/dist-packages (from matplotlib<3.6,>=3.2->pandas-profiling) (0.11.0)\n",
            "Requirement already satisfied: python-dateutil>=2.1 in /usr/local/lib/python3.7/dist-packages (from matplotlib<3.6,>=3.2->pandas-profiling) (2.8.2)\n",
            "Requirement already satisfied: typing-extensions in /usr/local/lib/python3.7/dist-packages (from kiwisolver>=1.0.1->matplotlib<3.6,>=3.2->pandas-profiling) (4.1.1)\n",
            "Requirement already satisfied: pytz>=2017.3 in /usr/local/lib/python3.7/dist-packages (from pandas!=1.4.0,<1.6,>1.1->pandas-profiling) (2022.5)\n",
            "Requirement already satisfied: joblib>=0.14.1 in /usr/local/lib/python3.7/dist-packages (from phik<0.13,>=0.11.1->pandas-profiling) (1.2.0)\n",
            "Requirement already satisfied: six>=1.5 in /usr/local/lib/python3.7/dist-packages (from python-dateutil>=2.1->matplotlib<3.6,>=3.2->pandas-profiling) (1.15.0)\n",
            "Requirement already satisfied: idna<4,>=2.5 in /usr/local/lib/python3.7/dist-packages (from requests<2.29,>=2.24.0->pandas-profiling) (2.10)\n",
            "Requirement already satisfied: urllib3<1.27,>=1.21.1 in /usr/local/lib/python3.7/dist-packages (from requests<2.29,>=2.24.0->pandas-profiling) (1.24.3)\n",
            "Requirement already satisfied: charset-normalizer<3,>=2 in /usr/local/lib/python3.7/dist-packages (from requests<2.29,>=2.24.0->pandas-profiling) (2.1.1)\n",
            "Requirement already satisfied: certifi>=2017.4.17 in /usr/local/lib/python3.7/dist-packages (from requests<2.29,>=2.24.0->pandas-profiling) (2022.9.24)\n",
            "Requirement already satisfied: patsy>=0.5.2 in /usr/local/lib/python3.7/dist-packages (from statsmodels<0.14,>=0.13.2->pandas-profiling) (0.5.3)\n",
            "Requirement already satisfied: packaging>=21.3 in /usr/local/lib/python3.7/dist-packages (from statsmodels<0.14,>=0.13.2->pandas-profiling) (21.3)\n",
            "Requirement already satisfied: PyWavelets in /usr/local/lib/python3.7/dist-packages (from imagehash->visions[type_image_path]==0.7.5->pandas-profiling) (1.3.0)\n"
          ]
        }
      ]
    },
    {
      "cell_type": "code",
      "execution_count": null,
      "metadata": {
        "id": "1cPYVkd9lFBP"
      },
      "outputs": [],
      "source": [
        "import pandas as pd\n",
        "from pandas_profiling import ProfileReport\n",
        "import matplotlib.pyplot as plt\n",
        "import seaborn as sns\n",
        "import numpy as np\n",
        "\n",
        "from sklearn.linear_model import LinearRegression\n",
        "from sklearn.metrics import mean_squared_error\n",
        "from sklearn.model_selection import train_test_split\n",
        "from scipy import stats as st\n",
        "from sklearn.metrics import mean_absolute_error\n",
        "\n",
        "RANDOM_STATE = 12345\n",
        "TOTAL_WELLS = 500 #общее количество рассматриваемых скважин\n",
        "BEST_WELLS = 200 #количество лучших скважин\n",
        "PROFIT_BARRELS = 450000 #прибыли с 1000 баррелей\n",
        "BUDGET = 10000000000 #бюджет на разработку\n",
        "\n",
        "pth0 = '/content/7_geo_data_0.csv'\n",
        "pth0_1 = 'C:\\geo_data_0.csv'\n",
        "pth1 = '/content/7_geo_data_1.csv'\n",
        "pth1_1 = 'C:\\geo_data_1.csv'\n",
        "pth2 = '/content/7_geo_data_2.csv'\n",
        "pth2_1 = 'C:\\geo_data_2.csv'\n",
        "try:\n",
        "    geo_data_0 = pd.read_csv(pth0)\n",
        "    geo_data_1 = pd.read_csv(pth1)\n",
        "    geo_data_2 = pd.read_csv(pth2)\n",
        "except:\n",
        "    geo_data_0 = pd.read_csv(pth0_1)\n",
        "    geo_data_1 = pd.read_csv(pth1_1)\n",
        "    geo_data_2 = pd.read_csv(pth2_1)\n"
      ]
    },
    {
      "cell_type": "markdown",
      "metadata": {
        "id": "sSLDZdHulFBR"
      },
      "source": [
        "Посмотрим что из себя представляют данные для каждого из трех регионов."
      ]
    },
    {
      "cell_type": "code",
      "execution_count": null,
      "metadata": {
        "scrolled": true,
        "colab": {
          "base_uri": "https://localhost:8080/"
        },
        "id": "6y57pupQlFBR",
        "outputId": "0af82392-c2d0-4364-8660-c458d7b167c1"
      },
      "outputs": [
        {
          "output_type": "stream",
          "name": "stdout",
          "text": [
            "Регион 1\n",
            "      id        f0        f1        f2     product\n",
            "0  txEyH  0.705745 -0.497823  1.221170  105.280062\n",
            "1  2acmU  1.334711 -0.340164  4.365080   73.037750\n",
            "2  409Wp  1.022732  0.151990  1.419926   85.265647\n",
            "3  iJLyR -0.032172  0.139033  2.978566  168.620776\n",
            "4  Xdl7t  1.988431  0.155413  4.751769  154.036647\n",
            "\n",
            "Регион 2\n",
            "      id         f0         f1        f2     product\n",
            "0  kBEdx -15.001348  -8.276000 -0.005876    3.179103\n",
            "1  62mP7  14.272088  -3.475083  0.999183   26.953261\n",
            "2  vyE1P   6.263187  -5.948386  5.001160  134.766305\n",
            "3  KcrkZ -13.081196 -11.506057  4.999415  137.945408\n",
            "4  AHL4O  12.702195  -8.147433  5.004363  134.766305\n",
            "\n",
            "Регион 3\n",
            "      id        f0        f1        f2     product\n",
            "0  fwXo0 -1.146987  0.963328 -0.828965   27.758673\n",
            "1  WJtFt  0.262778  0.269839 -2.530187   56.069697\n",
            "2  ovLUW  0.194587  0.289035 -5.586433   62.871910\n",
            "3  q6cA6  2.236060 -0.553760  0.930038  114.572842\n",
            "4  WPMUX -0.515993  1.716266  5.899011  149.600746\n",
            "\n"
          ]
        }
      ],
      "source": [
        "i = 1\n",
        "for region in [geo_data_0, geo_data_1, geo_data_2]:\n",
        "    print (f'Регион {i}')\n",
        "    print (region.head())\n",
        "    print ('')\n",
        "    i+=1"
      ]
    },
    {
      "cell_type": "code",
      "execution_count": null,
      "metadata": {
        "scrolled": false,
        "colab": {
          "base_uri": "https://localhost:8080/"
        },
        "id": "AU2NFdw6lFBT",
        "outputId": "a5684fa2-e083-464f-95e9-9039b6d9472b"
      },
      "outputs": [
        {
          "output_type": "stream",
          "name": "stdout",
          "text": [
            "Регион 1\n",
            "<class 'pandas.core.frame.DataFrame'>\n",
            "RangeIndex: 100000 entries, 0 to 99999\n",
            "Data columns (total 5 columns):\n",
            " #   Column   Non-Null Count   Dtype  \n",
            "---  ------   --------------   -----  \n",
            " 0   id       100000 non-null  object \n",
            " 1   f0       100000 non-null  float64\n",
            " 2   f1       100000 non-null  float64\n",
            " 3   f2       100000 non-null  float64\n",
            " 4   product  100000 non-null  float64\n",
            "dtypes: float64(4), object(1)\n",
            "memory usage: 3.8+ MB\n",
            "None\n",
            "\n",
            "Регион 2\n",
            "<class 'pandas.core.frame.DataFrame'>\n",
            "RangeIndex: 100000 entries, 0 to 99999\n",
            "Data columns (total 5 columns):\n",
            " #   Column   Non-Null Count   Dtype  \n",
            "---  ------   --------------   -----  \n",
            " 0   id       100000 non-null  object \n",
            " 1   f0       100000 non-null  float64\n",
            " 2   f1       100000 non-null  float64\n",
            " 3   f2       100000 non-null  float64\n",
            " 4   product  100000 non-null  float64\n",
            "dtypes: float64(4), object(1)\n",
            "memory usage: 3.8+ MB\n",
            "None\n",
            "\n",
            "Регион 3\n",
            "<class 'pandas.core.frame.DataFrame'>\n",
            "RangeIndex: 100000 entries, 0 to 99999\n",
            "Data columns (total 5 columns):\n",
            " #   Column   Non-Null Count   Dtype  \n",
            "---  ------   --------------   -----  \n",
            " 0   id       100000 non-null  object \n",
            " 1   f0       100000 non-null  float64\n",
            " 2   f1       100000 non-null  float64\n",
            " 3   f2       100000 non-null  float64\n",
            " 4   product  100000 non-null  float64\n",
            "dtypes: float64(4), object(1)\n",
            "memory usage: 3.8+ MB\n",
            "None\n",
            "\n"
          ]
        }
      ],
      "source": [
        "i = 1\n",
        "for region in [geo_data_0, geo_data_1, geo_data_2]:\n",
        "    print (f'Регион {i}')\n",
        "    print (region.info())\n",
        "    print ('')\n",
        "    i+=1"
      ]
    },
    {
      "cell_type": "markdown",
      "metadata": {
        "id": "9LL7KB6OlFBU"
      },
      "source": [
        "Как видим из полученных данных, каждая из трех таблиц имеет одинаковый набор данных, состоящий из id скважины ( катергориальный признак, от которого стоит избавиться при последующем моделировании), трех колонок с количественными признаками и одной колонки с целевым признаком `product`. Все колонки имеют одинаковое количество строк и не имеют пропусков."
      ]
    },
    {
      "cell_type": "markdown",
      "metadata": {
        "id": "4oKJ88e6lFBV"
      },
      "source": [
        "Посмотрим на распределение данных в каждом датасете."
      ]
    },
    {
      "cell_type": "code",
      "execution_count": null,
      "metadata": {
        "scrolled": false,
        "colab": {
          "base_uri": "https://localhost:8080/"
        },
        "id": "m2EtSwfxlFBV",
        "outputId": "1d8c8025-cc67-427b-d45d-51cb2bd0b326"
      },
      "outputs": [
        {
          "output_type": "stream",
          "name": "stdout",
          "text": [
            "Регион 1\n",
            "                  f0             f1             f2        product\n",
            "count  100000.000000  100000.000000  100000.000000  100000.000000\n",
            "mean        0.500419       0.250143       2.502647      92.500000\n",
            "std         0.871832       0.504433       3.248248      44.288691\n",
            "min        -1.408605      -0.848218     -12.088328       0.000000\n",
            "25%        -0.072580      -0.200881       0.287748      56.497507\n",
            "50%         0.502360       0.250252       2.515969      91.849972\n",
            "75%         1.073581       0.700646       4.715088     128.564089\n",
            "max         2.362331       1.343769      16.003790     185.364347\n",
            "\n",
            "Регион 2\n",
            "                  f0             f1             f2        product\n",
            "count  100000.000000  100000.000000  100000.000000  100000.000000\n",
            "mean        1.141296      -4.796579       2.494541      68.825000\n",
            "std         8.965932       5.119872       1.703572      45.944423\n",
            "min       -31.609576     -26.358598      -0.018144       0.000000\n",
            "25%        -6.298551      -8.267985       1.000021      26.953261\n",
            "50%         1.153055      -4.813172       2.011479      57.085625\n",
            "75%         8.621015      -1.332816       3.999904     107.813044\n",
            "max        29.421755      18.734063       5.019721     137.945408\n",
            "\n",
            "Регион 3\n",
            "                  f0             f1             f2        product\n",
            "count  100000.000000  100000.000000  100000.000000  100000.000000\n",
            "mean        0.002023      -0.002081       2.495128      95.000000\n",
            "std         1.732045       1.730417       3.473445      44.749921\n",
            "min        -8.760004      -7.084020     -11.970335       0.000000\n",
            "25%        -1.162288      -1.174820       0.130359      59.450441\n",
            "50%         0.009424      -0.009482       2.484236      94.925613\n",
            "75%         1.158535       1.163678       4.858794     130.595027\n",
            "max         7.238262       7.844801      16.739402     190.029838\n",
            "\n"
          ]
        }
      ],
      "source": [
        "i = 1\n",
        "for region in [geo_data_0, geo_data_1, geo_data_2]:\n",
        "    print (f'Регион {i}')\n",
        "    print (region.describe())\n",
        "    print ('')\n",
        "    i+=1"
      ]
    },
    {
      "cell_type": "markdown",
      "metadata": {
        "id": "XjmCdqnhlFBW"
      },
      "source": [
        "Данные распределены довольно равномерно, какие-либо экстремальные или неадеватные значения отстутствуют.\n",
        "\n",
        "На всякий случай проверим, есть ли дублирующиеся строки в талицах с данными."
      ]
    },
    {
      "cell_type": "code",
      "execution_count": null,
      "metadata": {
        "scrolled": false,
        "colab": {
          "base_uri": "https://localhost:8080/"
        },
        "id": "UCoGyob9lFBW",
        "outputId": "bb1a0df8-3f6e-422d-ec44-9f005d297391"
      },
      "outputs": [
        {
          "output_type": "stream",
          "name": "stdout",
          "text": [
            "Регион 1\n",
            "0\n",
            "\n",
            "Регион 2\n",
            "0\n",
            "\n",
            "Регион 3\n",
            "0\n",
            "\n"
          ]
        }
      ],
      "source": [
        "i = 1\n",
        "for region in [geo_data_0, geo_data_1, geo_data_2]:\n",
        "    print (f'Регион {i}')\n",
        "    print (region.duplicated().sum())\n",
        "    print ('')\n",
        "    i+=1"
      ]
    },
    {
      "cell_type": "markdown",
      "metadata": {
        "id": "RYaehJgHlFBW"
      },
      "source": [
        "Таких строк не оказалось.\n",
        "\n",
        "Методом `pairplot` определим есть ли мультиколлинеарность в каком-либо из датасетов."
      ]
    },
    {
      "cell_type": "code",
      "execution_count": null,
      "metadata": {
        "colab": {
          "base_uri": "https://localhost:8080/",
          "height": 550
        },
        "id": "Gk8VHi55lFBX",
        "outputId": "66f8dbd1-752d-41f9-d372-139793242274"
      },
      "outputs": [
        {
          "output_type": "display_data",
          "data": {
            "text/plain": [
              "<Figure size 595x540 with 12 Axes>"
            ],
            "image/png": "[encoded data removed]"
          },
          "metadata": {
            "needs_background": "light"
          }
        }
      ],
      "source": [
        "sns.pairplot(geo_data_0, hue='product');"
      ]
    },
    {
      "cell_type": "markdown",
      "metadata": {
        "id": "lmSv3ughlFBX"
      },
      "source": [
        "Признаков со схожей коллинеарностью в датасетах не оказалось. Для дальнейшей работы будем использовать все признаки. "
      ]
    },
    {
      "cell_type": "markdown",
      "metadata": {
        "id": "CZWkn2n6lFBY"
      },
      "source": [
        "При помощи `boxplot`проверим наглядно еще раз как распределены данные целевого  и убедимся в отсутствии разбросов в данных."
      ]
    },
    {
      "cell_type": "code",
      "execution_count": null,
      "metadata": {
        "scrolled": false,
        "colab": {
          "base_uri": "https://localhost:8080/",
          "height": 569
        },
        "id": "K-va35bMlFBY",
        "outputId": "df87203c-da56-459d-c484-232b6d9a1d76"
      },
      "outputs": [
        {
          "output_type": "display_data",
          "data": {
            "text/plain": [
              "<Figure size 864x144 with 1 Axes>"
            ],
            "image/png": "[encoded data removed]"
          },
          "metadata": {
            "needs_background": "light"
          }
        },
        {
          "output_type": "display_data",
          "data": {
            "text/plain": [
              "<Figure size 864x144 with 1 Axes>"
            ],
            "image/png": "[encoded data removed]"
          },
          "metadata": {
            "needs_background": "light"
          }
        },
        {
          "output_type": "display_data",
          "data": {
            "text/plain": [
              "<Figure size 864x144 with 1 Axes>"
            ],
            "image/png": "[encoded data removed]"
          },
          "metadata": {
            "needs_background": "light"
          }
        }
      ],
      "source": [
        "count = 0\n",
        "colors = ['#78C850', '#F08030', '#6890F0']\n",
        "for df in [geo_data_0, geo_data_1, geo_data_2]:\n",
        "    g = sns.catplot(x='product', kind='box',data = df, color = colors[count])\n",
        "    g.fig.set_figwidth(12)\n",
        "    g.fig.set_figheight(2)\n",
        "    count+=1\n",
        "    plt.title(f'Регион {count}') \n",
        "    "
      ]
    },
    {
      "cell_type": "markdown",
      "metadata": {
        "id": "bN_52gR3lFBZ"
      },
      "source": [
        "## Обучение и проверка модели"
      ]
    },
    {
      "cell_type": "markdown",
      "metadata": {
        "id": "aMtrZKmhlFBa"
      },
      "source": [
        "Построим модель линейной регрессии для каждого из трех регионов.\n",
        "\n",
        "Для этого напишем функцию, которая разделит данные на основные и целевые признаки, а затем каждый полученный тип признаков в свою очередь на обучающую и валидационную выборки из соотношения 75:25. Обучим модель на обучающей выборке и получим предсказания на признаках валидационной выборки.\n",
        "\n"
      ]
    },
    {
      "cell_type": "code",
      "execution_count": null,
      "metadata": {
        "scrolled": true,
        "colab": {
          "base_uri": "https://localhost:8080/"
        },
        "id": "Er6wthF6lFBa",
        "outputId": "4d9b97fd-2ced-425e-8837-a0a66b2fc580"
      },
      "outputs": [
        {
          "output_type": "stream",
          "name": "stdout",
          "text": [
            "Регион 1\n",
            "(75000, 3)\n",
            "(25000, 3)\n",
            "(75000,)\n",
            "(25000,)\n",
            "Средний запас предсказанного сырья, тыс. баррелей: 92.59256778438035\n",
            "RMSE модели линейной регрессии на валидационной выборке: 37.5794217150813\n",
            "\n",
            "Регион 2\n",
            "(75000, 3)\n",
            "(25000, 3)\n",
            "(75000,)\n",
            "(25000,)\n",
            "Средний запас предсказанного сырья, тыс. баррелей: 68.728546895446\n",
            "RMSE модели линейной регрессии на валидационной выборке: 0.893099286775617\n",
            "\n",
            "Регион 3\n",
            "(75000, 3)\n",
            "(25000, 3)\n",
            "(75000,)\n",
            "(25000,)\n",
            "Средний запас предсказанного сырья, тыс. баррелей: 94.96504596800489\n",
            "RMSE модели линейной регрессии на валидационной выборке: 40.02970873393434\n",
            "\n"
          ]
        }
      ],
      "source": [
        "def LinReg(region):\n",
        "    target = region['product']\n",
        "    features = region.drop(['product','id'] , axis=1)\n",
        "    features_train, features_valid, target_train, target_valid = train_test_split(\n",
        "    features, target, test_size=.25, random_state = RANDOM_STATE)\n",
        "    model = LinearRegression()\n",
        "    model.fit(features_train,target_train)\n",
        "    predicted_valid = model.predict(features_valid)\n",
        "    return features_train, features_valid, target_train, target_valid, model, predicted_valid\n",
        "i = 1\n",
        "for region in [geo_data_0, geo_data_1, geo_data_2]:\n",
        "    print (f'Регион {i}')\n",
        "    LinReg(region)\n",
        "    features_train, features_valid, target_train, target_valid, model, predicted_valid = LinReg(region)\n",
        "    print(features_train.shape) #проверим объем полученных данных по каждой выборке\n",
        "    print (features_valid.shape)\n",
        "    print(target_train.shape) \n",
        "    print (target_valid.shape)\n",
        "    print ('Средний запас предсказанного сырья, тыс. баррелей:',predicted_valid.mean() )\n",
        "    result = mean_squared_error(target_valid,predicted_valid)**0.5\n",
        "    print(\"RMSE модели линейной регрессии на валидационной выборке:\", result)\n",
        "    i +=1\n",
        "    print ('')\n",
        "    \n"
      ]
    },
    {
      "cell_type": "markdown",
      "metadata": {
        "id": "Zzd6yCJNlFBa"
      },
      "source": [
        "Наибольший средний запас сырья выявлен в третьем регионе (~ 95K баррелей) , но при этом корень из средней квадратичной ошибки (RSME) в данном случае самый высокий (~ 40K баррелей), что свидетельствует об очень низкой точности модели для рассиатриваемых данных.\n",
        "\n",
        "Показатели по первому региону очень близки к показателям третьего региона, здесь также средний запас сырья довольно высок, но и метрики качества модели очень низкие.\n",
        "\n",
        "Вторая выборка показывает самые низкие средние запасы для региона,модель при этом имеет высокую точность, метрика RSME здесь близка к нулю."
      ]
    },
    {
      "cell_type": "markdown",
      "metadata": {
        "id": "EAkw5wjklFBb"
      },
      "source": [
        "## Подготовка к расчёту прибыли"
      ]
    },
    {
      "cell_type": "markdown",
      "metadata": {
        "id": "Fymlqu1qlFBb"
      },
      "source": [
        "Уровень достаточного объёма сырья для безубыточной разработки новой скважины определим как затраты бюджета (BUDGET) на освоение одной из 200 лучших скважин (BEST_WELLS),  с учетом прибыли, приносимой от каждой скважины ( PROFIT_BARRELS)  . Для сравнения полученного показателя со средними запасами в каждом регионе, построим сводную таблицу. Сравним полученный объём сырья со средним запасом в каждом регионе."
      ]
    },
    {
      "cell_type": "code",
      "execution_count": null,
      "metadata": {
        "colab": {
          "base_uri": "https://localhost:8080/"
        },
        "id": "vcDcRyHulFBb",
        "outputId": "ac8a0f8b-40c9-4bb6-c104-fcb11d244664"
      },
      "outputs": [
        {
          "output_type": "stream",
          "name": "stdout",
          "text": [
            "Достаточный объём сырья для безубыточной разработки новой скважины: 111.11 тыс. баррелей\n"
          ]
        }
      ],
      "source": [
        "PRODUCT_ENOUGH = BUDGET/BEST_WELLS/PROFIT_BARRELS\n",
        "print (f'Достаточный объём сырья для безубыточной разработки новой скважины: {round(PRODUCT_ENOUGH,2)} тыс. баррелей')"
      ]
    },
    {
      "cell_type": "code",
      "execution_count": null,
      "metadata": {
        "scrolled": true,
        "colab": {
          "base_uri": "https://localhost:8080/",
          "height": 175
        },
        "id": "fbxT1Oe-lFBc",
        "outputId": "1d1e3ba7-20cf-46ec-c89b-b1f94258c213"
      },
      "outputs": [
        {
          "output_type": "execute_result",
          "data": {
            "text/plain": [
              "          Средний запас предсказанного сырья, тыс. баррелей  RSME\n",
              "Регион                                                           \n",
              "Регион 1                                               92.6  37.6\n",
              "Регион 2                                               68.7   0.9\n",
              "Регион 3                                               95.0  40.0"
            ],
            "text/html": [
              "\n",
              "  <div id=\"df-443e3809-d17b-409c-a1ac-f3bbf96cc3d0\">\n",
              "    <div class=\"colab-df-container\">\n",
              "      <div>\n",
              "<style scoped>\n",
              "    .dataframe tbody tr th:only-of-type {\n",
              "        vertical-align: middle;\n",
              "    }\n",
              "\n",
              "    .dataframe tbody tr th {\n",
              "        vertical-align: top;\n",
              "    }\n",
              "\n",
              "    .dataframe thead th {\n",
              "        text-align: right;\n",
              "    }\n",
              "</style>\n",
              "<table border=\"1\" class=\"dataframe\">\n",
              "  <thead>\n",
              "    <tr style=\"text-align: right;\">\n",
              "      <th></th>\n",
              "      <th>Средний запас предсказанного сырья, тыс. баррелей</th>\n",
              "      <th>RSME</th>\n",
              "    </tr>\n",
              "    <tr>\n",
              "      <th>Регион</th>\n",
              "      <th></th>\n",
              "      <th></th>\n",
              "    </tr>\n",
              "  </thead>\n",
              "  <tbody>\n",
              "    <tr>\n",
              "      <th>Регион 1</th>\n",
              "      <td>92.6</td>\n",
              "      <td>37.6</td>\n",
              "    </tr>\n",
              "    <tr>\n",
              "      <th>Регион 2</th>\n",
              "      <td>68.7</td>\n",
              "      <td>0.9</td>\n",
              "    </tr>\n",
              "    <tr>\n",
              "      <th>Регион 3</th>\n",
              "      <td>95.0</td>\n",
              "      <td>40.0</td>\n",
              "    </tr>\n",
              "  </tbody>\n",
              "</table>\n",
              "</div>\n",
              "      <button class=\"colab-df-convert\" onclick=\"convertToInteractive('df-443e3809-d17b-409c-a1ac-f3bbf96cc3d0')\"\n",
              "              title=\"Convert this dataframe to an interactive table.\"\n",
              "              style=\"display:none;\">\n",
              "        \n",
              "  <svg xmlns=\"http://www.w3.org/2000/svg\" height=\"24px\"viewBox=\"0 0 24 24\"\n",
              "       width=\"24px\">\n",
              "    <path d=\"M0 0h24v24H0V0z\" fill=\"none\"/>\n",
              "    <path d=\"M18.56 5.44l.94 2.06.94-2.06 2.06-.94-2.06-.94-.94-2.06-.94 2.06-2.06.94zm-11 1L8.5 8.5l.94-2.06 2.06-.94-2.06-.94L8.5 2.5l-.94 2.06-2.06.94zm10 10l.94 2.06.94-2.06 2.06-.94-2.06-.94-.94-2.06-.94 2.06-2.06.94z\"/><path d=\"M17.41 7.96l-1.37-1.37c-.4-.4-.92-.59-1.43-.59-.52 0-1.04.2-1.43.59L10.3 9.45l-7.72 7.72c-.78.78-.78 2.05 0 2.83L4 21.41c.39.39.9.59 1.41.59.51 0 1.02-.2 1.41-.59l7.78-7.78 2.81-2.81c.8-.78.8-2.07 0-2.86zM5.41 20L4 18.59l7.72-7.72 1.47 1.35L5.41 20z\"/>\n",
              "  </svg>\n",
              "      </button>\n",
              "      \n",
              "  <style>\n",
              "    .colab-df-container {\n",
              "      display:flex;\n",
              "      flex-wrap:wrap;\n",
              "      gap: 12px;\n",
              "    }\n",
              "\n",
              "    .colab-df-convert {\n",
              "      background-color: #E8F0FE;\n",
              "      border: none;\n",
              "      border-radius: 50%;\n",
              "      cursor: pointer;\n",
              "      display: none;\n",
              "      fill: #1967D2;\n",
              "      height: 32px;\n",
              "      padding: 0 0 0 0;\n",
              "      width: 32px;\n",
              "    }\n",
              "\n",
              "    .colab-df-convert:hover {\n",
              "      background-color: #E2EBFA;\n",
              "      box-shadow: 0px 1px 2px rgba(60, 64, 67, 0.3), 0px 1px 3px 1px rgba(60, 64, 67, 0.15);\n",
              "      fill: #174EA6;\n",
              "    }\n",
              "\n",
              "    [theme=dark] .colab-df-convert {\n",
              "      background-color: #3B4455;\n",
              "      fill: #D2E3FC;\n",
              "    }\n",
              "\n",
              "    [theme=dark] .colab-df-convert:hover {\n",
              "      background-color: #434B5C;\n",
              "      box-shadow: 0px 1px 3px 1px rgba(0, 0, 0, 0.15);\n",
              "      filter: drop-shadow(0px 1px 2px rgba(0, 0, 0, 0.3));\n",
              "      fill: #FFFFFF;\n",
              "    }\n",
              "  </style>\n",
              "\n",
              "      <script>\n",
              "        const buttonEl =\n",
              "          document.querySelector('#df-443e3809-d17b-409c-a1ac-f3bbf96cc3d0 button.colab-df-convert');\n",
              "        buttonEl.style.display =\n",
              "          google.colab.kernel.accessAllowed ? 'block' : 'none';\n",
              "\n",
              "        async function convertToInteractive(key) {\n",
              "          const element = document.querySelector('#df-443e3809-d17b-409c-a1ac-f3bbf96cc3d0');\n",
              "          const dataTable =\n",
              "            await google.colab.kernel.invokeFunction('convertToInteractive',\n",
              "                                                     [key], {});\n",
              "          if (!dataTable) return;\n",
              "\n",
              "          const docLinkHtml = 'Like what you see? Visit the ' +\n",
              "            '<a target=\"_blank\" href=https://colab.research.google.com/notebooks/data_table.ipynb>data table notebook</a>'\n",
              "            + ' to learn more about interactive tables.';\n",
              "          element.innerHTML = '';\n",
              "          dataTable['output_type'] = 'display_data';\n",
              "          await google.colab.output.renderOutput(dataTable, element);\n",
              "          const docLink = document.createElement('div');\n",
              "          docLink.innerHTML = docLinkHtml;\n",
              "          element.appendChild(docLink);\n",
              "        }\n",
              "      </script>\n",
              "    </div>\n",
              "  </div>\n",
              "  "
            ]
          },
          "metadata": {},
          "execution_count": 41
        }
      ],
      "source": [
        "d = {'Регион': ['Регион 1', 'Регион 2', \n",
        "    'Регион 3'], 'Средний запас предсказанного сырья, тыс. баррелей': [92.6, 68.7, 95.0], 'RSME':[37.6,0.9,40.0]}\n",
        "df = pd.DataFrame(data=d).set_index('Регион')\n",
        "df"
      ]
    },
    {
      "cell_type": "markdown",
      "metadata": {
        "id": "ZR3DMJySlFBc"
      },
      "source": [
        "Как видно из сводной таблицы, средний запас предсказанного сырья меньше порога безубыточности ( 111,11 тыс. баррелей) для всех регионов, но при этом следует учитывать высокие показатели среднеквадратичной ошибки в первом и третьем регионах.\n"
      ]
    },
    {
      "cell_type": "markdown",
      "metadata": {
        "id": "Svmh_lpNlFBc"
      },
      "source": [
        "Напишем функцию для  для расчёта прибыли по выбранным скважинам и предсказаниям модели.\n",
        "Для этого выберем скважины с максимальными значениями предсказаний, используя  метод `sort_values`с сортировкой по убыванию значений. Затем просуммируем целевое значение объёма сырья, соответствующее этим предсказаниям и рассчитаем прибыль для полученного объёма сырья.\n",
        "\n",
        "Первую часть функции будем использовать для расчета среднего запаса сырья для выборки из 200 скважин с наилучшими показателями запаса.\n",
        "\n",
        "Вторую часть функции будем применять для техники Bootstrap."
      ]
    },
    {
      "cell_type": "code",
      "execution_count": null,
      "metadata": {
        "colab": {
          "base_uri": "https://localhost:8080/"
        },
        "id": "9pnDU0rQlFBd",
        "outputId": "c0f16505-1cc8-4ad9-b87e-e5e2afc3c4be"
      },
      "outputs": [
        {
          "output_type": "stream",
          "name": "stdout",
          "text": [
            "=== Регион  1 ===\n",
            "Средний запас сырья среди скважин с максимальным показателем: 117.84\n",
            "Суммарный целевой объём сырья: 23567.70\n",
            "Прибыль для полученного объёма сырья: 0.61\n",
            "\n",
            "=== Регион  2 ===\n",
            "Средний запас сырья среди скважин с максимальным показателем: 113.64\n",
            "Суммарный целевой объём сырья: 22728.92\n",
            "Прибыль для полученного объёма сырья: 0.23\n",
            "\n",
            "=== Регион  3 ===\n",
            "Средний запас сырья среди скважин с максимальным показателем: 110.31\n",
            "Суммарный целевой объём сырья: 22062.45\n",
            "Прибыль для полученного объёма сырья: -0.07\n",
            "\n"
          ]
        }
      ],
      "source": [
        "def revenue(target, prediction, count, show_rev):\n",
        "    state = np.random.RandomState(12345)\n",
        "    prediction = pd.Series(prediction,index=target.index)\n",
        "    if show_rev == True:\n",
        "        prediction_sample = prediction.sample(n=TOTAL_WELLS,replace = True,random_state=state)\n",
        "        prediction_sorted = prediction_sample.sort_values(ascending=False)\n",
        "        target_sorted = target[prediction_sorted.index][:count]\n",
        "        top_wells_mean = target_sorted.mean()\n",
        "        target_revenue = target_sorted.sum()*PROFIT_BARRELS\n",
        "        net_revenue = target_revenue - BUDGET\n",
        "        volume = sum(target_sorted)\n",
        "        print('Средний запас сырья среди скважин с максимальным показателем: {:.2f}'.format(top_wells_mean))\n",
        "        print('Суммарный целевой объём сырья: {:.2f}'.format(volume))\n",
        "        print('Прибыль для полученного объёма сырья: {:.2f}\\n'.format(net_revenue/1000000000))\n",
        "    else:\n",
        "        prediction_sorted = prediction.sort_values(ascending=False)\n",
        "        target_sorted = target[prediction_sorted.index][:count]\n",
        "        top_wells_mean = target_sorted.mean()\n",
        "        target_revenue = target_sorted.sum()*PROFIT_BARRELS\n",
        "        net_revenue = target_revenue - BUDGET\n",
        "        return np.around(net_revenue/1000000000,decimals = 3)\n",
        "i=1    \n",
        "for region in [geo_data_0, geo_data_1, geo_data_2]:\n",
        "    print('===','Регион ',i, '===')\n",
        "    features_train, features_valid, target_train, target_valid, model, predicted_valid = LinReg(region)\n",
        "    revenue(target_valid, predicted_valid, BEST_WELLS,show_rev=True)\n",
        "    i +=1\n",
        "    \n",
        "\n"
      ]
    },
    {
      "cell_type": "markdown",
      "metadata": {
        "id": "WHtD5bZjlFBd"
      },
      "source": [
        "## Расчёт прибыли и рисков "
      ]
    },
    {
      "cell_type": "markdown",
      "metadata": {
        "id": "BL_jWBfflFBe"
      },
      "source": [
        "Посчитаем риски и прибыль для каждого региона. Для этого применим технику Bootstrap с 1000 выборок, чтобы найти распределение прибыли. Найдем среднюю прибыль, 95%-й доверительный интервал и риск убытков. В качестве убытка будем рассматривать отрицательную прибыль.\n"
      ]
    },
    {
      "cell_type": "code",
      "execution_count": null,
      "metadata": {
        "scrolled": true,
        "colab": {
          "base_uri": "https://localhost:8080/"
        },
        "id": "FBgW_LWllFBe",
        "outputId": "061abf16-410b-4d2c-dbc0-f85c36636de5"
      },
      "outputs": [
        {
          "output_type": "stream",
          "name": "stdout",
          "text": [
            "Регион 1\n",
            "Средняя прибыль: 0.426 млрд. руб.\n",
            "Вероятность убытка: 6.0 %\n",
            "95%-ый доверительный интервал: -0.102 , 0.948 млрд. руб.\n",
            "\n",
            "Регион 2\n",
            "Средняя прибыль: 0.515 млрд. руб.\n",
            "Вероятность убытка: 1.0 %\n",
            "95%-ый доверительный интервал: 0.069 , 0.931 млрд. руб.\n",
            "\n",
            "Регион 3\n",
            "Средняя прибыль: 0.435 млрд. руб.\n",
            "Вероятность убытка: 6.4 %\n",
            "95%-ый доверительный интервал: -0.129 , 0.97 млрд. руб.\n",
            "\n"
          ]
        }
      ],
      "source": [
        "def revenue_bootstrap(target,prediction):\n",
        "    count = 0\n",
        "    prediction = pd.Series(prediction, index=target.index)\n",
        "    state = np.random.RandomState(12345)\n",
        "    values = []\n",
        "    for i in range(1000):\n",
        "        prediction_subsample = prediction.sample(n=TOTAL_WELLS,replace = True,random_state=state)\n",
        "        target_subsample = target[prediction_subsample.index]\n",
        "        reven = revenue(target_subsample,prediction_subsample,BEST_WELLS,show_rev=False)\n",
        "        values.append(reven)\n",
        "        if reven <0: # считаем количество случаев возникновения убытков\n",
        "            count += 1\n",
        "        \n",
        "    values = pd.Series(values)\n",
        "    lower = values.quantile(0.025)\n",
        "    upper = values.quantile(0.975)\n",
        "    mean = values.mean()\n",
        "    risk_rate = count/1000*100 # считаем долю случаев возникновения убытков\n",
        "#   confidence_interval = st.t.interval(.95,len(values)-1,values.mean(),values.sem())\n",
        "    print(\"Средняя прибыль:\", round(mean,3), 'млрд. руб.')\n",
        "    print(\"Вероятность убытка:\", round(risk_rate,2), '%')\n",
        "    print(\"95%-ый доверительный интервал:\", round(lower,3),\",\", round(upper,3), 'млрд. руб.')\n",
        "i=1\n",
        "for region in [geo_data_0, geo_data_1, geo_data_2]:\n",
        "    print (f'Регион {i}')\n",
        "    features_train, features_valid, target_train, target_valid, model, predicted_valid = LinReg(region)\n",
        "    revenue_bootstrap(target_valid,predicted_valid)\n",
        "    i+=1\n",
        "    print(\"\")\n",
        "\n"
      ]
    },
    {
      "cell_type": "markdown",
      "metadata": {
        "id": "-CiGWQg6lFBf"
      },
      "source": [
        "С вероятностями 6% и 6.4% при выборе первого и третьего регионов могут возникнуть убытки.\n",
        "\n",
        "Во втором регионе разработка окажется безубыточной в 99% случаев.\n",
        "\n",
        "Этот регион также показывает наибольший уровень средней возможной прибыли.\n",
        "\n",
        "В 95% случаев прибыль окажется на уровне 0.069 - 0.931 млрд. рублей.\n",
        "\n",
        "\n",
        "\n",
        "Исходя из анализа полученных данных можем с уверенностью рекомендовать второй регион для разработки месторождений."
      ]
    },
    {
      "cell_type": "markdown",
      "metadata": {
        "id": "ACnxAoyplFBg"
      },
      "source": [
        "## Общий вывод"
      ]
    },
    {
      "cell_type": "markdown",
      "metadata": {
        "id": "dGhaF8RvlFBg"
      },
      "source": [
        "При начальном построении модели и предсказаний:\n",
        "\n",
        "*  В регионах 1 и 3 достаточно высокий средний показатель запаса предсказанного сырья. Однако RMSE для данных регионов также      высок (37.6 и 40.0 соответственно). Это свидетельствует о неоднозначности показателя, неточности модели регрессии.\n",
        "\n",
        "*  В регионе 2 средний показатель запаса предсказанного сырья составляет 68.7 (ниже остальных регионов). Однако RMSE в данном      регионе также мал (0.9). Это говорит о точности предсказаний и качестве построенной модели.\n",
        "\n",
        "*  Средние показатели предсказанного сырья для одной скважины ниже теоретически необходимых (111.11) для всех регионов.\n",
        "\n",
        "При расчёте показателей для 200 наилучших скважин из выборочных 500:\n",
        "   \n",
        "   * Средний запас сырья с одной скважины для 1го и 2го регионов превосходит минимально необходимый объём, для третьего региона      средний запас сырья недостаточен.\n",
        "\n",
        "При применении техники bootstrap:\n",
        "    \n",
        "   * Оценка средней прибыли максимальна для региона 2 (515 млн.)\n",
        "   * Риск убытков для региона 2 минимальный, в 99% случаев добыча в этом регионе принесет прибыль.\n",
        "\n",
        "Рекомендуем регион 2 для разработки."
      ]
    },
    {
      "cell_type": "code",
      "source": [],
      "metadata": {
        "id": "oV6z1Lq02R_8"
      },
      "execution_count": null,
      "outputs": []
    }
  ],
  "metadata": {
    "ExecuteTimeLog": [
      {
        "duration": 429,
        "start_time": "2022-06-17T09:59:35.338Z"
      },
      {
        "duration": 10,
        "start_time": "2022-06-17T10:00:00.949Z"
      },
      {
        "duration": 18,
        "start_time": "2022-06-17T10:00:12.136Z"
      },
      {
        "duration": 44,
        "start_time": "2022-06-17T10:00:36.275Z"
      },
      {
        "duration": 10,
        "start_time": "2022-06-17T10:01:39.881Z"
      },
      {
        "duration": 14,
        "start_time": "2022-06-17T10:01:50.754Z"
      },
      {
        "duration": 15,
        "start_time": "2022-06-17T10:01:53.515Z"
      },
      {
        "duration": 41,
        "start_time": "2022-06-17T10:02:04.259Z"
      },
      {
        "duration": 414,
        "start_time": "2022-06-17T10:02:48.650Z"
      },
      {
        "duration": 10,
        "start_time": "2022-06-17T10:02:50.658Z"
      },
      {
        "duration": 22,
        "start_time": "2022-06-17T10:02:50.844Z"
      },
      {
        "duration": 42,
        "start_time": "2022-06-17T10:02:51.649Z"
      },
      {
        "duration": 11,
        "start_time": "2022-06-17T10:02:53.744Z"
      },
      {
        "duration": 15,
        "start_time": "2022-06-17T10:02:56.877Z"
      },
      {
        "duration": 42,
        "start_time": "2022-06-17T10:02:59.178Z"
      },
      {
        "duration": 12,
        "start_time": "2022-06-17T10:03:20.193Z"
      },
      {
        "duration": 15,
        "start_time": "2022-06-17T10:03:32.254Z"
      },
      {
        "duration": 49,
        "start_time": "2022-06-17T10:03:47.963Z"
      },
      {
        "duration": 70,
        "start_time": "2022-06-17T10:06:11.958Z"
      },
      {
        "duration": 598,
        "start_time": "2022-06-17T10:06:20.415Z"
      },
      {
        "duration": 9322,
        "start_time": "2022-06-17T10:06:29.488Z"
      },
      {
        "duration": 412,
        "start_time": "2022-06-17T10:07:55.752Z"
      },
      {
        "duration": 20,
        "start_time": "2022-06-17T10:08:43.177Z"
      },
      {
        "duration": 21,
        "start_time": "2022-06-17T10:09:05.838Z"
      },
      {
        "duration": 16,
        "start_time": "2022-06-17T10:09:10.775Z"
      },
      {
        "duration": 1574,
        "start_time": "2022-06-17T10:13:10.237Z"
      },
      {
        "duration": 22,
        "start_time": "2022-06-17T10:13:11.813Z"
      },
      {
        "duration": 29,
        "start_time": "2022-06-17T10:13:11.842Z"
      },
      {
        "duration": 43,
        "start_time": "2022-06-17T10:13:11.874Z"
      },
      {
        "duration": 3072,
        "start_time": "2022-06-17T10:16:56.907Z"
      },
      {
        "duration": 20,
        "start_time": "2022-06-17T10:17:00.024Z"
      },
      {
        "duration": 80,
        "start_time": "2022-06-17T10:17:00.050Z"
      },
      {
        "duration": 100,
        "start_time": "2022-06-17T10:17:00.133Z"
      },
      {
        "duration": 11,
        "start_time": "2022-06-17T10:17:00.243Z"
      },
      {
        "duration": 80,
        "start_time": "2022-06-17T10:17:00.256Z"
      },
      {
        "duration": 105,
        "start_time": "2022-06-17T10:17:00.338Z"
      },
      {
        "duration": 11,
        "start_time": "2022-06-17T10:17:00.445Z"
      },
      {
        "duration": 75,
        "start_time": "2022-06-17T10:17:00.458Z"
      },
      {
        "duration": 99,
        "start_time": "2022-06-17T10:17:00.535Z"
      },
      {
        "duration": 114,
        "start_time": "2022-06-17T10:18:00.039Z"
      },
      {
        "duration": 181,
        "start_time": "2022-06-17T10:18:25.651Z"
      },
      {
        "duration": 17,
        "start_time": "2022-06-17T10:18:30.521Z"
      },
      {
        "duration": 8,
        "start_time": "2022-06-17T10:18:46.195Z"
      },
      {
        "duration": 11,
        "start_time": "2022-06-17T10:18:50.495Z"
      },
      {
        "duration": 12,
        "start_time": "2022-06-17T10:18:52.966Z"
      },
      {
        "duration": 13,
        "start_time": "2022-06-17T10:18:55.818Z"
      },
      {
        "duration": 53,
        "start_time": "2022-06-17T10:20:35.607Z"
      },
      {
        "duration": 53,
        "start_time": "2022-06-17T10:20:38.323Z"
      },
      {
        "duration": 46,
        "start_time": "2022-06-17T10:20:41.271Z"
      },
      {
        "duration": 130,
        "start_time": "2022-06-17T10:20:56.216Z"
      },
      {
        "duration": 136,
        "start_time": "2022-06-17T10:21:03.399Z"
      },
      {
        "duration": 123,
        "start_time": "2022-06-17T10:21:16.885Z"
      },
      {
        "duration": 115,
        "start_time": "2022-06-17T10:21:23.504Z"
      },
      {
        "duration": 360,
        "start_time": "2022-06-17T12:48:41.453Z"
      },
      {
        "duration": 18,
        "start_time": "2022-06-17T12:48:41.815Z"
      },
      {
        "duration": 21,
        "start_time": "2022-06-17T12:48:41.839Z"
      },
      {
        "duration": 35,
        "start_time": "2022-06-17T12:48:41.862Z"
      },
      {
        "duration": 8,
        "start_time": "2022-06-17T12:48:41.899Z"
      },
      {
        "duration": 20,
        "start_time": "2022-06-17T12:48:41.926Z"
      },
      {
        "duration": 45,
        "start_time": "2022-06-17T12:48:41.948Z"
      },
      {
        "duration": 28,
        "start_time": "2022-06-17T12:48:41.995Z"
      },
      {
        "duration": 16,
        "start_time": "2022-06-17T12:48:42.035Z"
      },
      {
        "duration": 37,
        "start_time": "2022-06-17T12:48:42.054Z"
      },
      {
        "duration": 144,
        "start_time": "2022-06-17T12:48:42.092Z"
      },
      {
        "duration": 1987,
        "start_time": "2022-06-17T13:24:29.391Z"
      },
      {
        "duration": 14,
        "start_time": "2022-06-17T13:24:31.380Z"
      },
      {
        "duration": 37,
        "start_time": "2022-06-17T13:24:31.397Z"
      },
      {
        "duration": 54,
        "start_time": "2022-06-17T13:24:31.436Z"
      },
      {
        "duration": 9,
        "start_time": "2022-06-17T13:24:31.491Z"
      },
      {
        "duration": 31,
        "start_time": "2022-06-17T13:24:31.502Z"
      },
      {
        "duration": 44,
        "start_time": "2022-06-17T13:24:31.538Z"
      },
      {
        "duration": 8,
        "start_time": "2022-06-17T13:24:31.584Z"
      },
      {
        "duration": 20,
        "start_time": "2022-06-17T13:24:31.594Z"
      },
      {
        "duration": 38,
        "start_time": "2022-06-17T13:24:31.628Z"
      },
      {
        "duration": 136,
        "start_time": "2022-06-17T13:24:31.667Z"
      },
      {
        "duration": 273,
        "start_time": "2022-06-17T13:24:31.805Z"
      },
      {
        "duration": 2391,
        "start_time": "2022-06-21T07:58:42.902Z"
      },
      {
        "duration": 143,
        "start_time": "2022-06-21T07:59:00.283Z"
      },
      {
        "duration": 14,
        "start_time": "2022-06-21T07:59:09.996Z"
      },
      {
        "duration": 14,
        "start_time": "2022-06-21T07:59:16.537Z"
      },
      {
        "duration": 804,
        "start_time": "2022-06-21T07:59:40.669Z"
      },
      {
        "duration": 17,
        "start_time": "2022-06-21T07:59:53.380Z"
      },
      {
        "duration": 11,
        "start_time": "2022-06-21T08:00:01.616Z"
      },
      {
        "duration": 4,
        "start_time": "2022-06-21T08:00:06.016Z"
      },
      {
        "duration": 92,
        "start_time": "2022-06-21T08:01:16.835Z"
      },
      {
        "duration": 97,
        "start_time": "2022-06-21T08:01:38.178Z"
      },
      {
        "duration": 1126,
        "start_time": "2022-06-21T08:05:25.674Z"
      },
      {
        "duration": 401,
        "start_time": "2022-06-21T08:07:21.043Z"
      },
      {
        "duration": 1117,
        "start_time": "2022-06-21T08:07:22.793Z"
      },
      {
        "duration": 18,
        "start_time": "2022-06-21T08:08:44.691Z"
      },
      {
        "duration": 37,
        "start_time": "2022-06-21T08:08:55.448Z"
      },
      {
        "duration": 11,
        "start_time": "2022-06-21T08:09:08.442Z"
      },
      {
        "duration": 14,
        "start_time": "2022-06-21T08:09:17.811Z"
      },
      {
        "duration": 37,
        "start_time": "2022-06-21T08:09:28.874Z"
      },
      {
        "duration": 11,
        "start_time": "2022-06-21T08:09:38.785Z"
      },
      {
        "duration": 14,
        "start_time": "2022-06-21T08:09:50.703Z"
      },
      {
        "duration": 35,
        "start_time": "2022-06-21T08:10:04.119Z"
      },
      {
        "duration": 117,
        "start_time": "2022-06-21T08:10:19.068Z"
      },
      {
        "duration": 223,
        "start_time": "2022-06-21T08:10:49.330Z"
      },
      {
        "duration": 9,
        "start_time": "2022-06-21T08:12:10.664Z"
      },
      {
        "duration": 349,
        "start_time": "2022-06-21T08:12:46.250Z"
      },
      {
        "duration": 9,
        "start_time": "2022-06-21T08:12:46.601Z"
      },
      {
        "duration": 41,
        "start_time": "2022-06-21T08:12:46.611Z"
      },
      {
        "duration": 34,
        "start_time": "2022-06-21T08:12:46.653Z"
      },
      {
        "duration": 9,
        "start_time": "2022-06-21T08:12:46.689Z"
      },
      {
        "duration": 32,
        "start_time": "2022-06-21T08:12:46.700Z"
      },
      {
        "duration": 55,
        "start_time": "2022-06-21T08:12:46.734Z"
      },
      {
        "duration": 9,
        "start_time": "2022-06-21T08:12:46.790Z"
      },
      {
        "duration": 30,
        "start_time": "2022-06-21T08:12:46.800Z"
      },
      {
        "duration": 45,
        "start_time": "2022-06-21T08:12:46.832Z"
      },
      {
        "duration": 120,
        "start_time": "2022-06-21T08:12:46.878Z"
      },
      {
        "duration": 1136,
        "start_time": "2022-06-21T08:12:47.000Z"
      },
      {
        "duration": 115,
        "start_time": "2022-06-21T08:12:48.138Z"
      },
      {
        "duration": 396,
        "start_time": "2022-06-21T08:14:24.299Z"
      },
      {
        "duration": 382,
        "start_time": "2022-06-21T08:14:29.886Z"
      },
      {
        "duration": 339,
        "start_time": "2022-06-21T08:14:48.177Z"
      },
      {
        "duration": 320,
        "start_time": "2022-06-21T08:14:57.479Z"
      },
      {
        "duration": 352,
        "start_time": "2022-06-21T08:15:17.016Z"
      },
      {
        "duration": 1062,
        "start_time": "2022-06-21T08:19:15.024Z"
      },
      {
        "duration": 1134,
        "start_time": "2022-06-21T08:20:08.184Z"
      },
      {
        "duration": 1114,
        "start_time": "2022-06-21T08:20:24.342Z"
      },
      {
        "duration": 1000,
        "start_time": "2022-06-21T08:21:52.426Z"
      },
      {
        "duration": 950,
        "start_time": "2022-06-21T08:22:07.776Z"
      },
      {
        "duration": 52,
        "start_time": "2022-06-21T08:22:53.397Z"
      },
      {
        "duration": 48,
        "start_time": "2022-06-21T08:22:59.366Z"
      },
      {
        "duration": 53,
        "start_time": "2022-06-21T08:23:06.424Z"
      },
      {
        "duration": 1021,
        "start_time": "2022-06-21T08:23:09.918Z"
      },
      {
        "duration": 55,
        "start_time": "2022-06-21T08:23:33.919Z"
      },
      {
        "duration": 955,
        "start_time": "2022-06-21T08:23:38.967Z"
      },
      {
        "duration": 1059,
        "start_time": "2022-06-21T08:23:43.701Z"
      },
      {
        "duration": 1045,
        "start_time": "2022-06-21T08:29:45.039Z"
      },
      {
        "duration": 44,
        "start_time": "2022-06-21T08:30:21.150Z"
      },
      {
        "duration": 41,
        "start_time": "2022-06-21T08:30:58.577Z"
      },
      {
        "duration": 46,
        "start_time": "2022-06-21T08:31:16.959Z"
      },
      {
        "duration": 43,
        "start_time": "2022-06-21T08:31:31.072Z"
      },
      {
        "duration": 43,
        "start_time": "2022-06-21T08:31:56.676Z"
      },
      {
        "duration": 41,
        "start_time": "2022-06-21T08:32:30.629Z"
      },
      {
        "duration": 998,
        "start_time": "2022-06-21T08:32:43.413Z"
      },
      {
        "duration": 57,
        "start_time": "2022-06-21T08:35:52.895Z"
      },
      {
        "duration": 324,
        "start_time": "2022-06-21T08:35:58.343Z"
      },
      {
        "duration": 9,
        "start_time": "2022-06-21T08:35:58.669Z"
      },
      {
        "duration": 14,
        "start_time": "2022-06-21T08:35:58.680Z"
      },
      {
        "duration": 55,
        "start_time": "2022-06-21T08:35:58.697Z"
      },
      {
        "duration": 8,
        "start_time": "2022-06-21T08:35:58.754Z"
      },
      {
        "duration": 14,
        "start_time": "2022-06-21T08:35:58.764Z"
      },
      {
        "duration": 33,
        "start_time": "2022-06-21T08:35:58.780Z"
      },
      {
        "duration": 8,
        "start_time": "2022-06-21T08:35:58.814Z"
      },
      {
        "duration": 38,
        "start_time": "2022-06-21T08:35:58.824Z"
      },
      {
        "duration": 37,
        "start_time": "2022-06-21T08:35:58.864Z"
      },
      {
        "duration": 147,
        "start_time": "2022-06-21T08:35:58.903Z"
      },
      {
        "duration": 1031,
        "start_time": "2022-06-21T08:35:59.052Z"
      },
      {
        "duration": 168,
        "start_time": "2022-06-21T08:36:00.085Z"
      },
      {
        "duration": 307,
        "start_time": "2022-06-21T08:36:49.863Z"
      },
      {
        "duration": 49,
        "start_time": "2022-06-21T08:37:19.213Z"
      },
      {
        "duration": 466,
        "start_time": "2022-06-21T08:37:32.286Z"
      },
      {
        "duration": 51,
        "start_time": "2022-06-21T08:40:46.166Z"
      },
      {
        "duration": 63,
        "start_time": "2022-06-21T08:41:00.541Z"
      },
      {
        "duration": 395,
        "start_time": "2022-06-21T09:08:51.681Z"
      },
      {
        "duration": 11,
        "start_time": "2022-06-21T09:08:52.078Z"
      },
      {
        "duration": 20,
        "start_time": "2022-06-21T09:08:52.090Z"
      },
      {
        "duration": 49,
        "start_time": "2022-06-21T09:08:52.112Z"
      },
      {
        "duration": 9,
        "start_time": "2022-06-21T09:08:52.163Z"
      },
      {
        "duration": 16,
        "start_time": "2022-06-21T09:08:52.174Z"
      },
      {
        "duration": 34,
        "start_time": "2022-06-21T09:08:52.192Z"
      },
      {
        "duration": 32,
        "start_time": "2022-06-21T09:08:52.227Z"
      },
      {
        "duration": 27,
        "start_time": "2022-06-21T09:08:52.261Z"
      },
      {
        "duration": 43,
        "start_time": "2022-06-21T09:08:52.290Z"
      },
      {
        "duration": 164,
        "start_time": "2022-06-21T09:08:52.335Z"
      },
      {
        "duration": 378,
        "start_time": "2022-06-21T10:33:08.725Z"
      },
      {
        "duration": 3,
        "start_time": "2022-06-21T10:33:34.608Z"
      },
      {
        "duration": 4,
        "start_time": "2022-06-21T10:34:27.161Z"
      },
      {
        "duration": 5,
        "start_time": "2022-06-21T10:34:44.667Z"
      },
      {
        "duration": 4,
        "start_time": "2022-06-21T10:34:54.927Z"
      },
      {
        "duration": 4,
        "start_time": "2022-06-21T10:35:15.712Z"
      },
      {
        "duration": 13,
        "start_time": "2022-06-21T10:44:52.443Z"
      },
      {
        "duration": 10,
        "start_time": "2022-06-21T10:59:27.262Z"
      },
      {
        "duration": 389,
        "start_time": "2022-06-21T11:00:30.411Z"
      },
      {
        "duration": 10,
        "start_time": "2022-06-21T11:00:30.802Z"
      },
      {
        "duration": 28,
        "start_time": "2022-06-21T11:00:30.814Z"
      },
      {
        "duration": 61,
        "start_time": "2022-06-21T11:00:30.844Z"
      },
      {
        "duration": 9,
        "start_time": "2022-06-21T11:00:30.907Z"
      },
      {
        "duration": 30,
        "start_time": "2022-06-21T11:00:30.917Z"
      },
      {
        "duration": 39,
        "start_time": "2022-06-21T11:00:30.949Z"
      },
      {
        "duration": 11,
        "start_time": "2022-06-21T11:00:30.990Z"
      },
      {
        "duration": 23,
        "start_time": "2022-06-21T11:00:31.012Z"
      },
      {
        "duration": 46,
        "start_time": "2022-06-21T11:00:31.037Z"
      },
      {
        "duration": 146,
        "start_time": "2022-06-21T11:00:31.084Z"
      },
      {
        "duration": 3,
        "start_time": "2022-06-21T11:00:31.232Z"
      },
      {
        "duration": 1068,
        "start_time": "2022-06-21T11:00:31.237Z"
      },
      {
        "duration": 256,
        "start_time": "2022-06-21T11:00:32.308Z"
      },
      {
        "duration": 86,
        "start_time": "2022-06-21T11:00:32.572Z"
      },
      {
        "duration": 112,
        "start_time": "2022-06-21T11:00:32.660Z"
      },
      {
        "duration": 9,
        "start_time": "2022-06-21T11:01:26.113Z"
      },
      {
        "duration": 10,
        "start_time": "2022-06-21T13:03:57.276Z"
      },
      {
        "duration": 270,
        "start_time": "2022-06-21T13:04:12.082Z"
      },
      {
        "duration": 7,
        "start_time": "2022-06-21T13:04:16.118Z"
      },
      {
        "duration": 26,
        "start_time": "2022-06-21T13:04:54.225Z"
      },
      {
        "duration": 8,
        "start_time": "2022-06-21T13:05:52.920Z"
      },
      {
        "duration": 123,
        "start_time": "2022-06-21T13:06:08.448Z"
      },
      {
        "duration": 119,
        "start_time": "2022-06-21T13:08:18.791Z"
      },
      {
        "duration": 382,
        "start_time": "2022-06-21T13:08:25.698Z"
      },
      {
        "duration": 344,
        "start_time": "2022-06-21T13:08:46.110Z"
      },
      {
        "duration": 26,
        "start_time": "2022-06-21T13:09:07.892Z"
      },
      {
        "duration": 288,
        "start_time": "2022-06-21T13:38:21.097Z"
      },
      {
        "duration": 33,
        "start_time": "2022-06-21T13:38:31.305Z"
      },
      {
        "duration": 330,
        "start_time": "2022-06-21T13:43:02.680Z"
      },
      {
        "duration": 4,
        "start_time": "2022-06-21T13:48:41.925Z"
      },
      {
        "duration": 49,
        "start_time": "2022-06-21T13:50:21.435Z"
      },
      {
        "duration": 27,
        "start_time": "2022-06-21T14:01:34.810Z"
      },
      {
        "duration": 33,
        "start_time": "2022-06-21T14:01:59.648Z"
      },
      {
        "duration": 326,
        "start_time": "2022-06-21T14:04:54.981Z"
      },
      {
        "duration": 8,
        "start_time": "2022-06-21T14:04:57.262Z"
      },
      {
        "duration": 14,
        "start_time": "2022-06-21T14:04:57.272Z"
      },
      {
        "duration": 28,
        "start_time": "2022-06-21T14:04:57.287Z"
      },
      {
        "duration": 7,
        "start_time": "2022-06-21T14:04:57.316Z"
      },
      {
        "duration": 11,
        "start_time": "2022-06-21T14:05:02.026Z"
      },
      {
        "duration": 34,
        "start_time": "2022-06-21T14:05:02.039Z"
      },
      {
        "duration": 7,
        "start_time": "2022-06-21T14:05:02.074Z"
      },
      {
        "duration": 14,
        "start_time": "2022-06-21T14:05:02.083Z"
      },
      {
        "duration": 29,
        "start_time": "2022-06-21T14:05:02.099Z"
      },
      {
        "duration": 131,
        "start_time": "2022-06-21T14:05:02.129Z"
      },
      {
        "duration": 3,
        "start_time": "2022-06-21T14:05:02.262Z"
      },
      {
        "duration": 909,
        "start_time": "2022-06-21T14:05:02.267Z"
      },
      {
        "duration": 294,
        "start_time": "2022-06-21T14:05:03.179Z"
      },
      {
        "duration": 8,
        "start_time": "2022-06-21T14:05:03.556Z"
      },
      {
        "duration": 11,
        "start_time": "2022-06-21T14:05:03.566Z"
      },
      {
        "duration": 91,
        "start_time": "2022-06-21T14:05:03.578Z"
      },
      {
        "duration": 69,
        "start_time": "2022-06-21T14:08:26.892Z"
      },
      {
        "duration": 46,
        "start_time": "2022-06-21T14:08:36.211Z"
      },
      {
        "duration": 434,
        "start_time": "2022-06-21T14:08:54.818Z"
      },
      {
        "duration": 249,
        "start_time": "2022-06-21T14:10:02.910Z"
      },
      {
        "duration": 56,
        "start_time": "2022-06-21T14:14:01.897Z"
      },
      {
        "duration": 115,
        "start_time": "2022-06-21T14:14:08.837Z"
      },
      {
        "duration": 74,
        "start_time": "2022-06-21T14:14:25.883Z"
      },
      {
        "duration": 357,
        "start_time": "2022-06-21T14:14:50.347Z"
      },
      {
        "duration": 36,
        "start_time": "2022-06-21T14:14:56.144Z"
      },
      {
        "duration": 246,
        "start_time": "2022-06-21T14:23:26.825Z"
      },
      {
        "duration": 78,
        "start_time": "2022-06-21T14:24:55.772Z"
      },
      {
        "duration": 478,
        "start_time": "2022-06-21T14:26:49.773Z"
      },
      {
        "duration": 624,
        "start_time": "2022-06-21T14:27:45.235Z"
      },
      {
        "duration": 771,
        "start_time": "2022-06-21T14:30:19.794Z"
      },
      {
        "duration": 582,
        "start_time": "2022-06-21T14:30:30.784Z"
      },
      {
        "duration": 424,
        "start_time": "2022-06-21T14:30:55.551Z"
      },
      {
        "duration": 1020,
        "start_time": "2022-06-21T14:31:31.647Z"
      },
      {
        "duration": 27,
        "start_time": "2022-06-21T14:32:31.331Z"
      },
      {
        "duration": 295,
        "start_time": "2022-06-21T14:33:16.965Z"
      },
      {
        "duration": 425,
        "start_time": "2022-06-21T14:33:44.727Z"
      },
      {
        "duration": 268,
        "start_time": "2022-06-21T14:34:32.204Z"
      },
      {
        "duration": 309,
        "start_time": "2022-06-21T14:35:01.868Z"
      },
      {
        "duration": 127,
        "start_time": "2022-06-21T14:35:25.249Z"
      },
      {
        "duration": 144,
        "start_time": "2022-06-21T14:35:58.720Z"
      },
      {
        "duration": 130,
        "start_time": "2022-06-21T14:36:49.633Z"
      },
      {
        "duration": 73,
        "start_time": "2022-06-21T14:37:45.982Z"
      },
      {
        "duration": 160,
        "start_time": "2022-06-21T14:38:05.601Z"
      },
      {
        "duration": 357,
        "start_time": "2022-06-21T14:48:49.998Z"
      },
      {
        "duration": 395,
        "start_time": "2022-06-21T14:58:18.561Z"
      },
      {
        "duration": 494,
        "start_time": "2022-06-21T14:58:45.368Z"
      },
      {
        "duration": 278,
        "start_time": "2022-06-21T15:02:28.182Z"
      },
      {
        "duration": 310,
        "start_time": "2022-06-21T15:03:00.151Z"
      },
      {
        "duration": 324,
        "start_time": "2022-06-21T15:03:49.134Z"
      },
      {
        "duration": 294,
        "start_time": "2022-06-21T15:03:54.461Z"
      },
      {
        "duration": 272,
        "start_time": "2022-06-21T15:04:11.995Z"
      },
      {
        "duration": 31,
        "start_time": "2022-06-21T15:06:38.685Z"
      },
      {
        "duration": 64,
        "start_time": "2022-06-21T15:08:02.588Z"
      },
      {
        "duration": 4,
        "start_time": "2022-06-21T15:09:12.687Z"
      },
      {
        "duration": 331,
        "start_time": "2022-06-21T15:09:31.627Z"
      },
      {
        "duration": 179,
        "start_time": "2022-06-21T15:09:40.373Z"
      },
      {
        "duration": 203,
        "start_time": "2022-06-21T15:09:57.367Z"
      },
      {
        "duration": 334,
        "start_time": "2022-06-21T15:10:18.431Z"
      },
      {
        "duration": 350,
        "start_time": "2022-06-21T15:10:57.906Z"
      },
      {
        "duration": 386,
        "start_time": "2022-06-21T15:13:26.275Z"
      },
      {
        "duration": 258,
        "start_time": "2022-06-21T15:13:31.100Z"
      },
      {
        "duration": 154,
        "start_time": "2022-06-21T15:14:18.198Z"
      },
      {
        "duration": 339,
        "start_time": "2022-06-21T15:14:39.029Z"
      },
      {
        "duration": 219,
        "start_time": "2022-06-21T15:20:36.738Z"
      },
      {
        "duration": 327,
        "start_time": "2022-06-21T15:20:45.327Z"
      },
      {
        "duration": 10,
        "start_time": "2022-06-21T15:23:18.517Z"
      },
      {
        "duration": 11,
        "start_time": "2022-06-21T15:23:34.887Z"
      },
      {
        "duration": 10,
        "start_time": "2022-06-21T15:24:10.398Z"
      },
      {
        "duration": 13,
        "start_time": "2022-06-21T15:25:14.540Z"
      },
      {
        "duration": 271,
        "start_time": "2022-06-21T15:26:50.985Z"
      },
      {
        "duration": 4,
        "start_time": "2022-06-21T15:29:34.519Z"
      },
      {
        "duration": 168,
        "start_time": "2022-06-21T15:31:48.284Z"
      },
      {
        "duration": 159,
        "start_time": "2022-06-21T15:32:42.591Z"
      },
      {
        "duration": 81,
        "start_time": "2022-06-21T15:34:40.570Z"
      },
      {
        "duration": 236,
        "start_time": "2022-06-21T15:35:43.120Z"
      },
      {
        "duration": 73,
        "start_time": "2022-06-21T15:35:56.479Z"
      },
      {
        "duration": 367,
        "start_time": "2022-06-21T15:36:44.097Z"
      },
      {
        "duration": 368,
        "start_time": "2022-06-21T15:36:50.799Z"
      },
      {
        "duration": 80,
        "start_time": "2022-06-21T15:37:03.976Z"
      },
      {
        "duration": 364,
        "start_time": "2022-06-21T15:39:00.087Z"
      },
      {
        "duration": 274,
        "start_time": "2022-06-21T15:39:24.683Z"
      },
      {
        "duration": 246,
        "start_time": "2022-06-21T15:39:49.520Z"
      },
      {
        "duration": 422,
        "start_time": "2022-06-21T15:39:58.142Z"
      },
      {
        "duration": 374,
        "start_time": "2022-06-21T15:40:00.792Z"
      },
      {
        "duration": 425,
        "start_time": "2022-06-21T15:40:20.640Z"
      },
      {
        "duration": 513,
        "start_time": "2022-06-21T15:40:24.241Z"
      },
      {
        "duration": 161,
        "start_time": "2022-06-21T15:40:27.697Z"
      },
      {
        "duration": 359,
        "start_time": "2022-06-21T15:41:01.803Z"
      },
      {
        "duration": 31,
        "start_time": "2022-06-21T15:41:06.326Z"
      },
      {
        "duration": 326,
        "start_time": "2022-06-21T15:41:08.626Z"
      },
      {
        "duration": 136,
        "start_time": "2022-06-21T15:41:16.416Z"
      },
      {
        "duration": 535,
        "start_time": "2022-06-21T15:43:50.948Z"
      },
      {
        "duration": 10,
        "start_time": "2022-06-21T15:43:51.485Z"
      },
      {
        "duration": 30,
        "start_time": "2022-06-21T15:43:51.496Z"
      },
      {
        "duration": 58,
        "start_time": "2022-06-21T15:43:51.528Z"
      },
      {
        "duration": 11,
        "start_time": "2022-06-21T15:43:51.588Z"
      },
      {
        "duration": 38,
        "start_time": "2022-06-21T15:43:51.601Z"
      },
      {
        "duration": 43,
        "start_time": "2022-06-21T15:43:51.641Z"
      },
      {
        "duration": 10,
        "start_time": "2022-06-21T15:43:51.686Z"
      },
      {
        "duration": 41,
        "start_time": "2022-06-21T15:43:51.697Z"
      },
      {
        "duration": 50,
        "start_time": "2022-06-21T15:43:51.740Z"
      },
      {
        "duration": 129,
        "start_time": "2022-06-21T15:43:51.791Z"
      },
      {
        "duration": 3,
        "start_time": "2022-06-21T15:43:51.921Z"
      },
      {
        "duration": 1075,
        "start_time": "2022-06-21T15:43:51.925Z"
      },
      {
        "duration": 852,
        "start_time": "2022-06-21T15:43:53.003Z"
      },
      {
        "duration": 6,
        "start_time": "2022-06-21T15:43:53.860Z"
      },
      {
        "duration": 95,
        "start_time": "2022-06-21T15:43:53.869Z"
      },
      {
        "duration": 292,
        "start_time": "2022-06-21T15:43:53.969Z"
      },
      {
        "duration": 200,
        "start_time": "2022-06-21T15:43:54.266Z"
      },
      {
        "duration": 188,
        "start_time": "2022-06-21T15:44:54.271Z"
      },
      {
        "duration": 211,
        "start_time": "2022-06-21T15:45:09.342Z"
      },
      {
        "duration": 35,
        "start_time": "2022-06-21T15:45:18.526Z"
      },
      {
        "duration": 46,
        "start_time": "2022-06-21T15:45:43.822Z"
      },
      {
        "duration": 46,
        "start_time": "2022-06-21T15:45:54.709Z"
      },
      {
        "duration": 5480,
        "start_time": "2022-06-22T09:15:16.807Z"
      },
      {
        "duration": 20,
        "start_time": "2022-06-22T09:15:22.290Z"
      },
      {
        "duration": 27,
        "start_time": "2022-06-22T09:15:22.312Z"
      },
      {
        "duration": 75,
        "start_time": "2022-06-22T09:15:22.342Z"
      },
      {
        "duration": 18,
        "start_time": "2022-06-22T09:15:22.419Z"
      },
      {
        "duration": 32,
        "start_time": "2022-06-22T09:15:22.440Z"
      },
      {
        "duration": 68,
        "start_time": "2022-06-22T09:15:22.473Z"
      },
      {
        "duration": 12,
        "start_time": "2022-06-22T09:15:22.543Z"
      },
      {
        "duration": 89,
        "start_time": "2022-06-22T09:15:22.557Z"
      },
      {
        "duration": 65,
        "start_time": "2022-06-22T09:15:22.648Z"
      },
      {
        "duration": 225,
        "start_time": "2022-06-22T09:15:22.715Z"
      },
      {
        "duration": 3,
        "start_time": "2022-06-22T09:15:22.942Z"
      },
      {
        "duration": 1453,
        "start_time": "2022-06-22T09:15:22.947Z"
      },
      {
        "duration": 780,
        "start_time": "2022-06-22T09:15:24.406Z"
      },
      {
        "duration": 8,
        "start_time": "2022-06-22T09:15:25.218Z"
      },
      {
        "duration": 80,
        "start_time": "2022-06-22T09:15:25.258Z"
      },
      {
        "duration": 321,
        "start_time": "2022-06-22T09:15:25.340Z"
      },
      {
        "duration": 417,
        "start_time": "2022-06-22T09:15:25.703Z"
      },
      {
        "duration": 416,
        "start_time": "2022-06-22T12:57:39.078Z"
      },
      {
        "duration": 5,
        "start_time": "2022-06-22T13:16:33.020Z"
      },
      {
        "duration": 184,
        "start_time": "2022-06-22T13:19:53.816Z"
      },
      {
        "duration": 88,
        "start_time": "2022-06-22T13:20:08.603Z"
      },
      {
        "duration": 84,
        "start_time": "2022-06-22T13:20:25.972Z"
      },
      {
        "duration": 2013,
        "start_time": "2022-06-22T13:20:55.109Z"
      },
      {
        "duration": 9,
        "start_time": "2022-06-22T13:20:57.124Z"
      },
      {
        "duration": 16,
        "start_time": "2022-06-22T13:20:57.135Z"
      },
      {
        "duration": 49,
        "start_time": "2022-06-22T13:20:57.156Z"
      },
      {
        "duration": 9,
        "start_time": "2022-06-22T13:20:57.207Z"
      },
      {
        "duration": 19,
        "start_time": "2022-06-22T13:20:57.218Z"
      },
      {
        "duration": 53,
        "start_time": "2022-06-22T13:20:57.239Z"
      },
      {
        "duration": 10,
        "start_time": "2022-06-22T13:20:57.293Z"
      },
      {
        "duration": 14,
        "start_time": "2022-06-22T13:20:57.305Z"
      },
      {
        "duration": 56,
        "start_time": "2022-06-22T13:20:57.321Z"
      },
      {
        "duration": 137,
        "start_time": "2022-06-22T13:20:57.381Z"
      },
      {
        "duration": 2,
        "start_time": "2022-06-22T13:20:57.521Z"
      },
      {
        "duration": 1108,
        "start_time": "2022-06-22T13:20:57.525Z"
      },
      {
        "duration": 348,
        "start_time": "2022-06-22T13:20:58.635Z"
      },
      {
        "duration": 0,
        "start_time": "2022-06-22T13:20:58.991Z"
      },
      {
        "duration": 0,
        "start_time": "2022-06-22T13:20:58.996Z"
      },
      {
        "duration": 0,
        "start_time": "2022-06-22T13:20:58.997Z"
      },
      {
        "duration": 0,
        "start_time": "2022-06-22T13:20:58.998Z"
      },
      {
        "duration": 100,
        "start_time": "2022-06-22T14:02:42.396Z"
      },
      {
        "duration": 141,
        "start_time": "2022-06-22T14:02:52.125Z"
      },
      {
        "duration": 380,
        "start_time": "2022-06-22T14:03:14.436Z"
      },
      {
        "duration": 291,
        "start_time": "2022-06-22T14:03:27.204Z"
      },
      {
        "duration": 503,
        "start_time": "2022-06-22T14:03:31.157Z"
      },
      {
        "duration": 84,
        "start_time": "2022-06-22T14:07:17.091Z"
      },
      {
        "duration": 60,
        "start_time": "2022-06-22T14:08:01.001Z"
      },
      {
        "duration": 80,
        "start_time": "2022-06-22T14:08:54.791Z"
      },
      {
        "duration": 421,
        "start_time": "2022-06-22T14:10:10.180Z"
      },
      {
        "duration": 408,
        "start_time": "2022-06-22T14:10:34.312Z"
      },
      {
        "duration": 172,
        "start_time": "2022-06-22T14:11:31.529Z"
      },
      {
        "duration": 524,
        "start_time": "2022-06-22T14:11:36.250Z"
      },
      {
        "duration": 20,
        "start_time": "2022-06-22T14:11:36.789Z"
      },
      {
        "duration": 16,
        "start_time": "2022-06-22T14:11:36.812Z"
      },
      {
        "duration": 52,
        "start_time": "2022-06-22T14:11:36.831Z"
      },
      {
        "duration": 13,
        "start_time": "2022-06-22T14:11:36.885Z"
      },
      {
        "duration": 31,
        "start_time": "2022-06-22T14:11:36.900Z"
      },
      {
        "duration": 58,
        "start_time": "2022-06-22T14:11:36.933Z"
      },
      {
        "duration": 17,
        "start_time": "2022-06-22T14:11:37.000Z"
      },
      {
        "duration": 20,
        "start_time": "2022-06-22T14:11:37.019Z"
      },
      {
        "duration": 67,
        "start_time": "2022-06-22T14:11:37.042Z"
      },
      {
        "duration": 170,
        "start_time": "2022-06-22T14:11:37.111Z"
      },
      {
        "duration": 3,
        "start_time": "2022-06-22T14:11:37.283Z"
      },
      {
        "duration": 1432,
        "start_time": "2022-06-22T14:11:37.288Z"
      },
      {
        "duration": 266,
        "start_time": "2022-06-22T14:11:38.724Z"
      },
      {
        "duration": 0,
        "start_time": "2022-06-22T14:11:39.002Z"
      },
      {
        "duration": 0,
        "start_time": "2022-06-22T14:11:39.004Z"
      },
      {
        "duration": 0,
        "start_time": "2022-06-22T14:11:39.005Z"
      },
      {
        "duration": 0,
        "start_time": "2022-06-22T14:11:39.005Z"
      },
      {
        "duration": 505,
        "start_time": "2022-06-22T14:12:21.197Z"
      },
      {
        "duration": 12,
        "start_time": "2022-06-22T14:12:21.711Z"
      },
      {
        "duration": 18,
        "start_time": "2022-06-22T14:12:21.725Z"
      },
      {
        "duration": 48,
        "start_time": "2022-06-22T14:12:21.744Z"
      },
      {
        "duration": 21,
        "start_time": "2022-06-22T14:12:21.796Z"
      },
      {
        "duration": 22,
        "start_time": "2022-06-22T14:12:21.819Z"
      },
      {
        "duration": 52,
        "start_time": "2022-06-22T14:12:21.843Z"
      },
      {
        "duration": 26,
        "start_time": "2022-06-22T14:12:21.897Z"
      },
      {
        "duration": 15,
        "start_time": "2022-06-22T14:12:21.925Z"
      },
      {
        "duration": 50,
        "start_time": "2022-06-22T14:12:21.942Z"
      },
      {
        "duration": 150,
        "start_time": "2022-06-22T14:12:21.994Z"
      },
      {
        "duration": 11,
        "start_time": "2022-06-22T14:12:22.146Z"
      },
      {
        "duration": 1255,
        "start_time": "2022-06-22T14:12:22.159Z"
      },
      {
        "duration": 937,
        "start_time": "2022-06-22T14:12:23.417Z"
      },
      {
        "duration": 15,
        "start_time": "2022-06-22T14:12:24.356Z"
      },
      {
        "duration": 137,
        "start_time": "2022-06-22T14:12:24.374Z"
      },
      {
        "duration": 244,
        "start_time": "2022-06-22T14:12:24.513Z"
      },
      {
        "duration": 202,
        "start_time": "2022-06-22T14:12:24.764Z"
      },
      {
        "duration": 75,
        "start_time": "2022-06-22T14:13:42.878Z"
      },
      {
        "duration": 105,
        "start_time": "2022-06-22T14:14:19.350Z"
      },
      {
        "duration": 127,
        "start_time": "2022-06-22T14:15:59.538Z"
      },
      {
        "duration": 1848,
        "start_time": "2022-06-22T14:17:09.137Z"
      },
      {
        "duration": 5600,
        "start_time": "2022-06-22T14:17:32.886Z"
      },
      {
        "duration": 5130,
        "start_time": "2022-06-22T14:18:13.028Z"
      },
      {
        "duration": 5264,
        "start_time": "2022-06-22T14:24:04.111Z"
      },
      {
        "duration": 5297,
        "start_time": "2022-06-22T14:24:35.033Z"
      },
      {
        "duration": 4,
        "start_time": "2022-06-22T14:28:51.132Z"
      },
      {
        "duration": 5132,
        "start_time": "2022-06-22T14:29:11.204Z"
      },
      {
        "duration": 1870,
        "start_time": "2022-06-22T14:35:25.637Z"
      },
      {
        "duration": 430,
        "start_time": "2022-06-22T14:35:35.049Z"
      },
      {
        "duration": 5358,
        "start_time": "2022-06-22T14:35:39.633Z"
      },
      {
        "duration": 99,
        "start_time": "2022-06-22T14:36:53.294Z"
      },
      {
        "duration": 5017,
        "start_time": "2022-06-22T14:37:01.288Z"
      },
      {
        "duration": 109,
        "start_time": "2022-06-22T14:37:48.420Z"
      },
      {
        "duration": 5000,
        "start_time": "2022-06-22T14:37:55.177Z"
      },
      {
        "duration": 5618,
        "start_time": "2022-06-22T14:38:11.951Z"
      },
      {
        "duration": 4918,
        "start_time": "2022-06-22T14:40:01.803Z"
      },
      {
        "duration": 5402,
        "start_time": "2022-06-22T14:40:37.139Z"
      },
      {
        "duration": 5419,
        "start_time": "2022-06-22T14:43:10.775Z"
      },
      {
        "duration": 81,
        "start_time": "2022-06-22T14:44:26.892Z"
      },
      {
        "duration": 5243,
        "start_time": "2022-06-22T14:44:36.929Z"
      },
      {
        "duration": 3,
        "start_time": "2022-06-22T14:54:20.496Z"
      },
      {
        "duration": 462,
        "start_time": "2022-06-22T14:54:35.228Z"
      },
      {
        "duration": 7,
        "start_time": "2022-06-22T14:54:35.876Z"
      },
      {
        "duration": 12,
        "start_time": "2022-06-22T14:54:42.292Z"
      },
      {
        "duration": 14,
        "start_time": "2022-06-22T14:54:51.510Z"
      },
      {
        "duration": 13,
        "start_time": "2022-06-22T14:56:01.604Z"
      },
      {
        "duration": 16,
        "start_time": "2022-06-22T14:56:13.671Z"
      },
      {
        "duration": 15,
        "start_time": "2022-06-22T14:56:28.682Z"
      },
      {
        "duration": 51,
        "start_time": "2022-06-22T14:56:55.895Z"
      },
      {
        "duration": 111,
        "start_time": "2022-06-22T14:57:09.382Z"
      },
      {
        "duration": 162,
        "start_time": "2022-06-22T14:57:45.681Z"
      },
      {
        "duration": 4981,
        "start_time": "2022-06-22T15:05:12.295Z"
      },
      {
        "duration": 4968,
        "start_time": "2022-06-22T15:05:45.437Z"
      },
      {
        "duration": 4966,
        "start_time": "2022-06-22T15:06:06.894Z"
      },
      {
        "duration": 94,
        "start_time": "2022-06-22T15:06:51.448Z"
      },
      {
        "duration": 4981,
        "start_time": "2022-06-22T15:06:55.011Z"
      },
      {
        "duration": 5060,
        "start_time": "2022-06-22T15:07:14.812Z"
      },
      {
        "duration": 1649,
        "start_time": "2022-06-22T15:09:04.824Z"
      },
      {
        "duration": 4988,
        "start_time": "2022-06-22T15:09:36.905Z"
      },
      {
        "duration": 1600,
        "start_time": "2022-06-22T15:13:08.387Z"
      },
      {
        "duration": 5036,
        "start_time": "2022-06-22T15:13:19.431Z"
      },
      {
        "duration": 1688,
        "start_time": "2022-06-22T15:16:55.719Z"
      },
      {
        "duration": 4872,
        "start_time": "2022-06-22T15:17:28.416Z"
      },
      {
        "duration": 5102,
        "start_time": "2022-06-22T15:20:02.189Z"
      },
      {
        "duration": 111,
        "start_time": "2022-06-22T15:20:46.619Z"
      },
      {
        "duration": 87,
        "start_time": "2022-06-22T15:49:26.686Z"
      },
      {
        "duration": 176,
        "start_time": "2022-06-22T15:52:10.010Z"
      },
      {
        "duration": 75,
        "start_time": "2022-06-22T15:52:16.400Z"
      },
      {
        "duration": 58,
        "start_time": "2022-06-23T08:14:07.072Z"
      },
      {
        "duration": 41,
        "start_time": "2022-06-23T08:14:13.358Z"
      },
      {
        "duration": 67,
        "start_time": "2022-06-23T08:14:51.125Z"
      },
      {
        "duration": 6,
        "start_time": "2022-06-23T08:16:56.310Z"
      },
      {
        "duration": 7,
        "start_time": "2022-06-23T08:17:01.485Z"
      },
      {
        "duration": 90,
        "start_time": "2022-06-23T08:20:06.158Z"
      },
      {
        "duration": 2656,
        "start_time": "2022-06-23T08:24:00.235Z"
      },
      {
        "duration": 15,
        "start_time": "2022-06-23T08:24:02.893Z"
      },
      {
        "duration": 56,
        "start_time": "2022-06-23T08:24:02.909Z"
      },
      {
        "duration": 73,
        "start_time": "2022-06-23T08:24:02.967Z"
      },
      {
        "duration": 0,
        "start_time": "2022-06-23T08:24:03.042Z"
      },
      {
        "duration": 0,
        "start_time": "2022-06-23T08:24:03.046Z"
      },
      {
        "duration": 0,
        "start_time": "2022-06-23T08:24:03.047Z"
      },
      {
        "duration": 0,
        "start_time": "2022-06-23T08:24:03.051Z"
      },
      {
        "duration": 0,
        "start_time": "2022-06-23T08:24:03.053Z"
      },
      {
        "duration": 0,
        "start_time": "2022-06-23T08:24:03.055Z"
      },
      {
        "duration": 0,
        "start_time": "2022-06-23T08:24:03.056Z"
      },
      {
        "duration": 0,
        "start_time": "2022-06-23T08:24:03.058Z"
      },
      {
        "duration": 0,
        "start_time": "2022-06-23T08:24:03.062Z"
      },
      {
        "duration": 412,
        "start_time": "2022-06-23T08:24:42.679Z"
      },
      {
        "duration": 13,
        "start_time": "2022-06-23T08:24:43.093Z"
      },
      {
        "duration": 51,
        "start_time": "2022-06-23T08:24:43.108Z"
      },
      {
        "duration": 104,
        "start_time": "2022-06-23T08:24:43.161Z"
      },
      {
        "duration": 139,
        "start_time": "2022-06-23T08:24:43.266Z"
      },
      {
        "duration": 2,
        "start_time": "2022-06-23T08:24:43.407Z"
      },
      {
        "duration": 1139,
        "start_time": "2022-06-23T08:24:43.411Z"
      },
      {
        "duration": 691,
        "start_time": "2022-06-23T08:24:44.552Z"
      },
      {
        "duration": 9,
        "start_time": "2022-06-23T08:24:45.326Z"
      },
      {
        "duration": 95,
        "start_time": "2022-06-23T08:24:45.343Z"
      },
      {
        "duration": 5,
        "start_time": "2022-06-23T08:24:45.440Z"
      },
      {
        "duration": 4842,
        "start_time": "2022-06-23T08:24:45.446Z"
      },
      {
        "duration": 2008,
        "start_time": "2022-06-23T09:00:05.179Z"
      },
      {
        "duration": 1699,
        "start_time": "2022-06-23T09:00:33.396Z"
      },
      {
        "duration": 4,
        "start_time": "2022-06-23T09:16:39.171Z"
      },
      {
        "duration": 1770,
        "start_time": "2022-06-23T09:17:07.569Z"
      },
      {
        "duration": 5,
        "start_time": "2022-06-23T09:17:56.481Z"
      },
      {
        "duration": 1720,
        "start_time": "2022-06-23T09:17:59.086Z"
      },
      {
        "duration": 189,
        "start_time": "2022-06-23T09:38:31.740Z"
      },
      {
        "duration": 146,
        "start_time": "2022-06-23T09:40:49.879Z"
      },
      {
        "duration": 212,
        "start_time": "2022-06-23T09:41:21.318Z"
      },
      {
        "duration": 510,
        "start_time": "2022-06-23T09:42:33.714Z"
      },
      {
        "duration": 64,
        "start_time": "2022-06-23T09:46:26.266Z"
      },
      {
        "duration": 103,
        "start_time": "2022-06-23T09:46:32.126Z"
      },
      {
        "duration": 524,
        "start_time": "2022-06-23T09:46:48.200Z"
      },
      {
        "duration": 52,
        "start_time": "2022-06-23T09:50:57.027Z"
      },
      {
        "duration": 402,
        "start_time": "2022-06-23T09:51:02.838Z"
      },
      {
        "duration": 82,
        "start_time": "2022-06-23T09:51:17.131Z"
      },
      {
        "duration": 57,
        "start_time": "2022-06-23T09:51:27.772Z"
      },
      {
        "duration": 84,
        "start_time": "2022-06-23T09:51:52.464Z"
      },
      {
        "duration": 439,
        "start_time": "2022-06-23T09:52:40.784Z"
      },
      {
        "duration": 435,
        "start_time": "2022-06-23T09:53:09.307Z"
      },
      {
        "duration": 389,
        "start_time": "2022-06-23T09:53:14.947Z"
      },
      {
        "duration": 465,
        "start_time": "2022-06-23T09:53:26.057Z"
      },
      {
        "duration": 353,
        "start_time": "2022-06-23T09:53:41.094Z"
      },
      {
        "duration": 404,
        "start_time": "2022-06-23T09:53:49.331Z"
      },
      {
        "duration": 190,
        "start_time": "2022-06-23T09:54:01.937Z"
      },
      {
        "duration": 1646,
        "start_time": "2022-06-23T09:54:46.251Z"
      },
      {
        "duration": 5075,
        "start_time": "2022-06-23T09:55:05.466Z"
      },
      {
        "duration": 169,
        "start_time": "2022-06-23T09:58:49.758Z"
      },
      {
        "duration": 205,
        "start_time": "2022-06-23T09:59:27.526Z"
      },
      {
        "duration": 345,
        "start_time": "2022-06-23T09:59:49.098Z"
      },
      {
        "duration": 417,
        "start_time": "2022-06-23T10:00:30.220Z"
      },
      {
        "duration": 43,
        "start_time": "2022-06-23T10:15:54.083Z"
      },
      {
        "duration": 422,
        "start_time": "2022-06-23T10:16:19.703Z"
      },
      {
        "duration": 42,
        "start_time": "2022-06-23T10:16:30.684Z"
      },
      {
        "duration": 3685,
        "start_time": "2022-06-23T10:16:51.525Z"
      },
      {
        "duration": 3609,
        "start_time": "2022-06-23T10:17:32.955Z"
      },
      {
        "duration": 3629,
        "start_time": "2022-06-23T10:20:23.591Z"
      },
      {
        "duration": 73,
        "start_time": "2022-06-23T10:24:27.260Z"
      },
      {
        "duration": 390,
        "start_time": "2022-06-23T10:25:40.742Z"
      },
      {
        "duration": 356,
        "start_time": "2022-06-23T10:25:51.579Z"
      },
      {
        "duration": 5489,
        "start_time": "2022-06-23T10:26:12.232Z"
      },
      {
        "duration": 5450,
        "start_time": "2022-06-23T10:26:56.919Z"
      },
      {
        "duration": 5267,
        "start_time": "2022-06-23T10:29:53.425Z"
      },
      {
        "duration": 3,
        "start_time": "2022-06-23T10:31:21.528Z"
      },
      {
        "duration": 365,
        "start_time": "2022-06-23T10:52:14.827Z"
      },
      {
        "duration": 12,
        "start_time": "2022-06-23T10:52:15.194Z"
      },
      {
        "duration": 44,
        "start_time": "2022-06-23T10:52:15.208Z"
      },
      {
        "duration": 94,
        "start_time": "2022-06-23T10:52:15.254Z"
      },
      {
        "duration": 134,
        "start_time": "2022-06-23T10:52:15.350Z"
      },
      {
        "duration": 2,
        "start_time": "2022-06-23T10:52:15.486Z"
      },
      {
        "duration": 1059,
        "start_time": "2022-06-23T10:52:15.490Z"
      },
      {
        "duration": 783,
        "start_time": "2022-06-23T10:52:16.551Z"
      },
      {
        "duration": 86,
        "start_time": "2022-06-23T10:52:17.339Z"
      },
      {
        "duration": 108,
        "start_time": "2022-06-23T10:52:17.428Z"
      },
      {
        "duration": 393,
        "start_time": "2022-06-23T10:52:17.538Z"
      },
      {
        "duration": 5816,
        "start_time": "2022-06-23T10:52:17.933Z"
      },
      {
        "duration": 380,
        "start_time": "2022-06-23T11:01:43.015Z"
      },
      {
        "duration": 13,
        "start_time": "2022-06-23T11:01:43.396Z"
      },
      {
        "duration": 53,
        "start_time": "2022-06-23T11:01:43.410Z"
      },
      {
        "duration": 100,
        "start_time": "2022-06-23T11:01:43.465Z"
      },
      {
        "duration": 148,
        "start_time": "2022-06-23T11:01:43.568Z"
      },
      {
        "duration": 7,
        "start_time": "2022-06-23T11:01:43.717Z"
      },
      {
        "duration": 1129,
        "start_time": "2022-06-23T11:01:43.725Z"
      },
      {
        "duration": 871,
        "start_time": "2022-06-23T11:01:44.856Z"
      },
      {
        "duration": 4,
        "start_time": "2022-06-23T11:01:45.822Z"
      },
      {
        "duration": 11,
        "start_time": "2022-06-23T11:01:45.828Z"
      },
      {
        "duration": 394,
        "start_time": "2022-06-23T11:01:45.841Z"
      },
      {
        "duration": 5740,
        "start_time": "2022-06-23T11:01:46.238Z"
      },
      {
        "duration": 377,
        "start_time": "2022-06-23T11:02:06.452Z"
      },
      {
        "duration": 13,
        "start_time": "2022-06-23T11:02:06.831Z"
      },
      {
        "duration": 46,
        "start_time": "2022-06-23T11:02:06.845Z"
      },
      {
        "duration": 102,
        "start_time": "2022-06-23T11:02:06.892Z"
      },
      {
        "duration": 142,
        "start_time": "2022-06-23T11:02:06.997Z"
      },
      {
        "duration": 6260,
        "start_time": "2022-06-24T10:33:53.997Z"
      },
      {
        "duration": 15,
        "start_time": "2022-06-24T10:34:00.259Z"
      },
      {
        "duration": 57,
        "start_time": "2022-06-24T10:34:00.276Z"
      },
      {
        "duration": 104,
        "start_time": "2022-06-24T10:34:00.335Z"
      },
      {
        "duration": 147,
        "start_time": "2022-06-24T10:34:00.441Z"
      },
      {
        "duration": 141587,
        "start_time": "2022-06-24T10:34:00.590Z"
      },
      {
        "duration": 0,
        "start_time": "2022-06-24T10:36:22.179Z"
      },
      {
        "duration": 0,
        "start_time": "2022-06-24T10:36:22.180Z"
      },
      {
        "duration": 0,
        "start_time": "2022-06-24T10:36:22.181Z"
      },
      {
        "duration": 0,
        "start_time": "2022-06-24T10:36:22.183Z"
      },
      {
        "duration": 0,
        "start_time": "2022-06-24T10:36:22.184Z"
      },
      {
        "duration": 0,
        "start_time": "2022-06-24T10:36:22.185Z"
      },
      {
        "duration": 1072,
        "start_time": "2022-06-24T10:36:24.623Z"
      },
      {
        "duration": 756,
        "start_time": "2022-06-24T10:36:25.714Z"
      },
      {
        "duration": 4,
        "start_time": "2022-06-24T10:36:26.740Z"
      },
      {
        "duration": 11,
        "start_time": "2022-06-24T10:36:26.980Z"
      },
      {
        "duration": 534,
        "start_time": "2022-06-24T10:36:27.532Z"
      },
      {
        "duration": 5397,
        "start_time": "2022-06-24T10:36:28.251Z"
      },
      {
        "duration": 47,
        "start_time": "2022-06-24T11:57:06.905Z"
      },
      {
        "duration": 3069,
        "start_time": "2022-06-24T11:57:27.170Z"
      },
      {
        "duration": 16,
        "start_time": "2022-06-24T11:57:30.241Z"
      },
      {
        "duration": 40,
        "start_time": "2022-06-24T11:57:30.258Z"
      },
      {
        "duration": 100,
        "start_time": "2022-06-24T11:57:30.300Z"
      },
      {
        "duration": 141,
        "start_time": "2022-06-24T11:57:30.402Z"
      },
      {
        "duration": 2,
        "start_time": "2022-06-24T11:57:30.545Z"
      },
      {
        "duration": 1120,
        "start_time": "2022-06-24T11:57:30.549Z"
      },
      {
        "duration": 661,
        "start_time": "2022-06-24T11:57:31.671Z"
      },
      {
        "duration": 93,
        "start_time": "2022-06-24T11:57:32.333Z"
      },
      {
        "duration": 120,
        "start_time": "2022-06-24T11:57:32.428Z"
      },
      {
        "duration": 382,
        "start_time": "2022-06-24T11:57:32.549Z"
      },
      {
        "duration": 5735,
        "start_time": "2022-06-24T11:57:32.933Z"
      },
      {
        "duration": 5166,
        "start_time": "2022-06-24T11:58:29.912Z"
      },
      {
        "duration": 5142,
        "start_time": "2022-06-24T11:58:39.218Z"
      },
      {
        "duration": 5568,
        "start_time": "2022-06-24T12:01:21.587Z"
      },
      {
        "duration": 248,
        "start_time": "2022-06-24T12:05:54.123Z"
      },
      {
        "duration": 5300,
        "start_time": "2022-06-24T12:06:11.186Z"
      },
      {
        "duration": 5362,
        "start_time": "2022-06-24T12:07:36.618Z"
      },
      {
        "duration": 128,
        "start_time": "2022-06-24T12:10:30.383Z"
      },
      {
        "duration": 92,
        "start_time": "2022-06-24T12:14:37.783Z"
      },
      {
        "duration": 341,
        "start_time": "2022-06-24T12:23:14.581Z"
      },
      {
        "duration": 10,
        "start_time": "2022-06-24T12:23:14.924Z"
      },
      {
        "duration": 32,
        "start_time": "2022-06-24T12:23:14.935Z"
      },
      {
        "duration": 97,
        "start_time": "2022-06-24T12:23:14.968Z"
      },
      {
        "duration": 132,
        "start_time": "2022-06-24T12:23:15.067Z"
      },
      {
        "duration": 2,
        "start_time": "2022-06-24T12:23:15.201Z"
      },
      {
        "duration": 991,
        "start_time": "2022-06-24T12:23:15.205Z"
      },
      {
        "duration": 731,
        "start_time": "2022-06-24T12:23:16.198Z"
      },
      {
        "duration": 93,
        "start_time": "2022-06-24T12:23:16.931Z"
      },
      {
        "duration": 87,
        "start_time": "2022-06-24T12:23:17.042Z"
      },
      {
        "duration": 304,
        "start_time": "2022-06-24T12:23:17.131Z"
      },
      {
        "duration": 5178,
        "start_time": "2022-06-24T12:23:17.529Z"
      },
      {
        "duration": 379,
        "start_time": "2022-06-24T12:47:40.590Z"
      },
      {
        "duration": 12,
        "start_time": "2022-06-24T12:47:40.971Z"
      },
      {
        "duration": 53,
        "start_time": "2022-06-24T12:47:40.985Z"
      },
      {
        "duration": 88,
        "start_time": "2022-06-24T12:47:41.040Z"
      },
      {
        "duration": 125,
        "start_time": "2022-06-24T12:47:41.130Z"
      },
      {
        "duration": 3,
        "start_time": "2022-06-24T12:47:41.257Z"
      },
      {
        "duration": 996,
        "start_time": "2022-06-24T12:47:41.261Z"
      },
      {
        "duration": 786,
        "start_time": "2022-06-24T12:47:42.259Z"
      },
      {
        "duration": 80,
        "start_time": "2022-06-24T12:47:43.047Z"
      },
      {
        "duration": 32,
        "start_time": "2022-06-24T12:47:43.129Z"
      },
      {
        "duration": 275,
        "start_time": "2022-06-24T12:47:43.162Z"
      },
      {
        "duration": 5506,
        "start_time": "2022-06-24T12:47:43.525Z"
      },
      {
        "duration": 2881,
        "start_time": "2022-06-29T13:19:34.830Z"
      }
    ],
    "kernelspec": {
      "display_name": "Python 3 (ipykernel)",
      "language": "python",
      "name": "python3"
    },
    "language_info": {
      "codemirror_mode": {
        "name": "ipython",
        "version": 3
      },
      "file_extension": ".py",
      "mimetype": "text/x-python",
      "name": "python",
      "nbconvert_exporter": "python",
      "pygments_lexer": "ipython3",
      "version": "3.9.5"
    },
    "toc": {
      "base_numbering": 1,
      "nav_menu": {},
      "number_sections": true,
      "sideBar": true,
      "skip_h1_title": true,
      "title_cell": "Table of Contents",
      "title_sidebar": "Contents",
      "toc_cell": false,
      "toc_position": {},
      "toc_section_display": true,
      "toc_window_display": false
    },
    "colab": {
      "provenance": []
    }
  },
  "nbformat": 4,
  "nbformat_minor": 0
}