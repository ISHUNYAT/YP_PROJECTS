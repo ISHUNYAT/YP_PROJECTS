{
  "cells": [
    {
      "cell_type": "markdown",
      "metadata": {
        "toc": true,
        "id": "MAFTqEXYeBVO"
      },
      "source": [
        "<h1>Содержание<span class=\"tocSkip\"></span></h1>\n",
        "<div class=\"toc\"><ul class=\"toc-item\"><li><span><a href=\"#Изучение-данных-из-файла\" data-toc-modified-id=\"Изучение-данных-из-файла-1\"><span class=\"toc-item-num\">1&nbsp;&nbsp;</span>Изучение данных из файла</a></span><ul class=\"toc-item\"><li><span><a href=\"#Вывод\" data-toc-modified-id=\"Вывод-1.1\"><span class=\"toc-item-num\">1.1&nbsp;&nbsp;</span>Вывод</a></span></li></ul></li><li><span><a href=\"#Предобработка-данных\" data-toc-modified-id=\"Предобработка-данных-2\"><span class=\"toc-item-num\">2&nbsp;&nbsp;</span>Предобработка данных</a></span></li><li><span><a href=\"#Расчёты-и-добавление-результатов-в-таблицу\" data-toc-modified-id=\"Расчёты-и-добавление-результатов-в-таблицу-3\"><span class=\"toc-item-num\">3&nbsp;&nbsp;</span>Расчёты и добавление результатов в таблицу</a></span></li><li><span><a href=\"#Исследовательский-анализ-данных\" data-toc-modified-id=\"Исследовательский-анализ-данных-4\"><span class=\"toc-item-num\">4&nbsp;&nbsp;</span>Исследовательский анализ данных</a></span></li><li><span><a href=\"#Общий-вывод\" data-toc-modified-id=\"Общий-вывод-5\"><span class=\"toc-item-num\">5&nbsp;&nbsp;</span>Общий вывод</a></span></li>"
      ]
    },
    {
      "cell_type": "markdown",
      "metadata": {
        "id": "F4Qb0fNneBVR"
      },
      "source": [
        "# Исследование объявлений о продаже квартир\n",
        "\n",
        "В нашем распоряжении данные сервиса Яндекc Недвижимость — архив объявлений о продаже квартир в Санкт-Петербурге и соседних населённых пунктах за несколько лет. Нужно научиться определять рыночную стоимость объектов недвижимости. Наша задача — установить параметры. Это позволит построить автоматизированную систему: она отследит аномалии и мошенническую деятельность. \n",
        "\n",
        "По каждой квартире на продажу доступны два вида данных. Первые вписаны пользователем, вторые получены автоматически на основе картографических данных. Например, расстояние до центра, аэропорта, ближайшего парка и водоёма. "
      ]
    },
    {
      "cell_type": "markdown",
      "source": [
        "# Описание данных\n",
        "\n",
        "* `airports_nearest` — расстояние до ближайшего аэропорта в метрах (м)\n",
        "* `balcony` — число балконов\n",
        "* `ceiling_height` — высота потолков (м)\n",
        "* `cityCenters_nearest` — расстояние до центра города (м)\n",
        "* `days_exposition` — сколько дней было размещено объявление (от публикации до снятия)\n",
        "* `first_day_exposition` — дата публикации\n",
        "* `floor` — этаж\n",
        "* `floors_total` — всего этажей в доме\n",
        "* `is_apartment` — апартаменты (булев тип)\n",
        "* `kitchen_area` — площадь кухни в квадратных метрах (м²)\n",
        "* `last_price` — цена на момент снятия с публикации\n",
        "* `living_area` — жилая площадь в квадратных метрах (м²)\n",
        "* `locality_name` — название населённого пункта\n",
        "* `open_plan` — свободная планировка (булев тип)\n",
        "* `parks_around3000` — число парков в радиусе 3 км\n",
        "* `parks_nearest` — расстояние до ближайшего парка (м)\n",
        "* `ponds_around3000` — число водоёмов в радиусе 3 км\n",
        "* `ponds_nearest` — расстояние до ближайшего водоёма (м)\n",
        "* `rooms` — число комнат\n",
        "* `studio` — квартира-студия (булев тип)\n",
        "* `total_area` — площадь квартиры в квадратных метрах (м²)\n",
        "* `total_images` — число фотографий квартиры в объявлении"
      ],
      "metadata": {
        "id": "d5WYkSTce_oq"
      }
    },
    {
      "cell_type": "markdown",
      "metadata": {
        "id": "6zFg83eXeBVT"
      },
      "source": [
        "## Изучение данных из файла"
      ]
    },
    {
      "cell_type": "code",
      "execution_count": null,
      "metadata": {
        "scrolled": true,
        "id": "3MtrhGOheBVT",
        "outputId": "df25f03c-07f7-4f65-d74e-5ad20ba32e77"
      },
      "outputs": [
        {
          "data": {
            "text/html": [
              "<div>\n",
              "<style scoped>\n",
              "    .dataframe tbody tr th:only-of-type {\n",
              "        vertical-align: middle;\n",
              "    }\n",
              "\n",
              "    .dataframe tbody tr th {\n",
              "        vertical-align: top;\n",
              "    }\n",
              "\n",
              "    .dataframe thead th {\n",
              "        text-align: right;\n",
              "    }\n",
              "</style>\n",
              "<table border=\"1\" class=\"dataframe\">\n",
              "  <thead>\n",
              "    <tr style=\"text-align: right;\">\n",
              "      <th></th>\n",
              "      <th>total_images</th>\n",
              "      <th>last_price</th>\n",
              "      <th>total_area</th>\n",
              "      <th>first_day_exposition</th>\n",
              "      <th>rooms</th>\n",
              "      <th>ceiling_height</th>\n",
              "      <th>floors_total</th>\n",
              "      <th>living_area</th>\n",
              "      <th>floor</th>\n",
              "      <th>is_apartment</th>\n",
              "      <th>...</th>\n",
              "      <th>kitchen_area</th>\n",
              "      <th>balcony</th>\n",
              "      <th>locality_name</th>\n",
              "      <th>airports_nearest</th>\n",
              "      <th>cityCenters_nearest</th>\n",
              "      <th>parks_around3000</th>\n",
              "      <th>parks_nearest</th>\n",
              "      <th>ponds_around3000</th>\n",
              "      <th>ponds_nearest</th>\n",
              "      <th>days_exposition</th>\n",
              "    </tr>\n",
              "  </thead>\n",
              "  <tbody>\n",
              "    <tr>\n",
              "      <th>0</th>\n",
              "      <td>20</td>\n",
              "      <td>13000000.0</td>\n",
              "      <td>108.00</td>\n",
              "      <td>2019-03-07T00:00:00</td>\n",
              "      <td>3</td>\n",
              "      <td>2.70</td>\n",
              "      <td>16.0</td>\n",
              "      <td>51.00</td>\n",
              "      <td>8</td>\n",
              "      <td>NaN</td>\n",
              "      <td>...</td>\n",
              "      <td>25.00</td>\n",
              "      <td>NaN</td>\n",
              "      <td>Санкт-Петербург</td>\n",
              "      <td>18863.0</td>\n",
              "      <td>16028.0</td>\n",
              "      <td>1.0</td>\n",
              "      <td>482.0</td>\n",
              "      <td>2.0</td>\n",
              "      <td>755.0</td>\n",
              "      <td>NaN</td>\n",
              "    </tr>\n",
              "    <tr>\n",
              "      <th>1</th>\n",
              "      <td>7</td>\n",
              "      <td>3350000.0</td>\n",
              "      <td>40.40</td>\n",
              "      <td>2018-12-04T00:00:00</td>\n",
              "      <td>1</td>\n",
              "      <td>NaN</td>\n",
              "      <td>11.0</td>\n",
              "      <td>18.60</td>\n",
              "      <td>1</td>\n",
              "      <td>NaN</td>\n",
              "      <td>...</td>\n",
              "      <td>11.00</td>\n",
              "      <td>2.0</td>\n",
              "      <td>посёлок Шушары</td>\n",
              "      <td>12817.0</td>\n",
              "      <td>18603.0</td>\n",
              "      <td>0.0</td>\n",
              "      <td>NaN</td>\n",
              "      <td>0.0</td>\n",
              "      <td>NaN</td>\n",
              "      <td>81.0</td>\n",
              "    </tr>\n",
              "    <tr>\n",
              "      <th>2</th>\n",
              "      <td>10</td>\n",
              "      <td>5196000.0</td>\n",
              "      <td>56.00</td>\n",
              "      <td>2015-08-20T00:00:00</td>\n",
              "      <td>2</td>\n",
              "      <td>NaN</td>\n",
              "      <td>5.0</td>\n",
              "      <td>34.30</td>\n",
              "      <td>4</td>\n",
              "      <td>NaN</td>\n",
              "      <td>...</td>\n",
              "      <td>8.30</td>\n",
              "      <td>0.0</td>\n",
              "      <td>Санкт-Петербург</td>\n",
              "      <td>21741.0</td>\n",
              "      <td>13933.0</td>\n",
              "      <td>1.0</td>\n",
              "      <td>90.0</td>\n",
              "      <td>2.0</td>\n",
              "      <td>574.0</td>\n",
              "      <td>558.0</td>\n",
              "    </tr>\n",
              "    <tr>\n",
              "      <th>3</th>\n",
              "      <td>0</td>\n",
              "      <td>64900000.0</td>\n",
              "      <td>159.00</td>\n",
              "      <td>2015-07-24T00:00:00</td>\n",
              "      <td>3</td>\n",
              "      <td>NaN</td>\n",
              "      <td>14.0</td>\n",
              "      <td>NaN</td>\n",
              "      <td>9</td>\n",
              "      <td>NaN</td>\n",
              "      <td>...</td>\n",
              "      <td>NaN</td>\n",
              "      <td>0.0</td>\n",
              "      <td>Санкт-Петербург</td>\n",
              "      <td>28098.0</td>\n",
              "      <td>6800.0</td>\n",
              "      <td>2.0</td>\n",
              "      <td>84.0</td>\n",
              "      <td>3.0</td>\n",
              "      <td>234.0</td>\n",
              "      <td>424.0</td>\n",
              "    </tr>\n",
              "    <tr>\n",
              "      <th>4</th>\n",
              "      <td>2</td>\n",
              "      <td>10000000.0</td>\n",
              "      <td>100.00</td>\n",
              "      <td>2018-06-19T00:00:00</td>\n",
              "      <td>2</td>\n",
              "      <td>3.03</td>\n",
              "      <td>14.0</td>\n",
              "      <td>32.00</td>\n",
              "      <td>13</td>\n",
              "      <td>NaN</td>\n",
              "      <td>...</td>\n",
              "      <td>41.00</td>\n",
              "      <td>NaN</td>\n",
              "      <td>Санкт-Петербург</td>\n",
              "      <td>31856.0</td>\n",
              "      <td>8098.0</td>\n",
              "      <td>2.0</td>\n",
              "      <td>112.0</td>\n",
              "      <td>1.0</td>\n",
              "      <td>48.0</td>\n",
              "      <td>121.0</td>\n",
              "    </tr>\n",
              "    <tr>\n",
              "      <th>5</th>\n",
              "      <td>10</td>\n",
              "      <td>2890000.0</td>\n",
              "      <td>30.40</td>\n",
              "      <td>2018-09-10T00:00:00</td>\n",
              "      <td>1</td>\n",
              "      <td>NaN</td>\n",
              "      <td>12.0</td>\n",
              "      <td>14.40</td>\n",
              "      <td>5</td>\n",
              "      <td>NaN</td>\n",
              "      <td>...</td>\n",
              "      <td>9.10</td>\n",
              "      <td>NaN</td>\n",
              "      <td>городской посёлок Янино-1</td>\n",
              "      <td>NaN</td>\n",
              "      <td>NaN</td>\n",
              "      <td>NaN</td>\n",
              "      <td>NaN</td>\n",
              "      <td>NaN</td>\n",
              "      <td>NaN</td>\n",
              "      <td>55.0</td>\n",
              "    </tr>\n",
              "    <tr>\n",
              "      <th>6</th>\n",
              "      <td>6</td>\n",
              "      <td>3700000.0</td>\n",
              "      <td>37.30</td>\n",
              "      <td>2017-11-02T00:00:00</td>\n",
              "      <td>1</td>\n",
              "      <td>NaN</td>\n",
              "      <td>26.0</td>\n",
              "      <td>10.60</td>\n",
              "      <td>6</td>\n",
              "      <td>NaN</td>\n",
              "      <td>...</td>\n",
              "      <td>14.40</td>\n",
              "      <td>1.0</td>\n",
              "      <td>посёлок Парголово</td>\n",
              "      <td>52996.0</td>\n",
              "      <td>19143.0</td>\n",
              "      <td>0.0</td>\n",
              "      <td>NaN</td>\n",
              "      <td>0.0</td>\n",
              "      <td>NaN</td>\n",
              "      <td>155.0</td>\n",
              "    </tr>\n",
              "    <tr>\n",
              "      <th>7</th>\n",
              "      <td>5</td>\n",
              "      <td>7915000.0</td>\n",
              "      <td>71.60</td>\n",
              "      <td>2019-04-18T00:00:00</td>\n",
              "      <td>2</td>\n",
              "      <td>NaN</td>\n",
              "      <td>24.0</td>\n",
              "      <td>NaN</td>\n",
              "      <td>22</td>\n",
              "      <td>NaN</td>\n",
              "      <td>...</td>\n",
              "      <td>18.90</td>\n",
              "      <td>2.0</td>\n",
              "      <td>Санкт-Петербург</td>\n",
              "      <td>23982.0</td>\n",
              "      <td>11634.0</td>\n",
              "      <td>0.0</td>\n",
              "      <td>NaN</td>\n",
              "      <td>0.0</td>\n",
              "      <td>NaN</td>\n",
              "      <td>NaN</td>\n",
              "    </tr>\n",
              "    <tr>\n",
              "      <th>8</th>\n",
              "      <td>20</td>\n",
              "      <td>2900000.0</td>\n",
              "      <td>33.16</td>\n",
              "      <td>2018-05-23T00:00:00</td>\n",
              "      <td>1</td>\n",
              "      <td>NaN</td>\n",
              "      <td>27.0</td>\n",
              "      <td>15.43</td>\n",
              "      <td>26</td>\n",
              "      <td>NaN</td>\n",
              "      <td>...</td>\n",
              "      <td>8.81</td>\n",
              "      <td>NaN</td>\n",
              "      <td>посёлок Мурино</td>\n",
              "      <td>NaN</td>\n",
              "      <td>NaN</td>\n",
              "      <td>NaN</td>\n",
              "      <td>NaN</td>\n",
              "      <td>NaN</td>\n",
              "      <td>NaN</td>\n",
              "      <td>189.0</td>\n",
              "    </tr>\n",
              "    <tr>\n",
              "      <th>9</th>\n",
              "      <td>18</td>\n",
              "      <td>5400000.0</td>\n",
              "      <td>61.00</td>\n",
              "      <td>2017-02-26T00:00:00</td>\n",
              "      <td>3</td>\n",
              "      <td>2.50</td>\n",
              "      <td>9.0</td>\n",
              "      <td>43.60</td>\n",
              "      <td>7</td>\n",
              "      <td>NaN</td>\n",
              "      <td>...</td>\n",
              "      <td>6.50</td>\n",
              "      <td>2.0</td>\n",
              "      <td>Санкт-Петербург</td>\n",
              "      <td>50898.0</td>\n",
              "      <td>15008.0</td>\n",
              "      <td>0.0</td>\n",
              "      <td>NaN</td>\n",
              "      <td>0.0</td>\n",
              "      <td>NaN</td>\n",
              "      <td>289.0</td>\n",
              "    </tr>\n",
              "    <tr>\n",
              "      <th>10</th>\n",
              "      <td>5</td>\n",
              "      <td>5050000.0</td>\n",
              "      <td>39.60</td>\n",
              "      <td>2017-11-16T00:00:00</td>\n",
              "      <td>1</td>\n",
              "      <td>2.67</td>\n",
              "      <td>12.0</td>\n",
              "      <td>20.30</td>\n",
              "      <td>3</td>\n",
              "      <td>NaN</td>\n",
              "      <td>...</td>\n",
              "      <td>8.50</td>\n",
              "      <td>NaN</td>\n",
              "      <td>Санкт-Петербург</td>\n",
              "      <td>38357.0</td>\n",
              "      <td>13878.0</td>\n",
              "      <td>1.0</td>\n",
              "      <td>310.0</td>\n",
              "      <td>2.0</td>\n",
              "      <td>553.0</td>\n",
              "      <td>137.0</td>\n",
              "    </tr>\n",
              "    <tr>\n",
              "      <th>11</th>\n",
              "      <td>9</td>\n",
              "      <td>3300000.0</td>\n",
              "      <td>44.00</td>\n",
              "      <td>2018-08-27T00:00:00</td>\n",
              "      <td>2</td>\n",
              "      <td>NaN</td>\n",
              "      <td>5.0</td>\n",
              "      <td>31.00</td>\n",
              "      <td>4</td>\n",
              "      <td>False</td>\n",
              "      <td>...</td>\n",
              "      <td>6.00</td>\n",
              "      <td>1.0</td>\n",
              "      <td>Ломоносов</td>\n",
              "      <td>48252.0</td>\n",
              "      <td>51677.0</td>\n",
              "      <td>0.0</td>\n",
              "      <td>NaN</td>\n",
              "      <td>0.0</td>\n",
              "      <td>NaN</td>\n",
              "      <td>7.0</td>\n",
              "    </tr>\n",
              "    <tr>\n",
              "      <th>12</th>\n",
              "      <td>10</td>\n",
              "      <td>3890000.0</td>\n",
              "      <td>54.00</td>\n",
              "      <td>2016-06-30T00:00:00</td>\n",
              "      <td>2</td>\n",
              "      <td>NaN</td>\n",
              "      <td>5.0</td>\n",
              "      <td>30.00</td>\n",
              "      <td>5</td>\n",
              "      <td>NaN</td>\n",
              "      <td>...</td>\n",
              "      <td>9.00</td>\n",
              "      <td>0.0</td>\n",
              "      <td>Сертолово</td>\n",
              "      <td>NaN</td>\n",
              "      <td>NaN</td>\n",
              "      <td>NaN</td>\n",
              "      <td>NaN</td>\n",
              "      <td>NaN</td>\n",
              "      <td>NaN</td>\n",
              "      <td>90.0</td>\n",
              "    </tr>\n",
              "    <tr>\n",
              "      <th>13</th>\n",
              "      <td>20</td>\n",
              "      <td>3550000.0</td>\n",
              "      <td>42.80</td>\n",
              "      <td>2017-07-01T00:00:00</td>\n",
              "      <td>2</td>\n",
              "      <td>2.56</td>\n",
              "      <td>5.0</td>\n",
              "      <td>27.00</td>\n",
              "      <td>5</td>\n",
              "      <td>NaN</td>\n",
              "      <td>...</td>\n",
              "      <td>5.20</td>\n",
              "      <td>1.0</td>\n",
              "      <td>Петергоф</td>\n",
              "      <td>37868.0</td>\n",
              "      <td>33058.0</td>\n",
              "      <td>1.0</td>\n",
              "      <td>294.0</td>\n",
              "      <td>3.0</td>\n",
              "      <td>298.0</td>\n",
              "      <td>366.0</td>\n",
              "    </tr>\n",
              "    <tr>\n",
              "      <th>14</th>\n",
              "      <td>1</td>\n",
              "      <td>4400000.0</td>\n",
              "      <td>36.00</td>\n",
              "      <td>2016-06-23T00:00:00</td>\n",
              "      <td>1</td>\n",
              "      <td>NaN</td>\n",
              "      <td>6.0</td>\n",
              "      <td>17.00</td>\n",
              "      <td>1</td>\n",
              "      <td>NaN</td>\n",
              "      <td>...</td>\n",
              "      <td>8.00</td>\n",
              "      <td>0.0</td>\n",
              "      <td>Пушкин</td>\n",
              "      <td>20782.0</td>\n",
              "      <td>30759.0</td>\n",
              "      <td>0.0</td>\n",
              "      <td>NaN</td>\n",
              "      <td>1.0</td>\n",
              "      <td>96.0</td>\n",
              "      <td>203.0</td>\n",
              "    </tr>\n",
              "    <tr>\n",
              "      <th>15</th>\n",
              "      <td>16</td>\n",
              "      <td>4650000.0</td>\n",
              "      <td>39.00</td>\n",
              "      <td>2017-11-18T00:00:00</td>\n",
              "      <td>1</td>\n",
              "      <td>NaN</td>\n",
              "      <td>14.0</td>\n",
              "      <td>20.50</td>\n",
              "      <td>5</td>\n",
              "      <td>NaN</td>\n",
              "      <td>...</td>\n",
              "      <td>7.60</td>\n",
              "      <td>1.0</td>\n",
              "      <td>Санкт-Петербург</td>\n",
              "      <td>12900.0</td>\n",
              "      <td>14259.0</td>\n",
              "      <td>1.0</td>\n",
              "      <td>590.0</td>\n",
              "      <td>1.0</td>\n",
              "      <td>296.0</td>\n",
              "      <td>19.0</td>\n",
              "    </tr>\n",
              "    <tr>\n",
              "      <th>16</th>\n",
              "      <td>11</td>\n",
              "      <td>6700000.0</td>\n",
              "      <td>82.00</td>\n",
              "      <td>2017-11-23T00:00:00</td>\n",
              "      <td>3</td>\n",
              "      <td>3.05</td>\n",
              "      <td>5.0</td>\n",
              "      <td>55.60</td>\n",
              "      <td>1</td>\n",
              "      <td>NaN</td>\n",
              "      <td>...</td>\n",
              "      <td>9.00</td>\n",
              "      <td>NaN</td>\n",
              "      <td>Санкт-Петербург</td>\n",
              "      <td>22108.0</td>\n",
              "      <td>10698.0</td>\n",
              "      <td>3.0</td>\n",
              "      <td>420.0</td>\n",
              "      <td>0.0</td>\n",
              "      <td>NaN</td>\n",
              "      <td>397.0</td>\n",
              "    </tr>\n",
              "    <tr>\n",
              "      <th>17</th>\n",
              "      <td>6</td>\n",
              "      <td>4180000.0</td>\n",
              "      <td>36.00</td>\n",
              "      <td>2016-09-09T00:00:00</td>\n",
              "      <td>1</td>\n",
              "      <td>NaN</td>\n",
              "      <td>17.0</td>\n",
              "      <td>16.50</td>\n",
              "      <td>7</td>\n",
              "      <td>NaN</td>\n",
              "      <td>...</td>\n",
              "      <td>11.00</td>\n",
              "      <td>1.0</td>\n",
              "      <td>Санкт-Петербург</td>\n",
              "      <td>33564.0</td>\n",
              "      <td>14616.0</td>\n",
              "      <td>0.0</td>\n",
              "      <td>NaN</td>\n",
              "      <td>1.0</td>\n",
              "      <td>859.0</td>\n",
              "      <td>571.0</td>\n",
              "    </tr>\n",
              "    <tr>\n",
              "      <th>18</th>\n",
              "      <td>8</td>\n",
              "      <td>3250000.0</td>\n",
              "      <td>31.00</td>\n",
              "      <td>2017-01-27T00:00:00</td>\n",
              "      <td>1</td>\n",
              "      <td>2.50</td>\n",
              "      <td>5.0</td>\n",
              "      <td>19.40</td>\n",
              "      <td>2</td>\n",
              "      <td>NaN</td>\n",
              "      <td>...</td>\n",
              "      <td>5.60</td>\n",
              "      <td>1.0</td>\n",
              "      <td>Санкт-Петербург</td>\n",
              "      <td>44060.0</td>\n",
              "      <td>10842.0</td>\n",
              "      <td>1.0</td>\n",
              "      <td>759.0</td>\n",
              "      <td>0.0</td>\n",
              "      <td>NaN</td>\n",
              "      <td>168.0</td>\n",
              "    </tr>\n",
              "    <tr>\n",
              "      <th>19</th>\n",
              "      <td>16</td>\n",
              "      <td>14200000.0</td>\n",
              "      <td>121.00</td>\n",
              "      <td>2019-01-09T00:00:00</td>\n",
              "      <td>3</td>\n",
              "      <td>2.75</td>\n",
              "      <td>16.0</td>\n",
              "      <td>76.00</td>\n",
              "      <td>8</td>\n",
              "      <td>NaN</td>\n",
              "      <td>...</td>\n",
              "      <td>12.00</td>\n",
              "      <td>NaN</td>\n",
              "      <td>Санкт-Петербург</td>\n",
              "      <td>38900.0</td>\n",
              "      <td>12843.0</td>\n",
              "      <td>0.0</td>\n",
              "      <td>NaN</td>\n",
              "      <td>0.0</td>\n",
              "      <td>NaN</td>\n",
              "      <td>97.0</td>\n",
              "    </tr>\n",
              "    <tr>\n",
              "      <th>20</th>\n",
              "      <td>12</td>\n",
              "      <td>6120000.0</td>\n",
              "      <td>80.00</td>\n",
              "      <td>2017-09-28T00:00:00</td>\n",
              "      <td>3</td>\n",
              "      <td>2.70</td>\n",
              "      <td>27.0</td>\n",
              "      <td>48.00</td>\n",
              "      <td>11</td>\n",
              "      <td>NaN</td>\n",
              "      <td>...</td>\n",
              "      <td>12.00</td>\n",
              "      <td>2.0</td>\n",
              "      <td>посёлок Парголово</td>\n",
              "      <td>53134.0</td>\n",
              "      <td>19311.0</td>\n",
              "      <td>0.0</td>\n",
              "      <td>NaN</td>\n",
              "      <td>0.0</td>\n",
              "      <td>NaN</td>\n",
              "      <td>74.0</td>\n",
              "    </tr>\n",
              "    <tr>\n",
              "      <th>21</th>\n",
              "      <td>13</td>\n",
              "      <td>3200000.0</td>\n",
              "      <td>31.60</td>\n",
              "      <td>2018-03-14T00:00:00</td>\n",
              "      <td>1</td>\n",
              "      <td>NaN</td>\n",
              "      <td>5.0</td>\n",
              "      <td>16.90</td>\n",
              "      <td>2</td>\n",
              "      <td>NaN</td>\n",
              "      <td>...</td>\n",
              "      <td>5.70</td>\n",
              "      <td>1.0</td>\n",
              "      <td>Санкт-Петербург</td>\n",
              "      <td>36064.0</td>\n",
              "      <td>9722.0</td>\n",
              "      <td>1.0</td>\n",
              "      <td>248.0</td>\n",
              "      <td>0.0</td>\n",
              "      <td>NaN</td>\n",
              "      <td>310.0</td>\n",
              "    </tr>\n",
              "    <tr>\n",
              "      <th>22</th>\n",
              "      <td>20</td>\n",
              "      <td>5000000.0</td>\n",
              "      <td>58.00</td>\n",
              "      <td>2017-04-24T00:00:00</td>\n",
              "      <td>2</td>\n",
              "      <td>2.75</td>\n",
              "      <td>25.0</td>\n",
              "      <td>30.00</td>\n",
              "      <td>15</td>\n",
              "      <td>NaN</td>\n",
              "      <td>...</td>\n",
              "      <td>11.00</td>\n",
              "      <td>2.0</td>\n",
              "      <td>деревня Кудрово</td>\n",
              "      <td>NaN</td>\n",
              "      <td>NaN</td>\n",
              "      <td>NaN</td>\n",
              "      <td>NaN</td>\n",
              "      <td>NaN</td>\n",
              "      <td>NaN</td>\n",
              "      <td>60.0</td>\n",
              "    </tr>\n",
              "    <tr>\n",
              "      <th>23</th>\n",
              "      <td>11</td>\n",
              "      <td>2950000.0</td>\n",
              "      <td>32.00</td>\n",
              "      <td>2016-10-29T00:00:00</td>\n",
              "      <td>1</td>\n",
              "      <td>2.60</td>\n",
              "      <td>9.0</td>\n",
              "      <td>17.70</td>\n",
              "      <td>9</td>\n",
              "      <td>NaN</td>\n",
              "      <td>...</td>\n",
              "      <td>6.10</td>\n",
              "      <td>NaN</td>\n",
              "      <td>Санкт-Петербург</td>\n",
              "      <td>15414.0</td>\n",
              "      <td>14211.0</td>\n",
              "      <td>2.0</td>\n",
              "      <td>517.0</td>\n",
              "      <td>1.0</td>\n",
              "      <td>190.0</td>\n",
              "      <td>615.0</td>\n",
              "    </tr>\n",
              "    <tr>\n",
              "      <th>24</th>\n",
              "      <td>8</td>\n",
              "      <td>6500000.0</td>\n",
              "      <td>97.20</td>\n",
              "      <td>2015-10-31T00:00:00</td>\n",
              "      <td>2</td>\n",
              "      <td>NaN</td>\n",
              "      <td>3.0</td>\n",
              "      <td>46.50</td>\n",
              "      <td>1</td>\n",
              "      <td>NaN</td>\n",
              "      <td>...</td>\n",
              "      <td>19.60</td>\n",
              "      <td>0.0</td>\n",
              "      <td>Санкт-Петербург</td>\n",
              "      <td>20052.0</td>\n",
              "      <td>2336.0</td>\n",
              "      <td>3.0</td>\n",
              "      <td>411.0</td>\n",
              "      <td>3.0</td>\n",
              "      <td>124.0</td>\n",
              "      <td>265.0</td>\n",
              "    </tr>\n",
              "    <tr>\n",
              "      <th>25</th>\n",
              "      <td>3</td>\n",
              "      <td>6800000.0</td>\n",
              "      <td>76.00</td>\n",
              "      <td>2015-10-01T00:00:00</td>\n",
              "      <td>2</td>\n",
              "      <td>2.75</td>\n",
              "      <td>23.0</td>\n",
              "      <td>39.00</td>\n",
              "      <td>18</td>\n",
              "      <td>False</td>\n",
              "      <td>...</td>\n",
              "      <td>15.00</td>\n",
              "      <td>2.0</td>\n",
              "      <td>Санкт-Петербург</td>\n",
              "      <td>34967.0</td>\n",
              "      <td>14640.0</td>\n",
              "      <td>0.0</td>\n",
              "      <td>NaN</td>\n",
              "      <td>1.0</td>\n",
              "      <td>564.0</td>\n",
              "      <td>300.0</td>\n",
              "    </tr>\n",
              "    <tr>\n",
              "      <th>26</th>\n",
              "      <td>6</td>\n",
              "      <td>4050000.0</td>\n",
              "      <td>60.00</td>\n",
              "      <td>2017-04-28T00:00:00</td>\n",
              "      <td>4</td>\n",
              "      <td>NaN</td>\n",
              "      <td>5.0</td>\n",
              "      <td>43.00</td>\n",
              "      <td>4</td>\n",
              "      <td>NaN</td>\n",
              "      <td>...</td>\n",
              "      <td>7.00</td>\n",
              "      <td>NaN</td>\n",
              "      <td>Санкт-Петербург</td>\n",
              "      <td>11580.0</td>\n",
              "      <td>10510.0</td>\n",
              "      <td>0.0</td>\n",
              "      <td>NaN</td>\n",
              "      <td>1.0</td>\n",
              "      <td>95.0</td>\n",
              "      <td>265.0</td>\n",
              "    </tr>\n",
              "    <tr>\n",
              "      <th>27</th>\n",
              "      <td>20</td>\n",
              "      <td>7100000.0</td>\n",
              "      <td>70.00</td>\n",
              "      <td>2017-05-12T00:00:00</td>\n",
              "      <td>3</td>\n",
              "      <td>2.60</td>\n",
              "      <td>17.0</td>\n",
              "      <td>49.00</td>\n",
              "      <td>11</td>\n",
              "      <td>NaN</td>\n",
              "      <td>...</td>\n",
              "      <td>9.20</td>\n",
              "      <td>0.0</td>\n",
              "      <td>Санкт-Петербург</td>\n",
              "      <td>29197.0</td>\n",
              "      <td>11456.0</td>\n",
              "      <td>2.0</td>\n",
              "      <td>452.0</td>\n",
              "      <td>1.0</td>\n",
              "      <td>779.0</td>\n",
              "      <td>151.0</td>\n",
              "    </tr>\n",
              "    <tr>\n",
              "      <th>28</th>\n",
              "      <td>8</td>\n",
              "      <td>4170000.0</td>\n",
              "      <td>44.00</td>\n",
              "      <td>2017-12-13T00:00:00</td>\n",
              "      <td>1</td>\n",
              "      <td>2.90</td>\n",
              "      <td>6.0</td>\n",
              "      <td>20.80</td>\n",
              "      <td>1</td>\n",
              "      <td>NaN</td>\n",
              "      <td>...</td>\n",
              "      <td>11.70</td>\n",
              "      <td>1.0</td>\n",
              "      <td>Пушкин</td>\n",
              "      <td>18557.0</td>\n",
              "      <td>30710.0</td>\n",
              "      <td>0.0</td>\n",
              "      <td>NaN</td>\n",
              "      <td>1.0</td>\n",
              "      <td>118.0</td>\n",
              "      <td>74.0</td>\n",
              "    </tr>\n",
              "    <tr>\n",
              "      <th>29</th>\n",
              "      <td>9</td>\n",
              "      <td>8600000.0</td>\n",
              "      <td>100.00</td>\n",
              "      <td>2016-04-09T00:00:00</td>\n",
              "      <td>3</td>\n",
              "      <td>NaN</td>\n",
              "      <td>19.0</td>\n",
              "      <td>52.00</td>\n",
              "      <td>15</td>\n",
              "      <td>False</td>\n",
              "      <td>...</td>\n",
              "      <td>11.00</td>\n",
              "      <td>0.0</td>\n",
              "      <td>Санкт-Петербург</td>\n",
              "      <td>30394.0</td>\n",
              "      <td>11526.0</td>\n",
              "      <td>1.0</td>\n",
              "      <td>532.0</td>\n",
              "      <td>1.0</td>\n",
              "      <td>896.0</td>\n",
              "      <td>125.0</td>\n",
              "    </tr>\n",
              "    <tr>\n",
              "      <th>30</th>\n",
              "      <td>12</td>\n",
              "      <td>2200000.0</td>\n",
              "      <td>32.80</td>\n",
              "      <td>2018-02-19T00:00:00</td>\n",
              "      <td>1</td>\n",
              "      <td>NaN</td>\n",
              "      <td>9.0</td>\n",
              "      <td>NaN</td>\n",
              "      <td>2</td>\n",
              "      <td>NaN</td>\n",
              "      <td>...</td>\n",
              "      <td>NaN</td>\n",
              "      <td>NaN</td>\n",
              "      <td>Коммунар</td>\n",
              "      <td>NaN</td>\n",
              "      <td>NaN</td>\n",
              "      <td>NaN</td>\n",
              "      <td>NaN</td>\n",
              "      <td>NaN</td>\n",
              "      <td>NaN</td>\n",
              "      <td>63.0</td>\n",
              "    </tr>\n",
              "    <tr>\n",
              "      <th>31</th>\n",
              "      <td>8</td>\n",
              "      <td>7200000.0</td>\n",
              "      <td>67.90</td>\n",
              "      <td>2017-10-26T00:00:00</td>\n",
              "      <td>2</td>\n",
              "      <td>2.80</td>\n",
              "      <td>16.0</td>\n",
              "      <td>38.10</td>\n",
              "      <td>4</td>\n",
              "      <td>NaN</td>\n",
              "      <td>...</td>\n",
              "      <td>13.40</td>\n",
              "      <td>2.0</td>\n",
              "      <td>Санкт-Петербург</td>\n",
              "      <td>32888.0</td>\n",
              "      <td>12944.0</td>\n",
              "      <td>0.0</td>\n",
              "      <td>NaN</td>\n",
              "      <td>0.0</td>\n",
              "      <td>NaN</td>\n",
              "      <td>112.0</td>\n",
              "    </tr>\n",
              "    <tr>\n",
              "      <th>32</th>\n",
              "      <td>7</td>\n",
              "      <td>4990000.0</td>\n",
              "      <td>60.00</td>\n",
              "      <td>2016-05-22T00:00:00</td>\n",
              "      <td>3</td>\n",
              "      <td>NaN</td>\n",
              "      <td>5.0</td>\n",
              "      <td>39.00</td>\n",
              "      <td>4</td>\n",
              "      <td>NaN</td>\n",
              "      <td>...</td>\n",
              "      <td>6.00</td>\n",
              "      <td>0.0</td>\n",
              "      <td>Санкт-Петербург</td>\n",
              "      <td>11349.0</td>\n",
              "      <td>12889.0</td>\n",
              "      <td>0.0</td>\n",
              "      <td>NaN</td>\n",
              "      <td>1.0</td>\n",
              "      <td>426.0</td>\n",
              "      <td>224.0</td>\n",
              "    </tr>\n",
              "    <tr>\n",
              "      <th>33</th>\n",
              "      <td>8</td>\n",
              "      <td>4800000.0</td>\n",
              "      <td>73.00</td>\n",
              "      <td>2018-10-15T00:00:00</td>\n",
              "      <td>4</td>\n",
              "      <td>NaN</td>\n",
              "      <td>9.0</td>\n",
              "      <td>51.60</td>\n",
              "      <td>5</td>\n",
              "      <td>NaN</td>\n",
              "      <td>...</td>\n",
              "      <td>6.50</td>\n",
              "      <td>NaN</td>\n",
              "      <td>Колпино</td>\n",
              "      <td>26535.0</td>\n",
              "      <td>32321.0</td>\n",
              "      <td>0.0</td>\n",
              "      <td>NaN</td>\n",
              "      <td>0.0</td>\n",
              "      <td>NaN</td>\n",
              "      <td>92.0</td>\n",
              "    </tr>\n",
              "    <tr>\n",
              "      <th>34</th>\n",
              "      <td>3</td>\n",
              "      <td>3290000.0</td>\n",
              "      <td>33.00</td>\n",
              "      <td>2018-02-04T00:00:00</td>\n",
              "      <td>1</td>\n",
              "      <td>2.55</td>\n",
              "      <td>16.0</td>\n",
              "      <td>14.00</td>\n",
              "      <td>3</td>\n",
              "      <td>NaN</td>\n",
              "      <td>...</td>\n",
              "      <td>8.00</td>\n",
              "      <td>NaN</td>\n",
              "      <td>Санкт-Петербург</td>\n",
              "      <td>13943.0</td>\n",
              "      <td>12739.0</td>\n",
              "      <td>0.0</td>\n",
              "      <td>NaN</td>\n",
              "      <td>0.0</td>\n",
              "      <td>NaN</td>\n",
              "      <td>15.0</td>\n",
              "    </tr>\n",
              "    <tr>\n",
              "      <th>35</th>\n",
              "      <td>6</td>\n",
              "      <td>15500000.0</td>\n",
              "      <td>149.00</td>\n",
              "      <td>2017-06-26T00:00:00</td>\n",
              "      <td>5</td>\n",
              "      <td>NaN</td>\n",
              "      <td>5.0</td>\n",
              "      <td>104.00</td>\n",
              "      <td>4</td>\n",
              "      <td>NaN</td>\n",
              "      <td>...</td>\n",
              "      <td>17.00</td>\n",
              "      <td>NaN</td>\n",
              "      <td>Санкт-Петербург</td>\n",
              "      <td>23670.0</td>\n",
              "      <td>3502.0</td>\n",
              "      <td>0.0</td>\n",
              "      <td>NaN</td>\n",
              "      <td>1.0</td>\n",
              "      <td>779.0</td>\n",
              "      <td>644.0</td>\n",
              "    </tr>\n",
              "    <tr>\n",
              "      <th>36</th>\n",
              "      <td>13</td>\n",
              "      <td>3790000.0</td>\n",
              "      <td>45.00</td>\n",
              "      <td>2017-01-25T00:00:00</td>\n",
              "      <td>2</td>\n",
              "      <td>NaN</td>\n",
              "      <td>9.0</td>\n",
              "      <td>27.00</td>\n",
              "      <td>9</td>\n",
              "      <td>False</td>\n",
              "      <td>...</td>\n",
              "      <td>6.30</td>\n",
              "      <td>2.0</td>\n",
              "      <td>Санкт-Петербург</td>\n",
              "      <td>49574.0</td>\n",
              "      <td>16461.0</td>\n",
              "      <td>1.0</td>\n",
              "      <td>459.0</td>\n",
              "      <td>0.0</td>\n",
              "      <td>NaN</td>\n",
              "      <td>139.0</td>\n",
              "    </tr>\n",
              "    <tr>\n",
              "      <th>37</th>\n",
              "      <td>10</td>\n",
              "      <td>1990000.0</td>\n",
              "      <td>45.80</td>\n",
              "      <td>2017-10-28T00:00:00</td>\n",
              "      <td>2</td>\n",
              "      <td>2.50</td>\n",
              "      <td>5.0</td>\n",
              "      <td>NaN</td>\n",
              "      <td>1</td>\n",
              "      <td>NaN</td>\n",
              "      <td>...</td>\n",
              "      <td>NaN</td>\n",
              "      <td>NaN</td>\n",
              "      <td>поселок городского типа Красный Бор</td>\n",
              "      <td>NaN</td>\n",
              "      <td>NaN</td>\n",
              "      <td>NaN</td>\n",
              "      <td>NaN</td>\n",
              "      <td>NaN</td>\n",
              "      <td>NaN</td>\n",
              "      <td>196.0</td>\n",
              "    </tr>\n",
              "    <tr>\n",
              "      <th>38</th>\n",
              "      <td>10</td>\n",
              "      <td>3150000.0</td>\n",
              "      <td>40.00</td>\n",
              "      <td>2018-03-29T00:00:00</td>\n",
              "      <td>1</td>\n",
              "      <td>2.75</td>\n",
              "      <td>18.0</td>\n",
              "      <td>16.30</td>\n",
              "      <td>9</td>\n",
              "      <td>NaN</td>\n",
              "      <td>...</td>\n",
              "      <td>11.60</td>\n",
              "      <td>NaN</td>\n",
              "      <td>посёлок Мурино</td>\n",
              "      <td>NaN</td>\n",
              "      <td>NaN</td>\n",
              "      <td>NaN</td>\n",
              "      <td>NaN</td>\n",
              "      <td>NaN</td>\n",
              "      <td>NaN</td>\n",
              "      <td>103.0</td>\n",
              "    </tr>\n",
              "    <tr>\n",
              "      <th>39</th>\n",
              "      <td>15</td>\n",
              "      <td>5200000.0</td>\n",
              "      <td>54.40</td>\n",
              "      <td>2018-11-29T00:00:00</td>\n",
              "      <td>2</td>\n",
              "      <td>2.75</td>\n",
              "      <td>9.0</td>\n",
              "      <td>29.70</td>\n",
              "      <td>2</td>\n",
              "      <td>NaN</td>\n",
              "      <td>...</td>\n",
              "      <td>8.80</td>\n",
              "      <td>2.0</td>\n",
              "      <td>Санкт-Петербург</td>\n",
              "      <td>13413.0</td>\n",
              "      <td>12209.0</td>\n",
              "      <td>0.0</td>\n",
              "      <td>NaN</td>\n",
              "      <td>1.0</td>\n",
              "      <td>1175.0</td>\n",
              "      <td>29.0</td>\n",
              "    </tr>\n",
              "    <tr>\n",
              "      <th>40</th>\n",
              "      <td>9</td>\n",
              "      <td>3590000.0</td>\n",
              "      <td>36.00</td>\n",
              "      <td>2017-03-15T00:00:00</td>\n",
              "      <td>1</td>\n",
              "      <td>2.60</td>\n",
              "      <td>26.0</td>\n",
              "      <td>15.00</td>\n",
              "      <td>22</td>\n",
              "      <td>NaN</td>\n",
              "      <td>...</td>\n",
              "      <td>10.00</td>\n",
              "      <td>2.0</td>\n",
              "      <td>посёлок Парголово</td>\n",
              "      <td>52996.0</td>\n",
              "      <td>19143.0</td>\n",
              "      <td>0.0</td>\n",
              "      <td>NaN</td>\n",
              "      <td>0.0</td>\n",
              "      <td>NaN</td>\n",
              "      <td>430.0</td>\n",
              "    </tr>\n",
              "    <tr>\n",
              "      <th>41</th>\n",
              "      <td>16</td>\n",
              "      <td>7900000.0</td>\n",
              "      <td>74.00</td>\n",
              "      <td>2016-05-04T00:00:00</td>\n",
              "      <td>3</td>\n",
              "      <td>NaN</td>\n",
              "      <td>14.0</td>\n",
              "      <td>59.00</td>\n",
              "      <td>8</td>\n",
              "      <td>False</td>\n",
              "      <td>...</td>\n",
              "      <td>12.00</td>\n",
              "      <td>5.0</td>\n",
              "      <td>Санкт-Петербург</td>\n",
              "      <td>37715.0</td>\n",
              "      <td>12612.0</td>\n",
              "      <td>1.0</td>\n",
              "      <td>725.0</td>\n",
              "      <td>1.0</td>\n",
              "      <td>759.0</td>\n",
              "      <td>179.0</td>\n",
              "    </tr>\n",
              "    <tr>\n",
              "      <th>42</th>\n",
              "      <td>13</td>\n",
              "      <td>22000000.0</td>\n",
              "      <td>161.80</td>\n",
              "      <td>2015-07-08T00:00:00</td>\n",
              "      <td>4</td>\n",
              "      <td>2.80</td>\n",
              "      <td>4.0</td>\n",
              "      <td>80.90</td>\n",
              "      <td>2</td>\n",
              "      <td>False</td>\n",
              "      <td>...</td>\n",
              "      <td>17.60</td>\n",
              "      <td>5.0</td>\n",
              "      <td>Петергоф</td>\n",
              "      <td>35416.0</td>\n",
              "      <td>30605.0</td>\n",
              "      <td>2.0</td>\n",
              "      <td>47.0</td>\n",
              "      <td>1.0</td>\n",
              "      <td>907.0</td>\n",
              "      <td>987.0</td>\n",
              "    </tr>\n",
              "    <tr>\n",
              "      <th>43</th>\n",
              "      <td>13</td>\n",
              "      <td>9330000.0</td>\n",
              "      <td>48.00</td>\n",
              "      <td>2017-01-10T00:00:00</td>\n",
              "      <td>2</td>\n",
              "      <td>3.00</td>\n",
              "      <td>4.0</td>\n",
              "      <td>28.00</td>\n",
              "      <td>4</td>\n",
              "      <td>NaN</td>\n",
              "      <td>...</td>\n",
              "      <td>7.50</td>\n",
              "      <td>NaN</td>\n",
              "      <td>Санкт-Петербург</td>\n",
              "      <td>15016.0</td>\n",
              "      <td>10822.0</td>\n",
              "      <td>0.0</td>\n",
              "      <td>NaN</td>\n",
              "      <td>1.0</td>\n",
              "      <td>492.0</td>\n",
              "      <td>763.0</td>\n",
              "    </tr>\n",
              "    <tr>\n",
              "      <th>44</th>\n",
              "      <td>13</td>\n",
              "      <td>5350000.0</td>\n",
              "      <td>40.00</td>\n",
              "      <td>2018-11-18T00:00:00</td>\n",
              "      <td>1</td>\n",
              "      <td>NaN</td>\n",
              "      <td>22.0</td>\n",
              "      <td>NaN</td>\n",
              "      <td>3</td>\n",
              "      <td>NaN</td>\n",
              "      <td>...</td>\n",
              "      <td>NaN</td>\n",
              "      <td>1.0</td>\n",
              "      <td>Санкт-Петербург</td>\n",
              "      <td>30471.0</td>\n",
              "      <td>11603.0</td>\n",
              "      <td>1.0</td>\n",
              "      <td>620.0</td>\n",
              "      <td>1.0</td>\n",
              "      <td>1152.0</td>\n",
              "      <td>NaN</td>\n",
              "    </tr>\n",
              "    <tr>\n",
              "      <th>45</th>\n",
              "      <td>17</td>\n",
              "      <td>5200000.0</td>\n",
              "      <td>50.60</td>\n",
              "      <td>2018-12-02T00:00:00</td>\n",
              "      <td>2</td>\n",
              "      <td>2.65</td>\n",
              "      <td>9.0</td>\n",
              "      <td>30.30</td>\n",
              "      <td>7</td>\n",
              "      <td>NaN</td>\n",
              "      <td>...</td>\n",
              "      <td>7.00</td>\n",
              "      <td>NaN</td>\n",
              "      <td>Санкт-Петербург</td>\n",
              "      <td>30011.0</td>\n",
              "      <td>12872.0</td>\n",
              "      <td>0.0</td>\n",
              "      <td>NaN</td>\n",
              "      <td>0.0</td>\n",
              "      <td>NaN</td>\n",
              "      <td>NaN</td>\n",
              "    </tr>\n",
              "    <tr>\n",
              "      <th>46</th>\n",
              "      <td>17</td>\n",
              "      <td>6600000.0</td>\n",
              "      <td>52.10</td>\n",
              "      <td>2019-01-31T00:00:00</td>\n",
              "      <td>2</td>\n",
              "      <td>2.60</td>\n",
              "      <td>24.0</td>\n",
              "      <td>29.70</td>\n",
              "      <td>9</td>\n",
              "      <td>NaN</td>\n",
              "      <td>...</td>\n",
              "      <td>8.30</td>\n",
              "      <td>2.0</td>\n",
              "      <td>Санкт-Петербург</td>\n",
              "      <td>15114.0</td>\n",
              "      <td>12702.0</td>\n",
              "      <td>0.0</td>\n",
              "      <td>NaN</td>\n",
              "      <td>0.0</td>\n",
              "      <td>NaN</td>\n",
              "      <td>NaN</td>\n",
              "    </tr>\n",
              "    <tr>\n",
              "      <th>47</th>\n",
              "      <td>17</td>\n",
              "      <td>3600000.0</td>\n",
              "      <td>56.10</td>\n",
              "      <td>2018-10-18T00:00:00</td>\n",
              "      <td>3</td>\n",
              "      <td>NaN</td>\n",
              "      <td>4.0</td>\n",
              "      <td>42.50</td>\n",
              "      <td>3</td>\n",
              "      <td>NaN</td>\n",
              "      <td>...</td>\n",
              "      <td>5.70</td>\n",
              "      <td>1.0</td>\n",
              "      <td>Гатчина</td>\n",
              "      <td>NaN</td>\n",
              "      <td>NaN</td>\n",
              "      <td>NaN</td>\n",
              "      <td>NaN</td>\n",
              "      <td>NaN</td>\n",
              "      <td>NaN</td>\n",
              "      <td>179.0</td>\n",
              "    </tr>\n",
              "    <tr>\n",
              "      <th>48</th>\n",
              "      <td>10</td>\n",
              "      <td>3600000.0</td>\n",
              "      <td>33.83</td>\n",
              "      <td>2017-10-03T00:00:00</td>\n",
              "      <td>1</td>\n",
              "      <td>NaN</td>\n",
              "      <td>24.0</td>\n",
              "      <td>15.35</td>\n",
              "      <td>6</td>\n",
              "      <td>NaN</td>\n",
              "      <td>...</td>\n",
              "      <td>9.50</td>\n",
              "      <td>NaN</td>\n",
              "      <td>Санкт-Петербург</td>\n",
              "      <td>21460.0</td>\n",
              "      <td>16788.0</td>\n",
              "      <td>0.0</td>\n",
              "      <td>NaN</td>\n",
              "      <td>1.0</td>\n",
              "      <td>170.0</td>\n",
              "      <td>322.0</td>\n",
              "    </tr>\n",
              "    <tr>\n",
              "      <th>49</th>\n",
              "      <td>1</td>\n",
              "      <td>3050000.0</td>\n",
              "      <td>30.80</td>\n",
              "      <td>2018-11-22T00:00:00</td>\n",
              "      <td>1</td>\n",
              "      <td>2.50</td>\n",
              "      <td>9.0</td>\n",
              "      <td>18.00</td>\n",
              "      <td>7</td>\n",
              "      <td>NaN</td>\n",
              "      <td>...</td>\n",
              "      <td>6.00</td>\n",
              "      <td>NaN</td>\n",
              "      <td>Санкт-Петербург</td>\n",
              "      <td>45341.0</td>\n",
              "      <td>16603.0</td>\n",
              "      <td>1.0</td>\n",
              "      <td>675.0</td>\n",
              "      <td>0.0</td>\n",
              "      <td>NaN</td>\n",
              "      <td>NaN</td>\n",
              "    </tr>\n",
              "  </tbody>\n",
              "</table>\n",
              "<p>50 rows × 22 columns</p>\n",
              "</div>"
            ],
            "text/plain": [
              "    total_images  last_price  total_area first_day_exposition  rooms  \\\n",
              "0             20  13000000.0      108.00  2019-03-07T00:00:00      3   \n",
              "1              7   3350000.0       40.40  2018-12-04T00:00:00      1   \n",
              "2             10   5196000.0       56.00  2015-08-20T00:00:00      2   \n",
              "3              0  64900000.0      159.00  2015-07-24T00:00:00      3   \n",
              "4              2  10000000.0      100.00  2018-06-19T00:00:00      2   \n",
              "5             10   2890000.0       30.40  2018-09-10T00:00:00      1   \n",
              "6              6   3700000.0       37.30  2017-11-02T00:00:00      1   \n",
              "7              5   7915000.0       71.60  2019-04-18T00:00:00      2   \n",
              "8             20   2900000.0       33.16  2018-05-23T00:00:00      1   \n",
              "9             18   5400000.0       61.00  2017-02-26T00:00:00      3   \n",
              "10             5   5050000.0       39.60  2017-11-16T00:00:00      1   \n",
              "11             9   3300000.0       44.00  2018-08-27T00:00:00      2   \n",
              "12            10   3890000.0       54.00  2016-06-30T00:00:00      2   \n",
              "13            20   3550000.0       42.80  2017-07-01T00:00:00      2   \n",
              "14             1   4400000.0       36.00  2016-06-23T00:00:00      1   \n",
              "15            16   4650000.0       39.00  2017-11-18T00:00:00      1   \n",
              "16            11   6700000.0       82.00  2017-11-23T00:00:00      3   \n",
              "17             6   4180000.0       36.00  2016-09-09T00:00:00      1   \n",
              "18             8   3250000.0       31.00  2017-01-27T00:00:00      1   \n",
              "19            16  14200000.0      121.00  2019-01-09T00:00:00      3   \n",
              "20            12   6120000.0       80.00  2017-09-28T00:00:00      3   \n",
              "21            13   3200000.0       31.60  2018-03-14T00:00:00      1   \n",
              "22            20   5000000.0       58.00  2017-04-24T00:00:00      2   \n",
              "23            11   2950000.0       32.00  2016-10-29T00:00:00      1   \n",
              "24             8   6500000.0       97.20  2015-10-31T00:00:00      2   \n",
              "25             3   6800000.0       76.00  2015-10-01T00:00:00      2   \n",
              "26             6   4050000.0       60.00  2017-04-28T00:00:00      4   \n",
              "27            20   7100000.0       70.00  2017-05-12T00:00:00      3   \n",
              "28             8   4170000.0       44.00  2017-12-13T00:00:00      1   \n",
              "29             9   8600000.0      100.00  2016-04-09T00:00:00      3   \n",
              "30            12   2200000.0       32.80  2018-02-19T00:00:00      1   \n",
              "31             8   7200000.0       67.90  2017-10-26T00:00:00      2   \n",
              "32             7   4990000.0       60.00  2016-05-22T00:00:00      3   \n",
              "33             8   4800000.0       73.00  2018-10-15T00:00:00      4   \n",
              "34             3   3290000.0       33.00  2018-02-04T00:00:00      1   \n",
              "35             6  15500000.0      149.00  2017-06-26T00:00:00      5   \n",
              "36            13   3790000.0       45.00  2017-01-25T00:00:00      2   \n",
              "37            10   1990000.0       45.80  2017-10-28T00:00:00      2   \n",
              "38            10   3150000.0       40.00  2018-03-29T00:00:00      1   \n",
              "39            15   5200000.0       54.40  2018-11-29T00:00:00      2   \n",
              "40             9   3590000.0       36.00  2017-03-15T00:00:00      1   \n",
              "41            16   7900000.0       74.00  2016-05-04T00:00:00      3   \n",
              "42            13  22000000.0      161.80  2015-07-08T00:00:00      4   \n",
              "43            13   9330000.0       48.00  2017-01-10T00:00:00      2   \n",
              "44            13   5350000.0       40.00  2018-11-18T00:00:00      1   \n",
              "45            17   5200000.0       50.60  2018-12-02T00:00:00      2   \n",
              "46            17   6600000.0       52.10  2019-01-31T00:00:00      2   \n",
              "47            17   3600000.0       56.10  2018-10-18T00:00:00      3   \n",
              "48            10   3600000.0       33.83  2017-10-03T00:00:00      1   \n",
              "49             1   3050000.0       30.80  2018-11-22T00:00:00      1   \n",
              "\n",
              "    ceiling_height  floors_total  living_area  floor is_apartment  ...  \\\n",
              "0             2.70          16.0        51.00      8          NaN  ...   \n",
              "1              NaN          11.0        18.60      1          NaN  ...   \n",
              "2              NaN           5.0        34.30      4          NaN  ...   \n",
              "3              NaN          14.0          NaN      9          NaN  ...   \n",
              "4             3.03          14.0        32.00     13          NaN  ...   \n",
              "5              NaN          12.0        14.40      5          NaN  ...   \n",
              "6              NaN          26.0        10.60      6          NaN  ...   \n",
              "7              NaN          24.0          NaN     22          NaN  ...   \n",
              "8              NaN          27.0        15.43     26          NaN  ...   \n",
              "9             2.50           9.0        43.60      7          NaN  ...   \n",
              "10            2.67          12.0        20.30      3          NaN  ...   \n",
              "11             NaN           5.0        31.00      4        False  ...   \n",
              "12             NaN           5.0        30.00      5          NaN  ...   \n",
              "13            2.56           5.0        27.00      5          NaN  ...   \n",
              "14             NaN           6.0        17.00      1          NaN  ...   \n",
              "15             NaN          14.0        20.50      5          NaN  ...   \n",
              "16            3.05           5.0        55.60      1          NaN  ...   \n",
              "17             NaN          17.0        16.50      7          NaN  ...   \n",
              "18            2.50           5.0        19.40      2          NaN  ...   \n",
              "19            2.75          16.0        76.00      8          NaN  ...   \n",
              "20            2.70          27.0        48.00     11          NaN  ...   \n",
              "21             NaN           5.0        16.90      2          NaN  ...   \n",
              "22            2.75          25.0        30.00     15          NaN  ...   \n",
              "23            2.60           9.0        17.70      9          NaN  ...   \n",
              "24             NaN           3.0        46.50      1          NaN  ...   \n",
              "25            2.75          23.0        39.00     18        False  ...   \n",
              "26             NaN           5.0        43.00      4          NaN  ...   \n",
              "27            2.60          17.0        49.00     11          NaN  ...   \n",
              "28            2.90           6.0        20.80      1          NaN  ...   \n",
              "29             NaN          19.0        52.00     15        False  ...   \n",
              "30             NaN           9.0          NaN      2          NaN  ...   \n",
              "31            2.80          16.0        38.10      4          NaN  ...   \n",
              "32             NaN           5.0        39.00      4          NaN  ...   \n",
              "33             NaN           9.0        51.60      5          NaN  ...   \n",
              "34            2.55          16.0        14.00      3          NaN  ...   \n",
              "35             NaN           5.0       104.00      4          NaN  ...   \n",
              "36             NaN           9.0        27.00      9        False  ...   \n",
              "37            2.50           5.0          NaN      1          NaN  ...   \n",
              "38            2.75          18.0        16.30      9          NaN  ...   \n",
              "39            2.75           9.0        29.70      2          NaN  ...   \n",
              "40            2.60          26.0        15.00     22          NaN  ...   \n",
              "41             NaN          14.0        59.00      8        False  ...   \n",
              "42            2.80           4.0        80.90      2        False  ...   \n",
              "43            3.00           4.0        28.00      4          NaN  ...   \n",
              "44             NaN          22.0          NaN      3          NaN  ...   \n",
              "45            2.65           9.0        30.30      7          NaN  ...   \n",
              "46            2.60          24.0        29.70      9          NaN  ...   \n",
              "47             NaN           4.0        42.50      3          NaN  ...   \n",
              "48             NaN          24.0        15.35      6          NaN  ...   \n",
              "49            2.50           9.0        18.00      7          NaN  ...   \n",
              "\n",
              "    kitchen_area  balcony                        locality_name  \\\n",
              "0          25.00      NaN                      Санкт-Петербург   \n",
              "1          11.00      2.0                       посёлок Шушары   \n",
              "2           8.30      0.0                      Санкт-Петербург   \n",
              "3            NaN      0.0                      Санкт-Петербург   \n",
              "4          41.00      NaN                      Санкт-Петербург   \n",
              "5           9.10      NaN            городской посёлок Янино-1   \n",
              "6          14.40      1.0                    посёлок Парголово   \n",
              "7          18.90      2.0                      Санкт-Петербург   \n",
              "8           8.81      NaN                       посёлок Мурино   \n",
              "9           6.50      2.0                      Санкт-Петербург   \n",
              "10          8.50      NaN                      Санкт-Петербург   \n",
              "11          6.00      1.0                            Ломоносов   \n",
              "12          9.00      0.0                            Сертолово   \n",
              "13          5.20      1.0                             Петергоф   \n",
              "14          8.00      0.0                               Пушкин   \n",
              "15          7.60      1.0                      Санкт-Петербург   \n",
              "16          9.00      NaN                      Санкт-Петербург   \n",
              "17         11.00      1.0                      Санкт-Петербург   \n",
              "18          5.60      1.0                      Санкт-Петербург   \n",
              "19         12.00      NaN                      Санкт-Петербург   \n",
              "20         12.00      2.0                    посёлок Парголово   \n",
              "21          5.70      1.0                      Санкт-Петербург   \n",
              "22         11.00      2.0                      деревня Кудрово   \n",
              "23          6.10      NaN                      Санкт-Петербург   \n",
              "24         19.60      0.0                      Санкт-Петербург   \n",
              "25         15.00      2.0                      Санкт-Петербург   \n",
              "26          7.00      NaN                      Санкт-Петербург   \n",
              "27          9.20      0.0                      Санкт-Петербург   \n",
              "28         11.70      1.0                               Пушкин   \n",
              "29         11.00      0.0                      Санкт-Петербург   \n",
              "30           NaN      NaN                             Коммунар   \n",
              "31         13.40      2.0                      Санкт-Петербург   \n",
              "32          6.00      0.0                      Санкт-Петербург   \n",
              "33          6.50      NaN                              Колпино   \n",
              "34          8.00      NaN                      Санкт-Петербург   \n",
              "35         17.00      NaN                      Санкт-Петербург   \n",
              "36          6.30      2.0                      Санкт-Петербург   \n",
              "37           NaN      NaN  поселок городского типа Красный Бор   \n",
              "38         11.60      NaN                       посёлок Мурино   \n",
              "39          8.80      2.0                      Санкт-Петербург   \n",
              "40         10.00      2.0                    посёлок Парголово   \n",
              "41         12.00      5.0                      Санкт-Петербург   \n",
              "42         17.60      5.0                             Петергоф   \n",
              "43          7.50      NaN                      Санкт-Петербург   \n",
              "44           NaN      1.0                      Санкт-Петербург   \n",
              "45          7.00      NaN                      Санкт-Петербург   \n",
              "46          8.30      2.0                      Санкт-Петербург   \n",
              "47          5.70      1.0                              Гатчина   \n",
              "48          9.50      NaN                      Санкт-Петербург   \n",
              "49          6.00      NaN                      Санкт-Петербург   \n",
              "\n",
              "    airports_nearest cityCenters_nearest  parks_around3000  parks_nearest  \\\n",
              "0            18863.0             16028.0               1.0          482.0   \n",
              "1            12817.0             18603.0               0.0            NaN   \n",
              "2            21741.0             13933.0               1.0           90.0   \n",
              "3            28098.0              6800.0               2.0           84.0   \n",
              "4            31856.0              8098.0               2.0          112.0   \n",
              "5                NaN                 NaN               NaN            NaN   \n",
              "6            52996.0             19143.0               0.0            NaN   \n",
              "7            23982.0             11634.0               0.0            NaN   \n",
              "8                NaN                 NaN               NaN            NaN   \n",
              "9            50898.0             15008.0               0.0            NaN   \n",
              "10           38357.0             13878.0               1.0          310.0   \n",
              "11           48252.0             51677.0               0.0            NaN   \n",
              "12               NaN                 NaN               NaN            NaN   \n",
              "13           37868.0             33058.0               1.0          294.0   \n",
              "14           20782.0             30759.0               0.0            NaN   \n",
              "15           12900.0             14259.0               1.0          590.0   \n",
              "16           22108.0             10698.0               3.0          420.0   \n",
              "17           33564.0             14616.0               0.0            NaN   \n",
              "18           44060.0             10842.0               1.0          759.0   \n",
              "19           38900.0             12843.0               0.0            NaN   \n",
              "20           53134.0             19311.0               0.0            NaN   \n",
              "21           36064.0              9722.0               1.0          248.0   \n",
              "22               NaN                 NaN               NaN            NaN   \n",
              "23           15414.0             14211.0               2.0          517.0   \n",
              "24           20052.0              2336.0               3.0          411.0   \n",
              "25           34967.0             14640.0               0.0            NaN   \n",
              "26           11580.0             10510.0               0.0            NaN   \n",
              "27           29197.0             11456.0               2.0          452.0   \n",
              "28           18557.0             30710.0               0.0            NaN   \n",
              "29           30394.0             11526.0               1.0          532.0   \n",
              "30               NaN                 NaN               NaN            NaN   \n",
              "31           32888.0             12944.0               0.0            NaN   \n",
              "32           11349.0             12889.0               0.0            NaN   \n",
              "33           26535.0             32321.0               0.0            NaN   \n",
              "34           13943.0             12739.0               0.0            NaN   \n",
              "35           23670.0              3502.0               0.0            NaN   \n",
              "36           49574.0             16461.0               1.0          459.0   \n",
              "37               NaN                 NaN               NaN            NaN   \n",
              "38               NaN                 NaN               NaN            NaN   \n",
              "39           13413.0             12209.0               0.0            NaN   \n",
              "40           52996.0             19143.0               0.0            NaN   \n",
              "41           37715.0             12612.0               1.0          725.0   \n",
              "42           35416.0             30605.0               2.0           47.0   \n",
              "43           15016.0             10822.0               0.0            NaN   \n",
              "44           30471.0             11603.0               1.0          620.0   \n",
              "45           30011.0             12872.0               0.0            NaN   \n",
              "46           15114.0             12702.0               0.0            NaN   \n",
              "47               NaN                 NaN               NaN            NaN   \n",
              "48           21460.0             16788.0               0.0            NaN   \n",
              "49           45341.0             16603.0               1.0          675.0   \n",
              "\n",
              "    ponds_around3000  ponds_nearest  days_exposition  \n",
              "0                2.0          755.0              NaN  \n",
              "1                0.0            NaN             81.0  \n",
              "2                2.0          574.0            558.0  \n",
              "3                3.0          234.0            424.0  \n",
              "4                1.0           48.0            121.0  \n",
              "5                NaN            NaN             55.0  \n",
              "6                0.0            NaN            155.0  \n",
              "7                0.0            NaN              NaN  \n",
              "8                NaN            NaN            189.0  \n",
              "9                0.0            NaN            289.0  \n",
              "10               2.0          553.0            137.0  \n",
              "11               0.0            NaN              7.0  \n",
              "12               NaN            NaN             90.0  \n",
              "13               3.0          298.0            366.0  \n",
              "14               1.0           96.0            203.0  \n",
              "15               1.0          296.0             19.0  \n",
              "16               0.0            NaN            397.0  \n",
              "17               1.0          859.0            571.0  \n",
              "18               0.0            NaN            168.0  \n",
              "19               0.0            NaN             97.0  \n",
              "20               0.0            NaN             74.0  \n",
              "21               0.0            NaN            310.0  \n",
              "22               NaN            NaN             60.0  \n",
              "23               1.0          190.0            615.0  \n",
              "24               3.0          124.0            265.0  \n",
              "25               1.0          564.0            300.0  \n",
              "26               1.0           95.0            265.0  \n",
              "27               1.0          779.0            151.0  \n",
              "28               1.0          118.0             74.0  \n",
              "29               1.0          896.0            125.0  \n",
              "30               NaN            NaN             63.0  \n",
              "31               0.0            NaN            112.0  \n",
              "32               1.0          426.0            224.0  \n",
              "33               0.0            NaN             92.0  \n",
              "34               0.0            NaN             15.0  \n",
              "35               1.0          779.0            644.0  \n",
              "36               0.0            NaN            139.0  \n",
              "37               NaN            NaN            196.0  \n",
              "38               NaN            NaN            103.0  \n",
              "39               1.0         1175.0             29.0  \n",
              "40               0.0            NaN            430.0  \n",
              "41               1.0          759.0            179.0  \n",
              "42               1.0          907.0            987.0  \n",
              "43               1.0          492.0            763.0  \n",
              "44               1.0         1152.0              NaN  \n",
              "45               0.0            NaN              NaN  \n",
              "46               0.0            NaN              NaN  \n",
              "47               NaN            NaN            179.0  \n",
              "48               1.0          170.0            322.0  \n",
              "49               0.0            NaN              NaN  \n",
              "\n",
              "[50 rows x 22 columns]"
            ]
          },
          "execution_count": 192,
          "metadata": {},
          "output_type": "execute_result"
        }
      ],
      "source": [
        "import pandas as pd\n",
        "import matplotlib.pyplot as plt\n",
        "data = pd.read_csv('/datasets/real_estate_data.csv', sep = '\\t') # прочитаем файл с архивными данными по продаже квартир\n",
        "data.head(50)"
      ]
    },
    {
      "cell_type": "code",
      "execution_count": null,
      "metadata": {
        "scrolled": true,
        "id": "-9EByVi-eBVZ",
        "outputId": "31708f94-de85-4e62-dc18-38d252644d81"
      },
      "outputs": [
        {
          "name": "stdout",
          "output_type": "stream",
          "text": [
            "<class 'pandas.core.frame.DataFrame'>\n",
            "RangeIndex: 23699 entries, 0 to 23698\n",
            "Data columns (total 22 columns):\n",
            " #   Column                Non-Null Count  Dtype  \n",
            "---  ------                --------------  -----  \n",
            " 0   total_images          23699 non-null  int64  \n",
            " 1   last_price            23699 non-null  float64\n",
            " 2   total_area            23699 non-null  float64\n",
            " 3   first_day_exposition  23699 non-null  object \n",
            " 4   rooms                 23699 non-null  int64  \n",
            " 5   ceiling_height        14504 non-null  float64\n",
            " 6   floors_total          23613 non-null  float64\n",
            " 7   living_area           21796 non-null  float64\n",
            " 8   floor                 23699 non-null  int64  \n",
            " 9   is_apartment          2775 non-null   object \n",
            " 10  studio                23699 non-null  bool   \n",
            " 11  open_plan             23699 non-null  bool   \n",
            " 12  kitchen_area          21421 non-null  float64\n",
            " 13  balcony               12180 non-null  float64\n",
            " 14  locality_name         23650 non-null  object \n",
            " 15  airports_nearest      18157 non-null  float64\n",
            " 16  cityCenters_nearest   18180 non-null  float64\n",
            " 17  parks_around3000      18181 non-null  float64\n",
            " 18  parks_nearest         8079 non-null   float64\n",
            " 19  ponds_around3000      18181 non-null  float64\n",
            " 20  ponds_nearest         9110 non-null   float64\n",
            " 21  days_exposition       20518 non-null  float64\n",
            "dtypes: bool(2), float64(14), int64(3), object(3)\n",
            "memory usage: 3.7+ MB\n"
          ]
        }
      ],
      "source": [
        "data.info() # изучим общую информацию об архивных данных"
      ]
    },
    {
      "cell_type": "code",
      "execution_count": null,
      "metadata": {
        "id": "CVvZiS6BeBVZ",
        "outputId": "ce76317f-289c-4e4b-8c8c-30ee8708d6fb"
      },
      "outputs": [
        {
          "data": {
            "text/plain": [
              "total_images                0\n",
              "last_price                  0\n",
              "total_area                  0\n",
              "first_day_exposition        0\n",
              "rooms                       0\n",
              "ceiling_height           9195\n",
              "floors_total               86\n",
              "living_area              1903\n",
              "floor                       0\n",
              "is_apartment            20924\n",
              "studio                      0\n",
              "open_plan                   0\n",
              "kitchen_area             2278\n",
              "balcony                 11519\n",
              "locality_name              49\n",
              "airports_nearest         5542\n",
              "cityCenters_nearest      5519\n",
              "parks_around3000         5518\n",
              "parks_nearest           15620\n",
              "ponds_around3000         5518\n",
              "ponds_nearest           14589\n",
              "days_exposition          3181\n",
              "dtype: int64"
            ]
          },
          "execution_count": 194,
          "metadata": {},
          "output_type": "execute_result"
        }
      ],
      "source": [
        "data.isna().sum() # изучение датасета на предмет пропущенных значений"
      ]
    },
    {
      "cell_type": "markdown",
      "metadata": {
        "id": "zKUXNpjzeBVa"
      },
      "source": [
        "### Вывод"
      ]
    },
    {
      "cell_type": "markdown",
      "metadata": {
        "id": "6aouSzx-eBVb"
      },
      "source": [
        "  Общая инфорация о данных показывает наличие пропусков в следующих столбцах:\n",
        "  - ceiling_height;\n",
        "  *floors_total;\n",
        "  *living_area ;\n",
        "  *is_apartment;\n",
        "  *kitchen_area;\n",
        "  *balcony;\n",
        "  *locality_name;\n",
        "  *airports_nearest;\n",
        "  *cityCenters_nearest;\n",
        "  *parks_around3000;\n",
        "  *parks_nearest;\n",
        "  *ponds_around3000;\n",
        "  *ponds_nearest;\n",
        "  *days_exposition. \n",
        "  \n",
        "  Такие данные, как: число балконов, число водоёмов в радиусе 3 км, число парков в радиусе 3 км можем сразу заменить на нулевые значения, поскольку пропуски в данных случаях скорее всего говорят об отсутствии объектов в характеристиках недвижимости. Пропущенные значения в столбце is_apartment заменим на False, скорее всего объект недвижимости не является аппартаментами, иначе это было бы отмечено. Тип данных в столбцах balcony, floors_total, parks_around3000, ponds_around3000, days_exposition надо привести к целочисленным значениям,т.к. число этажей, количество объектов или дней нахождения объявления в публикации не может быть дробным.\n",
        "  Отсутствующие данные по высоте потолков, жилой площади, площади кухни, удаленности от центра города и дням размещения объявления на сайте заменим медианными значениями.\n",
        "  Отсутствующие данные по общему количеству этажей заполним данными по этажу, на котором находится квартира."
      ]
    },
    {
      "cell_type": "markdown",
      "metadata": {
        "id": "-QFThWdUeBVc"
      },
      "source": [
        "## Предобработка данных"
      ]
    },
    {
      "cell_type": "code",
      "execution_count": null,
      "metadata": {
        "scrolled": true,
        "id": "4j-7dqXReBVd",
        "outputId": "fffbfa2c-7cf0-45c2-feaa-af96556c6934"
      },
      "outputs": [
        {
          "name": "stdout",
          "output_type": "stream",
          "text": [
            "<class 'pandas.core.frame.DataFrame'>\n",
            "RangeIndex: 23699 entries, 0 to 23698\n",
            "Data columns (total 22 columns):\n",
            " #   Column                Non-Null Count  Dtype  \n",
            "---  ------                --------------  -----  \n",
            " 0   total_images          23699 non-null  int64  \n",
            " 1   last_price            23699 non-null  float64\n",
            " 2   total_area            23699 non-null  float64\n",
            " 3   first_day_exposition  23699 non-null  object \n",
            " 4   rooms                 23699 non-null  int64  \n",
            " 5   ceiling_height        23699 non-null  float64\n",
            " 6   floors_total          23699 non-null  int64  \n",
            " 7   living_area           23699 non-null  float64\n",
            " 8   floor                 23699 non-null  int64  \n",
            " 9   is_apartment          23699 non-null  bool   \n",
            " 10  studio                23699 non-null  bool   \n",
            " 11  open_plan             23699 non-null  bool   \n",
            " 12  kitchen_area          23699 non-null  float64\n",
            " 13  balcony               23699 non-null  int64  \n",
            " 14  locality_name         23650 non-null  object \n",
            " 15  airports_nearest      18157 non-null  float64\n",
            " 16  cityCenters_nearest   23699 non-null  float64\n",
            " 17  parks_around3000      23699 non-null  int64  \n",
            " 18  parks_nearest         8079 non-null   float64\n",
            " 19  ponds_around3000      23699 non-null  int64  \n",
            " 20  ponds_nearest         9110 non-null   float64\n",
            " 21  days_exposition       20518 non-null  float64\n",
            "dtypes: bool(3), float64(10), int64(7), object(2)\n",
            "memory usage: 3.5+ MB\n"
          ]
        }
      ],
      "source": [
        "data['balcony'] = data['balcony'].fillna(0).astype('int') # заполнение пропусков в колонках и изменение типа значений на целочисленные\n",
        "data['ponds_around3000'] = data['ponds_around3000'].fillna(0).astype('int') #заполнение пропусков в колонках и изменение типа значений на целочисленные\n",
        "data['parks_around3000'] = data['parks_around3000'].fillna(0).astype('int')  #заполнение пропусков в колонках и изменение типа значений на целочисленные\n",
        "data.loc[data['floors_total'].isna() == True, 'floors_total'] = data['floor'] # заполнение пропусков в столбце floors_total на значения из столбца floor\n",
        "data['floors_total'] = data['floors_total'].astype('int') # изменение типа данныйх в столбце floors_total на int\n",
        "data['is_apartment'] = data['is_apartment'].fillna(False) # изменение пропуцщенных значений на False\n",
        "data.loc[data['ceiling_height'].isna() == True, 'ceiling_height'] = data['ceiling_height'].median() #замена пустых значений в столбце ceiling_height на медианные\n",
        "data.loc[data['living_area'].isna() == True, 'living_area'] = data['living_area'].median() #замена пустых значений в столбце living_area на медианные\n",
        "data.loc[data['kitchen_area'].isna() == True, 'kitchen_area'] = data['kitchen_area'].median() #замена пустых значений в столбце kitchen_area на медианные\n",
        "data.loc[data['cityCenters_nearest'].isna() == True, 'cityCenters_nearest'] = data['cityCenters_nearest'].median() #замена пустых значений в столбце cityCenters_nearest на медианные\n",
        "data.info() # вывод измененного датафрейма на экран"
      ]
    },
    {
      "cell_type": "markdown",
      "metadata": {
        "id": "wCaNSOAieBVe"
      },
      "source": [
        "\n",
        "Дополнительно проверим пропуски в столбце days_exposition.\n",
        "    "
      ]
    },
    {
      "cell_type": "code",
      "execution_count": null,
      "metadata": {
        "id": "4R1iDPG6eBVe",
        "outputId": "09b6879c-e714-41ee-e17c-c6cf5178dac7"
      },
      "outputs": [
        {
          "data": {
            "text/html": [
              "<div>\n",
              "<style scoped>\n",
              "    .dataframe tbody tr th:only-of-type {\n",
              "        vertical-align: middle;\n",
              "    }\n",
              "\n",
              "    .dataframe tbody tr th {\n",
              "        vertical-align: top;\n",
              "    }\n",
              "\n",
              "    .dataframe thead th {\n",
              "        text-align: right;\n",
              "    }\n",
              "</style>\n",
              "<table border=\"1\" class=\"dataframe\">\n",
              "  <thead>\n",
              "    <tr style=\"text-align: right;\">\n",
              "      <th></th>\n",
              "      <th>first_day_exposition</th>\n",
              "      <th>days_exposition</th>\n",
              "    </tr>\n",
              "  </thead>\n",
              "  <tbody>\n",
              "    <tr>\n",
              "      <th>0</th>\n",
              "      <td>2019-03-07T00:00:00</td>\n",
              "      <td>NaN</td>\n",
              "    </tr>\n",
              "    <tr>\n",
              "      <th>7</th>\n",
              "      <td>2019-04-18T00:00:00</td>\n",
              "      <td>NaN</td>\n",
              "    </tr>\n",
              "    <tr>\n",
              "      <th>44</th>\n",
              "      <td>2018-11-18T00:00:00</td>\n",
              "      <td>NaN</td>\n",
              "    </tr>\n",
              "    <tr>\n",
              "      <th>45</th>\n",
              "      <td>2018-12-02T00:00:00</td>\n",
              "      <td>NaN</td>\n",
              "    </tr>\n",
              "    <tr>\n",
              "      <th>46</th>\n",
              "      <td>2019-01-31T00:00:00</td>\n",
              "      <td>NaN</td>\n",
              "    </tr>\n",
              "    <tr>\n",
              "      <th>49</th>\n",
              "      <td>2018-11-22T00:00:00</td>\n",
              "      <td>NaN</td>\n",
              "    </tr>\n",
              "    <tr>\n",
              "      <th>52</th>\n",
              "      <td>2017-09-22T00:00:00</td>\n",
              "      <td>NaN</td>\n",
              "    </tr>\n",
              "    <tr>\n",
              "      <th>71</th>\n",
              "      <td>2019-03-27T00:00:00</td>\n",
              "      <td>NaN</td>\n",
              "    </tr>\n",
              "    <tr>\n",
              "      <th>81</th>\n",
              "      <td>2018-12-27T00:00:00</td>\n",
              "      <td>NaN</td>\n",
              "    </tr>\n",
              "    <tr>\n",
              "      <th>84</th>\n",
              "      <td>2019-03-13T00:00:00</td>\n",
              "      <td>NaN</td>\n",
              "    </tr>\n",
              "    <tr>\n",
              "      <th>87</th>\n",
              "      <td>2019-04-23T00:00:00</td>\n",
              "      <td>NaN</td>\n",
              "    </tr>\n",
              "    <tr>\n",
              "      <th>88</th>\n",
              "      <td>2019-04-09T00:00:00</td>\n",
              "      <td>NaN</td>\n",
              "    </tr>\n",
              "    <tr>\n",
              "      <th>101</th>\n",
              "      <td>2019-03-23T00:00:00</td>\n",
              "      <td>NaN</td>\n",
              "    </tr>\n",
              "    <tr>\n",
              "      <th>108</th>\n",
              "      <td>2017-10-30T00:00:00</td>\n",
              "      <td>NaN</td>\n",
              "    </tr>\n",
              "    <tr>\n",
              "      <th>114</th>\n",
              "      <td>2019-02-07T00:00:00</td>\n",
              "      <td>NaN</td>\n",
              "    </tr>\n",
              "    <tr>\n",
              "      <th>122</th>\n",
              "      <td>2019-04-06T00:00:00</td>\n",
              "      <td>NaN</td>\n",
              "    </tr>\n",
              "    <tr>\n",
              "      <th>124</th>\n",
              "      <td>2019-03-10T00:00:00</td>\n",
              "      <td>NaN</td>\n",
              "    </tr>\n",
              "    <tr>\n",
              "      <th>126</th>\n",
              "      <td>2019-04-23T00:00:00</td>\n",
              "      <td>NaN</td>\n",
              "    </tr>\n",
              "    <tr>\n",
              "      <th>127</th>\n",
              "      <td>2019-04-29T00:00:00</td>\n",
              "      <td>NaN</td>\n",
              "    </tr>\n",
              "    <tr>\n",
              "      <th>131</th>\n",
              "      <td>2018-08-20T00:00:00</td>\n",
              "      <td>NaN</td>\n",
              "    </tr>\n",
              "  </tbody>\n",
              "</table>\n",
              "</div>"
            ],
            "text/plain": [
              "    first_day_exposition  days_exposition\n",
              "0    2019-03-07T00:00:00              NaN\n",
              "7    2019-04-18T00:00:00              NaN\n",
              "44   2018-11-18T00:00:00              NaN\n",
              "45   2018-12-02T00:00:00              NaN\n",
              "46   2019-01-31T00:00:00              NaN\n",
              "49   2018-11-22T00:00:00              NaN\n",
              "52   2017-09-22T00:00:00              NaN\n",
              "71   2019-03-27T00:00:00              NaN\n",
              "81   2018-12-27T00:00:00              NaN\n",
              "84   2019-03-13T00:00:00              NaN\n",
              "87   2019-04-23T00:00:00              NaN\n",
              "88   2019-04-09T00:00:00              NaN\n",
              "101  2019-03-23T00:00:00              NaN\n",
              "108  2017-10-30T00:00:00              NaN\n",
              "114  2019-02-07T00:00:00              NaN\n",
              "122  2019-04-06T00:00:00              NaN\n",
              "124  2019-03-10T00:00:00              NaN\n",
              "126  2019-04-23T00:00:00              NaN\n",
              "127  2019-04-29T00:00:00              NaN\n",
              "131  2018-08-20T00:00:00              NaN"
            ]
          },
          "execution_count": 196,
          "metadata": {},
          "output_type": "execute_result"
        }
      ],
      "source": [
        "data.loc[data['days_exposition'].isnull()==True,['first_day_exposition','days_exposition']].head(20) # выведем на экран \n",
        "# строки датасета с пропущенными значениями по столбцу `days_exposition`"
      ]
    },
    {
      "cell_type": "markdown",
      "metadata": {
        "id": "UZX1aLSleBVf"
      },
      "source": [
        "\n",
        "Большинство пропущенных значений приходится на последний год выборки -2019. Похоже, что значения в этом столбце были пропущены из-за того, что неизвестно когда была совершена сделка. Т.е. факт сделки состоялся, но на онлайн-ресурсе она не была закрыта. В таком случае пропущенные значения лучше не заполнять, т.к. это может исказить итоговые данные. Тем не менее оставшиеся данные нужно привести к типу `int`\n",
        "\n",
        "    "
      ]
    },
    {
      "cell_type": "code",
      "execution_count": null,
      "metadata": {
        "id": "MH7eD1qseBVg",
        "outputId": "def9755c-f852-4ffa-f321-68613a0fa0f1"
      },
      "outputs": [
        {
          "data": {
            "text/plain": [
              "1         81\n",
              "2        558\n",
              "3        424\n",
              "4        121\n",
              "5         55\n",
              "        ... \n",
              "23691    519\n",
              "23692    413\n",
              "23693    239\n",
              "23695     45\n",
              "23697    602\n",
              "Name: days_exposition, Length: 20518, dtype: int64"
            ]
          },
          "execution_count": 197,
          "metadata": {},
          "output_type": "execute_result"
        }
      ],
      "source": [
        "data[data['days_exposition'].notnull()]['days_exposition'].astype('int')"
      ]
    },
    {
      "cell_type": "markdown",
      "metadata": {
        "id": "cFsISGcheBVh"
      },
      "source": [
        "\n",
        "Поменяем типы столбцов last_price, parks_nearest, ponds_nearest, airports_nearest на int, заполним пропущенные значения parks_nearest, ponds_nearest нулями.\n"
      ]
    },
    {
      "cell_type": "code",
      "execution_count": null,
      "metadata": {
        "id": "fVzq_ta2eBVi",
        "outputId": "2e9a9ac0-902d-4cb5-e6d7-125318608399"
      },
      "outputs": [
        {
          "name": "stdout",
          "output_type": "stream",
          "text": [
            "<class 'pandas.core.frame.DataFrame'>\n",
            "RangeIndex: 23699 entries, 0 to 23698\n",
            "Data columns (total 22 columns):\n",
            " #   Column                Non-Null Count  Dtype  \n",
            "---  ------                --------------  -----  \n",
            " 0   total_images          23699 non-null  int64  \n",
            " 1   last_price            23699 non-null  int64  \n",
            " 2   total_area            23699 non-null  float64\n",
            " 3   first_day_exposition  23699 non-null  object \n",
            " 4   rooms                 23699 non-null  int64  \n",
            " 5   ceiling_height        23699 non-null  float64\n",
            " 6   floors_total          23699 non-null  int64  \n",
            " 7   living_area           23699 non-null  float64\n",
            " 8   floor                 23699 non-null  int64  \n",
            " 9   is_apartment          23699 non-null  bool   \n",
            " 10  studio                23699 non-null  bool   \n",
            " 11  open_plan             23699 non-null  bool   \n",
            " 12  kitchen_area          23699 non-null  float64\n",
            " 13  balcony               23699 non-null  int64  \n",
            " 14  locality_name         23650 non-null  object \n",
            " 15  airports_nearest      18157 non-null  float64\n",
            " 16  cityCenters_nearest   23699 non-null  float64\n",
            " 17  parks_around3000      23699 non-null  int64  \n",
            " 18  parks_nearest         23699 non-null  int64  \n",
            " 19  ponds_around3000      23699 non-null  int64  \n",
            " 20  ponds_nearest         23699 non-null  int64  \n",
            " 21  days_exposition       20518 non-null  float64\n",
            "dtypes: bool(3), float64(7), int64(10), object(2)\n",
            "memory usage: 3.5+ MB\n"
          ]
        }
      ],
      "source": [
        "data['last_price'] = data['last_price'].astype(int)\n",
        "data['airports_nearest'] = data[data['airports_nearest'].notnull()]['airports_nearest'].astype(int)\n",
        "data['ponds_nearest'] = data['ponds_nearest'].fillna(0).astype('int')\n",
        "data['parks_nearest'] = data['parks_nearest'].fillna(0).astype('int')\n",
        "data.info()"
      ]
    },
    {
      "cell_type": "code",
      "execution_count": null,
      "metadata": {
        "id": "PGSWq58DeBVj",
        "outputId": "5a016c00-777f-4d94-e7e7-8780a05e0161"
      },
      "outputs": [
        {
          "data": {
            "text/html": [
              "<div>\n",
              "<style scoped>\n",
              "    .dataframe tbody tr th:only-of-type {\n",
              "        vertical-align: middle;\n",
              "    }\n",
              "\n",
              "    .dataframe tbody tr th {\n",
              "        vertical-align: top;\n",
              "    }\n",
              "\n",
              "    .dataframe thead th {\n",
              "        text-align: right;\n",
              "    }\n",
              "</style>\n",
              "<table border=\"1\" class=\"dataframe\">\n",
              "  <thead>\n",
              "    <tr style=\"text-align: right;\">\n",
              "      <th></th>\n",
              "      <th>total_images</th>\n",
              "      <th>last_price</th>\n",
              "      <th>total_area</th>\n",
              "      <th>first_day_exposition</th>\n",
              "      <th>rooms</th>\n",
              "      <th>ceiling_height</th>\n",
              "      <th>floors_total</th>\n",
              "      <th>living_area</th>\n",
              "      <th>floor</th>\n",
              "      <th>is_apartment</th>\n",
              "      <th>...</th>\n",
              "      <th>kitchen_area</th>\n",
              "      <th>balcony</th>\n",
              "      <th>locality_name</th>\n",
              "      <th>airports_nearest</th>\n",
              "      <th>city_centers_nearest</th>\n",
              "      <th>parks_around3000</th>\n",
              "      <th>parks_nearest</th>\n",
              "      <th>ponds_around3000</th>\n",
              "      <th>ponds_nearest</th>\n",
              "      <th>days_exposition</th>\n",
              "    </tr>\n",
              "  </thead>\n",
              "  <tbody>\n",
              "    <tr>\n",
              "      <th>0</th>\n",
              "      <td>20</td>\n",
              "      <td>13000000</td>\n",
              "      <td>108.00</td>\n",
              "      <td>2019-03-07T00:00:00</td>\n",
              "      <td>3</td>\n",
              "      <td>2.70</td>\n",
              "      <td>16</td>\n",
              "      <td>51.0</td>\n",
              "      <td>8</td>\n",
              "      <td>False</td>\n",
              "      <td>...</td>\n",
              "      <td>25.00</td>\n",
              "      <td>0</td>\n",
              "      <td>Санкт-Петербург</td>\n",
              "      <td>18863.0</td>\n",
              "      <td>16028.0</td>\n",
              "      <td>1</td>\n",
              "      <td>482</td>\n",
              "      <td>2</td>\n",
              "      <td>755</td>\n",
              "      <td>NaN</td>\n",
              "    </tr>\n",
              "    <tr>\n",
              "      <th>1</th>\n",
              "      <td>7</td>\n",
              "      <td>3350000</td>\n",
              "      <td>40.40</td>\n",
              "      <td>2018-12-04T00:00:00</td>\n",
              "      <td>1</td>\n",
              "      <td>2.65</td>\n",
              "      <td>11</td>\n",
              "      <td>18.6</td>\n",
              "      <td>1</td>\n",
              "      <td>False</td>\n",
              "      <td>...</td>\n",
              "      <td>11.00</td>\n",
              "      <td>2</td>\n",
              "      <td>посёлок Шушары</td>\n",
              "      <td>12817.0</td>\n",
              "      <td>18603.0</td>\n",
              "      <td>0</td>\n",
              "      <td>0</td>\n",
              "      <td>0</td>\n",
              "      <td>0</td>\n",
              "      <td>81.0</td>\n",
              "    </tr>\n",
              "    <tr>\n",
              "      <th>2</th>\n",
              "      <td>10</td>\n",
              "      <td>5196000</td>\n",
              "      <td>56.00</td>\n",
              "      <td>2015-08-20T00:00:00</td>\n",
              "      <td>2</td>\n",
              "      <td>2.65</td>\n",
              "      <td>5</td>\n",
              "      <td>34.3</td>\n",
              "      <td>4</td>\n",
              "      <td>False</td>\n",
              "      <td>...</td>\n",
              "      <td>8.30</td>\n",
              "      <td>0</td>\n",
              "      <td>Санкт-Петербург</td>\n",
              "      <td>21741.0</td>\n",
              "      <td>13933.0</td>\n",
              "      <td>1</td>\n",
              "      <td>90</td>\n",
              "      <td>2</td>\n",
              "      <td>574</td>\n",
              "      <td>558.0</td>\n",
              "    </tr>\n",
              "    <tr>\n",
              "      <th>3</th>\n",
              "      <td>0</td>\n",
              "      <td>64900000</td>\n",
              "      <td>159.00</td>\n",
              "      <td>2015-07-24T00:00:00</td>\n",
              "      <td>3</td>\n",
              "      <td>2.65</td>\n",
              "      <td>14</td>\n",
              "      <td>30.0</td>\n",
              "      <td>9</td>\n",
              "      <td>False</td>\n",
              "      <td>...</td>\n",
              "      <td>9.10</td>\n",
              "      <td>0</td>\n",
              "      <td>Санкт-Петербург</td>\n",
              "      <td>28098.0</td>\n",
              "      <td>6800.0</td>\n",
              "      <td>2</td>\n",
              "      <td>84</td>\n",
              "      <td>3</td>\n",
              "      <td>234</td>\n",
              "      <td>424.0</td>\n",
              "    </tr>\n",
              "    <tr>\n",
              "      <th>4</th>\n",
              "      <td>2</td>\n",
              "      <td>10000000</td>\n",
              "      <td>100.00</td>\n",
              "      <td>2018-06-19T00:00:00</td>\n",
              "      <td>2</td>\n",
              "      <td>3.03</td>\n",
              "      <td>14</td>\n",
              "      <td>32.0</td>\n",
              "      <td>13</td>\n",
              "      <td>False</td>\n",
              "      <td>...</td>\n",
              "      <td>41.00</td>\n",
              "      <td>0</td>\n",
              "      <td>Санкт-Петербург</td>\n",
              "      <td>31856.0</td>\n",
              "      <td>8098.0</td>\n",
              "      <td>2</td>\n",
              "      <td>112</td>\n",
              "      <td>1</td>\n",
              "      <td>48</td>\n",
              "      <td>121.0</td>\n",
              "    </tr>\n",
              "    <tr>\n",
              "      <th>...</th>\n",
              "      <td>...</td>\n",
              "      <td>...</td>\n",
              "      <td>...</td>\n",
              "      <td>...</td>\n",
              "      <td>...</td>\n",
              "      <td>...</td>\n",
              "      <td>...</td>\n",
              "      <td>...</td>\n",
              "      <td>...</td>\n",
              "      <td>...</td>\n",
              "      <td>...</td>\n",
              "      <td>...</td>\n",
              "      <td>...</td>\n",
              "      <td>...</td>\n",
              "      <td>...</td>\n",
              "      <td>...</td>\n",
              "      <td>...</td>\n",
              "      <td>...</td>\n",
              "      <td>...</td>\n",
              "      <td>...</td>\n",
              "      <td>...</td>\n",
              "    </tr>\n",
              "    <tr>\n",
              "      <th>23694</th>\n",
              "      <td>9</td>\n",
              "      <td>9700000</td>\n",
              "      <td>133.81</td>\n",
              "      <td>2017-03-21T00:00:00</td>\n",
              "      <td>3</td>\n",
              "      <td>3.70</td>\n",
              "      <td>5</td>\n",
              "      <td>73.3</td>\n",
              "      <td>3</td>\n",
              "      <td>False</td>\n",
              "      <td>...</td>\n",
              "      <td>13.83</td>\n",
              "      <td>0</td>\n",
              "      <td>Санкт-Петербург</td>\n",
              "      <td>24665.0</td>\n",
              "      <td>4232.0</td>\n",
              "      <td>1</td>\n",
              "      <td>796</td>\n",
              "      <td>3</td>\n",
              "      <td>381</td>\n",
              "      <td>NaN</td>\n",
              "    </tr>\n",
              "    <tr>\n",
              "      <th>23695</th>\n",
              "      <td>14</td>\n",
              "      <td>3100000</td>\n",
              "      <td>59.00</td>\n",
              "      <td>2018-01-15T00:00:00</td>\n",
              "      <td>3</td>\n",
              "      <td>2.65</td>\n",
              "      <td>5</td>\n",
              "      <td>38.0</td>\n",
              "      <td>4</td>\n",
              "      <td>False</td>\n",
              "      <td>...</td>\n",
              "      <td>8.50</td>\n",
              "      <td>0</td>\n",
              "      <td>Тосно</td>\n",
              "      <td>NaN</td>\n",
              "      <td>13098.5</td>\n",
              "      <td>0</td>\n",
              "      <td>0</td>\n",
              "      <td>0</td>\n",
              "      <td>0</td>\n",
              "      <td>45.0</td>\n",
              "    </tr>\n",
              "    <tr>\n",
              "      <th>23696</th>\n",
              "      <td>18</td>\n",
              "      <td>2500000</td>\n",
              "      <td>56.70</td>\n",
              "      <td>2018-02-11T00:00:00</td>\n",
              "      <td>2</td>\n",
              "      <td>2.65</td>\n",
              "      <td>3</td>\n",
              "      <td>29.7</td>\n",
              "      <td>1</td>\n",
              "      <td>False</td>\n",
              "      <td>...</td>\n",
              "      <td>9.10</td>\n",
              "      <td>0</td>\n",
              "      <td>село Рождествено</td>\n",
              "      <td>NaN</td>\n",
              "      <td>13098.5</td>\n",
              "      <td>0</td>\n",
              "      <td>0</td>\n",
              "      <td>0</td>\n",
              "      <td>0</td>\n",
              "      <td>NaN</td>\n",
              "    </tr>\n",
              "    <tr>\n",
              "      <th>23697</th>\n",
              "      <td>13</td>\n",
              "      <td>11475000</td>\n",
              "      <td>76.75</td>\n",
              "      <td>2017-03-28T00:00:00</td>\n",
              "      <td>2</td>\n",
              "      <td>3.00</td>\n",
              "      <td>17</td>\n",
              "      <td>30.0</td>\n",
              "      <td>12</td>\n",
              "      <td>False</td>\n",
              "      <td>...</td>\n",
              "      <td>23.30</td>\n",
              "      <td>2</td>\n",
              "      <td>Санкт-Петербург</td>\n",
              "      <td>39140.0</td>\n",
              "      <td>10364.0</td>\n",
              "      <td>2</td>\n",
              "      <td>173</td>\n",
              "      <td>3</td>\n",
              "      <td>196</td>\n",
              "      <td>602.0</td>\n",
              "    </tr>\n",
              "    <tr>\n",
              "      <th>23698</th>\n",
              "      <td>4</td>\n",
              "      <td>1350000</td>\n",
              "      <td>32.30</td>\n",
              "      <td>2017-07-21T00:00:00</td>\n",
              "      <td>1</td>\n",
              "      <td>2.50</td>\n",
              "      <td>5</td>\n",
              "      <td>12.3</td>\n",
              "      <td>1</td>\n",
              "      <td>False</td>\n",
              "      <td>...</td>\n",
              "      <td>9.00</td>\n",
              "      <td>0</td>\n",
              "      <td>поселок Новый Учхоз</td>\n",
              "      <td>NaN</td>\n",
              "      <td>13098.5</td>\n",
              "      <td>0</td>\n",
              "      <td>0</td>\n",
              "      <td>0</td>\n",
              "      <td>0</td>\n",
              "      <td>NaN</td>\n",
              "    </tr>\n",
              "  </tbody>\n",
              "</table>\n",
              "<p>23699 rows × 22 columns</p>\n",
              "</div>"
            ],
            "text/plain": [
              "       total_images  last_price  total_area first_day_exposition  rooms  \\\n",
              "0                20    13000000      108.00  2019-03-07T00:00:00      3   \n",
              "1                 7     3350000       40.40  2018-12-04T00:00:00      1   \n",
              "2                10     5196000       56.00  2015-08-20T00:00:00      2   \n",
              "3                 0    64900000      159.00  2015-07-24T00:00:00      3   \n",
              "4                 2    10000000      100.00  2018-06-19T00:00:00      2   \n",
              "...             ...         ...         ...                  ...    ...   \n",
              "23694             9     9700000      133.81  2017-03-21T00:00:00      3   \n",
              "23695            14     3100000       59.00  2018-01-15T00:00:00      3   \n",
              "23696            18     2500000       56.70  2018-02-11T00:00:00      2   \n",
              "23697            13    11475000       76.75  2017-03-28T00:00:00      2   \n",
              "23698             4     1350000       32.30  2017-07-21T00:00:00      1   \n",
              "\n",
              "       ceiling_height  floors_total  living_area  floor  is_apartment  ...  \\\n",
              "0                2.70            16         51.0      8         False  ...   \n",
              "1                2.65            11         18.6      1         False  ...   \n",
              "2                2.65             5         34.3      4         False  ...   \n",
              "3                2.65            14         30.0      9         False  ...   \n",
              "4                3.03            14         32.0     13         False  ...   \n",
              "...               ...           ...          ...    ...           ...  ...   \n",
              "23694            3.70             5         73.3      3         False  ...   \n",
              "23695            2.65             5         38.0      4         False  ...   \n",
              "23696            2.65             3         29.7      1         False  ...   \n",
              "23697            3.00            17         30.0     12         False  ...   \n",
              "23698            2.50             5         12.3      1         False  ...   \n",
              "\n",
              "       kitchen_area  balcony        locality_name  airports_nearest  \\\n",
              "0             25.00        0      Санкт-Петербург           18863.0   \n",
              "1             11.00        2       посёлок Шушары           12817.0   \n",
              "2              8.30        0      Санкт-Петербург           21741.0   \n",
              "3              9.10        0      Санкт-Петербург           28098.0   \n",
              "4             41.00        0      Санкт-Петербург           31856.0   \n",
              "...             ...      ...                  ...               ...   \n",
              "23694         13.83        0      Санкт-Петербург           24665.0   \n",
              "23695          8.50        0                Тосно               NaN   \n",
              "23696          9.10        0     село Рождествено               NaN   \n",
              "23697         23.30        2      Санкт-Петербург           39140.0   \n",
              "23698          9.00        0  поселок Новый Учхоз               NaN   \n",
              "\n",
              "      city_centers_nearest  parks_around3000  parks_nearest  ponds_around3000  \\\n",
              "0                  16028.0                 1            482                 2   \n",
              "1                  18603.0                 0              0                 0   \n",
              "2                  13933.0                 1             90                 2   \n",
              "3                   6800.0                 2             84                 3   \n",
              "4                   8098.0                 2            112                 1   \n",
              "...                    ...               ...            ...               ...   \n",
              "23694               4232.0                 1            796                 3   \n",
              "23695              13098.5                 0              0                 0   \n",
              "23696              13098.5                 0              0                 0   \n",
              "23697              10364.0                 2            173                 3   \n",
              "23698              13098.5                 0              0                 0   \n",
              "\n",
              "       ponds_nearest  days_exposition  \n",
              "0                755              NaN  \n",
              "1                  0             81.0  \n",
              "2                574            558.0  \n",
              "3                234            424.0  \n",
              "4                 48            121.0  \n",
              "...              ...              ...  \n",
              "23694            381              NaN  \n",
              "23695              0             45.0  \n",
              "23696              0              NaN  \n",
              "23697            196            602.0  \n",
              "23698              0              NaN  \n",
              "\n",
              "[23699 rows x 22 columns]"
            ]
          },
          "execution_count": 199,
          "metadata": {},
          "output_type": "execute_result"
        }
      ],
      "source": [
        "data = data.rename(columns={'cityCenters_nearest':'city_centers_nearest'})#приведем стиль названия стоолбца в соответствие с остальными столбцами\n",
        "data"
      ]
    },
    {
      "cell_type": "markdown",
      "metadata": {
        "id": "QY7SRtsxeBVk"
      },
      "source": [
        "Проверим DataFrame на наличие дубликатов в столбце locality_name"
      ]
    },
    {
      "cell_type": "code",
      "execution_count": null,
      "metadata": {
        "id": "qHPCBz9oeBVk",
        "outputId": "f1cb1c26-2153-4f6c-d861-a8226b904533"
      },
      "outputs": [
        {
          "data": {
            "text/plain": [
              "array(['Санкт-Петербург', 'посёлок Шушары', 'городской посёлок Янино-1',\n",
              "       'посёлок Парголово', 'посёлок Мурино', 'Ломоносов', 'Сертолово',\n",
              "       'Петергоф', 'Пушкин', 'деревня Кудрово', 'Коммунар', 'Колпино',\n",
              "       'поселок городского типа Красный Бор', 'Гатчина', 'поселок Мурино',\n",
              "       'деревня Фёдоровское', 'Выборг', 'Кронштадт', 'Кировск',\n",
              "       'деревня Новое Девяткино', 'посёлок Металлострой',\n",
              "       'посёлок городского типа Лебяжье',\n",
              "       'посёлок городского типа Сиверский', 'поселок Молодцово',\n",
              "       'поселок городского типа Кузьмоловский',\n",
              "       'садовое товарищество Новая Ропша', 'Павловск',\n",
              "       'деревня Пикколово', 'Всеволожск', 'Волхов', 'Кингисепп',\n",
              "       'Приозерск', 'Сестрорецк', 'деревня Куттузи', 'посёлок Аннино',\n",
              "       'поселок городского типа Ефимовский', 'посёлок Плодовое',\n",
              "       'деревня Заклинье', 'поселок Торковичи', 'поселок Первомайское',\n",
              "       'Красное Село', 'посёлок Понтонный', 'Сясьстрой', 'деревня Старая',\n",
              "       'деревня Лесколово', 'посёлок Новый Свет', 'Сланцы',\n",
              "       'село Путилово', 'Ивангород', 'Мурино', 'Шлиссельбург',\n",
              "       'Никольское', 'Зеленогорск', 'Сосновый Бор', 'поселок Новый Свет',\n",
              "       'деревня Оржицы', 'деревня Кальтино', 'Кудрово',\n",
              "       'поселок Романовка', 'посёлок Бугры', 'поселок Бугры',\n",
              "       'поселок городского типа Рощино', 'Кириши', 'Луга', 'Волосово',\n",
              "       'Отрадное', 'село Павлово', 'поселок Оредеж', 'село Копорье',\n",
              "       'посёлок городского типа Красный Бор', 'посёлок Молодёжное',\n",
              "       'Тихвин', 'посёлок Победа', 'деревня Нурма',\n",
              "       'поселок городского типа Синявино', 'Тосно',\n",
              "       'посёлок городского типа Кузьмоловский', 'посёлок Стрельна',\n",
              "       'Бокситогорск', 'посёлок Александровская', 'деревня Лопухинка',\n",
              "       'Пикалёво', 'поселок Терволово',\n",
              "       'поселок городского типа Советский', 'Подпорожье',\n",
              "       'посёлок Петровское', 'посёлок городского типа Токсово',\n",
              "       'поселок Сельцо', 'посёлок городского типа Вырица',\n",
              "       'деревня Кипень', 'деревня Келози', 'деревня Вартемяги',\n",
              "       'посёлок Тельмана', 'поселок Севастьяново',\n",
              "       'городской поселок Большая Ижора', nan,\n",
              "       'городской посёлок Павлово', 'деревня Агалатово',\n",
              "       'посёлок Новогорелово', 'городской посёлок Лесогорский',\n",
              "       'деревня Лаголово', 'поселок Цвелодубово',\n",
              "       'поселок городского типа Рахья', 'поселок городского типа Вырица',\n",
              "       'деревня Белогорка', 'поселок Заводской',\n",
              "       'городской посёлок Новоселье', 'деревня Большие Колпаны',\n",
              "       'деревня Горбунки', 'деревня Батово', 'деревня Заневка',\n",
              "       'деревня Иссад', 'Приморск', 'городской посёлок Фёдоровское',\n",
              "       'деревня Мистолово', 'Новая Ладога', 'поселок Зимитицы',\n",
              "       'поселок Барышево', 'деревня Разметелево',\n",
              "       'поселок городского типа имени Свердлова', 'деревня Пеники',\n",
              "       'поселок Рябово', 'деревня Пудомяги', 'поселок станции Корнево',\n",
              "       'деревня Низино', 'деревня Бегуницы', 'посёлок Поляны',\n",
              "       'городской посёлок Мга', 'поселок Елизаветино',\n",
              "       'посёлок городского типа Кузнечное', 'деревня Колтуши',\n",
              "       'поселок Запорожское', 'посёлок городского типа Рощино',\n",
              "       'деревня Гостилицы', 'деревня Малое Карлино',\n",
              "       'посёлок Мичуринское', 'посёлок городского типа имени Морозова',\n",
              "       'посёлок Песочный', 'посёлок Сосново', 'деревня Аро',\n",
              "       'поселок Ильичёво', 'посёлок городского типа Тайцы',\n",
              "       'деревня Малое Верево', 'деревня Извара', 'поселок станции Вещево',\n",
              "       'село Паша', 'деревня Калитино',\n",
              "       'посёлок городского типа Ульяновка', 'деревня Чудской Бор',\n",
              "       'поселок городского типа Дубровка', 'деревня Мины',\n",
              "       'поселок Войсковицы', 'посёлок городского типа имени Свердлова',\n",
              "       'деревня Коркино', 'посёлок Ропша',\n",
              "       'поселок городского типа Приладожский', 'посёлок Щеглово',\n",
              "       'посёлок Гаврилово', 'Лодейное Поле', 'деревня Рабитицы',\n",
              "       'поселок городского типа Никольский', 'деревня Кузьмолово',\n",
              "       'деревня Малые Колпаны', 'поселок Тельмана',\n",
              "       'посёлок Петро-Славянка', 'городской посёлок Назия',\n",
              "       'посёлок Репино', 'посёлок Ильичёво', 'поселок Углово',\n",
              "       'поселок Старая Малукса', 'садовое товарищество Рахья',\n",
              "       'поселок Аннино', 'поселок Победа', 'деревня Меньково',\n",
              "       'деревня Старые Бегуницы', 'посёлок Сапёрный', 'поселок Семрино',\n",
              "       'поселок Гаврилово', 'поселок Глажево', 'поселок Кобринское',\n",
              "       'деревня Гарболово', 'деревня Юкки',\n",
              "       'поселок станции Приветнинское', 'деревня Мануйлово',\n",
              "       'деревня Пчева', 'поселок Поляны', 'поселок Цвылёво',\n",
              "       'поселок Мельниково', 'посёлок Пудость', 'посёлок Усть-Луга',\n",
              "       'Светогорск', 'Любань', 'поселок Селезнёво',\n",
              "       'поселок городского типа Рябово', 'Каменногорск', 'деревня Кривко',\n",
              "       'поселок Глебычево', 'деревня Парицы', 'поселок Жилпосёлок',\n",
              "       'посёлок городского типа Мга', 'городской поселок Янино-1',\n",
              "       'посёлок Войскорово', 'село Никольское', 'посёлок Терволово',\n",
              "       'поселок Стеклянный', 'посёлок городского типа Важины',\n",
              "       'посёлок Мыза-Ивановка', 'село Русско-Высоцкое',\n",
              "       'поселок городского типа Лебяжье',\n",
              "       'поселок городского типа Форносово', 'село Старая Ладога',\n",
              "       'поселок Житково', 'городской посёлок Виллози', 'деревня Лампово',\n",
              "       'деревня Шпаньково', 'деревня Лаврики', 'посёлок Сумино',\n",
              "       'посёлок Возрождение', 'деревня Старосиверская',\n",
              "       'посёлок Кикерино', 'поселок Возрождение',\n",
              "       'деревня Старое Хинколово', 'посёлок Пригородный',\n",
              "       'посёлок Торфяное', 'городской посёлок Будогощь',\n",
              "       'поселок Суходолье', 'поселок Красная Долина', 'деревня Хапо-Ое',\n",
              "       'поселок городского типа Дружная Горка', 'поселок Лисий Нос',\n",
              "       'деревня Яльгелево', 'посёлок Стеклянный', 'село Рождествено',\n",
              "       'деревня Старополье', 'посёлок Левашово', 'деревня Сяськелево',\n",
              "       'деревня Камышовка',\n",
              "       'садоводческое некоммерческое товарищество Лесная Поляна',\n",
              "       'деревня Хязельки', 'поселок Жилгородок',\n",
              "       'посёлок городского типа Павлово', 'деревня Ялгино',\n",
              "       'поселок Новый Учхоз', 'городской посёлок Рощино',\n",
              "       'поселок Гончарово', 'поселок Почап', 'посёлок Сапёрное',\n",
              "       'посёлок Платформа 69-й километр', 'поселок Каложицы',\n",
              "       'деревня Фалилеево', 'деревня Пельгора',\n",
              "       'поселок городского типа Лесогорский', 'деревня Торошковичи',\n",
              "       'посёлок Белоостров', 'посёлок Алексеевка', 'поселок Серебрянский',\n",
              "       'поселок Лукаши', 'поселок Петровское', 'деревня Щеглово',\n",
              "       'поселок Мичуринское', 'деревня Тарасово', 'поселок Кингисеппский',\n",
              "       'посёлок при железнодорожной станции Вещево', 'поселок Ушаки',\n",
              "       'деревня Котлы', 'деревня Сижно', 'деревня Торосово',\n",
              "       'посёлок Форт Красная Горка', 'поселок городского типа Токсово',\n",
              "       'деревня Новолисино', 'посёлок станции Громово', 'деревня Глинка',\n",
              "       'посёлок Мельниково', 'поселок городского типа Назия',\n",
              "       'деревня Старая Пустошь', 'поселок Коммунары', 'поселок Починок',\n",
              "       'посёлок городского типа Вознесенье', 'деревня Разбегаево',\n",
              "       'посёлок городского типа Рябово', 'поселок Гладкое',\n",
              "       'посёлок при железнодорожной станции Приветнинское',\n",
              "       'поселок Тёсово-4', 'посёлок Жилгородок', 'деревня Бор',\n",
              "       'посёлок Коробицыно', 'деревня Большая Вруда', 'деревня Курковицы',\n",
              "       'посёлок Лисий Нос', 'городской посёлок Советский',\n",
              "       'посёлок Кобралово', 'деревня Суоранда', 'поселок Кобралово',\n",
              "       'поселок городского типа Кондратьево',\n",
              "       'коттеджный поселок Счастье', 'поселок Любань', 'деревня Реброво',\n",
              "       'деревня Зимитицы', 'деревня Тойворово', 'поселок Семиозерье',\n",
              "       'поселок Лесное', 'поселок Совхозный', 'поселок Усть-Луга',\n",
              "       'посёлок Ленинское', 'посёлок Суйда',\n",
              "       'посёлок городского типа Форносово', 'деревня Нижние Осельки',\n",
              "       'посёлок станции Свирь', 'поселок Перово', 'Высоцк',\n",
              "       'поселок Гарболово', 'село Шум', 'поселок Котельский',\n",
              "       'поселок станции Лужайка', 'деревня Большая Пустомержа',\n",
              "       'поселок Красносельское', 'деревня Вахнова Кара', 'деревня Пижма',\n",
              "       'коттеджный поселок Кивеннапа Север', 'поселок Коробицыно',\n",
              "       'поселок Ромашки', 'посёлок Перово', 'деревня Каськово',\n",
              "       'деревня Куровицы', 'посёлок Плоское', 'поселок Сумино',\n",
              "       'поселок городского типа Большая Ижора', 'поселок Кирпичное',\n",
              "       'деревня Ям-Тесово', 'деревня Раздолье', 'деревня Терпилицы',\n",
              "       'посёлок Шугозеро', 'деревня Ваганово', 'поселок Пушное',\n",
              "       'садовое товарищество Садко', 'посёлок Усть-Ижора',\n",
              "       'деревня Выскатка', 'городской посёлок Свирьстрой',\n",
              "       'поселок Громово', 'деревня Кисельня', 'посёлок Старая Малукса',\n",
              "       'деревня Трубников Бор', 'поселок Калитино',\n",
              "       'посёлок Высокоключевой', 'садовое товарищество Приладожский',\n",
              "       'посёлок Пансионат Зелёный Бор', 'деревня Ненимяки',\n",
              "       'поселок Пансионат Зелёный Бор', 'деревня Снегирёвка',\n",
              "       'деревня Рапполово', 'деревня Пустынка', 'поселок Рабитицы',\n",
              "       'деревня Большой Сабск', 'деревня Русско', 'деревня Лупполово',\n",
              "       'деревня Большое Рейзино', 'деревня Малая Романовка',\n",
              "       'поселок Дружноселье', 'поселок Пчевжа', 'поселок Володарское',\n",
              "       'деревня Нижняя', 'коттеджный посёлок Лесное', 'деревня Тихковицы',\n",
              "       'деревня Борисова Грива', 'посёлок Дзержинского'], dtype=object)"
            ]
          },
          "execution_count": 200,
          "metadata": {},
          "output_type": "execute_result"
        }
      ],
      "source": [
        "data['locality_name'].unique()"
      ]
    },
    {
      "cell_type": "markdown",
      "metadata": {
        "id": "QasyscsYeBVk"
      },
      "source": [
        "Вывод уникальных данных из столбца locality_name показал наличие неявных дубликатов, связанных с различиями в наименовании населенного пункта, например: поселок Мурино и посёлок Мурино и т.д. От данных дубликатов постараемся избавиться, при помощи функции удаления слов, начинающихся на прописную букву. Функцию будем применять к элементам столбца датафрейма методом apply()"
      ]
    },
    {
      "cell_type": "code",
      "execution_count": null,
      "metadata": {
        "id": "4dzkxUrZeBVl",
        "outputId": "d66dcfd3-5b74-43c2-ca5a-411311e93c9d"
      },
      "outputs": [
        {
          "data": {
            "text/html": [
              "<div>\n",
              "<style scoped>\n",
              "    .dataframe tbody tr th:only-of-type {\n",
              "        vertical-align: middle;\n",
              "    }\n",
              "\n",
              "    .dataframe tbody tr th {\n",
              "        vertical-align: top;\n",
              "    }\n",
              "\n",
              "    .dataframe thead th {\n",
              "        text-align: right;\n",
              "    }\n",
              "</style>\n",
              "<table border=\"1\" class=\"dataframe\">\n",
              "  <thead>\n",
              "    <tr style=\"text-align: right;\">\n",
              "      <th></th>\n",
              "      <th>total_images</th>\n",
              "      <th>last_price</th>\n",
              "      <th>total_area</th>\n",
              "      <th>first_day_exposition</th>\n",
              "      <th>rooms</th>\n",
              "      <th>ceiling_height</th>\n",
              "      <th>floors_total</th>\n",
              "      <th>living_area</th>\n",
              "      <th>floor</th>\n",
              "      <th>is_apartment</th>\n",
              "      <th>...</th>\n",
              "      <th>kitchen_area</th>\n",
              "      <th>balcony</th>\n",
              "      <th>locality_name</th>\n",
              "      <th>airports_nearest</th>\n",
              "      <th>city_centers_nearest</th>\n",
              "      <th>parks_around3000</th>\n",
              "      <th>parks_nearest</th>\n",
              "      <th>ponds_around3000</th>\n",
              "      <th>ponds_nearest</th>\n",
              "      <th>days_exposition</th>\n",
              "    </tr>\n",
              "  </thead>\n",
              "  <tbody>\n",
              "    <tr>\n",
              "      <th>0</th>\n",
              "      <td>20</td>\n",
              "      <td>13000000</td>\n",
              "      <td>108.0</td>\n",
              "      <td>2019-03-07T00:00:00</td>\n",
              "      <td>3</td>\n",
              "      <td>2.70</td>\n",
              "      <td>16</td>\n",
              "      <td>51.0</td>\n",
              "      <td>8</td>\n",
              "      <td>False</td>\n",
              "      <td>...</td>\n",
              "      <td>25.0</td>\n",
              "      <td>0</td>\n",
              "      <td>Санкт-Петербург</td>\n",
              "      <td>18863.0</td>\n",
              "      <td>16028.0</td>\n",
              "      <td>1</td>\n",
              "      <td>482</td>\n",
              "      <td>2</td>\n",
              "      <td>755</td>\n",
              "      <td>NaN</td>\n",
              "    </tr>\n",
              "    <tr>\n",
              "      <th>1</th>\n",
              "      <td>7</td>\n",
              "      <td>3350000</td>\n",
              "      <td>40.4</td>\n",
              "      <td>2018-12-04T00:00:00</td>\n",
              "      <td>1</td>\n",
              "      <td>2.65</td>\n",
              "      <td>11</td>\n",
              "      <td>18.6</td>\n",
              "      <td>1</td>\n",
              "      <td>False</td>\n",
              "      <td>...</td>\n",
              "      <td>11.0</td>\n",
              "      <td>2</td>\n",
              "      <td>Шушары</td>\n",
              "      <td>12817.0</td>\n",
              "      <td>18603.0</td>\n",
              "      <td>0</td>\n",
              "      <td>0</td>\n",
              "      <td>0</td>\n",
              "      <td>0</td>\n",
              "      <td>81.0</td>\n",
              "    </tr>\n",
              "    <tr>\n",
              "      <th>2</th>\n",
              "      <td>10</td>\n",
              "      <td>5196000</td>\n",
              "      <td>56.0</td>\n",
              "      <td>2015-08-20T00:00:00</td>\n",
              "      <td>2</td>\n",
              "      <td>2.65</td>\n",
              "      <td>5</td>\n",
              "      <td>34.3</td>\n",
              "      <td>4</td>\n",
              "      <td>False</td>\n",
              "      <td>...</td>\n",
              "      <td>8.3</td>\n",
              "      <td>0</td>\n",
              "      <td>Санкт-Петербург</td>\n",
              "      <td>21741.0</td>\n",
              "      <td>13933.0</td>\n",
              "      <td>1</td>\n",
              "      <td>90</td>\n",
              "      <td>2</td>\n",
              "      <td>574</td>\n",
              "      <td>558.0</td>\n",
              "    </tr>\n",
              "    <tr>\n",
              "      <th>3</th>\n",
              "      <td>0</td>\n",
              "      <td>64900000</td>\n",
              "      <td>159.0</td>\n",
              "      <td>2015-07-24T00:00:00</td>\n",
              "      <td>3</td>\n",
              "      <td>2.65</td>\n",
              "      <td>14</td>\n",
              "      <td>30.0</td>\n",
              "      <td>9</td>\n",
              "      <td>False</td>\n",
              "      <td>...</td>\n",
              "      <td>9.1</td>\n",
              "      <td>0</td>\n",
              "      <td>Санкт-Петербург</td>\n",
              "      <td>28098.0</td>\n",
              "      <td>6800.0</td>\n",
              "      <td>2</td>\n",
              "      <td>84</td>\n",
              "      <td>3</td>\n",
              "      <td>234</td>\n",
              "      <td>424.0</td>\n",
              "    </tr>\n",
              "    <tr>\n",
              "      <th>4</th>\n",
              "      <td>2</td>\n",
              "      <td>10000000</td>\n",
              "      <td>100.0</td>\n",
              "      <td>2018-06-19T00:00:00</td>\n",
              "      <td>2</td>\n",
              "      <td>3.03</td>\n",
              "      <td>14</td>\n",
              "      <td>32.0</td>\n",
              "      <td>13</td>\n",
              "      <td>False</td>\n",
              "      <td>...</td>\n",
              "      <td>41.0</td>\n",
              "      <td>0</td>\n",
              "      <td>Санкт-Петербург</td>\n",
              "      <td>31856.0</td>\n",
              "      <td>8098.0</td>\n",
              "      <td>2</td>\n",
              "      <td>112</td>\n",
              "      <td>1</td>\n",
              "      <td>48</td>\n",
              "      <td>121.0</td>\n",
              "    </tr>\n",
              "  </tbody>\n",
              "</table>\n",
              "<p>5 rows × 22 columns</p>\n",
              "</div>"
            ],
            "text/plain": [
              "   total_images  last_price  total_area first_day_exposition  rooms  \\\n",
              "0            20    13000000       108.0  2019-03-07T00:00:00      3   \n",
              "1             7     3350000        40.4  2018-12-04T00:00:00      1   \n",
              "2            10     5196000        56.0  2015-08-20T00:00:00      2   \n",
              "3             0    64900000       159.0  2015-07-24T00:00:00      3   \n",
              "4             2    10000000       100.0  2018-06-19T00:00:00      2   \n",
              "\n",
              "   ceiling_height  floors_total  living_area  floor  is_apartment  ...  \\\n",
              "0            2.70            16         51.0      8         False  ...   \n",
              "1            2.65            11         18.6      1         False  ...   \n",
              "2            2.65             5         34.3      4         False  ...   \n",
              "3            2.65            14         30.0      9         False  ...   \n",
              "4            3.03            14         32.0     13         False  ...   \n",
              "\n",
              "   kitchen_area  balcony    locality_name  airports_nearest  \\\n",
              "0          25.0        0  Санкт-Петербург           18863.0   \n",
              "1          11.0        2           Шушары           12817.0   \n",
              "2           8.3        0  Санкт-Петербург           21741.0   \n",
              "3           9.1        0  Санкт-Петербург           28098.0   \n",
              "4          41.0        0  Санкт-Петербург           31856.0   \n",
              "\n",
              "  city_centers_nearest  parks_around3000  parks_nearest  ponds_around3000  \\\n",
              "0              16028.0                 1            482                 2   \n",
              "1              18603.0                 0              0                 0   \n",
              "2              13933.0                 1             90                 2   \n",
              "3               6800.0                 2             84                 3   \n",
              "4               8098.0                 2            112                 1   \n",
              "\n",
              "   ponds_nearest  days_exposition  \n",
              "0            755              NaN  \n",
              "1              0             81.0  \n",
              "2            574            558.0  \n",
              "3            234            424.0  \n",
              "4             48            121.0  \n",
              "\n",
              "[5 rows x 22 columns]"
            ]
          },
          "execution_count": 201,
          "metadata": {},
          "output_type": "execute_result"
        }
      ],
      "source": [
        "def lower_word_removal(locality_name): # объявляем новую функцию\n",
        "    splitted = str(locality_name).split() # создаем список из строки, получаемой в качестве аргумента функции\n",
        "    result  = [] # объявляем новый список\n",
        "    for i in splitted: # пройдемся циклом по списку\n",
        "        if i.istitle() == True: #если слово начинается с заглавной буквы, то добавляем его в список result\n",
        "            result.append(i)\n",
        "    subject = ' '.join(result) # создаем итоговую строку \n",
        "    return subject\n",
        "data['locality_name'] = data['locality_name'].apply(lower_word_removal) #применяем новую функцию к каждой строке столбца locality_name\n",
        "data.head()"
      ]
    },
    {
      "cell_type": "markdown",
      "metadata": {
        "id": "xJJU9nMAeBVl"
      },
      "source": [
        "Данные в столбце locality_name заменены, это пригодится нам для арешения задачи о 10 населенных рунктах с наибольшим числом объявлений."
      ]
    },
    {
      "cell_type": "markdown",
      "metadata": {
        "id": "EATLos-NeBVm"
      },
      "source": [
        "## Расчёты и добавление результатов в таблицу"
      ]
    },
    {
      "cell_type": "markdown",
      "metadata": {
        "id": "jynhRfzweBVm"
      },
      "source": [
        "Подсчет и добавление в таблицу цены квадратного метра."
      ]
    },
    {
      "cell_type": "code",
      "execution_count": null,
      "metadata": {
        "id": "2_hhglmfeBVm",
        "outputId": "4c76bff5-a034-4d26-a8fd-2376adfa2c4b"
      },
      "outputs": [
        {
          "data": {
            "text/html": [
              "<div>\n",
              "<style scoped>\n",
              "    .dataframe tbody tr th:only-of-type {\n",
              "        vertical-align: middle;\n",
              "    }\n",
              "\n",
              "    .dataframe tbody tr th {\n",
              "        vertical-align: top;\n",
              "    }\n",
              "\n",
              "    .dataframe thead th {\n",
              "        text-align: right;\n",
              "    }\n",
              "</style>\n",
              "<table border=\"1\" class=\"dataframe\">\n",
              "  <thead>\n",
              "    <tr style=\"text-align: right;\">\n",
              "      <th></th>\n",
              "      <th>total_images</th>\n",
              "      <th>last_price</th>\n",
              "      <th>total_area</th>\n",
              "      <th>first_day_exposition</th>\n",
              "      <th>rooms</th>\n",
              "      <th>ceiling_height</th>\n",
              "      <th>floors_total</th>\n",
              "      <th>living_area</th>\n",
              "      <th>floor</th>\n",
              "      <th>is_apartment</th>\n",
              "      <th>...</th>\n",
              "      <th>balcony</th>\n",
              "      <th>locality_name</th>\n",
              "      <th>airports_nearest</th>\n",
              "      <th>city_centers_nearest</th>\n",
              "      <th>parks_around3000</th>\n",
              "      <th>parks_nearest</th>\n",
              "      <th>ponds_around3000</th>\n",
              "      <th>ponds_nearest</th>\n",
              "      <th>days_exposition</th>\n",
              "      <th>per_square_meter_cost</th>\n",
              "    </tr>\n",
              "  </thead>\n",
              "  <tbody>\n",
              "    <tr>\n",
              "      <th>0</th>\n",
              "      <td>20</td>\n",
              "      <td>13000000</td>\n",
              "      <td>108.0</td>\n",
              "      <td>2019-03-07T00:00:00</td>\n",
              "      <td>3</td>\n",
              "      <td>2.70</td>\n",
              "      <td>16</td>\n",
              "      <td>51.0</td>\n",
              "      <td>8</td>\n",
              "      <td>False</td>\n",
              "      <td>...</td>\n",
              "      <td>0</td>\n",
              "      <td>Санкт-Петербург</td>\n",
              "      <td>18863.0</td>\n",
              "      <td>16028.0</td>\n",
              "      <td>1</td>\n",
              "      <td>482</td>\n",
              "      <td>2</td>\n",
              "      <td>755</td>\n",
              "      <td>NaN</td>\n",
              "      <td>120370.0</td>\n",
              "    </tr>\n",
              "    <tr>\n",
              "      <th>1</th>\n",
              "      <td>7</td>\n",
              "      <td>3350000</td>\n",
              "      <td>40.4</td>\n",
              "      <td>2018-12-04T00:00:00</td>\n",
              "      <td>1</td>\n",
              "      <td>2.65</td>\n",
              "      <td>11</td>\n",
              "      <td>18.6</td>\n",
              "      <td>1</td>\n",
              "      <td>False</td>\n",
              "      <td>...</td>\n",
              "      <td>2</td>\n",
              "      <td>Шушары</td>\n",
              "      <td>12817.0</td>\n",
              "      <td>18603.0</td>\n",
              "      <td>0</td>\n",
              "      <td>0</td>\n",
              "      <td>0</td>\n",
              "      <td>0</td>\n",
              "      <td>81.0</td>\n",
              "      <td>82921.0</td>\n",
              "    </tr>\n",
              "    <tr>\n",
              "      <th>2</th>\n",
              "      <td>10</td>\n",
              "      <td>5196000</td>\n",
              "      <td>56.0</td>\n",
              "      <td>2015-08-20T00:00:00</td>\n",
              "      <td>2</td>\n",
              "      <td>2.65</td>\n",
              "      <td>5</td>\n",
              "      <td>34.3</td>\n",
              "      <td>4</td>\n",
              "      <td>False</td>\n",
              "      <td>...</td>\n",
              "      <td>0</td>\n",
              "      <td>Санкт-Петербург</td>\n",
              "      <td>21741.0</td>\n",
              "      <td>13933.0</td>\n",
              "      <td>1</td>\n",
              "      <td>90</td>\n",
              "      <td>2</td>\n",
              "      <td>574</td>\n",
              "      <td>558.0</td>\n",
              "      <td>92786.0</td>\n",
              "    </tr>\n",
              "    <tr>\n",
              "      <th>3</th>\n",
              "      <td>0</td>\n",
              "      <td>64900000</td>\n",
              "      <td>159.0</td>\n",
              "      <td>2015-07-24T00:00:00</td>\n",
              "      <td>3</td>\n",
              "      <td>2.65</td>\n",
              "      <td>14</td>\n",
              "      <td>30.0</td>\n",
              "      <td>9</td>\n",
              "      <td>False</td>\n",
              "      <td>...</td>\n",
              "      <td>0</td>\n",
              "      <td>Санкт-Петербург</td>\n",
              "      <td>28098.0</td>\n",
              "      <td>6800.0</td>\n",
              "      <td>2</td>\n",
              "      <td>84</td>\n",
              "      <td>3</td>\n",
              "      <td>234</td>\n",
              "      <td>424.0</td>\n",
              "      <td>408176.0</td>\n",
              "    </tr>\n",
              "    <tr>\n",
              "      <th>4</th>\n",
              "      <td>2</td>\n",
              "      <td>10000000</td>\n",
              "      <td>100.0</td>\n",
              "      <td>2018-06-19T00:00:00</td>\n",
              "      <td>2</td>\n",
              "      <td>3.03</td>\n",
              "      <td>14</td>\n",
              "      <td>32.0</td>\n",
              "      <td>13</td>\n",
              "      <td>False</td>\n",
              "      <td>...</td>\n",
              "      <td>0</td>\n",
              "      <td>Санкт-Петербург</td>\n",
              "      <td>31856.0</td>\n",
              "      <td>8098.0</td>\n",
              "      <td>2</td>\n",
              "      <td>112</td>\n",
              "      <td>1</td>\n",
              "      <td>48</td>\n",
              "      <td>121.0</td>\n",
              "      <td>100000.0</td>\n",
              "    </tr>\n",
              "  </tbody>\n",
              "</table>\n",
              "<p>5 rows × 23 columns</p>\n",
              "</div>"
            ],
            "text/plain": [
              "   total_images  last_price  total_area first_day_exposition  rooms  \\\n",
              "0            20    13000000       108.0  2019-03-07T00:00:00      3   \n",
              "1             7     3350000        40.4  2018-12-04T00:00:00      1   \n",
              "2            10     5196000        56.0  2015-08-20T00:00:00      2   \n",
              "3             0    64900000       159.0  2015-07-24T00:00:00      3   \n",
              "4             2    10000000       100.0  2018-06-19T00:00:00      2   \n",
              "\n",
              "   ceiling_height  floors_total  living_area  floor  is_apartment  ...  \\\n",
              "0            2.70            16         51.0      8         False  ...   \n",
              "1            2.65            11         18.6      1         False  ...   \n",
              "2            2.65             5         34.3      4         False  ...   \n",
              "3            2.65            14         30.0      9         False  ...   \n",
              "4            3.03            14         32.0     13         False  ...   \n",
              "\n",
              "   balcony    locality_name  airports_nearest  city_centers_nearest  \\\n",
              "0        0  Санкт-Петербург           18863.0               16028.0   \n",
              "1        2           Шушары           12817.0               18603.0   \n",
              "2        0  Санкт-Петербург           21741.0               13933.0   \n",
              "3        0  Санкт-Петербург           28098.0                6800.0   \n",
              "4        0  Санкт-Петербург           31856.0                8098.0   \n",
              "\n",
              "  parks_around3000  parks_nearest  ponds_around3000  ponds_nearest  \\\n",
              "0                1            482                 2            755   \n",
              "1                0              0                 0              0   \n",
              "2                1             90                 2            574   \n",
              "3                2             84                 3            234   \n",
              "4                2            112                 1             48   \n",
              "\n",
              "   days_exposition  per_square_meter_cost  \n",
              "0              NaN               120370.0  \n",
              "1             81.0                82921.0  \n",
              "2            558.0                92786.0  \n",
              "3            424.0               408176.0  \n",
              "4            121.0               100000.0  \n",
              "\n",
              "[5 rows x 23 columns]"
            ]
          },
          "execution_count": 202,
          "metadata": {},
          "output_type": "execute_result"
        }
      ],
      "source": [
        "data['per_square_meter_cost'] = (data['last_price']/data['total_area']).round() #расчет цены за квадратный метр и округдение результата до 2ух знаков после запятой\n",
        "data.head()"
      ]
    },
    {
      "cell_type": "markdown",
      "metadata": {
        "id": "XTxNY1NNeBVm"
      },
      "source": [
        "Переведем значения столбца `first_day_exposition` в более удобную форму с указанием дня недели, месяца и года публикации объявления, полученные данные разместим в новом столбце `exposition_date`, день недели поместим в отдельный столбец `dow`, год и месяц размещения также выведем в отдельные столбцы, они понадобятся нам для дальнейшего анализа влияния различных показателей на стоимость квартиры."
      ]
    },
    {
      "cell_type": "code",
      "execution_count": null,
      "metadata": {
        "id": "G1rJrFbaeBVn",
        "outputId": "9fb263eb-97ca-4e3d-dd07-2d784093784e"
      },
      "outputs": [
        {
          "data": {
            "text/html": [
              "<div>\n",
              "<style scoped>\n",
              "    .dataframe tbody tr th:only-of-type {\n",
              "        vertical-align: middle;\n",
              "    }\n",
              "\n",
              "    .dataframe tbody tr th {\n",
              "        vertical-align: top;\n",
              "    }\n",
              "\n",
              "    .dataframe thead th {\n",
              "        text-align: right;\n",
              "    }\n",
              "</style>\n",
              "<table border=\"1\" class=\"dataframe\">\n",
              "  <thead>\n",
              "    <tr style=\"text-align: right;\">\n",
              "      <th></th>\n",
              "      <th>total_images</th>\n",
              "      <th>last_price</th>\n",
              "      <th>total_area</th>\n",
              "      <th>first_day_exposition</th>\n",
              "      <th>rooms</th>\n",
              "      <th>ceiling_height</th>\n",
              "      <th>floors_total</th>\n",
              "      <th>living_area</th>\n",
              "      <th>floor</th>\n",
              "      <th>is_apartment</th>\n",
              "      <th>...</th>\n",
              "      <th>city_centers_nearest</th>\n",
              "      <th>parks_around3000</th>\n",
              "      <th>parks_nearest</th>\n",
              "      <th>ponds_around3000</th>\n",
              "      <th>ponds_nearest</th>\n",
              "      <th>days_exposition</th>\n",
              "      <th>per_square_meter_cost</th>\n",
              "      <th>dow</th>\n",
              "      <th>year</th>\n",
              "      <th>month</th>\n",
              "    </tr>\n",
              "  </thead>\n",
              "  <tbody>\n",
              "    <tr>\n",
              "      <th>0</th>\n",
              "      <td>20</td>\n",
              "      <td>13000000</td>\n",
              "      <td>108.0</td>\n",
              "      <td>2019-03-07</td>\n",
              "      <td>3</td>\n",
              "      <td>2.70</td>\n",
              "      <td>16</td>\n",
              "      <td>51.0</td>\n",
              "      <td>8</td>\n",
              "      <td>False</td>\n",
              "      <td>...</td>\n",
              "      <td>16028.0</td>\n",
              "      <td>1</td>\n",
              "      <td>482</td>\n",
              "      <td>2</td>\n",
              "      <td>755</td>\n",
              "      <td>NaN</td>\n",
              "      <td>120370.0</td>\n",
              "      <td>3</td>\n",
              "      <td>2019</td>\n",
              "      <td>3</td>\n",
              "    </tr>\n",
              "    <tr>\n",
              "      <th>1</th>\n",
              "      <td>7</td>\n",
              "      <td>3350000</td>\n",
              "      <td>40.4</td>\n",
              "      <td>2018-12-04</td>\n",
              "      <td>1</td>\n",
              "      <td>2.65</td>\n",
              "      <td>11</td>\n",
              "      <td>18.6</td>\n",
              "      <td>1</td>\n",
              "      <td>False</td>\n",
              "      <td>...</td>\n",
              "      <td>18603.0</td>\n",
              "      <td>0</td>\n",
              "      <td>0</td>\n",
              "      <td>0</td>\n",
              "      <td>0</td>\n",
              "      <td>81.0</td>\n",
              "      <td>82921.0</td>\n",
              "      <td>1</td>\n",
              "      <td>2018</td>\n",
              "      <td>12</td>\n",
              "    </tr>\n",
              "    <tr>\n",
              "      <th>2</th>\n",
              "      <td>10</td>\n",
              "      <td>5196000</td>\n",
              "      <td>56.0</td>\n",
              "      <td>2015-08-20</td>\n",
              "      <td>2</td>\n",
              "      <td>2.65</td>\n",
              "      <td>5</td>\n",
              "      <td>34.3</td>\n",
              "      <td>4</td>\n",
              "      <td>False</td>\n",
              "      <td>...</td>\n",
              "      <td>13933.0</td>\n",
              "      <td>1</td>\n",
              "      <td>90</td>\n",
              "      <td>2</td>\n",
              "      <td>574</td>\n",
              "      <td>558.0</td>\n",
              "      <td>92786.0</td>\n",
              "      <td>3</td>\n",
              "      <td>2015</td>\n",
              "      <td>8</td>\n",
              "    </tr>\n",
              "    <tr>\n",
              "      <th>3</th>\n",
              "      <td>0</td>\n",
              "      <td>64900000</td>\n",
              "      <td>159.0</td>\n",
              "      <td>2015-07-24</td>\n",
              "      <td>3</td>\n",
              "      <td>2.65</td>\n",
              "      <td>14</td>\n",
              "      <td>30.0</td>\n",
              "      <td>9</td>\n",
              "      <td>False</td>\n",
              "      <td>...</td>\n",
              "      <td>6800.0</td>\n",
              "      <td>2</td>\n",
              "      <td>84</td>\n",
              "      <td>3</td>\n",
              "      <td>234</td>\n",
              "      <td>424.0</td>\n",
              "      <td>408176.0</td>\n",
              "      <td>4</td>\n",
              "      <td>2015</td>\n",
              "      <td>7</td>\n",
              "    </tr>\n",
              "    <tr>\n",
              "      <th>4</th>\n",
              "      <td>2</td>\n",
              "      <td>10000000</td>\n",
              "      <td>100.0</td>\n",
              "      <td>2018-06-19</td>\n",
              "      <td>2</td>\n",
              "      <td>3.03</td>\n",
              "      <td>14</td>\n",
              "      <td>32.0</td>\n",
              "      <td>13</td>\n",
              "      <td>False</td>\n",
              "      <td>...</td>\n",
              "      <td>8098.0</td>\n",
              "      <td>2</td>\n",
              "      <td>112</td>\n",
              "      <td>1</td>\n",
              "      <td>48</td>\n",
              "      <td>121.0</td>\n",
              "      <td>100000.0</td>\n",
              "      <td>1</td>\n",
              "      <td>2018</td>\n",
              "      <td>6</td>\n",
              "    </tr>\n",
              "  </tbody>\n",
              "</table>\n",
              "<p>5 rows × 26 columns</p>\n",
              "</div>"
            ],
            "text/plain": [
              "   total_images  last_price  total_area first_day_exposition  rooms  \\\n",
              "0            20    13000000       108.0           2019-03-07      3   \n",
              "1             7     3350000        40.4           2018-12-04      1   \n",
              "2            10     5196000        56.0           2015-08-20      2   \n",
              "3             0    64900000       159.0           2015-07-24      3   \n",
              "4             2    10000000       100.0           2018-06-19      2   \n",
              "\n",
              "   ceiling_height  floors_total  living_area  floor  is_apartment  ...  \\\n",
              "0            2.70            16         51.0      8         False  ...   \n",
              "1            2.65            11         18.6      1         False  ...   \n",
              "2            2.65             5         34.3      4         False  ...   \n",
              "3            2.65            14         30.0      9         False  ...   \n",
              "4            3.03            14         32.0     13         False  ...   \n",
              "\n",
              "   city_centers_nearest  parks_around3000  parks_nearest  ponds_around3000  \\\n",
              "0               16028.0                 1            482                 2   \n",
              "1               18603.0                 0              0                 0   \n",
              "2               13933.0                 1             90                 2   \n",
              "3                6800.0                 2             84                 3   \n",
              "4                8098.0                 2            112                 1   \n",
              "\n",
              "  ponds_nearest  days_exposition  per_square_meter_cost  dow  year  month  \n",
              "0           755              NaN               120370.0    3  2019      3  \n",
              "1             0             81.0                82921.0    1  2018     12  \n",
              "2           574            558.0                92786.0    3  2015      8  \n",
              "3           234            424.0               408176.0    4  2015      7  \n",
              "4            48            121.0               100000.0    1  2018      6  \n",
              "\n",
              "[5 rows x 26 columns]"
            ]
          },
          "execution_count": 203,
          "metadata": {},
          "output_type": "execute_result"
        }
      ],
      "source": [
        "data['first_day_exposition'] = pd.to_datetime(data['first_day_exposition'], format = '%Y-%m' )\n",
        "data['dow'] = data['first_day_exposition'].dt.weekday # создание столбца с информацией по дням недели\n",
        "data['year'] = data['first_day_exposition'].dt.year # создание столбца с информацией по годам\n",
        "data['month'] = data['first_day_exposition'].dt.month # создание столбца с информацией по месяцам\n",
        "data.head()"
      ]
    },
    {
      "cell_type": "markdown",
      "metadata": {
        "id": "9HJS1xADeBVn"
      },
      "source": [
        "Поделим на категории этаж расположения квартиры: первый, последний, другой. Данные добавим в столбец `floor_category`. Для решения задачи напишем функцию одной строки и применим её к датафрейму методом `apply`"
      ]
    },
    {
      "cell_type": "code",
      "execution_count": null,
      "metadata": {
        "id": "k4xHZyPJeBVn",
        "outputId": "8fba5469-ac5a-494f-cc54-cf20f0fbac60"
      },
      "outputs": [
        {
          "data": {
            "text/html": [
              "<div>\n",
              "<style scoped>\n",
              "    .dataframe tbody tr th:only-of-type {\n",
              "        vertical-align: middle;\n",
              "    }\n",
              "\n",
              "    .dataframe tbody tr th {\n",
              "        vertical-align: top;\n",
              "    }\n",
              "\n",
              "    .dataframe thead th {\n",
              "        text-align: right;\n",
              "    }\n",
              "</style>\n",
              "<table border=\"1\" class=\"dataframe\">\n",
              "  <thead>\n",
              "    <tr style=\"text-align: right;\">\n",
              "      <th></th>\n",
              "      <th>total_images</th>\n",
              "      <th>last_price</th>\n",
              "      <th>total_area</th>\n",
              "      <th>first_day_exposition</th>\n",
              "      <th>rooms</th>\n",
              "      <th>ceiling_height</th>\n",
              "      <th>floors_total</th>\n",
              "      <th>living_area</th>\n",
              "      <th>floor</th>\n",
              "      <th>is_apartment</th>\n",
              "      <th>...</th>\n",
              "      <th>parks_around3000</th>\n",
              "      <th>parks_nearest</th>\n",
              "      <th>ponds_around3000</th>\n",
              "      <th>ponds_nearest</th>\n",
              "      <th>days_exposition</th>\n",
              "      <th>per_square_meter_cost</th>\n",
              "      <th>dow</th>\n",
              "      <th>year</th>\n",
              "      <th>month</th>\n",
              "      <th>floor_category</th>\n",
              "    </tr>\n",
              "  </thead>\n",
              "  <tbody>\n",
              "    <tr>\n",
              "      <th>0</th>\n",
              "      <td>20</td>\n",
              "      <td>13000000</td>\n",
              "      <td>108.0</td>\n",
              "      <td>2019-03-07</td>\n",
              "      <td>3</td>\n",
              "      <td>2.70</td>\n",
              "      <td>16</td>\n",
              "      <td>51.0</td>\n",
              "      <td>8</td>\n",
              "      <td>False</td>\n",
              "      <td>...</td>\n",
              "      <td>1</td>\n",
              "      <td>482</td>\n",
              "      <td>2</td>\n",
              "      <td>755</td>\n",
              "      <td>NaN</td>\n",
              "      <td>120370.0</td>\n",
              "      <td>3</td>\n",
              "      <td>2019</td>\n",
              "      <td>3</td>\n",
              "      <td>другой этаж</td>\n",
              "    </tr>\n",
              "    <tr>\n",
              "      <th>1</th>\n",
              "      <td>7</td>\n",
              "      <td>3350000</td>\n",
              "      <td>40.4</td>\n",
              "      <td>2018-12-04</td>\n",
              "      <td>1</td>\n",
              "      <td>2.65</td>\n",
              "      <td>11</td>\n",
              "      <td>18.6</td>\n",
              "      <td>1</td>\n",
              "      <td>False</td>\n",
              "      <td>...</td>\n",
              "      <td>0</td>\n",
              "      <td>0</td>\n",
              "      <td>0</td>\n",
              "      <td>0</td>\n",
              "      <td>81.0</td>\n",
              "      <td>82921.0</td>\n",
              "      <td>1</td>\n",
              "      <td>2018</td>\n",
              "      <td>12</td>\n",
              "      <td>первый этаж</td>\n",
              "    </tr>\n",
              "    <tr>\n",
              "      <th>2</th>\n",
              "      <td>10</td>\n",
              "      <td>5196000</td>\n",
              "      <td>56.0</td>\n",
              "      <td>2015-08-20</td>\n",
              "      <td>2</td>\n",
              "      <td>2.65</td>\n",
              "      <td>5</td>\n",
              "      <td>34.3</td>\n",
              "      <td>4</td>\n",
              "      <td>False</td>\n",
              "      <td>...</td>\n",
              "      <td>1</td>\n",
              "      <td>90</td>\n",
              "      <td>2</td>\n",
              "      <td>574</td>\n",
              "      <td>558.0</td>\n",
              "      <td>92786.0</td>\n",
              "      <td>3</td>\n",
              "      <td>2015</td>\n",
              "      <td>8</td>\n",
              "      <td>другой этаж</td>\n",
              "    </tr>\n",
              "    <tr>\n",
              "      <th>3</th>\n",
              "      <td>0</td>\n",
              "      <td>64900000</td>\n",
              "      <td>159.0</td>\n",
              "      <td>2015-07-24</td>\n",
              "      <td>3</td>\n",
              "      <td>2.65</td>\n",
              "      <td>14</td>\n",
              "      <td>30.0</td>\n",
              "      <td>9</td>\n",
              "      <td>False</td>\n",
              "      <td>...</td>\n",
              "      <td>2</td>\n",
              "      <td>84</td>\n",
              "      <td>3</td>\n",
              "      <td>234</td>\n",
              "      <td>424.0</td>\n",
              "      <td>408176.0</td>\n",
              "      <td>4</td>\n",
              "      <td>2015</td>\n",
              "      <td>7</td>\n",
              "      <td>другой этаж</td>\n",
              "    </tr>\n",
              "    <tr>\n",
              "      <th>4</th>\n",
              "      <td>2</td>\n",
              "      <td>10000000</td>\n",
              "      <td>100.0</td>\n",
              "      <td>2018-06-19</td>\n",
              "      <td>2</td>\n",
              "      <td>3.03</td>\n",
              "      <td>14</td>\n",
              "      <td>32.0</td>\n",
              "      <td>13</td>\n",
              "      <td>False</td>\n",
              "      <td>...</td>\n",
              "      <td>2</td>\n",
              "      <td>112</td>\n",
              "      <td>1</td>\n",
              "      <td>48</td>\n",
              "      <td>121.0</td>\n",
              "      <td>100000.0</td>\n",
              "      <td>1</td>\n",
              "      <td>2018</td>\n",
              "      <td>6</td>\n",
              "      <td>другой этаж</td>\n",
              "    </tr>\n",
              "  </tbody>\n",
              "</table>\n",
              "<p>5 rows × 27 columns</p>\n",
              "</div>"
            ],
            "text/plain": [
              "   total_images  last_price  total_area first_day_exposition  rooms  \\\n",
              "0            20    13000000       108.0           2019-03-07      3   \n",
              "1             7     3350000        40.4           2018-12-04      1   \n",
              "2            10     5196000        56.0           2015-08-20      2   \n",
              "3             0    64900000       159.0           2015-07-24      3   \n",
              "4             2    10000000       100.0           2018-06-19      2   \n",
              "\n",
              "   ceiling_height  floors_total  living_area  floor  is_apartment  ...  \\\n",
              "0            2.70            16         51.0      8         False  ...   \n",
              "1            2.65            11         18.6      1         False  ...   \n",
              "2            2.65             5         34.3      4         False  ...   \n",
              "3            2.65            14         30.0      9         False  ...   \n",
              "4            3.03            14         32.0     13         False  ...   \n",
              "\n",
              "   parks_around3000  parks_nearest  ponds_around3000  ponds_nearest  \\\n",
              "0                 1            482                 2            755   \n",
              "1                 0              0                 0              0   \n",
              "2                 1             90                 2            574   \n",
              "3                 2             84                 3            234   \n",
              "4                 2            112                 1             48   \n",
              "\n",
              "  days_exposition  per_square_meter_cost  dow  year  month  floor_category  \n",
              "0             NaN               120370.0    3  2019      3     другой этаж  \n",
              "1            81.0                82921.0    1  2018     12     первый этаж  \n",
              "2           558.0                92786.0    3  2015      8     другой этаж  \n",
              "3           424.0               408176.0    4  2015      7     другой этаж  \n",
              "4           121.0               100000.0    1  2018      6     другой этаж  \n",
              "\n",
              "[5 rows x 27 columns]"
            ]
          },
          "execution_count": 204,
          "metadata": {},
          "output_type": "execute_result"
        }
      ],
      "source": [
        "def floor_categorization (row): #объявленние новой функци\n",
        "    item_floor = row['floor']# присвоение значения столбца floor новой переменной\n",
        "    tot_floor = row['floors_total']# присвоение значения столбца floors_total новой переменной\n",
        "    if   item_floor == 1:\n",
        "        return 'первый этаж'\n",
        "    if item_floor == tot_floor:\n",
        "        return 'последний этаж'\n",
        "    return 'другой этаж'\n",
        "data['floor_category'] = data.apply(floor_categorization,axis=1) # применение функции к строке датафрейма\n",
        "data.head()"
      ]
    },
    {
      "cell_type": "markdown",
      "metadata": {
        "id": "3W2-12dBeBVo"
      },
      "source": [
        "Для последующего анализа нам понадобятся столбцы: соотношение жилой и общей площади, а также отношение площади кухни к общей. Добавим их в таблицу, написав следующий код."
      ]
    },
    {
      "cell_type": "code",
      "execution_count": null,
      "metadata": {
        "scrolled": false,
        "id": "vqEm2D6MeBVo",
        "outputId": "6b983d79-b7cf-464c-8c9f-9368947681b1"
      },
      "outputs": [
        {
          "data": {
            "text/html": [
              "<div>\n",
              "<style scoped>\n",
              "    .dataframe tbody tr th:only-of-type {\n",
              "        vertical-align: middle;\n",
              "    }\n",
              "\n",
              "    .dataframe tbody tr th {\n",
              "        vertical-align: top;\n",
              "    }\n",
              "\n",
              "    .dataframe thead th {\n",
              "        text-align: right;\n",
              "    }\n",
              "</style>\n",
              "<table border=\"1\" class=\"dataframe\">\n",
              "  <thead>\n",
              "    <tr style=\"text-align: right;\">\n",
              "      <th></th>\n",
              "      <th>total_images</th>\n",
              "      <th>last_price</th>\n",
              "      <th>total_area</th>\n",
              "      <th>first_day_exposition</th>\n",
              "      <th>rooms</th>\n",
              "      <th>ceiling_height</th>\n",
              "      <th>floors_total</th>\n",
              "      <th>living_area</th>\n",
              "      <th>floor</th>\n",
              "      <th>is_apartment</th>\n",
              "      <th>...</th>\n",
              "      <th>ponds_around3000</th>\n",
              "      <th>ponds_nearest</th>\n",
              "      <th>days_exposition</th>\n",
              "      <th>per_square_meter_cost</th>\n",
              "      <th>dow</th>\n",
              "      <th>year</th>\n",
              "      <th>month</th>\n",
              "      <th>floor_category</th>\n",
              "      <th>living_vs_total_area</th>\n",
              "      <th>kitchen_vs_total_area</th>\n",
              "    </tr>\n",
              "  </thead>\n",
              "  <tbody>\n",
              "    <tr>\n",
              "      <th>0</th>\n",
              "      <td>20</td>\n",
              "      <td>13000000</td>\n",
              "      <td>108.0</td>\n",
              "      <td>2019-03-07</td>\n",
              "      <td>3</td>\n",
              "      <td>2.70</td>\n",
              "      <td>16</td>\n",
              "      <td>51.0</td>\n",
              "      <td>8</td>\n",
              "      <td>False</td>\n",
              "      <td>...</td>\n",
              "      <td>2</td>\n",
              "      <td>755</td>\n",
              "      <td>NaN</td>\n",
              "      <td>120370.0</td>\n",
              "      <td>3</td>\n",
              "      <td>2019</td>\n",
              "      <td>3</td>\n",
              "      <td>другой этаж</td>\n",
              "      <td>0.47</td>\n",
              "      <td>0.23</td>\n",
              "    </tr>\n",
              "    <tr>\n",
              "      <th>1</th>\n",
              "      <td>7</td>\n",
              "      <td>3350000</td>\n",
              "      <td>40.4</td>\n",
              "      <td>2018-12-04</td>\n",
              "      <td>1</td>\n",
              "      <td>2.65</td>\n",
              "      <td>11</td>\n",
              "      <td>18.6</td>\n",
              "      <td>1</td>\n",
              "      <td>False</td>\n",
              "      <td>...</td>\n",
              "      <td>0</td>\n",
              "      <td>0</td>\n",
              "      <td>81.0</td>\n",
              "      <td>82921.0</td>\n",
              "      <td>1</td>\n",
              "      <td>2018</td>\n",
              "      <td>12</td>\n",
              "      <td>первый этаж</td>\n",
              "      <td>0.46</td>\n",
              "      <td>0.27</td>\n",
              "    </tr>\n",
              "    <tr>\n",
              "      <th>2</th>\n",
              "      <td>10</td>\n",
              "      <td>5196000</td>\n",
              "      <td>56.0</td>\n",
              "      <td>2015-08-20</td>\n",
              "      <td>2</td>\n",
              "      <td>2.65</td>\n",
              "      <td>5</td>\n",
              "      <td>34.3</td>\n",
              "      <td>4</td>\n",
              "      <td>False</td>\n",
              "      <td>...</td>\n",
              "      <td>2</td>\n",
              "      <td>574</td>\n",
              "      <td>558.0</td>\n",
              "      <td>92786.0</td>\n",
              "      <td>3</td>\n",
              "      <td>2015</td>\n",
              "      <td>8</td>\n",
              "      <td>другой этаж</td>\n",
              "      <td>0.61</td>\n",
              "      <td>0.15</td>\n",
              "    </tr>\n",
              "    <tr>\n",
              "      <th>3</th>\n",
              "      <td>0</td>\n",
              "      <td>64900000</td>\n",
              "      <td>159.0</td>\n",
              "      <td>2015-07-24</td>\n",
              "      <td>3</td>\n",
              "      <td>2.65</td>\n",
              "      <td>14</td>\n",
              "      <td>30.0</td>\n",
              "      <td>9</td>\n",
              "      <td>False</td>\n",
              "      <td>...</td>\n",
              "      <td>3</td>\n",
              "      <td>234</td>\n",
              "      <td>424.0</td>\n",
              "      <td>408176.0</td>\n",
              "      <td>4</td>\n",
              "      <td>2015</td>\n",
              "      <td>7</td>\n",
              "      <td>другой этаж</td>\n",
              "      <td>0.19</td>\n",
              "      <td>0.06</td>\n",
              "    </tr>\n",
              "    <tr>\n",
              "      <th>4</th>\n",
              "      <td>2</td>\n",
              "      <td>10000000</td>\n",
              "      <td>100.0</td>\n",
              "      <td>2018-06-19</td>\n",
              "      <td>2</td>\n",
              "      <td>3.03</td>\n",
              "      <td>14</td>\n",
              "      <td>32.0</td>\n",
              "      <td>13</td>\n",
              "      <td>False</td>\n",
              "      <td>...</td>\n",
              "      <td>1</td>\n",
              "      <td>48</td>\n",
              "      <td>121.0</td>\n",
              "      <td>100000.0</td>\n",
              "      <td>1</td>\n",
              "      <td>2018</td>\n",
              "      <td>6</td>\n",
              "      <td>другой этаж</td>\n",
              "      <td>0.32</td>\n",
              "      <td>0.41</td>\n",
              "    </tr>\n",
              "  </tbody>\n",
              "</table>\n",
              "<p>5 rows × 29 columns</p>\n",
              "</div>"
            ],
            "text/plain": [
              "   total_images  last_price  total_area first_day_exposition  rooms  \\\n",
              "0            20    13000000       108.0           2019-03-07      3   \n",
              "1             7     3350000        40.4           2018-12-04      1   \n",
              "2            10     5196000        56.0           2015-08-20      2   \n",
              "3             0    64900000       159.0           2015-07-24      3   \n",
              "4             2    10000000       100.0           2018-06-19      2   \n",
              "\n",
              "   ceiling_height  floors_total  living_area  floor  is_apartment  ...  \\\n",
              "0            2.70            16         51.0      8         False  ...   \n",
              "1            2.65            11         18.6      1         False  ...   \n",
              "2            2.65             5         34.3      4         False  ...   \n",
              "3            2.65            14         30.0      9         False  ...   \n",
              "4            3.03            14         32.0     13         False  ...   \n",
              "\n",
              "   ponds_around3000  ponds_nearest  days_exposition  per_square_meter_cost  \\\n",
              "0                 2            755              NaN               120370.0   \n",
              "1                 0              0             81.0                82921.0   \n",
              "2                 2            574            558.0                92786.0   \n",
              "3                 3            234            424.0               408176.0   \n",
              "4                 1             48            121.0               100000.0   \n",
              "\n",
              "  dow  year  month  floor_category  living_vs_total_area  \\\n",
              "0   3  2019      3     другой этаж                  0.47   \n",
              "1   1  2018     12     первый этаж                  0.46   \n",
              "2   3  2015      8     другой этаж                  0.61   \n",
              "3   4  2015      7     другой этаж                  0.19   \n",
              "4   1  2018      6     другой этаж                  0.32   \n",
              "\n",
              "   kitchen_vs_total_area  \n",
              "0                   0.23  \n",
              "1                   0.27  \n",
              "2                   0.15  \n",
              "3                   0.06  \n",
              "4                   0.41  \n",
              "\n",
              "[5 rows x 29 columns]"
            ]
          },
          "execution_count": 205,
          "metadata": {},
          "output_type": "execute_result"
        }
      ],
      "source": [
        "data['living_vs_total_area'] = (data['living_area']/data['total_area']).round(2) # доля жилой площади в общей площади\n",
        "data['kitchen_vs_total_area'] = (data['kitchen_area']/data['total_area']).round(2) #доля площади кухни в общей площадии\n",
        "data.head()"
      ]
    },
    {
      "cell_type": "markdown",
      "metadata": {
        "id": "w7xDhOCGeBVp"
      },
      "source": [
        "## Исследовательский анализ данных"
      ]
    },
    {
      "cell_type": "markdown",
      "metadata": {
        "id": "AZs0m8PweBVp"
      },
      "source": [
        "Для изучения  параметров: площадь, цена, число комнат, высота потолков, построим гистограммы для каждого параметра."
      ]
    },
    {
      "cell_type": "code",
      "execution_count": null,
      "metadata": {
        "scrolled": true,
        "id": "7s9pA4m_eBVp",
        "outputId": "23a55b81-e252-4618-fdf6-3e04843a1faa"
      },
      "outputs": [
        {
          "data": {
            "image/png": "[encoded data removed]",
            "text/plain": [
              "<Figure size 432x288 with 1 Axes>"
            ]
          },
          "metadata": {
            "needs_background": "light"
          },
          "output_type": "display_data"
        }
      ],
      "source": [
        "data['total_area'].plot(kind = 'hist', range = (0,250), bins=30, grid=True).set_title('Распределение по общей площади'); # построение графика распределения общей площади по объявлениям50, title = 'total_area') #построен\n"
      ]
    },
    {
      "cell_type": "markdown",
      "metadata": {
        "id": "bhRibxJ8eBVq"
      },
      "source": [
        "Как видно из полученной гистограммы, наибольшее количествро предложений имеют полощадь от 30 до 60 квадратных метров, с пиком в районе 50 кв. м."
      ]
    },
    {
      "cell_type": "code",
      "execution_count": null,
      "metadata": {
        "id": "6P1TKxH-eBVq",
        "outputId": "027abff3-13c0-40db-b013-b8f4291ce7c2"
      },
      "outputs": [
        {
          "data": {
            "image/png": "[encoded data removed]",
            "text/plain": [
              "<Figure size 432x288 with 1 Axes>"
            ]
          },
          "metadata": {
            "needs_background": "light"
          },
          "output_type": "display_data"
        }
      ],
      "source": [
        "data['rooms'].plot(kind = 'hist', range = (0,10),bins=10, title = 'rooms'); # построение гистограммы распределения квартир по количеству комнат среди объявлений"
      ]
    },
    {
      "cell_type": "markdown",
      "metadata": {
        "id": "yu5kbwq-eBVr"
      },
      "source": [
        "Гистограмма по количеству комнат отображает наибольшее количество предложений по 1-3 комнатным квартирам."
      ]
    },
    {
      "cell_type": "markdown",
      "metadata": {
        "id": "rCUYLI9weBVr"
      },
      "source": [
        "<div class = \"alert alert-info\" style=\"border-left: 7px solid blue\">\n",
        "Ниже добавим гистограммы для анализа цены и высоты потолков (last_price, ceiling_height)\n",
        "</div>"
      ]
    },
    {
      "cell_type": "code",
      "execution_count": null,
      "metadata": {
        "id": "OsExVqbIeBVr",
        "outputId": "f9e1c285-4d64-4440-bcc0-f4239afd9139"
      },
      "outputs": [
        {
          "data": {
            "image/png": "[encoded data removed]",
            "text/plain": [
              "<Figure size 432x288 with 1 Axes>"
            ]
          },
          "metadata": {
            "needs_background": "light"
          },
          "output_type": "display_data"
        }
      ],
      "source": [
        "data['last_price'].plot(kind = 'hist',range=(0,50000000), bins=50, title = 'Цена покупки').set_xlabel('1*10 млн. руб.');"
      ]
    },
    {
      "cell_type": "markdown",
      "metadata": {
        "id": "x26t8IQneBVs"
      },
      "source": [
        "<div class = \"alert alert-info\" style=\"border-left: 7px solid blue\">\n",
        "График показывает, что средняя цена продажи квартиры составила 5 млн. рублей.\n",
        "</div>"
      ]
    },
    {
      "cell_type": "code",
      "execution_count": null,
      "metadata": {
        "id": "NyKKN7G1eBVs",
        "outputId": "82eaddce-fce1-41b8-b950-14261bb19374"
      },
      "outputs": [
        {
          "data": {
            "image/png": "[encoded data removed]",
            "text/plain": [
              "<Figure size 432x288 with 1 Axes>"
            ]
          },
          "metadata": {
            "needs_background": "light"
          },
          "output_type": "display_data"
        }
      ],
      "source": [
        "data['ceiling_height'].plot(kind = 'hist',range=(1.5,5), bins=50, title = 'Высота потолков').set_xlabel('метры');"
      ]
    },
    {
      "cell_type": "markdown",
      "metadata": {
        "id": "SMZtSZi0eBVs"
      },
      "source": [
        "<div class = \"alert alert-info\" style=\"border-left: 7px solid blue\">\n",
        "Большинство квартир в выборке имеют высоту потолков 2.5 метра.\n",
        "</div>"
      ]
    },
    {
      "cell_type": "markdown",
      "metadata": {
        "id": "gPyQb0l2eBVt"
      },
      "source": [
        "Изучим время продажи квартиры. Для этого построим гистограмму. Посчитаем среднее и медиану. Опишем, сколько обычно занимает продажа. Определим, когда можно считать, что продажи прошли очень быстро, а когда необычно долго."
      ]
    },
    {
      "cell_type": "code",
      "execution_count": null,
      "metadata": {
        "id": "2bckVA-NeBVu",
        "outputId": "1fbf4ba6-1cb4-4baf-c9e7-8600d722af6b"
      },
      "outputs": [
        {
          "data": {
            "image/png": "[encoded data removed]",
            "text/plain": [
              "<Figure size 432x288 with 1 Axes>"
            ]
          },
          "metadata": {
            "needs_background": "light"
          },
          "output_type": "display_data"
        }
      ],
      "source": [
        "data['days_exposition'].plot(kind = 'hist',range=(0,1200), bins=50, title = 'days_exposition');"
      ]
    },
    {
      "cell_type": "markdown",
      "metadata": {
        "id": "K_SIWetoeBVu"
      },
      "source": [
        "Найдем значение медианы и среднего для столбца 'days_exposition`, применив метод describe к датафрейму."
      ]
    },
    {
      "cell_type": "code",
      "execution_count": null,
      "metadata": {
        "scrolled": true,
        "id": "S8RxxIcceBVv",
        "outputId": "f8fa7266-873c-4226-dbcd-949cdf3bb5e9"
      },
      "outputs": [
        {
          "data": {
            "text/plain": [
              "count    20518.000000\n",
              "mean       180.888634\n",
              "std        219.727988\n",
              "min          1.000000\n",
              "25%         45.000000\n",
              "50%         95.000000\n",
              "75%        232.000000\n",
              "max       1580.000000\n",
              "Name: days_exposition, dtype: float64"
            ]
          },
          "execution_count": 211,
          "metadata": {},
          "output_type": "execute_result"
        }
      ],
      "source": [
        "data['days_exposition'].describe() "
      ]
    },
    {
      "cell_type": "markdown",
      "metadata": {
        "id": "vaciRUxZeBVv"
      },
      "source": [
        "Как видно из полученной гистограммы, большинство объявлений висят на сайте от 45 до  232 дней с медианным значением в 95 дней и средним значением  180 дней, что свидетельствует о больших отклонениях в большую сторону и подтверждается большой величиной стандартного отклонения  219 дней.\n",
        "Для дальнейшего анализа лучше ограничить диапазон рассмотрения. Для того, чтобы понять до какой величины лучше сделать ограничение, построим диаграмму \"ящик с усами\""
      ]
    },
    {
      "cell_type": "code",
      "execution_count": null,
      "metadata": {
        "id": "7GK5ZLcEeBVv",
        "outputId": "e208fb83-c1ce-4e15-b8b6-21ef432136b6"
      },
      "outputs": [
        {
          "data": {
            "image/png": "[encoded data removed]",
            "text/plain": [
              "<Figure size 432x288 with 1 Axes>"
            ]
          },
          "metadata": {
            "needs_background": "light"
          },
          "output_type": "display_data"
        }
      ],
      "source": [
        "data.boxplot(column = 'days_exposition');"
      ]
    },
    {
      "cell_type": "markdown",
      "metadata": {
        "id": "PqD2EpEveBVw"
      },
      "source": [
        "Диаграмма подтверждает большое число выбросов за пределами 500 дней, для дальнейшего анализа ограничимся рассмотрением диапазона от 0 до 500 дней. Продажи дольше 500 дней являются необычно долгими и являются явно нехарактерными.  Возможной причиной таких случаев может быть то, что владельцы объявления забывают снять его с размещения после продажи квартиры.Ячейки с пустыми значениями уберем из рассмотрения, также как и ячейки с длительностью размещения 0 дней, такие объявления могли быть размещены по ошибке.\n",
        "Построим новую гистограмму на основании полученных сокращенных данных."
      ]
    },
    {
      "cell_type": "code",
      "execution_count": null,
      "metadata": {
        "id": "f1VhQ-8aeBVx",
        "outputId": "0fed3e54-d28b-4e02-e751-56bafefe1a99"
      },
      "outputs": [
        {
          "data": {
            "image/png": "[encoded data removed]",
            "text/plain": [
              "<Figure size 864x360 with 1 Axes>"
            ]
          },
          "metadata": {
            "needs_background": "light"
          },
          "output_type": "display_data"
        }
      ],
      "source": [
        "data.query('1<=days_exposition<500').dropna().plot(y= 'days_exposition',kind = 'hist',grid=True, bins=300, title = 'days_exposition',figsize=(12,5));\n"
      ]
    },
    {
      "cell_type": "code",
      "execution_count": null,
      "metadata": {
        "id": "sF85vDMdeBVy",
        "outputId": "a46d5f8e-4510-4233-9650-79b491e1ad4d"
      },
      "outputs": [
        {
          "data": {
            "text/plain": [
              "count    20518.000000\n",
              "mean       180.888634\n",
              "std        219.727988\n",
              "min          1.000000\n",
              "25%         45.000000\n",
              "50%         95.000000\n",
              "75%        232.000000\n",
              "max       1580.000000\n",
              "Name: days_exposition, dtype: float64"
            ]
          },
          "execution_count": 214,
          "metadata": {},
          "output_type": "execute_result"
        }
      ],
      "source": [
        "data['days_exposition'].describe()"
      ]
    },
    {
      "cell_type": "markdown",
      "metadata": {
        "id": "tuhHXStkeBVy"
      },
      "source": [
        "На полученном графике и из описания данных в столбце видно, что в среднем объявления висят на сайте 169 дней,но на такую длительность могут влиять выбросы значений, как например, в периоде размещения 95 дней, когда на графике заметен большой скачок объявлений.  Без учета таких выбросов объявления находятся на сайте 95 дней. Быстрой можно считать продажу квартир в срок до 45 дней, если же квартира продается больше 200 дней, то такой срок продажи можно считать долгим. Посмотрим, сколько объявлений провисели на сайте 95 дней."
      ]
    },
    {
      "cell_type": "markdown",
      "metadata": {
        "id": "i6YLTrTYeBVz"
      },
      "source": [
        "<div class = \"alert alert-info\" style=\"border-left: 7px solid blue\">\n",
        "После  удаления лишних заполнений в колонке days_exposition, появились дополнительные выбросы, посмотрим поближе в какие периоды они встречаются.\n",
        "</div>"
      ]
    },
    {
      "cell_type": "code",
      "execution_count": null,
      "metadata": {
        "id": "z-zhaED6eBVz",
        "outputId": "f9ba467e-0a14-48f4-f8bd-85b10254285f"
      },
      "outputs": [
        {
          "data": {
            "image/png": "[encoded data removed]",
            "text/plain": [
              "<Figure size 864x360 with 1 Axes>"
            ]
          },
          "metadata": {
            "needs_background": "light"
          },
          "output_type": "display_data"
        }
      ],
      "source": [
        "data.query('1<=days_exposition<500').dropna().plot(y= 'days_exposition',kind = 'hist',range =(0,100), grid=True, bins=300, title = 'days_exposition',figsize=(12,5));\n"
      ]
    },
    {
      "cell_type": "markdown",
      "metadata": {
        "id": "2enDxDh2eBV0"
      },
      "source": [
        "<div class = \"alert alert-info\" style=\"border-left: 7px solid blue\">\n",
        "Выбросы возникают в определенные периоды - 30,45,60 и 95 дней. Предположительно в эти дни происходит автоматическое снятие объвлений с размещения, в случае отказа от их продления.\n",
        "</div>"
      ]
    },
    {
      "cell_type": "code",
      "execution_count": null,
      "metadata": {
        "id": "yS5UA1IIeBV0",
        "outputId": "43e42e85-b617-4394-8d82-d192ec64ad40"
      },
      "outputs": [
        {
          "data": {
            "text/html": [
              "<div>\n",
              "<style scoped>\n",
              "    .dataframe tbody tr th:only-of-type {\n",
              "        vertical-align: middle;\n",
              "    }\n",
              "\n",
              "    .dataframe tbody tr th {\n",
              "        vertical-align: top;\n",
              "    }\n",
              "\n",
              "    .dataframe thead th {\n",
              "        text-align: right;\n",
              "    }\n",
              "</style>\n",
              "<table border=\"1\" class=\"dataframe\">\n",
              "  <thead>\n",
              "    <tr style=\"text-align: right;\">\n",
              "      <th></th>\n",
              "      <th>total_images</th>\n",
              "      <th>last_price</th>\n",
              "      <th>total_area</th>\n",
              "      <th>first_day_exposition</th>\n",
              "      <th>rooms</th>\n",
              "      <th>ceiling_height</th>\n",
              "      <th>floors_total</th>\n",
              "      <th>living_area</th>\n",
              "      <th>floor</th>\n",
              "      <th>is_apartment</th>\n",
              "      <th>...</th>\n",
              "      <th>ponds_around3000</th>\n",
              "      <th>ponds_nearest</th>\n",
              "      <th>days_exposition</th>\n",
              "      <th>per_square_meter_cost</th>\n",
              "      <th>dow</th>\n",
              "      <th>year</th>\n",
              "      <th>month</th>\n",
              "      <th>floor_category</th>\n",
              "      <th>living_vs_total_area</th>\n",
              "      <th>kitchen_vs_total_area</th>\n",
              "    </tr>\n",
              "  </thead>\n",
              "  <tbody>\n",
              "    <tr>\n",
              "      <th>533</th>\n",
              "      <td>15</td>\n",
              "      <td>5900000</td>\n",
              "      <td>67.4</td>\n",
              "      <td>2019-01-11</td>\n",
              "      <td>3</td>\n",
              "      <td>2.50</td>\n",
              "      <td>9</td>\n",
              "      <td>48.5</td>\n",
              "      <td>8</td>\n",
              "      <td>False</td>\n",
              "      <td>...</td>\n",
              "      <td>0</td>\n",
              "      <td>0</td>\n",
              "      <td>95.0</td>\n",
              "      <td>87537.0</td>\n",
              "      <td>4</td>\n",
              "      <td>2019</td>\n",
              "      <td>1</td>\n",
              "      <td>другой этаж</td>\n",
              "      <td>0.72</td>\n",
              "      <td>0.09</td>\n",
              "    </tr>\n",
              "    <tr>\n",
              "      <th>902</th>\n",
              "      <td>7</td>\n",
              "      <td>2600000</td>\n",
              "      <td>61.2</td>\n",
              "      <td>2016-03-29</td>\n",
              "      <td>4</td>\n",
              "      <td>2.50</td>\n",
              "      <td>5</td>\n",
              "      <td>49.0</td>\n",
              "      <td>4</td>\n",
              "      <td>False</td>\n",
              "      <td>...</td>\n",
              "      <td>0</td>\n",
              "      <td>0</td>\n",
              "      <td>95.0</td>\n",
              "      <td>42484.0</td>\n",
              "      <td>1</td>\n",
              "      <td>2016</td>\n",
              "      <td>3</td>\n",
              "      <td>другой этаж</td>\n",
              "      <td>0.80</td>\n",
              "      <td>0.08</td>\n",
              "    </tr>\n",
              "    <tr>\n",
              "      <th>1041</th>\n",
              "      <td>9</td>\n",
              "      <td>4450000</td>\n",
              "      <td>82.0</td>\n",
              "      <td>2018-06-18</td>\n",
              "      <td>3</td>\n",
              "      <td>2.65</td>\n",
              "      <td>10</td>\n",
              "      <td>43.0</td>\n",
              "      <td>1</td>\n",
              "      <td>False</td>\n",
              "      <td>...</td>\n",
              "      <td>0</td>\n",
              "      <td>0</td>\n",
              "      <td>95.0</td>\n",
              "      <td>54268.0</td>\n",
              "      <td>0</td>\n",
              "      <td>2018</td>\n",
              "      <td>6</td>\n",
              "      <td>первый этаж</td>\n",
              "      <td>0.52</td>\n",
              "      <td>0.17</td>\n",
              "    </tr>\n",
              "    <tr>\n",
              "      <th>1716</th>\n",
              "      <td>15</td>\n",
              "      <td>6650000</td>\n",
              "      <td>63.8</td>\n",
              "      <td>2017-04-20</td>\n",
              "      <td>2</td>\n",
              "      <td>2.65</td>\n",
              "      <td>4</td>\n",
              "      <td>39.9</td>\n",
              "      <td>4</td>\n",
              "      <td>False</td>\n",
              "      <td>...</td>\n",
              "      <td>1</td>\n",
              "      <td>582</td>\n",
              "      <td>95.0</td>\n",
              "      <td>104232.0</td>\n",
              "      <td>3</td>\n",
              "      <td>2017</td>\n",
              "      <td>4</td>\n",
              "      <td>последний этаж</td>\n",
              "      <td>0.63</td>\n",
              "      <td>0.10</td>\n",
              "    </tr>\n",
              "    <tr>\n",
              "      <th>1830</th>\n",
              "      <td>20</td>\n",
              "      <td>11250000</td>\n",
              "      <td>95.0</td>\n",
              "      <td>2018-06-21</td>\n",
              "      <td>3</td>\n",
              "      <td>2.70</td>\n",
              "      <td>24</td>\n",
              "      <td>50.0</td>\n",
              "      <td>17</td>\n",
              "      <td>False</td>\n",
              "      <td>...</td>\n",
              "      <td>0</td>\n",
              "      <td>0</td>\n",
              "      <td>95.0</td>\n",
              "      <td>118421.0</td>\n",
              "      <td>3</td>\n",
              "      <td>2018</td>\n",
              "      <td>6</td>\n",
              "      <td>другой этаж</td>\n",
              "      <td>0.53</td>\n",
              "      <td>0.17</td>\n",
              "    </tr>\n",
              "    <tr>\n",
              "      <th>...</th>\n",
              "      <td>...</td>\n",
              "      <td>...</td>\n",
              "      <td>...</td>\n",
              "      <td>...</td>\n",
              "      <td>...</td>\n",
              "      <td>...</td>\n",
              "      <td>...</td>\n",
              "      <td>...</td>\n",
              "      <td>...</td>\n",
              "      <td>...</td>\n",
              "      <td>...</td>\n",
              "      <td>...</td>\n",
              "      <td>...</td>\n",
              "      <td>...</td>\n",
              "      <td>...</td>\n",
              "      <td>...</td>\n",
              "      <td>...</td>\n",
              "      <td>...</td>\n",
              "      <td>...</td>\n",
              "      <td>...</td>\n",
              "      <td>...</td>\n",
              "    </tr>\n",
              "    <tr>\n",
              "      <th>22335</th>\n",
              "      <td>13</td>\n",
              "      <td>7600000</td>\n",
              "      <td>64.0</td>\n",
              "      <td>2018-02-10</td>\n",
              "      <td>2</td>\n",
              "      <td>2.80</td>\n",
              "      <td>15</td>\n",
              "      <td>33.2</td>\n",
              "      <td>3</td>\n",
              "      <td>False</td>\n",
              "      <td>...</td>\n",
              "      <td>1</td>\n",
              "      <td>405</td>\n",
              "      <td>95.0</td>\n",
              "      <td>118750.0</td>\n",
              "      <td>5</td>\n",
              "      <td>2018</td>\n",
              "      <td>2</td>\n",
              "      <td>другой этаж</td>\n",
              "      <td>0.52</td>\n",
              "      <td>0.19</td>\n",
              "    </tr>\n",
              "    <tr>\n",
              "      <th>22517</th>\n",
              "      <td>31</td>\n",
              "      <td>9000000</td>\n",
              "      <td>82.6</td>\n",
              "      <td>2018-02-22</td>\n",
              "      <td>3</td>\n",
              "      <td>3.00</td>\n",
              "      <td>5</td>\n",
              "      <td>52.7</td>\n",
              "      <td>5</td>\n",
              "      <td>False</td>\n",
              "      <td>...</td>\n",
              "      <td>1</td>\n",
              "      <td>691</td>\n",
              "      <td>95.0</td>\n",
              "      <td>108959.0</td>\n",
              "      <td>3</td>\n",
              "      <td>2018</td>\n",
              "      <td>2</td>\n",
              "      <td>последний этаж</td>\n",
              "      <td>0.64</td>\n",
              "      <td>0.11</td>\n",
              "    </tr>\n",
              "    <tr>\n",
              "      <th>22809</th>\n",
              "      <td>16</td>\n",
              "      <td>4700000</td>\n",
              "      <td>44.0</td>\n",
              "      <td>2016-04-16</td>\n",
              "      <td>1</td>\n",
              "      <td>2.65</td>\n",
              "      <td>10</td>\n",
              "      <td>20.0</td>\n",
              "      <td>5</td>\n",
              "      <td>False</td>\n",
              "      <td>...</td>\n",
              "      <td>0</td>\n",
              "      <td>0</td>\n",
              "      <td>95.0</td>\n",
              "      <td>106818.0</td>\n",
              "      <td>5</td>\n",
              "      <td>2016</td>\n",
              "      <td>4</td>\n",
              "      <td>другой этаж</td>\n",
              "      <td>0.45</td>\n",
              "      <td>0.27</td>\n",
              "    </tr>\n",
              "    <tr>\n",
              "      <th>22908</th>\n",
              "      <td>20</td>\n",
              "      <td>5250000</td>\n",
              "      <td>39.8</td>\n",
              "      <td>2018-07-11</td>\n",
              "      <td>1</td>\n",
              "      <td>2.65</td>\n",
              "      <td>17</td>\n",
              "      <td>18.1</td>\n",
              "      <td>3</td>\n",
              "      <td>False</td>\n",
              "      <td>...</td>\n",
              "      <td>1</td>\n",
              "      <td>283</td>\n",
              "      <td>95.0</td>\n",
              "      <td>131910.0</td>\n",
              "      <td>2</td>\n",
              "      <td>2018</td>\n",
              "      <td>7</td>\n",
              "      <td>другой этаж</td>\n",
              "      <td>0.45</td>\n",
              "      <td>0.22</td>\n",
              "    </tr>\n",
              "    <tr>\n",
              "      <th>23188</th>\n",
              "      <td>1</td>\n",
              "      <td>11000000</td>\n",
              "      <td>81.0</td>\n",
              "      <td>2018-01-01</td>\n",
              "      <td>3</td>\n",
              "      <td>3.00</td>\n",
              "      <td>11</td>\n",
              "      <td>47.0</td>\n",
              "      <td>4</td>\n",
              "      <td>False</td>\n",
              "      <td>...</td>\n",
              "      <td>3</td>\n",
              "      <td>153</td>\n",
              "      <td>95.0</td>\n",
              "      <td>135802.0</td>\n",
              "      <td>0</td>\n",
              "      <td>2018</td>\n",
              "      <td>1</td>\n",
              "      <td>другой этаж</td>\n",
              "      <td>0.58</td>\n",
              "      <td>0.20</td>\n",
              "    </tr>\n",
              "  </tbody>\n",
              "</table>\n",
              "<p>64 rows × 29 columns</p>\n",
              "</div>"
            ],
            "text/plain": [
              "       total_images  last_price  total_area first_day_exposition  rooms  \\\n",
              "533              15     5900000        67.4           2019-01-11      3   \n",
              "902               7     2600000        61.2           2016-03-29      4   \n",
              "1041              9     4450000        82.0           2018-06-18      3   \n",
              "1716             15     6650000        63.8           2017-04-20      2   \n",
              "1830             20    11250000        95.0           2018-06-21      3   \n",
              "...             ...         ...         ...                  ...    ...   \n",
              "22335            13     7600000        64.0           2018-02-10      2   \n",
              "22517            31     9000000        82.6           2018-02-22      3   \n",
              "22809            16     4700000        44.0           2016-04-16      1   \n",
              "22908            20     5250000        39.8           2018-07-11      1   \n",
              "23188             1    11000000        81.0           2018-01-01      3   \n",
              "\n",
              "       ceiling_height  floors_total  living_area  floor  is_apartment  ...  \\\n",
              "533              2.50             9         48.5      8         False  ...   \n",
              "902              2.50             5         49.0      4         False  ...   \n",
              "1041             2.65            10         43.0      1         False  ...   \n",
              "1716             2.65             4         39.9      4         False  ...   \n",
              "1830             2.70            24         50.0     17         False  ...   \n",
              "...               ...           ...          ...    ...           ...  ...   \n",
              "22335            2.80            15         33.2      3         False  ...   \n",
              "22517            3.00             5         52.7      5         False  ...   \n",
              "22809            2.65            10         20.0      5         False  ...   \n",
              "22908            2.65            17         18.1      3         False  ...   \n",
              "23188            3.00            11         47.0      4         False  ...   \n",
              "\n",
              "       ponds_around3000  ponds_nearest  days_exposition  \\\n",
              "533                   0              0             95.0   \n",
              "902                   0              0             95.0   \n",
              "1041                  0              0             95.0   \n",
              "1716                  1            582             95.0   \n",
              "1830                  0              0             95.0   \n",
              "...                 ...            ...              ...   \n",
              "22335                 1            405             95.0   \n",
              "22517                 1            691             95.0   \n",
              "22809                 0              0             95.0   \n",
              "22908                 1            283             95.0   \n",
              "23188                 3            153             95.0   \n",
              "\n",
              "       per_square_meter_cost dow  year  month  floor_category  \\\n",
              "533                  87537.0   4  2019      1     другой этаж   \n",
              "902                  42484.0   1  2016      3     другой этаж   \n",
              "1041                 54268.0   0  2018      6     первый этаж   \n",
              "1716                104232.0   3  2017      4  последний этаж   \n",
              "1830                118421.0   3  2018      6     другой этаж   \n",
              "...                      ...  ..   ...    ...             ...   \n",
              "22335               118750.0   5  2018      2     другой этаж   \n",
              "22517               108959.0   3  2018      2  последний этаж   \n",
              "22809               106818.0   5  2016      4     другой этаж   \n",
              "22908               131910.0   2  2018      7     другой этаж   \n",
              "23188               135802.0   0  2018      1     другой этаж   \n",
              "\n",
              "       living_vs_total_area  kitchen_vs_total_area  \n",
              "533                    0.72                   0.09  \n",
              "902                    0.80                   0.08  \n",
              "1041                   0.52                   0.17  \n",
              "1716                   0.63                   0.10  \n",
              "1830                   0.53                   0.17  \n",
              "...                     ...                    ...  \n",
              "22335                  0.52                   0.19  \n",
              "22517                  0.64                   0.11  \n",
              "22809                  0.45                   0.27  \n",
              "22908                  0.45                   0.22  \n",
              "23188                  0.58                   0.20  \n",
              "\n",
              "[64 rows x 29 columns]"
            ]
          },
          "execution_count": 216,
          "metadata": {},
          "output_type": "execute_result"
        }
      ],
      "source": [
        "data.query('days_exposition == 95')"
      ]
    },
    {
      "cell_type": "markdown",
      "metadata": {
        "id": "i9TcY2sneBV1"
      },
      "source": [
        "14% объявлений (3246/23699) провисели на сайте 95 дней. по всей видимости - это срок размещения объявления на сайте, после этого периода времени объявление удаляется, если нет подтверждения о его продлении.\n",
        "<div class = \"alert alert-info\" style=\"border-left: 7px solid blue\">\n",
        "После удаления лишних заполнений доля объявлений, рповисевших 95 дней стала значительно ниже - всего лишь 64 позиции.\n",
        "</div>"
      ]
    },
    {
      "cell_type": "markdown",
      "metadata": {
        "id": "HXJ61jBIeBV2"
      },
      "source": [
        "<div class = \"alert alert-info\" style=\"border-left: 7px solid blue\">\n",
        "Проверю наличие выбросов в колонках last_price, ceiling_height и total_area. Проверку выбросов произведем при помощи построения диаграммы \"ящик с усами\"\n",
        "</div>"
      ]
    },
    {
      "cell_type": "code",
      "execution_count": null,
      "metadata": {
        "id": "EKMcYJ7ZeBV3",
        "outputId": "4789e61f-392b-4afe-e702-5914214c8d75"
      },
      "outputs": [
        {
          "data": {
            "text/plain": [
              "(0.0, 20000000.0)"
            ]
          },
          "execution_count": 217,
          "metadata": {},
          "output_type": "execute_result"
        },
        {
          "data": {
            "image/png": "[encoded data removed]",
            "text/plain": [
              "<Figure size 432x288 with 1 Axes>"
            ]
          },
          "metadata": {
            "needs_background": "light"
          },
          "output_type": "display_data"
        }
      ],
      "source": [
        "data.boxplot(column = 'last_price') # диаграмма распределения для стоимости квартир\n",
        "plt.ylim(0, 20000000) #ограничим интервал рассмотрения до 20 млн. рублей"
      ]
    },
    {
      "cell_type": "markdown",
      "metadata": {
        "id": "7MfGVfCDeBV3"
      },
      "source": [
        "<div class = \"alert alert-info\" style=\"border-left: 7px solid blue\">\n",
        "Средняя стоимость квартиры - 5 млн. рублей, выбросами можем считать предложения со стоимостью выше 12 млн. рублей. Такие значения удалим из дальнейшего рассмотрения. Перед уданением проверим сколько таких выбросов в процентном соотношении к общему объему датасета.\n",
        "    </div>"
      ]
    },
    {
      "cell_type": "code",
      "execution_count": null,
      "metadata": {
        "id": "XTqZ9uJieBV3",
        "outputId": "7f00ceca-3415-45d9-bce4-49de1c9d8e18"
      },
      "outputs": [
        {
          "data": {
            "text/plain": [
              "8.190218996582134"
            ]
          },
          "execution_count": 218,
          "metadata": {},
          "output_type": "execute_result"
        }
      ],
      "source": [
        "len(data.query('last_price>12000000'))/len(data)*100"
      ]
    },
    {
      "cell_type": "markdown",
      "metadata": {
        "id": "HUNbxtjueBV4"
      },
      "source": [
        "<div class = \"alert alert-info\" style=\"border-left: 7px solid blue\">\n",
        "Таких данных меньше 10%, можно удалить их из дальнейшего рассмотрения.\n",
        "    </div>"
      ]
    },
    {
      "cell_type": "code",
      "execution_count": null,
      "metadata": {
        "id": "jwKZlu_6eBV4",
        "outputId": "676fd0c5-344e-4451-8c68-84f21022ec6a"
      },
      "outputs": [
        {
          "data": {
            "image/png": "[encoded data removed]",
            "text/plain": [
              "<Figure size 432x288 with 1 Axes>"
            ]
          },
          "metadata": {
            "needs_background": "light"
          },
          "output_type": "display_data"
        }
      ],
      "source": [
        "data.boxplot(column = 'ceiling_height'); # диаграмма распределения для высоты потолков\n",
        "plt.ylim(0,4); #ограничим интервал рассмотрения до 4 метров"
      ]
    },
    {
      "cell_type": "markdown",
      "metadata": {
        "id": "_37UYqljeBV4"
      },
      "source": [
        "<div class = \"alert alert-info\" style=\"border-left: 7px solid blue\">\n",
        "Значения меньше 2-ух метров и больше 2.8 м исходя из диаграммы являются выбросами, будем удалять их из таблицы для дальнейшего анализа. Перед уданением проверим сколько таких выбросов в процентном соотношении к общему объему датасета.\n",
        "    </div>"
      ]
    },
    {
      "cell_type": "code",
      "execution_count": null,
      "metadata": {
        "id": "As8cBJhFeBV4",
        "outputId": "b574c08b-4e7a-4ba2-a505-a3d3288d18a9"
      },
      "outputs": [
        {
          "data": {
            "text/plain": [
              "82.7756445419638"
            ]
          },
          "execution_count": 220,
          "metadata": {},
          "output_type": "execute_result"
        }
      ],
      "source": [
        "len(data.query('2<ceiling_height<2.8'))/len(data)*100 "
      ]
    },
    {
      "cell_type": "markdown",
      "metadata": {
        "id": "N6oLKKd5eBV5"
      },
      "source": [
        "<div class = \"alert alert-info\" style=\"border-left: 7px solid blue\">\n",
        "Таких данных меньше 10%, можно удалить их из дальнейшего рассмотрения.\n",
        "    </div>"
      ]
    },
    {
      "cell_type": "code",
      "execution_count": null,
      "metadata": {
        "id": "l9jWKGZSeBV5",
        "outputId": "4864c4f2-61a2-43a7-8769-1693659fa856"
      },
      "outputs": [
        {
          "data": {
            "text/plain": [
              "(0.0, 250.0)"
            ]
          },
          "execution_count": 221,
          "metadata": {},
          "output_type": "execute_result"
        },
        {
          "data": {
            "image/png": "[encoded data removed]",
            "text/plain": [
              "<Figure size 432x288 with 1 Axes>"
            ]
          },
          "metadata": {
            "needs_background": "light"
          },
          "output_type": "display_data"
        }
      ],
      "source": [
        "data.boxplot(column = 'total_area');# диаграмма распределения для общей площади квартиры\n",
        "plt.ylim(0, 250) #ограничим интервал рассмотрения до 250 кв. метров"
      ]
    },
    {
      "cell_type": "markdown",
      "metadata": {
        "id": "3cG_xl8VeBV5"
      },
      "source": [
        "<div class = \"alert alert-info\" style=\"border-left: 7px solid blue\">\n",
        "Диаграмма распределения по общим площадям квартир отражает много выбросов в диапазоне свыше 120 кв.м, их будем удалять из рассмотрения. Перед удалением проверим сколько таких выбросов в процентном соотношении к общему объему датасета.\n",
        "    </div>"
      ]
    },
    {
      "cell_type": "code",
      "execution_count": null,
      "metadata": {
        "id": "A8w4AB0IeBV5",
        "outputId": "cdf5c7bf-272f-48f7-f965-4e4874e384a6"
      },
      "outputs": [
        {
          "data": {
            "text/plain": [
              "4.481201738469977"
            ]
          },
          "execution_count": 222,
          "metadata": {},
          "output_type": "execute_result"
        }
      ],
      "source": [
        "len(data.query('30<total_area>120'))/len(data)*100 "
      ]
    },
    {
      "cell_type": "markdown",
      "metadata": {
        "id": "XOtvDatCeBV5"
      },
      "source": [
        "<div class = \"alert alert-info\" style=\"border-left: 7px solid blue\">\n",
        "Таких данных меньше 10%, можно удалить их из дальнейшего рассмотрения.\n",
        "    </div>"
      ]
    },
    {
      "cell_type": "code",
      "execution_count": null,
      "metadata": {
        "scrolled": true,
        "id": "B00_LTlneBV6",
        "outputId": "91e7896f-89b7-4ef2-c0c7-6c366a5a5f2d"
      },
      "outputs": [
        {
          "data": {
            "text/html": [
              "<div>\n",
              "<style scoped>\n",
              "    .dataframe tbody tr th:only-of-type {\n",
              "        vertical-align: middle;\n",
              "    }\n",
              "\n",
              "    .dataframe tbody tr th {\n",
              "        vertical-align: top;\n",
              "    }\n",
              "\n",
              "    .dataframe thead th {\n",
              "        text-align: right;\n",
              "    }\n",
              "</style>\n",
              "<table border=\"1\" class=\"dataframe\">\n",
              "  <thead>\n",
              "    <tr style=\"text-align: right;\">\n",
              "      <th></th>\n",
              "      <th>total_images</th>\n",
              "      <th>last_price</th>\n",
              "      <th>total_area</th>\n",
              "      <th>first_day_exposition</th>\n",
              "      <th>rooms</th>\n",
              "      <th>ceiling_height</th>\n",
              "      <th>floors_total</th>\n",
              "      <th>living_area</th>\n",
              "      <th>floor</th>\n",
              "      <th>is_apartment</th>\n",
              "      <th>...</th>\n",
              "      <th>ponds_around3000</th>\n",
              "      <th>ponds_nearest</th>\n",
              "      <th>days_exposition</th>\n",
              "      <th>per_square_meter_cost</th>\n",
              "      <th>dow</th>\n",
              "      <th>year</th>\n",
              "      <th>month</th>\n",
              "      <th>floor_category</th>\n",
              "      <th>living_vs_total_area</th>\n",
              "      <th>kitchen_vs_total_area</th>\n",
              "    </tr>\n",
              "  </thead>\n",
              "  <tbody>\n",
              "    <tr>\n",
              "      <th>0</th>\n",
              "      <td>20</td>\n",
              "      <td>13000000</td>\n",
              "      <td>108.00</td>\n",
              "      <td>2019-03-07</td>\n",
              "      <td>3</td>\n",
              "      <td>2.70</td>\n",
              "      <td>16</td>\n",
              "      <td>51.0</td>\n",
              "      <td>8</td>\n",
              "      <td>False</td>\n",
              "      <td>...</td>\n",
              "      <td>2</td>\n",
              "      <td>755</td>\n",
              "      <td>NaN</td>\n",
              "      <td>120370.0</td>\n",
              "      <td>3</td>\n",
              "      <td>2019</td>\n",
              "      <td>3</td>\n",
              "      <td>другой этаж</td>\n",
              "      <td>0.47</td>\n",
              "      <td>0.23</td>\n",
              "    </tr>\n",
              "    <tr>\n",
              "      <th>1</th>\n",
              "      <td>7</td>\n",
              "      <td>3350000</td>\n",
              "      <td>40.40</td>\n",
              "      <td>2018-12-04</td>\n",
              "      <td>1</td>\n",
              "      <td>2.65</td>\n",
              "      <td>11</td>\n",
              "      <td>18.6</td>\n",
              "      <td>1</td>\n",
              "      <td>False</td>\n",
              "      <td>...</td>\n",
              "      <td>0</td>\n",
              "      <td>0</td>\n",
              "      <td>81.0</td>\n",
              "      <td>82921.0</td>\n",
              "      <td>1</td>\n",
              "      <td>2018</td>\n",
              "      <td>12</td>\n",
              "      <td>первый этаж</td>\n",
              "      <td>0.46</td>\n",
              "      <td>0.27</td>\n",
              "    </tr>\n",
              "    <tr>\n",
              "      <th>2</th>\n",
              "      <td>10</td>\n",
              "      <td>5196000</td>\n",
              "      <td>56.00</td>\n",
              "      <td>2015-08-20</td>\n",
              "      <td>2</td>\n",
              "      <td>2.65</td>\n",
              "      <td>5</td>\n",
              "      <td>34.3</td>\n",
              "      <td>4</td>\n",
              "      <td>False</td>\n",
              "      <td>...</td>\n",
              "      <td>2</td>\n",
              "      <td>574</td>\n",
              "      <td>558.0</td>\n",
              "      <td>92786.0</td>\n",
              "      <td>3</td>\n",
              "      <td>2015</td>\n",
              "      <td>8</td>\n",
              "      <td>другой этаж</td>\n",
              "      <td>0.61</td>\n",
              "      <td>0.15</td>\n",
              "    </tr>\n",
              "    <tr>\n",
              "      <th>4</th>\n",
              "      <td>2</td>\n",
              "      <td>10000000</td>\n",
              "      <td>100.00</td>\n",
              "      <td>2018-06-19</td>\n",
              "      <td>2</td>\n",
              "      <td>3.03</td>\n",
              "      <td>14</td>\n",
              "      <td>32.0</td>\n",
              "      <td>13</td>\n",
              "      <td>False</td>\n",
              "      <td>...</td>\n",
              "      <td>1</td>\n",
              "      <td>48</td>\n",
              "      <td>121.0</td>\n",
              "      <td>100000.0</td>\n",
              "      <td>1</td>\n",
              "      <td>2018</td>\n",
              "      <td>6</td>\n",
              "      <td>другой этаж</td>\n",
              "      <td>0.32</td>\n",
              "      <td>0.41</td>\n",
              "    </tr>\n",
              "    <tr>\n",
              "      <th>5</th>\n",
              "      <td>10</td>\n",
              "      <td>2890000</td>\n",
              "      <td>30.40</td>\n",
              "      <td>2018-09-10</td>\n",
              "      <td>1</td>\n",
              "      <td>2.65</td>\n",
              "      <td>12</td>\n",
              "      <td>14.4</td>\n",
              "      <td>5</td>\n",
              "      <td>False</td>\n",
              "      <td>...</td>\n",
              "      <td>0</td>\n",
              "      <td>0</td>\n",
              "      <td>55.0</td>\n",
              "      <td>95066.0</td>\n",
              "      <td>0</td>\n",
              "      <td>2018</td>\n",
              "      <td>9</td>\n",
              "      <td>другой этаж</td>\n",
              "      <td>0.47</td>\n",
              "      <td>0.30</td>\n",
              "    </tr>\n",
              "    <tr>\n",
              "      <th>...</th>\n",
              "      <td>...</td>\n",
              "      <td>...</td>\n",
              "      <td>...</td>\n",
              "      <td>...</td>\n",
              "      <td>...</td>\n",
              "      <td>...</td>\n",
              "      <td>...</td>\n",
              "      <td>...</td>\n",
              "      <td>...</td>\n",
              "      <td>...</td>\n",
              "      <td>...</td>\n",
              "      <td>...</td>\n",
              "      <td>...</td>\n",
              "      <td>...</td>\n",
              "      <td>...</td>\n",
              "      <td>...</td>\n",
              "      <td>...</td>\n",
              "      <td>...</td>\n",
              "      <td>...</td>\n",
              "      <td>...</td>\n",
              "      <td>...</td>\n",
              "    </tr>\n",
              "    <tr>\n",
              "      <th>23693</th>\n",
              "      <td>9</td>\n",
              "      <td>4600000</td>\n",
              "      <td>62.40</td>\n",
              "      <td>2016-08-05</td>\n",
              "      <td>3</td>\n",
              "      <td>2.60</td>\n",
              "      <td>9</td>\n",
              "      <td>40.0</td>\n",
              "      <td>8</td>\n",
              "      <td>False</td>\n",
              "      <td>...</td>\n",
              "      <td>1</td>\n",
              "      <td>675</td>\n",
              "      <td>239.0</td>\n",
              "      <td>73718.0</td>\n",
              "      <td>4</td>\n",
              "      <td>2016</td>\n",
              "      <td>8</td>\n",
              "      <td>другой этаж</td>\n",
              "      <td>0.64</td>\n",
              "      <td>0.13</td>\n",
              "    </tr>\n",
              "    <tr>\n",
              "      <th>23695</th>\n",
              "      <td>14</td>\n",
              "      <td>3100000</td>\n",
              "      <td>59.00</td>\n",
              "      <td>2018-01-15</td>\n",
              "      <td>3</td>\n",
              "      <td>2.65</td>\n",
              "      <td>5</td>\n",
              "      <td>38.0</td>\n",
              "      <td>4</td>\n",
              "      <td>False</td>\n",
              "      <td>...</td>\n",
              "      <td>0</td>\n",
              "      <td>0</td>\n",
              "      <td>45.0</td>\n",
              "      <td>52542.0</td>\n",
              "      <td>0</td>\n",
              "      <td>2018</td>\n",
              "      <td>1</td>\n",
              "      <td>другой этаж</td>\n",
              "      <td>0.64</td>\n",
              "      <td>0.14</td>\n",
              "    </tr>\n",
              "    <tr>\n",
              "      <th>23696</th>\n",
              "      <td>18</td>\n",
              "      <td>2500000</td>\n",
              "      <td>56.70</td>\n",
              "      <td>2018-02-11</td>\n",
              "      <td>2</td>\n",
              "      <td>2.65</td>\n",
              "      <td>3</td>\n",
              "      <td>29.7</td>\n",
              "      <td>1</td>\n",
              "      <td>False</td>\n",
              "      <td>...</td>\n",
              "      <td>0</td>\n",
              "      <td>0</td>\n",
              "      <td>NaN</td>\n",
              "      <td>44092.0</td>\n",
              "      <td>6</td>\n",
              "      <td>2018</td>\n",
              "      <td>2</td>\n",
              "      <td>первый этаж</td>\n",
              "      <td>0.52</td>\n",
              "      <td>0.16</td>\n",
              "    </tr>\n",
              "    <tr>\n",
              "      <th>23697</th>\n",
              "      <td>13</td>\n",
              "      <td>11475000</td>\n",
              "      <td>76.75</td>\n",
              "      <td>2017-03-28</td>\n",
              "      <td>2</td>\n",
              "      <td>3.00</td>\n",
              "      <td>17</td>\n",
              "      <td>30.0</td>\n",
              "      <td>12</td>\n",
              "      <td>False</td>\n",
              "      <td>...</td>\n",
              "      <td>3</td>\n",
              "      <td>196</td>\n",
              "      <td>602.0</td>\n",
              "      <td>149511.0</td>\n",
              "      <td>1</td>\n",
              "      <td>2017</td>\n",
              "      <td>3</td>\n",
              "      <td>другой этаж</td>\n",
              "      <td>0.39</td>\n",
              "      <td>0.30</td>\n",
              "    </tr>\n",
              "    <tr>\n",
              "      <th>23698</th>\n",
              "      <td>4</td>\n",
              "      <td>1350000</td>\n",
              "      <td>32.30</td>\n",
              "      <td>2017-07-21</td>\n",
              "      <td>1</td>\n",
              "      <td>2.50</td>\n",
              "      <td>5</td>\n",
              "      <td>12.3</td>\n",
              "      <td>1</td>\n",
              "      <td>False</td>\n",
              "      <td>...</td>\n",
              "      <td>0</td>\n",
              "      <td>0</td>\n",
              "      <td>NaN</td>\n",
              "      <td>41796.0</td>\n",
              "      <td>4</td>\n",
              "      <td>2017</td>\n",
              "      <td>7</td>\n",
              "      <td>первый этаж</td>\n",
              "      <td>0.38</td>\n",
              "      <td>0.28</td>\n",
              "    </tr>\n",
              "  </tbody>\n",
              "</table>\n",
              "<p>21702 rows × 29 columns</p>\n",
              "</div>"
            ],
            "text/plain": [
              "       total_images  last_price  total_area first_day_exposition  rooms  \\\n",
              "0                20    13000000      108.00           2019-03-07      3   \n",
              "1                 7     3350000       40.40           2018-12-04      1   \n",
              "2                10     5196000       56.00           2015-08-20      2   \n",
              "4                 2    10000000      100.00           2018-06-19      2   \n",
              "5                10     2890000       30.40           2018-09-10      1   \n",
              "...             ...         ...         ...                  ...    ...   \n",
              "23693             9     4600000       62.40           2016-08-05      3   \n",
              "23695            14     3100000       59.00           2018-01-15      3   \n",
              "23696            18     2500000       56.70           2018-02-11      2   \n",
              "23697            13    11475000       76.75           2017-03-28      2   \n",
              "23698             4     1350000       32.30           2017-07-21      1   \n",
              "\n",
              "       ceiling_height  floors_total  living_area  floor  is_apartment  ...  \\\n",
              "0                2.70            16         51.0      8         False  ...   \n",
              "1                2.65            11         18.6      1         False  ...   \n",
              "2                2.65             5         34.3      4         False  ...   \n",
              "4                3.03            14         32.0     13         False  ...   \n",
              "5                2.65            12         14.4      5         False  ...   \n",
              "...               ...           ...          ...    ...           ...  ...   \n",
              "23693            2.60             9         40.0      8         False  ...   \n",
              "23695            2.65             5         38.0      4         False  ...   \n",
              "23696            2.65             3         29.7      1         False  ...   \n",
              "23697            3.00            17         30.0     12         False  ...   \n",
              "23698            2.50             5         12.3      1         False  ...   \n",
              "\n",
              "       ponds_around3000  ponds_nearest  days_exposition  \\\n",
              "0                     2            755              NaN   \n",
              "1                     0              0             81.0   \n",
              "2                     2            574            558.0   \n",
              "4                     1             48            121.0   \n",
              "5                     0              0             55.0   \n",
              "...                 ...            ...              ...   \n",
              "23693                 1            675            239.0   \n",
              "23695                 0              0             45.0   \n",
              "23696                 0              0              NaN   \n",
              "23697                 3            196            602.0   \n",
              "23698                 0              0              NaN   \n",
              "\n",
              "       per_square_meter_cost dow  year  month  floor_category  \\\n",
              "0                   120370.0   3  2019      3     другой этаж   \n",
              "1                    82921.0   1  2018     12     первый этаж   \n",
              "2                    92786.0   3  2015      8     другой этаж   \n",
              "4                   100000.0   1  2018      6     другой этаж   \n",
              "5                    95066.0   0  2018      9     другой этаж   \n",
              "...                      ...  ..   ...    ...             ...   \n",
              "23693                73718.0   4  2016      8     другой этаж   \n",
              "23695                52542.0   0  2018      1     другой этаж   \n",
              "23696                44092.0   6  2018      2     первый этаж   \n",
              "23697               149511.0   1  2017      3     другой этаж   \n",
              "23698                41796.0   4  2017      7     первый этаж   \n",
              "\n",
              "       living_vs_total_area  kitchen_vs_total_area  \n",
              "0                      0.47                   0.23  \n",
              "1                      0.46                   0.27  \n",
              "2                      0.61                   0.15  \n",
              "4                      0.32                   0.41  \n",
              "5                      0.47                   0.30  \n",
              "...                     ...                    ...  \n",
              "23693                  0.64                   0.13  \n",
              "23695                  0.64                   0.14  \n",
              "23696                  0.52                   0.16  \n",
              "23697                  0.39                   0.30  \n",
              "23698                  0.38                   0.28  \n",
              "\n",
              "[21702 rows x 29 columns]"
            ]
          },
          "execution_count": 223,
          "metadata": {},
          "output_type": "execute_result"
        }
      ],
      "source": [
        "data_new = data[['last_price','rooms','total_area','ceiling_height', 'city_centers_nearest','floor_category','dow','month','year']]\n",
        "data_new = data.query(('last_price<12000000') and ('2<ceiling_height<2.8') and ('30<total_area<120')) #удалим выбросы, выявленные при построении диаграмм\n",
        "data_new"
      ]
    },
    {
      "cell_type": "markdown",
      "metadata": {
        "id": "Faa85dt8eBV6"
      },
      "source": [
        "Рассмотрим какие факторы больше всего влияют на стоимость квартиры. Для этого изучим, зависит ли цена от площади, числа комнат, удалённости от центра. Определим зависимость цены от того, на каком этаже расположена квартира: первом, последнем или другом. Также изучим зависимость от даты размещения: дня недели, месяца и года.\n",
        "Для наглядного изучения влияния нескольких факторов на стоимость квартиры применим матрицу диаграмм рассеивания. Для этого создадим датафрейм со следующими столбцами: \n",
        "  * стоимость квартиры;\n",
        "  * число комнат;\n",
        "  * площадь квартиры;\n",
        "  * удаленность от центра;\n",
        "  * категория этажа;\n",
        "  * день недели размещения объявления;\n",
        "  * месяц размещения объявления;\n",
        "  * год размещения объявления."
      ]
    },
    {
      "cell_type": "code",
      "execution_count": null,
      "metadata": {
        "id": "S6v3ApIXeBV7"
      },
      "outputs": [],
      "source": [
        "data_new = data[['last_price','rooms','total_area','city_centers_nearest','floor_category','dow','month','year']]"
      ]
    },
    {
      "cell_type": "markdown",
      "metadata": {
        "id": "ssUqA88TeBV7"
      },
      "source": [
        "Посмотрим как влияет площадь квартиры на её стоимость, для этого построим диаграмму рассеяния."
      ]
    },
    {
      "cell_type": "code",
      "execution_count": null,
      "metadata": {
        "id": "h8RI8Kt6eBV7",
        "outputId": "15d0afe1-3d80-4ab5-9357-7d81cc0aea59"
      },
      "outputs": [
        {
          "data": {
            "text/plain": [
              "<AxesSubplot:xlabel='last_price', ylabel='total_area'>"
            ]
          },
          "execution_count": 225,
          "metadata": {},
          "output_type": "execute_result"
        },
        {
          "data": {
            "image/png": "[encoded data removed]",
            "text/plain": [
              "<Figure size 432x288 with 1 Axes>"
            ]
          },
          "metadata": {
            "needs_background": "light"
          },
          "output_type": "display_data"
        }
      ],
      "source": [
        "data_new.plot(x='last_price', y='total_area', kind='scatter', alpha=0.3)"
      ]
    },
    {
      "cell_type": "markdown",
      "metadata": {
        "id": "mxWcwKmHeBV7"
      },
      "source": [
        "График отражает наличие прямой зависимости между стоимостью и площадью. При помощи коэффициента корреляции проверим насколько сильной является данная зависимость."
      ]
    },
    {
      "cell_type": "code",
      "execution_count": null,
      "metadata": {
        "id": "7NZa9gQkeBV8",
        "outputId": "6d2295e5-f189-48c4-bacb-7a41da458134"
      },
      "outputs": [
        {
          "data": {
            "text/plain": [
              "0.6830703737779551"
            ]
          },
          "execution_count": 226,
          "metadata": {},
          "output_type": "execute_result"
        }
      ],
      "source": [
        "data_new['last_price'].corr(data_new['total_area'])"
      ]
    },
    {
      "cell_type": "markdown",
      "metadata": {
        "id": "Mb4DvimXeBV8"
      },
      "source": [
        "Величина коэффициента корреляции показывает наличие умеренного влияния площади квартиры на её стоимость."
      ]
    },
    {
      "cell_type": "markdown",
      "metadata": {
        "id": "D0fiwliGeBV9"
      },
      "source": [
        "Следующим фактором влияния рассмотрим количество комнат."
      ]
    },
    {
      "cell_type": "code",
      "execution_count": null,
      "metadata": {
        "id": "LJjaKvxpeBV9",
        "outputId": "a5f9e28b-5caa-4539-cee1-019c66b09561"
      },
      "outputs": [
        {
          "data": {
            "text/plain": [
              "<AxesSubplot:xlabel='last_price', ylabel='rooms'>"
            ]
          },
          "execution_count": 227,
          "metadata": {},
          "output_type": "execute_result"
        },
        {
          "data": {
            "image/png": "[encoded data removed]",
            "text/plain": [
              "<Figure size 432x288 with 1 Axes>"
            ]
          },
          "metadata": {
            "needs_background": "light"
          },
          "output_type": "display_data"
        }
      ],
      "source": [
        "data_new.plot(x='last_price', y='rooms', kind='scatter', alpha=0.3)"
      ]
    },
    {
      "cell_type": "markdown",
      "metadata": {
        "id": "jXX9628peBV9"
      },
      "source": [
        "На диаграмме видно, что число комнат не сильно влияет на стоимость квартиры - они могут иметь одинаковую стоимость независимо от количества комнат. Скорее всего есть более весомые факторы влияния. Подсчитаем коэффициент корреляции для того, чтобы в этом убедиться.\n"
      ]
    },
    {
      "cell_type": "code",
      "execution_count": null,
      "metadata": {
        "id": "75uu1LHLeBV-",
        "outputId": "c1608cf0-2510-4776-866d-618245e8d94d"
      },
      "outputs": [
        {
          "data": {
            "text/plain": [
              "0.37124424568161607"
            ]
          },
          "execution_count": 228,
          "metadata": {},
          "output_type": "execute_result"
        }
      ],
      "source": [
        "data_new['last_price'].corr(data_new['rooms'])"
      ]
    },
    {
      "cell_type": "markdown",
      "metadata": {
        "id": "qw7LATzqeBV_"
      },
      "source": [
        "Коэффициент корреляции подтверждает наличие несильной зависимости стоимости квартиры от количества комнат."
      ]
    },
    {
      "cell_type": "markdown",
      "metadata": {
        "id": "tJMSvAiIeBV_"
      },
      "source": [
        "Удаленность от центра также наверняка влияет на стоимость квартиры, проверим какова величина и характер этого влияния."
      ]
    },
    {
      "cell_type": "code",
      "execution_count": null,
      "metadata": {
        "id": "eH7jbEYpeBV_",
        "outputId": "e3cc96db-1d65-4bc2-ee7a-f487074a73cf"
      },
      "outputs": [
        {
          "data": {
            "text/plain": [
              "<AxesSubplot:xlabel='last_price', ylabel='city_centers_nearest'>"
            ]
          },
          "execution_count": 229,
          "metadata": {},
          "output_type": "execute_result"
        },
        {
          "data": {
            "image/png": "[encoded data removed]",
            "text/plain": [
              "<Figure size 432x288 with 1 Axes>"
            ]
          },
          "metadata": {
            "needs_background": "light"
          },
          "output_type": "display_data"
        }
      ],
      "source": [
        "data_new.plot(x='last_price', y='city_centers_nearest', kind='scatter', alpha=0.3)"
      ]
    },
    {
      "cell_type": "markdown",
      "metadata": {
        "id": "pioAJp6QeBV_"
      },
      "source": [
        "Если зависимость и есть, то она не слишком большая, для проверки рассчитаем коэффициент корреляции."
      ]
    },
    {
      "cell_type": "code",
      "execution_count": null,
      "metadata": {
        "id": "Au1mzYddeBWA",
        "outputId": "9ba2b21d-4926-425f-e663-b46b0d8d3b6f"
      },
      "outputs": [
        {
          "data": {
            "text/plain": [
              "-0.2726790491952218"
            ]
          },
          "execution_count": 230,
          "metadata": {},
          "output_type": "execute_result"
        }
      ],
      "source": [
        "data_new['last_price'].corr(data_new['city_centers_nearest'])"
      ]
    },
    {
      "cell_type": "markdown",
      "metadata": {
        "id": "B5iMiy-ieBWA"
      },
      "source": [
        "Так и есть - зависимость не совсем большая и к тому же она обратная. Это логисно, поскольку чем больше расстояние от центра, тем меньше цена квартиры."
      ]
    },
    {
      "cell_type": "markdown",
      "metadata": {
        "id": "O9moxVAWeBWB"
      },
      "source": [
        "Проверим, есть ли разница в стоимости в зависимости от категории этажа, на котром располагается квартира."
      ]
    },
    {
      "cell_type": "code",
      "execution_count": null,
      "metadata": {
        "id": "eB6nyaqleBWD",
        "outputId": "44e5bee8-c3d6-462c-bbb0-6d740fc8241b"
      },
      "outputs": [
        {
          "data": {
            "text/plain": [
              "<AxesSubplot:xlabel='floor_category'>"
            ]
          },
          "execution_count": 232,
          "metadata": {},
          "output_type": "execute_result"
        },
        {
          "data": {
            "image/png": "[encoded data removed]",
            "text/plain": [
              "<Figure size 432x288 with 1 Axes>"
            ]
          },
          "metadata": {
            "needs_background": "light"
          },
          "output_type": "display_data"
        }
      ],
      "source": [
        "data_new.groupby('floor_category')['last_price'].median().plot.bar() "
      ]
    },
    {
      "cell_type": "markdown",
      "metadata": {
        "id": "6CDvleEgeBWE"
      },
      "source": [
        "Диаграмма показывает, что самые дешевые квартиры располагаются на первом этаже, последний этаж также является фактором для снижения стоимости недвижимости, но несколько меньшим. Самые же дорогие квартиры располагаются между первым и последним этажами - в категории \"другие\""
      ]
    },
    {
      "cell_type": "markdown",
      "metadata": {
        "id": "IZ8DDUhdeBWE"
      },
      "source": [
        "Перейдем к анализу влияния периода подачи объявления на стоимость квартиры."
      ]
    },
    {
      "cell_type": "code",
      "execution_count": null,
      "metadata": {
        "id": "Tnwu12gFeBWE",
        "outputId": "8a9288c5-6a01-4c3f-daac-358aeac8f988"
      },
      "outputs": [
        {
          "data": {
            "image/png": "[encoded data removed]",
            "text/plain": [
              "<Figure size 432x288 with 1 Axes>"
            ]
          },
          "metadata": {
            "needs_background": "light"
          },
          "output_type": "display_data"
        }
      ],
      "source": [
        "# data_new.query('last_price < 50000000').plot(x='last_price', y='dow', kind='scatter', figsize=(9,9),alpha=1, grid = True); #график зависимости от дня недели\n",
        "# data_new.query('last_price < 50000000').plot(x='last_price', y='month', kind='scatter', figsize=(9,9),alpha=1, grid = True); # график зависисмости от месяца\n",
        "# data_new.query('last_price < 50000000').plot(x='last_price', y='year',  kind='scatter', figsize=(9,9),alpha=1, grid = True); # график зависимости от года\n",
        "data_new.groupby('dow')['last_price'].median().plot.bar().set_title('Распределение по дням недели');"
      ]
    },
    {
      "cell_type": "code",
      "execution_count": null,
      "metadata": {
        "id": "5lo5CqI4eBWF",
        "outputId": "b3b261e8-7afd-475a-9149-ab68925e3b9a"
      },
      "outputs": [
        {
          "data": {
            "image/png": "[encoded data removed]",
            "text/plain": [
              "<Figure size 432x288 with 1 Axes>"
            ]
          },
          "metadata": {
            "needs_background": "light"
          },
          "output_type": "display_data"
        }
      ],
      "source": [
        "data_new.groupby('month')['last_price'].median().plot.bar().set_title('Распределение по месяцам'); # график по новой схеме"
      ]
    },
    {
      "cell_type": "code",
      "execution_count": null,
      "metadata": {
        "id": "HJv7iUs8eBWF",
        "outputId": "83849e3f-7cab-4f6f-cfad-15ffcc9150c0"
      },
      "outputs": [
        {
          "data": {
            "image/png": "[encoded data removed]",
            "text/plain": [
              "<Figure size 432x288 with 1 Axes>"
            ]
          },
          "metadata": {
            "needs_background": "light"
          },
          "output_type": "display_data"
        }
      ],
      "source": [
        "data_new.groupby('year')['last_price'].median().plot.bar().set_title('Распределение по годам'); # график по новой схеме"
      ]
    },
    {
      "cell_type": "markdown",
      "metadata": {
        "id": "gLD5OZOreBWG"
      },
      "source": [
        "* Распределение цен по дням недели показывает, что дороже всего квартиры выставляются по  вторникам. \n",
        "* Разброс цен по месяцам не такой явный, но можно заметить, что самые дешевые квартиры выставляются в  июне, а самые дорогие в апреле.\n",
        "* Распределение цен по годам показывает максимальные показатели стоимости в  2014 году, в 2016 году цены были минимальными и затем снова начали расти."
      ]
    },
    {
      "cell_type": "markdown",
      "metadata": {
        "id": "IV58WzKQeBWG"
      },
      "source": [
        "Следующим шагом определим  10 населённых пунктов с наибольшим числом объявлений и посчитаем среднюю цену квадратного метра в этих населённых пунктах. В результате исследования выделим среди них населённые пункты с самой высокой и низкой стоимостью жилья."
      ]
    },
    {
      "cell_type": "code",
      "execution_count": null,
      "metadata": {
        "scrolled": true,
        "id": "ozXaJDKheBWH",
        "outputId": "fa92bd55-def9-405d-9de1-f2882c00fc3e"
      },
      "outputs": [
        {
          "data": {
            "text/html": [
              "<div>\n",
              "<style scoped>\n",
              "    .dataframe tbody tr th:only-of-type {\n",
              "        vertical-align: middle;\n",
              "    }\n",
              "\n",
              "    .dataframe tbody tr th {\n",
              "        vertical-align: top;\n",
              "    }\n",
              "\n",
              "    .dataframe thead th {\n",
              "        text-align: right;\n",
              "    }\n",
              "</style>\n",
              "<table border=\"1\" class=\"dataframe\">\n",
              "  <thead>\n",
              "    <tr style=\"text-align: right;\">\n",
              "      <th></th>\n",
              "      <th>last_price</th>\n",
              "      <th>sqm_avg</th>\n",
              "    </tr>\n",
              "    <tr>\n",
              "      <th>locality_name</th>\n",
              "      <th></th>\n",
              "      <th></th>\n",
              "    </tr>\n",
              "  </thead>\n",
              "  <tbody>\n",
              "    <tr>\n",
              "      <th>Санкт-Петербург</th>\n",
              "      <td>15721</td>\n",
              "      <td>104762.0</td>\n",
              "    </tr>\n",
              "    <tr>\n",
              "      <th>Пушкин</th>\n",
              "      <td>369</td>\n",
              "      <td>100000.0</td>\n",
              "    </tr>\n",
              "    <tr>\n",
              "      <th>Кудрово</th>\n",
              "      <td>472</td>\n",
              "      <td>95675.5</td>\n",
              "    </tr>\n",
              "    <tr>\n",
              "      <th>Парголово</th>\n",
              "      <td>327</td>\n",
              "      <td>91643.0</td>\n",
              "    </tr>\n",
              "    <tr>\n",
              "      <th>Мурино</th>\n",
              "      <td>590</td>\n",
              "      <td>86175.5</td>\n",
              "    </tr>\n",
              "    <tr>\n",
              "      <th>Шушары</th>\n",
              "      <td>440</td>\n",
              "      <td>76876.0</td>\n",
              "    </tr>\n",
              "    <tr>\n",
              "      <th>Колпино</th>\n",
              "      <td>338</td>\n",
              "      <td>74723.5</td>\n",
              "    </tr>\n",
              "    <tr>\n",
              "      <th>Гатчина</th>\n",
              "      <td>307</td>\n",
              "      <td>67797.0</td>\n",
              "    </tr>\n",
              "    <tr>\n",
              "      <th>Всеволожск</th>\n",
              "      <td>398</td>\n",
              "      <td>65789.0</td>\n",
              "    </tr>\n",
              "    <tr>\n",
              "      <th>Выборг</th>\n",
              "      <td>237</td>\n",
              "      <td>58158.0</td>\n",
              "    </tr>\n",
              "  </tbody>\n",
              "</table>\n",
              "</div>"
            ],
            "text/plain": [
              "                 last_price   sqm_avg\n",
              "locality_name                        \n",
              "Санкт-Петербург       15721  104762.0\n",
              "Пушкин                  369  100000.0\n",
              "Кудрово                 472   95675.5\n",
              "Парголово               327   91643.0\n",
              "Мурино                  590   86175.5\n",
              "Шушары                  440   76876.0\n",
              "Колпино                 338   74723.5\n",
              "Гатчина                 307   67797.0\n",
              "Всеволожск              398   65789.0\n",
              "Выборг                  237   58158.0"
            ]
          },
          "execution_count": 236,
          "metadata": {},
          "output_type": "execute_result"
        }
      ],
      "source": [
        "top_ten = (\n",
        "    data.pivot_table(index='locality_name', values = 'last_price', aggfunc='count') \n",
        "    .sort_values(by='last_price',ascending = False)[0:10] # определяем населенные пункты с наибольшим числом объявлений\n",
        ")\n",
        "top_ten['sqm_avg'] = data.pivot_table(index='locality_name', values = 'per_square_meter_cost',aggfunc = 'median') #добавляем столбец с данными по средней стоимости квадратного метра\n",
        "top_ten.sort_values(by='sqm_avg', ascending = False) #сортируем данные по убыванию стоимости квадратного метра\n"
      ]
    },
    {
      "cell_type": "code",
      "execution_count": null,
      "metadata": {
        "id": "7EEu385beBWH",
        "outputId": "194464ef-d746-4153-a01e-b1dec3cdf454"
      },
      "outputs": [
        {
          "data": {
            "text/plain": [
              "<AxesSubplot:xlabel='locality_name'>"
            ]
          },
          "execution_count": 237,
          "metadata": {},
          "output_type": "execute_result"
        },
        {
          "data": {
            "image/png": "[encoded data removed]",
            "text/plain": [
              "<Figure size 1080x360 with 1 Axes>"
            ]
          },
          "metadata": {
            "needs_background": "light"
          },
          "output_type": "display_data"
        }
      ],
      "source": [
        "top_ten.sort_values(by='sqm_avg', ascending = False)['sqm_avg'].plot(grid=True,style='o-',figsize=(15,5)) #покажем на графике стоимость квадратного метра в зависимости от населенного пункта"
      ]
    },
    {
      "cell_type": "markdown",
      "metadata": {
        "id": "t3JpbeileBWI"
      },
      "source": [
        "Как видно из приведенной таблицы и графика к ней, самые дорогие квартиры продаются в Санкт-Петербурге и Пушкине, самые дешевые в Выборге."
      ]
    },
    {
      "cell_type": "markdown",
      "metadata": {
        "id": "6qQdvSiTeBWI"
      },
      "source": [
        "Следующим шагом изучим предложения квартир с привязкой к  информации о расстоянии до центра. Для рассмотрения будем использовать квартиры в Санкт-Петербурге. В результате исследования выясним, какая область входит в центр. Для решения задачи создадим столбец с расстоянием до центра в километрах, значения округлим до целых чисел. После этого посчитаем среднюю цену для каждого километра. Построим график, который будет показывать как цена зависит от удалённости до центра. Определим границу, где график сильно меняется, — это и будет центральная зона."
      ]
    },
    {
      "cell_type": "code",
      "execution_count": null,
      "metadata": {
        "id": "gMYbWle3eBWJ",
        "outputId": "67430176-cae6-40bf-a090-3b9006d463ab"
      },
      "outputs": [
        {
          "data": {
            "text/plain": [
              "<AxesSubplot:xlabel='city_centers_nearest'>"
            ]
          },
          "execution_count": 238,
          "metadata": {},
          "output_type": "execute_result"
        },
        {
          "data": {
            "image/png": "[encoded data removed]",
            "text/plain": [
              "<Figure size 864x720 with 1 Axes>"
            ]
          },
          "metadata": {
            "needs_background": "light"
          },
          "output_type": "display_data"
        }
      ],
      "source": [
        "spb_data = (\n",
        "    data.query('locality_name == \"Санкт-Петербург\"')\n",
        "    .loc[:,('locality_name','city_centers_nearest','last_price')]\n",
        ")# создадим новый датафрейм с данными по удаленности от центра города и стоимости квартир в Санкт-Петербурге\n",
        "spb_data['city_centers_nearest'] = (spb_data['city_centers_nearest']/1000).round() # пересчитаем удаленность от центра города в километрах\n",
        "spb_data['cost_per_km'] = (spb_data['last_price']/spb_data['city_centers_nearest']).round() #подсчитаем среднюю стоимость квартиры для каждого километра\n",
        "spb_data.plot(x='city_centers_nearest', y='cost_per_km',ylim=(0,25000000),grid = True,style = 'o', figsize=(12,10),alpha=0.3) #построим график зависимости цены от удаленности от центра "
      ]
    },
    {
      "cell_type": "markdown",
      "metadata": {
        "id": "AtbYyR7meBWJ"
      },
      "source": [
        "Как видно на графике, наибольшие цены на квартиры находятся в пределах 1-7 км от центра города, далее стоимость падает практически наполовину. Границей центральной зоны Санкт-Петербурга будем считать расстояние в 7 км от центра города."
      ]
    },
    {
      "cell_type": "markdown",
      "metadata": {
        "id": "7ag9rsaMeBWK"
      },
      "source": [
        "Изучим сегмент квартир в центре. Для этого проанализируем эту территорию и изучим следующие параметры: площадь, цена, число комнат, высота потолков. Также выделим факторы, которые влияют на стоимость квартиры (число комнат, этаж, удалённость от центра, дата размещения объявления).  Определим отличаются ли они от общих выводов по всей базе."
      ]
    },
    {
      "cell_type": "code",
      "execution_count": null,
      "metadata": {
        "id": "dF3Hj_K9eBWK",
        "outputId": "73f5937c-3cb9-46f9-8413-ca5da430e08e"
      },
      "outputs": [
        {
          "data": {
            "text/html": [
              "<div>\n",
              "<style scoped>\n",
              "    .dataframe tbody tr th:only-of-type {\n",
              "        vertical-align: middle;\n",
              "    }\n",
              "\n",
              "    .dataframe tbody tr th {\n",
              "        vertical-align: top;\n",
              "    }\n",
              "\n",
              "    .dataframe thead th {\n",
              "        text-align: right;\n",
              "    }\n",
              "</style>\n",
              "<table border=\"1\" class=\"dataframe\">\n",
              "  <thead>\n",
              "    <tr style=\"text-align: right;\">\n",
              "      <th></th>\n",
              "      <th>total_area</th>\n",
              "      <th>floor_category</th>\n",
              "      <th>last_price</th>\n",
              "      <th>rooms</th>\n",
              "      <th>ceiling_height</th>\n",
              "      <th>dow</th>\n",
              "      <th>month</th>\n",
              "      <th>year</th>\n",
              "      <th>city_centers_nearest</th>\n",
              "    </tr>\n",
              "  </thead>\n",
              "  <tbody>\n",
              "    <tr>\n",
              "      <th>3</th>\n",
              "      <td>159.00</td>\n",
              "      <td>другой этаж</td>\n",
              "      <td>64900000</td>\n",
              "      <td>3</td>\n",
              "      <td>2.65</td>\n",
              "      <td>4</td>\n",
              "      <td>7</td>\n",
              "      <td>2015</td>\n",
              "      <td>7.0</td>\n",
              "    </tr>\n",
              "    <tr>\n",
              "      <th>24</th>\n",
              "      <td>97.20</td>\n",
              "      <td>первый этаж</td>\n",
              "      <td>6500000</td>\n",
              "      <td>2</td>\n",
              "      <td>2.65</td>\n",
              "      <td>5</td>\n",
              "      <td>10</td>\n",
              "      <td>2015</td>\n",
              "      <td>2.0</td>\n",
              "    </tr>\n",
              "    <tr>\n",
              "      <th>35</th>\n",
              "      <td>149.00</td>\n",
              "      <td>другой этаж</td>\n",
              "      <td>15500000</td>\n",
              "      <td>5</td>\n",
              "      <td>2.65</td>\n",
              "      <td>0</td>\n",
              "      <td>6</td>\n",
              "      <td>2017</td>\n",
              "      <td>4.0</td>\n",
              "    </tr>\n",
              "    <tr>\n",
              "      <th>51</th>\n",
              "      <td>161.00</td>\n",
              "      <td>другой этаж</td>\n",
              "      <td>45000000</td>\n",
              "      <td>3</td>\n",
              "      <td>3.20</td>\n",
              "      <td>1</td>\n",
              "      <td>10</td>\n",
              "      <td>2017</td>\n",
              "      <td>7.0</td>\n",
              "    </tr>\n",
              "    <tr>\n",
              "      <th>52</th>\n",
              "      <td>136.00</td>\n",
              "      <td>последний этаж</td>\n",
              "      <td>11795000</td>\n",
              "      <td>6</td>\n",
              "      <td>3.00</td>\n",
              "      <td>4</td>\n",
              "      <td>9</td>\n",
              "      <td>2017</td>\n",
              "      <td>7.0</td>\n",
              "    </tr>\n",
              "    <tr>\n",
              "      <th>...</th>\n",
              "      <td>...</td>\n",
              "      <td>...</td>\n",
              "      <td>...</td>\n",
              "      <td>...</td>\n",
              "      <td>...</td>\n",
              "      <td>...</td>\n",
              "      <td>...</td>\n",
              "      <td>...</td>\n",
              "      <td>...</td>\n",
              "    </tr>\n",
              "    <tr>\n",
              "      <th>23665</th>\n",
              "      <td>47.00</td>\n",
              "      <td>первый этаж</td>\n",
              "      <td>4250000</td>\n",
              "      <td>1</td>\n",
              "      <td>2.65</td>\n",
              "      <td>4</td>\n",
              "      <td>5</td>\n",
              "      <td>2016</td>\n",
              "      <td>5.0</td>\n",
              "    </tr>\n",
              "    <tr>\n",
              "      <th>23681</th>\n",
              "      <td>43.00</td>\n",
              "      <td>другой этаж</td>\n",
              "      <td>5250000</td>\n",
              "      <td>2</td>\n",
              "      <td>2.50</td>\n",
              "      <td>4</td>\n",
              "      <td>5</td>\n",
              "      <td>2018</td>\n",
              "      <td>7.0</td>\n",
              "    </tr>\n",
              "    <tr>\n",
              "      <th>23690</th>\n",
              "      <td>52.00</td>\n",
              "      <td>другой этаж</td>\n",
              "      <td>5500000</td>\n",
              "      <td>2</td>\n",
              "      <td>2.65</td>\n",
              "      <td>3</td>\n",
              "      <td>7</td>\n",
              "      <td>2018</td>\n",
              "      <td>6.0</td>\n",
              "    </tr>\n",
              "    <tr>\n",
              "      <th>23691</th>\n",
              "      <td>72.90</td>\n",
              "      <td>другой этаж</td>\n",
              "      <td>9470000</td>\n",
              "      <td>2</td>\n",
              "      <td>2.75</td>\n",
              "      <td>3</td>\n",
              "      <td>10</td>\n",
              "      <td>2016</td>\n",
              "      <td>4.0</td>\n",
              "    </tr>\n",
              "    <tr>\n",
              "      <th>23694</th>\n",
              "      <td>133.81</td>\n",
              "      <td>другой этаж</td>\n",
              "      <td>9700000</td>\n",
              "      <td>3</td>\n",
              "      <td>3.70</td>\n",
              "      <td>1</td>\n",
              "      <td>3</td>\n",
              "      <td>2017</td>\n",
              "      <td>4.0</td>\n",
              "    </tr>\n",
              "  </tbody>\n",
              "</table>\n",
              "<p>3525 rows × 9 columns</p>\n",
              "</div>"
            ],
            "text/plain": [
              "       total_area  floor_category  last_price  rooms  ceiling_height  dow  \\\n",
              "3          159.00     другой этаж    64900000      3            2.65    4   \n",
              "24          97.20     первый этаж     6500000      2            2.65    5   \n",
              "35         149.00     другой этаж    15500000      5            2.65    0   \n",
              "51         161.00     другой этаж    45000000      3            3.20    1   \n",
              "52         136.00  последний этаж    11795000      6            3.00    4   \n",
              "...           ...             ...         ...    ...             ...  ...   \n",
              "23665       47.00     первый этаж     4250000      1            2.65    4   \n",
              "23681       43.00     другой этаж     5250000      2            2.50    4   \n",
              "23690       52.00     другой этаж     5500000      2            2.65    3   \n",
              "23691       72.90     другой этаж     9470000      2            2.75    3   \n",
              "23694      133.81     другой этаж     9700000      3            3.70    1   \n",
              "\n",
              "       month  year  city_centers_nearest  \n",
              "3          7  2015                   7.0  \n",
              "24        10  2015                   2.0  \n",
              "35         6  2017                   4.0  \n",
              "51        10  2017                   7.0  \n",
              "52         9  2017                   7.0  \n",
              "...      ...   ...                   ...  \n",
              "23665      5  2016                   5.0  \n",
              "23681      5  2018                   7.0  \n",
              "23690      7  2018                   6.0  \n",
              "23691     10  2016                   4.0  \n",
              "23694      3  2017                   4.0  \n",
              "\n",
              "[3525 rows x 9 columns]"
            ]
          },
          "execution_count": 239,
          "metadata": {},
          "output_type": "execute_result"
        }
      ],
      "source": [
        "spb_data_new =( #создадим датафрейм по квартирам, проданным в Санкт-Петербурге с данными по общей площади, цене, количеству комнат\n",
        "    data.query('locality_name == \"Санкт-Петербург\"') # дню недели, месяцу и году размещения объявления\n",
        "    .loc[:,('total_area','floor_category','last_price','rooms','ceiling_height','dow','month','year')]\n",
        ")\n",
        "spb_data_new['city_centers_nearest'] = (data['city_centers_nearest']/1000).round()\n",
        "spb_central = spb_data_new.query('0<=city_centers_nearest<=7') #сделаем срез по квартирам, находящимся на расстоянии от 0 до 7 км от центра города\n",
        "spb_central"
      ]
    },
    {
      "cell_type": "code",
      "execution_count": null,
      "metadata": {
        "scrolled": true,
        "id": "4eG13JAxeBWL",
        "outputId": "8ceb47c3-984f-4749-d4b9-973a6c5a81b2"
      },
      "outputs": [
        {
          "data": {
            "text/html": [
              "<div>\n",
              "<style scoped>\n",
              "    .dataframe tbody tr th:only-of-type {\n",
              "        vertical-align: middle;\n",
              "    }\n",
              "\n",
              "    .dataframe tbody tr th {\n",
              "        vertical-align: top;\n",
              "    }\n",
              "\n",
              "    .dataframe thead th {\n",
              "        text-align: right;\n",
              "    }\n",
              "</style>\n",
              "<table border=\"1\" class=\"dataframe\">\n",
              "  <thead>\n",
              "    <tr style=\"text-align: right;\">\n",
              "      <th></th>\n",
              "      <th>total_area</th>\n",
              "      <th>last_price</th>\n",
              "      <th>rooms</th>\n",
              "      <th>ceiling_height</th>\n",
              "      <th>dow</th>\n",
              "      <th>month</th>\n",
              "      <th>year</th>\n",
              "      <th>city_centers_nearest</th>\n",
              "    </tr>\n",
              "  </thead>\n",
              "  <tbody>\n",
              "    <tr>\n",
              "      <th>count</th>\n",
              "      <td>3525.000000</td>\n",
              "      <td>3.525000e+03</td>\n",
              "      <td>3525.000000</td>\n",
              "      <td>3525.000000</td>\n",
              "      <td>3525.000000</td>\n",
              "      <td>3525.000000</td>\n",
              "      <td>3525.000000</td>\n",
              "      <td>3525.000000</td>\n",
              "    </tr>\n",
              "    <tr>\n",
              "      <th>mean</th>\n",
              "      <td>93.168641</td>\n",
              "      <td>1.489553e+07</td>\n",
              "      <td>2.834326</td>\n",
              "      <td>2.953898</td>\n",
              "      <td>2.514043</td>\n",
              "      <td>6.427518</td>\n",
              "      <td>2017.171064</td>\n",
              "      <td>4.499858</td>\n",
              "    </tr>\n",
              "    <tr>\n",
              "      <th>std</th>\n",
              "      <td>59.473561</td>\n",
              "      <td>2.432091e+07</td>\n",
              "      <td>1.449808</td>\n",
              "      <td>0.736863</td>\n",
              "      <td>1.719105</td>\n",
              "      <td>3.453384</td>\n",
              "      <td>1.125225</td>\n",
              "      <td>1.688014</td>\n",
              "    </tr>\n",
              "    <tr>\n",
              "      <th>min</th>\n",
              "      <td>12.000000</td>\n",
              "      <td>1.600000e+06</td>\n",
              "      <td>0.000000</td>\n",
              "      <td>2.400000</td>\n",
              "      <td>0.000000</td>\n",
              "      <td>1.000000</td>\n",
              "      <td>2014.000000</td>\n",
              "      <td>0.000000</td>\n",
              "    </tr>\n",
              "    <tr>\n",
              "      <th>25%</th>\n",
              "      <td>57.000000</td>\n",
              "      <td>6.690000e+06</td>\n",
              "      <td>2.000000</td>\n",
              "      <td>2.650000</td>\n",
              "      <td>1.000000</td>\n",
              "      <td>3.000000</td>\n",
              "      <td>2017.000000</td>\n",
              "      <td>4.000000</td>\n",
              "    </tr>\n",
              "    <tr>\n",
              "      <th>50%</th>\n",
              "      <td>78.700000</td>\n",
              "      <td>9.200000e+06</td>\n",
              "      <td>3.000000</td>\n",
              "      <td>2.800000</td>\n",
              "      <td>3.000000</td>\n",
              "      <td>6.000000</td>\n",
              "      <td>2017.000000</td>\n",
              "      <td>5.000000</td>\n",
              "    </tr>\n",
              "    <tr>\n",
              "      <th>75%</th>\n",
              "      <td>110.000000</td>\n",
              "      <td>1.450000e+07</td>\n",
              "      <td>3.000000</td>\n",
              "      <td>3.150000</td>\n",
              "      <td>4.000000</td>\n",
              "      <td>10.000000</td>\n",
              "      <td>2018.000000</td>\n",
              "      <td>6.000000</td>\n",
              "    </tr>\n",
              "    <tr>\n",
              "      <th>max</th>\n",
              "      <td>631.200000</td>\n",
              "      <td>7.630000e+08</td>\n",
              "      <td>19.000000</td>\n",
              "      <td>32.000000</td>\n",
              "      <td>6.000000</td>\n",
              "      <td>12.000000</td>\n",
              "      <td>2019.000000</td>\n",
              "      <td>7.000000</td>\n",
              "    </tr>\n",
              "  </tbody>\n",
              "</table>\n",
              "</div>"
            ],
            "text/plain": [
              "        total_area    last_price        rooms  ceiling_height          dow  \\\n",
              "count  3525.000000  3.525000e+03  3525.000000     3525.000000  3525.000000   \n",
              "mean     93.168641  1.489553e+07     2.834326        2.953898     2.514043   \n",
              "std      59.473561  2.432091e+07     1.449808        0.736863     1.719105   \n",
              "min      12.000000  1.600000e+06     0.000000        2.400000     0.000000   \n",
              "25%      57.000000  6.690000e+06     2.000000        2.650000     1.000000   \n",
              "50%      78.700000  9.200000e+06     3.000000        2.800000     3.000000   \n",
              "75%     110.000000  1.450000e+07     3.000000        3.150000     4.000000   \n",
              "max     631.200000  7.630000e+08    19.000000       32.000000     6.000000   \n",
              "\n",
              "             month         year  city_centers_nearest  \n",
              "count  3525.000000  3525.000000           3525.000000  \n",
              "mean      6.427518  2017.171064              4.499858  \n",
              "std       3.453384     1.125225              1.688014  \n",
              "min       1.000000  2014.000000              0.000000  \n",
              "25%       3.000000  2017.000000              4.000000  \n",
              "50%       6.000000  2017.000000              5.000000  \n",
              "75%      10.000000  2018.000000              6.000000  \n",
              "max      12.000000  2019.000000              7.000000  "
            ]
          },
          "execution_count": 240,
          "metadata": {},
          "output_type": "execute_result"
        }
      ],
      "source": [
        "spb_central.describe()"
      ]
    },
    {
      "cell_type": "markdown",
      "metadata": {
        "id": "ErB-BC-3eBWM"
      },
      "source": [
        "Из описания датафрейма видно, что \"медианная\" квартира в центре имеет следующие характеристики: 3-х комнатная квартира с общей площадью 78 кв.м и выстой потолка 2,8 м по цене 5 млн. руб. в 5 км от центра города. Посмотрим как разные факторы влияют на стоимость квартир в центре."
      ]
    },
    {
      "cell_type": "code",
      "execution_count": null,
      "metadata": {
        "id": "OCL_CJZUeBWM",
        "outputId": "9a6233f0-c2c4-44d1-84db-1efb38e60983"
      },
      "outputs": [
        {
          "data": {
            "image/png": "[encoded data removed]",
            "text/plain": [
              "<Figure size 432x288 with 1 Axes>"
            ]
          },
          "metadata": {
            "needs_background": "light"
          },
          "output_type": "display_data"
        },
        {
          "data": {
            "image/png": "[encoded data removed]",
            "text/plain": [
              "<Figure size 432x288 with 1 Axes>"
            ]
          },
          "metadata": {
            "needs_background": "light"
          },
          "output_type": "display_data"
        },
        {
          "data": {
            "image/png": "[encoded data removed]",
            "text/plain": [
              "<Figure size 432x288 with 1 Axes>"
            ]
          },
          "metadata": {
            "needs_background": "light"
          },
          "output_type": "display_data"
        },
        {
          "data": {
            "image/png": "[encoded data removed]",
            "text/plain": [
              "<Figure size 432x288 with 1 Axes>"
            ]
          },
          "metadata": {
            "needs_background": "light"
          },
          "output_type": "display_data"
        },
        {
          "data": {
            "image/png": "[encoded data removed]",
            "text/plain": [
              "<Figure size 432x288 with 1 Axes>"
            ]
          },
          "metadata": {
            "needs_background": "light"
          },
          "output_type": "display_data"
        },
        {
          "data": {
            "image/png": "[encoded data removed]",
            "text/plain": [
              "<Figure size 432x288 with 1 Axes>"
            ]
          },
          "metadata": {
            "needs_background": "light"
          },
          "output_type": "display_data"
        }
      ],
      "source": [
        "spb_central.plot(x='last_price', xlim=(0,75000000), y='rooms',kind='scatter', alpha=0.3, title = 'ROOMS');\n",
        "spb_central.plot(x='last_price',xlim=(0,75000000), y='city_centers_nearest', kind='scatter', alpha=0.3, title = 'HOW FAR FROM CENTER');\n",
        "spb_central.plot(x='last_price',xlim=(0,75000000), y='floor_category', kind='scatter', alpha=0.3, title = 'FLOOR');\n",
        "spb_central.plot(x='last_price',xlim=(0,75000000), y='dow', kind='scatter', alpha=0.3, title = 'DAY OF WEEK');\n",
        "spb_central.plot(x='last_price',xlim=(0,75000000), y='month', kind='scatter', alpha=0.3, title = 'MONTH');\n",
        "spb_central.plot(x='last_price',xlim=(0,75000000), y='year', kind='scatter', alpha=0.3, title = 'YEAR');"
      ]
    },
    {
      "cell_type": "markdown",
      "metadata": {
        "id": "eSMnMbwWeBWO"
      },
      "source": [
        "\n",
        "Ниже построим дополнительные бар-плоты.\n"
      ]
    },
    {
      "cell_type": "code",
      "execution_count": null,
      "metadata": {
        "id": "_1qaSRVgeBWO",
        "outputId": "1e9e4865-fa2e-4957-97f9-349e8f40bbfe"
      },
      "outputs": [
        {
          "data": {
            "image/png": "[encoded data removed]",
            "text/plain": [
              "<Figure size 432x288 with 1 Axes>"
            ]
          },
          "metadata": {
            "needs_background": "light"
          },
          "output_type": "display_data"
        }
      ],
      "source": [
        "\n",
        "spb_central.groupby('city_centers_nearest')['last_price'].median().plot.bar().set_title('Распределение по удаленности от центра');"
      ]
    },
    {
      "cell_type": "code",
      "execution_count": null,
      "metadata": {
        "id": "Vwap61t7eBWP",
        "outputId": "df678c4d-591b-46f1-c2cb-dea3c4e6a0a9"
      },
      "outputs": [
        {
          "data": {
            "image/png": "[encoded data removed]",
            "text/plain": [
              "<Figure size 432x288 with 1 Axes>"
            ]
          },
          "metadata": {
            "needs_background": "light"
          },
          "output_type": "display_data"
        }
      ],
      "source": [
        "spb_central.groupby('floor_category')['last_price'].median().plot.bar().set_title('Распределение по категории этажа');\n"
      ]
    },
    {
      "cell_type": "code",
      "execution_count": null,
      "metadata": {
        "id": "G4TYPdfeeBWQ",
        "outputId": "39676564-913e-41ea-a153-5089ab9ceea2"
      },
      "outputs": [
        {
          "data": {
            "image/png": "[encoded data removed]",
            "text/plain": [
              "<Figure size 432x288 with 1 Axes>"
            ]
          },
          "metadata": {
            "needs_background": "light"
          },
          "output_type": "display_data"
        }
      ],
      "source": [
        "spb_central.groupby('dow')['last_price'].median().plot.bar().set_title('Распределение по дням недели');\n"
      ]
    },
    {
      "cell_type": "code",
      "execution_count": null,
      "metadata": {
        "id": "7_JPa7ppeBWQ",
        "outputId": "e1e367de-0a85-4490-f10b-00756d4beb0d"
      },
      "outputs": [
        {
          "data": {
            "image/png": "[encoded data removed]",
            "text/plain": [
              "<Figure size 432x288 with 1 Axes>"
            ]
          },
          "metadata": {
            "needs_background": "light"
          },
          "output_type": "display_data"
        }
      ],
      "source": [
        "spb_central.groupby('month')['last_price'].median().plot.bar().set_title('Распределение по месяцам');\n"
      ]
    },
    {
      "cell_type": "code",
      "execution_count": null,
      "metadata": {
        "id": "dnWCsIDReBWR",
        "outputId": "9ec79280-a14d-4df4-b798-3f8c534452c3"
      },
      "outputs": [
        {
          "data": {
            "image/png": "[encoded data removed]",
            "text/plain": [
              "<Figure size 432x288 with 1 Axes>"
            ]
          },
          "metadata": {
            "needs_background": "light"
          },
          "output_type": "display_data"
        }
      ],
      "source": [
        "spb_central.groupby('year')['last_price'].median().plot.bar().set_title('Распределение по годам');"
      ]
    },
    {
      "cell_type": "markdown",
      "metadata": {
        "id": "OHv6rYdweBWS"
      },
      "source": [
        "Диаграммы по общему датафрейму и по выборке квартир из центра города очень похожи и показывают наличие следующих связей между показателями:\n",
        " - чем больше площадь квартиры, тем больше её цена;\n",
        " - самые дешевые квартиры на первом этаже, на последнем этаже они немного подороже, самые дорогие квартиры находятся между первым и последним этажами;\n",
        " - наибольшие цены на квартиры наблюдаются на расстоянии  0 - 2 км от центра города;\n",
        " - самые дорогие квартиры выставляются по  воскресеньям;\n",
        " - распределение объявлений по месяцам показывает, что самые дорогие квартиры появляются в объявлениях в  январе, сентябре и ноябре;\n",
        " - в  2014 году были самые высокие цены на квартиры, с 2015 по 2018 год наблюдается снижение стоимости, в 2019 году снова повышение сцен."
      ]
    },
    {
      "cell_type": "markdown",
      "metadata": {
        "id": "n_Uy7EDmeBWU"
      },
      "source": [
        "## Общий вывод"
      ]
    },
    {
      "cell_type": "markdown",
      "metadata": {
        "id": "S85xH1k6eBWU"
      },
      "source": [
        "В ходе исследования была рассмотрена выборка объявлений, размещенных в период 2014 - 2019 годов.\n",
        "Было обнаружено, что большинство выставляемых квартир имеют общую площадь от 30 до 60 квадратных метров, имеют 1-3 комнаты. С даты размещения объявления на сайте до даты его удаления проходит в среднем 95 дней. Продажу квартиры можно считать быстрой, если её покупают в срок до 45 дней с даты размещения объявления и наоборот долгой, если объявление размещено на сайте больше 200 дней. Цена квартиры имеет небольшую зависимость от количества комнат в ней (коэффициент корреляции 0,36), а влияние площади квартиры почти в 2 раза больше сказывается на конечной цене продажи ( корреляция 0,64). Удаленность от центра также имеет влияние на стоимость квартиры, но она несколько ниже, чем 2 предыдущих фактора (-0,19) - чем дальше квартира от центра города, тем она дешевле. Самую дешевую квартиру можно купить на первом этаже, квартиры на последнем этаже немного подороже, а самые дорогие квартиры располагаются между первым и последним этажами. Цена продажи зависит от времени следующим ообразом: \n",
        " * самые дорогие квартиры выставляются по четвергам, а в выходные дни можно поймать предложение подешевле;\n",
        " * в марте и ноябре квартиры стоят дороже, а в мае и августе цена в объявлениях снижается;\n",
        " * за рассмотренный период 2014 - 2019 гг. самые дорогие квартиры продавались в 2017 году, а в 2018 - 2019 годах наблюдается некоторый спад в цене.\n",
        " \n",
        "Больше всего квартир, судя по количеству объявлений, продается в Санкт-Петербурге и в Пушкине, а минимальное количество объявлений в Выборге. \n",
        "Самые дорогие квартиры ожидаемо находятся в центре Санкт-Петербурга. За центр города, исходя из распределения цен по расстоянию, стоит принимать объекты на расстоянии от 0 до 7 км от центра города. \n"
      ]
    },
    {
      "cell_type": "code",
      "execution_count": null,
      "metadata": {
        "id": "hzunl3ageBWV",
        "outputId": "feb6e4e9-cb2f-454d-bcc7-b635ffd5a4e4"
      },
      "outputs": [
        {
          "data": {
            "text/html": [
              "<div>\n",
              "<style scoped>\n",
              "    .dataframe tbody tr th:only-of-type {\n",
              "        vertical-align: middle;\n",
              "    }\n",
              "\n",
              "    .dataframe tbody tr th {\n",
              "        vertical-align: top;\n",
              "    }\n",
              "\n",
              "    .dataframe thead th {\n",
              "        text-align: right;\n",
              "    }\n",
              "</style>\n",
              "<table border=\"1\" class=\"dataframe\">\n",
              "  <thead>\n",
              "    <tr style=\"text-align: right;\">\n",
              "      <th></th>\n",
              "      <th>total_images</th>\n",
              "      <th>last_price</th>\n",
              "      <th>total_area</th>\n",
              "      <th>rooms</th>\n",
              "      <th>ceiling_height</th>\n",
              "      <th>floors_total</th>\n",
              "      <th>living_area</th>\n",
              "      <th>floor</th>\n",
              "      <th>kitchen_area</th>\n",
              "      <th>balcony</th>\n",
              "      <th>...</th>\n",
              "      <th>parks_nearest</th>\n",
              "      <th>ponds_around3000</th>\n",
              "      <th>ponds_nearest</th>\n",
              "      <th>days_exposition</th>\n",
              "      <th>per_square_meter_cost</th>\n",
              "      <th>dow</th>\n",
              "      <th>year</th>\n",
              "      <th>month</th>\n",
              "      <th>living_vs_total_area</th>\n",
              "      <th>kitchen_vs_total_area</th>\n",
              "    </tr>\n",
              "  </thead>\n",
              "  <tbody>\n",
              "    <tr>\n",
              "      <th>count</th>\n",
              "      <td>21702.000000</td>\n",
              "      <td>2.170200e+04</td>\n",
              "      <td>21702.000000</td>\n",
              "      <td>21702.000000</td>\n",
              "      <td>21702.000000</td>\n",
              "      <td>21702.000000</td>\n",
              "      <td>21702.000000</td>\n",
              "      <td>21702.000000</td>\n",
              "      <td>21702.000000</td>\n",
              "      <td>21702.000000</td>\n",
              "      <td>...</td>\n",
              "      <td>21702.000000</td>\n",
              "      <td>21702.000000</td>\n",
              "      <td>21702.000000</td>\n",
              "      <td>18896.000000</td>\n",
              "      <td>21702.000000</td>\n",
              "      <td>21702.000000</td>\n",
              "      <td>21702.000000</td>\n",
              "      <td>21702.000000</td>\n",
              "      <td>21702.000000</td>\n",
              "      <td>21702.000000</td>\n",
              "    </tr>\n",
              "    <tr>\n",
              "      <th>mean</th>\n",
              "      <td>9.858677</td>\n",
              "      <td>5.480042e+06</td>\n",
              "      <td>55.903845</td>\n",
              "      <td>2.005529</td>\n",
              "      <td>2.707419</td>\n",
              "      <td>10.752097</td>\n",
              "      <td>31.756635</td>\n",
              "      <td>5.902037</td>\n",
              "      <td>9.983337</td>\n",
              "      <td>0.602110</td>\n",
              "      <td>...</td>\n",
              "      <td>163.579762</td>\n",
              "      <td>0.566538</td>\n",
              "      <td>196.343563</td>\n",
              "      <td>177.642358</td>\n",
              "      <td>96064.440651</td>\n",
              "      <td>2.571975</td>\n",
              "      <td>2017.378168</td>\n",
              "      <td>6.399088</td>\n",
              "      <td>0.564266</td>\n",
              "      <td>0.188454</td>\n",
              "    </tr>\n",
              "    <tr>\n",
              "      <th>std</th>\n",
              "      <td>5.628883</td>\n",
              "      <td>3.545103e+06</td>\n",
              "      <td>19.514692</td>\n",
              "      <td>0.892171</td>\n",
              "      <td>0.766446</td>\n",
              "      <td>6.602697</td>\n",
              "      <td>13.202023</td>\n",
              "      <td>4.886999</td>\n",
              "      <td>4.320608</td>\n",
              "      <td>0.960614</td>\n",
              "      <td>...</td>\n",
              "      <td>306.550332</td>\n",
              "      <td>0.863619</td>\n",
              "      <td>305.286810</td>\n",
              "      <td>215.452592</td>\n",
              "      <td>38297.913463</td>\n",
              "      <td>1.792096</td>\n",
              "      <td>1.030823</td>\n",
              "      <td>3.493485</td>\n",
              "      <td>0.112617</td>\n",
              "      <td>0.071124</td>\n",
              "    </tr>\n",
              "    <tr>\n",
              "      <th>min</th>\n",
              "      <td>0.000000</td>\n",
              "      <td>1.219000e+04</td>\n",
              "      <td>30.100000</td>\n",
              "      <td>0.000000</td>\n",
              "      <td>1.000000</td>\n",
              "      <td>1.000000</td>\n",
              "      <td>2.000000</td>\n",
              "      <td>1.000000</td>\n",
              "      <td>2.000000</td>\n",
              "      <td>0.000000</td>\n",
              "      <td>...</td>\n",
              "      <td>0.000000</td>\n",
              "      <td>0.000000</td>\n",
              "      <td>0.000000</td>\n",
              "      <td>1.000000</td>\n",
              "      <td>112.000000</td>\n",
              "      <td>0.000000</td>\n",
              "      <td>2014.000000</td>\n",
              "      <td>1.000000</td>\n",
              "      <td>0.040000</td>\n",
              "      <td>0.040000</td>\n",
              "    </tr>\n",
              "    <tr>\n",
              "      <th>25%</th>\n",
              "      <td>6.000000</td>\n",
              "      <td>3.500000e+06</td>\n",
              "      <td>41.000000</td>\n",
              "      <td>1.000000</td>\n",
              "      <td>2.600000</td>\n",
              "      <td>5.000000</td>\n",
              "      <td>19.600000</td>\n",
              "      <td>2.000000</td>\n",
              "      <td>7.300000</td>\n",
              "      <td>0.000000</td>\n",
              "      <td>...</td>\n",
              "      <td>0.000000</td>\n",
              "      <td>0.000000</td>\n",
              "      <td>0.000000</td>\n",
              "      <td>45.000000</td>\n",
              "      <td>75582.000000</td>\n",
              "      <td>1.000000</td>\n",
              "      <td>2017.000000</td>\n",
              "      <td>3.000000</td>\n",
              "      <td>0.490000</td>\n",
              "      <td>0.140000</td>\n",
              "    </tr>\n",
              "    <tr>\n",
              "      <th>50%</th>\n",
              "      <td>9.000000</td>\n",
              "      <td>4.600000e+06</td>\n",
              "      <td>52.000000</td>\n",
              "      <td>2.000000</td>\n",
              "      <td>2.650000</td>\n",
              "      <td>9.000000</td>\n",
              "      <td>30.000000</td>\n",
              "      <td>4.000000</td>\n",
              "      <td>9.100000</td>\n",
              "      <td>0.000000</td>\n",
              "      <td>...</td>\n",
              "      <td>0.000000</td>\n",
              "      <td>0.000000</td>\n",
              "      <td>0.000000</td>\n",
              "      <td>94.000000</td>\n",
              "      <td>93824.000000</td>\n",
              "      <td>3.000000</td>\n",
              "      <td>2017.000000</td>\n",
              "      <td>6.000000</td>\n",
              "      <td>0.570000</td>\n",
              "      <td>0.170000</td>\n",
              "    </tr>\n",
              "    <tr>\n",
              "      <th>75%</th>\n",
              "      <td>14.000000</td>\n",
              "      <td>6.497750e+06</td>\n",
              "      <td>67.000000</td>\n",
              "      <td>3.000000</td>\n",
              "      <td>2.700000</td>\n",
              "      <td>16.000000</td>\n",
              "      <td>40.000000</td>\n",
              "      <td>8.000000</td>\n",
              "      <td>11.000000</td>\n",
              "      <td>1.000000</td>\n",
              "      <td>...</td>\n",
              "      <td>285.000000</td>\n",
              "      <td>1.000000</td>\n",
              "      <td>378.750000</td>\n",
              "      <td>227.000000</td>\n",
              "      <td>112307.250000</td>\n",
              "      <td>4.000000</td>\n",
              "      <td>2018.000000</td>\n",
              "      <td>10.000000</td>\n",
              "      <td>0.640000</td>\n",
              "      <td>0.230000</td>\n",
              "    </tr>\n",
              "    <tr>\n",
              "      <th>max</th>\n",
              "      <td>50.000000</td>\n",
              "      <td>8.200000e+07</td>\n",
              "      <td>119.800000</td>\n",
              "      <td>7.000000</td>\n",
              "      <td>32.000000</td>\n",
              "      <td>60.000000</td>\n",
              "      <td>101.000000</td>\n",
              "      <td>33.000000</td>\n",
              "      <td>64.000000</td>\n",
              "      <td>5.000000</td>\n",
              "      <td>...</td>\n",
              "      <td>3190.000000</td>\n",
              "      <td>3.000000</td>\n",
              "      <td>1344.000000</td>\n",
              "      <td>1580.000000</td>\n",
              "      <td>848485.000000</td>\n",
              "      <td>6.000000</td>\n",
              "      <td>2019.000000</td>\n",
              "      <td>12.000000</td>\n",
              "      <td>1.000000</td>\n",
              "      <td>0.790000</td>\n",
              "    </tr>\n",
              "  </tbody>\n",
              "</table>\n",
              "<p>8 rows × 23 columns</p>\n",
              "</div>"
            ],
            "text/plain": [
              "       total_images    last_price    total_area         rooms  ceiling_height  \\\n",
              "count  21702.000000  2.170200e+04  21702.000000  21702.000000    21702.000000   \n",
              "mean       9.858677  5.480042e+06     55.903845      2.005529        2.707419   \n",
              "std        5.628883  3.545103e+06     19.514692      0.892171        0.766446   \n",
              "min        0.000000  1.219000e+04     30.100000      0.000000        1.000000   \n",
              "25%        6.000000  3.500000e+06     41.000000      1.000000        2.600000   \n",
              "50%        9.000000  4.600000e+06     52.000000      2.000000        2.650000   \n",
              "75%       14.000000  6.497750e+06     67.000000      3.000000        2.700000   \n",
              "max       50.000000  8.200000e+07    119.800000      7.000000       32.000000   \n",
              "\n",
              "       floors_total   living_area         floor  kitchen_area       balcony  \\\n",
              "count  21702.000000  21702.000000  21702.000000  21702.000000  21702.000000   \n",
              "mean      10.752097     31.756635      5.902037      9.983337      0.602110   \n",
              "std        6.602697     13.202023      4.886999      4.320608      0.960614   \n",
              "min        1.000000      2.000000      1.000000      2.000000      0.000000   \n",
              "25%        5.000000     19.600000      2.000000      7.300000      0.000000   \n",
              "50%        9.000000     30.000000      4.000000      9.100000      0.000000   \n",
              "75%       16.000000     40.000000      8.000000     11.000000      1.000000   \n",
              "max       60.000000    101.000000     33.000000     64.000000      5.000000   \n",
              "\n",
              "       ...  parks_nearest  ponds_around3000  ponds_nearest  days_exposition  \\\n",
              "count  ...   21702.000000      21702.000000   21702.000000     18896.000000   \n",
              "mean   ...     163.579762          0.566538     196.343563       177.642358   \n",
              "std    ...     306.550332          0.863619     305.286810       215.452592   \n",
              "min    ...       0.000000          0.000000       0.000000         1.000000   \n",
              "25%    ...       0.000000          0.000000       0.000000        45.000000   \n",
              "50%    ...       0.000000          0.000000       0.000000        94.000000   \n",
              "75%    ...     285.000000          1.000000     378.750000       227.000000   \n",
              "max    ...    3190.000000          3.000000    1344.000000      1580.000000   \n",
              "\n",
              "       per_square_meter_cost           dow          year         month  \\\n",
              "count           21702.000000  21702.000000  21702.000000  21702.000000   \n",
              "mean            96064.440651      2.571975   2017.378168      6.399088   \n",
              "std             38297.913463      1.792096      1.030823      3.493485   \n",
              "min               112.000000      0.000000   2014.000000      1.000000   \n",
              "25%             75582.000000      1.000000   2017.000000      3.000000   \n",
              "50%             93824.000000      3.000000   2017.000000      6.000000   \n",
              "75%            112307.250000      4.000000   2018.000000     10.000000   \n",
              "max            848485.000000      6.000000   2019.000000     12.000000   \n",
              "\n",
              "       living_vs_total_area  kitchen_vs_total_area  \n",
              "count          21702.000000           21702.000000  \n",
              "mean               0.564266               0.188454  \n",
              "std                0.112617               0.071124  \n",
              "min                0.040000               0.040000  \n",
              "25%                0.490000               0.140000  \n",
              "50%                0.570000               0.170000  \n",
              "75%                0.640000               0.230000  \n",
              "max                1.000000               0.790000  \n",
              "\n",
              "[8 rows x 23 columns]"
            ]
          },
          "execution_count": 247,
          "metadata": {},
          "output_type": "execute_result"
        }
      ],
      "source": [
        "data_new.describe() # для того, чтобы сделать выводы по типичной квартире выведем на экран распределение по таблице \n",
        "# data_new, содержащей данные первоначального датасета, \n",
        "# из которого удалены выбросы и заполнены недостающие значения."
      ]
    },
    {
      "cell_type": "markdown",
      "metadata": {
        "id": "q0LFXjeeeBWW"
      },
      "source": [
        "<div class = \"alert alert-info\" style=\"border-left: 7px solid blue\">\n",
        "    \n",
        "Типичная квартира, выставляемая в объявлении на ресурсе Яндекс-недвижимость имеет следующие характеристики:\n",
        "  \n",
        "   * общая площадь около 50 квадратных метров, из котрой жилая 30 метров и кухня около 9 метров;\n",
        "   * количество комнат - от одной до трёх;\n",
        "   * стоимость около 4,6 млн. рублей;\n",
        "   * средняя высота потолка около 2,60 метра.\n",
        " </div>"
      ]
    }
  ],
  "metadata": {
    "ExecuteTimeLog": [
      {
        "duration": 124,
        "start_time": "2022-04-12T17:03:51.637Z"
      },
      {
        "duration": 836,
        "start_time": "2022-04-12T17:04:12.942Z"
      },
      {
        "duration": 96,
        "start_time": "2022-04-12T17:04:27.661Z"
      },
      {
        "duration": 88,
        "start_time": "2022-04-12T17:04:32.939Z"
      },
      {
        "duration": 93,
        "start_time": "2022-04-12T17:04:38.595Z"
      },
      {
        "duration": 84,
        "start_time": "2022-04-12T17:04:42.691Z"
      },
      {
        "duration": 85,
        "start_time": "2022-04-12T17:05:07.187Z"
      },
      {
        "duration": 85,
        "start_time": "2022-04-12T17:05:11.986Z"
      },
      {
        "duration": 11,
        "start_time": "2022-04-12T17:05:22.574Z"
      },
      {
        "duration": 102,
        "start_time": "2022-04-12T17:05:38.122Z"
      },
      {
        "duration": 18,
        "start_time": "2022-04-12T17:06:04.682Z"
      },
      {
        "duration": 11,
        "start_time": "2022-04-12T17:06:57.194Z"
      },
      {
        "duration": 25,
        "start_time": "2022-04-12T17:11:07.524Z"
      },
      {
        "duration": 6,
        "start_time": "2022-04-12T17:12:11.777Z"
      },
      {
        "duration": 53,
        "start_time": "2022-04-12T17:16:12.259Z"
      },
      {
        "duration": 38,
        "start_time": "2022-04-12T17:16:18.004Z"
      },
      {
        "duration": 61,
        "start_time": "2022-04-13T08:16:31.951Z"
      },
      {
        "duration": 1109,
        "start_time": "2022-04-13T08:16:42.447Z"
      },
      {
        "duration": 89,
        "start_time": "2022-04-13T08:16:46.758Z"
      },
      {
        "duration": 47,
        "start_time": "2022-04-13T08:16:57.699Z"
      },
      {
        "duration": 53,
        "start_time": "2022-04-13T08:17:39.829Z"
      },
      {
        "duration": 47,
        "start_time": "2022-04-13T08:17:54.130Z"
      },
      {
        "duration": 37,
        "start_time": "2022-04-13T08:28:38.169Z"
      },
      {
        "duration": 37,
        "start_time": "2022-04-13T08:32:15.164Z"
      },
      {
        "duration": 43,
        "start_time": "2022-04-13T09:02:10.383Z"
      },
      {
        "duration": 26,
        "start_time": "2022-04-13T09:02:31.214Z"
      },
      {
        "duration": 19,
        "start_time": "2022-04-13T09:02:40.352Z"
      },
      {
        "duration": 21,
        "start_time": "2022-04-13T09:02:58.879Z"
      },
      {
        "duration": 12,
        "start_time": "2022-04-13T09:08:21.142Z"
      },
      {
        "duration": 13,
        "start_time": "2022-04-13T09:08:35.761Z"
      },
      {
        "duration": 11,
        "start_time": "2022-04-13T09:09:46.157Z"
      },
      {
        "duration": 16,
        "start_time": "2022-04-13T09:09:54.591Z"
      },
      {
        "duration": 93,
        "start_time": "2022-04-13T09:12:48.378Z"
      },
      {
        "duration": 33,
        "start_time": "2022-04-13T09:14:03.184Z"
      },
      {
        "duration": 31,
        "start_time": "2022-04-13T09:16:43.259Z"
      },
      {
        "duration": 219,
        "start_time": "2022-04-13T09:16:51.266Z"
      },
      {
        "duration": 11,
        "start_time": "2022-04-13T09:17:02.597Z"
      },
      {
        "duration": 227,
        "start_time": "2022-04-13T09:17:20.826Z"
      },
      {
        "duration": 11,
        "start_time": "2022-04-13T09:17:46.026Z"
      },
      {
        "duration": 88,
        "start_time": "2022-04-13T09:17:55.128Z"
      },
      {
        "duration": 237,
        "start_time": "2022-04-13T09:17:59.904Z"
      },
      {
        "duration": 11,
        "start_time": "2022-04-13T09:18:02.532Z"
      },
      {
        "duration": 589,
        "start_time": "2022-04-13T09:19:06.997Z"
      },
      {
        "duration": 510,
        "start_time": "2022-04-13T09:19:58.699Z"
      },
      {
        "duration": 227,
        "start_time": "2022-04-13T09:20:09.037Z"
      },
      {
        "duration": 27,
        "start_time": "2022-04-13T09:20:20.382Z"
      },
      {
        "duration": 93,
        "start_time": "2022-04-13T09:21:21.022Z"
      },
      {
        "duration": 223,
        "start_time": "2022-04-13T09:21:25.021Z"
      },
      {
        "duration": 27,
        "start_time": "2022-04-13T09:21:30.663Z"
      },
      {
        "duration": 224,
        "start_time": "2022-04-13T09:24:05.339Z"
      },
      {
        "duration": 28,
        "start_time": "2022-04-13T09:24:17.675Z"
      },
      {
        "duration": 27,
        "start_time": "2022-04-13T09:25:06.073Z"
      },
      {
        "duration": 93,
        "start_time": "2022-04-13T09:25:41.343Z"
      },
      {
        "duration": 100,
        "start_time": "2022-04-13T09:25:51.574Z"
      },
      {
        "duration": 91,
        "start_time": "2022-04-13T09:28:52.889Z"
      },
      {
        "duration": 6,
        "start_time": "2022-04-13T09:29:00.039Z"
      },
      {
        "duration": 125,
        "start_time": "2022-04-13T09:29:18.454Z"
      },
      {
        "duration": 90,
        "start_time": "2022-04-13T09:29:23.803Z"
      },
      {
        "duration": 121,
        "start_time": "2022-04-13T09:29:30.157Z"
      },
      {
        "duration": 85,
        "start_time": "2022-04-13T09:29:33.604Z"
      },
      {
        "duration": 92,
        "start_time": "2022-04-13T09:29:45.659Z"
      },
      {
        "duration": 87,
        "start_time": "2022-04-13T09:29:53.048Z"
      },
      {
        "duration": 13,
        "start_time": "2022-04-13T09:29:53.137Z"
      },
      {
        "duration": 9,
        "start_time": "2022-04-13T09:29:53.151Z"
      },
      {
        "duration": 90,
        "start_time": "2022-04-13T09:29:53.161Z"
      },
      {
        "duration": 0,
        "start_time": "2022-04-13T09:29:53.252Z"
      },
      {
        "duration": 0,
        "start_time": "2022-04-13T09:29:53.254Z"
      },
      {
        "duration": 0,
        "start_time": "2022-04-13T09:29:53.255Z"
      },
      {
        "duration": 0,
        "start_time": "2022-04-13T09:29:53.256Z"
      },
      {
        "duration": 0,
        "start_time": "2022-04-13T09:29:53.257Z"
      },
      {
        "duration": 24,
        "start_time": "2022-04-13T09:30:20.851Z"
      },
      {
        "duration": 7,
        "start_time": "2022-04-13T09:30:26.154Z"
      },
      {
        "duration": 91,
        "start_time": "2022-04-13T09:32:06.837Z"
      },
      {
        "duration": 14,
        "start_time": "2022-04-13T09:32:06.930Z"
      },
      {
        "duration": 9,
        "start_time": "2022-04-13T09:32:06.945Z"
      },
      {
        "duration": 22,
        "start_time": "2022-04-13T09:32:06.956Z"
      },
      {
        "duration": 51,
        "start_time": "2022-04-13T09:32:06.979Z"
      },
      {
        "duration": 7,
        "start_time": "2022-04-13T09:32:07.031Z"
      },
      {
        "duration": 7,
        "start_time": "2022-04-13T09:32:07.039Z"
      },
      {
        "duration": 63,
        "start_time": "2022-04-13T09:32:07.048Z"
      },
      {
        "duration": 32,
        "start_time": "2022-04-13T09:32:07.112Z"
      },
      {
        "duration": 5,
        "start_time": "2022-04-13T09:32:42.670Z"
      },
      {
        "duration": 4,
        "start_time": "2022-04-13T09:33:08.782Z"
      },
      {
        "duration": 6,
        "start_time": "2022-04-13T09:33:21.444Z"
      },
      {
        "duration": 20,
        "start_time": "2022-04-13T09:40:08.622Z"
      },
      {
        "duration": 21,
        "start_time": "2022-04-13T09:40:37.530Z"
      },
      {
        "duration": 6,
        "start_time": "2022-04-13T09:40:46.961Z"
      },
      {
        "duration": 4,
        "start_time": "2022-04-13T09:41:00.216Z"
      },
      {
        "duration": 5,
        "start_time": "2022-04-13T09:41:23.758Z"
      },
      {
        "duration": 103,
        "start_time": "2022-04-13T09:41:44.530Z"
      },
      {
        "duration": 6,
        "start_time": "2022-04-13T09:41:51.509Z"
      },
      {
        "duration": 19,
        "start_time": "2022-04-13T09:42:49.509Z"
      },
      {
        "duration": 7,
        "start_time": "2022-04-13T09:43:13.376Z"
      },
      {
        "duration": 87,
        "start_time": "2022-04-13T09:45:56.365Z"
      },
      {
        "duration": 8,
        "start_time": "2022-04-13T09:46:47.055Z"
      },
      {
        "duration": 1601,
        "start_time": "2022-04-13T09:47:05.661Z"
      },
      {
        "duration": 90,
        "start_time": "2022-04-13T09:47:28.968Z"
      },
      {
        "duration": 84,
        "start_time": "2022-04-13T09:47:41.143Z"
      },
      {
        "duration": 37,
        "start_time": "2022-04-13T09:48:24.833Z"
      },
      {
        "duration": 21,
        "start_time": "2022-04-13T09:49:34.853Z"
      },
      {
        "duration": 14,
        "start_time": "2022-04-13T09:50:44.476Z"
      },
      {
        "duration": 12,
        "start_time": "2022-04-13T09:50:53.827Z"
      },
      {
        "duration": 22,
        "start_time": "2022-04-13T09:51:00.320Z"
      },
      {
        "duration": 50,
        "start_time": "2022-04-13T09:52:14.137Z"
      },
      {
        "duration": 33,
        "start_time": "2022-04-13T09:53:00.525Z"
      },
      {
        "duration": 102,
        "start_time": "2022-04-13T09:53:13.558Z"
      },
      {
        "duration": 93,
        "start_time": "2022-04-13T09:53:46.166Z"
      },
      {
        "duration": 15,
        "start_time": "2022-04-13T09:53:46.262Z"
      },
      {
        "duration": 31,
        "start_time": "2022-04-13T09:53:46.279Z"
      },
      {
        "duration": 106,
        "start_time": "2022-04-13T09:53:46.312Z"
      },
      {
        "duration": 0,
        "start_time": "2022-04-13T09:53:46.420Z"
      },
      {
        "duration": 0,
        "start_time": "2022-04-13T09:53:46.421Z"
      },
      {
        "duration": 0,
        "start_time": "2022-04-13T09:53:46.423Z"
      },
      {
        "duration": 0,
        "start_time": "2022-04-13T09:53:46.424Z"
      },
      {
        "duration": 0,
        "start_time": "2022-04-13T09:53:46.426Z"
      },
      {
        "duration": 181,
        "start_time": "2022-04-13T09:54:04.911Z"
      },
      {
        "duration": 91,
        "start_time": "2022-04-13T09:54:09.448Z"
      },
      {
        "duration": 24,
        "start_time": "2022-04-13T09:54:44.815Z"
      },
      {
        "duration": 19,
        "start_time": "2022-04-13T09:55:15.196Z"
      },
      {
        "duration": 16,
        "start_time": "2022-04-13T09:55:29.632Z"
      },
      {
        "duration": 1579,
        "start_time": "2022-04-13T10:20:29.460Z"
      },
      {
        "duration": 20,
        "start_time": "2022-04-13T10:20:37.060Z"
      },
      {
        "duration": 6,
        "start_time": "2022-04-13T10:20:46.347Z"
      },
      {
        "duration": 26,
        "start_time": "2022-04-13T10:22:20.798Z"
      },
      {
        "duration": 92,
        "start_time": "2022-04-13T10:22:25.043Z"
      },
      {
        "duration": 22,
        "start_time": "2022-04-13T10:22:33.337Z"
      },
      {
        "duration": 7,
        "start_time": "2022-04-13T10:22:38.986Z"
      },
      {
        "duration": 21,
        "start_time": "2022-04-13T10:27:29.652Z"
      },
      {
        "duration": 24,
        "start_time": "2022-04-13T11:46:26.962Z"
      },
      {
        "duration": 23,
        "start_time": "2022-04-13T11:47:13.331Z"
      },
      {
        "duration": 24,
        "start_time": "2022-04-13T11:47:59.195Z"
      },
      {
        "duration": 27,
        "start_time": "2022-04-13T11:49:32.595Z"
      },
      {
        "duration": 29,
        "start_time": "2022-04-13T11:50:28.310Z"
      },
      {
        "duration": 40,
        "start_time": "2022-04-13T11:51:59.639Z"
      },
      {
        "duration": 6,
        "start_time": "2022-04-13T11:54:04.970Z"
      },
      {
        "duration": 39,
        "start_time": "2022-04-13T11:54:40.856Z"
      },
      {
        "duration": 42,
        "start_time": "2022-04-13T11:54:52.888Z"
      },
      {
        "duration": 28,
        "start_time": "2022-04-13T11:56:37.167Z"
      },
      {
        "duration": 27,
        "start_time": "2022-04-13T11:56:47.119Z"
      },
      {
        "duration": 37,
        "start_time": "2022-04-13T11:57:27.169Z"
      },
      {
        "duration": 277,
        "start_time": "2022-04-13T11:57:57.351Z"
      },
      {
        "duration": 330,
        "start_time": "2022-04-13T11:58:02.173Z"
      },
      {
        "duration": 25,
        "start_time": "2022-04-13T12:06:41.706Z"
      },
      {
        "duration": 249,
        "start_time": "2022-04-13T12:11:17.720Z"
      },
      {
        "duration": 138,
        "start_time": "2022-04-13T12:13:09.586Z"
      },
      {
        "duration": 183,
        "start_time": "2022-04-13T12:14:35.359Z"
      },
      {
        "duration": 88,
        "start_time": "2022-04-13T12:14:51.558Z"
      },
      {
        "duration": 9,
        "start_time": "2022-04-13T12:15:10.332Z"
      },
      {
        "duration": 136,
        "start_time": "2022-04-13T12:15:35.443Z"
      },
      {
        "duration": 87,
        "start_time": "2022-04-13T12:16:30.308Z"
      },
      {
        "duration": 13,
        "start_time": "2022-04-13T12:16:49.676Z"
      },
      {
        "duration": 246,
        "start_time": "2022-04-13T12:17:53.434Z"
      },
      {
        "duration": 747,
        "start_time": "2022-04-13T12:18:41.706Z"
      },
      {
        "duration": 176,
        "start_time": "2022-04-13T12:18:46.523Z"
      },
      {
        "duration": 290,
        "start_time": "2022-04-13T12:21:51.292Z"
      },
      {
        "duration": 168,
        "start_time": "2022-04-13T13:04:10.682Z"
      },
      {
        "duration": 155,
        "start_time": "2022-04-13T13:04:51.146Z"
      },
      {
        "duration": 10,
        "start_time": "2022-04-13T13:07:25.856Z"
      },
      {
        "duration": 5,
        "start_time": "2022-04-13T13:07:35.280Z"
      },
      {
        "duration": 182,
        "start_time": "2022-04-13T13:09:38.330Z"
      },
      {
        "duration": 5,
        "start_time": "2022-04-13T13:13:49.608Z"
      },
      {
        "duration": 259,
        "start_time": "2022-04-13T13:16:10.076Z"
      },
      {
        "duration": 5,
        "start_time": "2022-04-13T13:17:20.146Z"
      },
      {
        "duration": 162,
        "start_time": "2022-04-13T13:19:22.784Z"
      },
      {
        "duration": 169,
        "start_time": "2022-04-13T13:21:19.946Z"
      },
      {
        "duration": 1977,
        "start_time": "2022-04-13T13:25:07.984Z"
      },
      {
        "duration": 550,
        "start_time": "2022-04-13T13:25:11.804Z"
      },
      {
        "duration": 551,
        "start_time": "2022-04-13T13:25:59.241Z"
      },
      {
        "duration": 519,
        "start_time": "2022-04-13T13:28:25.640Z"
      },
      {
        "duration": 506,
        "start_time": "2022-04-13T13:28:54.053Z"
      },
      {
        "duration": 241,
        "start_time": "2022-04-13T13:29:42.166Z"
      },
      {
        "duration": 140,
        "start_time": "2022-04-13T13:29:56.478Z"
      },
      {
        "duration": 527,
        "start_time": "2022-04-13T13:30:15.253Z"
      },
      {
        "duration": 498,
        "start_time": "2022-04-13T13:32:48.140Z"
      },
      {
        "duration": 516,
        "start_time": "2022-04-13T13:33:10.403Z"
      },
      {
        "duration": 581,
        "start_time": "2022-04-13T13:33:26.253Z"
      },
      {
        "duration": 555,
        "start_time": "2022-04-13T13:33:36.524Z"
      },
      {
        "duration": 575,
        "start_time": "2022-04-13T13:33:46.141Z"
      },
      {
        "duration": 619,
        "start_time": "2022-04-13T13:35:06.639Z"
      },
      {
        "duration": 9,
        "start_time": "2022-04-13T13:38:21.285Z"
      },
      {
        "duration": 484,
        "start_time": "2022-04-13T13:38:32.539Z"
      },
      {
        "duration": 529,
        "start_time": "2022-04-13T13:38:42.241Z"
      },
      {
        "duration": 546,
        "start_time": "2022-04-13T13:38:48.389Z"
      },
      {
        "duration": 531,
        "start_time": "2022-04-13T13:39:01.704Z"
      },
      {
        "duration": 561,
        "start_time": "2022-04-13T13:39:07.373Z"
      },
      {
        "duration": 96,
        "start_time": "2022-04-13T13:39:28.579Z"
      },
      {
        "duration": 585,
        "start_time": "2022-04-13T13:39:32.591Z"
      },
      {
        "duration": 7,
        "start_time": "2022-04-13T13:41:09.094Z"
      },
      {
        "duration": 4,
        "start_time": "2022-04-13T13:41:35.900Z"
      },
      {
        "duration": 4,
        "start_time": "2022-04-13T13:42:04.859Z"
      },
      {
        "duration": 742,
        "start_time": "2022-04-13T13:44:24.276Z"
      },
      {
        "duration": 634,
        "start_time": "2022-04-13T13:44:59.912Z"
      },
      {
        "duration": 15,
        "start_time": "2022-04-13T14:06:34.730Z"
      },
      {
        "duration": 15,
        "start_time": "2022-04-13T14:07:15.032Z"
      },
      {
        "duration": 15,
        "start_time": "2022-04-13T14:07:22.963Z"
      },
      {
        "duration": 15,
        "start_time": "2022-04-13T14:07:37.573Z"
      },
      {
        "duration": 14,
        "start_time": "2022-04-13T14:07:42.718Z"
      },
      {
        "duration": 17,
        "start_time": "2022-04-13T14:08:03.644Z"
      },
      {
        "duration": 16,
        "start_time": "2022-04-13T14:08:11.250Z"
      },
      {
        "duration": 21,
        "start_time": "2022-04-13T14:09:30.913Z"
      },
      {
        "duration": 12,
        "start_time": "2022-04-13T14:09:54.675Z"
      },
      {
        "duration": 15,
        "start_time": "2022-04-13T14:10:07.273Z"
      },
      {
        "duration": 96,
        "start_time": "2022-04-13T14:11:34.293Z"
      },
      {
        "duration": 17,
        "start_time": "2022-04-13T14:11:42.657Z"
      },
      {
        "duration": 503,
        "start_time": "2022-04-13T14:13:07.551Z"
      },
      {
        "duration": 7,
        "start_time": "2022-04-13T14:25:32.512Z"
      },
      {
        "duration": 97,
        "start_time": "2022-04-13T14:25:38.237Z"
      },
      {
        "duration": 32,
        "start_time": "2022-04-13T14:25:56.916Z"
      },
      {
        "duration": 24,
        "start_time": "2022-04-13T14:26:26.153Z"
      },
      {
        "duration": 27,
        "start_time": "2022-04-13T14:27:07.927Z"
      },
      {
        "duration": 4,
        "start_time": "2022-04-13T14:27:31.678Z"
      },
      {
        "duration": 23,
        "start_time": "2022-04-13T14:27:35.576Z"
      },
      {
        "duration": 15,
        "start_time": "2022-04-13T14:28:29.538Z"
      },
      {
        "duration": 96,
        "start_time": "2022-04-13T14:28:42.744Z"
      },
      {
        "duration": 104,
        "start_time": "2022-04-13T14:31:23.106Z"
      },
      {
        "duration": 90,
        "start_time": "2022-04-13T14:31:27.259Z"
      },
      {
        "duration": 611,
        "start_time": "2022-04-13T14:31:35.451Z"
      },
      {
        "duration": 499,
        "start_time": "2022-04-13T14:31:51.144Z"
      },
      {
        "duration": 545,
        "start_time": "2022-04-13T14:32:09.822Z"
      },
      {
        "duration": 647,
        "start_time": "2022-04-13T14:32:30.786Z"
      },
      {
        "duration": 556,
        "start_time": "2022-04-13T14:37:09.017Z"
      },
      {
        "duration": 25,
        "start_time": "2022-04-13T14:37:31.552Z"
      },
      {
        "duration": 24,
        "start_time": "2022-04-13T14:43:41.811Z"
      },
      {
        "duration": 13,
        "start_time": "2022-04-13T14:46:06.381Z"
      },
      {
        "duration": 25,
        "start_time": "2022-04-13T14:48:41.102Z"
      },
      {
        "duration": 24,
        "start_time": "2022-04-13T14:48:48.969Z"
      },
      {
        "duration": 32,
        "start_time": "2022-04-13T14:50:13.898Z"
      },
      {
        "duration": 24,
        "start_time": "2022-04-13T14:50:41.442Z"
      },
      {
        "duration": 25,
        "start_time": "2022-04-13T14:51:02.062Z"
      },
      {
        "duration": 150,
        "start_time": "2022-04-13T14:51:47.211Z"
      },
      {
        "duration": 14,
        "start_time": "2022-04-13T14:51:47.363Z"
      },
      {
        "duration": 8,
        "start_time": "2022-04-13T14:51:47.378Z"
      },
      {
        "duration": 4,
        "start_time": "2022-04-13T14:51:47.388Z"
      },
      {
        "duration": 36,
        "start_time": "2022-04-13T14:51:47.407Z"
      },
      {
        "duration": 5,
        "start_time": "2022-04-13T14:51:47.445Z"
      },
      {
        "duration": 59,
        "start_time": "2022-04-13T14:51:47.452Z"
      },
      {
        "duration": 25,
        "start_time": "2022-04-13T14:51:47.512Z"
      },
      {
        "duration": 36,
        "start_time": "2022-04-13T14:51:47.538Z"
      },
      {
        "duration": 448,
        "start_time": "2022-04-13T14:51:47.577Z"
      },
      {
        "duration": 25,
        "start_time": "2022-04-13T14:51:48.027Z"
      },
      {
        "duration": 195,
        "start_time": "2022-04-13T14:51:48.054Z"
      },
      {
        "duration": 144,
        "start_time": "2022-04-13T14:51:48.251Z"
      },
      {
        "duration": 188,
        "start_time": "2022-04-13T14:51:48.397Z"
      },
      {
        "duration": 8,
        "start_time": "2022-04-13T14:51:48.586Z"
      },
      {
        "duration": 138,
        "start_time": "2022-04-13T14:51:48.595Z"
      },
      {
        "duration": 293,
        "start_time": "2022-04-13T14:51:48.735Z"
      },
      {
        "duration": 12,
        "start_time": "2022-04-13T14:51:49.029Z"
      },
      {
        "duration": 181,
        "start_time": "2022-04-13T14:51:49.042Z"
      },
      {
        "duration": 6,
        "start_time": "2022-04-13T14:51:49.224Z"
      },
      {
        "duration": 195,
        "start_time": "2022-04-13T14:51:49.231Z"
      },
      {
        "duration": 6,
        "start_time": "2022-04-13T14:51:49.427Z"
      },
      {
        "duration": 186,
        "start_time": "2022-04-13T14:51:49.435Z"
      },
      {
        "duration": 6,
        "start_time": "2022-04-13T14:51:49.622Z"
      },
      {
        "duration": 176,
        "start_time": "2022-04-13T14:51:49.629Z"
      },
      {
        "duration": 534,
        "start_time": "2022-04-13T14:51:49.807Z"
      },
      {
        "duration": 25,
        "start_time": "2022-04-13T14:51:50.343Z"
      },
      {
        "duration": 24,
        "start_time": "2022-04-13T14:52:43.663Z"
      },
      {
        "duration": 24,
        "start_time": "2022-04-13T14:53:12.037Z"
      },
      {
        "duration": 25,
        "start_time": "2022-04-13T14:54:58.954Z"
      },
      {
        "duration": 22,
        "start_time": "2022-04-13T14:59:07.269Z"
      },
      {
        "duration": 150,
        "start_time": "2022-04-13T14:59:20.646Z"
      },
      {
        "duration": 25,
        "start_time": "2022-04-13T14:59:34.854Z"
      },
      {
        "duration": 18,
        "start_time": "2022-04-13T15:31:42.846Z"
      },
      {
        "duration": 29,
        "start_time": "2022-04-13T15:31:53.107Z"
      },
      {
        "duration": 41,
        "start_time": "2022-04-13T15:32:29.339Z"
      },
      {
        "duration": 10,
        "start_time": "2022-04-13T15:35:06.361Z"
      },
      {
        "duration": 1583,
        "start_time": "2022-04-13T15:35:20.033Z"
      },
      {
        "duration": 1066,
        "start_time": "2022-04-13T15:35:58.720Z"
      },
      {
        "duration": 10,
        "start_time": "2022-04-13T15:36:09.184Z"
      },
      {
        "duration": 67,
        "start_time": "2022-04-13T16:59:43.162Z"
      },
      {
        "duration": 982,
        "start_time": "2022-04-13T16:59:55.400Z"
      },
      {
        "duration": 19,
        "start_time": "2022-04-13T16:59:56.385Z"
      },
      {
        "duration": 28,
        "start_time": "2022-04-13T16:59:56.406Z"
      },
      {
        "duration": 5,
        "start_time": "2022-04-13T16:59:56.436Z"
      },
      {
        "duration": 42,
        "start_time": "2022-04-13T16:59:56.444Z"
      },
      {
        "duration": 7,
        "start_time": "2022-04-13T16:59:56.488Z"
      },
      {
        "duration": 81,
        "start_time": "2022-04-13T16:59:56.497Z"
      },
      {
        "duration": 30,
        "start_time": "2022-04-13T16:59:56.580Z"
      },
      {
        "duration": 56,
        "start_time": "2022-04-13T16:59:56.611Z"
      },
      {
        "duration": 329,
        "start_time": "2022-04-13T16:59:56.668Z"
      },
      {
        "duration": 37,
        "start_time": "2022-04-13T16:59:56.998Z"
      },
      {
        "duration": 226,
        "start_time": "2022-04-13T16:59:57.037Z"
      },
      {
        "duration": 219,
        "start_time": "2022-04-13T16:59:57.264Z"
      },
      {
        "duration": 210,
        "start_time": "2022-04-13T16:59:57.486Z"
      },
      {
        "duration": 9,
        "start_time": "2022-04-13T16:59:57.698Z"
      },
      {
        "duration": 161,
        "start_time": "2022-04-13T16:59:57.709Z"
      },
      {
        "duration": 339,
        "start_time": "2022-04-13T16:59:57.872Z"
      },
      {
        "duration": 13,
        "start_time": "2022-04-13T16:59:58.213Z"
      },
      {
        "duration": 194,
        "start_time": "2022-04-13T16:59:58.234Z"
      },
      {
        "duration": 6,
        "start_time": "2022-04-13T16:59:58.430Z"
      },
      {
        "duration": 218,
        "start_time": "2022-04-13T16:59:58.438Z"
      },
      {
        "duration": 5,
        "start_time": "2022-04-13T16:59:58.658Z"
      },
      {
        "duration": 208,
        "start_time": "2022-04-13T16:59:58.665Z"
      },
      {
        "duration": 6,
        "start_time": "2022-04-13T16:59:58.875Z"
      },
      {
        "duration": 195,
        "start_time": "2022-04-13T16:59:58.883Z"
      },
      {
        "duration": 616,
        "start_time": "2022-04-13T16:59:59.080Z"
      },
      {
        "duration": 2331,
        "start_time": "2022-04-13T16:59:59.697Z"
      },
      {
        "duration": 0,
        "start_time": "2022-04-13T17:00:02.030Z"
      },
      {
        "duration": 30,
        "start_time": "2022-04-13T17:00:36.301Z"
      },
      {
        "duration": 30,
        "start_time": "2022-04-13T17:00:37.153Z"
      },
      {
        "duration": 2218,
        "start_time": "2022-04-13T17:00:54.711Z"
      },
      {
        "duration": 0,
        "start_time": "2022-04-13T17:01:18.147Z"
      },
      {
        "duration": 2227,
        "start_time": "2022-04-13T17:01:21.628Z"
      },
      {
        "duration": 27,
        "start_time": "2022-04-13T17:02:15.276Z"
      },
      {
        "duration": 2185,
        "start_time": "2022-04-13T17:02:50.456Z"
      },
      {
        "duration": 29,
        "start_time": "2022-04-13T17:03:05.165Z"
      },
      {
        "duration": 36,
        "start_time": "2022-04-13T17:04:11.647Z"
      },
      {
        "duration": 26,
        "start_time": "2022-04-13T17:05:04.408Z"
      },
      {
        "duration": 27,
        "start_time": "2022-04-13T17:05:44.693Z"
      },
      {
        "duration": 26,
        "start_time": "2022-04-13T17:06:26.240Z"
      },
      {
        "duration": 27,
        "start_time": "2022-04-13T17:06:36.039Z"
      },
      {
        "duration": 163,
        "start_time": "2022-04-13T17:07:14.976Z"
      },
      {
        "duration": 25,
        "start_time": "2022-04-13T17:08:16.773Z"
      },
      {
        "duration": 170,
        "start_time": "2022-04-13T17:08:27.109Z"
      },
      {
        "duration": 171,
        "start_time": "2022-04-13T17:09:00.006Z"
      },
      {
        "duration": 2172,
        "start_time": "2022-04-13T17:09:33.061Z"
      },
      {
        "duration": 26,
        "start_time": "2022-04-13T17:09:48.086Z"
      },
      {
        "duration": 2192,
        "start_time": "2022-04-13T17:10:07.516Z"
      },
      {
        "duration": 160,
        "start_time": "2022-04-13T17:11:21.331Z"
      },
      {
        "duration": 2154,
        "start_time": "2022-04-13T17:11:46.594Z"
      },
      {
        "duration": 253,
        "start_time": "2022-04-13T17:12:02.078Z"
      },
      {
        "duration": 27,
        "start_time": "2022-04-13T17:18:42.611Z"
      },
      {
        "duration": 167,
        "start_time": "2022-04-13T17:19:02.590Z"
      },
      {
        "duration": 28,
        "start_time": "2022-04-13T17:19:33.122Z"
      },
      {
        "duration": 166,
        "start_time": "2022-04-13T17:19:35.388Z"
      },
      {
        "duration": 175,
        "start_time": "2022-04-13T17:19:59.939Z"
      },
      {
        "duration": 172,
        "start_time": "2022-04-13T17:20:35.907Z"
      },
      {
        "duration": 175,
        "start_time": "2022-04-13T17:27:34.556Z"
      },
      {
        "duration": 168,
        "start_time": "2022-04-13T17:31:36.001Z"
      },
      {
        "duration": 226,
        "start_time": "2022-04-13T17:33:47.004Z"
      },
      {
        "duration": 13,
        "start_time": "2022-04-13T17:34:58.617Z"
      },
      {
        "duration": 10,
        "start_time": "2022-04-13T17:37:28.122Z"
      },
      {
        "duration": 12,
        "start_time": "2022-04-13T17:37:40.273Z"
      },
      {
        "duration": 136,
        "start_time": "2022-04-13T17:37:53.559Z"
      },
      {
        "duration": 16,
        "start_time": "2022-04-13T17:38:07.776Z"
      },
      {
        "duration": 13,
        "start_time": "2022-04-13T17:38:13.584Z"
      },
      {
        "duration": 11,
        "start_time": "2022-04-13T17:38:19.832Z"
      },
      {
        "duration": 1635,
        "start_time": "2022-04-13T17:38:48.449Z"
      },
      {
        "duration": 13,
        "start_time": "2022-04-13T17:40:26.945Z"
      },
      {
        "duration": 17,
        "start_time": "2022-04-13T17:41:31.651Z"
      },
      {
        "duration": 1690,
        "start_time": "2022-04-13T17:41:54.330Z"
      },
      {
        "duration": 12,
        "start_time": "2022-04-13T17:42:23.401Z"
      },
      {
        "duration": 12,
        "start_time": "2022-04-13T17:43:24.824Z"
      },
      {
        "duration": 21,
        "start_time": "2022-04-13T17:43:29.304Z"
      },
      {
        "duration": 156,
        "start_time": "2022-04-13T17:45:11.465Z"
      },
      {
        "duration": 135,
        "start_time": "2022-04-13T17:45:29.200Z"
      },
      {
        "duration": 10,
        "start_time": "2022-04-13T17:46:41.087Z"
      },
      {
        "duration": 47,
        "start_time": "2022-04-13T17:46:52.728Z"
      },
      {
        "duration": 13,
        "start_time": "2022-04-13T17:49:04.673Z"
      },
      {
        "duration": 25,
        "start_time": "2022-04-13T17:49:15.991Z"
      },
      {
        "duration": 46,
        "start_time": "2022-04-13T17:49:52.137Z"
      },
      {
        "duration": 2131,
        "start_time": "2022-04-13T17:51:05.955Z"
      },
      {
        "duration": 19,
        "start_time": "2022-04-13T17:51:16.431Z"
      },
      {
        "duration": 16,
        "start_time": "2022-04-13T17:52:16.568Z"
      },
      {
        "duration": 12,
        "start_time": "2022-04-13T17:52:56.919Z"
      },
      {
        "duration": 24,
        "start_time": "2022-04-13T17:54:52.574Z"
      },
      {
        "duration": 11,
        "start_time": "2022-04-13T17:55:39.903Z"
      },
      {
        "duration": 18,
        "start_time": "2022-04-13T17:55:45.070Z"
      },
      {
        "duration": 11,
        "start_time": "2022-04-13T17:57:32.789Z"
      },
      {
        "duration": 16,
        "start_time": "2022-04-13T18:01:23.199Z"
      },
      {
        "duration": 11,
        "start_time": "2022-04-13T18:01:37.254Z"
      },
      {
        "duration": 16,
        "start_time": "2022-04-13T18:01:53.478Z"
      },
      {
        "duration": 18,
        "start_time": "2022-04-13T18:02:09.523Z"
      },
      {
        "duration": 18,
        "start_time": "2022-04-13T18:02:42.318Z"
      },
      {
        "duration": 14,
        "start_time": "2022-04-13T18:03:08.525Z"
      },
      {
        "duration": 19,
        "start_time": "2022-04-13T18:03:15.355Z"
      },
      {
        "duration": 20,
        "start_time": "2022-04-13T18:07:34.214Z"
      },
      {
        "duration": 21,
        "start_time": "2022-04-13T18:07:48.789Z"
      },
      {
        "duration": 341,
        "start_time": "2022-04-13T18:09:04.767Z"
      },
      {
        "duration": 199,
        "start_time": "2022-04-13T18:10:08.463Z"
      },
      {
        "duration": 191,
        "start_time": "2022-04-13T18:10:56.198Z"
      },
      {
        "duration": 211,
        "start_time": "2022-04-13T18:11:16.883Z"
      },
      {
        "duration": 152,
        "start_time": "2022-04-13T18:13:29.482Z"
      },
      {
        "duration": 203,
        "start_time": "2022-04-13T18:13:41.375Z"
      },
      {
        "duration": 141,
        "start_time": "2022-04-13T18:15:08.611Z"
      },
      {
        "duration": 198,
        "start_time": "2022-04-13T18:15:23.614Z"
      },
      {
        "duration": 19,
        "start_time": "2022-04-13T18:16:32.373Z"
      },
      {
        "duration": 191,
        "start_time": "2022-04-13T18:16:44.780Z"
      },
      {
        "duration": 203,
        "start_time": "2022-04-13T18:16:57.588Z"
      },
      {
        "duration": 206,
        "start_time": "2022-04-13T18:18:08.661Z"
      },
      {
        "duration": 223,
        "start_time": "2022-04-13T18:18:21.828Z"
      },
      {
        "duration": 488,
        "start_time": "2022-04-13T18:23:06.834Z"
      },
      {
        "duration": 205,
        "start_time": "2022-04-13T18:23:24.530Z"
      },
      {
        "duration": 107,
        "start_time": "2022-04-13T18:27:43.825Z"
      },
      {
        "duration": 17,
        "start_time": "2022-04-13T18:27:43.934Z"
      },
      {
        "duration": 10,
        "start_time": "2022-04-13T18:27:43.953Z"
      },
      {
        "duration": 5,
        "start_time": "2022-04-13T18:27:43.965Z"
      },
      {
        "duration": 72,
        "start_time": "2022-04-13T18:27:43.972Z"
      },
      {
        "duration": 7,
        "start_time": "2022-04-13T18:27:44.046Z"
      },
      {
        "duration": 48,
        "start_time": "2022-04-13T18:27:44.055Z"
      },
      {
        "duration": 54,
        "start_time": "2022-04-13T18:27:44.105Z"
      },
      {
        "duration": 43,
        "start_time": "2022-04-13T18:27:44.160Z"
      },
      {
        "duration": 314,
        "start_time": "2022-04-13T18:27:44.205Z"
      },
      {
        "duration": 32,
        "start_time": "2022-04-13T18:27:44.521Z"
      },
      {
        "duration": 209,
        "start_time": "2022-04-13T18:27:44.555Z"
      },
      {
        "duration": 160,
        "start_time": "2022-04-13T18:27:44.766Z"
      },
      {
        "duration": 220,
        "start_time": "2022-04-13T18:27:44.927Z"
      },
      {
        "duration": 9,
        "start_time": "2022-04-13T18:27:45.149Z"
      },
      {
        "duration": 149,
        "start_time": "2022-04-13T18:27:45.159Z"
      },
      {
        "duration": 340,
        "start_time": "2022-04-13T18:27:45.310Z"
      },
      {
        "duration": 14,
        "start_time": "2022-04-13T18:27:45.652Z"
      },
      {
        "duration": 202,
        "start_time": "2022-04-13T18:27:45.667Z"
      },
      {
        "duration": 6,
        "start_time": "2022-04-13T18:27:45.871Z"
      },
      {
        "duration": 212,
        "start_time": "2022-04-13T18:27:45.879Z"
      },
      {
        "duration": 6,
        "start_time": "2022-04-13T18:27:46.093Z"
      },
      {
        "duration": 210,
        "start_time": "2022-04-13T18:27:46.100Z"
      },
      {
        "duration": 6,
        "start_time": "2022-04-13T18:27:46.312Z"
      },
      {
        "duration": 198,
        "start_time": "2022-04-13T18:27:46.333Z"
      },
      {
        "duration": 632,
        "start_time": "2022-04-13T18:27:46.533Z"
      },
      {
        "duration": 30,
        "start_time": "2022-04-13T18:27:47.166Z"
      },
      {
        "duration": 200,
        "start_time": "2022-04-13T18:27:47.198Z"
      },
      {
        "duration": 225,
        "start_time": "2022-04-13T18:27:47.621Z"
      },
      {
        "duration": 110,
        "start_time": "2022-04-13T18:31:48.789Z"
      },
      {
        "duration": 16,
        "start_time": "2022-04-13T18:31:48.902Z"
      },
      {
        "duration": 22,
        "start_time": "2022-04-13T18:31:48.920Z"
      },
      {
        "duration": 6,
        "start_time": "2022-04-13T18:31:48.944Z"
      },
      {
        "duration": 39,
        "start_time": "2022-04-13T18:31:48.952Z"
      },
      {
        "duration": 7,
        "start_time": "2022-04-13T18:31:48.993Z"
      },
      {
        "duration": 49,
        "start_time": "2022-04-13T18:31:49.034Z"
      },
      {
        "duration": 29,
        "start_time": "2022-04-13T18:31:49.086Z"
      },
      {
        "duration": 42,
        "start_time": "2022-04-13T18:31:49.133Z"
      },
      {
        "duration": 311,
        "start_time": "2022-04-13T18:31:49.176Z"
      },
      {
        "duration": 28,
        "start_time": "2022-04-13T18:31:49.488Z"
      },
      {
        "duration": 231,
        "start_time": "2022-04-13T18:31:49.518Z"
      },
      {
        "duration": 166,
        "start_time": "2022-04-13T18:31:49.751Z"
      },
      {
        "duration": 215,
        "start_time": "2022-04-13T18:31:49.919Z"
      },
      {
        "duration": 10,
        "start_time": "2022-04-13T18:31:50.136Z"
      },
      {
        "duration": 164,
        "start_time": "2022-04-13T18:31:50.148Z"
      },
      {
        "duration": 342,
        "start_time": "2022-04-13T18:31:50.314Z"
      },
      {
        "duration": 16,
        "start_time": "2022-04-13T18:31:50.657Z"
      },
      {
        "duration": 213,
        "start_time": "2022-04-13T18:31:50.674Z"
      },
      {
        "duration": 6,
        "start_time": "2022-04-13T18:31:50.889Z"
      },
      {
        "duration": 224,
        "start_time": "2022-04-13T18:31:50.897Z"
      },
      {
        "duration": 15,
        "start_time": "2022-04-13T18:31:51.123Z"
      },
      {
        "duration": 214,
        "start_time": "2022-04-13T18:31:51.140Z"
      },
      {
        "duration": 6,
        "start_time": "2022-04-13T18:31:51.356Z"
      },
      {
        "duration": 194,
        "start_time": "2022-04-13T18:31:51.364Z"
      },
      {
        "duration": 617,
        "start_time": "2022-04-13T18:31:51.562Z"
      },
      {
        "duration": 28,
        "start_time": "2022-04-13T18:31:52.181Z"
      },
      {
        "duration": 173,
        "start_time": "2022-04-13T18:31:52.211Z"
      },
      {
        "duration": 219,
        "start_time": "2022-04-13T18:31:52.386Z"
      },
      {
        "duration": 173,
        "start_time": "2022-04-13T18:36:09.309Z"
      },
      {
        "duration": 167,
        "start_time": "2022-04-13T18:36:15.328Z"
      },
      {
        "duration": 198,
        "start_time": "2022-04-13T18:36:21.480Z"
      },
      {
        "duration": 229,
        "start_time": "2022-04-13T18:36:29.738Z"
      },
      {
        "duration": 237,
        "start_time": "2022-04-13T18:37:06.569Z"
      },
      {
        "duration": 232,
        "start_time": "2022-04-13T18:39:01.977Z"
      },
      {
        "duration": 125,
        "start_time": "2022-04-13T18:39:11.401Z"
      },
      {
        "duration": 212,
        "start_time": "2022-04-13T18:39:16.707Z"
      },
      {
        "duration": 193,
        "start_time": "2022-04-13T18:39:33.479Z"
      },
      {
        "duration": 215,
        "start_time": "2022-04-13T18:39:47.285Z"
      },
      {
        "duration": 200,
        "start_time": "2022-04-13T18:39:54.807Z"
      },
      {
        "duration": 196,
        "start_time": "2022-04-13T18:40:00.372Z"
      },
      {
        "duration": 194,
        "start_time": "2022-04-13T18:40:04.383Z"
      },
      {
        "duration": 187,
        "start_time": "2022-04-13T18:40:07.488Z"
      },
      {
        "duration": 227,
        "start_time": "2022-04-13T18:40:15.784Z"
      },
      {
        "duration": 45,
        "start_time": "2022-04-14T09:23:58.981Z"
      },
      {
        "duration": 837,
        "start_time": "2022-04-14T09:24:04.589Z"
      },
      {
        "duration": 14,
        "start_time": "2022-04-14T09:24:05.428Z"
      },
      {
        "duration": 15,
        "start_time": "2022-04-14T09:24:05.444Z"
      },
      {
        "duration": 4,
        "start_time": "2022-04-14T09:24:05.461Z"
      },
      {
        "duration": 35,
        "start_time": "2022-04-14T09:24:05.466Z"
      },
      {
        "duration": 6,
        "start_time": "2022-04-14T09:24:05.503Z"
      },
      {
        "duration": 63,
        "start_time": "2022-04-14T09:24:05.510Z"
      },
      {
        "duration": 23,
        "start_time": "2022-04-14T09:24:05.575Z"
      },
      {
        "duration": 34,
        "start_time": "2022-04-14T09:24:05.600Z"
      },
      {
        "duration": 279,
        "start_time": "2022-04-14T09:24:05.654Z"
      },
      {
        "duration": 33,
        "start_time": "2022-04-14T09:24:05.935Z"
      },
      {
        "duration": 180,
        "start_time": "2022-04-14T09:24:05.970Z"
      },
      {
        "duration": 180,
        "start_time": "2022-04-14T09:24:06.152Z"
      },
      {
        "duration": 166,
        "start_time": "2022-04-14T09:24:06.334Z"
      },
      {
        "duration": 9,
        "start_time": "2022-04-14T09:24:06.502Z"
      },
      {
        "duration": 128,
        "start_time": "2022-04-14T09:24:06.512Z"
      },
      {
        "duration": 267,
        "start_time": "2022-04-14T09:24:06.642Z"
      },
      {
        "duration": 11,
        "start_time": "2022-04-14T09:24:06.910Z"
      },
      {
        "duration": 163,
        "start_time": "2022-04-14T09:24:06.923Z"
      },
      {
        "duration": 6,
        "start_time": "2022-04-14T09:24:07.087Z"
      },
      {
        "duration": 171,
        "start_time": "2022-04-14T09:24:07.094Z"
      },
      {
        "duration": 5,
        "start_time": "2022-04-14T09:24:07.266Z"
      },
      {
        "duration": 173,
        "start_time": "2022-04-14T09:24:07.272Z"
      },
      {
        "duration": 11,
        "start_time": "2022-04-14T09:24:07.447Z"
      },
      {
        "duration": 156,
        "start_time": "2022-04-14T09:24:07.459Z"
      },
      {
        "duration": 488,
        "start_time": "2022-04-14T09:24:07.617Z"
      },
      {
        "duration": 23,
        "start_time": "2022-04-14T09:24:08.107Z"
      },
      {
        "duration": 197,
        "start_time": "2022-04-14T09:24:08.134Z"
      },
      {
        "duration": 199,
        "start_time": "2022-04-14T09:24:08.333Z"
      },
      {
        "duration": 20,
        "start_time": "2022-04-14T09:24:08.534Z"
      },
      {
        "duration": 227,
        "start_time": "2022-04-14T09:26:17.920Z"
      },
      {
        "duration": 218,
        "start_time": "2022-04-14T09:26:34.928Z"
      },
      {
        "duration": 203,
        "start_time": "2022-04-14T09:26:43.552Z"
      },
      {
        "duration": 198,
        "start_time": "2022-04-14T09:30:45.216Z"
      },
      {
        "duration": 196,
        "start_time": "2022-04-14T09:31:04.779Z"
      },
      {
        "duration": 229,
        "start_time": "2022-04-14T09:31:18.666Z"
      },
      {
        "duration": 198,
        "start_time": "2022-04-14T09:31:27.711Z"
      },
      {
        "duration": 62,
        "start_time": "2022-04-14T09:52:04.623Z"
      },
      {
        "duration": 15,
        "start_time": "2022-04-14T09:52:17.479Z"
      },
      {
        "duration": 12,
        "start_time": "2022-04-14T09:53:07.701Z"
      },
      {
        "duration": 12,
        "start_time": "2022-04-14T09:53:51.815Z"
      },
      {
        "duration": 13,
        "start_time": "2022-04-14T09:54:07.414Z"
      },
      {
        "duration": 201,
        "start_time": "2022-04-14T10:53:23.920Z"
      },
      {
        "duration": 13,
        "start_time": "2022-04-14T10:53:30.817Z"
      },
      {
        "duration": 46,
        "start_time": "2022-04-14T10:54:12.023Z"
      },
      {
        "duration": 776,
        "start_time": "2022-04-14T10:54:21.751Z"
      },
      {
        "duration": 15,
        "start_time": "2022-04-14T10:54:22.529Z"
      },
      {
        "duration": 18,
        "start_time": "2022-04-14T10:54:22.545Z"
      },
      {
        "duration": 5,
        "start_time": "2022-04-14T10:54:22.566Z"
      },
      {
        "duration": 38,
        "start_time": "2022-04-14T10:54:22.572Z"
      },
      {
        "duration": 6,
        "start_time": "2022-04-14T10:54:22.611Z"
      },
      {
        "duration": 88,
        "start_time": "2022-04-14T10:54:22.619Z"
      },
      {
        "duration": 47,
        "start_time": "2022-04-14T10:54:22.709Z"
      },
      {
        "duration": 42,
        "start_time": "2022-04-14T10:54:22.758Z"
      },
      {
        "duration": 301,
        "start_time": "2022-04-14T10:54:22.802Z"
      },
      {
        "duration": 23,
        "start_time": "2022-04-14T10:54:23.105Z"
      },
      {
        "duration": 205,
        "start_time": "2022-04-14T10:54:23.129Z"
      },
      {
        "duration": 199,
        "start_time": "2022-04-14T10:54:23.335Z"
      },
      {
        "duration": 269,
        "start_time": "2022-04-14T10:54:23.536Z"
      },
      {
        "duration": 12,
        "start_time": "2022-04-14T10:54:23.808Z"
      },
      {
        "duration": 182,
        "start_time": "2022-04-14T10:54:23.822Z"
      },
      {
        "duration": 290,
        "start_time": "2022-04-14T10:54:24.006Z"
      },
      {
        "duration": 16,
        "start_time": "2022-04-14T10:54:24.298Z"
      },
      {
        "duration": 179,
        "start_time": "2022-04-14T10:54:24.316Z"
      },
      {
        "duration": 5,
        "start_time": "2022-04-14T10:54:24.497Z"
      },
      {
        "duration": 189,
        "start_time": "2022-04-14T10:54:24.504Z"
      },
      {
        "duration": 6,
        "start_time": "2022-04-14T10:54:24.695Z"
      },
      {
        "duration": 193,
        "start_time": "2022-04-14T10:54:24.702Z"
      },
      {
        "duration": 6,
        "start_time": "2022-04-14T10:54:24.897Z"
      },
      {
        "duration": 177,
        "start_time": "2022-04-14T10:54:24.905Z"
      },
      {
        "duration": 507,
        "start_time": "2022-04-14T10:54:25.084Z"
      },
      {
        "duration": 25,
        "start_time": "2022-04-14T10:54:25.593Z"
      },
      {
        "duration": 219,
        "start_time": "2022-04-14T10:54:25.621Z"
      },
      {
        "duration": 215,
        "start_time": "2022-04-14T10:54:25.842Z"
      },
      {
        "duration": 14,
        "start_time": "2022-04-14T10:54:26.059Z"
      },
      {
        "duration": 46,
        "start_time": "2022-04-14T10:55:46.829Z"
      },
      {
        "duration": 803,
        "start_time": "2022-04-14T10:55:59.431Z"
      },
      {
        "duration": 18,
        "start_time": "2022-04-14T10:56:00.236Z"
      },
      {
        "duration": 10,
        "start_time": "2022-04-14T10:56:00.256Z"
      },
      {
        "duration": 6,
        "start_time": "2022-04-14T10:56:00.268Z"
      },
      {
        "duration": 46,
        "start_time": "2022-04-14T10:56:00.276Z"
      },
      {
        "duration": 6,
        "start_time": "2022-04-14T10:56:00.324Z"
      },
      {
        "duration": 71,
        "start_time": "2022-04-14T10:56:00.332Z"
      },
      {
        "duration": 24,
        "start_time": "2022-04-14T10:56:00.404Z"
      },
      {
        "duration": 42,
        "start_time": "2022-04-14T10:56:00.430Z"
      },
      {
        "duration": 308,
        "start_time": "2022-04-14T10:56:00.475Z"
      },
      {
        "duration": 27,
        "start_time": "2022-04-14T10:56:00.784Z"
      },
      {
        "duration": 206,
        "start_time": "2022-04-14T10:56:00.813Z"
      },
      {
        "duration": 209,
        "start_time": "2022-04-14T10:56:01.022Z"
      },
      {
        "duration": 198,
        "start_time": "2022-04-14T10:56:01.233Z"
      },
      {
        "duration": 9,
        "start_time": "2022-04-14T10:56:01.434Z"
      },
      {
        "duration": 135,
        "start_time": "2022-04-14T10:56:01.455Z"
      },
      {
        "duration": 285,
        "start_time": "2022-04-14T10:56:01.592Z"
      },
      {
        "duration": 13,
        "start_time": "2022-04-14T10:56:01.879Z"
      },
      {
        "duration": 188,
        "start_time": "2022-04-14T10:56:01.894Z"
      },
      {
        "duration": 6,
        "start_time": "2022-04-14T10:56:02.084Z"
      },
      {
        "duration": 205,
        "start_time": "2022-04-14T10:56:02.092Z"
      },
      {
        "duration": 6,
        "start_time": "2022-04-14T10:56:02.299Z"
      },
      {
        "duration": 191,
        "start_time": "2022-04-14T10:56:02.307Z"
      },
      {
        "duration": 6,
        "start_time": "2022-04-14T10:56:02.500Z"
      },
      {
        "duration": 166,
        "start_time": "2022-04-14T10:56:02.508Z"
      },
      {
        "duration": 525,
        "start_time": "2022-04-14T10:56:02.675Z"
      },
      {
        "duration": 25,
        "start_time": "2022-04-14T10:56:03.202Z"
      },
      {
        "duration": 217,
        "start_time": "2022-04-14T10:56:03.231Z"
      },
      {
        "duration": 219,
        "start_time": "2022-04-14T10:56:03.454Z"
      },
      {
        "duration": 13,
        "start_time": "2022-04-14T10:56:03.674Z"
      },
      {
        "duration": 47,
        "start_time": "2022-04-14T10:56:21.551Z"
      },
      {
        "duration": 6,
        "start_time": "2022-04-14T10:59:11.167Z"
      },
      {
        "duration": 735,
        "start_time": "2022-04-14T10:59:15.407Z"
      },
      {
        "duration": 25,
        "start_time": "2022-04-14T10:59:16.144Z"
      },
      {
        "duration": 10,
        "start_time": "2022-04-14T10:59:16.171Z"
      },
      {
        "duration": 11,
        "start_time": "2022-04-14T10:59:16.183Z"
      },
      {
        "duration": 37,
        "start_time": "2022-04-14T10:59:16.196Z"
      },
      {
        "duration": 6,
        "start_time": "2022-04-14T10:59:16.255Z"
      },
      {
        "duration": 57,
        "start_time": "2022-04-14T10:59:16.263Z"
      },
      {
        "duration": 24,
        "start_time": "2022-04-14T10:59:16.321Z"
      },
      {
        "duration": 41,
        "start_time": "2022-04-14T10:59:16.347Z"
      },
      {
        "duration": 394,
        "start_time": "2022-04-14T10:59:16.390Z"
      },
      {
        "duration": 25,
        "start_time": "2022-04-14T10:59:16.786Z"
      },
      {
        "duration": 206,
        "start_time": "2022-04-14T10:59:16.812Z"
      },
      {
        "duration": 193,
        "start_time": "2022-04-14T10:59:17.020Z"
      },
      {
        "duration": 169,
        "start_time": "2022-04-14T10:59:17.216Z"
      },
      {
        "duration": 8,
        "start_time": "2022-04-14T10:59:17.387Z"
      },
      {
        "duration": 140,
        "start_time": "2022-04-14T10:59:17.396Z"
      },
      {
        "duration": 277,
        "start_time": "2022-04-14T10:59:17.537Z"
      },
      {
        "duration": 12,
        "start_time": "2022-04-14T10:59:17.816Z"
      },
      {
        "duration": 165,
        "start_time": "2022-04-14T10:59:17.829Z"
      },
      {
        "duration": 7,
        "start_time": "2022-04-14T10:59:17.995Z"
      },
      {
        "duration": 185,
        "start_time": "2022-04-14T10:59:18.003Z"
      },
      {
        "duration": 7,
        "start_time": "2022-04-14T10:59:18.190Z"
      },
      {
        "duration": 248,
        "start_time": "2022-04-14T10:59:18.199Z"
      },
      {
        "duration": 8,
        "start_time": "2022-04-14T10:59:18.450Z"
      },
      {
        "duration": 338,
        "start_time": "2022-04-14T10:59:18.460Z"
      },
      {
        "duration": 785,
        "start_time": "2022-04-14T10:59:18.800Z"
      },
      {
        "duration": 24,
        "start_time": "2022-04-14T10:59:19.587Z"
      },
      {
        "duration": 212,
        "start_time": "2022-04-14T10:59:19.613Z"
      },
      {
        "duration": 233,
        "start_time": "2022-04-14T10:59:19.827Z"
      },
      {
        "duration": 13,
        "start_time": "2022-04-14T10:59:20.062Z"
      },
      {
        "duration": 42,
        "start_time": "2022-04-14T10:59:20.077Z"
      },
      {
        "duration": 8,
        "start_time": "2022-04-14T12:56:26.009Z"
      },
      {
        "duration": 83,
        "start_time": "2022-04-14T12:58:26.009Z"
      },
      {
        "duration": 784,
        "start_time": "2022-04-14T12:58:33.748Z"
      },
      {
        "duration": 14,
        "start_time": "2022-04-14T12:58:34.534Z"
      },
      {
        "duration": 16,
        "start_time": "2022-04-14T12:58:34.554Z"
      },
      {
        "duration": 21,
        "start_time": "2022-04-14T12:58:34.572Z"
      },
      {
        "duration": 43,
        "start_time": "2022-04-14T12:58:34.594Z"
      },
      {
        "duration": 6,
        "start_time": "2022-04-14T12:58:34.638Z"
      },
      {
        "duration": 65,
        "start_time": "2022-04-14T12:58:34.646Z"
      },
      {
        "duration": 24,
        "start_time": "2022-04-14T12:58:34.712Z"
      },
      {
        "duration": 39,
        "start_time": "2022-04-14T12:58:34.738Z"
      },
      {
        "duration": 303,
        "start_time": "2022-04-14T12:58:34.780Z"
      },
      {
        "duration": 23,
        "start_time": "2022-04-14T12:58:35.085Z"
      },
      {
        "duration": 202,
        "start_time": "2022-04-14T12:58:35.110Z"
      },
      {
        "duration": 277,
        "start_time": "2022-04-14T12:58:35.315Z"
      },
      {
        "duration": 293,
        "start_time": "2022-04-14T12:58:35.594Z"
      },
      {
        "duration": 11,
        "start_time": "2022-04-14T12:58:35.890Z"
      },
      {
        "duration": 221,
        "start_time": "2022-04-14T12:58:35.903Z"
      },
      {
        "duration": 495,
        "start_time": "2022-04-14T12:58:36.125Z"
      },
      {
        "duration": 19,
        "start_time": "2022-04-14T12:58:36.623Z"
      },
      {
        "duration": 178,
        "start_time": "2022-04-14T12:58:36.654Z"
      },
      {
        "duration": 6,
        "start_time": "2022-04-14T12:58:36.833Z"
      },
      {
        "duration": 203,
        "start_time": "2022-04-14T12:58:36.841Z"
      },
      {
        "duration": 10,
        "start_time": "2022-04-14T12:58:37.046Z"
      },
      {
        "duration": 188,
        "start_time": "2022-04-14T12:58:37.058Z"
      },
      {
        "duration": 8,
        "start_time": "2022-04-14T12:58:37.248Z"
      },
      {
        "duration": 163,
        "start_time": "2022-04-14T12:58:37.257Z"
      },
      {
        "duration": 517,
        "start_time": "2022-04-14T12:58:37.421Z"
      },
      {
        "duration": 32,
        "start_time": "2022-04-14T12:58:37.940Z"
      },
      {
        "duration": 216,
        "start_time": "2022-04-14T12:58:37.975Z"
      },
      {
        "duration": 223,
        "start_time": "2022-04-14T12:58:38.192Z"
      },
      {
        "duration": 13,
        "start_time": "2022-04-14T12:58:38.416Z"
      },
      {
        "duration": 825,
        "start_time": "2022-04-14T13:43:14.016Z"
      },
      {
        "duration": 17,
        "start_time": "2022-04-14T13:43:14.843Z"
      },
      {
        "duration": 16,
        "start_time": "2022-04-14T13:43:14.862Z"
      },
      {
        "duration": 5,
        "start_time": "2022-04-14T13:43:14.881Z"
      },
      {
        "duration": 75,
        "start_time": "2022-04-14T13:43:14.888Z"
      },
      {
        "duration": 9,
        "start_time": "2022-04-14T13:43:14.965Z"
      },
      {
        "duration": 87,
        "start_time": "2022-04-14T13:43:14.976Z"
      },
      {
        "duration": 38,
        "start_time": "2022-04-14T13:43:15.066Z"
      },
      {
        "duration": 71,
        "start_time": "2022-04-14T13:43:15.107Z"
      },
      {
        "duration": 489,
        "start_time": "2022-04-14T13:43:15.182Z"
      },
      {
        "duration": 22,
        "start_time": "2022-04-14T13:43:15.673Z"
      },
      {
        "duration": 182,
        "start_time": "2022-04-14T13:43:15.697Z"
      },
      {
        "duration": 178,
        "start_time": "2022-04-14T13:43:15.880Z"
      },
      {
        "duration": 163,
        "start_time": "2022-04-14T13:43:16.060Z"
      },
      {
        "duration": 8,
        "start_time": "2022-04-14T13:43:16.225Z"
      },
      {
        "duration": 126,
        "start_time": "2022-04-14T13:43:16.234Z"
      },
      {
        "duration": 263,
        "start_time": "2022-04-14T13:43:16.361Z"
      },
      {
        "duration": 12,
        "start_time": "2022-04-14T13:43:16.625Z"
      },
      {
        "duration": 239,
        "start_time": "2022-04-14T13:43:16.655Z"
      },
      {
        "duration": 7,
        "start_time": "2022-04-14T13:43:16.897Z"
      },
      {
        "duration": 268,
        "start_time": "2022-04-14T13:43:16.906Z"
      },
      {
        "duration": 7,
        "start_time": "2022-04-14T13:43:17.176Z"
      },
      {
        "duration": 264,
        "start_time": "2022-04-14T13:43:17.185Z"
      },
      {
        "duration": 7,
        "start_time": "2022-04-14T13:43:17.455Z"
      },
      {
        "duration": 237,
        "start_time": "2022-04-14T13:43:17.464Z"
      },
      {
        "duration": 522,
        "start_time": "2022-04-14T13:43:17.703Z"
      },
      {
        "duration": 46,
        "start_time": "2022-04-14T13:43:18.228Z"
      },
      {
        "duration": 242,
        "start_time": "2022-04-14T13:43:18.279Z"
      },
      {
        "duration": 206,
        "start_time": "2022-04-14T13:43:18.523Z"
      },
      {
        "duration": 24,
        "start_time": "2022-04-14T13:43:18.731Z"
      },
      {
        "duration": 46,
        "start_time": "2022-04-14T13:43:33.773Z"
      },
      {
        "duration": 768,
        "start_time": "2022-04-14T14:40:18.596Z"
      },
      {
        "duration": 15,
        "start_time": "2022-04-14T14:40:19.366Z"
      },
      {
        "duration": 12,
        "start_time": "2022-04-14T14:40:19.382Z"
      },
      {
        "duration": 4,
        "start_time": "2022-04-14T14:40:19.396Z"
      },
      {
        "duration": 68,
        "start_time": "2022-04-14T14:40:19.402Z"
      },
      {
        "duration": 6,
        "start_time": "2022-04-14T14:40:19.472Z"
      },
      {
        "duration": 44,
        "start_time": "2022-04-14T14:40:19.480Z"
      },
      {
        "duration": 42,
        "start_time": "2022-04-14T14:40:19.525Z"
      },
      {
        "duration": 36,
        "start_time": "2022-04-14T14:40:19.569Z"
      },
      {
        "duration": 296,
        "start_time": "2022-04-14T14:40:19.608Z"
      },
      {
        "duration": 24,
        "start_time": "2022-04-14T14:40:19.906Z"
      },
      {
        "duration": 191,
        "start_time": "2022-04-14T14:40:19.931Z"
      },
      {
        "duration": 177,
        "start_time": "2022-04-14T14:40:20.124Z"
      },
      {
        "duration": 175,
        "start_time": "2022-04-14T14:40:20.302Z"
      },
      {
        "duration": 9,
        "start_time": "2022-04-14T14:40:20.479Z"
      },
      {
        "duration": 133,
        "start_time": "2022-04-14T14:40:20.490Z"
      },
      {
        "duration": 277,
        "start_time": "2022-04-14T14:40:20.625Z"
      },
      {
        "duration": 13,
        "start_time": "2022-04-14T14:40:20.905Z"
      },
      {
        "duration": 167,
        "start_time": "2022-04-14T14:40:20.920Z"
      },
      {
        "duration": 6,
        "start_time": "2022-04-14T14:40:21.089Z"
      },
      {
        "duration": 177,
        "start_time": "2022-04-14T14:40:21.097Z"
      },
      {
        "duration": 6,
        "start_time": "2022-04-14T14:40:21.276Z"
      },
      {
        "duration": 179,
        "start_time": "2022-04-14T14:40:21.284Z"
      },
      {
        "duration": 6,
        "start_time": "2022-04-14T14:40:21.465Z"
      },
      {
        "duration": 170,
        "start_time": "2022-04-14T14:40:21.472Z"
      },
      {
        "duration": 512,
        "start_time": "2022-04-14T14:40:21.644Z"
      },
      {
        "duration": 24,
        "start_time": "2022-04-14T14:40:22.157Z"
      },
      {
        "duration": 201,
        "start_time": "2022-04-14T14:40:22.184Z"
      },
      {
        "duration": 205,
        "start_time": "2022-04-14T14:40:22.386Z"
      },
      {
        "duration": 12,
        "start_time": "2022-04-14T14:40:22.593Z"
      },
      {
        "duration": 70,
        "start_time": "2022-04-14T14:40:27.540Z"
      },
      {
        "duration": 151,
        "start_time": "2022-04-14T14:46:08.304Z"
      },
      {
        "duration": 7,
        "start_time": "2022-04-14T14:47:04.165Z"
      },
      {
        "duration": 705,
        "start_time": "2022-04-14T14:47:11.272Z"
      },
      {
        "duration": 15,
        "start_time": "2022-04-14T14:47:11.979Z"
      },
      {
        "duration": 11,
        "start_time": "2022-04-14T14:47:11.996Z"
      },
      {
        "duration": 4,
        "start_time": "2022-04-14T14:47:12.010Z"
      },
      {
        "duration": 64,
        "start_time": "2022-04-14T14:47:12.016Z"
      },
      {
        "duration": 6,
        "start_time": "2022-04-14T14:47:12.082Z"
      },
      {
        "duration": 46,
        "start_time": "2022-04-14T14:47:12.090Z"
      },
      {
        "duration": 41,
        "start_time": "2022-04-14T14:47:12.137Z"
      },
      {
        "duration": 40,
        "start_time": "2022-04-14T14:47:12.180Z"
      },
      {
        "duration": 309,
        "start_time": "2022-04-14T14:47:12.224Z"
      },
      {
        "duration": 31,
        "start_time": "2022-04-14T14:47:12.535Z"
      },
      {
        "duration": 201,
        "start_time": "2022-04-14T14:47:12.567Z"
      },
      {
        "duration": 185,
        "start_time": "2022-04-14T14:47:12.769Z"
      },
      {
        "duration": 172,
        "start_time": "2022-04-14T14:47:12.956Z"
      },
      {
        "duration": 10,
        "start_time": "2022-04-14T14:47:13.130Z"
      },
      {
        "duration": 129,
        "start_time": "2022-04-14T14:47:13.155Z"
      },
      {
        "duration": 275,
        "start_time": "2022-04-14T14:47:13.286Z"
      },
      {
        "duration": 15,
        "start_time": "2022-04-14T14:47:13.563Z"
      },
      {
        "duration": 184,
        "start_time": "2022-04-14T14:47:13.580Z"
      },
      {
        "duration": 6,
        "start_time": "2022-04-14T14:47:13.766Z"
      },
      {
        "duration": 190,
        "start_time": "2022-04-14T14:47:13.775Z"
      },
      {
        "duration": 5,
        "start_time": "2022-04-14T14:47:13.967Z"
      },
      {
        "duration": 168,
        "start_time": "2022-04-14T14:47:13.973Z"
      },
      {
        "duration": 14,
        "start_time": "2022-04-14T14:47:14.143Z"
      },
      {
        "duration": 157,
        "start_time": "2022-04-14T14:47:14.158Z"
      },
      {
        "duration": 614,
        "start_time": "2022-04-14T14:47:14.317Z"
      },
      {
        "duration": 38,
        "start_time": "2022-04-14T14:47:14.932Z"
      },
      {
        "duration": 211,
        "start_time": "2022-04-14T14:47:14.973Z"
      },
      {
        "duration": 336,
        "start_time": "2022-04-14T14:47:15.186Z"
      },
      {
        "duration": 19,
        "start_time": "2022-04-14T14:47:15.524Z"
      },
      {
        "duration": 15,
        "start_time": "2022-04-14T14:47:15.555Z"
      },
      {
        "duration": 35,
        "start_time": "2022-04-14T14:47:31.219Z"
      },
      {
        "duration": 24,
        "start_time": "2022-04-14T14:48:48.740Z"
      },
      {
        "duration": 36,
        "start_time": "2022-04-14T14:51:26.385Z"
      },
      {
        "duration": 13,
        "start_time": "2022-04-14T14:51:36.146Z"
      },
      {
        "duration": 10,
        "start_time": "2022-04-14T14:51:52.634Z"
      },
      {
        "duration": 31,
        "start_time": "2022-04-14T14:52:53.480Z"
      },
      {
        "duration": 24,
        "start_time": "2022-04-14T15:00:18.685Z"
      },
      {
        "duration": 28,
        "start_time": "2022-04-14T15:00:32.960Z"
      },
      {
        "duration": 27,
        "start_time": "2022-04-14T15:01:33.216Z"
      },
      {
        "duration": 136,
        "start_time": "2022-04-14T15:04:20.066Z"
      },
      {
        "duration": 134,
        "start_time": "2022-04-14T15:04:42.865Z"
      },
      {
        "duration": 120,
        "start_time": "2022-04-14T15:05:36.199Z"
      },
      {
        "duration": 138,
        "start_time": "2022-04-14T15:05:44.743Z"
      },
      {
        "duration": 127,
        "start_time": "2022-04-14T15:08:46.639Z"
      },
      {
        "duration": 132,
        "start_time": "2022-04-14T15:09:06.536Z"
      },
      {
        "duration": 260,
        "start_time": "2022-04-14T15:09:48.399Z"
      },
      {
        "duration": 257,
        "start_time": "2022-04-14T15:10:24.988Z"
      },
      {
        "duration": 706,
        "start_time": "2022-04-14T15:13:32.972Z"
      },
      {
        "duration": 629,
        "start_time": "2022-04-14T15:14:14.486Z"
      },
      {
        "duration": 93,
        "start_time": "2022-04-14T15:14:28.739Z"
      },
      {
        "duration": 22,
        "start_time": "2022-04-14T15:14:28.834Z"
      },
      {
        "duration": 9,
        "start_time": "2022-04-14T15:14:28.857Z"
      },
      {
        "duration": 11,
        "start_time": "2022-04-14T15:14:28.868Z"
      },
      {
        "duration": 36,
        "start_time": "2022-04-14T15:14:28.881Z"
      },
      {
        "duration": 7,
        "start_time": "2022-04-14T15:14:28.919Z"
      },
      {
        "duration": 44,
        "start_time": "2022-04-14T15:14:28.955Z"
      },
      {
        "duration": 25,
        "start_time": "2022-04-14T15:14:29.001Z"
      },
      {
        "duration": 57,
        "start_time": "2022-04-14T15:14:29.028Z"
      },
      {
        "duration": 299,
        "start_time": "2022-04-14T15:14:29.088Z"
      },
      {
        "duration": 23,
        "start_time": "2022-04-14T15:14:29.389Z"
      },
      {
        "duration": 170,
        "start_time": "2022-04-14T15:14:29.414Z"
      },
      {
        "duration": 136,
        "start_time": "2022-04-14T15:14:29.586Z"
      },
      {
        "duration": 165,
        "start_time": "2022-04-14T15:14:29.724Z"
      },
      {
        "duration": 8,
        "start_time": "2022-04-14T15:14:29.890Z"
      },
      {
        "duration": 134,
        "start_time": "2022-04-14T15:14:29.900Z"
      },
      {
        "duration": 392,
        "start_time": "2022-04-14T15:14:30.036Z"
      },
      {
        "duration": 24,
        "start_time": "2022-04-14T15:14:30.430Z"
      },
      {
        "duration": 162,
        "start_time": "2022-04-14T15:14:30.456Z"
      },
      {
        "duration": 6,
        "start_time": "2022-04-14T15:14:30.619Z"
      },
      {
        "duration": 176,
        "start_time": "2022-04-14T15:14:30.627Z"
      },
      {
        "duration": 5,
        "start_time": "2022-04-14T15:14:30.804Z"
      },
      {
        "duration": 168,
        "start_time": "2022-04-14T15:14:30.811Z"
      },
      {
        "duration": 5,
        "start_time": "2022-04-14T15:14:30.980Z"
      },
      {
        "duration": 162,
        "start_time": "2022-04-14T15:14:30.987Z"
      },
      {
        "duration": 511,
        "start_time": "2022-04-14T15:14:31.154Z"
      },
      {
        "duration": 26,
        "start_time": "2022-04-14T15:14:31.666Z"
      },
      {
        "duration": 140,
        "start_time": "2022-04-14T15:14:31.696Z"
      },
      {
        "duration": 218,
        "start_time": "2022-04-14T15:14:31.838Z"
      },
      {
        "duration": 26,
        "start_time": "2022-04-14T15:14:32.058Z"
      },
      {
        "duration": 27,
        "start_time": "2022-04-14T15:14:32.086Z"
      },
      {
        "duration": 756,
        "start_time": "2022-04-14T15:14:32.115Z"
      },
      {
        "duration": 10,
        "start_time": "2022-04-14T15:14:32.873Z"
      },
      {
        "duration": 602,
        "start_time": "2022-04-14T15:14:56.400Z"
      },
      {
        "duration": 627,
        "start_time": "2022-04-14T15:15:03.902Z"
      },
      {
        "duration": 123,
        "start_time": "2022-04-14T15:15:28.416Z"
      },
      {
        "duration": 622,
        "start_time": "2022-04-14T15:15:33.062Z"
      },
      {
        "duration": 602,
        "start_time": "2022-04-14T15:15:52.511Z"
      },
      {
        "duration": 782,
        "start_time": "2022-04-14T15:16:35.752Z"
      },
      {
        "duration": 609,
        "start_time": "2022-04-14T15:17:27.602Z"
      },
      {
        "duration": 618,
        "start_time": "2022-04-14T15:18:04.318Z"
      },
      {
        "duration": 9,
        "start_time": "2022-04-14T15:20:05.429Z"
      },
      {
        "duration": 6,
        "start_time": "2022-04-14T15:20:14.279Z"
      },
      {
        "duration": 1254,
        "start_time": "2022-04-15T13:14:16.529Z"
      },
      {
        "duration": 21,
        "start_time": "2022-04-15T13:14:17.786Z"
      },
      {
        "duration": 16,
        "start_time": "2022-04-15T13:14:17.809Z"
      },
      {
        "duration": 6,
        "start_time": "2022-04-15T13:14:17.828Z"
      },
      {
        "duration": 84,
        "start_time": "2022-04-15T13:14:17.836Z"
      },
      {
        "duration": 9,
        "start_time": "2022-04-15T13:14:17.922Z"
      },
      {
        "duration": 87,
        "start_time": "2022-04-15T13:14:17.933Z"
      },
      {
        "duration": 59,
        "start_time": "2022-04-15T13:14:18.022Z"
      },
      {
        "duration": 58,
        "start_time": "2022-04-15T13:14:18.084Z"
      },
      {
        "duration": 512,
        "start_time": "2022-04-15T13:14:18.148Z"
      },
      {
        "duration": 47,
        "start_time": "2022-04-15T13:14:18.663Z"
      },
      {
        "duration": 325,
        "start_time": "2022-04-15T13:14:18.713Z"
      },
      {
        "duration": 275,
        "start_time": "2022-04-15T13:14:19.040Z"
      },
      {
        "duration": 130,
        "start_time": "2022-04-15T13:14:19.317Z"
      },
      {
        "duration": 0,
        "start_time": "2022-04-15T13:14:19.450Z"
      },
      {
        "duration": 0,
        "start_time": "2022-04-15T13:14:19.451Z"
      },
      {
        "duration": 0,
        "start_time": "2022-04-15T13:14:19.452Z"
      },
      {
        "duration": 0,
        "start_time": "2022-04-15T13:14:19.454Z"
      },
      {
        "duration": 0,
        "start_time": "2022-04-15T13:14:19.456Z"
      },
      {
        "duration": 0,
        "start_time": "2022-04-15T13:14:19.457Z"
      },
      {
        "duration": 0,
        "start_time": "2022-04-15T13:14:19.459Z"
      },
      {
        "duration": 0,
        "start_time": "2022-04-15T13:14:19.461Z"
      },
      {
        "duration": 0,
        "start_time": "2022-04-15T13:14:19.462Z"
      },
      {
        "duration": 0,
        "start_time": "2022-04-15T13:14:19.464Z"
      },
      {
        "duration": 0,
        "start_time": "2022-04-15T13:14:19.466Z"
      },
      {
        "duration": 0,
        "start_time": "2022-04-15T13:14:19.467Z"
      },
      {
        "duration": 0,
        "start_time": "2022-04-15T13:14:19.469Z"
      },
      {
        "duration": 0,
        "start_time": "2022-04-15T13:14:19.470Z"
      },
      {
        "duration": 0,
        "start_time": "2022-04-15T13:14:19.472Z"
      },
      {
        "duration": 0,
        "start_time": "2022-04-15T13:14:19.474Z"
      },
      {
        "duration": 0,
        "start_time": "2022-04-15T13:14:19.475Z"
      },
      {
        "duration": 0,
        "start_time": "2022-04-15T13:14:19.477Z"
      },
      {
        "duration": 52,
        "start_time": "2022-04-15T13:14:55.284Z"
      },
      {
        "duration": 1325,
        "start_time": "2022-04-15T13:15:34.257Z"
      },
      {
        "duration": 1348,
        "start_time": "2022-04-15T13:15:52.234Z"
      },
      {
        "duration": 46,
        "start_time": "2022-04-15T13:16:25.375Z"
      },
      {
        "duration": 1332,
        "start_time": "2022-04-15T13:16:35.097Z"
      },
      {
        "duration": 12,
        "start_time": "2022-04-15T13:43:59.490Z"
      },
      {
        "duration": 161,
        "start_time": "2022-04-15T13:44:01.719Z"
      },
      {
        "duration": 278,
        "start_time": "2022-04-15T13:44:08.603Z"
      },
      {
        "duration": 127,
        "start_time": "2022-04-15T13:44:45.378Z"
      },
      {
        "duration": 21,
        "start_time": "2022-04-15T13:44:45.508Z"
      },
      {
        "duration": 12,
        "start_time": "2022-04-15T13:44:45.531Z"
      },
      {
        "duration": 8,
        "start_time": "2022-04-15T13:44:45.545Z"
      },
      {
        "duration": 141,
        "start_time": "2022-04-15T13:44:45.583Z"
      },
      {
        "duration": 9,
        "start_time": "2022-04-15T13:44:45.727Z"
      },
      {
        "duration": 90,
        "start_time": "2022-04-15T13:44:45.738Z"
      },
      {
        "duration": 54,
        "start_time": "2022-04-15T13:44:45.830Z"
      },
      {
        "duration": 57,
        "start_time": "2022-04-15T13:44:45.886Z"
      },
      {
        "duration": 567,
        "start_time": "2022-04-15T13:44:45.945Z"
      },
      {
        "duration": 39,
        "start_time": "2022-04-15T13:44:46.515Z"
      },
      {
        "duration": 314,
        "start_time": "2022-04-15T13:44:46.556Z"
      },
      {
        "duration": 233,
        "start_time": "2022-04-15T13:44:46.873Z"
      },
      {
        "duration": 384,
        "start_time": "2022-04-15T13:44:47.110Z"
      },
      {
        "duration": 15,
        "start_time": "2022-04-15T13:44:47.496Z"
      },
      {
        "duration": 257,
        "start_time": "2022-04-15T13:44:47.514Z"
      },
      {
        "duration": 488,
        "start_time": "2022-04-15T13:44:47.773Z"
      },
      {
        "duration": 22,
        "start_time": "2022-04-15T13:44:48.263Z"
      },
      {
        "duration": 278,
        "start_time": "2022-04-15T13:44:48.287Z"
      },
      {
        "duration": 15,
        "start_time": "2022-04-15T13:44:48.567Z"
      },
      {
        "duration": 287,
        "start_time": "2022-04-15T13:44:48.584Z"
      },
      {
        "duration": 13,
        "start_time": "2022-04-15T13:44:48.873Z"
      },
      {
        "duration": 362,
        "start_time": "2022-04-15T13:44:48.888Z"
      },
      {
        "duration": 7,
        "start_time": "2022-04-15T13:44:49.252Z"
      },
      {
        "duration": 272,
        "start_time": "2022-04-15T13:44:49.262Z"
      },
      {
        "duration": 895,
        "start_time": "2022-04-15T13:44:49.536Z"
      },
      {
        "duration": 50,
        "start_time": "2022-04-15T13:44:50.433Z"
      },
      {
        "duration": 247,
        "start_time": "2022-04-15T13:44:50.485Z"
      },
      {
        "duration": 384,
        "start_time": "2022-04-15T13:44:50.735Z"
      },
      {
        "duration": 43,
        "start_time": "2022-04-15T13:44:51.122Z"
      },
      {
        "duration": 43,
        "start_time": "2022-04-15T13:44:51.181Z"
      },
      {
        "duration": 1358,
        "start_time": "2022-04-15T13:44:51.226Z"
      },
      {
        "duration": 12,
        "start_time": "2022-04-15T13:57:54.950Z"
      },
      {
        "duration": 289,
        "start_time": "2022-04-15T13:58:49.547Z"
      },
      {
        "duration": 291,
        "start_time": "2022-04-15T14:03:01.566Z"
      },
      {
        "duration": 387,
        "start_time": "2022-04-15T14:05:18.337Z"
      },
      {
        "duration": 296,
        "start_time": "2022-04-15T14:05:26.567Z"
      },
      {
        "duration": 922,
        "start_time": "2022-04-15T14:06:00.226Z"
      },
      {
        "duration": 1067,
        "start_time": "2022-04-15T14:06:33.762Z"
      },
      {
        "duration": 119,
        "start_time": "2022-04-15T14:09:34.846Z"
      },
      {
        "duration": 2027,
        "start_time": "2022-04-15T14:16:00.859Z"
      },
      {
        "duration": 60,
        "start_time": "2022-04-15T14:16:38.457Z"
      },
      {
        "duration": 8,
        "start_time": "2022-04-15T14:59:45.908Z"
      },
      {
        "duration": 1408,
        "start_time": "2022-04-15T16:52:28.059Z"
      },
      {
        "duration": 29,
        "start_time": "2022-04-15T16:52:29.470Z"
      },
      {
        "duration": 17,
        "start_time": "2022-04-15T16:52:29.501Z"
      },
      {
        "duration": 7,
        "start_time": "2022-04-15T16:52:29.523Z"
      },
      {
        "duration": 94,
        "start_time": "2022-04-15T16:52:29.533Z"
      },
      {
        "duration": 9,
        "start_time": "2022-04-15T16:52:29.629Z"
      },
      {
        "duration": 88,
        "start_time": "2022-04-15T16:52:29.640Z"
      },
      {
        "duration": 57,
        "start_time": "2022-04-15T16:52:29.730Z"
      },
      {
        "duration": 64,
        "start_time": "2022-04-15T16:52:29.792Z"
      },
      {
        "duration": 556,
        "start_time": "2022-04-15T16:52:29.860Z"
      },
      {
        "duration": 41,
        "start_time": "2022-04-15T16:52:30.418Z"
      },
      {
        "duration": 341,
        "start_time": "2022-04-15T16:52:30.461Z"
      },
      {
        "duration": 295,
        "start_time": "2022-04-15T16:52:30.804Z"
      },
      {
        "duration": 318,
        "start_time": "2022-04-15T16:52:31.102Z"
      },
      {
        "duration": 14,
        "start_time": "2022-04-15T16:52:31.423Z"
      },
      {
        "duration": 242,
        "start_time": "2022-04-15T16:52:31.440Z"
      },
      {
        "duration": 1051,
        "start_time": "2022-04-15T16:52:31.685Z"
      },
      {
        "duration": 13,
        "start_time": "2022-04-15T16:52:32.739Z"
      },
      {
        "duration": 86,
        "start_time": "2022-04-15T16:52:32.755Z"
      },
      {
        "duration": 19,
        "start_time": "2022-04-15T16:52:32.844Z"
      },
      {
        "duration": 284,
        "start_time": "2022-04-15T16:52:32.881Z"
      },
      {
        "duration": 18,
        "start_time": "2022-04-15T16:52:33.167Z"
      },
      {
        "duration": 322,
        "start_time": "2022-04-15T16:52:33.187Z"
      },
      {
        "duration": 8,
        "start_time": "2022-04-15T16:52:33.511Z"
      },
      {
        "duration": 324,
        "start_time": "2022-04-15T16:52:33.521Z"
      },
      {
        "duration": 7,
        "start_time": "2022-04-15T16:52:33.848Z"
      },
      {
        "duration": 361,
        "start_time": "2022-04-15T16:52:33.857Z"
      },
      {
        "duration": 928,
        "start_time": "2022-04-15T16:52:34.225Z"
      },
      {
        "duration": 48,
        "start_time": "2022-04-15T16:52:35.156Z"
      },
      {
        "duration": 264,
        "start_time": "2022-04-15T16:52:35.206Z"
      },
      {
        "duration": 384,
        "start_time": "2022-04-15T16:52:35.473Z"
      },
      {
        "duration": 56,
        "start_time": "2022-04-15T16:52:35.859Z"
      },
      {
        "duration": 65,
        "start_time": "2022-04-15T16:52:35.918Z"
      },
      {
        "duration": 1376,
        "start_time": "2022-04-15T16:52:35.986Z"
      },
      {
        "duration": 138,
        "start_time": "2022-04-15T17:23:30.122Z"
      },
      {
        "duration": 121,
        "start_time": "2022-04-15T17:23:43.285Z"
      },
      {
        "duration": 11,
        "start_time": "2022-04-15T17:24:04.073Z"
      },
      {
        "duration": 137,
        "start_time": "2022-04-15T17:24:09.035Z"
      },
      {
        "duration": 26,
        "start_time": "2022-04-15T17:24:09.174Z"
      },
      {
        "duration": 12,
        "start_time": "2022-04-15T17:24:09.203Z"
      },
      {
        "duration": 80,
        "start_time": "2022-04-15T17:24:09.217Z"
      },
      {
        "duration": 9,
        "start_time": "2022-04-15T17:24:09.301Z"
      },
      {
        "duration": 66,
        "start_time": "2022-04-15T17:24:09.417Z"
      },
      {
        "duration": 43,
        "start_time": "2022-04-15T17:24:09.486Z"
      },
      {
        "duration": 85,
        "start_time": "2022-04-15T17:24:09.531Z"
      },
      {
        "duration": 501,
        "start_time": "2022-04-15T17:24:09.619Z"
      },
      {
        "duration": 40,
        "start_time": "2022-04-15T17:24:10.123Z"
      },
      {
        "duration": 133,
        "start_time": "2022-04-15T17:24:10.165Z"
      },
      {
        "duration": 0,
        "start_time": "2022-04-15T17:24:10.302Z"
      },
      {
        "duration": 0,
        "start_time": "2022-04-15T17:24:10.306Z"
      },
      {
        "duration": 0,
        "start_time": "2022-04-15T17:24:10.308Z"
      },
      {
        "duration": 0,
        "start_time": "2022-04-15T17:24:10.311Z"
      },
      {
        "duration": 0,
        "start_time": "2022-04-15T17:24:10.313Z"
      },
      {
        "duration": 0,
        "start_time": "2022-04-15T17:24:10.314Z"
      },
      {
        "duration": 1,
        "start_time": "2022-04-15T17:24:10.316Z"
      },
      {
        "duration": 0,
        "start_time": "2022-04-15T17:24:10.318Z"
      },
      {
        "duration": 0,
        "start_time": "2022-04-15T17:24:10.320Z"
      },
      {
        "duration": 0,
        "start_time": "2022-04-15T17:24:10.323Z"
      },
      {
        "duration": 0,
        "start_time": "2022-04-15T17:24:10.325Z"
      },
      {
        "duration": 0,
        "start_time": "2022-04-15T17:24:10.327Z"
      },
      {
        "duration": 0,
        "start_time": "2022-04-15T17:24:10.329Z"
      },
      {
        "duration": 0,
        "start_time": "2022-04-15T17:24:10.331Z"
      },
      {
        "duration": 0,
        "start_time": "2022-04-15T17:24:10.333Z"
      },
      {
        "duration": 0,
        "start_time": "2022-04-15T17:24:10.335Z"
      },
      {
        "duration": 0,
        "start_time": "2022-04-15T17:24:10.337Z"
      },
      {
        "duration": 0,
        "start_time": "2022-04-15T17:24:10.382Z"
      },
      {
        "duration": 0,
        "start_time": "2022-04-15T17:24:10.384Z"
      },
      {
        "duration": 0,
        "start_time": "2022-04-15T17:24:10.386Z"
      },
      {
        "duration": 0,
        "start_time": "2022-04-15T17:24:10.389Z"
      },
      {
        "duration": 1,
        "start_time": "2022-04-15T17:24:10.390Z"
      },
      {
        "duration": 385,
        "start_time": "2022-04-15T17:25:19.239Z"
      },
      {
        "duration": 128,
        "start_time": "2022-04-15T17:25:48.308Z"
      },
      {
        "duration": 20,
        "start_time": "2022-04-15T17:25:48.438Z"
      },
      {
        "duration": 32,
        "start_time": "2022-04-15T17:25:48.460Z"
      },
      {
        "duration": 52,
        "start_time": "2022-04-15T17:25:48.496Z"
      },
      {
        "duration": 40,
        "start_time": "2022-04-15T17:25:48.550Z"
      },
      {
        "duration": 90,
        "start_time": "2022-04-15T17:25:48.593Z"
      },
      {
        "duration": 41,
        "start_time": "2022-04-15T17:25:48.686Z"
      },
      {
        "duration": 78,
        "start_time": "2022-04-15T17:25:48.729Z"
      },
      {
        "duration": 502,
        "start_time": "2022-04-15T17:25:48.809Z"
      },
      {
        "duration": 39,
        "start_time": "2022-04-15T17:25:49.315Z"
      },
      {
        "duration": 307,
        "start_time": "2022-04-15T17:25:49.357Z"
      },
      {
        "duration": 241,
        "start_time": "2022-04-15T17:25:49.666Z"
      },
      {
        "duration": 318,
        "start_time": "2022-04-15T17:25:49.909Z"
      },
      {
        "duration": 13,
        "start_time": "2022-04-15T17:25:50.230Z"
      },
      {
        "duration": 246,
        "start_time": "2022-04-15T17:25:50.246Z"
      },
      {
        "duration": 12,
        "start_time": "2022-04-15T17:25:50.494Z"
      },
      {
        "duration": 0,
        "start_time": "2022-04-15T17:25:50.508Z"
      },
      {
        "duration": 0,
        "start_time": "2022-04-15T17:25:50.510Z"
      },
      {
        "duration": 0,
        "start_time": "2022-04-15T17:25:50.512Z"
      },
      {
        "duration": 0,
        "start_time": "2022-04-15T17:25:50.514Z"
      },
      {
        "duration": 0,
        "start_time": "2022-04-15T17:25:50.515Z"
      },
      {
        "duration": 0,
        "start_time": "2022-04-15T17:25:50.517Z"
      },
      {
        "duration": 0,
        "start_time": "2022-04-15T17:25:50.518Z"
      },
      {
        "duration": 0,
        "start_time": "2022-04-15T17:25:50.519Z"
      },
      {
        "duration": 0,
        "start_time": "2022-04-15T17:25:50.521Z"
      },
      {
        "duration": 0,
        "start_time": "2022-04-15T17:25:50.522Z"
      },
      {
        "duration": 0,
        "start_time": "2022-04-15T17:25:50.523Z"
      },
      {
        "duration": 0,
        "start_time": "2022-04-15T17:25:50.525Z"
      },
      {
        "duration": 0,
        "start_time": "2022-04-15T17:25:50.526Z"
      },
      {
        "duration": 0,
        "start_time": "2022-04-15T17:25:50.527Z"
      },
      {
        "duration": 0,
        "start_time": "2022-04-15T17:25:50.529Z"
      },
      {
        "duration": 0,
        "start_time": "2022-04-15T17:25:50.530Z"
      },
      {
        "duration": 0,
        "start_time": "2022-04-15T17:25:50.582Z"
      },
      {
        "duration": 138,
        "start_time": "2022-04-15T17:26:33.975Z"
      },
      {
        "duration": 150,
        "start_time": "2022-04-15T17:26:39.959Z"
      },
      {
        "duration": 139,
        "start_time": "2022-04-15T17:26:47.271Z"
      },
      {
        "duration": 132,
        "start_time": "2022-04-15T17:26:57.483Z"
      },
      {
        "duration": 14,
        "start_time": "2022-04-15T17:27:11.589Z"
      },
      {
        "duration": 168,
        "start_time": "2022-04-15T17:27:18.366Z"
      },
      {
        "duration": 133,
        "start_time": "2022-04-15T17:27:23.868Z"
      },
      {
        "duration": 135,
        "start_time": "2022-04-15T17:27:28.660Z"
      },
      {
        "duration": 192,
        "start_time": "2022-04-15T17:27:37.237Z"
      },
      {
        "duration": 1292,
        "start_time": "2022-04-15T17:27:42.477Z"
      },
      {
        "duration": 12,
        "start_time": "2022-04-15T17:28:06.802Z"
      },
      {
        "duration": 92,
        "start_time": "2022-04-15T17:28:39.311Z"
      },
      {
        "duration": 18,
        "start_time": "2022-04-15T17:30:14.135Z"
      },
      {
        "duration": 197,
        "start_time": "2022-04-15T17:30:20.786Z"
      },
      {
        "duration": 25,
        "start_time": "2022-04-15T17:30:20.986Z"
      },
      {
        "duration": 20,
        "start_time": "2022-04-15T17:30:21.014Z"
      },
      {
        "duration": 82,
        "start_time": "2022-04-15T17:30:21.309Z"
      },
      {
        "duration": 10,
        "start_time": "2022-04-15T17:30:21.394Z"
      },
      {
        "duration": 86,
        "start_time": "2022-04-15T17:30:21.406Z"
      },
      {
        "duration": 45,
        "start_time": "2022-04-15T17:30:21.497Z"
      },
      {
        "duration": 85,
        "start_time": "2022-04-15T17:30:21.545Z"
      },
      {
        "duration": 954,
        "start_time": "2022-04-15T17:30:21.633Z"
      },
      {
        "duration": 44,
        "start_time": "2022-04-15T17:30:22.589Z"
      },
      {
        "duration": 292,
        "start_time": "2022-04-15T17:30:22.636Z"
      },
      {
        "duration": 238,
        "start_time": "2022-04-15T17:30:22.930Z"
      },
      {
        "duration": 490,
        "start_time": "2022-04-15T17:30:23.172Z"
      },
      {
        "duration": 24,
        "start_time": "2022-04-15T17:30:23.665Z"
      },
      {
        "duration": 348,
        "start_time": "2022-04-15T17:30:23.693Z"
      },
      {
        "duration": 2012,
        "start_time": "2022-04-15T17:30:24.044Z"
      },
      {
        "duration": 28,
        "start_time": "2022-04-15T17:30:26.059Z"
      },
      {
        "duration": 118,
        "start_time": "2022-04-15T17:30:26.090Z"
      },
      {
        "duration": 18,
        "start_time": "2022-04-15T17:30:26.210Z"
      },
      {
        "duration": 316,
        "start_time": "2022-04-15T17:30:26.230Z"
      },
      {
        "duration": 8,
        "start_time": "2022-04-15T17:30:26.548Z"
      },
      {
        "duration": 332,
        "start_time": "2022-04-15T17:30:26.558Z"
      },
      {
        "duration": 10,
        "start_time": "2022-04-15T17:30:26.893Z"
      },
      {
        "duration": 323,
        "start_time": "2022-04-15T17:30:26.905Z"
      },
      {
        "duration": 8,
        "start_time": "2022-04-15T17:30:27.231Z"
      },
      {
        "duration": 297,
        "start_time": "2022-04-15T17:30:27.241Z"
      },
      {
        "duration": 931,
        "start_time": "2022-04-15T17:30:27.540Z"
      },
      {
        "duration": 48,
        "start_time": "2022-04-15T17:30:28.474Z"
      },
      {
        "duration": 272,
        "start_time": "2022-04-15T17:30:28.525Z"
      },
      {
        "duration": 388,
        "start_time": "2022-04-15T17:30:28.799Z"
      },
      {
        "duration": 46,
        "start_time": "2022-04-15T17:30:29.191Z"
      },
      {
        "duration": 83,
        "start_time": "2022-04-15T17:30:29.239Z"
      },
      {
        "duration": 1593,
        "start_time": "2022-04-15T17:30:29.324Z"
      },
      {
        "duration": 900,
        "start_time": "2022-04-15T17:33:03.746Z"
      },
      {
        "duration": 131,
        "start_time": "2022-04-15T17:42:29.835Z"
      },
      {
        "duration": 38,
        "start_time": "2022-04-15T17:42:29.969Z"
      },
      {
        "duration": 14,
        "start_time": "2022-04-15T17:42:30.011Z"
      },
      {
        "duration": 88,
        "start_time": "2022-04-15T17:42:30.028Z"
      },
      {
        "duration": 10,
        "start_time": "2022-04-15T17:42:30.119Z"
      },
      {
        "duration": 94,
        "start_time": "2022-04-15T17:42:30.131Z"
      },
      {
        "duration": 56,
        "start_time": "2022-04-15T17:42:30.228Z"
      },
      {
        "duration": 67,
        "start_time": "2022-04-15T17:42:30.286Z"
      },
      {
        "duration": 579,
        "start_time": "2022-04-15T17:42:30.355Z"
      },
      {
        "duration": 56,
        "start_time": "2022-04-15T17:42:30.937Z"
      },
      {
        "duration": 296,
        "start_time": "2022-04-15T17:42:30.995Z"
      },
      {
        "duration": 255,
        "start_time": "2022-04-15T17:42:31.294Z"
      },
      {
        "duration": 323,
        "start_time": "2022-04-15T17:42:31.551Z"
      },
      {
        "duration": 15,
        "start_time": "2022-04-15T17:42:31.885Z"
      },
      {
        "duration": 230,
        "start_time": "2022-04-15T17:42:31.903Z"
      },
      {
        "duration": 1285,
        "start_time": "2022-04-15T17:42:32.135Z"
      },
      {
        "duration": 12,
        "start_time": "2022-04-15T17:42:33.422Z"
      },
      {
        "duration": 88,
        "start_time": "2022-04-15T17:42:33.436Z"
      },
      {
        "duration": 19,
        "start_time": "2022-04-15T17:42:33.526Z"
      },
      {
        "duration": 309,
        "start_time": "2022-04-15T17:42:33.547Z"
      },
      {
        "duration": 8,
        "start_time": "2022-04-15T17:42:33.859Z"
      },
      {
        "duration": 313,
        "start_time": "2022-04-15T17:42:33.886Z"
      },
      {
        "duration": 9,
        "start_time": "2022-04-15T17:42:34.202Z"
      },
      {
        "duration": 311,
        "start_time": "2022-04-15T17:42:34.214Z"
      },
      {
        "duration": 7,
        "start_time": "2022-04-15T17:42:34.528Z"
      },
      {
        "duration": 295,
        "start_time": "2022-04-15T17:42:34.538Z"
      },
      {
        "duration": 975,
        "start_time": "2022-04-15T17:42:34.835Z"
      },
      {
        "duration": 38,
        "start_time": "2022-04-15T17:42:35.812Z"
      },
      {
        "duration": 277,
        "start_time": "2022-04-15T17:42:35.852Z"
      },
      {
        "duration": 408,
        "start_time": "2022-04-15T17:42:36.131Z"
      },
      {
        "duration": 66,
        "start_time": "2022-04-15T17:42:36.541Z"
      },
      {
        "duration": 43,
        "start_time": "2022-04-15T17:42:36.610Z"
      },
      {
        "duration": 1500,
        "start_time": "2022-04-15T17:42:36.655Z"
      },
      {
        "duration": 916,
        "start_time": "2022-04-25T04:02:45.961Z"
      },
      {
        "duration": 876,
        "start_time": "2022-04-25T04:06:13.672Z"
      },
      {
        "duration": 17,
        "start_time": "2022-04-25T04:06:14.552Z"
      },
      {
        "duration": 9,
        "start_time": "2022-04-25T04:06:14.572Z"
      },
      {
        "duration": 34,
        "start_time": "2022-04-25T04:06:14.584Z"
      },
      {
        "duration": 6,
        "start_time": "2022-04-25T04:06:14.619Z"
      },
      {
        "duration": 47,
        "start_time": "2022-04-25T04:06:14.647Z"
      },
      {
        "duration": 25,
        "start_time": "2022-04-25T04:06:14.695Z"
      },
      {
        "duration": 70,
        "start_time": "2022-04-25T04:06:14.721Z"
      },
      {
        "duration": 474,
        "start_time": "2022-04-25T04:06:14.794Z"
      },
      {
        "duration": 34,
        "start_time": "2022-04-25T04:06:15.272Z"
      },
      {
        "duration": 262,
        "start_time": "2022-04-25T04:06:15.307Z"
      },
      {
        "duration": 243,
        "start_time": "2022-04-25T04:06:15.570Z"
      },
      {
        "duration": 264,
        "start_time": "2022-04-25T04:06:15.815Z"
      },
      {
        "duration": 10,
        "start_time": "2022-04-25T04:06:16.081Z"
      },
      {
        "duration": 159,
        "start_time": "2022-04-25T04:06:16.093Z"
      },
      {
        "duration": 566,
        "start_time": "2022-04-25T04:06:16.254Z"
      },
      {
        "duration": 9,
        "start_time": "2022-04-25T04:06:16.821Z"
      },
      {
        "duration": 52,
        "start_time": "2022-04-25T04:06:16.832Z"
      },
      {
        "duration": 11,
        "start_time": "2022-04-25T04:06:16.886Z"
      },
      {
        "duration": 180,
        "start_time": "2022-04-25T04:06:16.899Z"
      },
      {
        "duration": 6,
        "start_time": "2022-04-25T04:06:17.081Z"
      },
      {
        "duration": 189,
        "start_time": "2022-04-25T04:06:17.088Z"
      },
      {
        "duration": 6,
        "start_time": "2022-04-25T04:06:17.278Z"
      },
      {
        "duration": 184,
        "start_time": "2022-04-25T04:06:17.286Z"
      },
      {
        "duration": 5,
        "start_time": "2022-04-25T04:06:17.472Z"
      },
      {
        "duration": 226,
        "start_time": "2022-04-25T04:06:17.479Z"
      },
      {
        "duration": 523,
        "start_time": "2022-04-25T04:06:17.706Z"
      },
      {
        "duration": 36,
        "start_time": "2022-04-25T04:06:18.232Z"
      },
      {
        "duration": 142,
        "start_time": "2022-04-25T04:06:18.270Z"
      },
      {
        "duration": 219,
        "start_time": "2022-04-25T04:06:18.414Z"
      },
      {
        "duration": 37,
        "start_time": "2022-04-25T04:06:18.635Z"
      },
      {
        "duration": 28,
        "start_time": "2022-04-25T04:06:18.674Z"
      },
      {
        "duration": 795,
        "start_time": "2022-04-25T04:06:18.704Z"
      },
      {
        "duration": 37,
        "start_time": "2022-04-25T04:09:20.492Z"
      },
      {
        "duration": 34,
        "start_time": "2022-04-25T04:30:35.814Z"
      },
      {
        "duration": 160,
        "start_time": "2022-04-25T06:10:10.061Z"
      },
      {
        "duration": 105,
        "start_time": "2022-04-25T07:39:54.515Z"
      },
      {
        "duration": 104,
        "start_time": "2022-04-25T07:40:14.602Z"
      },
      {
        "duration": 207,
        "start_time": "2022-04-25T07:47:49.822Z"
      },
      {
        "duration": 126,
        "start_time": "2022-04-25T07:48:03.697Z"
      },
      {
        "duration": 119,
        "start_time": "2022-04-25T07:48:33.474Z"
      },
      {
        "duration": 103,
        "start_time": "2022-04-25T07:50:21.283Z"
      },
      {
        "duration": 85,
        "start_time": "2022-04-26T16:28:44.217Z"
      },
      {
        "duration": 1362,
        "start_time": "2022-04-26T16:28:51.059Z"
      },
      {
        "duration": 23,
        "start_time": "2022-04-26T16:28:52.424Z"
      },
      {
        "duration": 41,
        "start_time": "2022-04-26T16:28:52.449Z"
      },
      {
        "duration": 56,
        "start_time": "2022-04-26T16:28:52.494Z"
      },
      {
        "duration": 84,
        "start_time": "2022-04-26T16:28:52.553Z"
      },
      {
        "duration": 9,
        "start_time": "2022-04-26T16:28:52.639Z"
      },
      {
        "duration": 103,
        "start_time": "2022-04-26T16:28:52.650Z"
      },
      {
        "duration": 50,
        "start_time": "2022-04-26T16:28:52.755Z"
      },
      {
        "duration": 88,
        "start_time": "2022-04-26T16:28:52.808Z"
      },
      {
        "duration": 554,
        "start_time": "2022-04-26T16:28:52.904Z"
      },
      {
        "duration": 59,
        "start_time": "2022-04-26T16:28:53.460Z"
      },
      {
        "duration": 306,
        "start_time": "2022-04-26T16:28:53.521Z"
      },
      {
        "duration": 298,
        "start_time": "2022-04-26T16:28:53.830Z"
      },
      {
        "duration": 314,
        "start_time": "2022-04-26T16:28:54.130Z"
      },
      {
        "duration": 12,
        "start_time": "2022-04-26T16:28:54.446Z"
      },
      {
        "duration": 232,
        "start_time": "2022-04-26T16:28:54.460Z"
      },
      {
        "duration": 1036,
        "start_time": "2022-04-26T16:28:54.695Z"
      },
      {
        "duration": 11,
        "start_time": "2022-04-26T16:28:55.733Z"
      },
      {
        "duration": 88,
        "start_time": "2022-04-26T16:28:55.746Z"
      },
      {
        "duration": 17,
        "start_time": "2022-04-26T16:28:55.836Z"
      },
      {
        "duration": 291,
        "start_time": "2022-04-26T16:28:55.856Z"
      },
      {
        "duration": 7,
        "start_time": "2022-04-26T16:28:56.150Z"
      },
      {
        "duration": 312,
        "start_time": "2022-04-26T16:28:56.159Z"
      },
      {
        "duration": 21,
        "start_time": "2022-04-26T16:28:56.474Z"
      },
      {
        "duration": 307,
        "start_time": "2022-04-26T16:28:56.497Z"
      },
      {
        "duration": 7,
        "start_time": "2022-04-26T16:28:56.808Z"
      },
      {
        "duration": 336,
        "start_time": "2022-04-26T16:28:56.817Z"
      },
      {
        "duration": 949,
        "start_time": "2022-04-26T16:28:57.158Z"
      },
      {
        "duration": 36,
        "start_time": "2022-04-26T16:28:58.109Z"
      },
      {
        "duration": 266,
        "start_time": "2022-04-26T16:28:58.147Z"
      },
      {
        "duration": 395,
        "start_time": "2022-04-26T16:28:58.416Z"
      },
      {
        "duration": 46,
        "start_time": "2022-04-26T16:28:58.814Z"
      },
      {
        "duration": 47,
        "start_time": "2022-04-26T16:28:58.887Z"
      },
      {
        "duration": 1379,
        "start_time": "2022-04-26T16:28:58.936Z"
      },
      {
        "duration": 46,
        "start_time": "2022-04-26T16:33:44.599Z"
      },
      {
        "duration": 158,
        "start_time": "2022-04-26T16:34:36.475Z"
      },
      {
        "duration": 21,
        "start_time": "2022-04-26T16:34:41.315Z"
      },
      {
        "duration": 63,
        "start_time": "2022-04-26T16:35:34.693Z"
      },
      {
        "duration": 14,
        "start_time": "2022-04-26T16:35:44.095Z"
      },
      {
        "duration": 7,
        "start_time": "2022-04-26T16:36:08.128Z"
      },
      {
        "duration": 169,
        "start_time": "2022-04-26T16:36:53.921Z"
      },
      {
        "duration": 182,
        "start_time": "2022-04-26T16:38:35.731Z"
      },
      {
        "duration": 201,
        "start_time": "2022-04-26T16:38:57.026Z"
      },
      {
        "duration": 59,
        "start_time": "2022-04-26T16:43:44.110Z"
      },
      {
        "duration": 77,
        "start_time": "2022-04-26T16:45:30.822Z"
      },
      {
        "duration": 124,
        "start_time": "2022-04-26T16:45:57.204Z"
      },
      {
        "duration": 71,
        "start_time": "2022-04-26T16:50:41.706Z"
      },
      {
        "duration": 45,
        "start_time": "2022-04-26T17:09:54.745Z"
      },
      {
        "duration": 47,
        "start_time": "2022-04-26T17:09:59.941Z"
      },
      {
        "duration": 162,
        "start_time": "2022-04-26T17:10:43.007Z"
      },
      {
        "duration": 137,
        "start_time": "2022-04-26T17:11:05.037Z"
      },
      {
        "duration": 144,
        "start_time": "2022-04-26T17:11:23.088Z"
      },
      {
        "duration": 181,
        "start_time": "2022-04-26T17:11:31.550Z"
      },
      {
        "duration": 2498,
        "start_time": "2022-04-26T17:11:38.854Z"
      },
      {
        "duration": 1843,
        "start_time": "2022-04-26T17:11:51.719Z"
      },
      {
        "duration": 14,
        "start_time": "2022-04-26T17:13:09.166Z"
      },
      {
        "duration": 11,
        "start_time": "2022-04-26T17:15:40.511Z"
      },
      {
        "duration": 2241,
        "start_time": "2022-04-26T17:16:05.894Z"
      },
      {
        "duration": 1150,
        "start_time": "2022-04-26T17:16:30.343Z"
      },
      {
        "duration": 6,
        "start_time": "2022-04-26T17:20:40.554Z"
      },
      {
        "duration": 12,
        "start_time": "2022-04-26T17:20:59.344Z"
      },
      {
        "duration": 14,
        "start_time": "2022-04-26T17:22:10.478Z"
      },
      {
        "duration": 1046,
        "start_time": "2022-04-26T17:22:37.424Z"
      },
      {
        "duration": 11,
        "start_time": "2022-04-26T17:22:56.917Z"
      },
      {
        "duration": 10,
        "start_time": "2022-04-26T17:23:44.847Z"
      },
      {
        "duration": 214,
        "start_time": "2022-04-26T17:24:01.105Z"
      },
      {
        "duration": 33,
        "start_time": "2022-04-26T17:24:10.819Z"
      },
      {
        "duration": 17,
        "start_time": "2022-04-26T17:25:05.723Z"
      },
      {
        "duration": 19,
        "start_time": "2022-04-26T17:25:22.755Z"
      },
      {
        "duration": 93,
        "start_time": "2022-04-26T17:26:47.243Z"
      },
      {
        "duration": 18,
        "start_time": "2022-04-26T17:27:37.211Z"
      },
      {
        "duration": 203,
        "start_time": "2022-04-26T17:29:27.522Z"
      },
      {
        "duration": 152,
        "start_time": "2022-04-26T17:29:37.009Z"
      },
      {
        "duration": 13,
        "start_time": "2022-04-26T17:29:44.932Z"
      },
      {
        "duration": 14,
        "start_time": "2022-04-26T17:29:53.939Z"
      },
      {
        "duration": 12,
        "start_time": "2022-04-26T17:43:29.752Z"
      },
      {
        "duration": 8,
        "start_time": "2022-04-26T17:46:54.930Z"
      },
      {
        "duration": 8,
        "start_time": "2022-04-26T17:48:13.329Z"
      },
      {
        "duration": 33,
        "start_time": "2022-04-26T17:49:28.473Z"
      },
      {
        "duration": 32,
        "start_time": "2022-04-26T17:50:47.691Z"
      },
      {
        "duration": 19,
        "start_time": "2022-04-26T17:51:33.236Z"
      },
      {
        "duration": 37,
        "start_time": "2022-04-26T17:52:36.681Z"
      },
      {
        "duration": 151,
        "start_time": "2022-04-26T17:55:22.153Z"
      },
      {
        "duration": 10,
        "start_time": "2022-04-26T17:58:46.544Z"
      },
      {
        "duration": 91,
        "start_time": "2022-04-26T17:59:09.041Z"
      },
      {
        "duration": 162,
        "start_time": "2022-04-26T18:04:16.192Z"
      },
      {
        "duration": 353,
        "start_time": "2022-04-26T18:05:11.456Z"
      },
      {
        "duration": 318,
        "start_time": "2022-04-26T18:05:18.026Z"
      },
      {
        "duration": 264,
        "start_time": "2022-04-26T18:05:32.447Z"
      },
      {
        "duration": 1218,
        "start_time": "2022-04-26T18:05:42.823Z"
      },
      {
        "duration": 544,
        "start_time": "2022-04-26T18:08:10.200Z"
      },
      {
        "duration": 278,
        "start_time": "2022-04-26T18:08:32.713Z"
      },
      {
        "duration": 284,
        "start_time": "2022-04-26T18:09:07.048Z"
      },
      {
        "duration": 332,
        "start_time": "2022-04-26T18:13:13.572Z"
      },
      {
        "duration": 474,
        "start_time": "2022-04-26T18:13:25.606Z"
      },
      {
        "duration": 485,
        "start_time": "2022-04-26T18:13:49.223Z"
      },
      {
        "duration": 470,
        "start_time": "2022-04-26T18:16:03.649Z"
      },
      {
        "duration": 302,
        "start_time": "2022-04-26T18:16:15.862Z"
      },
      {
        "duration": 146,
        "start_time": "2022-04-26T18:18:13.368Z"
      },
      {
        "duration": 315,
        "start_time": "2022-04-26T18:20:20.632Z"
      },
      {
        "duration": 308,
        "start_time": "2022-04-26T18:20:28.823Z"
      },
      {
        "duration": 321,
        "start_time": "2022-04-26T18:20:50.125Z"
      },
      {
        "duration": 184,
        "start_time": "2022-04-26T18:21:55.341Z"
      },
      {
        "duration": 321,
        "start_time": "2022-04-26T18:23:15.679Z"
      },
      {
        "duration": 363,
        "start_time": "2022-04-26T18:24:32.028Z"
      },
      {
        "duration": 304,
        "start_time": "2022-04-26T18:25:03.950Z"
      },
      {
        "duration": 16,
        "start_time": "2022-04-26T18:25:27.980Z"
      },
      {
        "duration": 205,
        "start_time": "2022-04-26T18:25:35.372Z"
      },
      {
        "duration": 28,
        "start_time": "2022-04-26T18:25:35.581Z"
      },
      {
        "duration": 19,
        "start_time": "2022-04-26T18:25:35.611Z"
      },
      {
        "duration": 81,
        "start_time": "2022-04-26T18:25:35.634Z"
      },
      {
        "duration": 16,
        "start_time": "2022-04-26T18:25:35.717Z"
      },
      {
        "duration": 12,
        "start_time": "2022-04-26T18:25:35.735Z"
      },
      {
        "duration": 67,
        "start_time": "2022-04-26T18:25:35.749Z"
      },
      {
        "duration": 69,
        "start_time": "2022-04-26T18:25:35.818Z"
      },
      {
        "duration": 102,
        "start_time": "2022-04-26T18:25:35.890Z"
      },
      {
        "duration": 12,
        "start_time": "2022-04-26T18:25:35.999Z"
      },
      {
        "duration": 84,
        "start_time": "2022-04-26T18:25:36.013Z"
      },
      {
        "duration": 41,
        "start_time": "2022-04-26T18:25:36.100Z"
      },
      {
        "duration": 83,
        "start_time": "2022-04-26T18:25:36.144Z"
      },
      {
        "duration": 667,
        "start_time": "2022-04-26T18:25:36.229Z"
      },
      {
        "duration": 38,
        "start_time": "2022-04-26T18:25:36.899Z"
      },
      {
        "duration": 295,
        "start_time": "2022-04-26T18:25:36.939Z"
      },
      {
        "duration": 227,
        "start_time": "2022-04-26T18:25:37.236Z"
      },
      {
        "duration": 305,
        "start_time": "2022-04-26T18:25:37.465Z"
      },
      {
        "duration": 328,
        "start_time": "2022-04-26T18:25:37.772Z"
      },
      {
        "duration": 310,
        "start_time": "2022-04-26T18:25:38.103Z"
      },
      {
        "duration": 14,
        "start_time": "2022-04-26T18:25:38.416Z"
      },
      {
        "duration": 233,
        "start_time": "2022-04-26T18:25:38.433Z"
      },
      {
        "duration": 1035,
        "start_time": "2022-04-26T18:25:38.669Z"
      },
      {
        "duration": 14,
        "start_time": "2022-04-26T18:25:39.706Z"
      },
      {
        "duration": 203,
        "start_time": "2022-04-26T18:25:39.722Z"
      },
      {
        "duration": 15,
        "start_time": "2022-04-26T18:25:39.927Z"
      },
      {
        "duration": 0,
        "start_time": "2022-04-26T18:25:39.945Z"
      },
      {
        "duration": 0,
        "start_time": "2022-04-26T18:25:39.947Z"
      },
      {
        "duration": 0,
        "start_time": "2022-04-26T18:25:39.949Z"
      },
      {
        "duration": 0,
        "start_time": "2022-04-26T18:25:39.950Z"
      },
      {
        "duration": 0,
        "start_time": "2022-04-26T18:25:39.951Z"
      },
      {
        "duration": 0,
        "start_time": "2022-04-26T18:25:39.953Z"
      },
      {
        "duration": 0,
        "start_time": "2022-04-26T18:25:39.989Z"
      },
      {
        "duration": 0,
        "start_time": "2022-04-26T18:25:39.991Z"
      },
      {
        "duration": 0,
        "start_time": "2022-04-26T18:25:39.995Z"
      },
      {
        "duration": 0,
        "start_time": "2022-04-26T18:25:39.996Z"
      },
      {
        "duration": 0,
        "start_time": "2022-04-26T18:25:39.998Z"
      },
      {
        "duration": 0,
        "start_time": "2022-04-26T18:25:40.001Z"
      },
      {
        "duration": 0,
        "start_time": "2022-04-26T18:25:40.002Z"
      },
      {
        "duration": 0,
        "start_time": "2022-04-26T18:25:40.003Z"
      },
      {
        "duration": 58,
        "start_time": "2022-04-26T18:26:51.211Z"
      },
      {
        "duration": 8,
        "start_time": "2022-04-26T18:27:06.038Z"
      },
      {
        "duration": 74,
        "start_time": "2022-04-26T18:27:28.874Z"
      },
      {
        "duration": 234,
        "start_time": "2022-04-26T18:27:58.374Z"
      },
      {
        "duration": 23,
        "start_time": "2022-04-26T18:27:58.611Z"
      },
      {
        "duration": 13,
        "start_time": "2022-04-26T18:27:58.636Z"
      },
      {
        "duration": 53,
        "start_time": "2022-04-26T18:27:58.685Z"
      },
      {
        "duration": 17,
        "start_time": "2022-04-26T18:27:58.741Z"
      },
      {
        "duration": 37,
        "start_time": "2022-04-26T18:27:58.761Z"
      },
      {
        "duration": 42,
        "start_time": "2022-04-26T18:27:58.803Z"
      },
      {
        "duration": 78,
        "start_time": "2022-04-26T18:27:58.847Z"
      },
      {
        "duration": 75,
        "start_time": "2022-04-26T18:27:58.927Z"
      },
      {
        "duration": 12,
        "start_time": "2022-04-26T18:27:59.007Z"
      },
      {
        "duration": 101,
        "start_time": "2022-04-26T18:27:59.021Z"
      },
      {
        "duration": 39,
        "start_time": "2022-04-26T18:27:59.125Z"
      },
      {
        "duration": 76,
        "start_time": "2022-04-26T18:27:59.167Z"
      },
      {
        "duration": 553,
        "start_time": "2022-04-26T18:27:59.245Z"
      },
      {
        "duration": 39,
        "start_time": "2022-04-26T18:27:59.800Z"
      },
      {
        "duration": 299,
        "start_time": "2022-04-26T18:27:59.842Z"
      },
      {
        "duration": 230,
        "start_time": "2022-04-26T18:28:00.143Z"
      },
      {
        "duration": 314,
        "start_time": "2022-04-26T18:28:00.375Z"
      },
      {
        "duration": 317,
        "start_time": "2022-04-26T18:28:00.692Z"
      },
      {
        "duration": 309,
        "start_time": "2022-04-26T18:28:01.012Z"
      },
      {
        "duration": 12,
        "start_time": "2022-04-26T18:28:01.323Z"
      },
      {
        "duration": 229,
        "start_time": "2022-04-26T18:28:01.337Z"
      },
      {
        "duration": 1152,
        "start_time": "2022-04-26T18:28:01.568Z"
      },
      {
        "duration": 15,
        "start_time": "2022-04-26T18:28:02.722Z"
      },
      {
        "duration": 94,
        "start_time": "2022-04-26T18:28:02.740Z"
      },
      {
        "duration": 19,
        "start_time": "2022-04-26T18:28:02.838Z"
      },
      {
        "duration": 309,
        "start_time": "2022-04-26T18:28:02.860Z"
      },
      {
        "duration": 22,
        "start_time": "2022-04-26T18:28:03.174Z"
      },
      {
        "duration": 304,
        "start_time": "2022-04-26T18:28:03.199Z"
      },
      {
        "duration": 8,
        "start_time": "2022-04-26T18:28:03.505Z"
      },
      {
        "duration": 301,
        "start_time": "2022-04-26T18:28:03.515Z"
      },
      {
        "duration": 7,
        "start_time": "2022-04-26T18:28:03.818Z"
      },
      {
        "duration": 285,
        "start_time": "2022-04-26T18:28:03.827Z"
      },
      {
        "duration": 938,
        "start_time": "2022-04-26T18:28:04.115Z"
      },
      {
        "duration": 55,
        "start_time": "2022-04-26T18:28:05.056Z"
      },
      {
        "duration": 272,
        "start_time": "2022-04-26T18:28:05.114Z"
      },
      {
        "duration": 402,
        "start_time": "2022-04-26T18:28:05.388Z"
      },
      {
        "duration": 46,
        "start_time": "2022-04-26T18:28:05.795Z"
      },
      {
        "duration": 66,
        "start_time": "2022-04-26T18:28:05.843Z"
      },
      {
        "duration": 1516,
        "start_time": "2022-04-26T18:28:05.912Z"
      },
      {
        "duration": 1286,
        "start_time": "2022-05-02T17:38:07.654Z"
      },
      {
        "duration": 26,
        "start_time": "2022-05-02T17:38:08.943Z"
      },
      {
        "duration": 12,
        "start_time": "2022-05-02T17:38:08.972Z"
      },
      {
        "duration": 83,
        "start_time": "2022-05-02T17:38:08.988Z"
      },
      {
        "duration": 18,
        "start_time": "2022-05-02T17:38:09.074Z"
      },
      {
        "duration": 12,
        "start_time": "2022-05-02T17:38:09.094Z"
      },
      {
        "duration": 66,
        "start_time": "2022-05-02T17:38:09.108Z"
      },
      {
        "duration": 77,
        "start_time": "2022-05-02T17:38:09.176Z"
      },
      {
        "duration": 9,
        "start_time": "2022-05-02T17:38:09.255Z"
      },
      {
        "duration": 85,
        "start_time": "2022-05-02T17:38:09.268Z"
      },
      {
        "duration": 36,
        "start_time": "2022-05-02T17:38:09.355Z"
      },
      {
        "duration": 75,
        "start_time": "2022-05-02T17:38:09.393Z"
      },
      {
        "duration": 495,
        "start_time": "2022-05-02T17:38:09.471Z"
      },
      {
        "duration": 33,
        "start_time": "2022-05-02T17:38:09.969Z"
      },
      {
        "duration": 299,
        "start_time": "2022-05-02T17:38:10.004Z"
      },
      {
        "duration": 257,
        "start_time": "2022-05-02T17:38:10.305Z"
      },
      {
        "duration": 280,
        "start_time": "2022-05-02T17:38:10.564Z"
      },
      {
        "duration": 288,
        "start_time": "2022-05-02T17:38:10.846Z"
      },
      {
        "duration": 289,
        "start_time": "2022-05-02T17:38:11.136Z"
      },
      {
        "duration": 25,
        "start_time": "2022-05-02T17:38:11.428Z"
      },
      {
        "duration": 197,
        "start_time": "2022-05-02T17:38:11.455Z"
      },
      {
        "duration": 1038,
        "start_time": "2022-05-02T17:38:11.654Z"
      },
      {
        "duration": 13,
        "start_time": "2022-05-02T17:38:12.694Z"
      },
      {
        "duration": 95,
        "start_time": "2022-05-02T17:38:12.709Z"
      },
      {
        "duration": 18,
        "start_time": "2022-05-02T17:38:12.806Z"
      },
      {
        "duration": 282,
        "start_time": "2022-05-02T17:38:12.826Z"
      },
      {
        "duration": 7,
        "start_time": "2022-05-02T17:38:13.111Z"
      },
      {
        "duration": 360,
        "start_time": "2022-05-02T17:38:13.122Z"
      },
      {
        "duration": 7,
        "start_time": "2022-05-02T17:38:13.484Z"
      },
      {
        "duration": 293,
        "start_time": "2022-05-02T17:38:13.493Z"
      },
      {
        "duration": 7,
        "start_time": "2022-05-02T17:38:13.787Z"
      },
      {
        "duration": 280,
        "start_time": "2022-05-02T17:38:13.796Z"
      },
      {
        "duration": 912,
        "start_time": "2022-05-02T17:38:14.078Z"
      },
      {
        "duration": 39,
        "start_time": "2022-05-02T17:38:14.992Z"
      },
      {
        "duration": 251,
        "start_time": "2022-05-02T17:38:15.033Z"
      },
      {
        "duration": 369,
        "start_time": "2022-05-02T17:38:15.286Z"
      },
      {
        "duration": 42,
        "start_time": "2022-05-02T17:38:15.657Z"
      },
      {
        "duration": 68,
        "start_time": "2022-05-02T17:38:15.701Z"
      },
      {
        "duration": 1462,
        "start_time": "2022-05-02T17:38:15.771Z"
      },
      {
        "duration": 983,
        "start_time": "2022-05-02T17:39:25.233Z"
      },
      {
        "duration": 965,
        "start_time": "2022-05-02T17:39:38.687Z"
      },
      {
        "duration": 112,
        "start_time": "2022-05-02T17:39:57.516Z"
      },
      {
        "duration": 55,
        "start_time": "2022-05-02T17:42:23.734Z"
      },
      {
        "duration": 197,
        "start_time": "2022-05-02T17:46:02.582Z"
      },
      {
        "duration": 116,
        "start_time": "2022-05-02T17:46:17.380Z"
      },
      {
        "duration": 14,
        "start_time": "2022-05-02T17:46:33.503Z"
      },
      {
        "duration": 119,
        "start_time": "2022-05-02T17:46:45.756Z"
      },
      {
        "duration": 263,
        "start_time": "2022-05-02T17:47:06.704Z"
      },
      {
        "duration": 222,
        "start_time": "2022-05-02T17:47:19.824Z"
      },
      {
        "duration": 18,
        "start_time": "2022-05-02T17:47:40.960Z"
      },
      {
        "duration": 166,
        "start_time": "2022-05-02T17:47:54.490Z"
      },
      {
        "duration": 285,
        "start_time": "2022-05-02T17:48:12.233Z"
      },
      {
        "duration": 117,
        "start_time": "2022-05-02T17:48:27.554Z"
      },
      {
        "duration": 11,
        "start_time": "2022-05-02T17:48:42.463Z"
      },
      {
        "duration": 116,
        "start_time": "2022-05-02T17:49:03.605Z"
      },
      {
        "duration": 67,
        "start_time": "2022-05-02T17:50:20.821Z"
      },
      {
        "duration": 3,
        "start_time": "2022-05-02T17:50:36.376Z"
      },
      {
        "duration": 247,
        "start_time": "2022-05-02T17:51:31.518Z"
      },
      {
        "duration": 256,
        "start_time": "2022-05-02T17:51:52.873Z"
      },
      {
        "duration": 7,
        "start_time": "2022-05-02T17:52:05.658Z"
      },
      {
        "duration": 264,
        "start_time": "2022-05-02T17:52:08.130Z"
      },
      {
        "duration": 9,
        "start_time": "2022-05-02T17:52:19.865Z"
      },
      {
        "duration": 117,
        "start_time": "2022-05-02T17:55:17.840Z"
      },
      {
        "duration": 171,
        "start_time": "2022-05-02T17:56:38.604Z"
      },
      {
        "duration": 980,
        "start_time": "2022-05-02T17:58:14.922Z"
      },
      {
        "duration": 203,
        "start_time": "2022-05-02T17:59:16.288Z"
      },
      {
        "duration": 180,
        "start_time": "2022-05-02T17:59:46.042Z"
      },
      {
        "duration": 244,
        "start_time": "2022-05-02T18:01:15.650Z"
      },
      {
        "duration": 1018,
        "start_time": "2022-05-02T18:10:04.377Z"
      },
      {
        "duration": 914,
        "start_time": "2022-05-02T18:11:20.406Z"
      },
      {
        "duration": 1397,
        "start_time": "2022-05-02T18:19:59.620Z"
      },
      {
        "duration": 182,
        "start_time": "2022-05-02T18:21:11.888Z"
      },
      {
        "duration": 381,
        "start_time": "2022-05-02T18:25:59.528Z"
      },
      {
        "duration": 215,
        "start_time": "2022-05-02T18:27:02.023Z"
      },
      {
        "duration": 30,
        "start_time": "2022-05-02T18:27:02.257Z"
      },
      {
        "duration": 13,
        "start_time": "2022-05-02T18:27:02.289Z"
      },
      {
        "duration": 66,
        "start_time": "2022-05-02T18:27:03.636Z"
      },
      {
        "duration": 17,
        "start_time": "2022-05-02T18:27:03.705Z"
      },
      {
        "duration": 31,
        "start_time": "2022-05-02T18:27:03.724Z"
      },
      {
        "duration": 40,
        "start_time": "2022-05-02T18:27:03.758Z"
      },
      {
        "duration": 84,
        "start_time": "2022-05-02T18:27:03.801Z"
      },
      {
        "duration": 8,
        "start_time": "2022-05-02T18:27:03.887Z"
      },
      {
        "duration": 84,
        "start_time": "2022-05-02T18:27:03.898Z"
      },
      {
        "duration": 37,
        "start_time": "2022-05-02T18:27:03.984Z"
      },
      {
        "duration": 72,
        "start_time": "2022-05-02T18:27:04.023Z"
      },
      {
        "duration": 615,
        "start_time": "2022-05-02T18:27:04.097Z"
      },
      {
        "duration": 45,
        "start_time": "2022-05-02T18:27:04.715Z"
      },
      {
        "duration": 372,
        "start_time": "2022-05-02T18:27:04.762Z"
      },
      {
        "duration": 253,
        "start_time": "2022-05-02T18:27:05.137Z"
      },
      {
        "duration": 323,
        "start_time": "2022-05-02T18:27:05.395Z"
      },
      {
        "duration": 357,
        "start_time": "2022-05-02T18:27:05.720Z"
      },
      {
        "duration": 401,
        "start_time": "2022-05-02T18:27:06.080Z"
      },
      {
        "duration": 13,
        "start_time": "2022-05-02T18:27:06.484Z"
      },
      {
        "duration": 235,
        "start_time": "2022-05-02T18:27:06.499Z"
      },
      {
        "duration": 1133,
        "start_time": "2022-05-02T18:27:06.737Z"
      },
      {
        "duration": 12,
        "start_time": "2022-05-02T18:27:07.872Z"
      },
      {
        "duration": 1003,
        "start_time": "2022-05-02T18:27:07.887Z"
      },
      {
        "duration": 77,
        "start_time": "2022-05-02T18:27:08.892Z"
      },
      {
        "duration": 218,
        "start_time": "2022-05-02T18:27:08.972Z"
      },
      {
        "duration": 10,
        "start_time": "2022-05-02T18:27:09.192Z"
      },
      {
        "duration": 219,
        "start_time": "2022-05-02T18:27:09.204Z"
      },
      {
        "duration": 14,
        "start_time": "2022-05-02T18:27:09.425Z"
      },
      {
        "duration": 193,
        "start_time": "2022-05-02T18:27:09.441Z"
      },
      {
        "duration": 24,
        "start_time": "2022-05-02T18:27:09.636Z"
      },
      {
        "duration": 72,
        "start_time": "2022-05-02T18:27:09.664Z"
      },
      {
        "duration": 3,
        "start_time": "2022-05-02T18:27:09.752Z"
      },
      {
        "duration": 279,
        "start_time": "2022-05-02T18:27:09.758Z"
      },
      {
        "duration": 17,
        "start_time": "2022-05-02T18:27:10.040Z"
      },
      {
        "duration": 292,
        "start_time": "2022-05-02T18:27:10.060Z"
      },
      {
        "duration": 10,
        "start_time": "2022-05-02T18:27:10.355Z"
      },
      {
        "duration": 433,
        "start_time": "2022-05-02T18:27:10.371Z"
      },
      {
        "duration": 9,
        "start_time": "2022-05-02T18:27:10.807Z"
      },
      {
        "duration": 260,
        "start_time": "2022-05-02T18:27:10.818Z"
      },
      {
        "duration": 197,
        "start_time": "2022-05-02T18:27:11.080Z"
      },
      {
        "duration": 301,
        "start_time": "2022-05-02T18:27:11.279Z"
      },
      {
        "duration": 35,
        "start_time": "2022-05-02T18:27:11.582Z"
      },
      {
        "duration": 266,
        "start_time": "2022-05-02T18:27:11.622Z"
      },
      {
        "duration": 393,
        "start_time": "2022-05-02T18:27:11.891Z"
      },
      {
        "duration": 40,
        "start_time": "2022-05-02T18:27:12.287Z"
      },
      {
        "duration": 73,
        "start_time": "2022-05-02T18:27:12.330Z"
      },
      {
        "duration": 1371,
        "start_time": "2022-05-02T18:27:12.405Z"
      },
      {
        "duration": 381,
        "start_time": "2022-05-02T18:27:13.778Z"
      },
      {
        "duration": 676,
        "start_time": "2022-05-02T18:27:39.704Z"
      },
      {
        "duration": 307,
        "start_time": "2022-05-02T18:28:04.191Z"
      },
      {
        "duration": 196,
        "start_time": "2022-05-02T18:28:37.838Z"
      },
      {
        "duration": 196,
        "start_time": "2022-05-02T18:28:55.211Z"
      },
      {
        "duration": 254,
        "start_time": "2022-05-02T18:29:22.249Z"
      },
      {
        "duration": 208,
        "start_time": "2022-05-02T18:29:33.772Z"
      },
      {
        "duration": 224,
        "start_time": "2022-05-02T18:36:21.872Z"
      },
      {
        "duration": 381,
        "start_time": "2022-05-02T18:50:19.622Z"
      },
      {
        "duration": 115,
        "start_time": "2022-05-02T18:57:27.085Z"
      },
      {
        "duration": 114,
        "start_time": "2022-05-02T18:58:31.020Z"
      },
      {
        "duration": 203,
        "start_time": "2022-05-02T19:06:00.329Z"
      },
      {
        "duration": 44,
        "start_time": "2022-05-02T19:06:00.535Z"
      },
      {
        "duration": 24,
        "start_time": "2022-05-02T19:06:00.583Z"
      },
      {
        "duration": 66,
        "start_time": "2022-05-02T19:06:00.698Z"
      },
      {
        "duration": 22,
        "start_time": "2022-05-02T19:06:00.768Z"
      },
      {
        "duration": 15,
        "start_time": "2022-05-02T19:06:00.792Z"
      },
      {
        "duration": 83,
        "start_time": "2022-05-02T19:06:00.809Z"
      },
      {
        "duration": 119,
        "start_time": "2022-05-02T19:06:00.897Z"
      },
      {
        "duration": 34,
        "start_time": "2022-05-02T19:06:01.019Z"
      },
      {
        "duration": 79,
        "start_time": "2022-05-02T19:06:01.060Z"
      },
      {
        "duration": 57,
        "start_time": "2022-05-02T19:06:01.141Z"
      },
      {
        "duration": 76,
        "start_time": "2022-05-02T19:06:01.200Z"
      },
      {
        "duration": 678,
        "start_time": "2022-05-02T19:06:01.278Z"
      },
      {
        "duration": 46,
        "start_time": "2022-05-02T19:06:01.959Z"
      },
      {
        "duration": 403,
        "start_time": "2022-05-02T19:06:02.008Z"
      },
      {
        "duration": 278,
        "start_time": "2022-05-02T19:06:02.416Z"
      },
      {
        "duration": 413,
        "start_time": "2022-05-02T19:06:02.696Z"
      },
      {
        "duration": 425,
        "start_time": "2022-05-02T19:06:03.111Z"
      },
      {
        "duration": 340,
        "start_time": "2022-05-02T19:06:03.539Z"
      },
      {
        "duration": 16,
        "start_time": "2022-05-02T19:06:03.881Z"
      },
      {
        "duration": 298,
        "start_time": "2022-05-02T19:06:03.899Z"
      },
      {
        "duration": 1428,
        "start_time": "2022-05-02T19:06:04.199Z"
      },
      {
        "duration": 32,
        "start_time": "2022-05-02T19:06:05.631Z"
      },
      {
        "duration": 1353,
        "start_time": "2022-05-02T19:06:05.665Z"
      },
      {
        "duration": 88,
        "start_time": "2022-05-02T19:06:07.020Z"
      },
      {
        "duration": 305,
        "start_time": "2022-05-02T19:06:07.111Z"
      },
      {
        "duration": 11,
        "start_time": "2022-05-02T19:06:07.419Z"
      },
      {
        "duration": 239,
        "start_time": "2022-05-02T19:06:07.432Z"
      },
      {
        "duration": 15,
        "start_time": "2022-05-02T19:06:07.676Z"
      },
      {
        "duration": 232,
        "start_time": "2022-05-02T19:06:07.693Z"
      },
      {
        "duration": 23,
        "start_time": "2022-05-02T19:06:07.928Z"
      },
      {
        "duration": 116,
        "start_time": "2022-05-02T19:06:07.954Z"
      },
      {
        "duration": 3,
        "start_time": "2022-05-02T19:06:08.073Z"
      },
      {
        "duration": 308,
        "start_time": "2022-05-02T19:06:08.078Z"
      },
      {
        "duration": 10,
        "start_time": "2022-05-02T19:06:08.388Z"
      },
      {
        "duration": 305,
        "start_time": "2022-05-02T19:06:08.401Z"
      },
      {
        "duration": 8,
        "start_time": "2022-05-02T19:06:08.708Z"
      },
      {
        "duration": 383,
        "start_time": "2022-05-02T19:06:08.718Z"
      },
      {
        "duration": 8,
        "start_time": "2022-05-02T19:06:09.104Z"
      },
      {
        "duration": 478,
        "start_time": "2022-05-02T19:06:09.119Z"
      },
      {
        "duration": 257,
        "start_time": "2022-05-02T19:06:09.599Z"
      },
      {
        "duration": 306,
        "start_time": "2022-05-02T19:06:09.861Z"
      },
      {
        "duration": 39,
        "start_time": "2022-05-02T19:06:10.171Z"
      },
      {
        "duration": 278,
        "start_time": "2022-05-02T19:06:10.213Z"
      },
      {
        "duration": 400,
        "start_time": "2022-05-02T19:06:10.494Z"
      },
      {
        "duration": 60,
        "start_time": "2022-05-02T19:06:10.896Z"
      },
      {
        "duration": 50,
        "start_time": "2022-05-02T19:06:10.961Z"
      },
      {
        "duration": 1579,
        "start_time": "2022-05-02T19:06:11.014Z"
      },
      {
        "duration": 336,
        "start_time": "2022-05-02T19:06:12.596Z"
      },
      {
        "duration": 261,
        "start_time": "2022-05-02T19:06:12.934Z"
      },
      {
        "duration": 268,
        "start_time": "2022-05-02T19:06:13.197Z"
      },
      {
        "duration": 249,
        "start_time": "2022-05-02T19:06:13.472Z"
      },
      {
        "duration": 236,
        "start_time": "2022-05-02T19:06:13.723Z"
      },
      {
        "duration": 298,
        "start_time": "2022-05-02T19:06:13.962Z"
      },
      {
        "duration": 202,
        "start_time": "2022-05-02T19:11:18.088Z"
      },
      {
        "duration": 225,
        "start_time": "2022-05-02T19:11:37.310Z"
      },
      {
        "duration": 254,
        "start_time": "2022-05-02T19:12:15.824Z"
      },
      {
        "duration": 1413,
        "start_time": "2022-05-02T19:13:28.416Z"
      },
      {
        "duration": 1569,
        "start_time": "2022-05-02T19:13:52.476Z"
      },
      {
        "duration": 224,
        "start_time": "2022-05-02T19:14:55.447Z"
      },
      {
        "duration": 20,
        "start_time": "2022-05-02T19:14:55.677Z"
      },
      {
        "duration": 19,
        "start_time": "2022-05-02T19:14:55.699Z"
      },
      {
        "duration": 54,
        "start_time": "2022-05-02T19:14:55.721Z"
      },
      {
        "duration": 19,
        "start_time": "2022-05-02T19:14:55.778Z"
      },
      {
        "duration": 15,
        "start_time": "2022-05-02T19:14:55.800Z"
      },
      {
        "duration": 49,
        "start_time": "2022-05-02T19:14:55.817Z"
      },
      {
        "duration": 60,
        "start_time": "2022-05-02T19:14:55.874Z"
      },
      {
        "duration": 10,
        "start_time": "2022-05-02T19:14:55.937Z"
      },
      {
        "duration": 95,
        "start_time": "2022-05-02T19:14:55.949Z"
      },
      {
        "duration": 48,
        "start_time": "2022-05-02T19:14:56.046Z"
      },
      {
        "duration": 63,
        "start_time": "2022-05-02T19:14:56.096Z"
      },
      {
        "duration": 923,
        "start_time": "2022-05-02T19:14:56.162Z"
      },
      {
        "duration": 37,
        "start_time": "2022-05-02T19:14:57.089Z"
      },
      {
        "duration": 303,
        "start_time": "2022-05-02T19:14:57.129Z"
      },
      {
        "duration": 248,
        "start_time": "2022-05-02T19:14:57.434Z"
      },
      {
        "duration": 310,
        "start_time": "2022-05-02T19:14:57.684Z"
      },
      {
        "duration": 325,
        "start_time": "2022-05-02T19:14:57.997Z"
      },
      {
        "duration": 313,
        "start_time": "2022-05-02T19:14:58.324Z"
      },
      {
        "duration": 24,
        "start_time": "2022-05-02T19:14:58.640Z"
      },
      {
        "duration": 207,
        "start_time": "2022-05-02T19:14:58.668Z"
      },
      {
        "duration": 1227,
        "start_time": "2022-05-02T19:14:58.879Z"
      },
      {
        "duration": 12,
        "start_time": "2022-05-02T19:15:00.108Z"
      },
      {
        "duration": 1047,
        "start_time": "2022-05-02T19:15:00.122Z"
      },
      {
        "duration": 58,
        "start_time": "2022-05-02T19:15:01.171Z"
      },
      {
        "duration": 235,
        "start_time": "2022-05-02T19:15:01.231Z"
      },
      {
        "duration": 11,
        "start_time": "2022-05-02T19:15:01.469Z"
      },
      {
        "duration": 220,
        "start_time": "2022-05-02T19:15:01.482Z"
      },
      {
        "duration": 14,
        "start_time": "2022-05-02T19:15:01.704Z"
      },
      {
        "duration": 207,
        "start_time": "2022-05-02T19:15:01.720Z"
      },
      {
        "duration": 27,
        "start_time": "2022-05-02T19:15:01.930Z"
      },
      {
        "duration": 71,
        "start_time": "2022-05-02T19:15:01.960Z"
      },
      {
        "duration": 20,
        "start_time": "2022-05-02T19:15:02.033Z"
      },
      {
        "duration": 295,
        "start_time": "2022-05-02T19:15:02.056Z"
      },
      {
        "duration": 16,
        "start_time": "2022-05-02T19:15:02.354Z"
      },
      {
        "duration": 373,
        "start_time": "2022-05-02T19:15:02.372Z"
      },
      {
        "duration": 9,
        "start_time": "2022-05-02T19:15:02.747Z"
      },
      {
        "duration": 300,
        "start_time": "2022-05-02T19:15:02.759Z"
      },
      {
        "duration": 10,
        "start_time": "2022-05-02T19:15:03.062Z"
      },
      {
        "duration": 391,
        "start_time": "2022-05-02T19:15:03.074Z"
      },
      {
        "duration": 203,
        "start_time": "2022-05-02T19:15:03.471Z"
      },
      {
        "duration": 208,
        "start_time": "2022-05-02T19:15:03.677Z"
      },
      {
        "duration": 254,
        "start_time": "2022-05-02T19:15:03.887Z"
      },
      {
        "duration": 215,
        "start_time": "2022-05-02T19:15:04.151Z"
      },
      {
        "duration": 36,
        "start_time": "2022-05-02T19:15:04.369Z"
      },
      {
        "duration": 271,
        "start_time": "2022-05-02T19:15:04.407Z"
      },
      {
        "duration": 401,
        "start_time": "2022-05-02T19:15:04.681Z"
      },
      {
        "duration": 40,
        "start_time": "2022-05-02T19:15:05.085Z"
      },
      {
        "duration": 68,
        "start_time": "2022-05-02T19:15:05.128Z"
      },
      {
        "duration": 1401,
        "start_time": "2022-05-02T19:15:05.198Z"
      },
      {
        "duration": 294,
        "start_time": "2022-05-02T19:15:06.602Z"
      },
      {
        "duration": 266,
        "start_time": "2022-05-02T19:15:06.899Z"
      },
      {
        "duration": 209,
        "start_time": "2022-05-02T19:15:07.168Z"
      },
      {
        "duration": 256,
        "start_time": "2022-05-02T19:15:07.379Z"
      },
      {
        "duration": 236,
        "start_time": "2022-05-02T19:15:07.638Z"
      },
      {
        "duration": 313,
        "start_time": "2022-05-02T19:15:07.876Z"
      }
    ],
    "kernelspec": {
      "display_name": "Python 3 (ipykernel)",
      "language": "python",
      "name": "python3"
    },
    "language_info": {
      "codemirror_mode": {
        "name": "ipython",
        "version": 3
      },
      "file_extension": ".py",
      "mimetype": "text/x-python",
      "name": "python",
      "nbconvert_exporter": "python",
      "pygments_lexer": "ipython3",
      "version": "3.9.5"
    },
    "toc": {
      "base_numbering": 1,
      "nav_menu": {},
      "number_sections": true,
      "sideBar": true,
      "skip_h1_title": true,
      "title_cell": "Содержание",
      "title_sidebar": "Contents",
      "toc_cell": true,
      "toc_position": {
        "height": "calc(100% - 180px)",
        "left": "10px",
        "top": "150px",
        "width": "165px"
      },
      "toc_section_display": true,
      "toc_window_display": true
    },
    "colab": {
      "provenance": [],
      "collapsed_sections": []
    }
  },
  "nbformat": 4,
  "nbformat_minor": 0
}