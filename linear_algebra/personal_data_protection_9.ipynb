{
  "cells": [
    {
      "cell_type": "markdown",
      "metadata": {
        "toc": true,
        "id": "KGC94zE8cXO5"
      },
      "source": [
        "<h1>Содержание<span class=\"tocSkip\"></span></h1>\n",
        "<div class=\"toc\"><ul class=\"toc-item\"><li><span><a href=\"#Загрузка-данных\" data-toc-modified-id=\"Загрузка-данных-1\"><span class=\"toc-item-num\">1&nbsp;&nbsp;</span>Загрузка данных</a></span></li><li><span><a href=\"#Умножение-матриц\" data-toc-modified-id=\"Умножение-матриц-2\"><span class=\"toc-item-num\">2&nbsp;&nbsp;</span>Умножение матриц</a></span></li><li><span><a href=\"#Алгоритм-преобразования\" data-toc-modified-id=\"Алгоритм-преобразования-3\"><span class=\"toc-item-num\">3&nbsp;&nbsp;</span>Алгоритм преобразования</a></span></li><li><span><a href=\"#Проверка-алгоритма\" data-toc-modified-id=\"Проверка-алгоритма-4\"><span class=\"toc-item-num\">4&nbsp;&nbsp;</span>Проверка алгоритма</a></span></li><li><span><a href=\"#Общий-вывод\" data-toc-modified-id=\"Общий-вывод-5\"><span class=\"toc-item-num\">5&nbsp;&nbsp;</span>Общий вывод</a></span></li><li><span><a href=\"#Чек-лист-проверки\" data-toc-modified-id=\"Чек-лист-проверки-6\"><span class=\"toc-item-num\">6&nbsp;&nbsp;</span>Чек-лист проверки</a></span></li></ul></div>"
      ]
    },
    {
      "cell_type": "markdown",
      "metadata": {
        "id": "AAH04QuWcXO6"
      },
      "source": [
        "# Защита персональных данных клиентов"
      ]
    },
    {
      "cell_type": "markdown",
      "metadata": {
        "id": "HCJ3sf5wcXO6"
      },
      "source": [
        "Нам нужно защитить данные клиентов страховой компании «Хоть потоп». Для этого разработаем такой метод преобразования данных, чтобы по ним было сложно восстановить персональную информацию. \n",
        "\n",
        "Нужно будет защитить данные, чтобы при преобразовании качество моделей машинного обучения не ухудшилось. Подбирать наилучшую модель по условиям задания не требуется."
      ]
    },
    {
      "cell_type": "markdown",
      "source": [
        "# Описание данных\n",
        "\n",
        "**Признаки:**\n",
        "\n",
        "пол, возраст и зарплата застрахованного, количество членов его семьи.\n",
        "\n",
        "**Целевой признак:** \n",
        "\n",
        "количество страховых выплат клиенту за последние 5 лет."
      ],
      "metadata": {
        "id": "KW-aQF1JdXtt"
      }
    },
    {
      "cell_type": "markdown",
      "metadata": {
        "id": "ki-0WC6JcXO7"
      },
      "source": [
        "## Загрузка данных"
      ]
    },
    {
      "cell_type": "code",
      "execution_count": null,
      "metadata": {
        "id": "dpZP8pzfcXO8"
      },
      "outputs": [],
      "source": [
        "import pandas as pd\n",
        "import seaborn as sns\n",
        "from matplotlib import pyplot as plt\n",
        "import numpy as np\n",
        "from numpy.linalg import inv\n",
        "from sklearn.metrics import r2_score\n",
        "np.random.seed(42)\n",
        "import warnings\n",
        "warnings.filterwarnings('ignore')\n",
        "pth = '/content/9_insurance.csv'\n",
        "pth_1 = 'C:\\insurance.csv'\n",
        "try:\n",
        "    df = pd.read_csv(pth)\n",
        "except:\n",
        "    df = pd.read_csv(pth_1)\n"
      ]
    },
    {
      "cell_type": "code",
      "execution_count": null,
      "metadata": {
        "scrolled": false,
        "colab": {
          "base_uri": "https://localhost:8080/",
          "height": 363
        },
        "id": "kcyXsqsWcXO9",
        "outputId": "c23af9d3-7547-4981-865f-97c9053a7a7e"
      },
      "outputs": [
        {
          "output_type": "execute_result",
          "data": {
            "text/plain": [
              "   Пол  Возраст  Зарплата  Члены семьи  Страховые выплаты\n",
              "0    1     41.0   49600.0            1                  0\n",
              "1    0     46.0   38000.0            1                  1\n",
              "2    0     29.0   21000.0            0                  0\n",
              "3    0     21.0   41700.0            2                  0\n",
              "4    1     28.0   26100.0            0                  0\n",
              "5    1     43.0   41000.0            2                  1\n",
              "6    1     39.0   39700.0            2                  0\n",
              "7    1     25.0   38600.0            4                  0\n",
              "8    1     36.0   49700.0            1                  0\n",
              "9    1     32.0   51700.0            1                  0"
            ],
            "text/html": [
              "\n",
              "  <div id=\"df-a252eec0-4e1f-4d5f-99ea-82d3f213ef5c\">\n",
              "    <div class=\"colab-df-container\">\n",
              "      <div>\n",
              "<style scoped>\n",
              "    .dataframe tbody tr th:only-of-type {\n",
              "        vertical-align: middle;\n",
              "    }\n",
              "\n",
              "    .dataframe tbody tr th {\n",
              "        vertical-align: top;\n",
              "    }\n",
              "\n",
              "    .dataframe thead th {\n",
              "        text-align: right;\n",
              "    }\n",
              "</style>\n",
              "<table border=\"1\" class=\"dataframe\">\n",
              "  <thead>\n",
              "    <tr style=\"text-align: right;\">\n",
              "      <th></th>\n",
              "      <th>Пол</th>\n",
              "      <th>Возраст</th>\n",
              "      <th>Зарплата</th>\n",
              "      <th>Члены семьи</th>\n",
              "      <th>Страховые выплаты</th>\n",
              "    </tr>\n",
              "  </thead>\n",
              "  <tbody>\n",
              "    <tr>\n",
              "      <th>0</th>\n",
              "      <td>1</td>\n",
              "      <td>41.0</td>\n",
              "      <td>49600.0</td>\n",
              "      <td>1</td>\n",
              "      <td>0</td>\n",
              "    </tr>\n",
              "    <tr>\n",
              "      <th>1</th>\n",
              "      <td>0</td>\n",
              "      <td>46.0</td>\n",
              "      <td>38000.0</td>\n",
              "      <td>1</td>\n",
              "      <td>1</td>\n",
              "    </tr>\n",
              "    <tr>\n",
              "      <th>2</th>\n",
              "      <td>0</td>\n",
              "      <td>29.0</td>\n",
              "      <td>21000.0</td>\n",
              "      <td>0</td>\n",
              "      <td>0</td>\n",
              "    </tr>\n",
              "    <tr>\n",
              "      <th>3</th>\n",
              "      <td>0</td>\n",
              "      <td>21.0</td>\n",
              "      <td>41700.0</td>\n",
              "      <td>2</td>\n",
              "      <td>0</td>\n",
              "    </tr>\n",
              "    <tr>\n",
              "      <th>4</th>\n",
              "      <td>1</td>\n",
              "      <td>28.0</td>\n",
              "      <td>26100.0</td>\n",
              "      <td>0</td>\n",
              "      <td>0</td>\n",
              "    </tr>\n",
              "    <tr>\n",
              "      <th>5</th>\n",
              "      <td>1</td>\n",
              "      <td>43.0</td>\n",
              "      <td>41000.0</td>\n",
              "      <td>2</td>\n",
              "      <td>1</td>\n",
              "    </tr>\n",
              "    <tr>\n",
              "      <th>6</th>\n",
              "      <td>1</td>\n",
              "      <td>39.0</td>\n",
              "      <td>39700.0</td>\n",
              "      <td>2</td>\n",
              "      <td>0</td>\n",
              "    </tr>\n",
              "    <tr>\n",
              "      <th>7</th>\n",
              "      <td>1</td>\n",
              "      <td>25.0</td>\n",
              "      <td>38600.0</td>\n",
              "      <td>4</td>\n",
              "      <td>0</td>\n",
              "    </tr>\n",
              "    <tr>\n",
              "      <th>8</th>\n",
              "      <td>1</td>\n",
              "      <td>36.0</td>\n",
              "      <td>49700.0</td>\n",
              "      <td>1</td>\n",
              "      <td>0</td>\n",
              "    </tr>\n",
              "    <tr>\n",
              "      <th>9</th>\n",
              "      <td>1</td>\n",
              "      <td>32.0</td>\n",
              "      <td>51700.0</td>\n",
              "      <td>1</td>\n",
              "      <td>0</td>\n",
              "    </tr>\n",
              "  </tbody>\n",
              "</table>\n",
              "</div>\n",
              "      <button class=\"colab-df-convert\" onclick=\"convertToInteractive('df-a252eec0-4e1f-4d5f-99ea-82d3f213ef5c')\"\n",
              "              title=\"Convert this dataframe to an interactive table.\"\n",
              "              style=\"display:none;\">\n",
              "        \n",
              "  <svg xmlns=\"http://www.w3.org/2000/svg\" height=\"24px\"viewBox=\"0 0 24 24\"\n",
              "       width=\"24px\">\n",
              "    <path d=\"M0 0h24v24H0V0z\" fill=\"none\"/>\n",
              "    <path d=\"M18.56 5.44l.94 2.06.94-2.06 2.06-.94-2.06-.94-.94-2.06-.94 2.06-2.06.94zm-11 1L8.5 8.5l.94-2.06 2.06-.94-2.06-.94L8.5 2.5l-.94 2.06-2.06.94zm10 10l.94 2.06.94-2.06 2.06-.94-2.06-.94-.94-2.06-.94 2.06-2.06.94z\"/><path d=\"M17.41 7.96l-1.37-1.37c-.4-.4-.92-.59-1.43-.59-.52 0-1.04.2-1.43.59L10.3 9.45l-7.72 7.72c-.78.78-.78 2.05 0 2.83L4 21.41c.39.39.9.59 1.41.59.51 0 1.02-.2 1.41-.59l7.78-7.78 2.81-2.81c.8-.78.8-2.07 0-2.86zM5.41 20L4 18.59l7.72-7.72 1.47 1.35L5.41 20z\"/>\n",
              "  </svg>\n",
              "      </button>\n",
              "      \n",
              "  <style>\n",
              "    .colab-df-container {\n",
              "      display:flex;\n",
              "      flex-wrap:wrap;\n",
              "      gap: 12px;\n",
              "    }\n",
              "\n",
              "    .colab-df-convert {\n",
              "      background-color: #E8F0FE;\n",
              "      border: none;\n",
              "      border-radius: 50%;\n",
              "      cursor: pointer;\n",
              "      display: none;\n",
              "      fill: #1967D2;\n",
              "      height: 32px;\n",
              "      padding: 0 0 0 0;\n",
              "      width: 32px;\n",
              "    }\n",
              "\n",
              "    .colab-df-convert:hover {\n",
              "      background-color: #E2EBFA;\n",
              "      box-shadow: 0px 1px 2px rgba(60, 64, 67, 0.3), 0px 1px 3px 1px rgba(60, 64, 67, 0.15);\n",
              "      fill: #174EA6;\n",
              "    }\n",
              "\n",
              "    [theme=dark] .colab-df-convert {\n",
              "      background-color: #3B4455;\n",
              "      fill: #D2E3FC;\n",
              "    }\n",
              "\n",
              "    [theme=dark] .colab-df-convert:hover {\n",
              "      background-color: #434B5C;\n",
              "      box-shadow: 0px 1px 3px 1px rgba(0, 0, 0, 0.15);\n",
              "      filter: drop-shadow(0px 1px 2px rgba(0, 0, 0, 0.3));\n",
              "      fill: #FFFFFF;\n",
              "    }\n",
              "  </style>\n",
              "\n",
              "      <script>\n",
              "        const buttonEl =\n",
              "          document.querySelector('#df-a252eec0-4e1f-4d5f-99ea-82d3f213ef5c button.colab-df-convert');\n",
              "        buttonEl.style.display =\n",
              "          google.colab.kernel.accessAllowed ? 'block' : 'none';\n",
              "\n",
              "        async function convertToInteractive(key) {\n",
              "          const element = document.querySelector('#df-a252eec0-4e1f-4d5f-99ea-82d3f213ef5c');\n",
              "          const dataTable =\n",
              "            await google.colab.kernel.invokeFunction('convertToInteractive',\n",
              "                                                     [key], {});\n",
              "          if (!dataTable) return;\n",
              "\n",
              "          const docLinkHtml = 'Like what you see? Visit the ' +\n",
              "            '<a target=\"_blank\" href=https://colab.research.google.com/notebooks/data_table.ipynb>data table notebook</a>'\n",
              "            + ' to learn more about interactive tables.';\n",
              "          element.innerHTML = '';\n",
              "          dataTable['output_type'] = 'display_data';\n",
              "          await google.colab.output.renderOutput(dataTable, element);\n",
              "          const docLink = document.createElement('div');\n",
              "          docLink.innerHTML = docLinkHtml;\n",
              "          element.appendChild(docLink);\n",
              "        }\n",
              "      </script>\n",
              "    </div>\n",
              "  </div>\n",
              "  "
            ]
          },
          "metadata": {},
          "execution_count": 2
        }
      ],
      "source": [
        "df.head(10) #посмотрим на общий вид таблицы"
      ]
    },
    {
      "cell_type": "code",
      "execution_count": null,
      "metadata": {
        "scrolled": false,
        "colab": {
          "base_uri": "https://localhost:8080/"
        },
        "id": "f1SA8ZqlcXO-",
        "outputId": "8d40504d-4c5f-4914-f98b-d69a48324017"
      },
      "outputs": [
        {
          "output_type": "stream",
          "name": "stdout",
          "text": [
            "<class 'pandas.core.frame.DataFrame'>\n",
            "RangeIndex: 5000 entries, 0 to 4999\n",
            "Data columns (total 5 columns):\n",
            " #   Column             Non-Null Count  Dtype  \n",
            "---  ------             --------------  -----  \n",
            " 0   Пол                5000 non-null   int64  \n",
            " 1   Возраст            5000 non-null   float64\n",
            " 2   Зарплата           5000 non-null   float64\n",
            " 3   Члены семьи        5000 non-null   int64  \n",
            " 4   Страховые выплаты  5000 non-null   int64  \n",
            "dtypes: float64(2), int64(3)\n",
            "memory usage: 195.4 KB\n"
          ]
        }
      ],
      "source": [
        "df.info() #изучим общую информацию о данных"
      ]
    },
    {
      "cell_type": "code",
      "execution_count": null,
      "metadata": {
        "id": "lmd9Fuq8cXO_"
      },
      "outputs": [],
      "source": [
        "df['Возраст'] = df['Возраст'].astype(int) #данные в колонках Возраст и Зарплата стоит привести к целочисленным значениям\n",
        "df['Зарплата'] = df['Зарплата'].astype(int)"
      ]
    },
    {
      "cell_type": "code",
      "execution_count": null,
      "metadata": {
        "colab": {
          "base_uri": "https://localhost:8080/"
        },
        "id": "N9AKZql2cXO_",
        "outputId": "d4935d8c-1a2f-4830-84e4-73e603c44ed7"
      },
      "outputs": [
        {
          "output_type": "execute_result",
          "data": {
            "text/plain": [
              "153"
            ]
          },
          "metadata": {},
          "execution_count": 5
        }
      ],
      "source": [
        "df.duplicated().sum() # проверим данные на наличие явных дубликатов"
      ]
    },
    {
      "cell_type": "code",
      "execution_count": null,
      "metadata": {
        "id": "Whew0MhacXPA"
      },
      "outputs": [],
      "source": [
        "df = df.drop_duplicates().reset_index(drop=True) #удалим явные дубликаты из таблицы"
      ]
    },
    {
      "cell_type": "code",
      "execution_count": null,
      "metadata": {
        "scrolled": false,
        "colab": {
          "base_uri": "https://localhost:8080/",
          "height": 300
        },
        "id": "hYqShBzZcXPA",
        "outputId": "638baa3b-1465-4e5e-8490-942facec2b16"
      },
      "outputs": [
        {
          "output_type": "execute_result",
          "data": {
            "text/plain": [
              "               Пол      Возраст      Зарплата  Члены семьи  Страховые выплаты\n",
              "count  4847.000000  4847.000000   4847.000000  4847.000000        4847.000000\n",
              "mean      0.498453    31.023932  39895.811223     1.203425           0.152259\n",
              "std       0.500049     8.487995   9972.952441     1.098664           0.468934\n",
              "min       0.000000    18.000000   5300.000000     0.000000           0.000000\n",
              "25%       0.000000    24.000000  33200.000000     0.000000           0.000000\n",
              "50%       0.000000    30.000000  40200.000000     1.000000           0.000000\n",
              "75%       1.000000    37.000000  46600.000000     2.000000           0.000000\n",
              "max       1.000000    65.000000  79000.000000     6.000000           5.000000"
            ],
            "text/html": [
              "\n",
              "  <div id=\"df-f9d044cb-bacd-40a7-a1c8-4cce231a8b86\">\n",
              "    <div class=\"colab-df-container\">\n",
              "      <div>\n",
              "<style scoped>\n",
              "    .dataframe tbody tr th:only-of-type {\n",
              "        vertical-align: middle;\n",
              "    }\n",
              "\n",
              "    .dataframe tbody tr th {\n",
              "        vertical-align: top;\n",
              "    }\n",
              "\n",
              "    .dataframe thead th {\n",
              "        text-align: right;\n",
              "    }\n",
              "</style>\n",
              "<table border=\"1\" class=\"dataframe\">\n",
              "  <thead>\n",
              "    <tr style=\"text-align: right;\">\n",
              "      <th></th>\n",
              "      <th>Пол</th>\n",
              "      <th>Возраст</th>\n",
              "      <th>Зарплата</th>\n",
              "      <th>Члены семьи</th>\n",
              "      <th>Страховые выплаты</th>\n",
              "    </tr>\n",
              "  </thead>\n",
              "  <tbody>\n",
              "    <tr>\n",
              "      <th>count</th>\n",
              "      <td>4847.000000</td>\n",
              "      <td>4847.000000</td>\n",
              "      <td>4847.000000</td>\n",
              "      <td>4847.000000</td>\n",
              "      <td>4847.000000</td>\n",
              "    </tr>\n",
              "    <tr>\n",
              "      <th>mean</th>\n",
              "      <td>0.498453</td>\n",
              "      <td>31.023932</td>\n",
              "      <td>39895.811223</td>\n",
              "      <td>1.203425</td>\n",
              "      <td>0.152259</td>\n",
              "    </tr>\n",
              "    <tr>\n",
              "      <th>std</th>\n",
              "      <td>0.500049</td>\n",
              "      <td>8.487995</td>\n",
              "      <td>9972.952441</td>\n",
              "      <td>1.098664</td>\n",
              "      <td>0.468934</td>\n",
              "    </tr>\n",
              "    <tr>\n",
              "      <th>min</th>\n",
              "      <td>0.000000</td>\n",
              "      <td>18.000000</td>\n",
              "      <td>5300.000000</td>\n",
              "      <td>0.000000</td>\n",
              "      <td>0.000000</td>\n",
              "    </tr>\n",
              "    <tr>\n",
              "      <th>25%</th>\n",
              "      <td>0.000000</td>\n",
              "      <td>24.000000</td>\n",
              "      <td>33200.000000</td>\n",
              "      <td>0.000000</td>\n",
              "      <td>0.000000</td>\n",
              "    </tr>\n",
              "    <tr>\n",
              "      <th>50%</th>\n",
              "      <td>0.000000</td>\n",
              "      <td>30.000000</td>\n",
              "      <td>40200.000000</td>\n",
              "      <td>1.000000</td>\n",
              "      <td>0.000000</td>\n",
              "    </tr>\n",
              "    <tr>\n",
              "      <th>75%</th>\n",
              "      <td>1.000000</td>\n",
              "      <td>37.000000</td>\n",
              "      <td>46600.000000</td>\n",
              "      <td>2.000000</td>\n",
              "      <td>0.000000</td>\n",
              "    </tr>\n",
              "    <tr>\n",
              "      <th>max</th>\n",
              "      <td>1.000000</td>\n",
              "      <td>65.000000</td>\n",
              "      <td>79000.000000</td>\n",
              "      <td>6.000000</td>\n",
              "      <td>5.000000</td>\n",
              "    </tr>\n",
              "  </tbody>\n",
              "</table>\n",
              "</div>\n",
              "      <button class=\"colab-df-convert\" onclick=\"convertToInteractive('df-f9d044cb-bacd-40a7-a1c8-4cce231a8b86')\"\n",
              "              title=\"Convert this dataframe to an interactive table.\"\n",
              "              style=\"display:none;\">\n",
              "        \n",
              "  <svg xmlns=\"http://www.w3.org/2000/svg\" height=\"24px\"viewBox=\"0 0 24 24\"\n",
              "       width=\"24px\">\n",
              "    <path d=\"M0 0h24v24H0V0z\" fill=\"none\"/>\n",
              "    <path d=\"M18.56 5.44l.94 2.06.94-2.06 2.06-.94-2.06-.94-.94-2.06-.94 2.06-2.06.94zm-11 1L8.5 8.5l.94-2.06 2.06-.94-2.06-.94L8.5 2.5l-.94 2.06-2.06.94zm10 10l.94 2.06.94-2.06 2.06-.94-2.06-.94-.94-2.06-.94 2.06-2.06.94z\"/><path d=\"M17.41 7.96l-1.37-1.37c-.4-.4-.92-.59-1.43-.59-.52 0-1.04.2-1.43.59L10.3 9.45l-7.72 7.72c-.78.78-.78 2.05 0 2.83L4 21.41c.39.39.9.59 1.41.59.51 0 1.02-.2 1.41-.59l7.78-7.78 2.81-2.81c.8-.78.8-2.07 0-2.86zM5.41 20L4 18.59l7.72-7.72 1.47 1.35L5.41 20z\"/>\n",
              "  </svg>\n",
              "      </button>\n",
              "      \n",
              "  <style>\n",
              "    .colab-df-container {\n",
              "      display:flex;\n",
              "      flex-wrap:wrap;\n",
              "      gap: 12px;\n",
              "    }\n",
              "\n",
              "    .colab-df-convert {\n",
              "      background-color: #E8F0FE;\n",
              "      border: none;\n",
              "      border-radius: 50%;\n",
              "      cursor: pointer;\n",
              "      display: none;\n",
              "      fill: #1967D2;\n",
              "      height: 32px;\n",
              "      padding: 0 0 0 0;\n",
              "      width: 32px;\n",
              "    }\n",
              "\n",
              "    .colab-df-convert:hover {\n",
              "      background-color: #E2EBFA;\n",
              "      box-shadow: 0px 1px 2px rgba(60, 64, 67, 0.3), 0px 1px 3px 1px rgba(60, 64, 67, 0.15);\n",
              "      fill: #174EA6;\n",
              "    }\n",
              "\n",
              "    [theme=dark] .colab-df-convert {\n",
              "      background-color: #3B4455;\n",
              "      fill: #D2E3FC;\n",
              "    }\n",
              "\n",
              "    [theme=dark] .colab-df-convert:hover {\n",
              "      background-color: #434B5C;\n",
              "      box-shadow: 0px 1px 3px 1px rgba(0, 0, 0, 0.15);\n",
              "      filter: drop-shadow(0px 1px 2px rgba(0, 0, 0, 0.3));\n",
              "      fill: #FFFFFF;\n",
              "    }\n",
              "  </style>\n",
              "\n",
              "      <script>\n",
              "        const buttonEl =\n",
              "          document.querySelector('#df-f9d044cb-bacd-40a7-a1c8-4cce231a8b86 button.colab-df-convert');\n",
              "        buttonEl.style.display =\n",
              "          google.colab.kernel.accessAllowed ? 'block' : 'none';\n",
              "\n",
              "        async function convertToInteractive(key) {\n",
              "          const element = document.querySelector('#df-f9d044cb-bacd-40a7-a1c8-4cce231a8b86');\n",
              "          const dataTable =\n",
              "            await google.colab.kernel.invokeFunction('convertToInteractive',\n",
              "                                                     [key], {});\n",
              "          if (!dataTable) return;\n",
              "\n",
              "          const docLinkHtml = 'Like what you see? Visit the ' +\n",
              "            '<a target=\"_blank\" href=https://colab.research.google.com/notebooks/data_table.ipynb>data table notebook</a>'\n",
              "            + ' to learn more about interactive tables.';\n",
              "          element.innerHTML = '';\n",
              "          dataTable['output_type'] = 'display_data';\n",
              "          await google.colab.output.renderOutput(dataTable, element);\n",
              "          const docLink = document.createElement('div');\n",
              "          docLink.innerHTML = docLinkHtml;\n",
              "          element.appendChild(docLink);\n",
              "        }\n",
              "      </script>\n",
              "    </div>\n",
              "  </div>\n",
              "  "
            ]
          },
          "metadata": {},
          "execution_count": 7
        }
      ],
      "source": [
        "df.describe() #рассмотрим как распределяются данные в датасете"
      ]
    },
    {
      "cell_type": "markdown",
      "metadata": {
        "id": "0dkUIsf5cXPB"
      },
      "source": [
        "Все цифры имеют логичный порядок, явных выбросов нет, возможно ошибка есть в данных по строкам с минимальным количеством членов семьи равным 0, но вряд ли она повлияет на результаты исследования."
      ]
    },
    {
      "cell_type": "code",
      "execution_count": null,
      "metadata": {
        "colab": {
          "base_uri": "https://localhost:8080/",
          "height": 363
        },
        "id": "nzFmgbhvcXPB",
        "outputId": "e9f5f5ce-935c-4429-b433-da48c4a471af"
      },
      "outputs": [
        {
          "output_type": "execute_result",
          "data": {
            "text/plain": [
              "    Пол  Возраст  Зарплата  Члены семьи  Страховые выплаты\n",
              "2     0       29     21000            0                  0\n",
              "4     1       28     26100            0                  0\n",
              "11    1       38     29300            0                  0\n",
              "13    0       21     55000            0                  0\n",
              "15    1       34     23300            0                  0\n",
              "18    1       42     49700            0                  1\n",
              "19    1       27     36900            0                  0\n",
              "22    0       41     26600            0                  0\n",
              "28    1       19     36800            0                  0\n",
              "30    0       25     46300            0                  0"
            ],
            "text/html": [
              "\n",
              "  <div id=\"df-1e5a58de-ebfb-49d8-8bd1-83e71460e53f\">\n",
              "    <div class=\"colab-df-container\">\n",
              "      <div>\n",
              "<style scoped>\n",
              "    .dataframe tbody tr th:only-of-type {\n",
              "        vertical-align: middle;\n",
              "    }\n",
              "\n",
              "    .dataframe tbody tr th {\n",
              "        vertical-align: top;\n",
              "    }\n",
              "\n",
              "    .dataframe thead th {\n",
              "        text-align: right;\n",
              "    }\n",
              "</style>\n",
              "<table border=\"1\" class=\"dataframe\">\n",
              "  <thead>\n",
              "    <tr style=\"text-align: right;\">\n",
              "      <th></th>\n",
              "      <th>Пол</th>\n",
              "      <th>Возраст</th>\n",
              "      <th>Зарплата</th>\n",
              "      <th>Члены семьи</th>\n",
              "      <th>Страховые выплаты</th>\n",
              "    </tr>\n",
              "  </thead>\n",
              "  <tbody>\n",
              "    <tr>\n",
              "      <th>2</th>\n",
              "      <td>0</td>\n",
              "      <td>29</td>\n",
              "      <td>21000</td>\n",
              "      <td>0</td>\n",
              "      <td>0</td>\n",
              "    </tr>\n",
              "    <tr>\n",
              "      <th>4</th>\n",
              "      <td>1</td>\n",
              "      <td>28</td>\n",
              "      <td>26100</td>\n",
              "      <td>0</td>\n",
              "      <td>0</td>\n",
              "    </tr>\n",
              "    <tr>\n",
              "      <th>11</th>\n",
              "      <td>1</td>\n",
              "      <td>38</td>\n",
              "      <td>29300</td>\n",
              "      <td>0</td>\n",
              "      <td>0</td>\n",
              "    </tr>\n",
              "    <tr>\n",
              "      <th>13</th>\n",
              "      <td>0</td>\n",
              "      <td>21</td>\n",
              "      <td>55000</td>\n",
              "      <td>0</td>\n",
              "      <td>0</td>\n",
              "    </tr>\n",
              "    <tr>\n",
              "      <th>15</th>\n",
              "      <td>1</td>\n",
              "      <td>34</td>\n",
              "      <td>23300</td>\n",
              "      <td>0</td>\n",
              "      <td>0</td>\n",
              "    </tr>\n",
              "    <tr>\n",
              "      <th>18</th>\n",
              "      <td>1</td>\n",
              "      <td>42</td>\n",
              "      <td>49700</td>\n",
              "      <td>0</td>\n",
              "      <td>1</td>\n",
              "    </tr>\n",
              "    <tr>\n",
              "      <th>19</th>\n",
              "      <td>1</td>\n",
              "      <td>27</td>\n",
              "      <td>36900</td>\n",
              "      <td>0</td>\n",
              "      <td>0</td>\n",
              "    </tr>\n",
              "    <tr>\n",
              "      <th>22</th>\n",
              "      <td>0</td>\n",
              "      <td>41</td>\n",
              "      <td>26600</td>\n",
              "      <td>0</td>\n",
              "      <td>0</td>\n",
              "    </tr>\n",
              "    <tr>\n",
              "      <th>28</th>\n",
              "      <td>1</td>\n",
              "      <td>19</td>\n",
              "      <td>36800</td>\n",
              "      <td>0</td>\n",
              "      <td>0</td>\n",
              "    </tr>\n",
              "    <tr>\n",
              "      <th>30</th>\n",
              "      <td>0</td>\n",
              "      <td>25</td>\n",
              "      <td>46300</td>\n",
              "      <td>0</td>\n",
              "      <td>0</td>\n",
              "    </tr>\n",
              "  </tbody>\n",
              "</table>\n",
              "</div>\n",
              "      <button class=\"colab-df-convert\" onclick=\"convertToInteractive('df-1e5a58de-ebfb-49d8-8bd1-83e71460e53f')\"\n",
              "              title=\"Convert this dataframe to an interactive table.\"\n",
              "              style=\"display:none;\">\n",
              "        \n",
              "  <svg xmlns=\"http://www.w3.org/2000/svg\" height=\"24px\"viewBox=\"0 0 24 24\"\n",
              "       width=\"24px\">\n",
              "    <path d=\"M0 0h24v24H0V0z\" fill=\"none\"/>\n",
              "    <path d=\"M18.56 5.44l.94 2.06.94-2.06 2.06-.94-2.06-.94-.94-2.06-.94 2.06-2.06.94zm-11 1L8.5 8.5l.94-2.06 2.06-.94-2.06-.94L8.5 2.5l-.94 2.06-2.06.94zm10 10l.94 2.06.94-2.06 2.06-.94-2.06-.94-.94-2.06-.94 2.06-2.06.94z\"/><path d=\"M17.41 7.96l-1.37-1.37c-.4-.4-.92-.59-1.43-.59-.52 0-1.04.2-1.43.59L10.3 9.45l-7.72 7.72c-.78.78-.78 2.05 0 2.83L4 21.41c.39.39.9.59 1.41.59.51 0 1.02-.2 1.41-.59l7.78-7.78 2.81-2.81c.8-.78.8-2.07 0-2.86zM5.41 20L4 18.59l7.72-7.72 1.47 1.35L5.41 20z\"/>\n",
              "  </svg>\n",
              "      </button>\n",
              "      \n",
              "  <style>\n",
              "    .colab-df-container {\n",
              "      display:flex;\n",
              "      flex-wrap:wrap;\n",
              "      gap: 12px;\n",
              "    }\n",
              "\n",
              "    .colab-df-convert {\n",
              "      background-color: #E8F0FE;\n",
              "      border: none;\n",
              "      border-radius: 50%;\n",
              "      cursor: pointer;\n",
              "      display: none;\n",
              "      fill: #1967D2;\n",
              "      height: 32px;\n",
              "      padding: 0 0 0 0;\n",
              "      width: 32px;\n",
              "    }\n",
              "\n",
              "    .colab-df-convert:hover {\n",
              "      background-color: #E2EBFA;\n",
              "      box-shadow: 0px 1px 2px rgba(60, 64, 67, 0.3), 0px 1px 3px 1px rgba(60, 64, 67, 0.15);\n",
              "      fill: #174EA6;\n",
              "    }\n",
              "\n",
              "    [theme=dark] .colab-df-convert {\n",
              "      background-color: #3B4455;\n",
              "      fill: #D2E3FC;\n",
              "    }\n",
              "\n",
              "    [theme=dark] .colab-df-convert:hover {\n",
              "      background-color: #434B5C;\n",
              "      box-shadow: 0px 1px 3px 1px rgba(0, 0, 0, 0.15);\n",
              "      filter: drop-shadow(0px 1px 2px rgba(0, 0, 0, 0.3));\n",
              "      fill: #FFFFFF;\n",
              "    }\n",
              "  </style>\n",
              "\n",
              "      <script>\n",
              "        const buttonEl =\n",
              "          document.querySelector('#df-1e5a58de-ebfb-49d8-8bd1-83e71460e53f button.colab-df-convert');\n",
              "        buttonEl.style.display =\n",
              "          google.colab.kernel.accessAllowed ? 'block' : 'none';\n",
              "\n",
              "        async function convertToInteractive(key) {\n",
              "          const element = document.querySelector('#df-1e5a58de-ebfb-49d8-8bd1-83e71460e53f');\n",
              "          const dataTable =\n",
              "            await google.colab.kernel.invokeFunction('convertToInteractive',\n",
              "                                                     [key], {});\n",
              "          if (!dataTable) return;\n",
              "\n",
              "          const docLinkHtml = 'Like what you see? Visit the ' +\n",
              "            '<a target=\"_blank\" href=https://colab.research.google.com/notebooks/data_table.ipynb>data table notebook</a>'\n",
              "            + ' to learn more about interactive tables.';\n",
              "          element.innerHTML = '';\n",
              "          dataTable['output_type'] = 'display_data';\n",
              "          await google.colab.output.renderOutput(dataTable, element);\n",
              "          const docLink = document.createElement('div');\n",
              "          docLink.innerHTML = docLinkHtml;\n",
              "          element.appendChild(docLink);\n",
              "        }\n",
              "      </script>\n",
              "    </div>\n",
              "  </div>\n",
              "  "
            ]
          },
          "metadata": {},
          "execution_count": 8
        }
      ],
      "source": [
        "df[df['Члены семьи']==0].head(10)"
      ]
    },
    {
      "cell_type": "code",
      "execution_count": null,
      "metadata": {
        "scrolled": true,
        "colab": {
          "base_uri": "https://localhost:8080/",
          "height": 385
        },
        "id": "0TZfDSbzcXPB",
        "outputId": "641d6b8d-217b-4eb9-d4e8-e37cf9b17952"
      },
      "outputs": [
        {
          "output_type": "display_data",
          "data": {
            "text/plain": [
              "<Figure size 864x144 with 1 Axes>"
            ],
            "image/png": "[encoded data removed]"
          },
          "metadata": {
            "needs_background": "light"
          }
        },
        {
          "output_type": "display_data",
          "data": {
            "text/plain": [
              "<Figure size 864x144 with 1 Axes>"
            ],
            "image/png": "[encoded data removed]"
          },
          "metadata": {
            "needs_background": "light"
          }
        }
      ],
      "source": [
        "for column in ['Возраст', 'Зарплата']:\n",
        "    g = sns.catplot(x= column,kind='box',data=df)\n",
        "    g.fig.set_figwidth(12)\n",
        "    g.fig.set_figheight(2)\n",
        "    plt.title(column) \n",
        "    plt.show"
      ]
    },
    {
      "cell_type": "markdown",
      "metadata": {
        "id": "8u_pY8gIcXPC"
      },
      "source": [
        "Распределение данных по признакам возраста и зарплаты показывает, что средний возраст страхуемого 30 лет и он получает зарплату около 40000 рублей. От выбросов 56 и выше лет и зарплат до 13500 и от 66000 рублей следует избавиться."
      ]
    },
    {
      "cell_type": "code",
      "execution_count": null,
      "metadata": {
        "scrolled": true,
        "id": "Q-JuMrwHcXPC"
      },
      "outputs": [],
      "source": [
        "df = df.query('Возраст < 56 & Зарплата >13500 & Зарплата <66000')"
      ]
    },
    {
      "cell_type": "code",
      "execution_count": null,
      "metadata": {
        "colab": {
          "base_uri": "https://localhost:8080/",
          "height": 385
        },
        "id": "8f1EiwxccXPD",
        "outputId": "63350c42-1f66-4b64-d581-63c423b3e23d"
      },
      "outputs": [
        {
          "output_type": "display_data",
          "data": {
            "text/plain": [
              "<Figure size 864x144 with 1 Axes>"
            ],
            "image/png": "[encoded data removed]"
          },
          "metadata": {
            "needs_background": "light"
          }
        },
        {
          "output_type": "display_data",
          "data": {
            "text/plain": [
              "<Figure size 864x144 with 1 Axes>"
            ],
            "image/png": "[encoded data removed]"
          },
          "metadata": {
            "needs_background": "light"
          }
        }
      ],
      "source": [
        "for column in ['Возраст', 'Зарплата']:\n",
        "    g = sns.catplot(x= column,kind='box',data=df, color = 'green')\n",
        "    g.fig.set_figwidth(12)\n",
        "    g.fig.set_figheight(2)\n",
        "    plt.title(column) \n",
        "    plt.show"
      ]
    },
    {
      "cell_type": "code",
      "execution_count": null,
      "metadata": {
        "scrolled": true,
        "colab": {
          "base_uri": "https://localhost:8080/",
          "height": 726
        },
        "id": "6OeyfdbvcXPE",
        "outputId": "869f31a9-0d54-44a7-e5b1-0826a885239f"
      },
      "outputs": [
        {
          "output_type": "display_data",
          "data": {
            "text/plain": [
              "<Figure size 834.5x720 with 20 Axes>"
            ],
            "image/png": "[encoded data removed]"
          },
          "metadata": {
            "needs_background": "light"
          }
        }
      ],
      "source": [
        "sns.pairplot(df, hue='Страховые выплаты'); #посмотрим на взаимосвязь признаков "
      ]
    },
    {
      "cell_type": "markdown",
      "metadata": {
        "id": "DCxfKklNcXPF"
      },
      "source": [
        "Можно отметить, что чем выше возраст страхуемого, тем больше страховых выплат он успел получить."
      ]
    },
    {
      "cell_type": "markdown",
      "metadata": {
        "id": "azfG7142cXPG"
      },
      "source": [
        "## Умножение матриц"
      ]
    },
    {
      "cell_type": "markdown",
      "metadata": {
        "id": "rS7HezcGcXPG"
      },
      "source": [
        "Обозначения:\n",
        "\n",
        "- $X$ — матрица признаков (нулевой столбец состоит из единиц)\n",
        "\n",
        "- $y$ — вектор целевого признака\n",
        "\n",
        "- $P$ — матрица, на которую умножаются признаки\n",
        "\n",
        "- $w$ — вектор весов линейной регрессии (нулевой элемент равен сдвигу)"
      ]
    },
    {
      "cell_type": "markdown",
      "metadata": {
        "id": "HJ6quTxFcXPG"
      },
      "source": [
        "Предсказания:\n",
        "\n",
        "$$\n",
        "a = Xw\n",
        "$$\n",
        "\n",
        "Задача обучения:\n",
        "\n",
        "$$\n",
        "w = \\arg\\min_w MSE(Xw, y)\n",
        "$$\n",
        "\n",
        "Формула обучения:\n",
        "\n",
        "$$\n",
        "w = (X^T X)^{-1} X^T y\n",
        "$$"
      ]
    },
    {
      "cell_type": "markdown",
      "metadata": {
        "id": "v62h0U0RcXPH"
      },
      "source": [
        "Проверим, изменятся ли предсказания модели, если умножим признаки на обратимую квадратную матрицу  **P**"
      ]
    },
    {
      "cell_type": "markdown",
      "metadata": {
        "id": "O6ui27chcXPH"
      },
      "source": [
        "**Ответ:** При умножении признаков на обратимую матрицу качество линейной регрессии не меняется.\n",
        "\n",
        "**Обоснование:** Представлено ниже."
      ]
    },
    {
      "cell_type": "markdown",
      "metadata": {
        "id": "ZEigkCxscXPH"
      },
      "source": [
        "$a_1 = XPw = XP((XP)^T XP)^{-1}(XP)^T y$: подставляем в исходную формулу признаки, умноженные на $P$\n",
        "\n",
        "$= XP(P^T X^T XP)^{-1} P^T X^T y$: раскрываем транспонирование матриц по свойству $(XP)^T = P^T X^T$ (транспонированное произведение матриц равно произведению транспонированных матриц, взятых в обратном порядке)\n",
        "\n",
        "$= XPP^{-1}(X^T X)^{-1} (P^T)^{-1} P^T X^T y$: так как матрицы $P, P^T,X^T X$ - квадратные, к ним применимо действия раскрытия: $(AB)^{-1}=A^{-1}B^{-1}$, выносим квадратные матрицы $P$ и $P^T$ за скобки  \n",
        "\n",
        "$= XE(X^T X)^{-1}E X^T y$: так как произведение квадратной матрицы на её обратную матрицу дает единичную матрицу меняем соответсвующие произведения $PP^{-1}$ на $E$ \n",
        "\n",
        "$= X(X^T X)^{-1} X^T y$: при умножении любой матрицы на единичную, исходная матрица не изменяется, убираем единичную матрицу из формулы\n",
        "\n",
        "$= Xw = a$: таким образом мы доказали, что предсказания модели не изменятся при умножении признаков на случайную обратимую матрицу\n"
      ]
    },
    {
      "cell_type": "markdown",
      "metadata": {
        "id": "MXXCGQHLcXPI"
      },
      "source": [
        "## Алгоритм преобразования"
      ]
    },
    {
      "cell_type": "markdown",
      "metadata": {
        "id": "m3Iaiq7LcXPI"
      },
      "source": [
        "**Алгоритм**\n",
        "\n",
        "Для преобразования исходных данных будем использовать алгоритм умножения исходных признаков на случайную обратимую матрицу. Это позволит собеспечить конфиденциальность данных клиентов страховой компании.\n",
        "В конце выполнения алгоритма производится сравнение метрик r2 на исходных и зашифрованных признаках."
      ]
    },
    {
      "cell_type": "markdown",
      "metadata": {
        "id": "kYoBNXCPcXPJ"
      },
      "source": [
        "**Обоснование**\n",
        "\n",
        "Исходя из проверки результатов умножения признаков на случайную обратимую матрицу, предсказания модели для исходных признаков и признаков, помноженных на обратимую матрицу, останутся неизменными."
      ]
    },
    {
      "cell_type": "markdown",
      "metadata": {
        "id": "BElWx6TOcXPJ"
      },
      "source": [
        "## Проверка алгоритма"
      ]
    },
    {
      "cell_type": "code",
      "execution_count": null,
      "metadata": {
        "scrolled": true,
        "colab": {
          "base_uri": "https://localhost:8080/"
        },
        "id": "h79K462BcXPK",
        "outputId": "266b2fcc-c6b5-45c1-c94c-8e340d0e71eb"
      },
      "outputs": [
        {
          "output_type": "stream",
          "name": "stdout",
          "text": [
            "[[ 0.49671415 -0.1382643   0.64768854  1.52302986]\n",
            " [-0.23415337 -0.23413696  1.57921282  0.76743473]\n",
            " [-0.46947439  0.54256004 -0.46341769 -0.46572975]\n",
            " [ 0.24196227 -1.91328024 -1.72491783 -0.56228753]]\n",
            " \n",
            "[[-0.33124857 -1.0333483  -2.21070923 -0.47651024]\n",
            " [ 0.12864778 -0.47781825  0.15271687 -0.43017975]\n",
            " [-0.51338817  0.33588835 -0.8347692  -0.24072429]\n",
            " [ 0.99462192  0.15079316  1.08985145  0.21872535]]\n"
          ]
        }
      ],
      "source": [
        "features = df.drop('Страховые выплаты',axis=1)#выделим признаки в данных\n",
        "target = df['Страховые выплаты'] #выделим целевой признак в данных\n",
        "P = np.random.normal(size=(len(features.columns),len(features.columns))) # создадим случайную обратимую матрицу, размерами соответствующую количеству признаков\n",
        "P_inv = np.linalg.inv(P)#проверка матрицы на обратимость\n",
        "print(P) # выводим на экран случайную обратимую матрицу\n",
        "print(' ')\n",
        "print(P_inv)# выводим на экран обратную матрицу"
      ]
    },
    {
      "cell_type": "code",
      "execution_count": null,
      "metadata": {
        "id": "Fn1VPTHscXPL"
      },
      "outputs": [],
      "source": [
        "class LinearRegression: # создаем класс линейной регрессии\n",
        "    def fit(self, train_features, train_target):\n",
        "        X = np.concatenate((np.ones((train_features.shape[0], 1)), train_features), axis=1) #добавляем первый столбец с единицами в матрицу с признаками\n",
        "        y = train_target\n",
        "        w = (np.linalg.inv(X.T @ X)) @ X.T @ y #находим значения весов при котором MSE будет минимальным\n",
        "        self.w = w[1:]\n",
        "        self.w0 = w[0]\n",
        "\n",
        "    def predict(self, test_features):\n",
        "        return test_features @ self.w + self.w0 #возвращаем предсказания модели"
      ]
    },
    {
      "cell_type": "code",
      "execution_count": null,
      "metadata": {
        "colab": {
          "base_uri": "https://localhost:8080/"
        },
        "id": "B7DPXHOHcXPM",
        "outputId": "9752aeb5-0e0b-4cdc-ff4f-0ad6387fbee4"
      },
      "outputs": [
        {
          "output_type": "stream",
          "name": "stdout",
          "text": [
            "0.41957905929460615\n"
          ]
        }
      ],
      "source": [
        "model = LinearRegression() #проверим алгоритм на исходных признаках\n",
        "model.fit(features, target)\n",
        "predictions = model.predict(features)\n",
        "print(r2_score(target, predictions))"
      ]
    },
    {
      "cell_type": "code",
      "execution_count": null,
      "metadata": {
        "colab": {
          "base_uri": "https://localhost:8080/"
        },
        "id": "zP20DZMPcXPM",
        "outputId": "3a733681-3e42-4c05-de69-92aa1d7b0a5f"
      },
      "outputs": [
        {
          "output_type": "stream",
          "name": "stdout",
          "text": [
            "0.41957905929460393\n"
          ]
        }
      ],
      "source": [
        "features_inv = features @ P #проверим алгоритм на признаках, умноженных на обратимую матрицу\n",
        "model = LinearRegression()\n",
        "model.fit(features_inv, target)\n",
        "predictions = model.predict(features_inv)\n",
        "print(r2_score(target, predictions))"
      ]
    },
    {
      "cell_type": "markdown",
      "metadata": {
        "id": "SX-6GdzNcXPN"
      },
      "source": [
        "Как видно, R2 метрика одинакова для исходных признаков и признаков, измененных на обратимую матрицу, что подтверждает наши доказательства об отсутвии влияния умножения признаков на обратимую матрицу на качество модели."
      ]
    },
    {
      "cell_type": "markdown",
      "metadata": {
        "id": "LNIKTT5gcXPO"
      },
      "source": [
        "## Общий вывод ##"
      ]
    },
    {
      "cell_type": "markdown",
      "metadata": {
        "id": "08RbdeQGcXPO"
      },
      "source": [
        "В ходе выполнения проекта мы проанализировали и подготовили данные к дальнейшему исследованию, наглядно доказали, что умножение матрицы на случайную обратимую матрицу не влияет на предсказания и на качество модели. Это дало нам основания для использования данного метода для обеспечения конфиденциальности данных клиентов страховой компании. Применение измененных данных позволит скрыть информацию о клиентах при сохранении качества предсказаний целевого признака."
      ]
    }
  ],
  "metadata": {
    "ExecuteTimeLog": [
      {
        "duration": 43,
        "start_time": "2022-07-18T15:55:29.005Z"
      },
      {
        "duration": 453,
        "start_time": "2022-07-18T15:55:41.555Z"
      },
      {
        "duration": 27,
        "start_time": "2022-07-18T15:55:55.153Z"
      },
      {
        "duration": 15,
        "start_time": "2022-07-18T15:56:16.761Z"
      },
      {
        "duration": 24,
        "start_time": "2022-07-18T15:56:24.480Z"
      },
      {
        "duration": 10,
        "start_time": "2022-07-18T15:56:28.099Z"
      },
      {
        "duration": 5,
        "start_time": "2022-07-18T15:57:06.768Z"
      },
      {
        "duration": 4,
        "start_time": "2022-07-18T15:58:07.517Z"
      },
      {
        "duration": 11,
        "start_time": "2022-07-18T15:58:27.019Z"
      },
      {
        "duration": 4,
        "start_time": "2022-07-18T15:59:03.462Z"
      },
      {
        "duration": 10,
        "start_time": "2022-07-18T15:59:14.036Z"
      },
      {
        "duration": 6,
        "start_time": "2022-07-18T16:00:30.165Z"
      },
      {
        "duration": 10,
        "start_time": "2022-07-18T16:00:34.562Z"
      },
      {
        "duration": 6,
        "start_time": "2022-07-18T16:02:05.681Z"
      },
      {
        "duration": 904,
        "start_time": "2022-07-18T16:02:11.467Z"
      },
      {
        "duration": 7124,
        "start_time": "2022-07-18T16:02:23.143Z"
      },
      {
        "duration": 31,
        "start_time": "2022-07-18T16:02:46.009Z"
      },
      {
        "duration": 7137,
        "start_time": "2022-07-18T16:02:50.489Z"
      },
      {
        "duration": 6607,
        "start_time": "2022-07-18T16:02:59.309Z"
      },
      {
        "duration": 43,
        "start_time": "2022-07-19T17:18:40.492Z"
      },
      {
        "duration": 1517,
        "start_time": "2022-07-19T17:18:45.694Z"
      },
      {
        "duration": 4,
        "start_time": "2022-07-19T17:18:49.338Z"
      },
      {
        "duration": 22,
        "start_time": "2022-07-19T17:18:53.326Z"
      },
      {
        "duration": 1458,
        "start_time": "2022-07-19T17:19:19.522Z"
      },
      {
        "duration": 6,
        "start_time": "2022-07-19T17:19:34.287Z"
      },
      {
        "duration": 1661,
        "start_time": "2022-07-19T17:19:48.135Z"
      },
      {
        "duration": 16,
        "start_time": "2022-07-19T17:20:09.069Z"
      },
      {
        "duration": 8,
        "start_time": "2022-07-19T17:20:23.476Z"
      },
      {
        "duration": 94,
        "start_time": "2022-07-19T17:20:46.054Z"
      },
      {
        "duration": 8,
        "start_time": "2022-07-19T17:20:49.039Z"
      },
      {
        "duration": 6,
        "start_time": "2022-07-19T17:21:13.216Z"
      },
      {
        "duration": 74,
        "start_time": "2022-07-19T17:21:25.472Z"
      },
      {
        "duration": 1973,
        "start_time": "2022-07-19T17:21:28.621Z"
      },
      {
        "duration": 12,
        "start_time": "2022-07-19T17:23:49.172Z"
      },
      {
        "duration": 91,
        "start_time": "2022-07-19T17:42:19.733Z"
      },
      {
        "duration": 31,
        "start_time": "2022-07-19T17:42:42.379Z"
      },
      {
        "duration": 82,
        "start_time": "2022-07-19T17:42:46.698Z"
      },
      {
        "duration": 32,
        "start_time": "2022-07-19T17:44:39.215Z"
      },
      {
        "duration": 140,
        "start_time": "2022-07-19T17:44:52.846Z"
      },
      {
        "duration": 96,
        "start_time": "2022-07-19T17:46:18.816Z"
      },
      {
        "duration": 89,
        "start_time": "2022-07-19T17:46:27.682Z"
      },
      {
        "duration": 98,
        "start_time": "2022-07-19T17:46:41.392Z"
      },
      {
        "duration": 12,
        "start_time": "2022-07-19T17:46:57.346Z"
      },
      {
        "duration": 3,
        "start_time": "2022-07-19T17:47:04.327Z"
      },
      {
        "duration": 4,
        "start_time": "2022-07-19T17:47:08.478Z"
      },
      {
        "duration": 7,
        "start_time": "2022-07-19T17:47:14.583Z"
      },
      {
        "duration": 10,
        "start_time": "2022-07-19T17:47:19.750Z"
      },
      {
        "duration": 6,
        "start_time": "2022-07-19T17:47:34.268Z"
      },
      {
        "duration": 6,
        "start_time": "2022-07-19T17:47:45.109Z"
      },
      {
        "duration": 6,
        "start_time": "2022-07-19T17:48:03.792Z"
      },
      {
        "duration": 9,
        "start_time": "2022-07-19T18:04:59.778Z"
      },
      {
        "duration": 14,
        "start_time": "2022-07-19T18:06:22.069Z"
      },
      {
        "duration": 11,
        "start_time": "2022-07-19T18:07:02.990Z"
      },
      {
        "duration": 8,
        "start_time": "2022-07-19T18:07:08.925Z"
      },
      {
        "duration": 10,
        "start_time": "2022-07-19T18:07:19.080Z"
      },
      {
        "duration": 8,
        "start_time": "2022-07-19T18:14:09.230Z"
      },
      {
        "duration": 12,
        "start_time": "2022-07-19T18:15:27.922Z"
      },
      {
        "duration": 341,
        "start_time": "2022-07-19T18:15:31.978Z"
      },
      {
        "duration": 13,
        "start_time": "2022-07-19T18:15:36.323Z"
      },
      {
        "duration": 4,
        "start_time": "2022-07-19T18:17:07.022Z"
      },
      {
        "duration": 43,
        "start_time": "2022-07-19T18:17:07.028Z"
      },
      {
        "duration": 4,
        "start_time": "2022-07-19T18:18:02.381Z"
      },
      {
        "duration": 64,
        "start_time": "2022-07-19T18:18:02.388Z"
      },
      {
        "duration": 30,
        "start_time": "2022-07-19T18:18:19.105Z"
      },
      {
        "duration": 18,
        "start_time": "2022-07-19T18:18:19.137Z"
      },
      {
        "duration": 44,
        "start_time": "2022-07-19T18:18:19.157Z"
      },
      {
        "duration": 9,
        "start_time": "2022-07-19T18:18:19.204Z"
      },
      {
        "duration": 5,
        "start_time": "2022-07-19T18:18:19.215Z"
      },
      {
        "duration": 7,
        "start_time": "2022-07-19T18:18:19.221Z"
      },
      {
        "duration": 36,
        "start_time": "2022-07-19T18:18:19.230Z"
      },
      {
        "duration": 7995,
        "start_time": "2022-07-19T18:18:19.268Z"
      },
      {
        "duration": 14,
        "start_time": "2022-07-19T18:18:27.265Z"
      },
      {
        "duration": 10,
        "start_time": "2022-07-19T18:18:27.282Z"
      },
      {
        "duration": 260,
        "start_time": "2022-07-19T18:18:27.294Z"
      },
      {
        "duration": 1512,
        "start_time": "2022-07-19T18:23:46.596Z"
      },
      {
        "duration": 1975,
        "start_time": "2022-07-19T18:23:59.734Z"
      },
      {
        "duration": 11,
        "start_time": "2022-07-19T18:24:39.776Z"
      },
      {
        "duration": 7,
        "start_time": "2022-07-19T18:25:03.122Z"
      },
      {
        "duration": 32,
        "start_time": "2022-07-19T18:26:07.324Z"
      },
      {
        "duration": 18,
        "start_time": "2022-07-19T18:26:07.358Z"
      },
      {
        "duration": 22,
        "start_time": "2022-07-19T18:26:07.377Z"
      },
      {
        "duration": 6,
        "start_time": "2022-07-19T18:26:07.401Z"
      },
      {
        "duration": 9,
        "start_time": "2022-07-19T18:26:07.408Z"
      },
      {
        "duration": 5,
        "start_time": "2022-07-19T18:26:07.419Z"
      },
      {
        "duration": 14,
        "start_time": "2022-07-19T18:26:07.426Z"
      },
      {
        "duration": 7207,
        "start_time": "2022-07-19T18:26:07.452Z"
      },
      {
        "duration": 31,
        "start_time": "2022-07-19T18:26:14.663Z"
      },
      {
        "duration": 52,
        "start_time": "2022-07-19T18:26:14.700Z"
      },
      {
        "duration": 104,
        "start_time": "2022-07-19T18:26:14.759Z"
      },
      {
        "duration": 101,
        "start_time": "2022-07-19T18:26:14.875Z"
      },
      {
        "duration": 1678,
        "start_time": "2022-07-20T09:56:14.131Z"
      },
      {
        "duration": 20,
        "start_time": "2022-07-20T09:56:15.811Z"
      },
      {
        "duration": 11,
        "start_time": "2022-07-20T09:56:15.833Z"
      },
      {
        "duration": 5,
        "start_time": "2022-07-20T09:56:15.845Z"
      },
      {
        "duration": 21,
        "start_time": "2022-07-20T09:56:15.852Z"
      },
      {
        "duration": 7,
        "start_time": "2022-07-20T09:56:15.875Z"
      },
      {
        "duration": 13,
        "start_time": "2022-07-20T09:56:15.883Z"
      },
      {
        "duration": 7317,
        "start_time": "2022-07-20T09:56:15.898Z"
      },
      {
        "duration": 9,
        "start_time": "2022-07-20T09:56:23.217Z"
      },
      {
        "duration": 128,
        "start_time": "2022-07-20T09:56:23.229Z"
      },
      {
        "duration": 23,
        "start_time": "2022-07-20T09:56:23.358Z"
      },
      {
        "duration": 193,
        "start_time": "2022-07-20T09:56:23.383Z"
      },
      {
        "duration": 85,
        "start_time": "2022-07-20T11:14:46.307Z"
      },
      {
        "duration": 198,
        "start_time": "2022-07-20T11:35:11.903Z"
      },
      {
        "duration": 53,
        "start_time": "2022-07-21T07:42:30.490Z"
      },
      {
        "duration": 1872,
        "start_time": "2022-07-21T07:42:35.032Z"
      },
      {
        "duration": 20,
        "start_time": "2022-07-21T07:42:36.906Z"
      },
      {
        "duration": 12,
        "start_time": "2022-07-21T07:42:36.929Z"
      },
      {
        "duration": 9,
        "start_time": "2022-07-21T07:42:36.943Z"
      },
      {
        "duration": 13,
        "start_time": "2022-07-21T07:42:36.954Z"
      },
      {
        "duration": 30,
        "start_time": "2022-07-21T07:42:36.969Z"
      },
      {
        "duration": 18,
        "start_time": "2022-07-21T07:42:37.000Z"
      },
      {
        "duration": 7411,
        "start_time": "2022-07-21T07:42:37.019Z"
      },
      {
        "duration": 178,
        "start_time": "2022-07-21T07:42:44.432Z"
      },
      {
        "duration": 7,
        "start_time": "2022-07-21T07:42:44.612Z"
      },
      {
        "duration": 13,
        "start_time": "2022-07-21T07:42:44.622Z"
      },
      {
        "duration": 100,
        "start_time": "2022-07-21T07:42:44.711Z"
      },
      {
        "duration": 107,
        "start_time": "2022-07-21T07:42:44.814Z"
      },
      {
        "duration": 178,
        "start_time": "2022-07-21T07:43:27.641Z"
      },
      {
        "duration": 11,
        "start_time": "2022-07-21T07:43:48.575Z"
      },
      {
        "duration": 33,
        "start_time": "2022-07-21T07:45:06.617Z"
      },
      {
        "duration": 157,
        "start_time": "2022-07-21T07:45:12.545Z"
      },
      {
        "duration": 86,
        "start_time": "2022-07-21T07:46:07.192Z"
      },
      {
        "duration": 153,
        "start_time": "2022-07-21T07:46:13.399Z"
      },
      {
        "duration": 14,
        "start_time": "2022-07-21T07:47:28.809Z"
      },
      {
        "duration": 13,
        "start_time": "2022-07-21T07:47:57.536Z"
      },
      {
        "duration": 158,
        "start_time": "2022-07-21T07:48:08.318Z"
      },
      {
        "duration": 14,
        "start_time": "2022-07-21T07:48:23.328Z"
      },
      {
        "duration": 13,
        "start_time": "2022-07-21T07:49:34.141Z"
      },
      {
        "duration": 163,
        "start_time": "2022-07-21T07:49:39.418Z"
      },
      {
        "duration": 43,
        "start_time": "2022-07-21T07:50:16.664Z"
      },
      {
        "duration": 13,
        "start_time": "2022-07-21T07:50:16.709Z"
      },
      {
        "duration": 15,
        "start_time": "2022-07-21T07:50:16.723Z"
      },
      {
        "duration": 8,
        "start_time": "2022-07-21T07:50:16.740Z"
      },
      {
        "duration": 11,
        "start_time": "2022-07-21T07:50:16.749Z"
      },
      {
        "duration": 8,
        "start_time": "2022-07-21T07:50:16.762Z"
      },
      {
        "duration": 15,
        "start_time": "2022-07-21T07:50:16.771Z"
      },
      {
        "duration": 7128,
        "start_time": "2022-07-21T07:50:16.810Z"
      },
      {
        "duration": 161,
        "start_time": "2022-07-21T07:50:23.939Z"
      },
      {
        "duration": 9,
        "start_time": "2022-07-21T07:50:24.103Z"
      },
      {
        "duration": 8,
        "start_time": "2022-07-21T07:50:24.115Z"
      },
      {
        "duration": 95,
        "start_time": "2022-07-21T07:50:24.125Z"
      },
      {
        "duration": 103,
        "start_time": "2022-07-21T07:50:24.311Z"
      },
      {
        "duration": 19,
        "start_time": "2022-07-21T07:54:35.724Z"
      },
      {
        "duration": 5,
        "start_time": "2022-07-21T07:54:57.536Z"
      },
      {
        "duration": 4,
        "start_time": "2022-07-21T07:59:24.301Z"
      },
      {
        "duration": 158,
        "start_time": "2022-07-21T07:59:49.826Z"
      },
      {
        "duration": 229,
        "start_time": "2022-07-21T08:00:01.865Z"
      },
      {
        "duration": 1462,
        "start_time": "2022-07-21T08:02:36.971Z"
      },
      {
        "duration": 1324,
        "start_time": "2022-07-21T08:03:42.716Z"
      },
      {
        "duration": 540,
        "start_time": "2022-07-21T08:04:57.418Z"
      },
      {
        "duration": 9,
        "start_time": "2022-07-21T08:05:56.989Z"
      },
      {
        "duration": 10,
        "start_time": "2022-07-21T08:06:20.937Z"
      },
      {
        "duration": 7,
        "start_time": "2022-07-21T08:06:28.288Z"
      },
      {
        "duration": 23,
        "start_time": "2022-07-21T08:06:43.670Z"
      },
      {
        "duration": 538,
        "start_time": "2022-07-21T08:07:56.705Z"
      },
      {
        "duration": 77,
        "start_time": "2022-07-21T08:40:48.529Z"
      },
      {
        "duration": 78,
        "start_time": "2022-07-21T08:48:41.673Z"
      },
      {
        "duration": 15021,
        "start_time": "2022-07-21T08:48:54.810Z"
      },
      {
        "duration": 10,
        "start_time": "2022-07-21T08:51:40.004Z"
      },
      {
        "duration": 9,
        "start_time": "2022-07-21T08:53:44.646Z"
      },
      {
        "duration": 8,
        "start_time": "2022-07-21T08:54:14.862Z"
      },
      {
        "duration": 31,
        "start_time": "2022-07-21T08:54:20.311Z"
      },
      {
        "duration": 11,
        "start_time": "2022-07-21T08:54:20.344Z"
      },
      {
        "duration": 27,
        "start_time": "2022-07-21T08:54:20.357Z"
      },
      {
        "duration": 43,
        "start_time": "2022-07-21T08:54:20.386Z"
      },
      {
        "duration": 539,
        "start_time": "2022-07-21T08:54:20.432Z"
      },
      {
        "duration": 7,
        "start_time": "2022-07-21T08:54:20.973Z"
      },
      {
        "duration": 6,
        "start_time": "2022-07-21T08:54:20.982Z"
      },
      {
        "duration": 22,
        "start_time": "2022-07-21T08:54:20.990Z"
      },
      {
        "duration": 13,
        "start_time": "2022-07-21T08:54:21.014Z"
      },
      {
        "duration": 7599,
        "start_time": "2022-07-21T08:54:21.029Z"
      },
      {
        "duration": 5,
        "start_time": "2022-07-21T08:54:28.631Z"
      },
      {
        "duration": 11,
        "start_time": "2022-07-21T08:54:28.638Z"
      },
      {
        "duration": 127,
        "start_time": "2022-07-21T08:54:28.709Z"
      },
      {
        "duration": 180,
        "start_time": "2022-07-21T08:54:28.839Z"
      },
      {
        "duration": 36,
        "start_time": "2022-07-21T09:01:18.087Z"
      },
      {
        "duration": 36,
        "start_time": "2022-07-21T09:01:22.832Z"
      },
      {
        "duration": 12,
        "start_time": "2022-07-21T09:01:22.871Z"
      },
      {
        "duration": 27,
        "start_time": "2022-07-21T09:01:22.885Z"
      },
      {
        "duration": 48,
        "start_time": "2022-07-21T09:01:22.914Z"
      },
      {
        "duration": 720,
        "start_time": "2022-07-21T09:01:22.966Z"
      },
      {
        "duration": 8,
        "start_time": "2022-07-21T09:01:23.688Z"
      },
      {
        "duration": 15,
        "start_time": "2022-07-21T09:01:23.698Z"
      },
      {
        "duration": 17,
        "start_time": "2022-07-21T09:01:23.716Z"
      },
      {
        "duration": 30,
        "start_time": "2022-07-21T09:01:23.735Z"
      },
      {
        "duration": 8532,
        "start_time": "2022-07-21T09:01:23.768Z"
      },
      {
        "duration": 10,
        "start_time": "2022-07-21T09:01:32.302Z"
      },
      {
        "duration": 108,
        "start_time": "2022-07-21T09:01:32.314Z"
      },
      {
        "duration": 198,
        "start_time": "2022-07-21T09:01:32.426Z"
      },
      {
        "duration": 199,
        "start_time": "2022-07-21T09:01:32.631Z"
      },
      {
        "duration": 13,
        "start_time": "2022-07-21T09:06:04.793Z"
      },
      {
        "duration": 8,
        "start_time": "2022-07-21T09:06:24.988Z"
      },
      {
        "duration": 31,
        "start_time": "2022-07-21T09:06:30.531Z"
      },
      {
        "duration": 10,
        "start_time": "2022-07-21T09:06:30.564Z"
      },
      {
        "duration": 35,
        "start_time": "2022-07-21T09:06:30.576Z"
      },
      {
        "duration": 39,
        "start_time": "2022-07-21T09:06:30.613Z"
      },
      {
        "duration": 516,
        "start_time": "2022-07-21T09:06:30.655Z"
      },
      {
        "duration": 8,
        "start_time": "2022-07-21T09:06:31.172Z"
      },
      {
        "duration": 19,
        "start_time": "2022-07-21T09:06:31.181Z"
      },
      {
        "duration": 8,
        "start_time": "2022-07-21T09:06:31.202Z"
      },
      {
        "duration": 15,
        "start_time": "2022-07-21T09:06:31.212Z"
      },
      {
        "duration": 7771,
        "start_time": "2022-07-21T09:06:31.228Z"
      },
      {
        "duration": 11,
        "start_time": "2022-07-21T09:06:39.000Z"
      },
      {
        "duration": 103,
        "start_time": "2022-07-21T09:06:39.013Z"
      },
      {
        "duration": 101,
        "start_time": "2022-07-21T09:06:39.118Z"
      },
      {
        "duration": 190,
        "start_time": "2022-07-21T09:06:39.223Z"
      },
      {
        "duration": 12,
        "start_time": "2022-07-21T09:31:56.255Z"
      },
      {
        "duration": 5,
        "start_time": "2022-07-21T09:32:04.027Z"
      },
      {
        "duration": 7,
        "start_time": "2022-07-21T09:32:19.847Z"
      },
      {
        "duration": 13,
        "start_time": "2022-07-21T09:32:29.485Z"
      },
      {
        "duration": 20,
        "start_time": "2022-07-21T09:32:33.607Z"
      },
      {
        "duration": 8,
        "start_time": "2022-07-21T09:34:24.946Z"
      },
      {
        "duration": 90,
        "start_time": "2022-07-21T09:35:05.423Z"
      },
      {
        "duration": 17,
        "start_time": "2022-07-21T09:35:24.050Z"
      },
      {
        "duration": 9,
        "start_time": "2022-07-21T09:35:40.256Z"
      },
      {
        "duration": 11,
        "start_time": "2022-07-21T09:35:48.407Z"
      },
      {
        "duration": 15,
        "start_time": "2022-07-21T09:35:53.210Z"
      },
      {
        "duration": 9,
        "start_time": "2022-07-21T09:36:02.448Z"
      },
      {
        "duration": 9,
        "start_time": "2022-07-21T09:36:11.673Z"
      },
      {
        "duration": 10,
        "start_time": "2022-07-21T09:36:59.277Z"
      },
      {
        "duration": 11,
        "start_time": "2022-07-21T09:37:08.943Z"
      },
      {
        "duration": 10,
        "start_time": "2022-07-21T09:42:37.101Z"
      },
      {
        "duration": 11,
        "start_time": "2022-07-21T09:43:21.826Z"
      },
      {
        "duration": 2,
        "start_time": "2022-07-21T09:47:13.971Z"
      },
      {
        "duration": 6,
        "start_time": "2022-07-21T09:48:47.412Z"
      },
      {
        "duration": 6,
        "start_time": "2022-07-21T09:49:33.905Z"
      },
      {
        "duration": 6,
        "start_time": "2022-07-21T09:49:58.282Z"
      },
      {
        "duration": 25,
        "start_time": "2022-07-21T09:50:30.846Z"
      },
      {
        "duration": 514,
        "start_time": "2022-07-21T09:51:59.339Z"
      },
      {
        "duration": 15,
        "start_time": "2022-07-21T09:52:33.608Z"
      },
      {
        "duration": 12,
        "start_time": "2022-07-21T09:53:36.420Z"
      },
      {
        "duration": 32,
        "start_time": "2022-07-21T09:54:05.557Z"
      },
      {
        "duration": 12,
        "start_time": "2022-07-21T09:54:05.591Z"
      },
      {
        "duration": 24,
        "start_time": "2022-07-21T09:54:05.605Z"
      },
      {
        "duration": 18,
        "start_time": "2022-07-21T09:54:05.632Z"
      },
      {
        "duration": 9,
        "start_time": "2022-07-21T09:54:05.652Z"
      },
      {
        "duration": 13,
        "start_time": "2022-07-21T09:54:05.663Z"
      },
      {
        "duration": 29,
        "start_time": "2022-07-21T09:54:05.678Z"
      },
      {
        "duration": 11,
        "start_time": "2022-07-21T09:54:05.710Z"
      },
      {
        "duration": 583,
        "start_time": "2022-07-21T09:54:05.722Z"
      },
      {
        "duration": 7484,
        "start_time": "2022-07-21T09:54:06.311Z"
      },
      {
        "duration": 21,
        "start_time": "2022-07-21T09:54:13.797Z"
      },
      {
        "duration": 196,
        "start_time": "2022-07-21T09:54:13.821Z"
      },
      {
        "duration": 102,
        "start_time": "2022-07-21T09:54:14.109Z"
      },
      {
        "duration": 99,
        "start_time": "2022-07-21T09:54:14.213Z"
      },
      {
        "duration": 96,
        "start_time": "2022-07-21T09:54:14.315Z"
      },
      {
        "duration": 29,
        "start_time": "2022-07-21T09:54:14.413Z"
      },
      {
        "duration": 131,
        "start_time": "2022-07-21T09:54:14.515Z"
      },
      {
        "duration": 11,
        "start_time": "2022-07-21T09:59:58.892Z"
      },
      {
        "duration": 13,
        "start_time": "2022-07-21T10:00:19.097Z"
      },
      {
        "duration": 5,
        "start_time": "2022-07-21T10:02:08.622Z"
      },
      {
        "duration": 7,
        "start_time": "2022-07-21T10:02:16.455Z"
      },
      {
        "duration": 14,
        "start_time": "2022-07-21T10:02:25.589Z"
      },
      {
        "duration": 529,
        "start_time": "2022-07-21T10:02:55.215Z"
      },
      {
        "duration": 17,
        "start_time": "2022-07-21T10:03:11.564Z"
      },
      {
        "duration": 536,
        "start_time": "2022-07-21T10:03:14.847Z"
      },
      {
        "duration": 14,
        "start_time": "2022-07-21T10:03:25.942Z"
      },
      {
        "duration": 558,
        "start_time": "2022-07-21T10:03:27.782Z"
      },
      {
        "duration": 670,
        "start_time": "2022-07-21T10:07:08.045Z"
      },
      {
        "duration": 34,
        "start_time": "2022-07-21T10:07:23.049Z"
      },
      {
        "duration": 16,
        "start_time": "2022-07-21T10:07:23.086Z"
      },
      {
        "duration": 23,
        "start_time": "2022-07-21T10:07:23.105Z"
      },
      {
        "duration": 5,
        "start_time": "2022-07-21T10:07:23.131Z"
      },
      {
        "duration": 8,
        "start_time": "2022-07-21T10:07:23.554Z"
      },
      {
        "duration": 8,
        "start_time": "2022-07-21T10:07:23.564Z"
      },
      {
        "duration": 35,
        "start_time": "2022-07-21T10:07:23.575Z"
      },
      {
        "duration": 13,
        "start_time": "2022-07-21T10:07:23.612Z"
      },
      {
        "duration": 539,
        "start_time": "2022-07-21T10:07:23.629Z"
      },
      {
        "duration": 7,
        "start_time": "2022-07-21T10:07:24.170Z"
      },
      {
        "duration": 609,
        "start_time": "2022-07-21T10:07:24.179Z"
      },
      {
        "duration": 7232,
        "start_time": "2022-07-21T10:07:24.790Z"
      },
      {
        "duration": 187,
        "start_time": "2022-07-21T10:07:32.024Z"
      },
      {
        "duration": 12,
        "start_time": "2022-07-21T10:07:32.213Z"
      },
      {
        "duration": 194,
        "start_time": "2022-07-21T10:07:32.231Z"
      },
      {
        "duration": 87,
        "start_time": "2022-07-21T10:07:32.429Z"
      },
      {
        "duration": 93,
        "start_time": "2022-07-21T10:07:32.519Z"
      },
      {
        "duration": 114,
        "start_time": "2022-07-21T10:07:32.615Z"
      },
      {
        "duration": 192,
        "start_time": "2022-07-21T10:07:32.731Z"
      },
      {
        "duration": 35,
        "start_time": "2022-07-21T10:10:20.172Z"
      },
      {
        "duration": 16,
        "start_time": "2022-07-21T10:10:20.210Z"
      },
      {
        "duration": 16,
        "start_time": "2022-07-21T10:10:20.228Z"
      },
      {
        "duration": 6,
        "start_time": "2022-07-21T10:10:20.247Z"
      },
      {
        "duration": 8,
        "start_time": "2022-07-21T10:10:20.255Z"
      },
      {
        "duration": 50,
        "start_time": "2022-07-21T10:10:20.265Z"
      },
      {
        "duration": 28,
        "start_time": "2022-07-21T10:10:20.317Z"
      },
      {
        "duration": 11,
        "start_time": "2022-07-21T10:10:20.349Z"
      },
      {
        "duration": 606,
        "start_time": "2022-07-21T10:10:20.362Z"
      },
      {
        "duration": 9,
        "start_time": "2022-07-21T10:10:20.972Z"
      },
      {
        "duration": 586,
        "start_time": "2022-07-21T10:10:20.983Z"
      },
      {
        "duration": 7178,
        "start_time": "2022-07-21T10:10:21.572Z"
      },
      {
        "duration": 10,
        "start_time": "2022-07-21T10:10:28.752Z"
      },
      {
        "duration": 101,
        "start_time": "2022-07-21T10:10:28.809Z"
      },
      {
        "duration": 105,
        "start_time": "2022-07-21T10:10:28.913Z"
      },
      {
        "duration": 22,
        "start_time": "2022-07-21T10:10:29.020Z"
      },
      {
        "duration": 118,
        "start_time": "2022-07-21T10:10:29.111Z"
      },
      {
        "duration": 30,
        "start_time": "2022-07-21T10:23:14.950Z"
      },
      {
        "duration": 10,
        "start_time": "2022-07-21T10:23:14.983Z"
      },
      {
        "duration": 14,
        "start_time": "2022-07-21T10:23:14.995Z"
      },
      {
        "duration": 6,
        "start_time": "2022-07-21T10:23:15.045Z"
      },
      {
        "duration": 10,
        "start_time": "2022-07-21T10:23:15.053Z"
      },
      {
        "duration": 7,
        "start_time": "2022-07-21T10:23:15.065Z"
      },
      {
        "duration": 27,
        "start_time": "2022-07-21T10:23:15.074Z"
      },
      {
        "duration": 15,
        "start_time": "2022-07-21T10:23:15.104Z"
      },
      {
        "duration": 543,
        "start_time": "2022-07-21T10:23:15.121Z"
      },
      {
        "duration": 7,
        "start_time": "2022-07-21T10:23:15.666Z"
      },
      {
        "duration": 587,
        "start_time": "2022-07-21T10:23:15.675Z"
      },
      {
        "duration": 6886,
        "start_time": "2022-07-21T10:23:16.265Z"
      },
      {
        "duration": 11,
        "start_time": "2022-07-21T10:23:23.152Z"
      },
      {
        "duration": 14,
        "start_time": "2022-07-21T10:23:23.210Z"
      },
      {
        "duration": 93,
        "start_time": "2022-07-21T10:23:23.227Z"
      },
      {
        "duration": 195,
        "start_time": "2022-07-21T10:23:23.322Z"
      },
      {
        "duration": 1892,
        "start_time": "2022-07-21T11:54:42.561Z"
      },
      {
        "duration": 14,
        "start_time": "2022-07-21T11:54:44.455Z"
      },
      {
        "duration": 17,
        "start_time": "2022-07-21T11:54:44.470Z"
      },
      {
        "duration": 4,
        "start_time": "2022-07-21T11:54:44.489Z"
      },
      {
        "duration": 8,
        "start_time": "2022-07-21T11:54:44.495Z"
      },
      {
        "duration": 6,
        "start_time": "2022-07-21T11:54:44.504Z"
      },
      {
        "duration": 27,
        "start_time": "2022-07-21T11:54:44.511Z"
      },
      {
        "duration": 9,
        "start_time": "2022-07-21T11:54:44.540Z"
      },
      {
        "duration": 585,
        "start_time": "2022-07-21T11:54:44.550Z"
      },
      {
        "duration": 6,
        "start_time": "2022-07-21T11:54:45.138Z"
      },
      {
        "duration": 568,
        "start_time": "2022-07-21T11:54:45.146Z"
      },
      {
        "duration": 5810,
        "start_time": "2022-07-21T11:54:45.715Z"
      },
      {
        "duration": 8,
        "start_time": "2022-07-21T11:54:51.527Z"
      },
      {
        "duration": 64,
        "start_time": "2022-07-21T11:54:51.537Z"
      },
      {
        "duration": 100,
        "start_time": "2022-07-21T11:54:51.603Z"
      },
      {
        "duration": 100,
        "start_time": "2022-07-21T11:54:51.705Z"
      },
      {
        "duration": 1699,
        "start_time": "2022-07-22T09:27:17.475Z"
      },
      {
        "duration": 26,
        "start_time": "2022-07-22T09:27:19.179Z"
      },
      {
        "duration": 18,
        "start_time": "2022-07-22T09:27:19.206Z"
      },
      {
        "duration": 7,
        "start_time": "2022-07-22T09:27:19.227Z"
      },
      {
        "duration": 26,
        "start_time": "2022-07-22T09:27:19.236Z"
      },
      {
        "duration": 39,
        "start_time": "2022-07-22T09:27:19.264Z"
      },
      {
        "duration": 33,
        "start_time": "2022-07-22T09:27:19.305Z"
      },
      {
        "duration": 14,
        "start_time": "2022-07-22T09:27:19.339Z"
      },
      {
        "duration": 564,
        "start_time": "2022-07-22T09:27:19.355Z"
      },
      {
        "duration": 7,
        "start_time": "2022-07-22T09:27:19.921Z"
      },
      {
        "duration": 551,
        "start_time": "2022-07-22T09:27:19.929Z"
      },
      {
        "duration": 6887,
        "start_time": "2022-07-22T09:27:20.482Z"
      },
      {
        "duration": 10,
        "start_time": "2022-07-22T09:27:27.373Z"
      },
      {
        "duration": 76,
        "start_time": "2022-07-22T09:27:27.385Z"
      },
      {
        "duration": 124,
        "start_time": "2022-07-22T09:27:27.465Z"
      },
      {
        "duration": 108,
        "start_time": "2022-07-22T09:27:27.659Z"
      }
    ],
    "kernelspec": {
      "display_name": "Python 3 (ipykernel)",
      "language": "python",
      "name": "python3"
    },
    "language_info": {
      "codemirror_mode": {
        "name": "ipython",
        "version": 3
      },
      "file_extension": ".py",
      "mimetype": "text/x-python",
      "name": "python",
      "nbconvert_exporter": "python",
      "pygments_lexer": "ipython3",
      "version": "3.9.5"
    },
    "toc": {
      "base_numbering": 1,
      "nav_menu": {},
      "number_sections": true,
      "sideBar": true,
      "skip_h1_title": true,
      "title_cell": "Содержание",
      "title_sidebar": "Contents",
      "toc_cell": true,
      "toc_position": {
        "height": "calc(100% - 180px)",
        "left": "10px",
        "top": "150px",
        "width": "229.188px"
      },
      "toc_section_display": true,
      "toc_window_display": true
    },
    "colab": {
      "provenance": [],
      "collapsed_sections": []
    }
  },
  "nbformat": 4,
  "nbformat_minor": 0
}