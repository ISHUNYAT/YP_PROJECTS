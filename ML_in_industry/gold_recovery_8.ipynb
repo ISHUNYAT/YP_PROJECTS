{
  "cells": [
    {
      "cell_type": "markdown",
      "metadata": {
        "id": "wFqc9PohCw2C"
      },
      "source": [
        "# Восстановление золота из руды"
      ]
    },
    {
      "cell_type": "markdown",
      "metadata": {
        "id": "N-a5j5YcCw2D"
      },
      "source": [
        "Нам необходимо подготовить прототип модели машинного обучения для ООО «Цифры». Компания разрабатывает решения для эффективной работы промышленных предприятий.\n",
        "\n",
        "Модель должна предсказать коэффициент восстановления золота из золотосодержащей руды. Будем использовать данные с параметрами добычи и очистки. \n",
        "\n",
        "Модель поможет оптимизировать производство, чтобы не запускать предприятие с убыточными характеристиками.\n",
        "\n",
        "В ходе выполнения проекта нам нужно:\n",
        "\n",
        "1. Подготовить данные;\n",
        "2. Провести исследовательский анализ данных;\n",
        "3. Построить и обучить модель.\n",
        "\n",
        "# Описание данных\n",
        "# Технологический процесс\n",
        "* Rougher feed — исходное сырье\n",
        "* Rougher additions (или reagent additions) — флотационные реагенты: Xanthate, * Sulphate, Depressant\n",
        "* Xanthate **— ксантогенат (промотер, или активатор флотации);\n",
        "* Sulphate — сульфат (на данном производстве сульфид натрия);\n",
        "* Depressant — депрессант (силикат натрия).\n",
        "* Rougher process (англ. «грубый процесс») — флотация\n",
        "* Rougher tails — отвальные хвосты\n",
        "* Float banks — флотационная установка\n",
        "* Cleaner process — очистка\n",
        "* Rougher Au — черновой концентрат золота\n",
        "* Final Au — финальный концентрат золота\n",
        "\n",
        "# Параметры этапов\n",
        "* air amount — объём воздуха\n",
        "* fluid levels — уровень жидкости\n",
        "* feed size — размер гранул сырья\n",
        "* feed rate — скорость подачи\n",
        "\n",
        "# Наименование признаков\n",
        "\n",
        "Наименование имеет следующий формат:\n",
        "[этап].[тип_параметра].[название_параметра]\n",
        " \n",
        " Пример: rougher.input.feed_ag\n",
        "\n",
        "\n",
        "Возможные значения для блока [этап]:\n",
        "* rougher — флотация\n",
        "* primary_cleaner — первичная очистка\n",
        "* secondary_cleaner — вторичная очистка\n",
        "* final — финальные характеристики\n",
        "\n",
        "Возможные значения для блока [тип_параметра]:\n",
        "* input — параметры сырья\n",
        "* output — параметры продукта\n",
        "* state — параметры, характеризующие текущее состояние этапа\n",
        "* calculation — расчётные характеристики\n",
        "\n",
        "# Расчёт эффективности\n",
        "\n",
        "Эффективность обогащения рассчитывается по формуле:\n",
        "$$ Recovery = \\frac{C * (F - T)}{F * (C - T)} $$\n",
        "где:\n",
        "* C — доля золота в концентрате после флотации/очистки;\n",
        "* F — доля золота в сырье/концентрате до флотации/очистки;\n",
        "* T — доля золота в отвальных хвостах после флотации/очистки.\n",
        "\n",
        "Для прогноза коэффициента нужно найти долю золота в концентратах и хвостах. Причём важен не только финальный продукт, но и черновой концентрат.\n",
        "\n",
        "# Метрика качества\n",
        "\n",
        "Для решения задачи введём новую метрику качества — `sMAPE` (англ. Symmetric Mean Absolute Percentage Error, «симметричное среднее абсолютное процентное отклонение»).\n",
        "\n",
        "Она похожа на MAE, но выражается не в абсолютных величинах, а в относительных. Метрика симметричная, т.к. она одинаково учитывает масштаб и целевого признака, и предсказания.\n",
        "\n",
        "Метрика sMAPE вычисляется так:\n",
        "\n",
        "$$ sMAPE = \\frac{1}{N}\\displaystyle\\sum_{i=1}^{N}\\frac{|y_i-\\bar{y_i}|}{|y_i|-|\\bar{y_i|}/2} $$\n",
        "\n",
        "\n",
        "\n",
        "Обозначения:\n",
        "\n",
        "\n",
        "* $$yi$$ Значение целевого признака для объекта с порядковым номером i в выборке, на которой измеряется качество.\n",
        "* $$\\bar{y_i}$$\n",
        "Значение предсказания для объекта с порядковым номером i, например, в тестовой выборке.\n",
        "* $$N$$\n",
        "Количество объектов в выборке.\n",
        "* $$\\displaystyle\\sum_{i=1}^{N}$$\n",
        "Суммирование по всем объектам выборки (i меняется от 1 до N).\n",
        "\n",
        "Нужно спрогнозировать сразу две величины:\n",
        "* эффективность обогащения чернового концентрата rougher.output.recovery;\n",
        "* эффективность обогащения финального концентрата final.output.recovery.\n",
        "\n",
        "Итоговая метрика складывается из двух величин:\n",
        "##        Итоговое  sMAPE = 25% * sMAPE(rougher)+75%*sMAPE(final)"
      ]
    },
    {
      "cell_type": "markdown",
      "metadata": {
        "id": "bmRWqtdOCw2E"
      },
      "source": [
        "## Подготовка данных"
      ]
    },
    {
      "cell_type": "code",
      "execution_count": null,
      "metadata": {
        "id": "iNJAPpSQCw2F"
      },
      "outputs": [],
      "source": [
        "import pandas as pd\n",
        "import matplotlib.pyplot as plt\n",
        "import seaborn as sns\n",
        "import numpy as np\n",
        "from sklearn.linear_model import LinearRegression\n",
        "from sklearn.ensemble import RandomForestRegressor\n",
        "from sklearn.tree import DecisionTreeRegressor\n",
        "from sklearn.model_selection import GridSearchCV\n",
        "from sklearn.metrics import mean_squared_error\n",
        "from sklearn.metrics import mean_absolute_error\n",
        "from sklearn.model_selection import train_test_split\n",
        "from sklearn.metrics import make_scorer\n",
        "from sklearn.preprocessing import StandardScaler\n",
        "from sklearn.model_selection import cross_val_score\n",
        "from sklearn.model_selection import RandomizedSearchCV\n",
        "from sklearn.dummy import DummyRegressor\n",
        "from scipy import stats as st\n",
        "import warnings\n",
        "warnings.filterwarnings('ignore')\n",
        "RANDOM_STATE = 12345\n",
        "pth0 = '/datasets/gold_recovery_train_new.csv'\n",
        "pth0_1 = '/content/8_gold_recovery_train_new.csv'\n",
        "pth1 = '/datasets/gold_recovery_test_new.csv'\n",
        "pth1_1 = '/content/8_gold_recovery_test_new.csv'\n",
        "pth2 = '/datasets/gold_recovery_full_new.csv'\n",
        "pth2_1 = '/content/8_gold_recovery_full_new.csv'\n",
        "try:\n",
        "    df_train = pd.read_csv(pth0)\n",
        "    df_test = pd.read_csv(pth1)\n",
        "    df_full = pd.read_csv(pth2)\n",
        "except:\n",
        "    df_train = pd.read_csv(pth0_1)\n",
        "    df_test = pd.read_csv(pth1_1)\n",
        "    df_full = pd.read_csv(pth2_1)"
      ]
    },
    {
      "cell_type": "markdown",
      "metadata": {
        "id": "Cs4YR2T4Cw2I"
      },
      "source": [
        "Посмотрим на общую информацию о данных по трем представленным выборкам."
      ]
    },
    {
      "cell_type": "code",
      "execution_count": null,
      "metadata": {
        "scrolled": false,
        "id": "xEn2aCSYCw2J",
        "outputId": "04ff8f7e-a069-4fb8-b71e-7121affb84bd",
        "colab": {
          "base_uri": "https://localhost:8080/"
        }
      },
      "outputs": [
        {
          "output_type": "stream",
          "name": "stdout",
          "text": [
            "<class 'pandas.core.frame.DataFrame'>\n",
            "RangeIndex: 14149 entries, 0 to 14148\n",
            "Data columns (total 87 columns):\n",
            " #   Column                                              Non-Null Count  Dtype  \n",
            "---  ------                                              --------------  -----  \n",
            " 0   date                                                14149 non-null  object \n",
            " 1   final.output.concentrate_ag                         14148 non-null  float64\n",
            " 2   final.output.concentrate_pb                         14148 non-null  float64\n",
            " 3   final.output.concentrate_sol                        13938 non-null  float64\n",
            " 4   final.output.concentrate_au                         14149 non-null  float64\n",
            " 5   final.output.recovery                               14149 non-null  float64\n",
            " 6   final.output.tail_ag                                14149 non-null  float64\n",
            " 7   final.output.tail_pb                                14049 non-null  float64\n",
            " 8   final.output.tail_sol                               14144 non-null  float64\n",
            " 9   final.output.tail_au                                14149 non-null  float64\n",
            " 10  primary_cleaner.input.sulfate                       14129 non-null  float64\n",
            " 11  primary_cleaner.input.depressant                    14117 non-null  float64\n",
            " 12  primary_cleaner.input.feed_size                     14149 non-null  float64\n",
            " 13  primary_cleaner.input.xanthate                      14049 non-null  float64\n",
            " 14  primary_cleaner.output.concentrate_ag               14149 non-null  float64\n",
            " 15  primary_cleaner.output.concentrate_pb               14063 non-null  float64\n",
            " 16  primary_cleaner.output.concentrate_sol              13863 non-null  float64\n",
            " 17  primary_cleaner.output.concentrate_au               14149 non-null  float64\n",
            " 18  primary_cleaner.output.tail_ag                      14148 non-null  float64\n",
            " 19  primary_cleaner.output.tail_pb                      14134 non-null  float64\n",
            " 20  primary_cleaner.output.tail_sol                     14103 non-null  float64\n",
            " 21  primary_cleaner.output.tail_au                      14149 non-null  float64\n",
            " 22  primary_cleaner.state.floatbank8_a_air              14145 non-null  float64\n",
            " 23  primary_cleaner.state.floatbank8_a_level            14148 non-null  float64\n",
            " 24  primary_cleaner.state.floatbank8_b_air              14145 non-null  float64\n",
            " 25  primary_cleaner.state.floatbank8_b_level            14148 non-null  float64\n",
            " 26  primary_cleaner.state.floatbank8_c_air              14147 non-null  float64\n",
            " 27  primary_cleaner.state.floatbank8_c_level            14148 non-null  float64\n",
            " 28  primary_cleaner.state.floatbank8_d_air              14146 non-null  float64\n",
            " 29  primary_cleaner.state.floatbank8_d_level            14148 non-null  float64\n",
            " 30  rougher.calculation.sulfate_to_au_concentrate       14148 non-null  float64\n",
            " 31  rougher.calculation.floatbank10_sulfate_to_au_feed  14148 non-null  float64\n",
            " 32  rougher.calculation.floatbank11_sulfate_to_au_feed  14148 non-null  float64\n",
            " 33  rougher.calculation.au_pb_ratio                     14149 non-null  float64\n",
            " 34  rougher.input.feed_ag                               14149 non-null  float64\n",
            " 35  rougher.input.feed_pb                               14049 non-null  float64\n",
            " 36  rougher.input.feed_rate                             14141 non-null  float64\n",
            " 37  rougher.input.feed_size                             14005 non-null  float64\n",
            " 38  rougher.input.feed_sol                              14071 non-null  float64\n",
            " 39  rougher.input.feed_au                               14149 non-null  float64\n",
            " 40  rougher.input.floatbank10_sulfate                   14120 non-null  float64\n",
            " 41  rougher.input.floatbank10_xanthate                  14141 non-null  float64\n",
            " 42  rougher.input.floatbank11_sulfate                   14113 non-null  float64\n",
            " 43  rougher.input.floatbank11_xanthate                  13721 non-null  float64\n",
            " 44  rougher.output.concentrate_ag                       14149 non-null  float64\n",
            " 45  rougher.output.concentrate_pb                       14149 non-null  float64\n",
            " 46  rougher.output.concentrate_sol                      14127 non-null  float64\n",
            " 47  rougher.output.concentrate_au                       14149 non-null  float64\n",
            " 48  rougher.output.recovery                             14149 non-null  float64\n",
            " 49  rougher.output.tail_ag                              14148 non-null  float64\n",
            " 50  rougher.output.tail_pb                              14149 non-null  float64\n",
            " 51  rougher.output.tail_sol                             14149 non-null  float64\n",
            " 52  rougher.output.tail_au                              14149 non-null  float64\n",
            " 53  rougher.state.floatbank10_a_air                     14148 non-null  float64\n",
            " 54  rougher.state.floatbank10_a_level                   14148 non-null  float64\n",
            " 55  rougher.state.floatbank10_b_air                     14148 non-null  float64\n",
            " 56  rougher.state.floatbank10_b_level                   14148 non-null  float64\n",
            " 57  rougher.state.floatbank10_c_air                     14148 non-null  float64\n",
            " 58  rougher.state.floatbank10_c_level                   14148 non-null  float64\n",
            " 59  rougher.state.floatbank10_d_air                     14149 non-null  float64\n",
            " 60  rougher.state.floatbank10_d_level                   14149 non-null  float64\n",
            " 61  rougher.state.floatbank10_e_air                     13713 non-null  float64\n",
            " 62  rougher.state.floatbank10_e_level                   14149 non-null  float64\n",
            " 63  rougher.state.floatbank10_f_air                     14149 non-null  float64\n",
            " 64  rougher.state.floatbank10_f_level                   14149 non-null  float64\n",
            " 65  secondary_cleaner.output.tail_ag                    14147 non-null  float64\n",
            " 66  secondary_cleaner.output.tail_pb                    14139 non-null  float64\n",
            " 67  secondary_cleaner.output.tail_sol                   12544 non-null  float64\n",
            " 68  secondary_cleaner.output.tail_au                    14149 non-null  float64\n",
            " 69  secondary_cleaner.state.floatbank2_a_air            13932 non-null  float64\n",
            " 70  secondary_cleaner.state.floatbank2_a_level          14148 non-null  float64\n",
            " 71  secondary_cleaner.state.floatbank2_b_air            14128 non-null  float64\n",
            " 72  secondary_cleaner.state.floatbank2_b_level          14148 non-null  float64\n",
            " 73  secondary_cleaner.state.floatbank3_a_air            14145 non-null  float64\n",
            " 74  secondary_cleaner.state.floatbank3_a_level          14148 non-null  float64\n",
            " 75  secondary_cleaner.state.floatbank3_b_air            14148 non-null  float64\n",
            " 76  secondary_cleaner.state.floatbank3_b_level          14148 non-null  float64\n",
            " 77  secondary_cleaner.state.floatbank4_a_air            14143 non-null  float64\n",
            " 78  secondary_cleaner.state.floatbank4_a_level          14148 non-null  float64\n",
            " 79  secondary_cleaner.state.floatbank4_b_air            14148 non-null  float64\n",
            " 80  secondary_cleaner.state.floatbank4_b_level          14148 non-null  float64\n",
            " 81  secondary_cleaner.state.floatbank5_a_air            14148 non-null  float64\n",
            " 82  secondary_cleaner.state.floatbank5_a_level          14148 non-null  float64\n",
            " 83  secondary_cleaner.state.floatbank5_b_air            14148 non-null  float64\n",
            " 84  secondary_cleaner.state.floatbank5_b_level          14148 non-null  float64\n",
            " 85  secondary_cleaner.state.floatbank6_a_air            14147 non-null  float64\n",
            " 86  secondary_cleaner.state.floatbank6_a_level          14148 non-null  float64\n",
            "dtypes: float64(86), object(1)\n",
            "memory usage: 9.4+ MB\n"
          ]
        }
      ],
      "source": [
        "df_train.info() #посмотрим общую информацию по обучающей выборке"
      ]
    },
    {
      "cell_type": "markdown",
      "metadata": {
        "id": "OkL1b-26Cw2L"
      },
      "source": [
        "Таблица содержит внушительный объем данных - более 14000 строк и 87 столбцов."
      ]
    },
    {
      "cell_type": "code",
      "execution_count": null,
      "metadata": {
        "scrolled": true,
        "id": "aNjfudToCw2M",
        "outputId": "3a3ef63b-8965-47a4-b8f5-14f780da0d4d",
        "colab": {
          "base_uri": "https://localhost:8080/"
        }
      },
      "outputs": [
        {
          "output_type": "stream",
          "name": "stdout",
          "text": [
            "<class 'pandas.core.frame.DataFrame'>\n",
            "RangeIndex: 5290 entries, 0 to 5289\n",
            "Data columns (total 53 columns):\n",
            " #   Column                                      Non-Null Count  Dtype  \n",
            "---  ------                                      --------------  -----  \n",
            " 0   date                                        5290 non-null   object \n",
            " 1   primary_cleaner.input.sulfate               5286 non-null   float64\n",
            " 2   primary_cleaner.input.depressant            5285 non-null   float64\n",
            " 3   primary_cleaner.input.feed_size             5290 non-null   float64\n",
            " 4   primary_cleaner.input.xanthate              5286 non-null   float64\n",
            " 5   primary_cleaner.state.floatbank8_a_air      5290 non-null   float64\n",
            " 6   primary_cleaner.state.floatbank8_a_level    5290 non-null   float64\n",
            " 7   primary_cleaner.state.floatbank8_b_air      5290 non-null   float64\n",
            " 8   primary_cleaner.state.floatbank8_b_level    5290 non-null   float64\n",
            " 9   primary_cleaner.state.floatbank8_c_air      5290 non-null   float64\n",
            " 10  primary_cleaner.state.floatbank8_c_level    5290 non-null   float64\n",
            " 11  primary_cleaner.state.floatbank8_d_air      5290 non-null   float64\n",
            " 12  primary_cleaner.state.floatbank8_d_level    5290 non-null   float64\n",
            " 13  rougher.input.feed_ag                       5290 non-null   float64\n",
            " 14  rougher.input.feed_pb                       5290 non-null   float64\n",
            " 15  rougher.input.feed_rate                     5287 non-null   float64\n",
            " 16  rougher.input.feed_size                     5289 non-null   float64\n",
            " 17  rougher.input.feed_sol                      5269 non-null   float64\n",
            " 18  rougher.input.feed_au                       5290 non-null   float64\n",
            " 19  rougher.input.floatbank10_sulfate           5285 non-null   float64\n",
            " 20  rougher.input.floatbank10_xanthate          5290 non-null   float64\n",
            " 21  rougher.input.floatbank11_sulfate           5282 non-null   float64\n",
            " 22  rougher.input.floatbank11_xanthate          5265 non-null   float64\n",
            " 23  rougher.state.floatbank10_a_air             5290 non-null   float64\n",
            " 24  rougher.state.floatbank10_a_level           5290 non-null   float64\n",
            " 25  rougher.state.floatbank10_b_air             5290 non-null   float64\n",
            " 26  rougher.state.floatbank10_b_level           5290 non-null   float64\n",
            " 27  rougher.state.floatbank10_c_air             5290 non-null   float64\n",
            " 28  rougher.state.floatbank10_c_level           5290 non-null   float64\n",
            " 29  rougher.state.floatbank10_d_air             5290 non-null   float64\n",
            " 30  rougher.state.floatbank10_d_level           5290 non-null   float64\n",
            " 31  rougher.state.floatbank10_e_air             5290 non-null   float64\n",
            " 32  rougher.state.floatbank10_e_level           5290 non-null   float64\n",
            " 33  rougher.state.floatbank10_f_air             5290 non-null   float64\n",
            " 34  rougher.state.floatbank10_f_level           5290 non-null   float64\n",
            " 35  secondary_cleaner.state.floatbank2_a_air    5287 non-null   float64\n",
            " 36  secondary_cleaner.state.floatbank2_a_level  5290 non-null   float64\n",
            " 37  secondary_cleaner.state.floatbank2_b_air    5288 non-null   float64\n",
            " 38  secondary_cleaner.state.floatbank2_b_level  5290 non-null   float64\n",
            " 39  secondary_cleaner.state.floatbank3_a_air    5281 non-null   float64\n",
            " 40  secondary_cleaner.state.floatbank3_a_level  5290 non-null   float64\n",
            " 41  secondary_cleaner.state.floatbank3_b_air    5290 non-null   float64\n",
            " 42  secondary_cleaner.state.floatbank3_b_level  5290 non-null   float64\n",
            " 43  secondary_cleaner.state.floatbank4_a_air    5290 non-null   float64\n",
            " 44  secondary_cleaner.state.floatbank4_a_level  5290 non-null   float64\n",
            " 45  secondary_cleaner.state.floatbank4_b_air    5290 non-null   float64\n",
            " 46  secondary_cleaner.state.floatbank4_b_level  5290 non-null   float64\n",
            " 47  secondary_cleaner.state.floatbank5_a_air    5290 non-null   float64\n",
            " 48  secondary_cleaner.state.floatbank5_a_level  5290 non-null   float64\n",
            " 49  secondary_cleaner.state.floatbank5_b_air    5290 non-null   float64\n",
            " 50  secondary_cleaner.state.floatbank5_b_level  5290 non-null   float64\n",
            " 51  secondary_cleaner.state.floatbank6_a_air    5290 non-null   float64\n",
            " 52  secondary_cleaner.state.floatbank6_a_level  5290 non-null   float64\n",
            "dtypes: float64(52), object(1)\n",
            "memory usage: 2.1+ MB\n"
          ]
        }
      ],
      "source": [
        "df_test.info() #посмотрим общую информацию по тестовой выборке"
      ]
    },
    {
      "cell_type": "code",
      "execution_count": null,
      "metadata": {
        "scrolled": false,
        "id": "gec6HJm-Cw2N",
        "outputId": "995659c1-d89c-4e61-9f69-c156979727d2",
        "colab": {
          "base_uri": "https://localhost:8080/"
        }
      },
      "outputs": [
        {
          "output_type": "stream",
          "name": "stdout",
          "text": [
            "<class 'pandas.core.frame.DataFrame'>\n",
            "RangeIndex: 19439 entries, 0 to 19438\n",
            "Data columns (total 87 columns):\n",
            " #   Column                                              Non-Null Count  Dtype  \n",
            "---  ------                                              --------------  -----  \n",
            " 0   date                                                19439 non-null  object \n",
            " 1   final.output.concentrate_ag                         19438 non-null  float64\n",
            " 2   final.output.concentrate_pb                         19438 non-null  float64\n",
            " 3   final.output.concentrate_sol                        19228 non-null  float64\n",
            " 4   final.output.concentrate_au                         19439 non-null  float64\n",
            " 5   final.output.recovery                               19439 non-null  float64\n",
            " 6   final.output.tail_ag                                19438 non-null  float64\n",
            " 7   final.output.tail_pb                                19338 non-null  float64\n",
            " 8   final.output.tail_sol                               19433 non-null  float64\n",
            " 9   final.output.tail_au                                19439 non-null  float64\n",
            " 10  primary_cleaner.input.sulfate                       19415 non-null  float64\n",
            " 11  primary_cleaner.input.depressant                    19402 non-null  float64\n",
            " 12  primary_cleaner.input.feed_size                     19439 non-null  float64\n",
            " 13  primary_cleaner.input.xanthate                      19335 non-null  float64\n",
            " 14  primary_cleaner.output.concentrate_ag               19439 non-null  float64\n",
            " 15  primary_cleaner.output.concentrate_pb               19323 non-null  float64\n",
            " 16  primary_cleaner.output.concentrate_sol              19069 non-null  float64\n",
            " 17  primary_cleaner.output.concentrate_au               19439 non-null  float64\n",
            " 18  primary_cleaner.output.tail_ag                      19435 non-null  float64\n",
            " 19  primary_cleaner.output.tail_pb                      19418 non-null  float64\n",
            " 20  primary_cleaner.output.tail_sol                     19377 non-null  float64\n",
            " 21  primary_cleaner.output.tail_au                      19439 non-null  float64\n",
            " 22  primary_cleaner.state.floatbank8_a_air              19435 non-null  float64\n",
            " 23  primary_cleaner.state.floatbank8_a_level            19438 non-null  float64\n",
            " 24  primary_cleaner.state.floatbank8_b_air              19435 non-null  float64\n",
            " 25  primary_cleaner.state.floatbank8_b_level            19438 non-null  float64\n",
            " 26  primary_cleaner.state.floatbank8_c_air              19437 non-null  float64\n",
            " 27  primary_cleaner.state.floatbank8_c_level            19438 non-null  float64\n",
            " 28  primary_cleaner.state.floatbank8_d_air              19436 non-null  float64\n",
            " 29  primary_cleaner.state.floatbank8_d_level            19438 non-null  float64\n",
            " 30  rougher.calculation.sulfate_to_au_concentrate       19437 non-null  float64\n",
            " 31  rougher.calculation.floatbank10_sulfate_to_au_feed  19437 non-null  float64\n",
            " 32  rougher.calculation.floatbank11_sulfate_to_au_feed  19437 non-null  float64\n",
            " 33  rougher.calculation.au_pb_ratio                     19439 non-null  float64\n",
            " 34  rougher.input.feed_ag                               19439 non-null  float64\n",
            " 35  rougher.input.feed_pb                               19339 non-null  float64\n",
            " 36  rougher.input.feed_rate                             19428 non-null  float64\n",
            " 37  rougher.input.feed_size                             19294 non-null  float64\n",
            " 38  rougher.input.feed_sol                              19340 non-null  float64\n",
            " 39  rougher.input.feed_au                               19439 non-null  float64\n",
            " 40  rougher.input.floatbank10_sulfate                   19405 non-null  float64\n",
            " 41  rougher.input.floatbank10_xanthate                  19431 non-null  float64\n",
            " 42  rougher.input.floatbank11_sulfate                   19395 non-null  float64\n",
            " 43  rougher.input.floatbank11_xanthate                  18986 non-null  float64\n",
            " 44  rougher.output.concentrate_ag                       19439 non-null  float64\n",
            " 45  rougher.output.concentrate_pb                       19439 non-null  float64\n",
            " 46  rougher.output.concentrate_sol                      19416 non-null  float64\n",
            " 47  rougher.output.concentrate_au                       19439 non-null  float64\n",
            " 48  rougher.output.recovery                             19439 non-null  float64\n",
            " 49  rougher.output.tail_ag                              19438 non-null  float64\n",
            " 50  rougher.output.tail_pb                              19439 non-null  float64\n",
            " 51  rougher.output.tail_sol                             19439 non-null  float64\n",
            " 52  rougher.output.tail_au                              19439 non-null  float64\n",
            " 53  rougher.state.floatbank10_a_air                     19438 non-null  float64\n",
            " 54  rougher.state.floatbank10_a_level                   19438 non-null  float64\n",
            " 55  rougher.state.floatbank10_b_air                     19438 non-null  float64\n",
            " 56  rougher.state.floatbank10_b_level                   19438 non-null  float64\n",
            " 57  rougher.state.floatbank10_c_air                     19438 non-null  float64\n",
            " 58  rougher.state.floatbank10_c_level                   19438 non-null  float64\n",
            " 59  rougher.state.floatbank10_d_air                     19439 non-null  float64\n",
            " 60  rougher.state.floatbank10_d_level                   19439 non-null  float64\n",
            " 61  rougher.state.floatbank10_e_air                     19003 non-null  float64\n",
            " 62  rougher.state.floatbank10_e_level                   19439 non-null  float64\n",
            " 63  rougher.state.floatbank10_f_air                     19439 non-null  float64\n",
            " 64  rougher.state.floatbank10_f_level                   19439 non-null  float64\n",
            " 65  secondary_cleaner.output.tail_ag                    19437 non-null  float64\n",
            " 66  secondary_cleaner.output.tail_pb                    19427 non-null  float64\n",
            " 67  secondary_cleaner.output.tail_sol                   17691 non-null  float64\n",
            " 68  secondary_cleaner.output.tail_au                    19439 non-null  float64\n",
            " 69  secondary_cleaner.state.floatbank2_a_air            19219 non-null  float64\n",
            " 70  secondary_cleaner.state.floatbank2_a_level          19438 non-null  float64\n",
            " 71  secondary_cleaner.state.floatbank2_b_air            19416 non-null  float64\n",
            " 72  secondary_cleaner.state.floatbank2_b_level          19438 non-null  float64\n",
            " 73  secondary_cleaner.state.floatbank3_a_air            19426 non-null  float64\n",
            " 74  secondary_cleaner.state.floatbank3_a_level          19438 non-null  float64\n",
            " 75  secondary_cleaner.state.floatbank3_b_air            19438 non-null  float64\n",
            " 76  secondary_cleaner.state.floatbank3_b_level          19438 non-null  float64\n",
            " 77  secondary_cleaner.state.floatbank4_a_air            19433 non-null  float64\n",
            " 78  secondary_cleaner.state.floatbank4_a_level          19438 non-null  float64\n",
            " 79  secondary_cleaner.state.floatbank4_b_air            19438 non-null  float64\n",
            " 80  secondary_cleaner.state.floatbank4_b_level          19438 non-null  float64\n",
            " 81  secondary_cleaner.state.floatbank5_a_air            19438 non-null  float64\n",
            " 82  secondary_cleaner.state.floatbank5_a_level          19438 non-null  float64\n",
            " 83  secondary_cleaner.state.floatbank5_b_air            19438 non-null  float64\n",
            " 84  secondary_cleaner.state.floatbank5_b_level          19438 non-null  float64\n",
            " 85  secondary_cleaner.state.floatbank6_a_air            19437 non-null  float64\n",
            " 86  secondary_cleaner.state.floatbank6_a_level          19438 non-null  float64\n",
            "dtypes: float64(86), object(1)\n",
            "memory usage: 12.9+ MB\n"
          ]
        }
      ],
      "source": [
        "df_full.info() #посмотрим общую информацию по полной выборке"
      ]
    },
    {
      "cell_type": "markdown",
      "metadata": {
        "id": "tV-aRsCPCw2O"
      },
      "source": [
        "Данные в столбцах `date`приведем к формату даты."
      ]
    },
    {
      "cell_type": "code",
      "execution_count": null,
      "metadata": {
        "id": "Zvpw0hGeCw2O"
      },
      "outputs": [],
      "source": [
        "df_train['date']=pd.to_datetime(df_train['date'])\n",
        "df_test['date']=pd.to_datetime(df_test['date'])\n",
        "df_full['date']=pd.to_datetime(df_full['date'])"
      ]
    },
    {
      "cell_type": "code",
      "execution_count": null,
      "metadata": {
        "scrolled": false,
        "id": "AuDB6wp-Cw2P",
        "outputId": "89f56168-760a-4de3-c3a6-22f1a86ac24c",
        "colab": {
          "base_uri": "https://localhost:8080/",
          "height": 473
        }
      },
      "outputs": [
        {
          "output_type": "execute_result",
          "data": {
            "text/plain": [
              "                 date  final.output.concentrate_ag  \\\n",
              "0 2016-01-15 00:00:00                     6.055403   \n",
              "1 2016-01-15 01:00:00                     6.029369   \n",
              "2 2016-01-15 02:00:00                     6.055926   \n",
              "3 2016-01-15 03:00:00                     6.047977   \n",
              "4 2016-01-15 04:00:00                     6.148599   \n",
              "\n",
              "   final.output.concentrate_pb  final.output.concentrate_sol  \\\n",
              "0                     9.889648                      5.507324   \n",
              "1                     9.968944                      5.257781   \n",
              "2                    10.213995                      5.383759   \n",
              "3                     9.977019                      4.858634   \n",
              "4                    10.142511                      4.939416   \n",
              "\n",
              "   final.output.concentrate_au  final.output.recovery  final.output.tail_ag  \\\n",
              "0                    42.192020              70.541216             10.411962   \n",
              "1                    42.701629              69.266198             10.462676   \n",
              "2                    42.657501              68.116445             10.507046   \n",
              "3                    42.689819              68.347543             10.422762   \n",
              "4                    42.774141              66.927016             10.360302   \n",
              "\n",
              "   final.output.tail_pb  final.output.tail_sol  final.output.tail_au  ...  \\\n",
              "0              0.895447              16.904297              2.143149  ...   \n",
              "1              0.927452              16.634514              2.224930  ...   \n",
              "2              0.953716              16.208849              2.257889  ...   \n",
              "3              0.883763              16.532835              2.146849  ...   \n",
              "4              0.792826              16.525686              2.055292  ...   \n",
              "\n",
              "   secondary_cleaner.state.floatbank4_a_air  \\\n",
              "0                                 14.016835   \n",
              "1                                 13.992281   \n",
              "2                                 14.015015   \n",
              "3                                 14.036510   \n",
              "4                                 14.027298   \n",
              "\n",
              "   secondary_cleaner.state.floatbank4_a_level  \\\n",
              "0                                 -502.488007   \n",
              "1                                 -505.503262   \n",
              "2                                 -502.520901   \n",
              "3                                 -500.857308   \n",
              "4                                 -499.838632   \n",
              "\n",
              "   secondary_cleaner.state.floatbank4_b_air  \\\n",
              "0                                 12.099931   \n",
              "1                                 11.950531   \n",
              "2                                 11.912783   \n",
              "3                                 11.999550   \n",
              "4                                 11.953070   \n",
              "\n",
              "   secondary_cleaner.state.floatbank4_b_level  \\\n",
              "0                                 -504.715942   \n",
              "1                                 -501.331529   \n",
              "2                                 -501.133383   \n",
              "3                                 -501.193686   \n",
              "4                                 -501.053894   \n",
              "\n",
              "   secondary_cleaner.state.floatbank5_a_air  \\\n",
              "0                                  9.925633   \n",
              "1                                 10.039245   \n",
              "2                                 10.070913   \n",
              "3                                  9.970366   \n",
              "4                                  9.925709   \n",
              "\n",
              "   secondary_cleaner.state.floatbank5_a_level  \\\n",
              "0                                 -498.310211   \n",
              "1                                 -500.169983   \n",
              "2                                 -500.129135   \n",
              "3                                 -499.201640   \n",
              "4                                 -501.686727   \n",
              "\n",
              "   secondary_cleaner.state.floatbank5_b_air  \\\n",
              "0                                  8.079666   \n",
              "1                                  7.984757   \n",
              "2                                  8.013877   \n",
              "3                                  7.977324   \n",
              "4                                  7.894242   \n",
              "\n",
              "   secondary_cleaner.state.floatbank5_b_level  \\\n",
              "0                                 -500.470978   \n",
              "1                                 -500.582168   \n",
              "2                                 -500.517572   \n",
              "3                                 -500.255908   \n",
              "4                                 -500.356035   \n",
              "\n",
              "   secondary_cleaner.state.floatbank6_a_air  \\\n",
              "0                                 14.151341   \n",
              "1                                 13.998353   \n",
              "2                                 14.028663   \n",
              "3                                 14.005551   \n",
              "4                                 13.996647   \n",
              "\n",
              "   secondary_cleaner.state.floatbank6_a_level  \n",
              "0                                 -605.841980  \n",
              "1                                 -599.787184  \n",
              "2                                 -601.427363  \n",
              "3                                 -599.996129  \n",
              "4                                 -601.496691  \n",
              "\n",
              "[5 rows x 87 columns]"
            ],
            "text/html": [
              "\n",
              "  <div id=\"df-cf4cd258-bb2f-4968-9047-35542476bc01\">\n",
              "    <div class=\"colab-df-container\">\n",
              "      <div>\n",
              "<style scoped>\n",
              "    .dataframe tbody tr th:only-of-type {\n",
              "        vertical-align: middle;\n",
              "    }\n",
              "\n",
              "    .dataframe tbody tr th {\n",
              "        vertical-align: top;\n",
              "    }\n",
              "\n",
              "    .dataframe thead th {\n",
              "        text-align: right;\n",
              "    }\n",
              "</style>\n",
              "<table border=\"1\" class=\"dataframe\">\n",
              "  <thead>\n",
              "    <tr style=\"text-align: right;\">\n",
              "      <th></th>\n",
              "      <th>date</th>\n",
              "      <th>final.output.concentrate_ag</th>\n",
              "      <th>final.output.concentrate_pb</th>\n",
              "      <th>final.output.concentrate_sol</th>\n",
              "      <th>final.output.concentrate_au</th>\n",
              "      <th>final.output.recovery</th>\n",
              "      <th>final.output.tail_ag</th>\n",
              "      <th>final.output.tail_pb</th>\n",
              "      <th>final.output.tail_sol</th>\n",
              "      <th>final.output.tail_au</th>\n",
              "      <th>...</th>\n",
              "      <th>secondary_cleaner.state.floatbank4_a_air</th>\n",
              "      <th>secondary_cleaner.state.floatbank4_a_level</th>\n",
              "      <th>secondary_cleaner.state.floatbank4_b_air</th>\n",
              "      <th>secondary_cleaner.state.floatbank4_b_level</th>\n",
              "      <th>secondary_cleaner.state.floatbank5_a_air</th>\n",
              "      <th>secondary_cleaner.state.floatbank5_a_level</th>\n",
              "      <th>secondary_cleaner.state.floatbank5_b_air</th>\n",
              "      <th>secondary_cleaner.state.floatbank5_b_level</th>\n",
              "      <th>secondary_cleaner.state.floatbank6_a_air</th>\n",
              "      <th>secondary_cleaner.state.floatbank6_a_level</th>\n",
              "    </tr>\n",
              "  </thead>\n",
              "  <tbody>\n",
              "    <tr>\n",
              "      <th>0</th>\n",
              "      <td>2016-01-15 00:00:00</td>\n",
              "      <td>6.055403</td>\n",
              "      <td>9.889648</td>\n",
              "      <td>5.507324</td>\n",
              "      <td>42.192020</td>\n",
              "      <td>70.541216</td>\n",
              "      <td>10.411962</td>\n",
              "      <td>0.895447</td>\n",
              "      <td>16.904297</td>\n",
              "      <td>2.143149</td>\n",
              "      <td>...</td>\n",
              "      <td>14.016835</td>\n",
              "      <td>-502.488007</td>\n",
              "      <td>12.099931</td>\n",
              "      <td>-504.715942</td>\n",
              "      <td>9.925633</td>\n",
              "      <td>-498.310211</td>\n",
              "      <td>8.079666</td>\n",
              "      <td>-500.470978</td>\n",
              "      <td>14.151341</td>\n",
              "      <td>-605.841980</td>\n",
              "    </tr>\n",
              "    <tr>\n",
              "      <th>1</th>\n",
              "      <td>2016-01-15 01:00:00</td>\n",
              "      <td>6.029369</td>\n",
              "      <td>9.968944</td>\n",
              "      <td>5.257781</td>\n",
              "      <td>42.701629</td>\n",
              "      <td>69.266198</td>\n",
              "      <td>10.462676</td>\n",
              "      <td>0.927452</td>\n",
              "      <td>16.634514</td>\n",
              "      <td>2.224930</td>\n",
              "      <td>...</td>\n",
              "      <td>13.992281</td>\n",
              "      <td>-505.503262</td>\n",
              "      <td>11.950531</td>\n",
              "      <td>-501.331529</td>\n",
              "      <td>10.039245</td>\n",
              "      <td>-500.169983</td>\n",
              "      <td>7.984757</td>\n",
              "      <td>-500.582168</td>\n",
              "      <td>13.998353</td>\n",
              "      <td>-599.787184</td>\n",
              "    </tr>\n",
              "    <tr>\n",
              "      <th>2</th>\n",
              "      <td>2016-01-15 02:00:00</td>\n",
              "      <td>6.055926</td>\n",
              "      <td>10.213995</td>\n",
              "      <td>5.383759</td>\n",
              "      <td>42.657501</td>\n",
              "      <td>68.116445</td>\n",
              "      <td>10.507046</td>\n",
              "      <td>0.953716</td>\n",
              "      <td>16.208849</td>\n",
              "      <td>2.257889</td>\n",
              "      <td>...</td>\n",
              "      <td>14.015015</td>\n",
              "      <td>-502.520901</td>\n",
              "      <td>11.912783</td>\n",
              "      <td>-501.133383</td>\n",
              "      <td>10.070913</td>\n",
              "      <td>-500.129135</td>\n",
              "      <td>8.013877</td>\n",
              "      <td>-500.517572</td>\n",
              "      <td>14.028663</td>\n",
              "      <td>-601.427363</td>\n",
              "    </tr>\n",
              "    <tr>\n",
              "      <th>3</th>\n",
              "      <td>2016-01-15 03:00:00</td>\n",
              "      <td>6.047977</td>\n",
              "      <td>9.977019</td>\n",
              "      <td>4.858634</td>\n",
              "      <td>42.689819</td>\n",
              "      <td>68.347543</td>\n",
              "      <td>10.422762</td>\n",
              "      <td>0.883763</td>\n",
              "      <td>16.532835</td>\n",
              "      <td>2.146849</td>\n",
              "      <td>...</td>\n",
              "      <td>14.036510</td>\n",
              "      <td>-500.857308</td>\n",
              "      <td>11.999550</td>\n",
              "      <td>-501.193686</td>\n",
              "      <td>9.970366</td>\n",
              "      <td>-499.201640</td>\n",
              "      <td>7.977324</td>\n",
              "      <td>-500.255908</td>\n",
              "      <td>14.005551</td>\n",
              "      <td>-599.996129</td>\n",
              "    </tr>\n",
              "    <tr>\n",
              "      <th>4</th>\n",
              "      <td>2016-01-15 04:00:00</td>\n",
              "      <td>6.148599</td>\n",
              "      <td>10.142511</td>\n",
              "      <td>4.939416</td>\n",
              "      <td>42.774141</td>\n",
              "      <td>66.927016</td>\n",
              "      <td>10.360302</td>\n",
              "      <td>0.792826</td>\n",
              "      <td>16.525686</td>\n",
              "      <td>2.055292</td>\n",
              "      <td>...</td>\n",
              "      <td>14.027298</td>\n",
              "      <td>-499.838632</td>\n",
              "      <td>11.953070</td>\n",
              "      <td>-501.053894</td>\n",
              "      <td>9.925709</td>\n",
              "      <td>-501.686727</td>\n",
              "      <td>7.894242</td>\n",
              "      <td>-500.356035</td>\n",
              "      <td>13.996647</td>\n",
              "      <td>-601.496691</td>\n",
              "    </tr>\n",
              "  </tbody>\n",
              "</table>\n",
              "<p>5 rows × 87 columns</p>\n",
              "</div>\n",
              "      <button class=\"colab-df-convert\" onclick=\"convertToInteractive('df-cf4cd258-bb2f-4968-9047-35542476bc01')\"\n",
              "              title=\"Convert this dataframe to an interactive table.\"\n",
              "              style=\"display:none;\">\n",
              "        \n",
              "  <svg xmlns=\"http://www.w3.org/2000/svg\" height=\"24px\"viewBox=\"0 0 24 24\"\n",
              "       width=\"24px\">\n",
              "    <path d=\"M0 0h24v24H0V0z\" fill=\"none\"/>\n",
              "    <path d=\"M18.56 5.44l.94 2.06.94-2.06 2.06-.94-2.06-.94-.94-2.06-.94 2.06-2.06.94zm-11 1L8.5 8.5l.94-2.06 2.06-.94-2.06-.94L8.5 2.5l-.94 2.06-2.06.94zm10 10l.94 2.06.94-2.06 2.06-.94-2.06-.94-.94-2.06-.94 2.06-2.06.94z\"/><path d=\"M17.41 7.96l-1.37-1.37c-.4-.4-.92-.59-1.43-.59-.52 0-1.04.2-1.43.59L10.3 9.45l-7.72 7.72c-.78.78-.78 2.05 0 2.83L4 21.41c.39.39.9.59 1.41.59.51 0 1.02-.2 1.41-.59l7.78-7.78 2.81-2.81c.8-.78.8-2.07 0-2.86zM5.41 20L4 18.59l7.72-7.72 1.47 1.35L5.41 20z\"/>\n",
              "  </svg>\n",
              "      </button>\n",
              "      \n",
              "  <style>\n",
              "    .colab-df-container {\n",
              "      display:flex;\n",
              "      flex-wrap:wrap;\n",
              "      gap: 12px;\n",
              "    }\n",
              "\n",
              "    .colab-df-convert {\n",
              "      background-color: #E8F0FE;\n",
              "      border: none;\n",
              "      border-radius: 50%;\n",
              "      cursor: pointer;\n",
              "      display: none;\n",
              "      fill: #1967D2;\n",
              "      height: 32px;\n",
              "      padding: 0 0 0 0;\n",
              "      width: 32px;\n",
              "    }\n",
              "\n",
              "    .colab-df-convert:hover {\n",
              "      background-color: #E2EBFA;\n",
              "      box-shadow: 0px 1px 2px rgba(60, 64, 67, 0.3), 0px 1px 3px 1px rgba(60, 64, 67, 0.15);\n",
              "      fill: #174EA6;\n",
              "    }\n",
              "\n",
              "    [theme=dark] .colab-df-convert {\n",
              "      background-color: #3B4455;\n",
              "      fill: #D2E3FC;\n",
              "    }\n",
              "\n",
              "    [theme=dark] .colab-df-convert:hover {\n",
              "      background-color: #434B5C;\n",
              "      box-shadow: 0px 1px 3px 1px rgba(0, 0, 0, 0.15);\n",
              "      filter: drop-shadow(0px 1px 2px rgba(0, 0, 0, 0.3));\n",
              "      fill: #FFFFFF;\n",
              "    }\n",
              "  </style>\n",
              "\n",
              "      <script>\n",
              "        const buttonEl =\n",
              "          document.querySelector('#df-cf4cd258-bb2f-4968-9047-35542476bc01 button.colab-df-convert');\n",
              "        buttonEl.style.display =\n",
              "          google.colab.kernel.accessAllowed ? 'block' : 'none';\n",
              "\n",
              "        async function convertToInteractive(key) {\n",
              "          const element = document.querySelector('#df-cf4cd258-bb2f-4968-9047-35542476bc01');\n",
              "          const dataTable =\n",
              "            await google.colab.kernel.invokeFunction('convertToInteractive',\n",
              "                                                     [key], {});\n",
              "          if (!dataTable) return;\n",
              "\n",
              "          const docLinkHtml = 'Like what you see? Visit the ' +\n",
              "            '<a target=\"_blank\" href=https://colab.research.google.com/notebooks/data_table.ipynb>data table notebook</a>'\n",
              "            + ' to learn more about interactive tables.';\n",
              "          element.innerHTML = '';\n",
              "          dataTable['output_type'] = 'display_data';\n",
              "          await google.colab.output.renderOutput(dataTable, element);\n",
              "          const docLink = document.createElement('div');\n",
              "          docLink.innerHTML = docLinkHtml;\n",
              "          element.appendChild(docLink);\n",
              "        }\n",
              "      </script>\n",
              "    </div>\n",
              "  </div>\n",
              "  "
            ]
          },
          "metadata": {},
          "execution_count": 6
        }
      ],
      "source": [
        "df_train.head() #посмотрим как выглядят данные в обучающей выборке"
      ]
    },
    {
      "cell_type": "code",
      "execution_count": null,
      "metadata": {
        "id": "PDVldpKGCw2Q",
        "outputId": "73b22b91-649d-4e50-fd46-861c5cd13f62",
        "colab": {
          "base_uri": "https://localhost:8080/",
          "height": 473
        }
      },
      "outputs": [
        {
          "output_type": "execute_result",
          "data": {
            "text/plain": [
              "                 date  primary_cleaner.input.sulfate  \\\n",
              "0 2016-09-01 00:59:59                     210.800909   \n",
              "1 2016-09-01 01:59:59                     215.392455   \n",
              "2 2016-09-01 02:59:59                     215.259946   \n",
              "3 2016-09-01 03:59:59                     215.336236   \n",
              "4 2016-09-01 04:59:59                     199.099327   \n",
              "\n",
              "   primary_cleaner.input.depressant  primary_cleaner.input.feed_size  \\\n",
              "0                         14.993118                         8.080000   \n",
              "1                         14.987471                         8.080000   \n",
              "2                         12.884934                         7.786667   \n",
              "3                         12.006805                         7.640000   \n",
              "4                         10.682530                         7.530000   \n",
              "\n",
              "   primary_cleaner.input.xanthate  primary_cleaner.state.floatbank8_a_air  \\\n",
              "0                        1.005021                             1398.981301   \n",
              "1                        0.990469                             1398.777912   \n",
              "2                        0.996043                             1398.493666   \n",
              "3                        0.863514                             1399.618111   \n",
              "4                        0.805575                             1401.268123   \n",
              "\n",
              "   primary_cleaner.state.floatbank8_a_level  \\\n",
              "0                               -500.225577   \n",
              "1                               -500.057435   \n",
              "2                               -500.868360   \n",
              "3                               -498.863574   \n",
              "4                               -500.808305   \n",
              "\n",
              "   primary_cleaner.state.floatbank8_b_air  \\\n",
              "0                             1399.144926   \n",
              "1                             1398.055362   \n",
              "2                             1398.860436   \n",
              "3                             1397.440120   \n",
              "4                             1398.128818   \n",
              "\n",
              "   primary_cleaner.state.floatbank8_b_level  \\\n",
              "0                               -499.919735   \n",
              "1                               -499.778182   \n",
              "2                               -499.764529   \n",
              "3                               -499.211024   \n",
              "4                               -499.504543   \n",
              "\n",
              "   primary_cleaner.state.floatbank8_c_air  ...  \\\n",
              "0                             1400.102998  ...   \n",
              "1                             1396.151033  ...   \n",
              "2                             1398.075709  ...   \n",
              "3                             1400.129303  ...   \n",
              "4                             1402.172226  ...   \n",
              "\n",
              "   secondary_cleaner.state.floatbank4_a_air  \\\n",
              "0                                 12.023554   \n",
              "1                                 12.058140   \n",
              "2                                 11.962366   \n",
              "3                                 12.033091   \n",
              "4                                 12.025367   \n",
              "\n",
              "   secondary_cleaner.state.floatbank4_a_level  \\\n",
              "0                                 -497.795834   \n",
              "1                                 -498.695773   \n",
              "2                                 -498.767484   \n",
              "3                                 -498.350935   \n",
              "4                                 -500.786497   \n",
              "\n",
              "   secondary_cleaner.state.floatbank4_b_air  \\\n",
              "0                                  8.016656   \n",
              "1                                  8.130979   \n",
              "2                                  8.096893   \n",
              "3                                  8.074946   \n",
              "4                                  8.054678   \n",
              "\n",
              "   secondary_cleaner.state.floatbank4_b_level  \\\n",
              "0                                 -501.289139   \n",
              "1                                 -499.634209   \n",
              "2                                 -500.827423   \n",
              "3                                 -499.474407   \n",
              "4                                 -500.397500   \n",
              "\n",
              "   secondary_cleaner.state.floatbank5_a_air  \\\n",
              "0                                  7.946562   \n",
              "1                                  7.958270   \n",
              "2                                  8.071056   \n",
              "3                                  7.897085   \n",
              "4                                  8.107890   \n",
              "\n",
              "   secondary_cleaner.state.floatbank5_a_level  \\\n",
              "0                                 -432.317850   \n",
              "1                                 -525.839648   \n",
              "2                                 -500.801673   \n",
              "3                                 -500.868509   \n",
              "4                                 -509.526725   \n",
              "\n",
              "   secondary_cleaner.state.floatbank5_b_air  \\\n",
              "0                                  4.872511   \n",
              "1                                  4.878850   \n",
              "2                                  4.905125   \n",
              "3                                  4.931400   \n",
              "4                                  4.957674   \n",
              "\n",
              "   secondary_cleaner.state.floatbank5_b_level  \\\n",
              "0                                 -500.037437   \n",
              "1                                 -500.162375   \n",
              "2                                 -499.828510   \n",
              "3                                 -499.963623   \n",
              "4                                 -500.360026   \n",
              "\n",
              "   secondary_cleaner.state.floatbank6_a_air  \\\n",
              "0                                 26.705889   \n",
              "1                                 25.019940   \n",
              "2                                 24.994862   \n",
              "3                                 24.948919   \n",
              "4                                 25.003331   \n",
              "\n",
              "   secondary_cleaner.state.floatbank6_a_level  \n",
              "0                                 -499.709414  \n",
              "1                                 -499.819438  \n",
              "2                                 -500.622559  \n",
              "3                                 -498.709987  \n",
              "4                                 -500.856333  \n",
              "\n",
              "[5 rows x 53 columns]"
            ],
            "text/html": [
              "\n",
              "  <div id=\"df-e52be079-0104-43e8-9b72-1e8fedf36537\">\n",
              "    <div class=\"colab-df-container\">\n",
              "      <div>\n",
              "<style scoped>\n",
              "    .dataframe tbody tr th:only-of-type {\n",
              "        vertical-align: middle;\n",
              "    }\n",
              "\n",
              "    .dataframe tbody tr th {\n",
              "        vertical-align: top;\n",
              "    }\n",
              "\n",
              "    .dataframe thead th {\n",
              "        text-align: right;\n",
              "    }\n",
              "</style>\n",
              "<table border=\"1\" class=\"dataframe\">\n",
              "  <thead>\n",
              "    <tr style=\"text-align: right;\">\n",
              "      <th></th>\n",
              "      <th>date</th>\n",
              "      <th>primary_cleaner.input.sulfate</th>\n",
              "      <th>primary_cleaner.input.depressant</th>\n",
              "      <th>primary_cleaner.input.feed_size</th>\n",
              "      <th>primary_cleaner.input.xanthate</th>\n",
              "      <th>primary_cleaner.state.floatbank8_a_air</th>\n",
              "      <th>primary_cleaner.state.floatbank8_a_level</th>\n",
              "      <th>primary_cleaner.state.floatbank8_b_air</th>\n",
              "      <th>primary_cleaner.state.floatbank8_b_level</th>\n",
              "      <th>primary_cleaner.state.floatbank8_c_air</th>\n",
              "      <th>...</th>\n",
              "      <th>secondary_cleaner.state.floatbank4_a_air</th>\n",
              "      <th>secondary_cleaner.state.floatbank4_a_level</th>\n",
              "      <th>secondary_cleaner.state.floatbank4_b_air</th>\n",
              "      <th>secondary_cleaner.state.floatbank4_b_level</th>\n",
              "      <th>secondary_cleaner.state.floatbank5_a_air</th>\n",
              "      <th>secondary_cleaner.state.floatbank5_a_level</th>\n",
              "      <th>secondary_cleaner.state.floatbank5_b_air</th>\n",
              "      <th>secondary_cleaner.state.floatbank5_b_level</th>\n",
              "      <th>secondary_cleaner.state.floatbank6_a_air</th>\n",
              "      <th>secondary_cleaner.state.floatbank6_a_level</th>\n",
              "    </tr>\n",
              "  </thead>\n",
              "  <tbody>\n",
              "    <tr>\n",
              "      <th>0</th>\n",
              "      <td>2016-09-01 00:59:59</td>\n",
              "      <td>210.800909</td>\n",
              "      <td>14.993118</td>\n",
              "      <td>8.080000</td>\n",
              "      <td>1.005021</td>\n",
              "      <td>1398.981301</td>\n",
              "      <td>-500.225577</td>\n",
              "      <td>1399.144926</td>\n",
              "      <td>-499.919735</td>\n",
              "      <td>1400.102998</td>\n",
              "      <td>...</td>\n",
              "      <td>12.023554</td>\n",
              "      <td>-497.795834</td>\n",
              "      <td>8.016656</td>\n",
              "      <td>-501.289139</td>\n",
              "      <td>7.946562</td>\n",
              "      <td>-432.317850</td>\n",
              "      <td>4.872511</td>\n",
              "      <td>-500.037437</td>\n",
              "      <td>26.705889</td>\n",
              "      <td>-499.709414</td>\n",
              "    </tr>\n",
              "    <tr>\n",
              "      <th>1</th>\n",
              "      <td>2016-09-01 01:59:59</td>\n",
              "      <td>215.392455</td>\n",
              "      <td>14.987471</td>\n",
              "      <td>8.080000</td>\n",
              "      <td>0.990469</td>\n",
              "      <td>1398.777912</td>\n",
              "      <td>-500.057435</td>\n",
              "      <td>1398.055362</td>\n",
              "      <td>-499.778182</td>\n",
              "      <td>1396.151033</td>\n",
              "      <td>...</td>\n",
              "      <td>12.058140</td>\n",
              "      <td>-498.695773</td>\n",
              "      <td>8.130979</td>\n",
              "      <td>-499.634209</td>\n",
              "      <td>7.958270</td>\n",
              "      <td>-525.839648</td>\n",
              "      <td>4.878850</td>\n",
              "      <td>-500.162375</td>\n",
              "      <td>25.019940</td>\n",
              "      <td>-499.819438</td>\n",
              "    </tr>\n",
              "    <tr>\n",
              "      <th>2</th>\n",
              "      <td>2016-09-01 02:59:59</td>\n",
              "      <td>215.259946</td>\n",
              "      <td>12.884934</td>\n",
              "      <td>7.786667</td>\n",
              "      <td>0.996043</td>\n",
              "      <td>1398.493666</td>\n",
              "      <td>-500.868360</td>\n",
              "      <td>1398.860436</td>\n",
              "      <td>-499.764529</td>\n",
              "      <td>1398.075709</td>\n",
              "      <td>...</td>\n",
              "      <td>11.962366</td>\n",
              "      <td>-498.767484</td>\n",
              "      <td>8.096893</td>\n",
              "      <td>-500.827423</td>\n",
              "      <td>8.071056</td>\n",
              "      <td>-500.801673</td>\n",
              "      <td>4.905125</td>\n",
              "      <td>-499.828510</td>\n",
              "      <td>24.994862</td>\n",
              "      <td>-500.622559</td>\n",
              "    </tr>\n",
              "    <tr>\n",
              "      <th>3</th>\n",
              "      <td>2016-09-01 03:59:59</td>\n",
              "      <td>215.336236</td>\n",
              "      <td>12.006805</td>\n",
              "      <td>7.640000</td>\n",
              "      <td>0.863514</td>\n",
              "      <td>1399.618111</td>\n",
              "      <td>-498.863574</td>\n",
              "      <td>1397.440120</td>\n",
              "      <td>-499.211024</td>\n",
              "      <td>1400.129303</td>\n",
              "      <td>...</td>\n",
              "      <td>12.033091</td>\n",
              "      <td>-498.350935</td>\n",
              "      <td>8.074946</td>\n",
              "      <td>-499.474407</td>\n",
              "      <td>7.897085</td>\n",
              "      <td>-500.868509</td>\n",
              "      <td>4.931400</td>\n",
              "      <td>-499.963623</td>\n",
              "      <td>24.948919</td>\n",
              "      <td>-498.709987</td>\n",
              "    </tr>\n",
              "    <tr>\n",
              "      <th>4</th>\n",
              "      <td>2016-09-01 04:59:59</td>\n",
              "      <td>199.099327</td>\n",
              "      <td>10.682530</td>\n",
              "      <td>7.530000</td>\n",
              "      <td>0.805575</td>\n",
              "      <td>1401.268123</td>\n",
              "      <td>-500.808305</td>\n",
              "      <td>1398.128818</td>\n",
              "      <td>-499.504543</td>\n",
              "      <td>1402.172226</td>\n",
              "      <td>...</td>\n",
              "      <td>12.025367</td>\n",
              "      <td>-500.786497</td>\n",
              "      <td>8.054678</td>\n",
              "      <td>-500.397500</td>\n",
              "      <td>8.107890</td>\n",
              "      <td>-509.526725</td>\n",
              "      <td>4.957674</td>\n",
              "      <td>-500.360026</td>\n",
              "      <td>25.003331</td>\n",
              "      <td>-500.856333</td>\n",
              "    </tr>\n",
              "  </tbody>\n",
              "</table>\n",
              "<p>5 rows × 53 columns</p>\n",
              "</div>\n",
              "      <button class=\"colab-df-convert\" onclick=\"convertToInteractive('df-e52be079-0104-43e8-9b72-1e8fedf36537')\"\n",
              "              title=\"Convert this dataframe to an interactive table.\"\n",
              "              style=\"display:none;\">\n",
              "        \n",
              "  <svg xmlns=\"http://www.w3.org/2000/svg\" height=\"24px\"viewBox=\"0 0 24 24\"\n",
              "       width=\"24px\">\n",
              "    <path d=\"M0 0h24v24H0V0z\" fill=\"none\"/>\n",
              "    <path d=\"M18.56 5.44l.94 2.06.94-2.06 2.06-.94-2.06-.94-.94-2.06-.94 2.06-2.06.94zm-11 1L8.5 8.5l.94-2.06 2.06-.94-2.06-.94L8.5 2.5l-.94 2.06-2.06.94zm10 10l.94 2.06.94-2.06 2.06-.94-2.06-.94-.94-2.06-.94 2.06-2.06.94z\"/><path d=\"M17.41 7.96l-1.37-1.37c-.4-.4-.92-.59-1.43-.59-.52 0-1.04.2-1.43.59L10.3 9.45l-7.72 7.72c-.78.78-.78 2.05 0 2.83L4 21.41c.39.39.9.59 1.41.59.51 0 1.02-.2 1.41-.59l7.78-7.78 2.81-2.81c.8-.78.8-2.07 0-2.86zM5.41 20L4 18.59l7.72-7.72 1.47 1.35L5.41 20z\"/>\n",
              "  </svg>\n",
              "      </button>\n",
              "      \n",
              "  <style>\n",
              "    .colab-df-container {\n",
              "      display:flex;\n",
              "      flex-wrap:wrap;\n",
              "      gap: 12px;\n",
              "    }\n",
              "\n",
              "    .colab-df-convert {\n",
              "      background-color: #E8F0FE;\n",
              "      border: none;\n",
              "      border-radius: 50%;\n",
              "      cursor: pointer;\n",
              "      display: none;\n",
              "      fill: #1967D2;\n",
              "      height: 32px;\n",
              "      padding: 0 0 0 0;\n",
              "      width: 32px;\n",
              "    }\n",
              "\n",
              "    .colab-df-convert:hover {\n",
              "      background-color: #E2EBFA;\n",
              "      box-shadow: 0px 1px 2px rgba(60, 64, 67, 0.3), 0px 1px 3px 1px rgba(60, 64, 67, 0.15);\n",
              "      fill: #174EA6;\n",
              "    }\n",
              "\n",
              "    [theme=dark] .colab-df-convert {\n",
              "      background-color: #3B4455;\n",
              "      fill: #D2E3FC;\n",
              "    }\n",
              "\n",
              "    [theme=dark] .colab-df-convert:hover {\n",
              "      background-color: #434B5C;\n",
              "      box-shadow: 0px 1px 3px 1px rgba(0, 0, 0, 0.15);\n",
              "      filter: drop-shadow(0px 1px 2px rgba(0, 0, 0, 0.3));\n",
              "      fill: #FFFFFF;\n",
              "    }\n",
              "  </style>\n",
              "\n",
              "      <script>\n",
              "        const buttonEl =\n",
              "          document.querySelector('#df-e52be079-0104-43e8-9b72-1e8fedf36537 button.colab-df-convert');\n",
              "        buttonEl.style.display =\n",
              "          google.colab.kernel.accessAllowed ? 'block' : 'none';\n",
              "\n",
              "        async function convertToInteractive(key) {\n",
              "          const element = document.querySelector('#df-e52be079-0104-43e8-9b72-1e8fedf36537');\n",
              "          const dataTable =\n",
              "            await google.colab.kernel.invokeFunction('convertToInteractive',\n",
              "                                                     [key], {});\n",
              "          if (!dataTable) return;\n",
              "\n",
              "          const docLinkHtml = 'Like what you see? Visit the ' +\n",
              "            '<a target=\"_blank\" href=https://colab.research.google.com/notebooks/data_table.ipynb>data table notebook</a>'\n",
              "            + ' to learn more about interactive tables.';\n",
              "          element.innerHTML = '';\n",
              "          dataTable['output_type'] = 'display_data';\n",
              "          await google.colab.output.renderOutput(dataTable, element);\n",
              "          const docLink = document.createElement('div');\n",
              "          docLink.innerHTML = docLinkHtml;\n",
              "          element.appendChild(docLink);\n",
              "        }\n",
              "      </script>\n",
              "    </div>\n",
              "  </div>\n",
              "  "
            ]
          },
          "metadata": {},
          "execution_count": 7
        }
      ],
      "source": [
        "df_test.head() #посмотрим как выглядят данные в тестовой выборке"
      ]
    },
    {
      "cell_type": "code",
      "execution_count": null,
      "metadata": {
        "id": "SdgCAI3FCw2R",
        "outputId": "c6feb95f-e143-4d2f-ef53-092322ec2ad7",
        "colab": {
          "base_uri": "https://localhost:8080/",
          "height": 473
        }
      },
      "outputs": [
        {
          "output_type": "execute_result",
          "data": {
            "text/plain": [
              "                 date  final.output.concentrate_ag  \\\n",
              "0 2016-01-15 00:00:00                     6.055403   \n",
              "1 2016-01-15 01:00:00                     6.029369   \n",
              "2 2016-01-15 02:00:00                     6.055926   \n",
              "3 2016-01-15 03:00:00                     6.047977   \n",
              "4 2016-01-15 04:00:00                     6.148599   \n",
              "\n",
              "   final.output.concentrate_pb  final.output.concentrate_sol  \\\n",
              "0                     9.889648                      5.507324   \n",
              "1                     9.968944                      5.257781   \n",
              "2                    10.213995                      5.383759   \n",
              "3                     9.977019                      4.858634   \n",
              "4                    10.142511                      4.939416   \n",
              "\n",
              "   final.output.concentrate_au  final.output.recovery  final.output.tail_ag  \\\n",
              "0                    42.192020              70.541216             10.411962   \n",
              "1                    42.701629              69.266198             10.462676   \n",
              "2                    42.657501              68.116445             10.507046   \n",
              "3                    42.689819              68.347543             10.422762   \n",
              "4                    42.774141              66.927016             10.360302   \n",
              "\n",
              "   final.output.tail_pb  final.output.tail_sol  final.output.tail_au  ...  \\\n",
              "0              0.895447              16.904297              2.143149  ...   \n",
              "1              0.927452              16.634514              2.224930  ...   \n",
              "2              0.953716              16.208849              2.257889  ...   \n",
              "3              0.883763              16.532835              2.146849  ...   \n",
              "4              0.792826              16.525686              2.055292  ...   \n",
              "\n",
              "   secondary_cleaner.state.floatbank4_a_air  \\\n",
              "0                                 14.016835   \n",
              "1                                 13.992281   \n",
              "2                                 14.015015   \n",
              "3                                 14.036510   \n",
              "4                                 14.027298   \n",
              "\n",
              "   secondary_cleaner.state.floatbank4_a_level  \\\n",
              "0                                 -502.488007   \n",
              "1                                 -505.503262   \n",
              "2                                 -502.520901   \n",
              "3                                 -500.857308   \n",
              "4                                 -499.838632   \n",
              "\n",
              "   secondary_cleaner.state.floatbank4_b_air  \\\n",
              "0                                 12.099931   \n",
              "1                                 11.950531   \n",
              "2                                 11.912783   \n",
              "3                                 11.999550   \n",
              "4                                 11.953070   \n",
              "\n",
              "   secondary_cleaner.state.floatbank4_b_level  \\\n",
              "0                                 -504.715942   \n",
              "1                                 -501.331529   \n",
              "2                                 -501.133383   \n",
              "3                                 -501.193686   \n",
              "4                                 -501.053894   \n",
              "\n",
              "   secondary_cleaner.state.floatbank5_a_air  \\\n",
              "0                                  9.925633   \n",
              "1                                 10.039245   \n",
              "2                                 10.070913   \n",
              "3                                  9.970366   \n",
              "4                                  9.925709   \n",
              "\n",
              "   secondary_cleaner.state.floatbank5_a_level  \\\n",
              "0                                 -498.310211   \n",
              "1                                 -500.169983   \n",
              "2                                 -500.129135   \n",
              "3                                 -499.201640   \n",
              "4                                 -501.686727   \n",
              "\n",
              "   secondary_cleaner.state.floatbank5_b_air  \\\n",
              "0                                  8.079666   \n",
              "1                                  7.984757   \n",
              "2                                  8.013877   \n",
              "3                                  7.977324   \n",
              "4                                  7.894242   \n",
              "\n",
              "   secondary_cleaner.state.floatbank5_b_level  \\\n",
              "0                                 -500.470978   \n",
              "1                                 -500.582168   \n",
              "2                                 -500.517572   \n",
              "3                                 -500.255908   \n",
              "4                                 -500.356035   \n",
              "\n",
              "   secondary_cleaner.state.floatbank6_a_air  \\\n",
              "0                                 14.151341   \n",
              "1                                 13.998353   \n",
              "2                                 14.028663   \n",
              "3                                 14.005551   \n",
              "4                                 13.996647   \n",
              "\n",
              "   secondary_cleaner.state.floatbank6_a_level  \n",
              "0                                 -605.841980  \n",
              "1                                 -599.787184  \n",
              "2                                 -601.427363  \n",
              "3                                 -599.996129  \n",
              "4                                 -601.496691  \n",
              "\n",
              "[5 rows x 87 columns]"
            ],
            "text/html": [
              "\n",
              "  <div id=\"df-2ba054c5-b1cd-41e0-b385-9ec0cce5b03a\">\n",
              "    <div class=\"colab-df-container\">\n",
              "      <div>\n",
              "<style scoped>\n",
              "    .dataframe tbody tr th:only-of-type {\n",
              "        vertical-align: middle;\n",
              "    }\n",
              "\n",
              "    .dataframe tbody tr th {\n",
              "        vertical-align: top;\n",
              "    }\n",
              "\n",
              "    .dataframe thead th {\n",
              "        text-align: right;\n",
              "    }\n",
              "</style>\n",
              "<table border=\"1\" class=\"dataframe\">\n",
              "  <thead>\n",
              "    <tr style=\"text-align: right;\">\n",
              "      <th></th>\n",
              "      <th>date</th>\n",
              "      <th>final.output.concentrate_ag</th>\n",
              "      <th>final.output.concentrate_pb</th>\n",
              "      <th>final.output.concentrate_sol</th>\n",
              "      <th>final.output.concentrate_au</th>\n",
              "      <th>final.output.recovery</th>\n",
              "      <th>final.output.tail_ag</th>\n",
              "      <th>final.output.tail_pb</th>\n",
              "      <th>final.output.tail_sol</th>\n",
              "      <th>final.output.tail_au</th>\n",
              "      <th>...</th>\n",
              "      <th>secondary_cleaner.state.floatbank4_a_air</th>\n",
              "      <th>secondary_cleaner.state.floatbank4_a_level</th>\n",
              "      <th>secondary_cleaner.state.floatbank4_b_air</th>\n",
              "      <th>secondary_cleaner.state.floatbank4_b_level</th>\n",
              "      <th>secondary_cleaner.state.floatbank5_a_air</th>\n",
              "      <th>secondary_cleaner.state.floatbank5_a_level</th>\n",
              "      <th>secondary_cleaner.state.floatbank5_b_air</th>\n",
              "      <th>secondary_cleaner.state.floatbank5_b_level</th>\n",
              "      <th>secondary_cleaner.state.floatbank6_a_air</th>\n",
              "      <th>secondary_cleaner.state.floatbank6_a_level</th>\n",
              "    </tr>\n",
              "  </thead>\n",
              "  <tbody>\n",
              "    <tr>\n",
              "      <th>0</th>\n",
              "      <td>2016-01-15 00:00:00</td>\n",
              "      <td>6.055403</td>\n",
              "      <td>9.889648</td>\n",
              "      <td>5.507324</td>\n",
              "      <td>42.192020</td>\n",
              "      <td>70.541216</td>\n",
              "      <td>10.411962</td>\n",
              "      <td>0.895447</td>\n",
              "      <td>16.904297</td>\n",
              "      <td>2.143149</td>\n",
              "      <td>...</td>\n",
              "      <td>14.016835</td>\n",
              "      <td>-502.488007</td>\n",
              "      <td>12.099931</td>\n",
              "      <td>-504.715942</td>\n",
              "      <td>9.925633</td>\n",
              "      <td>-498.310211</td>\n",
              "      <td>8.079666</td>\n",
              "      <td>-500.470978</td>\n",
              "      <td>14.151341</td>\n",
              "      <td>-605.841980</td>\n",
              "    </tr>\n",
              "    <tr>\n",
              "      <th>1</th>\n",
              "      <td>2016-01-15 01:00:00</td>\n",
              "      <td>6.029369</td>\n",
              "      <td>9.968944</td>\n",
              "      <td>5.257781</td>\n",
              "      <td>42.701629</td>\n",
              "      <td>69.266198</td>\n",
              "      <td>10.462676</td>\n",
              "      <td>0.927452</td>\n",
              "      <td>16.634514</td>\n",
              "      <td>2.224930</td>\n",
              "      <td>...</td>\n",
              "      <td>13.992281</td>\n",
              "      <td>-505.503262</td>\n",
              "      <td>11.950531</td>\n",
              "      <td>-501.331529</td>\n",
              "      <td>10.039245</td>\n",
              "      <td>-500.169983</td>\n",
              "      <td>7.984757</td>\n",
              "      <td>-500.582168</td>\n",
              "      <td>13.998353</td>\n",
              "      <td>-599.787184</td>\n",
              "    </tr>\n",
              "    <tr>\n",
              "      <th>2</th>\n",
              "      <td>2016-01-15 02:00:00</td>\n",
              "      <td>6.055926</td>\n",
              "      <td>10.213995</td>\n",
              "      <td>5.383759</td>\n",
              "      <td>42.657501</td>\n",
              "      <td>68.116445</td>\n",
              "      <td>10.507046</td>\n",
              "      <td>0.953716</td>\n",
              "      <td>16.208849</td>\n",
              "      <td>2.257889</td>\n",
              "      <td>...</td>\n",
              "      <td>14.015015</td>\n",
              "      <td>-502.520901</td>\n",
              "      <td>11.912783</td>\n",
              "      <td>-501.133383</td>\n",
              "      <td>10.070913</td>\n",
              "      <td>-500.129135</td>\n",
              "      <td>8.013877</td>\n",
              "      <td>-500.517572</td>\n",
              "      <td>14.028663</td>\n",
              "      <td>-601.427363</td>\n",
              "    </tr>\n",
              "    <tr>\n",
              "      <th>3</th>\n",
              "      <td>2016-01-15 03:00:00</td>\n",
              "      <td>6.047977</td>\n",
              "      <td>9.977019</td>\n",
              "      <td>4.858634</td>\n",
              "      <td>42.689819</td>\n",
              "      <td>68.347543</td>\n",
              "      <td>10.422762</td>\n",
              "      <td>0.883763</td>\n",
              "      <td>16.532835</td>\n",
              "      <td>2.146849</td>\n",
              "      <td>...</td>\n",
              "      <td>14.036510</td>\n",
              "      <td>-500.857308</td>\n",
              "      <td>11.999550</td>\n",
              "      <td>-501.193686</td>\n",
              "      <td>9.970366</td>\n",
              "      <td>-499.201640</td>\n",
              "      <td>7.977324</td>\n",
              "      <td>-500.255908</td>\n",
              "      <td>14.005551</td>\n",
              "      <td>-599.996129</td>\n",
              "    </tr>\n",
              "    <tr>\n",
              "      <th>4</th>\n",
              "      <td>2016-01-15 04:00:00</td>\n",
              "      <td>6.148599</td>\n",
              "      <td>10.142511</td>\n",
              "      <td>4.939416</td>\n",
              "      <td>42.774141</td>\n",
              "      <td>66.927016</td>\n",
              "      <td>10.360302</td>\n",
              "      <td>0.792826</td>\n",
              "      <td>16.525686</td>\n",
              "      <td>2.055292</td>\n",
              "      <td>...</td>\n",
              "      <td>14.027298</td>\n",
              "      <td>-499.838632</td>\n",
              "      <td>11.953070</td>\n",
              "      <td>-501.053894</td>\n",
              "      <td>9.925709</td>\n",
              "      <td>-501.686727</td>\n",
              "      <td>7.894242</td>\n",
              "      <td>-500.356035</td>\n",
              "      <td>13.996647</td>\n",
              "      <td>-601.496691</td>\n",
              "    </tr>\n",
              "  </tbody>\n",
              "</table>\n",
              "<p>5 rows × 87 columns</p>\n",
              "</div>\n",
              "      <button class=\"colab-df-convert\" onclick=\"convertToInteractive('df-2ba054c5-b1cd-41e0-b385-9ec0cce5b03a')\"\n",
              "              title=\"Convert this dataframe to an interactive table.\"\n",
              "              style=\"display:none;\">\n",
              "        \n",
              "  <svg xmlns=\"http://www.w3.org/2000/svg\" height=\"24px\"viewBox=\"0 0 24 24\"\n",
              "       width=\"24px\">\n",
              "    <path d=\"M0 0h24v24H0V0z\" fill=\"none\"/>\n",
              "    <path d=\"M18.56 5.44l.94 2.06.94-2.06 2.06-.94-2.06-.94-.94-2.06-.94 2.06-2.06.94zm-11 1L8.5 8.5l.94-2.06 2.06-.94-2.06-.94L8.5 2.5l-.94 2.06-2.06.94zm10 10l.94 2.06.94-2.06 2.06-.94-2.06-.94-.94-2.06-.94 2.06-2.06.94z\"/><path d=\"M17.41 7.96l-1.37-1.37c-.4-.4-.92-.59-1.43-.59-.52 0-1.04.2-1.43.59L10.3 9.45l-7.72 7.72c-.78.78-.78 2.05 0 2.83L4 21.41c.39.39.9.59 1.41.59.51 0 1.02-.2 1.41-.59l7.78-7.78 2.81-2.81c.8-.78.8-2.07 0-2.86zM5.41 20L4 18.59l7.72-7.72 1.47 1.35L5.41 20z\"/>\n",
              "  </svg>\n",
              "      </button>\n",
              "      \n",
              "  <style>\n",
              "    .colab-df-container {\n",
              "      display:flex;\n",
              "      flex-wrap:wrap;\n",
              "      gap: 12px;\n",
              "    }\n",
              "\n",
              "    .colab-df-convert {\n",
              "      background-color: #E8F0FE;\n",
              "      border: none;\n",
              "      border-radius: 50%;\n",
              "      cursor: pointer;\n",
              "      display: none;\n",
              "      fill: #1967D2;\n",
              "      height: 32px;\n",
              "      padding: 0 0 0 0;\n",
              "      width: 32px;\n",
              "    }\n",
              "\n",
              "    .colab-df-convert:hover {\n",
              "      background-color: #E2EBFA;\n",
              "      box-shadow: 0px 1px 2px rgba(60, 64, 67, 0.3), 0px 1px 3px 1px rgba(60, 64, 67, 0.15);\n",
              "      fill: #174EA6;\n",
              "    }\n",
              "\n",
              "    [theme=dark] .colab-df-convert {\n",
              "      background-color: #3B4455;\n",
              "      fill: #D2E3FC;\n",
              "    }\n",
              "\n",
              "    [theme=dark] .colab-df-convert:hover {\n",
              "      background-color: #434B5C;\n",
              "      box-shadow: 0px 1px 3px 1px rgba(0, 0, 0, 0.15);\n",
              "      filter: drop-shadow(0px 1px 2px rgba(0, 0, 0, 0.3));\n",
              "      fill: #FFFFFF;\n",
              "    }\n",
              "  </style>\n",
              "\n",
              "      <script>\n",
              "        const buttonEl =\n",
              "          document.querySelector('#df-2ba054c5-b1cd-41e0-b385-9ec0cce5b03a button.colab-df-convert');\n",
              "        buttonEl.style.display =\n",
              "          google.colab.kernel.accessAllowed ? 'block' : 'none';\n",
              "\n",
              "        async function convertToInteractive(key) {\n",
              "          const element = document.querySelector('#df-2ba054c5-b1cd-41e0-b385-9ec0cce5b03a');\n",
              "          const dataTable =\n",
              "            await google.colab.kernel.invokeFunction('convertToInteractive',\n",
              "                                                     [key], {});\n",
              "          if (!dataTable) return;\n",
              "\n",
              "          const docLinkHtml = 'Like what you see? Visit the ' +\n",
              "            '<a target=\"_blank\" href=https://colab.research.google.com/notebooks/data_table.ipynb>data table notebook</a>'\n",
              "            + ' to learn more about interactive tables.';\n",
              "          element.innerHTML = '';\n",
              "          dataTable['output_type'] = 'display_data';\n",
              "          await google.colab.output.renderOutput(dataTable, element);\n",
              "          const docLink = document.createElement('div');\n",
              "          docLink.innerHTML = docLinkHtml;\n",
              "          element.appendChild(docLink);\n",
              "        }\n",
              "      </script>\n",
              "    </div>\n",
              "  </div>\n",
              "  "
            ]
          },
          "metadata": {},
          "execution_count": 8
        }
      ],
      "source": [
        "df_full.head() #посмотрим как выглядят данные в полной выборке"
      ]
    },
    {
      "cell_type": "markdown",
      "metadata": {
        "id": "v-3gwjqsCw2R"
      },
      "source": [
        "Стоит отметить, что признаким в выборках отличаются по масштабу. Это нужно будет учесть при подготовке модели к обучению."
      ]
    },
    {
      "cell_type": "markdown",
      "metadata": {
        "id": "wLAABWPSCw2S"
      },
      "source": [
        "Как обычно, проверим есть ли явные дубликаты."
      ]
    },
    {
      "cell_type": "code",
      "execution_count": null,
      "metadata": {
        "id": "VqlXOPoxCw2S",
        "outputId": "e6827425-0a32-4991-d18c-99ad991d7f15",
        "colab": {
          "base_uri": "https://localhost:8080/"
        }
      },
      "outputs": [
        {
          "output_type": "execute_result",
          "data": {
            "text/plain": [
              "0"
            ]
          },
          "metadata": {},
          "execution_count": 9
        }
      ],
      "source": [
        "df_train.duplicated().sum()"
      ]
    },
    {
      "cell_type": "markdown",
      "metadata": {
        "id": "VRAQBbdcCw2T"
      },
      "source": [
        "Явных дубликатов не оказалось."
      ]
    },
    {
      "cell_type": "markdown",
      "metadata": {
        "id": "WYs_ozUdCw2T"
      },
      "source": [
        "Проверим правильно ли рассчитана эффективность обогащения. Для этого вычислим её на обучающей выборке для признака rougher.output.recovery и найдем MAE между нашими расчётами и значением признака. "
      ]
    },
    {
      "cell_type": "code",
      "execution_count": null,
      "metadata": {
        "id": "T2-1XzVoCw2U"
      },
      "outputs": [],
      "source": [
        "def apply_recovery(row):\n",
        "    (raw_au,\n",
        "     output_au,\n",
        "     output_tail) = (row[\"rougher.input.feed_au\"],\n",
        "                     row[\"rougher.output.concentrate_au\"],\n",
        "                     row[\"rougher.output.tail_au\"])\n",
        "    recovery_metric = (((output_au) * ((raw_au) - (output_tail)))/\n",
        "                       (((raw_au) * ((output_au) - (output_tail))))) * 100\n",
        "    return recovery_metric"
      ]
    },
    {
      "cell_type": "code",
      "execution_count": null,
      "metadata": {
        "id": "KiAGzL3vCw2U"
      },
      "outputs": [],
      "source": [
        "test = df_train.dropna(\n",
        "    subset = ['rougher.input.feed_au',\n",
        "              'rougher.output.concentrate_au',\n",
        "              'rougher.output.tail_au'],axis=0).apply(apply_recovery,axis=1)"
      ]
    },
    {
      "cell_type": "code",
      "execution_count": null,
      "metadata": {
        "id": "H4hFjwavCw2U",
        "outputId": "e29021ac-94b3-4465-8aff-45b485a74cda",
        "colab": {
          "base_uri": "https://localhost:8080/"
        }
      },
      "outputs": [
        {
          "output_type": "execute_result",
          "data": {
            "text/plain": [
              "9.73512347450521e-15"
            ]
          },
          "metadata": {},
          "execution_count": 12
        }
      ],
      "source": [
        "mean_absolute_error(df_train.dropna(subset = [\"rougher.input.feed_au\",\n",
        "                                    \"rougher.output.concentrate_au\",\n",
        "                                    \"rougher.output.tail_au\",\n",
        "                                    \"rougher.output.recovery\"])[\"rougher.output.recovery\"],\n",
        "                       test)"
      ]
    },
    {
      "cell_type": "markdown",
      "metadata": {
        "id": "QytUCa_HCw2V"
      },
      "source": [
        "Ошибка ничтожно мала, данные эффективности обогащения в обучающей выборке подсчитаны верно."
      ]
    },
    {
      "cell_type": "markdown",
      "metadata": {
        "id": "dCcUsUYICw2W"
      },
      "source": [
        "Проверим какие колонки отсутствуют в тестовой выборке."
      ]
    },
    {
      "cell_type": "code",
      "execution_count": null,
      "metadata": {
        "scrolled": true,
        "id": "go9USXH2Cw2W",
        "outputId": "d431299e-c696-4651-dc48-112a57b74b22",
        "colab": {
          "base_uri": "https://localhost:8080/"
        }
      },
      "outputs": [
        {
          "output_type": "stream",
          "name": "stdout",
          "text": [
            "final.output.concentrate_ag\n",
            "final.output.concentrate_pb\n",
            "final.output.concentrate_sol\n",
            "final.output.concentrate_au\n",
            "final.output.recovery\n",
            "final.output.tail_ag\n",
            "final.output.tail_pb\n",
            "final.output.tail_sol\n",
            "final.output.tail_au\n",
            "primary_cleaner.output.concentrate_ag\n",
            "primary_cleaner.output.concentrate_pb\n",
            "primary_cleaner.output.concentrate_sol\n",
            "primary_cleaner.output.concentrate_au\n",
            "primary_cleaner.output.tail_ag\n",
            "primary_cleaner.output.tail_pb\n",
            "primary_cleaner.output.tail_sol\n",
            "primary_cleaner.output.tail_au\n",
            "rougher.calculation.sulfate_to_au_concentrate\n",
            "rougher.calculation.floatbank10_sulfate_to_au_feed\n",
            "rougher.calculation.floatbank11_sulfate_to_au_feed\n",
            "rougher.calculation.au_pb_ratio\n",
            "rougher.output.concentrate_ag\n",
            "rougher.output.concentrate_pb\n",
            "rougher.output.concentrate_sol\n",
            "rougher.output.concentrate_au\n",
            "rougher.output.recovery\n",
            "rougher.output.tail_ag\n",
            "rougher.output.tail_pb\n",
            "rougher.output.tail_sol\n",
            "rougher.output.tail_au\n",
            "secondary_cleaner.output.tail_ag\n",
            "secondary_cleaner.output.tail_pb\n",
            "secondary_cleaner.output.tail_sol\n",
            "secondary_cleaner.output.tail_au\n"
          ]
        }
      ],
      "source": [
        "train_only = []\n",
        "for col in list(df_train.columns):\n",
        "    if col not in list(df_test.columns):\n",
        "        print (col)\n",
        "        train_only.append(col)\n",
        "train_only=list(train_only) #список колонок, отсутствующих в тестовой выборке\n",
        "train_only.remove('final.output.recovery') #удалим из списка колонок, отсутствующих в тестовой выборке, целевые признаки\n",
        "train_only.remove('rougher.output.recovery')#полученный список признаков будем использовать для обучения моделей"
      ]
    },
    {
      "cell_type": "code",
      "execution_count": null,
      "metadata": {
        "id": "-g4Mo-MbCw2X",
        "outputId": "0b9f192a-99b6-474e-cf87-6201914ee81e",
        "colab": {
          "base_uri": "https://localhost:8080/"
        }
      },
      "outputs": [
        {
          "output_type": "execute_result",
          "data": {
            "text/plain": [
              "['final.output.concentrate_ag',\n",
              " 'final.output.concentrate_pb',\n",
              " 'final.output.concentrate_sol',\n",
              " 'final.output.concentrate_au',\n",
              " 'final.output.tail_ag',\n",
              " 'final.output.tail_pb',\n",
              " 'final.output.tail_sol',\n",
              " 'final.output.tail_au',\n",
              " 'primary_cleaner.output.concentrate_ag',\n",
              " 'primary_cleaner.output.concentrate_pb',\n",
              " 'primary_cleaner.output.concentrate_sol',\n",
              " 'primary_cleaner.output.concentrate_au',\n",
              " 'primary_cleaner.output.tail_ag',\n",
              " 'primary_cleaner.output.tail_pb',\n",
              " 'primary_cleaner.output.tail_sol',\n",
              " 'primary_cleaner.output.tail_au',\n",
              " 'rougher.calculation.sulfate_to_au_concentrate',\n",
              " 'rougher.calculation.floatbank10_sulfate_to_au_feed',\n",
              " 'rougher.calculation.floatbank11_sulfate_to_au_feed',\n",
              " 'rougher.calculation.au_pb_ratio',\n",
              " 'rougher.output.concentrate_ag',\n",
              " 'rougher.output.concentrate_pb',\n",
              " 'rougher.output.concentrate_sol',\n",
              " 'rougher.output.concentrate_au',\n",
              " 'rougher.output.tail_ag',\n",
              " 'rougher.output.tail_pb',\n",
              " 'rougher.output.tail_sol',\n",
              " 'rougher.output.tail_au',\n",
              " 'secondary_cleaner.output.tail_ag',\n",
              " 'secondary_cleaner.output.tail_pb',\n",
              " 'secondary_cleaner.output.tail_sol',\n",
              " 'secondary_cleaner.output.tail_au']"
            ]
          },
          "metadata": {},
          "execution_count": 14
        }
      ],
      "source": [
        "train_only #полученный список признаков будем использовать для обучения моделей"
      ]
    },
    {
      "cell_type": "markdown",
      "metadata": {
        "id": "6mW8y6QWCw2X"
      },
      "source": [
        "Как видно из списка столбцов, из тестовой выборки исключены данные, получаемые на выходе после проведения обогащения (output), а также рассчетные данные (calculation)."
      ]
    },
    {
      "cell_type": "markdown",
      "metadata": {
        "id": "gKibTZiDCw2Y"
      },
      "source": [
        "Проверим как много пропущенных данных в процентном отношении содержит каждый столбец датафрейма."
      ]
    },
    {
      "cell_type": "code",
      "execution_count": null,
      "metadata": {
        "scrolled": false,
        "id": "gzLiArGoCw2Y",
        "outputId": "2077824e-40d6-451b-8d9f-4c49917f16dd",
        "colab": {
          "base_uri": "https://localhost:8080/"
        }
      },
      "outputs": [
        {
          "output_type": "execute_result",
          "data": {
            "text/plain": [
              "date                                          0.000000\n",
              "final.output.concentrate_ag                   0.007068\n",
              "final.output.concentrate_pb                   0.007068\n",
              "final.output.concentrate_sol                  1.491271\n",
              "final.output.concentrate_au                   0.000000\n",
              "                                                ...   \n",
              "secondary_cleaner.state.floatbank5_a_level    0.007068\n",
              "secondary_cleaner.state.floatbank5_b_air      0.007068\n",
              "secondary_cleaner.state.floatbank5_b_level    0.007068\n",
              "secondary_cleaner.state.floatbank6_a_air      0.014135\n",
              "secondary_cleaner.state.floatbank6_a_level    0.007068\n",
              "Length: 87, dtype: float64"
            ]
          },
          "metadata": {},
          "execution_count": 15
        }
      ],
      "source": [
        "df_train.isnull().sum()/len(df_train)*100\n"
      ]
    },
    {
      "cell_type": "markdown",
      "metadata": {
        "id": "eDFIMvUxCw2Y"
      },
      "source": [
        "Как видно, в данных довольно много пропущенных значений, удалить их просто так нельзя. Попробуем выбрать подходящий способ для заполнения:\n",
        "* медианными значениями;\n",
        "* значениями из предыдущей строки, предположительно такой способ в данном случае допустим, так как данные упорядочены по датам и признаки в каждой следующей строке не должны сильно отличаться от данных в предыдущих строках."
      ]
    },
    {
      "cell_type": "code",
      "execution_count": null,
      "metadata": {
        "scrolled": true,
        "id": "VVZ8dVLSCw2Z"
      },
      "outputs": [],
      "source": [
        "def filling_check(stage):\n",
        "    df_train = pd.read_csv('/content/8_gold_recovery_train_new.csv')\n",
        "\n",
        "    df_train = df_train.fillna(df_train.median())\n",
        "    target_final = df_train[f'{stage}.output.recovery']\n",
        "    features_final = df_train.drop([f'{stage}.output.recovery','date'] , axis=1)\n",
        "    features_train, features_valid, target_train, target_valid = train_test_split(\n",
        "    features_final, target_final, test_size=.25, random_state = RANDOM_STATE)\n",
        "    model = LinearRegression()\n",
        "    model.fit(features_train,target_train)\n",
        "    predicted_valid = model.predict(features_valid)\n",
        "    print(f'RSME заполнение пропусков медианными значениями для {stage}: {mean_squared_error(target_valid,predicted_valid)**0.5}')\n",
        "    print (f'MAE заполнение пропусков медианными значениями для {stage}: {mean_absolute_error(target_valid,predicted_valid)}')\n",
        "\n",
        "    df_train = pd.read_csv('/content/8_gold_recovery_train_new.csv')\n",
        "    df_train = df_train.fillna(method='ffill', axis=0)\n",
        "    target_final = df_train[f'{stage}.output.recovery']\n",
        "    features_final = df_train.drop([f'{stage}.output.recovery','date'] , axis=1)\n",
        "    features_train, features_valid, target_train, target_valid = train_test_split(\n",
        "    features_final, target_final, test_size=.25, random_state = RANDOM_STATE)\n",
        "    model = LinearRegression()\n",
        "    model.fit(features_train,target_train)\n",
        "    predicted_valid = model.predict(features_valid)\n",
        "    print(f'RSME заполнение пропусков соседними значениями для {stage}: {mean_squared_error(target_valid,predicted_valid)**0.5}')\n",
        "    print (f'MAE заполнение пропусков соседними значениями для {stage}: {mean_absolute_error(target_valid,predicted_valid)}')"
      ]
    },
    {
      "cell_type": "code",
      "execution_count": null,
      "metadata": {
        "scrolled": true,
        "id": "T5cwCVgmCw2Z",
        "outputId": "0ae881bb-6d79-4a78-d413-72a6cd343500",
        "colab": {
          "base_uri": "https://localhost:8080/"
        }
      },
      "outputs": [
        {
          "output_type": "stream",
          "name": "stdout",
          "text": [
            "RSME заполнение пропусков медианными значениями для rougher: 5.919938837633607\n",
            "MAE заполнение пропусков медианными значениями для rougher: 3.218790847654362\n",
            "RSME заполнение пропусков соседними значениями для rougher: 5.876645618608468\n",
            "MAE заполнение пропусков соседними значениями для rougher: 3.1575376837500406\n"
          ]
        }
      ],
      "source": [
        "filling_check('rougher')"
      ]
    },
    {
      "cell_type": "code",
      "execution_count": null,
      "metadata": {
        "scrolled": false,
        "id": "fKDxDNMpCw2a",
        "colab": {
          "base_uri": "https://localhost:8080/"
        },
        "outputId": "664550f0-dda0-43a3-ae71-d3cbe9cf2179"
      },
      "outputs": [
        {
          "output_type": "stream",
          "name": "stdout",
          "text": [
            "RSME заполнение пропусков медианными значениями для final: 4.071210798899766\n",
            "MAE заполнение пропусков медианными значениями для final: 1.926768841782182\n",
            "RSME заполнение пропусков соседними значениями для final: 4.09860837668271\n",
            "MAE заполнение пропусков соседними значениями для final: 1.9298754255047734\n"
          ]
        }
      ],
      "source": [
        "filling_check('final')"
      ]
    },
    {
      "cell_type": "markdown",
      "metadata": {
        "id": "1SazGkCFCw2a"
      },
      "source": [
        "Поскольку финальный этап имеет большую долю в sMape, для заполнения пропусков будем использовать данные из соседних ячеек. В тестовой и полной выборках данные заполним аналогичным методом."
      ]
    },
    {
      "cell_type": "code",
      "execution_count": null,
      "metadata": {
        "id": "YtEEiEcPCw2b"
      },
      "outputs": [],
      "source": [
        "df_train = df_train.fillna(method='ffill', axis=0)\n",
        "df_test = df_test.fillna(method='ffill', axis=0)\n",
        "df_full = df_full.fillna(method='ffill', axis=0)"
      ]
    },
    {
      "cell_type": "markdown",
      "metadata": {
        "id": "8t3T3gHnCw2b"
      },
      "source": [
        "## Анализ данных"
      ]
    },
    {
      "cell_type": "markdown",
      "metadata": {
        "id": "nkUACvXSCw2c"
      },
      "source": [
        "Посмотрим, как меняется концентрация металлов (Au, Ag, Pb) на различных этапах очистки. "
      ]
    },
    {
      "cell_type": "code",
      "execution_count": null,
      "metadata": {
        "scrolled": true,
        "id": "DieVSizsCw2c"
      },
      "outputs": [],
      "source": [
        "def hist_concentrate(metal, title):\n",
        "    for column in [f'rougher.output.concentrate_{metal}',\n",
        "         f'primary_cleaner.output.concentrate_{metal}',\n",
        "         f'final.output.concentrate_{metal}']:\n",
        "        df_train[column].plot(\n",
        "            kind='hist',label=column,legend=True, \n",
        "            figsize=(10,5), alpha=.7, bins=100, \n",
        "            title=f'Концентрация {title} на различных этапах очистки')"
      ]
    },
    {
      "cell_type": "code",
      "execution_count": null,
      "metadata": {
        "scrolled": true,
        "id": "0tMBjL_HCw2d",
        "colab": {
          "base_uri": "https://localhost:8080/",
          "height": 336
        },
        "outputId": "2d081443-f443-4e95-8827-0d54e189e35d"
      },
      "outputs": [
        {
          "output_type": "display_data",
          "data": {
            "text/plain": [
              "<Figure size 720x360 with 1 Axes>"
            ],
            "image/png": "[encoded data removed]"
          },
          "metadata": {
            "needs_background": "light"
          }
        }
      ],
      "source": [
        "hist_concentrate('ag','серебра')"
      ]
    },
    {
      "cell_type": "code",
      "execution_count": null,
      "metadata": {
        "scrolled": true,
        "id": "GrCD-f97Cw2d",
        "colab": {
          "base_uri": "https://localhost:8080/",
          "height": 336
        },
        "outputId": "aa970855-3698-47a5-a365-c49a1325a5cc"
      },
      "outputs": [
        {
          "output_type": "display_data",
          "data": {
            "text/plain": [
              "<Figure size 720x360 with 1 Axes>"
            ],
            "image/png": "[encoded data removed]"
          },
          "metadata": {
            "needs_background": "light"
          }
        }
      ],
      "source": [
        "hist_concentrate('au','золота')"
      ]
    },
    {
      "cell_type": "code",
      "execution_count": null,
      "metadata": {
        "scrolled": true,
        "id": "hSQ5Juf7Cw2d",
        "colab": {
          "base_uri": "https://localhost:8080/",
          "height": 336
        },
        "outputId": "18e11ac3-5cdf-4643-dcdc-1bb7922ab2c6"
      },
      "outputs": [
        {
          "output_type": "display_data",
          "data": {
            "text/plain": [
              "<Figure size 720x360 with 1 Axes>"
            ],
            "image/png": "[encoded data removed]"
          },
          "metadata": {
            "needs_background": "light"
          }
        }
      ],
      "source": [
        "hist_concentrate('pb','свинца')"
      ]
    },
    {
      "cell_type": "markdown",
      "metadata": {
        "id": "ivRDt7k3Cw2e"
      },
      "source": [
        "Гистограммы отражают следующие распределения по этапам очистки:\n",
        "*  доля серебра с каждым этапом очистки усеньшается;\n",
        "*  доля золота с каждым этапом очистки увеличивается, что логично, т.к. цель процесса - получить этот металл на выходе;\n",
        "*  распределение свинца носит равномерный характер для всех этапов, по всей видимости этот металл используется как вспомогательное вещество."
      ]
    },
    {
      "cell_type": "markdown",
      "metadata": {
        "id": "pMMpFTT9Cw2e"
      },
      "source": [
        "Сравним распределения размеров гранул сырья на обучающей и тестовой выборках. Если распределения сильно отличаются друг от друга, оценка модели будет неправильной."
      ]
    },
    {
      "cell_type": "code",
      "execution_count": null,
      "metadata": {
        "id": "GKWPEfhPCw2f"
      },
      "outputs": [],
      "source": [
        "def hist_feed_size(stage, title, range):\n",
        "    x0 = df_train[f'{stage}.input.feed_size']\n",
        "    x1 = df_test[f'{stage}.input.feed_size']\n",
        "\n",
        "    sns.distplot(x0)\n",
        "    sns.distplot(x1)\n",
        "    plt.xlim(range)"
      ]
    },
    {
      "cell_type": "code",
      "execution_count": null,
      "metadata": {
        "scrolled": true,
        "id": "xGpuD8M5Cw2f",
        "colab": {
          "base_uri": "https://localhost:8080/",
          "height": 280
        },
        "outputId": "ef193cec-0824-44b7-8048-e9adde144f95"
      },
      "outputs": [
        {
          "output_type": "display_data",
          "data": {
            "text/plain": [
              "<Figure size 432x288 with 1 Axes>"
            ],
            "image/png": "[encoded data removed]"
          },
          "metadata": {
            "needs_background": "light"
          }
        }
      ],
      "source": [
        "hist_feed_size('rougher','флотации',(0,150))"
      ]
    },
    {
      "cell_type": "code",
      "execution_count": null,
      "metadata": {
        "scrolled": true,
        "id": "BnY0w1G0Cw2g",
        "colab": {
          "base_uri": "https://localhost:8080/",
          "height": 280
        },
        "outputId": "f00add35-f9a7-4405-d888-cae6f56bcc36"
      },
      "outputs": [
        {
          "output_type": "display_data",
          "data": {
            "text/plain": [
              "<Figure size 432x288 with 1 Axes>"
            ],
            "image/png": "[encoded data removed]"
          },
          "metadata": {
            "needs_background": "light"
          }
        }
      ],
      "source": [
        "hist_feed_size('primary_cleaner','первичной очистки',(0,15))"
      ]
    },
    {
      "cell_type": "markdown",
      "metadata": {
        "id": "1r1d2VnlCw2g"
      },
      "source": [
        "Гистограммы показывают схожий характер распределения размеров гранул на тестовой и обучающей выборках."
      ]
    },
    {
      "cell_type": "markdown",
      "metadata": {
        "id": "2iPM2s78Cw2h"
      },
      "source": [
        "Исследуем суммарную концентрацию всех веществ на разных стадиях: в сырье, в черновом и финальном концентратах."
      ]
    },
    {
      "cell_type": "code",
      "execution_count": null,
      "metadata": {
        "id": "N-gSc0l8Cw2j",
        "colab": {
          "base_uri": "https://localhost:8080/",
          "height": 320
        },
        "outputId": "b2608aff-6541-4586-ed51-9cc2ee0e38cc"
      },
      "outputs": [
        {
          "output_type": "display_data",
          "data": {
            "text/plain": [
              "<Figure size 720x360 with 1 Axes>"
            ],
            "image/png": "[encoded data removed]"
          },
          "metadata": {
            "needs_background": "light"
          }
        }
      ],
      "source": [
        "for stage in ['rougher.input.feed','rougher.output.concentrate','final.output.concentrate']:\n",
        "    df_train[f'{stage}.total']=(\n",
        "        df_train[f'{stage}_ag']+\n",
        "        df_train[f'{stage}_au']+\n",
        "        df_train[f'{stage}_pb']+\n",
        "        df_train[f'{stage}_sol']\n",
        "    )\n",
        "    df_train[f'{stage}.total'].plot(\n",
        "        kind='hist',label=stage,legend=True, \n",
        "        figsize=(10,5), alpha=.5,range=(0,120), bins=100)\n"
      ]
    },
    {
      "cell_type": "markdown",
      "metadata": {
        "id": "ClyFx0m7Cw2j"
      },
      "source": [
        "Суммарная концентрация веществ на этапе флотации находится в пределах 50:90; после первичной очистки - 50:75; на финальном этапе - 60:80. Следует обратить внимание на наличие нулевых значений концентрации, по всей видимости процесс в такие моменты прерывался и от таких данных следует избавиться."
      ]
    },
    {
      "cell_type": "code",
      "execution_count": null,
      "metadata": {
        "id": "1OlO-bNBCw2k",
        "colab": {
          "base_uri": "https://localhost:8080/",
          "height": 320
        },
        "outputId": "e87db2b6-b967-4b19-9a9a-4b0b5005ad3c"
      },
      "outputs": [
        {
          "output_type": "display_data",
          "data": {
            "text/plain": [
              "<Figure size 720x360 with 1 Axes>"
            ],
            "image/png": "[encoded data removed]"
          },
          "metadata": {
            "needs_background": "light"
          }
        }
      ],
      "source": [
        "for stage in ['rougher.input.feed','rougher.output.concentrate','final.output.concentrate']:\n",
        "    df_train[f'{stage}.total']=(\n",
        "        df_train[f'{stage}_ag']+\n",
        "        df_train[f'{stage}_au']+\n",
        "        df_train[f'{stage}_pb']+\n",
        "        df_train[f'{stage}_sol']\n",
        "    )\n",
        "    df_train = df_train[df_train[f'{stage}.total']>1]\n",
        "    df_train[f'{stage}.total'].plot(\n",
        "        kind='hist',label=stage,legend=True, \n",
        "        figsize=(10,5), alpha=.5,range=(0,120), bins=100)"
      ]
    },
    {
      "cell_type": "markdown",
      "metadata": {
        "id": "Mznf_LYPCw2m"
      },
      "source": [
        "## Модель"
      ]
    },
    {
      "cell_type": "markdown",
      "metadata": {
        "id": "N4ZZ6lfDCw2m"
      },
      "source": [
        "Напишем функцию для вычисления итоговой sMAPE."
      ]
    },
    {
      "cell_type": "code",
      "execution_count": null,
      "metadata": {
        "id": "xdN0uFrdCw2n"
      },
      "outputs": [],
      "source": [
        "def smape(target,predict):\n",
        "    return 100/len(target)*np.sum(2*np.abs(predict-target)/(np.abs(target)+np.abs(predict)))\n",
        "\n",
        "def final_smape(smape_r, smape_f):\n",
        "    return 0.25 * smape_r + 0.75 * smape_f"
      ]
    },
    {
      "cell_type": "markdown",
      "metadata": {
        "id": "9H3WpOk4Cw2n"
      },
      "source": [
        "Обучим разные модели и оценим их качество кросс-валидацией. Выберем лучшую модель и проверим её на тестовой выборке."
      ]
    },
    {
      "cell_type": "markdown",
      "metadata": {
        "id": "4VPnkrGlCw2n"
      },
      "source": [
        "Первой рассмотрим линейную регресссию. Для начала обучим модель."
      ]
    },
    {
      "cell_type": "code",
      "execution_count": null,
      "metadata": {
        "id": "4xtcq27NCw2o"
      },
      "outputs": [],
      "source": [
        "df_train = df_train.drop(train_only,axis=1) #удаляем из обучающей выборки данные отсутствующие в тестовой выборке, за исключением цлевых признаков\n",
        "target_train_r = df_train['rougher.output.recovery']\n",
        "features_train_r = df_train.drop(['rougher.output.recovery','date'] , axis=1)\n",
        "\n",
        "\n",
        "target_train_f = df_train['final.output.recovery']\n",
        "features_train_f = df_train.drop(['final.output.recovery','date'] , axis=1)\n",
        "\n",
        "\n",
        "scaler = StandardScaler() #проведем масштабирование признаков\n",
        "scaler.fit(features_train_r)\n",
        "features_train_r = scaler.transform(features_train_r)\n",
        "\n",
        "\n",
        "scaler.fit(features_train_f)\n",
        "features_train_f = scaler.transform(features_train_f)\n",
        "\n",
        "\n"
      ]
    },
    {
      "cell_type": "markdown",
      "metadata": {
        "id": "mmePx7CiCw2o"
      },
      "source": [
        "Выбор гиперпараметров для линейной регрессии и обучение моделей. Для поиска оптимального значения использую GridSearchCV с кросс-валидацией на пяти подвыборках"
      ]
    },
    {
      "cell_type": "code",
      "execution_count": null,
      "metadata": {
        "id": "RlY5NrDWCw2o",
        "colab": {
          "base_uri": "https://localhost:8080/"
        },
        "outputId": "90ff054a-addc-4d53-8a7f-f591c7ad6819"
      },
      "outputs": [
        {
          "output_type": "execute_result",
          "data": {
            "text/plain": [
              "{'normalize': False}"
            ]
          },
          "metadata": {},
          "execution_count": 31
        }
      ],
      "source": [
        "parameters ={'normalize':[True, False]}\n",
        "grid_lr_r = RandomizedSearchCV(LinearRegression(),parameters,cv=5, n_jobs=-1,scoring =make_scorer(smape,greater_is_better=False))\n",
        "grid_lr_r.fit(features_train_r,target_train_r)\n",
        "grid_lr_r.best_params_"
      ]
    },
    {
      "cell_type": "code",
      "execution_count": null,
      "metadata": {
        "id": "zcvvoNVnCw2p",
        "colab": {
          "base_uri": "https://localhost:8080/"
        },
        "outputId": "ba3cc19e-7d28-48e7-d084-e11d5ee25a6e"
      },
      "outputs": [
        {
          "output_type": "execute_result",
          "data": {
            "text/plain": [
              "{'normalize': False}"
            ]
          },
          "metadata": {},
          "execution_count": 32
        }
      ],
      "source": [
        "parameters ={'normalize':[True, False]}\n",
        "grid_lr_f = RandomizedSearchCV(LinearRegression(),parameters,cv=5, n_jobs=-1,scoring =make_scorer(smape,greater_is_better=False))\n",
        "grid_lr_f.fit(features_train_f,target_train_f)\n",
        "grid_lr_f.best_params_"
      ]
    },
    {
      "cell_type": "code",
      "execution_count": null,
      "metadata": {
        "id": "jlxkRbhYCw2q",
        "colab": {
          "base_uri": "https://localhost:8080/"
        },
        "outputId": "5cc3aa31-b91b-4276-8af1-0a500c43e3fc"
      },
      "outputs": [
        {
          "output_type": "stream",
          "name": "stdout",
          "text": [
            "Значение sMAPE для этапа флотации , модель \"Линейная регрессия\":5.63241306905657\n"
          ]
        }
      ],
      "source": [
        "smape_lr_r = cross_val_score(grid_lr_r.best_estimator_, features_train_r, target_train_r, cv=5,n_jobs=-1, scoring = make_scorer(smape)).mean()\n",
        "print (f'Значение sMAPE для этапа флотации , модель \"Линейная регрессия\":{smape_lr_r}')"
      ]
    },
    {
      "cell_type": "code",
      "execution_count": null,
      "metadata": {
        "id": "3Z07rc3pCw2q",
        "colab": {
          "base_uri": "https://localhost:8080/"
        },
        "outputId": "545f6df7-fc23-47e5-cf72-1c76ae9c66c6"
      },
      "outputs": [
        {
          "output_type": "stream",
          "name": "stdout",
          "text": [
            "Значение sMAPE для финального этапа, модель \"Линейная регрессия\": 8.407755575712702\n"
          ]
        }
      ],
      "source": [
        "smape_lr_f = cross_val_score(grid_lr_f.best_estimator_, features_train_f, target_train_f, cv=5,n_jobs=-1,scoring=make_scorer(smape)).mean()\n",
        "print (f'Значение sMAPE для финального этапа, модель \"Линейная регрессия\": {smape_lr_f}')"
      ]
    },
    {
      "cell_type": "code",
      "execution_count": null,
      "metadata": {
        "id": "beGN8RaqCw2r",
        "colab": {
          "base_uri": "https://localhost:8080/"
        },
        "outputId": "1c691c9b-228a-4d90-cacb-2eb919c42728"
      },
      "outputs": [
        {
          "output_type": "stream",
          "name": "stdout",
          "text": [
            "Итоговое значение sMAPE для линейной регрессии: 7.71391994904867\n"
          ]
        }
      ],
      "source": [
        "print (f'Итоговое значение sMAPE для линейной регрессии: {final_smape(smape_lr_r, smape_lr_f)}')"
      ]
    },
    {
      "cell_type": "markdown",
      "metadata": {
        "id": "fmhTGObQCw2r"
      },
      "source": [
        "Решающее дерево и случайный лес."
      ]
    },
    {
      "cell_type": "markdown",
      "metadata": {
        "id": "rQMvQWzKCw2s"
      },
      "source": [
        "Для `RandomForestRegressor` поиск будет осуществляться по гиперпараметрам `max_depth` и `n_estimators`. \n",
        "Создаю переменную forest_params c различными вариантами значений"
      ]
    },
    {
      "cell_type": "code",
      "execution_count": null,
      "metadata": {
        "id": "yhC71VrHCw2s"
      },
      "outputs": [],
      "source": [
        "forest_params = { 'n_estimators': range (10, 51, 10),\n",
        "              'max_depth': range (4,25,2)}"
      ]
    },
    {
      "cell_type": "markdown",
      "metadata": {
        "id": "qyR5Ui_MCw2s"
      },
      "source": [
        "Выбор гиперпараметров для случайного леса и обучение моделей. Для поиска оптимального значения использую GridSearchCV с кросс-валидацией на пяти подвыборках."
      ]
    },
    {
      "cell_type": "code",
      "execution_count": null,
      "metadata": {
        "id": "7XmnXVfrCw2s",
        "colab": {
          "base_uri": "https://localhost:8080/"
        },
        "outputId": "93755464-703e-4674-d100-30f7880219d1"
      },
      "outputs": [
        {
          "output_type": "execute_result",
          "data": {
            "text/plain": [
              "{'n_estimators': 50, 'max_depth': 24}"
            ]
          },
          "metadata": {},
          "execution_count": 37
        }
      ],
      "source": [
        "grid_rfr_r = RandomizedSearchCV(RandomForestRegressor(random_state=RANDOM_STATE), forest_params, cv=5, scoring=make_scorer(smape,greater_is_better=False), n_jobs=-1) #запускаем обучение и смотрим какие наилучшие параметры получим при помощи инструмента GridSearchCV\n",
        "grid_rfr_r.fit(features_train_r, target_train_r)\n",
        "params = grid_rfr_r.best_params_\n",
        "rfr_r = RandomForestRegressor(**params, random_state=RANDOM_STATE)\n",
        "rfr_r.fit(features_train_r, target_train_r)\n",
        "grid_rfr_r.best_params_"
      ]
    },
    {
      "cell_type": "code",
      "execution_count": null,
      "metadata": {
        "id": "w_doOYUcCw2s",
        "colab": {
          "base_uri": "https://localhost:8080/"
        },
        "outputId": "d53862cd-815d-4912-8212-e4ae81439244"
      },
      "outputs": [
        {
          "output_type": "execute_result",
          "data": {
            "text/plain": [
              "{'n_estimators': 20, 'max_depth': 4}"
            ]
          },
          "metadata": {},
          "execution_count": 38
        }
      ],
      "source": [
        "grid_rfr_f = RandomizedSearchCV(RandomForestRegressor(random_state=RANDOM_STATE), forest_params, cv=5, scoring=make_scorer(smape,greater_is_better=False), n_jobs=-1) #запускаем обучение и смотрим какие наилучшие параметры получим при помощи инструмента GridSearchCV\n",
        "grid_rfr_f.fit(features_train_f, target_train_f)\n",
        "params = grid_rfr_f.best_params_\n",
        "rfr_f = RandomForestRegressor(**params, random_state=RANDOM_STATE)\n",
        "rfr_f.fit(features_train_f, target_train_f)\n",
        "grid_rfr_f.best_params_"
      ]
    },
    {
      "cell_type": "code",
      "execution_count": null,
      "metadata": {
        "id": "Wc4UP4jqCw2t",
        "colab": {
          "base_uri": "https://localhost:8080/"
        },
        "outputId": "61e93ac9-0156-4af5-f92b-e27127c7bace"
      },
      "outputs": [
        {
          "output_type": "stream",
          "name": "stdout",
          "text": [
            "Значение sMAPE для этапа флотации , модель \"Случайный лес\": 5.342354326005852\n"
          ]
        }
      ],
      "source": [
        "smape_rfr_r = cross_val_score(rfr_r, features_train_r, target_train_r, cv=5,n_jobs=-1, scoring = make_scorer(smape)).mean()\n",
        "print (f'Значение sMAPE для этапа флотации , модель \"Случайный лес\": {smape_rfr_r}')"
      ]
    },
    {
      "cell_type": "code",
      "execution_count": null,
      "metadata": {
        "id": "vAwdGA9aCw2u",
        "colab": {
          "base_uri": "https://localhost:8080/"
        },
        "outputId": "024667f3-f7a7-40c3-fbea-8b924441cd70"
      },
      "outputs": [
        {
          "output_type": "stream",
          "name": "stdout",
          "text": [
            "Значение sMAPE для финального этапа , модель \"Случайный лес\": 7.82189888067457\n"
          ]
        }
      ],
      "source": [
        "smape_rfr_f = cross_val_score(rfr_f, features_train_f, target_train_f, cv=5,n_jobs=-1, scoring = make_scorer(smape)).mean()\n",
        "print (f'Значение sMAPE для финального этапа , модель \"Случайный лес\": {smape_rfr_f}')"
      ]
    },
    {
      "cell_type": "code",
      "execution_count": null,
      "metadata": {
        "id": "ZQhKVD1QCw2v",
        "colab": {
          "base_uri": "https://localhost:8080/"
        },
        "outputId": "34d9abbd-805e-493e-c1ca-b69d52092e5a"
      },
      "outputs": [
        {
          "output_type": "stream",
          "name": "stdout",
          "text": [
            "Итоговое значение sMAPE для случайного леса: 7.2020127420073905\n"
          ]
        }
      ],
      "source": [
        "print (f'Итоговое значение sMAPE для случайного леса: {final_smape(smape_rfr_r, smape_rfr_f)}')"
      ]
    },
    {
      "cell_type": "markdown",
      "metadata": {
        "id": "DQW4h35aCw2w"
      },
      "source": [
        "Выбор гиперпараметров для решающего дерева и обучение моделей. Для поиска оптимального значения использую GridSearchCV с кросс-валидацией на пяти подвыборках."
      ]
    },
    {
      "cell_type": "code",
      "execution_count": null,
      "metadata": {
        "id": "WBSWINvuCw2w"
      },
      "outputs": [],
      "source": [
        "tree_params = {'max_depth': range (4,20,2)}"
      ]
    },
    {
      "cell_type": "code",
      "execution_count": null,
      "metadata": {
        "id": "Prxr0wp4Cw2w",
        "colab": {
          "base_uri": "https://localhost:8080/"
        },
        "outputId": "c2946d82-8643-465d-ca42-04216d59f3e3"
      },
      "outputs": [
        {
          "output_type": "execute_result",
          "data": {
            "text/plain": [
              "{'max_depth': 6}"
            ]
          },
          "metadata": {},
          "execution_count": 43
        }
      ],
      "source": [
        "grid_dtr_r = RandomizedSearchCV(DecisionTreeRegressor(random_state=RANDOM_STATE), tree_params, cv=5, scoring = make_scorer(smape,greater_is_better=False), n_jobs=-1) #запускаем обучение и смотрим какие наилучшие параметры получим при помощи инструмента GridSearchCV\n",
        "grid_dtr_r.fit(features_train_r, target_train_r)\n",
        "params = grid_dtr_r.best_params_\n",
        "dtr_r = DecisionTreeRegressor(**params, random_state=RANDOM_STATE)\n",
        "dtr_r.fit(features_train_r, target_train_r)\n",
        "grid_dtr_r.best_params_"
      ]
    },
    {
      "cell_type": "code",
      "execution_count": null,
      "metadata": {
        "id": "ATkQPtbvCw2x",
        "colab": {
          "base_uri": "https://localhost:8080/"
        },
        "outputId": "5ae4f107-9eb0-48ba-f5c0-a01a077aef89"
      },
      "outputs": [
        {
          "output_type": "execute_result",
          "data": {
            "text/plain": [
              "{'max_depth': 4}"
            ]
          },
          "metadata": {},
          "execution_count": 44
        }
      ],
      "source": [
        "grid_dtr_f = RandomizedSearchCV(DecisionTreeRegressor(random_state=RANDOM_STATE), tree_params, cv=5, scoring = make_scorer(smape,greater_is_better=False), n_jobs=-1) #запускаем обучение и смотрим какие наилучшие параметры получим при помощи инструмента GridSearchCV\n",
        "grid_dtr_f.fit(features_train_f, target_train_f)\n",
        "params = grid_dtr_f.best_params_\n",
        "dtr_f = DecisionTreeRegressor(**params, random_state=RANDOM_STATE)\n",
        "dtr_f.fit(features_train_r, target_train_r)\n",
        "grid_dtr_f.best_params_"
      ]
    },
    {
      "cell_type": "code",
      "execution_count": null,
      "metadata": {
        "id": "f6xKcnR-Cw2x",
        "colab": {
          "base_uri": "https://localhost:8080/"
        },
        "outputId": "5e6f7eb9-60cf-4dc6-8306-8f0bc7205b46"
      },
      "outputs": [
        {
          "output_type": "stream",
          "name": "stdout",
          "text": [
            "Значение sMAPE для этапа флотации , модель \"Решающее дерево\":6.644265425164582\n"
          ]
        }
      ],
      "source": [
        "smape_dtr_r = cross_val_score(dtr_r, features_train_r, target_train_r, cv=5,n_jobs=-1, scoring = make_scorer(smape)).mean()\n",
        "print (f'Значение sMAPE для этапа флотации , модель \"Решающее дерево\":{smape_dtr_r}')"
      ]
    },
    {
      "cell_type": "code",
      "execution_count": null,
      "metadata": {
        "id": "jxhY6-xmCw2x",
        "colab": {
          "base_uri": "https://localhost:8080/"
        },
        "outputId": "98175b12-2471-4ad1-dd50-765babde26ab"
      },
      "outputs": [
        {
          "output_type": "stream",
          "name": "stdout",
          "text": [
            "Значение sMAPE для эфинального этапа , модель \"Решающее дерево\": 8.241422053076139\n"
          ]
        }
      ],
      "source": [
        "smape_dtr_f = cross_val_score(dtr_f, features_train_f, target_train_f, cv=5,n_jobs=-1, scoring = make_scorer(smape)).mean()\n",
        "print (f'Значение sMAPE для эфинального этапа , модель \"Решающее дерево\": {smape_dtr_f}')"
      ]
    },
    {
      "cell_type": "code",
      "execution_count": null,
      "metadata": {
        "scrolled": true,
        "id": "NuwhCMnnCw2y",
        "colab": {
          "base_uri": "https://localhost:8080/"
        },
        "outputId": "9c1ac3a2-e7e7-4dc8-d285-617616419556"
      },
      "outputs": [
        {
          "output_type": "stream",
          "name": "stdout",
          "text": [
            "Итоговое значение sMAPE для решающего дерева:7.842132896098249\n"
          ]
        }
      ],
      "source": [
        "print (f'Итоговое значение sMAPE для решающего дерева:{final_smape(smape_dtr_r, smape_dtr_f)}')"
      ]
    },
    {
      "cell_type": "markdown",
      "metadata": {
        "id": "0fQMhhVECw2y"
      },
      "source": [
        "На основании сравнения показателей итоговых sMAPE для трех моделей, в качестве лучшей модели выбираем случайный лес."
      ]
    },
    {
      "cell_type": "markdown",
      "metadata": {
        "id": "2Ak1kHHuCw2z"
      },
      "source": [
        "Перейдем к проверке лучшей выбранной модели на тестовой выборке. Для этого объединим полную и тестовую выборку и выделим в полученном датасете признаки, использованные для обучения моделей."
      ]
    },
    {
      "cell_type": "code",
      "execution_count": null,
      "metadata": {
        "id": "K-4GcaNZCw2z",
        "colab": {
          "base_uri": "https://localhost:8080/"
        },
        "outputId": "c5a92db9-ba8d-462d-8be8-80fcead40c55"
      },
      "outputs": [
        {
          "output_type": "execute_result",
          "data": {
            "text/plain": [
              "['date', 'final.output.recovery', 'rougher.output.recovery']"
            ]
          },
          "metadata": {},
          "execution_count": 48
        }
      ],
      "source": [
        "df = df_full.merge(df_test,on='date').reset_index()\n",
        "df\n",
        "\n",
        "train_in_df = []\n",
        "for col in df_train.columns:\n",
        "    if col in df.columns:\n",
        "        train_in_df.append(col)\n",
        "train_in_df"
      ]
    },
    {
      "cell_type": "code",
      "execution_count": null,
      "metadata": {
        "scrolled": false,
        "id": "SlQEDqqNCw20",
        "colab": {
          "base_uri": "https://localhost:8080/"
        },
        "outputId": "bf246653-bdcd-4da4-d2e3-ac6036177327"
      },
      "outputs": [
        {
          "output_type": "execute_result",
          "data": {
            "text/plain": [
              "['date',\n",
              " 'final.output.recovery',\n",
              " 'primary_cleaner.input.sulfate',\n",
              " 'primary_cleaner.input.depressant',\n",
              " 'primary_cleaner.input.feed_size',\n",
              " 'primary_cleaner.input.xanthate',\n",
              " 'primary_cleaner.state.floatbank8_a_air',\n",
              " 'primary_cleaner.state.floatbank8_a_level',\n",
              " 'primary_cleaner.state.floatbank8_b_air',\n",
              " 'primary_cleaner.state.floatbank8_b_level',\n",
              " 'primary_cleaner.state.floatbank8_c_air',\n",
              " 'primary_cleaner.state.floatbank8_c_level',\n",
              " 'primary_cleaner.state.floatbank8_d_air',\n",
              " 'primary_cleaner.state.floatbank8_d_level',\n",
              " 'rougher.input.feed_ag',\n",
              " 'rougher.input.feed_pb',\n",
              " 'rougher.input.feed_rate',\n",
              " 'rougher.input.feed_size',\n",
              " 'rougher.input.feed_sol',\n",
              " 'rougher.input.feed_au',\n",
              " 'rougher.input.floatbank10_sulfate',\n",
              " 'rougher.input.floatbank10_xanthate',\n",
              " 'rougher.input.floatbank11_sulfate',\n",
              " 'rougher.input.floatbank11_xanthate',\n",
              " 'rougher.output.recovery',\n",
              " 'rougher.state.floatbank10_a_air',\n",
              " 'rougher.state.floatbank10_a_level',\n",
              " 'rougher.state.floatbank10_b_air',\n",
              " 'rougher.state.floatbank10_b_level',\n",
              " 'rougher.state.floatbank10_c_air',\n",
              " 'rougher.state.floatbank10_c_level',\n",
              " 'rougher.state.floatbank10_d_air',\n",
              " 'rougher.state.floatbank10_d_level',\n",
              " 'rougher.state.floatbank10_e_air',\n",
              " 'rougher.state.floatbank10_e_level',\n",
              " 'rougher.state.floatbank10_f_air',\n",
              " 'rougher.state.floatbank10_f_level',\n",
              " 'secondary_cleaner.state.floatbank2_a_air',\n",
              " 'secondary_cleaner.state.floatbank2_a_level',\n",
              " 'secondary_cleaner.state.floatbank2_b_air',\n",
              " 'secondary_cleaner.state.floatbank2_b_level',\n",
              " 'secondary_cleaner.state.floatbank3_a_air',\n",
              " 'secondary_cleaner.state.floatbank3_a_level',\n",
              " 'secondary_cleaner.state.floatbank3_b_air',\n",
              " 'secondary_cleaner.state.floatbank3_b_level',\n",
              " 'secondary_cleaner.state.floatbank4_a_air',\n",
              " 'secondary_cleaner.state.floatbank4_a_level',\n",
              " 'secondary_cleaner.state.floatbank4_b_air',\n",
              " 'secondary_cleaner.state.floatbank4_b_level',\n",
              " 'secondary_cleaner.state.floatbank5_a_air',\n",
              " 'secondary_cleaner.state.floatbank5_a_level',\n",
              " 'secondary_cleaner.state.floatbank5_b_air',\n",
              " 'secondary_cleaner.state.floatbank5_b_level',\n",
              " 'secondary_cleaner.state.floatbank6_a_air',\n",
              " 'secondary_cleaner.state.floatbank6_a_level']"
            ]
          },
          "metadata": {},
          "execution_count": 49
        }
      ],
      "source": [
        "train_in_full = []\n",
        "for col in df_train.columns:\n",
        "    if col in df_full.columns:\n",
        "        train_in_full.append(col)\n",
        "train_in_full"
      ]
    },
    {
      "cell_type": "markdown",
      "metadata": {
        "id": "rIXE43MNCw21"
      },
      "source": [
        "Разделим выборку на расчетные и целевые признаки, предварительно выбрав признаки, использованные для обучения модели."
      ]
    },
    {
      "cell_type": "code",
      "execution_count": null,
      "metadata": {
        "id": "X8bUU0DECw21"
      },
      "outputs": [],
      "source": [
        "df = df[train_in_df]\n",
        "target_test_r = df['rougher.output.recovery']\n",
        "features_test_r = df.drop(['rougher.output.recovery','date'],axis=1)\n",
        "\n",
        "target_test_f = df['final.output.recovery']\n",
        "features_test_f = df.drop(['final.output.recovery','date'],axis=1)\n",
        "scaler = StandardScaler() #проведем масштабирование признаков\n",
        "scaler.fit(features_test_r)\n",
        "features_test_r = scaler.transform(features_test_r)\n",
        "scaler.fit(features_test_f)\n",
        "features_test_f = scaler.transform(features_test_f)\n"
      ]
    },
    {
      "cell_type": "code",
      "execution_count": null,
      "metadata": {
        "id": "iOh9-5U4Cw21",
        "colab": {
          "base_uri": "https://localhost:8080/"
        },
        "outputId": "b592218e-59eb-4eb2-f2e1-31790f7a13e0"
      },
      "outputs": [
        {
          "output_type": "stream",
          "name": "stdout",
          "text": [
            "sMAPE на этапе флотации для тестовой выборки: 10.142707287073648\n"
          ]
        }
      ],
      "source": [
        "smape_rfr_r_test = cross_val_score(rfr_r, features_test_r, target_test_r, cv=5,n_jobs=-1, scoring = make_scorer(smape)).mean()\n",
        "print (f'sMAPE на этапе флотации для тестовой выборки: {smape_rfr_r_test}')"
      ]
    },
    {
      "cell_type": "code",
      "execution_count": null,
      "metadata": {
        "id": "k4xLDtk7Cw22",
        "colab": {
          "base_uri": "https://localhost:8080/"
        },
        "outputId": "d0567a97-8fbf-4d27-e15a-6b13d89ff5e7"
      },
      "outputs": [
        {
          "output_type": "stream",
          "name": "stdout",
          "text": [
            "sMAPE на финальном этапе для тестовой выборки:8.193931551176687\n"
          ]
        }
      ],
      "source": [
        "smape_rfr_f_test = cross_val_score(rfr_f, features_test_f, target_test_f, cv=5,n_jobs=-1, scoring = make_scorer(smape)).mean()\n",
        "print (f'sMAPE на финальном этапе для тестовой выборки:{smape_rfr_f_test}')"
      ]
    },
    {
      "cell_type": "code",
      "execution_count": null,
      "metadata": {
        "id": "0vNvA-4VCw22",
        "colab": {
          "base_uri": "https://localhost:8080/"
        },
        "outputId": "343ebbc2-7b6f-4e5e-86ee-0a0ca6b02583"
      },
      "outputs": [
        {
          "output_type": "stream",
          "name": "stdout",
          "text": [
            "Итоговый sMAPE  для тестовой выборки: 8.681125485150927\n"
          ]
        }
      ],
      "source": [
        "print (f'Итоговый sMAPE  для тестовой выборки: {final_smape(smape_rfr_r_test, smape_rfr_f_test)}')"
      ]
    },
    {
      "cell_type": "markdown",
      "metadata": {
        "id": "iWgbed-sCw23"
      },
      "source": [
        "Сравним результаты sMAPE лучшей модели со sMAPE на константной модели. ДЛя определения константной модели будем использовать DummyRegressor с медианной стратегией."
      ]
    },
    {
      "cell_type": "code",
      "execution_count": null,
      "metadata": {
        "id": "35V3XkKBCw24",
        "colab": {
          "base_uri": "https://localhost:8080/"
        },
        "outputId": "ed30d343-88fe-4b11-f12d-caa48774fc4e"
      },
      "outputs": [
        {
          "output_type": "execute_result",
          "data": {
            "text/plain": [
              "9.151913059672934"
            ]
          },
          "metadata": {},
          "execution_count": 54
        }
      ],
      "source": [
        "dummy_regr_r = DummyRegressor(strategy=\"median\")\n",
        "dummy_r = dummy_regr_r.fit(features_train_r,target_train_r)\n",
        "pred_r = dummy_regr_r.predict(features_test_r)\n",
        "\n",
        "dummy_regr_f = DummyRegressor(strategy=\"median\")\n",
        "dummy_f = dummy_regr_f.fit(features_train_f,target_train_f)\n",
        "pred_f = dummy_regr_f.predict(features_test_f)\n",
        "\n",
        "smape_dummy_r = cross_val_score(dummy_r, features_test_r, target_test_r, cv=5,n_jobs=-1, scoring = make_scorer(smape)).mean()\n",
        "smape_dummy_r\n",
        "\n",
        "smape_dummy_f = cross_val_score(dummy_f, features_test_f, target_test_f, cv=5,n_jobs=-1, scoring = make_scorer(smape)).mean()\n",
        "smape_dummy_f\n",
        "\n",
        "final_smape(smape_dummy_r, smape_dummy_f)"
      ]
    },
    {
      "cell_type": "markdown",
      "metadata": {
        "id": "XDMDBKxiCw24"
      },
      "source": [
        "# Общий вывод"
      ]
    },
    {
      "cell_type": "markdown",
      "metadata": {
        "id": "aocnPz4JCw24"
      },
      "source": [
        "В ходе работы над проектом мы провели исследование трех выборок с данными и провели их предобработку.\n",
        "\n",
        "Проверили и подтвердили правильность расчета эффективности обогащения для этапа флотации.\n",
        "\n",
        "В ходе анализа данных было изучено распределение концентрации веществ в зависимости от этапа проведения восстановления золота из руды.\n",
        "\n",
        "Были сделаны следующие выводы:\n",
        "*  доля серебра с каждым этапом очистки уменьшается;\n",
        "*  доля золота с каждым этапом очистки увеличивается, что логично, т.к. цель процесса - получить этот металл на выходе;\n",
        "*  распределение свинца носит равномерный характер для всех этапов, по всей видимости этот металл используется как вспомогательное вещество при разделении фракций.\n",
        "\n",
        "Изучение распределения размеров гранул показало, что оно носит равномерный характер для этапов флотации и финального этапа.\n",
        "\n",
        "На этапе анализа суммарной концентрации веществ по этапам очистки золота, была выявлена аномалия: большое количество нулевых значений, что может свидельствовать о прерывании процесса очистки, признаки с такими значениями было решено исключить из выборки.\n",
        "\n",
        "Были подобраны параметры и построены 3 модели:\n",
        "* линейная регрессия;\n",
        "* случайный лес;\n",
        "* дерево решений.\n",
        "\n",
        "На основании расчета sMAPE для каждой модели была выбрана наилучшая с минимальным значением данного показателя - линейная регрессия.\n",
        "\n",
        "Лучшая модель была проверена на тестовой выборке, её качество было подтверждено сравнением со sMAPE константной модели.\n",
        "Качество лучшей модели оуказалось выше, что дает нам полное право рекомендовать данную модель для использования в предсказаниях коэффициента восстановления золота из золотосодержащей руды.\n",
        "\n"
      ]
    }
  ],
  "metadata": {
    "ExecuteTimeLog": [
      {
        "duration": 4612,
        "start_time": "2022-06-29T12:25:05.584Z"
      },
      {
        "duration": 651,
        "start_time": "2022-06-29T12:26:33.530Z"
      },
      {
        "duration": 25,
        "start_time": "2022-06-29T12:26:52.774Z"
      },
      {
        "duration": 104,
        "start_time": "2022-06-29T12:33:23.410Z"
      },
      {
        "duration": 4,
        "start_time": "2022-06-29T12:33:27.974Z"
      },
      {
        "duration": 12,
        "start_time": "2022-06-29T12:36:03.886Z"
      },
      {
        "duration": 610,
        "start_time": "2022-06-29T12:36:21.174Z"
      },
      {
        "duration": 19,
        "start_time": "2022-06-29T12:36:39.169Z"
      },
      {
        "duration": 24,
        "start_time": "2022-06-29T12:38:39.641Z"
      },
      {
        "duration": 257,
        "start_time": "2022-06-29T12:39:20.710Z"
      },
      {
        "duration": 250,
        "start_time": "2022-06-29T12:40:05.985Z"
      },
      {
        "duration": 33322,
        "start_time": "2022-06-29T12:41:10.630Z"
      },
      {
        "duration": 23,
        "start_time": "2022-06-29T12:44:24.508Z"
      },
      {
        "duration": 18,
        "start_time": "2022-06-29T12:44:49.197Z"
      },
      {
        "duration": 224,
        "start_time": "2022-06-29T12:45:05.211Z"
      },
      {
        "duration": 114,
        "start_time": "2022-06-29T12:47:10.533Z"
      },
      {
        "duration": 14,
        "start_time": "2022-06-29T12:48:19.404Z"
      },
      {
        "duration": 6,
        "start_time": "2022-06-29T13:17:37.525Z"
      },
      {
        "duration": 3,
        "start_time": "2022-06-29T13:21:12.969Z"
      },
      {
        "duration": 9,
        "start_time": "2022-06-29T13:21:22.600Z"
      },
      {
        "duration": 625,
        "start_time": "2022-06-29T13:21:45.165Z"
      },
      {
        "duration": 1690,
        "start_time": "2022-06-29T13:21:50.616Z"
      },
      {
        "duration": 16,
        "start_time": "2022-06-29T13:24:54.736Z"
      },
      {
        "duration": 5,
        "start_time": "2022-06-29T13:25:11.798Z"
      },
      {
        "duration": 14,
        "start_time": "2022-06-29T13:25:15.178Z"
      },
      {
        "duration": 3,
        "start_time": "2022-06-29T13:25:22.138Z"
      },
      {
        "duration": 4,
        "start_time": "2022-06-29T13:25:30.376Z"
      },
      {
        "duration": 9,
        "start_time": "2022-06-29T13:28:33.343Z"
      },
      {
        "duration": 8,
        "start_time": "2022-06-29T13:29:10.377Z"
      },
      {
        "duration": 10,
        "start_time": "2022-06-29T13:29:19.185Z"
      },
      {
        "duration": 168,
        "start_time": "2022-06-29T13:31:15.497Z"
      },
      {
        "duration": 7,
        "start_time": "2022-06-29T13:31:46.293Z"
      },
      {
        "duration": 5,
        "start_time": "2022-06-29T13:31:52.864Z"
      },
      {
        "duration": 6,
        "start_time": "2022-06-29T13:32:03.560Z"
      },
      {
        "duration": 4,
        "start_time": "2022-06-29T13:32:08.279Z"
      },
      {
        "duration": 6,
        "start_time": "2022-06-29T13:32:21.446Z"
      },
      {
        "duration": 5,
        "start_time": "2022-06-29T13:32:24.841Z"
      },
      {
        "duration": 8,
        "start_time": "2022-06-29T13:32:27.552Z"
      },
      {
        "duration": 9,
        "start_time": "2022-06-29T13:32:30.347Z"
      },
      {
        "duration": 5,
        "start_time": "2022-06-29T13:36:43.448Z"
      },
      {
        "duration": 5,
        "start_time": "2022-06-29T13:36:49.792Z"
      },
      {
        "duration": 5,
        "start_time": "2022-06-29T13:37:07.745Z"
      },
      {
        "duration": 17,
        "start_time": "2022-06-29T13:37:08.378Z"
      },
      {
        "duration": 5,
        "start_time": "2022-06-29T13:37:10.099Z"
      },
      {
        "duration": 9,
        "start_time": "2022-06-29T13:37:11.630Z"
      },
      {
        "duration": 9,
        "start_time": "2022-06-29T13:37:12.446Z"
      },
      {
        "duration": 6,
        "start_time": "2022-06-29T13:40:42.977Z"
      },
      {
        "duration": 17,
        "start_time": "2022-06-29T13:40:45.445Z"
      },
      {
        "duration": 4,
        "start_time": "2022-06-29T13:40:46.319Z"
      },
      {
        "duration": 11,
        "start_time": "2022-06-29T13:40:49.507Z"
      },
      {
        "duration": 8,
        "start_time": "2022-06-29T13:40:50.111Z"
      },
      {
        "duration": 1374,
        "start_time": "2022-06-29T13:54:42.101Z"
      },
      {
        "duration": 4,
        "start_time": "2022-06-29T13:54:49.320Z"
      },
      {
        "duration": 619,
        "start_time": "2022-06-29T14:01:11.007Z"
      },
      {
        "duration": 17,
        "start_time": "2022-06-29T14:01:26.725Z"
      },
      {
        "duration": 21,
        "start_time": "2022-06-29T14:01:32.865Z"
      },
      {
        "duration": 8,
        "start_time": "2022-06-29T14:01:43.933Z"
      },
      {
        "duration": 119,
        "start_time": "2022-06-29T14:01:51.807Z"
      },
      {
        "duration": 13,
        "start_time": "2022-06-29T14:01:57.453Z"
      },
      {
        "duration": 3,
        "start_time": "2022-06-29T14:03:04.471Z"
      },
      {
        "duration": 80,
        "start_time": "2022-06-29T14:06:22.908Z"
      },
      {
        "duration": 3,
        "start_time": "2022-06-29T14:07:12.471Z"
      },
      {
        "duration": 242,
        "start_time": "2022-06-29T14:07:13.614Z"
      },
      {
        "duration": 10,
        "start_time": "2022-06-29T14:08:05.309Z"
      },
      {
        "duration": 19,
        "start_time": "2022-06-29T14:08:44.709Z"
      },
      {
        "duration": 20,
        "start_time": "2022-06-29T14:09:19.629Z"
      },
      {
        "duration": 19,
        "start_time": "2022-06-29T14:10:17.101Z"
      },
      {
        "duration": 14,
        "start_time": "2022-06-29T14:10:32.597Z"
      },
      {
        "duration": 111,
        "start_time": "2022-06-29T14:15:11.148Z"
      },
      {
        "duration": 12,
        "start_time": "2022-06-29T14:38:07.783Z"
      },
      {
        "duration": 4,
        "start_time": "2022-06-29T14:38:26.048Z"
      },
      {
        "duration": 78,
        "start_time": "2022-06-29T14:39:42.712Z"
      },
      {
        "duration": 83,
        "start_time": "2022-06-29T14:39:53.270Z"
      },
      {
        "duration": 2,
        "start_time": "2022-06-29T14:39:59.217Z"
      },
      {
        "duration": 647,
        "start_time": "2022-06-29T14:40:15.197Z"
      },
      {
        "duration": 19,
        "start_time": "2022-06-29T14:40:15.846Z"
      },
      {
        "duration": 49,
        "start_time": "2022-06-29T14:40:15.867Z"
      },
      {
        "duration": 133,
        "start_time": "2022-06-29T14:40:15.918Z"
      },
      {
        "duration": 3,
        "start_time": "2022-06-29T14:40:16.054Z"
      },
      {
        "duration": 230,
        "start_time": "2022-06-29T14:40:16.058Z"
      },
      {
        "duration": 11,
        "start_time": "2022-06-29T14:40:16.290Z"
      },
      {
        "duration": 3,
        "start_time": "2022-06-29T14:40:16.303Z"
      },
      {
        "duration": 19,
        "start_time": "2022-06-29T14:41:06.176Z"
      },
      {
        "duration": 7,
        "start_time": "2022-06-29T14:41:39.935Z"
      },
      {
        "duration": 6,
        "start_time": "2022-06-29T14:41:43.043Z"
      },
      {
        "duration": 13,
        "start_time": "2022-06-29T14:41:48.343Z"
      },
      {
        "duration": 12,
        "start_time": "2022-06-29T14:42:57.431Z"
      },
      {
        "duration": 8,
        "start_time": "2022-06-29T14:43:14.997Z"
      },
      {
        "duration": 9,
        "start_time": "2022-06-29T14:43:54.273Z"
      },
      {
        "duration": 5,
        "start_time": "2022-06-29T14:43:57.742Z"
      },
      {
        "duration": 13,
        "start_time": "2022-06-29T14:44:08.933Z"
      },
      {
        "duration": 11,
        "start_time": "2022-06-29T14:44:17.247Z"
      },
      {
        "duration": 8,
        "start_time": "2022-06-29T14:44:24.999Z"
      },
      {
        "duration": 9,
        "start_time": "2022-06-29T14:45:03.736Z"
      },
      {
        "duration": 6,
        "start_time": "2022-06-29T14:45:22.460Z"
      },
      {
        "duration": 3,
        "start_time": "2022-06-29T14:45:31.477Z"
      },
      {
        "duration": 8,
        "start_time": "2022-06-29T14:46:03.254Z"
      },
      {
        "duration": 18,
        "start_time": "2022-06-29T14:46:15.034Z"
      },
      {
        "duration": 7,
        "start_time": "2022-06-29T14:46:23.246Z"
      },
      {
        "duration": 640,
        "start_time": "2022-06-29T14:46:44.920Z"
      },
      {
        "duration": 18,
        "start_time": "2022-06-29T14:46:45.562Z"
      },
      {
        "duration": 20,
        "start_time": "2022-06-29T14:46:45.593Z"
      },
      {
        "duration": 130,
        "start_time": "2022-06-29T14:46:45.615Z"
      },
      {
        "duration": 3,
        "start_time": "2022-06-29T14:46:45.748Z"
      },
      {
        "duration": 239,
        "start_time": "2022-06-29T14:46:45.753Z"
      },
      {
        "duration": 11,
        "start_time": "2022-06-29T14:46:45.994Z"
      },
      {
        "duration": 14,
        "start_time": "2022-06-29T14:46:46.006Z"
      },
      {
        "duration": 13,
        "start_time": "2022-06-29T14:46:46.022Z"
      },
      {
        "duration": 19,
        "start_time": "2022-06-29T14:46:54.949Z"
      },
      {
        "duration": 7,
        "start_time": "2022-06-29T14:47:15.126Z"
      },
      {
        "duration": 7,
        "start_time": "2022-06-29T14:47:27.142Z"
      },
      {
        "duration": 7,
        "start_time": "2022-06-29T14:47:35.635Z"
      },
      {
        "duration": 7,
        "start_time": "2022-06-29T14:47:45.734Z"
      },
      {
        "duration": 8,
        "start_time": "2022-06-29T14:47:51.374Z"
      },
      {
        "duration": 591,
        "start_time": "2022-06-29T14:49:57.084Z"
      },
      {
        "duration": 18,
        "start_time": "2022-06-29T14:49:57.677Z"
      },
      {
        "duration": 20,
        "start_time": "2022-06-29T14:49:57.697Z"
      },
      {
        "duration": 125,
        "start_time": "2022-06-29T14:49:57.719Z"
      },
      {
        "duration": 3,
        "start_time": "2022-06-29T14:49:57.846Z"
      },
      {
        "duration": 221,
        "start_time": "2022-06-29T14:49:57.851Z"
      },
      {
        "duration": 20,
        "start_time": "2022-06-29T14:49:58.073Z"
      },
      {
        "duration": 10,
        "start_time": "2022-06-29T14:49:58.095Z"
      },
      {
        "duration": 15,
        "start_time": "2022-06-29T14:49:58.107Z"
      },
      {
        "duration": 17,
        "start_time": "2022-06-29T14:50:10.504Z"
      },
      {
        "duration": 80,
        "start_time": "2022-06-29T14:50:24.494Z"
      },
      {
        "duration": 8,
        "start_time": "2022-06-29T14:50:30.300Z"
      },
      {
        "duration": 96,
        "start_time": "2022-06-29T14:51:52.046Z"
      },
      {
        "duration": 5,
        "start_time": "2022-06-29T14:52:06.764Z"
      },
      {
        "duration": 3,
        "start_time": "2022-06-29T14:52:39.925Z"
      },
      {
        "duration": 2,
        "start_time": "2022-06-29T14:52:54.784Z"
      },
      {
        "duration": 5,
        "start_time": "2022-06-29T14:53:33.493Z"
      },
      {
        "duration": 3,
        "start_time": "2022-06-29T14:54:03.875Z"
      },
      {
        "duration": 6,
        "start_time": "2022-06-29T14:54:17.356Z"
      },
      {
        "duration": 7,
        "start_time": "2022-06-29T14:55:16.323Z"
      },
      {
        "duration": 7,
        "start_time": "2022-06-29T14:55:22.819Z"
      },
      {
        "duration": 92,
        "start_time": "2022-06-29T14:57:02.612Z"
      },
      {
        "duration": 82,
        "start_time": "2022-06-29T14:58:08.632Z"
      },
      {
        "duration": 78,
        "start_time": "2022-06-29T15:00:20.379Z"
      },
      {
        "duration": 122,
        "start_time": "2022-06-29T15:06:03.313Z"
      },
      {
        "duration": 7,
        "start_time": "2022-06-29T15:08:42.210Z"
      },
      {
        "duration": 9,
        "start_time": "2022-06-29T15:09:09.332Z"
      },
      {
        "duration": 9,
        "start_time": "2022-06-29T15:09:29.021Z"
      },
      {
        "duration": 7,
        "start_time": "2022-06-29T15:09:50.355Z"
      },
      {
        "duration": 10,
        "start_time": "2022-06-29T15:09:53.906Z"
      },
      {
        "duration": 12,
        "start_time": "2022-06-29T15:10:38.571Z"
      },
      {
        "duration": 10,
        "start_time": "2022-06-29T15:10:45.308Z"
      },
      {
        "duration": 10,
        "start_time": "2022-06-29T15:11:56.475Z"
      },
      {
        "duration": 14,
        "start_time": "2022-06-29T15:13:43.254Z"
      },
      {
        "duration": 10,
        "start_time": "2022-06-29T15:13:58.229Z"
      },
      {
        "duration": 16,
        "start_time": "2022-06-29T15:14:03.865Z"
      },
      {
        "duration": 10,
        "start_time": "2022-06-29T15:14:09.819Z"
      },
      {
        "duration": 7,
        "start_time": "2022-06-29T15:15:43.811Z"
      },
      {
        "duration": 12,
        "start_time": "2022-06-29T15:15:51.113Z"
      },
      {
        "duration": 17,
        "start_time": "2022-06-29T15:17:15.009Z"
      },
      {
        "duration": 16,
        "start_time": "2022-06-29T15:17:29.572Z"
      },
      {
        "duration": 11,
        "start_time": "2022-06-29T15:17:52.506Z"
      },
      {
        "duration": 10,
        "start_time": "2022-06-29T15:18:04.665Z"
      },
      {
        "duration": 11,
        "start_time": "2022-06-29T15:19:15.073Z"
      },
      {
        "duration": 12,
        "start_time": "2022-06-29T15:19:30.329Z"
      },
      {
        "duration": 16,
        "start_time": "2022-06-29T15:20:15.280Z"
      },
      {
        "duration": 15,
        "start_time": "2022-06-29T15:20:39.497Z"
      },
      {
        "duration": 9,
        "start_time": "2022-06-29T15:21:25.404Z"
      },
      {
        "duration": 9,
        "start_time": "2022-06-29T15:21:38.625Z"
      },
      {
        "duration": 14,
        "start_time": "2022-06-29T15:22:04.785Z"
      },
      {
        "duration": 15,
        "start_time": "2022-06-29T15:22:49.188Z"
      },
      {
        "duration": 14,
        "start_time": "2022-06-29T15:23:08.552Z"
      },
      {
        "duration": 9,
        "start_time": "2022-06-29T15:23:32.007Z"
      },
      {
        "duration": 9,
        "start_time": "2022-06-29T15:23:56.424Z"
      },
      {
        "duration": 10,
        "start_time": "2022-06-29T15:24:03.312Z"
      },
      {
        "duration": 14,
        "start_time": "2022-06-29T15:27:00.145Z"
      },
      {
        "duration": 24,
        "start_time": "2022-06-29T15:27:16.655Z"
      },
      {
        "duration": 593,
        "start_time": "2022-06-29T15:27:31.968Z"
      },
      {
        "duration": 11,
        "start_time": "2022-06-29T15:28:37.825Z"
      },
      {
        "duration": 11,
        "start_time": "2022-06-29T15:28:48.823Z"
      },
      {
        "duration": 78,
        "start_time": "2022-06-29T15:29:29.767Z"
      },
      {
        "duration": 11,
        "start_time": "2022-06-29T15:29:36.427Z"
      },
      {
        "duration": 7,
        "start_time": "2022-06-29T15:30:30.599Z"
      },
      {
        "duration": 10,
        "start_time": "2022-06-29T15:30:33.615Z"
      },
      {
        "duration": 10,
        "start_time": "2022-06-29T15:30:44.823Z"
      },
      {
        "duration": 11,
        "start_time": "2022-06-29T15:31:01.383Z"
      },
      {
        "duration": 9,
        "start_time": "2022-06-29T15:31:21.848Z"
      },
      {
        "duration": 9,
        "start_time": "2022-06-29T15:31:28.190Z"
      },
      {
        "duration": 8,
        "start_time": "2022-06-29T15:31:34.880Z"
      },
      {
        "duration": 17,
        "start_time": "2022-06-29T15:31:45.975Z"
      },
      {
        "duration": 12,
        "start_time": "2022-06-29T15:32:01.686Z"
      },
      {
        "duration": 11,
        "start_time": "2022-06-29T15:33:39.298Z"
      },
      {
        "duration": 64,
        "start_time": "2022-06-30T14:57:54.416Z"
      },
      {
        "duration": 3252,
        "start_time": "2022-06-30T14:57:57.896Z"
      },
      {
        "duration": 20,
        "start_time": "2022-06-30T14:58:01.152Z"
      },
      {
        "duration": 61,
        "start_time": "2022-06-30T14:58:01.174Z"
      },
      {
        "duration": 136,
        "start_time": "2022-06-30T14:58:01.237Z"
      },
      {
        "duration": 4,
        "start_time": "2022-06-30T14:58:01.375Z"
      },
      {
        "duration": 301,
        "start_time": "2022-06-30T14:58:01.380Z"
      },
      {
        "duration": 16,
        "start_time": "2022-06-30T14:58:01.683Z"
      },
      {
        "duration": 93,
        "start_time": "2022-06-30T14:58:01.701Z"
      },
      {
        "duration": 123,
        "start_time": "2022-06-30T14:58:01.795Z"
      },
      {
        "duration": 5,
        "start_time": "2022-06-30T15:03:36.078Z"
      },
      {
        "duration": 6,
        "start_time": "2022-06-30T15:04:25.842Z"
      },
      {
        "duration": 361,
        "start_time": "2022-06-30T15:07:40.986Z"
      },
      {
        "duration": 52,
        "start_time": "2022-06-30T15:08:05.921Z"
      },
      {
        "duration": 45,
        "start_time": "2022-06-30T15:08:40.244Z"
      },
      {
        "duration": 965,
        "start_time": "2022-06-30T15:16:12.232Z"
      },
      {
        "duration": 853,
        "start_time": "2022-06-30T15:16:59.254Z"
      },
      {
        "duration": 58,
        "start_time": "2022-06-30T15:18:05.763Z"
      },
      {
        "duration": 707,
        "start_time": "2022-06-30T15:18:24.949Z"
      },
      {
        "duration": 89,
        "start_time": "2022-06-30T15:18:31.349Z"
      },
      {
        "duration": 31,
        "start_time": "2022-06-30T15:18:51.968Z"
      },
      {
        "duration": 737,
        "start_time": "2022-06-30T15:19:14.522Z"
      },
      {
        "duration": 18,
        "start_time": "2022-06-30T15:19:15.261Z"
      },
      {
        "duration": 47,
        "start_time": "2022-06-30T15:19:15.281Z"
      },
      {
        "duration": 127,
        "start_time": "2022-06-30T15:19:15.330Z"
      },
      {
        "duration": 4,
        "start_time": "2022-06-30T15:19:15.459Z"
      },
      {
        "duration": 253,
        "start_time": "2022-06-30T15:19:15.464Z"
      },
      {
        "duration": 17,
        "start_time": "2022-06-30T15:19:15.718Z"
      },
      {
        "duration": 8,
        "start_time": "2022-06-30T15:19:15.736Z"
      },
      {
        "duration": 13,
        "start_time": "2022-06-30T15:19:15.745Z"
      },
      {
        "duration": 235,
        "start_time": "2022-06-30T15:19:15.760Z"
      },
      {
        "duration": 54,
        "start_time": "2022-06-30T15:19:15.997Z"
      },
      {
        "duration": 138,
        "start_time": "2022-06-30T15:19:16.053Z"
      },
      {
        "duration": 50,
        "start_time": "2022-06-30T15:46:51.833Z"
      },
      {
        "duration": 59,
        "start_time": "2022-06-30T15:47:01.535Z"
      },
      {
        "duration": 138,
        "start_time": "2022-06-30T15:47:29.642Z"
      },
      {
        "duration": 9,
        "start_time": "2022-06-30T15:47:47.603Z"
      },
      {
        "duration": 13,
        "start_time": "2022-06-30T15:48:14.503Z"
      },
      {
        "duration": 11,
        "start_time": "2022-06-30T15:48:40.829Z"
      },
      {
        "duration": 9,
        "start_time": "2022-06-30T15:49:31.809Z"
      },
      {
        "duration": 10,
        "start_time": "2022-06-30T15:49:54.743Z"
      },
      {
        "duration": 7,
        "start_time": "2022-06-30T15:51:43.784Z"
      },
      {
        "duration": 66,
        "start_time": "2022-06-30T15:51:45.960Z"
      },
      {
        "duration": 11,
        "start_time": "2022-06-30T15:52:09.098Z"
      },
      {
        "duration": 5157,
        "start_time": "2022-06-30T15:52:30.380Z"
      },
      {
        "duration": 708,
        "start_time": "2022-06-30T15:52:41.021Z"
      },
      {
        "duration": 19,
        "start_time": "2022-06-30T15:52:41.732Z"
      },
      {
        "duration": 35,
        "start_time": "2022-06-30T15:52:41.754Z"
      },
      {
        "duration": 147,
        "start_time": "2022-06-30T15:52:41.791Z"
      },
      {
        "duration": 3,
        "start_time": "2022-06-30T15:52:41.940Z"
      },
      {
        "duration": 247,
        "start_time": "2022-06-30T15:52:41.944Z"
      },
      {
        "duration": 11,
        "start_time": "2022-06-30T15:52:42.192Z"
      },
      {
        "duration": 9,
        "start_time": "2022-06-30T15:52:42.205Z"
      },
      {
        "duration": 11,
        "start_time": "2022-06-30T15:52:42.226Z"
      },
      {
        "duration": 7,
        "start_time": "2022-06-30T15:52:42.239Z"
      },
      {
        "duration": 6262,
        "start_time": "2022-06-30T15:52:42.247Z"
      },
      {
        "duration": 16,
        "start_time": "2022-06-30T15:52:48.511Z"
      },
      {
        "duration": 66,
        "start_time": "2022-06-30T15:52:48.528Z"
      },
      {
        "duration": 1080,
        "start_time": "2022-06-30T15:53:31.832Z"
      },
      {
        "duration": 6,
        "start_time": "2022-06-30T15:54:11.902Z"
      },
      {
        "duration": 886,
        "start_time": "2022-06-30T15:54:15.818Z"
      },
      {
        "duration": 871,
        "start_time": "2022-06-30T15:54:51.649Z"
      },
      {
        "duration": 934,
        "start_time": "2022-06-30T15:55:21.576Z"
      },
      {
        "duration": 826,
        "start_time": "2022-06-30T15:55:34.820Z"
      },
      {
        "duration": 30,
        "start_time": "2022-06-30T16:21:29.980Z"
      },
      {
        "duration": 7,
        "start_time": "2022-06-30T16:21:50.713Z"
      },
      {
        "duration": 29,
        "start_time": "2022-06-30T16:21:52.078Z"
      },
      {
        "duration": 11,
        "start_time": "2022-06-30T16:22:00.734Z"
      },
      {
        "duration": 262,
        "start_time": "2022-06-30T16:22:01.268Z"
      },
      {
        "duration": 189,
        "start_time": "2022-06-30T16:22:11.639Z"
      },
      {
        "duration": 141,
        "start_time": "2022-06-30T16:23:05.894Z"
      },
      {
        "duration": 46,
        "start_time": "2022-06-30T16:23:49.869Z"
      },
      {
        "duration": 56,
        "start_time": "2022-06-30T16:23:53.983Z"
      },
      {
        "duration": 11,
        "start_time": "2022-06-30T16:24:01.396Z"
      },
      {
        "duration": 156,
        "start_time": "2022-06-30T16:24:12.373Z"
      },
      {
        "duration": 257,
        "start_time": "2022-06-30T16:24:19.472Z"
      },
      {
        "duration": 202,
        "start_time": "2022-06-30T16:24:44.529Z"
      },
      {
        "duration": 267,
        "start_time": "2022-06-30T16:24:50.761Z"
      },
      {
        "duration": 615,
        "start_time": "2022-06-30T16:25:30.325Z"
      },
      {
        "duration": 329,
        "start_time": "2022-06-30T16:25:36.942Z"
      },
      {
        "duration": 615,
        "start_time": "2022-06-30T16:26:17.752Z"
      },
      {
        "duration": 623,
        "start_time": "2022-06-30T16:26:22.841Z"
      },
      {
        "duration": 7,
        "start_time": "2022-06-30T16:26:29.794Z"
      },
      {
        "duration": 317,
        "start_time": "2022-06-30T16:26:46.755Z"
      },
      {
        "duration": 43,
        "start_time": "2022-06-30T16:26:56.526Z"
      },
      {
        "duration": 177,
        "start_time": "2022-06-30T16:27:04.990Z"
      },
      {
        "duration": 27,
        "start_time": "2022-06-30T16:27:38.196Z"
      },
      {
        "duration": 8,
        "start_time": "2022-06-30T16:28:23.242Z"
      },
      {
        "duration": 15,
        "start_time": "2022-06-30T16:28:25.707Z"
      },
      {
        "duration": 7,
        "start_time": "2022-06-30T16:28:40.169Z"
      },
      {
        "duration": 16,
        "start_time": "2022-06-30T16:28:41.078Z"
      },
      {
        "duration": 16,
        "start_time": "2022-06-30T16:29:45.554Z"
      },
      {
        "duration": 42,
        "start_time": "2022-06-30T16:32:27.322Z"
      },
      {
        "duration": 747,
        "start_time": "2022-06-30T16:32:59.912Z"
      },
      {
        "duration": 26,
        "start_time": "2022-06-30T16:33:07.675Z"
      },
      {
        "duration": 6,
        "start_time": "2022-06-30T16:33:11.173Z"
      },
      {
        "duration": 14,
        "start_time": "2022-06-30T16:33:24.042Z"
      },
      {
        "duration": 10,
        "start_time": "2022-06-30T16:35:26.217Z"
      },
      {
        "duration": 9,
        "start_time": "2022-06-30T16:36:19.766Z"
      },
      {
        "duration": 687,
        "start_time": "2022-06-30T16:36:30.717Z"
      },
      {
        "duration": 2661,
        "start_time": "2022-06-30T16:36:36.560Z"
      },
      {
        "duration": 55,
        "start_time": "2022-06-30T16:36:43.696Z"
      },
      {
        "duration": 41,
        "start_time": "2022-06-30T16:37:03.143Z"
      },
      {
        "duration": 10,
        "start_time": "2022-06-30T16:37:12.294Z"
      },
      {
        "duration": 429,
        "start_time": "2022-06-30T16:37:18.502Z"
      },
      {
        "duration": 601,
        "start_time": "2022-06-30T16:37:25.828Z"
      },
      {
        "duration": 10,
        "start_time": "2022-06-30T16:37:41.839Z"
      },
      {
        "duration": 10,
        "start_time": "2022-06-30T16:37:45.499Z"
      },
      {
        "duration": 317,
        "start_time": "2022-06-30T16:37:49.513Z"
      },
      {
        "duration": 49,
        "start_time": "2022-06-30T16:42:25.977Z"
      },
      {
        "duration": 60,
        "start_time": "2022-06-30T16:42:34.215Z"
      },
      {
        "duration": 1042,
        "start_time": "2022-06-30T16:43:02.487Z"
      },
      {
        "duration": 615,
        "start_time": "2022-06-30T16:44:41.644Z"
      },
      {
        "duration": 894,
        "start_time": "2022-06-30T16:44:46.938Z"
      },
      {
        "duration": 599,
        "start_time": "2022-06-30T18:32:15.131Z"
      },
      {
        "duration": 17,
        "start_time": "2022-06-30T18:32:15.732Z"
      },
      {
        "duration": 33,
        "start_time": "2022-06-30T18:32:15.750Z"
      },
      {
        "duration": 132,
        "start_time": "2022-06-30T18:32:15.785Z"
      },
      {
        "duration": 9,
        "start_time": "2022-06-30T18:32:15.919Z"
      },
      {
        "duration": 238,
        "start_time": "2022-06-30T18:32:15.930Z"
      },
      {
        "duration": 10,
        "start_time": "2022-06-30T18:32:16.170Z"
      },
      {
        "duration": 10,
        "start_time": "2022-06-30T18:32:16.181Z"
      },
      {
        "duration": 13,
        "start_time": "2022-06-30T18:32:16.193Z"
      },
      {
        "duration": 23,
        "start_time": "2022-06-30T18:32:16.207Z"
      },
      {
        "duration": 17,
        "start_time": "2022-06-30T18:32:16.232Z"
      },
      {
        "duration": 595,
        "start_time": "2022-06-30T18:33:02.146Z"
      },
      {
        "duration": 41,
        "start_time": "2022-06-30T18:33:02.742Z"
      },
      {
        "duration": 45,
        "start_time": "2022-06-30T18:33:02.784Z"
      },
      {
        "duration": 123,
        "start_time": "2022-06-30T18:33:02.831Z"
      },
      {
        "duration": 3,
        "start_time": "2022-06-30T18:33:02.956Z"
      },
      {
        "duration": 236,
        "start_time": "2022-06-30T18:33:02.960Z"
      },
      {
        "duration": 10,
        "start_time": "2022-06-30T18:33:03.198Z"
      },
      {
        "duration": 25,
        "start_time": "2022-06-30T18:33:03.209Z"
      },
      {
        "duration": 32,
        "start_time": "2022-06-30T18:33:03.235Z"
      },
      {
        "duration": 3,
        "start_time": "2022-06-30T18:33:03.269Z"
      },
      {
        "duration": 18,
        "start_time": "2022-06-30T18:33:03.274Z"
      },
      {
        "duration": 649,
        "start_time": "2022-06-30T18:35:04.653Z"
      },
      {
        "duration": 17,
        "start_time": "2022-06-30T18:35:10.891Z"
      },
      {
        "duration": 4,
        "start_time": "2022-06-30T18:35:29.184Z"
      },
      {
        "duration": 17,
        "start_time": "2022-06-30T18:35:31.550Z"
      },
      {
        "duration": 33,
        "start_time": "2022-06-30T18:36:07.500Z"
      },
      {
        "duration": 278,
        "start_time": "2022-06-30T18:37:11.576Z"
      },
      {
        "duration": 4,
        "start_time": "2022-06-30T18:37:28.894Z"
      },
      {
        "duration": 293,
        "start_time": "2022-06-30T18:37:33.863Z"
      },
      {
        "duration": 598,
        "start_time": "2022-06-30T18:38:07.451Z"
      },
      {
        "duration": 16,
        "start_time": "2022-06-30T18:38:08.051Z"
      },
      {
        "duration": 32,
        "start_time": "2022-06-30T18:38:08.069Z"
      },
      {
        "duration": 135,
        "start_time": "2022-06-30T18:38:08.103Z"
      },
      {
        "duration": 4,
        "start_time": "2022-06-30T18:38:08.240Z"
      },
      {
        "duration": 243,
        "start_time": "2022-06-30T18:38:08.245Z"
      },
      {
        "duration": 11,
        "start_time": "2022-06-30T18:38:08.490Z"
      },
      {
        "duration": 12,
        "start_time": "2022-06-30T18:38:08.503Z"
      },
      {
        "duration": 13,
        "start_time": "2022-06-30T18:38:08.527Z"
      },
      {
        "duration": 3,
        "start_time": "2022-06-30T18:38:08.542Z"
      },
      {
        "duration": 301,
        "start_time": "2022-06-30T18:38:08.546Z"
      },
      {
        "duration": 272,
        "start_time": "2022-06-30T18:38:53.157Z"
      },
      {
        "duration": 9,
        "start_time": "2022-06-30T18:39:17.888Z"
      },
      {
        "duration": 265,
        "start_time": "2022-06-30T18:39:26.887Z"
      },
      {
        "duration": 9,
        "start_time": "2022-06-30T18:39:27.788Z"
      },
      {
        "duration": 42,
        "start_time": "2022-06-30T18:40:13.366Z"
      },
      {
        "duration": 9,
        "start_time": "2022-06-30T18:40:16.129Z"
      },
      {
        "duration": 39,
        "start_time": "2022-06-30T18:41:23.817Z"
      },
      {
        "duration": 11,
        "start_time": "2022-06-30T18:41:26.784Z"
      },
      {
        "duration": 1044,
        "start_time": "2022-06-30T18:41:27.390Z"
      },
      {
        "duration": 587,
        "start_time": "2022-06-30T18:41:52.591Z"
      },
      {
        "duration": 16,
        "start_time": "2022-06-30T18:41:53.179Z"
      },
      {
        "duration": 42,
        "start_time": "2022-06-30T18:41:53.197Z"
      },
      {
        "duration": 140,
        "start_time": "2022-06-30T18:41:53.241Z"
      },
      {
        "duration": 3,
        "start_time": "2022-06-30T18:41:53.383Z"
      },
      {
        "duration": 231,
        "start_time": "2022-06-30T18:41:53.388Z"
      },
      {
        "duration": 13,
        "start_time": "2022-06-30T18:41:53.621Z"
      },
      {
        "duration": 8,
        "start_time": "2022-06-30T18:41:53.635Z"
      },
      {
        "duration": 19,
        "start_time": "2022-06-30T18:41:53.645Z"
      },
      {
        "duration": 3,
        "start_time": "2022-06-30T18:41:53.666Z"
      },
      {
        "duration": 19,
        "start_time": "2022-06-30T18:41:53.671Z"
      },
      {
        "duration": 294,
        "start_time": "2022-06-30T18:41:53.691Z"
      },
      {
        "duration": 4,
        "start_time": "2022-06-30T18:42:43.898Z"
      },
      {
        "duration": 10,
        "start_time": "2022-06-30T18:42:44.700Z"
      },
      {
        "duration": 294,
        "start_time": "2022-06-30T18:42:45.439Z"
      },
      {
        "duration": 70,
        "start_time": "2022-06-30T18:43:22.338Z"
      },
      {
        "duration": 3,
        "start_time": "2022-06-30T18:43:29.511Z"
      },
      {
        "duration": 839,
        "start_time": "2022-06-30T18:46:32.697Z"
      },
      {
        "duration": 633,
        "start_time": "2022-06-30T18:46:59.678Z"
      },
      {
        "duration": 24,
        "start_time": "2022-06-30T18:47:00.314Z"
      },
      {
        "duration": 76,
        "start_time": "2022-06-30T18:47:00.340Z"
      },
      {
        "duration": 135,
        "start_time": "2022-06-30T18:47:00.418Z"
      },
      {
        "duration": 4,
        "start_time": "2022-06-30T18:47:00.555Z"
      },
      {
        "duration": 271,
        "start_time": "2022-06-30T18:47:00.561Z"
      },
      {
        "duration": 10,
        "start_time": "2022-06-30T18:47:00.834Z"
      },
      {
        "duration": 14,
        "start_time": "2022-06-30T18:47:00.846Z"
      },
      {
        "duration": 75,
        "start_time": "2022-06-30T18:47:00.861Z"
      },
      {
        "duration": 994,
        "start_time": "2022-06-30T18:47:00.937Z"
      },
      {
        "duration": 23,
        "start_time": "2022-06-30T18:47:46.162Z"
      },
      {
        "duration": 1117,
        "start_time": "2022-06-30T18:48:42.013Z"
      },
      {
        "duration": 595,
        "start_time": "2022-06-30T18:48:56.755Z"
      },
      {
        "duration": 17,
        "start_time": "2022-06-30T18:48:57.352Z"
      },
      {
        "duration": 26,
        "start_time": "2022-06-30T18:48:57.371Z"
      },
      {
        "duration": 132,
        "start_time": "2022-06-30T18:48:57.399Z"
      },
      {
        "duration": 4,
        "start_time": "2022-06-30T18:48:57.533Z"
      },
      {
        "duration": 273,
        "start_time": "2022-06-30T18:48:57.539Z"
      },
      {
        "duration": 17,
        "start_time": "2022-06-30T18:48:57.814Z"
      },
      {
        "duration": 7,
        "start_time": "2022-06-30T18:48:57.833Z"
      },
      {
        "duration": 17,
        "start_time": "2022-06-30T18:48:57.842Z"
      },
      {
        "duration": 1170,
        "start_time": "2022-06-30T18:48:57.861Z"
      },
      {
        "duration": 898,
        "start_time": "2022-06-30T18:51:43.129Z"
      },
      {
        "duration": 1083,
        "start_time": "2022-06-30T18:51:57.848Z"
      },
      {
        "duration": 660,
        "start_time": "2022-06-30T18:52:16.962Z"
      },
      {
        "duration": 23,
        "start_time": "2022-06-30T18:52:17.624Z"
      },
      {
        "duration": 22,
        "start_time": "2022-06-30T18:52:17.648Z"
      },
      {
        "duration": 154,
        "start_time": "2022-06-30T18:52:17.672Z"
      },
      {
        "duration": 5,
        "start_time": "2022-06-30T18:52:17.829Z"
      },
      {
        "duration": 256,
        "start_time": "2022-06-30T18:52:17.836Z"
      },
      {
        "duration": 13,
        "start_time": "2022-06-30T18:52:18.093Z"
      },
      {
        "duration": 18,
        "start_time": "2022-06-30T18:52:18.108Z"
      },
      {
        "duration": 26,
        "start_time": "2022-06-30T18:52:18.128Z"
      },
      {
        "duration": 971,
        "start_time": "2022-06-30T18:52:18.157Z"
      },
      {
        "duration": 11,
        "start_time": "2022-06-30T19:07:37.109Z"
      },
      {
        "duration": 256899,
        "start_time": "2022-06-30T19:07:52.159Z"
      },
      {
        "duration": 14,
        "start_time": "2022-06-30T19:12:27.860Z"
      },
      {
        "duration": 198,
        "start_time": "2022-06-30T19:13:39.632Z"
      },
      {
        "duration": 229,
        "start_time": "2022-06-30T19:15:17.167Z"
      },
      {
        "duration": 202,
        "start_time": "2022-06-30T19:16:07.957Z"
      },
      {
        "duration": 194,
        "start_time": "2022-06-30T19:16:16.049Z"
      },
      {
        "duration": 156,
        "start_time": "2022-06-30T19:16:40.717Z"
      },
      {
        "duration": 265,
        "start_time": "2022-06-30T19:16:46.614Z"
      },
      {
        "duration": 223,
        "start_time": "2022-06-30T19:19:55.641Z"
      },
      {
        "duration": 256,
        "start_time": "2022-06-30T19:20:13.237Z"
      },
      {
        "duration": 245,
        "start_time": "2022-06-30T19:21:25.038Z"
      },
      {
        "duration": 277,
        "start_time": "2022-06-30T19:24:31.485Z"
      },
      {
        "duration": 34,
        "start_time": "2022-06-30T19:24:37.099Z"
      },
      {
        "duration": 258,
        "start_time": "2022-06-30T19:24:44.799Z"
      },
      {
        "duration": 93,
        "start_time": "2022-06-30T19:24:52.331Z"
      },
      {
        "duration": 259,
        "start_time": "2022-06-30T19:24:56.024Z"
      },
      {
        "duration": 45,
        "start_time": "2022-06-30T19:25:10.969Z"
      },
      {
        "duration": 252,
        "start_time": "2022-06-30T19:25:19.219Z"
      },
      {
        "duration": 632,
        "start_time": "2022-06-30T19:25:29.337Z"
      },
      {
        "duration": 18,
        "start_time": "2022-06-30T19:25:29.971Z"
      },
      {
        "duration": 36,
        "start_time": "2022-06-30T19:25:29.990Z"
      },
      {
        "duration": 141,
        "start_time": "2022-06-30T19:25:30.029Z"
      },
      {
        "duration": 4,
        "start_time": "2022-06-30T19:25:30.172Z"
      },
      {
        "duration": 230,
        "start_time": "2022-06-30T19:25:30.178Z"
      },
      {
        "duration": 18,
        "start_time": "2022-06-30T19:25:30.411Z"
      },
      {
        "duration": 8,
        "start_time": "2022-06-30T19:25:30.431Z"
      },
      {
        "duration": 24,
        "start_time": "2022-06-30T19:25:30.441Z"
      },
      {
        "duration": 1059,
        "start_time": "2022-06-30T19:25:30.468Z"
      },
      {
        "duration": 386,
        "start_time": "2022-06-30T19:25:31.530Z"
      },
      {
        "duration": 230,
        "start_time": "2022-06-30T19:25:31.918Z"
      },
      {
        "duration": 255,
        "start_time": "2022-06-30T19:25:32.150Z"
      },
      {
        "duration": 243,
        "start_time": "2022-06-30T19:25:43.900Z"
      },
      {
        "duration": 239,
        "start_time": "2022-06-30T19:25:58.489Z"
      },
      {
        "duration": 221,
        "start_time": "2022-06-30T19:26:09.301Z"
      },
      {
        "duration": 236,
        "start_time": "2022-06-30T19:26:15.407Z"
      },
      {
        "duration": 240,
        "start_time": "2022-06-30T19:28:03.353Z"
      },
      {
        "duration": 254,
        "start_time": "2022-06-30T19:28:18.022Z"
      },
      {
        "duration": 262,
        "start_time": "2022-06-30T19:28:26.304Z"
      },
      {
        "duration": 3514,
        "start_time": "2022-07-01T18:47:20.814Z"
      },
      {
        "duration": 19,
        "start_time": "2022-07-01T18:47:24.337Z"
      },
      {
        "duration": 25,
        "start_time": "2022-07-01T18:47:24.358Z"
      },
      {
        "duration": 127,
        "start_time": "2022-07-01T18:47:24.385Z"
      },
      {
        "duration": 3,
        "start_time": "2022-07-01T18:47:24.514Z"
      },
      {
        "duration": 267,
        "start_time": "2022-07-01T18:47:24.532Z"
      },
      {
        "duration": 12,
        "start_time": "2022-07-01T18:47:24.801Z"
      },
      {
        "duration": 22,
        "start_time": "2022-07-01T18:47:24.814Z"
      },
      {
        "duration": 22,
        "start_time": "2022-07-01T18:47:24.838Z"
      },
      {
        "duration": 1474,
        "start_time": "2022-07-01T18:47:24.862Z"
      },
      {
        "duration": 388,
        "start_time": "2022-07-01T18:47:26.338Z"
      },
      {
        "duration": 222,
        "start_time": "2022-07-01T18:47:26.728Z"
      },
      {
        "duration": 237,
        "start_time": "2022-07-01T18:47:26.952Z"
      },
      {
        "duration": 213,
        "start_time": "2022-07-01T18:47:27.191Z"
      },
      {
        "duration": 325,
        "start_time": "2022-07-01T18:48:01.707Z"
      },
      {
        "duration": 218,
        "start_time": "2022-07-01T18:48:36.336Z"
      },
      {
        "duration": 67,
        "start_time": "2022-07-01T19:00:51.925Z"
      },
      {
        "duration": 117,
        "start_time": "2022-07-01T19:00:57.352Z"
      },
      {
        "duration": 8,
        "start_time": "2022-07-01T19:01:20.743Z"
      },
      {
        "duration": 9,
        "start_time": "2022-07-01T19:02:28.006Z"
      },
      {
        "duration": 9,
        "start_time": "2022-07-01T19:03:19.061Z"
      },
      {
        "duration": 1058,
        "start_time": "2022-07-01T19:04:54.481Z"
      },
      {
        "duration": 257,
        "start_time": "2022-07-01T19:06:27.537Z"
      },
      {
        "duration": 236,
        "start_time": "2022-07-01T19:06:41.033Z"
      },
      {
        "duration": 250,
        "start_time": "2022-07-01T19:06:53.687Z"
      },
      {
        "duration": 225,
        "start_time": "2022-07-01T19:07:00.153Z"
      },
      {
        "duration": 348,
        "start_time": "2022-07-01T19:18:53.513Z"
      },
      {
        "duration": 481,
        "start_time": "2022-07-01T19:19:01.750Z"
      },
      {
        "duration": 899,
        "start_time": "2022-07-01T19:19:11.011Z"
      },
      {
        "duration": 669,
        "start_time": "2022-07-01T19:19:46.124Z"
      },
      {
        "duration": 869,
        "start_time": "2022-07-01T19:20:03.371Z"
      },
      {
        "duration": 1005,
        "start_time": "2022-07-01T19:21:08.958Z"
      },
      {
        "duration": 1064,
        "start_time": "2022-07-01T19:21:58.820Z"
      },
      {
        "duration": 77,
        "start_time": "2022-07-01T19:25:51.994Z"
      },
      {
        "duration": 62,
        "start_time": "2022-07-01T19:25:56.946Z"
      },
      {
        "duration": 57,
        "start_time": "2022-07-01T19:25:59.474Z"
      },
      {
        "duration": 7,
        "start_time": "2022-07-01T19:26:10.926Z"
      },
      {
        "duration": 81,
        "start_time": "2022-07-01T19:26:48.812Z"
      },
      {
        "duration": 93,
        "start_time": "2022-07-01T19:27:09.199Z"
      },
      {
        "duration": 4,
        "start_time": "2022-07-01T19:27:18.666Z"
      },
      {
        "duration": 4,
        "start_time": "2022-07-01T19:27:32.171Z"
      },
      {
        "duration": 777,
        "start_time": "2022-07-01T19:28:31.814Z"
      },
      {
        "duration": 880,
        "start_time": "2022-07-01T19:28:53.157Z"
      },
      {
        "duration": 730,
        "start_time": "2022-07-01T19:29:13.311Z"
      },
      {
        "duration": 736,
        "start_time": "2022-07-01T19:30:36.012Z"
      },
      {
        "duration": 568,
        "start_time": "2022-07-01T19:30:49.298Z"
      },
      {
        "duration": 599,
        "start_time": "2022-07-01T19:31:09.663Z"
      },
      {
        "duration": 547,
        "start_time": "2022-07-01T19:31:15.489Z"
      },
      {
        "duration": 4,
        "start_time": "2022-07-01T19:39:16.076Z"
      },
      {
        "duration": 15,
        "start_time": "2022-07-01T19:39:48.721Z"
      },
      {
        "duration": 13,
        "start_time": "2022-07-01T19:40:32.281Z"
      },
      {
        "duration": 12,
        "start_time": "2022-07-01T19:40:59.973Z"
      },
      {
        "duration": 14,
        "start_time": "2022-07-01T19:41:09.097Z"
      },
      {
        "duration": 4,
        "start_time": "2022-07-01T19:41:21.367Z"
      },
      {
        "duration": 13,
        "start_time": "2022-07-01T19:41:21.784Z"
      },
      {
        "duration": 7,
        "start_time": "2022-07-01T19:43:19.925Z"
      },
      {
        "duration": 572,
        "start_time": "2022-07-01T19:43:23.746Z"
      },
      {
        "duration": 4,
        "start_time": "2022-07-01T19:46:16.969Z"
      },
      {
        "duration": 512,
        "start_time": "2022-07-01T19:46:27.077Z"
      },
      {
        "duration": 6,
        "start_time": "2022-07-01T19:46:54.832Z"
      },
      {
        "duration": 486,
        "start_time": "2022-07-01T19:46:57.323Z"
      },
      {
        "duration": 4,
        "start_time": "2022-07-01T19:47:08.482Z"
      },
      {
        "duration": 488,
        "start_time": "2022-07-01T19:47:12.175Z"
      },
      {
        "duration": 4,
        "start_time": "2022-07-01T19:47:30.394Z"
      },
      {
        "duration": 657,
        "start_time": "2022-07-01T19:47:30.833Z"
      },
      {
        "duration": 668,
        "start_time": "2022-07-01T19:48:28.442Z"
      },
      {
        "duration": 5,
        "start_time": "2022-07-01T19:51:32.201Z"
      },
      {
        "duration": 502,
        "start_time": "2022-07-01T19:51:32.579Z"
      },
      {
        "duration": 610,
        "start_time": "2022-07-01T19:51:34.436Z"
      },
      {
        "duration": 49,
        "start_time": "2022-07-01T19:52:55.073Z"
      },
      {
        "duration": 6,
        "start_time": "2022-07-01T19:53:08.284Z"
      },
      {
        "duration": 519,
        "start_time": "2022-07-01T19:53:16.782Z"
      },
      {
        "duration": 493,
        "start_time": "2022-07-01T19:53:28.091Z"
      },
      {
        "duration": 505,
        "start_time": "2022-07-01T19:54:14.842Z"
      },
      {
        "duration": 597,
        "start_time": "2022-07-01T19:54:33.702Z"
      },
      {
        "duration": 482,
        "start_time": "2022-07-01T19:54:40.717Z"
      },
      {
        "duration": 499,
        "start_time": "2022-07-01T19:55:44.642Z"
      },
      {
        "duration": 135,
        "start_time": "2022-07-01T19:56:18.310Z"
      },
      {
        "duration": 496,
        "start_time": "2022-07-01T19:56:24.973Z"
      },
      {
        "duration": 620,
        "start_time": "2022-07-01T19:56:33.451Z"
      },
      {
        "duration": 52,
        "start_time": "2022-07-01T19:58:47.726Z"
      },
      {
        "duration": 5,
        "start_time": "2022-07-01T19:58:51.572Z"
      },
      {
        "duration": 427,
        "start_time": "2022-07-01T19:58:52.920Z"
      },
      {
        "duration": 441,
        "start_time": "2022-07-01T19:58:57.209Z"
      },
      {
        "duration": 550,
        "start_time": "2022-07-01T19:59:03.510Z"
      },
      {
        "duration": 536,
        "start_time": "2022-07-01T19:59:11.311Z"
      },
      {
        "duration": 4,
        "start_time": "2022-07-01T20:01:58.681Z"
      },
      {
        "duration": 475,
        "start_time": "2022-07-01T20:01:59.456Z"
      },
      {
        "duration": 472,
        "start_time": "2022-07-01T20:02:01.673Z"
      },
      {
        "duration": 6,
        "start_time": "2022-07-01T20:02:47.471Z"
      },
      {
        "duration": 602,
        "start_time": "2022-07-01T20:02:49.019Z"
      },
      {
        "duration": 5,
        "start_time": "2022-07-01T20:02:58.983Z"
      },
      {
        "duration": 400,
        "start_time": "2022-07-01T20:02:59.701Z"
      },
      {
        "duration": 397,
        "start_time": "2022-07-01T20:03:02.991Z"
      },
      {
        "duration": 733,
        "start_time": "2022-07-01T20:03:38.131Z"
      },
      {
        "duration": 611,
        "start_time": "2022-07-01T20:03:46.802Z"
      },
      {
        "duration": 760,
        "start_time": "2022-07-01T20:03:59.071Z"
      },
      {
        "duration": 55,
        "start_time": "2022-07-02T20:08:59.920Z"
      },
      {
        "duration": 3497,
        "start_time": "2022-07-02T20:09:05.212Z"
      },
      {
        "duration": 30,
        "start_time": "2022-07-02T20:09:08.711Z"
      },
      {
        "duration": 33,
        "start_time": "2022-07-02T20:09:08.743Z"
      },
      {
        "duration": 131,
        "start_time": "2022-07-02T20:09:08.778Z"
      },
      {
        "duration": 3,
        "start_time": "2022-07-02T20:09:08.911Z"
      },
      {
        "duration": 283,
        "start_time": "2022-07-02T20:09:08.915Z"
      },
      {
        "duration": 13,
        "start_time": "2022-07-02T20:09:09.200Z"
      },
      {
        "duration": 19,
        "start_time": "2022-07-02T20:09:09.214Z"
      },
      {
        "duration": 21,
        "start_time": "2022-07-02T20:09:09.234Z"
      },
      {
        "duration": 1694,
        "start_time": "2022-07-02T20:09:09.257Z"
      },
      {
        "duration": 74,
        "start_time": "2022-07-02T20:09:10.953Z"
      },
      {
        "duration": 856,
        "start_time": "2022-07-02T20:09:11.030Z"
      },
      {
        "duration": 630,
        "start_time": "2022-07-02T20:09:11.888Z"
      },
      {
        "duration": 655,
        "start_time": "2022-07-02T20:09:12.519Z"
      },
      {
        "duration": 4,
        "start_time": "2022-07-02T20:09:13.176Z"
      },
      {
        "duration": 93,
        "start_time": "2022-07-02T20:09:13.182Z"
      },
      {
        "duration": 0,
        "start_time": "2022-07-02T20:09:13.278Z"
      },
      {
        "duration": 0,
        "start_time": "2022-07-02T20:09:13.279Z"
      },
      {
        "duration": 5,
        "start_time": "2022-07-02T20:09:57.739Z"
      },
      {
        "duration": 389,
        "start_time": "2022-07-02T20:10:02.611Z"
      },
      {
        "duration": 4,
        "start_time": "2022-07-02T20:10:14.149Z"
      },
      {
        "duration": 413,
        "start_time": "2022-07-02T20:10:14.800Z"
      },
      {
        "duration": 391,
        "start_time": "2022-07-02T20:10:29.970Z"
      },
      {
        "duration": 812,
        "start_time": "2022-07-02T20:10:35.351Z"
      },
      {
        "duration": 744,
        "start_time": "2022-07-02T20:12:07.688Z"
      },
      {
        "duration": 639,
        "start_time": "2022-07-02T20:12:59.173Z"
      },
      {
        "duration": 4,
        "start_time": "2022-07-02T20:14:19.968Z"
      },
      {
        "duration": 476,
        "start_time": "2022-07-02T20:14:23.489Z"
      },
      {
        "duration": 5,
        "start_time": "2022-07-02T20:16:05.463Z"
      },
      {
        "duration": 670,
        "start_time": "2022-07-02T20:16:06.939Z"
      },
      {
        "duration": 533,
        "start_time": "2022-07-02T20:16:10.612Z"
      },
      {
        "duration": 4075,
        "start_time": "2022-07-03T17:40:58.375Z"
      },
      {
        "duration": 32,
        "start_time": "2022-07-03T17:41:02.457Z"
      },
      {
        "duration": 42,
        "start_time": "2022-07-03T17:41:02.492Z"
      },
      {
        "duration": 182,
        "start_time": "2022-07-03T17:41:02.536Z"
      },
      {
        "duration": 4,
        "start_time": "2022-07-03T17:41:02.721Z"
      },
      {
        "duration": 354,
        "start_time": "2022-07-03T17:41:02.726Z"
      },
      {
        "duration": 13,
        "start_time": "2022-07-03T17:41:03.083Z"
      },
      {
        "duration": 15,
        "start_time": "2022-07-03T17:41:03.098Z"
      },
      {
        "duration": 81,
        "start_time": "2022-07-03T17:41:03.114Z"
      },
      {
        "duration": 50,
        "start_time": "2022-07-03T17:41:03.197Z"
      },
      {
        "duration": 0,
        "start_time": "2022-07-03T17:41:03.250Z"
      },
      {
        "duration": 0,
        "start_time": "2022-07-03T17:41:03.251Z"
      },
      {
        "duration": 0,
        "start_time": "2022-07-03T17:41:03.256Z"
      },
      {
        "duration": 0,
        "start_time": "2022-07-03T17:41:03.257Z"
      },
      {
        "duration": 0,
        "start_time": "2022-07-03T17:41:03.259Z"
      },
      {
        "duration": 0,
        "start_time": "2022-07-03T17:41:03.260Z"
      },
      {
        "duration": 0,
        "start_time": "2022-07-03T17:41:03.262Z"
      },
      {
        "duration": 0,
        "start_time": "2022-07-03T17:41:03.264Z"
      },
      {
        "duration": 0,
        "start_time": "2022-07-03T17:41:03.265Z"
      },
      {
        "duration": 9,
        "start_time": "2022-07-03T17:41:10.295Z"
      },
      {
        "duration": 119,
        "start_time": "2022-07-03T17:41:21.598Z"
      },
      {
        "duration": 10,
        "start_time": "2022-07-03T17:41:25.717Z"
      },
      {
        "duration": 1670,
        "start_time": "2022-07-03T17:41:49.484Z"
      },
      {
        "duration": 13,
        "start_time": "2022-07-03T17:42:02.247Z"
      },
      {
        "duration": 1948,
        "start_time": "2022-07-03T17:42:12.013Z"
      },
      {
        "duration": 2189,
        "start_time": "2022-07-03T17:42:28.796Z"
      },
      {
        "duration": 785,
        "start_time": "2022-07-03T17:47:48.722Z"
      },
      {
        "duration": 15,
        "start_time": "2022-07-03T17:47:49.509Z"
      },
      {
        "duration": 19,
        "start_time": "2022-07-03T17:47:49.525Z"
      },
      {
        "duration": 129,
        "start_time": "2022-07-03T17:47:49.546Z"
      },
      {
        "duration": 4,
        "start_time": "2022-07-03T17:47:49.678Z"
      },
      {
        "duration": 329,
        "start_time": "2022-07-03T17:47:49.690Z"
      },
      {
        "duration": 12,
        "start_time": "2022-07-03T17:47:50.020Z"
      },
      {
        "duration": 11,
        "start_time": "2022-07-03T17:47:50.034Z"
      },
      {
        "duration": 51,
        "start_time": "2022-07-03T17:47:50.046Z"
      },
      {
        "duration": 6,
        "start_time": "2022-07-03T17:47:50.100Z"
      },
      {
        "duration": 2382,
        "start_time": "2022-07-03T17:47:50.108Z"
      },
      {
        "duration": 2010,
        "start_time": "2022-07-03T17:47:52.579Z"
      },
      {
        "duration": 4,
        "start_time": "2022-07-03T17:47:54.596Z"
      },
      {
        "duration": 1012,
        "start_time": "2022-07-03T17:47:54.601Z"
      },
      {
        "duration": 760,
        "start_time": "2022-07-03T17:47:55.615Z"
      },
      {
        "duration": 859,
        "start_time": "2022-07-03T17:47:56.377Z"
      },
      {
        "duration": 4,
        "start_time": "2022-07-03T17:47:57.238Z"
      },
      {
        "duration": 705,
        "start_time": "2022-07-03T17:47:57.243Z"
      },
      {
        "duration": 658,
        "start_time": "2022-07-03T17:47:57.950Z"
      },
      {
        "duration": 804,
        "start_time": "2022-07-03T17:47:58.610Z"
      },
      {
        "duration": 83,
        "start_time": "2022-07-03T17:47:59.416Z"
      },
      {
        "duration": 249,
        "start_time": "2022-07-03T17:48:07.179Z"
      },
      {
        "duration": 7,
        "start_time": "2022-07-03T17:48:20.694Z"
      },
      {
        "duration": 978,
        "start_time": "2022-07-03T18:03:37.990Z"
      },
      {
        "duration": 557,
        "start_time": "2022-07-03T18:06:34.378Z"
      },
      {
        "duration": 988,
        "start_time": "2022-07-03T18:07:31.724Z"
      },
      {
        "duration": 857,
        "start_time": "2022-07-03T18:18:14.002Z"
      },
      {
        "duration": 27,
        "start_time": "2022-07-03T18:18:14.861Z"
      },
      {
        "duration": 52,
        "start_time": "2022-07-03T18:18:14.890Z"
      },
      {
        "duration": 179,
        "start_time": "2022-07-03T18:18:14.944Z"
      },
      {
        "duration": 4,
        "start_time": "2022-07-03T18:18:15.127Z"
      },
      {
        "duration": 395,
        "start_time": "2022-07-03T18:18:15.134Z"
      },
      {
        "duration": 17,
        "start_time": "2022-07-03T18:18:15.531Z"
      },
      {
        "duration": 83,
        "start_time": "2022-07-03T18:18:15.551Z"
      },
      {
        "duration": 27,
        "start_time": "2022-07-03T18:18:15.637Z"
      },
      {
        "duration": 65,
        "start_time": "2022-07-03T18:18:15.669Z"
      },
      {
        "duration": 2136,
        "start_time": "2022-07-03T18:18:15.737Z"
      },
      {
        "duration": 1874,
        "start_time": "2022-07-03T18:18:17.889Z"
      },
      {
        "duration": 85,
        "start_time": "2022-07-03T18:18:19.787Z"
      },
      {
        "duration": 0,
        "start_time": "2022-07-03T18:18:19.881Z"
      },
      {
        "duration": 0,
        "start_time": "2022-07-03T18:18:19.886Z"
      },
      {
        "duration": 0,
        "start_time": "2022-07-03T18:18:19.891Z"
      },
      {
        "duration": 0,
        "start_time": "2022-07-03T18:18:19.897Z"
      },
      {
        "duration": 0,
        "start_time": "2022-07-03T18:18:19.903Z"
      },
      {
        "duration": 0,
        "start_time": "2022-07-03T18:18:19.905Z"
      },
      {
        "duration": 0,
        "start_time": "2022-07-03T18:18:19.909Z"
      },
      {
        "duration": 0,
        "start_time": "2022-07-03T18:18:19.910Z"
      },
      {
        "duration": 0,
        "start_time": "2022-07-03T18:18:19.912Z"
      },
      {
        "duration": 0,
        "start_time": "2022-07-03T18:18:19.913Z"
      },
      {
        "duration": 88,
        "start_time": "2022-07-03T18:18:59.732Z"
      },
      {
        "duration": 4,
        "start_time": "2022-07-03T18:19:06.205Z"
      },
      {
        "duration": 3234,
        "start_time": "2022-07-03T18:20:19.075Z"
      },
      {
        "duration": 855,
        "start_time": "2022-07-03T18:20:34.596Z"
      },
      {
        "duration": 32,
        "start_time": "2022-07-03T18:20:35.460Z"
      },
      {
        "duration": 34,
        "start_time": "2022-07-03T18:20:35.500Z"
      },
      {
        "duration": 167,
        "start_time": "2022-07-03T18:20:35.537Z"
      },
      {
        "duration": 6,
        "start_time": "2022-07-03T18:20:35.706Z"
      },
      {
        "duration": 294,
        "start_time": "2022-07-03T18:20:35.714Z"
      },
      {
        "duration": 11,
        "start_time": "2022-07-03T18:20:36.010Z"
      },
      {
        "duration": 7,
        "start_time": "2022-07-03T18:20:36.023Z"
      },
      {
        "duration": 31,
        "start_time": "2022-07-03T18:20:36.032Z"
      },
      {
        "duration": 24,
        "start_time": "2022-07-03T18:20:36.066Z"
      },
      {
        "duration": 2269,
        "start_time": "2022-07-03T18:20:36.092Z"
      },
      {
        "duration": 2399,
        "start_time": "2022-07-03T18:20:38.375Z"
      },
      {
        "duration": 113,
        "start_time": "2022-07-03T18:20:40.803Z"
      },
      {
        "duration": 0,
        "start_time": "2022-07-03T18:20:40.918Z"
      },
      {
        "duration": 0,
        "start_time": "2022-07-03T18:20:40.920Z"
      },
      {
        "duration": 0,
        "start_time": "2022-07-03T18:20:40.921Z"
      },
      {
        "duration": 0,
        "start_time": "2022-07-03T18:20:40.923Z"
      },
      {
        "duration": 0,
        "start_time": "2022-07-03T18:20:40.924Z"
      },
      {
        "duration": 0,
        "start_time": "2022-07-03T18:20:40.925Z"
      },
      {
        "duration": 0,
        "start_time": "2022-07-03T18:20:40.926Z"
      },
      {
        "duration": 0,
        "start_time": "2022-07-03T18:20:40.927Z"
      },
      {
        "duration": 0,
        "start_time": "2022-07-03T18:20:40.928Z"
      },
      {
        "duration": 0,
        "start_time": "2022-07-03T18:20:40.929Z"
      },
      {
        "duration": 0,
        "start_time": "2022-07-03T18:20:40.930Z"
      },
      {
        "duration": 3,
        "start_time": "2022-07-03T18:21:07.102Z"
      },
      {
        "duration": 886,
        "start_time": "2022-07-03T18:21:13.435Z"
      },
      {
        "duration": 16,
        "start_time": "2022-07-03T18:21:14.322Z"
      },
      {
        "duration": 45,
        "start_time": "2022-07-03T18:21:14.340Z"
      },
      {
        "duration": 149,
        "start_time": "2022-07-03T18:21:14.388Z"
      },
      {
        "duration": 3,
        "start_time": "2022-07-03T18:21:14.539Z"
      },
      {
        "duration": 310,
        "start_time": "2022-07-03T18:21:14.544Z"
      },
      {
        "duration": 13,
        "start_time": "2022-07-03T18:21:14.856Z"
      },
      {
        "duration": 36,
        "start_time": "2022-07-03T18:21:14.871Z"
      },
      {
        "duration": 12,
        "start_time": "2022-07-03T18:21:14.909Z"
      },
      {
        "duration": 6,
        "start_time": "2022-07-03T18:21:14.925Z"
      },
      {
        "duration": 2064,
        "start_time": "2022-07-03T18:21:14.933Z"
      },
      {
        "duration": 2293,
        "start_time": "2022-07-03T18:21:16.999Z"
      },
      {
        "duration": 6,
        "start_time": "2022-07-03T18:21:19.298Z"
      },
      {
        "duration": 11,
        "start_time": "2022-07-03T18:21:19.306Z"
      },
      {
        "duration": 965,
        "start_time": "2022-07-03T18:21:19.351Z"
      },
      {
        "duration": 907,
        "start_time": "2022-07-03T18:21:20.319Z"
      },
      {
        "duration": 899,
        "start_time": "2022-07-03T18:21:21.228Z"
      },
      {
        "duration": 5,
        "start_time": "2022-07-03T18:21:22.129Z"
      },
      {
        "duration": 709,
        "start_time": "2022-07-03T18:21:22.136Z"
      },
      {
        "duration": 732,
        "start_time": "2022-07-03T18:21:22.848Z"
      },
      {
        "duration": 775,
        "start_time": "2022-07-03T18:21:23.582Z"
      },
      {
        "duration": 12,
        "start_time": "2022-07-03T18:21:24.359Z"
      },
      {
        "duration": 31,
        "start_time": "2022-07-03T18:21:24.380Z"
      },
      {
        "duration": 454,
        "start_time": "2022-07-03T18:21:24.413Z"
      },
      {
        "duration": 10,
        "start_time": "2022-07-03T18:22:08.474Z"
      },
      {
        "duration": 457,
        "start_time": "2022-07-03T18:22:10.677Z"
      },
      {
        "duration": 381,
        "start_time": "2022-07-03T18:24:51.481Z"
      },
      {
        "duration": 9,
        "start_time": "2022-07-03T18:25:10.600Z"
      },
      {
        "duration": 13,
        "start_time": "2022-07-03T18:26:55.422Z"
      },
      {
        "duration": 81,
        "start_time": "2022-07-03T18:27:04.626Z"
      },
      {
        "duration": 371,
        "start_time": "2022-07-03T18:28:06.280Z"
      },
      {
        "duration": 10,
        "start_time": "2022-07-03T18:28:06.817Z"
      },
      {
        "duration": 798,
        "start_time": "2022-07-03T18:28:13.897Z"
      },
      {
        "duration": 21,
        "start_time": "2022-07-03T18:28:14.697Z"
      },
      {
        "duration": 22,
        "start_time": "2022-07-03T18:28:14.721Z"
      },
      {
        "duration": 151,
        "start_time": "2022-07-03T18:28:14.753Z"
      },
      {
        "duration": 4,
        "start_time": "2022-07-03T18:28:14.907Z"
      },
      {
        "duration": 291,
        "start_time": "2022-07-03T18:28:14.913Z"
      },
      {
        "duration": 14,
        "start_time": "2022-07-03T18:28:15.207Z"
      },
      {
        "duration": 19,
        "start_time": "2022-07-03T18:28:15.223Z"
      },
      {
        "duration": 21,
        "start_time": "2022-07-03T18:28:15.254Z"
      },
      {
        "duration": 26,
        "start_time": "2022-07-03T18:28:15.277Z"
      },
      {
        "duration": 2261,
        "start_time": "2022-07-03T18:28:15.307Z"
      },
      {
        "duration": 1799,
        "start_time": "2022-07-03T18:28:17.598Z"
      },
      {
        "duration": 6,
        "start_time": "2022-07-03T18:28:19.400Z"
      },
      {
        "duration": 48,
        "start_time": "2022-07-03T18:28:19.410Z"
      },
      {
        "duration": 1129,
        "start_time": "2022-07-03T18:28:19.461Z"
      },
      {
        "duration": 816,
        "start_time": "2022-07-03T18:28:20.593Z"
      },
      {
        "duration": 880,
        "start_time": "2022-07-03T18:28:21.411Z"
      },
      {
        "duration": 6,
        "start_time": "2022-07-03T18:28:22.293Z"
      },
      {
        "duration": 771,
        "start_time": "2022-07-03T18:28:22.301Z"
      },
      {
        "duration": 594,
        "start_time": "2022-07-03T18:28:23.075Z"
      },
      {
        "duration": 768,
        "start_time": "2022-07-03T18:28:23.671Z"
      },
      {
        "duration": 4,
        "start_time": "2022-07-03T18:28:24.441Z"
      },
      {
        "duration": 562,
        "start_time": "2022-07-03T18:28:24.447Z"
      },
      {
        "duration": 9,
        "start_time": "2022-07-03T18:28:25.011Z"
      },
      {
        "duration": 80,
        "start_time": "2022-07-03T18:28:25.021Z"
      },
      {
        "duration": 381,
        "start_time": "2022-07-03T18:28:25.103Z"
      },
      {
        "duration": 0,
        "start_time": "2022-07-03T18:28:25.486Z"
      },
      {
        "duration": 0,
        "start_time": "2022-07-03T18:28:25.488Z"
      },
      {
        "duration": 302,
        "start_time": "2022-07-03T18:29:23.201Z"
      },
      {
        "duration": 13,
        "start_time": "2022-07-03T18:29:24.079Z"
      },
      {
        "duration": 346,
        "start_time": "2022-07-03T18:29:33.523Z"
      },
      {
        "duration": 10,
        "start_time": "2022-07-03T18:29:34.437Z"
      },
      {
        "duration": 361,
        "start_time": "2022-07-03T18:29:37.321Z"
      },
      {
        "duration": 9,
        "start_time": "2022-07-03T18:29:37.711Z"
      },
      {
        "duration": 736,
        "start_time": "2022-07-03T18:29:40.675Z"
      },
      {
        "duration": 17,
        "start_time": "2022-07-03T18:29:41.413Z"
      },
      {
        "duration": 40,
        "start_time": "2022-07-03T18:29:41.432Z"
      },
      {
        "duration": 182,
        "start_time": "2022-07-03T18:29:41.475Z"
      },
      {
        "duration": 10,
        "start_time": "2022-07-03T18:29:41.660Z"
      },
      {
        "duration": 326,
        "start_time": "2022-07-03T18:29:41.673Z"
      },
      {
        "duration": 13,
        "start_time": "2022-07-03T18:29:42.001Z"
      },
      {
        "duration": 14,
        "start_time": "2022-07-03T18:29:42.016Z"
      },
      {
        "duration": 11,
        "start_time": "2022-07-03T18:29:42.032Z"
      },
      {
        "duration": 9,
        "start_time": "2022-07-03T18:29:42.045Z"
      },
      {
        "duration": 2012,
        "start_time": "2022-07-03T18:29:42.056Z"
      },
      {
        "duration": 2104,
        "start_time": "2022-07-03T18:29:44.076Z"
      },
      {
        "duration": 66,
        "start_time": "2022-07-03T18:29:46.197Z"
      },
      {
        "duration": 34,
        "start_time": "2022-07-03T18:29:46.277Z"
      },
      {
        "duration": 837,
        "start_time": "2022-07-03T18:29:46.313Z"
      },
      {
        "duration": 825,
        "start_time": "2022-07-03T18:29:47.161Z"
      },
      {
        "duration": 950,
        "start_time": "2022-07-03T18:29:47.996Z"
      },
      {
        "duration": 7,
        "start_time": "2022-07-03T18:29:48.948Z"
      },
      {
        "duration": 655,
        "start_time": "2022-07-03T18:29:48.956Z"
      },
      {
        "duration": 606,
        "start_time": "2022-07-03T18:29:49.613Z"
      },
      {
        "duration": 1012,
        "start_time": "2022-07-03T18:29:50.220Z"
      },
      {
        "duration": 4,
        "start_time": "2022-07-03T18:29:51.234Z"
      },
      {
        "duration": 382,
        "start_time": "2022-07-03T18:29:51.239Z"
      },
      {
        "duration": 9,
        "start_time": "2022-07-03T18:29:51.623Z"
      },
      {
        "duration": 80,
        "start_time": "2022-07-03T18:29:51.633Z"
      },
      {
        "duration": 424,
        "start_time": "2022-07-03T18:29:51.715Z"
      },
      {
        "duration": 0,
        "start_time": "2022-07-03T18:29:52.142Z"
      },
      {
        "duration": 0,
        "start_time": "2022-07-03T18:29:52.143Z"
      },
      {
        "duration": 362,
        "start_time": "2022-07-03T18:32:15.152Z"
      },
      {
        "duration": 330,
        "start_time": "2022-07-03T18:32:30.780Z"
      },
      {
        "duration": 295,
        "start_time": "2022-07-03T18:33:22.145Z"
      },
      {
        "duration": 9,
        "start_time": "2022-07-03T18:33:32.308Z"
      },
      {
        "duration": 665,
        "start_time": "2022-07-03T18:33:40.383Z"
      },
      {
        "duration": 35,
        "start_time": "2022-07-03T18:33:41.050Z"
      },
      {
        "duration": 24,
        "start_time": "2022-07-03T18:33:41.087Z"
      },
      {
        "duration": 146,
        "start_time": "2022-07-03T18:33:41.112Z"
      },
      {
        "duration": 5,
        "start_time": "2022-07-03T18:33:41.261Z"
      },
      {
        "duration": 277,
        "start_time": "2022-07-03T18:33:41.268Z"
      },
      {
        "duration": 13,
        "start_time": "2022-07-03T18:33:41.547Z"
      },
      {
        "duration": 28,
        "start_time": "2022-07-03T18:33:41.563Z"
      },
      {
        "duration": 14,
        "start_time": "2022-07-03T18:33:41.593Z"
      },
      {
        "duration": 6,
        "start_time": "2022-07-03T18:33:41.609Z"
      },
      {
        "duration": 1352,
        "start_time": "2022-07-03T18:33:41.617Z"
      },
      {
        "duration": 1604,
        "start_time": "2022-07-03T18:33:42.971Z"
      },
      {
        "duration": 3,
        "start_time": "2022-07-03T18:33:44.577Z"
      },
      {
        "duration": 441,
        "start_time": "2022-07-03T18:33:44.583Z"
      },
      {
        "duration": 10,
        "start_time": "2022-07-03T18:33:45.026Z"
      },
      {
        "duration": 354,
        "start_time": "2022-07-03T18:33:45.037Z"
      },
      {
        "duration": 4,
        "start_time": "2022-07-03T18:33:45.393Z"
      },
      {
        "duration": 712,
        "start_time": "2022-07-03T18:33:45.399Z"
      },
      {
        "duration": 783,
        "start_time": "2022-07-03T18:33:46.112Z"
      },
      {
        "duration": 684,
        "start_time": "2022-07-03T18:33:46.897Z"
      },
      {
        "duration": 5,
        "start_time": "2022-07-03T18:33:47.582Z"
      },
      {
        "duration": 626,
        "start_time": "2022-07-03T18:33:47.588Z"
      },
      {
        "duration": 568,
        "start_time": "2022-07-03T18:33:48.215Z"
      },
      {
        "duration": 700,
        "start_time": "2022-07-03T18:33:48.784Z"
      },
      {
        "duration": 4,
        "start_time": "2022-07-03T18:33:49.486Z"
      },
      {
        "duration": 302,
        "start_time": "2022-07-03T18:33:49.491Z"
      },
      {
        "duration": 9,
        "start_time": "2022-07-03T18:33:49.795Z"
      },
      {
        "duration": 65,
        "start_time": "2022-07-03T18:33:49.806Z"
      },
      {
        "duration": 336,
        "start_time": "2022-07-03T18:33:49.876Z"
      },
      {
        "duration": 0,
        "start_time": "2022-07-03T18:33:50.214Z"
      },
      {
        "duration": 0,
        "start_time": "2022-07-03T18:33:50.215Z"
      },
      {
        "duration": 9,
        "start_time": "2022-07-03T18:34:14.877Z"
      },
      {
        "duration": 318,
        "start_time": "2022-07-03T18:34:50.677Z"
      },
      {
        "duration": 9,
        "start_time": "2022-07-03T18:34:51.891Z"
      },
      {
        "duration": 719,
        "start_time": "2022-07-03T18:34:56.653Z"
      },
      {
        "duration": 21,
        "start_time": "2022-07-03T18:34:57.375Z"
      },
      {
        "duration": 18,
        "start_time": "2022-07-03T18:34:57.398Z"
      },
      {
        "duration": 144,
        "start_time": "2022-07-03T18:34:57.418Z"
      },
      {
        "duration": 6,
        "start_time": "2022-07-03T18:34:57.565Z"
      },
      {
        "duration": 274,
        "start_time": "2022-07-03T18:34:57.573Z"
      },
      {
        "duration": 16,
        "start_time": "2022-07-03T18:34:57.848Z"
      },
      {
        "duration": 43,
        "start_time": "2022-07-03T18:34:57.866Z"
      },
      {
        "duration": 13,
        "start_time": "2022-07-03T18:34:57.911Z"
      },
      {
        "duration": 6,
        "start_time": "2022-07-03T18:34:57.925Z"
      },
      {
        "duration": 1646,
        "start_time": "2022-07-03T18:34:57.933Z"
      },
      {
        "duration": 1873,
        "start_time": "2022-07-03T18:34:59.587Z"
      },
      {
        "duration": 4,
        "start_time": "2022-07-03T18:35:01.467Z"
      },
      {
        "duration": 527,
        "start_time": "2022-07-03T18:35:01.474Z"
      },
      {
        "duration": 8,
        "start_time": "2022-07-03T18:35:02.003Z"
      },
      {
        "duration": 336,
        "start_time": "2022-07-03T18:35:02.013Z"
      },
      {
        "duration": 8,
        "start_time": "2022-07-03T18:35:02.351Z"
      },
      {
        "duration": 823,
        "start_time": "2022-07-03T18:35:02.361Z"
      },
      {
        "duration": 779,
        "start_time": "2022-07-03T18:35:03.186Z"
      },
      {
        "duration": 859,
        "start_time": "2022-07-03T18:35:03.967Z"
      },
      {
        "duration": 4,
        "start_time": "2022-07-03T18:35:04.828Z"
      },
      {
        "duration": 590,
        "start_time": "2022-07-03T18:35:04.833Z"
      },
      {
        "duration": 562,
        "start_time": "2022-07-03T18:35:05.425Z"
      },
      {
        "duration": 844,
        "start_time": "2022-07-03T18:35:05.990Z"
      },
      {
        "duration": 4,
        "start_time": "2022-07-03T18:35:06.835Z"
      },
      {
        "duration": 366,
        "start_time": "2022-07-03T18:35:06.841Z"
      },
      {
        "duration": 10,
        "start_time": "2022-07-03T18:35:07.209Z"
      },
      {
        "duration": 84,
        "start_time": "2022-07-03T18:35:07.221Z"
      },
      {
        "duration": 350,
        "start_time": "2022-07-03T18:35:07.307Z"
      },
      {
        "duration": 0,
        "start_time": "2022-07-03T18:35:07.665Z"
      },
      {
        "duration": 0,
        "start_time": "2022-07-03T18:35:07.666Z"
      },
      {
        "duration": 3,
        "start_time": "2022-07-03T18:36:16.128Z"
      },
      {
        "duration": 319,
        "start_time": "2022-07-03T18:36:17.015Z"
      },
      {
        "duration": 9,
        "start_time": "2022-07-03T18:36:17.622Z"
      },
      {
        "duration": 667,
        "start_time": "2022-07-03T18:37:10.808Z"
      },
      {
        "duration": 20,
        "start_time": "2022-07-03T18:37:11.480Z"
      },
      {
        "duration": 22,
        "start_time": "2022-07-03T18:37:11.501Z"
      },
      {
        "duration": 150,
        "start_time": "2022-07-03T18:37:11.525Z"
      },
      {
        "duration": 6,
        "start_time": "2022-07-03T18:37:11.679Z"
      },
      {
        "duration": 253,
        "start_time": "2022-07-03T18:37:11.689Z"
      },
      {
        "duration": 24,
        "start_time": "2022-07-03T18:37:11.944Z"
      },
      {
        "duration": 35,
        "start_time": "2022-07-03T18:37:11.970Z"
      },
      {
        "duration": 16,
        "start_time": "2022-07-03T18:37:12.007Z"
      },
      {
        "duration": 6,
        "start_time": "2022-07-03T18:37:12.026Z"
      },
      {
        "duration": 1561,
        "start_time": "2022-07-03T18:37:12.033Z"
      },
      {
        "duration": 2196,
        "start_time": "2022-07-03T18:37:13.658Z"
      },
      {
        "duration": 12,
        "start_time": "2022-07-03T18:37:15.860Z"
      },
      {
        "duration": 470,
        "start_time": "2022-07-03T18:37:15.879Z"
      },
      {
        "duration": 19,
        "start_time": "2022-07-03T18:37:16.352Z"
      },
      {
        "duration": 342,
        "start_time": "2022-07-03T18:37:16.379Z"
      },
      {
        "duration": 3,
        "start_time": "2022-07-03T18:37:16.723Z"
      },
      {
        "duration": 775,
        "start_time": "2022-07-03T18:37:16.727Z"
      },
      {
        "duration": 873,
        "start_time": "2022-07-03T18:37:17.504Z"
      },
      {
        "duration": 752,
        "start_time": "2022-07-03T18:37:18.379Z"
      },
      {
        "duration": 4,
        "start_time": "2022-07-03T18:37:19.132Z"
      },
      {
        "duration": 681,
        "start_time": "2022-07-03T18:37:19.137Z"
      },
      {
        "duration": 575,
        "start_time": "2022-07-03T18:37:19.819Z"
      },
      {
        "duration": 737,
        "start_time": "2022-07-03T18:37:20.396Z"
      },
      {
        "duration": 4,
        "start_time": "2022-07-03T18:37:21.134Z"
      },
      {
        "duration": 384,
        "start_time": "2022-07-03T18:37:21.140Z"
      },
      {
        "duration": 10,
        "start_time": "2022-07-03T18:37:21.526Z"
      },
      {
        "duration": 66,
        "start_time": "2022-07-03T18:37:21.551Z"
      },
      {
        "duration": 370,
        "start_time": "2022-07-03T18:37:21.618Z"
      },
      {
        "duration": 0,
        "start_time": "2022-07-03T18:37:21.995Z"
      },
      {
        "duration": 0,
        "start_time": "2022-07-03T18:37:21.996Z"
      },
      {
        "duration": 345,
        "start_time": "2022-07-03T18:38:15.291Z"
      },
      {
        "duration": 19,
        "start_time": "2022-07-03T18:38:17.353Z"
      },
      {
        "duration": 763,
        "start_time": "2022-07-03T18:38:21.747Z"
      },
      {
        "duration": 16,
        "start_time": "2022-07-03T18:38:22.512Z"
      },
      {
        "duration": 28,
        "start_time": "2022-07-03T18:38:22.529Z"
      },
      {
        "duration": 143,
        "start_time": "2022-07-03T18:38:22.559Z"
      },
      {
        "duration": 4,
        "start_time": "2022-07-03T18:38:22.704Z"
      },
      {
        "duration": 250,
        "start_time": "2022-07-03T18:38:22.709Z"
      },
      {
        "duration": 17,
        "start_time": "2022-07-03T18:38:22.961Z"
      },
      {
        "duration": 32,
        "start_time": "2022-07-03T18:38:22.983Z"
      },
      {
        "duration": 25,
        "start_time": "2022-07-03T18:38:23.017Z"
      },
      {
        "duration": 5,
        "start_time": "2022-07-03T18:38:23.043Z"
      },
      {
        "duration": 2319,
        "start_time": "2022-07-03T18:38:23.050Z"
      },
      {
        "duration": 1605,
        "start_time": "2022-07-03T18:38:25.371Z"
      },
      {
        "duration": 58,
        "start_time": "2022-07-03T18:38:27.000Z"
      },
      {
        "duration": 345,
        "start_time": "2022-07-03T18:38:27.078Z"
      },
      {
        "duration": 8,
        "start_time": "2022-07-03T18:38:27.425Z"
      },
      {
        "duration": 326,
        "start_time": "2022-07-03T18:38:27.434Z"
      },
      {
        "duration": 4,
        "start_time": "2022-07-03T18:38:27.762Z"
      },
      {
        "duration": 982,
        "start_time": "2022-07-03T18:38:27.768Z"
      },
      {
        "duration": 747,
        "start_time": "2022-07-03T18:38:28.752Z"
      },
      {
        "duration": 847,
        "start_time": "2022-07-03T18:38:29.501Z"
      },
      {
        "duration": 6,
        "start_time": "2022-07-03T18:38:30.350Z"
      },
      {
        "duration": 571,
        "start_time": "2022-07-03T18:38:30.358Z"
      },
      {
        "duration": 568,
        "start_time": "2022-07-03T18:38:30.931Z"
      },
      {
        "duration": 839,
        "start_time": "2022-07-03T18:38:31.501Z"
      },
      {
        "duration": 3,
        "start_time": "2022-07-03T18:38:32.342Z"
      },
      {
        "duration": 389,
        "start_time": "2022-07-03T18:38:32.356Z"
      },
      {
        "duration": 13,
        "start_time": "2022-07-03T18:38:32.747Z"
      },
      {
        "duration": 76,
        "start_time": "2022-07-03T18:38:32.764Z"
      },
      {
        "duration": 345,
        "start_time": "2022-07-03T18:38:32.841Z"
      },
      {
        "duration": 0,
        "start_time": "2022-07-03T18:38:33.188Z"
      },
      {
        "duration": 0,
        "start_time": "2022-07-03T18:38:33.189Z"
      },
      {
        "duration": 8,
        "start_time": "2022-07-03T18:39:40.607Z"
      },
      {
        "duration": 2851,
        "start_time": "2022-07-03T18:39:42.576Z"
      },
      {
        "duration": 5,
        "start_time": "2022-07-03T18:40:37.208Z"
      },
      {
        "duration": 2307,
        "start_time": "2022-07-03T18:40:40.688Z"
      },
      {
        "duration": 4,
        "start_time": "2022-07-03T18:40:59.019Z"
      },
      {
        "duration": 2544,
        "start_time": "2022-07-03T18:41:02.648Z"
      },
      {
        "duration": 4,
        "start_time": "2022-07-03T18:41:57.842Z"
      },
      {
        "duration": 2331,
        "start_time": "2022-07-03T18:42:00.892Z"
      },
      {
        "duration": 4,
        "start_time": "2022-07-03T18:42:46.247Z"
      },
      {
        "duration": 1717,
        "start_time": "2022-07-03T18:42:49.193Z"
      },
      {
        "duration": 5,
        "start_time": "2022-07-03T18:43:02.573Z"
      },
      {
        "duration": 3147,
        "start_time": "2022-07-03T18:43:05.823Z"
      },
      {
        "duration": 6,
        "start_time": "2022-07-03T18:44:21.100Z"
      },
      {
        "duration": 9,
        "start_time": "2022-07-03T18:46:56.861Z"
      },
      {
        "duration": 3340,
        "start_time": "2022-07-03T18:46:59.971Z"
      },
      {
        "duration": 5,
        "start_time": "2022-07-03T18:49:00.111Z"
      },
      {
        "duration": 2463,
        "start_time": "2022-07-03T18:49:00.898Z"
      },
      {
        "duration": 54,
        "start_time": "2022-07-03T18:54:38.001Z"
      },
      {
        "duration": 5,
        "start_time": "2022-07-03T18:54:42.996Z"
      },
      {
        "duration": 3896,
        "start_time": "2022-07-03T18:54:46.620Z"
      },
      {
        "duration": 712,
        "start_time": "2022-07-03T19:01:18.676Z"
      },
      {
        "duration": 19,
        "start_time": "2022-07-03T19:01:19.390Z"
      },
      {
        "duration": 22,
        "start_time": "2022-07-03T19:01:19.411Z"
      },
      {
        "duration": 137,
        "start_time": "2022-07-03T19:01:19.435Z"
      },
      {
        "duration": 4,
        "start_time": "2022-07-03T19:01:19.575Z"
      },
      {
        "duration": 303,
        "start_time": "2022-07-03T19:01:19.581Z"
      },
      {
        "duration": 10,
        "start_time": "2022-07-03T19:01:19.887Z"
      },
      {
        "duration": 12,
        "start_time": "2022-07-03T19:01:19.900Z"
      },
      {
        "duration": 16,
        "start_time": "2022-07-03T19:01:19.914Z"
      },
      {
        "duration": 9,
        "start_time": "2022-07-03T19:01:19.931Z"
      },
      {
        "duration": 1827,
        "start_time": "2022-07-03T19:01:19.942Z"
      },
      {
        "duration": 2187,
        "start_time": "2022-07-03T19:01:21.771Z"
      },
      {
        "duration": 15,
        "start_time": "2022-07-03T19:01:23.984Z"
      },
      {
        "duration": 4,
        "start_time": "2022-07-03T19:01:24.052Z"
      },
      {
        "duration": 829,
        "start_time": "2022-07-03T19:01:24.058Z"
      },
      {
        "duration": 949,
        "start_time": "2022-07-03T19:01:24.889Z"
      },
      {
        "duration": 792,
        "start_time": "2022-07-03T19:01:25.839Z"
      },
      {
        "duration": 4,
        "start_time": "2022-07-03T19:01:26.634Z"
      },
      {
        "duration": 579,
        "start_time": "2022-07-03T19:01:26.652Z"
      },
      {
        "duration": 711,
        "start_time": "2022-07-03T19:01:27.233Z"
      },
      {
        "duration": 767,
        "start_time": "2022-07-03T19:01:27.946Z"
      },
      {
        "duration": 4,
        "start_time": "2022-07-03T19:01:28.714Z"
      },
      {
        "duration": 11,
        "start_time": "2022-07-03T19:01:28.720Z"
      },
      {
        "duration": 2526,
        "start_time": "2022-07-03T19:01:28.732Z"
      },
      {
        "duration": 2940,
        "start_time": "2022-07-04T17:58:18.466Z"
      },
      {
        "duration": 19,
        "start_time": "2022-07-04T17:58:21.408Z"
      },
      {
        "duration": 25,
        "start_time": "2022-07-04T17:58:21.428Z"
      },
      {
        "duration": 128,
        "start_time": "2022-07-04T17:58:21.455Z"
      },
      {
        "duration": 4,
        "start_time": "2022-07-04T17:58:21.586Z"
      },
      {
        "duration": 249,
        "start_time": "2022-07-04T17:58:21.591Z"
      },
      {
        "duration": 13,
        "start_time": "2022-07-04T17:58:21.842Z"
      },
      {
        "duration": 7,
        "start_time": "2022-07-04T17:58:21.857Z"
      },
      {
        "duration": 12,
        "start_time": "2022-07-04T17:58:21.865Z"
      },
      {
        "duration": 6,
        "start_time": "2022-07-04T17:58:21.900Z"
      },
      {
        "duration": 1095,
        "start_time": "2022-07-04T17:58:21.908Z"
      },
      {
        "duration": 1205,
        "start_time": "2022-07-04T17:58:23.005Z"
      },
      {
        "duration": 4,
        "start_time": "2022-07-04T17:58:24.302Z"
      },
      {
        "duration": 15,
        "start_time": "2022-07-04T17:58:24.310Z"
      },
      {
        "duration": 759,
        "start_time": "2022-07-04T17:58:24.327Z"
      },
      {
        "duration": 682,
        "start_time": "2022-07-04T17:58:25.088Z"
      },
      {
        "duration": 645,
        "start_time": "2022-07-04T17:58:25.771Z"
      },
      {
        "duration": 6,
        "start_time": "2022-07-04T17:58:26.418Z"
      },
      {
        "duration": 595,
        "start_time": "2022-07-04T17:58:26.426Z"
      },
      {
        "duration": 506,
        "start_time": "2022-07-04T17:58:27.024Z"
      },
      {
        "duration": 607,
        "start_time": "2022-07-04T17:58:27.532Z"
      },
      {
        "duration": 4,
        "start_time": "2022-07-04T17:58:28.140Z"
      },
      {
        "duration": 9,
        "start_time": "2022-07-04T17:58:28.145Z"
      },
      {
        "duration": 1158,
        "start_time": "2022-07-04T17:58:28.156Z"
      },
      {
        "duration": 9,
        "start_time": "2022-07-04T17:58:29.403Z"
      },
      {
        "duration": 420,
        "start_time": "2022-07-04T17:58:45.211Z"
      },
      {
        "duration": 633,
        "start_time": "2022-07-04T17:59:10.898Z"
      },
      {
        "duration": 637,
        "start_time": "2022-07-04T17:59:13.688Z"
      },
      {
        "duration": 18,
        "start_time": "2022-07-04T17:59:14.327Z"
      },
      {
        "duration": 19,
        "start_time": "2022-07-04T17:59:14.347Z"
      },
      {
        "duration": 129,
        "start_time": "2022-07-04T17:59:14.368Z"
      },
      {
        "duration": 3,
        "start_time": "2022-07-04T17:59:14.501Z"
      },
      {
        "duration": 213,
        "start_time": "2022-07-04T17:59:14.506Z"
      },
      {
        "duration": 9,
        "start_time": "2022-07-04T17:59:14.721Z"
      },
      {
        "duration": 9,
        "start_time": "2022-07-04T17:59:14.732Z"
      },
      {
        "duration": 19,
        "start_time": "2022-07-04T17:59:14.742Z"
      },
      {
        "duration": 6,
        "start_time": "2022-07-04T17:59:14.764Z"
      },
      {
        "duration": 1136,
        "start_time": "2022-07-04T17:59:14.772Z"
      },
      {
        "duration": 2894,
        "start_time": "2022-07-04T17:59:15.910Z"
      },
      {
        "duration": 4,
        "start_time": "2022-07-04T17:59:18.806Z"
      },
      {
        "duration": 102,
        "start_time": "2022-07-04T17:59:18.812Z"
      },
      {
        "duration": 694,
        "start_time": "2022-07-04T17:59:18.916Z"
      },
      {
        "duration": 635,
        "start_time": "2022-07-04T17:59:19.612Z"
      },
      {
        "duration": 751,
        "start_time": "2022-07-04T17:59:20.249Z"
      },
      {
        "duration": 4,
        "start_time": "2022-07-04T17:59:21.002Z"
      },
      {
        "duration": 479,
        "start_time": "2022-07-04T17:59:21.007Z"
      },
      {
        "duration": 517,
        "start_time": "2022-07-04T17:59:21.489Z"
      },
      {
        "duration": 743,
        "start_time": "2022-07-04T17:59:22.008Z"
      },
      {
        "duration": 4,
        "start_time": "2022-07-04T17:59:22.752Z"
      },
      {
        "duration": 12,
        "start_time": "2022-07-04T17:59:22.758Z"
      },
      {
        "duration": 1135,
        "start_time": "2022-07-04T17:59:22.772Z"
      },
      {
        "duration": 454,
        "start_time": "2022-07-04T17:59:23.911Z"
      },
      {
        "duration": 587,
        "start_time": "2022-07-04T17:59:47.525Z"
      },
      {
        "duration": 16,
        "start_time": "2022-07-04T17:59:48.114Z"
      },
      {
        "duration": 24,
        "start_time": "2022-07-04T17:59:48.132Z"
      },
      {
        "duration": 133,
        "start_time": "2022-07-04T17:59:48.157Z"
      },
      {
        "duration": 9,
        "start_time": "2022-07-04T17:59:48.292Z"
      },
      {
        "duration": 225,
        "start_time": "2022-07-04T17:59:48.303Z"
      },
      {
        "duration": 11,
        "start_time": "2022-07-04T17:59:48.530Z"
      },
      {
        "duration": 13,
        "start_time": "2022-07-04T17:59:48.543Z"
      },
      {
        "duration": 19,
        "start_time": "2022-07-04T17:59:48.557Z"
      },
      {
        "duration": 6,
        "start_time": "2022-07-04T17:59:48.577Z"
      },
      {
        "duration": 1221,
        "start_time": "2022-07-04T17:59:48.585Z"
      },
      {
        "duration": 1393,
        "start_time": "2022-07-04T17:59:49.808Z"
      },
      {
        "duration": 8,
        "start_time": "2022-07-04T17:59:51.204Z"
      },
      {
        "duration": 85,
        "start_time": "2022-07-04T17:59:51.216Z"
      },
      {
        "duration": 639,
        "start_time": "2022-07-04T17:59:51.303Z"
      },
      {
        "duration": 736,
        "start_time": "2022-07-04T17:59:51.943Z"
      },
      {
        "duration": 648,
        "start_time": "2022-07-04T17:59:52.681Z"
      },
      {
        "duration": 4,
        "start_time": "2022-07-04T17:59:53.331Z"
      },
      {
        "duration": 591,
        "start_time": "2022-07-04T17:59:53.336Z"
      },
      {
        "duration": 528,
        "start_time": "2022-07-04T17:59:53.929Z"
      },
      {
        "duration": 637,
        "start_time": "2022-07-04T17:59:54.459Z"
      },
      {
        "duration": 3,
        "start_time": "2022-07-04T17:59:55.100Z"
      },
      {
        "duration": 17,
        "start_time": "2022-07-04T17:59:55.104Z"
      },
      {
        "duration": 1392,
        "start_time": "2022-07-04T17:59:55.122Z"
      },
      {
        "duration": 26567,
        "start_time": "2022-07-04T17:59:56.516Z"
      },
      {
        "duration": 599,
        "start_time": "2022-07-04T18:02:42.543Z"
      },
      {
        "duration": 25869,
        "start_time": "2022-07-04T18:03:00.410Z"
      },
      {
        "duration": 591,
        "start_time": "2022-07-04T18:06:28.716Z"
      },
      {
        "duration": 2871743,
        "start_time": "2022-07-04T18:06:35.612Z"
      },
      {
        "duration": 0,
        "start_time": "2022-07-04T18:54:27.358Z"
      },
      {
        "duration": 626,
        "start_time": "2022-07-04T18:54:32.744Z"
      },
      {
        "duration": 17,
        "start_time": "2022-07-04T18:54:33.371Z"
      },
      {
        "duration": 30,
        "start_time": "2022-07-04T18:54:33.390Z"
      },
      {
        "duration": 125,
        "start_time": "2022-07-04T18:54:33.422Z"
      },
      {
        "duration": 3,
        "start_time": "2022-07-04T18:54:33.549Z"
      },
      {
        "duration": 242,
        "start_time": "2022-07-04T18:54:33.554Z"
      },
      {
        "duration": 13,
        "start_time": "2022-07-04T18:54:33.798Z"
      },
      {
        "duration": 22,
        "start_time": "2022-07-04T18:54:33.812Z"
      },
      {
        "duration": 0,
        "start_time": "2022-07-04T18:54:33.837Z"
      },
      {
        "duration": 0,
        "start_time": "2022-07-04T18:54:33.839Z"
      },
      {
        "duration": 0,
        "start_time": "2022-07-04T18:54:33.840Z"
      },
      {
        "duration": 0,
        "start_time": "2022-07-04T18:54:33.842Z"
      },
      {
        "duration": 0,
        "start_time": "2022-07-04T18:54:33.844Z"
      },
      {
        "duration": 0,
        "start_time": "2022-07-04T18:54:33.845Z"
      },
      {
        "duration": 0,
        "start_time": "2022-07-04T18:54:33.847Z"
      },
      {
        "duration": 0,
        "start_time": "2022-07-04T18:54:33.848Z"
      },
      {
        "duration": 0,
        "start_time": "2022-07-04T18:54:33.850Z"
      },
      {
        "duration": 0,
        "start_time": "2022-07-04T18:54:33.851Z"
      },
      {
        "duration": 0,
        "start_time": "2022-07-04T18:54:33.852Z"
      },
      {
        "duration": 0,
        "start_time": "2022-07-04T18:54:33.853Z"
      },
      {
        "duration": 0,
        "start_time": "2022-07-04T18:54:33.854Z"
      },
      {
        "duration": 0,
        "start_time": "2022-07-04T18:54:33.854Z"
      },
      {
        "duration": 0,
        "start_time": "2022-07-04T18:54:33.856Z"
      },
      {
        "duration": 0,
        "start_time": "2022-07-04T18:54:33.857Z"
      },
      {
        "duration": 0,
        "start_time": "2022-07-04T18:54:33.858Z"
      },
      {
        "duration": 9,
        "start_time": "2022-07-04T18:55:21.761Z"
      },
      {
        "duration": 8,
        "start_time": "2022-07-04T18:56:39.763Z"
      },
      {
        "duration": 11,
        "start_time": "2022-07-04T18:56:52.443Z"
      },
      {
        "duration": 8,
        "start_time": "2022-07-04T18:57:07.732Z"
      },
      {
        "duration": 4,
        "start_time": "2022-07-04T18:57:19.502Z"
      },
      {
        "duration": 4,
        "start_time": "2022-07-04T18:57:35.084Z"
      },
      {
        "duration": 11,
        "start_time": "2022-07-04T18:58:24.219Z"
      },
      {
        "duration": 4,
        "start_time": "2022-07-04T18:58:27.820Z"
      },
      {
        "duration": 8,
        "start_time": "2022-07-04T18:58:47.862Z"
      },
      {
        "duration": 4,
        "start_time": "2022-07-04T18:58:50.728Z"
      },
      {
        "duration": 7,
        "start_time": "2022-07-04T18:59:25.885Z"
      },
      {
        "duration": 4,
        "start_time": "2022-07-04T18:59:29.171Z"
      },
      {
        "duration": 641,
        "start_time": "2022-07-04T19:01:13.055Z"
      },
      {
        "duration": 16,
        "start_time": "2022-07-04T19:01:13.700Z"
      },
      {
        "duration": 20,
        "start_time": "2022-07-04T19:01:13.718Z"
      },
      {
        "duration": 137,
        "start_time": "2022-07-04T19:01:13.741Z"
      },
      {
        "duration": 4,
        "start_time": "2022-07-04T19:01:13.880Z"
      },
      {
        "duration": 246,
        "start_time": "2022-07-04T19:01:13.886Z"
      },
      {
        "duration": 12,
        "start_time": "2022-07-04T19:01:14.133Z"
      },
      {
        "duration": 14,
        "start_time": "2022-07-04T19:01:14.146Z"
      },
      {
        "duration": 19,
        "start_time": "2022-07-04T19:01:14.162Z"
      },
      {
        "duration": 17,
        "start_time": "2022-07-04T19:01:14.184Z"
      },
      {
        "duration": 7,
        "start_time": "2022-07-04T19:01:14.203Z"
      },
      {
        "duration": 1089,
        "start_time": "2022-07-04T19:01:14.212Z"
      },
      {
        "duration": 1206,
        "start_time": "2022-07-04T19:01:15.303Z"
      },
      {
        "duration": 3,
        "start_time": "2022-07-04T19:01:16.601Z"
      },
      {
        "duration": 12,
        "start_time": "2022-07-04T19:01:16.606Z"
      },
      {
        "duration": 746,
        "start_time": "2022-07-04T19:01:16.620Z"
      },
      {
        "duration": 677,
        "start_time": "2022-07-04T19:01:17.368Z"
      },
      {
        "duration": 840,
        "start_time": "2022-07-04T19:01:18.047Z"
      },
      {
        "duration": 4,
        "start_time": "2022-07-04T19:01:18.889Z"
      },
      {
        "duration": 479,
        "start_time": "2022-07-04T19:01:18.894Z"
      },
      {
        "duration": 485,
        "start_time": "2022-07-04T19:01:19.375Z"
      },
      {
        "duration": 752,
        "start_time": "2022-07-04T19:01:19.861Z"
      },
      {
        "duration": 4,
        "start_time": "2022-07-04T19:01:20.614Z"
      },
      {
        "duration": 10,
        "start_time": "2022-07-04T19:01:20.620Z"
      },
      {
        "duration": 667,
        "start_time": "2022-07-04T19:01:20.632Z"
      },
      {
        "duration": 0,
        "start_time": "2022-07-04T19:01:21.301Z"
      },
      {
        "duration": 9,
        "start_time": "2022-07-04T19:02:57.901Z"
      },
      {
        "duration": 4,
        "start_time": "2022-07-04T19:03:00.875Z"
      },
      {
        "duration": 602,
        "start_time": "2022-07-04T19:03:05.656Z"
      },
      {
        "duration": 17,
        "start_time": "2022-07-04T19:03:06.261Z"
      },
      {
        "duration": 35,
        "start_time": "2022-07-04T19:03:06.280Z"
      },
      {
        "duration": 122,
        "start_time": "2022-07-04T19:03:06.316Z"
      },
      {
        "duration": 5,
        "start_time": "2022-07-04T19:03:06.441Z"
      },
      {
        "duration": 241,
        "start_time": "2022-07-04T19:03:06.448Z"
      },
      {
        "duration": 11,
        "start_time": "2022-07-04T19:03:06.691Z"
      },
      {
        "duration": 8,
        "start_time": "2022-07-04T19:03:06.704Z"
      },
      {
        "duration": 4,
        "start_time": "2022-07-04T19:03:06.714Z"
      },
      {
        "duration": 14,
        "start_time": "2022-07-04T19:03:06.721Z"
      },
      {
        "duration": 8,
        "start_time": "2022-07-04T19:03:06.737Z"
      },
      {
        "duration": 1062,
        "start_time": "2022-07-04T19:03:06.747Z"
      },
      {
        "duration": 1290,
        "start_time": "2022-07-04T19:03:07.811Z"
      },
      {
        "duration": 4,
        "start_time": "2022-07-04T19:03:09.106Z"
      },
      {
        "duration": 10,
        "start_time": "2022-07-04T19:03:09.112Z"
      },
      {
        "duration": 677,
        "start_time": "2022-07-04T19:03:09.123Z"
      },
      {
        "duration": 758,
        "start_time": "2022-07-04T19:03:09.801Z"
      },
      {
        "duration": 644,
        "start_time": "2022-07-04T19:03:10.561Z"
      },
      {
        "duration": 4,
        "start_time": "2022-07-04T19:03:11.207Z"
      },
      {
        "duration": 500,
        "start_time": "2022-07-04T19:03:11.212Z"
      },
      {
        "duration": 603,
        "start_time": "2022-07-04T19:03:11.714Z"
      },
      {
        "duration": 624,
        "start_time": "2022-07-04T19:03:12.319Z"
      },
      {
        "duration": 4,
        "start_time": "2022-07-04T19:03:12.945Z"
      },
      {
        "duration": 15,
        "start_time": "2022-07-04T19:03:12.951Z"
      },
      {
        "duration": 641,
        "start_time": "2022-07-04T19:03:12.967Z"
      },
      {
        "duration": 0,
        "start_time": "2022-07-04T19:03:13.611Z"
      },
      {
        "duration": 3,
        "start_time": "2022-07-04T19:03:50.706Z"
      },
      {
        "duration": 5,
        "start_time": "2022-07-04T19:03:58.388Z"
      },
      {
        "duration": 657,
        "start_time": "2022-07-04T19:04:06.732Z"
      },
      {
        "duration": 24,
        "start_time": "2022-07-04T19:04:07.391Z"
      },
      {
        "duration": 26,
        "start_time": "2022-07-04T19:04:07.416Z"
      },
      {
        "duration": 135,
        "start_time": "2022-07-04T19:04:07.444Z"
      },
      {
        "duration": 4,
        "start_time": "2022-07-04T19:04:07.581Z"
      },
      {
        "duration": 241,
        "start_time": "2022-07-04T19:04:07.587Z"
      },
      {
        "duration": 11,
        "start_time": "2022-07-04T19:04:07.830Z"
      },
      {
        "duration": 7,
        "start_time": "2022-07-04T19:04:07.843Z"
      },
      {
        "duration": 3,
        "start_time": "2022-07-04T19:04:07.852Z"
      },
      {
        "duration": 12,
        "start_time": "2022-07-04T19:04:07.858Z"
      },
      {
        "duration": 32,
        "start_time": "2022-07-04T19:04:07.871Z"
      },
      {
        "duration": 1499,
        "start_time": "2022-07-04T19:04:07.905Z"
      },
      {
        "duration": 1499,
        "start_time": "2022-07-04T19:04:09.406Z"
      },
      {
        "duration": 4,
        "start_time": "2022-07-04T19:04:10.909Z"
      },
      {
        "duration": 102,
        "start_time": "2022-07-04T19:04:10.915Z"
      },
      {
        "duration": 734,
        "start_time": "2022-07-04T19:04:11.019Z"
      },
      {
        "duration": 637,
        "start_time": "2022-07-04T19:04:11.755Z"
      },
      {
        "duration": 631,
        "start_time": "2022-07-04T19:04:12.394Z"
      },
      {
        "duration": 4,
        "start_time": "2022-07-04T19:04:13.027Z"
      },
      {
        "duration": 631,
        "start_time": "2022-07-04T19:04:13.032Z"
      },
      {
        "duration": 518,
        "start_time": "2022-07-04T19:04:13.665Z"
      },
      {
        "duration": 615,
        "start_time": "2022-07-04T19:04:14.185Z"
      },
      {
        "duration": 4,
        "start_time": "2022-07-04T19:04:14.802Z"
      },
      {
        "duration": 7,
        "start_time": "2022-07-04T19:04:14.807Z"
      },
      {
        "duration": 827,
        "start_time": "2022-07-04T19:04:14.816Z"
      },
      {
        "duration": 0,
        "start_time": "2022-07-04T19:04:15.646Z"
      },
      {
        "duration": 4,
        "start_time": "2022-07-04T19:04:34.957Z"
      },
      {
        "duration": 265,
        "start_time": "2022-07-04T19:04:37.708Z"
      },
      {
        "duration": 610,
        "start_time": "2022-07-04T19:05:32.029Z"
      },
      {
        "duration": 16,
        "start_time": "2022-07-04T19:05:32.641Z"
      },
      {
        "duration": 19,
        "start_time": "2022-07-04T19:05:32.659Z"
      },
      {
        "duration": 133,
        "start_time": "2022-07-04T19:05:32.680Z"
      },
      {
        "duration": 4,
        "start_time": "2022-07-04T19:05:32.815Z"
      },
      {
        "duration": 250,
        "start_time": "2022-07-04T19:05:32.820Z"
      },
      {
        "duration": 13,
        "start_time": "2022-07-04T19:05:33.072Z"
      },
      {
        "duration": 43,
        "start_time": "2022-07-04T19:05:33.087Z"
      },
      {
        "duration": 15,
        "start_time": "2022-07-04T19:05:33.131Z"
      },
      {
        "duration": 46,
        "start_time": "2022-07-04T19:05:33.148Z"
      },
      {
        "duration": 14,
        "start_time": "2022-07-04T19:05:33.195Z"
      },
      {
        "duration": 1200,
        "start_time": "2022-07-04T19:05:33.211Z"
      },
      {
        "duration": 1494,
        "start_time": "2022-07-04T19:05:34.413Z"
      },
      {
        "duration": 4,
        "start_time": "2022-07-04T19:05:35.910Z"
      },
      {
        "duration": 98,
        "start_time": "2022-07-04T19:05:35.916Z"
      },
      {
        "duration": 705,
        "start_time": "2022-07-04T19:05:36.016Z"
      },
      {
        "duration": 670,
        "start_time": "2022-07-04T19:05:36.722Z"
      },
      {
        "duration": 814,
        "start_time": "2022-07-04T19:05:37.394Z"
      },
      {
        "duration": 5,
        "start_time": "2022-07-04T19:05:38.210Z"
      },
      {
        "duration": 478,
        "start_time": "2022-07-04T19:05:38.217Z"
      },
      {
        "duration": 481,
        "start_time": "2022-07-04T19:05:38.697Z"
      },
      {
        "duration": 734,
        "start_time": "2022-07-04T19:05:39.179Z"
      },
      {
        "duration": 4,
        "start_time": "2022-07-04T19:05:39.915Z"
      },
      {
        "duration": 9,
        "start_time": "2022-07-04T19:05:39.920Z"
      },
      {
        "duration": 308,
        "start_time": "2022-07-04T19:05:39.931Z"
      },
      {
        "duration": 0,
        "start_time": "2022-07-04T19:05:40.240Z"
      },
      {
        "duration": 5,
        "start_time": "2022-07-04T19:07:38.066Z"
      },
      {
        "duration": 7202,
        "start_time": "2022-07-04T19:07:38.906Z"
      },
      {
        "duration": 6,
        "start_time": "2022-07-04T19:08:03.076Z"
      },
      {
        "duration": 852,
        "start_time": "2022-07-04T19:08:03.620Z"
      },
      {
        "duration": 6,
        "start_time": "2022-07-04T19:08:23.956Z"
      },
      {
        "duration": 335,
        "start_time": "2022-07-04T19:08:27.075Z"
      },
      {
        "duration": 66,
        "start_time": "2022-07-04T19:09:28.464Z"
      },
      {
        "duration": 4,
        "start_time": "2022-07-04T19:09:49.596Z"
      },
      {
        "duration": 313,
        "start_time": "2022-07-04T19:09:51.452Z"
      },
      {
        "duration": 4,
        "start_time": "2022-07-04T19:11:43.955Z"
      },
      {
        "duration": 777,
        "start_time": "2022-07-04T19:11:44.379Z"
      },
      {
        "duration": 16,
        "start_time": "2022-07-04T19:13:57.479Z"
      },
      {
        "duration": 15,
        "start_time": "2022-07-04T19:13:59.875Z"
      },
      {
        "duration": 4,
        "start_time": "2022-07-04T19:14:08.741Z"
      },
      {
        "duration": 6,
        "start_time": "2022-07-04T19:14:09.755Z"
      },
      {
        "duration": 702,
        "start_time": "2022-07-04T19:14:16.250Z"
      },
      {
        "duration": 16,
        "start_time": "2022-07-04T19:14:16.954Z"
      },
      {
        "duration": 23,
        "start_time": "2022-07-04T19:14:18.035Z"
      },
      {
        "duration": 113,
        "start_time": "2022-07-04T19:14:19.681Z"
      },
      {
        "duration": 3,
        "start_time": "2022-07-04T19:14:22.217Z"
      },
      {
        "duration": 225,
        "start_time": "2022-07-04T19:14:23.137Z"
      },
      {
        "duration": 14,
        "start_time": "2022-07-04T19:14:23.897Z"
      },
      {
        "duration": 7,
        "start_time": "2022-07-04T19:14:28.957Z"
      },
      {
        "duration": 6,
        "start_time": "2022-07-04T19:14:33.343Z"
      },
      {
        "duration": 14,
        "start_time": "2022-07-04T19:14:42.986Z"
      },
      {
        "duration": 16,
        "start_time": "2022-07-04T19:15:15.675Z"
      },
      {
        "duration": 4,
        "start_time": "2022-07-04T19:15:20.323Z"
      },
      {
        "duration": 29,
        "start_time": "2022-07-04T19:15:21.689Z"
      },
      {
        "duration": 7,
        "start_time": "2022-07-04T19:15:33.399Z"
      },
      {
        "duration": 3,
        "start_time": "2022-07-04T19:15:52.297Z"
      },
      {
        "duration": 4,
        "start_time": "2022-07-04T19:16:02.266Z"
      },
      {
        "duration": 3,
        "start_time": "2022-07-04T19:16:11.770Z"
      },
      {
        "duration": 596,
        "start_time": "2022-07-04T19:16:17.807Z"
      },
      {
        "duration": 18,
        "start_time": "2022-07-04T19:16:18.405Z"
      },
      {
        "duration": 21,
        "start_time": "2022-07-04T19:16:19.437Z"
      },
      {
        "duration": 114,
        "start_time": "2022-07-04T19:16:21.592Z"
      },
      {
        "duration": 4,
        "start_time": "2022-07-04T19:16:24.050Z"
      },
      {
        "duration": 310,
        "start_time": "2022-07-04T19:16:25.144Z"
      },
      {
        "duration": 10,
        "start_time": "2022-07-04T19:16:26.136Z"
      },
      {
        "duration": 7,
        "start_time": "2022-07-04T19:16:28.721Z"
      },
      {
        "duration": 5,
        "start_time": "2022-07-04T19:16:39.322Z"
      },
      {
        "duration": 650,
        "start_time": "2022-07-04T19:16:40.689Z"
      },
      {
        "duration": 6,
        "start_time": "2022-07-04T19:17:42.165Z"
      },
      {
        "duration": 299,
        "start_time": "2022-07-04T19:17:43.155Z"
      },
      {
        "duration": 5,
        "start_time": "2022-07-04T19:17:56.923Z"
      },
      {
        "duration": 1149,
        "start_time": "2022-07-04T19:17:58.296Z"
      },
      {
        "duration": 14,
        "start_time": "2022-07-04T19:25:56.385Z"
      },
      {
        "duration": 17,
        "start_time": "2022-07-04T19:26:14.822Z"
      },
      {
        "duration": 9,
        "start_time": "2022-07-04T19:27:26.851Z"
      },
      {
        "duration": 15,
        "start_time": "2022-07-04T19:27:54.888Z"
      },
      {
        "duration": 14,
        "start_time": "2022-07-04T19:28:06.048Z"
      },
      {
        "duration": 14,
        "start_time": "2022-07-04T19:30:18.328Z"
      },
      {
        "duration": 11,
        "start_time": "2022-07-04T19:30:35.234Z"
      },
      {
        "duration": 5,
        "start_time": "2022-07-04T19:30:43.559Z"
      },
      {
        "duration": 690,
        "start_time": "2022-07-04T19:31:28.795Z"
      },
      {
        "duration": 25,
        "start_time": "2022-07-04T19:31:29.487Z"
      },
      {
        "duration": 43,
        "start_time": "2022-07-04T19:31:29.513Z"
      },
      {
        "duration": 163,
        "start_time": "2022-07-04T19:31:29.559Z"
      },
      {
        "duration": 4,
        "start_time": "2022-07-04T19:31:29.724Z"
      },
      {
        "duration": 238,
        "start_time": "2022-07-04T19:31:29.730Z"
      },
      {
        "duration": 11,
        "start_time": "2022-07-04T19:31:29.969Z"
      },
      {
        "duration": 24,
        "start_time": "2022-07-04T19:31:29.981Z"
      },
      {
        "duration": 29,
        "start_time": "2022-07-04T19:31:30.006Z"
      },
      {
        "duration": 38,
        "start_time": "2022-07-04T19:31:30.038Z"
      },
      {
        "duration": 6,
        "start_time": "2022-07-04T19:31:30.078Z"
      },
      {
        "duration": 2120,
        "start_time": "2022-07-04T19:31:30.086Z"
      },
      {
        "duration": 3595,
        "start_time": "2022-07-04T19:31:32.209Z"
      },
      {
        "duration": 7,
        "start_time": "2022-07-04T19:31:35.805Z"
      },
      {
        "duration": 101,
        "start_time": "2022-07-04T19:31:35.815Z"
      },
      {
        "duration": 834,
        "start_time": "2022-07-04T19:31:35.918Z"
      },
      {
        "duration": 653,
        "start_time": "2022-07-04T19:31:36.754Z"
      },
      {
        "duration": 733,
        "start_time": "2022-07-04T19:31:37.409Z"
      },
      {
        "duration": 6,
        "start_time": "2022-07-04T19:31:38.144Z"
      },
      {
        "duration": 638,
        "start_time": "2022-07-04T19:31:38.152Z"
      },
      {
        "duration": 479,
        "start_time": "2022-07-04T19:31:38.792Z"
      },
      {
        "duration": 646,
        "start_time": "2022-07-04T19:31:39.272Z"
      },
      {
        "duration": 4,
        "start_time": "2022-07-04T19:31:39.921Z"
      },
      {
        "duration": 13,
        "start_time": "2022-07-04T19:31:39.927Z"
      },
      {
        "duration": 970,
        "start_time": "2022-07-04T19:31:39.942Z"
      },
      {
        "duration": 875,
        "start_time": "2022-07-04T19:31:40.914Z"
      },
      {
        "duration": 410619,
        "start_time": "2022-07-04T19:32:25.914Z"
      },
      {
        "duration": 583,
        "start_time": "2022-07-04T19:43:46.657Z"
      },
      {
        "duration": 25,
        "start_time": "2022-07-04T19:43:47.242Z"
      },
      {
        "duration": 47,
        "start_time": "2022-07-04T19:43:47.269Z"
      },
      {
        "duration": 139,
        "start_time": "2022-07-04T19:43:47.318Z"
      },
      {
        "duration": 3,
        "start_time": "2022-07-04T19:43:47.460Z"
      },
      {
        "duration": 245,
        "start_time": "2022-07-04T19:43:47.465Z"
      },
      {
        "duration": 11,
        "start_time": "2022-07-04T19:43:47.712Z"
      },
      {
        "duration": 7,
        "start_time": "2022-07-04T19:43:47.725Z"
      },
      {
        "duration": 12,
        "start_time": "2022-07-04T19:43:47.733Z"
      },
      {
        "duration": 13,
        "start_time": "2022-07-04T19:43:47.747Z"
      },
      {
        "duration": 10,
        "start_time": "2022-07-04T19:43:47.762Z"
      },
      {
        "duration": 3438,
        "start_time": "2022-07-04T19:43:47.774Z"
      },
      {
        "duration": 1190,
        "start_time": "2022-07-04T19:43:51.214Z"
      },
      {
        "duration": 119,
        "start_time": "2022-07-04T19:43:52.407Z"
      },
      {
        "duration": 0,
        "start_time": "2022-07-04T19:43:52.528Z"
      },
      {
        "duration": 0,
        "start_time": "2022-07-04T19:43:52.529Z"
      },
      {
        "duration": 0,
        "start_time": "2022-07-04T19:43:52.531Z"
      },
      {
        "duration": 0,
        "start_time": "2022-07-04T19:43:52.601Z"
      },
      {
        "duration": 0,
        "start_time": "2022-07-04T19:43:52.603Z"
      },
      {
        "duration": 0,
        "start_time": "2022-07-04T19:43:52.604Z"
      },
      {
        "duration": 0,
        "start_time": "2022-07-04T19:43:52.605Z"
      },
      {
        "duration": 0,
        "start_time": "2022-07-04T19:43:52.607Z"
      },
      {
        "duration": 0,
        "start_time": "2022-07-04T19:43:52.608Z"
      },
      {
        "duration": 0,
        "start_time": "2022-07-04T19:43:52.608Z"
      },
      {
        "duration": 0,
        "start_time": "2022-07-04T19:43:52.610Z"
      },
      {
        "duration": 0,
        "start_time": "2022-07-04T19:43:52.611Z"
      },
      {
        "duration": 593,
        "start_time": "2022-07-04T19:44:33.341Z"
      },
      {
        "duration": 19,
        "start_time": "2022-07-04T19:44:33.936Z"
      },
      {
        "duration": 45,
        "start_time": "2022-07-04T19:44:33.958Z"
      },
      {
        "duration": 132,
        "start_time": "2022-07-04T19:44:34.006Z"
      },
      {
        "duration": 3,
        "start_time": "2022-07-04T19:44:34.141Z"
      },
      {
        "duration": 232,
        "start_time": "2022-07-04T19:44:34.146Z"
      },
      {
        "duration": 10,
        "start_time": "2022-07-04T19:44:34.380Z"
      },
      {
        "duration": 13,
        "start_time": "2022-07-04T19:44:34.392Z"
      },
      {
        "duration": 6,
        "start_time": "2022-07-04T19:44:34.407Z"
      },
      {
        "duration": 13,
        "start_time": "2022-07-04T19:44:34.415Z"
      },
      {
        "duration": 7,
        "start_time": "2022-07-04T19:44:34.430Z"
      },
      {
        "duration": 1263,
        "start_time": "2022-07-04T19:44:34.439Z"
      },
      {
        "duration": 1205,
        "start_time": "2022-07-04T19:44:35.704Z"
      },
      {
        "duration": 90,
        "start_time": "2022-07-04T19:44:36.913Z"
      },
      {
        "duration": 11,
        "start_time": "2022-07-04T19:44:37.005Z"
      },
      {
        "duration": 765,
        "start_time": "2022-07-04T19:44:37.020Z"
      },
      {
        "duration": 758,
        "start_time": "2022-07-04T19:44:37.786Z"
      },
      {
        "duration": 646,
        "start_time": "2022-07-04T19:44:38.546Z"
      },
      {
        "duration": 9,
        "start_time": "2022-07-04T19:44:39.194Z"
      },
      {
        "duration": 450,
        "start_time": "2022-07-04T19:44:39.204Z"
      },
      {
        "duration": 612,
        "start_time": "2022-07-04T19:44:39.655Z"
      },
      {
        "duration": 606,
        "start_time": "2022-07-04T19:44:40.269Z"
      },
      {
        "duration": 4,
        "start_time": "2022-07-04T19:44:40.877Z"
      },
      {
        "duration": 9,
        "start_time": "2022-07-04T19:44:40.883Z"
      },
      {
        "duration": 1007,
        "start_time": "2022-07-04T19:44:40.900Z"
      },
      {
        "duration": 120607,
        "start_time": "2022-07-04T19:44:41.908Z"
      },
      {
        "duration": 547,
        "start_time": "2022-07-04T19:46:52.020Z"
      },
      {
        "duration": 16,
        "start_time": "2022-07-04T19:46:52.569Z"
      },
      {
        "duration": 25,
        "start_time": "2022-07-04T19:46:52.587Z"
      },
      {
        "duration": 120,
        "start_time": "2022-07-04T19:46:52.614Z"
      },
      {
        "duration": 4,
        "start_time": "2022-07-04T19:46:52.736Z"
      },
      {
        "duration": 237,
        "start_time": "2022-07-04T19:46:52.741Z"
      },
      {
        "duration": 10,
        "start_time": "2022-07-04T19:46:52.980Z"
      },
      {
        "duration": 13,
        "start_time": "2022-07-04T19:46:52.992Z"
      },
      {
        "duration": 15,
        "start_time": "2022-07-04T19:46:53.007Z"
      },
      {
        "duration": 16,
        "start_time": "2022-07-04T19:46:53.023Z"
      },
      {
        "duration": 7,
        "start_time": "2022-07-04T19:46:53.041Z"
      },
      {
        "duration": 1259,
        "start_time": "2022-07-04T19:46:53.049Z"
      },
      {
        "duration": 1295,
        "start_time": "2022-07-04T19:46:54.310Z"
      },
      {
        "duration": 91,
        "start_time": "2022-07-04T19:46:55.610Z"
      },
      {
        "duration": 10,
        "start_time": "2022-07-04T19:46:55.703Z"
      },
      {
        "duration": 742,
        "start_time": "2022-07-04T19:46:55.714Z"
      },
      {
        "duration": 664,
        "start_time": "2022-07-04T19:46:56.458Z"
      },
      {
        "duration": 736,
        "start_time": "2022-07-04T19:46:57.124Z"
      },
      {
        "duration": 4,
        "start_time": "2022-07-04T19:46:57.863Z"
      },
      {
        "duration": 591,
        "start_time": "2022-07-04T19:46:57.868Z"
      },
      {
        "duration": 504,
        "start_time": "2022-07-04T19:46:58.461Z"
      },
      {
        "duration": 608,
        "start_time": "2022-07-04T19:46:58.966Z"
      },
      {
        "duration": 3,
        "start_time": "2022-07-04T19:46:59.576Z"
      },
      {
        "duration": 10,
        "start_time": "2022-07-04T19:46:59.581Z"
      },
      {
        "duration": 1214,
        "start_time": "2022-07-04T19:46:59.592Z"
      },
      {
        "duration": 2691465,
        "start_time": "2022-07-04T19:47:00.808Z"
      },
      {
        "duration": 2663350,
        "start_time": "2022-07-04T20:31:52.275Z"
      },
      {
        "duration": 3138,
        "start_time": "2022-07-05T08:08:35.830Z"
      },
      {
        "duration": 23,
        "start_time": "2022-07-05T08:08:38.971Z"
      },
      {
        "duration": 38,
        "start_time": "2022-07-05T08:08:38.996Z"
      },
      {
        "duration": 142,
        "start_time": "2022-07-05T08:08:39.036Z"
      },
      {
        "duration": 8,
        "start_time": "2022-07-05T08:08:39.180Z"
      },
      {
        "duration": 262,
        "start_time": "2022-07-05T08:08:39.190Z"
      },
      {
        "duration": 15,
        "start_time": "2022-07-05T08:08:39.453Z"
      },
      {
        "duration": 19,
        "start_time": "2022-07-05T08:08:39.469Z"
      },
      {
        "duration": 13,
        "start_time": "2022-07-05T08:08:39.491Z"
      },
      {
        "duration": 18,
        "start_time": "2022-07-05T08:08:39.506Z"
      },
      {
        "duration": 7,
        "start_time": "2022-07-05T08:08:39.526Z"
      },
      {
        "duration": 1195,
        "start_time": "2022-07-05T08:08:39.535Z"
      },
      {
        "duration": 1401,
        "start_time": "2022-07-05T08:08:40.732Z"
      },
      {
        "duration": 4,
        "start_time": "2022-07-05T08:08:42.134Z"
      },
      {
        "duration": 84,
        "start_time": "2022-07-05T08:08:42.139Z"
      },
      {
        "duration": 801,
        "start_time": "2022-07-05T08:08:42.226Z"
      },
      {
        "duration": 720,
        "start_time": "2022-07-05T08:08:43.029Z"
      },
      {
        "duration": 782,
        "start_time": "2022-07-05T08:08:43.750Z"
      },
      {
        "duration": 4,
        "start_time": "2022-07-05T08:08:44.534Z"
      },
      {
        "duration": 500,
        "start_time": "2022-07-05T08:08:44.541Z"
      },
      {
        "duration": 496,
        "start_time": "2022-07-05T08:08:45.043Z"
      },
      {
        "duration": 787,
        "start_time": "2022-07-05T08:08:45.541Z"
      },
      {
        "duration": 4,
        "start_time": "2022-07-05T08:08:46.330Z"
      },
      {
        "duration": 12,
        "start_time": "2022-07-05T08:08:46.335Z"
      },
      {
        "duration": 1084,
        "start_time": "2022-07-05T08:08:46.348Z"
      },
      {
        "duration": 2719686,
        "start_time": "2022-07-05T08:08:47.434Z"
      },
      {
        "duration": 2825953,
        "start_time": "2022-07-05T08:54:07.123Z"
      },
      {
        "duration": 3,
        "start_time": "2022-07-05T09:41:13.078Z"
      },
      {
        "duration": 665,
        "start_time": "2022-07-05T10:08:02.498Z"
      },
      {
        "duration": 17,
        "start_time": "2022-07-05T10:08:03.165Z"
      },
      {
        "duration": 38,
        "start_time": "2022-07-05T10:08:03.184Z"
      },
      {
        "duration": 147,
        "start_time": "2022-07-05T10:08:03.226Z"
      },
      {
        "duration": 4,
        "start_time": "2022-07-05T10:08:03.376Z"
      },
      {
        "duration": 250,
        "start_time": "2022-07-05T10:08:03.382Z"
      },
      {
        "duration": 14,
        "start_time": "2022-07-05T10:08:03.633Z"
      },
      {
        "duration": 12,
        "start_time": "2022-07-05T10:08:03.648Z"
      },
      {
        "duration": 12,
        "start_time": "2022-07-05T10:08:03.661Z"
      },
      {
        "duration": 14,
        "start_time": "2022-07-05T10:08:03.674Z"
      },
      {
        "duration": 6,
        "start_time": "2022-07-05T10:08:03.689Z"
      },
      {
        "duration": 1946,
        "start_time": "2022-07-05T10:08:03.697Z"
      },
      {
        "duration": 3481,
        "start_time": "2022-07-05T10:08:05.646Z"
      },
      {
        "duration": 13,
        "start_time": "2022-07-05T10:08:09.134Z"
      },
      {
        "duration": 101,
        "start_time": "2022-07-05T10:08:09.152Z"
      },
      {
        "duration": 839,
        "start_time": "2022-07-05T10:08:09.259Z"
      },
      {
        "duration": 855,
        "start_time": "2022-07-05T10:08:10.100Z"
      },
      {
        "duration": 790,
        "start_time": "2022-07-05T10:08:10.957Z"
      },
      {
        "duration": 5,
        "start_time": "2022-07-05T10:08:11.749Z"
      },
      {
        "duration": 655,
        "start_time": "2022-07-05T10:08:11.756Z"
      },
      {
        "duration": 544,
        "start_time": "2022-07-05T10:08:12.414Z"
      },
      {
        "duration": 728,
        "start_time": "2022-07-05T10:08:12.961Z"
      },
      {
        "duration": 4,
        "start_time": "2022-07-05T10:08:13.691Z"
      },
      {
        "duration": 85,
        "start_time": "2022-07-05T10:08:13.697Z"
      },
      {
        "duration": 169,
        "start_time": "2022-07-05T10:08:13.783Z"
      },
      {
        "duration": 0,
        "start_time": "2022-07-05T10:08:13.954Z"
      },
      {
        "duration": 0,
        "start_time": "2022-07-05T10:08:13.955Z"
      },
      {
        "duration": 0,
        "start_time": "2022-07-05T10:08:13.957Z"
      },
      {
        "duration": 0,
        "start_time": "2022-07-05T10:08:13.958Z"
      },
      {
        "duration": 0,
        "start_time": "2022-07-05T10:08:13.960Z"
      },
      {
        "duration": 0,
        "start_time": "2022-07-05T10:08:13.961Z"
      },
      {
        "duration": 0,
        "start_time": "2022-07-05T10:08:13.962Z"
      },
      {
        "duration": 0,
        "start_time": "2022-07-05T10:08:13.964Z"
      },
      {
        "duration": 0,
        "start_time": "2022-07-05T10:08:13.965Z"
      },
      {
        "duration": 0,
        "start_time": "2022-07-05T10:08:13.966Z"
      },
      {
        "duration": 0,
        "start_time": "2022-07-05T10:08:13.967Z"
      },
      {
        "duration": 17336,
        "start_time": "2022-07-05T10:09:02.196Z"
      },
      {
        "duration": 13833,
        "start_time": "2022-07-05T10:09:28.002Z"
      },
      {
        "duration": 10955,
        "start_time": "2022-07-05T10:10:32.671Z"
      },
      {
        "duration": 8,
        "start_time": "2022-07-05T10:10:46.421Z"
      },
      {
        "duration": 3,
        "start_time": "2022-07-05T10:12:05.737Z"
      },
      {
        "duration": 103362,
        "start_time": "2022-07-05T10:12:06.811Z"
      },
      {
        "duration": 627,
        "start_time": "2022-07-05T10:13:54.930Z"
      },
      {
        "duration": 18,
        "start_time": "2022-07-05T10:13:55.559Z"
      },
      {
        "duration": 20,
        "start_time": "2022-07-05T10:13:55.578Z"
      },
      {
        "duration": 121,
        "start_time": "2022-07-05T10:13:55.622Z"
      },
      {
        "duration": 4,
        "start_time": "2022-07-05T10:13:55.745Z"
      },
      {
        "duration": 236,
        "start_time": "2022-07-05T10:13:55.751Z"
      },
      {
        "duration": 13,
        "start_time": "2022-07-05T10:13:55.989Z"
      },
      {
        "duration": 31,
        "start_time": "2022-07-05T10:13:56.004Z"
      },
      {
        "duration": 24,
        "start_time": "2022-07-05T10:13:56.037Z"
      },
      {
        "duration": 26,
        "start_time": "2022-07-05T10:13:56.063Z"
      },
      {
        "duration": 7,
        "start_time": "2022-07-05T10:13:56.090Z"
      },
      {
        "duration": 1228,
        "start_time": "2022-07-05T10:13:56.099Z"
      },
      {
        "duration": 1297,
        "start_time": "2022-07-05T10:13:57.328Z"
      },
      {
        "duration": 94,
        "start_time": "2022-07-05T10:13:58.629Z"
      },
      {
        "duration": 4,
        "start_time": "2022-07-05T10:13:58.726Z"
      },
      {
        "duration": 839,
        "start_time": "2022-07-05T10:13:58.732Z"
      },
      {
        "duration": 650,
        "start_time": "2022-07-05T10:13:59.573Z"
      },
      {
        "duration": 756,
        "start_time": "2022-07-05T10:14:00.225Z"
      },
      {
        "duration": 4,
        "start_time": "2022-07-05T10:14:00.983Z"
      },
      {
        "duration": 487,
        "start_time": "2022-07-05T10:14:00.989Z"
      },
      {
        "duration": 454,
        "start_time": "2022-07-05T10:14:01.477Z"
      },
      {
        "duration": 722,
        "start_time": "2022-07-05T10:14:01.934Z"
      },
      {
        "duration": 3,
        "start_time": "2022-07-05T10:14:02.658Z"
      },
      {
        "duration": 27,
        "start_time": "2022-07-05T10:14:02.663Z"
      },
      {
        "duration": 12035,
        "start_time": "2022-07-05T10:14:02.691Z"
      },
      {
        "duration": 11698,
        "start_time": "2022-07-05T10:14:14.728Z"
      },
      {
        "duration": 97,
        "start_time": "2022-07-05T10:14:26.428Z"
      },
      {
        "duration": 6,
        "start_time": "2022-07-05T10:14:26.526Z"
      },
      {
        "duration": 131618,
        "start_time": "2022-07-05T10:14:26.534Z"
      },
      {
        "duration": 0,
        "start_time": "2022-07-05T10:16:38.154Z"
      },
      {
        "duration": 0,
        "start_time": "2022-07-05T10:16:38.155Z"
      },
      {
        "duration": 0,
        "start_time": "2022-07-05T10:16:38.156Z"
      },
      {
        "duration": 0,
        "start_time": "2022-07-05T10:16:38.158Z"
      },
      {
        "duration": 0,
        "start_time": "2022-07-05T10:16:38.158Z"
      },
      {
        "duration": 0,
        "start_time": "2022-07-05T10:16:38.159Z"
      },
      {
        "duration": 0,
        "start_time": "2022-07-05T10:16:38.161Z"
      },
      {
        "duration": 662,
        "start_time": "2022-07-05T10:16:41.393Z"
      },
      {
        "duration": 17,
        "start_time": "2022-07-05T10:16:42.058Z"
      },
      {
        "duration": 21,
        "start_time": "2022-07-05T10:16:42.076Z"
      },
      {
        "duration": 152,
        "start_time": "2022-07-05T10:16:42.099Z"
      },
      {
        "duration": 3,
        "start_time": "2022-07-05T10:16:42.253Z"
      },
      {
        "duration": 243,
        "start_time": "2022-07-05T10:16:42.258Z"
      },
      {
        "duration": 11,
        "start_time": "2022-07-05T10:16:42.503Z"
      },
      {
        "duration": 6,
        "start_time": "2022-07-05T10:16:42.522Z"
      },
      {
        "duration": 6,
        "start_time": "2022-07-05T10:16:42.531Z"
      },
      {
        "duration": 14,
        "start_time": "2022-07-05T10:16:42.539Z"
      },
      {
        "duration": 6,
        "start_time": "2022-07-05T10:16:42.554Z"
      },
      {
        "duration": 1265,
        "start_time": "2022-07-05T10:16:42.562Z"
      },
      {
        "duration": 1399,
        "start_time": "2022-07-05T10:16:43.830Z"
      },
      {
        "duration": 95,
        "start_time": "2022-07-05T10:16:45.231Z"
      },
      {
        "duration": 3,
        "start_time": "2022-07-05T10:16:45.328Z"
      },
      {
        "duration": 687,
        "start_time": "2022-07-05T10:16:45.333Z"
      },
      {
        "duration": 783,
        "start_time": "2022-07-05T10:16:46.024Z"
      },
      {
        "duration": 636,
        "start_time": "2022-07-05T10:16:46.809Z"
      },
      {
        "duration": 4,
        "start_time": "2022-07-05T10:16:47.447Z"
      },
      {
        "duration": 562,
        "start_time": "2022-07-05T10:16:47.453Z"
      },
      {
        "duration": 527,
        "start_time": "2022-07-05T10:16:48.023Z"
      },
      {
        "duration": 827,
        "start_time": "2022-07-05T10:16:48.552Z"
      },
      {
        "duration": 4,
        "start_time": "2022-07-05T10:16:49.381Z"
      },
      {
        "duration": 42,
        "start_time": "2022-07-05T10:16:49.387Z"
      },
      {
        "duration": 10795,
        "start_time": "2022-07-05T10:16:49.431Z"
      },
      {
        "duration": 13198,
        "start_time": "2022-07-05T10:17:00.228Z"
      },
      {
        "duration": 12,
        "start_time": "2022-07-05T10:17:13.427Z"
      },
      {
        "duration": 4,
        "start_time": "2022-07-05T10:17:13.522Z"
      },
      {
        "duration": 232258,
        "start_time": "2022-07-05T10:17:13.528Z"
      },
      {
        "duration": 0,
        "start_time": "2022-07-05T10:21:05.788Z"
      },
      {
        "duration": 0,
        "start_time": "2022-07-05T10:21:05.790Z"
      },
      {
        "duration": 0,
        "start_time": "2022-07-05T10:21:05.791Z"
      },
      {
        "duration": 0,
        "start_time": "2022-07-05T10:21:05.793Z"
      },
      {
        "duration": 0,
        "start_time": "2022-07-05T10:21:05.794Z"
      },
      {
        "duration": 0,
        "start_time": "2022-07-05T10:21:05.795Z"
      },
      {
        "duration": 0,
        "start_time": "2022-07-05T10:21:05.797Z"
      },
      {
        "duration": 650,
        "start_time": "2022-07-05T10:21:09.446Z"
      },
      {
        "duration": 28,
        "start_time": "2022-07-05T10:21:10.098Z"
      },
      {
        "duration": 21,
        "start_time": "2022-07-05T10:21:10.128Z"
      },
      {
        "duration": 130,
        "start_time": "2022-07-05T10:21:10.151Z"
      },
      {
        "duration": 4,
        "start_time": "2022-07-05T10:21:10.282Z"
      },
      {
        "duration": 243,
        "start_time": "2022-07-05T10:21:10.288Z"
      },
      {
        "duration": 11,
        "start_time": "2022-07-05T10:21:10.533Z"
      },
      {
        "duration": 8,
        "start_time": "2022-07-05T10:21:10.546Z"
      },
      {
        "duration": 4,
        "start_time": "2022-07-05T10:21:10.556Z"
      },
      {
        "duration": 11,
        "start_time": "2022-07-05T10:21:10.562Z"
      },
      {
        "duration": 6,
        "start_time": "2022-07-05T10:21:10.575Z"
      },
      {
        "duration": 1240,
        "start_time": "2022-07-05T10:21:10.583Z"
      },
      {
        "duration": 1194,
        "start_time": "2022-07-05T10:21:11.829Z"
      },
      {
        "duration": 107,
        "start_time": "2022-07-05T10:21:13.026Z"
      },
      {
        "duration": 5,
        "start_time": "2022-07-05T10:21:13.134Z"
      },
      {
        "duration": 794,
        "start_time": "2022-07-05T10:21:13.141Z"
      },
      {
        "duration": 646,
        "start_time": "2022-07-05T10:21:13.937Z"
      },
      {
        "duration": 832,
        "start_time": "2022-07-05T10:21:14.585Z"
      },
      {
        "duration": 4,
        "start_time": "2022-07-05T10:21:15.422Z"
      },
      {
        "duration": 483,
        "start_time": "2022-07-05T10:21:15.428Z"
      },
      {
        "duration": 508,
        "start_time": "2022-07-05T10:21:15.913Z"
      },
      {
        "duration": 781,
        "start_time": "2022-07-05T10:21:16.423Z"
      },
      {
        "duration": 4,
        "start_time": "2022-07-05T10:21:17.206Z"
      },
      {
        "duration": 65,
        "start_time": "2022-07-05T10:21:17.223Z"
      },
      {
        "duration": 10934,
        "start_time": "2022-07-05T10:21:17.290Z"
      },
      {
        "duration": 10907,
        "start_time": "2022-07-05T10:21:28.225Z"
      },
      {
        "duration": 11,
        "start_time": "2022-07-05T10:21:39.222Z"
      },
      {
        "duration": 18,
        "start_time": "2022-07-05T10:21:39.238Z"
      },
      {
        "duration": 92785,
        "start_time": "2022-07-05T10:21:39.259Z"
      },
      {
        "duration": 0,
        "start_time": "2022-07-05T10:23:12.046Z"
      },
      {
        "duration": 0,
        "start_time": "2022-07-05T10:23:12.047Z"
      },
      {
        "duration": 1,
        "start_time": "2022-07-05T10:23:12.048Z"
      },
      {
        "duration": 0,
        "start_time": "2022-07-05T10:23:12.050Z"
      },
      {
        "duration": 0,
        "start_time": "2022-07-05T10:23:12.051Z"
      },
      {
        "duration": 0,
        "start_time": "2022-07-05T10:23:12.052Z"
      },
      {
        "duration": 1,
        "start_time": "2022-07-05T10:23:12.053Z"
      },
      {
        "duration": 20,
        "start_time": "2022-07-05T10:23:15.206Z"
      },
      {
        "duration": 16,
        "start_time": "2022-07-05T10:23:50.802Z"
      },
      {
        "duration": 589,
        "start_time": "2022-07-05T10:24:03.792Z"
      },
      {
        "duration": 17,
        "start_time": "2022-07-05T10:24:04.407Z"
      },
      {
        "duration": 22,
        "start_time": "2022-07-05T10:24:05.894Z"
      },
      {
        "duration": 113,
        "start_time": "2022-07-05T10:24:07.346Z"
      },
      {
        "duration": 4,
        "start_time": "2022-07-05T10:24:08.369Z"
      },
      {
        "duration": 289,
        "start_time": "2022-07-05T10:24:08.834Z"
      },
      {
        "duration": 14,
        "start_time": "2022-07-05T10:24:09.288Z"
      },
      {
        "duration": 9,
        "start_time": "2022-07-05T10:24:11.685Z"
      },
      {
        "duration": 4,
        "start_time": "2022-07-05T10:24:12.465Z"
      },
      {
        "duration": 11,
        "start_time": "2022-07-05T10:24:15.359Z"
      },
      {
        "duration": 6,
        "start_time": "2022-07-05T10:24:16.665Z"
      },
      {
        "duration": 1067,
        "start_time": "2022-07-05T10:24:17.264Z"
      },
      {
        "duration": 1295,
        "start_time": "2022-07-05T10:24:18.333Z"
      },
      {
        "duration": 108,
        "start_time": "2022-07-05T10:24:19.631Z"
      },
      {
        "duration": 4,
        "start_time": "2022-07-05T10:24:21.526Z"
      },
      {
        "duration": 664,
        "start_time": "2022-07-05T10:24:22.182Z"
      },
      {
        "duration": 863,
        "start_time": "2022-07-05T10:24:22.848Z"
      },
      {
        "duration": 714,
        "start_time": "2022-07-05T10:24:23.712Z"
      },
      {
        "duration": 4,
        "start_time": "2022-07-05T10:24:25.947Z"
      },
      {
        "duration": 454,
        "start_time": "2022-07-05T10:24:26.870Z"
      },
      {
        "duration": 610,
        "start_time": "2022-07-05T10:24:27.448Z"
      },
      {
        "duration": 619,
        "start_time": "2022-07-05T10:24:29.206Z"
      },
      {
        "duration": 3,
        "start_time": "2022-07-05T10:24:32.028Z"
      },
      {
        "duration": 48,
        "start_time": "2022-07-05T10:24:35.339Z"
      },
      {
        "duration": 16,
        "start_time": "2022-07-05T10:27:24.820Z"
      },
      {
        "duration": 621,
        "start_time": "2022-07-05T10:27:45.606Z"
      },
      {
        "duration": 18,
        "start_time": "2022-07-05T10:27:46.229Z"
      },
      {
        "duration": 22,
        "start_time": "2022-07-05T10:27:46.248Z"
      },
      {
        "duration": 137,
        "start_time": "2022-07-05T10:27:46.271Z"
      },
      {
        "duration": 3,
        "start_time": "2022-07-05T10:27:46.410Z"
      },
      {
        "duration": 228,
        "start_time": "2022-07-05T10:27:46.415Z"
      },
      {
        "duration": 9,
        "start_time": "2022-07-05T10:27:46.645Z"
      },
      {
        "duration": 20,
        "start_time": "2022-07-05T10:27:46.656Z"
      },
      {
        "duration": 8,
        "start_time": "2022-07-05T10:27:46.678Z"
      },
      {
        "duration": 17,
        "start_time": "2022-07-05T10:27:46.687Z"
      },
      {
        "duration": 6,
        "start_time": "2022-07-05T10:27:46.706Z"
      },
      {
        "duration": 1114,
        "start_time": "2022-07-05T10:27:46.713Z"
      },
      {
        "duration": 1296,
        "start_time": "2022-07-05T10:27:47.828Z"
      },
      {
        "duration": 107,
        "start_time": "2022-07-05T10:27:49.129Z"
      },
      {
        "duration": 17,
        "start_time": "2022-07-05T10:27:49.237Z"
      },
      {
        "duration": 810,
        "start_time": "2022-07-05T10:27:49.256Z"
      },
      {
        "duration": 651,
        "start_time": "2022-07-05T10:27:50.067Z"
      },
      {
        "duration": 661,
        "start_time": "2022-07-05T10:27:50.720Z"
      },
      {
        "duration": 4,
        "start_time": "2022-07-05T10:27:51.383Z"
      },
      {
        "duration": 599,
        "start_time": "2022-07-05T10:27:51.389Z"
      },
      {
        "duration": 477,
        "start_time": "2022-07-05T10:27:51.990Z"
      },
      {
        "duration": 611,
        "start_time": "2022-07-05T10:27:52.468Z"
      },
      {
        "duration": 4,
        "start_time": "2022-07-05T10:27:53.081Z"
      },
      {
        "duration": 64,
        "start_time": "2022-07-05T10:27:53.086Z"
      },
      {
        "duration": 9974,
        "start_time": "2022-07-05T10:27:53.152Z"
      },
      {
        "duration": 9596,
        "start_time": "2022-07-05T10:28:03.127Z"
      },
      {
        "duration": 99,
        "start_time": "2022-07-05T10:28:12.725Z"
      },
      {
        "duration": 7,
        "start_time": "2022-07-05T10:28:12.826Z"
      },
      {
        "duration": 512610,
        "start_time": "2022-07-05T10:28:12.835Z"
      },
      {
        "duration": 0,
        "start_time": "2022-07-05T10:36:45.447Z"
      },
      {
        "duration": 0,
        "start_time": "2022-07-05T10:36:45.448Z"
      },
      {
        "duration": 0,
        "start_time": "2022-07-05T10:36:45.449Z"
      },
      {
        "duration": 0,
        "start_time": "2022-07-05T10:36:45.450Z"
      },
      {
        "duration": 0,
        "start_time": "2022-07-05T10:36:45.451Z"
      },
      {
        "duration": 0,
        "start_time": "2022-07-05T10:36:45.452Z"
      },
      {
        "duration": 0,
        "start_time": "2022-07-05T10:36:45.453Z"
      },
      {
        "duration": 616,
        "start_time": "2022-07-05T10:37:21.623Z"
      },
      {
        "duration": 17,
        "start_time": "2022-07-05T10:37:22.242Z"
      },
      {
        "duration": 20,
        "start_time": "2022-07-05T10:37:22.261Z"
      },
      {
        "duration": 133,
        "start_time": "2022-07-05T10:37:22.283Z"
      },
      {
        "duration": 4,
        "start_time": "2022-07-05T10:37:22.422Z"
      },
      {
        "duration": 243,
        "start_time": "2022-07-05T10:37:22.428Z"
      },
      {
        "duration": 15,
        "start_time": "2022-07-05T10:37:22.673Z"
      },
      {
        "duration": 10,
        "start_time": "2022-07-05T10:37:22.690Z"
      },
      {
        "duration": 23,
        "start_time": "2022-07-05T10:37:22.702Z"
      },
      {
        "duration": 17,
        "start_time": "2022-07-05T10:37:22.727Z"
      },
      {
        "duration": 6,
        "start_time": "2022-07-05T10:37:22.746Z"
      },
      {
        "duration": 1179,
        "start_time": "2022-07-05T10:37:22.754Z"
      },
      {
        "duration": 1211,
        "start_time": "2022-07-05T10:37:24.024Z"
      },
      {
        "duration": 20,
        "start_time": "2022-07-05T10:37:25.323Z"
      },
      {
        "duration": 5,
        "start_time": "2022-07-05T10:37:25.345Z"
      },
      {
        "duration": 678,
        "start_time": "2022-07-05T10:37:25.424Z"
      },
      {
        "duration": 668,
        "start_time": "2022-07-05T10:37:26.104Z"
      },
      {
        "duration": 780,
        "start_time": "2022-07-05T10:37:26.774Z"
      },
      {
        "duration": 4,
        "start_time": "2022-07-05T10:37:27.556Z"
      },
      {
        "duration": 457,
        "start_time": "2022-07-05T10:37:27.561Z"
      },
      {
        "duration": 469,
        "start_time": "2022-07-05T10:37:28.023Z"
      },
      {
        "duration": 846,
        "start_time": "2022-07-05T10:37:28.494Z"
      },
      {
        "duration": 3,
        "start_time": "2022-07-05T10:37:29.342Z"
      },
      {
        "duration": 58,
        "start_time": "2022-07-05T10:37:29.346Z"
      },
      {
        "duration": 11120,
        "start_time": "2022-07-05T10:37:29.406Z"
      },
      {
        "duration": 11600,
        "start_time": "2022-07-05T10:37:40.528Z"
      },
      {
        "duration": 91,
        "start_time": "2022-07-05T10:37:52.132Z"
      },
      {
        "duration": 12,
        "start_time": "2022-07-05T10:37:52.226Z"
      },
      {
        "duration": 2699193,
        "start_time": "2022-07-05T10:37:52.240Z"
      },
      {
        "duration": 0,
        "start_time": "2022-07-05T11:22:51.435Z"
      },
      {
        "duration": 0,
        "start_time": "2022-07-05T11:22:51.436Z"
      },
      {
        "duration": 0,
        "start_time": "2022-07-05T11:22:51.438Z"
      },
      {
        "duration": 0,
        "start_time": "2022-07-05T11:22:51.439Z"
      },
      {
        "duration": 0,
        "start_time": "2022-07-05T11:22:51.441Z"
      },
      {
        "duration": 0,
        "start_time": "2022-07-05T11:22:51.442Z"
      },
      {
        "duration": 0,
        "start_time": "2022-07-05T11:22:51.444Z"
      },
      {
        "duration": 724,
        "start_time": "2022-07-05T14:31:50.634Z"
      },
      {
        "duration": 919,
        "start_time": "2022-07-05T14:32:39.313Z"
      },
      {
        "duration": 5,
        "start_time": "2022-07-05T14:37:12.671Z"
      },
      {
        "duration": 10012,
        "start_time": "2022-07-05T14:38:17.215Z"
      },
      {
        "duration": 719,
        "start_time": "2022-07-05T14:39:23.306Z"
      },
      {
        "duration": 19,
        "start_time": "2022-07-05T14:39:24.027Z"
      },
      {
        "duration": 25,
        "start_time": "2022-07-05T14:39:24.048Z"
      },
      {
        "duration": 148,
        "start_time": "2022-07-05T14:39:24.075Z"
      },
      {
        "duration": 4,
        "start_time": "2022-07-05T14:39:24.225Z"
      },
      {
        "duration": 292,
        "start_time": "2022-07-05T14:39:24.231Z"
      },
      {
        "duration": 13,
        "start_time": "2022-07-05T14:39:24.524Z"
      },
      {
        "duration": 9,
        "start_time": "2022-07-05T14:39:24.539Z"
      },
      {
        "duration": 7,
        "start_time": "2022-07-05T14:39:24.550Z"
      },
      {
        "duration": 12,
        "start_time": "2022-07-05T14:39:24.558Z"
      },
      {
        "duration": 6,
        "start_time": "2022-07-05T14:39:24.572Z"
      },
      {
        "duration": 1249,
        "start_time": "2022-07-05T14:39:24.580Z"
      },
      {
        "duration": 1394,
        "start_time": "2022-07-05T14:39:25.831Z"
      },
      {
        "duration": 106,
        "start_time": "2022-07-05T14:39:27.228Z"
      },
      {
        "duration": 4,
        "start_time": "2022-07-05T14:39:27.335Z"
      },
      {
        "duration": 799,
        "start_time": "2022-07-05T14:39:27.341Z"
      },
      {
        "duration": 695,
        "start_time": "2022-07-05T14:39:28.142Z"
      },
      {
        "duration": 911,
        "start_time": "2022-07-05T14:39:28.839Z"
      },
      {
        "duration": 5,
        "start_time": "2022-07-05T14:39:29.753Z"
      },
      {
        "duration": 547,
        "start_time": "2022-07-05T14:39:29.760Z"
      },
      {
        "duration": 524,
        "start_time": "2022-07-05T14:39:30.310Z"
      },
      {
        "duration": 798,
        "start_time": "2022-07-05T14:39:30.836Z"
      },
      {
        "duration": 4,
        "start_time": "2022-07-05T14:39:31.636Z"
      },
      {
        "duration": 61,
        "start_time": "2022-07-05T14:39:31.641Z"
      },
      {
        "duration": 10420,
        "start_time": "2022-07-05T14:39:31.704Z"
      },
      {
        "duration": 9800,
        "start_time": "2022-07-05T14:39:42.126Z"
      },
      {
        "duration": 96,
        "start_time": "2022-07-05T14:39:51.928Z"
      },
      {
        "duration": 3,
        "start_time": "2022-07-05T14:39:52.028Z"
      },
      {
        "duration": 480749,
        "start_time": "2022-07-05T14:39:52.033Z"
      },
      {
        "duration": 0,
        "start_time": "2022-07-05T14:47:52.784Z"
      },
      {
        "duration": 0,
        "start_time": "2022-07-05T14:47:52.786Z"
      },
      {
        "duration": 0,
        "start_time": "2022-07-05T14:47:52.787Z"
      },
      {
        "duration": 0,
        "start_time": "2022-07-05T14:47:52.788Z"
      },
      {
        "duration": 0,
        "start_time": "2022-07-05T14:47:52.789Z"
      },
      {
        "duration": 0,
        "start_time": "2022-07-05T14:47:52.790Z"
      },
      {
        "duration": 0,
        "start_time": "2022-07-05T14:47:52.792Z"
      },
      {
        "duration": 0,
        "start_time": "2022-07-05T14:47:52.795Z"
      },
      {
        "duration": 0,
        "start_time": "2022-07-05T14:47:52.796Z"
      },
      {
        "duration": 0,
        "start_time": "2022-07-05T14:48:18.349Z"
      },
      {
        "duration": 0,
        "start_time": "2022-07-05T14:48:18.350Z"
      },
      {
        "duration": 0,
        "start_time": "2022-07-05T14:48:18.351Z"
      },
      {
        "duration": 0,
        "start_time": "2022-07-05T14:48:18.352Z"
      },
      {
        "duration": 0,
        "start_time": "2022-07-05T14:48:18.353Z"
      },
      {
        "duration": 0,
        "start_time": "2022-07-05T14:48:18.354Z"
      },
      {
        "duration": 0,
        "start_time": "2022-07-05T14:48:18.355Z"
      },
      {
        "duration": 0,
        "start_time": "2022-07-05T14:48:18.356Z"
      },
      {
        "duration": 0,
        "start_time": "2022-07-05T14:48:18.357Z"
      },
      {
        "duration": 0,
        "start_time": "2022-07-05T14:48:18.358Z"
      },
      {
        "duration": 0,
        "start_time": "2022-07-05T14:48:18.359Z"
      },
      {
        "duration": 0,
        "start_time": "2022-07-05T14:48:18.360Z"
      },
      {
        "duration": 0,
        "start_time": "2022-07-05T14:48:18.362Z"
      },
      {
        "duration": 0,
        "start_time": "2022-07-05T14:48:18.363Z"
      },
      {
        "duration": 0,
        "start_time": "2022-07-05T14:48:18.364Z"
      },
      {
        "duration": 0,
        "start_time": "2022-07-05T14:48:18.365Z"
      },
      {
        "duration": 0,
        "start_time": "2022-07-05T14:48:18.366Z"
      },
      {
        "duration": 0,
        "start_time": "2022-07-05T14:48:18.367Z"
      },
      {
        "duration": 0,
        "start_time": "2022-07-05T14:48:18.368Z"
      },
      {
        "duration": 0,
        "start_time": "2022-07-05T14:48:18.369Z"
      },
      {
        "duration": 0,
        "start_time": "2022-07-05T14:48:18.370Z"
      },
      {
        "duration": 0,
        "start_time": "2022-07-05T14:48:18.371Z"
      },
      {
        "duration": 0,
        "start_time": "2022-07-05T14:48:18.373Z"
      },
      {
        "duration": 0,
        "start_time": "2022-07-05T14:48:18.374Z"
      },
      {
        "duration": 0,
        "start_time": "2022-07-05T14:48:18.375Z"
      },
      {
        "duration": 0,
        "start_time": "2022-07-05T14:48:18.382Z"
      },
      {
        "duration": 0,
        "start_time": "2022-07-05T14:48:18.382Z"
      },
      {
        "duration": 0,
        "start_time": "2022-07-05T14:48:18.383Z"
      },
      {
        "duration": 0,
        "start_time": "2022-07-05T14:48:18.383Z"
      },
      {
        "duration": 1,
        "start_time": "2022-07-05T14:48:18.422Z"
      },
      {
        "duration": 0,
        "start_time": "2022-07-05T14:48:18.425Z"
      },
      {
        "duration": 0,
        "start_time": "2022-07-05T14:48:18.426Z"
      },
      {
        "duration": 0,
        "start_time": "2022-07-05T14:48:18.427Z"
      },
      {
        "duration": 0,
        "start_time": "2022-07-05T14:48:18.429Z"
      },
      {
        "duration": 0,
        "start_time": "2022-07-05T14:48:18.430Z"
      },
      {
        "duration": 0,
        "start_time": "2022-07-05T14:48:18.431Z"
      },
      {
        "duration": 605,
        "start_time": "2022-07-05T14:48:24.586Z"
      },
      {
        "duration": 17,
        "start_time": "2022-07-05T14:48:25.193Z"
      },
      {
        "duration": 31,
        "start_time": "2022-07-05T14:48:25.212Z"
      },
      {
        "duration": 140,
        "start_time": "2022-07-05T14:48:25.245Z"
      },
      {
        "duration": 4,
        "start_time": "2022-07-05T14:48:25.388Z"
      },
      {
        "duration": 275,
        "start_time": "2022-07-05T14:48:25.395Z"
      },
      {
        "duration": 11,
        "start_time": "2022-07-05T14:48:25.672Z"
      },
      {
        "duration": 8,
        "start_time": "2022-07-05T14:48:25.685Z"
      },
      {
        "duration": 7,
        "start_time": "2022-07-05T14:48:25.695Z"
      },
      {
        "duration": 11,
        "start_time": "2022-07-05T14:48:25.724Z"
      },
      {
        "duration": 6,
        "start_time": "2022-07-05T14:48:25.737Z"
      },
      {
        "duration": 1277,
        "start_time": "2022-07-05T14:48:25.745Z"
      },
      {
        "duration": 1305,
        "start_time": "2022-07-05T14:48:27.024Z"
      },
      {
        "duration": 23,
        "start_time": "2022-07-05T14:48:28.422Z"
      },
      {
        "duration": 4,
        "start_time": "2022-07-05T14:48:28.447Z"
      },
      {
        "duration": 835,
        "start_time": "2022-07-05T14:48:28.452Z"
      },
      {
        "duration": 853,
        "start_time": "2022-07-05T14:48:29.289Z"
      },
      {
        "duration": 747,
        "start_time": "2022-07-05T14:48:30.144Z"
      },
      {
        "duration": 5,
        "start_time": "2022-07-05T14:48:30.892Z"
      },
      {
        "duration": 524,
        "start_time": "2022-07-05T14:48:30.899Z"
      },
      {
        "duration": 657,
        "start_time": "2022-07-05T14:48:31.425Z"
      },
      {
        "duration": 667,
        "start_time": "2022-07-05T14:48:32.083Z"
      },
      {
        "duration": 4,
        "start_time": "2022-07-05T14:48:32.752Z"
      },
      {
        "duration": 104,
        "start_time": "2022-07-05T14:48:32.757Z"
      },
      {
        "duration": 16266,
        "start_time": "2022-07-05T14:48:32.863Z"
      },
      {
        "duration": 16394,
        "start_time": "2022-07-05T14:48:49.131Z"
      },
      {
        "duration": 97,
        "start_time": "2022-07-05T14:49:05.527Z"
      },
      {
        "duration": 6,
        "start_time": "2022-07-05T14:49:05.626Z"
      },
      {
        "duration": 111269,
        "start_time": "2022-07-05T14:49:05.633Z"
      },
      {
        "duration": 0,
        "start_time": "2022-07-05T14:50:56.904Z"
      },
      {
        "duration": 0,
        "start_time": "2022-07-05T14:50:56.906Z"
      },
      {
        "duration": 0,
        "start_time": "2022-07-05T14:50:56.907Z"
      },
      {
        "duration": 0,
        "start_time": "2022-07-05T14:50:56.908Z"
      },
      {
        "duration": 0,
        "start_time": "2022-07-05T14:50:56.914Z"
      },
      {
        "duration": 0,
        "start_time": "2022-07-05T14:50:56.915Z"
      },
      {
        "duration": 0,
        "start_time": "2022-07-05T14:50:56.915Z"
      },
      {
        "duration": 0,
        "start_time": "2022-07-05T14:50:56.922Z"
      },
      {
        "duration": 738,
        "start_time": "2022-07-05T14:51:19.463Z"
      },
      {
        "duration": 26,
        "start_time": "2022-07-05T14:51:20.203Z"
      },
      {
        "duration": 25,
        "start_time": "2022-07-05T14:51:20.230Z"
      },
      {
        "duration": 150,
        "start_time": "2022-07-05T14:51:20.257Z"
      },
      {
        "duration": 4,
        "start_time": "2022-07-05T14:51:20.410Z"
      },
      {
        "duration": 298,
        "start_time": "2022-07-05T14:51:20.416Z"
      },
      {
        "duration": 14,
        "start_time": "2022-07-05T14:51:20.716Z"
      },
      {
        "duration": 8,
        "start_time": "2022-07-05T14:51:20.731Z"
      },
      {
        "duration": 5,
        "start_time": "2022-07-05T14:51:20.740Z"
      },
      {
        "duration": 13,
        "start_time": "2022-07-05T14:51:20.747Z"
      },
      {
        "duration": 8,
        "start_time": "2022-07-05T14:51:20.762Z"
      },
      {
        "duration": 1160,
        "start_time": "2022-07-05T14:51:20.771Z"
      },
      {
        "duration": 1196,
        "start_time": "2022-07-05T14:51:21.935Z"
      },
      {
        "duration": 106,
        "start_time": "2022-07-05T14:51:23.134Z"
      },
      {
        "duration": 4,
        "start_time": "2022-07-05T14:51:23.242Z"
      },
      {
        "duration": 856,
        "start_time": "2022-07-05T14:51:23.248Z"
      },
      {
        "duration": 703,
        "start_time": "2022-07-05T14:51:24.106Z"
      },
      {
        "duration": 690,
        "start_time": "2022-07-05T14:51:24.811Z"
      },
      {
        "duration": 5,
        "start_time": "2022-07-05T14:51:25.503Z"
      },
      {
        "duration": 690,
        "start_time": "2022-07-05T14:51:25.509Z"
      },
      {
        "duration": 527,
        "start_time": "2022-07-05T14:51:26.202Z"
      },
      {
        "duration": 688,
        "start_time": "2022-07-05T14:51:26.732Z"
      },
      {
        "duration": 4,
        "start_time": "2022-07-05T14:51:27.422Z"
      },
      {
        "duration": 199,
        "start_time": "2022-07-05T14:51:27.428Z"
      },
      {
        "duration": 0,
        "start_time": "2022-07-05T14:51:27.629Z"
      },
      {
        "duration": 0,
        "start_time": "2022-07-05T14:51:27.630Z"
      },
      {
        "duration": 0,
        "start_time": "2022-07-05T14:51:27.631Z"
      },
      {
        "duration": 0,
        "start_time": "2022-07-05T14:51:27.633Z"
      },
      {
        "duration": 1,
        "start_time": "2022-07-05T14:51:27.634Z"
      },
      {
        "duration": 0,
        "start_time": "2022-07-05T14:51:27.636Z"
      },
      {
        "duration": 0,
        "start_time": "2022-07-05T14:51:27.638Z"
      },
      {
        "duration": 0,
        "start_time": "2022-07-05T14:51:27.639Z"
      },
      {
        "duration": 0,
        "start_time": "2022-07-05T14:51:27.641Z"
      },
      {
        "duration": 0,
        "start_time": "2022-07-05T14:51:27.642Z"
      },
      {
        "duration": 0,
        "start_time": "2022-07-05T14:51:27.643Z"
      },
      {
        "duration": 0,
        "start_time": "2022-07-05T14:51:27.644Z"
      },
      {
        "duration": 80,
        "start_time": "2022-07-05T14:54:13.068Z"
      },
      {
        "duration": 38,
        "start_time": "2022-07-05T14:54:52.743Z"
      },
      {
        "duration": 15,
        "start_time": "2022-07-05T14:54:57.092Z"
      },
      {
        "duration": 42,
        "start_time": "2022-07-05T14:55:23.974Z"
      },
      {
        "duration": 40,
        "start_time": "2022-07-05T14:58:13.245Z"
      },
      {
        "duration": 41,
        "start_time": "2022-07-05T14:59:01.822Z"
      },
      {
        "duration": 16392,
        "start_time": "2022-07-05T14:59:05.835Z"
      },
      {
        "duration": 16415,
        "start_time": "2022-07-05T14:59:23.211Z"
      },
      {
        "duration": 8,
        "start_time": "2022-07-05T14:59:40.594Z"
      },
      {
        "duration": 105,
        "start_time": "2022-07-05T15:00:17.867Z"
      },
      {
        "duration": 16067,
        "start_time": "2022-07-05T15:00:19.859Z"
      },
      {
        "duration": 17703,
        "start_time": "2022-07-05T15:00:35.929Z"
      },
      {
        "duration": 99,
        "start_time": "2022-07-05T15:00:53.724Z"
      },
      {
        "duration": 21,
        "start_time": "2022-07-05T15:01:48.538Z"
      },
      {
        "duration": 72,
        "start_time": "2022-07-05T15:04:22.458Z"
      },
      {
        "duration": 11643,
        "start_time": "2022-07-05T15:04:26.282Z"
      },
      {
        "duration": 12100,
        "start_time": "2022-07-05T15:04:37.928Z"
      },
      {
        "duration": 98,
        "start_time": "2022-07-05T15:04:50.030Z"
      },
      {
        "duration": 19,
        "start_time": "2022-07-05T15:05:08.726Z"
      },
      {
        "duration": 16,
        "start_time": "2022-07-05T15:05:25.330Z"
      },
      {
        "duration": 610,
        "start_time": "2022-07-05T15:05:43.440Z"
      },
      {
        "duration": 16,
        "start_time": "2022-07-05T15:05:44.052Z"
      },
      {
        "duration": 21,
        "start_time": "2022-07-05T15:05:44.070Z"
      },
      {
        "duration": 143,
        "start_time": "2022-07-05T15:05:44.093Z"
      },
      {
        "duration": 3,
        "start_time": "2022-07-05T15:05:44.238Z"
      },
      {
        "duration": 243,
        "start_time": "2022-07-05T15:05:44.243Z"
      },
      {
        "duration": 11,
        "start_time": "2022-07-05T15:05:44.488Z"
      },
      {
        "duration": 22,
        "start_time": "2022-07-05T15:05:44.501Z"
      },
      {
        "duration": 5,
        "start_time": "2022-07-05T15:05:44.525Z"
      },
      {
        "duration": 17,
        "start_time": "2022-07-05T15:05:44.532Z"
      },
      {
        "duration": 8,
        "start_time": "2022-07-05T15:05:44.551Z"
      },
      {
        "duration": 1261,
        "start_time": "2022-07-05T15:05:44.561Z"
      },
      {
        "duration": 1201,
        "start_time": "2022-07-05T15:05:45.825Z"
      },
      {
        "duration": 19,
        "start_time": "2022-07-05T15:05:47.030Z"
      },
      {
        "duration": 5,
        "start_time": "2022-07-05T15:05:47.051Z"
      },
      {
        "duration": 775,
        "start_time": "2022-07-05T15:05:47.058Z"
      },
      {
        "duration": 718,
        "start_time": "2022-07-05T15:05:47.835Z"
      },
      {
        "duration": 889,
        "start_time": "2022-07-05T15:05:48.555Z"
      },
      {
        "duration": 5,
        "start_time": "2022-07-05T15:05:49.446Z"
      },
      {
        "duration": 574,
        "start_time": "2022-07-05T15:05:49.452Z"
      },
      {
        "duration": 507,
        "start_time": "2022-07-05T15:05:50.028Z"
      },
      {
        "duration": 805,
        "start_time": "2022-07-05T15:05:50.537Z"
      },
      {
        "duration": 3,
        "start_time": "2022-07-05T15:05:51.344Z"
      },
      {
        "duration": 26,
        "start_time": "2022-07-05T15:05:51.349Z"
      },
      {
        "duration": 0,
        "start_time": "2022-07-05T15:05:51.377Z"
      },
      {
        "duration": 0,
        "start_time": "2022-07-05T15:05:51.378Z"
      },
      {
        "duration": 0,
        "start_time": "2022-07-05T15:05:51.379Z"
      },
      {
        "duration": 0,
        "start_time": "2022-07-05T15:05:51.380Z"
      },
      {
        "duration": 0,
        "start_time": "2022-07-05T15:05:51.381Z"
      },
      {
        "duration": 0,
        "start_time": "2022-07-05T15:05:51.382Z"
      },
      {
        "duration": 0,
        "start_time": "2022-07-05T15:05:51.383Z"
      },
      {
        "duration": 0,
        "start_time": "2022-07-05T15:05:51.385Z"
      },
      {
        "duration": 0,
        "start_time": "2022-07-05T15:05:51.386Z"
      },
      {
        "duration": 0,
        "start_time": "2022-07-05T15:05:51.387Z"
      },
      {
        "duration": 0,
        "start_time": "2022-07-05T15:05:51.388Z"
      },
      {
        "duration": 0,
        "start_time": "2022-07-05T15:05:51.390Z"
      },
      {
        "duration": 18,
        "start_time": "2022-07-05T15:06:10.998Z"
      },
      {
        "duration": 705,
        "start_time": "2022-07-05T15:06:16.065Z"
      },
      {
        "duration": 18,
        "start_time": "2022-07-05T15:06:16.772Z"
      },
      {
        "duration": 32,
        "start_time": "2022-07-05T15:06:16.792Z"
      },
      {
        "duration": 134,
        "start_time": "2022-07-05T15:06:16.826Z"
      },
      {
        "duration": 4,
        "start_time": "2022-07-05T15:06:16.963Z"
      },
      {
        "duration": 274,
        "start_time": "2022-07-05T15:06:16.968Z"
      },
      {
        "duration": 11,
        "start_time": "2022-07-05T15:06:17.244Z"
      },
      {
        "duration": 8,
        "start_time": "2022-07-05T15:06:17.256Z"
      },
      {
        "duration": 8,
        "start_time": "2022-07-05T15:06:17.265Z"
      },
      {
        "duration": 18,
        "start_time": "2022-07-05T15:06:17.275Z"
      },
      {
        "duration": 28,
        "start_time": "2022-07-05T15:06:17.295Z"
      },
      {
        "duration": 1201,
        "start_time": "2022-07-05T15:06:17.325Z"
      },
      {
        "duration": 1399,
        "start_time": "2022-07-05T15:06:18.528Z"
      },
      {
        "duration": 103,
        "start_time": "2022-07-05T15:06:19.931Z"
      },
      {
        "duration": 4,
        "start_time": "2022-07-05T15:06:20.036Z"
      },
      {
        "duration": 709,
        "start_time": "2022-07-05T15:06:20.042Z"
      },
      {
        "duration": 809,
        "start_time": "2022-07-05T15:06:20.753Z"
      },
      {
        "duration": 714,
        "start_time": "2022-07-05T15:06:21.564Z"
      },
      {
        "duration": 5,
        "start_time": "2022-07-05T15:06:22.279Z"
      },
      {
        "duration": 634,
        "start_time": "2022-07-05T15:06:22.286Z"
      },
      {
        "duration": 540,
        "start_time": "2022-07-05T15:06:22.921Z"
      },
      {
        "duration": 686,
        "start_time": "2022-07-05T15:06:23.463Z"
      },
      {
        "duration": 4,
        "start_time": "2022-07-05T15:06:24.151Z"
      },
      {
        "duration": 106,
        "start_time": "2022-07-05T15:06:24.158Z"
      },
      {
        "duration": 11161,
        "start_time": "2022-07-05T15:06:24.266Z"
      },
      {
        "duration": 11004,
        "start_time": "2022-07-05T15:06:35.430Z"
      },
      {
        "duration": 9,
        "start_time": "2022-07-05T15:06:46.524Z"
      },
      {
        "duration": 9,
        "start_time": "2022-07-05T15:06:46.534Z"
      },
      {
        "duration": 0,
        "start_time": "2022-07-05T15:09:28.844Z"
      },
      {
        "duration": 0,
        "start_time": "2022-07-05T15:09:28.846Z"
      },
      {
        "duration": 0,
        "start_time": "2022-07-05T15:09:28.846Z"
      },
      {
        "duration": 0,
        "start_time": "2022-07-05T15:09:28.848Z"
      },
      {
        "duration": 0,
        "start_time": "2022-07-05T15:09:28.849Z"
      },
      {
        "duration": 1,
        "start_time": "2022-07-05T15:09:28.849Z"
      },
      {
        "duration": 0,
        "start_time": "2022-07-05T15:09:28.850Z"
      },
      {
        "duration": 0,
        "start_time": "2022-07-05T15:09:28.851Z"
      },
      {
        "duration": 0,
        "start_time": "2022-07-05T15:09:28.852Z"
      },
      {
        "duration": 0,
        "start_time": "2022-07-05T15:09:28.853Z"
      },
      {
        "duration": 0,
        "start_time": "2022-07-05T15:09:28.855Z"
      },
      {
        "duration": 0,
        "start_time": "2022-07-05T15:09:28.856Z"
      },
      {
        "duration": 0,
        "start_time": "2022-07-05T15:09:28.857Z"
      },
      {
        "duration": 0,
        "start_time": "2022-07-05T15:09:28.858Z"
      },
      {
        "duration": 0,
        "start_time": "2022-07-05T15:09:28.859Z"
      },
      {
        "duration": 0,
        "start_time": "2022-07-05T15:09:28.860Z"
      },
      {
        "duration": 0,
        "start_time": "2022-07-05T15:09:28.861Z"
      },
      {
        "duration": 0,
        "start_time": "2022-07-05T15:09:28.862Z"
      },
      {
        "duration": 0,
        "start_time": "2022-07-05T15:09:28.863Z"
      },
      {
        "duration": 0,
        "start_time": "2022-07-05T15:09:28.864Z"
      },
      {
        "duration": 0,
        "start_time": "2022-07-05T15:09:28.865Z"
      },
      {
        "duration": 0,
        "start_time": "2022-07-05T15:09:28.866Z"
      },
      {
        "duration": 0,
        "start_time": "2022-07-05T15:09:28.867Z"
      },
      {
        "duration": 0,
        "start_time": "2022-07-05T15:09:28.868Z"
      },
      {
        "duration": 0,
        "start_time": "2022-07-05T15:09:28.869Z"
      },
      {
        "duration": 0,
        "start_time": "2022-07-05T15:09:28.870Z"
      },
      {
        "duration": 0,
        "start_time": "2022-07-05T15:09:28.871Z"
      },
      {
        "duration": 0,
        "start_time": "2022-07-05T15:09:28.923Z"
      },
      {
        "duration": 0,
        "start_time": "2022-07-05T15:09:28.925Z"
      },
      {
        "duration": 0,
        "start_time": "2022-07-05T15:09:28.926Z"
      },
      {
        "duration": 0,
        "start_time": "2022-07-05T15:09:28.927Z"
      },
      {
        "duration": 0,
        "start_time": "2022-07-05T15:09:28.928Z"
      },
      {
        "duration": 0,
        "start_time": "2022-07-05T15:09:28.929Z"
      },
      {
        "duration": 0,
        "start_time": "2022-07-05T15:09:28.931Z"
      },
      {
        "duration": 0,
        "start_time": "2022-07-05T15:09:28.932Z"
      },
      {
        "duration": 0,
        "start_time": "2022-07-05T15:09:28.933Z"
      },
      {
        "duration": 643,
        "start_time": "2022-07-05T15:09:31.558Z"
      },
      {
        "duration": 24,
        "start_time": "2022-07-05T15:09:32.203Z"
      },
      {
        "duration": 22,
        "start_time": "2022-07-05T15:09:32.228Z"
      },
      {
        "duration": 138,
        "start_time": "2022-07-05T15:09:32.252Z"
      },
      {
        "duration": 4,
        "start_time": "2022-07-05T15:09:32.392Z"
      },
      {
        "duration": 253,
        "start_time": "2022-07-05T15:09:32.397Z"
      },
      {
        "duration": 10,
        "start_time": "2022-07-05T15:09:32.652Z"
      },
      {
        "duration": 7,
        "start_time": "2022-07-05T15:09:32.663Z"
      },
      {
        "duration": 5,
        "start_time": "2022-07-05T15:09:32.672Z"
      },
      {
        "duration": 14,
        "start_time": "2022-07-05T15:09:32.680Z"
      },
      {
        "duration": 6,
        "start_time": "2022-07-05T15:09:32.724Z"
      },
      {
        "duration": 1195,
        "start_time": "2022-07-05T15:09:32.731Z"
      },
      {
        "duration": 1201,
        "start_time": "2022-07-05T15:09:33.928Z"
      },
      {
        "duration": 110,
        "start_time": "2022-07-05T15:09:35.131Z"
      },
      {
        "duration": 4,
        "start_time": "2022-07-05T15:09:35.323Z"
      },
      {
        "duration": 816,
        "start_time": "2022-07-05T15:09:35.328Z"
      },
      {
        "duration": 668,
        "start_time": "2022-07-05T15:09:36.146Z"
      },
      {
        "duration": 825,
        "start_time": "2022-07-05T15:09:36.816Z"
      },
      {
        "duration": 4,
        "start_time": "2022-07-05T15:09:37.643Z"
      },
      {
        "duration": 503,
        "start_time": "2022-07-05T15:09:37.649Z"
      },
      {
        "duration": 531,
        "start_time": "2022-07-05T15:09:38.154Z"
      },
      {
        "duration": 938,
        "start_time": "2022-07-05T15:09:38.687Z"
      },
      {
        "duration": 5,
        "start_time": "2022-07-05T15:09:39.626Z"
      },
      {
        "duration": 94,
        "start_time": "2022-07-05T15:09:39.632Z"
      },
      {
        "duration": 11402,
        "start_time": "2022-07-05T15:09:39.727Z"
      },
      {
        "duration": 12003,
        "start_time": "2022-07-05T15:09:51.222Z"
      },
      {
        "duration": 7,
        "start_time": "2022-07-05T15:10:03.227Z"
      },
      {
        "duration": 30,
        "start_time": "2022-07-05T15:10:03.237Z"
      },
      {
        "duration": 443657,
        "start_time": "2022-07-05T15:10:03.270Z"
      },
      {
        "duration": 0,
        "start_time": "2022-07-05T15:17:26.930Z"
      },
      {
        "duration": 0,
        "start_time": "2022-07-05T15:17:26.932Z"
      },
      {
        "duration": 0,
        "start_time": "2022-07-05T15:17:26.934Z"
      },
      {
        "duration": 0,
        "start_time": "2022-07-05T15:17:26.935Z"
      },
      {
        "duration": 0,
        "start_time": "2022-07-05T15:17:26.937Z"
      },
      {
        "duration": 0,
        "start_time": "2022-07-05T15:17:26.938Z"
      },
      {
        "duration": 0,
        "start_time": "2022-07-05T15:17:26.939Z"
      },
      {
        "duration": 0,
        "start_time": "2022-07-05T15:17:26.941Z"
      },
      {
        "duration": 0,
        "start_time": "2022-07-05T15:17:26.943Z"
      },
      {
        "duration": 634,
        "start_time": "2022-07-05T15:19:49.810Z"
      },
      {
        "duration": 18,
        "start_time": "2022-07-05T15:19:50.446Z"
      },
      {
        "duration": 42,
        "start_time": "2022-07-05T15:19:50.465Z"
      },
      {
        "duration": 135,
        "start_time": "2022-07-05T15:19:50.509Z"
      },
      {
        "duration": 4,
        "start_time": "2022-07-05T15:19:50.647Z"
      },
      {
        "duration": 272,
        "start_time": "2022-07-05T15:19:50.653Z"
      },
      {
        "duration": 12,
        "start_time": "2022-07-05T15:19:50.927Z"
      },
      {
        "duration": 29,
        "start_time": "2022-07-05T15:19:50.941Z"
      },
      {
        "duration": 25,
        "start_time": "2022-07-05T15:19:50.972Z"
      },
      {
        "duration": 37,
        "start_time": "2022-07-05T15:19:50.999Z"
      },
      {
        "duration": 19,
        "start_time": "2022-07-05T15:19:51.038Z"
      },
      {
        "duration": 1169,
        "start_time": "2022-07-05T15:19:51.059Z"
      },
      {
        "duration": 1603,
        "start_time": "2022-07-05T15:19:52.230Z"
      },
      {
        "duration": 104,
        "start_time": "2022-07-05T15:19:53.926Z"
      },
      {
        "duration": 4,
        "start_time": "2022-07-05T15:19:54.032Z"
      },
      {
        "duration": 697,
        "start_time": "2022-07-05T15:19:54.037Z"
      },
      {
        "duration": 805,
        "start_time": "2022-07-05T15:19:54.737Z"
      },
      {
        "duration": 715,
        "start_time": "2022-07-05T15:19:55.544Z"
      },
      {
        "duration": 4,
        "start_time": "2022-07-05T15:19:56.261Z"
      },
      {
        "duration": 491,
        "start_time": "2022-07-05T15:19:56.267Z"
      },
      {
        "duration": 651,
        "start_time": "2022-07-05T15:19:56.760Z"
      },
      {
        "duration": 684,
        "start_time": "2022-07-05T15:19:57.413Z"
      },
      {
        "duration": 5,
        "start_time": "2022-07-05T15:19:58.099Z"
      },
      {
        "duration": 18,
        "start_time": "2022-07-05T15:19:58.106Z"
      },
      {
        "duration": 13,
        "start_time": "2022-07-05T15:19:58.126Z"
      },
      {
        "duration": 25,
        "start_time": "2022-07-05T15:19:58.141Z"
      },
      {
        "duration": 0,
        "start_time": "2022-07-05T15:19:58.169Z"
      },
      {
        "duration": 0,
        "start_time": "2022-07-05T15:19:58.170Z"
      },
      {
        "duration": 0,
        "start_time": "2022-07-05T15:19:58.172Z"
      },
      {
        "duration": 0,
        "start_time": "2022-07-05T15:19:58.174Z"
      },
      {
        "duration": 0,
        "start_time": "2022-07-05T15:19:58.175Z"
      },
      {
        "duration": 0,
        "start_time": "2022-07-05T15:19:58.176Z"
      },
      {
        "duration": 0,
        "start_time": "2022-07-05T15:19:58.178Z"
      },
      {
        "duration": 0,
        "start_time": "2022-07-05T15:19:58.179Z"
      },
      {
        "duration": 0,
        "start_time": "2022-07-05T15:19:58.180Z"
      },
      {
        "duration": 0,
        "start_time": "2022-07-05T15:19:58.182Z"
      },
      {
        "duration": 0,
        "start_time": "2022-07-05T15:19:58.183Z"
      },
      {
        "duration": 0,
        "start_time": "2022-07-05T15:19:58.185Z"
      },
      {
        "duration": 19,
        "start_time": "2022-07-05T15:20:26.189Z"
      },
      {
        "duration": 616,
        "start_time": "2022-07-05T15:20:35.333Z"
      },
      {
        "duration": 19,
        "start_time": "2022-07-05T15:20:35.951Z"
      },
      {
        "duration": 43,
        "start_time": "2022-07-05T15:20:35.971Z"
      },
      {
        "duration": 129,
        "start_time": "2022-07-05T15:20:36.016Z"
      },
      {
        "duration": 4,
        "start_time": "2022-07-05T15:20:36.147Z"
      },
      {
        "duration": 242,
        "start_time": "2022-07-05T15:20:36.154Z"
      },
      {
        "duration": 11,
        "start_time": "2022-07-05T15:20:36.397Z"
      },
      {
        "duration": 17,
        "start_time": "2022-07-05T15:20:36.410Z"
      },
      {
        "duration": 7,
        "start_time": "2022-07-05T15:20:36.429Z"
      },
      {
        "duration": 14,
        "start_time": "2022-07-05T15:20:36.439Z"
      },
      {
        "duration": 12,
        "start_time": "2022-07-05T15:20:36.455Z"
      },
      {
        "duration": 1156,
        "start_time": "2022-07-05T15:20:36.468Z"
      },
      {
        "duration": 1398,
        "start_time": "2022-07-05T15:20:37.626Z"
      },
      {
        "duration": 101,
        "start_time": "2022-07-05T15:20:39.026Z"
      },
      {
        "duration": 6,
        "start_time": "2022-07-05T15:20:39.129Z"
      },
      {
        "duration": 838,
        "start_time": "2022-07-05T15:20:39.137Z"
      },
      {
        "duration": 681,
        "start_time": "2022-07-05T15:20:39.978Z"
      },
      {
        "duration": 826,
        "start_time": "2022-07-05T15:20:40.661Z"
      },
      {
        "duration": 4,
        "start_time": "2022-07-05T15:20:41.490Z"
      },
      {
        "duration": 509,
        "start_time": "2022-07-05T15:20:41.495Z"
      },
      {
        "duration": 516,
        "start_time": "2022-07-05T15:20:42.006Z"
      },
      {
        "duration": 802,
        "start_time": "2022-07-05T15:20:42.523Z"
      },
      {
        "duration": 4,
        "start_time": "2022-07-05T15:20:43.327Z"
      },
      {
        "duration": 8,
        "start_time": "2022-07-05T15:20:43.333Z"
      },
      {
        "duration": 8,
        "start_time": "2022-07-05T15:20:43.342Z"
      },
      {
        "duration": 22882,
        "start_time": "2022-07-05T15:20:43.352Z"
      },
      {
        "duration": 11802,
        "start_time": "2022-07-05T15:21:06.324Z"
      },
      {
        "duration": 10794,
        "start_time": "2022-07-05T15:21:18.130Z"
      },
      {
        "duration": 99,
        "start_time": "2022-07-05T15:21:28.926Z"
      },
      {
        "duration": 5,
        "start_time": "2022-07-05T15:21:29.027Z"
      },
      {
        "duration": 302747,
        "start_time": "2022-07-05T15:21:29.034Z"
      },
      {
        "duration": 0,
        "start_time": "2022-07-05T15:26:31.783Z"
      },
      {
        "duration": 0,
        "start_time": "2022-07-05T15:26:31.785Z"
      },
      {
        "duration": 0,
        "start_time": "2022-07-05T15:26:31.786Z"
      },
      {
        "duration": 0,
        "start_time": "2022-07-05T15:26:31.787Z"
      },
      {
        "duration": 0,
        "start_time": "2022-07-05T15:26:31.788Z"
      },
      {
        "duration": 0,
        "start_time": "2022-07-05T15:26:31.789Z"
      },
      {
        "duration": 0,
        "start_time": "2022-07-05T15:26:31.791Z"
      },
      {
        "duration": 675,
        "start_time": "2022-07-05T15:27:06.517Z"
      },
      {
        "duration": 18,
        "start_time": "2022-07-05T15:27:07.194Z"
      },
      {
        "duration": 31,
        "start_time": "2022-07-05T15:27:07.214Z"
      },
      {
        "duration": 147,
        "start_time": "2022-07-05T15:27:07.248Z"
      },
      {
        "duration": 4,
        "start_time": "2022-07-05T15:27:07.396Z"
      },
      {
        "duration": 267,
        "start_time": "2022-07-05T15:27:07.402Z"
      },
      {
        "duration": 12,
        "start_time": "2022-07-05T15:27:07.671Z"
      },
      {
        "duration": 7,
        "start_time": "2022-07-05T15:27:07.685Z"
      },
      {
        "duration": 31,
        "start_time": "2022-07-05T15:27:07.694Z"
      },
      {
        "duration": 11,
        "start_time": "2022-07-05T15:27:07.728Z"
      },
      {
        "duration": 9,
        "start_time": "2022-07-05T15:27:07.741Z"
      },
      {
        "duration": 1280,
        "start_time": "2022-07-05T15:27:07.752Z"
      },
      {
        "duration": 1303,
        "start_time": "2022-07-05T15:27:09.124Z"
      },
      {
        "duration": 21,
        "start_time": "2022-07-05T15:27:10.429Z"
      },
      {
        "duration": 4,
        "start_time": "2022-07-05T15:27:10.452Z"
      },
      {
        "duration": 787,
        "start_time": "2022-07-05T15:27:10.458Z"
      },
      {
        "duration": 884,
        "start_time": "2022-07-05T15:27:11.247Z"
      },
      {
        "duration": 758,
        "start_time": "2022-07-05T15:27:12.133Z"
      },
      {
        "duration": 4,
        "start_time": "2022-07-05T15:27:12.893Z"
      },
      {
        "duration": 541,
        "start_time": "2022-07-05T15:27:12.899Z"
      },
      {
        "duration": 701,
        "start_time": "2022-07-05T15:27:13.443Z"
      },
      {
        "duration": 738,
        "start_time": "2022-07-05T15:27:14.146Z"
      },
      {
        "duration": 5,
        "start_time": "2022-07-05T15:27:14.886Z"
      },
      {
        "duration": 107,
        "start_time": "2022-07-05T15:27:14.893Z"
      },
      {
        "duration": 2927,
        "start_time": "2022-07-05T15:27:15.001Z"
      },
      {
        "duration": 2994,
        "start_time": "2022-07-05T15:27:17.930Z"
      },
      {
        "duration": 103,
        "start_time": "2022-07-05T15:27:20.926Z"
      },
      {
        "duration": 4,
        "start_time": "2022-07-05T15:27:21.033Z"
      },
      {
        "duration": 4429822,
        "start_time": "2022-07-05T15:27:21.039Z"
      },
      {
        "duration": 0,
        "start_time": "2022-07-05T16:41:10.862Z"
      },
      {
        "duration": 0,
        "start_time": "2022-07-05T16:41:10.863Z"
      },
      {
        "duration": 0,
        "start_time": "2022-07-05T16:41:10.864Z"
      },
      {
        "duration": 0,
        "start_time": "2022-07-05T16:41:10.866Z"
      },
      {
        "duration": 0,
        "start_time": "2022-07-05T16:41:10.867Z"
      },
      {
        "duration": 0,
        "start_time": "2022-07-05T16:41:10.868Z"
      },
      {
        "duration": 0,
        "start_time": "2022-07-05T16:41:10.869Z"
      },
      {
        "duration": 65,
        "start_time": "2022-07-05T17:40:33.717Z"
      },
      {
        "duration": 12,
        "start_time": "2022-07-05T17:40:47.150Z"
      },
      {
        "duration": 12,
        "start_time": "2022-07-05T17:41:03.591Z"
      },
      {
        "duration": 744,
        "start_time": "2022-07-05T17:41:55.395Z"
      },
      {
        "duration": 26,
        "start_time": "2022-07-05T17:42:00.787Z"
      },
      {
        "duration": 36,
        "start_time": "2022-07-05T17:42:02.264Z"
      },
      {
        "duration": 149,
        "start_time": "2022-07-05T17:42:04.625Z"
      },
      {
        "duration": 4,
        "start_time": "2022-07-05T17:42:06.544Z"
      },
      {
        "duration": 262,
        "start_time": "2022-07-05T17:42:07.192Z"
      },
      {
        "duration": 15,
        "start_time": "2022-07-05T17:42:07.632Z"
      },
      {
        "duration": 10,
        "start_time": "2022-07-05T17:42:09.712Z"
      },
      {
        "duration": 5,
        "start_time": "2022-07-05T17:42:10.422Z"
      },
      {
        "duration": 15,
        "start_time": "2022-07-05T17:42:12.916Z"
      },
      {
        "duration": 7,
        "start_time": "2022-07-05T17:42:14.400Z"
      },
      {
        "duration": 1381,
        "start_time": "2022-07-05T17:42:14.942Z"
      },
      {
        "duration": 1278,
        "start_time": "2022-07-05T17:42:17.350Z"
      },
      {
        "duration": 25,
        "start_time": "2022-07-05T17:42:23.578Z"
      },
      {
        "duration": 4,
        "start_time": "2022-07-05T17:42:30.449Z"
      },
      {
        "duration": 71,
        "start_time": "2022-07-05T17:42:41.566Z"
      },
      {
        "duration": 4150,
        "start_time": "2022-07-05T17:43:11.478Z"
      },
      {
        "duration": 1263,
        "start_time": "2022-07-05T17:45:08.169Z"
      },
      {
        "duration": 1476,
        "start_time": "2022-07-05T17:45:28.149Z"
      },
      {
        "duration": 1530,
        "start_time": "2022-07-05T17:46:51.998Z"
      },
      {
        "duration": 3035,
        "start_time": "2022-07-05T17:48:27.200Z"
      },
      {
        "duration": 1049,
        "start_time": "2022-07-05T17:48:30.678Z"
      },
      {
        "duration": 1361,
        "start_time": "2022-07-05T17:48:33.265Z"
      },
      {
        "duration": 3137,
        "start_time": "2022-07-05T17:48:50.285Z"
      },
      {
        "duration": 302,
        "start_time": "2022-07-05T17:52:19.841Z"
      },
      {
        "duration": 298,
        "start_time": "2022-07-05T17:53:28.438Z"
      },
      {
        "duration": 12,
        "start_time": "2022-07-05T17:53:35.098Z"
      },
      {
        "duration": 21,
        "start_time": "2022-07-05T17:54:10.608Z"
      },
      {
        "duration": 711,
        "start_time": "2022-07-05T17:54:21.853Z"
      },
      {
        "duration": 27,
        "start_time": "2022-07-05T17:54:22.567Z"
      },
      {
        "duration": 31,
        "start_time": "2022-07-05T17:54:22.798Z"
      },
      {
        "duration": 143,
        "start_time": "2022-07-05T17:54:23.316Z"
      },
      {
        "duration": 4,
        "start_time": "2022-07-05T17:54:23.830Z"
      },
      {
        "duration": 246,
        "start_time": "2022-07-05T17:54:23.979Z"
      },
      {
        "duration": 11,
        "start_time": "2022-07-05T17:54:24.228Z"
      },
      {
        "duration": 10,
        "start_time": "2022-07-05T17:54:24.947Z"
      },
      {
        "duration": 18,
        "start_time": "2022-07-05T17:54:24.959Z"
      },
      {
        "duration": 15,
        "start_time": "2022-07-05T17:54:25.663Z"
      },
      {
        "duration": 10,
        "start_time": "2022-07-05T17:54:26.785Z"
      },
      {
        "duration": 1452,
        "start_time": "2022-07-05T17:54:28.084Z"
      },
      {
        "duration": 2798,
        "start_time": "2022-07-05T17:54:29.538Z"
      },
      {
        "duration": 109,
        "start_time": "2022-07-05T17:54:32.338Z"
      },
      {
        "duration": 67,
        "start_time": "2022-07-05T17:54:41.737Z"
      },
      {
        "duration": 13,
        "start_time": "2022-07-05T17:54:45.284Z"
      },
      {
        "duration": 11,
        "start_time": "2022-07-05T17:56:12.697Z"
      },
      {
        "duration": 681,
        "start_time": "2022-07-05T17:56:21.671Z"
      },
      {
        "duration": 20,
        "start_time": "2022-07-05T17:56:22.355Z"
      },
      {
        "duration": 26,
        "start_time": "2022-07-05T17:56:22.377Z"
      },
      {
        "duration": 167,
        "start_time": "2022-07-05T17:56:22.405Z"
      },
      {
        "duration": 5,
        "start_time": "2022-07-05T17:56:22.575Z"
      },
      {
        "duration": 287,
        "start_time": "2022-07-05T17:56:22.582Z"
      },
      {
        "duration": 14,
        "start_time": "2022-07-05T17:56:22.871Z"
      },
      {
        "duration": 9,
        "start_time": "2022-07-05T17:56:22.888Z"
      },
      {
        "duration": 26,
        "start_time": "2022-07-05T17:56:22.899Z"
      },
      {
        "duration": 13,
        "start_time": "2022-07-05T17:56:22.926Z"
      },
      {
        "duration": 11,
        "start_time": "2022-07-05T17:56:22.941Z"
      },
      {
        "duration": 2284,
        "start_time": "2022-07-05T17:56:22.954Z"
      },
      {
        "duration": 2784,
        "start_time": "2022-07-05T17:56:25.240Z"
      },
      {
        "duration": 110,
        "start_time": "2022-07-05T17:56:28.028Z"
      },
      {
        "duration": 9,
        "start_time": "2022-07-05T17:56:28.141Z"
      },
      {
        "duration": 919,
        "start_time": "2022-07-05T17:56:28.151Z"
      },
      {
        "duration": 790,
        "start_time": "2022-07-05T17:56:29.073Z"
      },
      {
        "duration": 843,
        "start_time": "2022-07-05T17:56:29.865Z"
      },
      {
        "duration": 16,
        "start_time": "2022-07-05T17:56:30.711Z"
      },
      {
        "duration": 554,
        "start_time": "2022-07-05T17:56:30.729Z"
      },
      {
        "duration": 579,
        "start_time": "2022-07-05T17:56:31.285Z"
      },
      {
        "duration": 869,
        "start_time": "2022-07-05T17:56:31.866Z"
      },
      {
        "duration": 4,
        "start_time": "2022-07-05T17:56:32.737Z"
      },
      {
        "duration": 101,
        "start_time": "2022-07-05T17:56:32.742Z"
      },
      {
        "duration": 11,
        "start_time": "2022-07-05T17:56:32.845Z"
      },
      {
        "duration": 0,
        "start_time": "2022-07-05T17:56:32.858Z"
      },
      {
        "duration": 0,
        "start_time": "2022-07-05T17:56:32.860Z"
      },
      {
        "duration": 0,
        "start_time": "2022-07-05T17:56:32.863Z"
      },
      {
        "duration": 0,
        "start_time": "2022-07-05T17:56:32.865Z"
      },
      {
        "duration": 0,
        "start_time": "2022-07-05T17:56:32.866Z"
      },
      {
        "duration": 0,
        "start_time": "2022-07-05T17:56:32.868Z"
      },
      {
        "duration": 0,
        "start_time": "2022-07-05T17:56:32.869Z"
      },
      {
        "duration": 0,
        "start_time": "2022-07-05T17:56:32.871Z"
      },
      {
        "duration": 0,
        "start_time": "2022-07-05T17:56:32.872Z"
      },
      {
        "duration": 0,
        "start_time": "2022-07-05T17:56:32.873Z"
      },
      {
        "duration": 0,
        "start_time": "2022-07-05T17:56:32.874Z"
      },
      {
        "duration": 0,
        "start_time": "2022-07-05T17:56:32.876Z"
      },
      {
        "duration": 0,
        "start_time": "2022-07-05T17:56:32.877Z"
      },
      {
        "duration": 3212,
        "start_time": "2022-07-05T17:57:20.222Z"
      },
      {
        "duration": 2919,
        "start_time": "2022-07-05T17:57:45.505Z"
      },
      {
        "duration": 3232,
        "start_time": "2022-07-05T17:58:34.596Z"
      },
      {
        "duration": 177,
        "start_time": "2022-07-05T17:58:41.148Z"
      },
      {
        "duration": 3881,
        "start_time": "2022-07-05T17:59:39.758Z"
      },
      {
        "duration": 4,
        "start_time": "2022-07-05T18:04:49.759Z"
      },
      {
        "duration": 683,
        "start_time": "2022-07-05T18:05:01.242Z"
      },
      {
        "duration": 29,
        "start_time": "2022-07-05T18:05:01.928Z"
      },
      {
        "duration": 44,
        "start_time": "2022-07-05T18:05:01.959Z"
      },
      {
        "duration": 159,
        "start_time": "2022-07-05T18:05:02.005Z"
      },
      {
        "duration": 5,
        "start_time": "2022-07-05T18:05:02.167Z"
      },
      {
        "duration": 272,
        "start_time": "2022-07-05T18:05:02.174Z"
      },
      {
        "duration": 12,
        "start_time": "2022-07-05T18:05:02.448Z"
      },
      {
        "duration": 16,
        "start_time": "2022-07-05T18:05:02.462Z"
      },
      {
        "duration": 7,
        "start_time": "2022-07-05T18:05:02.480Z"
      },
      {
        "duration": 35,
        "start_time": "2022-07-05T18:05:02.490Z"
      },
      {
        "duration": 9,
        "start_time": "2022-07-05T18:05:02.527Z"
      },
      {
        "duration": 1494,
        "start_time": "2022-07-05T18:05:02.538Z"
      },
      {
        "duration": 1893,
        "start_time": "2022-07-05T18:05:04.035Z"
      },
      {
        "duration": 104,
        "start_time": "2022-07-05T18:05:05.935Z"
      },
      {
        "duration": 11,
        "start_time": "2022-07-05T18:05:06.041Z"
      },
      {
        "duration": 801,
        "start_time": "2022-07-05T18:05:06.055Z"
      },
      {
        "duration": 882,
        "start_time": "2022-07-05T18:05:06.858Z"
      },
      {
        "duration": 754,
        "start_time": "2022-07-05T18:05:07.742Z"
      },
      {
        "duration": 5,
        "start_time": "2022-07-05T18:05:08.498Z"
      },
      {
        "duration": 675,
        "start_time": "2022-07-05T18:05:08.504Z"
      },
      {
        "duration": 783,
        "start_time": "2022-07-05T18:05:09.182Z"
      },
      {
        "duration": 712,
        "start_time": "2022-07-05T18:05:09.966Z"
      },
      {
        "duration": 3,
        "start_time": "2022-07-05T18:05:10.680Z"
      },
      {
        "duration": 105,
        "start_time": "2022-07-05T18:05:10.685Z"
      },
      {
        "duration": 2832,
        "start_time": "2022-07-05T18:05:10.792Z"
      },
      {
        "duration": 319,
        "start_time": "2022-07-05T18:05:13.626Z"
      },
      {
        "duration": 0,
        "start_time": "2022-07-05T18:05:14.025Z"
      },
      {
        "duration": 1,
        "start_time": "2022-07-05T18:05:14.026Z"
      },
      {
        "duration": 0,
        "start_time": "2022-07-05T18:05:14.028Z"
      },
      {
        "duration": 0,
        "start_time": "2022-07-05T18:05:14.030Z"
      },
      {
        "duration": 0,
        "start_time": "2022-07-05T18:05:14.031Z"
      },
      {
        "duration": 0,
        "start_time": "2022-07-05T18:05:14.033Z"
      },
      {
        "duration": 0,
        "start_time": "2022-07-05T18:05:14.034Z"
      },
      {
        "duration": 0,
        "start_time": "2022-07-05T18:05:14.035Z"
      },
      {
        "duration": 0,
        "start_time": "2022-07-05T18:05:14.036Z"
      },
      {
        "duration": 1,
        "start_time": "2022-07-05T18:05:14.037Z"
      },
      {
        "duration": 0,
        "start_time": "2022-07-05T18:05:14.039Z"
      },
      {
        "duration": 0,
        "start_time": "2022-07-05T18:05:14.040Z"
      },
      {
        "duration": 420,
        "start_time": "2022-07-05T18:06:32.205Z"
      },
      {
        "duration": 397,
        "start_time": "2022-07-05T18:06:57.928Z"
      },
      {
        "duration": 22,
        "start_time": "2022-07-05T18:08:22.296Z"
      },
      {
        "duration": 19,
        "start_time": "2022-07-05T18:12:07.163Z"
      },
      {
        "duration": 689,
        "start_time": "2022-07-05T18:12:12.767Z"
      },
      {
        "duration": 20,
        "start_time": "2022-07-05T18:12:13.458Z"
      },
      {
        "duration": 23,
        "start_time": "2022-07-05T18:12:13.480Z"
      },
      {
        "duration": 134,
        "start_time": "2022-07-05T18:12:13.522Z"
      },
      {
        "duration": 5,
        "start_time": "2022-07-05T18:12:13.658Z"
      },
      {
        "duration": 251,
        "start_time": "2022-07-05T18:12:13.666Z"
      },
      {
        "duration": 13,
        "start_time": "2022-07-05T18:12:13.919Z"
      },
      {
        "duration": 8,
        "start_time": "2022-07-05T18:12:13.934Z"
      },
      {
        "duration": 5,
        "start_time": "2022-07-05T18:12:13.944Z"
      },
      {
        "duration": 11,
        "start_time": "2022-07-05T18:12:13.952Z"
      },
      {
        "duration": 7,
        "start_time": "2022-07-05T18:12:13.965Z"
      },
      {
        "duration": 1551,
        "start_time": "2022-07-05T18:12:13.974Z"
      },
      {
        "duration": 1298,
        "start_time": "2022-07-05T18:12:15.529Z"
      },
      {
        "duration": 110,
        "start_time": "2022-07-05T18:12:16.830Z"
      },
      {
        "duration": 5,
        "start_time": "2022-07-05T18:12:16.942Z"
      },
      {
        "duration": 843,
        "start_time": "2022-07-05T18:12:16.949Z"
      },
      {
        "duration": 786,
        "start_time": "2022-07-05T18:12:17.794Z"
      },
      {
        "duration": 887,
        "start_time": "2022-07-05T18:12:18.582Z"
      },
      {
        "duration": 5,
        "start_time": "2022-07-05T18:12:19.470Z"
      },
      {
        "duration": 724,
        "start_time": "2022-07-05T18:12:19.477Z"
      },
      {
        "duration": 516,
        "start_time": "2022-07-05T18:12:20.203Z"
      },
      {
        "duration": 738,
        "start_time": "2022-07-05T18:12:20.722Z"
      },
      {
        "duration": 4,
        "start_time": "2022-07-05T18:12:21.462Z"
      },
      {
        "duration": 199,
        "start_time": "2022-07-05T18:12:21.468Z"
      },
      {
        "duration": 2568,
        "start_time": "2022-07-05T18:12:21.669Z"
      },
      {
        "duration": 289,
        "start_time": "2022-07-05T18:12:24.239Z"
      },
      {
        "duration": 0,
        "start_time": "2022-07-05T18:12:24.531Z"
      },
      {
        "duration": 0,
        "start_time": "2022-07-05T18:12:24.532Z"
      },
      {
        "duration": 0,
        "start_time": "2022-07-05T18:12:24.533Z"
      },
      {
        "duration": 0,
        "start_time": "2022-07-05T18:12:24.534Z"
      },
      {
        "duration": 0,
        "start_time": "2022-07-05T18:12:24.536Z"
      },
      {
        "duration": 0,
        "start_time": "2022-07-05T18:12:24.537Z"
      },
      {
        "duration": 0,
        "start_time": "2022-07-05T18:12:24.538Z"
      },
      {
        "duration": 0,
        "start_time": "2022-07-05T18:12:24.540Z"
      },
      {
        "duration": 0,
        "start_time": "2022-07-05T18:12:24.541Z"
      },
      {
        "duration": 0,
        "start_time": "2022-07-05T18:12:24.541Z"
      },
      {
        "duration": 0,
        "start_time": "2022-07-05T18:12:24.542Z"
      },
      {
        "duration": 0,
        "start_time": "2022-07-05T18:12:24.542Z"
      },
      {
        "duration": 316,
        "start_time": "2022-07-05T18:13:58.210Z"
      },
      {
        "duration": 160,
        "start_time": "2022-07-05T18:14:06.065Z"
      },
      {
        "duration": 1400,
        "start_time": "2022-07-05T18:15:14.729Z"
      },
      {
        "duration": 365,
        "start_time": "2022-07-05T18:15:51.176Z"
      },
      {
        "duration": 2633,
        "start_time": "2022-07-05T18:17:09.608Z"
      },
      {
        "duration": 275,
        "start_time": "2022-07-05T18:17:18.152Z"
      },
      {
        "duration": 16,
        "start_time": "2022-07-05T18:17:48.065Z"
      },
      {
        "duration": 221,
        "start_time": "2022-07-05T18:17:52.606Z"
      },
      {
        "duration": 15,
        "start_time": "2022-07-05T18:19:37.264Z"
      },
      {
        "duration": 642,
        "start_time": "2022-07-05T18:19:48.399Z"
      },
      {
        "duration": 22,
        "start_time": "2022-07-05T18:19:49.044Z"
      },
      {
        "duration": 28,
        "start_time": "2022-07-05T18:19:49.069Z"
      },
      {
        "duration": 149,
        "start_time": "2022-07-05T18:19:49.124Z"
      },
      {
        "duration": 4,
        "start_time": "2022-07-05T18:19:49.276Z"
      },
      {
        "duration": 235,
        "start_time": "2022-07-05T18:19:49.282Z"
      },
      {
        "duration": 12,
        "start_time": "2022-07-05T18:19:49.519Z"
      },
      {
        "duration": 8,
        "start_time": "2022-07-05T18:19:49.533Z"
      },
      {
        "duration": 7,
        "start_time": "2022-07-05T18:19:49.543Z"
      },
      {
        "duration": 13,
        "start_time": "2022-07-05T18:19:49.552Z"
      },
      {
        "duration": 7,
        "start_time": "2022-07-05T18:19:49.567Z"
      },
      {
        "duration": 1049,
        "start_time": "2022-07-05T18:19:49.575Z"
      },
      {
        "duration": 1204,
        "start_time": "2022-07-05T18:19:50.626Z"
      },
      {
        "duration": 101,
        "start_time": "2022-07-05T18:19:51.834Z"
      },
      {
        "duration": 4,
        "start_time": "2022-07-05T18:19:51.937Z"
      },
      {
        "duration": 744,
        "start_time": "2022-07-05T18:19:51.942Z"
      },
      {
        "duration": 707,
        "start_time": "2022-07-05T18:19:52.687Z"
      },
      {
        "duration": 812,
        "start_time": "2022-07-05T18:19:53.396Z"
      },
      {
        "duration": 4,
        "start_time": "2022-07-05T18:19:54.210Z"
      },
      {
        "duration": 494,
        "start_time": "2022-07-05T18:19:54.223Z"
      },
      {
        "duration": 521,
        "start_time": "2022-07-05T18:19:54.719Z"
      },
      {
        "duration": 851,
        "start_time": "2022-07-05T18:19:55.241Z"
      },
      {
        "duration": 5,
        "start_time": "2022-07-05T18:19:56.094Z"
      },
      {
        "duration": 75,
        "start_time": "2022-07-05T18:19:56.101Z"
      },
      {
        "duration": 2544,
        "start_time": "2022-07-05T18:19:56.178Z"
      },
      {
        "duration": 1299,
        "start_time": "2022-07-05T18:19:58.725Z"
      },
      {
        "duration": 1303,
        "start_time": "2022-07-05T18:20:00.026Z"
      },
      {
        "duration": 2594,
        "start_time": "2022-07-05T18:20:01.331Z"
      },
      {
        "duration": 98,
        "start_time": "2022-07-05T18:20:03.926Z"
      },
      {
        "duration": 6,
        "start_time": "2022-07-05T18:20:04.025Z"
      },
      {
        "duration": 122875,
        "start_time": "2022-07-05T18:20:04.033Z"
      },
      {
        "duration": 0,
        "start_time": "2022-07-05T18:22:06.910Z"
      },
      {
        "duration": 0,
        "start_time": "2022-07-05T18:22:06.912Z"
      },
      {
        "duration": 0,
        "start_time": "2022-07-05T18:22:06.924Z"
      },
      {
        "duration": 0,
        "start_time": "2022-07-05T18:22:06.926Z"
      },
      {
        "duration": 0,
        "start_time": "2022-07-05T18:22:06.927Z"
      },
      {
        "duration": 0,
        "start_time": "2022-07-05T18:22:06.929Z"
      },
      {
        "duration": 0,
        "start_time": "2022-07-05T18:22:06.930Z"
      },
      {
        "duration": 0,
        "start_time": "2022-07-05T18:22:06.932Z"
      },
      {
        "duration": 0,
        "start_time": "2022-07-05T18:22:06.933Z"
      },
      {
        "duration": 0,
        "start_time": "2022-07-05T18:22:06.934Z"
      },
      {
        "duration": 607,
        "start_time": "2022-07-05T18:22:09.650Z"
      },
      {
        "duration": 19,
        "start_time": "2022-07-05T18:22:10.259Z"
      },
      {
        "duration": 21,
        "start_time": "2022-07-05T18:22:10.279Z"
      },
      {
        "duration": 141,
        "start_time": "2022-07-05T18:22:10.302Z"
      },
      {
        "duration": 4,
        "start_time": "2022-07-05T18:22:10.444Z"
      },
      {
        "duration": 261,
        "start_time": "2022-07-05T18:22:10.449Z"
      },
      {
        "duration": 14,
        "start_time": "2022-07-05T18:22:10.712Z"
      },
      {
        "duration": 10,
        "start_time": "2022-07-05T18:22:10.727Z"
      },
      {
        "duration": 10,
        "start_time": "2022-07-05T18:22:10.738Z"
      },
      {
        "duration": 12,
        "start_time": "2022-07-05T18:22:10.750Z"
      },
      {
        "duration": 7,
        "start_time": "2022-07-05T18:22:10.763Z"
      },
      {
        "duration": 1251,
        "start_time": "2022-07-05T18:22:10.772Z"
      },
      {
        "duration": 1099,
        "start_time": "2022-07-05T18:22:12.025Z"
      },
      {
        "duration": 108,
        "start_time": "2022-07-05T18:22:13.126Z"
      },
      {
        "duration": 4,
        "start_time": "2022-07-05T18:22:13.236Z"
      },
      {
        "duration": 715,
        "start_time": "2022-07-05T18:22:13.241Z"
      },
      {
        "duration": 819,
        "start_time": "2022-07-05T18:22:13.958Z"
      },
      {
        "duration": 728,
        "start_time": "2022-07-05T18:22:14.779Z"
      },
      {
        "duration": 5,
        "start_time": "2022-07-05T18:22:15.509Z"
      },
      {
        "duration": 643,
        "start_time": "2022-07-05T18:22:15.516Z"
      },
      {
        "duration": 545,
        "start_time": "2022-07-05T18:22:16.160Z"
      },
      {
        "duration": 689,
        "start_time": "2022-07-05T18:22:16.707Z"
      },
      {
        "duration": 4,
        "start_time": "2022-07-05T18:22:17.398Z"
      },
      {
        "duration": 71,
        "start_time": "2022-07-05T18:22:17.404Z"
      },
      {
        "duration": 2552,
        "start_time": "2022-07-05T18:22:17.477Z"
      },
      {
        "duration": 698,
        "start_time": "2022-07-05T18:22:20.034Z"
      },
      {
        "duration": 1298,
        "start_time": "2022-07-05T18:22:20.826Z"
      },
      {
        "duration": 4,
        "start_time": "2022-07-05T18:22:22.128Z"
      },
      {
        "duration": 2894,
        "start_time": "2022-07-05T18:22:22.134Z"
      },
      {
        "duration": 95,
        "start_time": "2022-07-05T18:22:25.030Z"
      },
      {
        "duration": 19,
        "start_time": "2022-07-05T18:22:25.127Z"
      },
      {
        "duration": 58928,
        "start_time": "2022-07-05T18:22:25.148Z"
      },
      {
        "duration": 0,
        "start_time": "2022-07-05T18:23:24.079Z"
      },
      {
        "duration": 0,
        "start_time": "2022-07-05T18:23:24.081Z"
      },
      {
        "duration": 0,
        "start_time": "2022-07-05T18:23:24.082Z"
      },
      {
        "duration": 0,
        "start_time": "2022-07-05T18:23:24.083Z"
      },
      {
        "duration": 0,
        "start_time": "2022-07-05T18:23:24.084Z"
      },
      {
        "duration": 0,
        "start_time": "2022-07-05T18:23:24.085Z"
      },
      {
        "duration": 0,
        "start_time": "2022-07-05T18:23:24.086Z"
      },
      {
        "duration": 0,
        "start_time": "2022-07-05T18:23:24.087Z"
      },
      {
        "duration": 588,
        "start_time": "2022-07-05T18:23:27.459Z"
      },
      {
        "duration": 18,
        "start_time": "2022-07-05T18:23:28.049Z"
      },
      {
        "duration": 22,
        "start_time": "2022-07-05T18:23:28.069Z"
      },
      {
        "duration": 143,
        "start_time": "2022-07-05T18:23:28.092Z"
      },
      {
        "duration": 4,
        "start_time": "2022-07-05T18:23:28.238Z"
      },
      {
        "duration": 255,
        "start_time": "2022-07-05T18:23:28.244Z"
      },
      {
        "duration": 22,
        "start_time": "2022-07-05T18:23:28.502Z"
      },
      {
        "duration": 6,
        "start_time": "2022-07-05T18:23:28.526Z"
      },
      {
        "duration": 6,
        "start_time": "2022-07-05T18:23:28.537Z"
      },
      {
        "duration": 14,
        "start_time": "2022-07-05T18:23:28.544Z"
      },
      {
        "duration": 7,
        "start_time": "2022-07-05T18:23:28.560Z"
      },
      {
        "duration": 1163,
        "start_time": "2022-07-05T18:23:28.568Z"
      },
      {
        "duration": 1294,
        "start_time": "2022-07-05T18:23:29.733Z"
      },
      {
        "duration": 105,
        "start_time": "2022-07-05T18:23:31.033Z"
      },
      {
        "duration": 5,
        "start_time": "2022-07-05T18:23:31.140Z"
      },
      {
        "duration": 908,
        "start_time": "2022-07-05T18:23:31.147Z"
      },
      {
        "duration": 715,
        "start_time": "2022-07-05T18:23:32.056Z"
      },
      {
        "duration": 887,
        "start_time": "2022-07-05T18:23:32.773Z"
      },
      {
        "duration": 5,
        "start_time": "2022-07-05T18:23:33.663Z"
      },
      {
        "duration": 513,
        "start_time": "2022-07-05T18:23:33.670Z"
      },
      {
        "duration": 549,
        "start_time": "2022-07-05T18:23:34.185Z"
      },
      {
        "duration": 824,
        "start_time": "2022-07-05T18:23:34.737Z"
      },
      {
        "duration": 4,
        "start_time": "2022-07-05T18:23:35.563Z"
      },
      {
        "duration": 70,
        "start_time": "2022-07-05T18:23:35.568Z"
      },
      {
        "duration": 2687,
        "start_time": "2022-07-05T18:23:35.640Z"
      },
      {
        "duration": 1295,
        "start_time": "2022-07-05T18:23:38.330Z"
      },
      {
        "duration": 1101,
        "start_time": "2022-07-05T18:23:39.627Z"
      },
      {
        "duration": 6,
        "start_time": "2022-07-05T18:23:40.730Z"
      },
      {
        "duration": 2495,
        "start_time": "2022-07-05T18:23:40.738Z"
      },
      {
        "duration": 94,
        "start_time": "2022-07-05T18:23:43.235Z"
      },
      {
        "duration": 100,
        "start_time": "2022-07-05T18:23:43.331Z"
      },
      {
        "duration": 90950,
        "start_time": "2022-07-05T18:23:43.434Z"
      },
      {
        "duration": 0,
        "start_time": "2022-07-05T18:25:14.386Z"
      },
      {
        "duration": 1,
        "start_time": "2022-07-05T18:25:14.387Z"
      },
      {
        "duration": 0,
        "start_time": "2022-07-05T18:25:14.389Z"
      },
      {
        "duration": 0,
        "start_time": "2022-07-05T18:25:14.390Z"
      },
      {
        "duration": 0,
        "start_time": "2022-07-05T18:25:14.391Z"
      },
      {
        "duration": 0,
        "start_time": "2022-07-05T18:25:14.393Z"
      },
      {
        "duration": 0,
        "start_time": "2022-07-05T18:25:14.394Z"
      },
      {
        "duration": 618,
        "start_time": "2022-07-05T18:26:17.677Z"
      },
      {
        "duration": 27,
        "start_time": "2022-07-05T18:26:18.298Z"
      },
      {
        "duration": 24,
        "start_time": "2022-07-05T18:26:18.328Z"
      },
      {
        "duration": 141,
        "start_time": "2022-07-05T18:26:18.354Z"
      },
      {
        "duration": 4,
        "start_time": "2022-07-05T18:26:18.498Z"
      },
      {
        "duration": 246,
        "start_time": "2022-07-05T18:26:18.504Z"
      },
      {
        "duration": 11,
        "start_time": "2022-07-05T18:26:18.752Z"
      },
      {
        "duration": 7,
        "start_time": "2022-07-05T18:26:18.765Z"
      },
      {
        "duration": 7,
        "start_time": "2022-07-05T18:26:18.773Z"
      },
      {
        "duration": 13,
        "start_time": "2022-07-05T18:26:18.781Z"
      },
      {
        "duration": 6,
        "start_time": "2022-07-05T18:26:18.823Z"
      },
      {
        "duration": 1296,
        "start_time": "2022-07-05T18:26:18.831Z"
      },
      {
        "duration": 1201,
        "start_time": "2022-07-05T18:26:20.129Z"
      },
      {
        "duration": 190,
        "start_time": "2022-07-05T18:26:21.333Z"
      },
      {
        "duration": 5,
        "start_time": "2022-07-05T18:26:21.525Z"
      },
      {
        "duration": 719,
        "start_time": "2022-07-05T18:26:21.532Z"
      },
      {
        "duration": 856,
        "start_time": "2022-07-05T18:26:22.254Z"
      },
      {
        "duration": 721,
        "start_time": "2022-07-05T18:26:23.112Z"
      },
      {
        "duration": 5,
        "start_time": "2022-07-05T18:26:23.835Z"
      },
      {
        "duration": 627,
        "start_time": "2022-07-05T18:26:23.842Z"
      },
      {
        "duration": 528,
        "start_time": "2022-07-05T18:26:24.471Z"
      },
      {
        "duration": 706,
        "start_time": "2022-07-05T18:26:25.001Z"
      },
      {
        "duration": 13,
        "start_time": "2022-07-05T18:26:25.710Z"
      },
      {
        "duration": 61,
        "start_time": "2022-07-05T18:26:25.725Z"
      },
      {
        "duration": 2438,
        "start_time": "2022-07-05T18:26:25.788Z"
      },
      {
        "duration": 1094,
        "start_time": "2022-07-05T18:26:28.230Z"
      },
      {
        "duration": 1204,
        "start_time": "2022-07-05T18:26:29.326Z"
      },
      {
        "duration": 5,
        "start_time": "2022-07-05T18:26:30.622Z"
      },
      {
        "duration": 8,
        "start_time": "2022-07-05T18:26:30.629Z"
      },
      {
        "duration": 131175,
        "start_time": "2022-07-05T18:26:30.639Z"
      },
      {
        "duration": 0,
        "start_time": "2022-07-05T18:28:41.816Z"
      },
      {
        "duration": 0,
        "start_time": "2022-07-05T18:28:41.824Z"
      },
      {
        "duration": 0,
        "start_time": "2022-07-05T18:28:41.825Z"
      },
      {
        "duration": 0,
        "start_time": "2022-07-05T18:28:41.826Z"
      },
      {
        "duration": 0,
        "start_time": "2022-07-05T18:28:41.827Z"
      },
      {
        "duration": 0,
        "start_time": "2022-07-05T18:28:41.828Z"
      },
      {
        "duration": 622,
        "start_time": "2022-07-05T18:28:45.861Z"
      },
      {
        "duration": 20,
        "start_time": "2022-07-05T18:28:46.485Z"
      },
      {
        "duration": 33,
        "start_time": "2022-07-05T18:28:46.507Z"
      },
      {
        "duration": 126,
        "start_time": "2022-07-05T18:28:46.543Z"
      },
      {
        "duration": 4,
        "start_time": "2022-07-05T18:28:46.671Z"
      },
      {
        "duration": 237,
        "start_time": "2022-07-05T18:28:46.676Z"
      },
      {
        "duration": 16,
        "start_time": "2022-07-05T18:28:46.915Z"
      },
      {
        "duration": 9,
        "start_time": "2022-07-05T18:28:46.932Z"
      },
      {
        "duration": 8,
        "start_time": "2022-07-05T18:28:46.943Z"
      },
      {
        "duration": 11,
        "start_time": "2022-07-05T18:28:46.954Z"
      },
      {
        "duration": 6,
        "start_time": "2022-07-05T18:28:46.967Z"
      },
      {
        "duration": 957,
        "start_time": "2022-07-05T18:28:46.975Z"
      },
      {
        "duration": 1300,
        "start_time": "2022-07-05T18:28:48.024Z"
      },
      {
        "duration": 103,
        "start_time": "2022-07-05T18:28:49.325Z"
      },
      {
        "duration": 4,
        "start_time": "2022-07-05T18:28:49.430Z"
      },
      {
        "duration": 813,
        "start_time": "2022-07-05T18:28:49.436Z"
      },
      {
        "duration": 676,
        "start_time": "2022-07-05T18:28:50.250Z"
      },
      {
        "duration": 824,
        "start_time": "2022-07-05T18:28:50.928Z"
      },
      {
        "duration": 4,
        "start_time": "2022-07-05T18:28:51.754Z"
      },
      {
        "duration": 527,
        "start_time": "2022-07-05T18:28:51.760Z"
      },
      {
        "duration": 514,
        "start_time": "2022-07-05T18:28:52.289Z"
      },
      {
        "duration": 797,
        "start_time": "2022-07-05T18:28:52.805Z"
      },
      {
        "duration": 3,
        "start_time": "2022-07-05T18:28:53.604Z"
      },
      {
        "duration": 65,
        "start_time": "2022-07-05T18:28:53.608Z"
      },
      {
        "duration": 2457,
        "start_time": "2022-07-05T18:28:53.674Z"
      },
      {
        "duration": 1295,
        "start_time": "2022-07-05T18:28:56.133Z"
      },
      {
        "duration": 1300,
        "start_time": "2022-07-05T18:28:57.430Z"
      },
      {
        "duration": 4,
        "start_time": "2022-07-05T18:28:58.734Z"
      },
      {
        "duration": 3,
        "start_time": "2022-07-05T18:28:58.824Z"
      },
      {
        "duration": 0,
        "start_time": "2022-07-05T18:57:27.669Z"
      },
      {
        "duration": 0,
        "start_time": "2022-07-05T18:57:27.670Z"
      },
      {
        "duration": 0,
        "start_time": "2022-07-05T18:57:27.671Z"
      },
      {
        "duration": 0,
        "start_time": "2022-07-05T18:57:27.672Z"
      },
      {
        "duration": 0,
        "start_time": "2022-07-05T18:57:27.673Z"
      },
      {
        "duration": 0,
        "start_time": "2022-07-05T18:57:27.674Z"
      },
      {
        "duration": 0,
        "start_time": "2022-07-05T18:57:27.675Z"
      },
      {
        "duration": 0,
        "start_time": "2022-07-05T18:57:27.676Z"
      },
      {
        "duration": 0,
        "start_time": "2022-07-05T18:57:27.677Z"
      },
      {
        "duration": 0,
        "start_time": "2022-07-05T18:57:27.679Z"
      },
      {
        "duration": 0,
        "start_time": "2022-07-05T18:57:27.724Z"
      },
      {
        "duration": 0,
        "start_time": "2022-07-05T18:57:27.725Z"
      },
      {
        "duration": 0,
        "start_time": "2022-07-05T18:57:27.726Z"
      },
      {
        "duration": 0,
        "start_time": "2022-07-05T18:57:27.727Z"
      },
      {
        "duration": 0,
        "start_time": "2022-07-05T18:57:27.728Z"
      },
      {
        "duration": 0,
        "start_time": "2022-07-05T18:57:27.729Z"
      },
      {
        "duration": 0,
        "start_time": "2022-07-05T18:57:27.730Z"
      },
      {
        "duration": 0,
        "start_time": "2022-07-05T18:57:27.731Z"
      },
      {
        "duration": 0,
        "start_time": "2022-07-05T18:57:27.732Z"
      },
      {
        "duration": 0,
        "start_time": "2022-07-05T18:57:27.733Z"
      },
      {
        "duration": 0,
        "start_time": "2022-07-05T18:57:27.734Z"
      },
      {
        "duration": 0,
        "start_time": "2022-07-05T18:57:27.736Z"
      },
      {
        "duration": 0,
        "start_time": "2022-07-05T18:57:27.737Z"
      },
      {
        "duration": 0,
        "start_time": "2022-07-05T18:57:27.738Z"
      },
      {
        "duration": 0,
        "start_time": "2022-07-05T18:57:27.739Z"
      },
      {
        "duration": 0,
        "start_time": "2022-07-05T18:57:27.739Z"
      },
      {
        "duration": 0,
        "start_time": "2022-07-05T18:57:27.740Z"
      },
      {
        "duration": 0,
        "start_time": "2022-07-05T18:57:27.741Z"
      },
      {
        "duration": 0,
        "start_time": "2022-07-05T18:57:27.742Z"
      },
      {
        "duration": 0,
        "start_time": "2022-07-05T18:57:27.744Z"
      },
      {
        "duration": 0,
        "start_time": "2022-07-05T18:57:27.745Z"
      },
      {
        "duration": 0,
        "start_time": "2022-07-05T18:57:27.746Z"
      },
      {
        "duration": 0,
        "start_time": "2022-07-05T18:57:27.746Z"
      },
      {
        "duration": 0,
        "start_time": "2022-07-05T18:57:27.747Z"
      },
      {
        "duration": 0,
        "start_time": "2022-07-05T18:57:27.748Z"
      },
      {
        "duration": 0,
        "start_time": "2022-07-05T18:57:27.749Z"
      },
      {
        "duration": 0,
        "start_time": "2022-07-05T18:57:27.751Z"
      },
      {
        "duration": 0,
        "start_time": "2022-07-05T18:57:27.752Z"
      },
      {
        "duration": 0,
        "start_time": "2022-07-05T18:57:27.753Z"
      },
      {
        "duration": 0,
        "start_time": "2022-07-05T18:57:27.754Z"
      },
      {
        "duration": 0,
        "start_time": "2022-07-05T18:57:27.755Z"
      },
      {
        "duration": 655,
        "start_time": "2022-07-05T18:57:30.557Z"
      },
      {
        "duration": 22,
        "start_time": "2022-07-05T18:57:31.214Z"
      },
      {
        "duration": 23,
        "start_time": "2022-07-05T18:57:31.238Z"
      },
      {
        "duration": 145,
        "start_time": "2022-07-05T18:57:31.263Z"
      },
      {
        "duration": 4,
        "start_time": "2022-07-05T18:57:31.411Z"
      },
      {
        "duration": 265,
        "start_time": "2022-07-05T18:57:31.424Z"
      },
      {
        "duration": 11,
        "start_time": "2022-07-05T18:57:31.691Z"
      },
      {
        "duration": 23,
        "start_time": "2022-07-05T18:57:31.704Z"
      },
      {
        "duration": 15,
        "start_time": "2022-07-05T18:57:31.729Z"
      },
      {
        "duration": 20,
        "start_time": "2022-07-05T18:57:31.746Z"
      },
      {
        "duration": 9,
        "start_time": "2022-07-05T18:57:31.768Z"
      },
      {
        "duration": 1550,
        "start_time": "2022-07-05T18:57:31.779Z"
      },
      {
        "duration": 1695,
        "start_time": "2022-07-05T18:57:33.331Z"
      },
      {
        "duration": 104,
        "start_time": "2022-07-05T18:57:35.030Z"
      },
      {
        "duration": 5,
        "start_time": "2022-07-05T18:57:35.137Z"
      },
      {
        "duration": 708,
        "start_time": "2022-07-05T18:57:35.144Z"
      },
      {
        "duration": 851,
        "start_time": "2022-07-05T18:57:35.854Z"
      },
      {
        "duration": 721,
        "start_time": "2022-07-05T18:57:36.708Z"
      },
      {
        "duration": 5,
        "start_time": "2022-07-05T18:57:37.431Z"
      },
      {
        "duration": 622,
        "start_time": "2022-07-05T18:57:37.437Z"
      },
      {
        "duration": 529,
        "start_time": "2022-07-05T18:57:38.061Z"
      },
      {
        "duration": 810,
        "start_time": "2022-07-05T18:57:38.592Z"
      },
      {
        "duration": 4,
        "start_time": "2022-07-05T18:57:39.404Z"
      },
      {
        "duration": 69,
        "start_time": "2022-07-05T18:57:39.410Z"
      },
      {
        "duration": 3143,
        "start_time": "2022-07-05T18:57:39.481Z"
      },
      {
        "duration": 1298,
        "start_time": "2022-07-05T18:57:42.627Z"
      },
      {
        "duration": 997,
        "start_time": "2022-07-05T18:57:43.927Z"
      },
      {
        "duration": 5,
        "start_time": "2022-07-05T18:57:44.926Z"
      },
      {
        "duration": 101,
        "start_time": "2022-07-05T18:57:44.933Z"
      },
      {
        "duration": 2889674,
        "start_time": "2022-07-05T18:57:45.036Z"
      },
      {
        "duration": 0,
        "start_time": "2022-07-05T19:45:54.713Z"
      },
      {
        "duration": 0,
        "start_time": "2022-07-05T19:45:54.722Z"
      },
      {
        "duration": 1,
        "start_time": "2022-07-05T19:45:54.723Z"
      },
      {
        "duration": 0,
        "start_time": "2022-07-05T19:45:54.726Z"
      },
      {
        "duration": 0,
        "start_time": "2022-07-05T19:45:54.727Z"
      },
      {
        "duration": 0,
        "start_time": "2022-07-05T19:45:54.729Z"
      },
      {
        "duration": 0,
        "start_time": "2022-07-05T19:45:54.731Z"
      },
      {
        "duration": 0,
        "start_time": "2022-07-05T19:45:54.732Z"
      },
      {
        "duration": 0,
        "start_time": "2022-07-05T19:45:54.733Z"
      },
      {
        "duration": 0,
        "start_time": "2022-07-05T19:45:54.735Z"
      },
      {
        "duration": 0,
        "start_time": "2022-07-05T19:45:54.737Z"
      },
      {
        "duration": 645,
        "start_time": "2022-07-05T19:52:49.864Z"
      },
      {
        "duration": 20,
        "start_time": "2022-07-05T19:52:50.511Z"
      },
      {
        "duration": 22,
        "start_time": "2022-07-05T19:52:50.533Z"
      },
      {
        "duration": 141,
        "start_time": "2022-07-05T19:52:50.557Z"
      },
      {
        "duration": 4,
        "start_time": "2022-07-05T19:52:50.701Z"
      },
      {
        "duration": 256,
        "start_time": "2022-07-05T19:52:50.707Z"
      },
      {
        "duration": 14,
        "start_time": "2022-07-05T19:52:50.965Z"
      },
      {
        "duration": 9,
        "start_time": "2022-07-05T19:52:50.981Z"
      },
      {
        "duration": 31,
        "start_time": "2022-07-05T19:52:50.992Z"
      },
      {
        "duration": 11,
        "start_time": "2022-07-05T19:52:51.025Z"
      },
      {
        "duration": 7,
        "start_time": "2022-07-05T19:52:51.037Z"
      },
      {
        "duration": 1283,
        "start_time": "2022-07-05T19:52:51.046Z"
      },
      {
        "duration": 5812,
        "start_time": "2022-07-05T19:52:52.332Z"
      },
      {
        "duration": 175,
        "start_time": "2022-07-05T19:52:58.150Z"
      },
      {
        "duration": 13,
        "start_time": "2022-07-05T19:52:58.327Z"
      },
      {
        "duration": 852,
        "start_time": "2022-07-05T19:52:58.342Z"
      },
      {
        "duration": 860,
        "start_time": "2022-07-05T19:52:59.196Z"
      },
      {
        "duration": 730,
        "start_time": "2022-07-05T19:53:00.058Z"
      },
      {
        "duration": 5,
        "start_time": "2022-07-05T19:53:00.790Z"
      },
      {
        "duration": 554,
        "start_time": "2022-07-05T19:53:00.797Z"
      },
      {
        "duration": 664,
        "start_time": "2022-07-05T19:53:01.354Z"
      },
      {
        "duration": 690,
        "start_time": "2022-07-05T19:53:02.022Z"
      },
      {
        "duration": 10,
        "start_time": "2022-07-05T19:53:02.714Z"
      },
      {
        "duration": 62,
        "start_time": "2022-07-05T19:53:02.726Z"
      },
      {
        "duration": 2535,
        "start_time": "2022-07-05T19:53:02.790Z"
      },
      {
        "duration": 1203,
        "start_time": "2022-07-05T19:53:05.329Z"
      },
      {
        "duration": 1402,
        "start_time": "2022-07-05T19:53:06.622Z"
      },
      {
        "duration": 8,
        "start_time": "2022-07-05T19:53:08.030Z"
      },
      {
        "duration": 93,
        "start_time": "2022-07-05T19:53:08.043Z"
      },
      {
        "duration": 3006679,
        "start_time": "2022-07-05T19:53:08.138Z"
      },
      {
        "duration": 3094,
        "start_time": "2022-07-06T08:10:29.114Z"
      },
      {
        "duration": 20,
        "start_time": "2022-07-06T08:10:32.210Z"
      },
      {
        "duration": 27,
        "start_time": "2022-07-06T08:10:32.231Z"
      },
      {
        "duration": 141,
        "start_time": "2022-07-06T08:10:32.260Z"
      },
      {
        "duration": 3,
        "start_time": "2022-07-06T08:10:32.403Z"
      },
      {
        "duration": 261,
        "start_time": "2022-07-06T08:10:32.407Z"
      },
      {
        "duration": 14,
        "start_time": "2022-07-06T08:10:32.670Z"
      },
      {
        "duration": 7,
        "start_time": "2022-07-06T08:10:32.686Z"
      },
      {
        "duration": 5,
        "start_time": "2022-07-06T08:10:32.694Z"
      },
      {
        "duration": 10,
        "start_time": "2022-07-06T08:10:32.724Z"
      },
      {
        "duration": 6,
        "start_time": "2022-07-06T08:10:32.736Z"
      },
      {
        "duration": 1183,
        "start_time": "2022-07-06T08:10:32.743Z"
      },
      {
        "duration": 1295,
        "start_time": "2022-07-06T08:10:33.928Z"
      },
      {
        "duration": 104,
        "start_time": "2022-07-06T08:10:35.225Z"
      },
      {
        "duration": 4,
        "start_time": "2022-07-06T08:10:35.331Z"
      },
      {
        "duration": 757,
        "start_time": "2022-07-06T08:10:35.336Z"
      },
      {
        "duration": 637,
        "start_time": "2022-07-06T08:10:36.095Z"
      },
      {
        "duration": 784,
        "start_time": "2022-07-06T08:10:36.733Z"
      },
      {
        "duration": 6,
        "start_time": "2022-07-06T08:10:37.519Z"
      },
      {
        "duration": 474,
        "start_time": "2022-07-06T08:10:37.527Z"
      },
      {
        "duration": 491,
        "start_time": "2022-07-06T08:10:38.002Z"
      },
      {
        "duration": 785,
        "start_time": "2022-07-06T08:10:38.495Z"
      },
      {
        "duration": 3,
        "start_time": "2022-07-06T08:10:39.282Z"
      },
      {
        "duration": 85,
        "start_time": "2022-07-06T08:10:39.287Z"
      },
      {
        "duration": 2260,
        "start_time": "2022-07-06T08:10:39.374Z"
      },
      {
        "duration": 908,
        "start_time": "2022-07-06T08:10:41.724Z"
      },
      {
        "duration": 1398,
        "start_time": "2022-07-06T08:10:42.726Z"
      },
      {
        "duration": 4,
        "start_time": "2022-07-06T08:10:44.128Z"
      },
      {
        "duration": 8,
        "start_time": "2022-07-06T08:10:44.133Z"
      },
      {
        "duration": 1084947,
        "start_time": "2022-07-06T08:10:44.143Z"
      },
      {
        "duration": 0,
        "start_time": "2022-07-06T08:28:49.092Z"
      },
      {
        "duration": 0,
        "start_time": "2022-07-06T08:28:49.094Z"
      },
      {
        "duration": 0,
        "start_time": "2022-07-06T08:28:49.095Z"
      },
      {
        "duration": 0,
        "start_time": "2022-07-06T08:28:49.096Z"
      },
      {
        "duration": 0,
        "start_time": "2022-07-06T08:28:49.097Z"
      },
      {
        "duration": 0,
        "start_time": "2022-07-06T08:28:49.098Z"
      },
      {
        "duration": 0,
        "start_time": "2022-07-06T08:28:49.100Z"
      },
      {
        "duration": 0,
        "start_time": "2022-07-06T08:28:49.102Z"
      },
      {
        "duration": 0,
        "start_time": "2022-07-06T08:28:49.123Z"
      },
      {
        "duration": 0,
        "start_time": "2022-07-06T08:28:49.125Z"
      },
      {
        "duration": 0,
        "start_time": "2022-07-06T08:28:49.126Z"
      },
      {
        "duration": 673,
        "start_time": "2022-07-06T08:28:54.969Z"
      },
      {
        "duration": 19,
        "start_time": "2022-07-06T08:28:55.644Z"
      },
      {
        "duration": 23,
        "start_time": "2022-07-06T08:28:55.664Z"
      },
      {
        "duration": 135,
        "start_time": "2022-07-06T08:28:55.689Z"
      },
      {
        "duration": 3,
        "start_time": "2022-07-06T08:28:55.826Z"
      },
      {
        "duration": 266,
        "start_time": "2022-07-06T08:28:55.831Z"
      },
      {
        "duration": 14,
        "start_time": "2022-07-06T08:28:56.099Z"
      },
      {
        "duration": 16,
        "start_time": "2022-07-06T08:28:56.114Z"
      },
      {
        "duration": 5,
        "start_time": "2022-07-06T08:28:56.131Z"
      },
      {
        "duration": 12,
        "start_time": "2022-07-06T08:28:56.139Z"
      },
      {
        "duration": 6,
        "start_time": "2022-07-06T08:28:56.153Z"
      },
      {
        "duration": 1071,
        "start_time": "2022-07-06T08:28:56.161Z"
      },
      {
        "duration": 1405,
        "start_time": "2022-07-06T08:28:57.326Z"
      },
      {
        "duration": 107,
        "start_time": "2022-07-06T08:28:58.734Z"
      },
      {
        "duration": 3,
        "start_time": "2022-07-06T08:28:58.843Z"
      },
      {
        "duration": 778,
        "start_time": "2022-07-06T08:28:58.848Z"
      },
      {
        "duration": 801,
        "start_time": "2022-07-06T08:28:59.628Z"
      },
      {
        "duration": 733,
        "start_time": "2022-07-06T08:29:00.432Z"
      },
      {
        "duration": 4,
        "start_time": "2022-07-06T08:29:01.167Z"
      },
      {
        "duration": 524,
        "start_time": "2022-07-06T08:29:01.173Z"
      },
      {
        "duration": 649,
        "start_time": "2022-07-06T08:29:01.699Z"
      },
      {
        "duration": 651,
        "start_time": "2022-07-06T08:29:02.350Z"
      },
      {
        "duration": 4,
        "start_time": "2022-07-06T08:29:03.002Z"
      },
      {
        "duration": 64,
        "start_time": "2022-07-06T08:29:03.007Z"
      },
      {
        "duration": 2150,
        "start_time": "2022-07-06T08:29:03.073Z"
      },
      {
        "duration": 1103,
        "start_time": "2022-07-06T08:29:05.225Z"
      },
      {
        "duration": 1299,
        "start_time": "2022-07-06T08:29:06.330Z"
      },
      {
        "duration": 5,
        "start_time": "2022-07-06T08:29:07.633Z"
      },
      {
        "duration": 88,
        "start_time": "2022-07-06T08:29:07.640Z"
      },
      {
        "duration": 21,
        "start_time": "2022-07-06T08:29:07.730Z"
      },
      {
        "duration": 0,
        "start_time": "2022-07-06T08:29:07.753Z"
      },
      {
        "duration": 0,
        "start_time": "2022-07-06T08:29:07.824Z"
      },
      {
        "duration": 0,
        "start_time": "2022-07-06T08:29:07.825Z"
      },
      {
        "duration": 0,
        "start_time": "2022-07-06T08:29:07.827Z"
      },
      {
        "duration": 0,
        "start_time": "2022-07-06T08:29:07.827Z"
      },
      {
        "duration": 0,
        "start_time": "2022-07-06T08:29:07.829Z"
      },
      {
        "duration": 0,
        "start_time": "2022-07-06T08:29:07.829Z"
      },
      {
        "duration": 0,
        "start_time": "2022-07-06T08:29:07.830Z"
      },
      {
        "duration": 0,
        "start_time": "2022-07-06T08:29:07.831Z"
      },
      {
        "duration": 0,
        "start_time": "2022-07-06T08:29:07.832Z"
      },
      {
        "duration": 0,
        "start_time": "2022-07-06T08:29:07.833Z"
      },
      {
        "duration": 0,
        "start_time": "2022-07-06T08:29:07.834Z"
      },
      {
        "duration": 725,
        "start_time": "2022-07-06T08:32:04.253Z"
      },
      {
        "duration": 19,
        "start_time": "2022-07-06T08:32:04.981Z"
      },
      {
        "duration": 33,
        "start_time": "2022-07-06T08:32:05.003Z"
      },
      {
        "duration": 136,
        "start_time": "2022-07-06T08:32:05.038Z"
      },
      {
        "duration": 4,
        "start_time": "2022-07-06T08:32:05.176Z"
      },
      {
        "duration": 277,
        "start_time": "2022-07-06T08:32:05.181Z"
      },
      {
        "duration": 11,
        "start_time": "2022-07-06T08:32:05.460Z"
      },
      {
        "duration": 11,
        "start_time": "2022-07-06T08:32:05.473Z"
      },
      {
        "duration": 4,
        "start_time": "2022-07-06T08:32:05.486Z"
      },
      {
        "duration": 39,
        "start_time": "2022-07-06T08:32:05.492Z"
      },
      {
        "duration": 7,
        "start_time": "2022-07-06T08:32:05.533Z"
      },
      {
        "duration": 1183,
        "start_time": "2022-07-06T08:32:05.541Z"
      },
      {
        "duration": 1297,
        "start_time": "2022-07-06T08:32:06.726Z"
      },
      {
        "duration": 21,
        "start_time": "2022-07-06T08:32:08.027Z"
      },
      {
        "duration": 5,
        "start_time": "2022-07-06T08:32:08.050Z"
      },
      {
        "duration": 981,
        "start_time": "2022-07-06T08:32:08.057Z"
      },
      {
        "duration": 677,
        "start_time": "2022-07-06T08:32:09.040Z"
      },
      {
        "duration": 679,
        "start_time": "2022-07-06T08:32:09.718Z"
      },
      {
        "duration": 4,
        "start_time": "2022-07-06T08:32:10.399Z"
      },
      {
        "duration": 626,
        "start_time": "2022-07-06T08:32:10.405Z"
      },
      {
        "duration": 493,
        "start_time": "2022-07-06T08:32:11.033Z"
      },
      {
        "duration": 636,
        "start_time": "2022-07-06T08:32:11.528Z"
      },
      {
        "duration": 3,
        "start_time": "2022-07-06T08:32:12.166Z"
      },
      {
        "duration": 186,
        "start_time": "2022-07-06T08:32:12.170Z"
      },
      {
        "duration": 2566,
        "start_time": "2022-07-06T08:32:12.358Z"
      },
      {
        "duration": 1197,
        "start_time": "2022-07-06T08:32:14.927Z"
      },
      {
        "duration": 1097,
        "start_time": "2022-07-06T08:32:16.126Z"
      },
      {
        "duration": 3,
        "start_time": "2022-07-06T08:32:17.226Z"
      },
      {
        "duration": 23,
        "start_time": "2022-07-06T08:32:17.231Z"
      },
      {
        "duration": 38044,
        "start_time": "2022-07-06T08:32:17.255Z"
      },
      {
        "duration": 0,
        "start_time": "2022-07-06T08:32:55.301Z"
      },
      {
        "duration": 0,
        "start_time": "2022-07-06T08:32:55.303Z"
      },
      {
        "duration": 0,
        "start_time": "2022-07-06T08:32:55.304Z"
      },
      {
        "duration": 0,
        "start_time": "2022-07-06T08:32:55.306Z"
      },
      {
        "duration": 0,
        "start_time": "2022-07-06T08:32:55.308Z"
      },
      {
        "duration": 0,
        "start_time": "2022-07-06T08:32:55.324Z"
      },
      {
        "duration": 0,
        "start_time": "2022-07-06T08:32:55.325Z"
      },
      {
        "duration": 0,
        "start_time": "2022-07-06T08:32:55.326Z"
      },
      {
        "duration": 0,
        "start_time": "2022-07-06T08:32:55.328Z"
      },
      {
        "duration": 0,
        "start_time": "2022-07-06T08:32:55.329Z"
      },
      {
        "duration": 0,
        "start_time": "2022-07-06T08:32:55.331Z"
      },
      {
        "duration": 0,
        "start_time": "2022-07-06T08:32:55.332Z"
      },
      {
        "duration": 630,
        "start_time": "2022-07-06T08:32:59.202Z"
      },
      {
        "duration": 18,
        "start_time": "2022-07-06T08:32:59.834Z"
      },
      {
        "duration": 24,
        "start_time": "2022-07-06T08:32:59.854Z"
      },
      {
        "duration": 147,
        "start_time": "2022-07-06T08:32:59.880Z"
      },
      {
        "duration": 4,
        "start_time": "2022-07-06T08:33:00.029Z"
      },
      {
        "duration": 240,
        "start_time": "2022-07-06T08:33:00.035Z"
      },
      {
        "duration": 11,
        "start_time": "2022-07-06T08:33:00.277Z"
      },
      {
        "duration": 13,
        "start_time": "2022-07-06T08:33:00.290Z"
      },
      {
        "duration": 20,
        "start_time": "2022-07-06T08:33:00.304Z"
      },
      {
        "duration": 24,
        "start_time": "2022-07-06T08:33:00.327Z"
      },
      {
        "duration": 12,
        "start_time": "2022-07-06T08:33:00.352Z"
      },
      {
        "duration": 1257,
        "start_time": "2022-07-06T08:33:00.366Z"
      },
      {
        "duration": 1304,
        "start_time": "2022-07-06T08:33:01.627Z"
      },
      {
        "duration": 99,
        "start_time": "2022-07-06T08:33:03.024Z"
      },
      {
        "duration": 3,
        "start_time": "2022-07-06T08:33:03.126Z"
      },
      {
        "duration": 675,
        "start_time": "2022-07-06T08:33:03.131Z"
      },
      {
        "duration": 665,
        "start_time": "2022-07-06T08:33:03.808Z"
      },
      {
        "duration": 812,
        "start_time": "2022-07-06T08:33:04.475Z"
      },
      {
        "duration": 5,
        "start_time": "2022-07-06T08:33:05.288Z"
      },
      {
        "duration": 523,
        "start_time": "2022-07-06T08:33:05.295Z"
      },
      {
        "duration": 542,
        "start_time": "2022-07-06T08:33:05.820Z"
      },
      {
        "duration": 795,
        "start_time": "2022-07-06T08:33:06.364Z"
      },
      {
        "duration": 4,
        "start_time": "2022-07-06T08:33:07.161Z"
      },
      {
        "duration": 73,
        "start_time": "2022-07-06T08:33:07.167Z"
      },
      {
        "duration": 2080,
        "start_time": "2022-07-06T08:33:07.242Z"
      },
      {
        "duration": 1202,
        "start_time": "2022-07-06T08:33:09.324Z"
      },
      {
        "duration": 1595,
        "start_time": "2022-07-06T08:33:10.531Z"
      },
      {
        "duration": 4,
        "start_time": "2022-07-06T08:33:12.131Z"
      },
      {
        "duration": 86,
        "start_time": "2022-07-06T08:33:12.137Z"
      },
      {
        "duration": 134459,
        "start_time": "2022-07-06T08:33:12.225Z"
      },
      {
        "duration": 0,
        "start_time": "2022-07-06T08:35:26.686Z"
      },
      {
        "duration": 0,
        "start_time": "2022-07-06T08:35:26.688Z"
      },
      {
        "duration": 0,
        "start_time": "2022-07-06T08:35:26.689Z"
      },
      {
        "duration": 1,
        "start_time": "2022-07-06T08:35:26.690Z"
      },
      {
        "duration": 0,
        "start_time": "2022-07-06T08:35:26.691Z"
      },
      {
        "duration": 0,
        "start_time": "2022-07-06T08:35:26.693Z"
      },
      {
        "duration": 0,
        "start_time": "2022-07-06T08:35:26.694Z"
      },
      {
        "duration": 0,
        "start_time": "2022-07-06T08:35:26.695Z"
      },
      {
        "duration": 0,
        "start_time": "2022-07-06T08:35:26.697Z"
      },
      {
        "duration": 0,
        "start_time": "2022-07-06T08:35:26.698Z"
      },
      {
        "duration": 0,
        "start_time": "2022-07-06T08:35:26.699Z"
      },
      {
        "duration": 0,
        "start_time": "2022-07-06T08:35:26.723Z"
      },
      {
        "duration": 654,
        "start_time": "2022-07-06T08:35:28.963Z"
      },
      {
        "duration": 18,
        "start_time": "2022-07-06T08:35:29.619Z"
      },
      {
        "duration": 22,
        "start_time": "2022-07-06T08:35:29.639Z"
      },
      {
        "duration": 148,
        "start_time": "2022-07-06T08:35:29.663Z"
      },
      {
        "duration": 10,
        "start_time": "2022-07-06T08:35:29.814Z"
      },
      {
        "duration": 264,
        "start_time": "2022-07-06T08:35:29.826Z"
      },
      {
        "duration": 12,
        "start_time": "2022-07-06T08:35:30.091Z"
      },
      {
        "duration": 19,
        "start_time": "2022-07-06T08:35:30.105Z"
      },
      {
        "duration": 8,
        "start_time": "2022-07-06T08:35:30.126Z"
      },
      {
        "duration": 15,
        "start_time": "2022-07-06T08:35:30.136Z"
      },
      {
        "duration": 6,
        "start_time": "2022-07-06T08:35:30.153Z"
      },
      {
        "duration": 1170,
        "start_time": "2022-07-06T08:35:30.161Z"
      },
      {
        "duration": 1106,
        "start_time": "2022-07-06T08:35:31.425Z"
      },
      {
        "duration": 192,
        "start_time": "2022-07-06T08:35:32.536Z"
      },
      {
        "duration": 4,
        "start_time": "2022-07-06T08:35:32.729Z"
      },
      {
        "duration": 706,
        "start_time": "2022-07-06T08:35:32.736Z"
      },
      {
        "duration": 833,
        "start_time": "2022-07-06T08:35:33.444Z"
      },
      {
        "duration": 693,
        "start_time": "2022-07-06T08:35:34.279Z"
      },
      {
        "duration": 6,
        "start_time": "2022-07-06T08:35:34.974Z"
      },
      {
        "duration": 614,
        "start_time": "2022-07-06T08:35:34.982Z"
      },
      {
        "duration": 530,
        "start_time": "2022-07-06T08:35:35.599Z"
      },
      {
        "duration": 777,
        "start_time": "2022-07-06T08:35:36.131Z"
      },
      {
        "duration": 4,
        "start_time": "2022-07-06T08:35:36.910Z"
      },
      {
        "duration": 83,
        "start_time": "2022-07-06T08:35:36.923Z"
      },
      {
        "duration": 2225,
        "start_time": "2022-07-06T08:35:37.008Z"
      },
      {
        "duration": 2910,
        "start_time": "2022-07-06T08:35:39.323Z"
      },
      {
        "duration": 1300,
        "start_time": "2022-07-06T08:35:42.324Z"
      },
      {
        "duration": 1000,
        "start_time": "2022-07-06T08:35:43.627Z"
      },
      {
        "duration": 4,
        "start_time": "2022-07-06T08:35:44.629Z"
      },
      {
        "duration": 6,
        "start_time": "2022-07-06T08:35:44.635Z"
      },
      {
        "duration": 1455309,
        "start_time": "2022-07-06T08:35:44.642Z"
      },
      {
        "duration": 1603737,
        "start_time": "2022-07-06T08:59:59.952Z"
      },
      {
        "duration": 22665,
        "start_time": "2022-07-06T09:26:43.690Z"
      },
      {
        "duration": 23095,
        "start_time": "2022-07-06T09:27:06.357Z"
      },
      {
        "duration": 4,
        "start_time": "2022-07-06T09:27:29.454Z"
      },
      {
        "duration": 9,
        "start_time": "2022-07-06T09:27:29.460Z"
      },
      {
        "duration": 66,
        "start_time": "2022-07-06T09:27:29.470Z"
      },
      {
        "duration": 0,
        "start_time": "2022-07-06T09:27:29.538Z"
      },
      {
        "duration": 0,
        "start_time": "2022-07-06T09:27:29.539Z"
      },
      {
        "duration": 0,
        "start_time": "2022-07-06T09:27:29.541Z"
      },
      {
        "duration": 0,
        "start_time": "2022-07-06T09:27:29.542Z"
      },
      {
        "duration": 0,
        "start_time": "2022-07-06T09:27:29.544Z"
      },
      {
        "duration": 0,
        "start_time": "2022-07-06T09:27:29.545Z"
      },
      {
        "duration": 19817,
        "start_time": "2022-07-06T09:48:33.042Z"
      },
      {
        "duration": 73,
        "start_time": "2022-07-06T09:48:52.863Z"
      },
      {
        "duration": 0,
        "start_time": "2022-07-06T09:48:52.938Z"
      },
      {
        "duration": 0,
        "start_time": "2022-07-06T09:48:52.939Z"
      },
      {
        "duration": 0,
        "start_time": "2022-07-06T09:48:52.941Z"
      },
      {
        "duration": 0,
        "start_time": "2022-07-06T09:48:52.942Z"
      },
      {
        "duration": 0,
        "start_time": "2022-07-06T09:48:52.948Z"
      },
      {
        "duration": 21922,
        "start_time": "2022-07-06T10:30:57.859Z"
      },
      {
        "duration": 704,
        "start_time": "2022-07-06T10:31:19.783Z"
      },
      {
        "duration": 697,
        "start_time": "2022-07-06T10:31:20.489Z"
      },
      {
        "duration": 6,
        "start_time": "2022-07-06T10:31:21.189Z"
      },
      {
        "duration": 56,
        "start_time": "2022-07-06T10:31:21.197Z"
      },
      {
        "duration": 0,
        "start_time": "2022-07-06T10:31:21.254Z"
      },
      {
        "duration": 728,
        "start_time": "2022-07-06T10:32:39.794Z"
      },
      {
        "duration": 4,
        "start_time": "2022-07-06T10:32:42.591Z"
      },
      {
        "duration": 32419,
        "start_time": "2022-07-06T10:32:52.854Z"
      },
      {
        "duration": 4,
        "start_time": "2022-07-06T10:33:27.603Z"
      },
      {
        "duration": 6,
        "start_time": "2022-07-06T10:39:08.552Z"
      },
      {
        "duration": 8,
        "start_time": "2022-07-06T10:40:41.476Z"
      },
      {
        "duration": 3,
        "start_time": "2022-07-06T10:47:13.556Z"
      },
      {
        "duration": 6,
        "start_time": "2022-07-06T10:47:22.853Z"
      },
      {
        "duration": 23,
        "start_time": "2022-07-06T10:47:42.071Z"
      },
      {
        "duration": 24,
        "start_time": "2022-07-06T10:48:37.961Z"
      },
      {
        "duration": 44,
        "start_time": "2022-07-06T10:49:28.757Z"
      },
      {
        "duration": 67,
        "start_time": "2022-07-06T10:49:43.397Z"
      },
      {
        "duration": 17,
        "start_time": "2022-07-06T10:49:49.164Z"
      },
      {
        "duration": 21,
        "start_time": "2022-07-06T10:50:00.011Z"
      },
      {
        "duration": 15,
        "start_time": "2022-07-06T10:50:21.364Z"
      },
      {
        "duration": 84,
        "start_time": "2022-07-06T10:50:41.410Z"
      },
      {
        "duration": 221702,
        "start_time": "2022-07-06T10:58:16.369Z"
      },
      {
        "duration": 215785,
        "start_time": "2022-07-06T11:01:58.074Z"
      },
      {
        "duration": 14,
        "start_time": "2022-07-06T11:05:33.861Z"
      },
      {
        "duration": 15,
        "start_time": "2022-07-06T11:06:41.874Z"
      },
      {
        "duration": 11,
        "start_time": "2022-07-06T11:06:59.281Z"
      },
      {
        "duration": 366,
        "start_time": "2022-07-06T12:05:06.560Z"
      },
      {
        "duration": 18,
        "start_time": "2022-07-06T12:09:59.555Z"
      },
      {
        "duration": 17,
        "start_time": "2022-07-06T12:10:10.655Z"
      },
      {
        "duration": 43,
        "start_time": "2022-07-06T12:10:16.655Z"
      },
      {
        "duration": 61,
        "start_time": "2022-07-06T12:11:25.375Z"
      },
      {
        "duration": 99985,
        "start_time": "2022-07-06T12:11:28.611Z"
      },
      {
        "duration": 108987,
        "start_time": "2022-07-06T12:13:13.854Z"
      },
      {
        "duration": 5,
        "start_time": "2022-07-06T12:15:07.261Z"
      },
      {
        "duration": 106,
        "start_time": "2022-07-06T12:17:09.395Z"
      },
      {
        "duration": 16,
        "start_time": "2022-07-06T12:18:11.265Z"
      },
      {
        "duration": 23,
        "start_time": "2022-07-06T12:19:50.679Z"
      },
      {
        "duration": 19,
        "start_time": "2022-07-06T12:20:32.065Z"
      },
      {
        "duration": 43,
        "start_time": "2022-07-06T12:21:26.266Z"
      },
      {
        "duration": 23,
        "start_time": "2022-07-06T12:21:53.192Z"
      },
      {
        "duration": 39,
        "start_time": "2022-07-06T12:22:11.266Z"
      },
      {
        "duration": 46,
        "start_time": "2022-07-06T12:22:33.826Z"
      },
      {
        "duration": 56,
        "start_time": "2022-07-06T12:23:00.805Z"
      },
      {
        "duration": 40,
        "start_time": "2022-07-06T12:23:29.814Z"
      },
      {
        "duration": 24,
        "start_time": "2022-07-06T12:29:32.517Z"
      },
      {
        "duration": 1526,
        "start_time": "2022-07-06T12:31:28.178Z"
      },
      {
        "duration": 15,
        "start_time": "2022-07-06T12:31:49.465Z"
      },
      {
        "duration": 9,
        "start_time": "2022-07-06T12:33:38.555Z"
      },
      {
        "duration": 24,
        "start_time": "2022-07-06T12:33:40.453Z"
      },
      {
        "duration": 25,
        "start_time": "2022-07-06T12:33:50.954Z"
      },
      {
        "duration": 29,
        "start_time": "2022-07-06T12:34:40.118Z"
      },
      {
        "duration": 35,
        "start_time": "2022-07-06T12:34:41.880Z"
      },
      {
        "duration": 24,
        "start_time": "2022-07-06T12:35:01.363Z"
      },
      {
        "duration": 23,
        "start_time": "2022-07-06T12:38:20.890Z"
      },
      {
        "duration": 25,
        "start_time": "2022-07-06T12:38:48.322Z"
      },
      {
        "duration": 19,
        "start_time": "2022-07-06T12:40:09.714Z"
      },
      {
        "duration": 803,
        "start_time": "2022-07-06T12:41:57.763Z"
      },
      {
        "duration": 26,
        "start_time": "2022-07-06T12:41:58.570Z"
      },
      {
        "duration": 45,
        "start_time": "2022-07-06T12:41:58.599Z"
      },
      {
        "duration": 73,
        "start_time": "2022-07-06T12:41:58.649Z"
      },
      {
        "duration": 233,
        "start_time": "2022-07-06T12:41:58.726Z"
      },
      {
        "duration": 10,
        "start_time": "2022-07-06T12:41:58.964Z"
      },
      {
        "duration": 447,
        "start_time": "2022-07-06T12:41:58.977Z"
      },
      {
        "duration": 13,
        "start_time": "2022-07-06T12:41:59.427Z"
      },
      {
        "duration": 53,
        "start_time": "2022-07-06T12:41:59.442Z"
      },
      {
        "duration": 27,
        "start_time": "2022-07-06T12:41:59.500Z"
      },
      {
        "duration": 57,
        "start_time": "2022-07-06T12:41:59.530Z"
      },
      {
        "duration": 10,
        "start_time": "2022-07-06T12:41:59.590Z"
      },
      {
        "duration": 3635,
        "start_time": "2022-07-06T12:41:59.605Z"
      },
      {
        "duration": 4187,
        "start_time": "2022-07-06T12:42:03.243Z"
      },
      {
        "duration": 111,
        "start_time": "2022-07-06T12:42:07.433Z"
      },
      {
        "duration": 46,
        "start_time": "2022-07-06T12:42:07.546Z"
      },
      {
        "duration": 1130,
        "start_time": "2022-07-06T12:42:07.594Z"
      },
      {
        "duration": 905,
        "start_time": "2022-07-06T12:42:08.729Z"
      },
      {
        "duration": 955,
        "start_time": "2022-07-06T12:42:09.635Z"
      },
      {
        "duration": 6,
        "start_time": "2022-07-06T12:42:10.593Z"
      },
      {
        "duration": 580,
        "start_time": "2022-07-06T12:42:10.602Z"
      },
      {
        "duration": 593,
        "start_time": "2022-07-06T12:42:11.184Z"
      },
      {
        "duration": 1029,
        "start_time": "2022-07-06T12:42:11.780Z"
      },
      {
        "duration": 4,
        "start_time": "2022-07-06T12:42:12.811Z"
      },
      {
        "duration": 91,
        "start_time": "2022-07-06T12:42:12.817Z"
      },
      {
        "duration": 4616,
        "start_time": "2022-07-06T12:42:12.910Z"
      },
      {
        "duration": 4503,
        "start_time": "2022-07-06T12:42:17.532Z"
      },
      {
        "duration": 3069,
        "start_time": "2022-07-06T12:42:22.056Z"
      },
      {
        "duration": 2808,
        "start_time": "2022-07-06T12:42:25.132Z"
      },
      {
        "duration": 6,
        "start_time": "2022-07-06T12:42:27.945Z"
      },
      {
        "duration": 15,
        "start_time": "2022-07-06T12:42:27.954Z"
      },
      {
        "duration": 1727372,
        "start_time": "2022-07-06T12:42:27.971Z"
      },
      {
        "duration": 1724304,
        "start_time": "2022-07-06T13:11:15.347Z"
      },
      {
        "duration": 25476,
        "start_time": "2022-07-06T13:39:59.654Z"
      },
      {
        "duration": 28948,
        "start_time": "2022-07-06T13:40:25.133Z"
      },
      {
        "duration": 5,
        "start_time": "2022-07-06T13:40:54.082Z"
      },
      {
        "duration": 11,
        "start_time": "2022-07-06T13:40:54.089Z"
      },
      {
        "duration": 19681,
        "start_time": "2022-07-06T13:40:54.102Z"
      },
      {
        "duration": 20517,
        "start_time": "2022-07-06T13:41:13.785Z"
      },
      {
        "duration": 650,
        "start_time": "2022-07-06T13:41:34.307Z"
      },
      {
        "duration": 702,
        "start_time": "2022-07-06T13:41:34.959Z"
      },
      {
        "duration": 6,
        "start_time": "2022-07-06T13:41:35.663Z"
      },
      {
        "duration": 9,
        "start_time": "2022-07-06T13:41:35.671Z"
      },
      {
        "duration": 54,
        "start_time": "2022-07-06T13:41:35.682Z"
      },
      {
        "duration": 20,
        "start_time": "2022-07-06T13:41:35.738Z"
      },
      {
        "duration": 0,
        "start_time": "2022-07-06T13:41:35.761Z"
      },
      {
        "duration": 0,
        "start_time": "2022-07-06T13:41:35.762Z"
      },
      {
        "duration": 0,
        "start_time": "2022-07-06T13:41:35.765Z"
      },
      {
        "duration": 0,
        "start_time": "2022-07-06T13:41:35.766Z"
      },
      {
        "duration": 0,
        "start_time": "2022-07-06T13:41:35.767Z"
      },
      {
        "duration": 0,
        "start_time": "2022-07-06T13:41:35.769Z"
      },
      {
        "duration": 15,
        "start_time": "2022-07-06T13:47:00.194Z"
      },
      {
        "duration": 25,
        "start_time": "2022-07-06T13:47:51.774Z"
      },
      {
        "duration": 15,
        "start_time": "2022-07-06T13:48:07.877Z"
      },
      {
        "duration": 18,
        "start_time": "2022-07-06T13:48:18.722Z"
      },
      {
        "duration": 4,
        "start_time": "2022-07-06T13:51:32.922Z"
      },
      {
        "duration": 5,
        "start_time": "2022-07-06T13:51:52.276Z"
      },
      {
        "duration": 3,
        "start_time": "2022-07-06T13:52:57.009Z"
      },
      {
        "duration": 5,
        "start_time": "2022-07-06T13:53:12.740Z"
      },
      {
        "duration": 5,
        "start_time": "2022-07-06T13:53:27.655Z"
      },
      {
        "duration": 5,
        "start_time": "2022-07-06T13:53:51.469Z"
      },
      {
        "duration": 7,
        "start_time": "2022-07-06T13:54:07.392Z"
      },
      {
        "duration": 15,
        "start_time": "2022-07-06T13:59:50.489Z"
      },
      {
        "duration": 16,
        "start_time": "2022-07-06T14:00:49.177Z"
      },
      {
        "duration": 19,
        "start_time": "2022-07-06T14:01:00.095Z"
      },
      {
        "duration": 15,
        "start_time": "2022-07-06T14:01:14.202Z"
      },
      {
        "duration": 1236,
        "start_time": "2022-07-06T14:01:17.361Z"
      },
      {
        "duration": 1272,
        "start_time": "2022-07-06T14:01:19.548Z"
      },
      {
        "duration": 4,
        "start_time": "2022-07-06T14:01:24.022Z"
      },
      {
        "duration": 5,
        "start_time": "2022-07-06T14:01:29.288Z"
      },
      {
        "duration": 30,
        "start_time": "2022-07-06T14:01:38.019Z"
      },
      {
        "duration": 652,
        "start_time": "2022-07-06T15:41:37.446Z"
      },
      {
        "duration": 23,
        "start_time": "2022-07-06T15:41:38.101Z"
      },
      {
        "duration": 15,
        "start_time": "2022-07-06T15:41:38.126Z"
      },
      {
        "duration": 93,
        "start_time": "2022-07-06T15:41:38.144Z"
      },
      {
        "duration": 144,
        "start_time": "2022-07-06T15:41:38.239Z"
      },
      {
        "duration": 4,
        "start_time": "2022-07-06T15:41:38.384Z"
      },
      {
        "duration": 263,
        "start_time": "2022-07-06T15:41:38.390Z"
      },
      {
        "duration": 11,
        "start_time": "2022-07-06T15:41:38.655Z"
      },
      {
        "duration": 9,
        "start_time": "2022-07-06T15:41:38.669Z"
      },
      {
        "duration": 5,
        "start_time": "2022-07-06T15:41:38.680Z"
      },
      {
        "duration": 40,
        "start_time": "2022-07-06T15:41:38.687Z"
      },
      {
        "duration": 8,
        "start_time": "2022-07-06T15:41:38.729Z"
      },
      {
        "duration": 1288,
        "start_time": "2022-07-06T15:41:38.739Z"
      },
      {
        "duration": 1198,
        "start_time": "2022-07-06T15:41:40.029Z"
      },
      {
        "duration": 106,
        "start_time": "2022-07-06T15:41:41.229Z"
      },
      {
        "duration": 6,
        "start_time": "2022-07-06T15:41:41.337Z"
      },
      {
        "duration": 892,
        "start_time": "2022-07-06T15:41:41.345Z"
      },
      {
        "duration": 730,
        "start_time": "2022-07-06T15:41:42.239Z"
      },
      {
        "duration": 739,
        "start_time": "2022-07-06T15:41:42.971Z"
      },
      {
        "duration": 4,
        "start_time": "2022-07-06T15:41:43.712Z"
      },
      {
        "duration": 681,
        "start_time": "2022-07-06T15:41:43.723Z"
      },
      {
        "duration": 525,
        "start_time": "2022-07-06T15:41:44.406Z"
      },
      {
        "duration": 690,
        "start_time": "2022-07-06T15:41:44.933Z"
      },
      {
        "duration": 4,
        "start_time": "2022-07-06T15:41:45.624Z"
      },
      {
        "duration": 195,
        "start_time": "2022-07-06T15:41:45.630Z"
      },
      {
        "duration": 2698,
        "start_time": "2022-07-06T15:41:45.826Z"
      },
      {
        "duration": 2594,
        "start_time": "2022-07-06T15:41:48.528Z"
      },
      {
        "duration": 1098,
        "start_time": "2022-07-06T15:41:51.127Z"
      },
      {
        "duration": 1196,
        "start_time": "2022-07-06T15:41:52.227Z"
      },
      {
        "duration": 5,
        "start_time": "2022-07-06T15:41:53.427Z"
      },
      {
        "duration": 7,
        "start_time": "2022-07-06T15:41:53.523Z"
      },
      {
        "duration": 1444826,
        "start_time": "2022-07-06T15:41:53.532Z"
      },
      {
        "duration": 1640309,
        "start_time": "2022-07-06T16:05:58.360Z"
      },
      {
        "duration": 1813,
        "start_time": "2022-07-06T16:33:18.672Z"
      },
      {
        "duration": 8288,
        "start_time": "2022-07-06T16:33:20.487Z"
      },
      {
        "duration": 3,
        "start_time": "2022-07-06T16:33:28.778Z"
      },
      {
        "duration": 6,
        "start_time": "2022-07-06T16:33:28.783Z"
      },
      {
        "duration": 17221,
        "start_time": "2022-07-06T16:33:28.790Z"
      },
      {
        "duration": 18412,
        "start_time": "2022-07-06T16:33:46.013Z"
      },
      {
        "duration": 356,
        "start_time": "2022-07-06T16:34:04.426Z"
      },
      {
        "duration": 378,
        "start_time": "2022-07-06T16:34:04.784Z"
      },
      {
        "duration": 8,
        "start_time": "2022-07-06T16:34:05.164Z"
      },
      {
        "duration": 44,
        "start_time": "2022-07-06T16:34:05.174Z"
      },
      {
        "duration": 70,
        "start_time": "2022-07-06T16:34:05.223Z"
      },
      {
        "duration": 40,
        "start_time": "2022-07-06T16:34:05.295Z"
      },
      {
        "duration": 240,
        "start_time": "2022-07-06T16:34:05.337Z"
      },
      {
        "duration": 662,
        "start_time": "2022-07-06T16:34:05.580Z"
      },
      {
        "duration": 4,
        "start_time": "2022-07-06T16:34:06.244Z"
      },
      {
        "duration": 23,
        "start_time": "2022-07-06T16:34:06.249Z"
      },
      {
        "duration": 68,
        "start_time": "2022-07-06T16:34:06.274Z"
      },
      {
        "duration": 3790,
        "start_time": "2022-07-06T16:53:37.938Z"
      },
      {
        "duration": 3887,
        "start_time": "2022-07-06T16:53:43.461Z"
      },
      {
        "duration": 1645,
        "start_time": "2022-07-06T16:53:48.487Z"
      },
      {
        "duration": 1606,
        "start_time": "2022-07-06T16:53:51.923Z"
      },
      {
        "duration": 7,
        "start_time": "2022-07-06T16:53:54.915Z"
      },
      {
        "duration": 16,
        "start_time": "2022-07-06T17:29:17.289Z"
      },
      {
        "duration": 27,
        "start_time": "2022-07-06T17:30:16.643Z"
      },
      {
        "duration": 49,
        "start_time": "2022-07-06T17:33:47.446Z"
      },
      {
        "duration": 106,
        "start_time": "2022-07-06T17:33:52.894Z"
      },
      {
        "duration": 92,
        "start_time": "2022-07-06T17:34:32.577Z"
      },
      {
        "duration": 11,
        "start_time": "2022-07-06T17:39:22.982Z"
      },
      {
        "duration": 46,
        "start_time": "2022-07-06T17:50:46.560Z"
      },
      {
        "duration": 1213,
        "start_time": "2022-07-06T18:14:08.217Z"
      },
      {
        "duration": 894,
        "start_time": "2022-07-06T18:14:50.674Z"
      },
      {
        "duration": 656,
        "start_time": "2022-07-06T18:15:22.400Z"
      },
      {
        "duration": 712,
        "start_time": "2022-07-06T18:15:37.536Z"
      },
      {
        "duration": 830,
        "start_time": "2022-07-06T18:16:46.501Z"
      },
      {
        "duration": 50,
        "start_time": "2022-07-06T18:29:43.796Z"
      },
      {
        "duration": 46,
        "start_time": "2022-07-06T18:40:14.855Z"
      },
      {
        "duration": 729,
        "start_time": "2022-07-06T18:40:28.357Z"
      },
      {
        "duration": 19,
        "start_time": "2022-07-06T18:40:29.089Z"
      },
      {
        "duration": 32,
        "start_time": "2022-07-06T18:40:29.110Z"
      },
      {
        "duration": 44,
        "start_time": "2022-07-06T18:40:29.144Z"
      },
      {
        "duration": 18,
        "start_time": "2022-07-06T18:40:29.191Z"
      },
      {
        "duration": 97,
        "start_time": "2022-07-06T18:40:29.211Z"
      },
      {
        "duration": 55,
        "start_time": "2022-07-06T18:40:29.309Z"
      },
      {
        "duration": 81,
        "start_time": "2022-07-06T18:40:29.366Z"
      },
      {
        "duration": 131,
        "start_time": "2022-07-06T18:40:29.450Z"
      },
      {
        "duration": 3,
        "start_time": "2022-07-06T18:40:29.584Z"
      },
      {
        "duration": 333,
        "start_time": "2022-07-06T18:40:29.588Z"
      },
      {
        "duration": 11,
        "start_time": "2022-07-06T18:40:29.922Z"
      },
      {
        "duration": 26,
        "start_time": "2022-07-06T18:40:29.936Z"
      },
      {
        "duration": 8,
        "start_time": "2022-07-06T18:40:29.964Z"
      },
      {
        "duration": 13,
        "start_time": "2022-07-06T18:40:29.973Z"
      },
      {
        "duration": 7,
        "start_time": "2022-07-06T18:40:29.988Z"
      },
      {
        "duration": 2635,
        "start_time": "2022-07-06T18:40:29.997Z"
      },
      {
        "duration": 2814,
        "start_time": "2022-07-06T18:40:32.641Z"
      },
      {
        "duration": 89,
        "start_time": "2022-07-06T18:40:35.457Z"
      },
      {
        "duration": 75,
        "start_time": "2022-07-06T18:40:35.548Z"
      },
      {
        "duration": 802,
        "start_time": "2022-07-06T18:40:35.630Z"
      },
      {
        "duration": 910,
        "start_time": "2022-07-06T18:40:36.439Z"
      },
      {
        "duration": 737,
        "start_time": "2022-07-06T18:40:37.353Z"
      },
      {
        "duration": 5,
        "start_time": "2022-07-06T18:40:38.092Z"
      },
      {
        "duration": 702,
        "start_time": "2022-07-06T18:40:38.098Z"
      },
      {
        "duration": 670,
        "start_time": "2022-07-06T18:40:38.802Z"
      },
      {
        "duration": 726,
        "start_time": "2022-07-06T18:40:39.474Z"
      },
      {
        "duration": 943,
        "start_time": "2022-07-06T18:40:40.202Z"
      },
      {
        "duration": 4,
        "start_time": "2022-07-06T18:40:41.146Z"
      },
      {
        "duration": 89,
        "start_time": "2022-07-06T18:40:41.155Z"
      },
      {
        "duration": 5498,
        "start_time": "2022-07-06T18:40:41.245Z"
      },
      {
        "duration": 6988,
        "start_time": "2022-07-06T18:40:46.745Z"
      },
      {
        "duration": 2806,
        "start_time": "2022-07-06T18:40:53.735Z"
      },
      {
        "duration": 2190,
        "start_time": "2022-07-06T18:40:56.543Z"
      },
      {
        "duration": 7,
        "start_time": "2022-07-06T18:40:58.745Z"
      },
      {
        "duration": 13,
        "start_time": "2022-07-06T18:40:58.753Z"
      },
      {
        "duration": 1447611,
        "start_time": "2022-07-06T18:40:58.768Z"
      },
      {
        "duration": 1517088,
        "start_time": "2022-07-06T19:05:06.381Z"
      },
      {
        "duration": 3457,
        "start_time": "2022-07-06T19:30:23.471Z"
      },
      {
        "duration": 1726,
        "start_time": "2022-07-06T19:30:26.930Z"
      },
      {
        "duration": 4,
        "start_time": "2022-07-06T19:30:28.658Z"
      },
      {
        "duration": 8,
        "start_time": "2022-07-06T19:30:28.664Z"
      },
      {
        "duration": 16080,
        "start_time": "2022-07-06T19:30:28.674Z"
      },
      {
        "duration": 18201,
        "start_time": "2022-07-06T19:30:44.755Z"
      },
      {
        "duration": 287,
        "start_time": "2022-07-06T19:31:02.958Z"
      },
      {
        "duration": 823,
        "start_time": "2022-07-06T19:31:03.249Z"
      },
      {
        "duration": 3,
        "start_time": "2022-07-06T19:31:04.074Z"
      },
      {
        "duration": 21,
        "start_time": "2022-07-06T19:31:04.079Z"
      },
      {
        "duration": 4,
        "start_time": "2022-07-06T19:31:04.102Z"
      },
      {
        "duration": 22,
        "start_time": "2022-07-06T19:31:04.126Z"
      },
      {
        "duration": 291,
        "start_time": "2022-07-06T19:31:04.149Z"
      },
      {
        "duration": 162,
        "start_time": "2022-07-06T19:31:04.442Z"
      },
      {
        "duration": 3,
        "start_time": "2022-07-06T19:31:04.606Z"
      },
      {
        "duration": 51,
        "start_time": "2022-07-06T19:31:04.611Z"
      },
      {
        "duration": 21,
        "start_time": "2022-07-06T19:36:11.044Z"
      },
      {
        "duration": 21,
        "start_time": "2022-07-06T19:36:19.589Z"
      },
      {
        "duration": 4,
        "start_time": "2022-07-06T19:36:25.075Z"
      },
      {
        "duration": 250,
        "start_time": "2022-07-06T19:36:41.455Z"
      },
      {
        "duration": 146,
        "start_time": "2022-07-06T19:36:43.355Z"
      },
      {
        "duration": 4,
        "start_time": "2022-07-06T19:36:46.468Z"
      },
      {
        "duration": 623,
        "start_time": "2022-07-06T19:38:09.278Z"
      },
      {
        "duration": 24,
        "start_time": "2022-07-06T19:38:09.903Z"
      },
      {
        "duration": 12,
        "start_time": "2022-07-06T19:38:09.929Z"
      },
      {
        "duration": 23,
        "start_time": "2022-07-06T19:38:09.943Z"
      },
      {
        "duration": 14,
        "start_time": "2022-07-06T19:38:09.968Z"
      },
      {
        "duration": 88,
        "start_time": "2022-07-06T19:38:09.983Z"
      },
      {
        "duration": 55,
        "start_time": "2022-07-06T19:38:10.073Z"
      },
      {
        "duration": 72,
        "start_time": "2022-07-06T19:38:10.130Z"
      },
      {
        "duration": 139,
        "start_time": "2022-07-06T19:38:10.204Z"
      },
      {
        "duration": 3,
        "start_time": "2022-07-06T19:38:10.346Z"
      },
      {
        "duration": 280,
        "start_time": "2022-07-06T19:38:10.350Z"
      },
      {
        "duration": 14,
        "start_time": "2022-07-06T19:38:10.632Z"
      },
      {
        "duration": 8,
        "start_time": "2022-07-06T19:38:10.647Z"
      },
      {
        "duration": 9,
        "start_time": "2022-07-06T19:38:10.657Z"
      },
      {
        "duration": 19,
        "start_time": "2022-07-06T19:38:10.667Z"
      },
      {
        "duration": 8,
        "start_time": "2022-07-06T19:38:10.688Z"
      },
      {
        "duration": 1427,
        "start_time": "2022-07-06T19:38:10.698Z"
      },
      {
        "duration": 1697,
        "start_time": "2022-07-06T19:38:12.127Z"
      },
      {
        "duration": 17,
        "start_time": "2022-07-06T19:38:13.826Z"
      },
      {
        "duration": 77,
        "start_time": "2022-07-06T19:38:13.846Z"
      },
      {
        "duration": 862,
        "start_time": "2022-07-06T19:38:13.925Z"
      },
      {
        "duration": 819,
        "start_time": "2022-07-06T19:38:14.789Z"
      },
      {
        "duration": 910,
        "start_time": "2022-07-06T19:38:15.610Z"
      },
      {
        "duration": 5,
        "start_time": "2022-07-06T19:38:16.523Z"
      },
      {
        "duration": 577,
        "start_time": "2022-07-06T19:38:16.530Z"
      },
      {
        "duration": 615,
        "start_time": "2022-07-06T19:38:17.109Z"
      },
      {
        "duration": 892,
        "start_time": "2022-07-06T19:38:17.726Z"
      },
      {
        "duration": 853,
        "start_time": "2022-07-06T19:38:18.625Z"
      },
      {
        "duration": 4,
        "start_time": "2022-07-06T19:38:19.480Z"
      },
      {
        "duration": 73,
        "start_time": "2022-07-06T19:38:19.486Z"
      },
      {
        "duration": 2973,
        "start_time": "2022-07-06T19:38:19.561Z"
      },
      {
        "duration": 2697,
        "start_time": "2022-07-06T19:38:22.536Z"
      },
      {
        "duration": 895,
        "start_time": "2022-07-06T19:38:25.237Z"
      },
      {
        "duration": 1503,
        "start_time": "2022-07-06T19:38:26.133Z"
      },
      {
        "duration": 86,
        "start_time": "2022-07-06T19:38:27.639Z"
      },
      {
        "duration": 11,
        "start_time": "2022-07-06T19:38:27.727Z"
      },
      {
        "duration": 4003300,
        "start_time": "2022-07-06T19:38:27.740Z"
      },
      {
        "duration": 3411,
        "start_time": "2022-07-07T07:11:10.408Z"
      },
      {
        "duration": 16,
        "start_time": "2022-07-07T07:11:13.821Z"
      },
      {
        "duration": 12,
        "start_time": "2022-07-07T07:11:13.839Z"
      },
      {
        "duration": 26,
        "start_time": "2022-07-07T07:11:13.854Z"
      },
      {
        "duration": 11,
        "start_time": "2022-07-07T07:11:13.882Z"
      },
      {
        "duration": 25,
        "start_time": "2022-07-07T07:11:13.894Z"
      },
      {
        "duration": 43,
        "start_time": "2022-07-07T07:11:13.921Z"
      },
      {
        "duration": 24,
        "start_time": "2022-07-07T07:11:13.965Z"
      },
      {
        "duration": 130,
        "start_time": "2022-07-07T07:11:13.991Z"
      },
      {
        "duration": 3,
        "start_time": "2022-07-07T07:11:14.123Z"
      },
      {
        "duration": 287,
        "start_time": "2022-07-07T07:11:14.128Z"
      },
      {
        "duration": 14,
        "start_time": "2022-07-07T07:11:14.418Z"
      },
      {
        "duration": 13,
        "start_time": "2022-07-07T07:11:14.434Z"
      },
      {
        "duration": 12,
        "start_time": "2022-07-07T07:11:14.452Z"
      },
      {
        "duration": 16,
        "start_time": "2022-07-07T07:11:14.466Z"
      },
      {
        "duration": 7,
        "start_time": "2022-07-07T07:11:14.484Z"
      },
      {
        "duration": 1754,
        "start_time": "2022-07-07T07:11:14.493Z"
      },
      {
        "duration": 2800,
        "start_time": "2022-07-07T07:11:16.249Z"
      },
      {
        "duration": 101,
        "start_time": "2022-07-07T07:11:19.051Z"
      },
      {
        "duration": 8,
        "start_time": "2022-07-07T07:11:19.154Z"
      },
      {
        "duration": 803,
        "start_time": "2022-07-07T07:11:19.165Z"
      },
      {
        "duration": 656,
        "start_time": "2022-07-07T07:11:19.970Z"
      },
      {
        "duration": 774,
        "start_time": "2022-07-07T07:11:20.628Z"
      },
      {
        "duration": 4,
        "start_time": "2022-07-07T07:11:21.403Z"
      },
      {
        "duration": 515,
        "start_time": "2022-07-07T07:11:21.409Z"
      },
      {
        "duration": 487,
        "start_time": "2022-07-07T07:11:21.926Z"
      },
      {
        "duration": 761,
        "start_time": "2022-07-07T07:11:22.415Z"
      },
      {
        "duration": 665,
        "start_time": "2022-07-07T07:11:23.178Z"
      },
      {
        "duration": 4,
        "start_time": "2022-07-07T07:11:23.845Z"
      },
      {
        "duration": 71,
        "start_time": "2022-07-07T07:11:23.851Z"
      },
      {
        "duration": 3240,
        "start_time": "2022-07-07T07:11:23.923Z"
      },
      {
        "duration": 3900,
        "start_time": "2022-07-07T07:11:27.242Z"
      },
      {
        "duration": 1309,
        "start_time": "2022-07-07T07:11:31.145Z"
      },
      {
        "duration": 1606,
        "start_time": "2022-07-07T07:11:32.542Z"
      },
      {
        "duration": 5,
        "start_time": "2022-07-07T07:11:34.150Z"
      },
      {
        "duration": 12,
        "start_time": "2022-07-07T07:11:34.241Z"
      },
      {
        "duration": 1297055,
        "start_time": "2022-07-07T07:11:34.255Z"
      },
      {
        "duration": 0,
        "start_time": "2022-07-07T07:33:11.312Z"
      },
      {
        "duration": 0,
        "start_time": "2022-07-07T07:33:11.313Z"
      },
      {
        "duration": 0,
        "start_time": "2022-07-07T07:33:11.314Z"
      },
      {
        "duration": 0,
        "start_time": "2022-07-07T07:33:11.315Z"
      },
      {
        "duration": 0,
        "start_time": "2022-07-07T07:33:11.316Z"
      },
      {
        "duration": 0,
        "start_time": "2022-07-07T07:33:11.316Z"
      },
      {
        "duration": 0,
        "start_time": "2022-07-07T07:33:11.317Z"
      },
      {
        "duration": 0,
        "start_time": "2022-07-07T07:33:11.319Z"
      },
      {
        "duration": 0,
        "start_time": "2022-07-07T07:33:11.319Z"
      },
      {
        "duration": 0,
        "start_time": "2022-07-07T07:33:11.320Z"
      },
      {
        "duration": 0,
        "start_time": "2022-07-07T07:33:11.321Z"
      },
      {
        "duration": 0,
        "start_time": "2022-07-07T07:33:11.322Z"
      },
      {
        "duration": 0,
        "start_time": "2022-07-07T07:33:11.323Z"
      },
      {
        "duration": 0,
        "start_time": "2022-07-07T07:33:11.324Z"
      },
      {
        "duration": 0,
        "start_time": "2022-07-07T07:33:11.324Z"
      },
      {
        "duration": 0,
        "start_time": "2022-07-07T07:33:11.342Z"
      },
      {
        "duration": 0,
        "start_time": "2022-07-07T07:33:11.343Z"
      },
      {
        "duration": 0,
        "start_time": "2022-07-07T07:33:11.344Z"
      },
      {
        "duration": 755,
        "start_time": "2022-07-07T07:33:26.571Z"
      },
      {
        "duration": 591,
        "start_time": "2022-07-07T07:33:35.865Z"
      },
      {
        "duration": 17,
        "start_time": "2022-07-07T07:33:36.458Z"
      },
      {
        "duration": 11,
        "start_time": "2022-07-07T07:33:36.476Z"
      },
      {
        "duration": 17,
        "start_time": "2022-07-07T07:33:36.490Z"
      },
      {
        "duration": 33,
        "start_time": "2022-07-07T07:33:36.509Z"
      },
      {
        "duration": 18,
        "start_time": "2022-07-07T07:33:36.544Z"
      },
      {
        "duration": 24,
        "start_time": "2022-07-07T07:33:36.564Z"
      },
      {
        "duration": 21,
        "start_time": "2022-07-07T07:33:36.590Z"
      },
      {
        "duration": 141,
        "start_time": "2022-07-07T07:33:36.612Z"
      },
      {
        "duration": 3,
        "start_time": "2022-07-07T07:33:36.755Z"
      },
      {
        "duration": 340,
        "start_time": "2022-07-07T07:33:36.759Z"
      },
      {
        "duration": 9,
        "start_time": "2022-07-07T07:33:37.101Z"
      },
      {
        "duration": 8,
        "start_time": "2022-07-07T07:33:37.111Z"
      },
      {
        "duration": 23,
        "start_time": "2022-07-07T07:33:37.120Z"
      },
      {
        "duration": 11,
        "start_time": "2022-07-07T07:33:37.145Z"
      },
      {
        "duration": 8,
        "start_time": "2022-07-07T07:33:37.158Z"
      },
      {
        "duration": 1075,
        "start_time": "2022-07-07T07:33:37.168Z"
      },
      {
        "duration": 2103,
        "start_time": "2022-07-07T07:33:38.244Z"
      },
      {
        "duration": 100,
        "start_time": "2022-07-07T07:33:40.349Z"
      },
      {
        "duration": 4,
        "start_time": "2022-07-07T07:33:40.451Z"
      },
      {
        "duration": 684,
        "start_time": "2022-07-07T07:33:40.456Z"
      },
      {
        "duration": 721,
        "start_time": "2022-07-07T07:33:41.142Z"
      },
      {
        "duration": 593,
        "start_time": "2022-07-07T07:33:41.865Z"
      },
      {
        "duration": 5,
        "start_time": "2022-07-07T07:33:42.459Z"
      },
      {
        "duration": 453,
        "start_time": "2022-07-07T07:33:42.465Z"
      },
      {
        "duration": 561,
        "start_time": "2022-07-07T07:33:42.920Z"
      },
      {
        "duration": 557,
        "start_time": "2022-07-07T07:33:43.483Z"
      },
      {
        "duration": 618,
        "start_time": "2022-07-07T07:33:44.043Z"
      },
      {
        "duration": 3,
        "start_time": "2022-07-07T07:33:44.663Z"
      },
      {
        "duration": 170,
        "start_time": "2022-07-07T07:33:44.667Z"
      },
      {
        "duration": 2701,
        "start_time": "2022-07-07T07:33:44.841Z"
      },
      {
        "duration": 1899,
        "start_time": "2022-07-07T07:33:47.544Z"
      },
      {
        "duration": 997,
        "start_time": "2022-07-07T07:33:49.445Z"
      },
      {
        "duration": 1204,
        "start_time": "2022-07-07T07:33:50.444Z"
      },
      {
        "duration": 94,
        "start_time": "2022-07-07T07:33:51.649Z"
      },
      {
        "duration": 6,
        "start_time": "2022-07-07T07:33:51.745Z"
      },
      {
        "duration": 3927,
        "start_time": "2022-07-07T07:33:51.753Z"
      },
      {
        "duration": 0,
        "start_time": "2022-07-07T07:33:55.682Z"
      },
      {
        "duration": 0,
        "start_time": "2022-07-07T07:33:55.683Z"
      },
      {
        "duration": 0,
        "start_time": "2022-07-07T07:33:55.684Z"
      },
      {
        "duration": 0,
        "start_time": "2022-07-07T07:33:55.686Z"
      },
      {
        "duration": 0,
        "start_time": "2022-07-07T07:33:55.687Z"
      },
      {
        "duration": 0,
        "start_time": "2022-07-07T07:33:55.688Z"
      },
      {
        "duration": 0,
        "start_time": "2022-07-07T07:33:55.689Z"
      },
      {
        "duration": 0,
        "start_time": "2022-07-07T07:33:55.690Z"
      },
      {
        "duration": 0,
        "start_time": "2022-07-07T07:33:55.691Z"
      },
      {
        "duration": 0,
        "start_time": "2022-07-07T07:33:55.692Z"
      },
      {
        "duration": 0,
        "start_time": "2022-07-07T07:33:55.693Z"
      },
      {
        "duration": 0,
        "start_time": "2022-07-07T07:33:55.694Z"
      },
      {
        "duration": 0,
        "start_time": "2022-07-07T07:33:55.695Z"
      },
      {
        "duration": 0,
        "start_time": "2022-07-07T07:33:55.696Z"
      },
      {
        "duration": 0,
        "start_time": "2022-07-07T07:33:55.697Z"
      },
      {
        "duration": 0,
        "start_time": "2022-07-07T07:33:55.698Z"
      },
      {
        "duration": 0,
        "start_time": "2022-07-07T07:33:55.699Z"
      },
      {
        "duration": 0,
        "start_time": "2022-07-07T07:33:55.700Z"
      },
      {
        "duration": 710,
        "start_time": "2022-07-07T07:33:57.654Z"
      },
      {
        "duration": 587,
        "start_time": "2022-07-07T07:34:01.213Z"
      },
      {
        "duration": 15,
        "start_time": "2022-07-07T07:34:01.802Z"
      },
      {
        "duration": 11,
        "start_time": "2022-07-07T07:34:01.818Z"
      },
      {
        "duration": 16,
        "start_time": "2022-07-07T07:34:01.842Z"
      },
      {
        "duration": 11,
        "start_time": "2022-07-07T07:34:01.859Z"
      },
      {
        "duration": 33,
        "start_time": "2022-07-07T07:34:01.871Z"
      },
      {
        "duration": 26,
        "start_time": "2022-07-07T07:34:01.905Z"
      },
      {
        "duration": 43,
        "start_time": "2022-07-07T07:34:01.933Z"
      },
      {
        "duration": 122,
        "start_time": "2022-07-07T07:34:01.977Z"
      },
      {
        "duration": 3,
        "start_time": "2022-07-07T07:34:02.102Z"
      },
      {
        "duration": 239,
        "start_time": "2022-07-07T07:34:02.106Z"
      },
      {
        "duration": 9,
        "start_time": "2022-07-07T07:34:02.346Z"
      },
      {
        "duration": 11,
        "start_time": "2022-07-07T07:34:02.357Z"
      },
      {
        "duration": 32,
        "start_time": "2022-07-07T07:34:02.370Z"
      },
      {
        "duration": 21,
        "start_time": "2022-07-07T07:34:02.404Z"
      },
      {
        "duration": 8,
        "start_time": "2022-07-07T07:34:02.427Z"
      },
      {
        "duration": 1107,
        "start_time": "2022-07-07T07:34:02.436Z"
      },
      {
        "duration": 1197,
        "start_time": "2022-07-07T07:34:03.545Z"
      },
      {
        "duration": 100,
        "start_time": "2022-07-07T07:34:04.744Z"
      },
      {
        "duration": 7,
        "start_time": "2022-07-07T07:34:04.846Z"
      },
      {
        "duration": 572,
        "start_time": "2022-07-07T07:34:04.854Z"
      },
      {
        "duration": 666,
        "start_time": "2022-07-07T07:34:05.428Z"
      },
      {
        "duration": 574,
        "start_time": "2022-07-07T07:34:06.096Z"
      },
      {
        "duration": 4,
        "start_time": "2022-07-07T07:34:06.671Z"
      },
      {
        "duration": 410,
        "start_time": "2022-07-07T07:34:06.676Z"
      },
      {
        "duration": 539,
        "start_time": "2022-07-07T07:34:07.088Z"
      },
      {
        "duration": 550,
        "start_time": "2022-07-07T07:34:07.628Z"
      },
      {
        "duration": 562,
        "start_time": "2022-07-07T07:34:08.181Z"
      },
      {
        "duration": 3,
        "start_time": "2022-07-07T07:34:08.745Z"
      },
      {
        "duration": 176,
        "start_time": "2022-07-07T07:34:08.750Z"
      },
      {
        "duration": 2414,
        "start_time": "2022-07-07T07:34:08.928Z"
      },
      {
        "duration": 2901,
        "start_time": "2022-07-07T07:34:11.344Z"
      },
      {
        "duration": 1100,
        "start_time": "2022-07-07T07:34:14.247Z"
      },
      {
        "duration": 802,
        "start_time": "2022-07-07T07:34:15.349Z"
      },
      {
        "duration": 91,
        "start_time": "2022-07-07T07:34:16.152Z"
      },
      {
        "duration": 104,
        "start_time": "2022-07-07T07:34:16.245Z"
      },
      {
        "duration": 1744182,
        "start_time": "2022-07-07T07:34:16.351Z"
      },
      {
        "duration": 2155588,
        "start_time": "2022-07-07T08:03:20.534Z"
      },
      {
        "duration": 5199,
        "start_time": "2022-07-07T08:39:16.124Z"
      },
      {
        "duration": 1790,
        "start_time": "2022-07-07T08:39:21.326Z"
      },
      {
        "duration": 3,
        "start_time": "2022-07-07T08:39:23.118Z"
      },
      {
        "duration": 6,
        "start_time": "2022-07-07T08:39:23.123Z"
      },
      {
        "duration": 16609,
        "start_time": "2022-07-07T08:39:23.131Z"
      },
      {
        "duration": 17409,
        "start_time": "2022-07-07T08:39:39.742Z"
      },
      {
        "duration": 294,
        "start_time": "2022-07-07T08:39:57.155Z"
      },
      {
        "duration": 303,
        "start_time": "2022-07-07T08:39:57.451Z"
      },
      {
        "duration": 3,
        "start_time": "2022-07-07T08:39:57.756Z"
      },
      {
        "duration": 18,
        "start_time": "2022-07-07T08:39:57.761Z"
      },
      {
        "duration": 5,
        "start_time": "2022-07-07T08:39:57.781Z"
      },
      {
        "duration": 18,
        "start_time": "2022-07-07T08:39:57.788Z"
      },
      {
        "duration": 419,
        "start_time": "2022-07-07T08:39:57.807Z"
      },
      {
        "duration": 151,
        "start_time": "2022-07-07T08:39:58.227Z"
      },
      {
        "duration": 3,
        "start_time": "2022-07-07T08:39:58.380Z"
      },
      {
        "duration": 31,
        "start_time": "2022-07-07T08:39:58.385Z"
      },
      {
        "duration": 610,
        "start_time": "2022-07-07T08:42:44.182Z"
      },
      {
        "duration": 19,
        "start_time": "2022-07-07T08:42:44.793Z"
      },
      {
        "duration": 13,
        "start_time": "2022-07-07T08:42:44.814Z"
      },
      {
        "duration": 26,
        "start_time": "2022-07-07T08:42:44.829Z"
      },
      {
        "duration": 11,
        "start_time": "2022-07-07T08:42:44.857Z"
      },
      {
        "duration": 19,
        "start_time": "2022-07-07T08:42:44.870Z"
      },
      {
        "duration": 19,
        "start_time": "2022-07-07T08:42:44.890Z"
      },
      {
        "duration": 37,
        "start_time": "2022-07-07T08:42:44.910Z"
      },
      {
        "duration": 115,
        "start_time": "2022-07-07T08:42:44.948Z"
      },
      {
        "duration": 3,
        "start_time": "2022-07-07T08:42:45.065Z"
      },
      {
        "duration": 237,
        "start_time": "2022-07-07T08:42:45.070Z"
      },
      {
        "duration": 9,
        "start_time": "2022-07-07T08:42:45.309Z"
      },
      {
        "duration": 9,
        "start_time": "2022-07-07T08:42:45.319Z"
      },
      {
        "duration": 14,
        "start_time": "2022-07-07T08:42:45.329Z"
      },
      {
        "duration": 11,
        "start_time": "2022-07-07T08:42:45.344Z"
      },
      {
        "duration": 7,
        "start_time": "2022-07-07T08:42:45.356Z"
      },
      {
        "duration": 985,
        "start_time": "2022-07-07T08:42:45.364Z"
      },
      {
        "duration": 466,
        "start_time": "2022-07-07T08:42:46.352Z"
      },
      {
        "duration": 0,
        "start_time": "2022-07-07T08:42:46.820Z"
      },
      {
        "duration": 0,
        "start_time": "2022-07-07T08:42:46.821Z"
      },
      {
        "duration": 0,
        "start_time": "2022-07-07T08:42:46.822Z"
      },
      {
        "duration": 0,
        "start_time": "2022-07-07T08:42:46.823Z"
      },
      {
        "duration": 0,
        "start_time": "2022-07-07T08:42:46.824Z"
      },
      {
        "duration": 0,
        "start_time": "2022-07-07T08:42:46.825Z"
      },
      {
        "duration": 0,
        "start_time": "2022-07-07T08:42:46.826Z"
      },
      {
        "duration": 0,
        "start_time": "2022-07-07T08:42:46.827Z"
      },
      {
        "duration": 0,
        "start_time": "2022-07-07T08:42:46.828Z"
      },
      {
        "duration": 0,
        "start_time": "2022-07-07T08:42:46.829Z"
      },
      {
        "duration": 0,
        "start_time": "2022-07-07T08:42:46.842Z"
      },
      {
        "duration": 0,
        "start_time": "2022-07-07T08:42:46.843Z"
      },
      {
        "duration": 0,
        "start_time": "2022-07-07T08:42:46.844Z"
      },
      {
        "duration": 0,
        "start_time": "2022-07-07T08:42:46.845Z"
      },
      {
        "duration": 0,
        "start_time": "2022-07-07T08:42:46.845Z"
      },
      {
        "duration": 0,
        "start_time": "2022-07-07T08:42:46.846Z"
      },
      {
        "duration": 0,
        "start_time": "2022-07-07T08:42:46.847Z"
      },
      {
        "duration": 0,
        "start_time": "2022-07-07T08:42:46.848Z"
      },
      {
        "duration": 0,
        "start_time": "2022-07-07T08:42:46.849Z"
      },
      {
        "duration": 0,
        "start_time": "2022-07-07T08:42:46.850Z"
      },
      {
        "duration": 0,
        "start_time": "2022-07-07T08:42:46.851Z"
      },
      {
        "duration": 0,
        "start_time": "2022-07-07T08:42:46.851Z"
      },
      {
        "duration": 0,
        "start_time": "2022-07-07T08:42:46.852Z"
      },
      {
        "duration": 0,
        "start_time": "2022-07-07T08:42:46.853Z"
      },
      {
        "duration": 0,
        "start_time": "2022-07-07T08:42:46.854Z"
      },
      {
        "duration": 0,
        "start_time": "2022-07-07T08:42:46.855Z"
      },
      {
        "duration": 0,
        "start_time": "2022-07-07T08:42:46.856Z"
      },
      {
        "duration": 0,
        "start_time": "2022-07-07T08:42:46.857Z"
      },
      {
        "duration": 0,
        "start_time": "2022-07-07T08:42:46.858Z"
      },
      {
        "duration": 0,
        "start_time": "2022-07-07T08:42:46.859Z"
      },
      {
        "duration": 0,
        "start_time": "2022-07-07T08:42:46.860Z"
      },
      {
        "duration": 0,
        "start_time": "2022-07-07T08:42:46.861Z"
      },
      {
        "duration": 0,
        "start_time": "2022-07-07T08:42:46.862Z"
      },
      {
        "duration": 0,
        "start_time": "2022-07-07T08:42:46.862Z"
      },
      {
        "duration": 0,
        "start_time": "2022-07-07T08:42:46.863Z"
      },
      {
        "duration": 0,
        "start_time": "2022-07-07T08:42:46.864Z"
      },
      {
        "duration": 701,
        "start_time": "2022-07-07T08:43:28.668Z"
      },
      {
        "duration": 17,
        "start_time": "2022-07-07T08:43:29.371Z"
      },
      {
        "duration": 12,
        "start_time": "2022-07-07T08:43:29.389Z"
      },
      {
        "duration": 17,
        "start_time": "2022-07-07T08:43:29.403Z"
      },
      {
        "duration": 12,
        "start_time": "2022-07-07T08:43:29.443Z"
      },
      {
        "duration": 21,
        "start_time": "2022-07-07T08:43:29.457Z"
      },
      {
        "duration": 18,
        "start_time": "2022-07-07T08:43:29.479Z"
      },
      {
        "duration": 22,
        "start_time": "2022-07-07T08:43:29.498Z"
      },
      {
        "duration": 132,
        "start_time": "2022-07-07T08:43:29.521Z"
      },
      {
        "duration": 3,
        "start_time": "2022-07-07T08:43:29.656Z"
      },
      {
        "duration": 250,
        "start_time": "2022-07-07T08:43:29.660Z"
      },
      {
        "duration": 9,
        "start_time": "2022-07-07T08:43:29.911Z"
      },
      {
        "duration": 7,
        "start_time": "2022-07-07T08:43:29.922Z"
      },
      {
        "duration": 4,
        "start_time": "2022-07-07T08:43:29.942Z"
      },
      {
        "duration": 13,
        "start_time": "2022-07-07T08:43:29.947Z"
      },
      {
        "duration": 5,
        "start_time": "2022-07-07T08:43:29.962Z"
      },
      {
        "duration": 1077,
        "start_time": "2022-07-07T08:43:29.968Z"
      },
      {
        "duration": 1201,
        "start_time": "2022-07-07T08:43:31.047Z"
      },
      {
        "duration": 99,
        "start_time": "2022-07-07T08:43:32.250Z"
      },
      {
        "duration": 3,
        "start_time": "2022-07-07T08:43:32.352Z"
      },
      {
        "duration": 658,
        "start_time": "2022-07-07T08:43:32.357Z"
      },
      {
        "duration": 556,
        "start_time": "2022-07-07T08:43:33.016Z"
      },
      {
        "duration": 676,
        "start_time": "2022-07-07T08:43:33.573Z"
      },
      {
        "duration": 4,
        "start_time": "2022-07-07T08:43:34.250Z"
      },
      {
        "duration": 483,
        "start_time": "2022-07-07T08:43:34.255Z"
      },
      {
        "duration": 426,
        "start_time": "2022-07-07T08:43:34.741Z"
      },
      {
        "duration": 658,
        "start_time": "2022-07-07T08:43:35.168Z"
      },
      {
        "duration": 562,
        "start_time": "2022-07-07T08:43:35.829Z"
      },
      {
        "duration": 3,
        "start_time": "2022-07-07T08:43:36.393Z"
      },
      {
        "duration": 56,
        "start_time": "2022-07-07T08:43:36.397Z"
      },
      {
        "duration": 2398,
        "start_time": "2022-07-07T08:43:36.454Z"
      },
      {
        "duration": 2407,
        "start_time": "2022-07-07T08:43:38.943Z"
      },
      {
        "duration": 897,
        "start_time": "2022-07-07T08:43:41.352Z"
      },
      {
        "duration": 1192,
        "start_time": "2022-07-07T08:43:42.251Z"
      },
      {
        "duration": 3,
        "start_time": "2022-07-07T08:43:43.445Z"
      },
      {
        "duration": 4,
        "start_time": "2022-07-07T08:43:43.451Z"
      },
      {
        "duration": 1282033,
        "start_time": "2022-07-07T08:43:43.457Z"
      },
      {
        "duration": 1588488,
        "start_time": "2022-07-07T09:05:05.493Z"
      },
      {
        "duration": 22841,
        "start_time": "2022-07-07T09:31:33.984Z"
      },
      {
        "duration": 27608,
        "start_time": "2022-07-07T09:31:56.828Z"
      },
      {
        "duration": 8,
        "start_time": "2022-07-07T09:32:24.439Z"
      },
      {
        "duration": 14,
        "start_time": "2022-07-07T09:32:24.449Z"
      },
      {
        "duration": 18373,
        "start_time": "2022-07-07T09:32:24.466Z"
      },
      {
        "duration": 19232,
        "start_time": "2022-07-07T09:32:42.841Z"
      },
      {
        "duration": 706,
        "start_time": "2022-07-07T09:33:02.075Z"
      },
      {
        "duration": 650,
        "start_time": "2022-07-07T09:33:02.783Z"
      },
      {
        "duration": 3,
        "start_time": "2022-07-07T09:33:03.435Z"
      },
      {
        "duration": 23,
        "start_time": "2022-07-07T09:33:03.440Z"
      },
      {
        "duration": 6,
        "start_time": "2022-07-07T09:33:03.465Z"
      },
      {
        "duration": 28,
        "start_time": "2022-07-07T09:33:03.473Z"
      },
      {
        "duration": 1459,
        "start_time": "2022-07-07T09:33:03.503Z"
      },
      {
        "duration": 1313,
        "start_time": "2022-07-07T09:33:04.964Z"
      },
      {
        "duration": 4,
        "start_time": "2022-07-07T09:33:06.279Z"
      },
      {
        "duration": 36,
        "start_time": "2022-07-07T09:33:06.285Z"
      },
      {
        "duration": 731,
        "start_time": "2022-07-07T09:38:45.076Z"
      },
      {
        "duration": 21,
        "start_time": "2022-07-07T09:38:45.809Z"
      },
      {
        "duration": 15,
        "start_time": "2022-07-07T09:38:45.843Z"
      },
      {
        "duration": 19,
        "start_time": "2022-07-07T09:38:45.860Z"
      },
      {
        "duration": 16,
        "start_time": "2022-07-07T09:38:45.881Z"
      },
      {
        "duration": 59,
        "start_time": "2022-07-07T09:38:45.899Z"
      },
      {
        "duration": 26,
        "start_time": "2022-07-07T09:38:45.960Z"
      },
      {
        "duration": 25,
        "start_time": "2022-07-07T09:38:45.988Z"
      },
      {
        "duration": 177,
        "start_time": "2022-07-07T09:38:46.015Z"
      },
      {
        "duration": 5,
        "start_time": "2022-07-07T09:38:46.197Z"
      },
      {
        "duration": 415,
        "start_time": "2022-07-07T09:38:46.204Z"
      },
      {
        "duration": 10,
        "start_time": "2022-07-07T09:38:46.621Z"
      },
      {
        "duration": 15,
        "start_time": "2022-07-07T09:38:46.633Z"
      },
      {
        "duration": 6,
        "start_time": "2022-07-07T09:38:46.650Z"
      },
      {
        "duration": 17,
        "start_time": "2022-07-07T09:38:46.658Z"
      },
      {
        "duration": 10,
        "start_time": "2022-07-07T09:38:46.677Z"
      },
      {
        "duration": 1263,
        "start_time": "2022-07-07T09:38:46.689Z"
      },
      {
        "duration": 1586,
        "start_time": "2022-07-07T09:38:47.955Z"
      },
      {
        "duration": 100,
        "start_time": "2022-07-07T09:38:49.544Z"
      },
      {
        "duration": 5,
        "start_time": "2022-07-07T09:38:49.647Z"
      },
      {
        "duration": 752,
        "start_time": "2022-07-07T09:38:49.654Z"
      },
      {
        "duration": 889,
        "start_time": "2022-07-07T09:38:50.408Z"
      },
      {
        "duration": 797,
        "start_time": "2022-07-07T09:38:51.299Z"
      },
      {
        "duration": 5,
        "start_time": "2022-07-07T09:38:52.098Z"
      },
      {
        "duration": 524,
        "start_time": "2022-07-07T09:38:52.105Z"
      },
      {
        "duration": 710,
        "start_time": "2022-07-07T09:38:52.631Z"
      },
      {
        "duration": 727,
        "start_time": "2022-07-07T09:38:53.343Z"
      },
      {
        "duration": 818,
        "start_time": "2022-07-07T09:38:54.075Z"
      },
      {
        "duration": 4,
        "start_time": "2022-07-07T09:38:54.895Z"
      },
      {
        "duration": 228,
        "start_time": "2022-07-07T09:38:54.901Z"
      },
      {
        "duration": 2822,
        "start_time": "2022-07-07T09:38:55.131Z"
      },
      {
        "duration": 3291,
        "start_time": "2022-07-07T09:38:57.955Z"
      },
      {
        "duration": 1096,
        "start_time": "2022-07-07T09:39:01.249Z"
      },
      {
        "duration": 1396,
        "start_time": "2022-07-07T09:39:02.348Z"
      },
      {
        "duration": 5,
        "start_time": "2022-07-07T09:39:03.746Z"
      },
      {
        "duration": 12,
        "start_time": "2022-07-07T09:39:03.753Z"
      },
      {
        "duration": 1855961,
        "start_time": "2022-07-07T09:39:03.842Z"
      },
      {
        "duration": 1969150,
        "start_time": "2022-07-07T10:09:59.805Z"
      },
      {
        "duration": 17680,
        "start_time": "2022-07-07T10:42:48.956Z"
      },
      {
        "duration": 23061,
        "start_time": "2022-07-07T10:43:06.637Z"
      },
      {
        "duration": 3,
        "start_time": "2022-07-07T10:43:29.700Z"
      },
      {
        "duration": 6,
        "start_time": "2022-07-07T10:43:29.704Z"
      },
      {
        "duration": 13738,
        "start_time": "2022-07-07T10:43:29.712Z"
      },
      {
        "duration": 14185,
        "start_time": "2022-07-07T10:43:43.452Z"
      },
      {
        "duration": 538,
        "start_time": "2022-07-07T10:43:57.639Z"
      },
      {
        "duration": 514,
        "start_time": "2022-07-07T10:43:58.179Z"
      },
      {
        "duration": 3,
        "start_time": "2022-07-07T10:43:58.694Z"
      },
      {
        "duration": 17,
        "start_time": "2022-07-07T10:43:58.698Z"
      },
      {
        "duration": 4,
        "start_time": "2022-07-07T10:43:58.717Z"
      },
      {
        "duration": 29,
        "start_time": "2022-07-07T10:43:58.722Z"
      },
      {
        "duration": 1125,
        "start_time": "2022-07-07T10:43:58.753Z"
      },
      {
        "duration": 1135,
        "start_time": "2022-07-07T10:43:59.879Z"
      },
      {
        "duration": 3,
        "start_time": "2022-07-07T10:44:01.016Z"
      },
      {
        "duration": 39,
        "start_time": "2022-07-07T10:44:01.020Z"
      },
      {
        "duration": 3,
        "start_time": "2022-07-07T10:44:01.062Z"
      },
      {
        "duration": 72,
        "start_time": "2022-07-07T10:44:01.066Z"
      },
      {
        "duration": 12,
        "start_time": "2022-07-07T10:49:36.893Z"
      },
      {
        "duration": 1168,
        "start_time": "2022-07-07T10:49:39.222Z"
      },
      {
        "duration": 1207,
        "start_time": "2022-07-07T10:49:42.107Z"
      },
      {
        "duration": 10,
        "start_time": "2022-07-07T10:50:16.381Z"
      },
      {
        "duration": 1177,
        "start_time": "2022-07-07T10:50:18.982Z"
      },
      {
        "duration": 1179,
        "start_time": "2022-07-07T10:50:21.354Z"
      },
      {
        "duration": 3,
        "start_time": "2022-07-07T10:50:23.855Z"
      },
      {
        "duration": 12,
        "start_time": "2022-07-07T10:52:02.795Z"
      },
      {
        "duration": 1270,
        "start_time": "2022-07-07T10:52:03.805Z"
      },
      {
        "duration": 1193,
        "start_time": "2022-07-07T10:52:06.071Z"
      },
      {
        "duration": 22,
        "start_time": "2022-07-07T10:58:32.736Z"
      },
      {
        "duration": 710,
        "start_time": "2022-07-07T11:00:41.270Z"
      },
      {
        "duration": 17,
        "start_time": "2022-07-07T11:00:41.982Z"
      },
      {
        "duration": 16,
        "start_time": "2022-07-07T11:00:42.000Z"
      },
      {
        "duration": 44,
        "start_time": "2022-07-07T11:00:42.018Z"
      },
      {
        "duration": 13,
        "start_time": "2022-07-07T11:00:42.064Z"
      },
      {
        "duration": 24,
        "start_time": "2022-07-07T11:00:42.078Z"
      },
      {
        "duration": 52,
        "start_time": "2022-07-07T11:00:42.103Z"
      },
      {
        "duration": 28,
        "start_time": "2022-07-07T11:00:42.156Z"
      },
      {
        "duration": 123,
        "start_time": "2022-07-07T11:00:42.185Z"
      },
      {
        "duration": 4,
        "start_time": "2022-07-07T11:00:42.310Z"
      },
      {
        "duration": 271,
        "start_time": "2022-07-07T11:00:42.315Z"
      },
      {
        "duration": 10,
        "start_time": "2022-07-07T11:00:42.588Z"
      },
      {
        "duration": 9,
        "start_time": "2022-07-07T11:00:42.599Z"
      },
      {
        "duration": 4,
        "start_time": "2022-07-07T11:00:42.611Z"
      },
      {
        "duration": 33,
        "start_time": "2022-07-07T11:00:42.616Z"
      },
      {
        "duration": 17,
        "start_time": "2022-07-07T11:00:42.656Z"
      },
      {
        "duration": 2087,
        "start_time": "2022-07-07T11:00:42.676Z"
      },
      {
        "duration": 2485,
        "start_time": "2022-07-07T11:00:44.770Z"
      },
      {
        "duration": 96,
        "start_time": "2022-07-07T11:00:47.257Z"
      },
      {
        "duration": 23,
        "start_time": "2022-07-07T11:00:47.356Z"
      },
      {
        "duration": 806,
        "start_time": "2022-07-07T11:00:47.380Z"
      },
      {
        "duration": 649,
        "start_time": "2022-07-07T11:00:48.188Z"
      },
      {
        "duration": 675,
        "start_time": "2022-07-07T11:00:48.839Z"
      },
      {
        "duration": 4,
        "start_time": "2022-07-07T11:00:49.516Z"
      },
      {
        "duration": 614,
        "start_time": "2022-07-07T11:00:49.522Z"
      },
      {
        "duration": 500,
        "start_time": "2022-07-07T11:00:50.138Z"
      },
      {
        "duration": 651,
        "start_time": "2022-07-07T11:00:50.639Z"
      },
      {
        "duration": 835,
        "start_time": "2022-07-07T11:00:51.291Z"
      },
      {
        "duration": 4,
        "start_time": "2022-07-07T11:00:52.127Z"
      },
      {
        "duration": 50,
        "start_time": "2022-07-07T11:00:52.151Z"
      },
      {
        "duration": 4652,
        "start_time": "2022-07-07T11:00:52.202Z"
      },
      {
        "duration": 4090,
        "start_time": "2022-07-07T11:00:56.861Z"
      },
      {
        "duration": 304,
        "start_time": "2022-07-07T11:01:00.953Z"
      },
      {
        "duration": 0,
        "start_time": "2022-07-07T11:01:01.266Z"
      },
      {
        "duration": 0,
        "start_time": "2022-07-07T11:01:01.274Z"
      },
      {
        "duration": 0,
        "start_time": "2022-07-07T11:01:01.275Z"
      },
      {
        "duration": 0,
        "start_time": "2022-07-07T11:01:01.276Z"
      },
      {
        "duration": 0,
        "start_time": "2022-07-07T11:01:01.276Z"
      },
      {
        "duration": 0,
        "start_time": "2022-07-07T11:01:01.276Z"
      },
      {
        "duration": 0,
        "start_time": "2022-07-07T11:01:01.277Z"
      },
      {
        "duration": 0,
        "start_time": "2022-07-07T11:01:01.277Z"
      },
      {
        "duration": 0,
        "start_time": "2022-07-07T11:01:01.278Z"
      },
      {
        "duration": 0,
        "start_time": "2022-07-07T11:01:01.278Z"
      },
      {
        "duration": 0,
        "start_time": "2022-07-07T11:01:01.279Z"
      },
      {
        "duration": 0,
        "start_time": "2022-07-07T11:01:01.279Z"
      },
      {
        "duration": 0,
        "start_time": "2022-07-07T11:01:01.344Z"
      },
      {
        "duration": 0,
        "start_time": "2022-07-07T11:01:01.350Z"
      },
      {
        "duration": 0,
        "start_time": "2022-07-07T11:01:01.351Z"
      },
      {
        "duration": 0,
        "start_time": "2022-07-07T11:01:01.359Z"
      },
      {
        "duration": 0,
        "start_time": "2022-07-07T11:01:01.363Z"
      },
      {
        "duration": 0,
        "start_time": "2022-07-07T11:01:01.364Z"
      },
      {
        "duration": 0,
        "start_time": "2022-07-07T11:01:01.365Z"
      },
      {
        "duration": 0,
        "start_time": "2022-07-07T11:01:01.367Z"
      },
      {
        "duration": 0,
        "start_time": "2022-07-07T11:01:01.368Z"
      },
      {
        "duration": 738,
        "start_time": "2022-07-07T11:02:44.938Z"
      },
      {
        "duration": 17,
        "start_time": "2022-07-07T11:02:45.678Z"
      },
      {
        "duration": 13,
        "start_time": "2022-07-07T11:02:45.697Z"
      },
      {
        "duration": 47,
        "start_time": "2022-07-07T11:02:45.711Z"
      },
      {
        "duration": 16,
        "start_time": "2022-07-07T11:02:45.764Z"
      },
      {
        "duration": 24,
        "start_time": "2022-07-07T11:02:45.782Z"
      },
      {
        "duration": 34,
        "start_time": "2022-07-07T11:02:45.808Z"
      },
      {
        "duration": 26,
        "start_time": "2022-07-07T11:02:45.850Z"
      },
      {
        "duration": 133,
        "start_time": "2022-07-07T11:02:45.878Z"
      },
      {
        "duration": 4,
        "start_time": "2022-07-07T11:02:46.013Z"
      },
      {
        "duration": 332,
        "start_time": "2022-07-07T11:02:46.019Z"
      },
      {
        "duration": 12,
        "start_time": "2022-07-07T11:02:46.352Z"
      },
      {
        "duration": 12,
        "start_time": "2022-07-07T11:02:46.366Z"
      },
      {
        "duration": 5,
        "start_time": "2022-07-07T11:02:46.381Z"
      },
      {
        "duration": 17,
        "start_time": "2022-07-07T11:02:46.388Z"
      },
      {
        "duration": 6,
        "start_time": "2022-07-07T11:02:46.406Z"
      },
      {
        "duration": 1638,
        "start_time": "2022-07-07T11:02:46.414Z"
      },
      {
        "duration": 1987,
        "start_time": "2022-07-07T11:02:48.063Z"
      },
      {
        "duration": 95,
        "start_time": "2022-07-07T11:02:50.055Z"
      },
      {
        "duration": 18,
        "start_time": "2022-07-07T11:02:50.156Z"
      },
      {
        "duration": 753,
        "start_time": "2022-07-07T11:02:50.175Z"
      },
      {
        "duration": 656,
        "start_time": "2022-07-07T11:02:50.929Z"
      },
      {
        "duration": 644,
        "start_time": "2022-07-07T11:02:51.588Z"
      },
      {
        "duration": 10,
        "start_time": "2022-07-07T11:02:52.234Z"
      },
      {
        "duration": 600,
        "start_time": "2022-07-07T11:02:52.246Z"
      },
      {
        "duration": 486,
        "start_time": "2022-07-07T11:02:52.848Z"
      },
      {
        "duration": 605,
        "start_time": "2022-07-07T11:02:53.342Z"
      },
      {
        "duration": 823,
        "start_time": "2022-07-07T11:02:53.950Z"
      },
      {
        "duration": 9,
        "start_time": "2022-07-07T11:02:54.778Z"
      },
      {
        "duration": 58,
        "start_time": "2022-07-07T11:02:54.790Z"
      },
      {
        "duration": 3794,
        "start_time": "2022-07-07T11:02:54.849Z"
      },
      {
        "duration": 4918,
        "start_time": "2022-07-07T11:02:58.645Z"
      },
      {
        "duration": 2480,
        "start_time": "2022-07-07T11:03:03.565Z"
      },
      {
        "duration": 2105,
        "start_time": "2022-07-07T11:03:06.048Z"
      },
      {
        "duration": 87,
        "start_time": "2022-07-07T11:03:08.156Z"
      },
      {
        "duration": 12,
        "start_time": "2022-07-07T11:03:08.248Z"
      },
      {
        "duration": 2663528,
        "start_time": "2022-07-07T11:03:08.264Z"
      },
      {
        "duration": 2844974,
        "start_time": "2022-07-07T11:47:31.794Z"
      },
      {
        "duration": 80744,
        "start_time": "2022-07-07T12:34:56.771Z"
      },
      {
        "duration": 33784,
        "start_time": "2022-07-07T12:36:17.516Z"
      },
      {
        "duration": 3,
        "start_time": "2022-07-07T12:36:51.303Z"
      },
      {
        "duration": 6,
        "start_time": "2022-07-07T12:36:51.308Z"
      },
      {
        "duration": 20149,
        "start_time": "2022-07-07T12:36:51.316Z"
      },
      {
        "duration": 21234,
        "start_time": "2022-07-07T12:37:11.467Z"
      },
      {
        "duration": 1130,
        "start_time": "2022-07-07T12:37:32.702Z"
      },
      {
        "duration": 1247,
        "start_time": "2022-07-07T12:37:33.834Z"
      },
      {
        "duration": 3,
        "start_time": "2022-07-07T12:37:35.083Z"
      },
      {
        "duration": 19,
        "start_time": "2022-07-07T12:37:35.087Z"
      },
      {
        "duration": 5,
        "start_time": "2022-07-07T12:37:35.107Z"
      },
      {
        "duration": 30,
        "start_time": "2022-07-07T12:37:35.113Z"
      },
      {
        "duration": 1145,
        "start_time": "2022-07-07T12:37:35.145Z"
      },
      {
        "duration": 606,
        "start_time": "2022-07-07T12:37:36.291Z"
      },
      {
        "duration": 3,
        "start_time": "2022-07-07T12:37:36.899Z"
      },
      {
        "duration": 40,
        "start_time": "2022-07-07T12:37:36.903Z"
      },
      {
        "duration": 688,
        "start_time": "2022-07-07T12:45:37.746Z"
      },
      {
        "duration": 23,
        "start_time": "2022-07-07T12:45:38.436Z"
      },
      {
        "duration": 20,
        "start_time": "2022-07-07T12:45:38.461Z"
      },
      {
        "duration": 19,
        "start_time": "2022-07-07T12:45:38.485Z"
      },
      {
        "duration": 131,
        "start_time": "2022-07-07T12:45:38.506Z"
      },
      {
        "duration": 51,
        "start_time": "2022-07-07T12:45:38.639Z"
      },
      {
        "duration": 23,
        "start_time": "2022-07-07T12:45:38.692Z"
      },
      {
        "duration": 21,
        "start_time": "2022-07-07T12:45:38.717Z"
      },
      {
        "duration": 160,
        "start_time": "2022-07-07T12:45:38.739Z"
      },
      {
        "duration": 4,
        "start_time": "2022-07-07T12:45:38.903Z"
      },
      {
        "duration": 321,
        "start_time": "2022-07-07T12:45:38.909Z"
      },
      {
        "duration": 23,
        "start_time": "2022-07-07T12:45:39.232Z"
      },
      {
        "duration": 10,
        "start_time": "2022-07-07T12:45:39.259Z"
      },
      {
        "duration": 11,
        "start_time": "2022-07-07T12:45:39.271Z"
      },
      {
        "duration": 13,
        "start_time": "2022-07-07T12:45:39.284Z"
      },
      {
        "duration": 6,
        "start_time": "2022-07-07T12:45:39.299Z"
      },
      {
        "duration": 3535,
        "start_time": "2022-07-07T12:45:39.306Z"
      },
      {
        "duration": 3410,
        "start_time": "2022-07-07T12:45:42.845Z"
      },
      {
        "duration": 89,
        "start_time": "2022-07-07T12:45:46.261Z"
      },
      {
        "duration": 18,
        "start_time": "2022-07-07T12:45:46.353Z"
      },
      {
        "duration": 847,
        "start_time": "2022-07-07T12:45:46.374Z"
      },
      {
        "duration": 868,
        "start_time": "2022-07-07T12:45:47.224Z"
      },
      {
        "duration": 760,
        "start_time": "2022-07-07T12:45:48.094Z"
      },
      {
        "duration": 4,
        "start_time": "2022-07-07T12:45:48.856Z"
      },
      {
        "duration": 539,
        "start_time": "2022-07-07T12:45:48.862Z"
      },
      {
        "duration": 678,
        "start_time": "2022-07-07T12:45:49.402Z"
      },
      {
        "duration": 764,
        "start_time": "2022-07-07T12:45:50.082Z"
      },
      {
        "duration": 781,
        "start_time": "2022-07-07T12:45:50.856Z"
      },
      {
        "duration": 7,
        "start_time": "2022-07-07T12:45:51.641Z"
      },
      {
        "duration": 66,
        "start_time": "2022-07-07T12:45:51.650Z"
      },
      {
        "duration": 6026,
        "start_time": "2022-07-07T12:45:51.718Z"
      },
      {
        "duration": 6118,
        "start_time": "2022-07-07T12:45:57.751Z"
      },
      {
        "duration": 3872,
        "start_time": "2022-07-07T12:46:03.944Z"
      },
      {
        "duration": 2337,
        "start_time": "2022-07-07T12:46:07.818Z"
      },
      {
        "duration": 10,
        "start_time": "2022-07-07T12:46:10.157Z"
      },
      {
        "duration": 94,
        "start_time": "2022-07-07T12:46:10.175Z"
      },
      {
        "duration": 2841634,
        "start_time": "2022-07-07T12:46:10.271Z"
      },
      {
        "duration": 2814880,
        "start_time": "2022-07-07T13:33:31.907Z"
      },
      {
        "duration": 71135,
        "start_time": "2022-07-07T14:20:26.789Z"
      },
      {
        "duration": 31494,
        "start_time": "2022-07-07T14:21:37.926Z"
      },
      {
        "duration": 3,
        "start_time": "2022-07-07T14:22:09.421Z"
      },
      {
        "duration": 13,
        "start_time": "2022-07-07T14:22:09.426Z"
      },
      {
        "duration": 18380,
        "start_time": "2022-07-07T14:22:09.440Z"
      },
      {
        "duration": 19290,
        "start_time": "2022-07-07T14:22:27.821Z"
      },
      {
        "duration": 1035,
        "start_time": "2022-07-07T14:22:47.113Z"
      },
      {
        "duration": 1053,
        "start_time": "2022-07-07T14:22:48.150Z"
      },
      {
        "duration": 3,
        "start_time": "2022-07-07T14:22:49.205Z"
      },
      {
        "duration": 24,
        "start_time": "2022-07-07T14:22:49.209Z"
      },
      {
        "duration": 11,
        "start_time": "2022-07-07T14:22:49.234Z"
      },
      {
        "duration": 16,
        "start_time": "2022-07-07T14:22:49.247Z"
      },
      {
        "duration": 799,
        "start_time": "2022-07-07T14:22:49.265Z"
      },
      {
        "duration": 510,
        "start_time": "2022-07-07T14:22:50.066Z"
      },
      {
        "duration": 4,
        "start_time": "2022-07-07T14:22:50.577Z"
      },
      {
        "duration": 34,
        "start_time": "2022-07-07T14:22:50.582Z"
      },
      {
        "duration": 73,
        "start_time": "2022-07-08T09:07:31.072Z"
      },
      {
        "duration": 6,
        "start_time": "2022-07-08T09:09:41.115Z"
      },
      {
        "duration": 66,
        "start_time": "2022-07-08T09:09:44.097Z"
      },
      {
        "duration": 2953,
        "start_time": "2022-07-08T09:09:52.151Z"
      },
      {
        "duration": 25,
        "start_time": "2022-07-08T09:09:55.106Z"
      },
      {
        "duration": 16,
        "start_time": "2022-07-08T09:09:55.133Z"
      },
      {
        "duration": 20,
        "start_time": "2022-07-08T09:09:55.151Z"
      },
      {
        "duration": 14,
        "start_time": "2022-07-08T09:09:55.702Z"
      },
      {
        "duration": 26,
        "start_time": "2022-07-08T09:09:56.676Z"
      },
      {
        "duration": 28,
        "start_time": "2022-07-08T09:09:56.838Z"
      },
      {
        "duration": 22,
        "start_time": "2022-07-08T09:09:57.578Z"
      },
      {
        "duration": 134,
        "start_time": "2022-07-08T09:10:00.493Z"
      },
      {
        "duration": 4,
        "start_time": "2022-07-08T09:10:02.863Z"
      },
      {
        "duration": 281,
        "start_time": "2022-07-08T09:10:03.680Z"
      },
      {
        "duration": 14,
        "start_time": "2022-07-08T09:10:04.123Z"
      },
      {
        "duration": 10,
        "start_time": "2022-07-08T09:10:06.584Z"
      },
      {
        "duration": 5,
        "start_time": "2022-07-08T09:10:07.364Z"
      },
      {
        "duration": 10,
        "start_time": "2022-07-08T09:10:11.203Z"
      },
      {
        "duration": 7,
        "start_time": "2022-07-08T09:10:12.482Z"
      },
      {
        "duration": 1293,
        "start_time": "2022-07-08T09:10:13.030Z"
      },
      {
        "duration": 1298,
        "start_time": "2022-07-08T09:10:14.325Z"
      },
      {
        "duration": 24,
        "start_time": "2022-07-08T09:10:15.625Z"
      },
      {
        "duration": 4,
        "start_time": "2022-07-08T09:10:18.176Z"
      },
      {
        "duration": 785,
        "start_time": "2022-07-08T09:10:19.299Z"
      },
      {
        "duration": 658,
        "start_time": "2022-07-08T09:10:26.830Z"
      },
      {
        "duration": 824,
        "start_time": "2022-07-08T09:10:27.674Z"
      },
      {
        "duration": 5,
        "start_time": "2022-07-08T09:10:37.059Z"
      },
      {
        "duration": 742,
        "start_time": "2022-07-08T09:10:39.229Z"
      },
      {
        "duration": 5,
        "start_time": "2022-07-08T09:11:08.703Z"
      },
      {
        "duration": 500,
        "start_time": "2022-07-08T09:11:10.470Z"
      },
      {
        "duration": 4,
        "start_time": "2022-07-08T09:11:28.134Z"
      },
      {
        "duration": 512,
        "start_time": "2022-07-08T09:11:29.666Z"
      },
      {
        "duration": 4,
        "start_time": "2022-07-08T09:11:52.525Z"
      },
      {
        "duration": 708,
        "start_time": "2022-07-08T09:11:56.574Z"
      },
      {
        "duration": 7,
        "start_time": "2022-07-08T09:12:25.527Z"
      },
      {
        "duration": 619,
        "start_time": "2022-07-08T09:12:26.900Z"
      },
      {
        "duration": 5,
        "start_time": "2022-07-08T09:12:33.638Z"
      },
      {
        "duration": 537,
        "start_time": "2022-07-08T09:12:34.645Z"
      },
      {
        "duration": 675,
        "start_time": "2022-07-08T09:12:44.804Z"
      },
      {
        "duration": 3,
        "start_time": "2022-07-08T09:15:10.632Z"
      },
      {
        "duration": 552,
        "start_time": "2022-07-08T09:15:12.260Z"
      },
      {
        "duration": 5,
        "start_time": "2022-07-08T09:15:47.011Z"
      },
      {
        "duration": 658,
        "start_time": "2022-07-08T09:15:49.270Z"
      },
      {
        "duration": 5,
        "start_time": "2022-07-08T09:16:32.265Z"
      },
      {
        "duration": 579,
        "start_time": "2022-07-08T09:16:33.135Z"
      },
      {
        "duration": 681,
        "start_time": "2022-07-08T09:16:39.745Z"
      },
      {
        "duration": 1267,
        "start_time": "2022-07-08T09:35:15.739Z"
      },
      {
        "duration": 790,
        "start_time": "2022-07-08T09:35:44.538Z"
      },
      {
        "duration": 52,
        "start_time": "2022-07-08T09:39:11.903Z"
      },
      {
        "duration": 48,
        "start_time": "2022-07-08T09:42:40.810Z"
      },
      {
        "duration": 669,
        "start_time": "2022-07-08T09:45:20.307Z"
      },
      {
        "duration": 18,
        "start_time": "2022-07-08T09:45:20.978Z"
      },
      {
        "duration": 29,
        "start_time": "2022-07-08T09:45:20.998Z"
      },
      {
        "duration": 18,
        "start_time": "2022-07-08T09:45:21.029Z"
      },
      {
        "duration": 14,
        "start_time": "2022-07-08T09:45:21.049Z"
      },
      {
        "duration": 24,
        "start_time": "2022-07-08T09:45:21.065Z"
      },
      {
        "duration": 51,
        "start_time": "2022-07-08T09:45:21.091Z"
      },
      {
        "duration": 22,
        "start_time": "2022-07-08T09:45:21.144Z"
      },
      {
        "duration": 137,
        "start_time": "2022-07-08T09:45:21.168Z"
      },
      {
        "duration": 3,
        "start_time": "2022-07-08T09:45:21.308Z"
      },
      {
        "duration": 266,
        "start_time": "2022-07-08T09:45:21.323Z"
      },
      {
        "duration": 13,
        "start_time": "2022-07-08T09:45:21.591Z"
      },
      {
        "duration": 19,
        "start_time": "2022-07-08T09:45:21.606Z"
      },
      {
        "duration": 4,
        "start_time": "2022-07-08T09:45:21.627Z"
      },
      {
        "duration": 12,
        "start_time": "2022-07-08T09:45:21.633Z"
      },
      {
        "duration": 6,
        "start_time": "2022-07-08T09:45:21.647Z"
      },
      {
        "duration": 1173,
        "start_time": "2022-07-08T09:45:21.655Z"
      },
      {
        "duration": 1201,
        "start_time": "2022-07-08T09:45:22.830Z"
      },
      {
        "duration": 107,
        "start_time": "2022-07-08T09:45:24.123Z"
      },
      {
        "duration": 4,
        "start_time": "2022-07-08T09:45:24.231Z"
      },
      {
        "duration": 811,
        "start_time": "2022-07-08T09:45:24.237Z"
      },
      {
        "duration": 660,
        "start_time": "2022-07-08T09:45:25.050Z"
      },
      {
        "duration": 680,
        "start_time": "2022-07-08T09:45:25.712Z"
      },
      {
        "duration": 4,
        "start_time": "2022-07-08T09:45:26.394Z"
      },
      {
        "duration": 692,
        "start_time": "2022-07-08T09:45:26.400Z"
      },
      {
        "duration": 533,
        "start_time": "2022-07-08T09:45:27.093Z"
      },
      {
        "duration": 691,
        "start_time": "2022-07-08T09:45:27.628Z"
      },
      {
        "duration": 885,
        "start_time": "2022-07-08T09:45:28.323Z"
      },
      {
        "duration": 708,
        "start_time": "2022-07-08T09:45:29.210Z"
      },
      {
        "duration": 4,
        "start_time": "2022-07-08T09:45:29.922Z"
      },
      {
        "duration": 75,
        "start_time": "2022-07-08T09:45:29.928Z"
      },
      {
        "duration": 10,
        "start_time": "2022-07-08T09:45:30.005Z"
      },
      {
        "duration": 0,
        "start_time": "2022-07-08T09:45:30.017Z"
      },
      {
        "duration": 1,
        "start_time": "2022-07-08T09:45:30.018Z"
      },
      {
        "duration": 0,
        "start_time": "2022-07-08T09:45:30.020Z"
      },
      {
        "duration": 0,
        "start_time": "2022-07-08T09:45:30.023Z"
      },
      {
        "duration": 0,
        "start_time": "2022-07-08T09:45:30.025Z"
      },
      {
        "duration": 0,
        "start_time": "2022-07-08T09:45:30.025Z"
      },
      {
        "duration": 0,
        "start_time": "2022-07-08T09:45:30.026Z"
      },
      {
        "duration": 0,
        "start_time": "2022-07-08T09:45:30.028Z"
      },
      {
        "duration": 0,
        "start_time": "2022-07-08T09:45:30.029Z"
      },
      {
        "duration": 0,
        "start_time": "2022-07-08T09:45:30.030Z"
      },
      {
        "duration": 0,
        "start_time": "2022-07-08T09:45:30.031Z"
      },
      {
        "duration": 0,
        "start_time": "2022-07-08T09:45:30.032Z"
      },
      {
        "duration": 0,
        "start_time": "2022-07-08T09:45:30.033Z"
      },
      {
        "duration": 0,
        "start_time": "2022-07-08T09:45:30.035Z"
      },
      {
        "duration": 0,
        "start_time": "2022-07-08T09:45:30.036Z"
      },
      {
        "duration": 0,
        "start_time": "2022-07-08T09:45:30.037Z"
      },
      {
        "duration": 0,
        "start_time": "2022-07-08T09:45:30.038Z"
      },
      {
        "duration": 0,
        "start_time": "2022-07-08T09:45:30.039Z"
      },
      {
        "duration": 0,
        "start_time": "2022-07-08T09:45:30.040Z"
      },
      {
        "duration": 0,
        "start_time": "2022-07-08T09:45:30.041Z"
      },
      {
        "duration": 0,
        "start_time": "2022-07-08T09:45:30.042Z"
      },
      {
        "duration": 0,
        "start_time": "2022-07-08T09:45:30.043Z"
      },
      {
        "duration": 0,
        "start_time": "2022-07-08T09:45:30.044Z"
      },
      {
        "duration": 719,
        "start_time": "2022-07-08T09:46:32.781Z"
      },
      {
        "duration": 25,
        "start_time": "2022-07-08T09:46:33.502Z"
      },
      {
        "duration": 13,
        "start_time": "2022-07-08T09:46:33.529Z"
      },
      {
        "duration": 18,
        "start_time": "2022-07-08T09:46:33.545Z"
      },
      {
        "duration": 13,
        "start_time": "2022-07-08T09:46:33.565Z"
      },
      {
        "duration": 52,
        "start_time": "2022-07-08T09:46:33.580Z"
      },
      {
        "duration": 27,
        "start_time": "2022-07-08T09:46:33.634Z"
      },
      {
        "duration": 22,
        "start_time": "2022-07-08T09:46:33.664Z"
      },
      {
        "duration": 150,
        "start_time": "2022-07-08T09:46:33.688Z"
      },
      {
        "duration": 4,
        "start_time": "2022-07-08T09:46:33.840Z"
      },
      {
        "duration": 282,
        "start_time": "2022-07-08T09:46:33.846Z"
      },
      {
        "duration": 11,
        "start_time": "2022-07-08T09:46:34.130Z"
      },
      {
        "duration": 11,
        "start_time": "2022-07-08T09:46:34.143Z"
      },
      {
        "duration": 6,
        "start_time": "2022-07-08T09:46:34.155Z"
      },
      {
        "duration": 21,
        "start_time": "2022-07-08T09:46:34.163Z"
      },
      {
        "duration": 7,
        "start_time": "2022-07-08T09:46:34.186Z"
      },
      {
        "duration": 1230,
        "start_time": "2022-07-08T09:46:34.195Z"
      },
      {
        "duration": 2201,
        "start_time": "2022-07-08T09:46:35.427Z"
      },
      {
        "duration": 109,
        "start_time": "2022-07-08T09:46:37.630Z"
      },
      {
        "duration": 5,
        "start_time": "2022-07-08T09:46:37.823Z"
      },
      {
        "duration": 812,
        "start_time": "2022-07-08T09:46:37.833Z"
      },
      {
        "duration": 792,
        "start_time": "2022-07-08T09:46:38.646Z"
      },
      {
        "duration": 824,
        "start_time": "2022-07-08T09:46:39.440Z"
      },
      {
        "duration": 4,
        "start_time": "2022-07-08T09:46:40.266Z"
      },
      {
        "duration": 513,
        "start_time": "2022-07-08T09:46:40.271Z"
      },
      {
        "duration": 517,
        "start_time": "2022-07-08T09:46:40.786Z"
      },
      {
        "duration": 712,
        "start_time": "2022-07-08T09:46:41.305Z"
      },
      {
        "duration": 654,
        "start_time": "2022-07-08T09:46:42.023Z"
      },
      {
        "duration": 655,
        "start_time": "2022-07-08T09:46:42.679Z"
      },
      {
        "duration": 4,
        "start_time": "2022-07-08T09:46:43.336Z"
      },
      {
        "duration": 44,
        "start_time": "2022-07-08T09:46:43.341Z"
      },
      {
        "duration": 2648,
        "start_time": "2022-07-08T09:46:43.386Z"
      },
      {
        "duration": 3010,
        "start_time": "2022-07-08T09:46:46.124Z"
      },
      {
        "duration": 2192,
        "start_time": "2022-07-08T09:46:49.136Z"
      },
      {
        "duration": 1401,
        "start_time": "2022-07-08T09:46:51.331Z"
      },
      {
        "duration": 4,
        "start_time": "2022-07-08T09:46:52.824Z"
      },
      {
        "duration": 93,
        "start_time": "2022-07-08T09:46:52.830Z"
      },
      {
        "duration": 605438,
        "start_time": "2022-07-08T09:46:52.925Z"
      },
      {
        "duration": 785059,
        "start_time": "2022-07-08T09:56:58.365Z"
      },
      {
        "duration": 88204,
        "start_time": "2022-07-08T10:10:03.426Z"
      },
      {
        "duration": 21904,
        "start_time": "2022-07-08T10:11:31.632Z"
      },
      {
        "duration": 4,
        "start_time": "2022-07-08T10:11:53.537Z"
      },
      {
        "duration": 16,
        "start_time": "2022-07-08T10:11:53.542Z"
      },
      {
        "duration": 22786,
        "start_time": "2022-07-08T10:11:53.560Z"
      },
      {
        "duration": 23030,
        "start_time": "2022-07-08T10:12:16.347Z"
      },
      {
        "duration": 1770,
        "start_time": "2022-07-08T10:12:39.379Z"
      },
      {
        "duration": 1265,
        "start_time": "2022-07-08T10:12:41.150Z"
      },
      {
        "duration": 4,
        "start_time": "2022-07-08T10:12:42.422Z"
      },
      {
        "duration": 21,
        "start_time": "2022-07-08T10:12:42.428Z"
      },
      {
        "duration": 6,
        "start_time": "2022-07-08T10:12:42.451Z"
      },
      {
        "duration": 22,
        "start_time": "2022-07-08T10:12:42.459Z"
      },
      {
        "duration": 936,
        "start_time": "2022-07-08T10:12:42.483Z"
      },
      {
        "duration": 302,
        "start_time": "2022-07-08T10:12:43.421Z"
      },
      {
        "duration": 3,
        "start_time": "2022-07-08T10:12:43.725Z"
      },
      {
        "duration": 52,
        "start_time": "2022-07-08T10:12:43.730Z"
      },
      {
        "duration": 67,
        "start_time": "2022-07-08T10:17:54.474Z"
      },
      {
        "duration": 53,
        "start_time": "2022-07-08T10:18:07.055Z"
      },
      {
        "duration": 1070,
        "start_time": "2022-07-08T10:19:37.424Z"
      },
      {
        "duration": 610,
        "start_time": "2022-07-08T10:19:56.874Z"
      },
      {
        "duration": 16,
        "start_time": "2022-07-08T10:19:57.701Z"
      },
      {
        "duration": 12,
        "start_time": "2022-07-08T10:19:58.433Z"
      },
      {
        "duration": 20,
        "start_time": "2022-07-08T10:19:58.849Z"
      },
      {
        "duration": 14,
        "start_time": "2022-07-08T10:19:59.655Z"
      },
      {
        "duration": 24,
        "start_time": "2022-07-08T10:20:00.077Z"
      },
      {
        "duration": 22,
        "start_time": "2022-07-08T10:20:00.411Z"
      },
      {
        "duration": 22,
        "start_time": "2022-07-08T10:20:00.853Z"
      },
      {
        "duration": 124,
        "start_time": "2022-07-08T10:20:02.135Z"
      },
      {
        "duration": 4,
        "start_time": "2022-07-08T10:20:03.376Z"
      },
      {
        "duration": 255,
        "start_time": "2022-07-08T10:20:03.795Z"
      },
      {
        "duration": 10,
        "start_time": "2022-07-08T10:20:04.198Z"
      },
      {
        "duration": 8,
        "start_time": "2022-07-08T10:20:06.194Z"
      },
      {
        "duration": 4,
        "start_time": "2022-07-08T10:20:06.572Z"
      },
      {
        "duration": 10,
        "start_time": "2022-07-08T10:20:08.202Z"
      },
      {
        "duration": 9,
        "start_time": "2022-07-08T10:20:08.938Z"
      },
      {
        "duration": 1217,
        "start_time": "2022-07-08T10:20:09.410Z"
      },
      {
        "duration": 1192,
        "start_time": "2022-07-08T10:20:10.630Z"
      },
      {
        "duration": 104,
        "start_time": "2022-07-08T10:20:11.825Z"
      },
      {
        "duration": 4,
        "start_time": "2022-07-08T10:20:12.575Z"
      },
      {
        "duration": 651,
        "start_time": "2022-07-08T10:20:13.178Z"
      },
      {
        "duration": 800,
        "start_time": "2022-07-08T10:20:13.832Z"
      },
      {
        "duration": 708,
        "start_time": "2022-07-08T10:20:14.635Z"
      },
      {
        "duration": 3,
        "start_time": "2022-07-08T10:20:16.794Z"
      },
      {
        "duration": 490,
        "start_time": "2022-07-08T10:20:17.646Z"
      },
      {
        "duration": 744,
        "start_time": "2022-07-08T10:20:18.139Z"
      },
      {
        "duration": 658,
        "start_time": "2022-07-08T10:20:22.024Z"
      },
      {
        "duration": 738,
        "start_time": "2022-07-08T10:20:27.797Z"
      },
      {
        "duration": 695,
        "start_time": "2022-07-08T10:20:37.465Z"
      },
      {
        "duration": 619,
        "start_time": "2022-07-08T10:20:46.570Z"
      },
      {
        "duration": 16,
        "start_time": "2022-07-08T10:20:47.191Z"
      },
      {
        "duration": 13,
        "start_time": "2022-07-08T10:20:47.223Z"
      },
      {
        "duration": 16,
        "start_time": "2022-07-08T10:20:47.238Z"
      },
      {
        "duration": 13,
        "start_time": "2022-07-08T10:20:47.256Z"
      },
      {
        "duration": 22,
        "start_time": "2022-07-08T10:20:47.270Z"
      },
      {
        "duration": 44,
        "start_time": "2022-07-08T10:20:47.294Z"
      },
      {
        "duration": 23,
        "start_time": "2022-07-08T10:20:47.340Z"
      },
      {
        "duration": 143,
        "start_time": "2022-07-08T10:20:47.365Z"
      },
      {
        "duration": 3,
        "start_time": "2022-07-08T10:20:47.511Z"
      },
      {
        "duration": 269,
        "start_time": "2022-07-08T10:20:47.516Z"
      },
      {
        "duration": 11,
        "start_time": "2022-07-08T10:20:47.786Z"
      },
      {
        "duration": 8,
        "start_time": "2022-07-08T10:20:47.798Z"
      },
      {
        "duration": 5,
        "start_time": "2022-07-08T10:20:47.825Z"
      },
      {
        "duration": 12,
        "start_time": "2022-07-08T10:20:47.831Z"
      },
      {
        "duration": 7,
        "start_time": "2022-07-08T10:20:47.844Z"
      },
      {
        "duration": 1074,
        "start_time": "2022-07-08T10:20:47.852Z"
      },
      {
        "duration": 1395,
        "start_time": "2022-07-08T10:20:48.928Z"
      },
      {
        "duration": 104,
        "start_time": "2022-07-08T10:20:50.325Z"
      },
      {
        "duration": 5,
        "start_time": "2022-07-08T10:20:50.431Z"
      },
      {
        "duration": 775,
        "start_time": "2022-07-08T10:20:50.437Z"
      },
      {
        "duration": 650,
        "start_time": "2022-07-08T10:20:51.214Z"
      },
      {
        "duration": 770,
        "start_time": "2022-07-08T10:20:51.866Z"
      },
      {
        "duration": 4,
        "start_time": "2022-07-08T10:20:52.638Z"
      },
      {
        "duration": 515,
        "start_time": "2022-07-08T10:20:52.643Z"
      },
      {
        "duration": 530,
        "start_time": "2022-07-08T10:20:53.160Z"
      },
      {
        "duration": 614,
        "start_time": "2022-07-08T10:20:53.691Z"
      },
      {
        "duration": 751,
        "start_time": "2022-07-08T10:20:54.309Z"
      },
      {
        "duration": 679,
        "start_time": "2022-07-08T10:20:55.062Z"
      },
      {
        "duration": 3,
        "start_time": "2022-07-08T10:20:55.743Z"
      },
      {
        "duration": 15,
        "start_time": "2022-07-08T10:20:55.748Z"
      },
      {
        "duration": 43,
        "start_time": "2022-07-08T10:20:55.765Z"
      },
      {
        "duration": 2915,
        "start_time": "2022-07-08T10:20:55.810Z"
      },
      {
        "duration": 2802,
        "start_time": "2022-07-08T10:20:58.727Z"
      },
      {
        "duration": 1795,
        "start_time": "2022-07-08T10:21:01.531Z"
      },
      {
        "duration": 1302,
        "start_time": "2022-07-08T10:21:03.328Z"
      },
      {
        "duration": 92,
        "start_time": "2022-07-08T10:21:04.632Z"
      },
      {
        "duration": 38,
        "start_time": "2022-07-08T10:21:04.726Z"
      },
      {
        "duration": 725880,
        "start_time": "2022-07-08T10:21:04.766Z"
      },
      {
        "duration": 646900,
        "start_time": "2022-07-08T10:33:10.648Z"
      },
      {
        "duration": 117755,
        "start_time": "2022-07-08T10:43:57.550Z"
      },
      {
        "duration": 39605,
        "start_time": "2022-07-08T10:45:55.307Z"
      },
      {
        "duration": 3,
        "start_time": "2022-07-08T10:46:34.914Z"
      },
      {
        "duration": 4,
        "start_time": "2022-07-08T10:46:34.931Z"
      },
      {
        "duration": 24213,
        "start_time": "2022-07-08T10:46:34.941Z"
      },
      {
        "duration": 24281,
        "start_time": "2022-07-08T10:46:59.157Z"
      },
      {
        "duration": 1814,
        "start_time": "2022-07-08T10:47:23.440Z"
      },
      {
        "duration": 1332,
        "start_time": "2022-07-08T10:47:25.255Z"
      },
      {
        "duration": 3,
        "start_time": "2022-07-08T10:47:26.589Z"
      },
      {
        "duration": 29,
        "start_time": "2022-07-08T10:47:26.594Z"
      },
      {
        "duration": 7,
        "start_time": "2022-07-08T10:47:26.625Z"
      },
      {
        "duration": 23,
        "start_time": "2022-07-08T10:47:26.634Z"
      },
      {
        "duration": 1234,
        "start_time": "2022-07-08T10:47:26.659Z"
      },
      {
        "duration": 615,
        "start_time": "2022-07-08T10:47:27.895Z"
      },
      {
        "duration": 3,
        "start_time": "2022-07-08T10:47:28.511Z"
      },
      {
        "duration": 35,
        "start_time": "2022-07-08T10:47:28.516Z"
      },
      {
        "duration": 800,
        "start_time": "2022-07-11T13:51:44.563Z"
      },
      {
        "duration": 138,
        "start_time": "2022-07-11T13:51:52.338Z"
      },
      {
        "duration": 96,
        "start_time": "2022-07-11T13:52:24.221Z"
      },
      {
        "duration": 146,
        "start_time": "2022-07-11T13:52:33.668Z"
      },
      {
        "duration": 58,
        "start_time": "2022-07-11T13:52:40.468Z"
      },
      {
        "duration": 140,
        "start_time": "2022-07-11T13:52:45.214Z"
      },
      {
        "duration": 58,
        "start_time": "2022-07-11T13:52:54.772Z"
      },
      {
        "duration": 61,
        "start_time": "2022-07-11T13:53:13.865Z"
      },
      {
        "duration": 139,
        "start_time": "2022-07-11T13:53:35.521Z"
      },
      {
        "duration": 134,
        "start_time": "2022-07-11T13:53:41.513Z"
      },
      {
        "duration": 156,
        "start_time": "2022-07-11T13:53:54.982Z"
      },
      {
        "duration": 172,
        "start_time": "2022-07-11T14:15:19.878Z"
      },
      {
        "duration": 181,
        "start_time": "2022-07-11T14:15:27.412Z"
      },
      {
        "duration": 177,
        "start_time": "2022-07-11T14:15:35.681Z"
      },
      {
        "duration": 165,
        "start_time": "2022-07-11T14:15:47.131Z"
      },
      {
        "duration": 235,
        "start_time": "2022-07-11T14:20:13.633Z"
      },
      {
        "duration": 176,
        "start_time": "2022-07-11T14:42:17.350Z"
      },
      {
        "duration": 163,
        "start_time": "2022-07-11T14:42:28.009Z"
      }
    ],
    "kernelspec": {
      "display_name": "Python 3 (ipykernel)",
      "language": "python",
      "name": "python3"
    },
    "language_info": {
      "codemirror_mode": {
        "name": "ipython",
        "version": 3
      },
      "file_extension": ".py",
      "mimetype": "text/x-python",
      "name": "python",
      "nbconvert_exporter": "python",
      "pygments_lexer": "ipython3",
      "version": "3.9.5"
    },
    "toc": {
      "base_numbering": 1,
      "nav_menu": {},
      "number_sections": true,
      "sideBar": true,
      "skip_h1_title": true,
      "title_cell": "Содержание",
      "title_sidebar": "Contents",
      "toc_cell": true,
      "toc_position": {
        "height": "calc(100% - 180px)",
        "left": "10px",
        "top": "150px",
        "width": "173.391px"
      },
      "toc_section_display": true,
      "toc_window_display": true
    },
    "colab": {
      "provenance": [],
      "collapsed_sections": []
    }
  },
  "nbformat": 4,
  "nbformat_minor": 0
}