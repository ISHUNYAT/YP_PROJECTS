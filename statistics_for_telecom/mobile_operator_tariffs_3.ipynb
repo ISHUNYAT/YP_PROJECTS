{
  "cells": [
    {
      "cell_type": "markdown",
      "metadata": {
        "id": "00eaLGeK676y"
      },
      "source": [
        "<h1>Содержание<span class=\"tocSkip\"></span></h1>\n",
        "<div class=\"toc\"><ul class=\"toc-item\"><li><span><a href=\"#Изучение-общей-информации\" data-toc-modified-id=\"Изучение-общей-информации-1\"><span class=\"toc-item-num\">1&nbsp;&nbsp;</span>Изучение общей информации</a></span><li><span><a href=\"#Подготовка-данных\" data-toc-modified-id=\"Подготовка-данных-2\"><span class=\"toc-item-num\">2&nbsp;&nbsp;</span>Подготовка данных</a></span></li><li><span><a href=\"#Анализ-данных\" data-toc-modified-id=\"Анализ-данных-3\"><span class=\"toc-item-num\">3&nbsp;&nbsp;</span>Анализ данных</a></span></li><li><span><a href=\"#Проверка-гипотез\" data-toc-modified-id=\"Проверка-гипотез-4\"><span class=\"toc-item-num\">4&nbsp;&nbsp;</span>Проверка гипотез</a></span></li><li><span><a href=\"#Общий-вывод\" data-toc-modified-id=\"Общий-вывод-5\"><span class=\"toc-item-num\">5&nbsp;&nbsp;</span>Общий вывод</a></span></li>"
      ]
    },
    {
      "cell_type": "markdown",
      "metadata": {
        "id": "vP2A7Nan676-"
      },
      "source": [
        "# Описание проекта"
      ]
    },
    {
      "cell_type": "markdown",
      "metadata": {
        "id": "9qFIahX8676-"
      },
      "source": [
        "\n",
        "В данном проекте мы будем выступать в качестве аналитиков компании «Мегалайн» — федерального оператора сотовой связи. Клиентам предлагают два тарифных плана: «Смарт» и «Ультра». Чтобы скорректировать рекламный бюджет, коммерческий департамент хочет понять, какой тариф приносит больше денег.\n",
        "\n",
        "Нам предстоит сделать предварительный анализ тарифов на небольшой выборке клиентов. В нашем распоряжении данные 500 пользователей «Мегалайна»: кто они, откуда, каким тарифом пользуются, сколько звонков и сообщений каждый отправил за 2018 год. Нужно проанализировать поведение клиентов и сделать вывод — какой тариф лучше."
      ]
    },
    {
      "cell_type": "markdown",
      "source": [
        "## Описание данных\n",
        "\n",
        "### Таблица users (информация о пользователях):\n",
        "* `user_id` — уникальный идентификатор пользователя\n",
        "* `first_name` — имя пользователя\n",
        "* `last_name` — фамилия пользователя\n",
        "* `age` — возраст пользователя (годы)\n",
        "* `reg_date` — дата подключения тарифа (день, месяц, год)\n",
        "* `churn_date` — дата прекращения пользования тарифом (если значение пропущено, то тариф ещё действовал на момент выгрузки данных)\n",
        "* `city` — город проживания пользователя\n",
        "* `tariff` — название тарифного плана\n",
        "\n",
        "### Таблица calls (информация о звонках):\n",
        "* `id` — уникальный номер звонка\n",
        "* `call_date` — дата звонка\n",
        "* `duration` — длительность звонка в минутах\n",
        "* `user_id` — идентификатор пользователя, сделавшего звонок\n",
        "\n",
        "### Таблица messages (информация о сообщениях):\n",
        "* `id` — уникальный номер сообщения\n",
        "* `message_date` — дата сообщения\n",
        "* `user_id` — идентификатор пользователя, отправившего сообщение\n",
        "\n",
        "### Таблица internet (информация об интернет-сессиях):\n",
        "* `id` — уникальный номер сессии\n",
        "* `mb_used` — объём потраченного за сессию интернет-трафика (в мегабайтах)\n",
        "* `session_date` — дата интернет-сессии\n",
        "* `user_id` — идентификатор пользователя\n",
        "\n",
        "### Таблица tariffs (информация о тарифах):\n",
        "* `tariff_name`  — название тарифа\n",
        "* `rub_monthly_fee` — ежемесячная абонентская плата в рублях\n",
        "* `minutes_included` — количество минут разговора в месяц, включённых в абонентскую плату\n",
        "* `messages_included` — количество сообщений в месяц, включённых в абонентскую плату\n",
        "* `mb_per_month_included` — объём интернет-трафика, включённого в абонентскую плату (в мегабайтах)\n",
        "* `rub_per_minute` — стоимость минуты разговора сверх тарифного пакета (например, если в тарифе 100 минут разговора в месяц, то со 101 минуты будет взиматься плата)\n",
        "* `rub_per_message` — стоимость отправки сообщения сверх тарифного пакета\n",
        "* `rub_per_gb` — стоимость дополнительного гигабайта интернет-трафика сверх тарифного пакета (1 гигабайт = 1024 мегабайта)"
      ],
      "metadata": {
        "id": "C2ANF1pS860l"
      }
    },
    {
      "cell_type": "markdown",
      "metadata": {
        "id": "ar-vbAbb676_"
      },
      "source": [
        "## Изучение общей информации"
      ]
    },
    {
      "cell_type": "code",
      "execution_count": null,
      "metadata": {
        "id": "5XWiYUZu676_"
      },
      "outputs": [],
      "source": [
        "import pandas as pd\n",
        "import numpy as np\n",
        "from scipy import stats as st\n",
        "import seaborn as sns\n",
        "import matplotlib.pyplot as plt\n",
        "calls = pd.read_csv('/3_calls.csv') #информация о звонках\n",
        "internet = pd.read_csv('/3_internet.csv',index_col=0) #информация об интернет-сессиях\n",
        "messages = pd.read_csv('/3_messages.csv') #информация о сообщениях\n",
        "tariffs = pd.read_csv('/3_tariffs.csv') #информация о тарифах\n",
        "users = pd.read_csv('/3_users.csv') #информация о пользователях\n"
      ]
    },
    {
      "cell_type": "code",
      "execution_count": null,
      "metadata": {
        "id": "LovzQSZm677B",
        "outputId": "51cd9634-bb85-49e0-9971-f3150a0832f4",
        "colab": {
          "base_uri": "https://localhost:8080/",
          "height": 206
        }
      },
      "outputs": [
        {
          "output_type": "execute_result",
          "data": {
            "text/plain": [
              "       id   call_date  duration  user_id\n",
              "0  1000_0  2018-07-25      0.00     1000\n",
              "1  1000_1  2018-08-17      0.00     1000\n",
              "2  1000_2  2018-06-11      2.85     1000\n",
              "3  1000_3  2018-09-21     13.80     1000\n",
              "4  1000_4  2018-12-15      5.18     1000"
            ],
            "text/html": [
              "\n",
              "  <div id=\"df-a2ea1114-2456-4575-b15b-8cc2f5c74d00\">\n",
              "    <div class=\"colab-df-container\">\n",
              "      <div>\n",
              "<style scoped>\n",
              "    .dataframe tbody tr th:only-of-type {\n",
              "        vertical-align: middle;\n",
              "    }\n",
              "\n",
              "    .dataframe tbody tr th {\n",
              "        vertical-align: top;\n",
              "    }\n",
              "\n",
              "    .dataframe thead th {\n",
              "        text-align: right;\n",
              "    }\n",
              "</style>\n",
              "<table border=\"1\" class=\"dataframe\">\n",
              "  <thead>\n",
              "    <tr style=\"text-align: right;\">\n",
              "      <th></th>\n",
              "      <th>id</th>\n",
              "      <th>call_date</th>\n",
              "      <th>duration</th>\n",
              "      <th>user_id</th>\n",
              "    </tr>\n",
              "  </thead>\n",
              "  <tbody>\n",
              "    <tr>\n",
              "      <th>0</th>\n",
              "      <td>1000_0</td>\n",
              "      <td>2018-07-25</td>\n",
              "      <td>0.00</td>\n",
              "      <td>1000</td>\n",
              "    </tr>\n",
              "    <tr>\n",
              "      <th>1</th>\n",
              "      <td>1000_1</td>\n",
              "      <td>2018-08-17</td>\n",
              "      <td>0.00</td>\n",
              "      <td>1000</td>\n",
              "    </tr>\n",
              "    <tr>\n",
              "      <th>2</th>\n",
              "      <td>1000_2</td>\n",
              "      <td>2018-06-11</td>\n",
              "      <td>2.85</td>\n",
              "      <td>1000</td>\n",
              "    </tr>\n",
              "    <tr>\n",
              "      <th>3</th>\n",
              "      <td>1000_3</td>\n",
              "      <td>2018-09-21</td>\n",
              "      <td>13.80</td>\n",
              "      <td>1000</td>\n",
              "    </tr>\n",
              "    <tr>\n",
              "      <th>4</th>\n",
              "      <td>1000_4</td>\n",
              "      <td>2018-12-15</td>\n",
              "      <td>5.18</td>\n",
              "      <td>1000</td>\n",
              "    </tr>\n",
              "  </tbody>\n",
              "</table>\n",
              "</div>\n",
              "      <button class=\"colab-df-convert\" onclick=\"convertToInteractive('df-a2ea1114-2456-4575-b15b-8cc2f5c74d00')\"\n",
              "              title=\"Convert this dataframe to an interactive table.\"\n",
              "              style=\"display:none;\">\n",
              "        \n",
              "  <svg xmlns=\"http://www.w3.org/2000/svg\" height=\"24px\"viewBox=\"0 0 24 24\"\n",
              "       width=\"24px\">\n",
              "    <path d=\"M0 0h24v24H0V0z\" fill=\"none\"/>\n",
              "    <path d=\"M18.56 5.44l.94 2.06.94-2.06 2.06-.94-2.06-.94-.94-2.06-.94 2.06-2.06.94zm-11 1L8.5 8.5l.94-2.06 2.06-.94-2.06-.94L8.5 2.5l-.94 2.06-2.06.94zm10 10l.94 2.06.94-2.06 2.06-.94-2.06-.94-.94-2.06-.94 2.06-2.06.94z\"/><path d=\"M17.41 7.96l-1.37-1.37c-.4-.4-.92-.59-1.43-.59-.52 0-1.04.2-1.43.59L10.3 9.45l-7.72 7.72c-.78.78-.78 2.05 0 2.83L4 21.41c.39.39.9.59 1.41.59.51 0 1.02-.2 1.41-.59l7.78-7.78 2.81-2.81c.8-.78.8-2.07 0-2.86zM5.41 20L4 18.59l7.72-7.72 1.47 1.35L5.41 20z\"/>\n",
              "  </svg>\n",
              "      </button>\n",
              "      \n",
              "  <style>\n",
              "    .colab-df-container {\n",
              "      display:flex;\n",
              "      flex-wrap:wrap;\n",
              "      gap: 12px;\n",
              "    }\n",
              "\n",
              "    .colab-df-convert {\n",
              "      background-color: #E8F0FE;\n",
              "      border: none;\n",
              "      border-radius: 50%;\n",
              "      cursor: pointer;\n",
              "      display: none;\n",
              "      fill: #1967D2;\n",
              "      height: 32px;\n",
              "      padding: 0 0 0 0;\n",
              "      width: 32px;\n",
              "    }\n",
              "\n",
              "    .colab-df-convert:hover {\n",
              "      background-color: #E2EBFA;\n",
              "      box-shadow: 0px 1px 2px rgba(60, 64, 67, 0.3), 0px 1px 3px 1px rgba(60, 64, 67, 0.15);\n",
              "      fill: #174EA6;\n",
              "    }\n",
              "\n",
              "    [theme=dark] .colab-df-convert {\n",
              "      background-color: #3B4455;\n",
              "      fill: #D2E3FC;\n",
              "    }\n",
              "\n",
              "    [theme=dark] .colab-df-convert:hover {\n",
              "      background-color: #434B5C;\n",
              "      box-shadow: 0px 1px 3px 1px rgba(0, 0, 0, 0.15);\n",
              "      filter: drop-shadow(0px 1px 2px rgba(0, 0, 0, 0.3));\n",
              "      fill: #FFFFFF;\n",
              "    }\n",
              "  </style>\n",
              "\n",
              "      <script>\n",
              "        const buttonEl =\n",
              "          document.querySelector('#df-a2ea1114-2456-4575-b15b-8cc2f5c74d00 button.colab-df-convert');\n",
              "        buttonEl.style.display =\n",
              "          google.colab.kernel.accessAllowed ? 'block' : 'none';\n",
              "\n",
              "        async function convertToInteractive(key) {\n",
              "          const element = document.querySelector('#df-a2ea1114-2456-4575-b15b-8cc2f5c74d00');\n",
              "          const dataTable =\n",
              "            await google.colab.kernel.invokeFunction('convertToInteractive',\n",
              "                                                     [key], {});\n",
              "          if (!dataTable) return;\n",
              "\n",
              "          const docLinkHtml = 'Like what you see? Visit the ' +\n",
              "            '<a target=\"_blank\" href=https://colab.research.google.com/notebooks/data_table.ipynb>data table notebook</a>'\n",
              "            + ' to learn more about interactive tables.';\n",
              "          element.innerHTML = '';\n",
              "          dataTable['output_type'] = 'display_data';\n",
              "          await google.colab.output.renderOutput(dataTable, element);\n",
              "          const docLink = document.createElement('div');\n",
              "          docLink.innerHTML = docLinkHtml;\n",
              "          element.appendChild(docLink);\n",
              "        }\n",
              "      </script>\n",
              "    </div>\n",
              "  </div>\n",
              "  "
            ]
          },
          "metadata": {},
          "execution_count": 59
        }
      ],
      "source": [
        "calls.head() #выводим на экран 5 первых строк датасета `calls`"
      ]
    },
    {
      "cell_type": "code",
      "execution_count": null,
      "metadata": {
        "id": "2sRZItCi677C",
        "outputId": "26bd70f0-5f96-46ce-e32f-69429c0671fd",
        "colab": {
          "base_uri": "https://localhost:8080/"
        }
      },
      "outputs": [
        {
          "output_type": "stream",
          "name": "stdout",
          "text": [
            "<class 'pandas.core.frame.DataFrame'>\n",
            "RangeIndex: 202607 entries, 0 to 202606\n",
            "Data columns (total 4 columns):\n",
            " #   Column     Non-Null Count   Dtype  \n",
            "---  ------     --------------   -----  \n",
            " 0   id         202607 non-null  object \n",
            " 1   call_date  202607 non-null  object \n",
            " 2   duration   202607 non-null  float64\n",
            " 3   user_id    202607 non-null  int64  \n",
            "dtypes: float64(1), int64(1), object(2)\n",
            "memory usage: 6.2+ MB\n"
          ]
        }
      ],
      "source": [
        "calls.info() # выводим общую информацию о данных датасета"
      ]
    },
    {
      "cell_type": "code",
      "execution_count": null,
      "metadata": {
        "id": "e4QchRCF677D",
        "outputId": "bcda8f6e-27de-4561-f167-5604bc63eb2b",
        "colab": {
          "base_uri": "https://localhost:8080/"
        }
      },
      "outputs": [
        {
          "output_type": "stream",
          "name": "stdout",
          "text": [
            "<class 'pandas.core.frame.DataFrame'>\n",
            "RangeIndex: 202607 entries, 0 to 202606\n",
            "Data columns (total 4 columns):\n",
            " #   Column     Non-Null Count   Dtype         \n",
            "---  ------     --------------   -----         \n",
            " 0   id         202607 non-null  object        \n",
            " 1   call_date  202607 non-null  datetime64[ns]\n",
            " 2   duration   202607 non-null  float64       \n",
            " 3   user_id    202607 non-null  int64         \n",
            "dtypes: datetime64[ns](1), float64(1), int64(1), object(1)\n",
            "memory usage: 6.2+ MB\n"
          ]
        }
      ],
      "source": [
        "calls['call_date'] = pd.to_datetime(calls['call_date'],format = '%Y-%m-%d') #тип данных в колонке `call_date` (дата звонка) приведем к формату даты.\n",
        "calls.info() #выводим общую информацию о данных датасета"
      ]
    },
    {
      "cell_type": "markdown",
      "metadata": {
        "id": "VY8CH2fi677E"
      },
      "source": [
        "Округлим продолжительность звонков до минуты, по условиям тарифа окруцгление происходит в большую сторону"
      ]
    },
    {
      "cell_type": "code",
      "execution_count": null,
      "metadata": {
        "scrolled": true,
        "id": "Yfkthxty677F",
        "outputId": "028e90e3-55cb-4d39-ffd6-6a4fcc172499",
        "colab": {
          "base_uri": "https://localhost:8080/"
        }
      },
      "outputs": [
        {
          "output_type": "execute_result",
          "data": {
            "text/plain": [
              "0          0.0\n",
              "1          0.0\n",
              "2          3.0\n",
              "3         14.0\n",
              "4          6.0\n",
              "          ... \n",
              "202602     1.0\n",
              "202603    19.0\n",
              "202604    11.0\n",
              "202605     5.0\n",
              "202606    20.0\n",
              "Name: duration, Length: 202607, dtype: float64"
            ]
          },
          "metadata": {},
          "execution_count": 62
        }
      ],
      "source": [
        "calls['duration'] = np.ceil(calls['duration'])\n",
        "calls['duration']"
      ]
    },
    {
      "cell_type": "code",
      "execution_count": null,
      "metadata": {
        "id": "P02camPy677F",
        "outputId": "64df69b6-af54-4124-b0cd-82c22398544b",
        "colab": {
          "base_uri": "https://localhost:8080/",
          "height": 206
        }
      },
      "outputs": [
        {
          "output_type": "execute_result",
          "data": {
            "text/plain": [
              "       id  mb_used session_date  user_id\n",
              "0  1000_0   112.95   2018-11-25     1000\n",
              "1  1000_1  1052.81   2018-09-07     1000\n",
              "2  1000_2  1197.26   2018-06-25     1000\n",
              "3  1000_3   550.27   2018-08-22     1000\n",
              "4  1000_4   302.56   2018-09-24     1000"
            ],
            "text/html": [
              "\n",
              "  <div id=\"df-4de0dbf7-e6e9-40b0-b1ea-8358fc378267\">\n",
              "    <div class=\"colab-df-container\">\n",
              "      <div>\n",
              "<style scoped>\n",
              "    .dataframe tbody tr th:only-of-type {\n",
              "        vertical-align: middle;\n",
              "    }\n",
              "\n",
              "    .dataframe tbody tr th {\n",
              "        vertical-align: top;\n",
              "    }\n",
              "\n",
              "    .dataframe thead th {\n",
              "        text-align: right;\n",
              "    }\n",
              "</style>\n",
              "<table border=\"1\" class=\"dataframe\">\n",
              "  <thead>\n",
              "    <tr style=\"text-align: right;\">\n",
              "      <th></th>\n",
              "      <th>id</th>\n",
              "      <th>mb_used</th>\n",
              "      <th>session_date</th>\n",
              "      <th>user_id</th>\n",
              "    </tr>\n",
              "  </thead>\n",
              "  <tbody>\n",
              "    <tr>\n",
              "      <th>0</th>\n",
              "      <td>1000_0</td>\n",
              "      <td>112.95</td>\n",
              "      <td>2018-11-25</td>\n",
              "      <td>1000</td>\n",
              "    </tr>\n",
              "    <tr>\n",
              "      <th>1</th>\n",
              "      <td>1000_1</td>\n",
              "      <td>1052.81</td>\n",
              "      <td>2018-09-07</td>\n",
              "      <td>1000</td>\n",
              "    </tr>\n",
              "    <tr>\n",
              "      <th>2</th>\n",
              "      <td>1000_2</td>\n",
              "      <td>1197.26</td>\n",
              "      <td>2018-06-25</td>\n",
              "      <td>1000</td>\n",
              "    </tr>\n",
              "    <tr>\n",
              "      <th>3</th>\n",
              "      <td>1000_3</td>\n",
              "      <td>550.27</td>\n",
              "      <td>2018-08-22</td>\n",
              "      <td>1000</td>\n",
              "    </tr>\n",
              "    <tr>\n",
              "      <th>4</th>\n",
              "      <td>1000_4</td>\n",
              "      <td>302.56</td>\n",
              "      <td>2018-09-24</td>\n",
              "      <td>1000</td>\n",
              "    </tr>\n",
              "  </tbody>\n",
              "</table>\n",
              "</div>\n",
              "      <button class=\"colab-df-convert\" onclick=\"convertToInteractive('df-4de0dbf7-e6e9-40b0-b1ea-8358fc378267')\"\n",
              "              title=\"Convert this dataframe to an interactive table.\"\n",
              "              style=\"display:none;\">\n",
              "        \n",
              "  <svg xmlns=\"http://www.w3.org/2000/svg\" height=\"24px\"viewBox=\"0 0 24 24\"\n",
              "       width=\"24px\">\n",
              "    <path d=\"M0 0h24v24H0V0z\" fill=\"none\"/>\n",
              "    <path d=\"M18.56 5.44l.94 2.06.94-2.06 2.06-.94-2.06-.94-.94-2.06-.94 2.06-2.06.94zm-11 1L8.5 8.5l.94-2.06 2.06-.94-2.06-.94L8.5 2.5l-.94 2.06-2.06.94zm10 10l.94 2.06.94-2.06 2.06-.94-2.06-.94-.94-2.06-.94 2.06-2.06.94z\"/><path d=\"M17.41 7.96l-1.37-1.37c-.4-.4-.92-.59-1.43-.59-.52 0-1.04.2-1.43.59L10.3 9.45l-7.72 7.72c-.78.78-.78 2.05 0 2.83L4 21.41c.39.39.9.59 1.41.59.51 0 1.02-.2 1.41-.59l7.78-7.78 2.81-2.81c.8-.78.8-2.07 0-2.86zM5.41 20L4 18.59l7.72-7.72 1.47 1.35L5.41 20z\"/>\n",
              "  </svg>\n",
              "      </button>\n",
              "      \n",
              "  <style>\n",
              "    .colab-df-container {\n",
              "      display:flex;\n",
              "      flex-wrap:wrap;\n",
              "      gap: 12px;\n",
              "    }\n",
              "\n",
              "    .colab-df-convert {\n",
              "      background-color: #E8F0FE;\n",
              "      border: none;\n",
              "      border-radius: 50%;\n",
              "      cursor: pointer;\n",
              "      display: none;\n",
              "      fill: #1967D2;\n",
              "      height: 32px;\n",
              "      padding: 0 0 0 0;\n",
              "      width: 32px;\n",
              "    }\n",
              "\n",
              "    .colab-df-convert:hover {\n",
              "      background-color: #E2EBFA;\n",
              "      box-shadow: 0px 1px 2px rgba(60, 64, 67, 0.3), 0px 1px 3px 1px rgba(60, 64, 67, 0.15);\n",
              "      fill: #174EA6;\n",
              "    }\n",
              "\n",
              "    [theme=dark] .colab-df-convert {\n",
              "      background-color: #3B4455;\n",
              "      fill: #D2E3FC;\n",
              "    }\n",
              "\n",
              "    [theme=dark] .colab-df-convert:hover {\n",
              "      background-color: #434B5C;\n",
              "      box-shadow: 0px 1px 3px 1px rgba(0, 0, 0, 0.15);\n",
              "      filter: drop-shadow(0px 1px 2px rgba(0, 0, 0, 0.3));\n",
              "      fill: #FFFFFF;\n",
              "    }\n",
              "  </style>\n",
              "\n",
              "      <script>\n",
              "        const buttonEl =\n",
              "          document.querySelector('#df-4de0dbf7-e6e9-40b0-b1ea-8358fc378267 button.colab-df-convert');\n",
              "        buttonEl.style.display =\n",
              "          google.colab.kernel.accessAllowed ? 'block' : 'none';\n",
              "\n",
              "        async function convertToInteractive(key) {\n",
              "          const element = document.querySelector('#df-4de0dbf7-e6e9-40b0-b1ea-8358fc378267');\n",
              "          const dataTable =\n",
              "            await google.colab.kernel.invokeFunction('convertToInteractive',\n",
              "                                                     [key], {});\n",
              "          if (!dataTable) return;\n",
              "\n",
              "          const docLinkHtml = 'Like what you see? Visit the ' +\n",
              "            '<a target=\"_blank\" href=https://colab.research.google.com/notebooks/data_table.ipynb>data table notebook</a>'\n",
              "            + ' to learn more about interactive tables.';\n",
              "          element.innerHTML = '';\n",
              "          dataTable['output_type'] = 'display_data';\n",
              "          await google.colab.output.renderOutput(dataTable, element);\n",
              "          const docLink = document.createElement('div');\n",
              "          docLink.innerHTML = docLinkHtml;\n",
              "          element.appendChild(docLink);\n",
              "        }\n",
              "      </script>\n",
              "    </div>\n",
              "  </div>\n",
              "  "
            ]
          },
          "metadata": {},
          "execution_count": 63
        }
      ],
      "source": [
        "internet.head() #выводим на экран 5 первых строк датасета `internet`"
      ]
    },
    {
      "cell_type": "code",
      "execution_count": null,
      "metadata": {
        "id": "4-hivO4S677G",
        "outputId": "843673a0-ca72-4f9b-bbe6-92ce794ecf02",
        "colab": {
          "base_uri": "https://localhost:8080/"
        }
      },
      "outputs": [
        {
          "output_type": "stream",
          "name": "stdout",
          "text": [
            "<class 'pandas.core.frame.DataFrame'>\n",
            "Int64Index: 149396 entries, 0 to 149395\n",
            "Data columns (total 4 columns):\n",
            " #   Column        Non-Null Count   Dtype  \n",
            "---  ------        --------------   -----  \n",
            " 0   id            149396 non-null  object \n",
            " 1   mb_used       149396 non-null  float64\n",
            " 2   session_date  149396 non-null  object \n",
            " 3   user_id       149396 non-null  int64  \n",
            "dtypes: float64(1), int64(1), object(2)\n",
            "memory usage: 5.7+ MB\n"
          ]
        }
      ],
      "source": [
        "internet.info() #выводим общую информацию о данных датасета"
      ]
    },
    {
      "cell_type": "code",
      "execution_count": null,
      "metadata": {
        "id": "CH1T1DMg677G",
        "outputId": "40f0f33a-4f8f-4950-d95c-a9635ddb66f6",
        "colab": {
          "base_uri": "https://localhost:8080/"
        }
      },
      "outputs": [
        {
          "output_type": "stream",
          "name": "stdout",
          "text": [
            "<class 'pandas.core.frame.DataFrame'>\n",
            "Int64Index: 149396 entries, 0 to 149395\n",
            "Data columns (total 4 columns):\n",
            " #   Column        Non-Null Count   Dtype         \n",
            "---  ------        --------------   -----         \n",
            " 0   id            149396 non-null  object        \n",
            " 1   mb_used       149396 non-null  float64       \n",
            " 2   session_date  149396 non-null  datetime64[ns]\n",
            " 3   user_id       149396 non-null  int64         \n",
            "dtypes: datetime64[ns](1), float64(1), int64(1), object(1)\n",
            "memory usage: 5.7+ MB\n"
          ]
        }
      ],
      "source": [
        "internet['session_date'] = pd.to_datetime(internet['session_date'],format = '%Y-%m-%d') #тип данных в колонке `session_date` (дата интерет-сессии) приведем к формату даты.\n",
        "internet.info() #выводим общую информацию о данных датасета"
      ]
    },
    {
      "cell_type": "code",
      "execution_count": null,
      "metadata": {
        "id": "fHFOoOwF677G",
        "outputId": "5d5a39d7-01bd-4a45-bca2-c51b2036ae7a",
        "colab": {
          "base_uri": "https://localhost:8080/",
          "height": 206
        }
      },
      "outputs": [
        {
          "output_type": "execute_result",
          "data": {
            "text/plain": [
              "              id message_date  user_id\n",
              "123031  1499_179   2018-12-12     1499\n",
              "123032  1499_180   2018-09-28     1499\n",
              "123033  1499_181   2018-09-27     1499\n",
              "123034  1499_182   2018-11-15     1499\n",
              "123035  1499_183   2018-11-16     1499"
            ],
            "text/html": [
              "\n",
              "  <div id=\"df-eb5c7984-9303-46ae-a11e-b6d05f47a4f6\">\n",
              "    <div class=\"colab-df-container\">\n",
              "      <div>\n",
              "<style scoped>\n",
              "    .dataframe tbody tr th:only-of-type {\n",
              "        vertical-align: middle;\n",
              "    }\n",
              "\n",
              "    .dataframe tbody tr th {\n",
              "        vertical-align: top;\n",
              "    }\n",
              "\n",
              "    .dataframe thead th {\n",
              "        text-align: right;\n",
              "    }\n",
              "</style>\n",
              "<table border=\"1\" class=\"dataframe\">\n",
              "  <thead>\n",
              "    <tr style=\"text-align: right;\">\n",
              "      <th></th>\n",
              "      <th>id</th>\n",
              "      <th>message_date</th>\n",
              "      <th>user_id</th>\n",
              "    </tr>\n",
              "  </thead>\n",
              "  <tbody>\n",
              "    <tr>\n",
              "      <th>123031</th>\n",
              "      <td>1499_179</td>\n",
              "      <td>2018-12-12</td>\n",
              "      <td>1499</td>\n",
              "    </tr>\n",
              "    <tr>\n",
              "      <th>123032</th>\n",
              "      <td>1499_180</td>\n",
              "      <td>2018-09-28</td>\n",
              "      <td>1499</td>\n",
              "    </tr>\n",
              "    <tr>\n",
              "      <th>123033</th>\n",
              "      <td>1499_181</td>\n",
              "      <td>2018-09-27</td>\n",
              "      <td>1499</td>\n",
              "    </tr>\n",
              "    <tr>\n",
              "      <th>123034</th>\n",
              "      <td>1499_182</td>\n",
              "      <td>2018-11-15</td>\n",
              "      <td>1499</td>\n",
              "    </tr>\n",
              "    <tr>\n",
              "      <th>123035</th>\n",
              "      <td>1499_183</td>\n",
              "      <td>2018-11-16</td>\n",
              "      <td>1499</td>\n",
              "    </tr>\n",
              "  </tbody>\n",
              "</table>\n",
              "</div>\n",
              "      <button class=\"colab-df-convert\" onclick=\"convertToInteractive('df-eb5c7984-9303-46ae-a11e-b6d05f47a4f6')\"\n",
              "              title=\"Convert this dataframe to an interactive table.\"\n",
              "              style=\"display:none;\">\n",
              "        \n",
              "  <svg xmlns=\"http://www.w3.org/2000/svg\" height=\"24px\"viewBox=\"0 0 24 24\"\n",
              "       width=\"24px\">\n",
              "    <path d=\"M0 0h24v24H0V0z\" fill=\"none\"/>\n",
              "    <path d=\"M18.56 5.44l.94 2.06.94-2.06 2.06-.94-2.06-.94-.94-2.06-.94 2.06-2.06.94zm-11 1L8.5 8.5l.94-2.06 2.06-.94-2.06-.94L8.5 2.5l-.94 2.06-2.06.94zm10 10l.94 2.06.94-2.06 2.06-.94-2.06-.94-.94-2.06-.94 2.06-2.06.94z\"/><path d=\"M17.41 7.96l-1.37-1.37c-.4-.4-.92-.59-1.43-.59-.52 0-1.04.2-1.43.59L10.3 9.45l-7.72 7.72c-.78.78-.78 2.05 0 2.83L4 21.41c.39.39.9.59 1.41.59.51 0 1.02-.2 1.41-.59l7.78-7.78 2.81-2.81c.8-.78.8-2.07 0-2.86zM5.41 20L4 18.59l7.72-7.72 1.47 1.35L5.41 20z\"/>\n",
              "  </svg>\n",
              "      </button>\n",
              "      \n",
              "  <style>\n",
              "    .colab-df-container {\n",
              "      display:flex;\n",
              "      flex-wrap:wrap;\n",
              "      gap: 12px;\n",
              "    }\n",
              "\n",
              "    .colab-df-convert {\n",
              "      background-color: #E8F0FE;\n",
              "      border: none;\n",
              "      border-radius: 50%;\n",
              "      cursor: pointer;\n",
              "      display: none;\n",
              "      fill: #1967D2;\n",
              "      height: 32px;\n",
              "      padding: 0 0 0 0;\n",
              "      width: 32px;\n",
              "    }\n",
              "\n",
              "    .colab-df-convert:hover {\n",
              "      background-color: #E2EBFA;\n",
              "      box-shadow: 0px 1px 2px rgba(60, 64, 67, 0.3), 0px 1px 3px 1px rgba(60, 64, 67, 0.15);\n",
              "      fill: #174EA6;\n",
              "    }\n",
              "\n",
              "    [theme=dark] .colab-df-convert {\n",
              "      background-color: #3B4455;\n",
              "      fill: #D2E3FC;\n",
              "    }\n",
              "\n",
              "    [theme=dark] .colab-df-convert:hover {\n",
              "      background-color: #434B5C;\n",
              "      box-shadow: 0px 1px 3px 1px rgba(0, 0, 0, 0.15);\n",
              "      filter: drop-shadow(0px 1px 2px rgba(0, 0, 0, 0.3));\n",
              "      fill: #FFFFFF;\n",
              "    }\n",
              "  </style>\n",
              "\n",
              "      <script>\n",
              "        const buttonEl =\n",
              "          document.querySelector('#df-eb5c7984-9303-46ae-a11e-b6d05f47a4f6 button.colab-df-convert');\n",
              "        buttonEl.style.display =\n",
              "          google.colab.kernel.accessAllowed ? 'block' : 'none';\n",
              "\n",
              "        async function convertToInteractive(key) {\n",
              "          const element = document.querySelector('#df-eb5c7984-9303-46ae-a11e-b6d05f47a4f6');\n",
              "          const dataTable =\n",
              "            await google.colab.kernel.invokeFunction('convertToInteractive',\n",
              "                                                     [key], {});\n",
              "          if (!dataTable) return;\n",
              "\n",
              "          const docLinkHtml = 'Like what you see? Visit the ' +\n",
              "            '<a target=\"_blank\" href=https://colab.research.google.com/notebooks/data_table.ipynb>data table notebook</a>'\n",
              "            + ' to learn more about interactive tables.';\n",
              "          element.innerHTML = '';\n",
              "          dataTable['output_type'] = 'display_data';\n",
              "          await google.colab.output.renderOutput(dataTable, element);\n",
              "          const docLink = document.createElement('div');\n",
              "          docLink.innerHTML = docLinkHtml;\n",
              "          element.appendChild(docLink);\n",
              "        }\n",
              "      </script>\n",
              "    </div>\n",
              "  </div>\n",
              "  "
            ]
          },
          "metadata": {},
          "execution_count": 66
        }
      ],
      "source": [
        "messages.tail() #выводим на экран 5 первых строк датасета `messages`"
      ]
    },
    {
      "cell_type": "code",
      "execution_count": null,
      "metadata": {
        "id": "eVOQfG-z677H",
        "outputId": "312dec36-1736-48b3-d928-f2362283eb7f",
        "colab": {
          "base_uri": "https://localhost:8080/"
        }
      },
      "outputs": [
        {
          "output_type": "stream",
          "name": "stdout",
          "text": [
            "<class 'pandas.core.frame.DataFrame'>\n",
            "RangeIndex: 123036 entries, 0 to 123035\n",
            "Data columns (total 3 columns):\n",
            " #   Column        Non-Null Count   Dtype \n",
            "---  ------        --------------   ----- \n",
            " 0   id            123036 non-null  object\n",
            " 1   message_date  123036 non-null  object\n",
            " 2   user_id       123036 non-null  int64 \n",
            "dtypes: int64(1), object(2)\n",
            "memory usage: 2.8+ MB\n"
          ]
        }
      ],
      "source": [
        "messages.info() #выводим общую информацию о данных датасета"
      ]
    },
    {
      "cell_type": "code",
      "execution_count": null,
      "metadata": {
        "id": "eK6Nuevv677H",
        "outputId": "fc24db67-99a2-41e1-9bd7-d4bd13e938ea",
        "colab": {
          "base_uri": "https://localhost:8080/"
        }
      },
      "outputs": [
        {
          "output_type": "stream",
          "name": "stdout",
          "text": [
            "<class 'pandas.core.frame.DataFrame'>\n",
            "RangeIndex: 123036 entries, 0 to 123035\n",
            "Data columns (total 3 columns):\n",
            " #   Column        Non-Null Count   Dtype         \n",
            "---  ------        --------------   -----         \n",
            " 0   id            123036 non-null  object        \n",
            " 1   message_date  123036 non-null  datetime64[ns]\n",
            " 2   user_id       123036 non-null  int64         \n",
            "dtypes: datetime64[ns](1), int64(1), object(1)\n",
            "memory usage: 2.8+ MB\n"
          ]
        }
      ],
      "source": [
        "messages['message_date'] = pd.to_datetime(messages['message_date'],format = '%Y-%m-%d') #тип данных в колонке `message_date` (дата сообщения) приведем к формату даты.\n",
        "messages.info() #выводим общую информацию о данных датасета"
      ]
    },
    {
      "cell_type": "code",
      "execution_count": null,
      "metadata": {
        "id": "NR8-vvqt677I",
        "outputId": "1315e4d1-8146-489c-a4ea-230dde921f88",
        "colab": {
          "base_uri": "https://localhost:8080/",
          "height": 112
        }
      },
      "outputs": [
        {
          "output_type": "execute_result",
          "data": {
            "text/plain": [
              "   messages_included  mb_per_month_included  minutes_included  \\\n",
              "0                 50                  15360               500   \n",
              "1               1000                  30720              3000   \n",
              "\n",
              "   rub_monthly_fee  rub_per_gb  rub_per_message  rub_per_minute tariff_name  \n",
              "0              550         200                3               3       smart  \n",
              "1             1950         150                1               1       ultra  "
            ],
            "text/html": [
              "\n",
              "  <div id=\"df-e6ba2560-644f-46af-8f7e-a43d3298091a\">\n",
              "    <div class=\"colab-df-container\">\n",
              "      <div>\n",
              "<style scoped>\n",
              "    .dataframe tbody tr th:only-of-type {\n",
              "        vertical-align: middle;\n",
              "    }\n",
              "\n",
              "    .dataframe tbody tr th {\n",
              "        vertical-align: top;\n",
              "    }\n",
              "\n",
              "    .dataframe thead th {\n",
              "        text-align: right;\n",
              "    }\n",
              "</style>\n",
              "<table border=\"1\" class=\"dataframe\">\n",
              "  <thead>\n",
              "    <tr style=\"text-align: right;\">\n",
              "      <th></th>\n",
              "      <th>messages_included</th>\n",
              "      <th>mb_per_month_included</th>\n",
              "      <th>minutes_included</th>\n",
              "      <th>rub_monthly_fee</th>\n",
              "      <th>rub_per_gb</th>\n",
              "      <th>rub_per_message</th>\n",
              "      <th>rub_per_minute</th>\n",
              "      <th>tariff_name</th>\n",
              "    </tr>\n",
              "  </thead>\n",
              "  <tbody>\n",
              "    <tr>\n",
              "      <th>0</th>\n",
              "      <td>50</td>\n",
              "      <td>15360</td>\n",
              "      <td>500</td>\n",
              "      <td>550</td>\n",
              "      <td>200</td>\n",
              "      <td>3</td>\n",
              "      <td>3</td>\n",
              "      <td>smart</td>\n",
              "    </tr>\n",
              "    <tr>\n",
              "      <th>1</th>\n",
              "      <td>1000</td>\n",
              "      <td>30720</td>\n",
              "      <td>3000</td>\n",
              "      <td>1950</td>\n",
              "      <td>150</td>\n",
              "      <td>1</td>\n",
              "      <td>1</td>\n",
              "      <td>ultra</td>\n",
              "    </tr>\n",
              "  </tbody>\n",
              "</table>\n",
              "</div>\n",
              "      <button class=\"colab-df-convert\" onclick=\"convertToInteractive('df-e6ba2560-644f-46af-8f7e-a43d3298091a')\"\n",
              "              title=\"Convert this dataframe to an interactive table.\"\n",
              "              style=\"display:none;\">\n",
              "        \n",
              "  <svg xmlns=\"http://www.w3.org/2000/svg\" height=\"24px\"viewBox=\"0 0 24 24\"\n",
              "       width=\"24px\">\n",
              "    <path d=\"M0 0h24v24H0V0z\" fill=\"none\"/>\n",
              "    <path d=\"M18.56 5.44l.94 2.06.94-2.06 2.06-.94-2.06-.94-.94-2.06-.94 2.06-2.06.94zm-11 1L8.5 8.5l.94-2.06 2.06-.94-2.06-.94L8.5 2.5l-.94 2.06-2.06.94zm10 10l.94 2.06.94-2.06 2.06-.94-2.06-.94-.94-2.06-.94 2.06-2.06.94z\"/><path d=\"M17.41 7.96l-1.37-1.37c-.4-.4-.92-.59-1.43-.59-.52 0-1.04.2-1.43.59L10.3 9.45l-7.72 7.72c-.78.78-.78 2.05 0 2.83L4 21.41c.39.39.9.59 1.41.59.51 0 1.02-.2 1.41-.59l7.78-7.78 2.81-2.81c.8-.78.8-2.07 0-2.86zM5.41 20L4 18.59l7.72-7.72 1.47 1.35L5.41 20z\"/>\n",
              "  </svg>\n",
              "      </button>\n",
              "      \n",
              "  <style>\n",
              "    .colab-df-container {\n",
              "      display:flex;\n",
              "      flex-wrap:wrap;\n",
              "      gap: 12px;\n",
              "    }\n",
              "\n",
              "    .colab-df-convert {\n",
              "      background-color: #E8F0FE;\n",
              "      border: none;\n",
              "      border-radius: 50%;\n",
              "      cursor: pointer;\n",
              "      display: none;\n",
              "      fill: #1967D2;\n",
              "      height: 32px;\n",
              "      padding: 0 0 0 0;\n",
              "      width: 32px;\n",
              "    }\n",
              "\n",
              "    .colab-df-convert:hover {\n",
              "      background-color: #E2EBFA;\n",
              "      box-shadow: 0px 1px 2px rgba(60, 64, 67, 0.3), 0px 1px 3px 1px rgba(60, 64, 67, 0.15);\n",
              "      fill: #174EA6;\n",
              "    }\n",
              "\n",
              "    [theme=dark] .colab-df-convert {\n",
              "      background-color: #3B4455;\n",
              "      fill: #D2E3FC;\n",
              "    }\n",
              "\n",
              "    [theme=dark] .colab-df-convert:hover {\n",
              "      background-color: #434B5C;\n",
              "      box-shadow: 0px 1px 3px 1px rgba(0, 0, 0, 0.15);\n",
              "      filter: drop-shadow(0px 1px 2px rgba(0, 0, 0, 0.3));\n",
              "      fill: #FFFFFF;\n",
              "    }\n",
              "  </style>\n",
              "\n",
              "      <script>\n",
              "        const buttonEl =\n",
              "          document.querySelector('#df-e6ba2560-644f-46af-8f7e-a43d3298091a button.colab-df-convert');\n",
              "        buttonEl.style.display =\n",
              "          google.colab.kernel.accessAllowed ? 'block' : 'none';\n",
              "\n",
              "        async function convertToInteractive(key) {\n",
              "          const element = document.querySelector('#df-e6ba2560-644f-46af-8f7e-a43d3298091a');\n",
              "          const dataTable =\n",
              "            await google.colab.kernel.invokeFunction('convertToInteractive',\n",
              "                                                     [key], {});\n",
              "          if (!dataTable) return;\n",
              "\n",
              "          const docLinkHtml = 'Like what you see? Visit the ' +\n",
              "            '<a target=\"_blank\" href=https://colab.research.google.com/notebooks/data_table.ipynb>data table notebook</a>'\n",
              "            + ' to learn more about interactive tables.';\n",
              "          element.innerHTML = '';\n",
              "          dataTable['output_type'] = 'display_data';\n",
              "          await google.colab.output.renderOutput(dataTable, element);\n",
              "          const docLink = document.createElement('div');\n",
              "          docLink.innerHTML = docLinkHtml;\n",
              "          element.appendChild(docLink);\n",
              "        }\n",
              "      </script>\n",
              "    </div>\n",
              "  </div>\n",
              "  "
            ]
          },
          "metadata": {},
          "execution_count": 69
        }
      ],
      "source": [
        "tariffs #выводим данные датасета на экран"
      ]
    },
    {
      "cell_type": "code",
      "execution_count": null,
      "metadata": {
        "id": "mvGCV-HQ677I",
        "outputId": "b272abc9-695c-4716-e5eb-8a1d5d8ffa4a",
        "colab": {
          "base_uri": "https://localhost:8080/"
        }
      },
      "outputs": [
        {
          "output_type": "stream",
          "name": "stdout",
          "text": [
            "<class 'pandas.core.frame.DataFrame'>\n",
            "RangeIndex: 2 entries, 0 to 1\n",
            "Data columns (total 8 columns):\n",
            " #   Column                 Non-Null Count  Dtype \n",
            "---  ------                 --------------  ----- \n",
            " 0   messages_included      2 non-null      int64 \n",
            " 1   mb_per_month_included  2 non-null      int64 \n",
            " 2   minutes_included       2 non-null      int64 \n",
            " 3   rub_monthly_fee        2 non-null      int64 \n",
            " 4   rub_per_gb             2 non-null      int64 \n",
            " 5   rub_per_message        2 non-null      int64 \n",
            " 6   rub_per_minute         2 non-null      int64 \n",
            " 7   tariff_name            2 non-null      object\n",
            "dtypes: int64(7), object(1)\n",
            "memory usage: 256.0+ bytes\n"
          ]
        }
      ],
      "source": [
        "tariffs.info() #выводим общую информацию о данных датасета"
      ]
    },
    {
      "cell_type": "markdown",
      "metadata": {
        "id": "UivRt26Y677I"
      },
      "source": [
        "Типы данных в таблице `tariffs` отражены корректно, изменения вносить не нужно."
      ]
    },
    {
      "cell_type": "code",
      "execution_count": null,
      "metadata": {
        "id": "tGlPM-GI677J",
        "outputId": "a4b8ea94-defa-493c-c06e-37fdf72840b6",
        "colab": {
          "base_uri": "https://localhost:8080/",
          "height": 206
        }
      },
      "outputs": [
        {
          "output_type": "execute_result",
          "data": {
            "text/plain": [
              "   user_id  age churn_date         city first_name  last_name    reg_date  \\\n",
              "0     1000   52        NaN    Краснодар     Рафаил  Верещагин  2018-05-25   \n",
              "1     1001   41        NaN       Москва       Иван       Ежов  2018-11-01   \n",
              "2     1002   59        NaN  Стерлитамак    Евгений  Абрамович  2018-06-17   \n",
              "3     1003   23        NaN       Москва      Белла   Белякова  2018-08-17   \n",
              "4     1004   68        NaN  Новокузнецк    Татьяна   Авдеенко  2018-05-14   \n",
              "\n",
              "  tariff  \n",
              "0  ultra  \n",
              "1  smart  \n",
              "2  smart  \n",
              "3  ultra  \n",
              "4  ultra  "
            ],
            "text/html": [
              "\n",
              "  <div id=\"df-9996837d-46aa-4af7-a74b-45dfa8d386fc\">\n",
              "    <div class=\"colab-df-container\">\n",
              "      <div>\n",
              "<style scoped>\n",
              "    .dataframe tbody tr th:only-of-type {\n",
              "        vertical-align: middle;\n",
              "    }\n",
              "\n",
              "    .dataframe tbody tr th {\n",
              "        vertical-align: top;\n",
              "    }\n",
              "\n",
              "    .dataframe thead th {\n",
              "        text-align: right;\n",
              "    }\n",
              "</style>\n",
              "<table border=\"1\" class=\"dataframe\">\n",
              "  <thead>\n",
              "    <tr style=\"text-align: right;\">\n",
              "      <th></th>\n",
              "      <th>user_id</th>\n",
              "      <th>age</th>\n",
              "      <th>churn_date</th>\n",
              "      <th>city</th>\n",
              "      <th>first_name</th>\n",
              "      <th>last_name</th>\n",
              "      <th>reg_date</th>\n",
              "      <th>tariff</th>\n",
              "    </tr>\n",
              "  </thead>\n",
              "  <tbody>\n",
              "    <tr>\n",
              "      <th>0</th>\n",
              "      <td>1000</td>\n",
              "      <td>52</td>\n",
              "      <td>NaN</td>\n",
              "      <td>Краснодар</td>\n",
              "      <td>Рафаил</td>\n",
              "      <td>Верещагин</td>\n",
              "      <td>2018-05-25</td>\n",
              "      <td>ultra</td>\n",
              "    </tr>\n",
              "    <tr>\n",
              "      <th>1</th>\n",
              "      <td>1001</td>\n",
              "      <td>41</td>\n",
              "      <td>NaN</td>\n",
              "      <td>Москва</td>\n",
              "      <td>Иван</td>\n",
              "      <td>Ежов</td>\n",
              "      <td>2018-11-01</td>\n",
              "      <td>smart</td>\n",
              "    </tr>\n",
              "    <tr>\n",
              "      <th>2</th>\n",
              "      <td>1002</td>\n",
              "      <td>59</td>\n",
              "      <td>NaN</td>\n",
              "      <td>Стерлитамак</td>\n",
              "      <td>Евгений</td>\n",
              "      <td>Абрамович</td>\n",
              "      <td>2018-06-17</td>\n",
              "      <td>smart</td>\n",
              "    </tr>\n",
              "    <tr>\n",
              "      <th>3</th>\n",
              "      <td>1003</td>\n",
              "      <td>23</td>\n",
              "      <td>NaN</td>\n",
              "      <td>Москва</td>\n",
              "      <td>Белла</td>\n",
              "      <td>Белякова</td>\n",
              "      <td>2018-08-17</td>\n",
              "      <td>ultra</td>\n",
              "    </tr>\n",
              "    <tr>\n",
              "      <th>4</th>\n",
              "      <td>1004</td>\n",
              "      <td>68</td>\n",
              "      <td>NaN</td>\n",
              "      <td>Новокузнецк</td>\n",
              "      <td>Татьяна</td>\n",
              "      <td>Авдеенко</td>\n",
              "      <td>2018-05-14</td>\n",
              "      <td>ultra</td>\n",
              "    </tr>\n",
              "  </tbody>\n",
              "</table>\n",
              "</div>\n",
              "      <button class=\"colab-df-convert\" onclick=\"convertToInteractive('df-9996837d-46aa-4af7-a74b-45dfa8d386fc')\"\n",
              "              title=\"Convert this dataframe to an interactive table.\"\n",
              "              style=\"display:none;\">\n",
              "        \n",
              "  <svg xmlns=\"http://www.w3.org/2000/svg\" height=\"24px\"viewBox=\"0 0 24 24\"\n",
              "       width=\"24px\">\n",
              "    <path d=\"M0 0h24v24H0V0z\" fill=\"none\"/>\n",
              "    <path d=\"M18.56 5.44l.94 2.06.94-2.06 2.06-.94-2.06-.94-.94-2.06-.94 2.06-2.06.94zm-11 1L8.5 8.5l.94-2.06 2.06-.94-2.06-.94L8.5 2.5l-.94 2.06-2.06.94zm10 10l.94 2.06.94-2.06 2.06-.94-2.06-.94-.94-2.06-.94 2.06-2.06.94z\"/><path d=\"M17.41 7.96l-1.37-1.37c-.4-.4-.92-.59-1.43-.59-.52 0-1.04.2-1.43.59L10.3 9.45l-7.72 7.72c-.78.78-.78 2.05 0 2.83L4 21.41c.39.39.9.59 1.41.59.51 0 1.02-.2 1.41-.59l7.78-7.78 2.81-2.81c.8-.78.8-2.07 0-2.86zM5.41 20L4 18.59l7.72-7.72 1.47 1.35L5.41 20z\"/>\n",
              "  </svg>\n",
              "      </button>\n",
              "      \n",
              "  <style>\n",
              "    .colab-df-container {\n",
              "      display:flex;\n",
              "      flex-wrap:wrap;\n",
              "      gap: 12px;\n",
              "    }\n",
              "\n",
              "    .colab-df-convert {\n",
              "      background-color: #E8F0FE;\n",
              "      border: none;\n",
              "      border-radius: 50%;\n",
              "      cursor: pointer;\n",
              "      display: none;\n",
              "      fill: #1967D2;\n",
              "      height: 32px;\n",
              "      padding: 0 0 0 0;\n",
              "      width: 32px;\n",
              "    }\n",
              "\n",
              "    .colab-df-convert:hover {\n",
              "      background-color: #E2EBFA;\n",
              "      box-shadow: 0px 1px 2px rgba(60, 64, 67, 0.3), 0px 1px 3px 1px rgba(60, 64, 67, 0.15);\n",
              "      fill: #174EA6;\n",
              "    }\n",
              "\n",
              "    [theme=dark] .colab-df-convert {\n",
              "      background-color: #3B4455;\n",
              "      fill: #D2E3FC;\n",
              "    }\n",
              "\n",
              "    [theme=dark] .colab-df-convert:hover {\n",
              "      background-color: #434B5C;\n",
              "      box-shadow: 0px 1px 3px 1px rgba(0, 0, 0, 0.15);\n",
              "      filter: drop-shadow(0px 1px 2px rgba(0, 0, 0, 0.3));\n",
              "      fill: #FFFFFF;\n",
              "    }\n",
              "  </style>\n",
              "\n",
              "      <script>\n",
              "        const buttonEl =\n",
              "          document.querySelector('#df-9996837d-46aa-4af7-a74b-45dfa8d386fc button.colab-df-convert');\n",
              "        buttonEl.style.display =\n",
              "          google.colab.kernel.accessAllowed ? 'block' : 'none';\n",
              "\n",
              "        async function convertToInteractive(key) {\n",
              "          const element = document.querySelector('#df-9996837d-46aa-4af7-a74b-45dfa8d386fc');\n",
              "          const dataTable =\n",
              "            await google.colab.kernel.invokeFunction('convertToInteractive',\n",
              "                                                     [key], {});\n",
              "          if (!dataTable) return;\n",
              "\n",
              "          const docLinkHtml = 'Like what you see? Visit the ' +\n",
              "            '<a target=\"_blank\" href=https://colab.research.google.com/notebooks/data_table.ipynb>data table notebook</a>'\n",
              "            + ' to learn more about interactive tables.';\n",
              "          element.innerHTML = '';\n",
              "          dataTable['output_type'] = 'display_data';\n",
              "          await google.colab.output.renderOutput(dataTable, element);\n",
              "          const docLink = document.createElement('div');\n",
              "          docLink.innerHTML = docLinkHtml;\n",
              "          element.appendChild(docLink);\n",
              "        }\n",
              "      </script>\n",
              "    </div>\n",
              "  </div>\n",
              "  "
            ]
          },
          "metadata": {},
          "execution_count": 71
        }
      ],
      "source": [
        "users.head() #выводим на экран  5 первых строк датасета `users`"
      ]
    },
    {
      "cell_type": "markdown",
      "metadata": {
        "id": "RqR3nFi8677K"
      },
      "source": [
        "##  Подготовка данных"
      ]
    },
    {
      "cell_type": "code",
      "execution_count": null,
      "metadata": {
        "id": "dpzHZZxB677L",
        "outputId": "4aa72a49-f97a-4604-899b-68b7daee1531",
        "colab": {
          "base_uri": "https://localhost:8080/"
        }
      },
      "outputs": [
        {
          "output_type": "stream",
          "name": "stdout",
          "text": [
            "<class 'pandas.core.frame.DataFrame'>\n",
            "RangeIndex: 500 entries, 0 to 499\n",
            "Data columns (total 8 columns):\n",
            " #   Column      Non-Null Count  Dtype         \n",
            "---  ------      --------------  -----         \n",
            " 0   user_id     500 non-null    int64         \n",
            " 1   age         500 non-null    int64         \n",
            " 2   churn_date  38 non-null     datetime64[ns]\n",
            " 3   city        500 non-null    object        \n",
            " 4   first_name  500 non-null    object        \n",
            " 5   last_name   500 non-null    object        \n",
            " 6   reg_date    500 non-null    datetime64[ns]\n",
            " 7   tariff      500 non-null    object        \n",
            "dtypes: datetime64[ns](2), int64(2), object(4)\n",
            "memory usage: 31.4+ KB\n"
          ]
        }
      ],
      "source": [
        "users['reg_date'] = pd.to_datetime(users['reg_date'],format = '%Y-%m-%d') #тип данных в колонке `reg_date` (дата подключения тарифа)приведем к формату даты.\n",
        "users['churn_date'] = pd.to_datetime(users['churn_date'],format = '%Y-%m-%d') #тип данных в колонке `churn_date` (дата прекращения пользования тарифом)приведем к формату даты.\n",
        "users.info() #выводим общую информацию о данных датасета"
      ]
    },
    {
      "cell_type": "markdown",
      "metadata": {
        "id": "0lWJjXZ5677L"
      },
      "source": [
        "Посчитаем для каждого пользователя количество сделанных звонков и израсходованных минут разговора по месяцам."
      ]
    },
    {
      "cell_type": "code",
      "execution_count": null,
      "metadata": {
        "id": "M7w7nvld677M",
        "outputId": "9df7bfcf-0beb-4044-af9b-63c547fb31c8",
        "colab": {
          "base_uri": "https://localhost:8080/",
          "height": 455
        }
      },
      "outputs": [
        {
          "output_type": "execute_result",
          "data": {
            "text/plain": [
              "               calls_qty  calls_duration\n",
              "user_id month                           \n",
              "1000    5             22           159.0\n",
              "        6             43           172.0\n",
              "        7             47           340.0\n",
              "        8             52           408.0\n",
              "        9             58           466.0\n",
              "...                  ...             ...\n",
              "1498    10            41           247.0\n",
              "1499    9              9            70.0\n",
              "        10            68           449.0\n",
              "        11            74           612.0\n",
              "        12            69           492.0\n",
              "\n",
              "[3174 rows x 2 columns]"
            ],
            "text/html": [
              "\n",
              "  <div id=\"df-62f76129-d2b0-40cb-907d-99ea0516bf33\">\n",
              "    <div class=\"colab-df-container\">\n",
              "      <div>\n",
              "<style scoped>\n",
              "    .dataframe tbody tr th:only-of-type {\n",
              "        vertical-align: middle;\n",
              "    }\n",
              "\n",
              "    .dataframe tbody tr th {\n",
              "        vertical-align: top;\n",
              "    }\n",
              "\n",
              "    .dataframe thead th {\n",
              "        text-align: right;\n",
              "    }\n",
              "</style>\n",
              "<table border=\"1\" class=\"dataframe\">\n",
              "  <thead>\n",
              "    <tr style=\"text-align: right;\">\n",
              "      <th></th>\n",
              "      <th></th>\n",
              "      <th>calls_qty</th>\n",
              "      <th>calls_duration</th>\n",
              "    </tr>\n",
              "    <tr>\n",
              "      <th>user_id</th>\n",
              "      <th>month</th>\n",
              "      <th></th>\n",
              "      <th></th>\n",
              "    </tr>\n",
              "  </thead>\n",
              "  <tbody>\n",
              "    <tr>\n",
              "      <th rowspan=\"5\" valign=\"top\">1000</th>\n",
              "      <th>5</th>\n",
              "      <td>22</td>\n",
              "      <td>159.0</td>\n",
              "    </tr>\n",
              "    <tr>\n",
              "      <th>6</th>\n",
              "      <td>43</td>\n",
              "      <td>172.0</td>\n",
              "    </tr>\n",
              "    <tr>\n",
              "      <th>7</th>\n",
              "      <td>47</td>\n",
              "      <td>340.0</td>\n",
              "    </tr>\n",
              "    <tr>\n",
              "      <th>8</th>\n",
              "      <td>52</td>\n",
              "      <td>408.0</td>\n",
              "    </tr>\n",
              "    <tr>\n",
              "      <th>9</th>\n",
              "      <td>58</td>\n",
              "      <td>466.0</td>\n",
              "    </tr>\n",
              "    <tr>\n",
              "      <th>...</th>\n",
              "      <th>...</th>\n",
              "      <td>...</td>\n",
              "      <td>...</td>\n",
              "    </tr>\n",
              "    <tr>\n",
              "      <th>1498</th>\n",
              "      <th>10</th>\n",
              "      <td>41</td>\n",
              "      <td>247.0</td>\n",
              "    </tr>\n",
              "    <tr>\n",
              "      <th rowspan=\"4\" valign=\"top\">1499</th>\n",
              "      <th>9</th>\n",
              "      <td>9</td>\n",
              "      <td>70.0</td>\n",
              "    </tr>\n",
              "    <tr>\n",
              "      <th>10</th>\n",
              "      <td>68</td>\n",
              "      <td>449.0</td>\n",
              "    </tr>\n",
              "    <tr>\n",
              "      <th>11</th>\n",
              "      <td>74</td>\n",
              "      <td>612.0</td>\n",
              "    </tr>\n",
              "    <tr>\n",
              "      <th>12</th>\n",
              "      <td>69</td>\n",
              "      <td>492.0</td>\n",
              "    </tr>\n",
              "  </tbody>\n",
              "</table>\n",
              "<p>3174 rows × 2 columns</p>\n",
              "</div>\n",
              "      <button class=\"colab-df-convert\" onclick=\"convertToInteractive('df-62f76129-d2b0-40cb-907d-99ea0516bf33')\"\n",
              "              title=\"Convert this dataframe to an interactive table.\"\n",
              "              style=\"display:none;\">\n",
              "        \n",
              "  <svg xmlns=\"http://www.w3.org/2000/svg\" height=\"24px\"viewBox=\"0 0 24 24\"\n",
              "       width=\"24px\">\n",
              "    <path d=\"M0 0h24v24H0V0z\" fill=\"none\"/>\n",
              "    <path d=\"M18.56 5.44l.94 2.06.94-2.06 2.06-.94-2.06-.94-.94-2.06-.94 2.06-2.06.94zm-11 1L8.5 8.5l.94-2.06 2.06-.94-2.06-.94L8.5 2.5l-.94 2.06-2.06.94zm10 10l.94 2.06.94-2.06 2.06-.94-2.06-.94-.94-2.06-.94 2.06-2.06.94z\"/><path d=\"M17.41 7.96l-1.37-1.37c-.4-.4-.92-.59-1.43-.59-.52 0-1.04.2-1.43.59L10.3 9.45l-7.72 7.72c-.78.78-.78 2.05 0 2.83L4 21.41c.39.39.9.59 1.41.59.51 0 1.02-.2 1.41-.59l7.78-7.78 2.81-2.81c.8-.78.8-2.07 0-2.86zM5.41 20L4 18.59l7.72-7.72 1.47 1.35L5.41 20z\"/>\n",
              "  </svg>\n",
              "      </button>\n",
              "      \n",
              "  <style>\n",
              "    .colab-df-container {\n",
              "      display:flex;\n",
              "      flex-wrap:wrap;\n",
              "      gap: 12px;\n",
              "    }\n",
              "\n",
              "    .colab-df-convert {\n",
              "      background-color: #E8F0FE;\n",
              "      border: none;\n",
              "      border-radius: 50%;\n",
              "      cursor: pointer;\n",
              "      display: none;\n",
              "      fill: #1967D2;\n",
              "      height: 32px;\n",
              "      padding: 0 0 0 0;\n",
              "      width: 32px;\n",
              "    }\n",
              "\n",
              "    .colab-df-convert:hover {\n",
              "      background-color: #E2EBFA;\n",
              "      box-shadow: 0px 1px 2px rgba(60, 64, 67, 0.3), 0px 1px 3px 1px rgba(60, 64, 67, 0.15);\n",
              "      fill: #174EA6;\n",
              "    }\n",
              "\n",
              "    [theme=dark] .colab-df-convert {\n",
              "      background-color: #3B4455;\n",
              "      fill: #D2E3FC;\n",
              "    }\n",
              "\n",
              "    [theme=dark] .colab-df-convert:hover {\n",
              "      background-color: #434B5C;\n",
              "      box-shadow: 0px 1px 3px 1px rgba(0, 0, 0, 0.15);\n",
              "      filter: drop-shadow(0px 1px 2px rgba(0, 0, 0, 0.3));\n",
              "      fill: #FFFFFF;\n",
              "    }\n",
              "  </style>\n",
              "\n",
              "      <script>\n",
              "        const buttonEl =\n",
              "          document.querySelector('#df-62f76129-d2b0-40cb-907d-99ea0516bf33 button.colab-df-convert');\n",
              "        buttonEl.style.display =\n",
              "          google.colab.kernel.accessAllowed ? 'block' : 'none';\n",
              "\n",
              "        async function convertToInteractive(key) {\n",
              "          const element = document.querySelector('#df-62f76129-d2b0-40cb-907d-99ea0516bf33');\n",
              "          const dataTable =\n",
              "            await google.colab.kernel.invokeFunction('convertToInteractive',\n",
              "                                                     [key], {});\n",
              "          if (!dataTable) return;\n",
              "\n",
              "          const docLinkHtml = 'Like what you see? Visit the ' +\n",
              "            '<a target=\"_blank\" href=https://colab.research.google.com/notebooks/data_table.ipynb>data table notebook</a>'\n",
              "            + ' to learn more about interactive tables.';\n",
              "          element.innerHTML = '';\n",
              "          dataTable['output_type'] = 'display_data';\n",
              "          await google.colab.output.renderOutput(dataTable, element);\n",
              "          const docLink = document.createElement('div');\n",
              "          docLink.innerHTML = docLinkHtml;\n",
              "          element.appendChild(docLink);\n",
              "        }\n",
              "      </script>\n",
              "    </div>\n",
              "  </div>\n",
              "  "
            ]
          },
          "metadata": {},
          "execution_count": 73
        }
      ],
      "source": [
        "calls['month'] = calls['call_date'].dt.month #добавим колонку с номером месяца, в котором был сделан звонок\n",
        "calls_new = calls.groupby(['user_id','month'])['duration'].agg(['count','sum']) #группировка датасета по `user_id` и месяцу и добавление колонок с количеством и общей длительностью звонков, сделанных за месяц\n",
        "calls_new.columns = ['calls_qty','calls_duration']\n",
        "calls_new\n",
        "#type(calls_new)"
      ]
    },
    {
      "cell_type": "markdown",
      "metadata": {
        "id": "zQ8KBo9O677O"
      },
      "source": [
        "Посчитаем для каждого пользователя количество отправленных сообщений по месяцам."
      ]
    },
    {
      "cell_type": "code",
      "execution_count": null,
      "metadata": {
        "id": "uJovKjuw677O",
        "outputId": "0e674239-5813-4322-f41f-2f8793aead80",
        "colab": {
          "base_uri": "https://localhost:8080/",
          "height": 455
        }
      },
      "outputs": [
        {
          "output_type": "execute_result",
          "data": {
            "text/plain": [
              "               messages_qty\n",
              "user_id month              \n",
              "1000    5                22\n",
              "        6                60\n",
              "        7                75\n",
              "        8                81\n",
              "        9                57\n",
              "...                     ...\n",
              "1498    10               42\n",
              "1499    9                11\n",
              "        10               48\n",
              "        11               59\n",
              "        12               66\n",
              "\n",
              "[2717 rows x 1 columns]"
            ],
            "text/html": [
              "\n",
              "  <div id=\"df-285b5863-9c69-4e10-8fd4-1ea58ad59d82\">\n",
              "    <div class=\"colab-df-container\">\n",
              "      <div>\n",
              "<style scoped>\n",
              "    .dataframe tbody tr th:only-of-type {\n",
              "        vertical-align: middle;\n",
              "    }\n",
              "\n",
              "    .dataframe tbody tr th {\n",
              "        vertical-align: top;\n",
              "    }\n",
              "\n",
              "    .dataframe thead th {\n",
              "        text-align: right;\n",
              "    }\n",
              "</style>\n",
              "<table border=\"1\" class=\"dataframe\">\n",
              "  <thead>\n",
              "    <tr style=\"text-align: right;\">\n",
              "      <th></th>\n",
              "      <th></th>\n",
              "      <th>messages_qty</th>\n",
              "    </tr>\n",
              "    <tr>\n",
              "      <th>user_id</th>\n",
              "      <th>month</th>\n",
              "      <th></th>\n",
              "    </tr>\n",
              "  </thead>\n",
              "  <tbody>\n",
              "    <tr>\n",
              "      <th rowspan=\"5\" valign=\"top\">1000</th>\n",
              "      <th>5</th>\n",
              "      <td>22</td>\n",
              "    </tr>\n",
              "    <tr>\n",
              "      <th>6</th>\n",
              "      <td>60</td>\n",
              "    </tr>\n",
              "    <tr>\n",
              "      <th>7</th>\n",
              "      <td>75</td>\n",
              "    </tr>\n",
              "    <tr>\n",
              "      <th>8</th>\n",
              "      <td>81</td>\n",
              "    </tr>\n",
              "    <tr>\n",
              "      <th>9</th>\n",
              "      <td>57</td>\n",
              "    </tr>\n",
              "    <tr>\n",
              "      <th>...</th>\n",
              "      <th>...</th>\n",
              "      <td>...</td>\n",
              "    </tr>\n",
              "    <tr>\n",
              "      <th>1498</th>\n",
              "      <th>10</th>\n",
              "      <td>42</td>\n",
              "    </tr>\n",
              "    <tr>\n",
              "      <th rowspan=\"4\" valign=\"top\">1499</th>\n",
              "      <th>9</th>\n",
              "      <td>11</td>\n",
              "    </tr>\n",
              "    <tr>\n",
              "      <th>10</th>\n",
              "      <td>48</td>\n",
              "    </tr>\n",
              "    <tr>\n",
              "      <th>11</th>\n",
              "      <td>59</td>\n",
              "    </tr>\n",
              "    <tr>\n",
              "      <th>12</th>\n",
              "      <td>66</td>\n",
              "    </tr>\n",
              "  </tbody>\n",
              "</table>\n",
              "<p>2717 rows × 1 columns</p>\n",
              "</div>\n",
              "      <button class=\"colab-df-convert\" onclick=\"convertToInteractive('df-285b5863-9c69-4e10-8fd4-1ea58ad59d82')\"\n",
              "              title=\"Convert this dataframe to an interactive table.\"\n",
              "              style=\"display:none;\">\n",
              "        \n",
              "  <svg xmlns=\"http://www.w3.org/2000/svg\" height=\"24px\"viewBox=\"0 0 24 24\"\n",
              "       width=\"24px\">\n",
              "    <path d=\"M0 0h24v24H0V0z\" fill=\"none\"/>\n",
              "    <path d=\"M18.56 5.44l.94 2.06.94-2.06 2.06-.94-2.06-.94-.94-2.06-.94 2.06-2.06.94zm-11 1L8.5 8.5l.94-2.06 2.06-.94-2.06-.94L8.5 2.5l-.94 2.06-2.06.94zm10 10l.94 2.06.94-2.06 2.06-.94-2.06-.94-.94-2.06-.94 2.06-2.06.94z\"/><path d=\"M17.41 7.96l-1.37-1.37c-.4-.4-.92-.59-1.43-.59-.52 0-1.04.2-1.43.59L10.3 9.45l-7.72 7.72c-.78.78-.78 2.05 0 2.83L4 21.41c.39.39.9.59 1.41.59.51 0 1.02-.2 1.41-.59l7.78-7.78 2.81-2.81c.8-.78.8-2.07 0-2.86zM5.41 20L4 18.59l7.72-7.72 1.47 1.35L5.41 20z\"/>\n",
              "  </svg>\n",
              "      </button>\n",
              "      \n",
              "  <style>\n",
              "    .colab-df-container {\n",
              "      display:flex;\n",
              "      flex-wrap:wrap;\n",
              "      gap: 12px;\n",
              "    }\n",
              "\n",
              "    .colab-df-convert {\n",
              "      background-color: #E8F0FE;\n",
              "      border: none;\n",
              "      border-radius: 50%;\n",
              "      cursor: pointer;\n",
              "      display: none;\n",
              "      fill: #1967D2;\n",
              "      height: 32px;\n",
              "      padding: 0 0 0 0;\n",
              "      width: 32px;\n",
              "    }\n",
              "\n",
              "    .colab-df-convert:hover {\n",
              "      background-color: #E2EBFA;\n",
              "      box-shadow: 0px 1px 2px rgba(60, 64, 67, 0.3), 0px 1px 3px 1px rgba(60, 64, 67, 0.15);\n",
              "      fill: #174EA6;\n",
              "    }\n",
              "\n",
              "    [theme=dark] .colab-df-convert {\n",
              "      background-color: #3B4455;\n",
              "      fill: #D2E3FC;\n",
              "    }\n",
              "\n",
              "    [theme=dark] .colab-df-convert:hover {\n",
              "      background-color: #434B5C;\n",
              "      box-shadow: 0px 1px 3px 1px rgba(0, 0, 0, 0.15);\n",
              "      filter: drop-shadow(0px 1px 2px rgba(0, 0, 0, 0.3));\n",
              "      fill: #FFFFFF;\n",
              "    }\n",
              "  </style>\n",
              "\n",
              "      <script>\n",
              "        const buttonEl =\n",
              "          document.querySelector('#df-285b5863-9c69-4e10-8fd4-1ea58ad59d82 button.colab-df-convert');\n",
              "        buttonEl.style.display =\n",
              "          google.colab.kernel.accessAllowed ? 'block' : 'none';\n",
              "\n",
              "        async function convertToInteractive(key) {\n",
              "          const element = document.querySelector('#df-285b5863-9c69-4e10-8fd4-1ea58ad59d82');\n",
              "          const dataTable =\n",
              "            await google.colab.kernel.invokeFunction('convertToInteractive',\n",
              "                                                     [key], {});\n",
              "          if (!dataTable) return;\n",
              "\n",
              "          const docLinkHtml = 'Like what you see? Visit the ' +\n",
              "            '<a target=\"_blank\" href=https://colab.research.google.com/notebooks/data_table.ipynb>data table notebook</a>'\n",
              "            + ' to learn more about interactive tables.';\n",
              "          element.innerHTML = '';\n",
              "          dataTable['output_type'] = 'display_data';\n",
              "          await google.colab.output.renderOutput(dataTable, element);\n",
              "          const docLink = document.createElement('div');\n",
              "          docLink.innerHTML = docLinkHtml;\n",
              "          element.appendChild(docLink);\n",
              "        }\n",
              "      </script>\n",
              "    </div>\n",
              "  </div>\n",
              "  "
            ]
          },
          "metadata": {},
          "execution_count": 74
        }
      ],
      "source": [
        "messages['month'] = messages['message_date'].dt.month #добавим колонку с номером месяца, в котором было отправлено сообщение.\n",
        "messages_new = messages.groupby(['user_id','month'])['id'].agg(['count']) #группировка датасета по `user_id` и месяцу и добавление колонки с суммарным количеством сообщений, отправленных за месяц\n",
        "messages_new.columns = ['messages_qty']\n",
        "messages_new"
      ]
    },
    {
      "cell_type": "markdown",
      "metadata": {
        "id": "q7ePkUgu677O"
      },
      "source": [
        "Посчитаем для каждого пользователя объем израсходованного интернет-трафика по месяцам."
      ]
    },
    {
      "cell_type": "code",
      "execution_count": null,
      "metadata": {
        "id": "LDfT_J18677P",
        "outputId": "e9755e83-742f-4b75-f086-ca3e92c60bed",
        "colab": {
          "base_uri": "https://localhost:8080/",
          "height": 455
        }
      },
      "outputs": [
        {
          "output_type": "execute_result",
          "data": {
            "text/plain": [
              "               traffic_used\n",
              "user_id month              \n",
              "1000    5           2253.49\n",
              "        6          23233.77\n",
              "        7          14003.64\n",
              "        8          14055.93\n",
              "        9          14568.91\n",
              "...                     ...\n",
              "1498    10         20579.36\n",
              "1499    9           1845.75\n",
              "        10         17788.51\n",
              "        11         17963.31\n",
              "        12         13055.58\n",
              "\n",
              "[3203 rows x 1 columns]"
            ],
            "text/html": [
              "\n",
              "  <div id=\"df-ea8ece5f-2751-4cc4-a868-8d49a52af1f3\">\n",
              "    <div class=\"colab-df-container\">\n",
              "      <div>\n",
              "<style scoped>\n",
              "    .dataframe tbody tr th:only-of-type {\n",
              "        vertical-align: middle;\n",
              "    }\n",
              "\n",
              "    .dataframe tbody tr th {\n",
              "        vertical-align: top;\n",
              "    }\n",
              "\n",
              "    .dataframe thead th {\n",
              "        text-align: right;\n",
              "    }\n",
              "</style>\n",
              "<table border=\"1\" class=\"dataframe\">\n",
              "  <thead>\n",
              "    <tr style=\"text-align: right;\">\n",
              "      <th></th>\n",
              "      <th></th>\n",
              "      <th>traffic_used</th>\n",
              "    </tr>\n",
              "    <tr>\n",
              "      <th>user_id</th>\n",
              "      <th>month</th>\n",
              "      <th></th>\n",
              "    </tr>\n",
              "  </thead>\n",
              "  <tbody>\n",
              "    <tr>\n",
              "      <th rowspan=\"5\" valign=\"top\">1000</th>\n",
              "      <th>5</th>\n",
              "      <td>2253.49</td>\n",
              "    </tr>\n",
              "    <tr>\n",
              "      <th>6</th>\n",
              "      <td>23233.77</td>\n",
              "    </tr>\n",
              "    <tr>\n",
              "      <th>7</th>\n",
              "      <td>14003.64</td>\n",
              "    </tr>\n",
              "    <tr>\n",
              "      <th>8</th>\n",
              "      <td>14055.93</td>\n",
              "    </tr>\n",
              "    <tr>\n",
              "      <th>9</th>\n",
              "      <td>14568.91</td>\n",
              "    </tr>\n",
              "    <tr>\n",
              "      <th>...</th>\n",
              "      <th>...</th>\n",
              "      <td>...</td>\n",
              "    </tr>\n",
              "    <tr>\n",
              "      <th>1498</th>\n",
              "      <th>10</th>\n",
              "      <td>20579.36</td>\n",
              "    </tr>\n",
              "    <tr>\n",
              "      <th rowspan=\"4\" valign=\"top\">1499</th>\n",
              "      <th>9</th>\n",
              "      <td>1845.75</td>\n",
              "    </tr>\n",
              "    <tr>\n",
              "      <th>10</th>\n",
              "      <td>17788.51</td>\n",
              "    </tr>\n",
              "    <tr>\n",
              "      <th>11</th>\n",
              "      <td>17963.31</td>\n",
              "    </tr>\n",
              "    <tr>\n",
              "      <th>12</th>\n",
              "      <td>13055.58</td>\n",
              "    </tr>\n",
              "  </tbody>\n",
              "</table>\n",
              "<p>3203 rows × 1 columns</p>\n",
              "</div>\n",
              "      <button class=\"colab-df-convert\" onclick=\"convertToInteractive('df-ea8ece5f-2751-4cc4-a868-8d49a52af1f3')\"\n",
              "              title=\"Convert this dataframe to an interactive table.\"\n",
              "              style=\"display:none;\">\n",
              "        \n",
              "  <svg xmlns=\"http://www.w3.org/2000/svg\" height=\"24px\"viewBox=\"0 0 24 24\"\n",
              "       width=\"24px\">\n",
              "    <path d=\"M0 0h24v24H0V0z\" fill=\"none\"/>\n",
              "    <path d=\"M18.56 5.44l.94 2.06.94-2.06 2.06-.94-2.06-.94-.94-2.06-.94 2.06-2.06.94zm-11 1L8.5 8.5l.94-2.06 2.06-.94-2.06-.94L8.5 2.5l-.94 2.06-2.06.94zm10 10l.94 2.06.94-2.06 2.06-.94-2.06-.94-.94-2.06-.94 2.06-2.06.94z\"/><path d=\"M17.41 7.96l-1.37-1.37c-.4-.4-.92-.59-1.43-.59-.52 0-1.04.2-1.43.59L10.3 9.45l-7.72 7.72c-.78.78-.78 2.05 0 2.83L4 21.41c.39.39.9.59 1.41.59.51 0 1.02-.2 1.41-.59l7.78-7.78 2.81-2.81c.8-.78.8-2.07 0-2.86zM5.41 20L4 18.59l7.72-7.72 1.47 1.35L5.41 20z\"/>\n",
              "  </svg>\n",
              "      </button>\n",
              "      \n",
              "  <style>\n",
              "    .colab-df-container {\n",
              "      display:flex;\n",
              "      flex-wrap:wrap;\n",
              "      gap: 12px;\n",
              "    }\n",
              "\n",
              "    .colab-df-convert {\n",
              "      background-color: #E8F0FE;\n",
              "      border: none;\n",
              "      border-radius: 50%;\n",
              "      cursor: pointer;\n",
              "      display: none;\n",
              "      fill: #1967D2;\n",
              "      height: 32px;\n",
              "      padding: 0 0 0 0;\n",
              "      width: 32px;\n",
              "    }\n",
              "\n",
              "    .colab-df-convert:hover {\n",
              "      background-color: #E2EBFA;\n",
              "      box-shadow: 0px 1px 2px rgba(60, 64, 67, 0.3), 0px 1px 3px 1px rgba(60, 64, 67, 0.15);\n",
              "      fill: #174EA6;\n",
              "    }\n",
              "\n",
              "    [theme=dark] .colab-df-convert {\n",
              "      background-color: #3B4455;\n",
              "      fill: #D2E3FC;\n",
              "    }\n",
              "\n",
              "    [theme=dark] .colab-df-convert:hover {\n",
              "      background-color: #434B5C;\n",
              "      box-shadow: 0px 1px 3px 1px rgba(0, 0, 0, 0.15);\n",
              "      filter: drop-shadow(0px 1px 2px rgba(0, 0, 0, 0.3));\n",
              "      fill: #FFFFFF;\n",
              "    }\n",
              "  </style>\n",
              "\n",
              "      <script>\n",
              "        const buttonEl =\n",
              "          document.querySelector('#df-ea8ece5f-2751-4cc4-a868-8d49a52af1f3 button.colab-df-convert');\n",
              "        buttonEl.style.display =\n",
              "          google.colab.kernel.accessAllowed ? 'block' : 'none';\n",
              "\n",
              "        async function convertToInteractive(key) {\n",
              "          const element = document.querySelector('#df-ea8ece5f-2751-4cc4-a868-8d49a52af1f3');\n",
              "          const dataTable =\n",
              "            await google.colab.kernel.invokeFunction('convertToInteractive',\n",
              "                                                     [key], {});\n",
              "          if (!dataTable) return;\n",
              "\n",
              "          const docLinkHtml = 'Like what you see? Visit the ' +\n",
              "            '<a target=\"_blank\" href=https://colab.research.google.com/notebooks/data_table.ipynb>data table notebook</a>'\n",
              "            + ' to learn more about interactive tables.';\n",
              "          element.innerHTML = '';\n",
              "          dataTable['output_type'] = 'display_data';\n",
              "          await google.colab.output.renderOutput(dataTable, element);\n",
              "          const docLink = document.createElement('div');\n",
              "          docLink.innerHTML = docLinkHtml;\n",
              "          element.appendChild(docLink);\n",
              "        }\n",
              "      </script>\n",
              "    </div>\n",
              "  </div>\n",
              "  "
            ]
          },
          "metadata": {},
          "execution_count": 75
        }
      ],
      "source": [
        "internet['month'] = internet['session_date'].dt.month #добавление столбца с месяцем использования траффика\n",
        "internet_new = internet.groupby(['user_id','month'])['mb_used'].agg(['sum']) #группировка датасета по `user_id` и месяцу и добавление колонки с суммарным траффиком, использованным за месяц\n",
        "internet_new.columns = ['traffic_used'] #переименовываем столбец с данными\n",
        "internet_new"
      ]
    },
    {
      "cell_type": "code",
      "execution_count": null,
      "metadata": {
        "id": "JOaDnbMl677P",
        "outputId": "0aad0e8e-c7e4-48ee-aa9d-8f2ec3244d2d",
        "colab": {
          "base_uri": "https://localhost:8080/",
          "height": 206
        }
      },
      "outputs": [
        {
          "output_type": "execute_result",
          "data": {
            "text/plain": [
              "   user_id  month  calls_qty  calls_duration  messages_qty  traffic_used  \\\n",
              "0     1000      5       22.0           159.0          22.0       2253.49   \n",
              "1     1000      6       43.0           172.0          60.0      23233.77   \n",
              "2     1000      7       47.0           340.0          75.0      14003.64   \n",
              "3     1000      8       52.0           408.0          81.0      14055.93   \n",
              "4     1000      9       58.0           466.0          57.0      14568.91   \n",
              "\n",
              "  tariff  \n",
              "0  ultra  \n",
              "1  ultra  \n",
              "2  ultra  \n",
              "3  ultra  \n",
              "4  ultra  "
            ],
            "text/html": [
              "\n",
              "  <div id=\"df-5deb5727-7808-437b-9316-83abbf75597d\">\n",
              "    <div class=\"colab-df-container\">\n",
              "      <div>\n",
              "<style scoped>\n",
              "    .dataframe tbody tr th:only-of-type {\n",
              "        vertical-align: middle;\n",
              "    }\n",
              "\n",
              "    .dataframe tbody tr th {\n",
              "        vertical-align: top;\n",
              "    }\n",
              "\n",
              "    .dataframe thead th {\n",
              "        text-align: right;\n",
              "    }\n",
              "</style>\n",
              "<table border=\"1\" class=\"dataframe\">\n",
              "  <thead>\n",
              "    <tr style=\"text-align: right;\">\n",
              "      <th></th>\n",
              "      <th>user_id</th>\n",
              "      <th>month</th>\n",
              "      <th>calls_qty</th>\n",
              "      <th>calls_duration</th>\n",
              "      <th>messages_qty</th>\n",
              "      <th>traffic_used</th>\n",
              "      <th>tariff</th>\n",
              "    </tr>\n",
              "  </thead>\n",
              "  <tbody>\n",
              "    <tr>\n",
              "      <th>0</th>\n",
              "      <td>1000</td>\n",
              "      <td>5</td>\n",
              "      <td>22.0</td>\n",
              "      <td>159.0</td>\n",
              "      <td>22.0</td>\n",
              "      <td>2253.49</td>\n",
              "      <td>ultra</td>\n",
              "    </tr>\n",
              "    <tr>\n",
              "      <th>1</th>\n",
              "      <td>1000</td>\n",
              "      <td>6</td>\n",
              "      <td>43.0</td>\n",
              "      <td>172.0</td>\n",
              "      <td>60.0</td>\n",
              "      <td>23233.77</td>\n",
              "      <td>ultra</td>\n",
              "    </tr>\n",
              "    <tr>\n",
              "      <th>2</th>\n",
              "      <td>1000</td>\n",
              "      <td>7</td>\n",
              "      <td>47.0</td>\n",
              "      <td>340.0</td>\n",
              "      <td>75.0</td>\n",
              "      <td>14003.64</td>\n",
              "      <td>ultra</td>\n",
              "    </tr>\n",
              "    <tr>\n",
              "      <th>3</th>\n",
              "      <td>1000</td>\n",
              "      <td>8</td>\n",
              "      <td>52.0</td>\n",
              "      <td>408.0</td>\n",
              "      <td>81.0</td>\n",
              "      <td>14055.93</td>\n",
              "      <td>ultra</td>\n",
              "    </tr>\n",
              "    <tr>\n",
              "      <th>4</th>\n",
              "      <td>1000</td>\n",
              "      <td>9</td>\n",
              "      <td>58.0</td>\n",
              "      <td>466.0</td>\n",
              "      <td>57.0</td>\n",
              "      <td>14568.91</td>\n",
              "      <td>ultra</td>\n",
              "    </tr>\n",
              "  </tbody>\n",
              "</table>\n",
              "</div>\n",
              "      <button class=\"colab-df-convert\" onclick=\"convertToInteractive('df-5deb5727-7808-437b-9316-83abbf75597d')\"\n",
              "              title=\"Convert this dataframe to an interactive table.\"\n",
              "              style=\"display:none;\">\n",
              "        \n",
              "  <svg xmlns=\"http://www.w3.org/2000/svg\" height=\"24px\"viewBox=\"0 0 24 24\"\n",
              "       width=\"24px\">\n",
              "    <path d=\"M0 0h24v24H0V0z\" fill=\"none\"/>\n",
              "    <path d=\"M18.56 5.44l.94 2.06.94-2.06 2.06-.94-2.06-.94-.94-2.06-.94 2.06-2.06.94zm-11 1L8.5 8.5l.94-2.06 2.06-.94-2.06-.94L8.5 2.5l-.94 2.06-2.06.94zm10 10l.94 2.06.94-2.06 2.06-.94-2.06-.94-.94-2.06-.94 2.06-2.06.94z\"/><path d=\"M17.41 7.96l-1.37-1.37c-.4-.4-.92-.59-1.43-.59-.52 0-1.04.2-1.43.59L10.3 9.45l-7.72 7.72c-.78.78-.78 2.05 0 2.83L4 21.41c.39.39.9.59 1.41.59.51 0 1.02-.2 1.41-.59l7.78-7.78 2.81-2.81c.8-.78.8-2.07 0-2.86zM5.41 20L4 18.59l7.72-7.72 1.47 1.35L5.41 20z\"/>\n",
              "  </svg>\n",
              "      </button>\n",
              "      \n",
              "  <style>\n",
              "    .colab-df-container {\n",
              "      display:flex;\n",
              "      flex-wrap:wrap;\n",
              "      gap: 12px;\n",
              "    }\n",
              "\n",
              "    .colab-df-convert {\n",
              "      background-color: #E8F0FE;\n",
              "      border: none;\n",
              "      border-radius: 50%;\n",
              "      cursor: pointer;\n",
              "      display: none;\n",
              "      fill: #1967D2;\n",
              "      height: 32px;\n",
              "      padding: 0 0 0 0;\n",
              "      width: 32px;\n",
              "    }\n",
              "\n",
              "    .colab-df-convert:hover {\n",
              "      background-color: #E2EBFA;\n",
              "      box-shadow: 0px 1px 2px rgba(60, 64, 67, 0.3), 0px 1px 3px 1px rgba(60, 64, 67, 0.15);\n",
              "      fill: #174EA6;\n",
              "    }\n",
              "\n",
              "    [theme=dark] .colab-df-convert {\n",
              "      background-color: #3B4455;\n",
              "      fill: #D2E3FC;\n",
              "    }\n",
              "\n",
              "    [theme=dark] .colab-df-convert:hover {\n",
              "      background-color: #434B5C;\n",
              "      box-shadow: 0px 1px 3px 1px rgba(0, 0, 0, 0.15);\n",
              "      filter: drop-shadow(0px 1px 2px rgba(0, 0, 0, 0.3));\n",
              "      fill: #FFFFFF;\n",
              "    }\n",
              "  </style>\n",
              "\n",
              "      <script>\n",
              "        const buttonEl =\n",
              "          document.querySelector('#df-5deb5727-7808-437b-9316-83abbf75597d button.colab-df-convert');\n",
              "        buttonEl.style.display =\n",
              "          google.colab.kernel.accessAllowed ? 'block' : 'none';\n",
              "\n",
              "        async function convertToInteractive(key) {\n",
              "          const element = document.querySelector('#df-5deb5727-7808-437b-9316-83abbf75597d');\n",
              "          const dataTable =\n",
              "            await google.colab.kernel.invokeFunction('convertToInteractive',\n",
              "                                                     [key], {});\n",
              "          if (!dataTable) return;\n",
              "\n",
              "          const docLinkHtml = 'Like what you see? Visit the ' +\n",
              "            '<a target=\"_blank\" href=https://colab.research.google.com/notebooks/data_table.ipynb>data table notebook</a>'\n",
              "            + ' to learn more about interactive tables.';\n",
              "          element.innerHTML = '';\n",
              "          dataTable['output_type'] = 'display_data';\n",
              "          await google.colab.output.renderOutput(dataTable, element);\n",
              "          const docLink = document.createElement('div');\n",
              "          docLink.innerHTML = docLinkHtml;\n",
              "          element.appendChild(docLink);\n",
              "        }\n",
              "      </script>\n",
              "    </div>\n",
              "  </div>\n",
              "  "
            ]
          },
          "metadata": {},
          "execution_count": 76
        }
      ],
      "source": [
        "gd = calls_new.join([messages_new,internet_new],how='outer').reset_index() #объединение датасетов `calls_new`, `messages_new` и `internet_new` в один датасет\n",
        "gd['tariff'] = gd.merge(users, on='user_id')['tariff'] #добавим в датасет столбец с типом используемого клиентом тарифа\n",
        "gd.head()"
      ]
    },
    {
      "cell_type": "code",
      "execution_count": null,
      "metadata": {
        "id": "RtvcBaLj677Q",
        "outputId": "0a72abfa-378a-4ed5-f81f-ca5ef11f48d0",
        "colab": {
          "base_uri": "https://localhost:8080/"
        }
      },
      "outputs": [
        {
          "output_type": "stream",
          "name": "stdout",
          "text": [
            "<class 'pandas.core.frame.DataFrame'>\n",
            "RangeIndex: 3214 entries, 0 to 3213\n",
            "Data columns (total 7 columns):\n",
            " #   Column          Non-Null Count  Dtype  \n",
            "---  ------          --------------  -----  \n",
            " 0   user_id         3214 non-null   int64  \n",
            " 1   month           3214 non-null   int64  \n",
            " 2   calls_qty       3174 non-null   float64\n",
            " 3   calls_duration  3174 non-null   float64\n",
            " 4   messages_qty    2717 non-null   float64\n",
            " 5   traffic_used    3203 non-null   float64\n",
            " 6   tariff          3214 non-null   object \n",
            "dtypes: float64(4), int64(2), object(1)\n",
            "memory usage: 175.9+ KB\n"
          ]
        }
      ],
      "source": [
        "# check \n",
        "gd.info()"
      ]
    },
    {
      "cell_type": "code",
      "execution_count": null,
      "metadata": {
        "id": "bP8uOgiB677Q",
        "outputId": "6ed5e748-aac0-4534-b1e2-523f3c648b59",
        "colab": {
          "base_uri": "https://localhost:8080/",
          "height": 394
        }
      },
      "outputs": [
        {
          "output_type": "execute_result",
          "data": {
            "text/plain": [
              "      user_id  month  calls_qty  calls_duration  messages_qty  traffic_used  \\\n",
              "1722     1273      5       24.0           220.0          21.0           NaN   \n",
              "1723     1273      6       40.0           230.0          38.0           NaN   \n",
              "1724     1273      7       44.0           253.0          37.0           NaN   \n",
              "1725     1273      8       53.0           253.0          41.0           NaN   \n",
              "1726     1273      9       33.0           223.0          32.0           NaN   \n",
              "1727     1273     10       40.0           315.0          35.0           NaN   \n",
              "1728     1273     11       45.0           272.0          29.0           NaN   \n",
              "1729     1273     12       41.0           260.0          39.0           NaN   \n",
              "2387     1377      2       23.0           179.0           2.0           NaN   \n",
              "2500     1392      2        2.0            13.0           3.0           NaN   \n",
              "2858     1446      8        4.0            50.0           1.0           NaN   \n",
              "\n",
              "     tariff  \n",
              "1722  ultra  \n",
              "1723  ultra  \n",
              "1724  ultra  \n",
              "1725  ultra  \n",
              "1726  ultra  \n",
              "1727  ultra  \n",
              "1728  ultra  \n",
              "1729  ultra  \n",
              "2387  ultra  \n",
              "2500  ultra  \n",
              "2858  smart  "
            ],
            "text/html": [
              "\n",
              "  <div id=\"df-90d47e63-f685-4652-bb79-6c1891b9a721\">\n",
              "    <div class=\"colab-df-container\">\n",
              "      <div>\n",
              "<style scoped>\n",
              "    .dataframe tbody tr th:only-of-type {\n",
              "        vertical-align: middle;\n",
              "    }\n",
              "\n",
              "    .dataframe tbody tr th {\n",
              "        vertical-align: top;\n",
              "    }\n",
              "\n",
              "    .dataframe thead th {\n",
              "        text-align: right;\n",
              "    }\n",
              "</style>\n",
              "<table border=\"1\" class=\"dataframe\">\n",
              "  <thead>\n",
              "    <tr style=\"text-align: right;\">\n",
              "      <th></th>\n",
              "      <th>user_id</th>\n",
              "      <th>month</th>\n",
              "      <th>calls_qty</th>\n",
              "      <th>calls_duration</th>\n",
              "      <th>messages_qty</th>\n",
              "      <th>traffic_used</th>\n",
              "      <th>tariff</th>\n",
              "    </tr>\n",
              "  </thead>\n",
              "  <tbody>\n",
              "    <tr>\n",
              "      <th>1722</th>\n",
              "      <td>1273</td>\n",
              "      <td>5</td>\n",
              "      <td>24.0</td>\n",
              "      <td>220.0</td>\n",
              "      <td>21.0</td>\n",
              "      <td>NaN</td>\n",
              "      <td>ultra</td>\n",
              "    </tr>\n",
              "    <tr>\n",
              "      <th>1723</th>\n",
              "      <td>1273</td>\n",
              "      <td>6</td>\n",
              "      <td>40.0</td>\n",
              "      <td>230.0</td>\n",
              "      <td>38.0</td>\n",
              "      <td>NaN</td>\n",
              "      <td>ultra</td>\n",
              "    </tr>\n",
              "    <tr>\n",
              "      <th>1724</th>\n",
              "      <td>1273</td>\n",
              "      <td>7</td>\n",
              "      <td>44.0</td>\n",
              "      <td>253.0</td>\n",
              "      <td>37.0</td>\n",
              "      <td>NaN</td>\n",
              "      <td>ultra</td>\n",
              "    </tr>\n",
              "    <tr>\n",
              "      <th>1725</th>\n",
              "      <td>1273</td>\n",
              "      <td>8</td>\n",
              "      <td>53.0</td>\n",
              "      <td>253.0</td>\n",
              "      <td>41.0</td>\n",
              "      <td>NaN</td>\n",
              "      <td>ultra</td>\n",
              "    </tr>\n",
              "    <tr>\n",
              "      <th>1726</th>\n",
              "      <td>1273</td>\n",
              "      <td>9</td>\n",
              "      <td>33.0</td>\n",
              "      <td>223.0</td>\n",
              "      <td>32.0</td>\n",
              "      <td>NaN</td>\n",
              "      <td>ultra</td>\n",
              "    </tr>\n",
              "    <tr>\n",
              "      <th>1727</th>\n",
              "      <td>1273</td>\n",
              "      <td>10</td>\n",
              "      <td>40.0</td>\n",
              "      <td>315.0</td>\n",
              "      <td>35.0</td>\n",
              "      <td>NaN</td>\n",
              "      <td>ultra</td>\n",
              "    </tr>\n",
              "    <tr>\n",
              "      <th>1728</th>\n",
              "      <td>1273</td>\n",
              "      <td>11</td>\n",
              "      <td>45.0</td>\n",
              "      <td>272.0</td>\n",
              "      <td>29.0</td>\n",
              "      <td>NaN</td>\n",
              "      <td>ultra</td>\n",
              "    </tr>\n",
              "    <tr>\n",
              "      <th>1729</th>\n",
              "      <td>1273</td>\n",
              "      <td>12</td>\n",
              "      <td>41.0</td>\n",
              "      <td>260.0</td>\n",
              "      <td>39.0</td>\n",
              "      <td>NaN</td>\n",
              "      <td>ultra</td>\n",
              "    </tr>\n",
              "    <tr>\n",
              "      <th>2387</th>\n",
              "      <td>1377</td>\n",
              "      <td>2</td>\n",
              "      <td>23.0</td>\n",
              "      <td>179.0</td>\n",
              "      <td>2.0</td>\n",
              "      <td>NaN</td>\n",
              "      <td>ultra</td>\n",
              "    </tr>\n",
              "    <tr>\n",
              "      <th>2500</th>\n",
              "      <td>1392</td>\n",
              "      <td>2</td>\n",
              "      <td>2.0</td>\n",
              "      <td>13.0</td>\n",
              "      <td>3.0</td>\n",
              "      <td>NaN</td>\n",
              "      <td>ultra</td>\n",
              "    </tr>\n",
              "    <tr>\n",
              "      <th>2858</th>\n",
              "      <td>1446</td>\n",
              "      <td>8</td>\n",
              "      <td>4.0</td>\n",
              "      <td>50.0</td>\n",
              "      <td>1.0</td>\n",
              "      <td>NaN</td>\n",
              "      <td>smart</td>\n",
              "    </tr>\n",
              "  </tbody>\n",
              "</table>\n",
              "</div>\n",
              "      <button class=\"colab-df-convert\" onclick=\"convertToInteractive('df-90d47e63-f685-4652-bb79-6c1891b9a721')\"\n",
              "              title=\"Convert this dataframe to an interactive table.\"\n",
              "              style=\"display:none;\">\n",
              "        \n",
              "  <svg xmlns=\"http://www.w3.org/2000/svg\" height=\"24px\"viewBox=\"0 0 24 24\"\n",
              "       width=\"24px\">\n",
              "    <path d=\"M0 0h24v24H0V0z\" fill=\"none\"/>\n",
              "    <path d=\"M18.56 5.44l.94 2.06.94-2.06 2.06-.94-2.06-.94-.94-2.06-.94 2.06-2.06.94zm-11 1L8.5 8.5l.94-2.06 2.06-.94-2.06-.94L8.5 2.5l-.94 2.06-2.06.94zm10 10l.94 2.06.94-2.06 2.06-.94-2.06-.94-.94-2.06-.94 2.06-2.06.94z\"/><path d=\"M17.41 7.96l-1.37-1.37c-.4-.4-.92-.59-1.43-.59-.52 0-1.04.2-1.43.59L10.3 9.45l-7.72 7.72c-.78.78-.78 2.05 0 2.83L4 21.41c.39.39.9.59 1.41.59.51 0 1.02-.2 1.41-.59l7.78-7.78 2.81-2.81c.8-.78.8-2.07 0-2.86zM5.41 20L4 18.59l7.72-7.72 1.47 1.35L5.41 20z\"/>\n",
              "  </svg>\n",
              "      </button>\n",
              "      \n",
              "  <style>\n",
              "    .colab-df-container {\n",
              "      display:flex;\n",
              "      flex-wrap:wrap;\n",
              "      gap: 12px;\n",
              "    }\n",
              "\n",
              "    .colab-df-convert {\n",
              "      background-color: #E8F0FE;\n",
              "      border: none;\n",
              "      border-radius: 50%;\n",
              "      cursor: pointer;\n",
              "      display: none;\n",
              "      fill: #1967D2;\n",
              "      height: 32px;\n",
              "      padding: 0 0 0 0;\n",
              "      width: 32px;\n",
              "    }\n",
              "\n",
              "    .colab-df-convert:hover {\n",
              "      background-color: #E2EBFA;\n",
              "      box-shadow: 0px 1px 2px rgba(60, 64, 67, 0.3), 0px 1px 3px 1px rgba(60, 64, 67, 0.15);\n",
              "      fill: #174EA6;\n",
              "    }\n",
              "\n",
              "    [theme=dark] .colab-df-convert {\n",
              "      background-color: #3B4455;\n",
              "      fill: #D2E3FC;\n",
              "    }\n",
              "\n",
              "    [theme=dark] .colab-df-convert:hover {\n",
              "      background-color: #434B5C;\n",
              "      box-shadow: 0px 1px 3px 1px rgba(0, 0, 0, 0.15);\n",
              "      filter: drop-shadow(0px 1px 2px rgba(0, 0, 0, 0.3));\n",
              "      fill: #FFFFFF;\n",
              "    }\n",
              "  </style>\n",
              "\n",
              "      <script>\n",
              "        const buttonEl =\n",
              "          document.querySelector('#df-90d47e63-f685-4652-bb79-6c1891b9a721 button.colab-df-convert');\n",
              "        buttonEl.style.display =\n",
              "          google.colab.kernel.accessAllowed ? 'block' : 'none';\n",
              "\n",
              "        async function convertToInteractive(key) {\n",
              "          const element = document.querySelector('#df-90d47e63-f685-4652-bb79-6c1891b9a721');\n",
              "          const dataTable =\n",
              "            await google.colab.kernel.invokeFunction('convertToInteractive',\n",
              "                                                     [key], {});\n",
              "          if (!dataTable) return;\n",
              "\n",
              "          const docLinkHtml = 'Like what you see? Visit the ' +\n",
              "            '<a target=\"_blank\" href=https://colab.research.google.com/notebooks/data_table.ipynb>data table notebook</a>'\n",
              "            + ' to learn more about interactive tables.';\n",
              "          element.innerHTML = '';\n",
              "          dataTable['output_type'] = 'display_data';\n",
              "          await google.colab.output.renderOutput(dataTable, element);\n",
              "          const docLink = document.createElement('div');\n",
              "          docLink.innerHTML = docLinkHtml;\n",
              "          element.appendChild(docLink);\n",
              "        }\n",
              "      </script>\n",
              "    </div>\n",
              "  </div>\n",
              "  "
            ]
          },
          "metadata": {},
          "execution_count": 78
        }
      ],
      "source": [
        "gd[gd['traffic_used'].isnull()==True] #на этом этапе обнаружил несколько NaN значений в колонке `traffic_used`"
      ]
    },
    {
      "cell_type": "markdown",
      "metadata": {
        "id": "VOjq-5AV677R"
      },
      "source": [
        "Заменим NaN значения на нули:"
      ]
    },
    {
      "cell_type": "code",
      "execution_count": null,
      "metadata": {
        "id": "Mye78mCs677R",
        "outputId": "7cd67910-2ec1-4174-ade0-90100a9f4242",
        "colab": {
          "base_uri": "https://localhost:8080/",
          "height": 49
        }
      },
      "outputs": [
        {
          "output_type": "execute_result",
          "data": {
            "text/plain": [
              "Empty DataFrame\n",
              "Columns: [user_id, month, calls_qty, calls_duration, messages_qty, traffic_used, tariff]\n",
              "Index: []"
            ],
            "text/html": [
              "\n",
              "  <div id=\"df-37d224ae-dd17-46c7-ada8-bf1f56a620b8\">\n",
              "    <div class=\"colab-df-container\">\n",
              "      <div>\n",
              "<style scoped>\n",
              "    .dataframe tbody tr th:only-of-type {\n",
              "        vertical-align: middle;\n",
              "    }\n",
              "\n",
              "    .dataframe tbody tr th {\n",
              "        vertical-align: top;\n",
              "    }\n",
              "\n",
              "    .dataframe thead th {\n",
              "        text-align: right;\n",
              "    }\n",
              "</style>\n",
              "<table border=\"1\" class=\"dataframe\">\n",
              "  <thead>\n",
              "    <tr style=\"text-align: right;\">\n",
              "      <th></th>\n",
              "      <th>user_id</th>\n",
              "      <th>month</th>\n",
              "      <th>calls_qty</th>\n",
              "      <th>calls_duration</th>\n",
              "      <th>messages_qty</th>\n",
              "      <th>traffic_used</th>\n",
              "      <th>tariff</th>\n",
              "    </tr>\n",
              "  </thead>\n",
              "  <tbody>\n",
              "  </tbody>\n",
              "</table>\n",
              "</div>\n",
              "      <button class=\"colab-df-convert\" onclick=\"convertToInteractive('df-37d224ae-dd17-46c7-ada8-bf1f56a620b8')\"\n",
              "              title=\"Convert this dataframe to an interactive table.\"\n",
              "              style=\"display:none;\">\n",
              "        \n",
              "  <svg xmlns=\"http://www.w3.org/2000/svg\" height=\"24px\"viewBox=\"0 0 24 24\"\n",
              "       width=\"24px\">\n",
              "    <path d=\"M0 0h24v24H0V0z\" fill=\"none\"/>\n",
              "    <path d=\"M18.56 5.44l.94 2.06.94-2.06 2.06-.94-2.06-.94-.94-2.06-.94 2.06-2.06.94zm-11 1L8.5 8.5l.94-2.06 2.06-.94-2.06-.94L8.5 2.5l-.94 2.06-2.06.94zm10 10l.94 2.06.94-2.06 2.06-.94-2.06-.94-.94-2.06-.94 2.06-2.06.94z\"/><path d=\"M17.41 7.96l-1.37-1.37c-.4-.4-.92-.59-1.43-.59-.52 0-1.04.2-1.43.59L10.3 9.45l-7.72 7.72c-.78.78-.78 2.05 0 2.83L4 21.41c.39.39.9.59 1.41.59.51 0 1.02-.2 1.41-.59l7.78-7.78 2.81-2.81c.8-.78.8-2.07 0-2.86zM5.41 20L4 18.59l7.72-7.72 1.47 1.35L5.41 20z\"/>\n",
              "  </svg>\n",
              "      </button>\n",
              "      \n",
              "  <style>\n",
              "    .colab-df-container {\n",
              "      display:flex;\n",
              "      flex-wrap:wrap;\n",
              "      gap: 12px;\n",
              "    }\n",
              "\n",
              "    .colab-df-convert {\n",
              "      background-color: #E8F0FE;\n",
              "      border: none;\n",
              "      border-radius: 50%;\n",
              "      cursor: pointer;\n",
              "      display: none;\n",
              "      fill: #1967D2;\n",
              "      height: 32px;\n",
              "      padding: 0 0 0 0;\n",
              "      width: 32px;\n",
              "    }\n",
              "\n",
              "    .colab-df-convert:hover {\n",
              "      background-color: #E2EBFA;\n",
              "      box-shadow: 0px 1px 2px rgba(60, 64, 67, 0.3), 0px 1px 3px 1px rgba(60, 64, 67, 0.15);\n",
              "      fill: #174EA6;\n",
              "    }\n",
              "\n",
              "    [theme=dark] .colab-df-convert {\n",
              "      background-color: #3B4455;\n",
              "      fill: #D2E3FC;\n",
              "    }\n",
              "\n",
              "    [theme=dark] .colab-df-convert:hover {\n",
              "      background-color: #434B5C;\n",
              "      box-shadow: 0px 1px 3px 1px rgba(0, 0, 0, 0.15);\n",
              "      filter: drop-shadow(0px 1px 2px rgba(0, 0, 0, 0.3));\n",
              "      fill: #FFFFFF;\n",
              "    }\n",
              "  </style>\n",
              "\n",
              "      <script>\n",
              "        const buttonEl =\n",
              "          document.querySelector('#df-37d224ae-dd17-46c7-ada8-bf1f56a620b8 button.colab-df-convert');\n",
              "        buttonEl.style.display =\n",
              "          google.colab.kernel.accessAllowed ? 'block' : 'none';\n",
              "\n",
              "        async function convertToInteractive(key) {\n",
              "          const element = document.querySelector('#df-37d224ae-dd17-46c7-ada8-bf1f56a620b8');\n",
              "          const dataTable =\n",
              "            await google.colab.kernel.invokeFunction('convertToInteractive',\n",
              "                                                     [key], {});\n",
              "          if (!dataTable) return;\n",
              "\n",
              "          const docLinkHtml = 'Like what you see? Visit the ' +\n",
              "            '<a target=\"_blank\" href=https://colab.research.google.com/notebooks/data_table.ipynb>data table notebook</a>'\n",
              "            + ' to learn more about interactive tables.';\n",
              "          element.innerHTML = '';\n",
              "          dataTable['output_type'] = 'display_data';\n",
              "          await google.colab.output.renderOutput(dataTable, element);\n",
              "          const docLink = document.createElement('div');\n",
              "          docLink.innerHTML = docLinkHtml;\n",
              "          element.appendChild(docLink);\n",
              "        }\n",
              "      </script>\n",
              "    </div>\n",
              "  </div>\n",
              "  "
            ]
          },
          "metadata": {},
          "execution_count": 79
        }
      ],
      "source": [
        "gd['traffic_used'] = gd['traffic_used'].fillna(0)\n",
        "gd[gd['traffic_used'].isnull()==True] #проверим - остались ли NaN значения"
      ]
    },
    {
      "cell_type": "code",
      "execution_count": null,
      "metadata": {
        "id": "Ip14jzQx677R",
        "outputId": "52927544-dc3d-44d3-cb19-c9fcdee3575e",
        "colab": {
          "base_uri": "https://localhost:8080/"
        }
      },
      "outputs": [
        {
          "output_type": "stream",
          "name": "stdout",
          "text": [
            "<class 'pandas.core.frame.DataFrame'>\n",
            "RangeIndex: 3214 entries, 0 to 3213\n",
            "Data columns (total 7 columns):\n",
            " #   Column          Non-Null Count  Dtype  \n",
            "---  ------          --------------  -----  \n",
            " 0   user_id         3214 non-null   int64  \n",
            " 1   month           3214 non-null   int64  \n",
            " 2   calls_qty       3174 non-null   float64\n",
            " 3   calls_duration  3174 non-null   float64\n",
            " 4   messages_qty    2717 non-null   float64\n",
            " 5   traffic_used    3214 non-null   float64\n",
            " 6   tariff          3214 non-null   object \n",
            "dtypes: float64(4), int64(2), object(1)\n",
            "memory usage: 175.9+ KB\n"
          ]
        }
      ],
      "source": [
        "# check \n",
        "gd.info()"
      ]
    },
    {
      "cell_type": "markdown",
      "metadata": {
        "id": "yQYnOH3P677S"
      },
      "source": [
        "<div class = \"alert alert-info\" style=\"border-left: 7px solid blue\">\n",
        "Посмотрим пропуски по столбцам calls_duration и messages_qty. Для того, чтобы исключить возможность того, что пользователь уже не является активным, посмотрим отсутствие данных сразу в обоих столбцах.\n",
        "</div>"
      ]
    },
    {
      "cell_type": "code",
      "execution_count": null,
      "metadata": {
        "scrolled": true,
        "id": "HLk6u6DX677S",
        "outputId": "7c3001a2-bedf-4f00-a743-c98a0cc5d4a7",
        "colab": {
          "base_uri": "https://localhost:8080/",
          "height": 81
        }
      },
      "outputs": [
        {
          "output_type": "execute_result",
          "data": {
            "text/plain": [
              "      user_id  month  calls_qty  calls_duration  messages_qty  traffic_used  \\\n",
              "3064     1476      4        NaN             NaN           NaN        530.78   \n",
              "\n",
              "     tariff  \n",
              "3064  ultra  "
            ],
            "text/html": [
              "\n",
              "  <div id=\"df-089e8c77-2410-4e50-87ba-94f3ba59ceac\">\n",
              "    <div class=\"colab-df-container\">\n",
              "      <div>\n",
              "<style scoped>\n",
              "    .dataframe tbody tr th:only-of-type {\n",
              "        vertical-align: middle;\n",
              "    }\n",
              "\n",
              "    .dataframe tbody tr th {\n",
              "        vertical-align: top;\n",
              "    }\n",
              "\n",
              "    .dataframe thead th {\n",
              "        text-align: right;\n",
              "    }\n",
              "</style>\n",
              "<table border=\"1\" class=\"dataframe\">\n",
              "  <thead>\n",
              "    <tr style=\"text-align: right;\">\n",
              "      <th></th>\n",
              "      <th>user_id</th>\n",
              "      <th>month</th>\n",
              "      <th>calls_qty</th>\n",
              "      <th>calls_duration</th>\n",
              "      <th>messages_qty</th>\n",
              "      <th>traffic_used</th>\n",
              "      <th>tariff</th>\n",
              "    </tr>\n",
              "  </thead>\n",
              "  <tbody>\n",
              "    <tr>\n",
              "      <th>3064</th>\n",
              "      <td>1476</td>\n",
              "      <td>4</td>\n",
              "      <td>NaN</td>\n",
              "      <td>NaN</td>\n",
              "      <td>NaN</td>\n",
              "      <td>530.78</td>\n",
              "      <td>ultra</td>\n",
              "    </tr>\n",
              "  </tbody>\n",
              "</table>\n",
              "</div>\n",
              "      <button class=\"colab-df-convert\" onclick=\"convertToInteractive('df-089e8c77-2410-4e50-87ba-94f3ba59ceac')\"\n",
              "              title=\"Convert this dataframe to an interactive table.\"\n",
              "              style=\"display:none;\">\n",
              "        \n",
              "  <svg xmlns=\"http://www.w3.org/2000/svg\" height=\"24px\"viewBox=\"0 0 24 24\"\n",
              "       width=\"24px\">\n",
              "    <path d=\"M0 0h24v24H0V0z\" fill=\"none\"/>\n",
              "    <path d=\"M18.56 5.44l.94 2.06.94-2.06 2.06-.94-2.06-.94-.94-2.06-.94 2.06-2.06.94zm-11 1L8.5 8.5l.94-2.06 2.06-.94-2.06-.94L8.5 2.5l-.94 2.06-2.06.94zm10 10l.94 2.06.94-2.06 2.06-.94-2.06-.94-.94-2.06-.94 2.06-2.06.94z\"/><path d=\"M17.41 7.96l-1.37-1.37c-.4-.4-.92-.59-1.43-.59-.52 0-1.04.2-1.43.59L10.3 9.45l-7.72 7.72c-.78.78-.78 2.05 0 2.83L4 21.41c.39.39.9.59 1.41.59.51 0 1.02-.2 1.41-.59l7.78-7.78 2.81-2.81c.8-.78.8-2.07 0-2.86zM5.41 20L4 18.59l7.72-7.72 1.47 1.35L5.41 20z\"/>\n",
              "  </svg>\n",
              "      </button>\n",
              "      \n",
              "  <style>\n",
              "    .colab-df-container {\n",
              "      display:flex;\n",
              "      flex-wrap:wrap;\n",
              "      gap: 12px;\n",
              "    }\n",
              "\n",
              "    .colab-df-convert {\n",
              "      background-color: #E8F0FE;\n",
              "      border: none;\n",
              "      border-radius: 50%;\n",
              "      cursor: pointer;\n",
              "      display: none;\n",
              "      fill: #1967D2;\n",
              "      height: 32px;\n",
              "      padding: 0 0 0 0;\n",
              "      width: 32px;\n",
              "    }\n",
              "\n",
              "    .colab-df-convert:hover {\n",
              "      background-color: #E2EBFA;\n",
              "      box-shadow: 0px 1px 2px rgba(60, 64, 67, 0.3), 0px 1px 3px 1px rgba(60, 64, 67, 0.15);\n",
              "      fill: #174EA6;\n",
              "    }\n",
              "\n",
              "    [theme=dark] .colab-df-convert {\n",
              "      background-color: #3B4455;\n",
              "      fill: #D2E3FC;\n",
              "    }\n",
              "\n",
              "    [theme=dark] .colab-df-convert:hover {\n",
              "      background-color: #434B5C;\n",
              "      box-shadow: 0px 1px 3px 1px rgba(0, 0, 0, 0.15);\n",
              "      filter: drop-shadow(0px 1px 2px rgba(0, 0, 0, 0.3));\n",
              "      fill: #FFFFFF;\n",
              "    }\n",
              "  </style>\n",
              "\n",
              "      <script>\n",
              "        const buttonEl =\n",
              "          document.querySelector('#df-089e8c77-2410-4e50-87ba-94f3ba59ceac button.colab-df-convert');\n",
              "        buttonEl.style.display =\n",
              "          google.colab.kernel.accessAllowed ? 'block' : 'none';\n",
              "\n",
              "        async function convertToInteractive(key) {\n",
              "          const element = document.querySelector('#df-089e8c77-2410-4e50-87ba-94f3ba59ceac');\n",
              "          const dataTable =\n",
              "            await google.colab.kernel.invokeFunction('convertToInteractive',\n",
              "                                                     [key], {});\n",
              "          if (!dataTable) return;\n",
              "\n",
              "          const docLinkHtml = 'Like what you see? Visit the ' +\n",
              "            '<a target=\"_blank\" href=https://colab.research.google.com/notebooks/data_table.ipynb>data table notebook</a>'\n",
              "            + ' to learn more about interactive tables.';\n",
              "          element.innerHTML = '';\n",
              "          dataTable['output_type'] = 'display_data';\n",
              "          await google.colab.output.renderOutput(dataTable, element);\n",
              "          const docLink = document.createElement('div');\n",
              "          docLink.innerHTML = docLinkHtml;\n",
              "          element.appendChild(docLink);\n",
              "        }\n",
              "      </script>\n",
              "    </div>\n",
              "  </div>\n",
              "  "
            ]
          },
          "metadata": {},
          "execution_count": 81
        }
      ],
      "source": [
        "gd[(gd['calls_duration'].isnull()==True)&(gd['messages_qty'].isnull()==True)]"
      ]
    },
    {
      "cell_type": "markdown",
      "metadata": {
        "id": "gfWAPabC677S"
      },
      "source": [
        "<div class = \"alert alert-info\" style=\"border-left: 7px solid blue\">\n",
        "Одна строка по таким условиям нашлась, но прри этом пользователь расходовал интернет траффик, значит, что он также был активным в рассматриваемом периоде. Можно сделать вывод, что каждый пользователь из выборки был активным, но пользовался каким-то одним типом связи. Имеющиеся в стобцах calls_duration и messages_qty пропуски заполним нулями, что будет означать, что абонент не пользовался таким типом связи в рассматриваемый период времени.\n",
        "   </div>"
      ]
    },
    {
      "cell_type": "code",
      "execution_count": null,
      "metadata": {
        "id": "gLbfSZRs677S",
        "outputId": "2786c857-16d8-413a-86fe-3d5a9396cdfb",
        "colab": {
          "base_uri": "https://localhost:8080/"
        }
      },
      "outputs": [
        {
          "output_type": "stream",
          "name": "stdout",
          "text": [
            "<class 'pandas.core.frame.DataFrame'>\n",
            "RangeIndex: 3214 entries, 0 to 3213\n",
            "Data columns (total 7 columns):\n",
            " #   Column          Non-Null Count  Dtype  \n",
            "---  ------          --------------  -----  \n",
            " 0   user_id         3214 non-null   int64  \n",
            " 1   month           3214 non-null   int64  \n",
            " 2   calls_qty       3214 non-null   float64\n",
            " 3   calls_duration  3214 non-null   float64\n",
            " 4   messages_qty    3214 non-null   float64\n",
            " 5   traffic_used    3214 non-null   float64\n",
            " 6   tariff          3214 non-null   object \n",
            "dtypes: float64(4), int64(2), object(1)\n",
            "memory usage: 175.9+ KB\n"
          ]
        }
      ],
      "source": [
        "gd['calls_duration'] = gd['calls_duration'].fillna(0)\n",
        "gd['messages_qty'] = gd['messages_qty'].fillna(0)\n",
        "gd['calls_qty'] = gd['calls_qty'].fillna(0)\n",
        "gd.info()"
      ]
    },
    {
      "cell_type": "markdown",
      "metadata": {
        "id": "lJMPq8_I677T"
      },
      "source": [
        "\n",
        "Все пропуски теперь заполнены.\n"
      ]
    },
    {
      "cell_type": "markdown",
      "source": [
        "Посчитаем для каждого пользователя помесячную выручку с каждого пользователя (вычтем бесплатный лимит из суммарного количества звонков, сообщений и интернет- трафика; остаток умножим на значение из тарифного плана; прибавим абонентскую плату, соответствующую тарифному плану)."
      ],
      "metadata": {
        "id": "Fc73RddEBy7p"
      }
    },
    {
      "cell_type": "code",
      "execution_count": null,
      "metadata": {
        "id": "N3qi2Qrk677V",
        "outputId": "6c8cd7d1-29af-445f-9498-991b2d53d892",
        "colab": {
          "base_uri": "https://localhost:8080/",
          "height": 363
        }
      },
      "outputs": [
        {
          "output_type": "execute_result",
          "data": {
            "text/plain": [
              "      user_id  month  calls_qty  calls_duration  messages_qty  traffic_used  \\\n",
              "3204     1497     11       64.0           371.0          14.0      14156.08   \n",
              "3205     1497     12       71.0           545.0          17.0      19918.60   \n",
              "3206     1498      7       23.0           175.0          20.0       7476.24   \n",
              "3207     1498      8       57.0           400.0          62.0      24235.21   \n",
              "3208     1498      9       59.0           471.0          44.0      22134.41   \n",
              "3209     1498     10       41.0           247.0          42.0      20579.36   \n",
              "3210     1499      9        9.0            70.0          11.0       1845.75   \n",
              "3211     1499     10       68.0           449.0          48.0      17788.51   \n",
              "3212     1499     11       74.0           612.0          59.0      17963.31   \n",
              "3213     1499     12       69.0           492.0          66.0      13055.58   \n",
              "\n",
              "     tariff  revenue  \n",
              "3204  smart    550.0  \n",
              "3205  smart   1685.0  \n",
              "3206  smart    550.0  \n",
              "3207  smart   2386.0  \n",
              "3208  smart   1950.0  \n",
              "3209  smart   1750.0  \n",
              "3210  smart    550.0  \n",
              "3211  smart   1150.0  \n",
              "3212  smart   1513.0  \n",
              "3213  smart    598.0  "
            ],
            "text/html": [
              "\n",
              "  <div id=\"df-a3d7a29b-7fd4-46c0-b16f-dee33aeeb6e8\">\n",
              "    <div class=\"colab-df-container\">\n",
              "      <div>\n",
              "<style scoped>\n",
              "    .dataframe tbody tr th:only-of-type {\n",
              "        vertical-align: middle;\n",
              "    }\n",
              "\n",
              "    .dataframe tbody tr th {\n",
              "        vertical-align: top;\n",
              "    }\n",
              "\n",
              "    .dataframe thead th {\n",
              "        text-align: right;\n",
              "    }\n",
              "</style>\n",
              "<table border=\"1\" class=\"dataframe\">\n",
              "  <thead>\n",
              "    <tr style=\"text-align: right;\">\n",
              "      <th></th>\n",
              "      <th>user_id</th>\n",
              "      <th>month</th>\n",
              "      <th>calls_qty</th>\n",
              "      <th>calls_duration</th>\n",
              "      <th>messages_qty</th>\n",
              "      <th>traffic_used</th>\n",
              "      <th>tariff</th>\n",
              "      <th>revenue</th>\n",
              "    </tr>\n",
              "  </thead>\n",
              "  <tbody>\n",
              "    <tr>\n",
              "      <th>3204</th>\n",
              "      <td>1497</td>\n",
              "      <td>11</td>\n",
              "      <td>64.0</td>\n",
              "      <td>371.0</td>\n",
              "      <td>14.0</td>\n",
              "      <td>14156.08</td>\n",
              "      <td>smart</td>\n",
              "      <td>550.0</td>\n",
              "    </tr>\n",
              "    <tr>\n",
              "      <th>3205</th>\n",
              "      <td>1497</td>\n",
              "      <td>12</td>\n",
              "      <td>71.0</td>\n",
              "      <td>545.0</td>\n",
              "      <td>17.0</td>\n",
              "      <td>19918.60</td>\n",
              "      <td>smart</td>\n",
              "      <td>1685.0</td>\n",
              "    </tr>\n",
              "    <tr>\n",
              "      <th>3206</th>\n",
              "      <td>1498</td>\n",
              "      <td>7</td>\n",
              "      <td>23.0</td>\n",
              "      <td>175.0</td>\n",
              "      <td>20.0</td>\n",
              "      <td>7476.24</td>\n",
              "      <td>smart</td>\n",
              "      <td>550.0</td>\n",
              "    </tr>\n",
              "    <tr>\n",
              "      <th>3207</th>\n",
              "      <td>1498</td>\n",
              "      <td>8</td>\n",
              "      <td>57.0</td>\n",
              "      <td>400.0</td>\n",
              "      <td>62.0</td>\n",
              "      <td>24235.21</td>\n",
              "      <td>smart</td>\n",
              "      <td>2386.0</td>\n",
              "    </tr>\n",
              "    <tr>\n",
              "      <th>3208</th>\n",
              "      <td>1498</td>\n",
              "      <td>9</td>\n",
              "      <td>59.0</td>\n",
              "      <td>471.0</td>\n",
              "      <td>44.0</td>\n",
              "      <td>22134.41</td>\n",
              "      <td>smart</td>\n",
              "      <td>1950.0</td>\n",
              "    </tr>\n",
              "    <tr>\n",
              "      <th>3209</th>\n",
              "      <td>1498</td>\n",
              "      <td>10</td>\n",
              "      <td>41.0</td>\n",
              "      <td>247.0</td>\n",
              "      <td>42.0</td>\n",
              "      <td>20579.36</td>\n",
              "      <td>smart</td>\n",
              "      <td>1750.0</td>\n",
              "    </tr>\n",
              "    <tr>\n",
              "      <th>3210</th>\n",
              "      <td>1499</td>\n",
              "      <td>9</td>\n",
              "      <td>9.0</td>\n",
              "      <td>70.0</td>\n",
              "      <td>11.0</td>\n",
              "      <td>1845.75</td>\n",
              "      <td>smart</td>\n",
              "      <td>550.0</td>\n",
              "    </tr>\n",
              "    <tr>\n",
              "      <th>3211</th>\n",
              "      <td>1499</td>\n",
              "      <td>10</td>\n",
              "      <td>68.0</td>\n",
              "      <td>449.0</td>\n",
              "      <td>48.0</td>\n",
              "      <td>17788.51</td>\n",
              "      <td>smart</td>\n",
              "      <td>1150.0</td>\n",
              "    </tr>\n",
              "    <tr>\n",
              "      <th>3212</th>\n",
              "      <td>1499</td>\n",
              "      <td>11</td>\n",
              "      <td>74.0</td>\n",
              "      <td>612.0</td>\n",
              "      <td>59.0</td>\n",
              "      <td>17963.31</td>\n",
              "      <td>smart</td>\n",
              "      <td>1513.0</td>\n",
              "    </tr>\n",
              "    <tr>\n",
              "      <th>3213</th>\n",
              "      <td>1499</td>\n",
              "      <td>12</td>\n",
              "      <td>69.0</td>\n",
              "      <td>492.0</td>\n",
              "      <td>66.0</td>\n",
              "      <td>13055.58</td>\n",
              "      <td>smart</td>\n",
              "      <td>598.0</td>\n",
              "    </tr>\n",
              "  </tbody>\n",
              "</table>\n",
              "</div>\n",
              "      <button class=\"colab-df-convert\" onclick=\"convertToInteractive('df-a3d7a29b-7fd4-46c0-b16f-dee33aeeb6e8')\"\n",
              "              title=\"Convert this dataframe to an interactive table.\"\n",
              "              style=\"display:none;\">\n",
              "        \n",
              "  <svg xmlns=\"http://www.w3.org/2000/svg\" height=\"24px\"viewBox=\"0 0 24 24\"\n",
              "       width=\"24px\">\n",
              "    <path d=\"M0 0h24v24H0V0z\" fill=\"none\"/>\n",
              "    <path d=\"M18.56 5.44l.94 2.06.94-2.06 2.06-.94-2.06-.94-.94-2.06-.94 2.06-2.06.94zm-11 1L8.5 8.5l.94-2.06 2.06-.94-2.06-.94L8.5 2.5l-.94 2.06-2.06.94zm10 10l.94 2.06.94-2.06 2.06-.94-2.06-.94-.94-2.06-.94 2.06-2.06.94z\"/><path d=\"M17.41 7.96l-1.37-1.37c-.4-.4-.92-.59-1.43-.59-.52 0-1.04.2-1.43.59L10.3 9.45l-7.72 7.72c-.78.78-.78 2.05 0 2.83L4 21.41c.39.39.9.59 1.41.59.51 0 1.02-.2 1.41-.59l7.78-7.78 2.81-2.81c.8-.78.8-2.07 0-2.86zM5.41 20L4 18.59l7.72-7.72 1.47 1.35L5.41 20z\"/>\n",
              "  </svg>\n",
              "      </button>\n",
              "      \n",
              "  <style>\n",
              "    .colab-df-container {\n",
              "      display:flex;\n",
              "      flex-wrap:wrap;\n",
              "      gap: 12px;\n",
              "    }\n",
              "\n",
              "    .colab-df-convert {\n",
              "      background-color: #E8F0FE;\n",
              "      border: none;\n",
              "      border-radius: 50%;\n",
              "      cursor: pointer;\n",
              "      display: none;\n",
              "      fill: #1967D2;\n",
              "      height: 32px;\n",
              "      padding: 0 0 0 0;\n",
              "      width: 32px;\n",
              "    }\n",
              "\n",
              "    .colab-df-convert:hover {\n",
              "      background-color: #E2EBFA;\n",
              "      box-shadow: 0px 1px 2px rgba(60, 64, 67, 0.3), 0px 1px 3px 1px rgba(60, 64, 67, 0.15);\n",
              "      fill: #174EA6;\n",
              "    }\n",
              "\n",
              "    [theme=dark] .colab-df-convert {\n",
              "      background-color: #3B4455;\n",
              "      fill: #D2E3FC;\n",
              "    }\n",
              "\n",
              "    [theme=dark] .colab-df-convert:hover {\n",
              "      background-color: #434B5C;\n",
              "      box-shadow: 0px 1px 3px 1px rgba(0, 0, 0, 0.15);\n",
              "      filter: drop-shadow(0px 1px 2px rgba(0, 0, 0, 0.3));\n",
              "      fill: #FFFFFF;\n",
              "    }\n",
              "  </style>\n",
              "\n",
              "      <script>\n",
              "        const buttonEl =\n",
              "          document.querySelector('#df-a3d7a29b-7fd4-46c0-b16f-dee33aeeb6e8 button.colab-df-convert');\n",
              "        buttonEl.style.display =\n",
              "          google.colab.kernel.accessAllowed ? 'block' : 'none';\n",
              "\n",
              "        async function convertToInteractive(key) {\n",
              "          const element = document.querySelector('#df-a3d7a29b-7fd4-46c0-b16f-dee33aeeb6e8');\n",
              "          const dataTable =\n",
              "            await google.colab.kernel.invokeFunction('convertToInteractive',\n",
              "                                                     [key], {});\n",
              "          if (!dataTable) return;\n",
              "\n",
              "          const docLinkHtml = 'Like what you see? Visit the ' +\n",
              "            '<a target=\"_blank\" href=https://colab.research.google.com/notebooks/data_table.ipynb>data table notebook</a>'\n",
              "            + ' to learn more about interactive tables.';\n",
              "          element.innerHTML = '';\n",
              "          dataTable['output_type'] = 'display_data';\n",
              "          await google.colab.output.renderOutput(dataTable, element);\n",
              "          const docLink = document.createElement('div');\n",
              "          docLink.innerHTML = docLinkHtml;\n",
              "          element.appendChild(docLink);\n",
              "        }\n",
              "      </script>\n",
              "    </div>\n",
              "  </div>\n",
              "  "
            ]
          },
          "metadata": {},
          "execution_count": 83
        }
      ],
      "source": [
        "def revenue_calc(row): #функция для расчета помесячной выручки с каждого пользователя\n",
        "    result = 0\n",
        "    smart_traffic_included = 15 # объем траффика, включенного в тариф smart, Гб\n",
        "    smart_traffic_over_payment = 200 #плата за Гб интернета сверх тарифного плана\n",
        "    ultra_traffic_included = 30 # объем траффика, включенного в тариф ultra, Гб\n",
        "    ultra_traffic_over_payment = 150 #плата за Гб интернета сверх тарифного плана\n",
        "    if row['tariff'] == 'smart': # ветка для пользователей тарифа smart\n",
        "        revenue_per_calls = (row['calls_duration'] - tariffs['minutes_included'][0])*tariffs['rub_per_minute'][0] #считаем плату за минуты, израсходованные сверх тарифа\n",
        "        revenue_per_messages = (row['messages_qty'] -  tariffs['messages_included'][0])*tariffs['rub_per_message'][0] #считаем плату за сообщения, отправленные сверх тарифа\n",
        "        revenue_per_traffic = np.ceil((row['traffic_used']/1024 - smart_traffic_included))*smart_traffic_over_payment  #считаем плату за Гб, израсходованные сверх тарифа           \n",
        "        if revenue_per_calls > 0:\n",
        "            result = result + revenue_per_calls \n",
        "        if revenue_per_messages>0:\n",
        "            result = result + revenue_per_messages\n",
        "        if revenue_per_traffic>0:\n",
        "            result = result + revenue_per_traffic\n",
        "        result = result + tariffs['rub_monthly_fee'][0]         \n",
        "    else: # ветка для пользователей тарифа ultra\n",
        "        revenue_per_calls = (row['calls_duration'] - tariffs['minutes_included'][1])*tariffs['rub_per_minute'][1] #считаем плату за минуты, израсходованные сверх тарифа\n",
        "        revenue_per_messages = (row['messages_qty'] - tariffs['messages_included'][1])*tariffs['rub_per_message'][1] #считаем плату за сообщения, отправленные сверх тарифа\n",
        "        revenue_per_traffic = np.ceil((row['traffic_used']/1024 - ultra_traffic_included))*ultra_traffic_over_payment #считаем плату за Гб, израсходованные сверх тарифа  \n",
        "        if revenue_per_calls > 0:\n",
        "            result = result + revenue_per_calls\n",
        "        if revenue_per_messages>0:\n",
        "            result = result + revenue_per_messages\n",
        "        if revenue_per_traffic>0:\n",
        "            result = result + revenue_per_traffic\n",
        "        result = result + tariffs['rub_monthly_fee'][1] \n",
        "    return (result)\n",
        "    \n",
        "gd['revenue'] = gd.apply(revenue_calc,axis=1) #применяем функцию к датасету\n",
        "gd.tail(10) #выводим на экран 10 последних стрк полученного датасет с новой колонкой `revenue`, отображающей помесячную выручку для каждого пользователя"
      ]
    },
    {
      "cell_type": "markdown",
      "metadata": {
        "id": "ua21dVTE677W"
      },
      "source": [
        "## Анализ данных"
      ]
    },
    {
      "cell_type": "markdown",
      "metadata": {
        "id": "_YlctYUs677X"
      },
      "source": [
        "Опишем поведение клиентов оператора, исходя из выборки. Сколько минут разговора, сколько сообщений и какой объём интернет-трафика требуется пользователям каждого тарифа в месяц? Посчитаем среднее количество, дисперсию и стандартное отклонение. Построим гистограммы. Опишем распределения."
      ]
    },
    {
      "cell_type": "code",
      "execution_count": null,
      "metadata": {
        "id": "DQlOPLDd677X",
        "outputId": "57a39b15-9d3c-4403-ba9b-c543222d7c81",
        "colab": {
          "base_uri": "https://localhost:8080/"
        }
      },
      "outputs": [
        {
          "output_type": "stream",
          "name": "stdout",
          "text": [
            "Среднее значение по продолжительности разговоров в месяц для пользователей тарифа `smart`: 418.0\n",
            "Cреднее значение по продолжительности разговоров в месяц для пользователей тарифа `ultra`: 527.0\n"
          ]
        }
      ],
      "source": [
        "print ('Среднее значение по продолжительности разговоров в месяц для пользователей тарифа `smart`:',gd[gd['tariff']=='smart']['calls_duration'].mean().round()) \n",
        "print ('Cреднее значение по продолжительности разговоров в месяц для пользователей тарифа `ultra`:', gd[gd['tariff']=='ultra']['calls_duration'].mean().round())"
      ]
    },
    {
      "cell_type": "code",
      "execution_count": null,
      "metadata": {
        "scrolled": true,
        "id": "4tcgDcXh677X",
        "outputId": "927d5ae7-a7a8-4bc1-ec48-d8cc8ef0b470",
        "colab": {
          "base_uri": "https://localhost:8080/",
          "height": 281
        }
      },
      "outputs": [
        {
          "output_type": "display_data",
          "data": {
            "text/plain": [
              "<Figure size 432x288 with 1 Axes>"
            ],
            "image/png": "[encoded data removed]"
          },
          "metadata": {
            "needs_background": "light"
          }
        }
      ],
      "source": [
        "gd[gd['tariff']=='smart']['calls_duration'].plot(kind = 'hist', bins=30, grid=True,title='smart').set_title('Продолжительность звонков'); #гистограмма для звонков по тарифу smart\n",
        "gd[gd['tariff']=='ultra']['calls_duration'].plot(kind = 'hist', bins=30, grid=True, alpha=0.7); #гистограмма для звонков по тарифу ultra"
      ]
    },
    {
      "cell_type": "code",
      "execution_count": null,
      "metadata": {
        "scrolled": true,
        "id": "Xdp28uHJ677Y",
        "outputId": "ff792480-580a-422f-d329-7eea42f348ac",
        "colab": {
          "base_uri": "https://localhost:8080/"
        }
      },
      "outputs": [
        {
          "output_type": "stream",
          "name": "stdout",
          "text": [
            "Дисперсия для длительности звонков по тарифу smart: 36203 минут\n",
            "Стандартное отклонение для длительности звонков по тарифу smart: 190 минут\n"
          ]
        }
      ],
      "source": [
        "variance_calls_smart = np.var(gd[gd['tariff']=='smart']['calls_duration']) #дисперсия для данных по продолжительности разговоров пользователей тарифа `smart`\n",
        "print(f'Дисперсия для длительности звонков по тарифу smart: {round(variance_calls_smart)} минут')\n",
        "print (f'Стандартное отклонение для длительности звонков по тарифу smart: {round(variance_calls_smart**0.5)} минут') #стандартное отклонение для продолжительности разговоров пользователей тарифа `smart`"
      ]
    },
    {
      "cell_type": "code",
      "execution_count": null,
      "metadata": {
        "id": "NOMv7JAU677Y",
        "outputId": "09d4e761-2543-4060-c363-3a8c3db86939",
        "colab": {
          "base_uri": "https://localhost:8080/"
        }
      },
      "outputs": [
        {
          "output_type": "stream",
          "name": "stdout",
          "text": [
            "Дисперсия для длительности звонков по тарифу ultra:100771 минут\n",
            "Стандартное отклонение для длительности звонков по тарифу ultra: 317 минут\n"
          ]
        }
      ],
      "source": [
        "variance_calls_ultra = np.var(gd[gd['tariff']=='ultra']['calls_duration']) #дисперсия для данных по продолжительности разговоров пользователей тарифа `ultra`\n",
        "print (f'Дисперсия для длительности звонков по тарифу ultra:{round(variance_calls_ultra)} минут')\n",
        "print (f'Стандартное отклонение для длительности звонков по тарифу ultra: {round(variance_calls_ultra**0.5)} минут') #стандартное отклонение для продолжительности разговоров пользователей тарифа `ultra`"
      ]
    },
    {
      "cell_type": "markdown",
      "metadata": {
        "id": "dJGsKWiO677Y"
      },
      "source": [
        "Абонент, пользующийся тарифом Smart расходует в течение месяца в среднем  394 минут с отклонением в большую или меньшую сторону в среднем  180 минут. Стандартное отклонение доавольно большое - около 50% от среднего значения, что может свидетельствовать о неоднородности данных по длительности звонков в выборке.\n",
        "Касательно абонентов тарифа Ultra - они совершают в звонки в среднем на  497 минут и с еще большим стандартным отклонением:  300 минут. Данные еще более неоднородны по сравнению с выборкой по тарифу Smart."
      ]
    },
    {
      "cell_type": "code",
      "execution_count": null,
      "metadata": {
        "id": "H-fFPO6b677Z",
        "outputId": "eecf866c-cd31-4101-b688-a51b92c1f20f",
        "colab": {
          "base_uri": "https://localhost:8080/"
        }
      },
      "outputs": [
        {
          "output_type": "stream",
          "name": "stdout",
          "text": [
            "Среднемесячное количество сообщений для пользователей тарифа `smart`: 33.0\n",
            "Среднемесячное количество сообщений для пользователей тарифа `ultra`: 49.0\n"
          ]
        }
      ],
      "source": [
        "print ('Среднемесячное количество сообщений для пользователей тарифа `smart`:',gd[gd['tariff']=='smart']['messages_qty'].mean().round()) \n",
        "print ('Среднемесячное количество сообщений для пользователей тарифа `ultra`:',gd[gd['tariff']=='ultra']['messages_qty'].mean().round())"
      ]
    },
    {
      "cell_type": "code",
      "execution_count": null,
      "metadata": {
        "id": "QLZTlRbk677Z",
        "outputId": "4ac7c417-9f4f-4f56-a921-7bc4b81d073d",
        "colab": {
          "base_uri": "https://localhost:8080/",
          "height": 281
        }
      },
      "outputs": [
        {
          "output_type": "display_data",
          "data": {
            "text/plain": [
              "<Figure size 432x288 with 1 Axes>"
            ],
            "image/png": "[encoded data removed]"
          },
          "metadata": {
            "needs_background": "light"
          }
        }
      ],
      "source": [
        "gd[gd['tariff']=='smart']['messages_qty'].plot(kind = 'hist', bins=30, grid=True,title='smart').set_title('Количество сообщений'); #гистограмма по количеству сообщений для тарифа smart\n",
        "gd[gd['tariff']=='ultra']['messages_qty'].plot(kind = 'hist', bins=30, grid=True, alpha=0.7); #гистограмма по количеству сообщений для тарифа ultra"
      ]
    },
    {
      "cell_type": "code",
      "execution_count": null,
      "metadata": {
        "id": "gPPi9izg677Z",
        "outputId": "ee8bd7fd-f356-4303-a519-c49351e9970e",
        "colab": {
          "base_uri": "https://localhost:8080/"
        }
      },
      "outputs": [
        {
          "output_type": "stream",
          "name": "stdout",
          "text": [
            "Дисперсия для количества сообщений по тарифу smart: 797\n",
            "Стандартное отклонение для количества сообщений по тарифу smart: 28\n"
          ]
        }
      ],
      "source": [
        "variance_messages_smart = np.var(gd[gd['tariff']=='smart']['messages_qty'], ddof=1) #дисперсия для данных по количеству сообщений пользователей тарифа `smart`\n",
        "print (f'Дисперсия для количества сообщений по тарифу smart: {round(variance_messages_smart)}')\n",
        "print (f'Стандартное отклонение для количества сообщений по тарифу smart: {round(variance_messages_smart**0.5)}') #стандартное отклонение по количеству сообщений пользователей тарифа `smart`"
      ]
    },
    {
      "cell_type": "code",
      "execution_count": null,
      "metadata": {
        "id": "f8UXNJaR677a",
        "outputId": "ef8659b1-d4b4-4fd0-bf4f-c1dc3b57eaa0",
        "colab": {
          "base_uri": "https://localhost:8080/"
        }
      },
      "outputs": [
        {
          "output_type": "stream",
          "name": "stdout",
          "text": [
            "Дисперсия для количества сообщений по тарифу ultra: 2285\n",
            "Стандартное отклонение для количества сообщений по тарифу ultra: 48\n"
          ]
        }
      ],
      "source": [
        "variance_messages_ultra = np.var(gd[gd['tariff']=='ultra']['messages_qty'],ddof=1) #дисперсия для данных по количеству сообщений пользователей тарифа `ultra`\n",
        "print (f'Дисперсия для количества сообщений по тарифу ultra: {round(variance_messages_ultra)}')\n",
        "print (f'Стандартное отклонение для количества сообщений по тарифу ultra: {round(variance_messages_ultra**0.5)}') #стандартное отклонение по количеству сообщений пользователей тарифа `ultra`"
      ]
    },
    {
      "cell_type": "markdown",
      "metadata": {
        "id": "4dz3Y3ai677a"
      },
      "source": [
        "Абонент, пользующийся тарифом Smart отправляет в течение месяца в среднем  33 сообщений с отклонением в большую или меньшую сторону в среднем  28 сообщений. Стандартное отклонение доавольно большое - более 50% от среднего значения, что может свидетельствовать о неоднородности данных по количеству сообщений в выборке.\n",
        "Касательно абонентов тарифа Ultra - они отправляют в среднем  49 сообщение и с еще большим стандартным отклонением  49 сообщений. Данные по тарифу Ultra также нельзя назвать однородными.\n",
        "По гистограммам сообщений следует отметить скос данных в левую сторону, что может говорить о том, что бОльшая часть пользователей пользуются отправкой SMS довольно редко, это не самый популярный на данный момент сервис."
      ]
    },
    {
      "cell_type": "code",
      "execution_count": null,
      "metadata": {
        "id": "bCb72v0y677c",
        "outputId": "7fb2d44a-d330-43f6-d226-06f1355e5d6a",
        "colab": {
          "base_uri": "https://localhost:8080/"
        }
      },
      "outputs": [
        {
          "output_type": "stream",
          "name": "stdout",
          "text": [
            "Среднемесячный расход траффика для пользователей тарифа `smart`, Мб: 16208.386989681472\n",
            "Среднемесячный расход траффика для пользователей тарифа `ultra`, Мб: 19468.80520812183\n"
          ]
        }
      ],
      "source": [
        "print ('Среднемесячный расход траффика для пользователей тарифа `smart`, Мб:',gd[gd['tariff']=='smart']['traffic_used'].mean()) \n",
        "print ('Среднемесячный расход траффика для пользователей тарифа `ultra`, Мб:', gd[gd['tariff']=='ultra']['traffic_used'].mean()) \n"
      ]
    },
    {
      "cell_type": "code",
      "execution_count": null,
      "metadata": {
        "id": "nDjjO3ib677c",
        "outputId": "61ed5c78-3089-4474-8b0c-709f7606d2b4",
        "colab": {
          "base_uri": "https://localhost:8080/",
          "height": 281
        }
      },
      "outputs": [
        {
          "output_type": "display_data",
          "data": {
            "text/plain": [
              "<Figure size 432x288 with 1 Axes>"
            ],
            "image/png": "[encoded data removed]"
          },
          "metadata": {
            "needs_background": "light"
          }
        }
      ],
      "source": [
        "gd[gd['tariff']=='smart']['traffic_used'].plot(kind = 'hist', bins=30, grid=True).set_title('Объем использованного траффика'); #гистограмма по объему использованного траффика для тарифа smart\n",
        "gd[gd['tariff']=='ultra']['traffic_used'].plot(kind = 'hist', bins=30, grid=True, alpha=0.7);#гистограмма по объему использованного траффика для тарифа ultra"
      ]
    },
    {
      "cell_type": "code",
      "execution_count": null,
      "metadata": {
        "id": "5h7K7Sb0677d",
        "outputId": "a6ac6811-0c0d-488b-bf30-93c497a0a567",
        "colab": {
          "base_uri": "https://localhost:8080/"
        }
      },
      "outputs": [
        {
          "output_type": "stream",
          "name": "stdout",
          "text": [
            "Дисперсия по объему траффика для тарифа smart: 34462496 Мб\n",
            "Стандартное отклонениепо объему траффика для тарифа smart: 5870 Мб\n"
          ]
        }
      ],
      "source": [
        "variance_traffic_smart = np.var(gd[gd['tariff']=='smart']['traffic_used'],ddof=1) #дисперсия для данных по количеству траффика пользователей тарифа `smart`\n",
        "print (f'Дисперсия по объему траффика для тарифа smart: {round(variance_traffic_smart)} Мб')\n",
        "print (f'Стандартное отклонениепо объему траффика для тарифа smart: {round(variance_traffic_smart**0.5)} Мб') #стандартное отклонение по количеству траффика пользователей тарифа `smart`"
      ]
    },
    {
      "cell_type": "code",
      "execution_count": null,
      "metadata": {
        "id": "yRYyyeTy677d",
        "outputId": "c1d3b2c4-05c9-4940-f687-547c9461976c",
        "colab": {
          "base_uri": "https://localhost:8080/"
        }
      },
      "outputs": [
        {
          "output_type": "stream",
          "name": "stdout",
          "text": [
            "Дисперсия по объему траффика для тарифа ultra: 101647713 Мб\n",
            "Стандартное отклонениепо объему траффика для тарифа smart: 10082 Мб\n"
          ]
        }
      ],
      "source": [
        "variance_traffic_ultra = np.var(gd[gd['tariff']=='ultra']['traffic_used']) #дисперсия для данных по количеству траффика пользователей тарифа `ultra`\n",
        "print (f'Дисперсия по объему траффика для тарифа ultra: {round(variance_traffic_ultra)} Мб')\n",
        "print (f'Стандартное отклонениепо объему траффика для тарифа smart: {round(variance_traffic_ultra**0.5)} Мб') #стандартное отклонение по количеству траффика пользователей тарифа `ultra`"
      ]
    },
    {
      "cell_type": "markdown",
      "metadata": {
        "id": "mky_R9Hq677d"
      },
      "source": [
        "Абонент, пользующийся тарифом Smart использует в течение месяца в среднем 15,8 Гб интернета с отклонением в большую или меньшую сторону в среднем 5,7 Гб. Стандартное отклонение не очень большое - около 30% от среднего значения, данные можно считать довольно однородными. Касательно абонентов тарифа Ultra, они используют в среднем 19  Гб и с еще большим стандартным отклонением - около 10 Гб . Данные по тарифу Ultra нельзя назвать однородными. Гистограмма для пользователей тарифа Ultra показывает, что очень мало пользователей расходуют за месяц более 30 Гб, это обусловлено условиями тарифа - в стоимость включен именно этот объем траффика."
      ]
    },
    {
      "cell_type": "markdown",
      "source": [
        "Для сравнения тарифов дополнительно построим диаграммы размаха."
      ],
      "metadata": {
        "id": "ID2d7gPdOoxU"
      }
    },
    {
      "cell_type": "code",
      "source": [
        "gd.columns"
      ],
      "metadata": {
        "colab": {
          "base_uri": "https://localhost:8080/"
        },
        "id": "bI2oJ1U5O0Lb",
        "outputId": "fc2f0d12-6249-4cef-f258-307fc76e67cc"
      },
      "execution_count": null,
      "outputs": [
        {
          "output_type": "execute_result",
          "data": {
            "text/plain": [
              "Index(['user_id', 'month', 'calls_qty', 'calls_duration', 'messages_qty',\n",
              "       'traffic_used', 'tariff', 'revenue'],\n",
              "      dtype='object')"
            ]
          },
          "metadata": {},
          "execution_count": 96
        }
      ]
    },
    {
      "cell_type": "code",
      "source": [
        "for column in ['calls_qty', 'calls_duration', 'messages_qty',\n",
        "       'traffic_used', 'revenue']:    \n",
        "    g = sns.catplot(y='tariff', x=column, kind=\"box\", data=gd, orient='h', palette = 'pastel')\n",
        "    g.fig.set_figwidth(12)\n",
        "    g.fig.set_figheight(2)"
      ],
      "metadata": {
        "colab": {
          "base_uri": "https://localhost:8080/",
          "height": 857
        },
        "id": "kbwP-1m1PIVT",
        "outputId": "677344e0-29f1-4a7d-8d83-c696b0c2b787"
      },
      "execution_count": null,
      "outputs": [
        {
          "output_type": "display_data",
          "data": {
            "text/plain": [
              "<Figure size 864x144 with 1 Axes>"
            ],
            "image/png": "[encoded data removed]"
          },
          "metadata": {
            "needs_background": "light"
          }
        },
        {
          "output_type": "display_data",
          "data": {
            "text/plain": [
              "<Figure size 864x144 with 1 Axes>"
            ],
            "image/png": "[encoded data removed]"
          },
          "metadata": {
            "needs_background": "light"
          }
        },
        {
          "output_type": "display_data",
          "data": {
            "text/plain": [
              "<Figure size 864x144 with 1 Axes>"
            ],
            "image/png": "[encoded data removed]"
          },
          "metadata": {
            "needs_background": "light"
          }
        },
        {
          "output_type": "display_data",
          "data": {
            "text/plain": [
              "<Figure size 864x144 with 1 Axes>"
            ],
            "image/png": "[encoded data removed]"
          },
          "metadata": {
            "needs_background": "light"
          }
        },
        {
          "output_type": "display_data",
          "data": {
            "text/plain": [
              "<Figure size 864x144 with 1 Axes>"
            ],
            "image/png": "[encoded data removed]"
          },
          "metadata": {
            "needs_background": "light"
          }
        }
      ]
    },
    {
      "cell_type": "code",
      "source": [
        "(gd\n",
        " .pivot_table(index='tariff', columns='month', values='user_id', aggfunc='count')\n",
        " .T\n",
        " .plot(kind='line', figsize=(10,4),  style = 'o-')\n",
        ")\n",
        "plt.title('Рост кол-ва клиентов по 2-м тарифам за год'+ \"\\n\")\n",
        "plt.xlabel('Месяц')\n",
        "plt.ylabel('кол-во');"
      ],
      "metadata": {
        "colab": {
          "base_uri": "https://localhost:8080/",
          "height": 310
        },
        "id": "c4OhDF4LPOfp",
        "outputId": "a84edca1-0d24-4354-f497-8145eae249ae"
      },
      "execution_count": null,
      "outputs": [
        {
          "output_type": "display_data",
          "data": {
            "text/plain": [
              "<Figure size 720x288 with 1 Axes>"
            ],
            "image/png": "[encoded data removed]"
          },
          "metadata": {
            "needs_background": "light"
          }
        }
      ]
    },
    {
      "cell_type": "code",
      "source": [
        "(gd\n",
        " .pivot_table(index='tariff', columns='month', values='revenue', aggfunc='mean')\n",
        " .T\n",
        " .plot(kind='line', figsize=(10,4),  style = 'o-')\n",
        ")\n",
        "plt.title('Средняя ежемесячная выручка от одного абонента'+ \"\\n\")\n",
        "plt.xlabel('Месяц')\n",
        "plt.ylabel('Рубли');"
      ],
      "metadata": {
        "colab": {
          "base_uri": "https://localhost:8080/",
          "height": 310
        },
        "id": "0o49DHziPVBv",
        "outputId": "7cf3e77f-650b-45b7-bee2-9a9143d83adf"
      },
      "execution_count": null,
      "outputs": [
        {
          "output_type": "display_data",
          "data": {
            "text/plain": [
              "<Figure size 720x288 with 1 Axes>"
            ],
            "image/png": "[encoded data removed]"
          },
          "metadata": {
            "needs_background": "light"
          }
        }
      ]
    },
    {
      "cell_type": "code",
      "source": [
        "(gd\n",
        " .pivot_table(index='tariff', columns='month', values='revenue', aggfunc='sum')\n",
        " .T\n",
        " .plot(kind='line', figsize=(10,4),  style = 'o-')\n",
        ")\n",
        "plt.title('Суммарная ежемесячная выручка по 2-м тарифам'+ \"\\n\")\n",
        "plt.xlabel('Месяц')\n",
        "plt.ylabel('Рубли');"
      ],
      "metadata": {
        "colab": {
          "base_uri": "https://localhost:8080/",
          "height": 310
        },
        "id": "6yuxcR0KPaIP",
        "outputId": "c5db39c3-b842-402f-fc7e-1203fedaa6bd"
      },
      "execution_count": null,
      "outputs": [
        {
          "output_type": "display_data",
          "data": {
            "text/plain": [
              "<Figure size 720x288 with 1 Axes>"
            ],
            "image/png": "[encoded data removed]"
          },
          "metadata": {
            "needs_background": "light"
          }
        }
      ]
    },
    {
      "cell_type": "markdown",
      "source": [
        "Выручка от тарифа smart уже в два раза выше выручки от ultra, но есть опасность ухода клиентов смарта к конкурентам. Проверим текущую ситуацию."
      ],
      "metadata": {
        "id": "AyNT3h21Pops"
      }
    },
    {
      "cell_type": "code",
      "source": [
        "df_users = pd.read_csv('/3_users.csv')\n",
        "\n",
        "print ('Кол-во клентов покинувших компанию за год', df_users.churn_date.notna().sum())\n",
        "\n",
        "print ('Кол-во клентов покинувших компанию за посл. 4 мес. 2018 г. на двух тарифах',\n",
        "       df_users.query('churn_date > \"2018-09-25\"').churn_date.notna().sum()\n",
        "      )\n",
        "print ('%  от общего кол-ва всех клиентов, покинувших компанию за посл. 4 мес. 2018 г. на двух тарифах',\n",
        "    (df_users.query('churn_date > \"2018-09-25\"').churn_date.notna().sum()/df_users.churn_date.notna().sum()*100).round(1)\n",
        ")\n",
        "\n",
        "print ('Распределение оттока клиентов на тарифах за посл. 4 мес. 2018 г.')\n",
        "df_users.query('churn_date > \"2018-09-25\"').groupby('tariff')['churn_date'].count().to_frame()"
      ],
      "metadata": {
        "colab": {
          "base_uri": "https://localhost:8080/",
          "height": 217
        },
        "id": "9vkdf9_eP5SU",
        "outputId": "ff0aaa1d-71ed-431d-c5e7-48a2a45ff80b"
      },
      "execution_count": null,
      "outputs": [
        {
          "output_type": "stream",
          "name": "stdout",
          "text": [
            "Кол-во клентов покинувших компанию за год 38\n",
            "Кол-во клентов покинувших компанию за посл. 4 мес. 2018 г. на двух тарифах 35\n",
            "%  от общего кол-ва всех клиентов, покинувших компанию за посл. 4 мес. 2018 г. на двух тарифах 92.1\n",
            "Распределение оттока клиентов на тарифах за посл. 4 мес. 2018 г.\n"
          ]
        },
        {
          "output_type": "execute_result",
          "data": {
            "text/plain": [
              "        churn_date\n",
              "tariff            \n",
              "smart           22\n",
              "ultra           13"
            ],
            "text/html": [
              "\n",
              "  <div id=\"df-42a80f21-0a1b-4e90-8848-227b95004fd2\">\n",
              "    <div class=\"colab-df-container\">\n",
              "      <div>\n",
              "<style scoped>\n",
              "    .dataframe tbody tr th:only-of-type {\n",
              "        vertical-align: middle;\n",
              "    }\n",
              "\n",
              "    .dataframe tbody tr th {\n",
              "        vertical-align: top;\n",
              "    }\n",
              "\n",
              "    .dataframe thead th {\n",
              "        text-align: right;\n",
              "    }\n",
              "</style>\n",
              "<table border=\"1\" class=\"dataframe\">\n",
              "  <thead>\n",
              "    <tr style=\"text-align: right;\">\n",
              "      <th></th>\n",
              "      <th>churn_date</th>\n",
              "    </tr>\n",
              "    <tr>\n",
              "      <th>tariff</th>\n",
              "      <th></th>\n",
              "    </tr>\n",
              "  </thead>\n",
              "  <tbody>\n",
              "    <tr>\n",
              "      <th>smart</th>\n",
              "      <td>22</td>\n",
              "    </tr>\n",
              "    <tr>\n",
              "      <th>ultra</th>\n",
              "      <td>13</td>\n",
              "    </tr>\n",
              "  </tbody>\n",
              "</table>\n",
              "</div>\n",
              "      <button class=\"colab-df-convert\" onclick=\"convertToInteractive('df-42a80f21-0a1b-4e90-8848-227b95004fd2')\"\n",
              "              title=\"Convert this dataframe to an interactive table.\"\n",
              "              style=\"display:none;\">\n",
              "        \n",
              "  <svg xmlns=\"http://www.w3.org/2000/svg\" height=\"24px\"viewBox=\"0 0 24 24\"\n",
              "       width=\"24px\">\n",
              "    <path d=\"M0 0h24v24H0V0z\" fill=\"none\"/>\n",
              "    <path d=\"M18.56 5.44l.94 2.06.94-2.06 2.06-.94-2.06-.94-.94-2.06-.94 2.06-2.06.94zm-11 1L8.5 8.5l.94-2.06 2.06-.94-2.06-.94L8.5 2.5l-.94 2.06-2.06.94zm10 10l.94 2.06.94-2.06 2.06-.94-2.06-.94-.94-2.06-.94 2.06-2.06.94z\"/><path d=\"M17.41 7.96l-1.37-1.37c-.4-.4-.92-.59-1.43-.59-.52 0-1.04.2-1.43.59L10.3 9.45l-7.72 7.72c-.78.78-.78 2.05 0 2.83L4 21.41c.39.39.9.59 1.41.59.51 0 1.02-.2 1.41-.59l7.78-7.78 2.81-2.81c.8-.78.8-2.07 0-2.86zM5.41 20L4 18.59l7.72-7.72 1.47 1.35L5.41 20z\"/>\n",
              "  </svg>\n",
              "      </button>\n",
              "      \n",
              "  <style>\n",
              "    .colab-df-container {\n",
              "      display:flex;\n",
              "      flex-wrap:wrap;\n",
              "      gap: 12px;\n",
              "    }\n",
              "\n",
              "    .colab-df-convert {\n",
              "      background-color: #E8F0FE;\n",
              "      border: none;\n",
              "      border-radius: 50%;\n",
              "      cursor: pointer;\n",
              "      display: none;\n",
              "      fill: #1967D2;\n",
              "      height: 32px;\n",
              "      padding: 0 0 0 0;\n",
              "      width: 32px;\n",
              "    }\n",
              "\n",
              "    .colab-df-convert:hover {\n",
              "      background-color: #E2EBFA;\n",
              "      box-shadow: 0px 1px 2px rgba(60, 64, 67, 0.3), 0px 1px 3px 1px rgba(60, 64, 67, 0.15);\n",
              "      fill: #174EA6;\n",
              "    }\n",
              "\n",
              "    [theme=dark] .colab-df-convert {\n",
              "      background-color: #3B4455;\n",
              "      fill: #D2E3FC;\n",
              "    }\n",
              "\n",
              "    [theme=dark] .colab-df-convert:hover {\n",
              "      background-color: #434B5C;\n",
              "      box-shadow: 0px 1px 3px 1px rgba(0, 0, 0, 0.15);\n",
              "      filter: drop-shadow(0px 1px 2px rgba(0, 0, 0, 0.3));\n",
              "      fill: #FFFFFF;\n",
              "    }\n",
              "  </style>\n",
              "\n",
              "      <script>\n",
              "        const buttonEl =\n",
              "          document.querySelector('#df-42a80f21-0a1b-4e90-8848-227b95004fd2 button.colab-df-convert');\n",
              "        buttonEl.style.display =\n",
              "          google.colab.kernel.accessAllowed ? 'block' : 'none';\n",
              "\n",
              "        async function convertToInteractive(key) {\n",
              "          const element = document.querySelector('#df-42a80f21-0a1b-4e90-8848-227b95004fd2');\n",
              "          const dataTable =\n",
              "            await google.colab.kernel.invokeFunction('convertToInteractive',\n",
              "                                                     [key], {});\n",
              "          if (!dataTable) return;\n",
              "\n",
              "          const docLinkHtml = 'Like what you see? Visit the ' +\n",
              "            '<a target=\"_blank\" href=https://colab.research.google.com/notebooks/data_table.ipynb>data table notebook</a>'\n",
              "            + ' to learn more about interactive tables.';\n",
              "          element.innerHTML = '';\n",
              "          dataTable['output_type'] = 'display_data';\n",
              "          await google.colab.output.renderOutput(dataTable, element);\n",
              "          const docLink = document.createElement('div');\n",
              "          docLink.innerHTML = docLinkHtml;\n",
              "          element.appendChild(docLink);\n",
              "        }\n",
              "      </script>\n",
              "    </div>\n",
              "  </div>\n",
              "  "
            ]
          },
          "metadata": {},
          "execution_count": 101
        }
      ]
    },
    {
      "cell_type": "markdown",
      "source": [
        "Результаты анализа подтверждают гипотезу - отток клиентов усиливается."
      ],
      "metadata": {
        "id": "9njGRonEQArC"
      }
    },
    {
      "cell_type": "markdown",
      "source": [
        "## Проверка гипотез"
      ],
      "metadata": {
        "id": "cDLOJpd8QLuE"
      }
    },
    {
      "cell_type": "markdown",
      "metadata": {
        "id": "7ebG_UDc677e"
      },
      "source": [
        "Нулевая гипотеза: средняя выручка по тарифам Ultra и Smart одинаковая.\n",
        "Альтернативная гипотеза: средняя выручка по тарифу Smart отличается от  выручки по тарифу Ultra."
      ]
    },
    {
      "cell_type": "code",
      "execution_count": null,
      "metadata": {
        "scrolled": true,
        "id": "LN3ECxSm677f",
        "outputId": "5bbfe63e-62f7-4517-dc60-d6181ec409e2",
        "colab": {
          "base_uri": "https://localhost:8080/"
        }
      },
      "outputs": [
        {
          "output_type": "stream",
          "name": "stdout",
          "text": [
            "p-значение:4.2606313931076085e-250\n",
            "Отвергаем нулевую гипотезу\n"
          ]
        }
      ],
      "source": [
        "smart = gd[gd['tariff']=='smart']['revenue'] #выборка по выручке для пользователей тарифа smart\n",
        "ultra = gd[gd['tariff']=='ultra']['revenue'] #выборка по выручке для пользователей тарифа ultra\n",
        "alpha = .05 # уровень статистической значимости\n",
        "results = st.ttest_ind(smart,ultra,equal_var=False)\n",
        "print(f'p-значение:{results.pvalue}')\n",
        "if results.pvalue < alpha:\n",
        "    print('Отвергаем нулевую гипотезу')\n",
        "else:\n",
        "    print('Не получилось отвергнуть нулевую гипотезу')"
      ]
    },
    {
      "cell_type": "markdown",
      "metadata": {
        "id": "dQ8Fblye677g"
      },
      "source": [
        "Нулевая гипотеза о равенстве двух совокупностей по выручке от пользования за тарифы Smart и Ultra может быть отвергнута.\n",
        "Для наглядности построим гистограмму распределения доходов в зависимости от используемого тарифа."
      ]
    },
    {
      "cell_type": "code",
      "execution_count": null,
      "metadata": {
        "id": "OE8vMXbm677g",
        "outputId": "f9225699-dd24-46f3-e87b-7cf78bb4cea3",
        "colab": {
          "base_uri": "https://localhost:8080/",
          "height": 567
        }
      },
      "outputs": [
        {
          "output_type": "display_data",
          "data": {
            "text/plain": [
              "<Figure size 864x648 with 1 Axes>"
            ],
            "image/png": "[encoded data removed]"
          },
          "metadata": {
            "needs_background": "light"
          }
        }
      ],
      "source": [
        "gd[gd['tariff']=='smart']['revenue'].plot(kind = 'hist', range=(0,5000), bins=30, grid=True,title='Выручка',figsize=(12,9)).set_xlabel('Рубли');\n",
        "gd[gd['tariff']=='ultra']['revenue'].plot(kind = 'hist',range=(0,5000), bins=30, grid=True,alpha=0.7);"
      ]
    },
    {
      "cell_type": "markdown",
      "metadata": {
        "id": "B-DBB38k677h"
      },
      "source": [
        "Сравнение объемов полученных гистограмм наглядно показывает большую выручку от пользователей тарифа Smart (распределеение отмечено синим цветом на графике). Это связано с тем, что их доля значительно больше, чем доля пользователей тарифа Ultra, ниже подтверждение."
      ]
    },
    {
      "cell_type": "code",
      "execution_count": null,
      "metadata": {
        "id": "HBMt8FGn677h",
        "outputId": "fd620b20-d1a7-433c-cc0b-2d35cc53243a",
        "colab": {
          "base_uri": "https://localhost:8080/"
        }
      },
      "outputs": [
        {
          "output_type": "stream",
          "name": "stdout",
          "text": [
            "Доля абонентов тарифа Smart,%:\n"
          ]
        },
        {
          "output_type": "execute_result",
          "data": {
            "text/plain": [
              "69.4"
            ]
          },
          "metadata": {},
          "execution_count": 104
        }
      ],
      "source": [
        "print ('Доля абонентов тарифа Smart,%:')\n",
        "round(len(gd[gd['tariff']=='smart'])/len(gd)*100,1)"
      ]
    },
    {
      "cell_type": "markdown",
      "metadata": {
        "id": "F0souh2-677h"
      },
      "source": [
        "Проверим гипотезу о том, что средняя выручка от абонентов из Москвы не отличается от выручки от абонентов из регионов. Альтернативной гипотезой в данном случае будем рассматривать наличие различий между выручкой от абонентов из Москвы и из других регионов. Для проверки нулевой гипотезы будем использовать метод о равенстве среднего двух генеральных совокупностей по взятым из них выборкам: ttest_ind. Поскольку рассмтриваемые нами данные являются небольшой выборкой, для параметра equal_var установим значение False."
      ]
    },
    {
      "cell_type": "code",
      "execution_count": null,
      "metadata": {
        "id": "N6CHiEHd677i"
      },
      "outputs": [],
      "source": [
        "gd['city'] = gd.merge(users, on='user_id')['city'] #дополним датасет `gd` данными по региону проживания абонента"
      ]
    },
    {
      "cell_type": "code",
      "execution_count": null,
      "metadata": {
        "id": "gZp-HFmB677i",
        "outputId": "3b793968-5002-440c-d1aa-a17ae4593c7c",
        "colab": {
          "base_uri": "https://localhost:8080/"
        }
      },
      "outputs": [
        {
          "output_type": "stream",
          "name": "stdout",
          "text": [
            "p-значение:0.5989670526299272\n",
            "Не получилось отвергнуть нулевую гипотезу\n"
          ]
        }
      ],
      "source": [
        "moscow_users = gd[gd['city']=='Москва']['revenue'] #выборка по выручке для абонентов из Москвы\n",
        "other_users = gd[gd['tariff']!='Москва']['revenue'] #выборка по выручке для абонентов из других регионов\n",
        "alpha = .05 # уровень статистической значимости\n",
        "results = st.ttest_ind(moscow_users,other_users,equal_var=False)\n",
        "print(f'p-значение:{results.pvalue}')\n",
        "if results.pvalue < alpha:\n",
        "    print('Отвергаем нулевую гипотезу')\n",
        "else:\n",
        "    print('Не получилось отвергнуть нулевую гипотезу')"
      ]
    },
    {
      "cell_type": "markdown",
      "metadata": {
        "id": "WrTH30yf677i"
      },
      "source": [
        "\n",
        "Полученное значение p-value (0.5452136038806226) говорит о том, что вероятность получить такое или большее различие случайно более 50%. Это слишком большая вероятность, чтобы делать вывод о значимом различии между выручкой для абонентов из разных регионов.\n"
      ]
    },
    {
      "cell_type": "markdown",
      "metadata": {
        "id": "mTv3WF_o677j"
      },
      "source": [
        "На основании рассматриваемых данных гипотеза о равенстве выручки для абонентов из разных регионов не может быть отвергнута. Для наглядности посмотрим на гистограммы плотностей."
      ]
    },
    {
      "cell_type": "code",
      "execution_count": null,
      "metadata": {
        "id": "_Ps-RLYW677j",
        "outputId": "15e37b7c-1be2-40d0-a76f-248900ec6b8e",
        "colab": {
          "base_uri": "https://localhost:8080/",
          "height": 567
        }
      },
      "outputs": [
        {
          "output_type": "display_data",
          "data": {
            "text/plain": [
              "<Figure size 864x648 with 1 Axes>"
            ],
            "image/png": "[encoded data removed]"
          },
          "metadata": {
            "needs_background": "light"
          }
        }
      ],
      "source": [
        "gd[gd['city']=='Москва']['revenue'].plot(kind = 'hist', range=(0,5000), bins=30, grid=True,title='Выручка',figsize=(12,9)).set_xlabel('Рубли');\n",
        "gd[gd['city']!='Москва']['revenue'].plot(kind = 'hist',range=(0,5000), bins=30, grid=True,alpha=0.7);"
      ]
    },
    {
      "cell_type": "markdown",
      "metadata": {
        "id": "tgDZ3Fqj677j"
      },
      "source": [
        "Как можно увидеть из приведенной гистограммы, распределение выручки для пользователй из Москвы и других регионов носит одинаковый характер. Размеры выручки для пользователей из Москвы ожидаемо меньше, чем для пользователей из других регионов, поскольку количество абонентов из Москвы меньше в рассматриваемой выборке ( около 20%), ниже код для подтверждения данного утверждения."
      ]
    },
    {
      "cell_type": "code",
      "execution_count": null,
      "metadata": {
        "id": "0Efk0FIL677j",
        "outputId": "fcef841d-9882-430c-f091-2da5502d15b6",
        "colab": {
          "base_uri": "https://localhost:8080/"
        }
      },
      "outputs": [
        {
          "output_type": "stream",
          "name": "stdout",
          "text": [
            "Доля пользователей из Москвы,%:\n"
          ]
        },
        {
          "output_type": "execute_result",
          "data": {
            "text/plain": [
              "19.0"
            ]
          },
          "metadata": {},
          "execution_count": 108
        }
      ],
      "source": [
        "print('Доля пользователей из Москвы,%:')\n",
        "round(len(gd[gd['city']=='Москва']['revenue'])/len(gd)*100,1)"
      ]
    },
    {
      "cell_type": "markdown",
      "metadata": {
        "id": "HjP635Le677k"
      },
      "source": [
        "## Общий вывод"
      ]
    },
    {
      "cell_type": "markdown",
      "metadata": {
        "id": "vnSvQm9i677k"
      },
      "source": [
        "В ходе проведенного исследования нам удалось выяснить, что пользователи тарифа Smart в среднем разговаривют  394 минут в месяц, а для пользователей тарифа Ultra этот показатель равен  497 минутам. Оба значения укладываются в количества включенных минут по тарифам ( 500 и 3000 минут соответсвенно), но стандартное отклонение в  180 минут для выборки по тарифу Smart увеличивает вероятность превышения лимита выделенных минут в среднем на  74 минуты, что приносит Мегалайну дополнительно в среднем  74*3= 222 рубля в месяц с каждого пользователя тарифа Smart.\n",
        "\n",
        "По количеству отправленных сообщения разница между тарифами также незначительна -  33 и  49 сообщение при лимитах в 50 и 1000 сообщений соотвественно, видимо абонентам тарифа Smart приходится себя сдерживать перед тем как написать лишнее сообщение и думать о лимите сообщений на месяц. Стандартное отклонение в  28 сообщений показывает, что в среднем пользователи тарифа Smart доплачивают по  33 рублей дополнительно за сообщения отправленные сверх лимита ( 11 сообщений сверх лимита по 3 рубля каждое).\n",
        "\n",
        "По объему использованного траффика распределение расходов следующее:\n",
        "*  smart: 15.8 Гб в месяц при лимите в 15 Гб\n",
        "*  ultra: 19 Гб в месяц при лимите в 30 Гб.\n",
        "\n",
        "Видно, что пользователям тарифа Smart выделенного по условиям тарифа траффика не хватает и они расходуют в среднем еще по 0.8 Гб в месяц, что с учетом округления до 1 Гб стоит им дополнително еще 200 рублей в месяц.\n",
        "\n",
        "Гипотеза о различиях между выручкой от абонентов из разных регионов не подтвердилась, по всей видимости привычки людей в области общения по телефону не зависят от региона, в месяц они наговаривают, отправляют сообщения и пользуются интернетом на схожие суммы.\n",
        "\n",
        "Гипотеза о неравенстве выручки между тарифами  не может быть отвергнута, а гистограммы распределения доходов наглядно показала, что наибольший среднемесячный доход приносят абоненты более дешевого smart`а, на них видимо и следует сделать акцент коммерческому отделу при планировании рекламного бюджета. Процентное соотношение пользователей также способствует такому выводу - пользователей тарифа Smart 70%, остальная часть подключена к тарифу Ultra.\n"
      ]
    },
    {
      "cell_type": "markdown",
      "metadata": {
        "id": "SALrfRPJ677l"
      },
      "source": [
        "'средняя выручка от пользователей тарифа Smart:'\n",
        "Ниже сравним годовую выручку от тарифов smart и ultra.\n",
        "</div>"
      ]
    },
    {
      "cell_type": "code",
      "execution_count": null,
      "metadata": {
        "id": "SNOIWaPr677l",
        "outputId": "aa3c9531-ecca-40e6-cdcf-42262e03ea2d",
        "colab": {
          "base_uri": "https://localhost:8080/"
        }
      },
      "outputs": [
        {
          "output_type": "stream",
          "name": "stdout",
          "text": [
            "Годовая выручка от пользователей тарифа Smart: 2875351.0\n",
            "Годовая выручка от пользователей тарифа Ultra: 2039100.0\n",
            "Средняя выручка от пользователей тарифа Smart: 1289.9735307312696\n",
            "Средняя выручка от пользователей тарифа Smart: 2070.1522842639592\n"
          ]
        }
      ],
      "source": [
        "print ('Годовая выручка от пользователей тарифа Smart:',gd[gd['tariff']=='smart']['revenue'].sum()) # общая выручка от пользователей тарифа Smart\n",
        "print ('Годовая выручка от пользователей тарифа Ultra:',gd[gd['tariff']=='ultra']['revenue'].sum()) # общая выручка от пользователей тарифа Ultra\n",
        "print ('Средняя выручка от пользователей тарифа Smart:',gd[gd['tariff']=='smart']['revenue'].mean()) # средняя выручка от пользователей тарифа Smart\n",
        "print ('Средняя выручка от пользователей тарифа Smart:',gd[gd['tariff']=='ultra']['revenue'].mean()) # средняя выручка от пользователей тарифа Ultra"
      ]
    },
    {
      "cell_type": "markdown",
      "metadata": {
        "id": "Aqf-yMOz677m"
      },
      "source": [
        "<div class = \"alert alert-info\" style=\"border-left: 7px solid blue\">\n",
        "Сравнение годовой выручки по двум тарифам подтверждает то, что наибольший объем средств поступает от пользователей тарифа Smart (на 37%), несмотря на то, что среднемесячная выручка от пользователей тарифа Ultra выше на 60%. На такие показатели влияет распределение между количествами абонентов, подключенных к тарифам - 70% пользуются тарифом Smart и лишь 30% тарифом Ultra. \n",
        "Следует отметить, что сложившаяся ситуация уже приводит к оттоку клиентов с тарифа Smart, что нужно учесть при разработке маркетинговых стратегий.\n",
        "</div>"
      ]
    },
    {
      "cell_type": "code",
      "execution_count": null,
      "metadata": {
        "id": "reW1vCtB677p"
      },
      "outputs": [],
      "source": []
    }
  ],
  "metadata": {
    "ExecuteTimeLog": [
      {
        "duration": 3,
        "start_time": "2022-05-03T17:15:46.346Z"
      },
      {
        "duration": 218,
        "start_time": "2022-05-03T17:18:58.977Z"
      },
      {
        "duration": 552,
        "start_time": "2022-05-03T17:20:41.374Z"
      },
      {
        "duration": 105,
        "start_time": "2022-05-03T17:21:26.573Z"
      },
      {
        "duration": 421,
        "start_time": "2022-05-03T17:22:26.324Z"
      },
      {
        "duration": 15,
        "start_time": "2022-05-03T17:22:46.795Z"
      },
      {
        "duration": 30,
        "start_time": "2022-05-03T17:22:56.666Z"
      },
      {
        "duration": 56,
        "start_time": "2022-05-03T17:23:10.193Z"
      },
      {
        "duration": 9,
        "start_time": "2022-05-03T17:23:28.737Z"
      },
      {
        "duration": 24,
        "start_time": "2022-05-03T17:23:37.162Z"
      },
      {
        "duration": 36,
        "start_time": "2022-05-03T17:23:47.330Z"
      },
      {
        "duration": 8,
        "start_time": "2022-05-03T17:23:56.792Z"
      },
      {
        "duration": 19,
        "start_time": "2022-05-03T17:24:05.493Z"
      },
      {
        "duration": 34,
        "start_time": "2022-05-03T17:24:15.465Z"
      },
      {
        "duration": 8,
        "start_time": "2022-05-03T17:24:25.498Z"
      },
      {
        "duration": 11,
        "start_time": "2022-05-03T17:24:34.529Z"
      },
      {
        "duration": 17,
        "start_time": "2022-05-03T17:24:59.126Z"
      },
      {
        "duration": 14,
        "start_time": "2022-05-03T17:25:08.107Z"
      },
      {
        "duration": 53,
        "start_time": "2022-05-03T17:25:38.849Z"
      },
      {
        "duration": 37,
        "start_time": "2022-05-03T17:25:59.914Z"
      },
      {
        "duration": 43,
        "start_time": "2022-05-03T17:26:22.322Z"
      },
      {
        "duration": 72,
        "start_time": "2022-05-03T17:26:44.553Z"
      },
      {
        "duration": 14,
        "start_time": "2022-05-03T17:26:55.386Z"
      },
      {
        "duration": 13,
        "start_time": "2022-05-03T17:27:22.354Z"
      },
      {
        "duration": 69,
        "start_time": "2022-05-03T17:27:44.459Z"
      },
      {
        "duration": 2,
        "start_time": "2022-05-03T17:29:11.803Z"
      },
      {
        "duration": 3,
        "start_time": "2022-05-03T17:30:22.032Z"
      },
      {
        "duration": 12,
        "start_time": "2022-05-03T17:31:24.573Z"
      },
      {
        "duration": 9,
        "start_time": "2022-05-03T17:31:40.985Z"
      },
      {
        "duration": 10,
        "start_time": "2022-05-03T17:31:49.043Z"
      },
      {
        "duration": 9,
        "start_time": "2022-05-03T17:31:57.081Z"
      },
      {
        "duration": 8,
        "start_time": "2022-05-03T17:32:23.170Z"
      },
      {
        "duration": 8,
        "start_time": "2022-05-03T17:32:31.552Z"
      },
      {
        "duration": 8,
        "start_time": "2022-05-03T17:32:41.288Z"
      },
      {
        "duration": 7,
        "start_time": "2022-05-03T17:32:49.133Z"
      },
      {
        "duration": 8,
        "start_time": "2022-05-03T17:32:57.186Z"
      },
      {
        "duration": 1032,
        "start_time": "2022-05-03T17:40:30.001Z"
      },
      {
        "duration": 277,
        "start_time": "2022-05-03T17:41:17.841Z"
      },
      {
        "duration": 151,
        "start_time": "2022-05-03T17:42:55.305Z"
      },
      {
        "duration": 204,
        "start_time": "2022-05-03T17:46:02.020Z"
      },
      {
        "duration": 352,
        "start_time": "2022-05-03T17:50:26.200Z"
      },
      {
        "duration": 195,
        "start_time": "2022-05-03T17:50:38.214Z"
      },
      {
        "duration": 193,
        "start_time": "2022-05-03T17:50:52.665Z"
      },
      {
        "duration": 292,
        "start_time": "2022-05-03T17:51:09.103Z"
      },
      {
        "duration": 208,
        "start_time": "2022-05-03T17:51:22.564Z"
      },
      {
        "duration": 198,
        "start_time": "2022-05-03T17:51:27.287Z"
      },
      {
        "duration": 185,
        "start_time": "2022-05-03T17:51:46.952Z"
      },
      {
        "duration": 191,
        "start_time": "2022-05-03T17:52:04.921Z"
      },
      {
        "duration": 201,
        "start_time": "2022-05-03T17:52:16.183Z"
      },
      {
        "duration": 187,
        "start_time": "2022-05-03T17:59:11.848Z"
      },
      {
        "duration": 164,
        "start_time": "2022-05-03T17:59:37.214Z"
      },
      {
        "duration": 18,
        "start_time": "2022-05-03T17:59:47.703Z"
      },
      {
        "duration": 169,
        "start_time": "2022-05-03T18:00:08.215Z"
      },
      {
        "duration": 257,
        "start_time": "2022-05-03T18:00:49.817Z"
      },
      {
        "duration": 4,
        "start_time": "2022-05-03T18:01:16.368Z"
      },
      {
        "duration": 5,
        "start_time": "2022-05-03T18:01:31.120Z"
      },
      {
        "duration": 4,
        "start_time": "2022-05-03T18:01:35.225Z"
      },
      {
        "duration": 185,
        "start_time": "2022-05-03T18:02:03.519Z"
      },
      {
        "duration": 218,
        "start_time": "2022-05-03T18:04:01.104Z"
      },
      {
        "duration": 181,
        "start_time": "2022-05-03T18:04:42.293Z"
      },
      {
        "duration": 166,
        "start_time": "2022-05-03T18:05:05.481Z"
      },
      {
        "duration": 155,
        "start_time": "2022-05-03T18:05:42.586Z"
      },
      {
        "duration": 182,
        "start_time": "2022-05-03T18:05:48.456Z"
      },
      {
        "duration": 161,
        "start_time": "2022-05-03T18:05:56.945Z"
      },
      {
        "duration": 177,
        "start_time": "2022-05-03T18:06:12.275Z"
      },
      {
        "duration": 161,
        "start_time": "2022-05-03T18:06:45.648Z"
      },
      {
        "duration": 403,
        "start_time": "2022-05-03T18:06:48.845Z"
      },
      {
        "duration": 7,
        "start_time": "2022-05-03T18:06:49.250Z"
      },
      {
        "duration": 25,
        "start_time": "2022-05-03T18:06:49.259Z"
      },
      {
        "duration": 49,
        "start_time": "2022-05-03T18:06:49.286Z"
      },
      {
        "duration": 8,
        "start_time": "2022-05-03T18:06:49.337Z"
      },
      {
        "duration": 21,
        "start_time": "2022-05-03T18:06:49.347Z"
      },
      {
        "duration": 34,
        "start_time": "2022-05-03T18:06:49.369Z"
      },
      {
        "duration": 19,
        "start_time": "2022-05-03T18:06:49.405Z"
      },
      {
        "duration": 19,
        "start_time": "2022-05-03T18:06:49.426Z"
      },
      {
        "duration": 31,
        "start_time": "2022-05-03T18:06:49.447Z"
      },
      {
        "duration": 8,
        "start_time": "2022-05-03T18:06:49.479Z"
      },
      {
        "duration": 41,
        "start_time": "2022-05-03T18:06:49.488Z"
      },
      {
        "duration": 11,
        "start_time": "2022-05-03T18:06:49.530Z"
      },
      {
        "duration": 17,
        "start_time": "2022-05-03T18:06:49.544Z"
      },
      {
        "duration": 71,
        "start_time": "2022-05-03T18:06:49.562Z"
      },
      {
        "duration": 37,
        "start_time": "2022-05-03T18:06:49.635Z"
      },
      {
        "duration": 57,
        "start_time": "2022-05-03T18:06:49.675Z"
      },
      {
        "duration": 35,
        "start_time": "2022-05-03T18:06:49.734Z"
      },
      {
        "duration": 13,
        "start_time": "2022-05-03T18:06:49.771Z"
      },
      {
        "duration": 7,
        "start_time": "2022-05-03T18:06:49.786Z"
      },
      {
        "duration": 67,
        "start_time": "2022-05-03T18:06:49.823Z"
      },
      {
        "duration": 8,
        "start_time": "2022-05-03T18:06:49.892Z"
      },
      {
        "duration": 157,
        "start_time": "2022-05-03T18:06:49.902Z"
      },
      {
        "duration": 0,
        "start_time": "2022-05-03T18:06:50.060Z"
      },
      {
        "duration": 0,
        "start_time": "2022-05-03T18:06:50.061Z"
      },
      {
        "duration": 0,
        "start_time": "2022-05-03T18:06:50.062Z"
      },
      {
        "duration": 0,
        "start_time": "2022-05-03T18:06:50.064Z"
      },
      {
        "duration": 0,
        "start_time": "2022-05-03T18:06:50.065Z"
      },
      {
        "duration": 0,
        "start_time": "2022-05-03T18:06:50.066Z"
      },
      {
        "duration": 0,
        "start_time": "2022-05-03T18:06:50.067Z"
      },
      {
        "duration": 0,
        "start_time": "2022-05-03T18:06:50.067Z"
      },
      {
        "duration": 196,
        "start_time": "2022-05-03T18:07:14.765Z"
      },
      {
        "duration": 9,
        "start_time": "2022-05-03T18:07:33.504Z"
      },
      {
        "duration": 204,
        "start_time": "2022-05-03T18:08:54.160Z"
      },
      {
        "duration": 10,
        "start_time": "2022-05-03T18:10:05.639Z"
      },
      {
        "duration": 241,
        "start_time": "2022-05-03T18:11:25.550Z"
      },
      {
        "duration": 445,
        "start_time": "2022-05-03T18:11:59.108Z"
      },
      {
        "duration": 9,
        "start_time": "2022-05-03T18:11:59.555Z"
      },
      {
        "duration": 26,
        "start_time": "2022-05-03T18:11:59.566Z"
      },
      {
        "duration": 50,
        "start_time": "2022-05-03T18:11:59.594Z"
      },
      {
        "duration": 9,
        "start_time": "2022-05-03T18:11:59.646Z"
      },
      {
        "duration": 25,
        "start_time": "2022-05-03T18:11:59.656Z"
      },
      {
        "duration": 52,
        "start_time": "2022-05-03T18:11:59.683Z"
      },
      {
        "duration": 7,
        "start_time": "2022-05-03T18:11:59.737Z"
      },
      {
        "duration": 20,
        "start_time": "2022-05-03T18:11:59.745Z"
      },
      {
        "duration": 56,
        "start_time": "2022-05-03T18:11:59.767Z"
      },
      {
        "duration": 8,
        "start_time": "2022-05-03T18:11:59.824Z"
      },
      {
        "duration": 12,
        "start_time": "2022-05-03T18:11:59.833Z"
      },
      {
        "duration": 14,
        "start_time": "2022-05-03T18:11:59.847Z"
      },
      {
        "duration": 13,
        "start_time": "2022-05-03T18:11:59.864Z"
      },
      {
        "duration": 75,
        "start_time": "2022-05-03T18:11:59.879Z"
      },
      {
        "duration": 35,
        "start_time": "2022-05-03T18:11:59.955Z"
      },
      {
        "duration": 58,
        "start_time": "2022-05-03T18:11:59.992Z"
      },
      {
        "duration": 36,
        "start_time": "2022-05-03T18:12:00.052Z"
      },
      {
        "duration": 14,
        "start_time": "2022-05-03T18:12:00.090Z"
      },
      {
        "duration": 9,
        "start_time": "2022-05-03T18:12:00.123Z"
      },
      {
        "duration": 70,
        "start_time": "2022-05-03T18:12:00.134Z"
      },
      {
        "duration": 11,
        "start_time": "2022-05-03T18:12:00.222Z"
      },
      {
        "duration": 220,
        "start_time": "2022-05-03T18:12:00.234Z"
      },
      {
        "duration": 9,
        "start_time": "2022-05-03T18:12:00.455Z"
      },
      {
        "duration": 216,
        "start_time": "2022-05-03T18:12:00.466Z"
      },
      {
        "duration": 10,
        "start_time": "2022-05-03T18:12:00.684Z"
      },
      {
        "duration": 203,
        "start_time": "2022-05-03T18:12:00.696Z"
      },
      {
        "duration": 10,
        "start_time": "2022-05-03T18:12:00.901Z"
      },
      {
        "duration": 9,
        "start_time": "2022-05-03T18:12:00.923Z"
      },
      {
        "duration": 64,
        "start_time": "2022-05-03T18:12:00.934Z"
      },
      {
        "duration": 13,
        "start_time": "2022-05-03T18:12:01.000Z"
      },
      {
        "duration": 20,
        "start_time": "2022-05-03T18:12:01.015Z"
      },
      {
        "duration": 25,
        "start_time": "2022-05-03T18:12:01.036Z"
      },
      {
        "duration": 170,
        "start_time": "2022-05-03T18:13:57.493Z"
      },
      {
        "duration": 185,
        "start_time": "2022-05-03T18:14:08.606Z"
      },
      {
        "duration": 8,
        "start_time": "2022-05-03T18:14:17.118Z"
      },
      {
        "duration": 8,
        "start_time": "2022-05-03T18:14:29.678Z"
      },
      {
        "duration": 8,
        "start_time": "2022-05-03T18:14:46.151Z"
      },
      {
        "duration": 8,
        "start_time": "2022-05-03T18:15:34.088Z"
      },
      {
        "duration": 8,
        "start_time": "2022-05-03T18:15:46.926Z"
      },
      {
        "duration": 6,
        "start_time": "2022-05-03T18:15:51.623Z"
      },
      {
        "duration": 7,
        "start_time": "2022-05-03T18:16:29.152Z"
      },
      {
        "duration": 6,
        "start_time": "2022-05-03T18:16:57.887Z"
      },
      {
        "duration": 7,
        "start_time": "2022-05-03T18:17:49.176Z"
      },
      {
        "duration": 7,
        "start_time": "2022-05-03T18:18:05.478Z"
      },
      {
        "duration": 7,
        "start_time": "2022-05-03T18:18:44.361Z"
      },
      {
        "duration": 7,
        "start_time": "2022-05-03T18:19:16.550Z"
      },
      {
        "duration": 7,
        "start_time": "2022-05-03T18:19:22.966Z"
      },
      {
        "duration": 6,
        "start_time": "2022-05-03T18:19:43.510Z"
      },
      {
        "duration": 7,
        "start_time": "2022-05-03T18:19:49.292Z"
      },
      {
        "duration": 8,
        "start_time": "2022-05-03T18:21:10.220Z"
      },
      {
        "duration": 6,
        "start_time": "2022-05-03T18:21:56.288Z"
      },
      {
        "duration": 7,
        "start_time": "2022-05-03T18:22:15.119Z"
      },
      {
        "duration": 7,
        "start_time": "2022-05-03T18:22:46.749Z"
      },
      {
        "duration": 7,
        "start_time": "2022-05-03T18:23:11.806Z"
      },
      {
        "duration": 6,
        "start_time": "2022-05-03T18:23:34.255Z"
      },
      {
        "duration": 6,
        "start_time": "2022-05-03T18:23:45.156Z"
      },
      {
        "duration": 6,
        "start_time": "2022-05-03T18:24:24.839Z"
      },
      {
        "duration": 6,
        "start_time": "2022-05-03T18:24:31.357Z"
      },
      {
        "duration": 6,
        "start_time": "2022-05-03T18:25:18.821Z"
      },
      {
        "duration": 6,
        "start_time": "2022-05-03T18:25:27.117Z"
      },
      {
        "duration": 7,
        "start_time": "2022-05-03T18:25:45.583Z"
      },
      {
        "duration": 6,
        "start_time": "2022-05-03T18:26:07.237Z"
      },
      {
        "duration": 6,
        "start_time": "2022-05-03T18:26:21.993Z"
      },
      {
        "duration": 7,
        "start_time": "2022-05-03T18:26:39.381Z"
      },
      {
        "duration": 7,
        "start_time": "2022-05-03T18:26:51.785Z"
      },
      {
        "duration": 172,
        "start_time": "2022-05-03T18:27:25.518Z"
      },
      {
        "duration": 9,
        "start_time": "2022-05-03T18:27:34.366Z"
      },
      {
        "duration": 9,
        "start_time": "2022-05-03T18:27:46.620Z"
      },
      {
        "duration": 9,
        "start_time": "2022-05-03T18:28:00.437Z"
      },
      {
        "duration": 9,
        "start_time": "2022-05-03T18:28:19.324Z"
      },
      {
        "duration": 170,
        "start_time": "2022-05-03T18:29:23.451Z"
      },
      {
        "duration": 151,
        "start_time": "2022-05-03T18:29:41.502Z"
      },
      {
        "duration": 8,
        "start_time": "2022-05-03T18:30:36.971Z"
      },
      {
        "duration": 10,
        "start_time": "2022-05-03T18:30:48.283Z"
      },
      {
        "duration": 10,
        "start_time": "2022-05-03T18:31:09.012Z"
      },
      {
        "duration": 11,
        "start_time": "2022-05-03T18:31:54.445Z"
      },
      {
        "duration": 322,
        "start_time": "2022-05-03T18:32:31.837Z"
      },
      {
        "duration": 11,
        "start_time": "2022-05-03T18:32:43.420Z"
      },
      {
        "duration": 8,
        "start_time": "2022-05-03T18:33:00.773Z"
      },
      {
        "duration": 9,
        "start_time": "2022-05-03T18:33:38.652Z"
      },
      {
        "duration": 178,
        "start_time": "2022-05-03T18:34:12.541Z"
      },
      {
        "duration": 8,
        "start_time": "2022-05-03T18:34:19.283Z"
      },
      {
        "duration": 13,
        "start_time": "2022-05-03T18:34:52.012Z"
      },
      {
        "duration": 12,
        "start_time": "2022-05-03T18:35:05.162Z"
      },
      {
        "duration": 10,
        "start_time": "2022-05-03T18:35:17.670Z"
      },
      {
        "duration": 9,
        "start_time": "2022-05-03T18:35:52.614Z"
      },
      {
        "duration": 8,
        "start_time": "2022-05-03T18:36:29.766Z"
      },
      {
        "duration": 6,
        "start_time": "2022-05-03T18:38:27.196Z"
      },
      {
        "duration": 6,
        "start_time": "2022-05-03T18:39:04.481Z"
      },
      {
        "duration": 6,
        "start_time": "2022-05-03T18:45:29.990Z"
      },
      {
        "duration": 6,
        "start_time": "2022-05-03T18:45:45.646Z"
      },
      {
        "duration": 7,
        "start_time": "2022-05-03T18:45:55.949Z"
      },
      {
        "duration": 6,
        "start_time": "2022-05-03T18:52:38.098Z"
      },
      {
        "duration": 8,
        "start_time": "2022-05-03T18:52:56.299Z"
      },
      {
        "duration": 3,
        "start_time": "2022-05-03T19:08:09.240Z"
      },
      {
        "duration": 173,
        "start_time": "2022-05-03T19:08:34.577Z"
      },
      {
        "duration": 573,
        "start_time": "2022-05-03T19:13:56.739Z"
      },
      {
        "duration": 514,
        "start_time": "2022-05-03T19:23:02.410Z"
      },
      {
        "duration": 39,
        "start_time": "2022-05-03T19:30:29.675Z"
      },
      {
        "duration": 192,
        "start_time": "2022-05-03T19:32:21.311Z"
      },
      {
        "duration": 220,
        "start_time": "2022-05-03T19:32:34.754Z"
      },
      {
        "duration": 166,
        "start_time": "2022-05-03T19:33:29.833Z"
      },
      {
        "duration": 193,
        "start_time": "2022-05-03T19:33:40.285Z"
      },
      {
        "duration": 9,
        "start_time": "2022-05-03T19:34:58.082Z"
      },
      {
        "duration": 217,
        "start_time": "2022-05-03T19:35:33.536Z"
      },
      {
        "duration": 11,
        "start_time": "2022-05-03T19:36:20.103Z"
      },
      {
        "duration": 16,
        "start_time": "2022-05-03T19:44:10.873Z"
      },
      {
        "duration": 19,
        "start_time": "2022-05-03T19:46:44.073Z"
      },
      {
        "duration": 9,
        "start_time": "2022-05-03T19:47:56.489Z"
      },
      {
        "duration": 10,
        "start_time": "2022-05-03T19:48:00.127Z"
      },
      {
        "duration": 9,
        "start_time": "2022-05-03T19:48:02.382Z"
      },
      {
        "duration": 11,
        "start_time": "2022-05-03T19:48:14.287Z"
      },
      {
        "duration": 20,
        "start_time": "2022-05-03T19:49:12.723Z"
      },
      {
        "duration": 172,
        "start_time": "2022-05-03T19:49:38.109Z"
      },
      {
        "duration": 23,
        "start_time": "2022-05-03T19:49:51.430Z"
      },
      {
        "duration": 18,
        "start_time": "2022-05-03T19:52:35.230Z"
      },
      {
        "duration": 10,
        "start_time": "2022-05-03T19:53:30.686Z"
      },
      {
        "duration": 10,
        "start_time": "2022-05-03T19:54:01.660Z"
      },
      {
        "duration": 7,
        "start_time": "2022-05-03T19:59:05.233Z"
      },
      {
        "duration": 8,
        "start_time": "2022-05-03T20:02:11.143Z"
      },
      {
        "duration": 808,
        "start_time": "2022-05-04T16:57:10.647Z"
      },
      {
        "duration": 15,
        "start_time": "2022-05-04T16:57:11.458Z"
      },
      {
        "duration": 30,
        "start_time": "2022-05-04T16:57:11.475Z"
      },
      {
        "duration": 66,
        "start_time": "2022-05-04T16:57:11.507Z"
      },
      {
        "duration": 10,
        "start_time": "2022-05-04T16:57:11.575Z"
      },
      {
        "duration": 28,
        "start_time": "2022-05-04T16:57:11.587Z"
      },
      {
        "duration": 57,
        "start_time": "2022-05-04T16:57:11.617Z"
      },
      {
        "duration": 9,
        "start_time": "2022-05-04T16:57:11.676Z"
      },
      {
        "duration": 29,
        "start_time": "2022-05-04T16:57:11.686Z"
      },
      {
        "duration": 32,
        "start_time": "2022-05-04T16:57:11.719Z"
      },
      {
        "duration": 27,
        "start_time": "2022-05-04T16:57:11.753Z"
      },
      {
        "duration": 13,
        "start_time": "2022-05-04T16:57:11.781Z"
      },
      {
        "duration": 24,
        "start_time": "2022-05-04T16:57:11.796Z"
      },
      {
        "duration": 18,
        "start_time": "2022-05-04T16:57:11.822Z"
      },
      {
        "duration": 64,
        "start_time": "2022-05-04T16:57:11.842Z"
      },
      {
        "duration": 36,
        "start_time": "2022-05-04T16:57:11.907Z"
      },
      {
        "duration": 58,
        "start_time": "2022-05-04T16:57:11.946Z"
      },
      {
        "duration": 88,
        "start_time": "2022-05-04T16:57:12.006Z"
      },
      {
        "duration": 15,
        "start_time": "2022-05-04T16:57:12.096Z"
      },
      {
        "duration": 8,
        "start_time": "2022-05-04T16:57:12.113Z"
      },
      {
        "duration": 89,
        "start_time": "2022-05-04T16:57:12.123Z"
      },
      {
        "duration": 7,
        "start_time": "2022-05-04T16:57:12.214Z"
      },
      {
        "duration": 657,
        "start_time": "2022-05-04T16:57:12.223Z"
      },
      {
        "duration": 6,
        "start_time": "2022-05-04T16:57:12.882Z"
      },
      {
        "duration": 10,
        "start_time": "2022-05-04T16:57:12.890Z"
      },
      {
        "duration": 21,
        "start_time": "2022-05-04T16:57:12.902Z"
      },
      {
        "duration": 218,
        "start_time": "2022-05-04T16:57:12.925Z"
      },
      {
        "duration": 7,
        "start_time": "2022-05-04T16:57:13.146Z"
      },
      {
        "duration": 20,
        "start_time": "2022-05-04T16:57:13.154Z"
      },
      {
        "duration": 16,
        "start_time": "2022-05-04T16:57:13.175Z"
      },
      {
        "duration": 218,
        "start_time": "2022-05-04T16:57:13.193Z"
      },
      {
        "duration": 7,
        "start_time": "2022-05-04T16:57:13.413Z"
      },
      {
        "duration": 11,
        "start_time": "2022-05-04T16:57:13.421Z"
      },
      {
        "duration": 521,
        "start_time": "2022-05-04T16:57:13.434Z"
      },
      {
        "duration": 9,
        "start_time": "2022-05-04T16:57:13.957Z"
      },
      {
        "duration": 201,
        "start_time": "2022-05-04T17:00:58.703Z"
      },
      {
        "duration": 196,
        "start_time": "2022-05-04T17:01:24.079Z"
      },
      {
        "duration": 104,
        "start_time": "2022-05-04T17:02:05.875Z"
      },
      {
        "duration": 199,
        "start_time": "2022-05-04T17:02:15.074Z"
      },
      {
        "duration": 178,
        "start_time": "2022-05-04T17:02:26.929Z"
      },
      {
        "duration": 292,
        "start_time": "2022-05-04T17:02:36.321Z"
      },
      {
        "duration": 474,
        "start_time": "2022-05-04T17:02:51.527Z"
      },
      {
        "duration": 383,
        "start_time": "2022-05-04T17:03:13.370Z"
      },
      {
        "duration": 354,
        "start_time": "2022-05-04T17:05:02.941Z"
      },
      {
        "duration": 80,
        "start_time": "2022-05-04T17:05:50.481Z"
      },
      {
        "duration": 352,
        "start_time": "2022-05-04T17:05:56.896Z"
      },
      {
        "duration": 541,
        "start_time": "2022-05-04T17:06:43.579Z"
      },
      {
        "duration": 389,
        "start_time": "2022-05-04T17:07:17.202Z"
      },
      {
        "duration": 399,
        "start_time": "2022-05-04T17:07:31.649Z"
      },
      {
        "duration": 206,
        "start_time": "2022-05-04T17:07:40.824Z"
      },
      {
        "duration": 161,
        "start_time": "2022-05-04T17:08:25.130Z"
      },
      {
        "duration": 277,
        "start_time": "2022-05-04T17:09:06.657Z"
      },
      {
        "duration": 178,
        "start_time": "2022-05-04T17:09:24.258Z"
      },
      {
        "duration": 182,
        "start_time": "2022-05-04T17:12:11.697Z"
      },
      {
        "duration": 195,
        "start_time": "2022-05-04T17:25:36.881Z"
      },
      {
        "duration": 192,
        "start_time": "2022-05-04T17:25:40.455Z"
      },
      {
        "duration": 193,
        "start_time": "2022-05-04T17:26:18.325Z"
      },
      {
        "duration": 261,
        "start_time": "2022-05-04T17:26:31.888Z"
      },
      {
        "duration": 237,
        "start_time": "2022-05-04T17:26:35.581Z"
      },
      {
        "duration": 366,
        "start_time": "2022-05-04T17:35:29.319Z"
      },
      {
        "duration": 12,
        "start_time": "2022-05-04T17:36:05.267Z"
      },
      {
        "duration": 274,
        "start_time": "2022-05-04T17:36:15.715Z"
      },
      {
        "duration": 231,
        "start_time": "2022-05-04T17:36:37.190Z"
      },
      {
        "duration": 13,
        "start_time": "2022-05-04T17:41:13.242Z"
      },
      {
        "duration": 95,
        "start_time": "2022-05-04T17:42:07.306Z"
      },
      {
        "duration": 5,
        "start_time": "2022-05-04T17:42:13.490Z"
      },
      {
        "duration": 12,
        "start_time": "2022-05-04T17:42:19.633Z"
      },
      {
        "duration": 14,
        "start_time": "2022-05-04T17:44:46.389Z"
      },
      {
        "duration": 11,
        "start_time": "2022-05-04T17:45:05.169Z"
      },
      {
        "duration": 6,
        "start_time": "2022-05-04T17:45:20.074Z"
      },
      {
        "duration": 6,
        "start_time": "2022-05-04T17:45:37.114Z"
      },
      {
        "duration": 10,
        "start_time": "2022-05-04T17:45:45.978Z"
      },
      {
        "duration": 610,
        "start_time": "2022-05-04T17:45:57.922Z"
      },
      {
        "duration": 12,
        "start_time": "2022-05-04T17:46:44.426Z"
      },
      {
        "duration": 230,
        "start_time": "2022-05-04T17:46:54.332Z"
      },
      {
        "duration": 11,
        "start_time": "2022-05-04T17:47:06.419Z"
      },
      {
        "duration": 238,
        "start_time": "2022-05-04T17:47:26.082Z"
      },
      {
        "duration": 9,
        "start_time": "2022-05-04T17:51:34.137Z"
      },
      {
        "duration": 8,
        "start_time": "2022-05-04T17:56:56.079Z"
      },
      {
        "duration": 234,
        "start_time": "2022-05-04T18:01:07.632Z"
      },
      {
        "duration": 343,
        "start_time": "2022-05-04T18:01:45.032Z"
      },
      {
        "duration": 105,
        "start_time": "2022-05-04T18:02:00.055Z"
      },
      {
        "duration": 241,
        "start_time": "2022-05-04T18:02:05.711Z"
      },
      {
        "duration": 299,
        "start_time": "2022-05-04T18:02:46.072Z"
      },
      {
        "duration": 156,
        "start_time": "2022-05-04T18:02:57.480Z"
      },
      {
        "duration": 248,
        "start_time": "2022-05-04T18:03:56.877Z"
      },
      {
        "duration": 238,
        "start_time": "2022-05-04T18:04:54.216Z"
      },
      {
        "duration": 260,
        "start_time": "2022-05-04T18:05:44.945Z"
      },
      {
        "duration": 421,
        "start_time": "2022-05-04T18:05:48.882Z"
      },
      {
        "duration": 9,
        "start_time": "2022-05-04T18:05:49.306Z"
      },
      {
        "duration": 53,
        "start_time": "2022-05-04T18:05:49.317Z"
      },
      {
        "duration": 54,
        "start_time": "2022-05-04T18:05:49.372Z"
      },
      {
        "duration": 9,
        "start_time": "2022-05-04T18:05:49.429Z"
      },
      {
        "duration": 45,
        "start_time": "2022-05-04T18:05:49.440Z"
      },
      {
        "duration": 148,
        "start_time": "2022-05-04T18:05:49.487Z"
      },
      {
        "duration": 12,
        "start_time": "2022-05-04T18:05:49.637Z"
      },
      {
        "duration": 42,
        "start_time": "2022-05-04T18:05:49.652Z"
      },
      {
        "duration": 47,
        "start_time": "2022-05-04T18:05:49.696Z"
      },
      {
        "duration": 32,
        "start_time": "2022-05-04T18:05:49.745Z"
      },
      {
        "duration": 13,
        "start_time": "2022-05-04T18:05:49.779Z"
      },
      {
        "duration": 13,
        "start_time": "2022-05-04T18:05:49.794Z"
      },
      {
        "duration": 22,
        "start_time": "2022-05-04T18:05:49.811Z"
      },
      {
        "duration": 98,
        "start_time": "2022-05-04T18:05:49.835Z"
      },
      {
        "duration": 70,
        "start_time": "2022-05-04T18:05:49.935Z"
      },
      {
        "duration": 47,
        "start_time": "2022-05-04T18:05:50.007Z"
      },
      {
        "duration": 63,
        "start_time": "2022-05-04T18:05:50.056Z"
      },
      {
        "duration": 19,
        "start_time": "2022-05-04T18:05:50.121Z"
      },
      {
        "duration": 36,
        "start_time": "2022-05-04T18:05:50.143Z"
      },
      {
        "duration": 73,
        "start_time": "2022-05-04T18:05:50.181Z"
      },
      {
        "duration": 27,
        "start_time": "2022-05-04T18:05:50.255Z"
      },
      {
        "duration": 234,
        "start_time": "2022-05-04T18:05:50.284Z"
      },
      {
        "duration": 7,
        "start_time": "2022-05-04T18:05:50.520Z"
      },
      {
        "duration": 10,
        "start_time": "2022-05-04T18:05:50.530Z"
      },
      {
        "duration": 34,
        "start_time": "2022-05-04T18:05:50.542Z"
      },
      {
        "duration": 242,
        "start_time": "2022-05-04T18:05:50.578Z"
      },
      {
        "duration": 9,
        "start_time": "2022-05-04T18:05:50.822Z"
      },
      {
        "duration": 8,
        "start_time": "2022-05-04T18:05:50.835Z"
      },
      {
        "duration": 35,
        "start_time": "2022-05-04T18:05:50.845Z"
      },
      {
        "duration": 280,
        "start_time": "2022-05-04T18:05:50.882Z"
      },
      {
        "duration": 11,
        "start_time": "2022-05-04T18:05:51.164Z"
      },
      {
        "duration": 13,
        "start_time": "2022-05-04T18:05:51.177Z"
      },
      {
        "duration": 11,
        "start_time": "2022-05-04T18:05:51.191Z"
      },
      {
        "duration": 311,
        "start_time": "2022-05-04T18:05:51.204Z"
      },
      {
        "duration": 14,
        "start_time": "2022-05-04T18:05:51.517Z"
      },
      {
        "duration": 12,
        "start_time": "2022-05-04T18:05:51.533Z"
      },
      {
        "duration": 393,
        "start_time": "2022-05-04T18:05:51.547Z"
      },
      {
        "duration": 206,
        "start_time": "2022-05-04T18:06:08.677Z"
      },
      {
        "duration": 386,
        "start_time": "2022-05-04T18:06:16.010Z"
      },
      {
        "duration": 8,
        "start_time": "2022-05-04T18:11:25.310Z"
      },
      {
        "duration": 7,
        "start_time": "2022-05-04T18:12:12.136Z"
      },
      {
        "duration": 7,
        "start_time": "2022-05-04T18:12:26.022Z"
      },
      {
        "duration": 7,
        "start_time": "2022-05-04T18:12:37.324Z"
      },
      {
        "duration": 7,
        "start_time": "2022-05-04T18:12:42.015Z"
      },
      {
        "duration": 3,
        "start_time": "2022-05-04T18:38:10.356Z"
      },
      {
        "duration": 85,
        "start_time": "2022-05-04T18:58:13.617Z"
      },
      {
        "duration": 116,
        "start_time": "2022-05-04T18:59:10.457Z"
      },
      {
        "duration": 84,
        "start_time": "2022-05-04T19:00:16.433Z"
      },
      {
        "duration": 125,
        "start_time": "2022-05-04T19:00:29.129Z"
      },
      {
        "duration": 7,
        "start_time": "2022-05-04T19:00:40.891Z"
      },
      {
        "duration": 7,
        "start_time": "2022-05-04T19:00:52.274Z"
      },
      {
        "duration": 6,
        "start_time": "2022-05-04T19:01:53.154Z"
      },
      {
        "duration": 6,
        "start_time": "2022-05-04T19:02:07.344Z"
      },
      {
        "duration": 6,
        "start_time": "2022-05-04T19:02:20.837Z"
      },
      {
        "duration": 7,
        "start_time": "2022-05-04T19:02:31.864Z"
      },
      {
        "duration": 7,
        "start_time": "2022-05-04T19:02:59.311Z"
      },
      {
        "duration": 172,
        "start_time": "2022-05-04T19:20:40.676Z"
      },
      {
        "duration": 458,
        "start_time": "2022-05-04T19:43:03.836Z"
      },
      {
        "duration": 9,
        "start_time": "2022-05-04T19:43:04.297Z"
      },
      {
        "duration": 49,
        "start_time": "2022-05-04T19:43:04.309Z"
      },
      {
        "duration": 71,
        "start_time": "2022-05-04T19:43:04.361Z"
      },
      {
        "duration": 10,
        "start_time": "2022-05-04T19:43:04.434Z"
      },
      {
        "duration": 40,
        "start_time": "2022-05-04T19:43:04.446Z"
      },
      {
        "duration": 37,
        "start_time": "2022-05-04T19:43:04.488Z"
      },
      {
        "duration": 7,
        "start_time": "2022-05-04T19:43:04.527Z"
      },
      {
        "duration": 42,
        "start_time": "2022-05-04T19:43:04.536Z"
      },
      {
        "duration": 30,
        "start_time": "2022-05-04T19:43:04.581Z"
      },
      {
        "duration": 8,
        "start_time": "2022-05-04T19:43:04.613Z"
      },
      {
        "duration": 14,
        "start_time": "2022-05-04T19:43:04.623Z"
      },
      {
        "duration": 40,
        "start_time": "2022-05-04T19:43:04.639Z"
      },
      {
        "duration": 24,
        "start_time": "2022-05-04T19:43:04.681Z"
      },
      {
        "duration": 74,
        "start_time": "2022-05-04T19:43:04.708Z"
      },
      {
        "duration": 39,
        "start_time": "2022-05-04T19:43:04.783Z"
      },
      {
        "duration": 59,
        "start_time": "2022-05-04T19:43:04.823Z"
      },
      {
        "duration": 36,
        "start_time": "2022-05-04T19:43:04.884Z"
      },
      {
        "duration": 14,
        "start_time": "2022-05-04T19:43:04.922Z"
      },
      {
        "duration": 37,
        "start_time": "2022-05-04T19:43:04.937Z"
      },
      {
        "duration": 74,
        "start_time": "2022-05-04T19:43:04.976Z"
      },
      {
        "duration": 8,
        "start_time": "2022-05-04T19:43:05.052Z"
      },
      {
        "duration": 223,
        "start_time": "2022-05-04T19:43:05.061Z"
      },
      {
        "duration": 7,
        "start_time": "2022-05-04T19:43:05.285Z"
      },
      {
        "duration": 17,
        "start_time": "2022-05-04T19:43:05.294Z"
      },
      {
        "duration": 17,
        "start_time": "2022-05-04T19:43:05.313Z"
      },
      {
        "duration": 221,
        "start_time": "2022-05-04T19:43:05.332Z"
      },
      {
        "duration": 18,
        "start_time": "2022-05-04T19:43:05.558Z"
      },
      {
        "duration": 21,
        "start_time": "2022-05-04T19:43:05.578Z"
      },
      {
        "duration": 16,
        "start_time": "2022-05-04T19:43:05.601Z"
      },
      {
        "duration": 308,
        "start_time": "2022-05-04T19:43:05.619Z"
      },
      {
        "duration": 6,
        "start_time": "2022-05-04T19:43:05.929Z"
      },
      {
        "duration": 9,
        "start_time": "2022-05-04T19:43:05.937Z"
      },
      {
        "duration": 28,
        "start_time": "2022-05-04T19:43:05.948Z"
      },
      {
        "duration": 279,
        "start_time": "2022-05-04T19:43:05.978Z"
      },
      {
        "duration": 15,
        "start_time": "2022-05-04T19:43:06.258Z"
      },
      {
        "duration": 10,
        "start_time": "2022-05-04T19:43:06.275Z"
      },
      {
        "duration": 8,
        "start_time": "2022-05-04T19:43:06.287Z"
      },
      {
        "duration": 273,
        "start_time": "2022-05-04T19:43:06.298Z"
      },
      {
        "duration": 7,
        "start_time": "2022-05-04T19:43:06.573Z"
      },
      {
        "duration": 19,
        "start_time": "2022-05-07T07:30:35.626Z"
      },
      {
        "duration": 64,
        "start_time": "2022-05-07T07:35:15.106Z"
      },
      {
        "duration": 1288,
        "start_time": "2022-05-07T07:35:23.815Z"
      },
      {
        "duration": 35,
        "start_time": "2022-05-07T07:35:25.106Z"
      },
      {
        "duration": 36,
        "start_time": "2022-05-07T07:35:25.144Z"
      },
      {
        "duration": 80,
        "start_time": "2022-05-07T07:35:25.183Z"
      },
      {
        "duration": 6,
        "start_time": "2022-05-07T07:35:25.265Z"
      },
      {
        "duration": 21,
        "start_time": "2022-05-07T07:35:25.273Z"
      },
      {
        "duration": 48,
        "start_time": "2022-05-07T07:35:25.297Z"
      },
      {
        "duration": 59,
        "start_time": "2022-05-07T07:35:25.347Z"
      },
      {
        "duration": 10,
        "start_time": "2022-05-07T07:35:25.408Z"
      },
      {
        "duration": 29,
        "start_time": "2022-05-07T07:35:25.422Z"
      },
      {
        "duration": 55,
        "start_time": "2022-05-07T07:35:25.454Z"
      },
      {
        "duration": 13,
        "start_time": "2022-05-07T07:35:25.511Z"
      },
      {
        "duration": 18,
        "start_time": "2022-05-07T07:35:25.526Z"
      },
      {
        "duration": 24,
        "start_time": "2022-05-07T07:35:25.547Z"
      },
      {
        "duration": 24,
        "start_time": "2022-05-07T07:35:25.574Z"
      },
      {
        "duration": 98,
        "start_time": "2022-05-07T07:35:25.600Z"
      },
      {
        "duration": 56,
        "start_time": "2022-05-07T07:35:25.700Z"
      },
      {
        "duration": 65,
        "start_time": "2022-05-07T07:35:25.758Z"
      },
      {
        "duration": 105,
        "start_time": "2022-05-07T07:35:25.825Z"
      },
      {
        "duration": 15,
        "start_time": "2022-05-07T07:35:25.932Z"
      },
      {
        "duration": 37,
        "start_time": "2022-05-07T07:35:25.949Z"
      },
      {
        "duration": 15,
        "start_time": "2022-05-07T07:35:25.988Z"
      },
      {
        "duration": 129,
        "start_time": "2022-05-07T07:35:26.006Z"
      },
      {
        "duration": 14,
        "start_time": "2022-05-07T07:35:26.137Z"
      },
      {
        "duration": 949,
        "start_time": "2022-05-07T07:35:26.153Z"
      },
      {
        "duration": 8,
        "start_time": "2022-05-07T07:35:27.104Z"
      },
      {
        "duration": 10,
        "start_time": "2022-05-07T07:35:27.114Z"
      },
      {
        "duration": 11,
        "start_time": "2022-05-07T07:35:27.129Z"
      },
      {
        "duration": 365,
        "start_time": "2022-05-07T07:35:27.142Z"
      },
      {
        "duration": 8,
        "start_time": "2022-05-07T07:35:27.510Z"
      },
      {
        "duration": 10,
        "start_time": "2022-05-07T07:35:27.520Z"
      },
      {
        "duration": 68,
        "start_time": "2022-05-07T07:35:27.533Z"
      },
      {
        "duration": 463,
        "start_time": "2022-05-07T07:35:27.604Z"
      },
      {
        "duration": 10,
        "start_time": "2022-05-07T07:35:28.070Z"
      },
      {
        "duration": 9,
        "start_time": "2022-05-07T07:35:28.095Z"
      },
      {
        "duration": 529,
        "start_time": "2022-05-07T07:35:28.106Z"
      },
      {
        "duration": 490,
        "start_time": "2022-05-07T07:35:28.637Z"
      },
      {
        "duration": 9,
        "start_time": "2022-05-07T07:35:29.129Z"
      },
      {
        "duration": 21,
        "start_time": "2022-05-07T07:35:29.140Z"
      },
      {
        "duration": 45,
        "start_time": "2022-05-07T07:35:29.164Z"
      },
      {
        "duration": 392,
        "start_time": "2022-05-07T07:35:29.211Z"
      },
      {
        "duration": 8,
        "start_time": "2022-05-07T07:35:29.606Z"
      },
      {
        "duration": 16,
        "start_time": "2022-05-07T07:38:30.158Z"
      },
      {
        "duration": 13,
        "start_time": "2022-05-07T07:38:43.357Z"
      },
      {
        "duration": 16,
        "start_time": "2022-05-07T07:38:45.054Z"
      },
      {
        "duration": 6,
        "start_time": "2022-05-07T07:41:47.573Z"
      },
      {
        "duration": 7,
        "start_time": "2022-05-07T07:41:59.822Z"
      },
      {
        "duration": 17,
        "start_time": "2022-05-07T07:42:11.014Z"
      },
      {
        "duration": 27,
        "start_time": "2022-05-07T08:01:18.464Z"
      },
      {
        "duration": 6,
        "start_time": "2022-05-07T08:01:24.591Z"
      },
      {
        "duration": 1051,
        "start_time": "2022-05-07T08:01:34.863Z"
      },
      {
        "duration": 24,
        "start_time": "2022-05-07T08:01:35.917Z"
      },
      {
        "duration": 36,
        "start_time": "2022-05-07T08:01:35.943Z"
      },
      {
        "duration": 79,
        "start_time": "2022-05-07T08:01:35.981Z"
      },
      {
        "duration": 6,
        "start_time": "2022-05-07T08:01:36.064Z"
      },
      {
        "duration": 33,
        "start_time": "2022-05-07T08:01:36.072Z"
      },
      {
        "duration": 30,
        "start_time": "2022-05-07T08:01:36.108Z"
      },
      {
        "duration": 89,
        "start_time": "2022-05-07T08:01:36.141Z"
      },
      {
        "duration": 11,
        "start_time": "2022-05-07T08:01:36.232Z"
      },
      {
        "duration": 48,
        "start_time": "2022-05-07T08:01:36.245Z"
      },
      {
        "duration": 44,
        "start_time": "2022-05-07T08:01:36.295Z"
      },
      {
        "duration": 11,
        "start_time": "2022-05-07T08:01:36.341Z"
      },
      {
        "duration": 40,
        "start_time": "2022-05-07T08:01:36.355Z"
      },
      {
        "duration": 15,
        "start_time": "2022-05-07T08:01:36.400Z"
      },
      {
        "duration": 22,
        "start_time": "2022-05-07T08:01:36.416Z"
      },
      {
        "duration": 99,
        "start_time": "2022-05-07T08:01:36.440Z"
      },
      {
        "duration": 64,
        "start_time": "2022-05-07T08:01:36.541Z"
      },
      {
        "duration": 54,
        "start_time": "2022-05-07T08:01:36.607Z"
      },
      {
        "duration": 96,
        "start_time": "2022-05-07T08:01:36.663Z"
      },
      {
        "duration": 15,
        "start_time": "2022-05-07T08:01:36.761Z"
      },
      {
        "duration": 22,
        "start_time": "2022-05-07T08:01:36.793Z"
      },
      {
        "duration": 11,
        "start_time": "2022-05-07T08:01:36.817Z"
      },
      {
        "duration": 26,
        "start_time": "2022-05-07T08:01:36.830Z"
      },
      {
        "duration": 117,
        "start_time": "2022-05-07T08:01:36.858Z"
      },
      {
        "duration": 18,
        "start_time": "2022-05-07T08:01:36.977Z"
      },
      {
        "duration": 20,
        "start_time": "2022-05-07T08:01:36.997Z"
      },
      {
        "duration": 11,
        "start_time": "2022-05-07T08:01:37.020Z"
      },
      {
        "duration": 708,
        "start_time": "2022-05-07T08:01:37.033Z"
      },
      {
        "duration": 8,
        "start_time": "2022-05-07T08:01:37.743Z"
      },
      {
        "duration": 11,
        "start_time": "2022-05-07T08:01:37.753Z"
      },
      {
        "duration": 32,
        "start_time": "2022-05-07T08:01:37.766Z"
      },
      {
        "duration": 323,
        "start_time": "2022-05-07T08:01:37.801Z"
      },
      {
        "duration": 9,
        "start_time": "2022-05-07T08:01:38.126Z"
      },
      {
        "duration": 11,
        "start_time": "2022-05-07T08:01:38.137Z"
      },
      {
        "duration": 10,
        "start_time": "2022-05-07T08:01:38.150Z"
      },
      {
        "duration": 331,
        "start_time": "2022-05-07T08:01:38.162Z"
      },
      {
        "duration": 8,
        "start_time": "2022-05-07T08:01:38.495Z"
      },
      {
        "duration": 9,
        "start_time": "2022-05-07T08:01:38.505Z"
      },
      {
        "duration": 526,
        "start_time": "2022-05-07T08:01:38.517Z"
      },
      {
        "duration": 457,
        "start_time": "2022-05-07T08:01:39.046Z"
      },
      {
        "duration": 10,
        "start_time": "2022-05-07T08:01:39.508Z"
      },
      {
        "duration": 14,
        "start_time": "2022-05-07T08:01:39.520Z"
      },
      {
        "duration": 10,
        "start_time": "2022-05-07T08:01:39.537Z"
      },
      {
        "duration": 434,
        "start_time": "2022-05-07T08:01:39.550Z"
      },
      {
        "duration": 13,
        "start_time": "2022-05-07T08:01:39.986Z"
      },
      {
        "duration": 6,
        "start_time": "2022-05-07T08:01:40.001Z"
      },
      {
        "duration": 862,
        "start_time": "2022-05-07T19:43:33.501Z"
      },
      {
        "duration": 16,
        "start_time": "2022-05-07T19:43:37.950Z"
      },
      {
        "duration": 763,
        "start_time": "2022-05-10T07:28:19.594Z"
      },
      {
        "duration": 15,
        "start_time": "2022-05-10T07:28:25.956Z"
      },
      {
        "duration": 109,
        "start_time": "2022-05-10T07:29:24.146Z"
      },
      {
        "duration": 6,
        "start_time": "2022-05-10T07:30:01.206Z"
      },
      {
        "duration": 102,
        "start_time": "2022-05-10T07:31:23.740Z"
      },
      {
        "duration": 65,
        "start_time": "2022-05-10T07:36:45.863Z"
      },
      {
        "duration": 9,
        "start_time": "2022-05-10T07:36:58.460Z"
      },
      {
        "duration": 10,
        "start_time": "2022-05-10T07:37:37.048Z"
      },
      {
        "duration": 11,
        "start_time": "2022-05-10T07:38:23.937Z"
      },
      {
        "duration": 8,
        "start_time": "2022-05-10T07:38:41.594Z"
      },
      {
        "duration": 9,
        "start_time": "2022-05-10T07:38:46.850Z"
      },
      {
        "duration": 9,
        "start_time": "2022-05-10T07:39:11.771Z"
      },
      {
        "duration": 373,
        "start_time": "2022-05-10T07:39:17.185Z"
      },
      {
        "duration": 7,
        "start_time": "2022-05-10T07:39:17.560Z"
      },
      {
        "duration": 30,
        "start_time": "2022-05-10T07:39:17.568Z"
      },
      {
        "duration": 48,
        "start_time": "2022-05-10T07:39:17.600Z"
      },
      {
        "duration": 4,
        "start_time": "2022-05-10T07:39:17.650Z"
      },
      {
        "duration": 7,
        "start_time": "2022-05-10T07:39:17.656Z"
      },
      {
        "duration": 8,
        "start_time": "2022-05-10T07:39:17.664Z"
      },
      {
        "duration": 22,
        "start_time": "2022-05-10T07:39:17.674Z"
      },
      {
        "duration": 55,
        "start_time": "2022-05-10T07:39:17.698Z"
      },
      {
        "duration": 7,
        "start_time": "2022-05-10T07:39:17.756Z"
      },
      {
        "duration": 21,
        "start_time": "2022-05-10T07:39:17.764Z"
      },
      {
        "duration": 45,
        "start_time": "2022-05-10T07:39:17.786Z"
      },
      {
        "duration": 7,
        "start_time": "2022-05-10T07:39:17.833Z"
      },
      {
        "duration": 22,
        "start_time": "2022-05-10T07:39:17.841Z"
      },
      {
        "duration": 14,
        "start_time": "2022-05-10T07:39:17.865Z"
      },
      {
        "duration": 13,
        "start_time": "2022-05-10T07:39:17.881Z"
      },
      {
        "duration": 66,
        "start_time": "2022-05-10T07:39:17.896Z"
      },
      {
        "duration": 21,
        "start_time": "2022-05-10T07:39:17.964Z"
      },
      {
        "duration": 54,
        "start_time": "2022-05-10T07:39:17.987Z"
      },
      {
        "duration": 41,
        "start_time": "2022-05-10T07:39:18.042Z"
      },
      {
        "duration": 78,
        "start_time": "2022-05-10T07:39:18.084Z"
      },
      {
        "duration": 9,
        "start_time": "2022-05-10T07:39:18.164Z"
      },
      {
        "duration": 17,
        "start_time": "2022-05-10T07:39:18.174Z"
      },
      {
        "duration": 7,
        "start_time": "2022-05-10T07:39:18.193Z"
      },
      {
        "duration": 32,
        "start_time": "2022-05-10T07:39:18.201Z"
      },
      {
        "duration": 62,
        "start_time": "2022-05-10T07:39:18.236Z"
      },
      {
        "duration": 4,
        "start_time": "2022-05-10T07:39:18.300Z"
      },
      {
        "duration": 29,
        "start_time": "2022-05-10T07:39:18.307Z"
      },
      {
        "duration": 7,
        "start_time": "2022-05-10T07:39:18.338Z"
      },
      {
        "duration": 602,
        "start_time": "2022-05-10T07:39:18.346Z"
      },
      {
        "duration": 6,
        "start_time": "2022-05-10T07:39:18.949Z"
      },
      {
        "duration": 6,
        "start_time": "2022-05-10T07:39:18.956Z"
      },
      {
        "duration": 13,
        "start_time": "2022-05-10T07:39:18.964Z"
      },
      {
        "duration": 206,
        "start_time": "2022-05-10T07:39:18.979Z"
      },
      {
        "duration": 6,
        "start_time": "2022-05-10T07:39:19.187Z"
      },
      {
        "duration": 9,
        "start_time": "2022-05-10T07:39:19.194Z"
      },
      {
        "duration": 23,
        "start_time": "2022-05-10T07:39:19.204Z"
      },
      {
        "duration": 200,
        "start_time": "2022-05-10T07:39:19.229Z"
      },
      {
        "duration": 6,
        "start_time": "2022-05-10T07:39:19.431Z"
      },
      {
        "duration": 6,
        "start_time": "2022-05-10T07:39:19.439Z"
      },
      {
        "duration": 449,
        "start_time": "2022-05-10T07:39:19.447Z"
      },
      {
        "duration": 237,
        "start_time": "2022-05-10T07:39:19.897Z"
      },
      {
        "duration": 7,
        "start_time": "2022-05-10T07:39:20.136Z"
      },
      {
        "duration": 11,
        "start_time": "2022-05-10T07:39:20.145Z"
      },
      {
        "duration": 8,
        "start_time": "2022-05-10T07:39:20.158Z"
      },
      {
        "duration": 250,
        "start_time": "2022-05-10T07:39:20.168Z"
      },
      {
        "duration": 11,
        "start_time": "2022-05-10T07:39:20.424Z"
      },
      {
        "duration": 12,
        "start_time": "2022-05-10T07:39:20.437Z"
      },
      {
        "duration": 1873,
        "start_time": "2022-05-10T07:39:58.472Z"
      },
      {
        "duration": 1633,
        "start_time": "2022-05-10T07:40:22.768Z"
      },
      {
        "duration": 42,
        "start_time": "2022-05-10T07:40:37.945Z"
      },
      {
        "duration": 42,
        "start_time": "2022-05-10T07:40:49.074Z"
      },
      {
        "duration": 48,
        "start_time": "2022-05-10T07:41:01.569Z"
      },
      {
        "duration": 48,
        "start_time": "2022-05-10T07:41:13.336Z"
      },
      {
        "duration": 9,
        "start_time": "2022-05-10T07:43:29.112Z"
      },
      {
        "duration": 24,
        "start_time": "2022-05-10T07:43:39.087Z"
      },
      {
        "duration": 26,
        "start_time": "2022-05-10T07:43:53.241Z"
      },
      {
        "duration": 8,
        "start_time": "2022-05-10T07:45:21.255Z"
      },
      {
        "duration": 17,
        "start_time": "2022-05-10T07:45:49.984Z"
      },
      {
        "duration": 18,
        "start_time": "2022-05-10T07:46:07.756Z"
      },
      {
        "duration": 18,
        "start_time": "2022-05-10T07:54:00.895Z"
      },
      {
        "duration": 24,
        "start_time": "2022-05-10T08:00:48.516Z"
      },
      {
        "duration": 27,
        "start_time": "2022-05-10T08:00:53.528Z"
      },
      {
        "duration": 6,
        "start_time": "2022-05-10T08:01:55.069Z"
      },
      {
        "duration": 11,
        "start_time": "2022-05-10T08:05:34.335Z"
      },
      {
        "duration": 121,
        "start_time": "2022-05-10T08:05:47.444Z"
      },
      {
        "duration": 104,
        "start_time": "2022-05-10T08:06:08.868Z"
      },
      {
        "duration": 26150,
        "start_time": "2022-05-10T08:06:13.382Z"
      },
      {
        "duration": 27330,
        "start_time": "2022-05-10T08:09:06.048Z"
      },
      {
        "duration": 42,
        "start_time": "2022-05-10T08:09:54.022Z"
      },
      {
        "duration": 13,
        "start_time": "2022-05-10T08:23:42.387Z"
      },
      {
        "duration": 34,
        "start_time": "2022-05-10T08:26:44.163Z"
      },
      {
        "duration": 11,
        "start_time": "2022-05-10T08:26:51.964Z"
      },
      {
        "duration": 47,
        "start_time": "2022-05-10T08:30:51.733Z"
      },
      {
        "duration": 16,
        "start_time": "2022-05-10T08:30:56.724Z"
      },
      {
        "duration": 15,
        "start_time": "2022-05-10T08:31:04.611Z"
      },
      {
        "duration": 32,
        "start_time": "2022-05-10T08:31:13.033Z"
      },
      {
        "duration": 12,
        "start_time": "2022-05-10T08:31:15.451Z"
      },
      {
        "duration": 78,
        "start_time": "2022-05-10T08:31:27.663Z"
      },
      {
        "duration": 11,
        "start_time": "2022-05-10T08:31:30.757Z"
      },
      {
        "duration": 29,
        "start_time": "2022-05-10T08:31:41.644Z"
      },
      {
        "duration": 11,
        "start_time": "2022-05-10T08:31:46.868Z"
      },
      {
        "duration": 102,
        "start_time": "2022-05-10T08:32:16.740Z"
      },
      {
        "duration": 11,
        "start_time": "2022-05-10T08:36:18.501Z"
      },
      {
        "duration": 23,
        "start_time": "2022-05-10T08:36:25.232Z"
      },
      {
        "duration": 9,
        "start_time": "2022-05-10T08:36:31.273Z"
      },
      {
        "duration": 10,
        "start_time": "2022-05-10T08:36:33.251Z"
      },
      {
        "duration": 5,
        "start_time": "2022-05-10T08:38:42.437Z"
      },
      {
        "duration": 4,
        "start_time": "2022-05-10T08:39:11.813Z"
      },
      {
        "duration": 1694,
        "start_time": "2022-05-10T08:39:54.282Z"
      },
      {
        "duration": 11,
        "start_time": "2022-05-10T08:40:05.920Z"
      },
      {
        "duration": 15,
        "start_time": "2022-05-10T08:42:05.722Z"
      },
      {
        "duration": 107,
        "start_time": "2022-05-10T08:42:26.137Z"
      },
      {
        "duration": 14,
        "start_time": "2022-05-10T08:42:38.665Z"
      },
      {
        "duration": 17,
        "start_time": "2022-05-10T08:42:57.637Z"
      },
      {
        "duration": 16,
        "start_time": "2022-05-10T08:44:48.256Z"
      },
      {
        "duration": 17,
        "start_time": "2022-05-10T08:57:33.827Z"
      },
      {
        "duration": 10,
        "start_time": "2022-05-10T09:00:57.836Z"
      },
      {
        "duration": 4,
        "start_time": "2022-05-10T09:05:34.037Z"
      },
      {
        "duration": 4,
        "start_time": "2022-05-10T09:06:00.925Z"
      },
      {
        "duration": 12,
        "start_time": "2022-05-10T09:06:15.111Z"
      },
      {
        "duration": 14,
        "start_time": "2022-05-10T09:06:42.782Z"
      },
      {
        "duration": 114,
        "start_time": "2022-05-10T09:13:21.808Z"
      },
      {
        "duration": 186,
        "start_time": "2022-05-10T09:15:39.055Z"
      },
      {
        "duration": 83,
        "start_time": "2022-05-10T09:16:40.900Z"
      },
      {
        "duration": 97,
        "start_time": "2022-05-10T09:18:38.877Z"
      },
      {
        "duration": 113,
        "start_time": "2022-05-10T09:31:51.126Z"
      },
      {
        "duration": 502,
        "start_time": "2022-05-10T09:34:34.314Z"
      },
      {
        "duration": 15,
        "start_time": "2022-05-10T09:34:34.818Z"
      },
      {
        "duration": 57,
        "start_time": "2022-05-10T09:34:34.834Z"
      },
      {
        "duration": 79,
        "start_time": "2022-05-10T09:34:34.894Z"
      },
      {
        "duration": 5,
        "start_time": "2022-05-10T09:34:34.975Z"
      },
      {
        "duration": 9,
        "start_time": "2022-05-10T09:34:34.982Z"
      },
      {
        "duration": 11,
        "start_time": "2022-05-10T09:34:34.992Z"
      },
      {
        "duration": 54,
        "start_time": "2022-05-10T09:34:35.004Z"
      },
      {
        "duration": 39,
        "start_time": "2022-05-10T09:34:35.059Z"
      },
      {
        "duration": 8,
        "start_time": "2022-05-10T09:34:35.101Z"
      },
      {
        "duration": 49,
        "start_time": "2022-05-10T09:34:35.111Z"
      },
      {
        "duration": 107,
        "start_time": "2022-05-10T09:34:35.162Z"
      },
      {
        "duration": 8,
        "start_time": "2022-05-10T09:34:35.272Z"
      },
      {
        "duration": 11,
        "start_time": "2022-05-10T09:34:35.282Z"
      },
      {
        "duration": 11,
        "start_time": "2022-05-10T09:34:35.294Z"
      },
      {
        "duration": 34,
        "start_time": "2022-05-10T09:34:35.307Z"
      },
      {
        "duration": 88,
        "start_time": "2022-05-10T09:34:35.346Z"
      },
      {
        "duration": 43,
        "start_time": "2022-05-10T09:34:35.436Z"
      },
      {
        "duration": 58,
        "start_time": "2022-05-10T09:34:35.481Z"
      },
      {
        "duration": 46,
        "start_time": "2022-05-10T09:34:35.541Z"
      },
      {
        "duration": 12,
        "start_time": "2022-05-10T09:34:35.588Z"
      },
      {
        "duration": 26,
        "start_time": "2022-05-10T09:34:35.602Z"
      },
      {
        "duration": 12,
        "start_time": "2022-05-10T09:34:35.630Z"
      },
      {
        "duration": 34,
        "start_time": "2022-05-10T09:34:35.644Z"
      },
      {
        "duration": 12,
        "start_time": "2022-05-10T09:34:35.681Z"
      },
      {
        "duration": 17,
        "start_time": "2022-05-10T09:34:35.695Z"
      },
      {
        "duration": 49,
        "start_time": "2022-05-10T09:34:35.713Z"
      },
      {
        "duration": 134,
        "start_time": "2022-05-10T09:34:35.768Z"
      },
      {
        "duration": 0,
        "start_time": "2022-05-10T09:34:35.903Z"
      },
      {
        "duration": 0,
        "start_time": "2022-05-10T09:34:35.904Z"
      },
      {
        "duration": 0,
        "start_time": "2022-05-10T09:34:35.906Z"
      },
      {
        "duration": 0,
        "start_time": "2022-05-10T09:34:35.907Z"
      },
      {
        "duration": 0,
        "start_time": "2022-05-10T09:34:35.908Z"
      },
      {
        "duration": 0,
        "start_time": "2022-05-10T09:34:35.909Z"
      },
      {
        "duration": 0,
        "start_time": "2022-05-10T09:34:35.910Z"
      },
      {
        "duration": 0,
        "start_time": "2022-05-10T09:34:35.911Z"
      },
      {
        "duration": 0,
        "start_time": "2022-05-10T09:34:35.912Z"
      },
      {
        "duration": 0,
        "start_time": "2022-05-10T09:34:35.913Z"
      },
      {
        "duration": 0,
        "start_time": "2022-05-10T09:34:35.914Z"
      },
      {
        "duration": 0,
        "start_time": "2022-05-10T09:34:35.915Z"
      },
      {
        "duration": 0,
        "start_time": "2022-05-10T09:34:35.916Z"
      },
      {
        "duration": 0,
        "start_time": "2022-05-10T09:34:35.917Z"
      },
      {
        "duration": 0,
        "start_time": "2022-05-10T09:34:35.918Z"
      },
      {
        "duration": 0,
        "start_time": "2022-05-10T09:34:35.919Z"
      },
      {
        "duration": 0,
        "start_time": "2022-05-10T09:34:35.920Z"
      },
      {
        "duration": 0,
        "start_time": "2022-05-10T09:34:35.921Z"
      },
      {
        "duration": 0,
        "start_time": "2022-05-10T09:34:35.922Z"
      },
      {
        "duration": 0,
        "start_time": "2022-05-10T09:34:35.927Z"
      },
      {
        "duration": 0,
        "start_time": "2022-05-10T09:34:35.929Z"
      },
      {
        "duration": 0,
        "start_time": "2022-05-10T09:34:35.930Z"
      },
      {
        "duration": 135,
        "start_time": "2022-05-10T09:35:08.169Z"
      },
      {
        "duration": 129,
        "start_time": "2022-05-10T09:37:33.681Z"
      },
      {
        "duration": 204,
        "start_time": "2022-05-10T09:37:41.714Z"
      },
      {
        "duration": 158,
        "start_time": "2022-05-10T09:38:07.904Z"
      },
      {
        "duration": 130,
        "start_time": "2022-05-10T09:38:24.442Z"
      },
      {
        "duration": 27,
        "start_time": "2022-05-10T09:38:38.821Z"
      },
      {
        "duration": 69,
        "start_time": "2022-05-10T09:38:45.264Z"
      },
      {
        "duration": 131,
        "start_time": "2022-05-10T09:39:19.167Z"
      },
      {
        "duration": 117,
        "start_time": "2022-05-10T09:42:49.595Z"
      },
      {
        "duration": 139,
        "start_time": "2022-05-10T09:42:58.439Z"
      },
      {
        "duration": 140,
        "start_time": "2022-05-10T09:43:08.102Z"
      },
      {
        "duration": 4,
        "start_time": "2022-05-10T09:43:17.269Z"
      },
      {
        "duration": 136,
        "start_time": "2022-05-10T09:43:29.975Z"
      },
      {
        "duration": 129,
        "start_time": "2022-05-10T09:43:45.372Z"
      },
      {
        "duration": 130,
        "start_time": "2022-05-10T09:43:59.172Z"
      },
      {
        "duration": 135,
        "start_time": "2022-05-10T09:44:06.808Z"
      },
      {
        "duration": 38,
        "start_time": "2022-05-10T09:44:29.845Z"
      },
      {
        "duration": 95,
        "start_time": "2022-05-10T09:44:47.211Z"
      },
      {
        "duration": 97,
        "start_time": "2022-05-10T09:45:22.289Z"
      },
      {
        "duration": 77,
        "start_time": "2022-05-10T09:46:23.255Z"
      },
      {
        "duration": 95,
        "start_time": "2022-05-10T09:46:53.918Z"
      },
      {
        "duration": 89,
        "start_time": "2022-05-10T09:49:01.415Z"
      },
      {
        "duration": 80,
        "start_time": "2022-05-10T09:49:12.754Z"
      },
      {
        "duration": 438,
        "start_time": "2022-05-10T09:49:40.448Z"
      },
      {
        "duration": 9,
        "start_time": "2022-05-10T09:49:40.888Z"
      },
      {
        "duration": 35,
        "start_time": "2022-05-10T09:49:40.899Z"
      },
      {
        "duration": 66,
        "start_time": "2022-05-10T09:49:40.940Z"
      },
      {
        "duration": 4,
        "start_time": "2022-05-10T09:49:41.008Z"
      },
      {
        "duration": 8,
        "start_time": "2022-05-10T09:49:41.014Z"
      },
      {
        "duration": 44,
        "start_time": "2022-05-10T09:49:41.024Z"
      },
      {
        "duration": 24,
        "start_time": "2022-05-10T09:49:41.070Z"
      },
      {
        "duration": 43,
        "start_time": "2022-05-10T09:49:41.096Z"
      },
      {
        "duration": 12,
        "start_time": "2022-05-10T09:49:41.141Z"
      },
      {
        "duration": 23,
        "start_time": "2022-05-10T09:49:41.155Z"
      },
      {
        "duration": 34,
        "start_time": "2022-05-10T09:49:41.180Z"
      },
      {
        "duration": 18,
        "start_time": "2022-05-10T09:49:41.225Z"
      },
      {
        "duration": 32,
        "start_time": "2022-05-10T09:49:41.247Z"
      },
      {
        "duration": 20,
        "start_time": "2022-05-10T09:49:41.282Z"
      },
      {
        "duration": 43,
        "start_time": "2022-05-10T09:49:41.304Z"
      },
      {
        "duration": 59,
        "start_time": "2022-05-10T09:49:41.353Z"
      },
      {
        "duration": 52,
        "start_time": "2022-05-10T09:49:41.414Z"
      },
      {
        "duration": 92,
        "start_time": "2022-05-10T09:49:41.468Z"
      },
      {
        "duration": 39,
        "start_time": "2022-05-10T09:49:41.562Z"
      },
      {
        "duration": 31,
        "start_time": "2022-05-10T09:49:41.602Z"
      },
      {
        "duration": 28,
        "start_time": "2022-05-10T09:49:41.636Z"
      },
      {
        "duration": 8,
        "start_time": "2022-05-10T09:49:41.665Z"
      },
      {
        "duration": 14,
        "start_time": "2022-05-10T09:49:41.674Z"
      },
      {
        "duration": 10,
        "start_time": "2022-05-10T09:49:41.689Z"
      },
      {
        "duration": 14,
        "start_time": "2022-05-10T09:49:41.700Z"
      },
      {
        "duration": 79,
        "start_time": "2022-05-10T09:49:41.716Z"
      },
      {
        "duration": 91,
        "start_time": "2022-05-10T09:49:41.797Z"
      },
      {
        "duration": 4,
        "start_time": "2022-05-10T09:49:41.890Z"
      },
      {
        "duration": 18,
        "start_time": "2022-05-10T09:49:41.895Z"
      },
      {
        "duration": 8,
        "start_time": "2022-05-10T09:49:41.914Z"
      },
      {
        "duration": 350,
        "start_time": "2022-05-10T09:49:41.924Z"
      },
      {
        "duration": 6,
        "start_time": "2022-05-10T09:49:42.276Z"
      },
      {
        "duration": 11,
        "start_time": "2022-05-10T09:49:42.284Z"
      },
      {
        "duration": 31,
        "start_time": "2022-05-10T09:49:42.297Z"
      },
      {
        "duration": 235,
        "start_time": "2022-05-10T09:49:42.331Z"
      },
      {
        "duration": 6,
        "start_time": "2022-05-10T09:49:42.568Z"
      },
      {
        "duration": 17,
        "start_time": "2022-05-10T09:49:42.575Z"
      },
      {
        "duration": 6,
        "start_time": "2022-05-10T09:49:42.594Z"
      },
      {
        "duration": 315,
        "start_time": "2022-05-10T09:49:42.602Z"
      },
      {
        "duration": 8,
        "start_time": "2022-05-10T09:49:42.921Z"
      },
      {
        "duration": 21,
        "start_time": "2022-05-10T09:49:42.933Z"
      },
      {
        "duration": 11,
        "start_time": "2022-05-10T09:49:42.956Z"
      },
      {
        "duration": 293,
        "start_time": "2022-05-10T09:49:42.969Z"
      },
      {
        "duration": 9,
        "start_time": "2022-05-10T09:49:43.264Z"
      },
      {
        "duration": 11,
        "start_time": "2022-05-10T09:49:43.274Z"
      },
      {
        "duration": 14,
        "start_time": "2022-05-10T09:49:43.286Z"
      },
      {
        "duration": 319,
        "start_time": "2022-05-10T09:49:43.302Z"
      },
      {
        "duration": 11,
        "start_time": "2022-05-10T09:49:43.623Z"
      },
      {
        "duration": 33,
        "start_time": "2022-05-10T09:49:43.635Z"
      },
      {
        "duration": 125,
        "start_time": "2022-05-10T10:27:02.289Z"
      },
      {
        "duration": 6,
        "start_time": "2022-05-10T10:38:13.938Z"
      },
      {
        "duration": 8,
        "start_time": "2022-05-10T10:39:18.148Z"
      },
      {
        "duration": 9,
        "start_time": "2022-05-10T10:39:29.235Z"
      },
      {
        "duration": 6,
        "start_time": "2022-05-10T10:39:37.885Z"
      },
      {
        "duration": 118,
        "start_time": "2022-05-10T10:40:28.188Z"
      },
      {
        "duration": 105,
        "start_time": "2022-05-10T10:40:41.804Z"
      },
      {
        "duration": 133,
        "start_time": "2022-05-10T10:41:08.421Z"
      },
      {
        "duration": 110,
        "start_time": "2022-05-10T10:41:33.209Z"
      },
      {
        "duration": 106,
        "start_time": "2022-05-10T10:41:58.605Z"
      },
      {
        "duration": 101,
        "start_time": "2022-05-10T10:42:11.315Z"
      },
      {
        "duration": 12,
        "start_time": "2022-05-10T10:42:36.499Z"
      },
      {
        "duration": 13,
        "start_time": "2022-05-10T10:43:02.030Z"
      },
      {
        "duration": 10,
        "start_time": "2022-05-10T10:43:29.066Z"
      },
      {
        "duration": 13,
        "start_time": "2022-05-10T10:43:44.917Z"
      },
      {
        "duration": 11,
        "start_time": "2022-05-10T10:43:52.892Z"
      },
      {
        "duration": 10,
        "start_time": "2022-05-10T10:44:47.149Z"
      },
      {
        "duration": 12,
        "start_time": "2022-05-10T10:45:05.909Z"
      },
      {
        "duration": 10,
        "start_time": "2022-05-10T10:45:13.790Z"
      },
      {
        "duration": 391,
        "start_time": "2022-05-10T10:53:05.361Z"
      },
      {
        "duration": 8,
        "start_time": "2022-05-10T10:53:05.754Z"
      },
      {
        "duration": 36,
        "start_time": "2022-05-10T10:53:05.764Z"
      },
      {
        "duration": 48,
        "start_time": "2022-05-10T10:53:05.802Z"
      },
      {
        "duration": 4,
        "start_time": "2022-05-10T10:53:05.852Z"
      },
      {
        "duration": 6,
        "start_time": "2022-05-10T10:53:05.858Z"
      },
      {
        "duration": 8,
        "start_time": "2022-05-10T10:53:05.866Z"
      },
      {
        "duration": 23,
        "start_time": "2022-05-10T10:53:05.876Z"
      },
      {
        "duration": 42,
        "start_time": "2022-05-10T10:53:05.923Z"
      },
      {
        "duration": 8,
        "start_time": "2022-05-10T10:53:05.967Z"
      },
      {
        "duration": 22,
        "start_time": "2022-05-10T10:53:05.976Z"
      },
      {
        "duration": 62,
        "start_time": "2022-05-10T10:53:06.000Z"
      },
      {
        "duration": 8,
        "start_time": "2022-05-10T10:53:06.063Z"
      },
      {
        "duration": 12,
        "start_time": "2022-05-10T10:53:06.073Z"
      },
      {
        "duration": 17,
        "start_time": "2022-05-10T10:53:06.087Z"
      },
      {
        "duration": 29,
        "start_time": "2022-05-10T10:53:06.106Z"
      },
      {
        "duration": 74,
        "start_time": "2022-05-10T10:53:06.137Z"
      },
      {
        "duration": 42,
        "start_time": "2022-05-10T10:53:06.212Z"
      },
      {
        "duration": 41,
        "start_time": "2022-05-10T10:53:06.256Z"
      },
      {
        "duration": 60,
        "start_time": "2022-05-10T10:53:06.299Z"
      },
      {
        "duration": 11,
        "start_time": "2022-05-10T10:53:06.360Z"
      },
      {
        "duration": 16,
        "start_time": "2022-05-10T10:53:06.373Z"
      },
      {
        "duration": 8,
        "start_time": "2022-05-10T10:53:06.390Z"
      },
      {
        "duration": 27,
        "start_time": "2022-05-10T10:53:06.400Z"
      },
      {
        "duration": 11,
        "start_time": "2022-05-10T10:53:06.428Z"
      },
      {
        "duration": 13,
        "start_time": "2022-05-10T10:53:06.441Z"
      },
      {
        "duration": 83,
        "start_time": "2022-05-10T10:53:06.455Z"
      },
      {
        "duration": 71,
        "start_time": "2022-05-10T10:53:06.541Z"
      },
      {
        "duration": 13,
        "start_time": "2022-05-10T10:53:06.613Z"
      },
      {
        "duration": 25,
        "start_time": "2022-05-10T10:53:06.628Z"
      },
      {
        "duration": 12,
        "start_time": "2022-05-10T10:53:06.654Z"
      },
      {
        "duration": 205,
        "start_time": "2022-05-10T10:53:06.667Z"
      },
      {
        "duration": 6,
        "start_time": "2022-05-10T10:53:06.874Z"
      },
      {
        "duration": 11,
        "start_time": "2022-05-10T10:53:06.882Z"
      },
      {
        "duration": 10,
        "start_time": "2022-05-10T10:53:06.895Z"
      },
      {
        "duration": 274,
        "start_time": "2022-05-10T10:53:06.906Z"
      },
      {
        "duration": 7,
        "start_time": "2022-05-10T10:53:07.182Z"
      },
      {
        "duration": 12,
        "start_time": "2022-05-10T10:53:07.190Z"
      },
      {
        "duration": 24,
        "start_time": "2022-05-10T10:53:07.204Z"
      },
      {
        "duration": 188,
        "start_time": "2022-05-10T10:53:07.230Z"
      },
      {
        "duration": 7,
        "start_time": "2022-05-10T10:53:07.423Z"
      },
      {
        "duration": 19,
        "start_time": "2022-05-10T10:53:07.432Z"
      },
      {
        "duration": 11,
        "start_time": "2022-05-10T10:53:07.453Z"
      },
      {
        "duration": 250,
        "start_time": "2022-05-10T10:53:07.465Z"
      },
      {
        "duration": 10,
        "start_time": "2022-05-10T10:53:07.717Z"
      },
      {
        "duration": 18,
        "start_time": "2022-05-10T10:53:07.729Z"
      },
      {
        "duration": 7,
        "start_time": "2022-05-10T10:53:07.749Z"
      },
      {
        "duration": 234,
        "start_time": "2022-05-10T10:53:07.758Z"
      },
      {
        "duration": 7,
        "start_time": "2022-05-10T10:53:07.994Z"
      },
      {
        "duration": 25,
        "start_time": "2022-05-10T10:53:08.003Z"
      },
      {
        "duration": 4,
        "start_time": "2022-05-10T10:53:08.035Z"
      },
      {
        "duration": 1117,
        "start_time": "2022-05-10T22:28:20.370Z"
      },
      {
        "duration": 20,
        "start_time": "2022-05-10T22:28:21.489Z"
      },
      {
        "duration": 27,
        "start_time": "2022-05-10T22:28:21.511Z"
      },
      {
        "duration": 74,
        "start_time": "2022-05-10T22:28:21.541Z"
      },
      {
        "duration": 4,
        "start_time": "2022-05-10T22:28:21.617Z"
      },
      {
        "duration": 8,
        "start_time": "2022-05-10T22:28:21.623Z"
      },
      {
        "duration": 8,
        "start_time": "2022-05-10T22:28:21.633Z"
      },
      {
        "duration": 25,
        "start_time": "2022-05-10T22:28:21.642Z"
      },
      {
        "duration": 62,
        "start_time": "2022-05-10T22:28:21.669Z"
      },
      {
        "duration": 7,
        "start_time": "2022-05-10T22:28:21.734Z"
      },
      {
        "duration": 23,
        "start_time": "2022-05-10T22:28:21.743Z"
      },
      {
        "duration": 54,
        "start_time": "2022-05-10T22:28:21.768Z"
      },
      {
        "duration": 8,
        "start_time": "2022-05-10T22:28:21.824Z"
      },
      {
        "duration": 14,
        "start_time": "2022-05-10T22:28:21.834Z"
      },
      {
        "duration": 14,
        "start_time": "2022-05-10T22:28:21.850Z"
      },
      {
        "duration": 36,
        "start_time": "2022-05-10T22:28:21.866Z"
      },
      {
        "duration": 56,
        "start_time": "2022-05-10T22:28:21.903Z"
      },
      {
        "duration": 53,
        "start_time": "2022-05-10T22:28:21.961Z"
      },
      {
        "duration": 50,
        "start_time": "2022-05-10T22:28:22.015Z"
      },
      {
        "duration": 90,
        "start_time": "2022-05-10T22:28:22.067Z"
      },
      {
        "duration": 12,
        "start_time": "2022-05-10T22:28:22.158Z"
      },
      {
        "duration": 35,
        "start_time": "2022-05-10T22:28:22.171Z"
      },
      {
        "duration": 8,
        "start_time": "2022-05-10T22:28:22.208Z"
      },
      {
        "duration": 12,
        "start_time": "2022-05-10T22:28:22.218Z"
      },
      {
        "duration": 10,
        "start_time": "2022-05-10T22:28:22.232Z"
      },
      {
        "duration": 17,
        "start_time": "2022-05-10T22:28:22.244Z"
      },
      {
        "duration": 90,
        "start_time": "2022-05-10T22:28:22.263Z"
      },
      {
        "duration": 93,
        "start_time": "2022-05-10T22:28:22.357Z"
      },
      {
        "duration": 4,
        "start_time": "2022-05-10T22:28:22.451Z"
      },
      {
        "duration": 20,
        "start_time": "2022-05-10T22:28:22.458Z"
      },
      {
        "duration": 19,
        "start_time": "2022-05-10T22:28:22.480Z"
      },
      {
        "duration": 934,
        "start_time": "2022-05-10T22:28:22.501Z"
      },
      {
        "duration": 60,
        "start_time": "2022-05-10T22:28:23.437Z"
      },
      {
        "duration": 7,
        "start_time": "2022-05-10T22:28:23.498Z"
      },
      {
        "duration": 13,
        "start_time": "2022-05-10T22:28:23.506Z"
      },
      {
        "duration": 406,
        "start_time": "2022-05-10T22:28:23.521Z"
      },
      {
        "duration": 6,
        "start_time": "2022-05-10T22:28:23.929Z"
      },
      {
        "duration": 7,
        "start_time": "2022-05-10T22:28:23.992Z"
      },
      {
        "duration": 8,
        "start_time": "2022-05-10T22:28:24.001Z"
      },
      {
        "duration": 392,
        "start_time": "2022-05-10T22:28:24.011Z"
      },
      {
        "duration": 7,
        "start_time": "2022-05-10T22:28:24.405Z"
      },
      {
        "duration": 8,
        "start_time": "2022-05-10T22:28:24.413Z"
      },
      {
        "duration": 778,
        "start_time": "2022-05-10T22:28:24.422Z"
      },
      {
        "duration": 597,
        "start_time": "2022-05-10T22:28:25.201Z"
      },
      {
        "duration": 7,
        "start_time": "2022-05-10T22:28:25.800Z"
      },
      {
        "duration": 9,
        "start_time": "2022-05-10T22:28:25.808Z"
      },
      {
        "duration": 8,
        "start_time": "2022-05-10T22:28:25.819Z"
      },
      {
        "duration": 474,
        "start_time": "2022-05-10T22:28:25.828Z"
      },
      {
        "duration": 6,
        "start_time": "2022-05-10T22:28:26.304Z"
      },
      {
        "duration": 13,
        "start_time": "2022-05-10T22:28:26.311Z"
      },
      {
        "duration": 132,
        "start_time": "2022-05-10T22:33:15.577Z"
      },
      {
        "duration": 4,
        "start_time": "2022-05-10T22:34:37.612Z"
      },
      {
        "duration": 5,
        "start_time": "2022-05-10T22:34:39.870Z"
      },
      {
        "duration": 252,
        "start_time": "2022-05-10T22:35:48.775Z"
      },
      {
        "duration": 56,
        "start_time": "2022-05-10T22:35:53.023Z"
      },
      {
        "duration": 1399,
        "start_time": "2022-05-10T22:36:13.241Z"
      },
      {
        "duration": 172,
        "start_time": "2022-05-10T22:36:18.521Z"
      },
      {
        "duration": 160,
        "start_time": "2022-05-10T22:36:31.841Z"
      },
      {
        "duration": 164,
        "start_time": "2022-05-10T22:36:35.593Z"
      },
      {
        "duration": 115,
        "start_time": "2022-05-10T22:36:39.882Z"
      },
      {
        "duration": 759,
        "start_time": "2022-05-10T22:38:17.826Z"
      },
      {
        "duration": 14,
        "start_time": "2022-05-10T22:38:18.588Z"
      },
      {
        "duration": 25,
        "start_time": "2022-05-10T22:38:18.604Z"
      },
      {
        "duration": 76,
        "start_time": "2022-05-10T22:38:18.631Z"
      },
      {
        "duration": 4,
        "start_time": "2022-05-10T22:38:18.710Z"
      },
      {
        "duration": 8,
        "start_time": "2022-05-10T22:38:18.716Z"
      },
      {
        "duration": 9,
        "start_time": "2022-05-10T22:38:18.725Z"
      },
      {
        "duration": 25,
        "start_time": "2022-05-10T22:38:18.736Z"
      },
      {
        "duration": 64,
        "start_time": "2022-05-10T22:38:18.763Z"
      },
      {
        "duration": 7,
        "start_time": "2022-05-10T22:38:18.829Z"
      },
      {
        "duration": 21,
        "start_time": "2022-05-10T22:38:18.838Z"
      },
      {
        "duration": 60,
        "start_time": "2022-05-10T22:38:18.861Z"
      },
      {
        "duration": 7,
        "start_time": "2022-05-10T22:38:18.922Z"
      },
      {
        "duration": 12,
        "start_time": "2022-05-10T22:38:18.932Z"
      },
      {
        "duration": 12,
        "start_time": "2022-05-10T22:38:18.946Z"
      },
      {
        "duration": 42,
        "start_time": "2022-05-10T22:38:18.960Z"
      },
      {
        "duration": 56,
        "start_time": "2022-05-10T22:38:19.004Z"
      },
      {
        "duration": 53,
        "start_time": "2022-05-10T22:38:19.061Z"
      },
      {
        "duration": 48,
        "start_time": "2022-05-10T22:38:19.115Z"
      },
      {
        "duration": 103,
        "start_time": "2022-05-10T22:38:19.164Z"
      },
      {
        "duration": 22,
        "start_time": "2022-05-10T22:38:19.269Z"
      },
      {
        "duration": 16,
        "start_time": "2022-05-10T22:38:19.293Z"
      },
      {
        "duration": 9,
        "start_time": "2022-05-10T22:38:19.310Z"
      },
      {
        "duration": 12,
        "start_time": "2022-05-10T22:38:19.320Z"
      },
      {
        "duration": 13,
        "start_time": "2022-05-10T22:38:19.334Z"
      },
      {
        "duration": 46,
        "start_time": "2022-05-10T22:38:19.349Z"
      },
      {
        "duration": 104,
        "start_time": "2022-05-10T22:38:19.398Z"
      },
      {
        "duration": 115,
        "start_time": "2022-05-10T22:38:19.504Z"
      },
      {
        "duration": 5,
        "start_time": "2022-05-10T22:38:19.621Z"
      },
      {
        "duration": 15,
        "start_time": "2022-05-10T22:38:19.628Z"
      },
      {
        "duration": 10,
        "start_time": "2022-05-10T22:38:19.644Z"
      },
      {
        "duration": 473,
        "start_time": "2022-05-10T22:38:19.655Z"
      },
      {
        "duration": 7,
        "start_time": "2022-05-10T22:38:20.129Z"
      },
      {
        "duration": 8,
        "start_time": "2022-05-10T22:38:20.138Z"
      },
      {
        "duration": 11,
        "start_time": "2022-05-10T22:38:20.148Z"
      },
      {
        "duration": 209,
        "start_time": "2022-05-10T22:38:20.161Z"
      },
      {
        "duration": 6,
        "start_time": "2022-05-10T22:38:20.372Z"
      },
      {
        "duration": 15,
        "start_time": "2022-05-10T22:38:20.379Z"
      },
      {
        "duration": 6,
        "start_time": "2022-05-10T22:38:20.396Z"
      },
      {
        "duration": 196,
        "start_time": "2022-05-10T22:38:20.403Z"
      },
      {
        "duration": 7,
        "start_time": "2022-05-10T22:38:20.603Z"
      },
      {
        "duration": 10,
        "start_time": "2022-05-10T22:38:20.611Z"
      },
      {
        "duration": 411,
        "start_time": "2022-05-10T22:38:20.623Z"
      },
      {
        "duration": 443,
        "start_time": "2022-05-10T22:38:21.036Z"
      },
      {
        "duration": 15,
        "start_time": "2022-05-10T22:38:21.481Z"
      },
      {
        "duration": 11,
        "start_time": "2022-05-10T22:38:21.498Z"
      },
      {
        "duration": 9,
        "start_time": "2022-05-10T22:38:21.511Z"
      },
      {
        "duration": 239,
        "start_time": "2022-05-10T22:38:21.522Z"
      },
      {
        "duration": 6,
        "start_time": "2022-05-10T22:38:21.763Z"
      },
      {
        "duration": 27,
        "start_time": "2022-05-10T22:38:21.771Z"
      },
      {
        "duration": 3,
        "start_time": "2022-05-10T22:38:21.800Z"
      },
      {
        "duration": 57,
        "start_time": "2022-05-10T22:38:21.805Z"
      },
      {
        "duration": 1348,
        "start_time": "2022-05-10T22:38:21.863Z"
      },
      {
        "duration": 167,
        "start_time": "2022-05-10T22:38:23.214Z"
      },
      {
        "duration": 173,
        "start_time": "2022-05-10T22:38:23.383Z"
      },
      {
        "duration": 162,
        "start_time": "2022-05-10T22:38:23.558Z"
      },
      {
        "duration": 30,
        "start_time": "2022-05-10T22:38:23.722Z"
      },
      {
        "duration": 58,
        "start_time": "2022-05-27T12:38:14.628Z"
      },
      {
        "duration": 9,
        "start_time": "2022-05-27T12:38:23.324Z"
      },
      {
        "duration": 7,
        "start_time": "2022-05-27T12:38:26.428Z"
      },
      {
        "duration": 1515,
        "start_time": "2022-05-27T12:38:34.806Z"
      },
      {
        "duration": 19,
        "start_time": "2022-05-27T12:38:36.323Z"
      },
      {
        "duration": 28,
        "start_time": "2022-05-27T12:38:36.344Z"
      },
      {
        "duration": 52,
        "start_time": "2022-05-27T12:38:36.375Z"
      },
      {
        "duration": 4,
        "start_time": "2022-05-27T12:38:36.428Z"
      },
      {
        "duration": 9,
        "start_time": "2022-05-27T12:38:36.434Z"
      },
      {
        "duration": 9,
        "start_time": "2022-05-27T12:38:36.444Z"
      },
      {
        "duration": 45,
        "start_time": "2022-05-27T12:38:36.455Z"
      },
      {
        "duration": 39,
        "start_time": "2022-05-27T12:38:36.502Z"
      },
      {
        "duration": 7,
        "start_time": "2022-05-27T12:38:36.544Z"
      },
      {
        "duration": 46,
        "start_time": "2022-05-27T12:38:36.553Z"
      },
      {
        "duration": 33,
        "start_time": "2022-05-27T12:38:36.600Z"
      },
      {
        "duration": 9,
        "start_time": "2022-05-27T12:38:36.635Z"
      },
      {
        "duration": 11,
        "start_time": "2022-05-27T12:38:36.646Z"
      },
      {
        "duration": 38,
        "start_time": "2022-05-27T12:38:36.659Z"
      },
      {
        "duration": 24,
        "start_time": "2022-05-27T12:38:36.699Z"
      },
      {
        "duration": 52,
        "start_time": "2022-05-27T12:38:36.725Z"
      },
      {
        "duration": 50,
        "start_time": "2022-05-27T12:38:36.778Z"
      },
      {
        "duration": 65,
        "start_time": "2022-05-27T12:38:36.830Z"
      },
      {
        "duration": 37,
        "start_time": "2022-05-27T12:38:36.897Z"
      },
      {
        "duration": 11,
        "start_time": "2022-05-27T12:38:36.936Z"
      },
      {
        "duration": 26,
        "start_time": "2022-05-27T12:38:36.949Z"
      },
      {
        "duration": 22,
        "start_time": "2022-05-27T12:38:36.976Z"
      },
      {
        "duration": 17,
        "start_time": "2022-05-27T12:38:37.000Z"
      },
      {
        "duration": 21,
        "start_time": "2022-05-27T12:38:37.019Z"
      },
      {
        "duration": 35,
        "start_time": "2022-05-27T12:38:37.041Z"
      },
      {
        "duration": 82,
        "start_time": "2022-05-27T12:38:37.078Z"
      },
      {
        "duration": 74,
        "start_time": "2022-05-27T12:38:37.163Z"
      },
      {
        "duration": 4,
        "start_time": "2022-05-27T12:38:37.239Z"
      },
      {
        "duration": 28,
        "start_time": "2022-05-27T12:38:37.244Z"
      },
      {
        "duration": 13,
        "start_time": "2022-05-27T12:38:37.274Z"
      },
      {
        "duration": 697,
        "start_time": "2022-05-27T12:38:37.288Z"
      },
      {
        "duration": 10,
        "start_time": "2022-05-27T12:38:37.987Z"
      },
      {
        "duration": 29,
        "start_time": "2022-05-27T12:38:37.999Z"
      },
      {
        "duration": 47,
        "start_time": "2022-05-27T12:38:38.030Z"
      },
      {
        "duration": 226,
        "start_time": "2022-05-27T12:38:38.079Z"
      },
      {
        "duration": 6,
        "start_time": "2022-05-27T12:38:38.307Z"
      },
      {
        "duration": 34,
        "start_time": "2022-05-27T12:38:38.315Z"
      },
      {
        "duration": 28,
        "start_time": "2022-05-27T12:38:38.351Z"
      },
      {
        "duration": 295,
        "start_time": "2022-05-27T12:38:38.380Z"
      },
      {
        "duration": 6,
        "start_time": "2022-05-27T12:38:38.677Z"
      },
      {
        "duration": 13,
        "start_time": "2022-05-27T12:38:38.684Z"
      },
      {
        "duration": 436,
        "start_time": "2022-05-27T12:38:38.699Z"
      },
      {
        "duration": 292,
        "start_time": "2022-05-27T12:38:39.137Z"
      },
      {
        "duration": 6,
        "start_time": "2022-05-27T12:38:39.431Z"
      },
      {
        "duration": 12,
        "start_time": "2022-05-27T12:38:39.438Z"
      },
      {
        "duration": 8,
        "start_time": "2022-05-27T12:38:39.451Z"
      },
      {
        "duration": 263,
        "start_time": "2022-05-27T12:38:39.461Z"
      },
      {
        "duration": 6,
        "start_time": "2022-05-27T12:38:39.725Z"
      },
      {
        "duration": 13,
        "start_time": "2022-05-27T12:38:39.733Z"
      },
      {
        "duration": 4,
        "start_time": "2022-05-27T12:38:39.748Z"
      },
      {
        "duration": 166,
        "start_time": "2022-05-27T12:38:39.754Z"
      },
      {
        "duration": 1421,
        "start_time": "2022-05-27T12:38:39.922Z"
      },
      {
        "duration": 182,
        "start_time": "2022-05-27T12:38:41.344Z"
      },
      {
        "duration": 185,
        "start_time": "2022-05-27T12:38:41.527Z"
      },
      {
        "duration": 186,
        "start_time": "2022-05-27T12:38:41.714Z"
      },
      {
        "duration": 55,
        "start_time": "2022-05-27T12:38:41.902Z"
      },
      {
        "duration": 56,
        "start_time": "2022-05-27T12:39:36.566Z"
      }
    ],
    "kernelspec": {
      "display_name": "Python 3 (ipykernel)",
      "language": "python",
      "name": "python3"
    },
    "language_info": {
      "codemirror_mode": {
        "name": "ipython",
        "version": 3
      },
      "file_extension": ".py",
      "mimetype": "text/x-python",
      "name": "python",
      "nbconvert_exporter": "python",
      "pygments_lexer": "ipython3",
      "version": "3.9.5"
    },
    "toc": {
      "base_numbering": 1,
      "nav_menu": {},
      "number_sections": true,
      "sideBar": true,
      "skip_h1_title": true,
      "title_cell": "Table of Contents",
      "title_sidebar": "Contents",
      "toc_cell": false,
      "toc_position": {
        "height": "calc(100% - 180px)",
        "left": "10px",
        "top": "150px",
        "width": "186.534px"
      },
      "toc_section_display": true,
      "toc_window_display": true
    },
    "colab": {
      "provenance": [],
      "collapsed_sections": []
    }
  },
  "nbformat": 4,
  "nbformat_minor": 0
}