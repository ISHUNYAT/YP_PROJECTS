{
  "cells": [
    {
      "cell_type": "markdown",
      "metadata": {
        "id": "S43VtxOMXbqs"
      },
      "source": [
        "<h1>Содержание<span class=\"tocSkip\"></span></h1>\n",
        "<div class=\"toc\"><ul class=\"toc-item\"><li><span><a href=\"#Откроем-и-изучим-файл-с-данными\" data-toc-modified-id=\"Откроем-и-изучим-файл-с-данными-1\"><span class=\"toc-item-num\">1&nbsp;&nbsp;</span>Откроем и изучим файл с данными</a></span><li><span><a href=\"#Разобьем-данные-на-выборки\" data-toc-modified-id=\"Разобьем-данные-на-выборки-2\"><span class=\"toc-item-num\">2&nbsp;&nbsp;</span>Разобьем данные на выборки</a></span></li><li><span><a href=\"#Исследуем-модели\" data-toc-modified-id=\"Исследуем-модели-3\"><span class=\"toc-item-num\">3&nbsp;&nbsp;</span>Исследуем модели</a></span></li><li><span><a href=\"#Проверим-модель-на-тестовой-выборке\" data-toc-modified-id=\"Проверим-модель-на-тестовой-выборке-4\"><span class=\"toc-item-num\">4&nbsp;&nbsp;</span>Проверим модель на тестовой выборке</a></span></li><li><span><a href=\"#Проверим-модели-на-адекватность\" data-toc-modified-id=\"Проверим-модели-на-адекватность-5\"><span class=\"toc-item-num\">5&nbsp;&nbsp;</span>Проверим модели на адекватность</a></span></li><li><span>"
      ]
    },
    {
      "cell_type": "markdown",
      "metadata": {
        "id": "7RfX3yQRXbqt"
      },
      "source": [
        "# Рекомендация тарифов"
      ]
    },
    {
      "cell_type": "markdown",
      "metadata": {
        "id": "5nwtb-h6Xbqu"
      },
      "source": [
        "Оператор мобильной связи «Мегалайн» выяснил: многие клиенты пользуются архивными тарифами. Они хотят построить систему, способную проанализировать поведение клиентов и предложить пользователям новый тариф: «Смарт» или «Ультра».\n",
        "\n",
        "В нашем распоряжении данные о поведении клиентов, которые уже перешли на эти тарифы. Нужно построить модель для задачи классификации, которая выберет подходящий тариф. Предобработка данных не понадобится — мы её уже сделали.\n",
        "\n",
        "Наша задача - построить модель с максимально большим значением *accuracy*. Для решения задачи нужно довести долю правильных ответов по крайней мере до 0.75. Проверим *accuracy* на тестовой выборке самостоятельно."
      ]
    },
    {
      "cell_type": "markdown",
      "metadata": {
        "id": "VO9fa-bkXbqv"
      },
      "source": [
        "# Описание данных\n",
        "Каждый объект в наборе данных — это информация о поведении одного пользователя за месяц. Известно:\n",
        "\n",
        "* сalls — количество звонков,\n",
        "* minutes — суммарная длительность звонков в минутах,\n",
        "* messages — количество sms-сообщений,\n",
        "* mb_used — израсходованный интернет-трафик в Мб,\n",
        "* is_ultra — каким тарифом пользовался в течение месяца («Ультра» — 1, «Смарт» — 0)."
      ]
    },
    {
      "cell_type": "markdown",
      "metadata": {
        "id": "SuzMP8sWXbqw"
      },
      "source": [
        "## Откроем и изучим файл с данными"
      ]
    },
    {
      "cell_type": "code",
      "execution_count": null,
      "metadata": {
        "id": "iwG3uw6WXbqx"
      },
      "outputs": [],
      "source": [
        "import pandas as pd\n",
        "from sklearn.model_selection import train_test_split\n",
        "from sklearn.tree import DecisionTreeClassifier\n",
        "from sklearn.ensemble import RandomForestClassifier\n",
        "from sklearn.linear_model import LogisticRegression\n",
        "from sklearn.metrics import accuracy_score\n",
        "from joblib import dump\n",
        "import seaborn as sns\n",
        "from sklearn.model_selection import GridSearchCV\n",
        "df = pd.read_csv('//content/5_users_behavior.csv')"
      ]
    },
    {
      "cell_type": "code",
      "execution_count": null,
      "metadata": {
        "scrolled": true,
        "colab": {
          "base_uri": "https://localhost:8080/",
          "height": 206
        },
        "id": "CWrg2WAXXbq1",
        "outputId": "4e0cedbb-e5b0-426e-8f16-737425fe14b6"
      },
      "outputs": [
        {
          "output_type": "execute_result",
          "data": {
            "text/plain": [
              "   calls  minutes  messages   mb_used  is_ultra\n",
              "0   40.0   311.90      83.0  19915.42         0\n",
              "1   85.0   516.75      56.0  22696.96         0\n",
              "2   77.0   467.66      86.0  21060.45         0\n",
              "3  106.0   745.53      81.0   8437.39         1\n",
              "4   66.0   418.74       1.0  14502.75         0"
            ],
            "text/html": [
              "\n",
              "  <div id=\"df-f2722fb7-146b-4587-9f27-40417f3fd87a\">\n",
              "    <div class=\"colab-df-container\">\n",
              "      <div>\n",
              "<style scoped>\n",
              "    .dataframe tbody tr th:only-of-type {\n",
              "        vertical-align: middle;\n",
              "    }\n",
              "\n",
              "    .dataframe tbody tr th {\n",
              "        vertical-align: top;\n",
              "    }\n",
              "\n",
              "    .dataframe thead th {\n",
              "        text-align: right;\n",
              "    }\n",
              "</style>\n",
              "<table border=\"1\" class=\"dataframe\">\n",
              "  <thead>\n",
              "    <tr style=\"text-align: right;\">\n",
              "      <th></th>\n",
              "      <th>calls</th>\n",
              "      <th>minutes</th>\n",
              "      <th>messages</th>\n",
              "      <th>mb_used</th>\n",
              "      <th>is_ultra</th>\n",
              "    </tr>\n",
              "  </thead>\n",
              "  <tbody>\n",
              "    <tr>\n",
              "      <th>0</th>\n",
              "      <td>40.0</td>\n",
              "      <td>311.90</td>\n",
              "      <td>83.0</td>\n",
              "      <td>19915.42</td>\n",
              "      <td>0</td>\n",
              "    </tr>\n",
              "    <tr>\n",
              "      <th>1</th>\n",
              "      <td>85.0</td>\n",
              "      <td>516.75</td>\n",
              "      <td>56.0</td>\n",
              "      <td>22696.96</td>\n",
              "      <td>0</td>\n",
              "    </tr>\n",
              "    <tr>\n",
              "      <th>2</th>\n",
              "      <td>77.0</td>\n",
              "      <td>467.66</td>\n",
              "      <td>86.0</td>\n",
              "      <td>21060.45</td>\n",
              "      <td>0</td>\n",
              "    </tr>\n",
              "    <tr>\n",
              "      <th>3</th>\n",
              "      <td>106.0</td>\n",
              "      <td>745.53</td>\n",
              "      <td>81.0</td>\n",
              "      <td>8437.39</td>\n",
              "      <td>1</td>\n",
              "    </tr>\n",
              "    <tr>\n",
              "      <th>4</th>\n",
              "      <td>66.0</td>\n",
              "      <td>418.74</td>\n",
              "      <td>1.0</td>\n",
              "      <td>14502.75</td>\n",
              "      <td>0</td>\n",
              "    </tr>\n",
              "  </tbody>\n",
              "</table>\n",
              "</div>\n",
              "      <button class=\"colab-df-convert\" onclick=\"convertToInteractive('df-f2722fb7-146b-4587-9f27-40417f3fd87a')\"\n",
              "              title=\"Convert this dataframe to an interactive table.\"\n",
              "              style=\"display:none;\">\n",
              "        \n",
              "  <svg xmlns=\"http://www.w3.org/2000/svg\" height=\"24px\"viewBox=\"0 0 24 24\"\n",
              "       width=\"24px\">\n",
              "    <path d=\"M0 0h24v24H0V0z\" fill=\"none\"/>\n",
              "    <path d=\"M18.56 5.44l.94 2.06.94-2.06 2.06-.94-2.06-.94-.94-2.06-.94 2.06-2.06.94zm-11 1L8.5 8.5l.94-2.06 2.06-.94-2.06-.94L8.5 2.5l-.94 2.06-2.06.94zm10 10l.94 2.06.94-2.06 2.06-.94-2.06-.94-.94-2.06-.94 2.06-2.06.94z\"/><path d=\"M17.41 7.96l-1.37-1.37c-.4-.4-.92-.59-1.43-.59-.52 0-1.04.2-1.43.59L10.3 9.45l-7.72 7.72c-.78.78-.78 2.05 0 2.83L4 21.41c.39.39.9.59 1.41.59.51 0 1.02-.2 1.41-.59l7.78-7.78 2.81-2.81c.8-.78.8-2.07 0-2.86zM5.41 20L4 18.59l7.72-7.72 1.47 1.35L5.41 20z\"/>\n",
              "  </svg>\n",
              "      </button>\n",
              "      \n",
              "  <style>\n",
              "    .colab-df-container {\n",
              "      display:flex;\n",
              "      flex-wrap:wrap;\n",
              "      gap: 12px;\n",
              "    }\n",
              "\n",
              "    .colab-df-convert {\n",
              "      background-color: #E8F0FE;\n",
              "      border: none;\n",
              "      border-radius: 50%;\n",
              "      cursor: pointer;\n",
              "      display: none;\n",
              "      fill: #1967D2;\n",
              "      height: 32px;\n",
              "      padding: 0 0 0 0;\n",
              "      width: 32px;\n",
              "    }\n",
              "\n",
              "    .colab-df-convert:hover {\n",
              "      background-color: #E2EBFA;\n",
              "      box-shadow: 0px 1px 2px rgba(60, 64, 67, 0.3), 0px 1px 3px 1px rgba(60, 64, 67, 0.15);\n",
              "      fill: #174EA6;\n",
              "    }\n",
              "\n",
              "    [theme=dark] .colab-df-convert {\n",
              "      background-color: #3B4455;\n",
              "      fill: #D2E3FC;\n",
              "    }\n",
              "\n",
              "    [theme=dark] .colab-df-convert:hover {\n",
              "      background-color: #434B5C;\n",
              "      box-shadow: 0px 1px 3px 1px rgba(0, 0, 0, 0.15);\n",
              "      filter: drop-shadow(0px 1px 2px rgba(0, 0, 0, 0.3));\n",
              "      fill: #FFFFFF;\n",
              "    }\n",
              "  </style>\n",
              "\n",
              "      <script>\n",
              "        const buttonEl =\n",
              "          document.querySelector('#df-f2722fb7-146b-4587-9f27-40417f3fd87a button.colab-df-convert');\n",
              "        buttonEl.style.display =\n",
              "          google.colab.kernel.accessAllowed ? 'block' : 'none';\n",
              "\n",
              "        async function convertToInteractive(key) {\n",
              "          const element = document.querySelector('#df-f2722fb7-146b-4587-9f27-40417f3fd87a');\n",
              "          const dataTable =\n",
              "            await google.colab.kernel.invokeFunction('convertToInteractive',\n",
              "                                                     [key], {});\n",
              "          if (!dataTable) return;\n",
              "\n",
              "          const docLinkHtml = 'Like what you see? Visit the ' +\n",
              "            '<a target=\"_blank\" href=https://colab.research.google.com/notebooks/data_table.ipynb>data table notebook</a>'\n",
              "            + ' to learn more about interactive tables.';\n",
              "          element.innerHTML = '';\n",
              "          dataTable['output_type'] = 'display_data';\n",
              "          await google.colab.output.renderOutput(dataTable, element);\n",
              "          const docLink = document.createElement('div');\n",
              "          docLink.innerHTML = docLinkHtml;\n",
              "          element.appendChild(docLink);\n",
              "        }\n",
              "      </script>\n",
              "    </div>\n",
              "  </div>\n",
              "  "
            ]
          },
          "metadata": {},
          "execution_count": 19
        }
      ],
      "source": [
        "df.head() #изучим первые пять строк датасета"
      ]
    },
    {
      "cell_type": "code",
      "execution_count": null,
      "metadata": {
        "colab": {
          "base_uri": "https://localhost:8080/"
        },
        "id": "Mj8d6_1WXbq3",
        "outputId": "27ee59c9-068f-466f-c82b-057d31d6273a"
      },
      "outputs": [
        {
          "output_type": "stream",
          "name": "stdout",
          "text": [
            "<class 'pandas.core.frame.DataFrame'>\n",
            "RangeIndex: 3214 entries, 0 to 3213\n",
            "Data columns (total 5 columns):\n",
            " #   Column    Non-Null Count  Dtype  \n",
            "---  ------    --------------  -----  \n",
            " 0   calls     3214 non-null   float64\n",
            " 1   minutes   3214 non-null   float64\n",
            " 2   messages  3214 non-null   float64\n",
            " 3   mb_used   3214 non-null   float64\n",
            " 4   is_ultra  3214 non-null   int64  \n",
            "dtypes: float64(4), int64(1)\n",
            "memory usage: 125.7 KB\n"
          ]
        }
      ],
      "source": [
        "df.info() #выведем на экран общую информацию о датасете"
      ]
    },
    {
      "cell_type": "code",
      "execution_count": null,
      "metadata": {
        "scrolled": true,
        "colab": {
          "base_uri": "https://localhost:8080/"
        },
        "id": "fd9qWsrYXbq4",
        "outputId": "ceb64682-3ef3-4775-dc7c-2968dd5f2e96"
      },
      "outputs": [
        {
          "output_type": "execute_result",
          "data": {
            "text/plain": [
              "calls       0\n",
              "minutes     0\n",
              "messages    0\n",
              "mb_used     0\n",
              "is_ultra    0\n",
              "dtype: int64"
            ]
          },
          "metadata": {},
          "execution_count": 21
        }
      ],
      "source": [
        "df.isnull().sum() # на всякий случай проверим есть ли пропуски"
      ]
    },
    {
      "cell_type": "markdown",
      "metadata": {
        "id": "NVslXgr5Xbq5"
      },
      "source": [
        "\n",
        "Проверим корреляцию данных при помощи метода, `sns.pairplot`"
      ]
    },
    {
      "cell_type": "code",
      "execution_count": null,
      "metadata": {
        "colab": {
          "base_uri": "https://localhost:8080/",
          "height": 726
        },
        "id": "55g2xoMeXbq6",
        "outputId": "42ed8907-48eb-49a3-ec98-72a244b79f4c"
      },
      "outputs": [
        {
          "output_type": "display_data",
          "data": {
            "text/plain": [
              "<Figure size 764.5x720 with 20 Axes>"
            ],
            "image/png": "[encoded data removed]"
          },
          "metadata": {
            "needs_background": "light"
          }
        }
      ],
      "source": [
        "sns.pairplot(df, hue='is_ultra');"
      ]
    },
    {
      "cell_type": "markdown",
      "metadata": {
        "id": "Tt67WGosXbq6"
      },
      "source": [
        "<div class=\"alert alert-block alert-warning\">\n",
        "Из графиков можно отметить сильную корреляцию между количеством звонков и общей продолжительностью разговоров, что является логичным - чем больше звонков абонент сделал, тем больше минут из тарифа или сверх тарифа он потратил.\n",
        "</div>"
      ]
    },
    {
      "cell_type": "markdown",
      "metadata": {
        "id": "Bi23N6RFXbq7"
      },
      "source": [
        "## Разобьем данные на выборки"
      ]
    },
    {
      "cell_type": "code",
      "execution_count": null,
      "metadata": {
        "id": "zCViKz9sXbq7"
      },
      "outputs": [],
      "source": [
        "df_1, df_test = train_test_split(df,test_size=0.2,random_state=12345) # выделим тестовую выборку из общего датасета\n",
        "df_train, df_valid = \\\n",
        "train_test_split(df_1,test_size = 0.25,\\\n",
        "random_state=12345) #поделим остаток, полученный после выделения тестовой выборки на 2 части:тренировочную и валидационную выборки"
      ]
    },
    {
      "cell_type": "code",
      "execution_count": null,
      "metadata": {
        "colab": {
          "base_uri": "https://localhost:8080/"
        },
        "id": "XcQy8z9nXbq8",
        "outputId": "57504482-ff8d-4267-ed2b-a4740b8d82d9"
      },
      "outputs": [
        {
          "output_type": "stream",
          "name": "stdout",
          "text": [
            "Доля тренировочной выборки:60%\n",
            "Доля тестовой выборки:20%\n",
            "Доля валидационной выборки:20%\n"
          ]
        }
      ],
      "source": [
        "print (f'Доля тренировочной выборки:{round(len(df_train)/len(df)*100)}%') #проверим результат разделения\n",
        "print (f'Доля тестовой выборки:{round(len(df_test)/len(df)*100)}%')\n",
        "print (f'Доля валидационной выборки:{round(len(df_valid)/len(df)*100)}%')"
      ]
    },
    {
      "cell_type": "code",
      "execution_count": null,
      "metadata": {
        "id": "Ni76Q5rkXbq8"
      },
      "outputs": [],
      "source": [
        "features_train = df_train.drop(['is_ultra'],axis = 1) #задаем обучающий набор данных\n",
        "target_train = df_train['is_ultra']\n",
        "features_test = df_test.drop(['is_ultra'],axis = 1) #задаем тестовый набор данных\n",
        "target_test = df_test['is_ultra']\n",
        "features_valid = df_valid.drop(['is_ultra'],axis = 1) #задаем валидационный набор данных\n",
        "target_valid = df_valid['is_ultra']\n"
      ]
    },
    {
      "cell_type": "markdown",
      "metadata": {
        "id": "5hFNuFc1Xbq9"
      },
      "source": [
        "## Исследуем модели"
      ]
    },
    {
      "cell_type": "markdown",
      "metadata": {
        "id": "JX3bfrX6Xbq-"
      },
      "source": [
        "Исследуем гиперпараметры для дерева решений. Основной гиперпараметр - это max-depth, определяюший количество ветвлений. Определим какое значение данного гиперпараметра обеспечит максимальную долю правильных ответов."
      ]
    },
    {
      "cell_type": "code",
      "execution_count": null,
      "metadata": {
        "colab": {
          "base_uri": "https://localhost:8080/"
        },
        "id": "MTGA4msxXbq-",
        "outputId": "8eabcd77-fac6-4f45-f5d0-99bdbd8d3120"
      },
      "outputs": [
        {
          "output_type": "stream",
          "name": "stdout",
          "text": [
            "max_depth = 1 : 0.7387247278382582\n",
            "max_depth = 2 : 0.7573872472783826\n",
            "max_depth = 3 : 0.7651632970451011\n",
            "max_depth = 4 : 0.7636080870917574\n",
            "max_depth = 5 : 0.7589424572317263\n"
          ]
        }
      ],
      "source": [
        "for depth in range(1,6):\n",
        "    model = DecisionTreeClassifier( random_state=12345,max_depth=depth)\n",
        "    model.fit(features_train,target_train)\n",
        "    predictions_valid = model.predict(features_valid)\n",
        "    print(\"max_depth =\", depth, \": \", end='')\n",
        "    print(accuracy_score(target_valid, predictions_valid)) "
      ]
    },
    {
      "cell_type": "markdown",
      "metadata": {
        "id": "Pqr205iMXbrA"
      },
      "source": [
        "Чем больше ветвлений, тем точнее прогноз. Значение max_depth равное `3`дает наибольшую точность прогноза - 0.7651632970451011 или почти 77% правильных ответов из всех возможных."
      ]
    },
    {
      "cell_type": "markdown",
      "metadata": {
        "id": "x5Sta4yfXbrA"
      },
      "source": [
        "Теперь переберем гиперпараметры для случайного леса. Определим какой максимальной точности мы сможем добиться перебирая количестов дерьевьев в лесу ( гиперпараметр n_estimators) от 1 до 10.\n"
      ]
    },
    {
      "cell_type": "code",
      "execution_count": null,
      "metadata": {
        "colab": {
          "base_uri": "https://localhost:8080/"
        },
        "id": "OwRPxBrsXbrB",
        "outputId": "e9368614-0e15-4bf5-a477-306348f33ca9"
      },
      "outputs": [
        {
          "output_type": "stream",
          "name": "stdout",
          "text": [
            "Accuracy наилучшей модели на валидационной выборке: 0.7884914463452566\n",
            "Количество деревьев: 10\n"
          ]
        }
      ],
      "source": [
        "best_model = None\n",
        "best_result = 0\n",
        "n=0\n",
        "for est in range(1, 11):\n",
        "    model = RandomForestClassifier(random_state=12345, n_estimators=est) \n",
        "    model.fit(features_train,target_train) \n",
        "    result = model.score(features_valid,target_valid) \n",
        "    if result > best_result:\n",
        "        best_model = model\n",
        "        best_result = result\n",
        "        n=est\n",
        "print(\"Accuracy наилучшей модели на валидационной выборке:\", best_result)\n",
        "print ( \"Количество деревьев:\",n )"
      ]
    },
    {
      "cell_type": "markdown",
      "metadata": {
        "id": "3VZjXUCwXbrB"
      },
      "source": [
        "Для случайного леса лучше всего выбрать гиперпараметр n_estimators равный 10, при этом точность прогноза составит почти 79% (0.7884914463452566)."
      ]
    },
    {
      "cell_type": "markdown",
      "metadata": {
        "id": "EUvj7BkyXbrB"
      },
      "source": [
        "Последний алгоритм обработки данных, который мы рассмотрим для целей обучения модели - логистическая регрессия."
      ]
    },
    {
      "cell_type": "code",
      "execution_count": null,
      "metadata": {
        "colab": {
          "base_uri": "https://localhost:8080/"
        },
        "id": "l9Qi4UfSXbrC",
        "outputId": "b836bce9-9bdf-424f-9c12-17af80febf47"
      },
      "outputs": [
        {
          "output_type": "stream",
          "name": "stdout",
          "text": [
            "Accuracy: 0.7262830482115086\n"
          ]
        }
      ],
      "source": [
        "model = LogisticRegression(random_state = 12345, solver ='lbfgs', max_iter=1000)\n",
        "model.fit(features_train,target_train)\n",
        "model.predict(features_valid)\n",
        "model.score(features_valid,target_valid)\n",
        "dump(model, 'model_9_1.joblib')\n",
        "print (\"Accuracy:\",model.score(features_valid,target_valid) )"
      ]
    },
    {
      "cell_type": "markdown",
      "metadata": {
        "id": "ErnNpfE3XbrC"
      },
      "source": [
        "Самая низкая точность из трёх исследованных алгоритмов у логистической регрессии - чуть больше 72% правильных ответов получим при использовании этого алгоритма."
      ]
    },
    {
      "cell_type": "markdown",
      "metadata": {
        "id": "LacUqK6NXbrC"
      },
      "source": [
        "Дополнительно решим задачу инструментом GridSearchCv. \n"
      ]
    },
    {
      "cell_type": "code",
      "execution_count": null,
      "metadata": {
        "id": "qm-6-vbtXbrD"
      },
      "outputs": [],
      "source": [
        "clf = RandomForestClassifier() "
      ]
    },
    {
      "cell_type": "markdown",
      "metadata": {
        "id": "9s1Cl5ooXbrD"
      },
      "source": [
        "<div class=\"alert alert-block alert-warning\">\n",
        "Отдельно создаем словарик, в который вписываем параметры, которые будем прогонять GridSearch’ем. Для примера будем использовать следующие параметры:\n",
        "\n",
        "n_estimators – число деревьев в лесу. Оно будет изменяться от 10 до 50 с шагом 10\n",
        "\n",
        "max_depth – глубина дерева. Она будет изменяться от 1 до 12 с шагом в 2\n",
        "\n",
        "min_samples_leaf – минимальное число образцов в листах. Оно будет изменяться от 1 до 7\n",
        "\n",
        "min_samples_leaf – минимальное число образцов для сплита. Оно будет изменяться от 2 до 9.\n",
        "    </div>"
      ]
    },
    {
      "cell_type": "code",
      "execution_count": null,
      "metadata": {
        "id": "NiZv7lWPXbrD"
      },
      "outputs": [],
      "source": [
        "parametrs = { 'n_estimators': range (10, 51, 10),\n",
        "              'max_depth': range (1,13, 2),\n",
        "              'min_samples_leaf': range (1,8),\n",
        "              'min_samples_split': range (2,10,2) }"
      ]
    },
    {
      "cell_type": "code",
      "execution_count": null,
      "metadata": {
        "scrolled": true,
        "colab": {
          "base_uri": "https://localhost:8080/"
        },
        "id": "DVoT5_W6XbrE",
        "outputId": "09a8ab8f-cf70-4504-830a-916027093752"
      },
      "outputs": [
        {
          "output_type": "execute_result",
          "data": {
            "text/plain": [
              "{'max_depth': 9,\n",
              " 'min_samples_leaf': 7,\n",
              " 'min_samples_split': 8,\n",
              " 'n_estimators': 40}"
            ]
          },
          "metadata": {},
          "execution_count": 31
        }
      ],
      "source": [
        "grid = GridSearchCV(clf, parametrs, cv=5) #запускаем обучение и смотрим какие наилучшие параметры получим при помощи инструмента GridSearchCV\n",
        "grid.fit(features_train, target_train)\n",
        "grid.best_params_"
      ]
    },
    {
      "cell_type": "markdown",
      "metadata": {
        "id": "VTdXxLfXXbrF"
      },
      "source": [
        "## Проверим модель на тестовой выборке"
      ]
    },
    {
      "cell_type": "markdown",
      "metadata": {
        "id": "kY4_rijeXbrF"
      },
      "source": [
        "Исходя из сравнения доли правильных ответов в зависимости от задаваемых параметров, алгоритм обучения \"случайный лес\" гарантирует наибольшую долю правильных ответов. У него есть свои минусы, он не такой быстрый, как решающее дерево или логистическая регрессия, но на имеющемся объеме данных, скорость работы для нас не будет являться решающим параметром. Остановимся на алгоритме \"случайный лес\" с количеством деревьев равным `10` для проверки модели на тестовой выборке."
      ]
    },
    {
      "cell_type": "code",
      "execution_count": null,
      "metadata": {
        "colab": {
          "base_uri": "https://localhost:8080/"
        },
        "id": "Bxd64U-MXbrG",
        "outputId": "bdc6028b-de67-4b2b-c97e-5d0e43a79104"
      },
      "outputs": [
        {
          "output_type": "execute_result",
          "data": {
            "text/plain": [
              "0.7869362363919129"
            ]
          },
          "metadata": {},
          "execution_count": 32
        }
      ],
      "source": [
        "best_model.fit(features_train,target_train) \n",
        "predictions_test = best_model.predict(features_test)\n",
        "accuracy_score(target_test, predictions_test)"
      ]
    },
    {
      "cell_type": "markdown",
      "metadata": {
        "id": "6CS8U8oaXbrH"
      },
      "source": [
        "<div class=\"alert alert-block alert-warning\">\n",
        "Посмотрим как изменится доля правильных ответов при использовании модели с лучшими параметрами, определенными при помощи GridSearchCV.\n",
        "</div>"
      ]
    },
    {
      "cell_type": "code",
      "execution_count": null,
      "metadata": {
        "colab": {
          "base_uri": "https://localhost:8080/"
        },
        "id": "MBeJFH5oXbrH",
        "outputId": "2312efb7-f2cb-4291-9edd-527fb218e9f1"
      },
      "outputs": [
        {
          "output_type": "execute_result",
          "data": {
            "text/plain": [
              "0.7947122861586314"
            ]
          },
          "metadata": {},
          "execution_count": 33
        }
      ],
      "source": [
        "the_very_best_model = RandomForestClassifier(n_estimators=30,max_depth=11,min_samples_leaf=6,min_samples_split=2)\n",
        "the_very_best_model.fit(features_train,target_train) \n",
        "predictions_test = the_very_best_model.predict(features_test)\n",
        "accuracy_score(target_test, predictions_test)"
      ]
    },
    {
      "cell_type": "markdown",
      "metadata": {
        "id": "Ha_ntDT_XbrH"
      },
      "source": [
        "<div class=\"alert alert-block alert-warning\">\n",
        "Доля правильных ответов при использовании новых параметров увеличилась: 80,1% vs 78,7%. Правда ждать ответа теперь приходится значительно дольше :)\n",
        "</div>"
      ]
    },
    {
      "cell_type": "markdown",
      "metadata": {
        "id": "-zlg3EXkXbrI"
      },
      "source": [
        "Доля правильных ответов почти совпадает с результатом, полученным для валидационной выборки и её размер больше 75%, заданных по условию задачи. Делаем вывод, что мы сделали правильный выбор и можем использовать данную модель для выбора оптимального тарифа по заданным параметрам количества звонков, расхода минут разговора, сообщений, расхода мегабайт траффика."
      ]
    },
    {
      "cell_type": "markdown",
      "metadata": {
        "id": "AiQU7PtVXbrJ"
      },
      "source": [
        "## Проверим модели на адекватность"
      ]
    },
    {
      "cell_type": "markdown",
      "metadata": {
        "id": "97krfg5HXbrK"
      },
      "source": [
        "Рассчитаем точность предсказания при использовании DummyClassifier."
      ]
    },
    {
      "cell_type": "code",
      "execution_count": null,
      "metadata": {
        "colab": {
          "base_uri": "https://localhost:8080/"
        },
        "id": "liWzU0auXbrK",
        "outputId": "1a989b68-8638-430c-d068-2f950415dcdb"
      },
      "outputs": [
        {
          "output_type": "execute_result",
          "data": {
            "text/plain": [
              "0.5894245723172629"
            ]
          },
          "metadata": {},
          "execution_count": 34
        }
      ],
      "source": [
        "from sklearn.dummy import DummyClassifier\n",
        "dummy_clf = DummyClassifier(strategy=\"stratified\")\n",
        "dummy_clf.fit(features_train, target_train)\n",
        "DummyClassifier(strategy='most_frequent')\n",
        "predictions_dummy = dummy_clf.predict(features_test)\n",
        "dummy_clf.score(target_test,predictions_dummy )\n"
      ]
    },
    {
      "cell_type": "markdown",
      "metadata": {
        "id": "dDJmMIOaXbrK"
      },
      "source": [
        "Доля правильных ответов в случае использования DummyClassifier составит около 60%, что меньше 78,7%, которые показывает использование выбранного нами алгоритма. Обученная нами модель является более адекватной, поскольку она даст больше правильных ответов.\n",
        "\n",
        "Модель с необходимой метрикой качества построена.\n",
        "\n"
      ]
    },
    {
      "cell_type": "code",
      "source": [],
      "metadata": {
        "id": "v9EKPZhhYzol"
      },
      "execution_count": null,
      "outputs": []
    }
  ],
  "metadata": {
    "ExecuteTimeLog": [
      {
        "duration": 17,
        "start_time": "2022-05-19T12:05:47.695Z"
      },
      {
        "duration": 10,
        "start_time": "2022-05-19T12:06:00.671Z"
      },
      {
        "duration": 12,
        "start_time": "2022-05-19T12:06:09.700Z"
      },
      {
        "duration": 11,
        "start_time": "2022-05-20T10:22:32.863Z"
      },
      {
        "duration": 8,
        "start_time": "2022-05-20T10:51:47.497Z"
      },
      {
        "duration": 9,
        "start_time": "2022-05-20T10:51:57.502Z"
      },
      {
        "duration": 29,
        "start_time": "2022-05-20T10:52:17.008Z"
      },
      {
        "duration": 5,
        "start_time": "2022-05-20T10:52:21.331Z"
      },
      {
        "duration": 4,
        "start_time": "2022-05-20T10:52:32.721Z"
      },
      {
        "duration": 4,
        "start_time": "2022-05-20T10:52:42.128Z"
      },
      {
        "duration": 4,
        "start_time": "2022-05-20T10:52:47.968Z"
      },
      {
        "duration": 5,
        "start_time": "2022-05-20T10:53:01.240Z"
      },
      {
        "duration": 4,
        "start_time": "2022-05-20T10:53:06.345Z"
      },
      {
        "duration": 8,
        "start_time": "2022-05-20T10:56:15.467Z"
      },
      {
        "duration": 9,
        "start_time": "2022-05-20T10:57:19.105Z"
      },
      {
        "duration": 30,
        "start_time": "2022-05-20T10:57:42.792Z"
      },
      {
        "duration": 7,
        "start_time": "2022-05-20T10:57:45.940Z"
      },
      {
        "duration": 9,
        "start_time": "2022-05-20T10:57:47.997Z"
      },
      {
        "duration": 9,
        "start_time": "2022-05-20T10:57:53.800Z"
      },
      {
        "duration": 5,
        "start_time": "2022-05-20T10:58:02.460Z"
      },
      {
        "duration": 4,
        "start_time": "2022-05-20T10:58:33.937Z"
      },
      {
        "duration": 5,
        "start_time": "2022-05-20T10:59:27.723Z"
      },
      {
        "duration": 30,
        "start_time": "2022-05-20T11:02:03.872Z"
      },
      {
        "duration": 7,
        "start_time": "2022-05-20T11:02:07.464Z"
      },
      {
        "duration": 4,
        "start_time": "2022-05-20T11:02:08.997Z"
      },
      {
        "duration": 17,
        "start_time": "2022-05-20T11:04:36.755Z"
      },
      {
        "duration": 11,
        "start_time": "2022-05-20T11:07:39.316Z"
      },
      {
        "duration": 7,
        "start_time": "2022-05-20T11:07:44.617Z"
      },
      {
        "duration": 6,
        "start_time": "2022-05-20T11:14:22.788Z"
      },
      {
        "duration": 8,
        "start_time": "2022-05-20T11:16:36.638Z"
      },
      {
        "duration": 120,
        "start_time": "2022-05-20T11:16:41.050Z"
      },
      {
        "duration": 27,
        "start_time": "2022-05-20T11:16:45.520Z"
      },
      {
        "duration": 33,
        "start_time": "2022-05-20T11:17:44.535Z"
      },
      {
        "duration": 14,
        "start_time": "2022-05-20T11:18:13.692Z"
      },
      {
        "duration": 29,
        "start_time": "2022-05-20T11:18:38.176Z"
      },
      {
        "duration": 48,
        "start_time": "2022-05-20T11:18:42.244Z"
      },
      {
        "duration": 42,
        "start_time": "2022-05-20T11:26:22.845Z"
      },
      {
        "duration": 48,
        "start_time": "2022-05-20T13:32:54.940Z"
      },
      {
        "duration": 264,
        "start_time": "2022-05-20T13:43:35.719Z"
      },
      {
        "duration": 251,
        "start_time": "2022-05-20T13:43:52.295Z"
      },
      {
        "duration": 268,
        "start_time": "2022-05-20T13:46:38.721Z"
      },
      {
        "duration": 288,
        "start_time": "2022-05-20T13:47:11.217Z"
      },
      {
        "duration": 11,
        "start_time": "2022-05-20T13:59:48.259Z"
      },
      {
        "duration": 75,
        "start_time": "2022-05-20T14:00:04.300Z"
      },
      {
        "duration": 31,
        "start_time": "2022-05-20T14:00:10.387Z"
      },
      {
        "duration": 8,
        "start_time": "2022-05-20T14:00:11.357Z"
      },
      {
        "duration": 59,
        "start_time": "2022-05-20T14:00:15.510Z"
      },
      {
        "duration": 43,
        "start_time": "2022-05-20T14:01:08.765Z"
      },
      {
        "duration": 44,
        "start_time": "2022-05-20T14:01:56.789Z"
      },
      {
        "duration": 46,
        "start_time": "2022-05-20T14:02:03.136Z"
      },
      {
        "duration": 38,
        "start_time": "2022-05-20T14:03:54.628Z"
      },
      {
        "duration": 42,
        "start_time": "2022-05-20T14:05:10.848Z"
      },
      {
        "duration": 44,
        "start_time": "2022-05-20T14:05:16.075Z"
      },
      {
        "duration": 44,
        "start_time": "2022-05-20T14:06:28.287Z"
      },
      {
        "duration": 55,
        "start_time": "2022-05-20T14:07:04.431Z"
      },
      {
        "duration": 65,
        "start_time": "2022-05-20T14:07:38.736Z"
      },
      {
        "duration": 28,
        "start_time": "2022-05-20T14:08:29.341Z"
      },
      {
        "duration": 11,
        "start_time": "2022-05-20T14:08:29.371Z"
      },
      {
        "duration": 16,
        "start_time": "2022-05-20T14:08:29.384Z"
      },
      {
        "duration": 6,
        "start_time": "2022-05-20T14:08:29.403Z"
      },
      {
        "duration": 8,
        "start_time": "2022-05-20T14:08:29.411Z"
      },
      {
        "duration": 4,
        "start_time": "2022-05-20T14:08:29.421Z"
      },
      {
        "duration": 9,
        "start_time": "2022-05-20T14:08:29.427Z"
      },
      {
        "duration": 76,
        "start_time": "2022-05-20T14:08:29.438Z"
      },
      {
        "duration": 278,
        "start_time": "2022-05-20T14:08:29.515Z"
      },
      {
        "duration": 52,
        "start_time": "2022-05-20T14:08:29.796Z"
      },
      {
        "duration": 81,
        "start_time": "2022-05-20T14:08:29.850Z"
      },
      {
        "duration": 50,
        "start_time": "2022-05-20T14:09:01.466Z"
      },
      {
        "duration": 52,
        "start_time": "2022-05-20T14:09:16.823Z"
      },
      {
        "duration": 48,
        "start_time": "2022-05-20T14:09:19.954Z"
      },
      {
        "duration": 51,
        "start_time": "2022-05-20T14:12:41.953Z"
      },
      {
        "duration": 9,
        "start_time": "2022-05-20T14:13:11.191Z"
      },
      {
        "duration": 8,
        "start_time": "2022-05-20T14:14:20.230Z"
      },
      {
        "duration": 13,
        "start_time": "2022-05-20T14:14:26.723Z"
      },
      {
        "duration": 458,
        "start_time": "2022-05-20T14:15:22.090Z"
      },
      {
        "duration": 13,
        "start_time": "2022-05-20T14:15:30.859Z"
      },
      {
        "duration": 8,
        "start_time": "2022-05-20T14:15:42.778Z"
      },
      {
        "duration": 4,
        "start_time": "2022-05-20T14:15:53.078Z"
      },
      {
        "duration": 43,
        "start_time": "2022-05-20T14:17:45.529Z"
      },
      {
        "duration": 4,
        "start_time": "2022-05-20T14:17:53.716Z"
      },
      {
        "duration": 47,
        "start_time": "2022-05-20T14:19:22.211Z"
      },
      {
        "duration": 3,
        "start_time": "2022-05-20T14:19:24.269Z"
      },
      {
        "duration": 55,
        "start_time": "2022-05-20T14:19:30.182Z"
      },
      {
        "duration": 77,
        "start_time": "2022-05-20T14:22:06.971Z"
      },
      {
        "duration": 45,
        "start_time": "2022-05-20T14:22:38.849Z"
      },
      {
        "duration": 29,
        "start_time": "2022-05-20T14:23:00.313Z"
      },
      {
        "duration": 9,
        "start_time": "2022-05-20T14:23:00.344Z"
      },
      {
        "duration": 17,
        "start_time": "2022-05-20T14:23:00.354Z"
      },
      {
        "duration": 11,
        "start_time": "2022-05-20T14:23:00.373Z"
      },
      {
        "duration": 8,
        "start_time": "2022-05-20T14:23:00.386Z"
      },
      {
        "duration": 7,
        "start_time": "2022-05-20T14:23:00.396Z"
      },
      {
        "duration": 13,
        "start_time": "2022-05-20T14:23:00.405Z"
      },
      {
        "duration": 34,
        "start_time": "2022-05-20T14:23:00.420Z"
      },
      {
        "duration": 255,
        "start_time": "2022-05-20T14:23:00.455Z"
      },
      {
        "duration": 41,
        "start_time": "2022-05-20T14:23:00.712Z"
      },
      {
        "duration": 55,
        "start_time": "2022-05-20T14:23:00.755Z"
      },
      {
        "duration": 3,
        "start_time": "2022-05-20T14:23:00.812Z"
      },
      {
        "duration": 45,
        "start_time": "2022-05-20T14:23:04.684Z"
      },
      {
        "duration": 6,
        "start_time": "2022-05-20T15:28:14.212Z"
      },
      {
        "duration": 46,
        "start_time": "2022-05-20T15:29:22.597Z"
      },
      {
        "duration": 6,
        "start_time": "2022-05-20T15:29:24.514Z"
      },
      {
        "duration": 29,
        "start_time": "2022-05-20T15:32:51.695Z"
      },
      {
        "duration": 9,
        "start_time": "2022-05-20T15:32:51.726Z"
      },
      {
        "duration": 13,
        "start_time": "2022-05-20T15:32:51.736Z"
      },
      {
        "duration": 5,
        "start_time": "2022-05-20T15:32:51.750Z"
      },
      {
        "duration": 6,
        "start_time": "2022-05-20T15:32:51.756Z"
      },
      {
        "duration": 4,
        "start_time": "2022-05-20T15:32:51.764Z"
      },
      {
        "duration": 11,
        "start_time": "2022-05-20T15:32:51.769Z"
      },
      {
        "duration": 29,
        "start_time": "2022-05-20T15:32:51.781Z"
      },
      {
        "duration": 246,
        "start_time": "2022-05-20T15:32:51.812Z"
      },
      {
        "duration": 56,
        "start_time": "2022-05-20T15:32:52.060Z"
      },
      {
        "duration": 46,
        "start_time": "2022-05-20T15:32:52.117Z"
      },
      {
        "duration": 5,
        "start_time": "2022-05-20T15:32:52.165Z"
      },
      {
        "duration": 1211,
        "start_time": "2022-05-23T18:12:05.689Z"
      },
      {
        "duration": 27,
        "start_time": "2022-05-23T18:12:07.270Z"
      },
      {
        "duration": 16,
        "start_time": "2022-05-23T18:12:08.117Z"
      },
      {
        "duration": 7,
        "start_time": "2022-05-23T18:12:09.833Z"
      },
      {
        "duration": 5,
        "start_time": "2022-05-23T18:12:23.962Z"
      },
      {
        "duration": 10,
        "start_time": "2022-05-23T18:12:30.303Z"
      },
      {
        "duration": 132,
        "start_time": "2022-05-23T18:16:06.533Z"
      },
      {
        "duration": 33,
        "start_time": "2022-05-23T18:16:14.662Z"
      },
      {
        "duration": 18,
        "start_time": "2022-05-23T18:16:14.699Z"
      },
      {
        "duration": 17,
        "start_time": "2022-05-23T18:16:14.722Z"
      },
      {
        "duration": 8,
        "start_time": "2022-05-23T18:16:14.741Z"
      },
      {
        "duration": 9,
        "start_time": "2022-05-23T18:16:14.751Z"
      },
      {
        "duration": 31,
        "start_time": "2022-05-23T18:16:14.761Z"
      },
      {
        "duration": 12,
        "start_time": "2022-05-23T18:16:14.796Z"
      },
      {
        "duration": 43,
        "start_time": "2022-05-23T18:16:14.810Z"
      },
      {
        "duration": 346,
        "start_time": "2022-05-23T18:16:14.854Z"
      },
      {
        "duration": 72,
        "start_time": "2022-05-23T18:16:15.203Z"
      },
      {
        "duration": 74,
        "start_time": "2022-05-23T18:16:15.277Z"
      },
      {
        "duration": 6,
        "start_time": "2022-05-23T18:16:15.353Z"
      },
      {
        "duration": 11,
        "start_time": "2022-05-23T18:42:56.086Z"
      },
      {
        "duration": 7,
        "start_time": "2022-05-23T18:48:14.145Z"
      },
      {
        "duration": 29,
        "start_time": "2022-05-23T18:59:21.418Z"
      },
      {
        "duration": 11,
        "start_time": "2022-05-23T18:59:21.449Z"
      },
      {
        "duration": 13,
        "start_time": "2022-05-23T18:59:21.461Z"
      },
      {
        "duration": 5,
        "start_time": "2022-05-23T18:59:21.476Z"
      },
      {
        "duration": 21,
        "start_time": "2022-05-23T18:59:21.483Z"
      },
      {
        "duration": 7,
        "start_time": "2022-05-23T18:59:21.506Z"
      },
      {
        "duration": 8,
        "start_time": "2022-05-23T18:59:21.515Z"
      },
      {
        "duration": 35,
        "start_time": "2022-05-23T18:59:21.526Z"
      },
      {
        "duration": 304,
        "start_time": "2022-05-23T18:59:21.564Z"
      },
      {
        "duration": 80,
        "start_time": "2022-05-23T18:59:21.869Z"
      },
      {
        "duration": 54,
        "start_time": "2022-05-23T18:59:21.951Z"
      },
      {
        "duration": 8,
        "start_time": "2022-05-23T18:59:22.007Z"
      },
      {
        "duration": 33,
        "start_time": "2022-05-23T18:59:29.394Z"
      },
      {
        "duration": 10,
        "start_time": "2022-05-23T18:59:29.430Z"
      },
      {
        "duration": 16,
        "start_time": "2022-05-23T18:59:29.442Z"
      },
      {
        "duration": 9,
        "start_time": "2022-05-23T18:59:29.460Z"
      },
      {
        "duration": 11,
        "start_time": "2022-05-23T18:59:29.472Z"
      },
      {
        "duration": 4,
        "start_time": "2022-05-23T18:59:29.485Z"
      },
      {
        "duration": 13,
        "start_time": "2022-05-23T18:59:29.491Z"
      },
      {
        "duration": 38,
        "start_time": "2022-05-23T18:59:29.507Z"
      },
      {
        "duration": 343,
        "start_time": "2022-05-23T18:59:29.547Z"
      },
      {
        "duration": 51,
        "start_time": "2022-05-23T18:59:29.896Z"
      },
      {
        "duration": 61,
        "start_time": "2022-05-23T18:59:29.949Z"
      },
      {
        "duration": 10,
        "start_time": "2022-05-23T18:59:30.012Z"
      },
      {
        "duration": 30,
        "start_time": "2022-05-23T18:59:33.507Z"
      },
      {
        "duration": 14,
        "start_time": "2022-05-23T18:59:33.539Z"
      },
      {
        "duration": 14,
        "start_time": "2022-05-23T18:59:33.556Z"
      },
      {
        "duration": 8,
        "start_time": "2022-05-23T18:59:33.572Z"
      },
      {
        "duration": 10,
        "start_time": "2022-05-23T18:59:33.585Z"
      },
      {
        "duration": 14,
        "start_time": "2022-05-23T18:59:33.598Z"
      },
      {
        "duration": 12,
        "start_time": "2022-05-23T18:59:33.613Z"
      },
      {
        "duration": 34,
        "start_time": "2022-05-23T18:59:33.627Z"
      },
      {
        "duration": 305,
        "start_time": "2022-05-23T18:59:33.663Z"
      },
      {
        "duration": 58,
        "start_time": "2022-05-23T18:59:33.970Z"
      },
      {
        "duration": 66,
        "start_time": "2022-05-23T18:59:34.030Z"
      },
      {
        "duration": 10,
        "start_time": "2022-05-23T18:59:34.097Z"
      },
      {
        "duration": 58,
        "start_time": "2022-05-23T18:59:39.058Z"
      },
      {
        "duration": 10,
        "start_time": "2022-05-23T18:59:39.118Z"
      },
      {
        "duration": 13,
        "start_time": "2022-05-23T18:59:39.129Z"
      },
      {
        "duration": 6,
        "start_time": "2022-05-23T18:59:39.144Z"
      },
      {
        "duration": 6,
        "start_time": "2022-05-23T18:59:39.152Z"
      },
      {
        "duration": 5,
        "start_time": "2022-05-23T18:59:39.159Z"
      },
      {
        "duration": 13,
        "start_time": "2022-05-23T18:59:39.166Z"
      },
      {
        "duration": 47,
        "start_time": "2022-05-23T18:59:39.185Z"
      },
      {
        "duration": 278,
        "start_time": "2022-05-23T18:59:39.234Z"
      },
      {
        "duration": 47,
        "start_time": "2022-05-23T18:59:39.514Z"
      },
      {
        "duration": 64,
        "start_time": "2022-05-23T18:59:39.563Z"
      },
      {
        "duration": 5,
        "start_time": "2022-05-23T18:59:39.629Z"
      },
      {
        "duration": 27,
        "start_time": "2022-05-23T18:59:42.954Z"
      },
      {
        "duration": 11,
        "start_time": "2022-05-23T18:59:42.983Z"
      },
      {
        "duration": 14,
        "start_time": "2022-05-23T18:59:42.996Z"
      },
      {
        "duration": 7,
        "start_time": "2022-05-23T18:59:43.012Z"
      },
      {
        "duration": 6,
        "start_time": "2022-05-23T18:59:43.021Z"
      },
      {
        "duration": 4,
        "start_time": "2022-05-23T18:59:43.029Z"
      },
      {
        "duration": 6,
        "start_time": "2022-05-23T18:59:43.034Z"
      },
      {
        "duration": 65,
        "start_time": "2022-05-23T18:59:43.042Z"
      },
      {
        "duration": 269,
        "start_time": "2022-05-23T18:59:43.109Z"
      },
      {
        "duration": 46,
        "start_time": "2022-05-23T18:59:43.383Z"
      },
      {
        "duration": 70,
        "start_time": "2022-05-23T18:59:43.431Z"
      },
      {
        "duration": 6,
        "start_time": "2022-05-23T18:59:43.503Z"
      },
      {
        "duration": 28,
        "start_time": "2022-05-23T18:59:46.880Z"
      },
      {
        "duration": 10,
        "start_time": "2022-05-23T18:59:46.911Z"
      },
      {
        "duration": 13,
        "start_time": "2022-05-23T18:59:46.923Z"
      },
      {
        "duration": 7,
        "start_time": "2022-05-23T18:59:46.938Z"
      },
      {
        "duration": 7,
        "start_time": "2022-05-23T18:59:46.948Z"
      },
      {
        "duration": 38,
        "start_time": "2022-05-23T18:59:46.956Z"
      },
      {
        "duration": 9,
        "start_time": "2022-05-23T18:59:46.998Z"
      },
      {
        "duration": 31,
        "start_time": "2022-05-23T18:59:47.008Z"
      },
      {
        "duration": 275,
        "start_time": "2022-05-23T18:59:47.041Z"
      },
      {
        "duration": 52,
        "start_time": "2022-05-23T18:59:47.318Z"
      },
      {
        "duration": 54,
        "start_time": "2022-05-23T18:59:47.386Z"
      },
      {
        "duration": 6,
        "start_time": "2022-05-23T18:59:47.442Z"
      },
      {
        "duration": 28,
        "start_time": "2022-05-23T18:59:50.694Z"
      },
      {
        "duration": 9,
        "start_time": "2022-05-23T18:59:50.725Z"
      },
      {
        "duration": 19,
        "start_time": "2022-05-23T18:59:50.736Z"
      },
      {
        "duration": 6,
        "start_time": "2022-05-23T18:59:50.758Z"
      },
      {
        "duration": 10,
        "start_time": "2022-05-23T18:59:50.766Z"
      },
      {
        "duration": 18,
        "start_time": "2022-05-23T18:59:50.778Z"
      },
      {
        "duration": 10,
        "start_time": "2022-05-23T18:59:50.797Z"
      },
      {
        "duration": 31,
        "start_time": "2022-05-23T18:59:50.809Z"
      },
      {
        "duration": 286,
        "start_time": "2022-05-23T18:59:50.841Z"
      },
      {
        "duration": 54,
        "start_time": "2022-05-23T18:59:51.129Z"
      },
      {
        "duration": 56,
        "start_time": "2022-05-23T18:59:51.184Z"
      },
      {
        "duration": 6,
        "start_time": "2022-05-23T18:59:51.242Z"
      },
      {
        "duration": 7,
        "start_time": "2022-05-23T19:00:13.904Z"
      },
      {
        "duration": 6,
        "start_time": "2022-05-23T19:01:13.400Z"
      },
      {
        "duration": 31,
        "start_time": "2022-05-23T19:05:35.006Z"
      },
      {
        "duration": 15,
        "start_time": "2022-05-23T19:05:35.040Z"
      },
      {
        "duration": 17,
        "start_time": "2022-05-23T19:05:35.058Z"
      },
      {
        "duration": 9,
        "start_time": "2022-05-23T19:05:35.079Z"
      },
      {
        "duration": 14,
        "start_time": "2022-05-23T19:05:35.090Z"
      },
      {
        "duration": 7,
        "start_time": "2022-05-23T19:05:35.106Z"
      },
      {
        "duration": 8,
        "start_time": "2022-05-23T19:05:35.115Z"
      },
      {
        "duration": 68,
        "start_time": "2022-05-23T19:05:35.125Z"
      },
      {
        "duration": 311,
        "start_time": "2022-05-23T19:05:35.195Z"
      },
      {
        "duration": 63,
        "start_time": "2022-05-23T19:05:35.509Z"
      },
      {
        "duration": 73,
        "start_time": "2022-05-23T19:05:35.574Z"
      },
      {
        "duration": 9,
        "start_time": "2022-05-23T19:05:35.650Z"
      },
      {
        "duration": 1522,
        "start_time": "2022-05-25T09:40:10.193Z"
      },
      {
        "duration": 38,
        "start_time": "2022-05-25T09:41:03.649Z"
      },
      {
        "duration": 40,
        "start_time": "2022-05-25T09:43:01.294Z"
      },
      {
        "duration": 2243,
        "start_time": "2022-05-25T09:47:44.794Z"
      },
      {
        "duration": 27,
        "start_time": "2022-05-25T09:47:49.935Z"
      },
      {
        "duration": 4755,
        "start_time": "2022-05-25T09:50:03.760Z"
      },
      {
        "duration": 43,
        "start_time": "2022-05-25T10:04:12.754Z"
      },
      {
        "duration": 2,
        "start_time": "2022-05-25T10:07:26.913Z"
      },
      {
        "duration": 2,
        "start_time": "2022-05-25T10:07:29.148Z"
      },
      {
        "duration": 3,
        "start_time": "2022-05-25T10:07:35.430Z"
      },
      {
        "duration": 3,
        "start_time": "2022-05-25T10:09:15.351Z"
      },
      {
        "duration": 9,
        "start_time": "2022-05-25T10:10:17.900Z"
      },
      {
        "duration": 35,
        "start_time": "2022-05-25T10:10:24.150Z"
      },
      {
        "duration": 12,
        "start_time": "2022-05-25T10:10:24.187Z"
      },
      {
        "duration": 10,
        "start_time": "2022-05-25T10:10:24.201Z"
      },
      {
        "duration": 38,
        "start_time": "2022-05-25T10:10:24.213Z"
      },
      {
        "duration": 4735,
        "start_time": "2022-05-25T10:10:24.253Z"
      },
      {
        "duration": 7,
        "start_time": "2022-05-25T10:10:28.991Z"
      },
      {
        "duration": 8,
        "start_time": "2022-05-25T10:10:28.999Z"
      },
      {
        "duration": 10,
        "start_time": "2022-05-25T10:10:29.009Z"
      },
      {
        "duration": 40,
        "start_time": "2022-05-25T10:10:29.021Z"
      },
      {
        "duration": 263,
        "start_time": "2022-05-25T10:10:29.076Z"
      },
      {
        "duration": 60,
        "start_time": "2022-05-25T10:10:29.341Z"
      },
      {
        "duration": 3,
        "start_time": "2022-05-25T10:10:29.402Z"
      },
      {
        "duration": 5,
        "start_time": "2022-05-25T10:10:29.406Z"
      },
      {
        "duration": 0,
        "start_time": "2022-05-25T10:15:14.211Z"
      },
      {
        "duration": 0,
        "start_time": "2022-05-25T10:15:14.212Z"
      },
      {
        "duration": 0,
        "start_time": "2022-05-25T10:15:14.214Z"
      },
      {
        "duration": 0,
        "start_time": "2022-05-25T10:15:14.215Z"
      },
      {
        "duration": 0,
        "start_time": "2022-05-25T10:15:14.217Z"
      },
      {
        "duration": 0,
        "start_time": "2022-05-25T10:15:14.218Z"
      },
      {
        "duration": 0,
        "start_time": "2022-05-25T10:15:14.219Z"
      },
      {
        "duration": 0,
        "start_time": "2022-05-25T10:15:14.220Z"
      },
      {
        "duration": 0,
        "start_time": "2022-05-25T10:15:14.221Z"
      },
      {
        "duration": 0,
        "start_time": "2022-05-25T10:15:14.222Z"
      },
      {
        "duration": 0,
        "start_time": "2022-05-25T10:15:14.223Z"
      },
      {
        "duration": 0,
        "start_time": "2022-05-25T10:15:14.228Z"
      },
      {
        "duration": 0,
        "start_time": "2022-05-25T10:15:14.229Z"
      },
      {
        "duration": 0,
        "start_time": "2022-05-25T10:15:14.232Z"
      },
      {
        "duration": 0,
        "start_time": "2022-05-25T10:15:14.234Z"
      },
      {
        "duration": 0,
        "start_time": "2022-05-25T10:15:14.275Z"
      },
      {
        "duration": 0,
        "start_time": "2022-05-25T10:15:14.288Z"
      },
      {
        "duration": 26,
        "start_time": "2022-05-25T10:15:53.247Z"
      },
      {
        "duration": 18,
        "start_time": "2022-05-25T10:15:53.274Z"
      },
      {
        "duration": 10,
        "start_time": "2022-05-25T10:15:53.293Z"
      },
      {
        "duration": 7,
        "start_time": "2022-05-25T10:15:53.305Z"
      },
      {
        "duration": 4893,
        "start_time": "2022-05-25T10:15:53.313Z"
      },
      {
        "duration": 6,
        "start_time": "2022-05-25T10:15:58.207Z"
      },
      {
        "duration": 12,
        "start_time": "2022-05-25T10:15:58.215Z"
      },
      {
        "duration": 12,
        "start_time": "2022-05-25T10:15:58.229Z"
      },
      {
        "duration": 59,
        "start_time": "2022-05-25T10:15:58.243Z"
      },
      {
        "duration": 273,
        "start_time": "2022-05-25T10:15:58.305Z"
      },
      {
        "duration": 73,
        "start_time": "2022-05-25T10:15:58.586Z"
      },
      {
        "duration": 2,
        "start_time": "2022-05-25T10:15:58.661Z"
      },
      {
        "duration": 8,
        "start_time": "2022-05-25T10:15:58.664Z"
      },
      {
        "duration": 286832,
        "start_time": "2022-05-25T10:15:58.673Z"
      },
      {
        "duration": 54,
        "start_time": "2022-05-25T10:20:45.512Z"
      },
      {
        "duration": 13,
        "start_time": "2022-05-25T10:20:45.567Z"
      },
      {
        "duration": 0,
        "start_time": "2022-05-25T10:20:45.599Z"
      },
      {
        "duration": 3,
        "start_time": "2022-05-25T10:32:04.192Z"
      },
      {
        "duration": 11,
        "start_time": "2022-05-25T10:32:04.327Z"
      },
      {
        "duration": 7,
        "start_time": "2022-05-25T10:32:04.339Z"
      },
      {
        "duration": 5143,
        "start_time": "2022-05-25T10:32:04.348Z"
      },
      {
        "duration": 7,
        "start_time": "2022-05-25T10:32:09.492Z"
      },
      {
        "duration": 5,
        "start_time": "2022-05-25T10:32:09.501Z"
      },
      {
        "duration": 8,
        "start_time": "2022-05-25T10:32:09.508Z"
      },
      {
        "duration": 65,
        "start_time": "2022-05-25T10:32:09.518Z"
      },
      {
        "duration": 257,
        "start_time": "2022-05-25T10:32:09.589Z"
      },
      {
        "duration": 88,
        "start_time": "2022-05-25T10:32:09.847Z"
      },
      {
        "duration": 2,
        "start_time": "2022-05-25T10:32:09.937Z"
      },
      {
        "duration": 7,
        "start_time": "2022-05-25T10:32:09.941Z"
      },
      {
        "duration": 292351,
        "start_time": "2022-05-25T10:32:09.949Z"
      },
      {
        "duration": 46,
        "start_time": "2022-05-25T10:37:02.301Z"
      },
      {
        "duration": 5,
        "start_time": "2022-05-25T10:37:02.349Z"
      },
      {
        "duration": 33,
        "start_time": "2022-05-25T10:37:02.356Z"
      },
      {
        "duration": 9,
        "start_time": "2022-05-25T10:37:02.393Z"
      },
      {
        "duration": 4,
        "start_time": "2022-05-25T11:08:33.105Z"
      },
      {
        "duration": 3,
        "start_time": "2022-05-25T11:08:41.605Z"
      },
      {
        "duration": 24,
        "start_time": "2022-05-25T11:09:12.751Z"
      },
      {
        "duration": 95,
        "start_time": "2022-05-25T11:10:16.398Z"
      },
      {
        "duration": 39,
        "start_time": "2022-05-25T11:11:36.138Z"
      },
      {
        "duration": 27,
        "start_time": "2022-05-25T11:12:04.553Z"
      },
      {
        "duration": 12,
        "start_time": "2022-05-25T11:12:04.581Z"
      },
      {
        "duration": 37,
        "start_time": "2022-05-25T11:12:04.595Z"
      },
      {
        "duration": 6,
        "start_time": "2022-05-25T11:12:04.634Z"
      },
      {
        "duration": 4574,
        "start_time": "2022-05-25T11:12:04.641Z"
      },
      {
        "duration": 5,
        "start_time": "2022-05-25T11:12:09.217Z"
      },
      {
        "duration": 4,
        "start_time": "2022-05-25T11:12:09.224Z"
      },
      {
        "duration": 9,
        "start_time": "2022-05-25T11:12:09.230Z"
      },
      {
        "duration": 46,
        "start_time": "2022-05-25T11:12:09.241Z"
      },
      {
        "duration": 441,
        "start_time": "2022-05-25T11:12:09.289Z"
      },
      {
        "duration": 64,
        "start_time": "2022-05-25T11:12:09.732Z"
      },
      {
        "duration": 2,
        "start_time": "2022-05-25T11:12:09.797Z"
      },
      {
        "duration": 5,
        "start_time": "2022-05-25T11:12:09.801Z"
      },
      {
        "duration": 280368,
        "start_time": "2022-05-25T11:12:09.808Z"
      },
      {
        "duration": 50,
        "start_time": "2022-05-25T11:16:50.178Z"
      },
      {
        "duration": 123,
        "start_time": "2022-05-25T11:16:50.229Z"
      },
      {
        "duration": 5,
        "start_time": "2022-05-25T11:16:50.354Z"
      },
      {
        "duration": 31,
        "start_time": "2022-05-25T11:23:05.539Z"
      },
      {
        "duration": 18,
        "start_time": "2022-05-25T11:23:05.572Z"
      },
      {
        "duration": 20,
        "start_time": "2022-05-25T11:23:05.595Z"
      },
      {
        "duration": 6,
        "start_time": "2022-05-25T11:23:05.618Z"
      },
      {
        "duration": 5221,
        "start_time": "2022-05-25T11:23:05.625Z"
      },
      {
        "duration": 8,
        "start_time": "2022-05-25T11:23:10.847Z"
      },
      {
        "duration": 19,
        "start_time": "2022-05-25T11:23:10.857Z"
      },
      {
        "duration": 14,
        "start_time": "2022-05-25T11:23:10.878Z"
      },
      {
        "duration": 33,
        "start_time": "2022-05-25T11:23:10.894Z"
      },
      {
        "duration": 280,
        "start_time": "2022-05-25T11:23:10.929Z"
      },
      {
        "duration": 59,
        "start_time": "2022-05-25T11:23:11.210Z"
      },
      {
        "duration": 3,
        "start_time": "2022-05-25T11:23:11.270Z"
      },
      {
        "duration": 20,
        "start_time": "2022-05-25T11:23:11.274Z"
      },
      {
        "duration": 306465,
        "start_time": "2022-05-25T11:23:11.295Z"
      },
      {
        "duration": 57,
        "start_time": "2022-05-25T11:28:17.762Z"
      },
      {
        "duration": 109,
        "start_time": "2022-05-25T11:28:17.820Z"
      },
      {
        "duration": 5,
        "start_time": "2022-05-25T11:28:17.931Z"
      }
    ],
    "kernelspec": {
      "display_name": "Python 3 (ipykernel)",
      "language": "python",
      "name": "python3"
    },
    "language_info": {
      "codemirror_mode": {
        "name": "ipython",
        "version": 3
      },
      "file_extension": ".py",
      "mimetype": "text/x-python",
      "name": "python",
      "nbconvert_exporter": "python",
      "pygments_lexer": "ipython3",
      "version": "3.9.5"
    },
    "toc": {
      "base_numbering": 1,
      "nav_menu": {},
      "number_sections": true,
      "sideBar": true,
      "skip_h1_title": true,
      "title_cell": "Table of Contents",
      "title_sidebar": "Contents",
      "toc_cell": false,
      "toc_position": {},
      "toc_section_display": true,
      "toc_window_display": false
    },
    "colab": {
      "provenance": [],
      "collapsed_sections": []
    }
  },
  "nbformat": 4,
  "nbformat_minor": 0
}