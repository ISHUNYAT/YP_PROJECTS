{
  "cells": [
    {
      "cell_type": "markdown",
      "metadata": {
        "id": "un7AJkyHmzja"
      },
      "source": [
        "# Определение стоимости автомобилей"
      ]
    },
    {
      "cell_type": "markdown",
      "metadata": {
        "id": "01WixThCmzjb"
      },
      "source": [
        "Сервис по продаже автомобилей с пробегом «Не бит, не крашен» разрабатывает приложение для привлечения новых клиентов. В нём можно быстро узнать рыночную стоимость своего автомобиля. В нашем распоряжении исторические данные: технические характеристики, комплектации и цены автомобилей. Нам нужно построить модель для определения стоимости. \n",
        "\n",
        "Нашему заказчику важны:\n",
        "\n",
        "- качество предсказания;\n",
        "- скорость предсказания;\n",
        "- время обучения."
      ]
    },
    {
      "cell_type": "markdown",
      "metadata": {
        "id": "r0RU4V3Fmzjc"
      },
      "source": [
        "# Описание данных #\n",
        "\n",
        "  Признаки:\n",
        "\n",
        "* DateCrawled — дата скачивания анкеты из базы\n",
        "* VehicleType — тип автомобильного кузова\n",
        "* RegistrationYear — год регистрации автомобиля\n",
        "* Gearbox — тип коробки передач\n",
        "* Power — мощность (л. с.)\n",
        "* Model — модель автомобиля\n",
        "* Kilometer — пробег (км)\n",
        "* RegistrationMonth — месяц регистрации автомобиля\n",
        "* FuelType — тип топлива\n",
        "* Brand — марка автомобиля\n",
        "* NotRepaired — была машина в ремонте или нет\n",
        "* DateCreated — дата создания анкеты\n",
        "* NumberOfPictures — количество фотографий автомобиля\n",
        "* PostalCode — почтовый индекс владельца анкеты (пользователя)\n",
        "* LastSeen — дата последней активности пользователя\n",
        "\n",
        " Целевой признак\n",
        "\n",
        "\n",
        "* Price — цена (евро)"
      ]
    },
    {
      "cell_type": "markdown",
      "metadata": {
        "id": "8haaId0-mzje"
      },
      "source": [
        "# Основные шаги работы #\n",
        "\n",
        "1. Загрузим данные\n",
        "2. Изучим данные. Заполним пропущенные значения и обработаем аномалии в столбцах. Если среди признаков имеются неинформативные, удалим их.\n",
        "3. Подготовим выборки для обучения моделей.\n",
        "4. Обучим разные модели: LightGBM, RandomForestRegressor, CatBooster. Для каждой модели попробуем разные гиперпараметры.\n",
        "5. Проанализируем время обучения, время предсказания и качество моделей.\n",
        "6. Опираясь на критерии заказчика, выберем лучшую модель, проверим её качество на тестовой выборке."
      ]
    },
    {
      "cell_type": "code",
      "source": [
        "pip install catboost"
      ],
      "metadata": {
        "colab": {
          "base_uri": "https://localhost:8080/"
        },
        "id": "QxOLTl6Gm63p",
        "outputId": "ce97ce39-7701-49a6-88a1-fdc87e42b434"
      },
      "execution_count": null,
      "outputs": [
        {
          "output_type": "stream",
          "name": "stdout",
          "text": [
            "Looking in indexes: https://pypi.org/simple, https://us-python.pkg.dev/colab-wheels/public/simple/\n",
            "Requirement already satisfied: catboost in /usr/local/lib/python3.7/dist-packages (1.1)\n",
            "Requirement already satisfied: scipy in /usr/local/lib/python3.7/dist-packages (from catboost) (1.7.3)\n",
            "Requirement already satisfied: matplotlib in /usr/local/lib/python3.7/dist-packages (from catboost) (3.2.2)\n",
            "Requirement already satisfied: plotly in /usr/local/lib/python3.7/dist-packages (from catboost) (5.5.0)\n",
            "Requirement already satisfied: numpy>=1.16.0 in /usr/local/lib/python3.7/dist-packages (from catboost) (1.21.6)\n",
            "Requirement already satisfied: six in /usr/local/lib/python3.7/dist-packages (from catboost) (1.15.0)\n",
            "Requirement already satisfied: graphviz in /usr/local/lib/python3.7/dist-packages (from catboost) (0.10.1)\n",
            "Requirement already satisfied: pandas>=0.24.0 in /usr/local/lib/python3.7/dist-packages (from catboost) (1.3.5)\n",
            "Requirement already satisfied: python-dateutil>=2.7.3 in /usr/local/lib/python3.7/dist-packages (from pandas>=0.24.0->catboost) (2.8.2)\n",
            "Requirement already satisfied: pytz>=2017.3 in /usr/local/lib/python3.7/dist-packages (from pandas>=0.24.0->catboost) (2022.5)\n",
            "Requirement already satisfied: kiwisolver>=1.0.1 in /usr/local/lib/python3.7/dist-packages (from matplotlib->catboost) (1.4.4)\n",
            "Requirement already satisfied: pyparsing!=2.0.4,!=2.1.2,!=2.1.6,>=2.0.1 in /usr/local/lib/python3.7/dist-packages (from matplotlib->catboost) (3.0.9)\n",
            "Requirement already satisfied: cycler>=0.10 in /usr/local/lib/python3.7/dist-packages (from matplotlib->catboost) (0.11.0)\n",
            "Requirement already satisfied: typing-extensions in /usr/local/lib/python3.7/dist-packages (from kiwisolver>=1.0.1->matplotlib->catboost) (4.1.1)\n",
            "Requirement already satisfied: tenacity>=6.2.0 in /usr/local/lib/python3.7/dist-packages (from plotly->catboost) (8.1.0)\n"
          ]
        }
      ]
    },
    {
      "cell_type": "markdown",
      "metadata": {
        "id": "H4gTytV4mzji"
      },
      "source": [
        "## Подготовка данных"
      ]
    },
    {
      "cell_type": "code",
      "execution_count": null,
      "metadata": {
        "id": "6I7hH21xmzji"
      },
      "outputs": [],
      "source": [
        "import pandas as pd\n",
        "import numpy as np\n",
        "\n",
        "from matplotlib import pyplot as plt\n",
        "import seaborn as sns\n",
        "\n",
        "from sklearn.model_selection import train_test_split\n",
        "from sklearn.metrics import mean_squared_error as mse\n",
        "\n",
        "from sklearn.model_selection import RandomizedSearchCV\n",
        "from sklearn.ensemble import RandomForestRegressor\n",
        "from sklearn.preprocessing import StandardScaler\n",
        "from sklearn.preprocessing import OrdinalEncoder\n",
        "\n",
        "from catboost import CatBoostRegressor\n",
        "import lightgbm as lgb\n",
        "\n",
        "import warnings\n",
        "warnings.filterwarnings('ignore')\n",
        "\n",
        "import time\n"
      ]
    },
    {
      "cell_type": "code",
      "execution_count": null,
      "metadata": {
        "id": "kYrXdG2jmzjk"
      },
      "outputs": [],
      "source": [
        "SEED = 12345"
      ]
    },
    {
      "cell_type": "code",
      "execution_count": null,
      "metadata": {
        "id": "vuEYuPnNmzjl"
      },
      "outputs": [],
      "source": [
        "df = pd.read_csv('/content/10_autos.csv')"
      ]
    },
    {
      "cell_type": "code",
      "execution_count": null,
      "metadata": {
        "scrolled": true,
        "id": "PKKa_piGmzjl",
        "outputId": "e915b57b-6cf9-4c5c-f749-23b6c035f9e4",
        "colab": {
          "base_uri": "https://localhost:8080/",
          "height": 1000
        }
      },
      "outputs": [
        {
          "output_type": "execute_result",
          "data": {
            "text/plain": [
              "            DateCrawled  Price  VehicleType  RegistrationYear Gearbox  Power  \\\n",
              "0   2016-03-24 11:52:17    480          NaN              1993  manual      0   \n",
              "1   2016-03-24 10:58:45  18300        coupe              2011  manual    190   \n",
              "2   2016-03-14 12:52:21   9800          suv              2004    auto    163   \n",
              "3   2016-03-17 16:54:04   1500        small              2001  manual     75   \n",
              "4   2016-03-31 17:25:20   3600        small              2008  manual     69   \n",
              "5   2016-04-04 17:36:23    650        sedan              1995  manual    102   \n",
              "6   2016-04-01 20:48:51   2200  convertible              2004  manual    109   \n",
              "7   2016-03-21 18:54:38      0        sedan              1980  manual     50   \n",
              "8   2016-04-04 23:42:13  14500          bus              2014  manual    125   \n",
              "9   2016-03-17 10:53:50    999        small              1998  manual    101   \n",
              "10  2016-03-26 19:54:18   2000        sedan              2004  manual    105   \n",
              "11  2016-04-07 10:06:22   2799        wagon              2005  manual    140   \n",
              "12  2016-03-15 22:49:09    999        wagon              1995  manual    115   \n",
              "13  2016-03-21 21:37:40   2500        wagon              2004  manual    131   \n",
              "14  2016-03-21 12:57:01  17999          suv              2011  manual    190   \n",
              "15  2016-03-11 21:39:15    450        small              1910     NaN      0   \n",
              "16  2016-04-01 12:46:46    300          NaN              2016     NaN     60   \n",
              "17  2016-03-20 10:25:19   1750        small              2004    auto     75   \n",
              "18  2016-03-23 15:48:05   7550          bus              2007  manual    136   \n",
              "19  2016-04-01 22:55:47   1850          bus              2004  manual    102   \n",
              "20  2016-04-01 19:56:48  10400        coupe              2009  manual    160   \n",
              "21  2016-03-27 11:38:00   3699        sedan              2002    auto    231   \n",
              "22  2016-03-23 14:52:51   2900          NaN              2018  manual     90   \n",
              "23  2016-03-12 19:43:07    450        small              1997  manual     50   \n",
              "24  2016-03-13 20:40:49    500        sedan              1990  manual    118   \n",
              "25  2016-03-18 21:44:09   2500        wagon              2002    auto    193   \n",
              "26  2016-03-10 19:38:18   5555          NaN              2017  manual    125   \n",
              "27  2016-03-07 12:51:23   6900        sedan              2008  manual     99   \n",
              "28  2016-03-09 11:56:38   1990          bus              1981  manual     50   \n",
              "29  2016-03-08 19:55:19    690        small              2003  manual     60   \n",
              "\n",
              "          Model  Kilometer  RegistrationMonth  FuelType          Brand  \\\n",
              "0          golf     150000                  0    petrol     volkswagen   \n",
              "1           NaN     125000                  5  gasoline           audi   \n",
              "2         grand     125000                  8  gasoline           jeep   \n",
              "3          golf     150000                  6    petrol     volkswagen   \n",
              "4         fabia      90000                  7  gasoline          skoda   \n",
              "5           3er     150000                 10    petrol            bmw   \n",
              "6       2_reihe     150000                  8    petrol        peugeot   \n",
              "7         other      40000                  7    petrol     volkswagen   \n",
              "8         c_max      30000                  8    petrol           ford   \n",
              "9          golf     150000                  0       NaN     volkswagen   \n",
              "10      3_reihe     150000                 12    petrol          mazda   \n",
              "11       passat     150000                 12  gasoline     volkswagen   \n",
              "12       passat     150000                 11    petrol     volkswagen   \n",
              "13       passat     150000                  2       NaN     volkswagen   \n",
              "14       navara      70000                  3  gasoline         nissan   \n",
              "15           ka       5000                  0    petrol           ford   \n",
              "16         polo     150000                  0    petrol     volkswagen   \n",
              "17       twingo     150000                  2    petrol        renault   \n",
              "18        c_max     150000                  6  gasoline           ford   \n",
              "19     a_klasse     150000                  1    petrol  mercedes_benz   \n",
              "20     scirocco     100000                  4    petrol     volkswagen   \n",
              "21          5er     150000                  7    petrol            bmw   \n",
              "22       meriva     150000                  5    petrol           opel   \n",
              "23        arosa     150000                  5    petrol           seat   \n",
              "24        other     150000                 10    petrol  mercedes_benz   \n",
              "25          5er     150000                  9  gasoline            bmw   \n",
              "26           c4     125000                  4       NaN        citroen   \n",
              "27        civic      60000                 11    petrol          honda   \n",
              "28  transporter       5000                  1    petrol     volkswagen   \n",
              "29        punto     150000                  3    petrol           fiat   \n",
              "\n",
              "   Repaired          DateCreated  NumberOfPictures  PostalCode  \\\n",
              "0       NaN  2016-03-24 00:00:00                 0       70435   \n",
              "1       yes  2016-03-24 00:00:00                 0       66954   \n",
              "2       NaN  2016-03-14 00:00:00                 0       90480   \n",
              "3        no  2016-03-17 00:00:00                 0       91074   \n",
              "4        no  2016-03-31 00:00:00                 0       60437   \n",
              "5       yes  2016-04-04 00:00:00                 0       33775   \n",
              "6        no  2016-04-01 00:00:00                 0       67112   \n",
              "7        no  2016-03-21 00:00:00                 0       19348   \n",
              "8       NaN  2016-04-04 00:00:00                 0       94505   \n",
              "9       NaN  2016-03-17 00:00:00                 0       27472   \n",
              "10       no  2016-03-26 00:00:00                 0       96224   \n",
              "11      yes  2016-04-07 00:00:00                 0       57290   \n",
              "12      NaN  2016-03-15 00:00:00                 0       37269   \n",
              "13       no  2016-03-21 00:00:00                 0       90762   \n",
              "14       no  2016-03-21 00:00:00                 0        4177   \n",
              "15      NaN  2016-03-11 00:00:00                 0       24148   \n",
              "16      NaN  2016-04-01 00:00:00                 0       38871   \n",
              "17       no  2016-03-20 00:00:00                 0       65599   \n",
              "18       no  2016-03-23 00:00:00                 0       88361   \n",
              "19       no  2016-04-01 00:00:00                 0       49565   \n",
              "20       no  2016-04-01 00:00:00                 0       75365   \n",
              "21       no  2016-03-27 00:00:00                 0       68309   \n",
              "22       no  2016-03-23 00:00:00                 0       49716   \n",
              "23       no  2016-03-12 00:00:00                 0        9526   \n",
              "24      yes  2016-03-13 00:00:00                 0       35390   \n",
              "25      yes  2016-03-18 00:00:00                 0       73765   \n",
              "26       no  2016-03-10 00:00:00                 0       31139   \n",
              "27       no  2016-03-07 00:00:00                 0       12621   \n",
              "28       no  2016-03-09 00:00:00                 0       87471   \n",
              "29       no  2016-03-08 00:00:00                 0       86199   \n",
              "\n",
              "               LastSeen  \n",
              "0   2016-04-07 03:16:57  \n",
              "1   2016-04-07 01:46:50  \n",
              "2   2016-04-05 12:47:46  \n",
              "3   2016-03-17 17:40:17  \n",
              "4   2016-04-06 10:17:21  \n",
              "5   2016-04-06 19:17:07  \n",
              "6   2016-04-05 18:18:39  \n",
              "7   2016-03-25 16:47:58  \n",
              "8   2016-04-04 23:42:13  \n",
              "9   2016-03-31 17:17:06  \n",
              "10  2016-04-06 10:45:34  \n",
              "11  2016-04-07 10:25:17  \n",
              "12  2016-04-01 13:16:16  \n",
              "13  2016-03-23 02:50:54  \n",
              "14  2016-04-06 07:45:42  \n",
              "15  2016-03-19 08:46:47  \n",
              "16  2016-04-01 12:46:46  \n",
              "17  2016-04-06 13:16:07  \n",
              "18  2016-04-05 18:45:11  \n",
              "19  2016-04-05 22:46:05  \n",
              "20  2016-04-05 16:45:49  \n",
              "21  2016-04-07 06:44:26  \n",
              "22  2016-03-31 01:16:33  \n",
              "23  2016-03-21 01:46:11  \n",
              "24  2016-03-13 20:40:49  \n",
              "25  2016-03-18 21:44:09  \n",
              "26  2016-03-16 09:16:46  \n",
              "27  2016-03-26 09:44:53  \n",
              "28  2016-03-10 07:44:33  \n",
              "29  2016-03-09 11:45:28  "
            ],
            "text/html": [
              "\n",
              "  <div id=\"df-2c2db7bb-76f6-463b-858f-8e17164254e6\">\n",
              "    <div class=\"colab-df-container\">\n",
              "      <div>\n",
              "<style scoped>\n",
              "    .dataframe tbody tr th:only-of-type {\n",
              "        vertical-align: middle;\n",
              "    }\n",
              "\n",
              "    .dataframe tbody tr th {\n",
              "        vertical-align: top;\n",
              "    }\n",
              "\n",
              "    .dataframe thead th {\n",
              "        text-align: right;\n",
              "    }\n",
              "</style>\n",
              "<table border=\"1\" class=\"dataframe\">\n",
              "  <thead>\n",
              "    <tr style=\"text-align: right;\">\n",
              "      <th></th>\n",
              "      <th>DateCrawled</th>\n",
              "      <th>Price</th>\n",
              "      <th>VehicleType</th>\n",
              "      <th>RegistrationYear</th>\n",
              "      <th>Gearbox</th>\n",
              "      <th>Power</th>\n",
              "      <th>Model</th>\n",
              "      <th>Kilometer</th>\n",
              "      <th>RegistrationMonth</th>\n",
              "      <th>FuelType</th>\n",
              "      <th>Brand</th>\n",
              "      <th>Repaired</th>\n",
              "      <th>DateCreated</th>\n",
              "      <th>NumberOfPictures</th>\n",
              "      <th>PostalCode</th>\n",
              "      <th>LastSeen</th>\n",
              "    </tr>\n",
              "  </thead>\n",
              "  <tbody>\n",
              "    <tr>\n",
              "      <th>0</th>\n",
              "      <td>2016-03-24 11:52:17</td>\n",
              "      <td>480</td>\n",
              "      <td>NaN</td>\n",
              "      <td>1993</td>\n",
              "      <td>manual</td>\n",
              "      <td>0</td>\n",
              "      <td>golf</td>\n",
              "      <td>150000</td>\n",
              "      <td>0</td>\n",
              "      <td>petrol</td>\n",
              "      <td>volkswagen</td>\n",
              "      <td>NaN</td>\n",
              "      <td>2016-03-24 00:00:00</td>\n",
              "      <td>0</td>\n",
              "      <td>70435</td>\n",
              "      <td>2016-04-07 03:16:57</td>\n",
              "    </tr>\n",
              "    <tr>\n",
              "      <th>1</th>\n",
              "      <td>2016-03-24 10:58:45</td>\n",
              "      <td>18300</td>\n",
              "      <td>coupe</td>\n",
              "      <td>2011</td>\n",
              "      <td>manual</td>\n",
              "      <td>190</td>\n",
              "      <td>NaN</td>\n",
              "      <td>125000</td>\n",
              "      <td>5</td>\n",
              "      <td>gasoline</td>\n",
              "      <td>audi</td>\n",
              "      <td>yes</td>\n",
              "      <td>2016-03-24 00:00:00</td>\n",
              "      <td>0</td>\n",
              "      <td>66954</td>\n",
              "      <td>2016-04-07 01:46:50</td>\n",
              "    </tr>\n",
              "    <tr>\n",
              "      <th>2</th>\n",
              "      <td>2016-03-14 12:52:21</td>\n",
              "      <td>9800</td>\n",
              "      <td>suv</td>\n",
              "      <td>2004</td>\n",
              "      <td>auto</td>\n",
              "      <td>163</td>\n",
              "      <td>grand</td>\n",
              "      <td>125000</td>\n",
              "      <td>8</td>\n",
              "      <td>gasoline</td>\n",
              "      <td>jeep</td>\n",
              "      <td>NaN</td>\n",
              "      <td>2016-03-14 00:00:00</td>\n",
              "      <td>0</td>\n",
              "      <td>90480</td>\n",
              "      <td>2016-04-05 12:47:46</td>\n",
              "    </tr>\n",
              "    <tr>\n",
              "      <th>3</th>\n",
              "      <td>2016-03-17 16:54:04</td>\n",
              "      <td>1500</td>\n",
              "      <td>small</td>\n",
              "      <td>2001</td>\n",
              "      <td>manual</td>\n",
              "      <td>75</td>\n",
              "      <td>golf</td>\n",
              "      <td>150000</td>\n",
              "      <td>6</td>\n",
              "      <td>petrol</td>\n",
              "      <td>volkswagen</td>\n",
              "      <td>no</td>\n",
              "      <td>2016-03-17 00:00:00</td>\n",
              "      <td>0</td>\n",
              "      <td>91074</td>\n",
              "      <td>2016-03-17 17:40:17</td>\n",
              "    </tr>\n",
              "    <tr>\n",
              "      <th>4</th>\n",
              "      <td>2016-03-31 17:25:20</td>\n",
              "      <td>3600</td>\n",
              "      <td>small</td>\n",
              "      <td>2008</td>\n",
              "      <td>manual</td>\n",
              "      <td>69</td>\n",
              "      <td>fabia</td>\n",
              "      <td>90000</td>\n",
              "      <td>7</td>\n",
              "      <td>gasoline</td>\n",
              "      <td>skoda</td>\n",
              "      <td>no</td>\n",
              "      <td>2016-03-31 00:00:00</td>\n",
              "      <td>0</td>\n",
              "      <td>60437</td>\n",
              "      <td>2016-04-06 10:17:21</td>\n",
              "    </tr>\n",
              "    <tr>\n",
              "      <th>5</th>\n",
              "      <td>2016-04-04 17:36:23</td>\n",
              "      <td>650</td>\n",
              "      <td>sedan</td>\n",
              "      <td>1995</td>\n",
              "      <td>manual</td>\n",
              "      <td>102</td>\n",
              "      <td>3er</td>\n",
              "      <td>150000</td>\n",
              "      <td>10</td>\n",
              "      <td>petrol</td>\n",
              "      <td>bmw</td>\n",
              "      <td>yes</td>\n",
              "      <td>2016-04-04 00:00:00</td>\n",
              "      <td>0</td>\n",
              "      <td>33775</td>\n",
              "      <td>2016-04-06 19:17:07</td>\n",
              "    </tr>\n",
              "    <tr>\n",
              "      <th>6</th>\n",
              "      <td>2016-04-01 20:48:51</td>\n",
              "      <td>2200</td>\n",
              "      <td>convertible</td>\n",
              "      <td>2004</td>\n",
              "      <td>manual</td>\n",
              "      <td>109</td>\n",
              "      <td>2_reihe</td>\n",
              "      <td>150000</td>\n",
              "      <td>8</td>\n",
              "      <td>petrol</td>\n",
              "      <td>peugeot</td>\n",
              "      <td>no</td>\n",
              "      <td>2016-04-01 00:00:00</td>\n",
              "      <td>0</td>\n",
              "      <td>67112</td>\n",
              "      <td>2016-04-05 18:18:39</td>\n",
              "    </tr>\n",
              "    <tr>\n",
              "      <th>7</th>\n",
              "      <td>2016-03-21 18:54:38</td>\n",
              "      <td>0</td>\n",
              "      <td>sedan</td>\n",
              "      <td>1980</td>\n",
              "      <td>manual</td>\n",
              "      <td>50</td>\n",
              "      <td>other</td>\n",
              "      <td>40000</td>\n",
              "      <td>7</td>\n",
              "      <td>petrol</td>\n",
              "      <td>volkswagen</td>\n",
              "      <td>no</td>\n",
              "      <td>2016-03-21 00:00:00</td>\n",
              "      <td>0</td>\n",
              "      <td>19348</td>\n",
              "      <td>2016-03-25 16:47:58</td>\n",
              "    </tr>\n",
              "    <tr>\n",
              "      <th>8</th>\n",
              "      <td>2016-04-04 23:42:13</td>\n",
              "      <td>14500</td>\n",
              "      <td>bus</td>\n",
              "      <td>2014</td>\n",
              "      <td>manual</td>\n",
              "      <td>125</td>\n",
              "      <td>c_max</td>\n",
              "      <td>30000</td>\n",
              "      <td>8</td>\n",
              "      <td>petrol</td>\n",
              "      <td>ford</td>\n",
              "      <td>NaN</td>\n",
              "      <td>2016-04-04 00:00:00</td>\n",
              "      <td>0</td>\n",
              "      <td>94505</td>\n",
              "      <td>2016-04-04 23:42:13</td>\n",
              "    </tr>\n",
              "    <tr>\n",
              "      <th>9</th>\n",
              "      <td>2016-03-17 10:53:50</td>\n",
              "      <td>999</td>\n",
              "      <td>small</td>\n",
              "      <td>1998</td>\n",
              "      <td>manual</td>\n",
              "      <td>101</td>\n",
              "      <td>golf</td>\n",
              "      <td>150000</td>\n",
              "      <td>0</td>\n",
              "      <td>NaN</td>\n",
              "      <td>volkswagen</td>\n",
              "      <td>NaN</td>\n",
              "      <td>2016-03-17 00:00:00</td>\n",
              "      <td>0</td>\n",
              "      <td>27472</td>\n",
              "      <td>2016-03-31 17:17:06</td>\n",
              "    </tr>\n",
              "    <tr>\n",
              "      <th>10</th>\n",
              "      <td>2016-03-26 19:54:18</td>\n",
              "      <td>2000</td>\n",
              "      <td>sedan</td>\n",
              "      <td>2004</td>\n",
              "      <td>manual</td>\n",
              "      <td>105</td>\n",
              "      <td>3_reihe</td>\n",
              "      <td>150000</td>\n",
              "      <td>12</td>\n",
              "      <td>petrol</td>\n",
              "      <td>mazda</td>\n",
              "      <td>no</td>\n",
              "      <td>2016-03-26 00:00:00</td>\n",
              "      <td>0</td>\n",
              "      <td>96224</td>\n",
              "      <td>2016-04-06 10:45:34</td>\n",
              "    </tr>\n",
              "    <tr>\n",
              "      <th>11</th>\n",
              "      <td>2016-04-07 10:06:22</td>\n",
              "      <td>2799</td>\n",
              "      <td>wagon</td>\n",
              "      <td>2005</td>\n",
              "      <td>manual</td>\n",
              "      <td>140</td>\n",
              "      <td>passat</td>\n",
              "      <td>150000</td>\n",
              "      <td>12</td>\n",
              "      <td>gasoline</td>\n",
              "      <td>volkswagen</td>\n",
              "      <td>yes</td>\n",
              "      <td>2016-04-07 00:00:00</td>\n",
              "      <td>0</td>\n",
              "      <td>57290</td>\n",
              "      <td>2016-04-07 10:25:17</td>\n",
              "    </tr>\n",
              "    <tr>\n",
              "      <th>12</th>\n",
              "      <td>2016-03-15 22:49:09</td>\n",
              "      <td>999</td>\n",
              "      <td>wagon</td>\n",
              "      <td>1995</td>\n",
              "      <td>manual</td>\n",
              "      <td>115</td>\n",
              "      <td>passat</td>\n",
              "      <td>150000</td>\n",
              "      <td>11</td>\n",
              "      <td>petrol</td>\n",
              "      <td>volkswagen</td>\n",
              "      <td>NaN</td>\n",
              "      <td>2016-03-15 00:00:00</td>\n",
              "      <td>0</td>\n",
              "      <td>37269</td>\n",
              "      <td>2016-04-01 13:16:16</td>\n",
              "    </tr>\n",
              "    <tr>\n",
              "      <th>13</th>\n",
              "      <td>2016-03-21 21:37:40</td>\n",
              "      <td>2500</td>\n",
              "      <td>wagon</td>\n",
              "      <td>2004</td>\n",
              "      <td>manual</td>\n",
              "      <td>131</td>\n",
              "      <td>passat</td>\n",
              "      <td>150000</td>\n",
              "      <td>2</td>\n",
              "      <td>NaN</td>\n",
              "      <td>volkswagen</td>\n",
              "      <td>no</td>\n",
              "      <td>2016-03-21 00:00:00</td>\n",
              "      <td>0</td>\n",
              "      <td>90762</td>\n",
              "      <td>2016-03-23 02:50:54</td>\n",
              "    </tr>\n",
              "    <tr>\n",
              "      <th>14</th>\n",
              "      <td>2016-03-21 12:57:01</td>\n",
              "      <td>17999</td>\n",
              "      <td>suv</td>\n",
              "      <td>2011</td>\n",
              "      <td>manual</td>\n",
              "      <td>190</td>\n",
              "      <td>navara</td>\n",
              "      <td>70000</td>\n",
              "      <td>3</td>\n",
              "      <td>gasoline</td>\n",
              "      <td>nissan</td>\n",
              "      <td>no</td>\n",
              "      <td>2016-03-21 00:00:00</td>\n",
              "      <td>0</td>\n",
              "      <td>4177</td>\n",
              "      <td>2016-04-06 07:45:42</td>\n",
              "    </tr>\n",
              "    <tr>\n",
              "      <th>15</th>\n",
              "      <td>2016-03-11 21:39:15</td>\n",
              "      <td>450</td>\n",
              "      <td>small</td>\n",
              "      <td>1910</td>\n",
              "      <td>NaN</td>\n",
              "      <td>0</td>\n",
              "      <td>ka</td>\n",
              "      <td>5000</td>\n",
              "      <td>0</td>\n",
              "      <td>petrol</td>\n",
              "      <td>ford</td>\n",
              "      <td>NaN</td>\n",
              "      <td>2016-03-11 00:00:00</td>\n",
              "      <td>0</td>\n",
              "      <td>24148</td>\n",
              "      <td>2016-03-19 08:46:47</td>\n",
              "    </tr>\n",
              "    <tr>\n",
              "      <th>16</th>\n",
              "      <td>2016-04-01 12:46:46</td>\n",
              "      <td>300</td>\n",
              "      <td>NaN</td>\n",
              "      <td>2016</td>\n",
              "      <td>NaN</td>\n",
              "      <td>60</td>\n",
              "      <td>polo</td>\n",
              "      <td>150000</td>\n",
              "      <td>0</td>\n",
              "      <td>petrol</td>\n",
              "      <td>volkswagen</td>\n",
              "      <td>NaN</td>\n",
              "      <td>2016-04-01 00:00:00</td>\n",
              "      <td>0</td>\n",
              "      <td>38871</td>\n",
              "      <td>2016-04-01 12:46:46</td>\n",
              "    </tr>\n",
              "    <tr>\n",
              "      <th>17</th>\n",
              "      <td>2016-03-20 10:25:19</td>\n",
              "      <td>1750</td>\n",
              "      <td>small</td>\n",
              "      <td>2004</td>\n",
              "      <td>auto</td>\n",
              "      <td>75</td>\n",
              "      <td>twingo</td>\n",
              "      <td>150000</td>\n",
              "      <td>2</td>\n",
              "      <td>petrol</td>\n",
              "      <td>renault</td>\n",
              "      <td>no</td>\n",
              "      <td>2016-03-20 00:00:00</td>\n",
              "      <td>0</td>\n",
              "      <td>65599</td>\n",
              "      <td>2016-04-06 13:16:07</td>\n",
              "    </tr>\n",
              "    <tr>\n",
              "      <th>18</th>\n",
              "      <td>2016-03-23 15:48:05</td>\n",
              "      <td>7550</td>\n",
              "      <td>bus</td>\n",
              "      <td>2007</td>\n",
              "      <td>manual</td>\n",
              "      <td>136</td>\n",
              "      <td>c_max</td>\n",
              "      <td>150000</td>\n",
              "      <td>6</td>\n",
              "      <td>gasoline</td>\n",
              "      <td>ford</td>\n",
              "      <td>no</td>\n",
              "      <td>2016-03-23 00:00:00</td>\n",
              "      <td>0</td>\n",
              "      <td>88361</td>\n",
              "      <td>2016-04-05 18:45:11</td>\n",
              "    </tr>\n",
              "    <tr>\n",
              "      <th>19</th>\n",
              "      <td>2016-04-01 22:55:47</td>\n",
              "      <td>1850</td>\n",
              "      <td>bus</td>\n",
              "      <td>2004</td>\n",
              "      <td>manual</td>\n",
              "      <td>102</td>\n",
              "      <td>a_klasse</td>\n",
              "      <td>150000</td>\n",
              "      <td>1</td>\n",
              "      <td>petrol</td>\n",
              "      <td>mercedes_benz</td>\n",
              "      <td>no</td>\n",
              "      <td>2016-04-01 00:00:00</td>\n",
              "      <td>0</td>\n",
              "      <td>49565</td>\n",
              "      <td>2016-04-05 22:46:05</td>\n",
              "    </tr>\n",
              "    <tr>\n",
              "      <th>20</th>\n",
              "      <td>2016-04-01 19:56:48</td>\n",
              "      <td>10400</td>\n",
              "      <td>coupe</td>\n",
              "      <td>2009</td>\n",
              "      <td>manual</td>\n",
              "      <td>160</td>\n",
              "      <td>scirocco</td>\n",
              "      <td>100000</td>\n",
              "      <td>4</td>\n",
              "      <td>petrol</td>\n",
              "      <td>volkswagen</td>\n",
              "      <td>no</td>\n",
              "      <td>2016-04-01 00:00:00</td>\n",
              "      <td>0</td>\n",
              "      <td>75365</td>\n",
              "      <td>2016-04-05 16:45:49</td>\n",
              "    </tr>\n",
              "    <tr>\n",
              "      <th>21</th>\n",
              "      <td>2016-03-27 11:38:00</td>\n",
              "      <td>3699</td>\n",
              "      <td>sedan</td>\n",
              "      <td>2002</td>\n",
              "      <td>auto</td>\n",
              "      <td>231</td>\n",
              "      <td>5er</td>\n",
              "      <td>150000</td>\n",
              "      <td>7</td>\n",
              "      <td>petrol</td>\n",
              "      <td>bmw</td>\n",
              "      <td>no</td>\n",
              "      <td>2016-03-27 00:00:00</td>\n",
              "      <td>0</td>\n",
              "      <td>68309</td>\n",
              "      <td>2016-04-07 06:44:26</td>\n",
              "    </tr>\n",
              "    <tr>\n",
              "      <th>22</th>\n",
              "      <td>2016-03-23 14:52:51</td>\n",
              "      <td>2900</td>\n",
              "      <td>NaN</td>\n",
              "      <td>2018</td>\n",
              "      <td>manual</td>\n",
              "      <td>90</td>\n",
              "      <td>meriva</td>\n",
              "      <td>150000</td>\n",
              "      <td>5</td>\n",
              "      <td>petrol</td>\n",
              "      <td>opel</td>\n",
              "      <td>no</td>\n",
              "      <td>2016-03-23 00:00:00</td>\n",
              "      <td>0</td>\n",
              "      <td>49716</td>\n",
              "      <td>2016-03-31 01:16:33</td>\n",
              "    </tr>\n",
              "    <tr>\n",
              "      <th>23</th>\n",
              "      <td>2016-03-12 19:43:07</td>\n",
              "      <td>450</td>\n",
              "      <td>small</td>\n",
              "      <td>1997</td>\n",
              "      <td>manual</td>\n",
              "      <td>50</td>\n",
              "      <td>arosa</td>\n",
              "      <td>150000</td>\n",
              "      <td>5</td>\n",
              "      <td>petrol</td>\n",
              "      <td>seat</td>\n",
              "      <td>no</td>\n",
              "      <td>2016-03-12 00:00:00</td>\n",
              "      <td>0</td>\n",
              "      <td>9526</td>\n",
              "      <td>2016-03-21 01:46:11</td>\n",
              "    </tr>\n",
              "    <tr>\n",
              "      <th>24</th>\n",
              "      <td>2016-03-13 20:40:49</td>\n",
              "      <td>500</td>\n",
              "      <td>sedan</td>\n",
              "      <td>1990</td>\n",
              "      <td>manual</td>\n",
              "      <td>118</td>\n",
              "      <td>other</td>\n",
              "      <td>150000</td>\n",
              "      <td>10</td>\n",
              "      <td>petrol</td>\n",
              "      <td>mercedes_benz</td>\n",
              "      <td>yes</td>\n",
              "      <td>2016-03-13 00:00:00</td>\n",
              "      <td>0</td>\n",
              "      <td>35390</td>\n",
              "      <td>2016-03-13 20:40:49</td>\n",
              "    </tr>\n",
              "    <tr>\n",
              "      <th>25</th>\n",
              "      <td>2016-03-18 21:44:09</td>\n",
              "      <td>2500</td>\n",
              "      <td>wagon</td>\n",
              "      <td>2002</td>\n",
              "      <td>auto</td>\n",
              "      <td>193</td>\n",
              "      <td>5er</td>\n",
              "      <td>150000</td>\n",
              "      <td>9</td>\n",
              "      <td>gasoline</td>\n",
              "      <td>bmw</td>\n",
              "      <td>yes</td>\n",
              "      <td>2016-03-18 00:00:00</td>\n",
              "      <td>0</td>\n",
              "      <td>73765</td>\n",
              "      <td>2016-03-18 21:44:09</td>\n",
              "    </tr>\n",
              "    <tr>\n",
              "      <th>26</th>\n",
              "      <td>2016-03-10 19:38:18</td>\n",
              "      <td>5555</td>\n",
              "      <td>NaN</td>\n",
              "      <td>2017</td>\n",
              "      <td>manual</td>\n",
              "      <td>125</td>\n",
              "      <td>c4</td>\n",
              "      <td>125000</td>\n",
              "      <td>4</td>\n",
              "      <td>NaN</td>\n",
              "      <td>citroen</td>\n",
              "      <td>no</td>\n",
              "      <td>2016-03-10 00:00:00</td>\n",
              "      <td>0</td>\n",
              "      <td>31139</td>\n",
              "      <td>2016-03-16 09:16:46</td>\n",
              "    </tr>\n",
              "    <tr>\n",
              "      <th>27</th>\n",
              "      <td>2016-03-07 12:51:23</td>\n",
              "      <td>6900</td>\n",
              "      <td>sedan</td>\n",
              "      <td>2008</td>\n",
              "      <td>manual</td>\n",
              "      <td>99</td>\n",
              "      <td>civic</td>\n",
              "      <td>60000</td>\n",
              "      <td>11</td>\n",
              "      <td>petrol</td>\n",
              "      <td>honda</td>\n",
              "      <td>no</td>\n",
              "      <td>2016-03-07 00:00:00</td>\n",
              "      <td>0</td>\n",
              "      <td>12621</td>\n",
              "      <td>2016-03-26 09:44:53</td>\n",
              "    </tr>\n",
              "    <tr>\n",
              "      <th>28</th>\n",
              "      <td>2016-03-09 11:56:38</td>\n",
              "      <td>1990</td>\n",
              "      <td>bus</td>\n",
              "      <td>1981</td>\n",
              "      <td>manual</td>\n",
              "      <td>50</td>\n",
              "      <td>transporter</td>\n",
              "      <td>5000</td>\n",
              "      <td>1</td>\n",
              "      <td>petrol</td>\n",
              "      <td>volkswagen</td>\n",
              "      <td>no</td>\n",
              "      <td>2016-03-09 00:00:00</td>\n",
              "      <td>0</td>\n",
              "      <td>87471</td>\n",
              "      <td>2016-03-10 07:44:33</td>\n",
              "    </tr>\n",
              "    <tr>\n",
              "      <th>29</th>\n",
              "      <td>2016-03-08 19:55:19</td>\n",
              "      <td>690</td>\n",
              "      <td>small</td>\n",
              "      <td>2003</td>\n",
              "      <td>manual</td>\n",
              "      <td>60</td>\n",
              "      <td>punto</td>\n",
              "      <td>150000</td>\n",
              "      <td>3</td>\n",
              "      <td>petrol</td>\n",
              "      <td>fiat</td>\n",
              "      <td>no</td>\n",
              "      <td>2016-03-08 00:00:00</td>\n",
              "      <td>0</td>\n",
              "      <td>86199</td>\n",
              "      <td>2016-03-09 11:45:28</td>\n",
              "    </tr>\n",
              "  </tbody>\n",
              "</table>\n",
              "</div>\n",
              "      <button class=\"colab-df-convert\" onclick=\"convertToInteractive('df-2c2db7bb-76f6-463b-858f-8e17164254e6')\"\n",
              "              title=\"Convert this dataframe to an interactive table.\"\n",
              "              style=\"display:none;\">\n",
              "        \n",
              "  <svg xmlns=\"http://www.w3.org/2000/svg\" height=\"24px\"viewBox=\"0 0 24 24\"\n",
              "       width=\"24px\">\n",
              "    <path d=\"M0 0h24v24H0V0z\" fill=\"none\"/>\n",
              "    <path d=\"M18.56 5.44l.94 2.06.94-2.06 2.06-.94-2.06-.94-.94-2.06-.94 2.06-2.06.94zm-11 1L8.5 8.5l.94-2.06 2.06-.94-2.06-.94L8.5 2.5l-.94 2.06-2.06.94zm10 10l.94 2.06.94-2.06 2.06-.94-2.06-.94-.94-2.06-.94 2.06-2.06.94z\"/><path d=\"M17.41 7.96l-1.37-1.37c-.4-.4-.92-.59-1.43-.59-.52 0-1.04.2-1.43.59L10.3 9.45l-7.72 7.72c-.78.78-.78 2.05 0 2.83L4 21.41c.39.39.9.59 1.41.59.51 0 1.02-.2 1.41-.59l7.78-7.78 2.81-2.81c.8-.78.8-2.07 0-2.86zM5.41 20L4 18.59l7.72-7.72 1.47 1.35L5.41 20z\"/>\n",
              "  </svg>\n",
              "      </button>\n",
              "      \n",
              "  <style>\n",
              "    .colab-df-container {\n",
              "      display:flex;\n",
              "      flex-wrap:wrap;\n",
              "      gap: 12px;\n",
              "    }\n",
              "\n",
              "    .colab-df-convert {\n",
              "      background-color: #E8F0FE;\n",
              "      border: none;\n",
              "      border-radius: 50%;\n",
              "      cursor: pointer;\n",
              "      display: none;\n",
              "      fill: #1967D2;\n",
              "      height: 32px;\n",
              "      padding: 0 0 0 0;\n",
              "      width: 32px;\n",
              "    }\n",
              "\n",
              "    .colab-df-convert:hover {\n",
              "      background-color: #E2EBFA;\n",
              "      box-shadow: 0px 1px 2px rgba(60, 64, 67, 0.3), 0px 1px 3px 1px rgba(60, 64, 67, 0.15);\n",
              "      fill: #174EA6;\n",
              "    }\n",
              "\n",
              "    [theme=dark] .colab-df-convert {\n",
              "      background-color: #3B4455;\n",
              "      fill: #D2E3FC;\n",
              "    }\n",
              "\n",
              "    [theme=dark] .colab-df-convert:hover {\n",
              "      background-color: #434B5C;\n",
              "      box-shadow: 0px 1px 3px 1px rgba(0, 0, 0, 0.15);\n",
              "      filter: drop-shadow(0px 1px 2px rgba(0, 0, 0, 0.3));\n",
              "      fill: #FFFFFF;\n",
              "    }\n",
              "  </style>\n",
              "\n",
              "      <script>\n",
              "        const buttonEl =\n",
              "          document.querySelector('#df-2c2db7bb-76f6-463b-858f-8e17164254e6 button.colab-df-convert');\n",
              "        buttonEl.style.display =\n",
              "          google.colab.kernel.accessAllowed ? 'block' : 'none';\n",
              "\n",
              "        async function convertToInteractive(key) {\n",
              "          const element = document.querySelector('#df-2c2db7bb-76f6-463b-858f-8e17164254e6');\n",
              "          const dataTable =\n",
              "            await google.colab.kernel.invokeFunction('convertToInteractive',\n",
              "                                                     [key], {});\n",
              "          if (!dataTable) return;\n",
              "\n",
              "          const docLinkHtml = 'Like what you see? Visit the ' +\n",
              "            '<a target=\"_blank\" href=https://colab.research.google.com/notebooks/data_table.ipynb>data table notebook</a>'\n",
              "            + ' to learn more about interactive tables.';\n",
              "          element.innerHTML = '';\n",
              "          dataTable['output_type'] = 'display_data';\n",
              "          await google.colab.output.renderOutput(dataTable, element);\n",
              "          const docLink = document.createElement('div');\n",
              "          docLink.innerHTML = docLinkHtml;\n",
              "          element.appendChild(docLink);\n",
              "        }\n",
              "      </script>\n",
              "    </div>\n",
              "  </div>\n",
              "  "
            ]
          },
          "metadata": {},
          "execution_count": 5
        }
      ],
      "source": [
        "df.head(30)"
      ]
    },
    {
      "cell_type": "code",
      "execution_count": null,
      "metadata": {
        "scrolled": false,
        "id": "1uNQwPw9mzjo",
        "outputId": "d7b54ceb-129e-4db0-8e5e-7b11cabdfeb8",
        "colab": {
          "base_uri": "https://localhost:8080/"
        }
      },
      "outputs": [
        {
          "output_type": "stream",
          "name": "stdout",
          "text": [
            "<class 'pandas.core.frame.DataFrame'>\n",
            "RangeIndex: 354369 entries, 0 to 354368\n",
            "Data columns (total 16 columns):\n",
            " #   Column             Non-Null Count   Dtype \n",
            "---  ------             --------------   ----- \n",
            " 0   DateCrawled        354369 non-null  object\n",
            " 1   Price              354369 non-null  int64 \n",
            " 2   VehicleType        316879 non-null  object\n",
            " 3   RegistrationYear   354369 non-null  int64 \n",
            " 4   Gearbox            334536 non-null  object\n",
            " 5   Power              354369 non-null  int64 \n",
            " 6   Model              334664 non-null  object\n",
            " 7   Kilometer          354369 non-null  int64 \n",
            " 8   RegistrationMonth  354369 non-null  int64 \n",
            " 9   FuelType           321474 non-null  object\n",
            " 10  Brand              354369 non-null  object\n",
            " 11  Repaired           283215 non-null  object\n",
            " 12  DateCreated        354369 non-null  object\n",
            " 13  NumberOfPictures   354369 non-null  int64 \n",
            " 14  PostalCode         354369 non-null  int64 \n",
            " 15  LastSeen           354369 non-null  object\n",
            "dtypes: int64(7), object(9)\n",
            "memory usage: 43.3+ MB\n"
          ]
        }
      ],
      "source": [
        "df.info()"
      ]
    },
    {
      "cell_type": "code",
      "execution_count": null,
      "metadata": {
        "id": "b_gzWdBnmzjo",
        "outputId": "18e129c1-8af2-4f96-aaa0-d971ba023c65",
        "colab": {
          "base_uri": "https://localhost:8080/"
        }
      },
      "outputs": [
        {
          "output_type": "execute_result",
          "data": {
            "text/plain": [
              "4"
            ]
          },
          "metadata": {},
          "execution_count": 7
        }
      ],
      "source": [
        "df.duplicated().sum() #проверка данных на наличие явных дубликатов"
      ]
    },
    {
      "cell_type": "code",
      "execution_count": null,
      "metadata": {
        "id": "tIUqw3DUmzjp"
      },
      "outputs": [],
      "source": [
        "df = df.drop_duplicates().reset_index(drop=True) #удалим явные дубликаты из таблицы"
      ]
    },
    {
      "cell_type": "code",
      "execution_count": null,
      "metadata": {
        "scrolled": false,
        "id": "EzdiTUC5mzjq",
        "outputId": "5814032f-7b95-4949-b102-b2368a7c2238",
        "colab": {
          "base_uri": "https://localhost:8080/",
          "height": 300
        }
      },
      "outputs": [
        {
          "output_type": "execute_result",
          "data": {
            "text/plain": [
              "               Price  RegistrationYear          Power      Kilometer  \\\n",
              "count  354365.000000     354365.000000  354365.000000  354365.000000   \n",
              "mean     4416.679830       2004.234481     110.093816  128211.363989   \n",
              "std      4514.176349         90.228466     189.851330   37905.083858   \n",
              "min         0.000000       1000.000000       0.000000    5000.000000   \n",
              "25%      1050.000000       1999.000000      69.000000  125000.000000   \n",
              "50%      2700.000000       2003.000000     105.000000  150000.000000   \n",
              "75%      6400.000000       2008.000000     143.000000  150000.000000   \n",
              "max     20000.000000       9999.000000   20000.000000  150000.000000   \n",
              "\n",
              "       RegistrationMonth  NumberOfPictures     PostalCode  \n",
              "count      354365.000000          354365.0  354365.000000  \n",
              "mean            5.714650               0.0   50508.503800  \n",
              "std             3.726432               0.0   25783.100078  \n",
              "min             0.000000               0.0    1067.000000  \n",
              "25%             3.000000               0.0   30165.000000  \n",
              "50%             6.000000               0.0   49413.000000  \n",
              "75%             9.000000               0.0   71083.000000  \n",
              "max            12.000000               0.0   99998.000000  "
            ],
            "text/html": [
              "\n",
              "  <div id=\"df-6e746b34-5869-4eef-9cab-2fd678fdfdc8\">\n",
              "    <div class=\"colab-df-container\">\n",
              "      <div>\n",
              "<style scoped>\n",
              "    .dataframe tbody tr th:only-of-type {\n",
              "        vertical-align: middle;\n",
              "    }\n",
              "\n",
              "    .dataframe tbody tr th {\n",
              "        vertical-align: top;\n",
              "    }\n",
              "\n",
              "    .dataframe thead th {\n",
              "        text-align: right;\n",
              "    }\n",
              "</style>\n",
              "<table border=\"1\" class=\"dataframe\">\n",
              "  <thead>\n",
              "    <tr style=\"text-align: right;\">\n",
              "      <th></th>\n",
              "      <th>Price</th>\n",
              "      <th>RegistrationYear</th>\n",
              "      <th>Power</th>\n",
              "      <th>Kilometer</th>\n",
              "      <th>RegistrationMonth</th>\n",
              "      <th>NumberOfPictures</th>\n",
              "      <th>PostalCode</th>\n",
              "    </tr>\n",
              "  </thead>\n",
              "  <tbody>\n",
              "    <tr>\n",
              "      <th>count</th>\n",
              "      <td>354365.000000</td>\n",
              "      <td>354365.000000</td>\n",
              "      <td>354365.000000</td>\n",
              "      <td>354365.000000</td>\n",
              "      <td>354365.000000</td>\n",
              "      <td>354365.0</td>\n",
              "      <td>354365.000000</td>\n",
              "    </tr>\n",
              "    <tr>\n",
              "      <th>mean</th>\n",
              "      <td>4416.679830</td>\n",
              "      <td>2004.234481</td>\n",
              "      <td>110.093816</td>\n",
              "      <td>128211.363989</td>\n",
              "      <td>5.714650</td>\n",
              "      <td>0.0</td>\n",
              "      <td>50508.503800</td>\n",
              "    </tr>\n",
              "    <tr>\n",
              "      <th>std</th>\n",
              "      <td>4514.176349</td>\n",
              "      <td>90.228466</td>\n",
              "      <td>189.851330</td>\n",
              "      <td>37905.083858</td>\n",
              "      <td>3.726432</td>\n",
              "      <td>0.0</td>\n",
              "      <td>25783.100078</td>\n",
              "    </tr>\n",
              "    <tr>\n",
              "      <th>min</th>\n",
              "      <td>0.000000</td>\n",
              "      <td>1000.000000</td>\n",
              "      <td>0.000000</td>\n",
              "      <td>5000.000000</td>\n",
              "      <td>0.000000</td>\n",
              "      <td>0.0</td>\n",
              "      <td>1067.000000</td>\n",
              "    </tr>\n",
              "    <tr>\n",
              "      <th>25%</th>\n",
              "      <td>1050.000000</td>\n",
              "      <td>1999.000000</td>\n",
              "      <td>69.000000</td>\n",
              "      <td>125000.000000</td>\n",
              "      <td>3.000000</td>\n",
              "      <td>0.0</td>\n",
              "      <td>30165.000000</td>\n",
              "    </tr>\n",
              "    <tr>\n",
              "      <th>50%</th>\n",
              "      <td>2700.000000</td>\n",
              "      <td>2003.000000</td>\n",
              "      <td>105.000000</td>\n",
              "      <td>150000.000000</td>\n",
              "      <td>6.000000</td>\n",
              "      <td>0.0</td>\n",
              "      <td>49413.000000</td>\n",
              "    </tr>\n",
              "    <tr>\n",
              "      <th>75%</th>\n",
              "      <td>6400.000000</td>\n",
              "      <td>2008.000000</td>\n",
              "      <td>143.000000</td>\n",
              "      <td>150000.000000</td>\n",
              "      <td>9.000000</td>\n",
              "      <td>0.0</td>\n",
              "      <td>71083.000000</td>\n",
              "    </tr>\n",
              "    <tr>\n",
              "      <th>max</th>\n",
              "      <td>20000.000000</td>\n",
              "      <td>9999.000000</td>\n",
              "      <td>20000.000000</td>\n",
              "      <td>150000.000000</td>\n",
              "      <td>12.000000</td>\n",
              "      <td>0.0</td>\n",
              "      <td>99998.000000</td>\n",
              "    </tr>\n",
              "  </tbody>\n",
              "</table>\n",
              "</div>\n",
              "      <button class=\"colab-df-convert\" onclick=\"convertToInteractive('df-6e746b34-5869-4eef-9cab-2fd678fdfdc8')\"\n",
              "              title=\"Convert this dataframe to an interactive table.\"\n",
              "              style=\"display:none;\">\n",
              "        \n",
              "  <svg xmlns=\"http://www.w3.org/2000/svg\" height=\"24px\"viewBox=\"0 0 24 24\"\n",
              "       width=\"24px\">\n",
              "    <path d=\"M0 0h24v24H0V0z\" fill=\"none\"/>\n",
              "    <path d=\"M18.56 5.44l.94 2.06.94-2.06 2.06-.94-2.06-.94-.94-2.06-.94 2.06-2.06.94zm-11 1L8.5 8.5l.94-2.06 2.06-.94-2.06-.94L8.5 2.5l-.94 2.06-2.06.94zm10 10l.94 2.06.94-2.06 2.06-.94-2.06-.94-.94-2.06-.94 2.06-2.06.94z\"/><path d=\"M17.41 7.96l-1.37-1.37c-.4-.4-.92-.59-1.43-.59-.52 0-1.04.2-1.43.59L10.3 9.45l-7.72 7.72c-.78.78-.78 2.05 0 2.83L4 21.41c.39.39.9.59 1.41.59.51 0 1.02-.2 1.41-.59l7.78-7.78 2.81-2.81c.8-.78.8-2.07 0-2.86zM5.41 20L4 18.59l7.72-7.72 1.47 1.35L5.41 20z\"/>\n",
              "  </svg>\n",
              "      </button>\n",
              "      \n",
              "  <style>\n",
              "    .colab-df-container {\n",
              "      display:flex;\n",
              "      flex-wrap:wrap;\n",
              "      gap: 12px;\n",
              "    }\n",
              "\n",
              "    .colab-df-convert {\n",
              "      background-color: #E8F0FE;\n",
              "      border: none;\n",
              "      border-radius: 50%;\n",
              "      cursor: pointer;\n",
              "      display: none;\n",
              "      fill: #1967D2;\n",
              "      height: 32px;\n",
              "      padding: 0 0 0 0;\n",
              "      width: 32px;\n",
              "    }\n",
              "\n",
              "    .colab-df-convert:hover {\n",
              "      background-color: #E2EBFA;\n",
              "      box-shadow: 0px 1px 2px rgba(60, 64, 67, 0.3), 0px 1px 3px 1px rgba(60, 64, 67, 0.15);\n",
              "      fill: #174EA6;\n",
              "    }\n",
              "\n",
              "    [theme=dark] .colab-df-convert {\n",
              "      background-color: #3B4455;\n",
              "      fill: #D2E3FC;\n",
              "    }\n",
              "\n",
              "    [theme=dark] .colab-df-convert:hover {\n",
              "      background-color: #434B5C;\n",
              "      box-shadow: 0px 1px 3px 1px rgba(0, 0, 0, 0.15);\n",
              "      filter: drop-shadow(0px 1px 2px rgba(0, 0, 0, 0.3));\n",
              "      fill: #FFFFFF;\n",
              "    }\n",
              "  </style>\n",
              "\n",
              "      <script>\n",
              "        const buttonEl =\n",
              "          document.querySelector('#df-6e746b34-5869-4eef-9cab-2fd678fdfdc8 button.colab-df-convert');\n",
              "        buttonEl.style.display =\n",
              "          google.colab.kernel.accessAllowed ? 'block' : 'none';\n",
              "\n",
              "        async function convertToInteractive(key) {\n",
              "          const element = document.querySelector('#df-6e746b34-5869-4eef-9cab-2fd678fdfdc8');\n",
              "          const dataTable =\n",
              "            await google.colab.kernel.invokeFunction('convertToInteractive',\n",
              "                                                     [key], {});\n",
              "          if (!dataTable) return;\n",
              "\n",
              "          const docLinkHtml = 'Like what you see? Visit the ' +\n",
              "            '<a target=\"_blank\" href=https://colab.research.google.com/notebooks/data_table.ipynb>data table notebook</a>'\n",
              "            + ' to learn more about interactive tables.';\n",
              "          element.innerHTML = '';\n",
              "          dataTable['output_type'] = 'display_data';\n",
              "          await google.colab.output.renderOutput(dataTable, element);\n",
              "          const docLink = document.createElement('div');\n",
              "          docLink.innerHTML = docLinkHtml;\n",
              "          element.appendChild(docLink);\n",
              "        }\n",
              "      </script>\n",
              "    </div>\n",
              "  </div>\n",
              "  "
            ]
          },
          "metadata": {},
          "execution_count": 9
        }
      ],
      "source": [
        "df.describe()"
      ]
    },
    {
      "cell_type": "markdown",
      "metadata": {
        "id": "u6wJMAUpmzjq"
      },
      "source": [
        "Количество фотографий для всех позиций равно нулю, удалим эту колонку. Также удалим колонки, которые явно не имеют влияния на ценообразование:\n",
        "\n",
        "* DateCrawled — дата скачивания анкеты из базы\n",
        "* DateCreated — дата создания анкеты\n",
        "* LastSeen — дата последней активности пользователя\n",
        "\n",
        "Создадим отдельный список колонок с категориальными данными"
      ]
    },
    {
      "cell_type": "code",
      "execution_count": null,
      "metadata": {
        "scrolled": false,
        "id": "5Fke-A6bmzjq"
      },
      "outputs": [],
      "source": [
        "columns_to_delete = ['DateCrawled','DateCreated', 'LastSeen', 'NumberOfPictures']\n",
        "df = df.drop(columns = columns_to_delete)\n",
        "cat_features = ['VehicleType','Gearbox', 'Model','FuelType','Brand', 'Repaired']"
      ]
    },
    {
      "cell_type": "markdown",
      "metadata": {
        "id": "zsqVJmo4mzjr"
      },
      "source": [
        "Данные содержат строки с нулевой ценой за проданные автомобили, это похоже на ошибку. Т.к. ошибки в целевых предсказаниях могут повлиять на точность предсказаний, удалим такие данные из датасета."
      ]
    },
    {
      "cell_type": "code",
      "execution_count": null,
      "metadata": {
        "id": "VENJp_SHmzjs"
      },
      "outputs": [],
      "source": [
        "df = df.loc[df['Price']!=0]"
      ]
    },
    {
      "cell_type": "markdown",
      "metadata": {
        "id": "anDaxx7rmzjs"
      },
      "source": [
        "В датафрейме присутствуют аномалии в данных по годам регистрации (RegistrationYear) - видно, что есть явно ошибочные значения, например до 1900 года и после 2016, когда была сделана выгрузка. Также настораживают огромные мощности автомобилей в графе `Power`, обычно максимальная мощность не превышает 300 л.с., здесь же для некоторых записей счет идет на тысячи. Месяц регистрации (RegistrationMonth) равный нулю также наверняка является технической ошибкой. Заменим выбросы по годам регистрации и мощностям автомобилей на медианные значения."
      ]
    },
    {
      "cell_type": "code",
      "execution_count": null,
      "metadata": {
        "scrolled": false,
        "id": "xCg6qJJfmzjs",
        "outputId": "d4c79e9b-3180-4faa-94a6-86f857f34953",
        "colab": {
          "base_uri": "https://localhost:8080/",
          "height": 279
        }
      },
      "outputs": [
        {
          "output_type": "display_data",
          "data": {
            "text/plain": [
              "<Figure size 432x288 with 1 Axes>"
            ],
            "image/png": "[encoded data removed]"
          },
          "metadata": {
            "needs_background": "light"
          }
        }
      ],
      "source": [
        "fig, ax = plt.subplots()\n",
        "sns.boxplot(df['Power'],ax=ax)\n",
        "ax.yaxis.grid(False) \n",
        "ax.xaxis.grid(True)\n",
        "plt.xlim(0,400);"
      ]
    },
    {
      "cell_type": "code",
      "execution_count": null,
      "metadata": {
        "scrolled": false,
        "id": "lxJg0uQ8mzjt",
        "outputId": "3d96bb4c-0189-417c-9949-029f4870a21e",
        "colab": {
          "base_uri": "https://localhost:8080/",
          "height": 279
        }
      },
      "outputs": [
        {
          "output_type": "display_data",
          "data": {
            "text/plain": [
              "<Figure size 432x288 with 1 Axes>"
            ],
            "image/png": "[encoded data removed]"
          },
          "metadata": {
            "needs_background": "light"
          }
        }
      ],
      "source": [
        "fig, ax = plt.subplots()\n",
        "sns.boxplot(df['RegistrationYear'])\n",
        "ax.yaxis.grid(False) # Hide the horizontal gridlines\n",
        "ax.xaxis.grid(True)\n",
        "plt.xlim(1960,2022);"
      ]
    },
    {
      "cell_type": "markdown",
      "metadata": {
        "id": "tSv6-oTGmzjt"
      },
      "source": [
        "По мощностям показатели более 250 лошадиных сил являются выбросами, заменим их на медианное значение ( ~105 л.с.).\n",
        "По годам регистрации выбросы возникают в диапазонах до 1985 и после 2019 годов. Заменим их на медианный 2003 год."
      ]
    },
    {
      "cell_type": "code",
      "execution_count": null,
      "metadata": {
        "id": "YSbH5vwbmzjt",
        "outputId": "6efc52e9-0f6d-4d79-9cdf-8385cf3d1529",
        "colab": {
          "base_uri": "https://localhost:8080/",
          "height": 297
        }
      },
      "outputs": [
        {
          "output_type": "execute_result",
          "data": {
            "text/plain": [
              "(1960.0, 2022.0)"
            ]
          },
          "metadata": {},
          "execution_count": 14
        },
        {
          "output_type": "display_data",
          "data": {
            "text/plain": [
              "<Figure size 432x288 with 1 Axes>"
            ],
            "image/png": "[encoded data removed]"
          },
          "metadata": {
            "needs_background": "light"
          }
        }
      ],
      "source": [
        "df.loc[df['Power']>250]= 105\n",
        "df.loc[(df['RegistrationYear']<1985) | (df['RegistrationYear']>2019)]=2003\n",
        "sns.boxplot(df['RegistrationYear'])\n",
        "plt.xlim(1960,2022)"
      ]
    },
    {
      "cell_type": "code",
      "execution_count": null,
      "metadata": {
        "scrolled": false,
        "id": "1A9qycebmzju",
        "outputId": "c403fd34-4107-424d-8e34-43d16c9c71cd",
        "colab": {
          "base_uri": "https://localhost:8080/"
        }
      },
      "outputs": [
        {
          "output_type": "execute_result",
          "data": {
            "text/plain": [
              "Repaired             18.443915\n",
              "VehicleType           9.529880\n",
              "FuelType              8.175661\n",
              "Gearbox               4.753007\n",
              "Model                 4.645904\n",
              "Price                 0.000000\n",
              "RegistrationYear      0.000000\n",
              "Power                 0.000000\n",
              "Kilometer             0.000000\n",
              "RegistrationMonth     0.000000\n",
              "Brand                 0.000000\n",
              "PostalCode            0.000000\n",
              "dtype: float64"
            ]
          },
          "metadata": {},
          "execution_count": 15
        }
      ],
      "source": [
        "data = df.isna().mean()*100 #проверим в процент пропущенных данных по каждому признаку датасета\n",
        "data.sort_values(ascending=False)"
      ]
    },
    {
      "cell_type": "markdown",
      "metadata": {
        "id": "0qrsSuDjmzjv"
      },
      "source": [
        "Все столбцы с категориальными данными имеют пропуски, заполним их Nan."
      ]
    },
    {
      "cell_type": "code",
      "execution_count": null,
      "metadata": {
        "scrolled": true,
        "id": "_O95W5z0mzjv",
        "outputId": "177c2aee-e293-4e64-a24b-540976bbc8b7",
        "colab": {
          "base_uri": "https://localhost:8080/"
        }
      },
      "outputs": [
        {
          "output_type": "execute_result",
          "data": {
            "text/plain": [
              "Price                0.0\n",
              "VehicleType          0.0\n",
              "RegistrationYear     0.0\n",
              "Gearbox              0.0\n",
              "Power                0.0\n",
              "Model                0.0\n",
              "Kilometer            0.0\n",
              "RegistrationMonth    0.0\n",
              "FuelType             0.0\n",
              "Brand                0.0\n",
              "Repaired             0.0\n",
              "PostalCode           0.0\n",
              "dtype: float64"
            ]
          },
          "metadata": {},
          "execution_count": 16
        }
      ],
      "source": [
        "df[cat_features]= df[cat_features].fillna('Nan')\n",
        "data = df.isna().mean()*100\n",
        "data.sort_values(ascending=False)"
      ]
    },
    {
      "cell_type": "markdown",
      "metadata": {
        "id": "YzuW_ykUmzjw"
      },
      "source": [
        "Разделим признаки и целевой признак на тренировочную, валидационную и тестовую выборки из соотношения 60:20:20"
      ]
    },
    {
      "cell_type": "code",
      "execution_count": null,
      "metadata": {
        "id": "Q6JKY0u0mzjx",
        "outputId": "10197162-5166-46c0-9aa9-069344ca9c29",
        "colab": {
          "base_uri": "https://localhost:8080/"
        }
      },
      "outputs": [
        {
          "output_type": "stream",
          "name": "stdout",
          "text": [
            "Тренировочная выборка: (206155, 11),(206155,)\n",
            "Валидационная выборка: (68719, 11),(68719,)\n",
            "Тестовая выборка: (68719, 11),(68719,)\n"
          ]
        }
      ],
      "source": [
        "X = df.drop(['Price'], axis=1)\n",
        "y = df['Price']\n",
        "X_1, X_test, y_1, y_test = train_test_split(X, y, test_size=0.2, random_state=SEED )\n",
        "X_train, X_valid, y_train, y_valid = train_test_split(X_1, y_1, test_size=0.25, random_state=SEED)\n",
        "print(f'Тренировочная выборка: {X_train.shape},{y_train.shape}')\n",
        "print(f'Валидационная выборка: {X_valid.shape},{y_valid.shape}')\n",
        "print(f'Тестовая выборка: {X_test.shape},{y_test.shape}')\n"
      ]
    },
    {
      "cell_type": "markdown",
      "metadata": {
        "id": "hyVZZ6dimzjx"
      },
      "source": [
        "## Обучение моделей"
      ]
    },
    {
      "cell_type": "markdown",
      "metadata": {
        "id": "kDRRCGBKmzjx"
      },
      "source": [
        "Создадим функцию, которая будет подсчитывать время обучения модели, время на предсказание и RMSE. "
      ]
    },
    {
      "cell_type": "code",
      "execution_count": null,
      "metadata": {
        "id": "p_t7Vgvmmzjy"
      },
      "outputs": [],
      "source": [
        "def model_estimation(model,X_train,y_train,X_valid,y_valid):\n",
        "    start = time.time()\n",
        "    model.fit(X_train,y_train)\n",
        "    train_time = time.time()-start\n",
        "    \n",
        "    start = time.time()\n",
        "    y_pred = model.predict(X_valid)\n",
        "    predict_time = time.time()-start\n",
        "    \n",
        "    return train_time,predict_time,mse(y_valid,y_pred)**0.5"
      ]
    },
    {
      "cell_type": "markdown",
      "metadata": {
        "id": "r4_zxf0wmzjy"
      },
      "source": [
        "Первой рассмотрим модель CatBoostRegressor и подберем для неё наилучшие гиперпараметры."
      ]
    },
    {
      "cell_type": "code",
      "execution_count": null,
      "metadata": {
        "id": "bgR4GcKimzjz"
      },
      "outputs": [],
      "source": [
        "parameters ={\"iterations\": range(40,100,10),\n",
        "          \"depth\": range(4,10,2),\n",
        "          'learning_rate': np.arange(0.01, 0.3,0.01)}\n",
        "\n",
        "cbr = CatBoostRegressor(random_state=SEED, \n",
        "                        loss_function='RMSE',\n",
        "                        cat_features=cat_features)\n",
        "\n",
        "grid_cbr = RandomizedSearchCV(cbr, parameters, cv=5, \n",
        "                              n_jobs=-1,\n",
        "                              scoring='neg_mean_squared_error', \n",
        "                              verbose = False)"
      ]
    },
    {
      "cell_type": "code",
      "execution_count": null,
      "metadata": {
        "id": "6LeX78qUmzjz",
        "outputId": "1cb9b168-0c05-4338-9a37-1a4c26cbeee1",
        "colab": {
          "referenced_widgets": [
            "dd84bf478e474e029d179db8de9a6418"
          ],
          "base_uri": "https://localhost:8080/",
          "height": 1000
        }
      },
      "outputs": [
        {
          "output_type": "display_data",
          "data": {
            "text/plain": [
              "MetricVisualizer(layout=Layout(align_self='stretch', height='500px'))"
            ],
            "application/vnd.jupyter.widget-view+json": {
              "version_major": 2,
              "version_minor": 0,
              "model_id": "dd84bf478e474e029d179db8de9a6418"
            }
          },
          "metadata": {}
        },
        {
          "output_type": "stream",
          "name": "stdout",
          "text": [
            "0:\tlearn: 3630.9459942\ttotal: 189ms\tremaining: 13s\n",
            "1:\tlearn: 3125.0696212\ttotal: 307ms\tremaining: 10.4s\n",
            "2:\tlearn: 2759.6417120\ttotal: 423ms\tremaining: 9.45s\n",
            "3:\tlearn: 2502.5288649\ttotal: 540ms\tremaining: 8.9s\n",
            "4:\tlearn: 2316.9654275\ttotal: 668ms\tremaining: 8.69s\n",
            "5:\tlearn: 2164.4811044\ttotal: 786ms\tremaining: 8.38s\n",
            "6:\tlearn: 2064.8312768\ttotal: 908ms\tremaining: 8.17s\n",
            "7:\tlearn: 1981.7037722\ttotal: 1.01s\tremaining: 7.87s\n",
            "8:\tlearn: 1919.7570781\ttotal: 1.13s\tremaining: 7.66s\n",
            "9:\tlearn: 1869.8946461\ttotal: 1.24s\tremaining: 7.46s\n",
            "10:\tlearn: 1835.7506294\ttotal: 1.36s\tremaining: 7.29s\n",
            "11:\tlearn: 1810.9693892\ttotal: 1.47s\tremaining: 7.09s\n",
            "12:\tlearn: 1791.5191025\ttotal: 1.58s\tremaining: 6.95s\n",
            "13:\tlearn: 1777.4166910\ttotal: 1.69s\tremaining: 6.78s\n",
            "14:\tlearn: 1764.9583053\ttotal: 1.82s\tremaining: 6.67s\n",
            "15:\tlearn: 1748.0059790\ttotal: 1.93s\tremaining: 6.5s\n",
            "16:\tlearn: 1737.0950968\ttotal: 2.04s\tremaining: 6.35s\n",
            "17:\tlearn: 1730.3521826\ttotal: 2.15s\tremaining: 6.21s\n",
            "18:\tlearn: 1722.8823664\ttotal: 2.26s\tremaining: 6.07s\n",
            "19:\tlearn: 1716.5177195\ttotal: 2.37s\tremaining: 5.92s\n",
            "20:\tlearn: 1708.4243038\ttotal: 2.49s\tremaining: 5.8s\n",
            "21:\tlearn: 1701.2185344\ttotal: 2.6s\tremaining: 5.67s\n",
            "22:\tlearn: 1695.4417076\ttotal: 2.71s\tremaining: 5.55s\n",
            "23:\tlearn: 1688.9745901\ttotal: 2.83s\tremaining: 5.42s\n",
            "24:\tlearn: 1683.5525798\ttotal: 2.94s\tremaining: 5.29s\n",
            "25:\tlearn: 1677.5555013\ttotal: 3.04s\tremaining: 5.15s\n",
            "26:\tlearn: 1671.9895527\ttotal: 3.16s\tremaining: 5.04s\n",
            "27:\tlearn: 1668.4587251\ttotal: 3.27s\tremaining: 4.91s\n",
            "28:\tlearn: 1662.2401606\ttotal: 3.38s\tremaining: 4.78s\n",
            "29:\tlearn: 1656.9237667\ttotal: 3.49s\tremaining: 4.66s\n",
            "30:\tlearn: 1652.3570228\ttotal: 3.62s\tremaining: 4.55s\n",
            "31:\tlearn: 1647.2480012\ttotal: 3.72s\tremaining: 4.42s\n",
            "32:\tlearn: 1643.0192522\ttotal: 3.84s\tremaining: 4.31s\n",
            "33:\tlearn: 1637.7495313\ttotal: 3.95s\tremaining: 4.19s\n",
            "34:\tlearn: 1634.9919773\ttotal: 4.08s\tremaining: 4.08s\n",
            "35:\tlearn: 1630.4832248\ttotal: 4.19s\tremaining: 3.95s\n",
            "36:\tlearn: 1626.2588117\ttotal: 4.3s\tremaining: 3.83s\n",
            "37:\tlearn: 1622.4855308\ttotal: 4.41s\tremaining: 3.71s\n",
            "38:\tlearn: 1619.4673608\ttotal: 4.52s\tremaining: 3.59s\n",
            "39:\tlearn: 1616.7609574\ttotal: 4.63s\tremaining: 3.47s\n",
            "40:\tlearn: 1614.0891166\ttotal: 4.74s\tremaining: 3.35s\n",
            "41:\tlearn: 1610.7992585\ttotal: 4.86s\tremaining: 3.24s\n",
            "42:\tlearn: 1607.4532387\ttotal: 4.97s\tremaining: 3.12s\n",
            "43:\tlearn: 1606.2570393\ttotal: 5.08s\tremaining: 3s\n",
            "44:\tlearn: 1602.5883656\ttotal: 5.2s\tremaining: 2.89s\n",
            "45:\tlearn: 1600.4381013\ttotal: 5.31s\tremaining: 2.77s\n",
            "46:\tlearn: 1597.5334954\ttotal: 5.42s\tremaining: 2.65s\n",
            "47:\tlearn: 1596.0015968\ttotal: 5.52s\tremaining: 2.53s\n",
            "48:\tlearn: 1591.9043753\ttotal: 5.66s\tremaining: 2.42s\n",
            "49:\tlearn: 1589.6053836\ttotal: 5.76s\tremaining: 2.3s\n",
            "50:\tlearn: 1586.1168867\ttotal: 5.88s\tremaining: 2.19s\n",
            "51:\tlearn: 1583.5719667\ttotal: 5.98s\tremaining: 2.07s\n",
            "52:\tlearn: 1580.5647579\ttotal: 6.1s\tremaining: 1.96s\n",
            "53:\tlearn: 1578.2501735\ttotal: 6.21s\tremaining: 1.84s\n",
            "54:\tlearn: 1575.6956936\ttotal: 6.32s\tremaining: 1.72s\n",
            "55:\tlearn: 1573.3774093\ttotal: 6.43s\tremaining: 1.61s\n",
            "56:\tlearn: 1571.8323212\ttotal: 6.54s\tremaining: 1.49s\n",
            "57:\tlearn: 1569.9268490\ttotal: 6.66s\tremaining: 1.38s\n",
            "58:\tlearn: 1568.1362410\ttotal: 6.77s\tremaining: 1.26s\n",
            "59:\tlearn: 1566.0825767\ttotal: 6.89s\tremaining: 1.15s\n",
            "60:\tlearn: 1563.5669772\ttotal: 7s\tremaining: 1.03s\n",
            "61:\tlearn: 1561.6554924\ttotal: 7.12s\tremaining: 919ms\n",
            "62:\tlearn: 1559.4513722\ttotal: 7.23s\tremaining: 804ms\n",
            "63:\tlearn: 1557.4406486\ttotal: 7.34s\tremaining: 688ms\n",
            "64:\tlearn: 1555.4803085\ttotal: 7.45s\tremaining: 573ms\n",
            "65:\tlearn: 1553.9987592\ttotal: 7.56s\tremaining: 458ms\n",
            "66:\tlearn: 1551.7894146\ttotal: 7.69s\tremaining: 344ms\n",
            "67:\tlearn: 1549.9675146\ttotal: 7.81s\tremaining: 230ms\n",
            "68:\tlearn: 1548.1319368\ttotal: 7.92s\tremaining: 115ms\n",
            "69:\tlearn: 1546.2506127\ttotal: 8.03s\tremaining: 0us\n",
            "CPU times: user 23 s, sys: 966 ms, total: 24 s\n",
            "Wall time: 5min 1s\n"
          ]
        },
        {
          "output_type": "execute_result",
          "data": {
            "text/plain": [
              "RandomizedSearchCV(cv=5,\n",
              "                   estimator=<catboost.core.CatBoostRegressor object at 0x7f9308e57310>,\n",
              "                   n_jobs=-1,\n",
              "                   param_distributions={'depth': range(4, 10, 2),\n",
              "                                        'iterations': range(40, 100, 10),\n",
              "                                        'learning_rate': array([0.01, 0.02, 0.03, 0.04, 0.05, 0.06, 0.07, 0.08, 0.09, 0.1 , 0.11,\n",
              "       0.12, 0.13, 0.14, 0.15, 0.16, 0.17, 0.18, 0.19, 0.2 , 0.21, 0.22,\n",
              "       0.23, 0.24, 0.25, 0.26, 0.27, 0.28, 0.29])},\n",
              "                   scoring='neg_mean_squared_error', verbose=False)"
            ]
          },
          "metadata": {},
          "execution_count": 20
        }
      ],
      "source": [
        "%%time\n",
        "grid_cbr.fit(X_train,y_train,plot=True)"
      ]
    },
    {
      "cell_type": "code",
      "execution_count": null,
      "metadata": {
        "id": "vJLHs0cOmzjz",
        "outputId": "bbac8fef-d202-4f1e-9deb-f366f8a4c176",
        "colab": {
          "base_uri": "https://localhost:8080/"
        }
      },
      "outputs": [
        {
          "output_type": "execute_result",
          "data": {
            "text/plain": [
              "{'learning_rate': 0.24000000000000002, 'iterations': 70, 'depth': 8}"
            ]
          },
          "metadata": {},
          "execution_count": 21
        }
      ],
      "source": [
        "grid_cbr.best_params_#лучшие гиперпараметры для модели"
      ]
    },
    {
      "cell_type": "code",
      "execution_count": null,
      "metadata": {
        "scrolled": true,
        "id": "1lIl2tOvmzj0",
        "outputId": "8352bb61-be84-4219-a72e-e7f7187ad192",
        "colab": {
          "base_uri": "https://localhost:8080/"
        }
      },
      "outputs": [
        {
          "output_type": "stream",
          "name": "stdout",
          "text": [
            "0:\tlearn: 3630.9459942\ttotal: 163ms\tremaining: 11.3s\n",
            "1:\tlearn: 3125.0696212\ttotal: 296ms\tremaining: 10.1s\n",
            "2:\tlearn: 2759.6417120\ttotal: 435ms\tremaining: 9.72s\n",
            "3:\tlearn: 2502.5288649\ttotal: 545ms\tremaining: 8.99s\n",
            "4:\tlearn: 2316.9654275\ttotal: 680ms\tremaining: 8.85s\n",
            "5:\tlearn: 2164.4811044\ttotal: 806ms\tremaining: 8.59s\n",
            "6:\tlearn: 2064.8312768\ttotal: 918ms\tremaining: 8.26s\n",
            "7:\tlearn: 1981.7037722\ttotal: 1.06s\tremaining: 8.22s\n",
            "8:\tlearn: 1919.7570781\ttotal: 1.19s\tremaining: 8.03s\n",
            "9:\tlearn: 1869.8946461\ttotal: 1.29s\tremaining: 7.76s\n",
            "10:\tlearn: 1835.7506294\ttotal: 1.41s\tremaining: 7.57s\n",
            "11:\tlearn: 1810.9693892\ttotal: 1.52s\tremaining: 7.34s\n",
            "12:\tlearn: 1791.5191025\ttotal: 1.63s\tremaining: 7.16s\n",
            "13:\tlearn: 1777.4166910\ttotal: 1.74s\tremaining: 6.96s\n",
            "14:\tlearn: 1764.9583053\ttotal: 1.85s\tremaining: 6.78s\n",
            "15:\tlearn: 1748.0059790\ttotal: 1.96s\tremaining: 6.61s\n",
            "16:\tlearn: 1737.0950968\ttotal: 2.07s\tremaining: 6.47s\n",
            "17:\tlearn: 1730.3521826\ttotal: 2.2s\tremaining: 6.36s\n",
            "18:\tlearn: 1722.8823664\ttotal: 2.31s\tremaining: 6.21s\n",
            "19:\tlearn: 1716.5177195\ttotal: 2.42s\tremaining: 6.04s\n",
            "20:\tlearn: 1708.4243038\ttotal: 2.54s\tremaining: 5.93s\n",
            "21:\tlearn: 1701.2185344\ttotal: 2.65s\tremaining: 5.78s\n",
            "22:\tlearn: 1695.4417076\ttotal: 2.75s\tremaining: 5.63s\n",
            "23:\tlearn: 1688.9745901\ttotal: 2.87s\tremaining: 5.5s\n",
            "24:\tlearn: 1683.5525798\ttotal: 2.98s\tremaining: 5.36s\n",
            "25:\tlearn: 1677.5555013\ttotal: 3.09s\tremaining: 5.23s\n",
            "26:\tlearn: 1671.9895527\ttotal: 3.21s\tremaining: 5.12s\n",
            "27:\tlearn: 1668.4587251\ttotal: 3.31s\tremaining: 4.97s\n",
            "28:\tlearn: 1662.2401606\ttotal: 3.42s\tremaining: 4.84s\n",
            "29:\tlearn: 1656.9237667\ttotal: 3.53s\tremaining: 4.7s\n",
            "30:\tlearn: 1652.3570228\ttotal: 3.63s\tremaining: 4.57s\n",
            "31:\tlearn: 1647.2480012\ttotal: 3.74s\tremaining: 4.44s\n",
            "32:\tlearn: 1643.0192522\ttotal: 3.84s\tremaining: 4.31s\n",
            "33:\tlearn: 1637.7495313\ttotal: 3.95s\tremaining: 4.18s\n",
            "34:\tlearn: 1634.9919773\ttotal: 4.06s\tremaining: 4.06s\n",
            "35:\tlearn: 1630.4832248\ttotal: 4.17s\tremaining: 3.94s\n",
            "36:\tlearn: 1626.2588117\ttotal: 4.28s\tremaining: 3.82s\n",
            "37:\tlearn: 1622.4855308\ttotal: 4.38s\tremaining: 3.69s\n",
            "38:\tlearn: 1619.4673608\ttotal: 4.49s\tremaining: 3.57s\n",
            "39:\tlearn: 1616.7609574\ttotal: 4.6s\tremaining: 3.45s\n",
            "40:\tlearn: 1614.0891166\ttotal: 4.71s\tremaining: 3.33s\n",
            "41:\tlearn: 1610.7992585\ttotal: 4.82s\tremaining: 3.21s\n",
            "42:\tlearn: 1607.4532387\ttotal: 4.93s\tremaining: 3.1s\n",
            "43:\tlearn: 1606.2570393\ttotal: 5.04s\tremaining: 2.98s\n",
            "44:\tlearn: 1602.5883656\ttotal: 5.15s\tremaining: 2.86s\n",
            "45:\tlearn: 1600.4381013\ttotal: 5.28s\tremaining: 2.75s\n",
            "46:\tlearn: 1597.5334954\ttotal: 5.39s\tremaining: 2.64s\n",
            "47:\tlearn: 1596.0015968\ttotal: 5.5s\tremaining: 2.52s\n",
            "48:\tlearn: 1591.9043753\ttotal: 5.6s\tremaining: 2.4s\n",
            "49:\tlearn: 1589.6053836\ttotal: 5.71s\tremaining: 2.28s\n",
            "50:\tlearn: 1586.1168867\ttotal: 5.82s\tremaining: 2.17s\n",
            "51:\tlearn: 1583.5719667\ttotal: 5.92s\tremaining: 2.05s\n",
            "52:\tlearn: 1580.5647579\ttotal: 6.03s\tremaining: 1.94s\n",
            "53:\tlearn: 1578.2501735\ttotal: 6.14s\tremaining: 1.82s\n",
            "54:\tlearn: 1575.6956936\ttotal: 6.27s\tremaining: 1.71s\n",
            "55:\tlearn: 1573.3774093\ttotal: 6.37s\tremaining: 1.59s\n",
            "56:\tlearn: 1571.8323212\ttotal: 6.48s\tremaining: 1.48s\n",
            "57:\tlearn: 1569.9268490\ttotal: 6.58s\tremaining: 1.36s\n",
            "58:\tlearn: 1568.1362410\ttotal: 6.69s\tremaining: 1.25s\n",
            "59:\tlearn: 1566.0825767\ttotal: 6.8s\tremaining: 1.13s\n",
            "60:\tlearn: 1563.5669772\ttotal: 6.91s\tremaining: 1.02s\n",
            "61:\tlearn: 1561.6554924\ttotal: 7.02s\tremaining: 906ms\n",
            "62:\tlearn: 1559.4513722\ttotal: 7.13s\tremaining: 793ms\n",
            "63:\tlearn: 1557.4406486\ttotal: 7.26s\tremaining: 681ms\n",
            "64:\tlearn: 1555.4803085\ttotal: 7.37s\tremaining: 567ms\n",
            "65:\tlearn: 1553.9987592\ttotal: 7.48s\tremaining: 453ms\n",
            "66:\tlearn: 1551.7894146\ttotal: 7.59s\tremaining: 340ms\n",
            "67:\tlearn: 1549.9675146\ttotal: 7.71s\tremaining: 227ms\n",
            "68:\tlearn: 1548.1319368\ttotal: 7.82s\tremaining: 113ms\n",
            "69:\tlearn: 1546.2506127\ttotal: 7.92s\tremaining: 0us\n"
          ]
        }
      ],
      "source": [
        "res=[] #время тренировки, предсказания и rmse внесем в отдельный список для дальнейшего сравнения моделей\n",
        "res.append(model_estimation(grid_cbr.best_estimator_, \n",
        "                            X_train, y_train, \n",
        "                            X_valid, y_valid)\n",
        "          )"
      ]
    },
    {
      "cell_type": "markdown",
      "metadata": {
        "id": "HsbhQcSJmzj0"
      },
      "source": [
        "Следующим шагом найдем лучшие предсказания для случайного леса регрессии. Поскольку случайный лес не принимает категориальный данные, преобразуем их в числовые методом прямого кодирования. Масштаб оставшиехя числовых данных стандартизируем. "
      ]
    },
    {
      "cell_type": "code",
      "execution_count": null,
      "metadata": {
        "id": "o635OP51mzj0",
        "outputId": "4f73e419-b0a0-4e26-d1c6-607f270f8327",
        "colab": {
          "base_uri": "https://localhost:8080/"
        }
      },
      "outputs": [
        {
          "output_type": "stream",
          "name": "stdout",
          "text": [
            "(206155, 11)\n",
            "(68719, 11)\n",
            "(68719, 11)\n"
          ]
        }
      ],
      "source": [
        "encoder = OrdinalEncoder()\n",
        "df[cat_features] = encoder.fit_transform(df[cat_features].astype(str))\n",
        "\n",
        "target = df['Price']\n",
        "features = df.drop(['Price'], axis=1)\n",
        "\n",
        "features_1, features_test, target_1, target_test = train_test_split(features, \n",
        "                                                                    target, \n",
        "                                                                    test_size=0.2, \n",
        "                                                                    random_state = SEED)\n",
        "features_train, features_valid, target_train, target_valid = train_test_split(features_1, \n",
        "                                                                              target_1, \n",
        "                                                                              test_size=0.25, \n",
        "                                                                              random_state = SEED)\n",
        "\n",
        "numeric = ['RegistrationYear', 'Power','Kilometer', 'RegistrationMonth', 'PostalCode']\n",
        "\n",
        "scaler = StandardScaler()\n",
        "scaler.fit(features_train[numeric])\n",
        "features_train[numeric] = scaler.transform(features_train[numeric])\n",
        "features_valid[numeric] = scaler.transform(features_valid[numeric])\n",
        "features_test[numeric] = scaler.transform(features_test[numeric])\n",
        "\n",
        "print(features_train.shape) #проверим объем полученных данных по каждой выборке\n",
        "print (features_valid.shape)\n",
        "print (features_test.shape)\n",
        "\n",
        "parametrs = { 'n_estimators': range (10, 51, 10),\n",
        "              'max_depth': range (1,13, 2)\n",
        "             }\n",
        "grid_rfr = RandomizedSearchCV(RandomForestRegressor(random_state=SEED), \n",
        "                              parametrs, \n",
        "                              cv=5, \n",
        "                              n_jobs=-1,\n",
        "                              scoring='neg_mean_squared_error', \n",
        "                              verbose = False) #запускаем обучение и смотрим какие наилучшие параметры получим при помощи инструмента GridSearchCV\n"
      ]
    },
    {
      "cell_type": "code",
      "execution_count": null,
      "metadata": {
        "id": "bekpTwOSmzj2",
        "outputId": "60cbbc04-2141-457d-a9fb-f43e6e9be87d",
        "colab": {
          "base_uri": "https://localhost:8080/"
        }
      },
      "outputs": [
        {
          "output_type": "stream",
          "name": "stdout",
          "text": [
            "CPU times: user 32.5 s, sys: 549 ms, total: 33.1 s\n",
            "Wall time: 5min 54s\n"
          ]
        },
        {
          "output_type": "execute_result",
          "data": {
            "text/plain": [
              "RandomizedSearchCV(cv=5, estimator=RandomForestRegressor(random_state=12345),\n",
              "                   n_jobs=-1,\n",
              "                   param_distributions={'max_depth': range(1, 13, 2),\n",
              "                                        'n_estimators': range(10, 51, 10)},\n",
              "                   scoring='neg_mean_squared_error', verbose=False)"
            ]
          },
          "metadata": {},
          "execution_count": 24
        }
      ],
      "source": [
        "%%time\n",
        "grid_rfr.fit(features_train, target_train)"
      ]
    },
    {
      "cell_type": "code",
      "execution_count": null,
      "metadata": {
        "id": "isqAdxqEmzj3",
        "outputId": "c3daa2bd-7be4-4ccd-a561-08724285ac2f",
        "colab": {
          "base_uri": "https://localhost:8080/"
        }
      },
      "outputs": [
        {
          "output_type": "execute_result",
          "data": {
            "text/plain": [
              "{'n_estimators': 50, 'max_depth': 11}"
            ]
          },
          "metadata": {},
          "execution_count": 25
        }
      ],
      "source": [
        "grid_rfr.best_params_ #лучшие параметры для модели Random ForestRegressor"
      ]
    },
    {
      "cell_type": "code",
      "execution_count": null,
      "metadata": {
        "id": "n5qLs4TRmzj5"
      },
      "outputs": [],
      "source": [
        "res.append(model_estimation(grid_rfr.best_estimator_, \n",
        "                            features_train, \n",
        "                            target_train, \n",
        "                            features_valid, \n",
        "                            target_valid)\n",
        "          )"
      ]
    },
    {
      "cell_type": "markdown",
      "metadata": {
        "id": "36eZ1Tqwmzj6"
      },
      "source": [
        "В качестве последней модели рассмотрим LightGBM. Для неё будем использовать данные с преобразованными ранее категориальными признаками."
      ]
    },
    {
      "cell_type": "code",
      "execution_count": null,
      "metadata": {
        "id": "oSIdPcx0mzj7",
        "outputId": "2af93f57-a5de-45bf-8216-81811d2892dd",
        "colab": {
          "base_uri": "https://localhost:8080/"
        }
      },
      "outputs": [
        {
          "output_type": "stream",
          "name": "stdout",
          "text": [
            "CPU times: user 238 µs, sys: 0 ns, total: 238 µs\n",
            "Wall time: 2.35 ms\n"
          ]
        }
      ],
      "source": [
        "%%time\n",
        "param_grid = {'learning_rate': [0.1, 0.3, 0.5, 0.7],\n",
        "              'max_depth': [15, 20, 30, 35],\n",
        "              'num_iterations': [10,20,50]\n",
        "             }\n",
        "lgbm = lgb.LGBMRegressor(random_state=SEED)\n"
      ]
    },
    {
      "cell_type": "code",
      "execution_count": null,
      "metadata": {
        "id": "JGRm5o3smzj7"
      },
      "outputs": [],
      "source": [
        "grid_lgb = RandomizedSearchCV(lgbm, \n",
        "                              param_grid, \n",
        "                              cv=5, \n",
        "                              n_jobs=-1,\n",
        "                              scoring='neg_mean_squared_error', \n",
        "                              verbose = False)"
      ]
    },
    {
      "cell_type": "code",
      "execution_count": null,
      "metadata": {
        "id": "tk0T-83lmzj8",
        "outputId": "2023c890-875b-4933-950b-04b7da1cdd86",
        "colab": {
          "base_uri": "https://localhost:8080/"
        }
      },
      "outputs": [
        {
          "output_type": "stream",
          "name": "stdout",
          "text": [
            "CPU times: user 2.46 s, sys: 338 ms, total: 2.8 s\n",
            "Wall time: 38.6 s\n"
          ]
        },
        {
          "output_type": "execute_result",
          "data": {
            "text/plain": [
              "RandomizedSearchCV(cv=5, estimator=LGBMRegressor(random_state=12345), n_jobs=-1,\n",
              "                   param_distributions={'learning_rate': [0.1, 0.3, 0.5, 0.7],\n",
              "                                        'max_depth': [15, 20, 30, 35],\n",
              "                                        'num_iterations': [10, 20, 50]},\n",
              "                   scoring='neg_mean_squared_error', verbose=False)"
            ]
          },
          "metadata": {},
          "execution_count": 29
        }
      ],
      "source": [
        "%%time\n",
        "grid_lgb.fit(features_train,target_train)"
      ]
    },
    {
      "cell_type": "code",
      "execution_count": null,
      "metadata": {
        "id": "x-vCsPSsmzj8",
        "outputId": "a09834c0-8fd4-422a-d54b-50ebb6a9262e",
        "colab": {
          "base_uri": "https://localhost:8080/"
        }
      },
      "outputs": [
        {
          "output_type": "execute_result",
          "data": {
            "text/plain": [
              "{'num_iterations': 50, 'max_depth': 15, 'learning_rate': 0.5}"
            ]
          },
          "metadata": {},
          "execution_count": 30
        }
      ],
      "source": [
        "grid_lgb.best_params_ #наилучшие параметры для LightGBM"
      ]
    },
    {
      "cell_type": "code",
      "execution_count": null,
      "metadata": {
        "id": "7Y97qDsimzj9"
      },
      "outputs": [],
      "source": [
        "res.append(model_estimation(grid_lgb.best_estimator_, \n",
        "                            features_train, \n",
        "                            target_train, \n",
        "                            features_valid, \n",
        "                            target_valid))"
      ]
    },
    {
      "cell_type": "markdown",
      "metadata": {
        "id": "vCmmE_N0mzj-"
      },
      "source": [
        "## Анализ моделей"
      ]
    },
    {
      "cell_type": "markdown",
      "metadata": {
        "id": "OGkRwbvjmzj_"
      },
      "source": [
        "Сравним время обучения, время предсказания и rmse для трех рассмотренных моделей."
      ]
    },
    {
      "cell_type": "code",
      "execution_count": null,
      "metadata": {
        "scrolled": true,
        "id": "PL49SDeCmzj_",
        "outputId": "55f1d638-624a-4375-ca35-f842cacacdfe",
        "colab": {
          "base_uri": "https://localhost:8080/",
          "height": 143
        }
      },
      "outputs": [
        {
          "output_type": "execute_result",
          "data": {
            "text/plain": [
              "     train_time  predict_time          mse\n",
              "cbr    8.423667      0.110580  1571.777855\n",
              "rfr   29.185011      0.465266  1738.220226\n",
              "lgb    0.971172      0.133323  1590.095396"
            ],
            "text/html": [
              "\n",
              "  <div id=\"df-f6f7e39c-56e0-4a9e-8086-841c52c32db1\">\n",
              "    <div class=\"colab-df-container\">\n",
              "      <div>\n",
              "<style scoped>\n",
              "    .dataframe tbody tr th:only-of-type {\n",
              "        vertical-align: middle;\n",
              "    }\n",
              "\n",
              "    .dataframe tbody tr th {\n",
              "        vertical-align: top;\n",
              "    }\n",
              "\n",
              "    .dataframe thead th {\n",
              "        text-align: right;\n",
              "    }\n",
              "</style>\n",
              "<table border=\"1\" class=\"dataframe\">\n",
              "  <thead>\n",
              "    <tr style=\"text-align: right;\">\n",
              "      <th></th>\n",
              "      <th>train_time</th>\n",
              "      <th>predict_time</th>\n",
              "      <th>mse</th>\n",
              "    </tr>\n",
              "  </thead>\n",
              "  <tbody>\n",
              "    <tr>\n",
              "      <th>cbr</th>\n",
              "      <td>8.423667</td>\n",
              "      <td>0.110580</td>\n",
              "      <td>1571.777855</td>\n",
              "    </tr>\n",
              "    <tr>\n",
              "      <th>rfr</th>\n",
              "      <td>29.185011</td>\n",
              "      <td>0.465266</td>\n",
              "      <td>1738.220226</td>\n",
              "    </tr>\n",
              "    <tr>\n",
              "      <th>lgb</th>\n",
              "      <td>0.971172</td>\n",
              "      <td>0.133323</td>\n",
              "      <td>1590.095396</td>\n",
              "    </tr>\n",
              "  </tbody>\n",
              "</table>\n",
              "</div>\n",
              "      <button class=\"colab-df-convert\" onclick=\"convertToInteractive('df-f6f7e39c-56e0-4a9e-8086-841c52c32db1')\"\n",
              "              title=\"Convert this dataframe to an interactive table.\"\n",
              "              style=\"display:none;\">\n",
              "        \n",
              "  <svg xmlns=\"http://www.w3.org/2000/svg\" height=\"24px\"viewBox=\"0 0 24 24\"\n",
              "       width=\"24px\">\n",
              "    <path d=\"M0 0h24v24H0V0z\" fill=\"none\"/>\n",
              "    <path d=\"M18.56 5.44l.94 2.06.94-2.06 2.06-.94-2.06-.94-.94-2.06-.94 2.06-2.06.94zm-11 1L8.5 8.5l.94-2.06 2.06-.94-2.06-.94L8.5 2.5l-.94 2.06-2.06.94zm10 10l.94 2.06.94-2.06 2.06-.94-2.06-.94-.94-2.06-.94 2.06-2.06.94z\"/><path d=\"M17.41 7.96l-1.37-1.37c-.4-.4-.92-.59-1.43-.59-.52 0-1.04.2-1.43.59L10.3 9.45l-7.72 7.72c-.78.78-.78 2.05 0 2.83L4 21.41c.39.39.9.59 1.41.59.51 0 1.02-.2 1.41-.59l7.78-7.78 2.81-2.81c.8-.78.8-2.07 0-2.86zM5.41 20L4 18.59l7.72-7.72 1.47 1.35L5.41 20z\"/>\n",
              "  </svg>\n",
              "      </button>\n",
              "      \n",
              "  <style>\n",
              "    .colab-df-container {\n",
              "      display:flex;\n",
              "      flex-wrap:wrap;\n",
              "      gap: 12px;\n",
              "    }\n",
              "\n",
              "    .colab-df-convert {\n",
              "      background-color: #E8F0FE;\n",
              "      border: none;\n",
              "      border-radius: 50%;\n",
              "      cursor: pointer;\n",
              "      display: none;\n",
              "      fill: #1967D2;\n",
              "      height: 32px;\n",
              "      padding: 0 0 0 0;\n",
              "      width: 32px;\n",
              "    }\n",
              "\n",
              "    .colab-df-convert:hover {\n",
              "      background-color: #E2EBFA;\n",
              "      box-shadow: 0px 1px 2px rgba(60, 64, 67, 0.3), 0px 1px 3px 1px rgba(60, 64, 67, 0.15);\n",
              "      fill: #174EA6;\n",
              "    }\n",
              "\n",
              "    [theme=dark] .colab-df-convert {\n",
              "      background-color: #3B4455;\n",
              "      fill: #D2E3FC;\n",
              "    }\n",
              "\n",
              "    [theme=dark] .colab-df-convert:hover {\n",
              "      background-color: #434B5C;\n",
              "      box-shadow: 0px 1px 3px 1px rgba(0, 0, 0, 0.15);\n",
              "      filter: drop-shadow(0px 1px 2px rgba(0, 0, 0, 0.3));\n",
              "      fill: #FFFFFF;\n",
              "    }\n",
              "  </style>\n",
              "\n",
              "      <script>\n",
              "        const buttonEl =\n",
              "          document.querySelector('#df-f6f7e39c-56e0-4a9e-8086-841c52c32db1 button.colab-df-convert');\n",
              "        buttonEl.style.display =\n",
              "          google.colab.kernel.accessAllowed ? 'block' : 'none';\n",
              "\n",
              "        async function convertToInteractive(key) {\n",
              "          const element = document.querySelector('#df-f6f7e39c-56e0-4a9e-8086-841c52c32db1');\n",
              "          const dataTable =\n",
              "            await google.colab.kernel.invokeFunction('convertToInteractive',\n",
              "                                                     [key], {});\n",
              "          if (!dataTable) return;\n",
              "\n",
              "          const docLinkHtml = 'Like what you see? Visit the ' +\n",
              "            '<a target=\"_blank\" href=https://colab.research.google.com/notebooks/data_table.ipynb>data table notebook</a>'\n",
              "            + ' to learn more about interactive tables.';\n",
              "          element.innerHTML = '';\n",
              "          dataTable['output_type'] = 'display_data';\n",
              "          await google.colab.output.renderOutput(dataTable, element);\n",
              "          const docLink = document.createElement('div');\n",
              "          docLink.innerHTML = docLinkHtml;\n",
              "          element.appendChild(docLink);\n",
              "        }\n",
              "      </script>\n",
              "    </div>\n",
              "  </div>\n",
              "  "
            ]
          },
          "metadata": {},
          "execution_count": 32
        }
      ],
      "source": [
        "pd.DataFrame(res,index =['cbr','rfr','lgb'], columns=['train_time','predict_time','mse'])"
      ]
    },
    {
      "cell_type": "markdown",
      "metadata": {
        "id": "syvzR5fXmzj_"
      },
      "source": [
        "Наибольшую точность показала CatBoostRegressor, хотя обучение модели происходит немного дольше, чем у LightGBM.\n",
        "Проверим параметры работы CatBoostRegressor на тестовой выборке."
      ]
    },
    {
      "cell_type": "code",
      "execution_count": null,
      "metadata": {
        "id": "FRzTLnesmzkA",
        "outputId": "e2053358-7a0d-4aa1-a78e-85ead75da0de",
        "colab": {
          "base_uri": "https://localhost:8080/"
        }
      },
      "outputs": [
        {
          "output_type": "stream",
          "name": "stdout",
          "text": [
            "0:\tlearn: 3630.9459942\ttotal: 138ms\tremaining: 9.54s\n",
            "1:\tlearn: 3125.0696212\ttotal: 271ms\tremaining: 9.23s\n",
            "2:\tlearn: 2759.6417120\ttotal: 387ms\tremaining: 8.65s\n",
            "3:\tlearn: 2502.5288649\ttotal: 494ms\tremaining: 8.14s\n",
            "4:\tlearn: 2316.9654275\ttotal: 629ms\tremaining: 8.18s\n",
            "5:\tlearn: 2164.4811044\ttotal: 751ms\tremaining: 8.01s\n",
            "6:\tlearn: 2064.8312768\ttotal: 871ms\tremaining: 7.84s\n",
            "7:\tlearn: 1981.7037722\ttotal: 977ms\tremaining: 7.57s\n",
            "8:\tlearn: 1919.7570781\ttotal: 1.08s\tremaining: 7.33s\n",
            "9:\tlearn: 1869.8946461\ttotal: 1.19s\tremaining: 7.12s\n",
            "10:\tlearn: 1835.7506294\ttotal: 1.3s\tremaining: 6.96s\n",
            "11:\tlearn: 1810.9693892\ttotal: 1.4s\tremaining: 6.78s\n",
            "12:\tlearn: 1791.5191025\ttotal: 1.52s\tremaining: 6.68s\n",
            "13:\tlearn: 1777.4166910\ttotal: 1.63s\tremaining: 6.51s\n",
            "14:\tlearn: 1764.9583053\ttotal: 1.74s\tremaining: 6.36s\n",
            "15:\tlearn: 1748.0059790\ttotal: 1.85s\tremaining: 6.25s\n",
            "16:\tlearn: 1737.0950968\ttotal: 1.98s\tremaining: 6.18s\n",
            "17:\tlearn: 1730.3521826\ttotal: 2.1s\tremaining: 6.06s\n",
            "18:\tlearn: 1722.8823664\ttotal: 2.21s\tremaining: 5.94s\n",
            "19:\tlearn: 1716.5177195\ttotal: 2.32s\tremaining: 5.8s\n",
            "20:\tlearn: 1708.4243038\ttotal: 2.44s\tremaining: 5.68s\n",
            "21:\tlearn: 1701.2185344\ttotal: 2.55s\tremaining: 5.56s\n",
            "22:\tlearn: 1695.4417076\ttotal: 2.66s\tremaining: 5.44s\n",
            "23:\tlearn: 1688.9745901\ttotal: 2.77s\tremaining: 5.31s\n",
            "24:\tlearn: 1683.5525798\ttotal: 2.88s\tremaining: 5.18s\n",
            "25:\tlearn: 1677.5555013\ttotal: 3s\tremaining: 5.08s\n",
            "26:\tlearn: 1671.9895527\ttotal: 3.11s\tremaining: 4.96s\n",
            "27:\tlearn: 1668.4587251\ttotal: 3.21s\tremaining: 4.82s\n",
            "28:\tlearn: 1662.2401606\ttotal: 3.33s\tremaining: 4.71s\n",
            "29:\tlearn: 1656.9237667\ttotal: 3.43s\tremaining: 4.58s\n",
            "30:\tlearn: 1652.3570228\ttotal: 3.54s\tremaining: 4.46s\n",
            "31:\tlearn: 1647.2480012\ttotal: 3.65s\tremaining: 4.33s\n",
            "32:\tlearn: 1643.0192522\ttotal: 3.75s\tremaining: 4.21s\n",
            "33:\tlearn: 1637.7495313\ttotal: 3.88s\tremaining: 4.1s\n",
            "34:\tlearn: 1634.9919773\ttotal: 4s\tremaining: 4s\n",
            "35:\tlearn: 1630.4832248\ttotal: 4.11s\tremaining: 3.88s\n",
            "36:\tlearn: 1626.2588117\ttotal: 4.23s\tremaining: 3.77s\n",
            "37:\tlearn: 1622.4855308\ttotal: 4.33s\tremaining: 3.65s\n",
            "38:\tlearn: 1619.4673608\ttotal: 4.45s\tremaining: 3.54s\n",
            "39:\tlearn: 1616.7609574\ttotal: 4.56s\tremaining: 3.42s\n",
            "40:\tlearn: 1614.0891166\ttotal: 4.67s\tremaining: 3.3s\n",
            "41:\tlearn: 1610.7992585\ttotal: 4.79s\tremaining: 3.19s\n",
            "42:\tlearn: 1607.4532387\ttotal: 4.9s\tremaining: 3.08s\n",
            "43:\tlearn: 1606.2570393\ttotal: 5.02s\tremaining: 2.96s\n",
            "44:\tlearn: 1602.5883656\ttotal: 5.13s\tremaining: 2.85s\n",
            "45:\tlearn: 1600.4381013\ttotal: 5.24s\tremaining: 2.74s\n",
            "46:\tlearn: 1597.5334954\ttotal: 5.36s\tremaining: 2.62s\n",
            "47:\tlearn: 1596.0015968\ttotal: 5.47s\tremaining: 2.51s\n",
            "48:\tlearn: 1591.9043753\ttotal: 5.58s\tremaining: 2.39s\n",
            "49:\tlearn: 1589.6053836\ttotal: 5.69s\tremaining: 2.28s\n",
            "50:\tlearn: 1586.1168867\ttotal: 5.81s\tremaining: 2.16s\n",
            "51:\tlearn: 1583.5719667\ttotal: 5.92s\tremaining: 2.05s\n",
            "52:\tlearn: 1580.5647579\ttotal: 6.06s\tremaining: 1.94s\n",
            "53:\tlearn: 1578.2501735\ttotal: 6.16s\tremaining: 1.83s\n",
            "54:\tlearn: 1575.6956936\ttotal: 6.28s\tremaining: 1.71s\n",
            "55:\tlearn: 1573.3774093\ttotal: 6.38s\tremaining: 1.6s\n",
            "56:\tlearn: 1571.8323212\ttotal: 6.5s\tremaining: 1.48s\n",
            "57:\tlearn: 1569.9268490\ttotal: 6.71s\tremaining: 1.39s\n",
            "58:\tlearn: 1568.1362410\ttotal: 6.94s\tremaining: 1.29s\n",
            "59:\tlearn: 1566.0825767\ttotal: 7.17s\tremaining: 1.2s\n",
            "60:\tlearn: 1563.5669772\ttotal: 7.39s\tremaining: 1.09s\n",
            "61:\tlearn: 1561.6554924\ttotal: 7.61s\tremaining: 982ms\n",
            "62:\tlearn: 1559.4513722\ttotal: 7.84s\tremaining: 872ms\n",
            "63:\tlearn: 1557.4406486\ttotal: 8.06s\tremaining: 756ms\n",
            "64:\tlearn: 1555.4803085\ttotal: 8.27s\tremaining: 636ms\n",
            "65:\tlearn: 1553.9987592\ttotal: 8.51s\tremaining: 516ms\n",
            "66:\tlearn: 1551.7894146\ttotal: 8.71s\tremaining: 390ms\n",
            "67:\tlearn: 1549.9675146\ttotal: 8.93s\tremaining: 263ms\n",
            "68:\tlearn: 1548.1319368\ttotal: 9.15s\tremaining: 133ms\n",
            "69:\tlearn: 1546.2506127\ttotal: 9.36s\tremaining: 0us\n"
          ]
        },
        {
          "output_type": "execute_result",
          "data": {
            "text/plain": [
              "(9.928241491317749, 0.11922669410705566, 1567.9943728904236)"
            ]
          },
          "metadata": {},
          "execution_count": 33
        }
      ],
      "source": [
        "model_estimation(grid_cbr.best_estimator_, \n",
        "                 X_train, \n",
        "                 y_train, \n",
        "                 X_test, \n",
        "                 y_test)"
      ]
    },
    {
      "cell_type": "markdown",
      "metadata": {
        "id": "ITsGPxKMmzkB"
      },
      "source": [
        "<div class=\"alert alert-block alert-info\">\n",
        "<b>Вывод:</b> \n",
        "    \n",
        " В ходе выполнения проекта мы изучили данные от сервиса продажи автомобилей, удалили дубликаты, пропуски, а также избавились от аномалий. Были подобраны наилучшие гиперпараметры для трех моделей: CatBooster, RandomForestRegressor и LightGBM. \n",
        "    \n",
        " На основании сравнения времени обучения, времени предсказания и качества моделей по метрике RMSE можем рекомендовать клиенту использование модели CatBooster с параметрами: 'learning_rate': 0.18, 'iterations': 80, 'depth': 8, она обеспечит наиболее быстрое и качественное предсказание цены автомобиля по заданным признакам.\n",
        "</div>"
      ]
    }
  ],
  "metadata": {
    "ExecuteTimeLog": [
      {
        "duration": 1602,
        "start_time": "2022-08-02T12:42:10.137Z"
      },
      {
        "duration": 30,
        "start_time": "2022-08-02T12:42:16.572Z"
      },
      {
        "duration": 16,
        "start_time": "2022-08-02T12:42:43.543Z"
      },
      {
        "duration": 19,
        "start_time": "2022-08-02T12:42:48.336Z"
      },
      {
        "duration": 115,
        "start_time": "2022-08-02T12:42:56.140Z"
      },
      {
        "duration": 99,
        "start_time": "2022-08-02T12:43:19.344Z"
      },
      {
        "duration": 70,
        "start_time": "2022-08-02T12:45:45.310Z"
      },
      {
        "duration": 9,
        "start_time": "2022-08-02T12:45:52.288Z"
      },
      {
        "duration": 499,
        "start_time": "2022-08-02T12:46:01.342Z"
      },
      {
        "duration": 486,
        "start_time": "2022-08-02T12:46:12.334Z"
      },
      {
        "duration": 470,
        "start_time": "2022-08-02T12:47:32.290Z"
      },
      {
        "duration": 540,
        "start_time": "2022-08-02T12:47:47.542Z"
      },
      {
        "duration": 36,
        "start_time": "2022-08-02T12:49:25.651Z"
      },
      {
        "duration": 9,
        "start_time": "2022-08-02T12:49:43.441Z"
      },
      {
        "duration": 22,
        "start_time": "2022-08-02T12:50:20.841Z"
      },
      {
        "duration": 13,
        "start_time": "2022-08-02T12:52:23.405Z"
      },
      {
        "duration": 9,
        "start_time": "2022-08-02T12:53:09.642Z"
      },
      {
        "duration": 29,
        "start_time": "2022-08-02T12:54:14.862Z"
      },
      {
        "duration": 5,
        "start_time": "2022-08-02T12:55:17.848Z"
      },
      {
        "duration": 7,
        "start_time": "2022-08-02T12:55:30.179Z"
      },
      {
        "duration": 6,
        "start_time": "2022-08-02T12:55:49.766Z"
      },
      {
        "duration": 10,
        "start_time": "2022-08-02T12:56:35.851Z"
      },
      {
        "duration": 6,
        "start_time": "2022-08-02T12:56:54.597Z"
      },
      {
        "duration": 10,
        "start_time": "2022-08-02T12:57:08.968Z"
      },
      {
        "duration": 11,
        "start_time": "2022-08-02T12:58:15.106Z"
      },
      {
        "duration": 9,
        "start_time": "2022-08-02T12:58:22.366Z"
      },
      {
        "duration": 10,
        "start_time": "2022-08-02T12:58:33.869Z"
      },
      {
        "duration": 8,
        "start_time": "2022-08-02T12:58:41.449Z"
      },
      {
        "duration": 7,
        "start_time": "2022-08-02T12:58:46.364Z"
      },
      {
        "duration": 7,
        "start_time": "2022-08-02T12:59:05.749Z"
      },
      {
        "duration": 9,
        "start_time": "2022-08-02T12:59:06.400Z"
      },
      {
        "duration": 868,
        "start_time": "2022-08-02T12:59:32.697Z"
      },
      {
        "duration": 17,
        "start_time": "2022-08-02T12:59:33.568Z"
      },
      {
        "duration": 136,
        "start_time": "2022-08-02T12:59:33.587Z"
      },
      {
        "duration": 101,
        "start_time": "2022-08-02T12:59:33.725Z"
      },
      {
        "duration": 428,
        "start_time": "2022-08-02T12:59:33.829Z"
      },
      {
        "duration": 650,
        "start_time": "2022-08-02T12:59:34.259Z"
      },
      {
        "duration": 7,
        "start_time": "2022-08-02T12:59:34.910Z"
      },
      {
        "duration": 8,
        "start_time": "2022-08-02T12:59:34.919Z"
      },
      {
        "duration": 8,
        "start_time": "2022-08-02T12:59:34.929Z"
      },
      {
        "duration": 10,
        "start_time": "2022-08-02T13:00:07.062Z"
      },
      {
        "duration": 8,
        "start_time": "2022-08-02T13:04:23.566Z"
      },
      {
        "duration": 1109,
        "start_time": "2022-08-02T13:04:51.076Z"
      },
      {
        "duration": 783,
        "start_time": "2022-08-02T13:04:56.203Z"
      },
      {
        "duration": 3,
        "start_time": "2022-08-02T13:05:11.428Z"
      },
      {
        "duration": 1298,
        "start_time": "2022-08-02T13:05:14.754Z"
      },
      {
        "duration": 8111,
        "start_time": "2022-08-02T13:05:32.862Z"
      },
      {
        "duration": 177,
        "start_time": "2022-08-02T13:11:17.869Z"
      },
      {
        "duration": 257,
        "start_time": "2022-08-02T13:11:43.890Z"
      },
      {
        "duration": 291,
        "start_time": "2022-08-02T13:11:48.554Z"
      },
      {
        "duration": 352,
        "start_time": "2022-08-02T13:12:05.131Z"
      },
      {
        "duration": 85,
        "start_time": "2022-08-02T13:12:17.046Z"
      },
      {
        "duration": 283,
        "start_time": "2022-08-02T13:12:20.195Z"
      },
      {
        "duration": 10,
        "start_time": "2022-08-02T13:12:42.752Z"
      },
      {
        "duration": 11,
        "start_time": "2022-08-02T13:13:15.750Z"
      },
      {
        "duration": 11,
        "start_time": "2022-08-02T13:13:30.971Z"
      },
      {
        "duration": 31,
        "start_time": "2022-08-02T13:14:11.345Z"
      },
      {
        "duration": 52,
        "start_time": "2022-08-02T13:15:26.666Z"
      },
      {
        "duration": 11,
        "start_time": "2022-08-02T13:15:31.248Z"
      },
      {
        "duration": 9,
        "start_time": "2022-08-02T13:15:51.184Z"
      },
      {
        "duration": 7,
        "start_time": "2022-08-02T13:15:56.065Z"
      },
      {
        "duration": 36,
        "start_time": "2022-08-02T13:16:18.887Z"
      },
      {
        "duration": 8,
        "start_time": "2022-08-02T13:17:01.389Z"
      },
      {
        "duration": 31,
        "start_time": "2022-08-02T13:17:02.642Z"
      },
      {
        "duration": 9,
        "start_time": "2022-08-02T13:18:52.049Z"
      },
      {
        "duration": 2,
        "start_time": "2022-08-02T13:18:59.313Z"
      },
      {
        "duration": 778,
        "start_time": "2022-08-02T13:18:59.317Z"
      },
      {
        "duration": 17,
        "start_time": "2022-08-02T13:19:00.097Z"
      },
      {
        "duration": 131,
        "start_time": "2022-08-02T13:19:00.116Z"
      },
      {
        "duration": 116,
        "start_time": "2022-08-02T13:19:00.249Z"
      },
      {
        "duration": 456,
        "start_time": "2022-08-02T13:19:00.368Z"
      },
      {
        "duration": 540,
        "start_time": "2022-08-02T13:19:00.826Z"
      },
      {
        "duration": 37,
        "start_time": "2022-08-02T13:19:01.368Z"
      },
      {
        "duration": 7,
        "start_time": "2022-08-02T13:19:01.407Z"
      },
      {
        "duration": 52,
        "start_time": "2022-08-02T13:19:01.416Z"
      },
      {
        "duration": 17,
        "start_time": "2022-08-02T13:19:13.106Z"
      },
      {
        "duration": 8,
        "start_time": "2022-08-02T13:19:24.992Z"
      },
      {
        "duration": 39,
        "start_time": "2022-08-02T13:19:25.489Z"
      },
      {
        "duration": 35,
        "start_time": "2022-08-02T13:20:40.987Z"
      },
      {
        "duration": 56,
        "start_time": "2022-08-02T13:32:26.942Z"
      },
      {
        "duration": 37,
        "start_time": "2022-08-02T13:32:33.186Z"
      },
      {
        "duration": 17,
        "start_time": "2022-08-02T13:33:04.842Z"
      },
      {
        "duration": 15,
        "start_time": "2022-08-02T13:33:07.741Z"
      },
      {
        "duration": 13,
        "start_time": "2022-08-02T13:33:38.793Z"
      },
      {
        "duration": 3,
        "start_time": "2022-08-02T13:33:42.362Z"
      },
      {
        "duration": 881,
        "start_time": "2022-08-02T13:33:42.368Z"
      },
      {
        "duration": 14,
        "start_time": "2022-08-02T13:33:43.251Z"
      },
      {
        "duration": 129,
        "start_time": "2022-08-02T13:33:43.267Z"
      },
      {
        "duration": 107,
        "start_time": "2022-08-02T13:33:43.397Z"
      },
      {
        "duration": 18,
        "start_time": "2022-08-02T13:33:43.506Z"
      },
      {
        "duration": 207,
        "start_time": "2022-08-02T13:33:43.525Z"
      },
      {
        "duration": 256,
        "start_time": "2022-08-02T13:33:43.734Z"
      },
      {
        "duration": 35,
        "start_time": "2022-08-02T13:33:43.992Z"
      },
      {
        "duration": 8,
        "start_time": "2022-08-02T13:33:44.030Z"
      },
      {
        "duration": 30,
        "start_time": "2022-08-02T13:33:44.040Z"
      },
      {
        "duration": 58,
        "start_time": "2022-08-02T13:33:44.072Z"
      },
      {
        "duration": 19,
        "start_time": "2022-08-02T13:33:57.343Z"
      },
      {
        "duration": 14,
        "start_time": "2022-08-02T13:34:22.237Z"
      },
      {
        "duration": 19,
        "start_time": "2022-08-02T13:34:44.950Z"
      },
      {
        "duration": 243,
        "start_time": "2022-08-02T13:38:02.908Z"
      },
      {
        "duration": 231,
        "start_time": "2022-08-02T13:38:17.484Z"
      },
      {
        "duration": 9,
        "start_time": "2022-08-02T13:41:17.366Z"
      },
      {
        "duration": 6,
        "start_time": "2022-08-02T13:42:07.862Z"
      },
      {
        "duration": 31,
        "start_time": "2022-08-02T13:42:27.848Z"
      },
      {
        "duration": 109,
        "start_time": "2022-08-02T13:53:51.273Z"
      },
      {
        "duration": 47,
        "start_time": "2022-08-02T13:54:44.097Z"
      },
      {
        "duration": 70,
        "start_time": "2022-08-02T13:54:47.266Z"
      },
      {
        "duration": 67,
        "start_time": "2022-08-02T13:55:04.782Z"
      },
      {
        "duration": 54,
        "start_time": "2022-08-02T13:55:17.192Z"
      },
      {
        "duration": 72,
        "start_time": "2022-08-02T13:55:28.584Z"
      },
      {
        "duration": 133,
        "start_time": "2022-08-02T13:55:33.095Z"
      },
      {
        "duration": 66,
        "start_time": "2022-08-02T13:55:54.822Z"
      },
      {
        "duration": 71,
        "start_time": "2022-08-02T13:56:03.044Z"
      },
      {
        "duration": 77,
        "start_time": "2022-08-02T13:56:18.686Z"
      },
      {
        "duration": 80,
        "start_time": "2022-08-02T13:56:33.806Z"
      },
      {
        "duration": 78,
        "start_time": "2022-08-02T13:56:44.939Z"
      },
      {
        "duration": 137,
        "start_time": "2022-08-02T13:56:55.345Z"
      },
      {
        "duration": 79,
        "start_time": "2022-08-02T13:57:01.561Z"
      },
      {
        "duration": 98,
        "start_time": "2022-08-02T13:57:07.131Z"
      },
      {
        "duration": 78,
        "start_time": "2022-08-02T13:57:19.965Z"
      },
      {
        "duration": 61,
        "start_time": "2022-08-02T13:58:27.829Z"
      },
      {
        "duration": 17,
        "start_time": "2022-08-02T13:59:12.207Z"
      },
      {
        "duration": 10,
        "start_time": "2022-08-02T13:59:18.774Z"
      },
      {
        "duration": 18,
        "start_time": "2022-08-02T13:59:36.035Z"
      },
      {
        "duration": 4,
        "start_time": "2022-08-02T13:59:49.335Z"
      },
      {
        "duration": 838,
        "start_time": "2022-08-02T13:59:49.341Z"
      },
      {
        "duration": 14,
        "start_time": "2022-08-02T13:59:50.180Z"
      },
      {
        "duration": 117,
        "start_time": "2022-08-02T13:59:50.202Z"
      },
      {
        "duration": 436,
        "start_time": "2022-08-02T13:59:50.322Z"
      },
      {
        "duration": 543,
        "start_time": "2022-08-02T13:59:50.760Z"
      },
      {
        "duration": 113,
        "start_time": "2022-08-02T13:59:51.305Z"
      },
      {
        "duration": 29,
        "start_time": "2022-08-02T13:59:51.422Z"
      },
      {
        "duration": 30,
        "start_time": "2022-08-02T13:59:51.453Z"
      },
      {
        "duration": 24,
        "start_time": "2022-08-02T13:59:51.485Z"
      },
      {
        "duration": 35,
        "start_time": "2022-08-02T13:59:51.511Z"
      },
      {
        "duration": 6,
        "start_time": "2022-08-02T13:59:51.547Z"
      },
      {
        "duration": 69,
        "start_time": "2022-08-02T13:59:51.555Z"
      },
      {
        "duration": 82,
        "start_time": "2022-08-02T13:59:51.626Z"
      },
      {
        "duration": 136,
        "start_time": "2022-08-02T13:59:51.710Z"
      },
      {
        "duration": 125,
        "start_time": "2022-08-02T14:00:09.704Z"
      },
      {
        "duration": 206,
        "start_time": "2022-08-02T14:00:13.251Z"
      },
      {
        "duration": 18,
        "start_time": "2022-08-02T14:46:15.660Z"
      },
      {
        "duration": 47,
        "start_time": "2022-08-02T14:54:08.898Z"
      },
      {
        "duration": 278,
        "start_time": "2022-08-02T14:54:15.936Z"
      },
      {
        "duration": 854,
        "start_time": "2022-08-02T14:54:16.217Z"
      },
      {
        "duration": 14,
        "start_time": "2022-08-02T14:54:17.073Z"
      },
      {
        "duration": 140,
        "start_time": "2022-08-02T14:54:17.093Z"
      },
      {
        "duration": 496,
        "start_time": "2022-08-02T14:54:17.236Z"
      },
      {
        "duration": 536,
        "start_time": "2022-08-02T14:54:17.734Z"
      },
      {
        "duration": 106,
        "start_time": "2022-08-02T14:54:18.272Z"
      },
      {
        "duration": 37,
        "start_time": "2022-08-02T14:54:18.380Z"
      },
      {
        "duration": 85,
        "start_time": "2022-08-02T14:54:18.419Z"
      },
      {
        "duration": 192,
        "start_time": "2022-08-02T14:54:18.506Z"
      },
      {
        "duration": 71,
        "start_time": "2022-08-02T14:54:18.700Z"
      },
      {
        "duration": 56,
        "start_time": "2022-08-02T14:55:48.535Z"
      },
      {
        "duration": 4,
        "start_time": "2022-08-02T14:56:08.278Z"
      },
      {
        "duration": 843,
        "start_time": "2022-08-02T14:56:08.341Z"
      },
      {
        "duration": 17,
        "start_time": "2022-08-02T14:56:09.187Z"
      },
      {
        "duration": 128,
        "start_time": "2022-08-02T14:56:09.206Z"
      },
      {
        "duration": 458,
        "start_time": "2022-08-02T14:56:09.337Z"
      },
      {
        "duration": 619,
        "start_time": "2022-08-02T14:56:09.798Z"
      },
      {
        "duration": 116,
        "start_time": "2022-08-02T14:56:10.419Z"
      },
      {
        "duration": 31,
        "start_time": "2022-08-02T14:56:10.537Z"
      },
      {
        "duration": 87,
        "start_time": "2022-08-02T14:56:10.570Z"
      },
      {
        "duration": 183,
        "start_time": "2022-08-02T14:56:10.659Z"
      },
      {
        "duration": 66,
        "start_time": "2022-08-02T14:56:10.844Z"
      },
      {
        "duration": 77,
        "start_time": "2022-08-02T14:56:42.090Z"
      },
      {
        "duration": 64,
        "start_time": "2022-08-02T15:01:25.576Z"
      },
      {
        "duration": 135,
        "start_time": "2022-08-02T15:09:11.476Z"
      },
      {
        "duration": 231,
        "start_time": "2022-08-02T15:09:18.885Z"
      },
      {
        "duration": 199,
        "start_time": "2022-08-02T15:10:39.016Z"
      },
      {
        "duration": 154,
        "start_time": "2022-08-02T15:10:46.788Z"
      },
      {
        "duration": 156,
        "start_time": "2022-08-02T15:11:44.229Z"
      },
      {
        "duration": 9,
        "start_time": "2022-08-02T15:12:38.729Z"
      },
      {
        "duration": 4,
        "start_time": "2022-08-02T15:12:41.764Z"
      },
      {
        "duration": 3,
        "start_time": "2022-08-02T15:13:26.333Z"
      },
      {
        "duration": 834,
        "start_time": "2022-08-02T15:13:26.338Z"
      },
      {
        "duration": 15,
        "start_time": "2022-08-02T15:13:27.174Z"
      },
      {
        "duration": 146,
        "start_time": "2022-08-02T15:13:27.191Z"
      },
      {
        "duration": 471,
        "start_time": "2022-08-02T15:13:27.339Z"
      },
      {
        "duration": 504,
        "start_time": "2022-08-02T15:13:27.812Z"
      },
      {
        "duration": 112,
        "start_time": "2022-08-02T15:13:28.318Z"
      },
      {
        "duration": 28,
        "start_time": "2022-08-02T15:13:28.432Z"
      },
      {
        "duration": 92,
        "start_time": "2022-08-02T15:13:28.462Z"
      },
      {
        "duration": 194,
        "start_time": "2022-08-02T15:13:28.556Z"
      },
      {
        "duration": 4,
        "start_time": "2022-08-02T15:13:28.752Z"
      },
      {
        "duration": 208,
        "start_time": "2022-08-02T15:13:28.757Z"
      },
      {
        "duration": 155,
        "start_time": "2022-08-02T15:18:17.890Z"
      },
      {
        "duration": 10,
        "start_time": "2022-08-02T15:24:58.015Z"
      },
      {
        "duration": 4,
        "start_time": "2022-08-02T15:25:37.576Z"
      },
      {
        "duration": 5,
        "start_time": "2022-08-02T15:25:42.065Z"
      },
      {
        "duration": 71,
        "start_time": "2022-08-02T15:27:41.463Z"
      },
      {
        "duration": 3,
        "start_time": "2022-08-02T15:30:16.816Z"
      },
      {
        "duration": 4,
        "start_time": "2022-08-02T15:35:28.158Z"
      },
      {
        "duration": 771,
        "start_time": "2022-08-02T15:35:28.163Z"
      },
      {
        "duration": 14,
        "start_time": "2022-08-02T15:35:28.937Z"
      },
      {
        "duration": 159,
        "start_time": "2022-08-02T15:35:28.953Z"
      },
      {
        "duration": 483,
        "start_time": "2022-08-02T15:35:29.115Z"
      },
      {
        "duration": 501,
        "start_time": "2022-08-02T15:35:29.602Z"
      },
      {
        "duration": 109,
        "start_time": "2022-08-02T15:35:30.105Z"
      },
      {
        "duration": 28,
        "start_time": "2022-08-02T15:35:30.216Z"
      },
      {
        "duration": 94,
        "start_time": "2022-08-02T15:35:30.246Z"
      },
      {
        "duration": 200,
        "start_time": "2022-08-02T15:35:30.342Z"
      },
      {
        "duration": 4,
        "start_time": "2022-08-02T15:35:30.544Z"
      },
      {
        "duration": 176,
        "start_time": "2022-08-02T15:35:30.549Z"
      },
      {
        "duration": 4,
        "start_time": "2022-08-02T15:35:30.727Z"
      },
      {
        "duration": 1523,
        "start_time": "2022-08-03T16:52:11.630Z"
      },
      {
        "duration": 1038,
        "start_time": "2022-08-03T16:52:13.155Z"
      },
      {
        "duration": 19,
        "start_time": "2022-08-03T16:52:14.195Z"
      },
      {
        "duration": 132,
        "start_time": "2022-08-03T16:52:14.217Z"
      },
      {
        "duration": 467,
        "start_time": "2022-08-03T16:52:14.351Z"
      },
      {
        "duration": 546,
        "start_time": "2022-08-03T16:52:14.820Z"
      },
      {
        "duration": 108,
        "start_time": "2022-08-03T16:52:15.368Z"
      },
      {
        "duration": 34,
        "start_time": "2022-08-03T16:52:15.477Z"
      },
      {
        "duration": 75,
        "start_time": "2022-08-03T16:52:15.513Z"
      },
      {
        "duration": 121,
        "start_time": "2022-08-03T16:52:15.591Z"
      },
      {
        "duration": 0,
        "start_time": "2022-08-03T16:52:15.713Z"
      },
      {
        "duration": 0,
        "start_time": "2022-08-03T16:52:15.715Z"
      },
      {
        "duration": 1,
        "start_time": "2022-08-03T16:52:15.715Z"
      },
      {
        "duration": 0,
        "start_time": "2022-08-03T16:52:15.717Z"
      },
      {
        "duration": 0,
        "start_time": "2022-08-03T16:52:15.718Z"
      },
      {
        "duration": 4,
        "start_time": "2022-08-03T16:52:53.538Z"
      },
      {
        "duration": 770,
        "start_time": "2022-08-03T16:52:53.544Z"
      },
      {
        "duration": 15,
        "start_time": "2022-08-03T16:52:54.316Z"
      },
      {
        "duration": 121,
        "start_time": "2022-08-03T16:52:54.334Z"
      },
      {
        "duration": 403,
        "start_time": "2022-08-03T16:52:54.457Z"
      },
      {
        "duration": 474,
        "start_time": "2022-08-03T16:52:54.861Z"
      },
      {
        "duration": 98,
        "start_time": "2022-08-03T16:52:55.337Z"
      },
      {
        "duration": 25,
        "start_time": "2022-08-03T16:52:55.436Z"
      },
      {
        "duration": 80,
        "start_time": "2022-08-03T16:52:55.463Z"
      },
      {
        "duration": 9,
        "start_time": "2022-08-03T16:52:55.546Z"
      },
      {
        "duration": 0,
        "start_time": "2022-08-03T16:52:55.557Z"
      },
      {
        "duration": 0,
        "start_time": "2022-08-03T16:52:55.558Z"
      },
      {
        "duration": 0,
        "start_time": "2022-08-03T16:52:55.560Z"
      },
      {
        "duration": 0,
        "start_time": "2022-08-03T16:52:55.561Z"
      },
      {
        "duration": 0,
        "start_time": "2022-08-03T16:52:55.562Z"
      },
      {
        "duration": 4,
        "start_time": "2022-08-03T16:53:32.722Z"
      },
      {
        "duration": 758,
        "start_time": "2022-08-03T16:53:32.728Z"
      },
      {
        "duration": 17,
        "start_time": "2022-08-03T16:53:33.488Z"
      },
      {
        "duration": 115,
        "start_time": "2022-08-03T16:53:33.507Z"
      },
      {
        "duration": 407,
        "start_time": "2022-08-03T16:53:33.626Z"
      },
      {
        "duration": 486,
        "start_time": "2022-08-03T16:53:34.035Z"
      },
      {
        "duration": 101,
        "start_time": "2022-08-03T16:53:34.523Z"
      },
      {
        "duration": 24,
        "start_time": "2022-08-03T16:53:34.626Z"
      },
      {
        "duration": 85,
        "start_time": "2022-08-03T16:53:34.652Z"
      },
      {
        "duration": 175,
        "start_time": "2022-08-03T16:53:34.738Z"
      },
      {
        "duration": 3,
        "start_time": "2022-08-03T16:53:34.915Z"
      },
      {
        "duration": 166,
        "start_time": "2022-08-03T16:53:34.920Z"
      },
      {
        "duration": 4,
        "start_time": "2022-08-03T16:53:35.089Z"
      },
      {
        "duration": 4,
        "start_time": "2022-08-03T16:53:35.104Z"
      },
      {
        "duration": 0,
        "start_time": "2022-08-03T16:53:35.109Z"
      },
      {
        "duration": 3,
        "start_time": "2022-08-03T16:53:54.523Z"
      },
      {
        "duration": 757,
        "start_time": "2022-08-03T16:53:54.528Z"
      },
      {
        "duration": 21,
        "start_time": "2022-08-03T16:53:55.287Z"
      },
      {
        "duration": 116,
        "start_time": "2022-08-03T16:53:55.310Z"
      },
      {
        "duration": 398,
        "start_time": "2022-08-03T16:53:55.428Z"
      },
      {
        "duration": 465,
        "start_time": "2022-08-03T16:53:55.828Z"
      },
      {
        "duration": 97,
        "start_time": "2022-08-03T16:53:56.295Z"
      },
      {
        "duration": 33,
        "start_time": "2022-08-03T16:53:56.394Z"
      },
      {
        "duration": 88,
        "start_time": "2022-08-03T16:53:56.429Z"
      },
      {
        "duration": 187,
        "start_time": "2022-08-03T16:53:56.519Z"
      },
      {
        "duration": 4,
        "start_time": "2022-08-03T16:53:56.709Z"
      },
      {
        "duration": 163,
        "start_time": "2022-08-03T16:53:56.715Z"
      },
      {
        "duration": 4,
        "start_time": "2022-08-03T16:53:56.880Z"
      },
      {
        "duration": 23,
        "start_time": "2022-08-03T16:53:56.887Z"
      },
      {
        "duration": 0,
        "start_time": "2022-08-03T16:53:56.912Z"
      },
      {
        "duration": 4,
        "start_time": "2022-08-03T16:54:44.130Z"
      },
      {
        "duration": 728,
        "start_time": "2022-08-03T16:54:44.136Z"
      },
      {
        "duration": 13,
        "start_time": "2022-08-03T16:54:44.865Z"
      },
      {
        "duration": 117,
        "start_time": "2022-08-03T16:54:44.880Z"
      },
      {
        "duration": 386,
        "start_time": "2022-08-03T16:54:45.003Z"
      },
      {
        "duration": 469,
        "start_time": "2022-08-03T16:54:45.391Z"
      },
      {
        "duration": 95,
        "start_time": "2022-08-03T16:54:45.862Z"
      },
      {
        "duration": 24,
        "start_time": "2022-08-03T16:54:45.959Z"
      },
      {
        "duration": 82,
        "start_time": "2022-08-03T16:54:45.986Z"
      },
      {
        "duration": 180,
        "start_time": "2022-08-03T16:54:46.070Z"
      },
      {
        "duration": 4,
        "start_time": "2022-08-03T16:54:46.252Z"
      },
      {
        "duration": 171,
        "start_time": "2022-08-03T16:54:46.257Z"
      },
      {
        "duration": 5,
        "start_time": "2022-08-03T16:54:46.430Z"
      },
      {
        "duration": 13,
        "start_time": "2022-08-03T16:54:46.437Z"
      },
      {
        "duration": 0,
        "start_time": "2022-08-03T16:54:46.452Z"
      },
      {
        "duration": 3,
        "start_time": "2022-08-03T16:55:09.557Z"
      },
      {
        "duration": 752,
        "start_time": "2022-08-03T16:55:09.561Z"
      },
      {
        "duration": 17,
        "start_time": "2022-08-03T16:55:10.315Z"
      },
      {
        "duration": 138,
        "start_time": "2022-08-03T16:55:10.334Z"
      },
      {
        "duration": 430,
        "start_time": "2022-08-03T16:55:10.475Z"
      },
      {
        "duration": 486,
        "start_time": "2022-08-03T16:55:10.907Z"
      },
      {
        "duration": 94,
        "start_time": "2022-08-03T16:55:11.395Z"
      },
      {
        "duration": 36,
        "start_time": "2022-08-03T16:55:11.491Z"
      },
      {
        "duration": 88,
        "start_time": "2022-08-03T16:55:11.529Z"
      },
      {
        "duration": 204,
        "start_time": "2022-08-03T16:55:11.618Z"
      },
      {
        "duration": 4,
        "start_time": "2022-08-03T16:55:11.823Z"
      },
      {
        "duration": 176,
        "start_time": "2022-08-03T16:55:11.829Z"
      },
      {
        "duration": 3,
        "start_time": "2022-08-03T16:55:12.006Z"
      },
      {
        "duration": 35,
        "start_time": "2022-08-03T16:55:12.012Z"
      },
      {
        "duration": 0,
        "start_time": "2022-08-03T16:55:12.049Z"
      },
      {
        "duration": 3,
        "start_time": "2022-08-03T16:55:25.828Z"
      },
      {
        "duration": 755,
        "start_time": "2022-08-03T16:55:25.833Z"
      },
      {
        "duration": 21,
        "start_time": "2022-08-03T16:55:26.590Z"
      },
      {
        "duration": 123,
        "start_time": "2022-08-03T16:55:26.614Z"
      },
      {
        "duration": 411,
        "start_time": "2022-08-03T16:55:26.741Z"
      },
      {
        "duration": 480,
        "start_time": "2022-08-03T16:55:27.153Z"
      },
      {
        "duration": 95,
        "start_time": "2022-08-03T16:55:27.635Z"
      },
      {
        "duration": 25,
        "start_time": "2022-08-03T16:55:27.731Z"
      },
      {
        "duration": 84,
        "start_time": "2022-08-03T16:55:27.758Z"
      },
      {
        "duration": 176,
        "start_time": "2022-08-03T16:55:27.844Z"
      },
      {
        "duration": 3,
        "start_time": "2022-08-03T16:55:28.022Z"
      },
      {
        "duration": 159,
        "start_time": "2022-08-03T16:55:28.027Z"
      },
      {
        "duration": 3,
        "start_time": "2022-08-03T16:55:28.189Z"
      },
      {
        "duration": 12,
        "start_time": "2022-08-03T16:55:28.202Z"
      },
      {
        "duration": 0,
        "start_time": "2022-08-03T16:55:28.215Z"
      },
      {
        "duration": 17,
        "start_time": "2022-08-03T16:56:49.770Z"
      },
      {
        "duration": 26,
        "start_time": "2022-08-03T16:57:49.201Z"
      },
      {
        "duration": 4007,
        "start_time": "2022-08-03T16:58:23.391Z"
      },
      {
        "duration": 5,
        "start_time": "2022-08-03T17:04:04.559Z"
      },
      {
        "duration": 749,
        "start_time": "2022-08-03T17:04:04.566Z"
      },
      {
        "duration": 13,
        "start_time": "2022-08-03T17:04:05.318Z"
      },
      {
        "duration": 127,
        "start_time": "2022-08-03T17:04:05.333Z"
      },
      {
        "duration": 418,
        "start_time": "2022-08-03T17:04:05.463Z"
      },
      {
        "duration": 512,
        "start_time": "2022-08-03T17:04:05.883Z"
      },
      {
        "duration": 106,
        "start_time": "2022-08-03T17:04:06.397Z"
      },
      {
        "duration": 27,
        "start_time": "2022-08-03T17:04:06.505Z"
      },
      {
        "duration": 86,
        "start_time": "2022-08-03T17:04:06.534Z"
      },
      {
        "duration": 215,
        "start_time": "2022-08-03T17:04:06.622Z"
      },
      {
        "duration": 3,
        "start_time": "2022-08-03T17:04:06.840Z"
      },
      {
        "duration": 168,
        "start_time": "2022-08-03T17:04:06.845Z"
      },
      {
        "duration": 4,
        "start_time": "2022-08-03T17:04:07.015Z"
      },
      {
        "duration": 1198,
        "start_time": "2022-08-03T17:04:07.021Z"
      },
      {
        "duration": 0,
        "start_time": "2022-08-03T17:04:08.221Z"
      },
      {
        "duration": 4,
        "start_time": "2022-08-03T17:04:48.481Z"
      },
      {
        "duration": 809,
        "start_time": "2022-08-03T17:04:48.487Z"
      },
      {
        "duration": 15,
        "start_time": "2022-08-03T17:04:49.298Z"
      },
      {
        "duration": 124,
        "start_time": "2022-08-03T17:04:49.314Z"
      },
      {
        "duration": 421,
        "start_time": "2022-08-03T17:04:49.441Z"
      },
      {
        "duration": 496,
        "start_time": "2022-08-03T17:04:49.864Z"
      },
      {
        "duration": 110,
        "start_time": "2022-08-03T17:04:50.362Z"
      },
      {
        "duration": 35,
        "start_time": "2022-08-03T17:04:50.474Z"
      },
      {
        "duration": 74,
        "start_time": "2022-08-03T17:04:50.511Z"
      },
      {
        "duration": 188,
        "start_time": "2022-08-03T17:04:50.586Z"
      },
      {
        "duration": 3,
        "start_time": "2022-08-03T17:04:50.776Z"
      },
      {
        "duration": 162,
        "start_time": "2022-08-03T17:04:50.781Z"
      },
      {
        "duration": 4,
        "start_time": "2022-08-03T17:04:50.945Z"
      },
      {
        "duration": 729371,
        "start_time": "2022-08-03T17:04:50.951Z"
      },
      {
        "duration": 0,
        "start_time": "2022-08-03T17:17:00.324Z"
      },
      {
        "duration": 4,
        "start_time": "2022-08-03T17:17:05.184Z"
      },
      {
        "duration": 818,
        "start_time": "2022-08-03T17:17:05.190Z"
      },
      {
        "duration": 16,
        "start_time": "2022-08-03T17:17:06.010Z"
      },
      {
        "duration": 128,
        "start_time": "2022-08-03T17:17:06.028Z"
      },
      {
        "duration": 413,
        "start_time": "2022-08-03T17:17:06.158Z"
      },
      {
        "duration": 495,
        "start_time": "2022-08-03T17:17:06.573Z"
      },
      {
        "duration": 98,
        "start_time": "2022-08-03T17:17:07.069Z"
      },
      {
        "duration": 25,
        "start_time": "2022-08-03T17:17:07.168Z"
      },
      {
        "duration": 75,
        "start_time": "2022-08-03T17:17:07.204Z"
      },
      {
        "duration": 205,
        "start_time": "2022-08-03T17:17:07.288Z"
      },
      {
        "duration": 9,
        "start_time": "2022-08-03T17:17:07.495Z"
      },
      {
        "duration": 160,
        "start_time": "2022-08-03T17:17:07.506Z"
      },
      {
        "duration": 3,
        "start_time": "2022-08-03T17:17:07.668Z"
      },
      {
        "duration": 243522,
        "start_time": "2022-08-03T17:17:07.673Z"
      },
      {
        "duration": 2,
        "start_time": "2022-08-03T17:21:11.196Z"
      },
      {
        "duration": 3,
        "start_time": "2022-08-03T17:23:24.468Z"
      },
      {
        "duration": 747,
        "start_time": "2022-08-03T17:23:24.476Z"
      },
      {
        "duration": 14,
        "start_time": "2022-08-03T17:23:25.225Z"
      },
      {
        "duration": 124,
        "start_time": "2022-08-03T17:23:25.241Z"
      },
      {
        "duration": 401,
        "start_time": "2022-08-03T17:23:25.367Z"
      },
      {
        "duration": 473,
        "start_time": "2022-08-03T17:23:25.770Z"
      },
      {
        "duration": 96,
        "start_time": "2022-08-03T17:23:26.244Z"
      },
      {
        "duration": 26,
        "start_time": "2022-08-03T17:23:26.342Z"
      },
      {
        "duration": 90,
        "start_time": "2022-08-03T17:23:26.370Z"
      },
      {
        "duration": 209,
        "start_time": "2022-08-03T17:23:26.462Z"
      },
      {
        "duration": 4,
        "start_time": "2022-08-03T17:23:26.674Z"
      },
      {
        "duration": 167,
        "start_time": "2022-08-03T17:23:26.679Z"
      },
      {
        "duration": 4,
        "start_time": "2022-08-03T17:23:26.847Z"
      },
      {
        "duration": 89102,
        "start_time": "2022-08-03T17:23:26.852Z"
      },
      {
        "duration": 0,
        "start_time": "2022-08-03T17:24:55.956Z"
      },
      {
        "duration": 4,
        "start_time": "2022-08-03T17:25:00.566Z"
      },
      {
        "duration": 798,
        "start_time": "2022-08-03T17:25:00.572Z"
      },
      {
        "duration": 15,
        "start_time": "2022-08-03T17:25:01.372Z"
      },
      {
        "duration": 129,
        "start_time": "2022-08-03T17:25:01.389Z"
      },
      {
        "duration": 405,
        "start_time": "2022-08-03T17:25:01.521Z"
      },
      {
        "duration": 517,
        "start_time": "2022-08-03T17:25:01.928Z"
      },
      {
        "duration": 95,
        "start_time": "2022-08-03T17:25:02.447Z"
      },
      {
        "duration": 29,
        "start_time": "2022-08-03T17:25:02.543Z"
      },
      {
        "duration": 83,
        "start_time": "2022-08-03T17:25:02.574Z"
      },
      {
        "duration": 186,
        "start_time": "2022-08-03T17:25:02.658Z"
      },
      {
        "duration": 4,
        "start_time": "2022-08-03T17:25:02.845Z"
      },
      {
        "duration": 165,
        "start_time": "2022-08-03T17:25:02.850Z"
      },
      {
        "duration": 4,
        "start_time": "2022-08-03T17:25:03.017Z"
      },
      {
        "duration": 237211,
        "start_time": "2022-08-03T17:25:03.023Z"
      },
      {
        "duration": 3,
        "start_time": "2022-08-03T17:29:00.235Z"
      },
      {
        "duration": 4,
        "start_time": "2022-08-03T17:33:01.375Z"
      },
      {
        "duration": 1192,
        "start_time": "2022-08-03T17:33:01.381Z"
      },
      {
        "duration": 13,
        "start_time": "2022-08-03T17:33:02.577Z"
      },
      {
        "duration": 121,
        "start_time": "2022-08-03T17:33:02.592Z"
      },
      {
        "duration": 441,
        "start_time": "2022-08-03T17:33:02.715Z"
      },
      {
        "duration": 541,
        "start_time": "2022-08-03T17:33:03.158Z"
      },
      {
        "duration": 90,
        "start_time": "2022-08-03T17:33:03.702Z"
      },
      {
        "duration": 31,
        "start_time": "2022-08-03T17:33:03.803Z"
      },
      {
        "duration": 92,
        "start_time": "2022-08-03T17:33:03.836Z"
      },
      {
        "duration": 222,
        "start_time": "2022-08-03T17:33:03.930Z"
      },
      {
        "duration": 4,
        "start_time": "2022-08-03T17:33:04.154Z"
      },
      {
        "duration": 173,
        "start_time": "2022-08-03T17:33:04.160Z"
      },
      {
        "duration": 5,
        "start_time": "2022-08-03T17:33:04.335Z"
      },
      {
        "duration": 6,
        "start_time": "2022-08-03T17:33:04.343Z"
      },
      {
        "duration": 0,
        "start_time": "2022-08-03T17:33:04.351Z"
      },
      {
        "duration": 3,
        "start_time": "2022-08-03T17:34:47.930Z"
      },
      {
        "duration": 758,
        "start_time": "2022-08-03T17:34:47.935Z"
      },
      {
        "duration": 16,
        "start_time": "2022-08-03T17:34:48.695Z"
      },
      {
        "duration": 117,
        "start_time": "2022-08-03T17:34:48.713Z"
      },
      {
        "duration": 473,
        "start_time": "2022-08-03T17:34:48.832Z"
      },
      {
        "duration": 508,
        "start_time": "2022-08-03T17:34:49.307Z"
      },
      {
        "duration": 102,
        "start_time": "2022-08-03T17:34:49.817Z"
      },
      {
        "duration": 31,
        "start_time": "2022-08-03T17:34:49.921Z"
      },
      {
        "duration": 88,
        "start_time": "2022-08-03T17:34:49.954Z"
      },
      {
        "duration": 201,
        "start_time": "2022-08-03T17:34:50.044Z"
      },
      {
        "duration": 3,
        "start_time": "2022-08-03T17:34:50.248Z"
      },
      {
        "duration": 178,
        "start_time": "2022-08-03T17:34:50.253Z"
      },
      {
        "duration": 4,
        "start_time": "2022-08-03T17:34:50.433Z"
      },
      {
        "duration": 23,
        "start_time": "2022-08-03T17:34:50.439Z"
      },
      {
        "duration": 213591,
        "start_time": "2022-08-03T17:34:50.463Z"
      },
      {
        "duration": 4,
        "start_time": "2022-08-03T17:38:24.056Z"
      },
      {
        "duration": 9,
        "start_time": "2022-08-03T17:38:24.062Z"
      },
      {
        "duration": 4,
        "start_time": "2022-08-03T17:48:26.164Z"
      },
      {
        "duration": 718,
        "start_time": "2022-08-03T17:48:26.170Z"
      },
      {
        "duration": 17,
        "start_time": "2022-08-03T17:48:26.890Z"
      },
      {
        "duration": 120,
        "start_time": "2022-08-03T17:48:26.910Z"
      },
      {
        "duration": 410,
        "start_time": "2022-08-03T17:48:27.033Z"
      },
      {
        "duration": 492,
        "start_time": "2022-08-03T17:48:27.445Z"
      },
      {
        "duration": 97,
        "start_time": "2022-08-03T17:48:27.939Z"
      },
      {
        "duration": 29,
        "start_time": "2022-08-03T17:48:28.038Z"
      },
      {
        "duration": 93,
        "start_time": "2022-08-03T17:48:28.070Z"
      },
      {
        "duration": 209,
        "start_time": "2022-08-03T17:48:28.166Z"
      },
      {
        "duration": 4,
        "start_time": "2022-08-03T17:48:28.377Z"
      },
      {
        "duration": 164,
        "start_time": "2022-08-03T17:48:28.383Z"
      },
      {
        "duration": 4,
        "start_time": "2022-08-03T17:48:28.549Z"
      },
      {
        "duration": 6,
        "start_time": "2022-08-03T17:48:28.554Z"
      },
      {
        "duration": 245262,
        "start_time": "2022-08-03T17:48:28.562Z"
      },
      {
        "duration": 4,
        "start_time": "2022-08-03T17:52:33.826Z"
      },
      {
        "duration": 4,
        "start_time": "2022-08-03T17:52:33.832Z"
      },
      {
        "duration": 5,
        "start_time": "2022-08-03T17:58:14.582Z"
      },
      {
        "duration": 755,
        "start_time": "2022-08-03T17:58:14.589Z"
      },
      {
        "duration": 14,
        "start_time": "2022-08-03T17:58:15.346Z"
      },
      {
        "duration": 122,
        "start_time": "2022-08-03T17:58:15.362Z"
      },
      {
        "duration": 406,
        "start_time": "2022-08-03T17:58:15.486Z"
      },
      {
        "duration": 498,
        "start_time": "2022-08-03T17:58:15.894Z"
      },
      {
        "duration": 110,
        "start_time": "2022-08-03T17:58:16.394Z"
      },
      {
        "duration": 29,
        "start_time": "2022-08-03T17:58:16.506Z"
      },
      {
        "duration": 97,
        "start_time": "2022-08-03T17:58:16.536Z"
      },
      {
        "duration": 210,
        "start_time": "2022-08-03T17:58:16.635Z"
      },
      {
        "duration": 5,
        "start_time": "2022-08-03T17:58:16.847Z"
      },
      {
        "duration": 165,
        "start_time": "2022-08-03T17:58:16.853Z"
      },
      {
        "duration": 4,
        "start_time": "2022-08-03T17:58:17.020Z"
      },
      {
        "duration": 7,
        "start_time": "2022-08-03T17:58:17.025Z"
      },
      {
        "duration": 259121,
        "start_time": "2022-08-03T17:58:17.034Z"
      },
      {
        "duration": 4,
        "start_time": "2022-08-03T18:02:36.156Z"
      },
      {
        "duration": 6,
        "start_time": "2022-08-03T18:02:36.161Z"
      },
      {
        "duration": 3,
        "start_time": "2022-08-03T18:11:07.631Z"
      },
      {
        "duration": 6901,
        "start_time": "2022-08-03T18:11:08.566Z"
      },
      {
        "duration": 4,
        "start_time": "2022-08-03T18:11:40.982Z"
      },
      {
        "duration": 738,
        "start_time": "2022-08-03T18:11:40.988Z"
      },
      {
        "duration": 15,
        "start_time": "2022-08-03T18:11:41.728Z"
      },
      {
        "duration": 119,
        "start_time": "2022-08-03T18:11:41.744Z"
      },
      {
        "duration": 406,
        "start_time": "2022-08-03T18:11:41.865Z"
      },
      {
        "duration": 498,
        "start_time": "2022-08-03T18:11:42.273Z"
      },
      {
        "duration": 100,
        "start_time": "2022-08-03T18:11:42.772Z"
      },
      {
        "duration": 40,
        "start_time": "2022-08-03T18:11:42.874Z"
      },
      {
        "duration": 73,
        "start_time": "2022-08-03T18:11:42.916Z"
      },
      {
        "duration": 213,
        "start_time": "2022-08-03T18:11:42.991Z"
      },
      {
        "duration": 4,
        "start_time": "2022-08-03T18:11:43.207Z"
      },
      {
        "duration": 158,
        "start_time": "2022-08-03T18:11:43.212Z"
      },
      {
        "duration": 4,
        "start_time": "2022-08-03T18:11:43.371Z"
      },
      {
        "duration": 6,
        "start_time": "2022-08-03T18:11:43.377Z"
      },
      {
        "duration": 273099,
        "start_time": "2022-08-03T18:11:43.384Z"
      },
      {
        "duration": 4,
        "start_time": "2022-08-03T18:16:16.485Z"
      },
      {
        "duration": 10553,
        "start_time": "2022-08-03T18:16:16.491Z"
      },
      {
        "duration": 3,
        "start_time": "2022-08-03T18:16:27.046Z"
      },
      {
        "duration": 1715,
        "start_time": "2022-08-04T17:34:07.156Z"
      },
      {
        "duration": 2839,
        "start_time": "2022-08-04T17:34:08.873Z"
      },
      {
        "duration": 18,
        "start_time": "2022-08-04T17:34:11.714Z"
      },
      {
        "duration": 125,
        "start_time": "2022-08-04T17:34:11.734Z"
      },
      {
        "duration": 518,
        "start_time": "2022-08-04T17:34:11.867Z"
      },
      {
        "duration": 639,
        "start_time": "2022-08-04T17:34:12.387Z"
      },
      {
        "duration": 111,
        "start_time": "2022-08-04T17:34:13.028Z"
      },
      {
        "duration": 39,
        "start_time": "2022-08-04T17:34:13.141Z"
      },
      {
        "duration": 92,
        "start_time": "2022-08-04T17:34:13.182Z"
      },
      {
        "duration": 220,
        "start_time": "2022-08-04T17:34:13.276Z"
      },
      {
        "duration": 4,
        "start_time": "2022-08-04T17:34:13.498Z"
      },
      {
        "duration": 222,
        "start_time": "2022-08-04T17:34:13.505Z"
      },
      {
        "duration": 4,
        "start_time": "2022-08-04T17:34:13.729Z"
      },
      {
        "duration": 17,
        "start_time": "2022-08-04T17:34:13.734Z"
      },
      {
        "duration": 189,
        "start_time": "2022-08-04T17:34:13.753Z"
      },
      {
        "duration": 10,
        "start_time": "2022-08-04T17:34:13.944Z"
      },
      {
        "duration": 0,
        "start_time": "2022-08-04T17:34:13.955Z"
      },
      {
        "duration": 0,
        "start_time": "2022-08-04T17:34:13.957Z"
      },
      {
        "duration": 319127,
        "start_time": "2022-08-04T17:34:20.955Z"
      },
      {
        "duration": 5,
        "start_time": "2022-08-04T17:39:46.637Z"
      },
      {
        "duration": 11539,
        "start_time": "2022-08-04T17:39:52.656Z"
      },
      {
        "duration": 13,
        "start_time": "2022-08-04T17:40:24.380Z"
      },
      {
        "duration": 13,
        "start_time": "2022-08-04T17:40:37.383Z"
      },
      {
        "duration": 3,
        "start_time": "2022-08-04T17:40:49.858Z"
      },
      {
        "duration": 43,
        "start_time": "2022-08-04T17:45:09.166Z"
      },
      {
        "duration": 10,
        "start_time": "2022-08-04T17:45:30.590Z"
      },
      {
        "duration": 100369,
        "start_time": "2022-08-04T17:45:34.955Z"
      },
      {
        "duration": 14,
        "start_time": "2022-08-04T17:51:24.064Z"
      },
      {
        "duration": 18,
        "start_time": "2022-08-04T17:51:39.042Z"
      },
      {
        "duration": 13,
        "start_time": "2022-08-04T17:52:00.657Z"
      },
      {
        "duration": 12,
        "start_time": "2022-08-04T17:52:31.033Z"
      },
      {
        "duration": 99,
        "start_time": "2022-08-04T17:52:41.919Z"
      },
      {
        "duration": 14,
        "start_time": "2022-08-04T17:52:46.182Z"
      },
      {
        "duration": 148,
        "start_time": "2022-08-04T17:53:30.983Z"
      },
      {
        "duration": 129,
        "start_time": "2022-08-04T17:55:42.319Z"
      },
      {
        "duration": 149,
        "start_time": "2022-08-04T17:55:51.967Z"
      },
      {
        "duration": 3158,
        "start_time": "2022-08-04T17:55:57.715Z"
      },
      {
        "duration": 159,
        "start_time": "2022-08-04T17:56:15.119Z"
      },
      {
        "duration": 9167,
        "start_time": "2022-08-04T17:56:47.924Z"
      },
      {
        "duration": 165,
        "start_time": "2022-08-04T17:57:16.419Z"
      },
      {
        "duration": 2268,
        "start_time": "2022-08-04T17:59:20.158Z"
      },
      {
        "duration": 104,
        "start_time": "2022-08-04T17:59:37.642Z"
      },
      {
        "duration": 133,
        "start_time": "2022-08-04T18:00:29.037Z"
      },
      {
        "duration": 139,
        "start_time": "2022-08-04T18:00:55.284Z"
      },
      {
        "duration": 129,
        "start_time": "2022-08-04T18:01:04.532Z"
      },
      {
        "duration": 151,
        "start_time": "2022-08-04T18:01:28.884Z"
      },
      {
        "duration": 130,
        "start_time": "2022-08-04T18:02:28.149Z"
      },
      {
        "duration": 149,
        "start_time": "2022-08-04T18:03:41.165Z"
      },
      {
        "duration": 12,
        "start_time": "2022-08-04T18:04:01.267Z"
      },
      {
        "duration": 139,
        "start_time": "2022-08-04T18:04:14.536Z"
      },
      {
        "duration": 134,
        "start_time": "2022-08-04T18:04:23.822Z"
      },
      {
        "duration": 127,
        "start_time": "2022-08-04T18:04:37.827Z"
      },
      {
        "duration": 11,
        "start_time": "2022-08-04T18:06:10.466Z"
      },
      {
        "duration": 33,
        "start_time": "2022-08-04T18:06:21.283Z"
      },
      {
        "duration": 154,
        "start_time": "2022-08-04T18:06:33.917Z"
      },
      {
        "duration": 58,
        "start_time": "2022-08-04T18:08:13.556Z"
      },
      {
        "duration": 177,
        "start_time": "2022-08-04T18:08:23.483Z"
      },
      {
        "duration": 209,
        "start_time": "2022-08-04T18:09:00.931Z"
      },
      {
        "duration": 133,
        "start_time": "2022-08-04T18:09:37.438Z"
      },
      {
        "duration": 43,
        "start_time": "2022-08-04T18:10:11.061Z"
      },
      {
        "duration": 4,
        "start_time": "2022-08-04T18:10:32.286Z"
      },
      {
        "duration": 181,
        "start_time": "2022-08-04T18:10:42.948Z"
      },
      {
        "duration": 4,
        "start_time": "2022-08-04T18:11:03.456Z"
      },
      {
        "duration": 820,
        "start_time": "2022-08-04T18:11:03.462Z"
      },
      {
        "duration": 14,
        "start_time": "2022-08-04T18:11:04.284Z"
      },
      {
        "duration": 125,
        "start_time": "2022-08-04T18:11:04.299Z"
      },
      {
        "duration": 412,
        "start_time": "2022-08-04T18:11:04.427Z"
      },
      {
        "duration": 536,
        "start_time": "2022-08-04T18:11:04.840Z"
      },
      {
        "duration": 102,
        "start_time": "2022-08-04T18:11:05.377Z"
      },
      {
        "duration": 27,
        "start_time": "2022-08-04T18:11:05.481Z"
      },
      {
        "duration": 2,
        "start_time": "2022-08-04T18:11:05.511Z"
      },
      {
        "duration": 164,
        "start_time": "2022-08-04T18:11:05.515Z"
      },
      {
        "duration": 154,
        "start_time": "2022-08-04T18:11:05.682Z"
      },
      {
        "duration": 187,
        "start_time": "2022-08-04T18:11:05.838Z"
      },
      {
        "duration": 88,
        "start_time": "2022-08-04T18:11:06.027Z"
      },
      {
        "duration": 191,
        "start_time": "2022-08-04T18:11:06.117Z"
      },
      {
        "duration": 4,
        "start_time": "2022-08-04T18:11:06.310Z"
      },
      {
        "duration": 188,
        "start_time": "2022-08-04T18:11:06.316Z"
      },
      {
        "duration": 5,
        "start_time": "2022-08-04T18:11:06.507Z"
      },
      {
        "duration": 26,
        "start_time": "2022-08-04T18:11:06.514Z"
      },
      {
        "duration": 292022,
        "start_time": "2022-08-04T18:11:06.543Z"
      },
      {
        "duration": 4,
        "start_time": "2022-08-04T18:15:58.567Z"
      },
      {
        "duration": 7737,
        "start_time": "2022-08-04T18:15:58.572Z"
      },
      {
        "duration": 218,
        "start_time": "2022-08-04T18:41:23.036Z"
      },
      {
        "duration": 857,
        "start_time": "2022-08-04T18:41:23.256Z"
      },
      {
        "duration": 15,
        "start_time": "2022-08-04T18:41:24.115Z"
      },
      {
        "duration": 154,
        "start_time": "2022-08-04T18:41:24.133Z"
      },
      {
        "duration": 453,
        "start_time": "2022-08-04T18:41:24.296Z"
      },
      {
        "duration": 604,
        "start_time": "2022-08-04T18:41:24.751Z"
      },
      {
        "duration": 147,
        "start_time": "2022-08-04T18:41:25.357Z"
      },
      {
        "duration": 28,
        "start_time": "2022-08-04T18:41:25.506Z"
      },
      {
        "duration": 28,
        "start_time": "2022-08-04T18:41:25.536Z"
      },
      {
        "duration": 194,
        "start_time": "2022-08-04T18:41:25.571Z"
      },
      {
        "duration": 153,
        "start_time": "2022-08-04T18:41:25.769Z"
      },
      {
        "duration": 214,
        "start_time": "2022-08-04T18:41:25.924Z"
      },
      {
        "duration": 93,
        "start_time": "2022-08-04T18:41:26.140Z"
      },
      {
        "duration": 220,
        "start_time": "2022-08-04T18:41:26.235Z"
      },
      {
        "duration": 6,
        "start_time": "2022-08-04T18:41:26.457Z"
      },
      {
        "duration": 255,
        "start_time": "2022-08-04T18:41:26.470Z"
      },
      {
        "duration": 5,
        "start_time": "2022-08-04T18:41:26.728Z"
      },
      {
        "duration": 22,
        "start_time": "2022-08-04T18:41:26.735Z"
      },
      {
        "duration": 353985,
        "start_time": "2022-08-04T18:41:26.761Z"
      },
      {
        "duration": 5,
        "start_time": "2022-08-04T18:47:20.748Z"
      },
      {
        "duration": 12196,
        "start_time": "2022-08-04T18:47:20.754Z"
      },
      {
        "duration": 20,
        "start_time": "2022-08-04T18:47:32.952Z"
      },
      {
        "duration": 0,
        "start_time": "2022-08-04T18:47:32.974Z"
      },
      {
        "duration": 0,
        "start_time": "2022-08-04T18:47:32.976Z"
      },
      {
        "duration": 0,
        "start_time": "2022-08-04T18:47:32.977Z"
      },
      {
        "duration": 5,
        "start_time": "2022-08-04T18:48:12.934Z"
      },
      {
        "duration": 12,
        "start_time": "2022-08-04T18:48:22.742Z"
      },
      {
        "duration": 4,
        "start_time": "2022-08-04T18:48:42.437Z"
      },
      {
        "duration": 120,
        "start_time": "2022-08-04T18:48:48.432Z"
      },
      {
        "duration": 15,
        "start_time": "2022-08-04T18:51:38.632Z"
      },
      {
        "duration": 5,
        "start_time": "2022-08-04T18:53:09.640Z"
      },
      {
        "duration": 127,
        "start_time": "2022-08-04T18:53:17.866Z"
      },
      {
        "duration": 4,
        "start_time": "2022-08-04T18:53:36.209Z"
      },
      {
        "duration": 959,
        "start_time": "2022-08-04T18:53:36.234Z"
      },
      {
        "duration": 17,
        "start_time": "2022-08-04T18:53:37.195Z"
      },
      {
        "duration": 144,
        "start_time": "2022-08-04T18:53:37.214Z"
      },
      {
        "duration": 496,
        "start_time": "2022-08-04T18:53:37.360Z"
      },
      {
        "duration": 593,
        "start_time": "2022-08-04T18:53:37.859Z"
      },
      {
        "duration": 130,
        "start_time": "2022-08-04T18:53:38.454Z"
      },
      {
        "duration": 27,
        "start_time": "2022-08-04T18:53:38.587Z"
      },
      {
        "duration": 3,
        "start_time": "2022-08-04T18:53:38.616Z"
      },
      {
        "duration": 178,
        "start_time": "2022-08-04T18:53:38.621Z"
      },
      {
        "duration": 151,
        "start_time": "2022-08-04T18:53:38.801Z"
      },
      {
        "duration": 237,
        "start_time": "2022-08-04T18:53:38.954Z"
      },
      {
        "duration": 109,
        "start_time": "2022-08-04T18:53:39.193Z"
      },
      {
        "duration": 214,
        "start_time": "2022-08-04T18:53:39.303Z"
      },
      {
        "duration": 4,
        "start_time": "2022-08-04T18:53:39.520Z"
      },
      {
        "duration": 186,
        "start_time": "2022-08-04T18:53:39.526Z"
      },
      {
        "duration": 4,
        "start_time": "2022-08-04T18:53:39.714Z"
      },
      {
        "duration": 10,
        "start_time": "2022-08-04T18:53:39.720Z"
      },
      {
        "duration": 348848,
        "start_time": "2022-08-04T18:53:39.732Z"
      },
      {
        "duration": 6,
        "start_time": "2022-08-04T18:59:28.582Z"
      },
      {
        "duration": 10526,
        "start_time": "2022-08-04T18:59:28.590Z"
      },
      {
        "duration": 5,
        "start_time": "2022-08-04T18:59:39.118Z"
      },
      {
        "duration": 134,
        "start_time": "2022-08-04T18:59:39.124Z"
      },
      {
        "duration": 20,
        "start_time": "2022-08-04T18:59:39.261Z"
      },
      {
        "duration": 0,
        "start_time": "2022-08-04T18:59:39.284Z"
      },
      {
        "duration": 1223,
        "start_time": "2022-08-04T19:04:06.160Z"
      },
      {
        "duration": 123,
        "start_time": "2022-08-04T19:04:07.385Z"
      },
      {
        "duration": 1066,
        "start_time": "2022-08-04T19:05:17.639Z"
      },
      {
        "duration": 3144,
        "start_time": "2022-08-04T19:05:18.934Z"
      },
      {
        "duration": 18,
        "start_time": "2022-08-04T19:05:43.638Z"
      },
      {
        "duration": 307983,
        "start_time": "2022-08-04T19:07:05.464Z"
      },
      {
        "duration": 5,
        "start_time": "2022-08-04T19:12:13.449Z"
      },
      {
        "duration": 116,
        "start_time": "2022-08-04T19:12:13.468Z"
      },
      {
        "duration": 16969,
        "start_time": "2022-08-04T19:15:41.986Z"
      },
      {
        "duration": 50,
        "start_time": "2022-08-05T12:22:28.625Z"
      },
      {
        "duration": 1565,
        "start_time": "2022-08-05T12:27:58.272Z"
      },
      {
        "duration": 3149,
        "start_time": "2022-08-05T12:27:59.838Z"
      },
      {
        "duration": 21,
        "start_time": "2022-08-05T12:28:02.989Z"
      },
      {
        "duration": 125,
        "start_time": "2022-08-05T12:28:03.012Z"
      },
      {
        "duration": 451,
        "start_time": "2022-08-05T12:28:03.138Z"
      },
      {
        "duration": 538,
        "start_time": "2022-08-05T12:28:03.591Z"
      },
      {
        "duration": 92,
        "start_time": "2022-08-05T12:28:04.131Z"
      },
      {
        "duration": 29,
        "start_time": "2022-08-05T12:28:04.225Z"
      },
      {
        "duration": 2,
        "start_time": "2022-08-05T12:28:04.256Z"
      },
      {
        "duration": 159,
        "start_time": "2022-08-05T12:28:04.260Z"
      },
      {
        "duration": 120,
        "start_time": "2022-08-05T12:28:04.420Z"
      },
      {
        "duration": 169,
        "start_time": "2022-08-05T12:28:04.541Z"
      },
      {
        "duration": 88,
        "start_time": "2022-08-05T12:28:04.711Z"
      },
      {
        "duration": 213,
        "start_time": "2022-08-05T12:28:04.801Z"
      },
      {
        "duration": 4,
        "start_time": "2022-08-05T12:28:05.015Z"
      },
      {
        "duration": 180,
        "start_time": "2022-08-05T12:28:05.020Z"
      },
      {
        "duration": 3,
        "start_time": "2022-08-05T12:28:05.202Z"
      },
      {
        "duration": 24,
        "start_time": "2022-08-05T12:28:05.206Z"
      },
      {
        "duration": 273784,
        "start_time": "2022-08-05T12:28:05.231Z"
      },
      {
        "duration": 4,
        "start_time": "2022-08-05T12:32:39.017Z"
      },
      {
        "duration": 8745,
        "start_time": "2022-08-05T12:32:39.023Z"
      },
      {
        "duration": 10,
        "start_time": "2022-08-05T12:32:47.770Z"
      },
      {
        "duration": 1445,
        "start_time": "2022-08-05T12:32:47.781Z"
      },
      {
        "duration": 0,
        "start_time": "2022-08-05T12:32:49.227Z"
      },
      {
        "duration": 0,
        "start_time": "2022-08-05T12:32:49.229Z"
      },
      {
        "duration": 0,
        "start_time": "2022-08-05T12:32:49.230Z"
      },
      {
        "duration": 1079,
        "start_time": "2022-08-05T12:33:49.442Z"
      },
      {
        "duration": 1996,
        "start_time": "2022-08-05T12:34:13.147Z"
      },
      {
        "duration": 2177,
        "start_time": "2022-08-05T12:34:45.998Z"
      },
      {
        "duration": 31,
        "start_time": "2022-08-05T12:35:05.012Z"
      },
      {
        "duration": 16,
        "start_time": "2022-08-05T12:36:03.200Z"
      },
      {
        "duration": 1872203,
        "start_time": "2022-08-05T12:36:14.986Z"
      },
      {
        "duration": 6,
        "start_time": "2022-08-05T13:07:27.199Z"
      },
      {
        "duration": 98030,
        "start_time": "2022-08-05T13:07:27.207Z"
      },
      {
        "duration": 73,
        "start_time": "2022-08-05T13:17:16.501Z"
      },
      {
        "duration": 21,
        "start_time": "2022-08-05T13:17:21.675Z"
      },
      {
        "duration": 25,
        "start_time": "2022-08-05T13:18:14.470Z"
      },
      {
        "duration": 90,
        "start_time": "2022-08-05T13:24:28.107Z"
      },
      {
        "duration": 94,
        "start_time": "2022-08-05T13:24:31.573Z"
      },
      {
        "duration": 107,
        "start_time": "2022-08-05T13:40:17.090Z"
      },
      {
        "duration": 29,
        "start_time": "2022-08-05T13:40:36.984Z"
      },
      {
        "duration": 10,
        "start_time": "2022-08-05T13:40:46.288Z"
      },
      {
        "duration": 3,
        "start_time": "2022-08-05T13:40:50.943Z"
      },
      {
        "duration": 829,
        "start_time": "2022-08-05T13:40:51.922Z"
      },
      {
        "duration": 4,
        "start_time": "2022-08-05T13:40:52.752Z"
      },
      {
        "duration": 28,
        "start_time": "2022-08-05T13:40:52.758Z"
      },
      {
        "duration": 1165,
        "start_time": "2022-08-05T13:41:10.468Z"
      },
      {
        "duration": 4,
        "start_time": "2022-08-05T13:43:26.339Z"
      },
      {
        "duration": 1191,
        "start_time": "2022-08-05T13:43:29.898Z"
      },
      {
        "duration": 120,
        "start_time": "2022-08-05T13:53:20.050Z"
      },
      {
        "duration": 102,
        "start_time": "2022-08-05T13:53:48.927Z"
      },
      {
        "duration": 13,
        "start_time": "2022-08-05T13:53:50.071Z"
      },
      {
        "duration": 5,
        "start_time": "2022-08-05T13:55:16.643Z"
      },
      {
        "duration": 2,
        "start_time": "2022-08-05T13:55:28.543Z"
      },
      {
        "duration": 1195,
        "start_time": "2022-08-05T13:55:38.972Z"
      },
      {
        "duration": 111,
        "start_time": "2022-08-05T14:02:41.364Z"
      },
      {
        "duration": 4,
        "start_time": "2022-08-05T14:02:45.122Z"
      },
      {
        "duration": 3,
        "start_time": "2022-08-05T14:02:45.824Z"
      },
      {
        "duration": 116,
        "start_time": "2022-08-05T14:02:46.785Z"
      },
      {
        "duration": 5,
        "start_time": "2022-08-05T14:03:26.326Z"
      },
      {
        "duration": 3,
        "start_time": "2022-08-05T14:03:27.020Z"
      },
      {
        "duration": 103,
        "start_time": "2022-08-05T14:03:28.231Z"
      },
      {
        "duration": 5,
        "start_time": "2022-08-05T14:30:15.737Z"
      },
      {
        "duration": 3,
        "start_time": "2022-08-05T14:30:16.954Z"
      },
      {
        "duration": 938234,
        "start_time": "2022-08-05T14:30:17.882Z"
      },
      {
        "duration": 78,
        "start_time": "2022-08-05T14:45:56.117Z"
      },
      {
        "duration": 44,
        "start_time": "2022-08-05T14:45:56.197Z"
      },
      {
        "duration": 76120,
        "start_time": "2022-08-05T14:50:51.775Z"
      },
      {
        "duration": 59,
        "start_time": "2022-08-06T18:53:37.335Z"
      },
      {
        "duration": 1778,
        "start_time": "2022-08-06T18:53:41.900Z"
      },
      {
        "duration": 1317,
        "start_time": "2022-08-06T18:53:43.680Z"
      },
      {
        "duration": 44,
        "start_time": "2022-08-06T18:53:44.999Z"
      },
      {
        "duration": 166,
        "start_time": "2022-08-06T18:53:45.045Z"
      },
      {
        "duration": 534,
        "start_time": "2022-08-06T18:53:45.212Z"
      },
      {
        "duration": 659,
        "start_time": "2022-08-06T18:53:45.748Z"
      },
      {
        "duration": 94,
        "start_time": "2022-08-06T18:53:46.409Z"
      },
      {
        "duration": 44,
        "start_time": "2022-08-06T18:53:46.504Z"
      },
      {
        "duration": 34,
        "start_time": "2022-08-06T18:53:46.550Z"
      },
      {
        "duration": 169,
        "start_time": "2022-08-06T18:53:46.587Z"
      },
      {
        "duration": 136,
        "start_time": "2022-08-06T18:53:46.758Z"
      },
      {
        "duration": 186,
        "start_time": "2022-08-06T18:53:46.896Z"
      },
      {
        "duration": 108,
        "start_time": "2022-08-06T18:53:47.084Z"
      },
      {
        "duration": 344,
        "start_time": "2022-08-06T18:53:47.198Z"
      },
      {
        "duration": 4,
        "start_time": "2022-08-06T18:53:47.544Z"
      },
      {
        "duration": 224,
        "start_time": "2022-08-06T18:53:47.551Z"
      },
      {
        "duration": 4,
        "start_time": "2022-08-06T18:53:47.777Z"
      },
      {
        "duration": 6,
        "start_time": "2022-08-06T18:53:47.782Z"
      },
      {
        "duration": 265491,
        "start_time": "2022-08-06T18:53:47.790Z"
      },
      {
        "duration": 5,
        "start_time": "2022-08-06T18:58:13.282Z"
      },
      {
        "duration": 6753,
        "start_time": "2022-08-06T18:58:13.288Z"
      },
      {
        "duration": 1640,
        "start_time": "2022-08-06T18:58:20.043Z"
      },
      {
        "duration": 0,
        "start_time": "2022-08-06T18:58:21.684Z"
      },
      {
        "duration": 0,
        "start_time": "2022-08-06T18:58:21.686Z"
      },
      {
        "duration": 0,
        "start_time": "2022-08-06T18:58:21.687Z"
      },
      {
        "duration": 0,
        "start_time": "2022-08-06T18:58:21.689Z"
      },
      {
        "duration": 0,
        "start_time": "2022-08-06T18:58:21.691Z"
      },
      {
        "duration": 0,
        "start_time": "2022-08-06T18:58:21.692Z"
      },
      {
        "duration": 0,
        "start_time": "2022-08-06T18:58:21.693Z"
      },
      {
        "duration": 0,
        "start_time": "2022-08-06T18:58:21.709Z"
      },
      {
        "duration": 0,
        "start_time": "2022-08-06T18:58:21.710Z"
      },
      {
        "duration": 4,
        "start_time": "2022-08-06T18:59:34.323Z"
      },
      {
        "duration": 4,
        "start_time": "2022-08-06T18:59:37.864Z"
      },
      {
        "duration": 859,
        "start_time": "2022-08-06T18:59:37.870Z"
      },
      {
        "duration": 19,
        "start_time": "2022-08-06T18:59:38.731Z"
      },
      {
        "duration": 140,
        "start_time": "2022-08-06T18:59:38.752Z"
      },
      {
        "duration": 430,
        "start_time": "2022-08-06T18:59:38.894Z"
      },
      {
        "duration": 500,
        "start_time": "2022-08-06T18:59:39.326Z"
      },
      {
        "duration": 92,
        "start_time": "2022-08-06T18:59:39.828Z"
      },
      {
        "duration": 25,
        "start_time": "2022-08-06T18:59:39.925Z"
      },
      {
        "duration": 23,
        "start_time": "2022-08-06T18:59:39.952Z"
      },
      {
        "duration": 151,
        "start_time": "2022-08-06T18:59:39.977Z"
      },
      {
        "duration": 137,
        "start_time": "2022-08-06T18:59:40.131Z"
      },
      {
        "duration": 184,
        "start_time": "2022-08-06T18:59:40.270Z"
      },
      {
        "duration": 96,
        "start_time": "2022-08-06T18:59:40.456Z"
      },
      {
        "duration": 219,
        "start_time": "2022-08-06T18:59:40.554Z"
      },
      {
        "duration": 3,
        "start_time": "2022-08-06T18:59:40.775Z"
      },
      {
        "duration": 166,
        "start_time": "2022-08-06T18:59:40.779Z"
      },
      {
        "duration": 5,
        "start_time": "2022-08-06T18:59:40.947Z"
      },
      {
        "duration": 11,
        "start_time": "2022-08-06T18:59:40.955Z"
      },
      {
        "duration": 327384,
        "start_time": "2022-08-06T18:59:40.967Z"
      },
      {
        "duration": 4,
        "start_time": "2022-08-06T19:05:08.352Z"
      },
      {
        "duration": 8278,
        "start_time": "2022-08-06T19:05:08.358Z"
      },
      {
        "duration": 1753,
        "start_time": "2022-08-06T19:05:16.638Z"
      },
      {
        "duration": 1717640,
        "start_time": "2022-08-06T19:05:18.393Z"
      },
      {
        "duration": 6,
        "start_time": "2022-08-06T19:33:56.035Z"
      },
      {
        "duration": 63078,
        "start_time": "2022-08-06T19:33:56.043Z"
      },
      {
        "duration": 5,
        "start_time": "2022-08-06T19:34:59.122Z"
      },
      {
        "duration": 8,
        "start_time": "2022-08-06T19:34:59.128Z"
      },
      {
        "duration": 1664779,
        "start_time": "2022-08-06T19:34:59.138Z"
      },
      {
        "duration": 4,
        "start_time": "2022-08-06T20:02:43.919Z"
      },
      {
        "duration": 4997,
        "start_time": "2022-08-06T20:02:43.925Z"
      },
      {
        "duration": 0,
        "start_time": "2022-08-06T20:02:49.014Z"
      },
      {
        "duration": 0,
        "start_time": "2022-08-06T20:02:49.015Z"
      },
      {
        "duration": 3,
        "start_time": "2022-08-06T20:06:05.787Z"
      },
      {
        "duration": 11,
        "start_time": "2022-08-06T20:06:07.319Z"
      },
      {
        "duration": 48,
        "start_time": "2022-08-08T08:56:20.515Z"
      },
      {
        "duration": 1835,
        "start_time": "2022-08-08T08:56:36.581Z"
      },
      {
        "duration": 1061,
        "start_time": "2022-08-08T08:56:38.419Z"
      },
      {
        "duration": 22,
        "start_time": "2022-08-08T08:56:39.482Z"
      },
      {
        "duration": 136,
        "start_time": "2022-08-08T08:56:39.506Z"
      },
      {
        "duration": 481,
        "start_time": "2022-08-08T08:56:39.644Z"
      },
      {
        "duration": 538,
        "start_time": "2022-08-08T08:56:40.127Z"
      },
      {
        "duration": 93,
        "start_time": "2022-08-08T08:56:40.667Z"
      },
      {
        "duration": 38,
        "start_time": "2022-08-08T08:56:40.762Z"
      },
      {
        "duration": 38,
        "start_time": "2022-08-08T08:56:40.802Z"
      },
      {
        "duration": 132,
        "start_time": "2022-08-08T08:56:40.842Z"
      },
      {
        "duration": 127,
        "start_time": "2022-08-08T08:56:40.976Z"
      },
      {
        "duration": 156,
        "start_time": "2022-08-08T08:56:41.105Z"
      },
      {
        "duration": 65,
        "start_time": "2022-08-08T08:56:41.263Z"
      },
      {
        "duration": 223,
        "start_time": "2022-08-08T08:56:41.331Z"
      },
      {
        "duration": 184,
        "start_time": "2022-08-08T08:56:41.555Z"
      },
      {
        "duration": 3,
        "start_time": "2022-08-08T08:56:41.741Z"
      },
      {
        "duration": 36,
        "start_time": "2022-08-08T08:56:41.745Z"
      },
      {
        "duration": 248834,
        "start_time": "2022-08-08T08:56:41.783Z"
      },
      {
        "duration": 3,
        "start_time": "2022-08-08T09:00:50.619Z"
      },
      {
        "duration": 9879,
        "start_time": "2022-08-08T09:00:50.623Z"
      },
      {
        "duration": 1995,
        "start_time": "2022-08-08T09:01:00.503Z"
      },
      {
        "duration": 2278652,
        "start_time": "2022-08-08T09:01:02.500Z"
      },
      {
        "duration": 3,
        "start_time": "2022-08-08T09:39:01.154Z"
      },
      {
        "duration": 160248,
        "start_time": "2022-08-08T09:39:01.159Z"
      },
      {
        "duration": 4,
        "start_time": "2022-08-08T09:41:41.409Z"
      },
      {
        "duration": 27,
        "start_time": "2022-08-08T09:41:41.414Z"
      },
      {
        "duration": 207364,
        "start_time": "2022-08-08T09:41:41.443Z"
      },
      {
        "duration": 3,
        "start_time": "2022-08-08T09:45:08.809Z"
      },
      {
        "duration": 6293,
        "start_time": "2022-08-08T09:45:08.813Z"
      },
      {
        "duration": 9,
        "start_time": "2022-08-08T09:45:15.107Z"
      },
      {
        "duration": 59,
        "start_time": "2022-08-08T09:45:15.117Z"
      },
      {
        "duration": 0,
        "start_time": "2022-08-08T09:45:15.178Z"
      },
      {
        "duration": 9559,
        "start_time": "2022-08-08T09:46:34.578Z"
      },
      {
        "duration": 85,
        "start_time": "2022-08-08T17:43:35.717Z"
      },
      {
        "duration": 1637,
        "start_time": "2022-08-08T18:03:48.322Z"
      },
      {
        "duration": 1022,
        "start_time": "2022-08-08T18:03:49.961Z"
      },
      {
        "duration": 22,
        "start_time": "2022-08-08T18:03:50.984Z"
      },
      {
        "duration": 110,
        "start_time": "2022-08-08T18:03:51.007Z"
      },
      {
        "duration": 397,
        "start_time": "2022-08-08T18:03:51.119Z"
      },
      {
        "duration": 473,
        "start_time": "2022-08-08T18:03:51.517Z"
      },
      {
        "duration": 93,
        "start_time": "2022-08-08T18:03:51.991Z"
      },
      {
        "duration": 39,
        "start_time": "2022-08-08T18:03:52.085Z"
      },
      {
        "duration": 38,
        "start_time": "2022-08-08T18:03:52.126Z"
      },
      {
        "duration": 128,
        "start_time": "2022-08-08T18:03:52.165Z"
      },
      {
        "duration": 122,
        "start_time": "2022-08-08T18:03:52.295Z"
      },
      {
        "duration": 184,
        "start_time": "2022-08-08T18:03:52.419Z"
      },
      {
        "duration": 93,
        "start_time": "2022-08-08T18:03:52.605Z"
      },
      {
        "duration": 194,
        "start_time": "2022-08-08T18:03:52.702Z"
      },
      {
        "duration": 151,
        "start_time": "2022-08-08T18:03:52.898Z"
      },
      {
        "duration": 3,
        "start_time": "2022-08-08T18:03:53.050Z"
      },
      {
        "duration": 5,
        "start_time": "2022-08-08T18:03:53.055Z"
      },
      {
        "duration": 274848,
        "start_time": "2022-08-08T18:03:53.061Z"
      },
      {
        "duration": 3,
        "start_time": "2022-08-08T18:08:27.910Z"
      },
      {
        "duration": 8823,
        "start_time": "2022-08-08T18:08:27.915Z"
      },
      {
        "duration": 123,
        "start_time": "2022-08-08T18:08:36.740Z"
      },
      {
        "duration": 0,
        "start_time": "2022-08-08T18:08:36.864Z"
      },
      {
        "duration": 0,
        "start_time": "2022-08-08T18:08:36.865Z"
      },
      {
        "duration": 0,
        "start_time": "2022-08-08T18:08:36.866Z"
      },
      {
        "duration": 0,
        "start_time": "2022-08-08T18:08:36.867Z"
      },
      {
        "duration": 1,
        "start_time": "2022-08-08T18:08:36.867Z"
      },
      {
        "duration": 0,
        "start_time": "2022-08-08T18:08:36.868Z"
      },
      {
        "duration": 0,
        "start_time": "2022-08-08T18:08:36.869Z"
      },
      {
        "duration": 0,
        "start_time": "2022-08-08T18:08:36.870Z"
      },
      {
        "duration": 0,
        "start_time": "2022-08-08T18:08:36.871Z"
      },
      {
        "duration": 0,
        "start_time": "2022-08-08T18:08:36.871Z"
      },
      {
        "duration": 16,
        "start_time": "2022-08-08T18:10:37.743Z"
      },
      {
        "duration": 88,
        "start_time": "2022-08-08T18:13:33.544Z"
      },
      {
        "duration": 87,
        "start_time": "2022-08-08T18:17:17.149Z"
      },
      {
        "duration": 87,
        "start_time": "2022-08-08T18:17:46.601Z"
      },
      {
        "duration": 91,
        "start_time": "2022-08-08T18:19:21.991Z"
      },
      {
        "duration": 81,
        "start_time": "2022-08-08T18:19:53.119Z"
      },
      {
        "duration": 5,
        "start_time": "2022-08-08T18:20:27.773Z"
      },
      {
        "duration": 87,
        "start_time": "2022-08-08T18:20:31.631Z"
      },
      {
        "duration": 94,
        "start_time": "2022-08-08T18:21:09.383Z"
      },
      {
        "duration": 827,
        "start_time": "2022-08-08T18:21:31.359Z"
      },
      {
        "duration": 84,
        "start_time": "2022-08-08T18:21:58.271Z"
      },
      {
        "duration": 88,
        "start_time": "2022-08-08T18:27:03.741Z"
      },
      {
        "duration": 87,
        "start_time": "2022-08-08T18:27:12.110Z"
      },
      {
        "duration": 87,
        "start_time": "2022-08-08T18:27:33.230Z"
      },
      {
        "duration": 102,
        "start_time": "2022-08-08T18:28:36.038Z"
      },
      {
        "duration": 968,
        "start_time": "2022-08-08T18:31:16.189Z"
      },
      {
        "duration": 1701,
        "start_time": "2022-08-08T18:31:39.989Z"
      },
      {
        "duration": 1948,
        "start_time": "2022-08-08T18:33:13.754Z"
      },
      {
        "duration": 290336,
        "start_time": "2022-08-08T18:33:28.168Z"
      },
      {
        "duration": 6,
        "start_time": "2022-08-08T18:38:18.506Z"
      },
      {
        "duration": 14763,
        "start_time": "2022-08-08T18:38:18.513Z"
      },
      {
        "duration": 4,
        "start_time": "2022-08-08T18:38:38.476Z"
      },
      {
        "duration": 3,
        "start_time": "2022-08-08T18:38:39.554Z"
      },
      {
        "duration": 92732,
        "start_time": "2022-08-08T19:08:20.388Z"
      },
      {
        "duration": 4,
        "start_time": "2022-08-08T19:09:53.211Z"
      },
      {
        "duration": 2405,
        "start_time": "2022-08-08T19:09:53.216Z"
      },
      {
        "duration": 99,
        "start_time": "2022-08-08T19:09:55.622Z"
      },
      {
        "duration": 0,
        "start_time": "2022-08-08T19:09:55.723Z"
      },
      {
        "duration": 15,
        "start_time": "2022-08-08T19:40:00.444Z"
      },
      {
        "duration": 1562,
        "start_time": "2022-08-09T08:08:58.041Z"
      },
      {
        "duration": 1119,
        "start_time": "2022-08-09T08:08:59.605Z"
      },
      {
        "duration": 22,
        "start_time": "2022-08-09T08:09:00.726Z"
      },
      {
        "duration": 106,
        "start_time": "2022-08-09T08:09:00.751Z"
      },
      {
        "duration": 457,
        "start_time": "2022-08-09T08:09:00.858Z"
      },
      {
        "duration": 584,
        "start_time": "2022-08-09T08:09:01.317Z"
      },
      {
        "duration": 98,
        "start_time": "2022-08-09T08:09:01.903Z"
      },
      {
        "duration": 32,
        "start_time": "2022-08-09T08:09:02.002Z"
      },
      {
        "duration": 91,
        "start_time": "2022-08-09T08:09:02.036Z"
      },
      {
        "duration": 147,
        "start_time": "2022-08-09T08:09:02.130Z"
      },
      {
        "duration": 114,
        "start_time": "2022-08-09T08:09:02.279Z"
      },
      {
        "duration": 151,
        "start_time": "2022-08-09T08:09:02.400Z"
      },
      {
        "duration": 68,
        "start_time": "2022-08-09T08:09:02.552Z"
      },
      {
        "duration": 159,
        "start_time": "2022-08-09T08:09:02.621Z"
      },
      {
        "duration": 184,
        "start_time": "2022-08-09T08:09:02.782Z"
      },
      {
        "duration": 4,
        "start_time": "2022-08-09T08:09:02.968Z"
      },
      {
        "duration": 26,
        "start_time": "2022-08-09T08:09:02.973Z"
      },
      {
        "duration": 232519,
        "start_time": "2022-08-09T08:09:03.001Z"
      },
      {
        "duration": 5,
        "start_time": "2022-08-09T08:12:55.521Z"
      },
      {
        "duration": 7137,
        "start_time": "2022-08-09T08:12:55.527Z"
      },
      {
        "duration": 1425,
        "start_time": "2022-08-09T08:13:02.665Z"
      },
      {
        "duration": 275428,
        "start_time": "2022-08-09T08:13:04.092Z"
      },
      {
        "duration": 3,
        "start_time": "2022-08-09T08:17:39.522Z"
      },
      {
        "duration": 13591,
        "start_time": "2022-08-09T08:17:39.527Z"
      },
      {
        "duration": 4,
        "start_time": "2022-08-09T08:17:53.119Z"
      },
      {
        "duration": 17,
        "start_time": "2022-08-09T08:17:53.124Z"
      },
      {
        "duration": 71674,
        "start_time": "2022-08-09T08:17:53.143Z"
      },
      {
        "duration": 4,
        "start_time": "2022-08-09T08:19:04.899Z"
      },
      {
        "duration": 3296,
        "start_time": "2022-08-09T08:19:04.905Z"
      },
      {
        "duration": 11,
        "start_time": "2022-08-09T08:19:08.203Z"
      },
      {
        "duration": 6577,
        "start_time": "2022-08-09T08:19:08.216Z"
      },
      {
        "duration": 2113,
        "start_time": "2022-08-09T08:21:42.391Z"
      },
      {
        "duration": 2411,
        "start_time": "2022-08-09T08:22:15.599Z"
      },
      {
        "duration": 60,
        "start_time": "2022-08-09T08:30:16.100Z"
      },
      {
        "duration": 4,
        "start_time": "2022-08-09T08:46:50.873Z"
      },
      {
        "duration": 653,
        "start_time": "2022-08-09T08:46:51.731Z"
      },
      {
        "duration": 18,
        "start_time": "2022-08-09T08:46:52.530Z"
      },
      {
        "duration": 137,
        "start_time": "2022-08-09T08:47:38.755Z"
      },
      {
        "duration": 135,
        "start_time": "2022-08-09T08:48:20.029Z"
      },
      {
        "duration": 115,
        "start_time": "2022-08-09T08:48:50.718Z"
      },
      {
        "duration": 35,
        "start_time": "2022-08-09T08:49:27.581Z"
      },
      {
        "duration": 12654,
        "start_time": "2022-08-09T08:49:34.323Z"
      },
      {
        "duration": 27942,
        "start_time": "2022-08-09T08:56:21.419Z"
      },
      {
        "duration": 25535,
        "start_time": "2022-08-09T09:08:52.117Z"
      },
      {
        "duration": 105,
        "start_time": "2022-08-09T09:09:17.654Z"
      },
      {
        "duration": 4,
        "start_time": "2022-08-09T09:09:17.761Z"
      },
      {
        "duration": 678,
        "start_time": "2022-08-09T09:09:17.766Z"
      },
      {
        "duration": 19,
        "start_time": "2022-08-09T09:09:18.446Z"
      },
      {
        "duration": 103,
        "start_time": "2022-08-09T09:09:22.818Z"
      },
      {
        "duration": 387,
        "start_time": "2022-08-09T09:09:24.053Z"
      },
      {
        "duration": 478,
        "start_time": "2022-08-09T09:09:25.029Z"
      },
      {
        "duration": 79,
        "start_time": "2022-08-09T09:09:28.220Z"
      },
      {
        "duration": 28,
        "start_time": "2022-08-09T09:09:32.414Z"
      },
      {
        "duration": 24,
        "start_time": "2022-08-09T09:09:34.132Z"
      },
      {
        "duration": 113,
        "start_time": "2022-08-09T09:09:37.147Z"
      },
      {
        "duration": 104,
        "start_time": "2022-08-09T09:09:39.171Z"
      },
      {
        "duration": 141,
        "start_time": "2022-08-09T09:09:42.030Z"
      },
      {
        "duration": 61,
        "start_time": "2022-08-09T09:09:45.591Z"
      },
      {
        "duration": 31,
        "start_time": "2022-08-09T09:09:47.775Z"
      },
      {
        "duration": 31,
        "start_time": "2022-08-09T09:11:07.279Z"
      },
      {
        "duration": 4,
        "start_time": "2022-08-09T09:11:13.018Z"
      },
      {
        "duration": 696,
        "start_time": "2022-08-09T09:11:13.024Z"
      },
      {
        "duration": 18,
        "start_time": "2022-08-09T09:11:13.722Z"
      },
      {
        "duration": 113,
        "start_time": "2022-08-09T09:11:13.742Z"
      },
      {
        "duration": 407,
        "start_time": "2022-08-09T09:11:13.857Z"
      },
      {
        "duration": 478,
        "start_time": "2022-08-09T09:11:14.266Z"
      },
      {
        "duration": 87,
        "start_time": "2022-08-09T09:11:14.745Z"
      },
      {
        "duration": 32,
        "start_time": "2022-08-09T09:11:14.834Z"
      },
      {
        "duration": 39,
        "start_time": "2022-08-09T09:11:14.869Z"
      },
      {
        "duration": 131,
        "start_time": "2022-08-09T09:11:14.910Z"
      },
      {
        "duration": 118,
        "start_time": "2022-08-09T09:11:15.043Z"
      },
      {
        "duration": 152,
        "start_time": "2022-08-09T09:11:15.162Z"
      },
      {
        "duration": 64,
        "start_time": "2022-08-09T09:11:15.315Z"
      },
      {
        "duration": 46,
        "start_time": "2022-08-09T09:11:15.381Z"
      },
      {
        "duration": 0,
        "start_time": "2022-08-09T09:11:15.429Z"
      },
      {
        "duration": 0,
        "start_time": "2022-08-09T09:11:15.431Z"
      },
      {
        "duration": 0,
        "start_time": "2022-08-09T09:11:15.432Z"
      },
      {
        "duration": 0,
        "start_time": "2022-08-09T09:11:15.433Z"
      },
      {
        "duration": 0,
        "start_time": "2022-08-09T09:11:15.434Z"
      },
      {
        "duration": 0,
        "start_time": "2022-08-09T09:11:15.434Z"
      },
      {
        "duration": 0,
        "start_time": "2022-08-09T09:11:15.435Z"
      },
      {
        "duration": 0,
        "start_time": "2022-08-09T09:11:15.437Z"
      },
      {
        "duration": 0,
        "start_time": "2022-08-09T09:11:15.437Z"
      },
      {
        "duration": 0,
        "start_time": "2022-08-09T09:11:15.438Z"
      },
      {
        "duration": 0,
        "start_time": "2022-08-09T09:11:15.439Z"
      },
      {
        "duration": 0,
        "start_time": "2022-08-09T09:11:15.440Z"
      },
      {
        "duration": 0,
        "start_time": "2022-08-09T09:11:15.441Z"
      },
      {
        "duration": 0,
        "start_time": "2022-08-09T09:11:15.442Z"
      },
      {
        "duration": 0,
        "start_time": "2022-08-09T09:11:15.443Z"
      },
      {
        "duration": 0,
        "start_time": "2022-08-09T09:11:15.444Z"
      },
      {
        "duration": 0,
        "start_time": "2022-08-09T09:11:15.445Z"
      },
      {
        "duration": 0,
        "start_time": "2022-08-09T09:11:15.446Z"
      },
      {
        "duration": 0,
        "start_time": "2022-08-09T09:11:15.447Z"
      },
      {
        "duration": 27,
        "start_time": "2022-08-09T09:12:09.254Z"
      },
      {
        "duration": 30,
        "start_time": "2022-08-09T09:12:30.268Z"
      },
      {
        "duration": 61,
        "start_time": "2022-08-09T09:13:06.469Z"
      },
      {
        "duration": 30,
        "start_time": "2022-08-09T09:13:06.981Z"
      },
      {
        "duration": 1442,
        "start_time": "2022-08-09T09:13:14.483Z"
      },
      {
        "duration": 59,
        "start_time": "2022-08-09T09:13:29.527Z"
      },
      {
        "duration": 11112,
        "start_time": "2022-08-09T09:13:41.118Z"
      },
      {
        "duration": 0,
        "start_time": "2022-08-09T09:13:52.232Z"
      },
      {
        "duration": 30,
        "start_time": "2022-08-09T09:14:37.328Z"
      },
      {
        "duration": 3,
        "start_time": "2022-08-09T09:19:23.115Z"
      },
      {
        "duration": 4,
        "start_time": "2022-08-09T09:20:43.691Z"
      },
      {
        "duration": 10,
        "start_time": "2022-08-09T09:20:43.702Z"
      },
      {
        "duration": 672,
        "start_time": "2022-08-09T09:20:43.714Z"
      },
      {
        "duration": 20,
        "start_time": "2022-08-09T09:20:44.387Z"
      },
      {
        "duration": 114,
        "start_time": "2022-08-09T09:20:44.408Z"
      },
      {
        "duration": 369,
        "start_time": "2022-08-09T09:20:44.524Z"
      },
      {
        "duration": 498,
        "start_time": "2022-08-09T09:20:44.900Z"
      },
      {
        "duration": 86,
        "start_time": "2022-08-09T09:20:45.400Z"
      },
      {
        "duration": 36,
        "start_time": "2022-08-09T09:20:45.487Z"
      },
      {
        "duration": 30,
        "start_time": "2022-08-09T09:20:45.524Z"
      },
      {
        "duration": 122,
        "start_time": "2022-08-09T09:20:45.556Z"
      },
      {
        "duration": 113,
        "start_time": "2022-08-09T09:20:45.679Z"
      },
      {
        "duration": 154,
        "start_time": "2022-08-09T09:20:45.800Z"
      },
      {
        "duration": 78,
        "start_time": "2022-08-09T09:20:45.955Z"
      },
      {
        "duration": 186,
        "start_time": "2022-08-09T09:20:46.035Z"
      },
      {
        "duration": 154,
        "start_time": "2022-08-09T09:20:46.222Z"
      },
      {
        "duration": 4,
        "start_time": "2022-08-09T09:20:46.377Z"
      },
      {
        "duration": 16,
        "start_time": "2022-08-09T09:20:46.383Z"
      },
      {
        "duration": 274276,
        "start_time": "2022-08-09T09:20:46.400Z"
      },
      {
        "duration": 4,
        "start_time": "2022-08-09T09:25:20.677Z"
      },
      {
        "duration": 8602,
        "start_time": "2022-08-09T09:25:20.682Z"
      },
      {
        "duration": 1455,
        "start_time": "2022-08-09T09:25:29.286Z"
      },
      {
        "duration": 362521,
        "start_time": "2022-08-09T09:25:30.742Z"
      },
      {
        "duration": 4,
        "start_time": "2022-08-09T09:31:33.265Z"
      },
      {
        "duration": 20352,
        "start_time": "2022-08-09T09:31:33.270Z"
      },
      {
        "duration": 4,
        "start_time": "2022-08-09T09:31:53.624Z"
      },
      {
        "duration": 20,
        "start_time": "2022-08-09T09:31:53.629Z"
      },
      {
        "duration": 85651,
        "start_time": "2022-08-09T09:31:53.650Z"
      },
      {
        "duration": 3,
        "start_time": "2022-08-09T09:33:19.303Z"
      },
      {
        "duration": 3001,
        "start_time": "2022-08-09T09:33:19.308Z"
      },
      {
        "duration": 8,
        "start_time": "2022-08-09T09:33:22.311Z"
      },
      {
        "duration": 2695,
        "start_time": "2022-08-09T09:33:22.320Z"
      },
      {
        "duration": 8240,
        "start_time": "2022-08-09T09:34:35.559Z"
      },
      {
        "duration": 4,
        "start_time": "2022-08-09T09:37:27.351Z"
      },
      {
        "duration": 26,
        "start_time": "2022-08-09T09:37:27.357Z"
      },
      {
        "duration": 735,
        "start_time": "2022-08-09T09:37:27.385Z"
      },
      {
        "duration": 19,
        "start_time": "2022-08-09T09:37:28.122Z"
      },
      {
        "duration": 119,
        "start_time": "2022-08-09T09:37:28.143Z"
      },
      {
        "duration": 382,
        "start_time": "2022-08-09T09:37:28.263Z"
      },
      {
        "duration": 485,
        "start_time": "2022-08-09T09:37:28.647Z"
      },
      {
        "duration": 84,
        "start_time": "2022-08-09T09:37:29.134Z"
      },
      {
        "duration": 28,
        "start_time": "2022-08-09T09:37:29.220Z"
      },
      {
        "duration": 24,
        "start_time": "2022-08-09T09:37:29.250Z"
      },
      {
        "duration": 138,
        "start_time": "2022-08-09T09:37:29.277Z"
      },
      {
        "duration": 120,
        "start_time": "2022-08-09T09:37:29.417Z"
      },
      {
        "duration": 150,
        "start_time": "2022-08-09T09:37:29.539Z"
      },
      {
        "duration": 70,
        "start_time": "2022-08-09T09:37:29.691Z"
      },
      {
        "duration": 169,
        "start_time": "2022-08-09T09:37:29.763Z"
      },
      {
        "duration": 191,
        "start_time": "2022-08-09T09:37:29.934Z"
      },
      {
        "duration": 4,
        "start_time": "2022-08-09T09:37:30.127Z"
      },
      {
        "duration": 17,
        "start_time": "2022-08-09T09:37:30.133Z"
      },
      {
        "duration": 264055,
        "start_time": "2022-08-09T09:37:30.152Z"
      },
      {
        "duration": 4,
        "start_time": "2022-08-09T09:41:54.209Z"
      },
      {
        "duration": 9248,
        "start_time": "2022-08-09T09:41:54.214Z"
      },
      {
        "duration": 1397,
        "start_time": "2022-08-09T09:42:03.463Z"
      },
      {
        "duration": 348771,
        "start_time": "2022-08-09T09:42:04.862Z"
      },
      {
        "duration": 4,
        "start_time": "2022-08-09T09:47:53.634Z"
      },
      {
        "duration": 20798,
        "start_time": "2022-08-09T09:47:53.639Z"
      },
      {
        "duration": 5,
        "start_time": "2022-08-09T09:48:14.438Z"
      },
      {
        "duration": 14,
        "start_time": "2022-08-09T09:48:14.445Z"
      },
      {
        "duration": 81945,
        "start_time": "2022-08-09T09:48:14.461Z"
      },
      {
        "duration": 4,
        "start_time": "2022-08-09T09:49:36.408Z"
      },
      {
        "duration": 2396,
        "start_time": "2022-08-09T09:49:36.413Z"
      },
      {
        "duration": 8,
        "start_time": "2022-08-09T09:49:38.811Z"
      },
      {
        "duration": 8602,
        "start_time": "2022-08-09T09:49:38.821Z"
      },
      {
        "duration": 44,
        "start_time": "2022-08-09T15:30:53.490Z"
      },
      {
        "duration": 394,
        "start_time": "2022-08-09T15:31:05.933Z"
      },
      {
        "duration": 62,
        "start_time": "2022-08-09T15:31:06.363Z"
      },
      {
        "duration": 12,
        "start_time": "2022-08-09T15:33:09.838Z"
      },
      {
        "duration": 4,
        "start_time": "2022-08-09T15:33:46.760Z"
      },
      {
        "duration": 7,
        "start_time": "2022-08-09T15:33:52.158Z"
      },
      {
        "duration": 14,
        "start_time": "2022-08-09T15:33:54.834Z"
      },
      {
        "duration": 15,
        "start_time": "2022-08-09T15:34:48.682Z"
      },
      {
        "duration": 9,
        "start_time": "2022-08-09T15:36:16.252Z"
      },
      {
        "duration": 4,
        "start_time": "2022-08-09T15:36:35.779Z"
      },
      {
        "duration": 5,
        "start_time": "2022-08-09T15:36:39.151Z"
      },
      {
        "duration": 6,
        "start_time": "2022-08-09T15:37:01.036Z"
      },
      {
        "duration": 5,
        "start_time": "2022-08-09T15:37:11.420Z"
      },
      {
        "duration": 9,
        "start_time": "2022-08-09T15:37:37.975Z"
      },
      {
        "duration": 6,
        "start_time": "2022-08-09T15:37:44.099Z"
      },
      {
        "duration": 6,
        "start_time": "2022-08-09T15:37:49.354Z"
      },
      {
        "duration": 11,
        "start_time": "2022-08-09T15:37:57.779Z"
      },
      {
        "duration": 6,
        "start_time": "2022-08-09T15:38:02.347Z"
      },
      {
        "duration": 8,
        "start_time": "2022-08-09T15:38:08.259Z"
      },
      {
        "duration": 6,
        "start_time": "2022-08-09T15:38:08.957Z"
      }
    ],
    "kernelspec": {
      "display_name": "Python 3 (ipykernel)",
      "language": "python",
      "name": "python3"
    },
    "language_info": {
      "codemirror_mode": {
        "name": "ipython",
        "version": 3
      },
      "file_extension": ".py",
      "mimetype": "text/x-python",
      "name": "python",
      "nbconvert_exporter": "python",
      "pygments_lexer": "ipython3",
      "version": "3.9.5"
    },
    "toc": {
      "base_numbering": 1,
      "nav_menu": {},
      "number_sections": true,
      "sideBar": true,
      "skip_h1_title": true,
      "title_cell": "Table of Contents",
      "title_sidebar": "Contents",
      "toc_cell": false,
      "toc_position": {},
      "toc_section_display": true,
      "toc_window_display": false
    },
    "colab": {
      "provenance": [],
      "collapsed_sections": []
    },
    "widgets": {
      "application/vnd.jupyter.widget-state+json": {
        "dd84bf478e474e029d179db8de9a6418": {
          "model_module": "catboost-widget",
          "model_name": "CatboostWidgetModel",
          "model_module_version": "^1.0.0",
          "state": {
            "_dom_classes": [],
            "_model_module": "catboost-widget",
            "_model_module_version": "^1.0.0",
            "_model_name": "CatboostWidgetModel",
            "_view_count": null,
            "_view_module": "catboost-widget",
            "_view_module_version": "^1.0.0",
            "_view_name": "CatboostWidgetView",
            "data": {
              "catboost_info": {
                "path": "catboost_info",
                "name": "catboost_info",
                "content": {
                  "passed_iterations": 69,
                  "total_iterations": 70,
                  "data": {
                    "iterations": [
                      {
                        "learn": [
                          3630.945994
                        ],
                        "iteration": 0,
                        "passed_time": 0.1890796819,
                        "remaining_time": 13.04649805
                      },
                      {
                        "learn": [
                          3125.069621
                        ],
                        "iteration": 1,
                        "passed_time": 0.3066281749,
                        "remaining_time": 10.42535795
                      },
                      {
                        "learn": [
                          2759.641712
                        ],
                        "iteration": 2,
                        "passed_time": 0.4231901185,
                        "remaining_time": 9.45124598
                      },
                      {
                        "learn": [
                          2502.528865
                        ],
                        "iteration": 3,
                        "passed_time": 0.5397549277,
                        "remaining_time": 8.905956307
                      },
                      {
                        "learn": [
                          2316.965428
                        ],
                        "iteration": 4,
                        "passed_time": 0.6683047977,
                        "remaining_time": 8.68796237
                      },
                      {
                        "learn": [
                          2164.481104
                        ],
                        "iteration": 5,
                        "passed_time": 0.7860193443,
                        "remaining_time": 8.38420634
                      },
                      {
                        "learn": [
                          2064.831277
                        ],
                        "iteration": 6,
                        "passed_time": 0.9080523016,
                        "remaining_time": 8.172470714
                      },
                      {
                        "learn": [
                          1981.703772
                        ],
                        "iteration": 7,
                        "passed_time": 1.015193821,
                        "remaining_time": 7.867752114
                      },
                      {
                        "learn": [
                          1919.757078
                        ],
                        "iteration": 8,
                        "passed_time": 1.129866764,
                        "remaining_time": 7.657985846
                      },
                      {
                        "learn": [
                          1869.894646
                        ],
                        "iteration": 9,
                        "passed_time": 1.243978675,
                        "remaining_time": 7.463872053
                      },
                      {
                        "learn": [
                          1835.750629
                        ],
                        "iteration": 10,
                        "passed_time": 1.359224771,
                        "remaining_time": 7.290387411
                      },
                      {
                        "learn": [
                          1810.969389
                        ],
                        "iteration": 11,
                        "passed_time": 1.468048359,
                        "remaining_time": 7.095567066
                      },
                      {
                        "learn": [
                          1791.519102
                        ],
                        "iteration": 12,
                        "passed_time": 1.58598905,
                        "remaining_time": 6.953951987
                      },
                      {
                        "learn": [
                          1777.416691
                        ],
                        "iteration": 13,
                        "passed_time": 1.694344948,
                        "remaining_time": 6.777379792
                      },
                      {
                        "learn": [
                          1764.958305
                        ],
                        "iteration": 14,
                        "passed_time": 1.819713619,
                        "remaining_time": 6.672283269
                      },
                      {
                        "learn": [
                          1748.005979
                        ],
                        "iteration": 15,
                        "passed_time": 1.926019112,
                        "remaining_time": 6.500314503
                      },
                      {
                        "learn": [
                          1737.095097
                        ],
                        "iteration": 16,
                        "passed_time": 2.037255262,
                        "remaining_time": 6.351442876
                      },
                      {
                        "learn": [
                          1730.352183
                        ],
                        "iteration": 17,
                        "passed_time": 2.150408134,
                        "remaining_time": 6.212290164
                      },
                      {
                        "learn": [
                          1722.882366
                        ],
                        "iteration": 18,
                        "passed_time": 2.261415189,
                        "remaining_time": 6.070114454
                      },
                      {
                        "learn": [
                          1716.517719
                        ],
                        "iteration": 19,
                        "passed_time": 2.367026835,
                        "remaining_time": 5.917567087
                      },
                      {
                        "learn": [
                          1708.424304
                        ],
                        "iteration": 20,
                        "passed_time": 2.486135161,
                        "remaining_time": 5.800982042
                      },
                      {
                        "learn": [
                          1701.218534
                        ],
                        "iteration": 21,
                        "passed_time": 2.601259989,
                        "remaining_time": 5.67547634
                      },
                      {
                        "learn": [
                          1695.441708
                        ],
                        "iteration": 22,
                        "passed_time": 2.715595777,
                        "remaining_time": 5.549260936
                      },
                      {
                        "learn": [
                          1688.97459
                        ],
                        "iteration": 23,
                        "passed_time": 2.829028268,
                        "remaining_time": 5.42230418
                      },
                      {
                        "learn": [
                          1683.55258
                        ],
                        "iteration": 24,
                        "passed_time": 2.939581562,
                        "remaining_time": 5.291246812
                      },
                      {
                        "learn": [
                          1677.555501
                        ],
                        "iteration": 25,
                        "passed_time": 3.04488108,
                        "remaining_time": 5.152875675
                      },
                      {
                        "learn": [
                          1671.989553
                        ],
                        "iteration": 26,
                        "passed_time": 3.163104762,
                        "remaining_time": 5.037537213
                      },
                      {
                        "learn": [
                          1668.458725
                        ],
                        "iteration": 27,
                        "passed_time": 3.270160344,
                        "remaining_time": 4.905240515
                      },
                      {
                        "learn": [
                          1662.240161
                        ],
                        "iteration": 28,
                        "passed_time": 3.380989248,
                        "remaining_time": 4.780019282
                      },
                      {
                        "learn": [
                          1656.923767
                        ],
                        "iteration": 29,
                        "passed_time": 3.493300291,
                        "remaining_time": 4.657733721
                      },
                      {
                        "learn": [
                          1652.357023
                        ],
                        "iteration": 30,
                        "passed_time": 3.615497105,
                        "remaining_time": 4.548528616
                      },
                      {
                        "learn": [
                          1647.248001
                        ],
                        "iteration": 31,
                        "passed_time": 3.723562651,
                        "remaining_time": 4.421730647
                      },
                      {
                        "learn": [
                          1643.019252
                        ],
                        "iteration": 32,
                        "passed_time": 3.844373913,
                        "remaining_time": 4.31035863
                      },
                      {
                        "learn": [
                          1637.749531
                        ],
                        "iteration": 33,
                        "passed_time": 3.954620478,
                        "remaining_time": 4.187245212
                      },
                      {
                        "learn": [
                          1634.991977
                        ],
                        "iteration": 34,
                        "passed_time": 4.078869545,
                        "remaining_time": 4.078869545
                      },
                      {
                        "learn": [
                          1630.483225
                        ],
                        "iteration": 35,
                        "passed_time": 4.186216874,
                        "remaining_time": 3.953649269
                      },
                      {
                        "learn": [
                          1626.258812
                        ],
                        "iteration": 36,
                        "passed_time": 4.30092963,
                        "remaining_time": 3.835964265
                      },
                      {
                        "learn": [
                          1622.485531
                        ],
                        "iteration": 37,
                        "passed_time": 4.405569955,
                        "remaining_time": 3.709953646
                      },
                      {
                        "learn": [
                          1619.467361
                        ],
                        "iteration": 38,
                        "passed_time": 4.517083394,
                        "remaining_time": 3.590502185
                      },
                      {
                        "learn": [
                          1616.760957
                        ],
                        "iteration": 39,
                        "passed_time": 4.629779602,
                        "remaining_time": 3.472334702
                      },
                      {
                        "learn": [
                          1614.089117
                        ],
                        "iteration": 40,
                        "passed_time": 4.743323242,
                        "remaining_time": 3.355033513
                      },
                      {
                        "learn": [
                          1610.799259
                        ],
                        "iteration": 41,
                        "passed_time": 4.860693013,
                        "remaining_time": 3.240462009
                      },
                      {
                        "learn": [
                          1607.453239
                        ],
                        "iteration": 42,
                        "passed_time": 4.973240819,
                        "remaining_time": 3.122732607
                      },
                      {
                        "learn": [
                          1606.257039
                        ],
                        "iteration": 43,
                        "passed_time": 5.082440873,
                        "remaining_time": 3.003260516
                      },
                      {
                        "learn": [
                          1602.588366
                        ],
                        "iteration": 44,
                        "passed_time": 5.199738282,
                        "remaining_time": 2.88874349
                      },
                      {
                        "learn": [
                          1600.438101
                        ],
                        "iteration": 45,
                        "passed_time": 5.308088554,
                        "remaining_time": 2.769437506
                      },
                      {
                        "learn": [
                          1597.533495
                        ],
                        "iteration": 46,
                        "passed_time": 5.417644217,
                        "remaining_time": 2.651187596
                      },
                      {
                        "learn": [
                          1596.001597
                        ],
                        "iteration": 47,
                        "passed_time": 5.52458018,
                        "remaining_time": 2.532099249
                      },
                      {
                        "learn": [
                          1591.904375
                        ],
                        "iteration": 48,
                        "passed_time": 5.656757781,
                        "remaining_time": 2.424324763
                      },
                      {
                        "learn": [
                          1589.605384
                        ],
                        "iteration": 49,
                        "passed_time": 5.760227058,
                        "remaining_time": 2.304090823
                      },
                      {
                        "learn": [
                          1586.116887
                        ],
                        "iteration": 50,
                        "passed_time": 5.877869308,
                        "remaining_time": 2.189794448
                      },
                      {
                        "learn": [
                          1583.571967
                        ],
                        "iteration": 51,
                        "passed_time": 5.983317981,
                        "remaining_time": 2.071148532
                      },
                      {
                        "learn": [
                          1580.564758
                        ],
                        "iteration": 52,
                        "passed_time": 6.099621397,
                        "remaining_time": 1.956482335
                      },
                      {
                        "learn": [
                          1578.250173
                        ],
                        "iteration": 53,
                        "passed_time": 6.212145499,
                        "remaining_time": 1.840635703
                      },
                      {
                        "learn": [
                          1575.695694
                        ],
                        "iteration": 54,
                        "passed_time": 6.322717934,
                        "remaining_time": 1.724377618
                      },
                      {
                        "learn": [
                          1573.377409
                        ],
                        "iteration": 55,
                        "passed_time": 6.431479066,
                        "remaining_time": 1.607869767
                      },
                      {
                        "learn": [
                          1571.832321
                        ],
                        "iteration": 56,
                        "passed_time": 6.540913048,
                        "remaining_time": 1.491787186
                      },
                      {
                        "learn": [
                          1569.926849
                        ],
                        "iteration": 57,
                        "passed_time": 6.657338927,
                        "remaining_time": 1.377380468
                      },
                      {
                        "learn": [
                          1568.136241
                        ],
                        "iteration": 58,
                        "passed_time": 6.770819749,
                        "remaining_time": 1.262356224
                      },
                      {
                        "learn": [
                          1566.082577
                        ],
                        "iteration": 59,
                        "passed_time": 6.89279254,
                        "remaining_time": 1.148798757
                      },
                      {
                        "learn": [
                          1563.566977
                        ],
                        "iteration": 60,
                        "passed_time": 7.003991043,
                        "remaining_time": 1.033375728
                      },
                      {
                        "learn": [
                          1561.655492
                        ],
                        "iteration": 61,
                        "passed_time": 7.121045574,
                        "remaining_time": 0.9188445902
                      },
                      {
                        "learn": [
                          1559.451372
                        ],
                        "iteration": 62,
                        "passed_time": 7.231750652,
                        "remaining_time": 0.8035278502
                      },
                      {
                        "learn": [
                          1557.440649
                        ],
                        "iteration": 63,
                        "passed_time": 7.34127124,
                        "remaining_time": 0.6882441788
                      },
                      {
                        "learn": [
                          1555.480309
                        ],
                        "iteration": 64,
                        "passed_time": 7.454547858,
                        "remaining_time": 0.5734267583
                      },
                      {
                        "learn": [
                          1553.998759
                        ],
                        "iteration": 65,
                        "passed_time": 7.562453314,
                        "remaining_time": 0.4583305039
                      },
                      {
                        "learn": [
                          1551.789415
                        ],
                        "iteration": 66,
                        "passed_time": 7.692364439,
                        "remaining_time": 0.3444342286
                      },
                      {
                        "learn": [
                          1549.967515
                        ],
                        "iteration": 67,
                        "passed_time": 7.811790371,
                        "remaining_time": 0.2297585403
                      },
                      {
                        "learn": [
                          1548.131937
                        ],
                        "iteration": 68,
                        "passed_time": 7.923513832,
                        "remaining_time": 0.1148335338
                      },
                      {
                        "learn": [
                          1546.250613
                        ],
                        "iteration": 69,
                        "passed_time": 8.029757466,
                        "remaining_time": 0
                      }
                    ],
                    "meta": {
                      "test_sets": [],
                      "test_metrics": [],
                      "learn_metrics": [
                        {
                          "best_value": "Min",
                          "name": "RMSE"
                        }
                      ],
                      "launch_mode": "Train",
                      "parameters": "",
                      "iteration_count": 70,
                      "learn_sets": [
                        "learn"
                      ],
                      "name": "experiment"
                    }
                  }
                }
              }
            },
            "layout": "IPY_MODEL_61799fdad8b64167acc6d0314b3d613a"
          }
        }
      }
    }
  },
  "nbformat": 4,
  "nbformat_minor": 0
}