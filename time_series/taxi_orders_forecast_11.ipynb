{
  "cells": [
    {
      "cell_type": "markdown",
      "metadata": {
        "toc": true,
        "id": "ZzCFtcxmsHNE"
      },
      "source": [
        "<h1>Содержание<span class=\"tocSkip\"></span></h1>\n",
        "<div class=\"toc\"><ul class=\"toc-item\"><li><span><a href=\"#Подготовка\" data-toc-modified-id=\"Подготовка-1\"><span class=\"toc-item-num\">1&nbsp;&nbsp;</span>Подготовка</a></span></li><li><span><a href=\"#Анализ\" data-toc-modified-id=\"Анализ-2\"><span class=\"toc-item-num\">2&nbsp;&nbsp;</span>Анализ</a></span></li><li><span><a href=\"#Обучение\" data-toc-modified-id=\"Обучение-3\"><span class=\"toc-item-num\">3&nbsp;&nbsp;</span>Обучение</a></span></li><li><span><a href=\"#Тестирование\" data-toc-modified-id=\"Тестирование-4\"><span class=\"toc-item-num\">4&nbsp;&nbsp;</span>Тестирование</a></span></li></ul></div>"
      ]
    },
    {
      "cell_type": "markdown",
      "metadata": {
        "id": "YHCyw-KFsHNF"
      },
      "source": [
        "#  Прогнозирование заказов такси"
      ]
    },
    {
      "cell_type": "markdown",
      "metadata": {
        "id": "qjm0d1jPsHNF"
      },
      "source": [
        "Компания «Чётенькое такси» собрала исторические данные о заказах такси в аэропортах. Чтобы привлекать больше водителей в период пиковой нагрузки, нужно спрогнозировать количество заказов такси на следующий час. Построим модель для такого предсказания.\n",
        "\n",
        "Значение метрики *RMSE* на тестовой выборке должно быть не больше 48.\n",
        "\n",
        "Нам нужно:\n",
        "\n",
        "1. Загрузить данные и выполнить их ресемплирование по одному часу.\n",
        "2. Проанализировать данные.\n",
        "3. Обучить разные модели с различными гиперпараметрами. Сделать тестовую выборку размером 10% от исходных данных.\n",
        "4. Проверить данные на тестовой выборке и сделать выводы.\n",
        "\n"
      ]
    },
    {
      "cell_type": "markdown",
      "metadata": {
        "id": "ZEjPoQzmsHNH"
      },
      "source": [
        "## Подготовка"
      ]
    },
    {
      "cell_type": "code",
      "source": [
        "pip install catboost"
      ],
      "metadata": {
        "colab": {
          "base_uri": "https://localhost:8080/"
        },
        "id": "vgxfze2yufz8",
        "outputId": "0ff84fa2-6217-4ad9-9cc5-1b6319c3fda4"
      },
      "execution_count": null,
      "outputs": [
        {
          "output_type": "stream",
          "name": "stdout",
          "text": [
            "Looking in indexes: https://pypi.org/simple, https://us-python.pkg.dev/colab-wheels/public/simple/\n",
            "Collecting catboost\n",
            "  Downloading catboost-1.1-cp37-none-manylinux1_x86_64.whl (76.8 MB)\n",
            "\u001b[K     |████████████████████████████████| 76.8 MB 9.9 MB/s \n",
            "\u001b[?25hRequirement already satisfied: scipy in /usr/local/lib/python3.7/dist-packages (from catboost) (1.7.3)\n",
            "Requirement already satisfied: matplotlib in /usr/local/lib/python3.7/dist-packages (from catboost) (3.2.2)\n",
            "Requirement already satisfied: six in /usr/local/lib/python3.7/dist-packages (from catboost) (1.15.0)\n",
            "Requirement already satisfied: pandas>=0.24.0 in /usr/local/lib/python3.7/dist-packages (from catboost) (1.3.5)\n",
            "Requirement already satisfied: plotly in /usr/local/lib/python3.7/dist-packages (from catboost) (5.5.0)\n",
            "Requirement already satisfied: graphviz in /usr/local/lib/python3.7/dist-packages (from catboost) (0.10.1)\n",
            "Requirement already satisfied: numpy>=1.16.0 in /usr/local/lib/python3.7/dist-packages (from catboost) (1.21.6)\n",
            "Requirement already satisfied: pytz>=2017.3 in /usr/local/lib/python3.7/dist-packages (from pandas>=0.24.0->catboost) (2022.5)\n",
            "Requirement already satisfied: python-dateutil>=2.7.3 in /usr/local/lib/python3.7/dist-packages (from pandas>=0.24.0->catboost) (2.8.2)\n",
            "Requirement already satisfied: cycler>=0.10 in /usr/local/lib/python3.7/dist-packages (from matplotlib->catboost) (0.11.0)\n",
            "Requirement already satisfied: kiwisolver>=1.0.1 in /usr/local/lib/python3.7/dist-packages (from matplotlib->catboost) (1.4.4)\n",
            "Requirement already satisfied: pyparsing!=2.0.4,!=2.1.2,!=2.1.6,>=2.0.1 in /usr/local/lib/python3.7/dist-packages (from matplotlib->catboost) (3.0.9)\n",
            "Requirement already satisfied: typing-extensions in /usr/local/lib/python3.7/dist-packages (from kiwisolver>=1.0.1->matplotlib->catboost) (4.1.1)\n",
            "Requirement already satisfied: tenacity>=6.2.0 in /usr/local/lib/python3.7/dist-packages (from plotly->catboost) (8.1.0)\n",
            "Installing collected packages: catboost\n",
            "Successfully installed catboost-1.1\n"
          ]
        }
      ]
    },
    {
      "cell_type": "code",
      "execution_count": null,
      "metadata": {
        "id": "mSOgrFwLsHNI"
      },
      "outputs": [],
      "source": [
        "import pandas as pd\n",
        "import matplotlib.pyplot as plt\n",
        "import numpy as np\n",
        "\n",
        "from statsmodels.tsa.seasonal import seasonal_decompose\n",
        "\n",
        "from sklearn.linear_model import LinearRegression\n",
        "from sklearn.ensemble import RandomForestRegressor\n",
        "from catboost import CatBoostRegressor\n",
        "from sklearn.model_selection import RandomizedSearchCV\n",
        "from sklearn.metrics import mean_squared_error\n",
        "\n",
        "from sklearn.model_selection import train_test_split\n",
        "from sklearn.model_selection import TimeSeriesSplit\n",
        "\n",
        "import warnings\n",
        "warnings.filterwarnings('ignore')"
      ]
    },
    {
      "cell_type": "code",
      "execution_count": null,
      "metadata": {
        "id": "CagvmZpvsHNK"
      },
      "outputs": [],
      "source": [
        "SEED = 12345"
      ]
    },
    {
      "cell_type": "code",
      "execution_count": null,
      "metadata": {
        "id": "yU9sBuaZsHNK"
      },
      "outputs": [],
      "source": [
        "pth = '/content/11_taxi.csv'\n",
        "pth_1 = 'C:\\taxi.csv'\n",
        "try:\n",
        "    df = pd.read_csv(pth, index_col = [0], parse_dates=[0])\n",
        "except:\n",
        "    df = pd.read_csv(pth1, index_col = [0])"
      ]
    },
    {
      "cell_type": "code",
      "execution_count": null,
      "metadata": {
        "scrolled": false,
        "colab": {
          "base_uri": "https://localhost:8080/",
          "height": 1000
        },
        "id": "ALenX4vCsHNL",
        "outputId": "1204ccd8-918e-4d90-a81e-3fb9c6f1b189"
      },
      "outputs": [
        {
          "output_type": "execute_result",
          "data": {
            "text/plain": [
              "                     num_orders\n",
              "datetime                       \n",
              "2018-08-31 19:00:00          27\n",
              "2018-08-31 19:10:00          25\n",
              "2018-08-31 19:20:00          22\n",
              "2018-08-31 19:30:00          24\n",
              "2018-08-31 19:40:00          23\n",
              "2018-08-31 19:50:00          15\n",
              "2018-08-31 20:00:00          33\n",
              "2018-08-31 20:10:00          29\n",
              "2018-08-31 20:20:00          35\n",
              "2018-08-31 20:30:00          23\n",
              "2018-08-31 20:40:00          16\n",
              "2018-08-31 20:50:00          18\n",
              "2018-08-31 21:00:00          24\n",
              "2018-08-31 21:10:00          29\n",
              "2018-08-31 21:20:00          23\n",
              "2018-08-31 21:30:00          27\n",
              "2018-08-31 21:40:00          29\n",
              "2018-08-31 21:50:00          27\n",
              "2018-08-31 22:00:00          34\n",
              "2018-08-31 22:10:00          32\n",
              "2018-08-31 22:20:00          48\n",
              "2018-08-31 22:30:00          41\n",
              "2018-08-31 22:40:00          34\n",
              "2018-08-31 22:50:00          34\n",
              "2018-08-31 23:00:00          30\n",
              "2018-08-31 23:10:00          32\n",
              "2018-08-31 23:20:00          24\n",
              "2018-08-31 23:30:00          27\n",
              "2018-08-31 23:40:00          39\n",
              "2018-08-31 23:50:00          53"
            ],
            "text/html": [
              "\n",
              "  <div id=\"df-9ea52911-1247-4bae-9e91-acdecab19f15\">\n",
              "    <div class=\"colab-df-container\">\n",
              "      <div>\n",
              "<style scoped>\n",
              "    .dataframe tbody tr th:only-of-type {\n",
              "        vertical-align: middle;\n",
              "    }\n",
              "\n",
              "    .dataframe tbody tr th {\n",
              "        vertical-align: top;\n",
              "    }\n",
              "\n",
              "    .dataframe thead th {\n",
              "        text-align: right;\n",
              "    }\n",
              "</style>\n",
              "<table border=\"1\" class=\"dataframe\">\n",
              "  <thead>\n",
              "    <tr style=\"text-align: right;\">\n",
              "      <th></th>\n",
              "      <th>num_orders</th>\n",
              "    </tr>\n",
              "    <tr>\n",
              "      <th>datetime</th>\n",
              "      <th></th>\n",
              "    </tr>\n",
              "  </thead>\n",
              "  <tbody>\n",
              "    <tr>\n",
              "      <th>2018-08-31 19:00:00</th>\n",
              "      <td>27</td>\n",
              "    </tr>\n",
              "    <tr>\n",
              "      <th>2018-08-31 19:10:00</th>\n",
              "      <td>25</td>\n",
              "    </tr>\n",
              "    <tr>\n",
              "      <th>2018-08-31 19:20:00</th>\n",
              "      <td>22</td>\n",
              "    </tr>\n",
              "    <tr>\n",
              "      <th>2018-08-31 19:30:00</th>\n",
              "      <td>24</td>\n",
              "    </tr>\n",
              "    <tr>\n",
              "      <th>2018-08-31 19:40:00</th>\n",
              "      <td>23</td>\n",
              "    </tr>\n",
              "    <tr>\n",
              "      <th>2018-08-31 19:50:00</th>\n",
              "      <td>15</td>\n",
              "    </tr>\n",
              "    <tr>\n",
              "      <th>2018-08-31 20:00:00</th>\n",
              "      <td>33</td>\n",
              "    </tr>\n",
              "    <tr>\n",
              "      <th>2018-08-31 20:10:00</th>\n",
              "      <td>29</td>\n",
              "    </tr>\n",
              "    <tr>\n",
              "      <th>2018-08-31 20:20:00</th>\n",
              "      <td>35</td>\n",
              "    </tr>\n",
              "    <tr>\n",
              "      <th>2018-08-31 20:30:00</th>\n",
              "      <td>23</td>\n",
              "    </tr>\n",
              "    <tr>\n",
              "      <th>2018-08-31 20:40:00</th>\n",
              "      <td>16</td>\n",
              "    </tr>\n",
              "    <tr>\n",
              "      <th>2018-08-31 20:50:00</th>\n",
              "      <td>18</td>\n",
              "    </tr>\n",
              "    <tr>\n",
              "      <th>2018-08-31 21:00:00</th>\n",
              "      <td>24</td>\n",
              "    </tr>\n",
              "    <tr>\n",
              "      <th>2018-08-31 21:10:00</th>\n",
              "      <td>29</td>\n",
              "    </tr>\n",
              "    <tr>\n",
              "      <th>2018-08-31 21:20:00</th>\n",
              "      <td>23</td>\n",
              "    </tr>\n",
              "    <tr>\n",
              "      <th>2018-08-31 21:30:00</th>\n",
              "      <td>27</td>\n",
              "    </tr>\n",
              "    <tr>\n",
              "      <th>2018-08-31 21:40:00</th>\n",
              "      <td>29</td>\n",
              "    </tr>\n",
              "    <tr>\n",
              "      <th>2018-08-31 21:50:00</th>\n",
              "      <td>27</td>\n",
              "    </tr>\n",
              "    <tr>\n",
              "      <th>2018-08-31 22:00:00</th>\n",
              "      <td>34</td>\n",
              "    </tr>\n",
              "    <tr>\n",
              "      <th>2018-08-31 22:10:00</th>\n",
              "      <td>32</td>\n",
              "    </tr>\n",
              "    <tr>\n",
              "      <th>2018-08-31 22:20:00</th>\n",
              "      <td>48</td>\n",
              "    </tr>\n",
              "    <tr>\n",
              "      <th>2018-08-31 22:30:00</th>\n",
              "      <td>41</td>\n",
              "    </tr>\n",
              "    <tr>\n",
              "      <th>2018-08-31 22:40:00</th>\n",
              "      <td>34</td>\n",
              "    </tr>\n",
              "    <tr>\n",
              "      <th>2018-08-31 22:50:00</th>\n",
              "      <td>34</td>\n",
              "    </tr>\n",
              "    <tr>\n",
              "      <th>2018-08-31 23:00:00</th>\n",
              "      <td>30</td>\n",
              "    </tr>\n",
              "    <tr>\n",
              "      <th>2018-08-31 23:10:00</th>\n",
              "      <td>32</td>\n",
              "    </tr>\n",
              "    <tr>\n",
              "      <th>2018-08-31 23:20:00</th>\n",
              "      <td>24</td>\n",
              "    </tr>\n",
              "    <tr>\n",
              "      <th>2018-08-31 23:30:00</th>\n",
              "      <td>27</td>\n",
              "    </tr>\n",
              "    <tr>\n",
              "      <th>2018-08-31 23:40:00</th>\n",
              "      <td>39</td>\n",
              "    </tr>\n",
              "    <tr>\n",
              "      <th>2018-08-31 23:50:00</th>\n",
              "      <td>53</td>\n",
              "    </tr>\n",
              "  </tbody>\n",
              "</table>\n",
              "</div>\n",
              "      <button class=\"colab-df-convert\" onclick=\"convertToInteractive('df-9ea52911-1247-4bae-9e91-acdecab19f15')\"\n",
              "              title=\"Convert this dataframe to an interactive table.\"\n",
              "              style=\"display:none;\">\n",
              "        \n",
              "  <svg xmlns=\"http://www.w3.org/2000/svg\" height=\"24px\"viewBox=\"0 0 24 24\"\n",
              "       width=\"24px\">\n",
              "    <path d=\"M0 0h24v24H0V0z\" fill=\"none\"/>\n",
              "    <path d=\"M18.56 5.44l.94 2.06.94-2.06 2.06-.94-2.06-.94-.94-2.06-.94 2.06-2.06.94zm-11 1L8.5 8.5l.94-2.06 2.06-.94-2.06-.94L8.5 2.5l-.94 2.06-2.06.94zm10 10l.94 2.06.94-2.06 2.06-.94-2.06-.94-.94-2.06-.94 2.06-2.06.94z\"/><path d=\"M17.41 7.96l-1.37-1.37c-.4-.4-.92-.59-1.43-.59-.52 0-1.04.2-1.43.59L10.3 9.45l-7.72 7.72c-.78.78-.78 2.05 0 2.83L4 21.41c.39.39.9.59 1.41.59.51 0 1.02-.2 1.41-.59l7.78-7.78 2.81-2.81c.8-.78.8-2.07 0-2.86zM5.41 20L4 18.59l7.72-7.72 1.47 1.35L5.41 20z\"/>\n",
              "  </svg>\n",
              "      </button>\n",
              "      \n",
              "  <style>\n",
              "    .colab-df-container {\n",
              "      display:flex;\n",
              "      flex-wrap:wrap;\n",
              "      gap: 12px;\n",
              "    }\n",
              "\n",
              "    .colab-df-convert {\n",
              "      background-color: #E8F0FE;\n",
              "      border: none;\n",
              "      border-radius: 50%;\n",
              "      cursor: pointer;\n",
              "      display: none;\n",
              "      fill: #1967D2;\n",
              "      height: 32px;\n",
              "      padding: 0 0 0 0;\n",
              "      width: 32px;\n",
              "    }\n",
              "\n",
              "    .colab-df-convert:hover {\n",
              "      background-color: #E2EBFA;\n",
              "      box-shadow: 0px 1px 2px rgba(60, 64, 67, 0.3), 0px 1px 3px 1px rgba(60, 64, 67, 0.15);\n",
              "      fill: #174EA6;\n",
              "    }\n",
              "\n",
              "    [theme=dark] .colab-df-convert {\n",
              "      background-color: #3B4455;\n",
              "      fill: #D2E3FC;\n",
              "    }\n",
              "\n",
              "    [theme=dark] .colab-df-convert:hover {\n",
              "      background-color: #434B5C;\n",
              "      box-shadow: 0px 1px 3px 1px rgba(0, 0, 0, 0.15);\n",
              "      filter: drop-shadow(0px 1px 2px rgba(0, 0, 0, 0.3));\n",
              "      fill: #FFFFFF;\n",
              "    }\n",
              "  </style>\n",
              "\n",
              "      <script>\n",
              "        const buttonEl =\n",
              "          document.querySelector('#df-9ea52911-1247-4bae-9e91-acdecab19f15 button.colab-df-convert');\n",
              "        buttonEl.style.display =\n",
              "          google.colab.kernel.accessAllowed ? 'block' : 'none';\n",
              "\n",
              "        async function convertToInteractive(key) {\n",
              "          const element = document.querySelector('#df-9ea52911-1247-4bae-9e91-acdecab19f15');\n",
              "          const dataTable =\n",
              "            await google.colab.kernel.invokeFunction('convertToInteractive',\n",
              "                                                     [key], {});\n",
              "          if (!dataTable) return;\n",
              "\n",
              "          const docLinkHtml = 'Like what you see? Visit the ' +\n",
              "            '<a target=\"_blank\" href=https://colab.research.google.com/notebooks/data_table.ipynb>data table notebook</a>'\n",
              "            + ' to learn more about interactive tables.';\n",
              "          element.innerHTML = '';\n",
              "          dataTable['output_type'] = 'display_data';\n",
              "          await google.colab.output.renderOutput(dataTable, element);\n",
              "          const docLink = document.createElement('div');\n",
              "          docLink.innerHTML = docLinkHtml;\n",
              "          element.appendChild(docLink);\n",
              "        }\n",
              "      </script>\n",
              "    </div>\n",
              "  </div>\n",
              "  "
            ]
          },
          "metadata": {},
          "execution_count": 5
        }
      ],
      "source": [
        "df.tail(30)"
      ]
    },
    {
      "cell_type": "code",
      "execution_count": null,
      "metadata": {
        "scrolled": false,
        "colab": {
          "base_uri": "https://localhost:8080/"
        },
        "id": "6g02_Q1fsHNM",
        "outputId": "7db36292-2c4c-4abe-e741-82ae3e06b5f9"
      },
      "outputs": [
        {
          "output_type": "stream",
          "name": "stdout",
          "text": [
            "<class 'pandas.core.frame.DataFrame'>\n",
            "DatetimeIndex: 26496 entries, 2018-03-01 00:00:00 to 2018-08-31 23:50:00\n",
            "Data columns (total 1 columns):\n",
            " #   Column      Non-Null Count  Dtype\n",
            "---  ------      --------------  -----\n",
            " 0   num_orders  26496 non-null  int64\n",
            "dtypes: int64(1)\n",
            "memory usage: 414.0 KB\n"
          ]
        }
      ],
      "source": [
        "df.info()"
      ]
    },
    {
      "cell_type": "code",
      "execution_count": null,
      "metadata": {
        "colab": {
          "base_uri": "https://localhost:8080/"
        },
        "id": "zgtC7tbzsHNN",
        "outputId": "9f41213d-9ae1-498a-a1b2-196ac21e6260"
      },
      "outputs": [
        {
          "output_type": "execute_result",
          "data": {
            "text/plain": [
              "num_orders    0\n",
              "dtype: int64"
            ]
          },
          "metadata": {},
          "execution_count": 7
        }
      ],
      "source": [
        "df.isna().sum()"
      ]
    },
    {
      "cell_type": "code",
      "execution_count": null,
      "metadata": {
        "id": "G9SlICcVsHNN"
      },
      "outputs": [],
      "source": [
        "df = df.resample('1H').sum()\n"
      ]
    },
    {
      "cell_type": "code",
      "execution_count": null,
      "metadata": {
        "colab": {
          "base_uri": "https://localhost:8080/"
        },
        "id": "72ea2hPIsHNP",
        "outputId": "9df765fc-85c1-4d92-b146-709b7181b88b"
      },
      "outputs": [
        {
          "output_type": "stream",
          "name": "stdout",
          "text": [
            "True\n"
          ]
        }
      ],
      "source": [
        "print(df.index.is_monotonic) #дополнительная проверка на монотонность, результат True - значит данные расположены в хронологическом порядке"
      ]
    },
    {
      "cell_type": "markdown",
      "metadata": {
        "id": "niD5TiKHsHNP"
      },
      "source": [
        "## Анализ"
      ]
    },
    {
      "cell_type": "markdown",
      "metadata": {
        "id": "A7Aq3PPSsHNQ"
      },
      "source": [
        "Проанализируем данные по количеству заказов такси на графике."
      ]
    },
    {
      "cell_type": "code",
      "execution_count": null,
      "metadata": {
        "scrolled": false,
        "colab": {
          "base_uri": "https://localhost:8080/",
          "height": 400
        },
        "id": "OJ3PDaYhsHNQ",
        "outputId": "b3d34925-7cd0-41f0-8959-b6d7e55d9f20"
      },
      "outputs": [
        {
          "output_type": "display_data",
          "data": {
            "text/plain": [
              "<Figure size 1152x432 with 1 Axes>"
            ],
            "image/png": "[encoded data removed]"
          },
          "metadata": {
            "needs_background": "light"
          }
        }
      ],
      "source": [
        "df.plot(figsize = (16,6))\n",
        "plt.ylabel('Количество заказов');"
      ]
    },
    {
      "cell_type": "markdown",
      "metadata": {
        "id": "OPRV7GfzsHNQ"
      },
      "source": [
        "Поскольку на графике слишком сильно выражены колебания, добавим скользящее среднее для определения общего тренда на изменение количества заказов. Рассмотрим данные на более коротком промежутке времиени, например с июля по август."
      ]
    },
    {
      "cell_type": "markdown",
      "metadata": {
        "id": "q0VkO-iNsHNQ"
      },
      "source": [
        "Создадим функцию для добавления дополнительных признаков в датасет."
      ]
    },
    {
      "cell_type": "code",
      "execution_count": null,
      "metadata": {
        "id": "gmP-AVjtsHNR"
      },
      "outputs": [],
      "source": [
        "def make_features(data, max_lag, rolling_mean_size):\n",
        "#    data['year'] = data.index.year\n",
        "#    data['month'] = data.index.month\n",
        "#    data['day'] = data.index.day\n",
        "    data['dayofweek'] = data.index.dayofweek\n",
        "    data['hour'] = data.index.hour\n",
        "    \n",
        "    for lag in range(1, max_lag + 1):\n",
        "        data['lag_{}'.format(lag)] = data['num_orders'].shift(lag)\n",
        "    data['rolling_mean'] = data['num_orders'].shift(1).rolling(rolling_mean_size).mean()"
      ]
    },
    {
      "cell_type": "code",
      "execution_count": null,
      "metadata": {
        "id": "Xvu7g0MysHNU"
      },
      "outputs": [],
      "source": [
        "make_features(df, 1, 24)"
      ]
    },
    {
      "cell_type": "code",
      "execution_count": null,
      "metadata": {
        "colab": {
          "base_uri": "https://localhost:8080/",
          "height": 1000
        },
        "id": "OLSjfbkksHNU",
        "outputId": "2c64e70d-daf2-4810-fdcf-e57e38fdcab9"
      },
      "outputs": [
        {
          "output_type": "execute_result",
          "data": {
            "text/plain": [
              "                     num_orders  dayofweek  hour  lag_1  rolling_mean\n",
              "datetime                                                             \n",
              "2018-03-01 00:00:00         124          3     0    NaN           NaN\n",
              "2018-03-01 01:00:00          85          3     1  124.0           NaN\n",
              "2018-03-01 02:00:00          71          3     2   85.0           NaN\n",
              "2018-03-01 03:00:00          66          3     3   71.0           NaN\n",
              "2018-03-01 04:00:00          43          3     4   66.0           NaN\n",
              "2018-03-01 05:00:00           6          3     5   43.0           NaN\n",
              "2018-03-01 06:00:00          12          3     6    6.0           NaN\n",
              "2018-03-01 07:00:00          15          3     7   12.0           NaN\n",
              "2018-03-01 08:00:00          34          3     8   15.0           NaN\n",
              "2018-03-01 09:00:00          69          3     9   34.0           NaN\n",
              "2018-03-01 10:00:00          64          3    10   69.0           NaN\n",
              "2018-03-01 11:00:00          96          3    11   64.0           NaN\n",
              "2018-03-01 12:00:00          30          3    12   96.0           NaN\n",
              "2018-03-01 13:00:00          32          3    13   30.0           NaN\n",
              "2018-03-01 14:00:00          48          3    14   32.0           NaN\n",
              "2018-03-01 15:00:00          66          3    15   48.0           NaN\n",
              "2018-03-01 16:00:00          43          3    16   66.0           NaN\n",
              "2018-03-01 17:00:00          44          3    17   43.0           NaN\n",
              "2018-03-01 18:00:00          73          3    18   44.0           NaN\n",
              "2018-03-01 19:00:00          45          3    19   73.0           NaN\n",
              "2018-03-01 20:00:00          61          3    20   45.0           NaN\n",
              "2018-03-01 21:00:00          66          3    21   61.0           NaN\n",
              "2018-03-01 22:00:00         113          3    22   66.0           NaN\n",
              "2018-03-01 23:00:00          58          3    23  113.0           NaN\n",
              "2018-03-02 00:00:00          90          4     0   58.0     56.833333\n",
              "2018-03-02 01:00:00         120          4     1   90.0     55.416667\n",
              "2018-03-02 02:00:00          75          4     2  120.0     56.875000\n",
              "2018-03-02 03:00:00          64          4     3   75.0     57.041667\n",
              "2018-03-02 04:00:00          20          4     4   64.0     56.958333\n",
              "2018-03-02 05:00:00          11          4     5   20.0     56.000000"
            ],
            "text/html": [
              "\n",
              "  <div id=\"df-621fac3f-879a-4560-9360-0b4a97fcd92b\">\n",
              "    <div class=\"colab-df-container\">\n",
              "      <div>\n",
              "<style scoped>\n",
              "    .dataframe tbody tr th:only-of-type {\n",
              "        vertical-align: middle;\n",
              "    }\n",
              "\n",
              "    .dataframe tbody tr th {\n",
              "        vertical-align: top;\n",
              "    }\n",
              "\n",
              "    .dataframe thead th {\n",
              "        text-align: right;\n",
              "    }\n",
              "</style>\n",
              "<table border=\"1\" class=\"dataframe\">\n",
              "  <thead>\n",
              "    <tr style=\"text-align: right;\">\n",
              "      <th></th>\n",
              "      <th>num_orders</th>\n",
              "      <th>dayofweek</th>\n",
              "      <th>hour</th>\n",
              "      <th>lag_1</th>\n",
              "      <th>rolling_mean</th>\n",
              "    </tr>\n",
              "    <tr>\n",
              "      <th>datetime</th>\n",
              "      <th></th>\n",
              "      <th></th>\n",
              "      <th></th>\n",
              "      <th></th>\n",
              "      <th></th>\n",
              "    </tr>\n",
              "  </thead>\n",
              "  <tbody>\n",
              "    <tr>\n",
              "      <th>2018-03-01 00:00:00</th>\n",
              "      <td>124</td>\n",
              "      <td>3</td>\n",
              "      <td>0</td>\n",
              "      <td>NaN</td>\n",
              "      <td>NaN</td>\n",
              "    </tr>\n",
              "    <tr>\n",
              "      <th>2018-03-01 01:00:00</th>\n",
              "      <td>85</td>\n",
              "      <td>3</td>\n",
              "      <td>1</td>\n",
              "      <td>124.0</td>\n",
              "      <td>NaN</td>\n",
              "    </tr>\n",
              "    <tr>\n",
              "      <th>2018-03-01 02:00:00</th>\n",
              "      <td>71</td>\n",
              "      <td>3</td>\n",
              "      <td>2</td>\n",
              "      <td>85.0</td>\n",
              "      <td>NaN</td>\n",
              "    </tr>\n",
              "    <tr>\n",
              "      <th>2018-03-01 03:00:00</th>\n",
              "      <td>66</td>\n",
              "      <td>3</td>\n",
              "      <td>3</td>\n",
              "      <td>71.0</td>\n",
              "      <td>NaN</td>\n",
              "    </tr>\n",
              "    <tr>\n",
              "      <th>2018-03-01 04:00:00</th>\n",
              "      <td>43</td>\n",
              "      <td>3</td>\n",
              "      <td>4</td>\n",
              "      <td>66.0</td>\n",
              "      <td>NaN</td>\n",
              "    </tr>\n",
              "    <tr>\n",
              "      <th>2018-03-01 05:00:00</th>\n",
              "      <td>6</td>\n",
              "      <td>3</td>\n",
              "      <td>5</td>\n",
              "      <td>43.0</td>\n",
              "      <td>NaN</td>\n",
              "    </tr>\n",
              "    <tr>\n",
              "      <th>2018-03-01 06:00:00</th>\n",
              "      <td>12</td>\n",
              "      <td>3</td>\n",
              "      <td>6</td>\n",
              "      <td>6.0</td>\n",
              "      <td>NaN</td>\n",
              "    </tr>\n",
              "    <tr>\n",
              "      <th>2018-03-01 07:00:00</th>\n",
              "      <td>15</td>\n",
              "      <td>3</td>\n",
              "      <td>7</td>\n",
              "      <td>12.0</td>\n",
              "      <td>NaN</td>\n",
              "    </tr>\n",
              "    <tr>\n",
              "      <th>2018-03-01 08:00:00</th>\n",
              "      <td>34</td>\n",
              "      <td>3</td>\n",
              "      <td>8</td>\n",
              "      <td>15.0</td>\n",
              "      <td>NaN</td>\n",
              "    </tr>\n",
              "    <tr>\n",
              "      <th>2018-03-01 09:00:00</th>\n",
              "      <td>69</td>\n",
              "      <td>3</td>\n",
              "      <td>9</td>\n",
              "      <td>34.0</td>\n",
              "      <td>NaN</td>\n",
              "    </tr>\n",
              "    <tr>\n",
              "      <th>2018-03-01 10:00:00</th>\n",
              "      <td>64</td>\n",
              "      <td>3</td>\n",
              "      <td>10</td>\n",
              "      <td>69.0</td>\n",
              "      <td>NaN</td>\n",
              "    </tr>\n",
              "    <tr>\n",
              "      <th>2018-03-01 11:00:00</th>\n",
              "      <td>96</td>\n",
              "      <td>3</td>\n",
              "      <td>11</td>\n",
              "      <td>64.0</td>\n",
              "      <td>NaN</td>\n",
              "    </tr>\n",
              "    <tr>\n",
              "      <th>2018-03-01 12:00:00</th>\n",
              "      <td>30</td>\n",
              "      <td>3</td>\n",
              "      <td>12</td>\n",
              "      <td>96.0</td>\n",
              "      <td>NaN</td>\n",
              "    </tr>\n",
              "    <tr>\n",
              "      <th>2018-03-01 13:00:00</th>\n",
              "      <td>32</td>\n",
              "      <td>3</td>\n",
              "      <td>13</td>\n",
              "      <td>30.0</td>\n",
              "      <td>NaN</td>\n",
              "    </tr>\n",
              "    <tr>\n",
              "      <th>2018-03-01 14:00:00</th>\n",
              "      <td>48</td>\n",
              "      <td>3</td>\n",
              "      <td>14</td>\n",
              "      <td>32.0</td>\n",
              "      <td>NaN</td>\n",
              "    </tr>\n",
              "    <tr>\n",
              "      <th>2018-03-01 15:00:00</th>\n",
              "      <td>66</td>\n",
              "      <td>3</td>\n",
              "      <td>15</td>\n",
              "      <td>48.0</td>\n",
              "      <td>NaN</td>\n",
              "    </tr>\n",
              "    <tr>\n",
              "      <th>2018-03-01 16:00:00</th>\n",
              "      <td>43</td>\n",
              "      <td>3</td>\n",
              "      <td>16</td>\n",
              "      <td>66.0</td>\n",
              "      <td>NaN</td>\n",
              "    </tr>\n",
              "    <tr>\n",
              "      <th>2018-03-01 17:00:00</th>\n",
              "      <td>44</td>\n",
              "      <td>3</td>\n",
              "      <td>17</td>\n",
              "      <td>43.0</td>\n",
              "      <td>NaN</td>\n",
              "    </tr>\n",
              "    <tr>\n",
              "      <th>2018-03-01 18:00:00</th>\n",
              "      <td>73</td>\n",
              "      <td>3</td>\n",
              "      <td>18</td>\n",
              "      <td>44.0</td>\n",
              "      <td>NaN</td>\n",
              "    </tr>\n",
              "    <tr>\n",
              "      <th>2018-03-01 19:00:00</th>\n",
              "      <td>45</td>\n",
              "      <td>3</td>\n",
              "      <td>19</td>\n",
              "      <td>73.0</td>\n",
              "      <td>NaN</td>\n",
              "    </tr>\n",
              "    <tr>\n",
              "      <th>2018-03-01 20:00:00</th>\n",
              "      <td>61</td>\n",
              "      <td>3</td>\n",
              "      <td>20</td>\n",
              "      <td>45.0</td>\n",
              "      <td>NaN</td>\n",
              "    </tr>\n",
              "    <tr>\n",
              "      <th>2018-03-01 21:00:00</th>\n",
              "      <td>66</td>\n",
              "      <td>3</td>\n",
              "      <td>21</td>\n",
              "      <td>61.0</td>\n",
              "      <td>NaN</td>\n",
              "    </tr>\n",
              "    <tr>\n",
              "      <th>2018-03-01 22:00:00</th>\n",
              "      <td>113</td>\n",
              "      <td>3</td>\n",
              "      <td>22</td>\n",
              "      <td>66.0</td>\n",
              "      <td>NaN</td>\n",
              "    </tr>\n",
              "    <tr>\n",
              "      <th>2018-03-01 23:00:00</th>\n",
              "      <td>58</td>\n",
              "      <td>3</td>\n",
              "      <td>23</td>\n",
              "      <td>113.0</td>\n",
              "      <td>NaN</td>\n",
              "    </tr>\n",
              "    <tr>\n",
              "      <th>2018-03-02 00:00:00</th>\n",
              "      <td>90</td>\n",
              "      <td>4</td>\n",
              "      <td>0</td>\n",
              "      <td>58.0</td>\n",
              "      <td>56.833333</td>\n",
              "    </tr>\n",
              "    <tr>\n",
              "      <th>2018-03-02 01:00:00</th>\n",
              "      <td>120</td>\n",
              "      <td>4</td>\n",
              "      <td>1</td>\n",
              "      <td>90.0</td>\n",
              "      <td>55.416667</td>\n",
              "    </tr>\n",
              "    <tr>\n",
              "      <th>2018-03-02 02:00:00</th>\n",
              "      <td>75</td>\n",
              "      <td>4</td>\n",
              "      <td>2</td>\n",
              "      <td>120.0</td>\n",
              "      <td>56.875000</td>\n",
              "    </tr>\n",
              "    <tr>\n",
              "      <th>2018-03-02 03:00:00</th>\n",
              "      <td>64</td>\n",
              "      <td>4</td>\n",
              "      <td>3</td>\n",
              "      <td>75.0</td>\n",
              "      <td>57.041667</td>\n",
              "    </tr>\n",
              "    <tr>\n",
              "      <th>2018-03-02 04:00:00</th>\n",
              "      <td>20</td>\n",
              "      <td>4</td>\n",
              "      <td>4</td>\n",
              "      <td>64.0</td>\n",
              "      <td>56.958333</td>\n",
              "    </tr>\n",
              "    <tr>\n",
              "      <th>2018-03-02 05:00:00</th>\n",
              "      <td>11</td>\n",
              "      <td>4</td>\n",
              "      <td>5</td>\n",
              "      <td>20.0</td>\n",
              "      <td>56.000000</td>\n",
              "    </tr>\n",
              "  </tbody>\n",
              "</table>\n",
              "</div>\n",
              "      <button class=\"colab-df-convert\" onclick=\"convertToInteractive('df-621fac3f-879a-4560-9360-0b4a97fcd92b')\"\n",
              "              title=\"Convert this dataframe to an interactive table.\"\n",
              "              style=\"display:none;\">\n",
              "        \n",
              "  <svg xmlns=\"http://www.w3.org/2000/svg\" height=\"24px\"viewBox=\"0 0 24 24\"\n",
              "       width=\"24px\">\n",
              "    <path d=\"M0 0h24v24H0V0z\" fill=\"none\"/>\n",
              "    <path d=\"M18.56 5.44l.94 2.06.94-2.06 2.06-.94-2.06-.94-.94-2.06-.94 2.06-2.06.94zm-11 1L8.5 8.5l.94-2.06 2.06-.94-2.06-.94L8.5 2.5l-.94 2.06-2.06.94zm10 10l.94 2.06.94-2.06 2.06-.94-2.06-.94-.94-2.06-.94 2.06-2.06.94z\"/><path d=\"M17.41 7.96l-1.37-1.37c-.4-.4-.92-.59-1.43-.59-.52 0-1.04.2-1.43.59L10.3 9.45l-7.72 7.72c-.78.78-.78 2.05 0 2.83L4 21.41c.39.39.9.59 1.41.59.51 0 1.02-.2 1.41-.59l7.78-7.78 2.81-2.81c.8-.78.8-2.07 0-2.86zM5.41 20L4 18.59l7.72-7.72 1.47 1.35L5.41 20z\"/>\n",
              "  </svg>\n",
              "      </button>\n",
              "      \n",
              "  <style>\n",
              "    .colab-df-container {\n",
              "      display:flex;\n",
              "      flex-wrap:wrap;\n",
              "      gap: 12px;\n",
              "    }\n",
              "\n",
              "    .colab-df-convert {\n",
              "      background-color: #E8F0FE;\n",
              "      border: none;\n",
              "      border-radius: 50%;\n",
              "      cursor: pointer;\n",
              "      display: none;\n",
              "      fill: #1967D2;\n",
              "      height: 32px;\n",
              "      padding: 0 0 0 0;\n",
              "      width: 32px;\n",
              "    }\n",
              "\n",
              "    .colab-df-convert:hover {\n",
              "      background-color: #E2EBFA;\n",
              "      box-shadow: 0px 1px 2px rgba(60, 64, 67, 0.3), 0px 1px 3px 1px rgba(60, 64, 67, 0.15);\n",
              "      fill: #174EA6;\n",
              "    }\n",
              "\n",
              "    [theme=dark] .colab-df-convert {\n",
              "      background-color: #3B4455;\n",
              "      fill: #D2E3FC;\n",
              "    }\n",
              "\n",
              "    [theme=dark] .colab-df-convert:hover {\n",
              "      background-color: #434B5C;\n",
              "      box-shadow: 0px 1px 3px 1px rgba(0, 0, 0, 0.15);\n",
              "      filter: drop-shadow(0px 1px 2px rgba(0, 0, 0, 0.3));\n",
              "      fill: #FFFFFF;\n",
              "    }\n",
              "  </style>\n",
              "\n",
              "      <script>\n",
              "        const buttonEl =\n",
              "          document.querySelector('#df-621fac3f-879a-4560-9360-0b4a97fcd92b button.colab-df-convert');\n",
              "        buttonEl.style.display =\n",
              "          google.colab.kernel.accessAllowed ? 'block' : 'none';\n",
              "\n",
              "        async function convertToInteractive(key) {\n",
              "          const element = document.querySelector('#df-621fac3f-879a-4560-9360-0b4a97fcd92b');\n",
              "          const dataTable =\n",
              "            await google.colab.kernel.invokeFunction('convertToInteractive',\n",
              "                                                     [key], {});\n",
              "          if (!dataTable) return;\n",
              "\n",
              "          const docLinkHtml = 'Like what you see? Visit the ' +\n",
              "            '<a target=\"_blank\" href=https://colab.research.google.com/notebooks/data_table.ipynb>data table notebook</a>'\n",
              "            + ' to learn more about interactive tables.';\n",
              "          element.innerHTML = '';\n",
              "          dataTable['output_type'] = 'display_data';\n",
              "          await google.colab.output.renderOutput(dataTable, element);\n",
              "          const docLink = document.createElement('div');\n",
              "          docLink.innerHTML = docLinkHtml;\n",
              "          element.appendChild(docLink);\n",
              "        }\n",
              "      </script>\n",
              "    </div>\n",
              "  </div>\n",
              "  "
            ]
          },
          "metadata": {},
          "execution_count": 13
        }
      ],
      "source": [
        "df.head(30)"
      ]
    },
    {
      "cell_type": "code",
      "execution_count": null,
      "metadata": {
        "scrolled": false,
        "colab": {
          "base_uri": "https://localhost:8080/",
          "height": 423
        },
        "id": "CTg8laansHNW",
        "outputId": "34851977-29b6-41fc-a900-3d0c7f8bcbff"
      },
      "outputs": [
        {
          "output_type": "display_data",
          "data": {
            "text/plain": [
              "<Figure size 1152x432 with 1 Axes>"
            ],
            "image/png": "[encoded data removed]"
          },
          "metadata": {
            "needs_background": "light"
          }
        }
      ],
      "source": [
        "df['2018-07-01':'2018-08-31']['rolling_mean'].plot(figsize = (16,6))\n",
        "plt.ylabel('Количество заказов');"
      ]
    },
    {
      "cell_type": "markdown",
      "metadata": {
        "id": "0yGWWJy8sHNX"
      },
      "source": [
        "На графике можно увидеть общий тренд на увеличение заказов, также нужно отметить наличие сезонности, т.к. колебания более ярко выражены в определенные дни недели, например, по понедельникам."
      ]
    },
    {
      "cell_type": "markdown",
      "metadata": {
        "id": "isaYbUZwsHNX"
      },
      "source": [
        "Разложим временной ряд на тренд и сезонность при помощи метода `seasonal_decompose`"
      ]
    },
    {
      "cell_type": "code",
      "execution_count": null,
      "metadata": {
        "scrolled": false,
        "colab": {
          "base_uri": "https://localhost:8080/",
          "height": 411
        },
        "id": "LOghLBcwsHNY",
        "outputId": "844eef70-4d5a-4a06-b9b3-e44c7838f2da"
      },
      "outputs": [
        {
          "output_type": "display_data",
          "data": {
            "text/plain": [
              "<Figure size 1152x432 with 1 Axes>"
            ],
            "image/png": "[encoded data removed]"
          },
          "metadata": {
            "needs_background": "light"
          }
        }
      ],
      "source": [
        "decomposed = seasonal_decompose(df['num_orders']['2018-08-22':'2018-08-31'])\n",
        "decomposed.trend.plot(figsize=(16,6),grid = True)\n",
        "decomposed.seasonal.tail(24*7).plot(figsize=(16,6),grid = True);\n",
        "#plt.ylabel('Количество заказов');\n"
      ]
    },
    {
      "cell_type": "markdown",
      "metadata": {
        "id": "vPQ2v3rIsHNY"
      },
      "source": [
        "График, построенных на основании результатов метода подтверждает тренд на увеличение количества заказов, также он показывает колебания в течение суток - ночью количество заказов растет."
      ]
    },
    {
      "cell_type": "markdown",
      "metadata": {
        "id": "MWA3p6QysHNZ"
      },
      "source": [
        " Ниже визуализация количества заказов за период с 20 по 23 августа.\n",
        " \n",
        " Вывод: ярко выраженная суточная сезоность - вечером количество заказов растет, к ночи достигает пика, к  середине дня падает. По всей видимости такое распределение связано с графиком работы общетсвенного транспорта - те, кто не успел попасть условно в метро, вызовут такси. Или, как ты подсказал, количество заказов зависит от поездок в аэропорты. Ниже цитата из статьи об исследовании Яндекса.    \n",
        "    \n",
        " \"Ранним утром во всех аэропортах много вылетов. Обычно люди рассчитывают приехать в терминал за два-три часа до отправления рейса — то есть выезжают из дома ещё ночью. Поскольку общественный транспорт недоступен, в ночное время поездок на такси больше всего.\n",
        " \n",
        " Пик прилётов приходится на вторую половину дня, поэтому из аэропорта чаще всего едут с 16:00 до 22:00. В целом поездок из аэропорта примерно на четверть меньше, чем в аэропорт.\"\n",
        "    \n",
        "Всё сходится!\n"
      ]
    },
    {
      "cell_type": "code",
      "execution_count": null,
      "metadata": {
        "colab": {
          "base_uri": "https://localhost:8080/",
          "height": 411
        },
        "id": "MIuH2J2vsHNa",
        "outputId": "126d846b-dbc0-48d3-8f50-3951e99b7784"
      },
      "outputs": [
        {
          "output_type": "display_data",
          "data": {
            "text/plain": [
              "<Figure size 1152x432 with 1 Axes>"
            ],
            "image/png": "[encoded data removed]"
          },
          "metadata": {
            "needs_background": "light"
          }
        }
      ],
      "source": [
        "decomposed = seasonal_decompose(df['rolling_mean']['2018-08-20':'2018-08-23'])\n",
        "decomposed.seasonal.plot(figsize=(16,6),grid = True)\n",
        "plt.ylabel('Количество заказов');\n"
      ]
    },
    {
      "cell_type": "markdown",
      "metadata": {
        "id": "wzY2iRfesHNb"
      },
      "source": [
        "## Обучение"
      ]
    },
    {
      "cell_type": "markdown",
      "metadata": {
        "id": "agS252DXsHNb"
      },
      "source": [
        "Найдем наилучшие гиперпараметры и обучим 3 модели:\n",
        " * LinearRegression;\n",
        " * RandomForestRegressor;\n",
        " * CatBooster\n",
        " \n",
        "Для проведения обучения разделим выборку на тренировочную и тестовую из соотношения 90% к 10%."
      ]
    },
    {
      "cell_type": "code",
      "execution_count": null,
      "metadata": {
        "id": "YQpXhsFlsHNc"
      },
      "outputs": [],
      "source": [
        "train, test = train_test_split(df, shuffle=False, test_size=0.1)"
      ]
    },
    {
      "cell_type": "code",
      "execution_count": null,
      "metadata": {
        "scrolled": true,
        "id": "dWiCoSCAsHNc"
      },
      "outputs": [],
      "source": [
        "train = train.dropna()"
      ]
    },
    {
      "cell_type": "code",
      "execution_count": null,
      "metadata": {
        "id": "yJTPou0xsHNd"
      },
      "outputs": [],
      "source": [
        "X_train = train.drop(['rolling_mean'],axis=1)\n",
        "y_train = train['rolling_mean']\n",
        "X_test = test.drop(['rolling_mean'],axis=1)\n",
        "y_test = test['rolling_mean']"
      ]
    },
    {
      "cell_type": "markdown",
      "metadata": {
        "id": "xLfV8bsIsHNd"
      },
      "source": [
        "Первой рассмотрим линейную регрессию."
      ]
    },
    {
      "cell_type": "code",
      "execution_count": null,
      "metadata": {
        "colab": {
          "base_uri": "https://localhost:8080/"
        },
        "id": "jQX7KZI7sHNe",
        "outputId": "05ef4682-c73a-4e6a-8ef0-29ace273de00"
      },
      "outputs": [
        {
          "output_type": "execute_result",
          "data": {
            "text/plain": [
              "RandomizedSearchCV(cv=TimeSeriesSplit(gap=0, max_train_size=None, n_splits=9, test_size=None),\n",
              "                   estimator=LinearRegression(), n_jobs=-1,\n",
              "                   param_distributions={'normalize': [True, False]},\n",
              "                   scoring='neg_root_mean_squared_error')"
            ]
          },
          "metadata": {},
          "execution_count": 20
        }
      ],
      "source": [
        "tscv = TimeSeriesSplit(n_splits=9)\n",
        "parameters ={'normalize':[True, False]}\n",
        "grid_lr = RandomizedSearchCV(LinearRegression(),\n",
        "                               parameters,\n",
        "                               cv=tscv, \n",
        "                               n_jobs=-1,\n",
        "                               scoring = 'neg_root_mean_squared_error')\n",
        "grid_lr.fit(X_train,y_train)"
      ]
    },
    {
      "cell_type": "code",
      "execution_count": null,
      "metadata": {
        "colab": {
          "base_uri": "https://localhost:8080/"
        },
        "id": "FOy89vdSsHNf",
        "outputId": "7eee3ea2-cbe8-4943-9a87-5c8aafde27c0"
      },
      "outputs": [
        {
          "output_type": "execute_result",
          "data": {
            "text/plain": [
              "{'normalize': True}"
            ]
          },
          "metadata": {},
          "execution_count": 21
        }
      ],
      "source": [
        "grid_lr.best_params_"
      ]
    },
    {
      "cell_type": "code",
      "execution_count": null,
      "metadata": {
        "scrolled": false,
        "colab": {
          "base_uri": "https://localhost:8080/"
        },
        "id": "--X7B_DUsHNg",
        "outputId": "3f461d7a-84c9-401f-a64a-9f6b8b6fdf06"
      },
      "outputs": [
        {
          "output_type": "stream",
          "name": "stdout",
          "text": [
            "RMSE LinearRegreassion обучающей выборки: 16.3585470067327\n"
          ]
        }
      ],
      "source": [
        "model = grid_lr.best_estimator_\n",
        "model.fit(X_train,y_train)\n",
        "predict_train = model.predict(X_train)\n",
        "predict_test_lr = model.predict(X_test)\n",
        "print(\"RMSE LinearRegreassion обучающей выборки:\", mean_squared_error(predict_train, y_train)**.5)\n"
      ]
    },
    {
      "cell_type": "markdown",
      "metadata": {
        "id": "_ue0a6IhsHNh"
      },
      "source": [
        "В качестве следующей модели рассмотрим RandomForestRegressor."
      ]
    },
    {
      "cell_type": "code",
      "execution_count": null,
      "metadata": {
        "colab": {
          "base_uri": "https://localhost:8080/"
        },
        "id": "8aTa6rEXsHNi",
        "outputId": "f99eb0d2-e657-4690-cfef-99d53c0d06bf"
      },
      "outputs": [
        {
          "output_type": "execute_result",
          "data": {
            "text/plain": [
              "RandomizedSearchCV(cv=TimeSeriesSplit(gap=0, max_train_size=None, n_splits=9, test_size=None),\n",
              "                   estimator=RandomForestRegressor(random_state=12345),\n",
              "                   n_jobs=-1,\n",
              "                   param_distributions={'max_depth': range(1, 13, 2),\n",
              "                                        'n_estimators': range(10, 51, 10)},\n",
              "                   scoring='neg_mean_squared_error', verbose=False)"
            ]
          },
          "metadata": {},
          "execution_count": 23
        }
      ],
      "source": [
        "parametrs = { 'n_estimators': range (10, 51, 10),\n",
        "              'max_depth': range (1,13, 2)\n",
        "             }\n",
        "grid_rfr = RandomizedSearchCV(RandomForestRegressor(random_state=SEED), \n",
        "                              parametrs, \n",
        "                              cv=tscv, \n",
        "                              n_jobs=-1,\n",
        "                              scoring='neg_mean_squared_error', \n",
        "                              verbose = False)\n",
        "grid_rfr.fit(X_train,y_train)"
      ]
    },
    {
      "cell_type": "code",
      "execution_count": null,
      "metadata": {
        "colab": {
          "base_uri": "https://localhost:8080/"
        },
        "id": "kh7TVnUQsHNj",
        "outputId": "8179070c-c1e0-4f8b-ea1b-331a774d15cf"
      },
      "outputs": [
        {
          "output_type": "execute_result",
          "data": {
            "text/plain": [
              "{'n_estimators': 30, 'max_depth': 11}"
            ]
          },
          "metadata": {},
          "execution_count": 24
        }
      ],
      "source": [
        "grid_rfr.best_params_"
      ]
    },
    {
      "cell_type": "code",
      "execution_count": null,
      "metadata": {
        "colab": {
          "base_uri": "https://localhost:8080/"
        },
        "id": "v84xvDXpsHNj",
        "outputId": "27a22fe8-bd23-4b71-ebb2-cd4862cf0ab4"
      },
      "outputs": [
        {
          "output_type": "stream",
          "name": "stdout",
          "text": [
            "RMSE RandomForestRegressor обучающей выборки: 8.207198583272117\n"
          ]
        }
      ],
      "source": [
        "model = grid_rfr.best_estimator_\n",
        "model.fit(X_train,y_train)\n",
        "predict_train = model.predict(X_train)\n",
        "predict_test_rfr = model.predict(X_test)\n",
        "print(\"RMSE RandomForestRegressor обучающей выборки:\", mean_squared_error(predict_train, y_train)**.5)\n"
      ]
    },
    {
      "cell_type": "code",
      "execution_count": null,
      "metadata": {
        "id": "9WhCkC-tsHNj"
      },
      "outputs": [],
      "source": [
        "parameters ={\"iterations\": range(40,100,10),\n",
        "          \"depth\": range(4,10,2),\n",
        "          'learning_rate': np.arange(0.01, 0.3,0.01)}\n",
        "\n",
        "cbr = CatBoostRegressor(random_state=SEED, \n",
        "                        loss_function='RMSE')\n",
        "\n",
        "grid_cbr = RandomizedSearchCV(cbr, parameters, cv=tscv, \n",
        "                              n_jobs=-1,\n",
        "                              scoring='neg_mean_squared_error', \n",
        "                              verbose = False)"
      ]
    },
    {
      "cell_type": "code",
      "execution_count": null,
      "metadata": {
        "colab": {
          "base_uri": "https://localhost:8080/"
        },
        "id": "3P2JkrTMsHNj",
        "outputId": "ca250b7c-7254-482e-c69a-1750b4995482"
      },
      "outputs": [
        {
          "output_type": "stream",
          "name": "stdout",
          "text": [
            "0:\tlearn: 18.3281042\ttotal: 47.5ms\tremaining: 4.23s\n",
            "1:\tlearn: 17.5989554\ttotal: 49.8ms\tremaining: 2.19s\n",
            "2:\tlearn: 16.9145674\ttotal: 55.8ms\tremaining: 1.62s\n",
            "3:\tlearn: 16.3917506\ttotal: 61ms\tremaining: 1.31s\n",
            "4:\tlearn: 15.9879850\ttotal: 68.6ms\tremaining: 1.17s\n",
            "5:\tlearn: 15.5286684\ttotal: 76.1ms\tremaining: 1.06s\n",
            "6:\tlearn: 15.1601552\ttotal: 79.8ms\tremaining: 947ms\n",
            "7:\tlearn: 14.8775567\ttotal: 84.3ms\tremaining: 864ms\n",
            "8:\tlearn: 14.6850624\ttotal: 92ms\tremaining: 828ms\n",
            "9:\tlearn: 14.3855987\ttotal: 99.4ms\tremaining: 795ms\n",
            "10:\tlearn: 14.1581498\ttotal: 103ms\tremaining: 738ms\n",
            "11:\tlearn: 14.0042270\ttotal: 108ms\tremaining: 702ms\n",
            "12:\tlearn: 13.8766097\ttotal: 114ms\tremaining: 678ms\n",
            "13:\tlearn: 13.7659418\ttotal: 116ms\tremaining: 630ms\n",
            "14:\tlearn: 13.6327307\ttotal: 118ms\tremaining: 588ms\n",
            "15:\tlearn: 13.5077770\ttotal: 120ms\tremaining: 553ms\n",
            "16:\tlearn: 13.3933736\ttotal: 140ms\tremaining: 601ms\n",
            "17:\tlearn: 13.2876057\ttotal: 143ms\tremaining: 574ms\n",
            "18:\tlearn: 13.1668567\ttotal: 147ms\tremaining: 550ms\n",
            "19:\tlearn: 13.0584840\ttotal: 151ms\tremaining: 527ms\n",
            "20:\tlearn: 12.9820723\ttotal: 154ms\tremaining: 506ms\n",
            "21:\tlearn: 12.9034856\ttotal: 158ms\tremaining: 488ms\n",
            "22:\tlearn: 12.8655032\ttotal: 163ms\tremaining: 476ms\n",
            "23:\tlearn: 12.7597611\ttotal: 166ms\tremaining: 456ms\n",
            "24:\tlearn: 12.7361780\ttotal: 187ms\tremaining: 486ms\n",
            "25:\tlearn: 12.6616254\ttotal: 190ms\tremaining: 468ms\n",
            "26:\tlearn: 12.6303365\ttotal: 194ms\tremaining: 454ms\n",
            "27:\tlearn: 12.5844635\ttotal: 198ms\tremaining: 439ms\n",
            "28:\tlearn: 12.5130921\ttotal: 202ms\tremaining: 425ms\n",
            "29:\tlearn: 12.4885721\ttotal: 206ms\tremaining: 412ms\n",
            "30:\tlearn: 12.4676644\ttotal: 210ms\tremaining: 399ms\n",
            "31:\tlearn: 12.4167880\ttotal: 217ms\tremaining: 393ms\n",
            "32:\tlearn: 12.3746222\ttotal: 220ms\tremaining: 379ms\n",
            "33:\tlearn: 12.3421557\ttotal: 223ms\tremaining: 368ms\n",
            "34:\tlearn: 12.3106210\ttotal: 228ms\tremaining: 359ms\n",
            "35:\tlearn: 12.2673685\ttotal: 231ms\tremaining: 346ms\n",
            "36:\tlearn: 12.2338226\ttotal: 235ms\tremaining: 336ms\n",
            "37:\tlearn: 12.1916609\ttotal: 238ms\tremaining: 326ms\n",
            "38:\tlearn: 12.1363340\ttotal: 242ms\tremaining: 317ms\n",
            "39:\tlearn: 12.0714905\ttotal: 246ms\tremaining: 307ms\n",
            "40:\tlearn: 12.0497334\ttotal: 249ms\tremaining: 298ms\n",
            "41:\tlearn: 12.0057151\ttotal: 254ms\tremaining: 291ms\n",
            "42:\tlearn: 11.9610794\ttotal: 258ms\tremaining: 282ms\n",
            "43:\tlearn: 11.9204919\ttotal: 260ms\tremaining: 272ms\n",
            "44:\tlearn: 11.8906071\ttotal: 263ms\tremaining: 263ms\n",
            "45:\tlearn: 11.8574761\ttotal: 267ms\tremaining: 255ms\n",
            "46:\tlearn: 11.8334930\ttotal: 270ms\tremaining: 247ms\n",
            "47:\tlearn: 11.7978661\ttotal: 274ms\tremaining: 240ms\n",
            "48:\tlearn: 11.7613068\ttotal: 288ms\tremaining: 241ms\n",
            "49:\tlearn: 11.7325249\ttotal: 302ms\tremaining: 242ms\n",
            "50:\tlearn: 11.6783987\ttotal: 309ms\tremaining: 236ms\n",
            "51:\tlearn: 11.6468077\ttotal: 312ms\tremaining: 228ms\n",
            "52:\tlearn: 11.6211081\ttotal: 317ms\tremaining: 222ms\n",
            "53:\tlearn: 11.5931073\ttotal: 320ms\tremaining: 213ms\n",
            "54:\tlearn: 11.5643494\ttotal: 323ms\tremaining: 206ms\n",
            "55:\tlearn: 11.5257792\ttotal: 339ms\tremaining: 206ms\n",
            "56:\tlearn: 11.4958890\ttotal: 341ms\tremaining: 198ms\n",
            "57:\tlearn: 11.4503208\ttotal: 345ms\tremaining: 190ms\n",
            "58:\tlearn: 11.4315599\ttotal: 349ms\tremaining: 183ms\n",
            "59:\tlearn: 11.4181419\ttotal: 353ms\tremaining: 177ms\n",
            "60:\tlearn: 11.4009825\ttotal: 357ms\tremaining: 170ms\n",
            "61:\tlearn: 11.3793030\ttotal: 361ms\tremaining: 163ms\n",
            "62:\tlearn: 11.3475380\ttotal: 365ms\tremaining: 157ms\n",
            "63:\tlearn: 11.3464473\ttotal: 372ms\tremaining: 151ms\n",
            "64:\tlearn: 11.3454043\ttotal: 374ms\tremaining: 144ms\n",
            "65:\tlearn: 11.3246236\ttotal: 378ms\tremaining: 137ms\n",
            "66:\tlearn: 11.3128209\ttotal: 382ms\tremaining: 131ms\n",
            "67:\tlearn: 11.2945323\ttotal: 388ms\tremaining: 125ms\n",
            "68:\tlearn: 11.2829064\ttotal: 390ms\tremaining: 119ms\n",
            "69:\tlearn: 11.2526379\ttotal: 394ms\tremaining: 113ms\n",
            "70:\tlearn: 11.2153941\ttotal: 398ms\tremaining: 106ms\n",
            "71:\tlearn: 11.2034329\ttotal: 402ms\tremaining: 100ms\n",
            "72:\tlearn: 11.2022658\ttotal: 406ms\tremaining: 94.4ms\n",
            "73:\tlearn: 11.2011898\ttotal: 411ms\tremaining: 89ms\n",
            "74:\tlearn: 11.1767053\ttotal: 421ms\tremaining: 84.2ms\n",
            "75:\tlearn: 11.1529210\ttotal: 423ms\tremaining: 78ms\n",
            "76:\tlearn: 11.1352625\ttotal: 429ms\tremaining: 72.4ms\n",
            "77:\tlearn: 11.1256060\ttotal: 431ms\tremaining: 66.4ms\n",
            "78:\tlearn: 11.1144332\ttotal: 435ms\tremaining: 60.6ms\n",
            "79:\tlearn: 11.1069236\ttotal: 439ms\tremaining: 54.9ms\n",
            "80:\tlearn: 11.0917685\ttotal: 442ms\tremaining: 49.2ms\n",
            "81:\tlearn: 11.0678567\ttotal: 446ms\tremaining: 43.5ms\n",
            "82:\tlearn: 11.0492207\ttotal: 450ms\tremaining: 38ms\n",
            "83:\tlearn: 11.0485726\ttotal: 454ms\tremaining: 32.4ms\n",
            "84:\tlearn: 11.0479056\ttotal: 457ms\tremaining: 26.9ms\n",
            "85:\tlearn: 11.0306732\ttotal: 460ms\tremaining: 21.4ms\n",
            "86:\tlearn: 11.0018912\ttotal: 464ms\tremaining: 16ms\n",
            "87:\tlearn: 11.0012917\ttotal: 467ms\tremaining: 10.6ms\n",
            "88:\tlearn: 10.9880306\ttotal: 471ms\tremaining: 5.29ms\n",
            "89:\tlearn: 10.9558531\ttotal: 475ms\tremaining: 0us\n"
          ]
        },
        {
          "output_type": "execute_result",
          "data": {
            "text/plain": [
              "RandomizedSearchCV(cv=TimeSeriesSplit(gap=0, max_train_size=None, n_splits=9, test_size=None),\n",
              "                   estimator=<catboost.core.CatBoostRegressor object at 0x7f50018990d0>,\n",
              "                   n_jobs=-1,\n",
              "                   param_distributions={'depth': range(4, 10, 2),\n",
              "                                        'iterations': range(40, 100, 10),\n",
              "                                        'learning_rate': array([0.01, 0.02, 0.03, 0.04, 0.05, 0.06, 0.07, 0.08, 0.09, 0.1 , 0.11,\n",
              "       0.12, 0.13, 0.14, 0.15, 0.16, 0.17, 0.18, 0.19, 0.2 , 0.21, 0.22,\n",
              "       0.23, 0.24, 0.25, 0.26, 0.27, 0.28, 0.29])},\n",
              "                   scoring='neg_mean_squared_error', verbose=False)"
            ]
          },
          "metadata": {},
          "execution_count": 27
        }
      ],
      "source": [
        "grid_cbr.fit(X_train,y_train)"
      ]
    },
    {
      "cell_type": "code",
      "execution_count": null,
      "metadata": {
        "colab": {
          "base_uri": "https://localhost:8080/"
        },
        "id": "6wEnP-bisHNk",
        "outputId": "2501ccc0-4fe4-4607-c10b-3481fe70ed5f"
      },
      "outputs": [
        {
          "output_type": "execute_result",
          "data": {
            "text/plain": [
              "{'learning_rate': 0.18000000000000002, 'iterations': 90, 'depth': 6}"
            ]
          },
          "metadata": {},
          "execution_count": 28
        }
      ],
      "source": [
        "grid_cbr.best_params_#лучшие гиперпараметры для модели"
      ]
    },
    {
      "cell_type": "code",
      "execution_count": null,
      "metadata": {
        "colab": {
          "base_uri": "https://localhost:8080/"
        },
        "id": "cgHktSSvsHNk",
        "outputId": "c527d776-938b-4917-f1ab-cb1be38ac4c2"
      },
      "outputs": [
        {
          "output_type": "stream",
          "name": "stdout",
          "text": [
            "0:\tlearn: 18.3281042\ttotal: 8.91ms\tremaining: 793ms\n",
            "1:\tlearn: 17.5989554\ttotal: 12.9ms\tremaining: 566ms\n",
            "2:\tlearn: 16.9145674\ttotal: 18.1ms\tremaining: 526ms\n",
            "3:\tlearn: 16.3917506\ttotal: 23.1ms\tremaining: 498ms\n",
            "4:\tlearn: 15.9879850\ttotal: 30.5ms\tremaining: 518ms\n",
            "5:\tlearn: 15.5286684\ttotal: 33.2ms\tremaining: 464ms\n",
            "6:\tlearn: 15.1601552\ttotal: 35.8ms\tremaining: 425ms\n",
            "7:\tlearn: 14.8775567\ttotal: 39.3ms\tremaining: 402ms\n",
            "8:\tlearn: 14.6850624\ttotal: 43.9ms\tremaining: 395ms\n",
            "9:\tlearn: 14.3855987\ttotal: 46.2ms\tremaining: 370ms\n",
            "10:\tlearn: 14.1581498\ttotal: 50.9ms\tremaining: 365ms\n",
            "11:\tlearn: 14.0042270\ttotal: 53.3ms\tremaining: 347ms\n",
            "12:\tlearn: 13.8766097\ttotal: 56.9ms\tremaining: 337ms\n",
            "13:\tlearn: 13.7659418\ttotal: 60.5ms\tremaining: 328ms\n",
            "14:\tlearn: 13.6327307\ttotal: 68.7ms\tremaining: 343ms\n",
            "15:\tlearn: 13.5077770\ttotal: 72.9ms\tremaining: 337ms\n",
            "16:\tlearn: 13.3933736\ttotal: 75.7ms\tremaining: 325ms\n",
            "17:\tlearn: 13.2876057\ttotal: 79.4ms\tremaining: 317ms\n",
            "18:\tlearn: 13.1668567\ttotal: 83ms\tremaining: 310ms\n",
            "19:\tlearn: 13.0584840\ttotal: 86.5ms\tremaining: 303ms\n",
            "20:\tlearn: 12.9820723\ttotal: 90.2ms\tremaining: 296ms\n",
            "21:\tlearn: 12.9034856\ttotal: 93.9ms\tremaining: 290ms\n",
            "22:\tlearn: 12.8655032\ttotal: 97.5ms\tremaining: 284ms\n",
            "23:\tlearn: 12.7597611\ttotal: 101ms\tremaining: 279ms\n",
            "24:\tlearn: 12.7361780\ttotal: 105ms\tremaining: 274ms\n",
            "25:\tlearn: 12.6616254\ttotal: 109ms\tremaining: 269ms\n",
            "26:\tlearn: 12.6303365\ttotal: 113ms\tremaining: 264ms\n",
            "27:\tlearn: 12.5844635\ttotal: 116ms\tremaining: 257ms\n",
            "28:\tlearn: 12.5130921\ttotal: 120ms\tremaining: 252ms\n",
            "29:\tlearn: 12.4885721\ttotal: 124ms\tremaining: 247ms\n",
            "30:\tlearn: 12.4676644\ttotal: 128ms\tremaining: 244ms\n",
            "31:\tlearn: 12.4167880\ttotal: 130ms\tremaining: 236ms\n",
            "32:\tlearn: 12.3746222\ttotal: 134ms\tremaining: 231ms\n",
            "33:\tlearn: 12.3421557\ttotal: 137ms\tremaining: 226ms\n",
            "34:\tlearn: 12.3106210\ttotal: 141ms\tremaining: 222ms\n",
            "35:\tlearn: 12.2673685\ttotal: 145ms\tremaining: 217ms\n",
            "36:\tlearn: 12.2338226\ttotal: 148ms\tremaining: 212ms\n",
            "37:\tlearn: 12.1916609\ttotal: 152ms\tremaining: 208ms\n",
            "38:\tlearn: 12.1363340\ttotal: 156ms\tremaining: 204ms\n",
            "39:\tlearn: 12.0714905\ttotal: 160ms\tremaining: 200ms\n",
            "40:\tlearn: 12.0497334\ttotal: 163ms\tremaining: 195ms\n",
            "41:\tlearn: 12.0057151\ttotal: 167ms\tremaining: 191ms\n",
            "42:\tlearn: 11.9610794\ttotal: 171ms\tremaining: 186ms\n",
            "43:\tlearn: 11.9204919\ttotal: 174ms\tremaining: 182ms\n",
            "44:\tlearn: 11.8906071\ttotal: 182ms\tremaining: 182ms\n",
            "45:\tlearn: 11.8574761\ttotal: 185ms\tremaining: 177ms\n",
            "46:\tlearn: 11.8334930\ttotal: 196ms\tremaining: 179ms\n",
            "47:\tlearn: 11.7978661\ttotal: 200ms\tremaining: 175ms\n",
            "48:\tlearn: 11.7613068\ttotal: 204ms\tremaining: 171ms\n",
            "49:\tlearn: 11.7325249\ttotal: 208ms\tremaining: 166ms\n",
            "50:\tlearn: 11.6783987\ttotal: 213ms\tremaining: 163ms\n",
            "51:\tlearn: 11.6468077\ttotal: 216ms\tremaining: 158ms\n",
            "52:\tlearn: 11.6211081\ttotal: 220ms\tremaining: 153ms\n",
            "53:\tlearn: 11.5931073\ttotal: 223ms\tremaining: 149ms\n",
            "54:\tlearn: 11.5643494\ttotal: 232ms\tremaining: 148ms\n",
            "55:\tlearn: 11.5257792\ttotal: 236ms\tremaining: 143ms\n",
            "56:\tlearn: 11.4958890\ttotal: 239ms\tremaining: 138ms\n",
            "57:\tlearn: 11.4503208\ttotal: 242ms\tremaining: 134ms\n",
            "58:\tlearn: 11.4315599\ttotal: 246ms\tremaining: 129ms\n",
            "59:\tlearn: 11.4181419\ttotal: 249ms\tremaining: 124ms\n",
            "60:\tlearn: 11.4009825\ttotal: 253ms\tremaining: 120ms\n",
            "61:\tlearn: 11.3793030\ttotal: 256ms\tremaining: 116ms\n",
            "62:\tlearn: 11.3475380\ttotal: 284ms\tremaining: 122ms\n",
            "63:\tlearn: 11.3464473\ttotal: 286ms\tremaining: 116ms\n",
            "64:\tlearn: 11.3454043\ttotal: 290ms\tremaining: 112ms\n",
            "65:\tlearn: 11.3246236\ttotal: 294ms\tremaining: 107ms\n",
            "66:\tlearn: 11.3128209\ttotal: 297ms\tremaining: 102ms\n",
            "67:\tlearn: 11.2945323\ttotal: 301ms\tremaining: 97.3ms\n",
            "68:\tlearn: 11.2829064\ttotal: 305ms\tremaining: 92.7ms\n",
            "69:\tlearn: 11.2526379\ttotal: 308ms\tremaining: 88ms\n",
            "70:\tlearn: 11.2153941\ttotal: 311ms\tremaining: 83.2ms\n",
            "71:\tlearn: 11.2034329\ttotal: 314ms\tremaining: 78.6ms\n",
            "72:\tlearn: 11.2022658\ttotal: 318ms\tremaining: 74ms\n",
            "73:\tlearn: 11.2011898\ttotal: 324ms\tremaining: 70.1ms\n",
            "74:\tlearn: 11.1767053\ttotal: 327ms\tremaining: 65.4ms\n",
            "75:\tlearn: 11.1529210\ttotal: 331ms\tremaining: 60.9ms\n",
            "76:\tlearn: 11.1352625\ttotal: 332ms\tremaining: 56.1ms\n",
            "77:\tlearn: 11.1256060\ttotal: 334ms\tremaining: 51.4ms\n",
            "78:\tlearn: 11.1144332\ttotal: 349ms\tremaining: 48.6ms\n",
            "79:\tlearn: 11.1069236\ttotal: 350ms\tremaining: 43.8ms\n",
            "80:\tlearn: 11.0917685\ttotal: 356ms\tremaining: 39.6ms\n",
            "81:\tlearn: 11.0678567\ttotal: 358ms\tremaining: 34.9ms\n",
            "82:\tlearn: 11.0492207\ttotal: 364ms\tremaining: 30.7ms\n",
            "83:\tlearn: 11.0485726\ttotal: 367ms\tremaining: 26.2ms\n",
            "84:\tlearn: 11.0479056\ttotal: 368ms\tremaining: 21.7ms\n",
            "85:\tlearn: 11.0306732\ttotal: 378ms\tremaining: 17.6ms\n",
            "86:\tlearn: 11.0018912\ttotal: 382ms\tremaining: 13.2ms\n",
            "87:\tlearn: 11.0012917\ttotal: 386ms\tremaining: 8.78ms\n",
            "88:\tlearn: 10.9880306\ttotal: 388ms\tremaining: 4.36ms\n",
            "89:\tlearn: 10.9558531\ttotal: 404ms\tremaining: 0us\n",
            "RMSE CatBoostRegressor обучающей выборки: 10.955853143174314\n"
          ]
        }
      ],
      "source": [
        "model = grid_cbr.best_estimator_\n",
        "model.fit(X_train,y_train)\n",
        "predict_train = model.predict(X_train)\n",
        "predict_test_cbr = model.predict(X_test)\n",
        "print(\"RMSE CatBoostRegressor обучающей выборки:\", mean_squared_error(predict_train, y_train)**.5)\n"
      ]
    },
    {
      "cell_type": "markdown",
      "metadata": {
        "id": "G6gy0FTlsHNk"
      },
      "source": [
        "## Тестирование"
      ]
    },
    {
      "cell_type": "markdown",
      "metadata": {
        "id": "BsNTOj84sHNk"
      },
      "source": [
        "Ниже приведено сравнение метрики RMSE для трех обученных моделей."
      ]
    },
    {
      "cell_type": "code",
      "execution_count": null,
      "metadata": {
        "scrolled": true,
        "colab": {
          "base_uri": "https://localhost:8080/",
          "height": 143
        },
        "id": "lc_KGxpJsHNl",
        "outputId": "06bbf04f-f7f8-47b0-ffee-a9087e63c2c5"
      },
      "outputs": [
        {
          "output_type": "execute_result",
          "data": {
            "text/plain": [
              "                                          RMSE\n",
              "LinearRegreassion обучающей выборки      16.91\n",
              "RandomForestRegressor обучающей выборки   9.57\n",
              "CatBoostRegressor обучающей выборки      13.31"
            ],
            "text/html": [
              "\n",
              "  <div id=\"df-c1761b08-a42b-4002-91de-afa19d81ab9c\">\n",
              "    <div class=\"colab-df-container\">\n",
              "      <div>\n",
              "<style scoped>\n",
              "    .dataframe tbody tr th:only-of-type {\n",
              "        vertical-align: middle;\n",
              "    }\n",
              "\n",
              "    .dataframe tbody tr th {\n",
              "        vertical-align: top;\n",
              "    }\n",
              "\n",
              "    .dataframe thead th {\n",
              "        text-align: right;\n",
              "    }\n",
              "</style>\n",
              "<table border=\"1\" class=\"dataframe\">\n",
              "  <thead>\n",
              "    <tr style=\"text-align: right;\">\n",
              "      <th></th>\n",
              "      <th>RMSE</th>\n",
              "    </tr>\n",
              "  </thead>\n",
              "  <tbody>\n",
              "    <tr>\n",
              "      <th>LinearRegreassion обучающей выборки</th>\n",
              "      <td>16.91</td>\n",
              "    </tr>\n",
              "    <tr>\n",
              "      <th>RandomForestRegressor обучающей выборки</th>\n",
              "      <td>9.57</td>\n",
              "    </tr>\n",
              "    <tr>\n",
              "      <th>CatBoostRegressor обучающей выборки</th>\n",
              "      <td>13.31</td>\n",
              "    </tr>\n",
              "  </tbody>\n",
              "</table>\n",
              "</div>\n",
              "      <button class=\"colab-df-convert\" onclick=\"convertToInteractive('df-c1761b08-a42b-4002-91de-afa19d81ab9c')\"\n",
              "              title=\"Convert this dataframe to an interactive table.\"\n",
              "              style=\"display:none;\">\n",
              "        \n",
              "  <svg xmlns=\"http://www.w3.org/2000/svg\" height=\"24px\"viewBox=\"0 0 24 24\"\n",
              "       width=\"24px\">\n",
              "    <path d=\"M0 0h24v24H0V0z\" fill=\"none\"/>\n",
              "    <path d=\"M18.56 5.44l.94 2.06.94-2.06 2.06-.94-2.06-.94-.94-2.06-.94 2.06-2.06.94zm-11 1L8.5 8.5l.94-2.06 2.06-.94-2.06-.94L8.5 2.5l-.94 2.06-2.06.94zm10 10l.94 2.06.94-2.06 2.06-.94-2.06-.94-.94-2.06-.94 2.06-2.06.94z\"/><path d=\"M17.41 7.96l-1.37-1.37c-.4-.4-.92-.59-1.43-.59-.52 0-1.04.2-1.43.59L10.3 9.45l-7.72 7.72c-.78.78-.78 2.05 0 2.83L4 21.41c.39.39.9.59 1.41.59.51 0 1.02-.2 1.41-.59l7.78-7.78 2.81-2.81c.8-.78.8-2.07 0-2.86zM5.41 20L4 18.59l7.72-7.72 1.47 1.35L5.41 20z\"/>\n",
              "  </svg>\n",
              "      </button>\n",
              "      \n",
              "  <style>\n",
              "    .colab-df-container {\n",
              "      display:flex;\n",
              "      flex-wrap:wrap;\n",
              "      gap: 12px;\n",
              "    }\n",
              "\n",
              "    .colab-df-convert {\n",
              "      background-color: #E8F0FE;\n",
              "      border: none;\n",
              "      border-radius: 50%;\n",
              "      cursor: pointer;\n",
              "      display: none;\n",
              "      fill: #1967D2;\n",
              "      height: 32px;\n",
              "      padding: 0 0 0 0;\n",
              "      width: 32px;\n",
              "    }\n",
              "\n",
              "    .colab-df-convert:hover {\n",
              "      background-color: #E2EBFA;\n",
              "      box-shadow: 0px 1px 2px rgba(60, 64, 67, 0.3), 0px 1px 3px 1px rgba(60, 64, 67, 0.15);\n",
              "      fill: #174EA6;\n",
              "    }\n",
              "\n",
              "    [theme=dark] .colab-df-convert {\n",
              "      background-color: #3B4455;\n",
              "      fill: #D2E3FC;\n",
              "    }\n",
              "\n",
              "    [theme=dark] .colab-df-convert:hover {\n",
              "      background-color: #434B5C;\n",
              "      box-shadow: 0px 1px 3px 1px rgba(0, 0, 0, 0.15);\n",
              "      filter: drop-shadow(0px 1px 2px rgba(0, 0, 0, 0.3));\n",
              "      fill: #FFFFFF;\n",
              "    }\n",
              "  </style>\n",
              "\n",
              "      <script>\n",
              "        const buttonEl =\n",
              "          document.querySelector('#df-c1761b08-a42b-4002-91de-afa19d81ab9c button.colab-df-convert');\n",
              "        buttonEl.style.display =\n",
              "          google.colab.kernel.accessAllowed ? 'block' : 'none';\n",
              "\n",
              "        async function convertToInteractive(key) {\n",
              "          const element = document.querySelector('#df-c1761b08-a42b-4002-91de-afa19d81ab9c');\n",
              "          const dataTable =\n",
              "            await google.colab.kernel.invokeFunction('convertToInteractive',\n",
              "                                                     [key], {});\n",
              "          if (!dataTable) return;\n",
              "\n",
              "          const docLinkHtml = 'Like what you see? Visit the ' +\n",
              "            '<a target=\"_blank\" href=https://colab.research.google.com/notebooks/data_table.ipynb>data table notebook</a>'\n",
              "            + ' to learn more about interactive tables.';\n",
              "          element.innerHTML = '';\n",
              "          dataTable['output_type'] = 'display_data';\n",
              "          await google.colab.output.renderOutput(dataTable, element);\n",
              "          const docLink = document.createElement('div');\n",
              "          docLink.innerHTML = docLinkHtml;\n",
              "          element.appendChild(docLink);\n",
              "        }\n",
              "      </script>\n",
              "    </div>\n",
              "  </div>\n",
              "  "
            ]
          },
          "metadata": {},
          "execution_count": 30
        }
      ],
      "source": [
        "data = [16.91,9.57,13.31]\n",
        "data = pd.DataFrame(data, index=['LinearRegreassion обучающей выборки',\n",
        "        'RandomForestRegressor обучающей выборки',\n",
        "        'CatBoostRegressor обучающей выборки'], columns = ['RMSE'])\n",
        "data"
      ]
    },
    {
      "cell_type": "markdown",
      "metadata": {
        "id": "pspLABBSsHNl"
      },
      "source": [
        "Проверим качество всех моделей на тестовой выборке."
      ]
    },
    {
      "cell_type": "code",
      "execution_count": null,
      "metadata": {
        "colab": {
          "base_uri": "https://localhost:8080/"
        },
        "id": "VZKygxazsHNl",
        "outputId": "30805c99-8856-4435-9ad6-a8712e7729f8"
      },
      "outputs": [
        {
          "output_type": "stream",
          "name": "stdout",
          "text": [
            "RMSE Linear REgression тестовой выборки:  46.38288580637071\n",
            "RMSE RandomForestRegressor тестовой выборки:  40.009047469684795\n",
            "RMSE CatBoostRegressor тестовой выборки:  36.78525189405437\n"
          ]
        }
      ],
      "source": [
        "print(\"RMSE Linear REgression тестовой выборки: \", mean_squared_error(predict_test_lr,y_test)**.5)\n",
        "print(\"RMSE RandomForestRegressor тестовой выборки: \", mean_squared_error(predict_test_rfr,y_test)**.5)\n",
        "print(\"RMSE CatBoostRegressor тестовой выборки: \", mean_squared_error(predict_test_cbr,y_test)**.5)"
      ]
    },
    {
      "cell_type": "markdown",
      "metadata": {
        "id": "l9LJCF-lsHNl"
      },
      "source": [
        "Наилучшее качество на тестовой выборке показывает CatBoostRegressor."
      ]
    },
    {
      "cell_type": "markdown",
      "metadata": {
        "id": "efrBEuZJsHNm"
      },
      "source": [
        "# Общий вывод #\n",
        "\n",
        " В ходе работы над проектом мы проанализировали данные по количеству заказов службы такси за период с марта по август 2018 года. \n",
        "\n",
        " Визуализация данных показала тренд на увеличение заказов в предстоящем периоде - сентябрь 2018 года - и наличие сезонности, выражающейся в росте числа заказов в начале недели и в ночной период суток.\n",
        " \n",
        " Нами было обучено три модели и найдены наилучшие гиперпараметры для каждой из них. \n",
        "В результате проверки на тестовой выборке было определено, что каждая модель удовлетворяет условиям задачи: метрика RMSE составляет ниже 48. Наиболее низкое RMSE у CatBoostRegressor с гиперпараметрами: {'learning_rate': 0.25, 'iterations': 70, 'depth': 4}. Будем рекомендовать данную модель для использования в прогнозировании числа заказов."
      ]
    }
  ],
  "metadata": {
    "ExecuteTimeLog": [
      {
        "duration": 416,
        "start_time": "2022-08-10T08:23:48.169Z"
      },
      {
        "duration": 113,
        "start_time": "2022-08-10T08:24:08.816Z"
      },
      {
        "duration": 136,
        "start_time": "2022-08-10T08:24:27.860Z"
      },
      {
        "duration": 2,
        "start_time": "2022-08-10T08:30:15.462Z"
      },
      {
        "duration": 44,
        "start_time": "2022-08-10T08:30:15.797Z"
      },
      {
        "duration": 49,
        "start_time": "2022-08-10T08:34:23.108Z"
      },
      {
        "duration": 15,
        "start_time": "2022-08-10T08:34:54.266Z"
      },
      {
        "duration": 44,
        "start_time": "2022-08-10T08:35:04.831Z"
      },
      {
        "duration": 7,
        "start_time": "2022-08-10T08:35:13.374Z"
      },
      {
        "duration": 12,
        "start_time": "2022-08-10T08:35:26.670Z"
      },
      {
        "duration": 44,
        "start_time": "2022-08-10T08:35:49.145Z"
      },
      {
        "duration": 7,
        "start_time": "2022-08-10T08:35:49.569Z"
      },
      {
        "duration": 12,
        "start_time": "2022-08-10T08:35:50.490Z"
      },
      {
        "duration": 3,
        "start_time": "2022-08-10T08:36:19.773Z"
      },
      {
        "duration": 6,
        "start_time": "2022-08-10T08:36:24.828Z"
      },
      {
        "duration": 112,
        "start_time": "2022-08-10T08:36:28.658Z"
      },
      {
        "duration": 3,
        "start_time": "2022-08-10T08:36:35.068Z"
      },
      {
        "duration": 9,
        "start_time": "2022-08-10T08:36:46.526Z"
      },
      {
        "duration": 2383,
        "start_time": "2022-08-10T08:36:56.138Z"
      },
      {
        "duration": 1837,
        "start_time": "2022-08-10T08:37:15.081Z"
      },
      {
        "duration": 1625,
        "start_time": "2022-08-10T08:37:44.367Z"
      },
      {
        "duration": 1503,
        "start_time": "2022-08-10T08:37:54.273Z"
      },
      {
        "duration": 656,
        "start_time": "2022-08-10T08:38:16.049Z"
      },
      {
        "duration": 715,
        "start_time": "2022-08-10T08:38:19.218Z"
      },
      {
        "duration": 4,
        "start_time": "2022-08-10T08:38:32.454Z"
      },
      {
        "duration": 5,
        "start_time": "2022-08-10T08:38:47.565Z"
      },
      {
        "duration": 14,
        "start_time": "2022-08-10T08:39:00.771Z"
      },
      {
        "duration": 47,
        "start_time": "2022-08-10T08:39:06.305Z"
      },
      {
        "duration": 10,
        "start_time": "2022-08-10T08:39:06.736Z"
      },
      {
        "duration": 6,
        "start_time": "2022-08-10T08:39:37.308Z"
      },
      {
        "duration": 1415,
        "start_time": "2022-08-10T08:39:59.283Z"
      },
      {
        "duration": 2706,
        "start_time": "2022-08-10T08:40:08.524Z"
      },
      {
        "duration": 9,
        "start_time": "2022-08-10T08:40:27.761Z"
      },
      {
        "duration": 80,
        "start_time": "2022-08-10T08:41:14.735Z"
      },
      {
        "duration": 2,
        "start_time": "2022-08-10T08:41:18.966Z"
      },
      {
        "duration": 70,
        "start_time": "2022-08-10T08:41:19.309Z"
      },
      {
        "duration": 50,
        "start_time": "2022-08-10T08:41:41.510Z"
      },
      {
        "duration": 7,
        "start_time": "2022-08-10T08:41:43.216Z"
      },
      {
        "duration": 5,
        "start_time": "2022-08-10T08:41:46.368Z"
      },
      {
        "duration": 13,
        "start_time": "2022-08-10T08:41:56.679Z"
      },
      {
        "duration": 1260,
        "start_time": "2022-08-10T08:42:22.222Z"
      },
      {
        "duration": 4,
        "start_time": "2022-08-10T08:42:33.136Z"
      },
      {
        "duration": 8,
        "start_time": "2022-08-10T08:42:43.864Z"
      },
      {
        "duration": 656,
        "start_time": "2022-08-10T08:42:54.993Z"
      },
      {
        "duration": 240,
        "start_time": "2022-08-10T08:46:14.364Z"
      },
      {
        "duration": 4,
        "start_time": "2022-08-10T08:46:27.545Z"
      },
      {
        "duration": 281,
        "start_time": "2022-08-10T08:46:30.680Z"
      },
      {
        "duration": 212,
        "start_time": "2022-08-10T08:46:35.888Z"
      },
      {
        "duration": 368,
        "start_time": "2022-08-10T08:48:18.741Z"
      },
      {
        "duration": 230,
        "start_time": "2022-08-10T08:50:47.045Z"
      },
      {
        "duration": 253,
        "start_time": "2022-08-10T08:50:56.873Z"
      },
      {
        "duration": 305,
        "start_time": "2022-08-10T08:51:08.252Z"
      },
      {
        "duration": 287,
        "start_time": "2022-08-10T08:51:15.450Z"
      },
      {
        "duration": 339,
        "start_time": "2022-08-10T08:52:16.510Z"
      },
      {
        "duration": 6,
        "start_time": "2022-08-10T08:52:19.470Z"
      },
      {
        "duration": 321,
        "start_time": "2022-08-10T08:53:47.501Z"
      },
      {
        "duration": 297,
        "start_time": "2022-08-10T08:53:57.376Z"
      },
      {
        "duration": 281,
        "start_time": "2022-08-10T08:54:12.613Z"
      },
      {
        "duration": 384,
        "start_time": "2022-08-10T08:54:19.708Z"
      },
      {
        "duration": 9,
        "start_time": "2022-08-10T08:54:35.149Z"
      },
      {
        "duration": 9,
        "start_time": "2022-08-10T08:54:55.880Z"
      },
      {
        "duration": 5,
        "start_time": "2022-08-10T08:56:09.530Z"
      },
      {
        "duration": 161,
        "start_time": "2022-08-10T08:56:31.101Z"
      },
      {
        "duration": 164,
        "start_time": "2022-08-10T08:56:55.171Z"
      },
      {
        "duration": 301,
        "start_time": "2022-08-10T08:57:01.572Z"
      },
      {
        "duration": 164,
        "start_time": "2022-08-10T08:57:53.522Z"
      },
      {
        "duration": 295,
        "start_time": "2022-08-10T08:58:12.872Z"
      },
      {
        "duration": 3,
        "start_time": "2022-08-10T08:58:32.672Z"
      },
      {
        "duration": 472,
        "start_time": "2022-08-10T08:58:52.982Z"
      },
      {
        "duration": 375,
        "start_time": "2022-08-10T09:04:42.392Z"
      },
      {
        "duration": 450,
        "start_time": "2022-08-10T09:07:21.457Z"
      },
      {
        "duration": 38,
        "start_time": "2022-08-10T09:07:40.064Z"
      },
      {
        "duration": 16,
        "start_time": "2022-08-10T09:08:06.449Z"
      },
      {
        "duration": 3,
        "start_time": "2022-08-10T09:08:22.293Z"
      },
      {
        "duration": 47,
        "start_time": "2022-08-10T09:08:22.659Z"
      },
      {
        "duration": 8,
        "start_time": "2022-08-10T09:08:23.171Z"
      },
      {
        "duration": 11,
        "start_time": "2022-08-10T09:08:24.049Z"
      },
      {
        "duration": 9,
        "start_time": "2022-08-10T09:08:25.207Z"
      },
      {
        "duration": 6,
        "start_time": "2022-08-10T09:08:40.422Z"
      },
      {
        "duration": 9,
        "start_time": "2022-08-10T09:09:00.044Z"
      },
      {
        "duration": 8,
        "start_time": "2022-08-10T09:09:20.037Z"
      },
      {
        "duration": 9,
        "start_time": "2022-08-10T09:10:34.698Z"
      },
      {
        "duration": 16,
        "start_time": "2022-08-10T09:11:16.044Z"
      },
      {
        "duration": 3,
        "start_time": "2022-08-10T09:12:23.893Z"
      },
      {
        "duration": 51,
        "start_time": "2022-08-10T09:12:23.898Z"
      },
      {
        "duration": 10,
        "start_time": "2022-08-10T09:12:23.951Z"
      },
      {
        "duration": 12,
        "start_time": "2022-08-10T09:12:23.963Z"
      },
      {
        "duration": 7,
        "start_time": "2022-08-10T09:12:23.977Z"
      },
      {
        "duration": 11,
        "start_time": "2022-08-10T09:12:23.986Z"
      },
      {
        "duration": 289,
        "start_time": "2022-08-10T09:12:23.998Z"
      },
      {
        "duration": 473,
        "start_time": "2022-08-10T09:12:24.289Z"
      },
      {
        "duration": 9,
        "start_time": "2022-08-10T09:12:24.763Z"
      },
      {
        "duration": 944,
        "start_time": "2022-08-10T09:12:59.060Z"
      },
      {
        "duration": 13,
        "start_time": "2022-08-10T09:13:29.154Z"
      },
      {
        "duration": 934,
        "start_time": "2022-08-10T09:13:43.353Z"
      },
      {
        "duration": 212,
        "start_time": "2022-08-10T09:14:20.376Z"
      },
      {
        "duration": 323,
        "start_time": "2022-08-10T09:14:46.416Z"
      },
      {
        "duration": 254,
        "start_time": "2022-08-10T09:15:00.096Z"
      },
      {
        "duration": 349,
        "start_time": "2022-08-10T09:15:21.136Z"
      },
      {
        "duration": 245,
        "start_time": "2022-08-10T09:15:34.514Z"
      },
      {
        "duration": 251,
        "start_time": "2022-08-10T09:15:59.848Z"
      },
      {
        "duration": 271,
        "start_time": "2022-08-10T09:16:35.025Z"
      },
      {
        "duration": 257,
        "start_time": "2022-08-10T09:16:42.312Z"
      },
      {
        "duration": 126,
        "start_time": "2022-08-10T09:18:54.683Z"
      },
      {
        "duration": 85,
        "start_time": "2022-08-10T09:19:13.486Z"
      },
      {
        "duration": 107,
        "start_time": "2022-08-10T09:19:19.222Z"
      },
      {
        "duration": 244,
        "start_time": "2022-08-10T09:20:05.438Z"
      },
      {
        "duration": 309,
        "start_time": "2022-08-10T09:20:12.560Z"
      },
      {
        "duration": 94,
        "start_time": "2022-08-10T09:20:58.072Z"
      },
      {
        "duration": 170,
        "start_time": "2022-08-10T09:21:15.078Z"
      },
      {
        "duration": 95,
        "start_time": "2022-08-10T09:21:22.829Z"
      },
      {
        "duration": 97,
        "start_time": "2022-08-10T09:21:28.572Z"
      },
      {
        "duration": 242,
        "start_time": "2022-08-10T09:21:44.778Z"
      },
      {
        "duration": 3,
        "start_time": "2022-08-10T09:24:17.093Z"
      },
      {
        "duration": 9,
        "start_time": "2022-08-10T09:24:39.686Z"
      },
      {
        "duration": 9,
        "start_time": "2022-08-10T09:24:58.513Z"
      },
      {
        "duration": 23,
        "start_time": "2022-08-10T09:25:32.145Z"
      },
      {
        "duration": 81,
        "start_time": "2022-08-10T09:26:07.935Z"
      },
      {
        "duration": 116,
        "start_time": "2022-08-10T09:26:59.406Z"
      },
      {
        "duration": 4,
        "start_time": "2022-08-10T09:47:08.761Z"
      },
      {
        "duration": 16,
        "start_time": "2022-08-10T09:47:09.681Z"
      },
      {
        "duration": 9,
        "start_time": "2022-08-10T09:47:23.340Z"
      },
      {
        "duration": 15,
        "start_time": "2022-08-10T09:47:30.703Z"
      },
      {
        "duration": 131,
        "start_time": "2022-08-10T09:47:43.532Z"
      },
      {
        "duration": 3,
        "start_time": "2022-08-10T09:47:57.306Z"
      },
      {
        "duration": 112,
        "start_time": "2022-08-10T09:48:00.515Z"
      },
      {
        "duration": 8,
        "start_time": "2022-08-10T09:49:01.588Z"
      },
      {
        "duration": 15,
        "start_time": "2022-08-10T09:49:02.210Z"
      },
      {
        "duration": 85,
        "start_time": "2022-08-10T09:50:09.705Z"
      },
      {
        "duration": 15,
        "start_time": "2022-08-10T09:50:11.055Z"
      },
      {
        "duration": 84,
        "start_time": "2022-08-10T09:51:11.850Z"
      },
      {
        "duration": 80,
        "start_time": "2022-08-10T09:51:25.785Z"
      },
      {
        "duration": 14,
        "start_time": "2022-08-10T09:51:32.834Z"
      },
      {
        "duration": 361,
        "start_time": "2022-08-10T09:51:50.697Z"
      },
      {
        "duration": 314,
        "start_time": "2022-08-10T09:52:08.867Z"
      },
      {
        "duration": 903,
        "start_time": "2022-08-10T09:52:37.166Z"
      },
      {
        "duration": 312,
        "start_time": "2022-08-10T09:52:49.174Z"
      },
      {
        "duration": 473,
        "start_time": "2022-08-10T09:53:26.657Z"
      },
      {
        "duration": 407,
        "start_time": "2022-08-10T09:54:05.660Z"
      },
      {
        "duration": 354,
        "start_time": "2022-08-10T09:54:16.997Z"
      },
      {
        "duration": 236,
        "start_time": "2022-08-10T09:55:11.976Z"
      },
      {
        "duration": 379,
        "start_time": "2022-08-10T09:55:47.666Z"
      },
      {
        "duration": 340,
        "start_time": "2022-08-10T09:56:51.602Z"
      },
      {
        "duration": 10,
        "start_time": "2022-08-10T10:21:00.437Z"
      },
      {
        "duration": 300,
        "start_time": "2022-08-10T10:21:06.924Z"
      },
      {
        "duration": 46,
        "start_time": "2022-08-10T10:21:07.226Z"
      },
      {
        "duration": 23,
        "start_time": "2022-08-10T10:21:11.993Z"
      },
      {
        "duration": 4,
        "start_time": "2022-08-10T10:21:35.511Z"
      },
      {
        "duration": 6,
        "start_time": "2022-08-10T10:21:39.667Z"
      },
      {
        "duration": 7,
        "start_time": "2022-08-10T10:21:48.054Z"
      },
      {
        "duration": 9,
        "start_time": "2022-08-10T10:21:56.088Z"
      },
      {
        "duration": 6,
        "start_time": "2022-08-10T10:25:35.392Z"
      },
      {
        "duration": 3,
        "start_time": "2022-08-10T10:26:53.610Z"
      },
      {
        "duration": 662,
        "start_time": "2022-08-10T10:30:13.651Z"
      },
      {
        "duration": 20,
        "start_time": "2022-08-10T10:30:26.632Z"
      },
      {
        "duration": 3,
        "start_time": "2022-08-10T10:30:34.232Z"
      },
      {
        "duration": 51,
        "start_time": "2022-08-10T10:30:34.238Z"
      },
      {
        "duration": 8,
        "start_time": "2022-08-10T10:30:34.291Z"
      },
      {
        "duration": 15,
        "start_time": "2022-08-10T10:30:34.301Z"
      },
      {
        "duration": 6,
        "start_time": "2022-08-10T10:30:34.318Z"
      },
      {
        "duration": 13,
        "start_time": "2022-08-10T10:30:34.326Z"
      },
      {
        "duration": 299,
        "start_time": "2022-08-10T10:30:34.341Z"
      },
      {
        "duration": 386,
        "start_time": "2022-08-10T10:30:34.642Z"
      },
      {
        "duration": 387,
        "start_time": "2022-08-10T10:30:35.030Z"
      },
      {
        "duration": 7,
        "start_time": "2022-08-10T10:30:35.419Z"
      },
      {
        "duration": 15,
        "start_time": "2022-08-10T10:32:58.548Z"
      },
      {
        "duration": 6,
        "start_time": "2022-08-10T10:33:06.034Z"
      },
      {
        "duration": 14,
        "start_time": "2022-08-10T10:33:59.600Z"
      },
      {
        "duration": 380,
        "start_time": "2022-08-10T10:34:34.339Z"
      },
      {
        "duration": 383,
        "start_time": "2022-08-10T10:34:42.448Z"
      },
      {
        "duration": 495,
        "start_time": "2022-08-10T10:34:57.369Z"
      },
      {
        "duration": 7,
        "start_time": "2022-08-10T10:35:31.718Z"
      },
      {
        "duration": 7,
        "start_time": "2022-08-10T10:35:50.996Z"
      },
      {
        "duration": 6,
        "start_time": "2022-08-10T10:35:53.555Z"
      },
      {
        "duration": 6,
        "start_time": "2022-08-10T10:36:29.169Z"
      },
      {
        "duration": 6,
        "start_time": "2022-08-10T10:36:31.015Z"
      },
      {
        "duration": 5,
        "start_time": "2022-08-10T10:37:09.572Z"
      },
      {
        "duration": 9,
        "start_time": "2022-08-10T10:37:25.280Z"
      },
      {
        "duration": 11,
        "start_time": "2022-08-10T10:40:24.726Z"
      },
      {
        "duration": 4,
        "start_time": "2022-08-10T10:40:28.475Z"
      },
      {
        "duration": 68,
        "start_time": "2022-08-10T10:40:28.481Z"
      },
      {
        "duration": 9,
        "start_time": "2022-08-10T10:40:28.551Z"
      },
      {
        "duration": 14,
        "start_time": "2022-08-10T10:40:28.562Z"
      },
      {
        "duration": 6,
        "start_time": "2022-08-10T10:40:28.577Z"
      },
      {
        "duration": 8,
        "start_time": "2022-08-10T10:40:28.585Z"
      },
      {
        "duration": 283,
        "start_time": "2022-08-10T10:40:28.595Z"
      },
      {
        "duration": 382,
        "start_time": "2022-08-10T10:40:28.879Z"
      },
      {
        "duration": 380,
        "start_time": "2022-08-10T10:40:29.267Z"
      },
      {
        "duration": 6,
        "start_time": "2022-08-10T10:40:29.649Z"
      },
      {
        "duration": 5,
        "start_time": "2022-08-10T10:40:29.668Z"
      },
      {
        "duration": 6,
        "start_time": "2022-08-10T10:40:29.675Z"
      },
      {
        "duration": 27,
        "start_time": "2022-08-10T10:40:29.683Z"
      },
      {
        "duration": 3,
        "start_time": "2022-08-10T10:47:12.045Z"
      },
      {
        "duration": 55,
        "start_time": "2022-08-10T10:47:12.051Z"
      },
      {
        "duration": 8,
        "start_time": "2022-08-10T10:47:12.108Z"
      },
      {
        "duration": 11,
        "start_time": "2022-08-10T10:47:12.119Z"
      },
      {
        "duration": 6,
        "start_time": "2022-08-10T10:47:12.132Z"
      },
      {
        "duration": 9,
        "start_time": "2022-08-10T10:47:12.140Z"
      },
      {
        "duration": 302,
        "start_time": "2022-08-10T10:47:12.151Z"
      },
      {
        "duration": 14,
        "start_time": "2022-08-10T10:47:12.454Z"
      },
      {
        "duration": 13,
        "start_time": "2022-08-10T10:47:12.471Z"
      },
      {
        "duration": 497,
        "start_time": "2022-08-10T10:47:12.486Z"
      },
      {
        "duration": 504,
        "start_time": "2022-08-10T10:47:12.985Z"
      },
      {
        "duration": 8,
        "start_time": "2022-08-10T10:47:13.491Z"
      },
      {
        "duration": 5,
        "start_time": "2022-08-10T10:47:13.502Z"
      },
      {
        "duration": 8,
        "start_time": "2022-08-10T10:47:13.509Z"
      },
      {
        "duration": 59,
        "start_time": "2022-08-10T10:47:13.518Z"
      },
      {
        "duration": 374,
        "start_time": "2022-08-10T10:48:02.657Z"
      },
      {
        "duration": 4,
        "start_time": "2022-08-10T10:48:47.077Z"
      },
      {
        "duration": 7,
        "start_time": "2022-08-10T10:48:47.533Z"
      },
      {
        "duration": 339,
        "start_time": "2022-08-10T10:48:48.079Z"
      },
      {
        "duration": 383,
        "start_time": "2022-08-10T10:48:57.387Z"
      },
      {
        "duration": 11,
        "start_time": "2022-08-10T10:49:41.567Z"
      },
      {
        "duration": 14,
        "start_time": "2022-08-10T10:49:52.430Z"
      },
      {
        "duration": 5,
        "start_time": "2022-08-10T10:50:15.890Z"
      },
      {
        "duration": 66,
        "start_time": "2022-08-10T10:50:15.898Z"
      },
      {
        "duration": 9,
        "start_time": "2022-08-10T10:50:15.966Z"
      },
      {
        "duration": 25,
        "start_time": "2022-08-10T10:50:15.978Z"
      },
      {
        "duration": 15,
        "start_time": "2022-08-10T10:50:16.005Z"
      },
      {
        "duration": 21,
        "start_time": "2022-08-10T10:50:16.021Z"
      },
      {
        "duration": 288,
        "start_time": "2022-08-10T10:50:16.044Z"
      },
      {
        "duration": 4,
        "start_time": "2022-08-10T10:50:16.334Z"
      },
      {
        "duration": 46,
        "start_time": "2022-08-10T10:50:16.341Z"
      },
      {
        "duration": 442,
        "start_time": "2022-08-10T10:50:16.389Z"
      },
      {
        "duration": 383,
        "start_time": "2022-08-10T10:50:16.833Z"
      },
      {
        "duration": 7,
        "start_time": "2022-08-10T10:50:17.219Z"
      },
      {
        "duration": 22,
        "start_time": "2022-08-10T10:50:17.228Z"
      },
      {
        "duration": 123,
        "start_time": "2022-08-10T10:50:17.251Z"
      },
      {
        "duration": 16,
        "start_time": "2022-08-10T10:50:36.433Z"
      },
      {
        "duration": 4,
        "start_time": "2022-08-10T11:00:40.694Z"
      },
      {
        "duration": 13,
        "start_time": "2022-08-10T11:00:46.458Z"
      },
      {
        "duration": 3,
        "start_time": "2022-08-10T11:01:00.124Z"
      },
      {
        "duration": 57,
        "start_time": "2022-08-10T11:01:00.129Z"
      },
      {
        "duration": 8,
        "start_time": "2022-08-10T11:01:00.189Z"
      },
      {
        "duration": 17,
        "start_time": "2022-08-10T11:01:00.198Z"
      },
      {
        "duration": 6,
        "start_time": "2022-08-10T11:01:00.217Z"
      },
      {
        "duration": 19,
        "start_time": "2022-08-10T11:01:00.224Z"
      },
      {
        "duration": 295,
        "start_time": "2022-08-10T11:01:00.245Z"
      },
      {
        "duration": 4,
        "start_time": "2022-08-10T11:01:00.542Z"
      },
      {
        "duration": 25,
        "start_time": "2022-08-10T11:01:00.548Z"
      },
      {
        "duration": 519,
        "start_time": "2022-08-10T11:01:00.575Z"
      },
      {
        "duration": 408,
        "start_time": "2022-08-10T11:01:01.097Z"
      },
      {
        "duration": 7,
        "start_time": "2022-08-10T11:01:01.508Z"
      },
      {
        "duration": 15,
        "start_time": "2022-08-10T11:01:01.517Z"
      },
      {
        "duration": 22,
        "start_time": "2022-08-10T11:01:01.535Z"
      },
      {
        "duration": 0,
        "start_time": "2022-08-10T11:01:01.568Z"
      },
      {
        "duration": 10,
        "start_time": "2022-08-10T11:01:15.544Z"
      },
      {
        "duration": 5,
        "start_time": "2022-08-10T11:01:42.782Z"
      },
      {
        "duration": 10,
        "start_time": "2022-08-10T11:01:43.625Z"
      },
      {
        "duration": 3,
        "start_time": "2022-08-10T11:02:39.629Z"
      },
      {
        "duration": 9,
        "start_time": "2022-08-10T11:02:43.678Z"
      },
      {
        "duration": 14,
        "start_time": "2022-08-10T11:04:16.510Z"
      },
      {
        "duration": 4,
        "start_time": "2022-08-10T11:04:32.176Z"
      },
      {
        "duration": 58,
        "start_time": "2022-08-10T11:04:32.182Z"
      },
      {
        "duration": 7,
        "start_time": "2022-08-10T11:04:32.242Z"
      },
      {
        "duration": 16,
        "start_time": "2022-08-10T11:04:32.251Z"
      },
      {
        "duration": 7,
        "start_time": "2022-08-10T11:04:32.269Z"
      },
      {
        "duration": 8,
        "start_time": "2022-08-10T11:04:32.278Z"
      },
      {
        "duration": 282,
        "start_time": "2022-08-10T11:04:32.288Z"
      },
      {
        "duration": 4,
        "start_time": "2022-08-10T11:04:32.572Z"
      },
      {
        "duration": 14,
        "start_time": "2022-08-10T11:04:32.579Z"
      },
      {
        "duration": 412,
        "start_time": "2022-08-10T11:04:32.594Z"
      },
      {
        "duration": 422,
        "start_time": "2022-08-10T11:04:33.008Z"
      },
      {
        "duration": 6,
        "start_time": "2022-08-10T11:04:33.433Z"
      },
      {
        "duration": 23,
        "start_time": "2022-08-10T11:04:33.441Z"
      },
      {
        "duration": 8,
        "start_time": "2022-08-10T11:04:33.465Z"
      },
      {
        "duration": 14,
        "start_time": "2022-08-10T11:04:33.474Z"
      },
      {
        "duration": 0,
        "start_time": "2022-08-10T11:04:33.489Z"
      },
      {
        "duration": 9,
        "start_time": "2022-08-10T11:06:02.904Z"
      },
      {
        "duration": 11,
        "start_time": "2022-08-10T11:06:10.358Z"
      },
      {
        "duration": 4,
        "start_time": "2022-08-10T11:06:47.260Z"
      },
      {
        "duration": 48,
        "start_time": "2022-08-10T11:06:47.266Z"
      },
      {
        "duration": 9,
        "start_time": "2022-08-10T11:06:47.316Z"
      },
      {
        "duration": 14,
        "start_time": "2022-08-10T11:06:47.326Z"
      },
      {
        "duration": 6,
        "start_time": "2022-08-10T11:06:47.342Z"
      },
      {
        "duration": 9,
        "start_time": "2022-08-10T11:06:47.350Z"
      },
      {
        "duration": 278,
        "start_time": "2022-08-10T11:06:47.361Z"
      },
      {
        "duration": 5,
        "start_time": "2022-08-10T11:06:47.641Z"
      },
      {
        "duration": 23,
        "start_time": "2022-08-10T11:06:47.649Z"
      },
      {
        "duration": 325,
        "start_time": "2022-08-10T11:06:47.674Z"
      },
      {
        "duration": 376,
        "start_time": "2022-08-10T11:06:48.001Z"
      },
      {
        "duration": 5,
        "start_time": "2022-08-10T11:06:48.379Z"
      },
      {
        "duration": 7,
        "start_time": "2022-08-10T11:06:48.386Z"
      },
      {
        "duration": 4,
        "start_time": "2022-08-10T11:06:48.395Z"
      },
      {
        "duration": 13,
        "start_time": "2022-08-10T11:06:48.401Z"
      },
      {
        "duration": 0,
        "start_time": "2022-08-10T11:06:48.415Z"
      },
      {
        "duration": 10,
        "start_time": "2022-08-10T11:10:40.321Z"
      },
      {
        "duration": 12,
        "start_time": "2022-08-10T11:10:41.414Z"
      },
      {
        "duration": 14,
        "start_time": "2022-08-10T11:11:27.822Z"
      },
      {
        "duration": 14,
        "start_time": "2022-08-10T11:11:28.684Z"
      },
      {
        "duration": 3,
        "start_time": "2022-08-10T12:19:39.908Z"
      },
      {
        "duration": 67,
        "start_time": "2022-08-10T12:19:39.913Z"
      },
      {
        "duration": 8,
        "start_time": "2022-08-10T12:19:39.982Z"
      },
      {
        "duration": 12,
        "start_time": "2022-08-10T12:19:39.992Z"
      },
      {
        "duration": 8,
        "start_time": "2022-08-10T12:19:40.006Z"
      },
      {
        "duration": 14,
        "start_time": "2022-08-10T12:19:40.016Z"
      },
      {
        "duration": 481,
        "start_time": "2022-08-10T12:19:40.032Z"
      },
      {
        "duration": 5,
        "start_time": "2022-08-10T12:19:40.515Z"
      },
      {
        "duration": 25,
        "start_time": "2022-08-10T12:19:40.522Z"
      },
      {
        "duration": 380,
        "start_time": "2022-08-10T12:19:40.549Z"
      },
      {
        "duration": 420,
        "start_time": "2022-08-10T12:19:40.931Z"
      },
      {
        "duration": 14,
        "start_time": "2022-08-10T12:19:41.353Z"
      },
      {
        "duration": 8,
        "start_time": "2022-08-10T12:19:41.368Z"
      },
      {
        "duration": 17,
        "start_time": "2022-08-10T12:19:41.378Z"
      },
      {
        "duration": 10,
        "start_time": "2022-08-10T12:19:41.397Z"
      },
      {
        "duration": 0,
        "start_time": "2022-08-10T12:19:41.408Z"
      },
      {
        "duration": 15,
        "start_time": "2022-08-10T12:26:58.341Z"
      },
      {
        "duration": 31,
        "start_time": "2022-08-10T12:28:55.436Z"
      },
      {
        "duration": 3,
        "start_time": "2022-08-10T12:29:33.557Z"
      },
      {
        "duration": 53,
        "start_time": "2022-08-10T12:29:33.562Z"
      },
      {
        "duration": 9,
        "start_time": "2022-08-10T12:29:33.617Z"
      },
      {
        "duration": 13,
        "start_time": "2022-08-10T12:29:33.628Z"
      },
      {
        "duration": 5,
        "start_time": "2022-08-10T12:29:33.644Z"
      },
      {
        "duration": 10,
        "start_time": "2022-08-10T12:29:33.651Z"
      },
      {
        "duration": 264,
        "start_time": "2022-08-10T12:29:33.662Z"
      },
      {
        "duration": 4,
        "start_time": "2022-08-10T12:29:33.928Z"
      },
      {
        "duration": 13,
        "start_time": "2022-08-10T12:29:33.933Z"
      },
      {
        "duration": 343,
        "start_time": "2022-08-10T12:29:33.948Z"
      },
      {
        "duration": 378,
        "start_time": "2022-08-10T12:29:34.293Z"
      },
      {
        "duration": 7,
        "start_time": "2022-08-10T12:29:34.672Z"
      },
      {
        "duration": 9,
        "start_time": "2022-08-10T12:29:34.681Z"
      },
      {
        "duration": 104,
        "start_time": "2022-08-10T12:29:34.692Z"
      },
      {
        "duration": 4,
        "start_time": "2022-08-10T12:29:34.798Z"
      },
      {
        "duration": 73,
        "start_time": "2022-08-10T12:29:34.804Z"
      },
      {
        "duration": 2,
        "start_time": "2022-08-10T12:31:38.714Z"
      },
      {
        "duration": 4,
        "start_time": "2022-08-10T12:32:43.287Z"
      },
      {
        "duration": 7,
        "start_time": "2022-08-10T12:32:43.292Z"
      },
      {
        "duration": 49,
        "start_time": "2022-08-10T12:32:43.301Z"
      },
      {
        "duration": 8,
        "start_time": "2022-08-10T12:32:43.351Z"
      },
      {
        "duration": 22,
        "start_time": "2022-08-10T12:32:43.361Z"
      },
      {
        "duration": 6,
        "start_time": "2022-08-10T12:32:43.385Z"
      },
      {
        "duration": 11,
        "start_time": "2022-08-10T12:32:43.393Z"
      },
      {
        "duration": 277,
        "start_time": "2022-08-10T12:32:43.406Z"
      },
      {
        "duration": 4,
        "start_time": "2022-08-10T12:32:43.685Z"
      },
      {
        "duration": 15,
        "start_time": "2022-08-10T12:32:43.690Z"
      },
      {
        "duration": 347,
        "start_time": "2022-08-10T12:32:43.708Z"
      },
      {
        "duration": 521,
        "start_time": "2022-08-10T12:32:44.067Z"
      },
      {
        "duration": 5,
        "start_time": "2022-08-10T12:32:44.590Z"
      },
      {
        "duration": 6,
        "start_time": "2022-08-10T12:32:44.597Z"
      },
      {
        "duration": 104,
        "start_time": "2022-08-10T12:32:44.605Z"
      },
      {
        "duration": 60,
        "start_time": "2022-08-10T12:32:44.710Z"
      },
      {
        "duration": 101,
        "start_time": "2022-08-10T12:32:44.771Z"
      },
      {
        "duration": 6482,
        "start_time": "2022-08-10T12:32:44.875Z"
      },
      {
        "duration": 3,
        "start_time": "2022-08-10T12:32:51.359Z"
      },
      {
        "duration": 378,
        "start_time": "2022-08-10T12:32:51.367Z"
      },
      {
        "duration": 4,
        "start_time": "2022-08-10T12:34:27.911Z"
      },
      {
        "duration": 7,
        "start_time": "2022-08-10T12:34:27.917Z"
      },
      {
        "duration": 51,
        "start_time": "2022-08-10T12:34:27.925Z"
      },
      {
        "duration": 8,
        "start_time": "2022-08-10T12:34:27.979Z"
      },
      {
        "duration": 16,
        "start_time": "2022-08-10T12:34:27.988Z"
      },
      {
        "duration": 7,
        "start_time": "2022-08-10T12:34:28.005Z"
      },
      {
        "duration": 11,
        "start_time": "2022-08-10T12:34:28.014Z"
      },
      {
        "duration": 306,
        "start_time": "2022-08-10T12:34:28.027Z"
      },
      {
        "duration": 5,
        "start_time": "2022-08-10T12:34:28.337Z"
      },
      {
        "duration": 28,
        "start_time": "2022-08-10T12:34:28.344Z"
      },
      {
        "duration": 357,
        "start_time": "2022-08-10T12:34:28.374Z"
      },
      {
        "duration": 376,
        "start_time": "2022-08-10T12:34:28.733Z"
      },
      {
        "duration": 5,
        "start_time": "2022-08-10T12:34:29.111Z"
      },
      {
        "duration": 9,
        "start_time": "2022-08-10T12:34:29.118Z"
      },
      {
        "duration": 87,
        "start_time": "2022-08-10T12:34:29.129Z"
      },
      {
        "duration": 4,
        "start_time": "2022-08-10T12:34:29.268Z"
      },
      {
        "duration": 14,
        "start_time": "2022-08-10T12:34:29.273Z"
      },
      {
        "duration": 6025,
        "start_time": "2022-08-10T12:34:29.368Z"
      },
      {
        "duration": 4,
        "start_time": "2022-08-10T12:34:35.394Z"
      },
      {
        "duration": 315,
        "start_time": "2022-08-10T12:34:35.399Z"
      },
      {
        "duration": 13,
        "start_time": "2022-08-10T12:34:35.716Z"
      },
      {
        "duration": 0,
        "start_time": "2022-08-10T12:34:35.731Z"
      },
      {
        "duration": 0,
        "start_time": "2022-08-10T12:34:35.732Z"
      },
      {
        "duration": 0,
        "start_time": "2022-08-10T12:34:35.733Z"
      },
      {
        "duration": 4,
        "start_time": "2022-08-10T12:34:56.137Z"
      },
      {
        "duration": 6,
        "start_time": "2022-08-10T12:34:56.144Z"
      },
      {
        "duration": 47,
        "start_time": "2022-08-10T12:34:56.152Z"
      },
      {
        "duration": 7,
        "start_time": "2022-08-10T12:34:56.201Z"
      },
      {
        "duration": 12,
        "start_time": "2022-08-10T12:34:56.209Z"
      },
      {
        "duration": 5,
        "start_time": "2022-08-10T12:34:56.222Z"
      },
      {
        "duration": 7,
        "start_time": "2022-08-10T12:34:56.228Z"
      },
      {
        "duration": 277,
        "start_time": "2022-08-10T12:34:56.237Z"
      },
      {
        "duration": 5,
        "start_time": "2022-08-10T12:34:56.516Z"
      },
      {
        "duration": 15,
        "start_time": "2022-08-10T12:34:56.524Z"
      },
      {
        "duration": 392,
        "start_time": "2022-08-10T12:34:56.543Z"
      },
      {
        "duration": 358,
        "start_time": "2022-08-10T12:34:56.937Z"
      },
      {
        "duration": 6,
        "start_time": "2022-08-10T12:34:57.296Z"
      },
      {
        "duration": 7,
        "start_time": "2022-08-10T12:34:57.304Z"
      },
      {
        "duration": 94,
        "start_time": "2022-08-10T12:34:57.313Z"
      },
      {
        "duration": 4,
        "start_time": "2022-08-10T12:34:57.408Z"
      },
      {
        "duration": 13,
        "start_time": "2022-08-10T12:34:57.469Z"
      },
      {
        "duration": 4833,
        "start_time": "2022-08-10T12:34:57.568Z"
      },
      {
        "duration": 4,
        "start_time": "2022-08-10T12:35:02.403Z"
      },
      {
        "duration": 284,
        "start_time": "2022-08-10T12:35:02.409Z"
      },
      {
        "duration": 11,
        "start_time": "2022-08-10T12:35:02.694Z"
      },
      {
        "duration": 0,
        "start_time": "2022-08-10T12:35:02.706Z"
      },
      {
        "duration": 0,
        "start_time": "2022-08-10T12:35:02.708Z"
      },
      {
        "duration": 0,
        "start_time": "2022-08-10T12:35:02.709Z"
      },
      {
        "duration": 57,
        "start_time": "2022-08-10T12:35:49.831Z"
      },
      {
        "duration": 3,
        "start_time": "2022-08-10T12:35:49.891Z"
      },
      {
        "duration": 63,
        "start_time": "2022-08-10T12:35:49.897Z"
      },
      {
        "duration": 11,
        "start_time": "2022-08-10T12:35:49.963Z"
      },
      {
        "duration": 17,
        "start_time": "2022-08-10T12:35:49.976Z"
      },
      {
        "duration": 6,
        "start_time": "2022-08-10T12:35:49.995Z"
      },
      {
        "duration": 12,
        "start_time": "2022-08-10T12:35:50.004Z"
      },
      {
        "duration": 459,
        "start_time": "2022-08-10T12:35:50.018Z"
      },
      {
        "duration": 4,
        "start_time": "2022-08-10T12:35:50.479Z"
      },
      {
        "duration": 19,
        "start_time": "2022-08-10T12:35:50.486Z"
      },
      {
        "duration": 377,
        "start_time": "2022-08-10T12:35:50.507Z"
      },
      {
        "duration": 402,
        "start_time": "2022-08-10T12:35:50.886Z"
      },
      {
        "duration": 6,
        "start_time": "2022-08-10T12:35:51.289Z"
      },
      {
        "duration": 9,
        "start_time": "2022-08-10T12:35:51.296Z"
      },
      {
        "duration": 98,
        "start_time": "2022-08-10T12:35:51.307Z"
      },
      {
        "duration": 4,
        "start_time": "2022-08-10T12:35:51.407Z"
      },
      {
        "duration": 66,
        "start_time": "2022-08-10T12:35:51.413Z"
      },
      {
        "duration": 5716,
        "start_time": "2022-08-10T12:35:51.482Z"
      },
      {
        "duration": 3,
        "start_time": "2022-08-10T12:35:57.200Z"
      },
      {
        "duration": 295,
        "start_time": "2022-08-10T12:35:57.205Z"
      },
      {
        "duration": 14,
        "start_time": "2022-08-10T12:35:57.502Z"
      },
      {
        "duration": 0,
        "start_time": "2022-08-10T12:35:57.517Z"
      },
      {
        "duration": 0,
        "start_time": "2022-08-10T12:35:57.518Z"
      },
      {
        "duration": 0,
        "start_time": "2022-08-10T12:35:57.520Z"
      },
      {
        "duration": 4,
        "start_time": "2022-08-10T12:36:15.475Z"
      },
      {
        "duration": 5,
        "start_time": "2022-08-10T12:36:15.482Z"
      },
      {
        "duration": 55,
        "start_time": "2022-08-10T12:36:15.489Z"
      },
      {
        "duration": 8,
        "start_time": "2022-08-10T12:36:15.546Z"
      },
      {
        "duration": 13,
        "start_time": "2022-08-10T12:36:15.555Z"
      },
      {
        "duration": 7,
        "start_time": "2022-08-10T12:36:15.570Z"
      },
      {
        "duration": 9,
        "start_time": "2022-08-10T12:36:15.578Z"
      },
      {
        "duration": 282,
        "start_time": "2022-08-10T12:36:15.589Z"
      },
      {
        "duration": 5,
        "start_time": "2022-08-10T12:36:15.874Z"
      },
      {
        "duration": 12,
        "start_time": "2022-08-10T12:36:15.881Z"
      },
      {
        "duration": 353,
        "start_time": "2022-08-10T12:36:15.894Z"
      },
      {
        "duration": 372,
        "start_time": "2022-08-10T12:36:16.249Z"
      },
      {
        "duration": 5,
        "start_time": "2022-08-10T12:36:16.623Z"
      },
      {
        "duration": 10,
        "start_time": "2022-08-10T12:36:16.630Z"
      },
      {
        "duration": 136,
        "start_time": "2022-08-10T12:36:16.641Z"
      },
      {
        "duration": 4,
        "start_time": "2022-08-10T12:36:16.779Z"
      },
      {
        "duration": 85,
        "start_time": "2022-08-10T12:36:16.784Z"
      },
      {
        "duration": 5373,
        "start_time": "2022-08-10T12:36:16.870Z"
      },
      {
        "duration": 4,
        "start_time": "2022-08-10T12:36:22.245Z"
      },
      {
        "duration": 374,
        "start_time": "2022-08-10T12:36:22.251Z"
      },
      {
        "duration": 14,
        "start_time": "2022-08-10T12:36:22.627Z"
      },
      {
        "duration": 58060,
        "start_time": "2022-08-10T12:36:22.642Z"
      },
      {
        "duration": 4,
        "start_time": "2022-08-10T12:37:20.704Z"
      },
      {
        "duration": 679,
        "start_time": "2022-08-10T12:37:20.710Z"
      },
      {
        "duration": 10,
        "start_time": "2022-08-10T12:44:35.048Z"
      },
      {
        "duration": 14,
        "start_time": "2022-08-10T12:44:49.818Z"
      },
      {
        "duration": 5,
        "start_time": "2022-08-10T12:45:56.623Z"
      },
      {
        "duration": 7,
        "start_time": "2022-08-10T12:46:02.321Z"
      },
      {
        "duration": 15,
        "start_time": "2022-08-10T12:46:19.259Z"
      },
      {
        "duration": 11,
        "start_time": "2022-08-10T12:47:03.318Z"
      },
      {
        "duration": 8,
        "start_time": "2022-08-10T12:47:10.323Z"
      },
      {
        "duration": 8,
        "start_time": "2022-08-10T12:47:25.469Z"
      },
      {
        "duration": 5,
        "start_time": "2022-08-10T12:49:06.592Z"
      },
      {
        "duration": 4,
        "start_time": "2022-08-10T12:51:11.839Z"
      },
      {
        "duration": 7,
        "start_time": "2022-08-10T12:51:11.845Z"
      },
      {
        "duration": 51,
        "start_time": "2022-08-10T12:51:11.854Z"
      },
      {
        "duration": 7,
        "start_time": "2022-08-10T12:51:11.907Z"
      },
      {
        "duration": 11,
        "start_time": "2022-08-10T12:51:11.916Z"
      },
      {
        "duration": 6,
        "start_time": "2022-08-10T12:51:11.929Z"
      },
      {
        "duration": 8,
        "start_time": "2022-08-10T12:51:11.936Z"
      },
      {
        "duration": 412,
        "start_time": "2022-08-10T12:51:11.946Z"
      },
      {
        "duration": 4,
        "start_time": "2022-08-10T12:51:12.368Z"
      },
      {
        "duration": 17,
        "start_time": "2022-08-10T12:51:12.373Z"
      },
      {
        "duration": 339,
        "start_time": "2022-08-10T12:51:12.392Z"
      },
      {
        "duration": 360,
        "start_time": "2022-08-10T12:51:12.733Z"
      },
      {
        "duration": 6,
        "start_time": "2022-08-10T12:51:13.095Z"
      },
      {
        "duration": 8,
        "start_time": "2022-08-10T12:51:13.103Z"
      },
      {
        "duration": 93,
        "start_time": "2022-08-10T12:51:13.113Z"
      },
      {
        "duration": 3,
        "start_time": "2022-08-10T12:51:13.208Z"
      },
      {
        "duration": 154,
        "start_time": "2022-08-10T12:51:13.213Z"
      },
      {
        "duration": 7329,
        "start_time": "2022-08-10T12:51:13.370Z"
      },
      {
        "duration": 4,
        "start_time": "2022-08-10T12:51:20.701Z"
      },
      {
        "duration": 348,
        "start_time": "2022-08-10T12:51:20.707Z"
      },
      {
        "duration": 5,
        "start_time": "2022-08-10T12:51:21.057Z"
      },
      {
        "duration": 42242,
        "start_time": "2022-08-10T12:51:21.063Z"
      },
      {
        "duration": 4,
        "start_time": "2022-08-10T12:52:03.307Z"
      },
      {
        "duration": 689,
        "start_time": "2022-08-10T12:52:03.312Z"
      },
      {
        "duration": 8,
        "start_time": "2022-08-10T12:52:04.003Z"
      },
      {
        "duration": 73,
        "start_time": "2022-08-10T12:52:04.012Z"
      },
      {
        "duration": 0,
        "start_time": "2022-08-10T12:52:04.086Z"
      },
      {
        "duration": 7,
        "start_time": "2022-08-10T12:52:13.710Z"
      },
      {
        "duration": 4,
        "start_time": "2022-08-10T13:04:54.344Z"
      },
      {
        "duration": 7,
        "start_time": "2022-08-10T13:04:54.349Z"
      },
      {
        "duration": 52,
        "start_time": "2022-08-10T13:04:54.358Z"
      },
      {
        "duration": 7,
        "start_time": "2022-08-10T13:04:54.412Z"
      },
      {
        "duration": 13,
        "start_time": "2022-08-10T13:04:54.421Z"
      },
      {
        "duration": 7,
        "start_time": "2022-08-10T13:04:54.436Z"
      },
      {
        "duration": 9,
        "start_time": "2022-08-10T13:04:54.445Z"
      },
      {
        "duration": 283,
        "start_time": "2022-08-10T13:04:54.456Z"
      },
      {
        "duration": 4,
        "start_time": "2022-08-10T13:04:54.741Z"
      },
      {
        "duration": 24,
        "start_time": "2022-08-10T13:04:54.749Z"
      },
      {
        "duration": 346,
        "start_time": "2022-08-10T13:04:54.775Z"
      },
      {
        "duration": 385,
        "start_time": "2022-08-10T13:04:55.123Z"
      },
      {
        "duration": 6,
        "start_time": "2022-08-10T13:04:55.510Z"
      },
      {
        "duration": 8,
        "start_time": "2022-08-10T13:04:55.518Z"
      },
      {
        "duration": 142,
        "start_time": "2022-08-10T13:04:55.527Z"
      },
      {
        "duration": 4,
        "start_time": "2022-08-10T13:04:55.671Z"
      },
      {
        "duration": 190,
        "start_time": "2022-08-10T13:04:55.677Z"
      },
      {
        "duration": 4164,
        "start_time": "2022-08-10T13:04:55.869Z"
      },
      {
        "duration": 4,
        "start_time": "2022-08-10T13:05:00.034Z"
      },
      {
        "duration": 206,
        "start_time": "2022-08-10T13:05:00.040Z"
      },
      {
        "duration": 4,
        "start_time": "2022-08-10T13:05:00.248Z"
      },
      {
        "duration": 35678,
        "start_time": "2022-08-10T13:05:00.254Z"
      },
      {
        "duration": 4,
        "start_time": "2022-08-10T13:05:35.933Z"
      },
      {
        "duration": 649,
        "start_time": "2022-08-10T13:05:35.938Z"
      },
      {
        "duration": 11,
        "start_time": "2022-08-10T13:05:36.591Z"
      },
      {
        "duration": 13,
        "start_time": "2022-08-10T13:05:36.604Z"
      },
      {
        "duration": 4,
        "start_time": "2022-08-10T13:07:28.577Z"
      },
      {
        "duration": 7,
        "start_time": "2022-08-10T13:07:29.202Z"
      },
      {
        "duration": 350,
        "start_time": "2022-08-10T13:07:32.072Z"
      },
      {
        "duration": 4,
        "start_time": "2022-08-10T13:07:38.314Z"
      },
      {
        "duration": 5,
        "start_time": "2022-08-10T13:07:38.320Z"
      },
      {
        "duration": 49,
        "start_time": "2022-08-10T13:07:38.326Z"
      },
      {
        "duration": 8,
        "start_time": "2022-08-10T13:07:38.377Z"
      },
      {
        "duration": 15,
        "start_time": "2022-08-10T13:07:38.386Z"
      },
      {
        "duration": 13,
        "start_time": "2022-08-10T13:07:38.403Z"
      },
      {
        "duration": 10,
        "start_time": "2022-08-10T13:07:38.418Z"
      },
      {
        "duration": 441,
        "start_time": "2022-08-10T13:07:38.429Z"
      },
      {
        "duration": 4,
        "start_time": "2022-08-10T13:07:38.873Z"
      },
      {
        "duration": 14,
        "start_time": "2022-08-10T13:07:38.879Z"
      },
      {
        "duration": 378,
        "start_time": "2022-08-10T13:07:38.894Z"
      },
      {
        "duration": 419,
        "start_time": "2022-08-10T13:07:39.273Z"
      },
      {
        "duration": 6,
        "start_time": "2022-08-10T13:07:39.694Z"
      },
      {
        "duration": 8,
        "start_time": "2022-08-10T13:07:39.701Z"
      },
      {
        "duration": 105,
        "start_time": "2022-08-10T13:07:39.711Z"
      },
      {
        "duration": 4,
        "start_time": "2022-08-10T13:07:39.869Z"
      },
      {
        "duration": 101,
        "start_time": "2022-08-10T13:07:39.874Z"
      },
      {
        "duration": 4715,
        "start_time": "2022-08-10T13:07:39.977Z"
      },
      {
        "duration": 4,
        "start_time": "2022-08-10T13:07:44.694Z"
      },
      {
        "duration": 304,
        "start_time": "2022-08-10T13:07:44.699Z"
      },
      {
        "duration": 4,
        "start_time": "2022-08-10T13:07:45.005Z"
      },
      {
        "duration": 34169,
        "start_time": "2022-08-10T13:07:45.011Z"
      },
      {
        "duration": 5,
        "start_time": "2022-08-10T13:08:19.181Z"
      },
      {
        "duration": 613,
        "start_time": "2022-08-10T13:08:19.189Z"
      },
      {
        "duration": 9,
        "start_time": "2022-08-10T13:08:19.804Z"
      },
      {
        "duration": 7,
        "start_time": "2022-08-10T13:08:19.815Z"
      },
      {
        "duration": 4,
        "start_time": "2022-08-10T13:18:48.308Z"
      },
      {
        "duration": 10,
        "start_time": "2022-08-10T13:18:48.315Z"
      },
      {
        "duration": 52,
        "start_time": "2022-08-10T13:18:48.327Z"
      },
      {
        "duration": 8,
        "start_time": "2022-08-10T13:18:48.382Z"
      },
      {
        "duration": 13,
        "start_time": "2022-08-10T13:18:48.392Z"
      },
      {
        "duration": 5,
        "start_time": "2022-08-10T13:18:48.407Z"
      },
      {
        "duration": 8,
        "start_time": "2022-08-10T13:18:48.414Z"
      },
      {
        "duration": 298,
        "start_time": "2022-08-10T13:18:48.424Z"
      },
      {
        "duration": 5,
        "start_time": "2022-08-10T13:18:48.725Z"
      },
      {
        "duration": 15,
        "start_time": "2022-08-10T13:18:48.732Z"
      },
      {
        "duration": 355,
        "start_time": "2022-08-10T13:18:48.749Z"
      },
      {
        "duration": 416,
        "start_time": "2022-08-10T13:18:49.106Z"
      },
      {
        "duration": 6,
        "start_time": "2022-08-10T13:18:49.525Z"
      },
      {
        "duration": 11,
        "start_time": "2022-08-10T13:18:49.533Z"
      },
      {
        "duration": 131,
        "start_time": "2022-08-10T13:18:49.545Z"
      },
      {
        "duration": 4,
        "start_time": "2022-08-10T13:18:49.678Z"
      },
      {
        "duration": 87,
        "start_time": "2022-08-10T13:18:49.684Z"
      },
      {
        "duration": 6576,
        "start_time": "2022-08-10T13:18:49.773Z"
      },
      {
        "duration": 3,
        "start_time": "2022-08-10T13:18:56.352Z"
      },
      {
        "duration": 331,
        "start_time": "2022-08-10T13:18:56.368Z"
      },
      {
        "duration": 5,
        "start_time": "2022-08-10T13:18:56.701Z"
      },
      {
        "duration": 34005,
        "start_time": "2022-08-10T13:18:56.708Z"
      },
      {
        "duration": 4,
        "start_time": "2022-08-10T13:19:30.715Z"
      },
      {
        "duration": 770,
        "start_time": "2022-08-10T13:19:30.722Z"
      },
      {
        "duration": 9,
        "start_time": "2022-08-10T13:19:31.495Z"
      },
      {
        "duration": 14,
        "start_time": "2022-08-10T13:19:31.506Z"
      },
      {
        "duration": 4,
        "start_time": "2022-08-10T14:56:30.288Z"
      },
      {
        "duration": 169,
        "start_time": "2022-08-10T15:09:42.029Z"
      },
      {
        "duration": 6,
        "start_time": "2022-08-10T15:23:36.143Z"
      },
      {
        "duration": 4,
        "start_time": "2022-08-10T15:27:13.995Z"
      },
      {
        "duration": 9,
        "start_time": "2022-08-10T15:27:14.001Z"
      },
      {
        "duration": 53,
        "start_time": "2022-08-10T15:27:14.012Z"
      },
      {
        "duration": 9,
        "start_time": "2022-08-10T15:27:14.067Z"
      },
      {
        "duration": 16,
        "start_time": "2022-08-10T15:27:14.077Z"
      },
      {
        "duration": 6,
        "start_time": "2022-08-10T15:27:14.095Z"
      },
      {
        "duration": 14,
        "start_time": "2022-08-10T15:27:14.103Z"
      },
      {
        "duration": 4,
        "start_time": "2022-08-10T15:27:14.119Z"
      },
      {
        "duration": 313,
        "start_time": "2022-08-10T15:27:14.125Z"
      },
      {
        "duration": 5,
        "start_time": "2022-08-10T15:27:14.439Z"
      },
      {
        "duration": 26,
        "start_time": "2022-08-10T15:27:14.446Z"
      },
      {
        "duration": 335,
        "start_time": "2022-08-10T15:27:14.475Z"
      },
      {
        "duration": 539,
        "start_time": "2022-08-10T15:27:14.811Z"
      },
      {
        "duration": 199,
        "start_time": "2022-08-10T15:27:15.352Z"
      },
      {
        "duration": 5,
        "start_time": "2022-08-10T15:27:15.553Z"
      },
      {
        "duration": 6,
        "start_time": "2022-08-10T15:27:15.568Z"
      },
      {
        "duration": 6,
        "start_time": "2022-08-10T15:27:15.576Z"
      },
      {
        "duration": 14,
        "start_time": "2022-08-10T15:27:15.583Z"
      },
      {
        "duration": 0,
        "start_time": "2022-08-10T15:27:15.598Z"
      },
      {
        "duration": 0,
        "start_time": "2022-08-10T15:27:15.600Z"
      },
      {
        "duration": 0,
        "start_time": "2022-08-10T15:27:15.601Z"
      },
      {
        "duration": 0,
        "start_time": "2022-08-10T15:27:15.603Z"
      },
      {
        "duration": 0,
        "start_time": "2022-08-10T15:27:15.604Z"
      },
      {
        "duration": 0,
        "start_time": "2022-08-10T15:27:15.605Z"
      },
      {
        "duration": 0,
        "start_time": "2022-08-10T15:27:15.606Z"
      },
      {
        "duration": 0,
        "start_time": "2022-08-10T15:27:15.607Z"
      },
      {
        "duration": 0,
        "start_time": "2022-08-10T15:27:15.608Z"
      },
      {
        "duration": 0,
        "start_time": "2022-08-10T15:27:15.610Z"
      },
      {
        "duration": 0,
        "start_time": "2022-08-10T15:27:15.611Z"
      },
      {
        "duration": 4,
        "start_time": "2022-08-10T15:28:49.094Z"
      },
      {
        "duration": 11,
        "start_time": "2022-08-10T15:28:49.100Z"
      },
      {
        "duration": 51,
        "start_time": "2022-08-10T15:28:49.113Z"
      },
      {
        "duration": 8,
        "start_time": "2022-08-10T15:28:49.166Z"
      },
      {
        "duration": 14,
        "start_time": "2022-08-10T15:28:49.177Z"
      },
      {
        "duration": 6,
        "start_time": "2022-08-10T15:28:49.193Z"
      },
      {
        "duration": 11,
        "start_time": "2022-08-10T15:28:49.201Z"
      },
      {
        "duration": 8,
        "start_time": "2022-08-10T15:28:49.214Z"
      },
      {
        "duration": 319,
        "start_time": "2022-08-10T15:28:49.223Z"
      },
      {
        "duration": 4,
        "start_time": "2022-08-10T15:28:49.544Z"
      },
      {
        "duration": 20,
        "start_time": "2022-08-10T15:28:49.550Z"
      },
      {
        "duration": 338,
        "start_time": "2022-08-10T15:28:49.571Z"
      },
      {
        "duration": 370,
        "start_time": "2022-08-10T15:28:49.911Z"
      },
      {
        "duration": 191,
        "start_time": "2022-08-10T15:28:50.283Z"
      },
      {
        "duration": 6,
        "start_time": "2022-08-10T15:28:50.475Z"
      },
      {
        "duration": 9,
        "start_time": "2022-08-10T15:28:50.483Z"
      },
      {
        "duration": 8,
        "start_time": "2022-08-10T15:28:50.493Z"
      },
      {
        "duration": 15,
        "start_time": "2022-08-10T15:28:50.502Z"
      },
      {
        "duration": 0,
        "start_time": "2022-08-10T15:28:50.518Z"
      },
      {
        "duration": 0,
        "start_time": "2022-08-10T15:28:50.520Z"
      },
      {
        "duration": 0,
        "start_time": "2022-08-10T15:28:50.521Z"
      },
      {
        "duration": 0,
        "start_time": "2022-08-10T15:28:50.522Z"
      },
      {
        "duration": 0,
        "start_time": "2022-08-10T15:28:50.523Z"
      },
      {
        "duration": 0,
        "start_time": "2022-08-10T15:28:50.524Z"
      },
      {
        "duration": 0,
        "start_time": "2022-08-10T15:28:50.526Z"
      },
      {
        "duration": 0,
        "start_time": "2022-08-10T15:28:50.527Z"
      },
      {
        "duration": 0,
        "start_time": "2022-08-10T15:28:50.528Z"
      },
      {
        "duration": 0,
        "start_time": "2022-08-10T15:28:50.529Z"
      },
      {
        "duration": 0,
        "start_time": "2022-08-10T15:28:50.530Z"
      },
      {
        "duration": 5,
        "start_time": "2022-08-10T15:29:31.204Z"
      },
      {
        "duration": 22,
        "start_time": "2022-08-10T15:29:31.212Z"
      },
      {
        "duration": 55,
        "start_time": "2022-08-10T15:29:31.236Z"
      },
      {
        "duration": 10,
        "start_time": "2022-08-10T15:29:31.294Z"
      },
      {
        "duration": 42,
        "start_time": "2022-08-10T15:29:31.306Z"
      },
      {
        "duration": 6,
        "start_time": "2022-08-10T15:29:31.350Z"
      },
      {
        "duration": 15,
        "start_time": "2022-08-10T15:29:31.358Z"
      },
      {
        "duration": 14,
        "start_time": "2022-08-10T15:29:31.375Z"
      },
      {
        "duration": 317,
        "start_time": "2022-08-10T15:29:31.392Z"
      },
      {
        "duration": 4,
        "start_time": "2022-08-10T15:29:31.711Z"
      },
      {
        "duration": 20,
        "start_time": "2022-08-10T15:29:31.717Z"
      },
      {
        "duration": 342,
        "start_time": "2022-08-10T15:29:31.739Z"
      },
      {
        "duration": 365,
        "start_time": "2022-08-10T15:29:32.083Z"
      },
      {
        "duration": 185,
        "start_time": "2022-08-10T15:29:32.450Z"
      },
      {
        "duration": 6,
        "start_time": "2022-08-10T15:29:32.637Z"
      },
      {
        "duration": 12,
        "start_time": "2022-08-10T15:29:32.644Z"
      },
      {
        "duration": 6,
        "start_time": "2022-08-10T15:29:32.668Z"
      },
      {
        "duration": 102,
        "start_time": "2022-08-10T15:29:32.676Z"
      },
      {
        "duration": 5,
        "start_time": "2022-08-10T15:29:32.780Z"
      },
      {
        "duration": 22,
        "start_time": "2022-08-10T15:29:32.786Z"
      },
      {
        "duration": 6109,
        "start_time": "2022-08-10T15:29:32.867Z"
      },
      {
        "duration": 4,
        "start_time": "2022-08-10T15:29:38.978Z"
      },
      {
        "duration": 334,
        "start_time": "2022-08-10T15:29:38.985Z"
      },
      {
        "duration": 3,
        "start_time": "2022-08-10T15:29:39.323Z"
      },
      {
        "duration": 57932,
        "start_time": "2022-08-10T15:29:39.328Z"
      },
      {
        "duration": 4,
        "start_time": "2022-08-10T15:30:37.262Z"
      },
      {
        "duration": 746,
        "start_time": "2022-08-10T15:30:37.268Z"
      },
      {
        "duration": 8,
        "start_time": "2022-08-10T15:30:38.017Z"
      },
      {
        "duration": 14,
        "start_time": "2022-08-10T15:30:38.026Z"
      },
      {
        "duration": 1562,
        "start_time": "2022-08-11T07:54:04.939Z"
      },
      {
        "duration": 3,
        "start_time": "2022-08-11T07:54:06.502Z"
      },
      {
        "duration": 125,
        "start_time": "2022-08-11T07:54:06.507Z"
      },
      {
        "duration": 12,
        "start_time": "2022-08-11T07:54:06.634Z"
      },
      {
        "duration": 17,
        "start_time": "2022-08-11T07:54:06.648Z"
      },
      {
        "duration": 5,
        "start_time": "2022-08-11T07:54:06.666Z"
      },
      {
        "duration": 9,
        "start_time": "2022-08-11T07:54:06.672Z"
      },
      {
        "duration": 3,
        "start_time": "2022-08-11T07:54:06.682Z"
      },
      {
        "duration": 287,
        "start_time": "2022-08-11T07:54:06.686Z"
      },
      {
        "duration": 3,
        "start_time": "2022-08-11T07:54:06.975Z"
      },
      {
        "duration": 10,
        "start_time": "2022-08-11T07:54:06.980Z"
      },
      {
        "duration": 329,
        "start_time": "2022-08-11T07:54:06.991Z"
      },
      {
        "duration": 397,
        "start_time": "2022-08-11T07:54:07.322Z"
      },
      {
        "duration": 0,
        "start_time": "2022-08-11T07:54:07.721Z"
      },
      {
        "duration": 0,
        "start_time": "2022-08-11T07:54:07.722Z"
      },
      {
        "duration": 0,
        "start_time": "2022-08-11T07:54:07.723Z"
      },
      {
        "duration": 0,
        "start_time": "2022-08-11T07:54:07.724Z"
      },
      {
        "duration": 0,
        "start_time": "2022-08-11T07:54:07.725Z"
      },
      {
        "duration": 0,
        "start_time": "2022-08-11T07:54:07.726Z"
      },
      {
        "duration": 0,
        "start_time": "2022-08-11T07:54:07.738Z"
      },
      {
        "duration": 0,
        "start_time": "2022-08-11T07:54:07.739Z"
      },
      {
        "duration": 0,
        "start_time": "2022-08-11T07:54:07.740Z"
      },
      {
        "duration": 0,
        "start_time": "2022-08-11T07:54:07.741Z"
      },
      {
        "duration": 0,
        "start_time": "2022-08-11T07:54:07.742Z"
      },
      {
        "duration": 0,
        "start_time": "2022-08-11T07:54:07.743Z"
      },
      {
        "duration": 0,
        "start_time": "2022-08-11T07:54:07.744Z"
      },
      {
        "duration": 0,
        "start_time": "2022-08-11T07:54:07.744Z"
      },
      {
        "duration": 0,
        "start_time": "2022-08-11T07:54:07.745Z"
      },
      {
        "duration": 0,
        "start_time": "2022-08-11T07:54:07.746Z"
      },
      {
        "duration": 280,
        "start_time": "2022-08-11T07:55:20.925Z"
      },
      {
        "duration": 6,
        "start_time": "2022-08-11T07:55:30.966Z"
      },
      {
        "duration": 20,
        "start_time": "2022-08-11T07:55:30.973Z"
      },
      {
        "duration": 51,
        "start_time": "2022-08-11T07:55:30.994Z"
      },
      {
        "duration": 7,
        "start_time": "2022-08-11T07:55:31.047Z"
      },
      {
        "duration": 13,
        "start_time": "2022-08-11T07:55:31.056Z"
      },
      {
        "duration": 7,
        "start_time": "2022-08-11T07:55:31.071Z"
      },
      {
        "duration": 15,
        "start_time": "2022-08-11T07:55:31.079Z"
      },
      {
        "duration": 16,
        "start_time": "2022-08-11T07:55:31.095Z"
      },
      {
        "duration": 227,
        "start_time": "2022-08-11T07:55:31.113Z"
      },
      {
        "duration": 4,
        "start_time": "2022-08-11T07:55:31.342Z"
      },
      {
        "duration": 23,
        "start_time": "2022-08-11T07:55:31.347Z"
      },
      {
        "duration": 279,
        "start_time": "2022-08-11T07:55:31.372Z"
      },
      {
        "duration": 289,
        "start_time": "2022-08-11T07:55:31.653Z"
      },
      {
        "duration": 222,
        "start_time": "2022-08-11T07:55:31.944Z"
      },
      {
        "duration": 0,
        "start_time": "2022-08-11T07:55:32.167Z"
      },
      {
        "duration": 0,
        "start_time": "2022-08-11T07:55:32.168Z"
      },
      {
        "duration": 0,
        "start_time": "2022-08-11T07:55:32.170Z"
      },
      {
        "duration": 0,
        "start_time": "2022-08-11T07:55:32.170Z"
      },
      {
        "duration": 0,
        "start_time": "2022-08-11T07:55:32.171Z"
      },
      {
        "duration": 0,
        "start_time": "2022-08-11T07:55:32.173Z"
      },
      {
        "duration": 0,
        "start_time": "2022-08-11T07:55:32.174Z"
      },
      {
        "duration": 0,
        "start_time": "2022-08-11T07:55:32.174Z"
      },
      {
        "duration": 0,
        "start_time": "2022-08-11T07:55:32.175Z"
      },
      {
        "duration": 0,
        "start_time": "2022-08-11T07:55:32.176Z"
      },
      {
        "duration": 0,
        "start_time": "2022-08-11T07:55:32.177Z"
      },
      {
        "duration": 0,
        "start_time": "2022-08-11T07:55:32.178Z"
      },
      {
        "duration": 0,
        "start_time": "2022-08-11T07:55:32.179Z"
      },
      {
        "duration": 0,
        "start_time": "2022-08-11T07:55:32.180Z"
      },
      {
        "duration": 0,
        "start_time": "2022-08-11T07:55:32.181Z"
      },
      {
        "duration": 5,
        "start_time": "2022-08-11T07:56:48.265Z"
      },
      {
        "duration": 3,
        "start_time": "2022-08-11T07:56:50.944Z"
      },
      {
        "duration": 14,
        "start_time": "2022-08-11T07:56:50.949Z"
      },
      {
        "duration": 54,
        "start_time": "2022-08-11T07:56:50.964Z"
      },
      {
        "duration": 6,
        "start_time": "2022-08-11T07:56:51.020Z"
      },
      {
        "duration": 19,
        "start_time": "2022-08-11T07:56:51.028Z"
      },
      {
        "duration": 4,
        "start_time": "2022-08-11T07:56:51.049Z"
      },
      {
        "duration": 9,
        "start_time": "2022-08-11T07:56:51.054Z"
      },
      {
        "duration": 9,
        "start_time": "2022-08-11T07:56:51.064Z"
      },
      {
        "duration": 220,
        "start_time": "2022-08-11T07:56:51.074Z"
      },
      {
        "duration": 4,
        "start_time": "2022-08-11T07:56:51.295Z"
      },
      {
        "duration": 14,
        "start_time": "2022-08-11T07:56:51.302Z"
      },
      {
        "duration": 279,
        "start_time": "2022-08-11T07:56:51.317Z"
      },
      {
        "duration": 307,
        "start_time": "2022-08-11T07:56:51.597Z"
      },
      {
        "duration": 144,
        "start_time": "2022-08-11T07:56:51.906Z"
      },
      {
        "duration": 0,
        "start_time": "2022-08-11T07:56:52.051Z"
      },
      {
        "duration": 0,
        "start_time": "2022-08-11T07:56:52.052Z"
      },
      {
        "duration": 0,
        "start_time": "2022-08-11T07:56:52.054Z"
      },
      {
        "duration": 0,
        "start_time": "2022-08-11T07:56:52.054Z"
      },
      {
        "duration": 0,
        "start_time": "2022-08-11T07:56:52.055Z"
      },
      {
        "duration": 0,
        "start_time": "2022-08-11T07:56:52.056Z"
      },
      {
        "duration": 0,
        "start_time": "2022-08-11T07:56:52.057Z"
      },
      {
        "duration": 0,
        "start_time": "2022-08-11T07:56:52.058Z"
      },
      {
        "duration": 0,
        "start_time": "2022-08-11T07:56:52.060Z"
      },
      {
        "duration": 0,
        "start_time": "2022-08-11T07:56:52.061Z"
      },
      {
        "duration": 0,
        "start_time": "2022-08-11T07:56:52.061Z"
      },
      {
        "duration": 0,
        "start_time": "2022-08-11T07:56:52.063Z"
      },
      {
        "duration": 0,
        "start_time": "2022-08-11T07:56:52.063Z"
      },
      {
        "duration": 0,
        "start_time": "2022-08-11T07:56:52.064Z"
      },
      {
        "duration": 0,
        "start_time": "2022-08-11T07:56:52.065Z"
      },
      {
        "duration": 15,
        "start_time": "2022-08-11T08:22:05.437Z"
      },
      {
        "duration": 23,
        "start_time": "2022-08-11T08:22:05.455Z"
      },
      {
        "duration": 50,
        "start_time": "2022-08-11T08:22:05.480Z"
      },
      {
        "duration": 17,
        "start_time": "2022-08-11T08:22:05.532Z"
      },
      {
        "duration": 14,
        "start_time": "2022-08-11T08:22:05.551Z"
      },
      {
        "duration": 7,
        "start_time": "2022-08-11T08:22:05.566Z"
      },
      {
        "duration": 8,
        "start_time": "2022-08-11T08:22:05.574Z"
      },
      {
        "duration": 3,
        "start_time": "2022-08-11T08:22:05.583Z"
      },
      {
        "duration": 259,
        "start_time": "2022-08-11T08:22:05.587Z"
      },
      {
        "duration": 4,
        "start_time": "2022-08-11T08:22:05.849Z"
      },
      {
        "duration": 13,
        "start_time": "2022-08-11T08:22:05.855Z"
      },
      {
        "duration": 405,
        "start_time": "2022-08-11T08:22:05.869Z"
      },
      {
        "duration": 321,
        "start_time": "2022-08-11T08:22:06.276Z"
      },
      {
        "duration": 164,
        "start_time": "2022-08-11T08:22:06.598Z"
      },
      {
        "duration": 5,
        "start_time": "2022-08-11T08:22:06.763Z"
      },
      {
        "duration": 9,
        "start_time": "2022-08-11T08:22:06.769Z"
      },
      {
        "duration": 5,
        "start_time": "2022-08-11T08:22:06.780Z"
      },
      {
        "duration": 96,
        "start_time": "2022-08-11T08:22:06.786Z"
      },
      {
        "duration": 3,
        "start_time": "2022-08-11T08:22:06.883Z"
      },
      {
        "duration": 52,
        "start_time": "2022-08-11T08:22:06.887Z"
      },
      {
        "duration": 6490,
        "start_time": "2022-08-11T08:22:06.941Z"
      },
      {
        "duration": 8,
        "start_time": "2022-08-11T08:22:13.432Z"
      },
      {
        "duration": 371,
        "start_time": "2022-08-11T08:22:13.441Z"
      },
      {
        "duration": 4,
        "start_time": "2022-08-11T08:22:13.814Z"
      },
      {
        "duration": 44844,
        "start_time": "2022-08-11T08:22:13.819Z"
      },
      {
        "duration": 4,
        "start_time": "2022-08-11T08:22:58.664Z"
      },
      {
        "duration": 683,
        "start_time": "2022-08-11T08:22:58.669Z"
      },
      {
        "duration": 7,
        "start_time": "2022-08-11T08:22:59.355Z"
      },
      {
        "duration": 7,
        "start_time": "2022-08-11T08:22:59.364Z"
      },
      {
        "duration": 9,
        "start_time": "2022-08-11T08:23:31.525Z"
      },
      {
        "duration": 11,
        "start_time": "2022-08-11T08:23:42.530Z"
      },
      {
        "duration": 11,
        "start_time": "2022-08-11T08:28:47.022Z"
      },
      {
        "duration": 64,
        "start_time": "2022-08-11T08:29:06.105Z"
      },
      {
        "duration": 20,
        "start_time": "2022-08-11T08:29:22.394Z"
      },
      {
        "duration": 1221,
        "start_time": "2022-08-11T08:30:06.668Z"
      },
      {
        "duration": 3,
        "start_time": "2022-08-11T08:30:15.600Z"
      },
      {
        "duration": 13,
        "start_time": "2022-08-11T08:30:15.605Z"
      },
      {
        "duration": 53,
        "start_time": "2022-08-11T08:30:15.620Z"
      },
      {
        "duration": 7,
        "start_time": "2022-08-11T08:30:15.674Z"
      },
      {
        "duration": 16,
        "start_time": "2022-08-11T08:30:15.684Z"
      },
      {
        "duration": 5,
        "start_time": "2022-08-11T08:30:15.702Z"
      },
      {
        "duration": 12,
        "start_time": "2022-08-11T08:30:15.708Z"
      },
      {
        "duration": 3,
        "start_time": "2022-08-11T08:30:15.722Z"
      },
      {
        "duration": 248,
        "start_time": "2022-08-11T08:30:15.726Z"
      },
      {
        "duration": 3,
        "start_time": "2022-08-11T08:30:15.975Z"
      },
      {
        "duration": 10,
        "start_time": "2022-08-11T08:30:15.980Z"
      },
      {
        "duration": 11,
        "start_time": "2022-08-11T08:30:15.991Z"
      },
      {
        "duration": 315,
        "start_time": "2022-08-11T08:30:16.004Z"
      },
      {
        "duration": 1580,
        "start_time": "2022-08-11T08:30:16.322Z"
      },
      {
        "duration": 0,
        "start_time": "2022-08-11T08:30:17.903Z"
      },
      {
        "duration": 0,
        "start_time": "2022-08-11T08:30:17.904Z"
      },
      {
        "duration": 0,
        "start_time": "2022-08-11T08:30:17.905Z"
      },
      {
        "duration": 0,
        "start_time": "2022-08-11T08:30:17.906Z"
      },
      {
        "duration": 0,
        "start_time": "2022-08-11T08:30:17.907Z"
      },
      {
        "duration": 0,
        "start_time": "2022-08-11T08:30:17.908Z"
      },
      {
        "duration": 0,
        "start_time": "2022-08-11T08:30:17.909Z"
      },
      {
        "duration": 0,
        "start_time": "2022-08-11T08:30:17.910Z"
      },
      {
        "duration": 0,
        "start_time": "2022-08-11T08:30:17.911Z"
      },
      {
        "duration": 0,
        "start_time": "2022-08-11T08:30:17.912Z"
      },
      {
        "duration": 0,
        "start_time": "2022-08-11T08:30:17.913Z"
      },
      {
        "duration": 0,
        "start_time": "2022-08-11T08:30:17.914Z"
      },
      {
        "duration": 0,
        "start_time": "2022-08-11T08:30:17.915Z"
      },
      {
        "duration": 0,
        "start_time": "2022-08-11T08:30:17.916Z"
      },
      {
        "duration": 1,
        "start_time": "2022-08-11T08:30:17.916Z"
      },
      {
        "duration": 0,
        "start_time": "2022-08-11T08:30:17.918Z"
      },
      {
        "duration": 283,
        "start_time": "2022-08-11T08:30:52.932Z"
      },
      {
        "duration": 383,
        "start_time": "2022-08-11T08:35:50.239Z"
      },
      {
        "duration": 12,
        "start_time": "2022-08-11T08:36:03.069Z"
      },
      {
        "duration": 11,
        "start_time": "2022-08-11T08:37:08.496Z"
      },
      {
        "duration": 4,
        "start_time": "2022-08-11T08:37:13.248Z"
      },
      {
        "duration": 9,
        "start_time": "2022-08-11T08:37:13.254Z"
      },
      {
        "duration": 61,
        "start_time": "2022-08-11T08:37:13.264Z"
      },
      {
        "duration": 9,
        "start_time": "2022-08-11T08:37:13.328Z"
      },
      {
        "duration": 13,
        "start_time": "2022-08-11T08:37:13.339Z"
      },
      {
        "duration": 6,
        "start_time": "2022-08-11T08:37:13.353Z"
      },
      {
        "duration": 13,
        "start_time": "2022-08-11T08:37:13.361Z"
      },
      {
        "duration": 3,
        "start_time": "2022-08-11T08:37:13.376Z"
      },
      {
        "duration": 272,
        "start_time": "2022-08-11T08:37:13.382Z"
      },
      {
        "duration": 5,
        "start_time": "2022-08-11T08:37:13.656Z"
      },
      {
        "duration": 25,
        "start_time": "2022-08-11T08:37:13.663Z"
      },
      {
        "duration": 21,
        "start_time": "2022-08-11T08:37:13.689Z"
      },
      {
        "duration": 287,
        "start_time": "2022-08-11T08:37:13.711Z"
      },
      {
        "duration": 15,
        "start_time": "2022-08-11T08:37:13.999Z"
      },
      {
        "duration": 0,
        "start_time": "2022-08-11T08:37:14.016Z"
      },
      {
        "duration": 0,
        "start_time": "2022-08-11T08:37:14.017Z"
      },
      {
        "duration": 0,
        "start_time": "2022-08-11T08:37:14.037Z"
      },
      {
        "duration": 0,
        "start_time": "2022-08-11T08:37:14.038Z"
      },
      {
        "duration": 0,
        "start_time": "2022-08-11T08:37:14.039Z"
      },
      {
        "duration": 0,
        "start_time": "2022-08-11T08:37:14.040Z"
      },
      {
        "duration": 0,
        "start_time": "2022-08-11T08:37:14.042Z"
      },
      {
        "duration": 0,
        "start_time": "2022-08-11T08:37:14.043Z"
      },
      {
        "duration": 0,
        "start_time": "2022-08-11T08:37:14.045Z"
      },
      {
        "duration": 0,
        "start_time": "2022-08-11T08:37:14.046Z"
      },
      {
        "duration": 0,
        "start_time": "2022-08-11T08:37:14.047Z"
      },
      {
        "duration": 0,
        "start_time": "2022-08-11T08:37:14.048Z"
      },
      {
        "duration": 0,
        "start_time": "2022-08-11T08:37:14.049Z"
      },
      {
        "duration": 0,
        "start_time": "2022-08-11T08:37:14.051Z"
      },
      {
        "duration": 0,
        "start_time": "2022-08-11T08:37:14.053Z"
      },
      {
        "duration": 0,
        "start_time": "2022-08-11T08:37:14.053Z"
      },
      {
        "duration": 12,
        "start_time": "2022-08-11T08:38:24.495Z"
      },
      {
        "duration": 4,
        "start_time": "2022-08-11T08:38:32.688Z"
      },
      {
        "duration": 8,
        "start_time": "2022-08-11T08:38:32.694Z"
      },
      {
        "duration": 47,
        "start_time": "2022-08-11T08:38:32.704Z"
      },
      {
        "duration": 7,
        "start_time": "2022-08-11T08:38:32.753Z"
      },
      {
        "duration": 13,
        "start_time": "2022-08-11T08:38:32.761Z"
      },
      {
        "duration": 5,
        "start_time": "2022-08-11T08:38:32.776Z"
      },
      {
        "duration": 12,
        "start_time": "2022-08-11T08:38:32.782Z"
      },
      {
        "duration": 4,
        "start_time": "2022-08-11T08:38:32.796Z"
      },
      {
        "duration": 239,
        "start_time": "2022-08-11T08:38:32.803Z"
      },
      {
        "duration": 4,
        "start_time": "2022-08-11T08:38:33.044Z"
      },
      {
        "duration": 12,
        "start_time": "2022-08-11T08:38:33.050Z"
      },
      {
        "duration": 10,
        "start_time": "2022-08-11T08:38:33.064Z"
      },
      {
        "duration": 270,
        "start_time": "2022-08-11T08:38:33.076Z"
      },
      {
        "duration": 12,
        "start_time": "2022-08-11T08:38:33.347Z"
      },
      {
        "duration": 0,
        "start_time": "2022-08-11T08:38:33.361Z"
      },
      {
        "duration": 0,
        "start_time": "2022-08-11T08:38:33.362Z"
      },
      {
        "duration": 0,
        "start_time": "2022-08-11T08:38:33.363Z"
      },
      {
        "duration": 0,
        "start_time": "2022-08-11T08:38:33.365Z"
      },
      {
        "duration": 0,
        "start_time": "2022-08-11T08:38:33.366Z"
      },
      {
        "duration": 0,
        "start_time": "2022-08-11T08:38:33.367Z"
      },
      {
        "duration": 0,
        "start_time": "2022-08-11T08:38:33.369Z"
      },
      {
        "duration": 1,
        "start_time": "2022-08-11T08:38:33.370Z"
      },
      {
        "duration": 0,
        "start_time": "2022-08-11T08:38:33.372Z"
      },
      {
        "duration": 0,
        "start_time": "2022-08-11T08:38:33.373Z"
      },
      {
        "duration": 0,
        "start_time": "2022-08-11T08:38:33.374Z"
      },
      {
        "duration": 0,
        "start_time": "2022-08-11T08:38:33.376Z"
      },
      {
        "duration": 0,
        "start_time": "2022-08-11T08:38:33.377Z"
      },
      {
        "duration": 0,
        "start_time": "2022-08-11T08:38:33.378Z"
      },
      {
        "duration": 0,
        "start_time": "2022-08-11T08:38:33.379Z"
      },
      {
        "duration": 0,
        "start_time": "2022-08-11T08:38:33.381Z"
      },
      {
        "duration": 148,
        "start_time": "2022-08-11T08:39:00.679Z"
      },
      {
        "duration": 36,
        "start_time": "2022-08-11T08:41:48.671Z"
      },
      {
        "duration": 4,
        "start_time": "2022-08-11T08:42:07.133Z"
      },
      {
        "duration": 288,
        "start_time": "2022-08-11T08:42:21.978Z"
      },
      {
        "duration": 3,
        "start_time": "2022-08-11T08:42:53.444Z"
      },
      {
        "duration": 162,
        "start_time": "2022-08-11T08:43:20.848Z"
      },
      {
        "duration": 163,
        "start_time": "2022-08-11T08:43:37.409Z"
      },
      {
        "duration": 6,
        "start_time": "2022-08-11T08:48:04.437Z"
      },
      {
        "duration": 18,
        "start_time": "2022-08-11T08:48:04.445Z"
      },
      {
        "duration": 48,
        "start_time": "2022-08-11T08:48:04.465Z"
      },
      {
        "duration": 7,
        "start_time": "2022-08-11T08:48:04.514Z"
      },
      {
        "duration": 14,
        "start_time": "2022-08-11T08:48:04.522Z"
      },
      {
        "duration": 6,
        "start_time": "2022-08-11T08:48:04.537Z"
      },
      {
        "duration": 17,
        "start_time": "2022-08-11T08:48:04.545Z"
      },
      {
        "duration": 4,
        "start_time": "2022-08-11T08:48:04.563Z"
      },
      {
        "duration": 228,
        "start_time": "2022-08-11T08:48:04.568Z"
      },
      {
        "duration": 4,
        "start_time": "2022-08-11T08:48:04.797Z"
      },
      {
        "duration": 10,
        "start_time": "2022-08-11T08:48:04.803Z"
      },
      {
        "duration": 12,
        "start_time": "2022-08-11T08:48:04.815Z"
      },
      {
        "duration": 274,
        "start_time": "2022-08-11T08:48:04.840Z"
      },
      {
        "duration": 181,
        "start_time": "2022-08-11T08:48:05.116Z"
      },
      {
        "duration": 160,
        "start_time": "2022-08-11T08:48:05.299Z"
      },
      {
        "duration": 4,
        "start_time": "2022-08-11T08:48:05.461Z"
      },
      {
        "duration": 15,
        "start_time": "2022-08-11T08:48:05.466Z"
      },
      {
        "duration": 8,
        "start_time": "2022-08-11T08:48:05.482Z"
      },
      {
        "duration": 82,
        "start_time": "2022-08-11T08:48:05.491Z"
      },
      {
        "duration": 4,
        "start_time": "2022-08-11T08:48:05.574Z"
      },
      {
        "duration": 65,
        "start_time": "2022-08-11T08:48:05.579Z"
      },
      {
        "duration": 6906,
        "start_time": "2022-08-11T08:48:05.646Z"
      },
      {
        "duration": 4,
        "start_time": "2022-08-11T08:48:12.553Z"
      },
      {
        "duration": 265,
        "start_time": "2022-08-11T08:48:12.558Z"
      },
      {
        "duration": 3,
        "start_time": "2022-08-11T08:48:12.825Z"
      },
      {
        "duration": 42025,
        "start_time": "2022-08-11T08:48:12.837Z"
      },
      {
        "duration": 5,
        "start_time": "2022-08-11T08:48:54.863Z"
      },
      {
        "duration": 548,
        "start_time": "2022-08-11T08:48:54.869Z"
      },
      {
        "duration": 7,
        "start_time": "2022-08-11T08:48:55.418Z"
      },
      {
        "duration": 25,
        "start_time": "2022-08-11T08:48:55.426Z"
      },
      {
        "duration": 4,
        "start_time": "2022-08-11T09:02:34.917Z"
      },
      {
        "duration": 6,
        "start_time": "2022-08-11T09:02:34.923Z"
      },
      {
        "duration": 50,
        "start_time": "2022-08-11T09:02:34.931Z"
      },
      {
        "duration": 7,
        "start_time": "2022-08-11T09:02:34.982Z"
      },
      {
        "duration": 10,
        "start_time": "2022-08-11T09:02:34.991Z"
      },
      {
        "duration": 5,
        "start_time": "2022-08-11T09:02:35.002Z"
      },
      {
        "duration": 10,
        "start_time": "2022-08-11T09:02:35.008Z"
      },
      {
        "duration": 3,
        "start_time": "2022-08-11T09:02:35.019Z"
      },
      {
        "duration": 229,
        "start_time": "2022-08-11T09:02:35.024Z"
      },
      {
        "duration": 5,
        "start_time": "2022-08-11T09:02:35.254Z"
      },
      {
        "duration": 10,
        "start_time": "2022-08-11T09:02:35.260Z"
      },
      {
        "duration": 12,
        "start_time": "2022-08-11T09:02:35.271Z"
      },
      {
        "duration": 360,
        "start_time": "2022-08-11T09:02:35.285Z"
      },
      {
        "duration": 185,
        "start_time": "2022-08-11T09:02:35.646Z"
      },
      {
        "duration": 145,
        "start_time": "2022-08-11T09:02:35.832Z"
      },
      {
        "duration": 4,
        "start_time": "2022-08-11T09:02:35.978Z"
      },
      {
        "duration": 7,
        "start_time": "2022-08-11T09:02:35.984Z"
      },
      {
        "duration": 8,
        "start_time": "2022-08-11T09:02:35.993Z"
      },
      {
        "duration": 90,
        "start_time": "2022-08-11T09:02:36.002Z"
      },
      {
        "duration": 4,
        "start_time": "2022-08-11T09:02:36.093Z"
      },
      {
        "duration": 18,
        "start_time": "2022-08-11T09:02:36.098Z"
      },
      {
        "duration": 6207,
        "start_time": "2022-08-11T09:02:36.139Z"
      },
      {
        "duration": 4,
        "start_time": "2022-08-11T09:02:42.347Z"
      },
      {
        "duration": 230,
        "start_time": "2022-08-11T09:02:42.352Z"
      },
      {
        "duration": 3,
        "start_time": "2022-08-11T09:02:42.584Z"
      },
      {
        "duration": 60480,
        "start_time": "2022-08-11T09:02:42.588Z"
      },
      {
        "duration": 4,
        "start_time": "2022-08-11T09:03:43.070Z"
      },
      {
        "duration": 613,
        "start_time": "2022-08-11T09:03:43.076Z"
      },
      {
        "duration": 11,
        "start_time": "2022-08-11T09:03:43.692Z"
      },
      {
        "duration": 10,
        "start_time": "2022-08-11T09:03:43.705Z"
      },
      {
        "duration": 162,
        "start_time": "2022-08-11T09:06:49.003Z"
      },
      {
        "duration": 5,
        "start_time": "2022-08-11T09:29:15.284Z"
      },
      {
        "duration": 5,
        "start_time": "2022-08-11T09:29:15.291Z"
      },
      {
        "duration": 63,
        "start_time": "2022-08-11T09:29:15.298Z"
      },
      {
        "duration": 16,
        "start_time": "2022-08-11T09:29:15.363Z"
      },
      {
        "duration": 15,
        "start_time": "2022-08-11T09:29:15.381Z"
      },
      {
        "duration": 16,
        "start_time": "2022-08-11T09:29:15.398Z"
      },
      {
        "duration": 14,
        "start_time": "2022-08-11T09:29:15.416Z"
      },
      {
        "duration": 4,
        "start_time": "2022-08-11T09:29:15.432Z"
      },
      {
        "duration": 246,
        "start_time": "2022-08-11T09:29:15.438Z"
      },
      {
        "duration": 4,
        "start_time": "2022-08-11T09:29:15.686Z"
      },
      {
        "duration": 14,
        "start_time": "2022-08-11T09:29:15.692Z"
      },
      {
        "duration": 16,
        "start_time": "2022-08-11T09:29:15.708Z"
      },
      {
        "duration": 289,
        "start_time": "2022-08-11T09:29:15.726Z"
      },
      {
        "duration": 201,
        "start_time": "2022-08-11T09:29:16.016Z"
      },
      {
        "duration": 148,
        "start_time": "2022-08-11T09:29:16.219Z"
      },
      {
        "duration": 4,
        "start_time": "2022-08-11T09:29:16.369Z"
      },
      {
        "duration": 8,
        "start_time": "2022-08-11T09:29:16.375Z"
      },
      {
        "duration": 6,
        "start_time": "2022-08-11T09:29:16.384Z"
      },
      {
        "duration": 116,
        "start_time": "2022-08-11T09:29:16.392Z"
      },
      {
        "duration": 4,
        "start_time": "2022-08-11T09:29:16.509Z"
      },
      {
        "duration": 28,
        "start_time": "2022-08-11T09:29:16.515Z"
      },
      {
        "duration": 5997,
        "start_time": "2022-08-11T09:29:16.544Z"
      },
      {
        "duration": 3,
        "start_time": "2022-08-11T09:29:22.543Z"
      },
      {
        "duration": 306,
        "start_time": "2022-08-11T09:29:22.548Z"
      },
      {
        "duration": 3,
        "start_time": "2022-08-11T09:29:22.857Z"
      },
      {
        "duration": 55581,
        "start_time": "2022-08-11T09:29:22.862Z"
      },
      {
        "duration": 4,
        "start_time": "2022-08-11T09:30:18.444Z"
      },
      {
        "duration": 748,
        "start_time": "2022-08-11T09:30:18.449Z"
      },
      {
        "duration": 8,
        "start_time": "2022-08-11T09:30:19.198Z"
      },
      {
        "duration": 10,
        "start_time": "2022-08-11T09:30:19.208Z"
      },
      {
        "duration": 1445,
        "start_time": "2022-08-16T10:07:46.101Z"
      },
      {
        "duration": 55,
        "start_time": "2022-08-16T10:07:58.657Z"
      },
      {
        "duration": 63,
        "start_time": "2022-08-16T10:08:39.200Z"
      },
      {
        "duration": 61,
        "start_time": "2022-08-16T10:09:46.324Z"
      },
      {
        "duration": 194,
        "start_time": "2022-08-16T10:09:54.792Z"
      },
      {
        "duration": 127,
        "start_time": "2022-08-16T10:10:25.480Z"
      },
      {
        "duration": 119,
        "start_time": "2022-08-16T10:12:05.868Z"
      },
      {
        "duration": 119,
        "start_time": "2022-08-16T10:12:14.532Z"
      },
      {
        "duration": 93,
        "start_time": "2022-08-16T10:12:55.320Z"
      },
      {
        "duration": 93,
        "start_time": "2022-08-16T10:13:06.024Z"
      },
      {
        "duration": 12,
        "start_time": "2022-08-16T10:13:16.581Z"
      },
      {
        "duration": 89,
        "start_time": "2022-08-16T10:13:44.231Z"
      },
      {
        "duration": 572,
        "start_time": "2022-08-16T10:21:00.702Z"
      },
      {
        "duration": 119,
        "start_time": "2022-08-16T10:23:48.446Z"
      },
      {
        "duration": 114,
        "start_time": "2022-08-16T10:24:46.923Z"
      },
      {
        "duration": 108,
        "start_time": "2022-08-16T10:26:38.349Z"
      },
      {
        "duration": 89,
        "start_time": "2022-08-16T10:28:11.187Z"
      },
      {
        "duration": 85,
        "start_time": "2022-08-16T10:28:49.687Z"
      },
      {
        "duration": 95,
        "start_time": "2022-08-16T10:29:42.005Z"
      },
      {
        "duration": 89,
        "start_time": "2022-08-16T10:30:02.227Z"
      },
      {
        "duration": 10,
        "start_time": "2022-08-16T11:34:57.919Z"
      },
      {
        "duration": 266,
        "start_time": "2022-08-16T11:38:03.726Z"
      },
      {
        "duration": 13,
        "start_time": "2022-08-16T11:38:45.312Z"
      },
      {
        "duration": 98,
        "start_time": "2022-08-16T11:45:58.683Z"
      },
      {
        "duration": 90,
        "start_time": "2022-08-16T11:46:17.130Z"
      },
      {
        "duration": 97,
        "start_time": "2022-08-16T11:46:31.745Z"
      },
      {
        "duration": 91,
        "start_time": "2022-08-16T11:46:50.169Z"
      },
      {
        "duration": 87,
        "start_time": "2022-08-16T11:47:20.899Z"
      },
      {
        "duration": 90,
        "start_time": "2022-08-16T11:47:35.939Z"
      },
      {
        "duration": 91,
        "start_time": "2022-08-16T11:49:28.006Z"
      },
      {
        "duration": 86,
        "start_time": "2022-08-16T11:50:24.335Z"
      },
      {
        "duration": 89,
        "start_time": "2022-08-16T11:50:39.660Z"
      },
      {
        "duration": 87,
        "start_time": "2022-08-16T11:50:52.607Z"
      },
      {
        "duration": 96,
        "start_time": "2022-08-16T11:52:10.827Z"
      },
      {
        "duration": 190,
        "start_time": "2022-08-16T12:01:41.471Z"
      },
      {
        "duration": 76,
        "start_time": "2022-08-16T12:01:50.734Z"
      },
      {
        "duration": 182,
        "start_time": "2022-08-16T12:03:35.413Z"
      },
      {
        "duration": 98,
        "start_time": "2022-08-16T12:03:38.246Z"
      },
      {
        "duration": 189,
        "start_time": "2022-08-16T12:06:07.808Z"
      },
      {
        "duration": 185,
        "start_time": "2022-08-16T12:06:29.753Z"
      },
      {
        "duration": 196,
        "start_time": "2022-08-16T12:07:01.942Z"
      },
      {
        "duration": 290,
        "start_time": "2022-08-16T12:49:59.038Z"
      },
      {
        "duration": 179,
        "start_time": "2022-08-16T12:51:28.425Z"
      },
      {
        "duration": 75,
        "start_time": "2022-08-16T12:51:31.125Z"
      },
      {
        "duration": 155,
        "start_time": "2022-08-16T12:55:12.930Z"
      },
      {
        "duration": 175,
        "start_time": "2022-08-16T13:16:57.647Z"
      },
      {
        "duration": 129,
        "start_time": "2022-08-16T13:17:01.208Z"
      },
      {
        "duration": 67,
        "start_time": "2022-08-16T13:17:29.772Z"
      },
      {
        "duration": 77,
        "start_time": "2022-08-16T13:19:13.685Z"
      },
      {
        "duration": 72,
        "start_time": "2022-08-16T13:21:23.206Z"
      },
      {
        "duration": 282,
        "start_time": "2022-08-16T13:21:31.628Z"
      },
      {
        "duration": 0,
        "start_time": "2022-08-17T10:01:42.011Z"
      },
      {
        "duration": 4722,
        "start_time": "2022-08-17T10:04:54.075Z"
      },
      {
        "duration": 4129,
        "start_time": "2022-08-17T10:29:47.190Z"
      },
      {
        "duration": 4480,
        "start_time": "2022-08-17T10:30:11.643Z"
      },
      {
        "duration": 4096,
        "start_time": "2022-08-17T10:30:31.638Z"
      },
      {
        "duration": 4262,
        "start_time": "2022-08-17T10:31:26.763Z"
      },
      {
        "duration": 4230,
        "start_time": "2022-08-17T10:32:01.386Z"
      },
      {
        "duration": 4294,
        "start_time": "2022-08-17T10:32:16.210Z"
      },
      {
        "duration": 4176,
        "start_time": "2022-08-17T10:32:28.929Z"
      },
      {
        "duration": 4223,
        "start_time": "2022-08-17T10:32:51.795Z"
      },
      {
        "duration": 4228,
        "start_time": "2022-08-17T10:34:41.372Z"
      },
      {
        "duration": 4465,
        "start_time": "2022-08-17T10:37:54.833Z"
      },
      {
        "duration": 4289,
        "start_time": "2022-08-17T10:38:39.424Z"
      },
      {
        "duration": 4393,
        "start_time": "2022-08-17T10:44:25.406Z"
      },
      {
        "duration": 4275,
        "start_time": "2022-08-17T10:44:44.958Z"
      },
      {
        "duration": 4741,
        "start_time": "2022-08-17T10:45:08.575Z"
      },
      {
        "duration": 4264,
        "start_time": "2022-08-17T10:46:31.024Z"
      },
      {
        "duration": 4456,
        "start_time": "2022-08-17T10:46:43.332Z"
      },
      {
        "duration": 4607,
        "start_time": "2022-08-17T10:48:29.792Z"
      },
      {
        "duration": 4565,
        "start_time": "2022-08-17T10:49:37.523Z"
      },
      {
        "duration": 62,
        "start_time": "2022-08-17T10:50:05.933Z"
      },
      {
        "duration": 4892,
        "start_time": "2022-08-17T10:50:08.718Z"
      },
      {
        "duration": 5007,
        "start_time": "2022-08-17T10:51:32.547Z"
      },
      {
        "duration": 6,
        "start_time": "2022-08-17T10:52:27.025Z"
      },
      {
        "duration": 5469,
        "start_time": "2022-08-17T10:52:44.627Z"
      },
      {
        "duration": 5472,
        "start_time": "2022-08-17T10:53:07.019Z"
      },
      {
        "duration": 4486,
        "start_time": "2022-08-17T10:53:46.552Z"
      },
      {
        "duration": 4476,
        "start_time": "2022-08-17T10:54:00.833Z"
      },
      {
        "duration": 4389,
        "start_time": "2022-08-17T10:55:33.413Z"
      },
      {
        "duration": 48,
        "start_time": "2022-08-17T10:56:19.824Z"
      },
      {
        "duration": 4255,
        "start_time": "2022-08-17T10:56:31.154Z"
      },
      {
        "duration": 4470,
        "start_time": "2022-08-17T10:57:37.028Z"
      },
      {
        "duration": 4276,
        "start_time": "2022-08-17T10:58:00.531Z"
      },
      {
        "duration": 4685,
        "start_time": "2022-08-17T10:58:23.730Z"
      },
      {
        "duration": 4303,
        "start_time": "2022-08-17T10:58:55.785Z"
      },
      {
        "duration": 4227,
        "start_time": "2022-08-17T10:59:31.275Z"
      },
      {
        "duration": 56,
        "start_time": "2022-08-17T10:59:44.540Z"
      },
      {
        "duration": 4190,
        "start_time": "2022-08-17T10:59:47.616Z"
      },
      {
        "duration": 4318,
        "start_time": "2022-08-17T11:04:15.482Z"
      },
      {
        "duration": 4431,
        "start_time": "2022-08-17T11:04:45.878Z"
      },
      {
        "duration": 4454,
        "start_time": "2022-08-17T11:08:58.262Z"
      },
      {
        "duration": 4413,
        "start_time": "2022-08-17T11:11:02.076Z"
      },
      {
        "duration": 57,
        "start_time": "2022-08-17T11:11:36.545Z"
      },
      {
        "duration": 4199,
        "start_time": "2022-08-17T11:11:43.023Z"
      },
      {
        "duration": 4338,
        "start_time": "2022-08-17T11:12:34.694Z"
      },
      {
        "duration": 4445,
        "start_time": "2022-08-17T11:12:52.143Z"
      },
      {
        "duration": 4452,
        "start_time": "2022-08-17T11:13:15.051Z"
      },
      {
        "duration": 4341,
        "start_time": "2022-08-17T11:14:12.968Z"
      },
      {
        "duration": 4502,
        "start_time": "2022-08-17T11:14:53.106Z"
      },
      {
        "duration": 4482,
        "start_time": "2022-08-17T11:17:14.247Z"
      },
      {
        "duration": 5006,
        "start_time": "2022-08-17T11:17:26.916Z"
      },
      {
        "duration": 4396,
        "start_time": "2022-08-17T11:18:01.394Z"
      },
      {
        "duration": 5494,
        "start_time": "2022-08-17T11:18:38.317Z"
      },
      {
        "duration": 480,
        "start_time": "2022-08-17T11:22:58.627Z"
      },
      {
        "duration": 548,
        "start_time": "2022-08-17T11:23:32.583Z"
      },
      {
        "duration": 5683,
        "start_time": "2022-08-17T11:24:32.618Z"
      },
      {
        "duration": 5234,
        "start_time": "2022-08-17T11:24:52.296Z"
      },
      {
        "duration": 60,
        "start_time": "2022-08-17T11:36:53.451Z"
      },
      {
        "duration": 2167,
        "start_time": "2022-08-17T11:37:42.430Z"
      },
      {
        "duration": 2308,
        "start_time": "2022-08-17T11:40:53.382Z"
      },
      {
        "duration": 2256,
        "start_time": "2022-08-17T11:54:33.389Z"
      }
    ],
    "kernelspec": {
      "display_name": "Python 3 (ipykernel)",
      "language": "python",
      "name": "python3"
    },
    "language_info": {
      "codemirror_mode": {
        "name": "ipython",
        "version": 3
      },
      "file_extension": ".py",
      "mimetype": "text/x-python",
      "name": "python",
      "nbconvert_exporter": "python",
      "pygments_lexer": "ipython3",
      "version": "3.9.5"
    },
    "toc": {
      "base_numbering": 1,
      "nav_menu": {},
      "number_sections": true,
      "sideBar": true,
      "skip_h1_title": true,
      "title_cell": "Содержание",
      "title_sidebar": "Contents",
      "toc_cell": true,
      "toc_position": {
        "height": "calc(100% - 180px)",
        "left": "10px",
        "top": "150px",
        "width": "165px"
      },
      "toc_section_display": true,
      "toc_window_display": true
    },
    "colab": {
      "provenance": [],
      "collapsed_sections": []
    }
  },
  "nbformat": 4,
  "nbformat_minor": 0
}