{
  "cells": [
    {
      "cell_type": "markdown",
      "id": "71395a47",
      "metadata": {
        "id": "71395a47"
      },
      "source": [
        "# Исследование надежности заемщиков."
      ]
    },
    {
      "cell_type": "markdown",
      "id": "9bd81b8d",
      "metadata": {
        "id": "9bd81b8d"
      },
      "source": [
        "В ходе выполнения проекта разберемся влияет ли семейное положение, количество детей клиента, цели кредита или уровень дохода клиента на факт погашения кредита в срок. Входные данные от кредитного отдела банка — статистика о платёжеспособности клиентов.\n",
        "\n",
        "Результаты исследования могут быть учтены при построении модели кредитного скоринга — специальной системы, которая оценивает способность потенциального заёмщика вернуть кредит банку."
      ]
    },
    {
      "cell_type": "markdown",
      "id": "244b2df6",
      "metadata": {
        "id": "244b2df6"
      },
      "source": [
        "### Шаг 1. Обзор данных"
      ]
    },
    {
      "cell_type": "code",
      "execution_count": null,
      "id": "2ebf0956",
      "metadata": {
        "scrolled": true,
        "colab": {
          "base_uri": "https://localhost:8080/",
          "height": 1000
        },
        "id": "2ebf0956",
        "outputId": "6b284b0f-b2d5-4833-e54a-7e7f5c0e0b68"
      },
      "outputs": [
        {
          "output_type": "execute_result",
          "data": {
            "text/plain": [
              "    children  days_employed  dob_years            education  education_id  \\\n",
              "0          1   -8437.673028         42               высшее             0   \n",
              "1          1   -4024.803754         36              среднее             1   \n",
              "2          0   -5623.422610         33              Среднее             1   \n",
              "3          3   -4124.747207         32              среднее             1   \n",
              "4          0  340266.072047         53              среднее             1   \n",
              "5          0    -926.185831         27               высшее             0   \n",
              "6          0   -2879.202052         43               высшее             0   \n",
              "7          0    -152.779569         50              СРЕДНЕЕ             1   \n",
              "8          2   -6929.865299         35               ВЫСШЕЕ             0   \n",
              "9          0   -2188.756445         41              среднее             1   \n",
              "10         2   -4171.483647         36               высшее             0   \n",
              "11         0    -792.701887         40              среднее             1   \n",
              "12         0            NaN         65              среднее             1   \n",
              "13         0   -1846.641941         54  неоконченное высшее             2   \n",
              "14         0   -1844.956182         56               высшее             0   \n",
              "15         1    -972.364419         26              среднее             1   \n",
              "16         0   -1719.934226         35              среднее             1   \n",
              "17         0   -2369.999720         33               высшее             0   \n",
              "18         0  400281.136913         53              среднее             1   \n",
              "19         0  -10038.818549         48              СРЕДНЕЕ             1   \n",
              "20         1   -1311.604166         36              среднее             1   \n",
              "21         1    -253.685166         33              среднее             1   \n",
              "22         1   -1766.644138         24              среднее             1   \n",
              "23         0    -272.981385         21               высшее             0   \n",
              "24         1  338551.952911         57              среднее             1   \n",
              "25         0  363548.489348         67              среднее             1   \n",
              "26         0            NaN         41              среднее             1   \n",
              "27         0    -529.191635         28               высшее             0   \n",
              "28         1    -717.274324         26               высшее             0   \n",
              "29         0            NaN         63              среднее             1   \n",
              "\n",
              "            family_status  family_status_id gender  income_type  debt  \\\n",
              "0         женат / замужем                 0      F    сотрудник     0   \n",
              "1         женат / замужем                 0      F    сотрудник     0   \n",
              "2         женат / замужем                 0      M    сотрудник     0   \n",
              "3         женат / замужем                 0      M    сотрудник     0   \n",
              "4        гражданский брак                 1      F    пенсионер     0   \n",
              "5        гражданский брак                 1      M    компаньон     0   \n",
              "6         женат / замужем                 0      F    компаньон     0   \n",
              "7         женат / замужем                 0      M    сотрудник     0   \n",
              "8        гражданский брак                 1      F    сотрудник     0   \n",
              "9         женат / замужем                 0      M    сотрудник     0   \n",
              "10        женат / замужем                 0      M    компаньон     0   \n",
              "11        женат / замужем                 0      F    сотрудник     0   \n",
              "12       гражданский брак                 1      M    пенсионер     0   \n",
              "13        женат / замужем                 0      F    сотрудник     0   \n",
              "14       гражданский брак                 1      F    компаньон     1   \n",
              "15        женат / замужем                 0      F    сотрудник     0   \n",
              "16        женат / замужем                 0      F    сотрудник     0   \n",
              "17       гражданский брак                 1      M    сотрудник     0   \n",
              "18         вдовец / вдова                 2      F    пенсионер     0   \n",
              "19              в разводе                 3      F    сотрудник     0   \n",
              "20        женат / замужем                 0      M    сотрудник     0   \n",
              "21       гражданский брак                 1      F    сотрудник     0   \n",
              "22       гражданский брак                 1      F    сотрудник     0   \n",
              "23       гражданский брак                 1      M    сотрудник     0   \n",
              "24  Не женат / не замужем                 4      F    пенсионер     0   \n",
              "25        женат / замужем                 0      M    пенсионер     0   \n",
              "26        женат / замужем                 0      M  госслужащий     0   \n",
              "27        женат / замужем                 0      M    сотрудник     0   \n",
              "28        женат / замужем                 0      F    сотрудник     0   \n",
              "29  Не женат / не замужем                 4      F    пенсионер     0   \n",
              "\n",
              "     total_income                                 purpose  \n",
              "0   253875.639453                           покупка жилья  \n",
              "1   112080.014102                 приобретение автомобиля  \n",
              "2   145885.952297                           покупка жилья  \n",
              "3   267628.550329              дополнительное образование  \n",
              "4   158616.077870                         сыграть свадьбу  \n",
              "5   255763.565419                           покупка жилья  \n",
              "6   240525.971920                       операции с жильем  \n",
              "7   135823.934197                             образование  \n",
              "8    95856.832424                   на проведение свадьбы  \n",
              "9   144425.938277                 покупка жилья для семьи  \n",
              "10  113943.491460                    покупка недвижимости  \n",
              "11   77069.234271       покупка коммерческой недвижимости  \n",
              "12            NaN                         сыграть свадьбу  \n",
              "13  130458.228857                 приобретение автомобиля  \n",
              "14  165127.911772              покупка жилой недвижимости  \n",
              "15  116820.904450  строительство собственной недвижимости  \n",
              "16  289202.704229                            недвижимость  \n",
              "17   90410.586745              строительство недвижимости  \n",
              "18   56823.777243      на покупку подержанного автомобиля  \n",
              "19  242831.107982            на покупку своего автомобиля  \n",
              "20  209552.644578                            недвижимость  \n",
              "21  131812.203909                 приобретение автомобиля  \n",
              "22  149681.140731      на покупку подержанного автомобиля  \n",
              "23  128265.720871                         сыграть свадьбу  \n",
              "24  290547.235997   операции с коммерческой недвижимостью  \n",
              "25   55112.757732                    покупка недвижимости  \n",
              "26            NaN                             образование  \n",
              "27  308848.983691  строительство собственной недвижимости  \n",
              "28  187863.237306  строительство собственной недвижимости  \n",
              "29            NaN        строительство жилой недвижимости  "
            ],
            "text/html": [
              "\n",
              "  <div id=\"df-7f382194-f2fc-4552-801c-60aafe05d8a8\">\n",
              "    <div class=\"colab-df-container\">\n",
              "      <div>\n",
              "<style scoped>\n",
              "    .dataframe tbody tr th:only-of-type {\n",
              "        vertical-align: middle;\n",
              "    }\n",
              "\n",
              "    .dataframe tbody tr th {\n",
              "        vertical-align: top;\n",
              "    }\n",
              "\n",
              "    .dataframe thead th {\n",
              "        text-align: right;\n",
              "    }\n",
              "</style>\n",
              "<table border=\"1\" class=\"dataframe\">\n",
              "  <thead>\n",
              "    <tr style=\"text-align: right;\">\n",
              "      <th></th>\n",
              "      <th>children</th>\n",
              "      <th>days_employed</th>\n",
              "      <th>dob_years</th>\n",
              "      <th>education</th>\n",
              "      <th>education_id</th>\n",
              "      <th>family_status</th>\n",
              "      <th>family_status_id</th>\n",
              "      <th>gender</th>\n",
              "      <th>income_type</th>\n",
              "      <th>debt</th>\n",
              "      <th>total_income</th>\n",
              "      <th>purpose</th>\n",
              "    </tr>\n",
              "  </thead>\n",
              "  <tbody>\n",
              "    <tr>\n",
              "      <th>0</th>\n",
              "      <td>1</td>\n",
              "      <td>-8437.673028</td>\n",
              "      <td>42</td>\n",
              "      <td>высшее</td>\n",
              "      <td>0</td>\n",
              "      <td>женат / замужем</td>\n",
              "      <td>0</td>\n",
              "      <td>F</td>\n",
              "      <td>сотрудник</td>\n",
              "      <td>0</td>\n",
              "      <td>253875.639453</td>\n",
              "      <td>покупка жилья</td>\n",
              "    </tr>\n",
              "    <tr>\n",
              "      <th>1</th>\n",
              "      <td>1</td>\n",
              "      <td>-4024.803754</td>\n",
              "      <td>36</td>\n",
              "      <td>среднее</td>\n",
              "      <td>1</td>\n",
              "      <td>женат / замужем</td>\n",
              "      <td>0</td>\n",
              "      <td>F</td>\n",
              "      <td>сотрудник</td>\n",
              "      <td>0</td>\n",
              "      <td>112080.014102</td>\n",
              "      <td>приобретение автомобиля</td>\n",
              "    </tr>\n",
              "    <tr>\n",
              "      <th>2</th>\n",
              "      <td>0</td>\n",
              "      <td>-5623.422610</td>\n",
              "      <td>33</td>\n",
              "      <td>Среднее</td>\n",
              "      <td>1</td>\n",
              "      <td>женат / замужем</td>\n",
              "      <td>0</td>\n",
              "      <td>M</td>\n",
              "      <td>сотрудник</td>\n",
              "      <td>0</td>\n",
              "      <td>145885.952297</td>\n",
              "      <td>покупка жилья</td>\n",
              "    </tr>\n",
              "    <tr>\n",
              "      <th>3</th>\n",
              "      <td>3</td>\n",
              "      <td>-4124.747207</td>\n",
              "      <td>32</td>\n",
              "      <td>среднее</td>\n",
              "      <td>1</td>\n",
              "      <td>женат / замужем</td>\n",
              "      <td>0</td>\n",
              "      <td>M</td>\n",
              "      <td>сотрудник</td>\n",
              "      <td>0</td>\n",
              "      <td>267628.550329</td>\n",
              "      <td>дополнительное образование</td>\n",
              "    </tr>\n",
              "    <tr>\n",
              "      <th>4</th>\n",
              "      <td>0</td>\n",
              "      <td>340266.072047</td>\n",
              "      <td>53</td>\n",
              "      <td>среднее</td>\n",
              "      <td>1</td>\n",
              "      <td>гражданский брак</td>\n",
              "      <td>1</td>\n",
              "      <td>F</td>\n",
              "      <td>пенсионер</td>\n",
              "      <td>0</td>\n",
              "      <td>158616.077870</td>\n",
              "      <td>сыграть свадьбу</td>\n",
              "    </tr>\n",
              "    <tr>\n",
              "      <th>5</th>\n",
              "      <td>0</td>\n",
              "      <td>-926.185831</td>\n",
              "      <td>27</td>\n",
              "      <td>высшее</td>\n",
              "      <td>0</td>\n",
              "      <td>гражданский брак</td>\n",
              "      <td>1</td>\n",
              "      <td>M</td>\n",
              "      <td>компаньон</td>\n",
              "      <td>0</td>\n",
              "      <td>255763.565419</td>\n",
              "      <td>покупка жилья</td>\n",
              "    </tr>\n",
              "    <tr>\n",
              "      <th>6</th>\n",
              "      <td>0</td>\n",
              "      <td>-2879.202052</td>\n",
              "      <td>43</td>\n",
              "      <td>высшее</td>\n",
              "      <td>0</td>\n",
              "      <td>женат / замужем</td>\n",
              "      <td>0</td>\n",
              "      <td>F</td>\n",
              "      <td>компаньон</td>\n",
              "      <td>0</td>\n",
              "      <td>240525.971920</td>\n",
              "      <td>операции с жильем</td>\n",
              "    </tr>\n",
              "    <tr>\n",
              "      <th>7</th>\n",
              "      <td>0</td>\n",
              "      <td>-152.779569</td>\n",
              "      <td>50</td>\n",
              "      <td>СРЕДНЕЕ</td>\n",
              "      <td>1</td>\n",
              "      <td>женат / замужем</td>\n",
              "      <td>0</td>\n",
              "      <td>M</td>\n",
              "      <td>сотрудник</td>\n",
              "      <td>0</td>\n",
              "      <td>135823.934197</td>\n",
              "      <td>образование</td>\n",
              "    </tr>\n",
              "    <tr>\n",
              "      <th>8</th>\n",
              "      <td>2</td>\n",
              "      <td>-6929.865299</td>\n",
              "      <td>35</td>\n",
              "      <td>ВЫСШЕЕ</td>\n",
              "      <td>0</td>\n",
              "      <td>гражданский брак</td>\n",
              "      <td>1</td>\n",
              "      <td>F</td>\n",
              "      <td>сотрудник</td>\n",
              "      <td>0</td>\n",
              "      <td>95856.832424</td>\n",
              "      <td>на проведение свадьбы</td>\n",
              "    </tr>\n",
              "    <tr>\n",
              "      <th>9</th>\n",
              "      <td>0</td>\n",
              "      <td>-2188.756445</td>\n",
              "      <td>41</td>\n",
              "      <td>среднее</td>\n",
              "      <td>1</td>\n",
              "      <td>женат / замужем</td>\n",
              "      <td>0</td>\n",
              "      <td>M</td>\n",
              "      <td>сотрудник</td>\n",
              "      <td>0</td>\n",
              "      <td>144425.938277</td>\n",
              "      <td>покупка жилья для семьи</td>\n",
              "    </tr>\n",
              "    <tr>\n",
              "      <th>10</th>\n",
              "      <td>2</td>\n",
              "      <td>-4171.483647</td>\n",
              "      <td>36</td>\n",
              "      <td>высшее</td>\n",
              "      <td>0</td>\n",
              "      <td>женат / замужем</td>\n",
              "      <td>0</td>\n",
              "      <td>M</td>\n",
              "      <td>компаньон</td>\n",
              "      <td>0</td>\n",
              "      <td>113943.491460</td>\n",
              "      <td>покупка недвижимости</td>\n",
              "    </tr>\n",
              "    <tr>\n",
              "      <th>11</th>\n",
              "      <td>0</td>\n",
              "      <td>-792.701887</td>\n",
              "      <td>40</td>\n",
              "      <td>среднее</td>\n",
              "      <td>1</td>\n",
              "      <td>женат / замужем</td>\n",
              "      <td>0</td>\n",
              "      <td>F</td>\n",
              "      <td>сотрудник</td>\n",
              "      <td>0</td>\n",
              "      <td>77069.234271</td>\n",
              "      <td>покупка коммерческой недвижимости</td>\n",
              "    </tr>\n",
              "    <tr>\n",
              "      <th>12</th>\n",
              "      <td>0</td>\n",
              "      <td>NaN</td>\n",
              "      <td>65</td>\n",
              "      <td>среднее</td>\n",
              "      <td>1</td>\n",
              "      <td>гражданский брак</td>\n",
              "      <td>1</td>\n",
              "      <td>M</td>\n",
              "      <td>пенсионер</td>\n",
              "      <td>0</td>\n",
              "      <td>NaN</td>\n",
              "      <td>сыграть свадьбу</td>\n",
              "    </tr>\n",
              "    <tr>\n",
              "      <th>13</th>\n",
              "      <td>0</td>\n",
              "      <td>-1846.641941</td>\n",
              "      <td>54</td>\n",
              "      <td>неоконченное высшее</td>\n",
              "      <td>2</td>\n",
              "      <td>женат / замужем</td>\n",
              "      <td>0</td>\n",
              "      <td>F</td>\n",
              "      <td>сотрудник</td>\n",
              "      <td>0</td>\n",
              "      <td>130458.228857</td>\n",
              "      <td>приобретение автомобиля</td>\n",
              "    </tr>\n",
              "    <tr>\n",
              "      <th>14</th>\n",
              "      <td>0</td>\n",
              "      <td>-1844.956182</td>\n",
              "      <td>56</td>\n",
              "      <td>высшее</td>\n",
              "      <td>0</td>\n",
              "      <td>гражданский брак</td>\n",
              "      <td>1</td>\n",
              "      <td>F</td>\n",
              "      <td>компаньон</td>\n",
              "      <td>1</td>\n",
              "      <td>165127.911772</td>\n",
              "      <td>покупка жилой недвижимости</td>\n",
              "    </tr>\n",
              "    <tr>\n",
              "      <th>15</th>\n",
              "      <td>1</td>\n",
              "      <td>-972.364419</td>\n",
              "      <td>26</td>\n",
              "      <td>среднее</td>\n",
              "      <td>1</td>\n",
              "      <td>женат / замужем</td>\n",
              "      <td>0</td>\n",
              "      <td>F</td>\n",
              "      <td>сотрудник</td>\n",
              "      <td>0</td>\n",
              "      <td>116820.904450</td>\n",
              "      <td>строительство собственной недвижимости</td>\n",
              "    </tr>\n",
              "    <tr>\n",
              "      <th>16</th>\n",
              "      <td>0</td>\n",
              "      <td>-1719.934226</td>\n",
              "      <td>35</td>\n",
              "      <td>среднее</td>\n",
              "      <td>1</td>\n",
              "      <td>женат / замужем</td>\n",
              "      <td>0</td>\n",
              "      <td>F</td>\n",
              "      <td>сотрудник</td>\n",
              "      <td>0</td>\n",
              "      <td>289202.704229</td>\n",
              "      <td>недвижимость</td>\n",
              "    </tr>\n",
              "    <tr>\n",
              "      <th>17</th>\n",
              "      <td>0</td>\n",
              "      <td>-2369.999720</td>\n",
              "      <td>33</td>\n",
              "      <td>высшее</td>\n",
              "      <td>0</td>\n",
              "      <td>гражданский брак</td>\n",
              "      <td>1</td>\n",
              "      <td>M</td>\n",
              "      <td>сотрудник</td>\n",
              "      <td>0</td>\n",
              "      <td>90410.586745</td>\n",
              "      <td>строительство недвижимости</td>\n",
              "    </tr>\n",
              "    <tr>\n",
              "      <th>18</th>\n",
              "      <td>0</td>\n",
              "      <td>400281.136913</td>\n",
              "      <td>53</td>\n",
              "      <td>среднее</td>\n",
              "      <td>1</td>\n",
              "      <td>вдовец / вдова</td>\n",
              "      <td>2</td>\n",
              "      <td>F</td>\n",
              "      <td>пенсионер</td>\n",
              "      <td>0</td>\n",
              "      <td>56823.777243</td>\n",
              "      <td>на покупку подержанного автомобиля</td>\n",
              "    </tr>\n",
              "    <tr>\n",
              "      <th>19</th>\n",
              "      <td>0</td>\n",
              "      <td>-10038.818549</td>\n",
              "      <td>48</td>\n",
              "      <td>СРЕДНЕЕ</td>\n",
              "      <td>1</td>\n",
              "      <td>в разводе</td>\n",
              "      <td>3</td>\n",
              "      <td>F</td>\n",
              "      <td>сотрудник</td>\n",
              "      <td>0</td>\n",
              "      <td>242831.107982</td>\n",
              "      <td>на покупку своего автомобиля</td>\n",
              "    </tr>\n",
              "    <tr>\n",
              "      <th>20</th>\n",
              "      <td>1</td>\n",
              "      <td>-1311.604166</td>\n",
              "      <td>36</td>\n",
              "      <td>среднее</td>\n",
              "      <td>1</td>\n",
              "      <td>женат / замужем</td>\n",
              "      <td>0</td>\n",
              "      <td>M</td>\n",
              "      <td>сотрудник</td>\n",
              "      <td>0</td>\n",
              "      <td>209552.644578</td>\n",
              "      <td>недвижимость</td>\n",
              "    </tr>\n",
              "    <tr>\n",
              "      <th>21</th>\n",
              "      <td>1</td>\n",
              "      <td>-253.685166</td>\n",
              "      <td>33</td>\n",
              "      <td>среднее</td>\n",
              "      <td>1</td>\n",
              "      <td>гражданский брак</td>\n",
              "      <td>1</td>\n",
              "      <td>F</td>\n",
              "      <td>сотрудник</td>\n",
              "      <td>0</td>\n",
              "      <td>131812.203909</td>\n",
              "      <td>приобретение автомобиля</td>\n",
              "    </tr>\n",
              "    <tr>\n",
              "      <th>22</th>\n",
              "      <td>1</td>\n",
              "      <td>-1766.644138</td>\n",
              "      <td>24</td>\n",
              "      <td>среднее</td>\n",
              "      <td>1</td>\n",
              "      <td>гражданский брак</td>\n",
              "      <td>1</td>\n",
              "      <td>F</td>\n",
              "      <td>сотрудник</td>\n",
              "      <td>0</td>\n",
              "      <td>149681.140731</td>\n",
              "      <td>на покупку подержанного автомобиля</td>\n",
              "    </tr>\n",
              "    <tr>\n",
              "      <th>23</th>\n",
              "      <td>0</td>\n",
              "      <td>-272.981385</td>\n",
              "      <td>21</td>\n",
              "      <td>высшее</td>\n",
              "      <td>0</td>\n",
              "      <td>гражданский брак</td>\n",
              "      <td>1</td>\n",
              "      <td>M</td>\n",
              "      <td>сотрудник</td>\n",
              "      <td>0</td>\n",
              "      <td>128265.720871</td>\n",
              "      <td>сыграть свадьбу</td>\n",
              "    </tr>\n",
              "    <tr>\n",
              "      <th>24</th>\n",
              "      <td>1</td>\n",
              "      <td>338551.952911</td>\n",
              "      <td>57</td>\n",
              "      <td>среднее</td>\n",
              "      <td>1</td>\n",
              "      <td>Не женат / не замужем</td>\n",
              "      <td>4</td>\n",
              "      <td>F</td>\n",
              "      <td>пенсионер</td>\n",
              "      <td>0</td>\n",
              "      <td>290547.235997</td>\n",
              "      <td>операции с коммерческой недвижимостью</td>\n",
              "    </tr>\n",
              "    <tr>\n",
              "      <th>25</th>\n",
              "      <td>0</td>\n",
              "      <td>363548.489348</td>\n",
              "      <td>67</td>\n",
              "      <td>среднее</td>\n",
              "      <td>1</td>\n",
              "      <td>женат / замужем</td>\n",
              "      <td>0</td>\n",
              "      <td>M</td>\n",
              "      <td>пенсионер</td>\n",
              "      <td>0</td>\n",
              "      <td>55112.757732</td>\n",
              "      <td>покупка недвижимости</td>\n",
              "    </tr>\n",
              "    <tr>\n",
              "      <th>26</th>\n",
              "      <td>0</td>\n",
              "      <td>NaN</td>\n",
              "      <td>41</td>\n",
              "      <td>среднее</td>\n",
              "      <td>1</td>\n",
              "      <td>женат / замужем</td>\n",
              "      <td>0</td>\n",
              "      <td>M</td>\n",
              "      <td>госслужащий</td>\n",
              "      <td>0</td>\n",
              "      <td>NaN</td>\n",
              "      <td>образование</td>\n",
              "    </tr>\n",
              "    <tr>\n",
              "      <th>27</th>\n",
              "      <td>0</td>\n",
              "      <td>-529.191635</td>\n",
              "      <td>28</td>\n",
              "      <td>высшее</td>\n",
              "      <td>0</td>\n",
              "      <td>женат / замужем</td>\n",
              "      <td>0</td>\n",
              "      <td>M</td>\n",
              "      <td>сотрудник</td>\n",
              "      <td>0</td>\n",
              "      <td>308848.983691</td>\n",
              "      <td>строительство собственной недвижимости</td>\n",
              "    </tr>\n",
              "    <tr>\n",
              "      <th>28</th>\n",
              "      <td>1</td>\n",
              "      <td>-717.274324</td>\n",
              "      <td>26</td>\n",
              "      <td>высшее</td>\n",
              "      <td>0</td>\n",
              "      <td>женат / замужем</td>\n",
              "      <td>0</td>\n",
              "      <td>F</td>\n",
              "      <td>сотрудник</td>\n",
              "      <td>0</td>\n",
              "      <td>187863.237306</td>\n",
              "      <td>строительство собственной недвижимости</td>\n",
              "    </tr>\n",
              "    <tr>\n",
              "      <th>29</th>\n",
              "      <td>0</td>\n",
              "      <td>NaN</td>\n",
              "      <td>63</td>\n",
              "      <td>среднее</td>\n",
              "      <td>1</td>\n",
              "      <td>Не женат / не замужем</td>\n",
              "      <td>4</td>\n",
              "      <td>F</td>\n",
              "      <td>пенсионер</td>\n",
              "      <td>0</td>\n",
              "      <td>NaN</td>\n",
              "      <td>строительство жилой недвижимости</td>\n",
              "    </tr>\n",
              "  </tbody>\n",
              "</table>\n",
              "</div>\n",
              "      <button class=\"colab-df-convert\" onclick=\"convertToInteractive('df-7f382194-f2fc-4552-801c-60aafe05d8a8')\"\n",
              "              title=\"Convert this dataframe to an interactive table.\"\n",
              "              style=\"display:none;\">\n",
              "        \n",
              "  <svg xmlns=\"http://www.w3.org/2000/svg\" height=\"24px\"viewBox=\"0 0 24 24\"\n",
              "       width=\"24px\">\n",
              "    <path d=\"M0 0h24v24H0V0z\" fill=\"none\"/>\n",
              "    <path d=\"M18.56 5.44l.94 2.06.94-2.06 2.06-.94-2.06-.94-.94-2.06-.94 2.06-2.06.94zm-11 1L8.5 8.5l.94-2.06 2.06-.94-2.06-.94L8.5 2.5l-.94 2.06-2.06.94zm10 10l.94 2.06.94-2.06 2.06-.94-2.06-.94-.94-2.06-.94 2.06-2.06.94z\"/><path d=\"M17.41 7.96l-1.37-1.37c-.4-.4-.92-.59-1.43-.59-.52 0-1.04.2-1.43.59L10.3 9.45l-7.72 7.72c-.78.78-.78 2.05 0 2.83L4 21.41c.39.39.9.59 1.41.59.51 0 1.02-.2 1.41-.59l7.78-7.78 2.81-2.81c.8-.78.8-2.07 0-2.86zM5.41 20L4 18.59l7.72-7.72 1.47 1.35L5.41 20z\"/>\n",
              "  </svg>\n",
              "      </button>\n",
              "      \n",
              "  <style>\n",
              "    .colab-df-container {\n",
              "      display:flex;\n",
              "      flex-wrap:wrap;\n",
              "      gap: 12px;\n",
              "    }\n",
              "\n",
              "    .colab-df-convert {\n",
              "      background-color: #E8F0FE;\n",
              "      border: none;\n",
              "      border-radius: 50%;\n",
              "      cursor: pointer;\n",
              "      display: none;\n",
              "      fill: #1967D2;\n",
              "      height: 32px;\n",
              "      padding: 0 0 0 0;\n",
              "      width: 32px;\n",
              "    }\n",
              "\n",
              "    .colab-df-convert:hover {\n",
              "      background-color: #E2EBFA;\n",
              "      box-shadow: 0px 1px 2px rgba(60, 64, 67, 0.3), 0px 1px 3px 1px rgba(60, 64, 67, 0.15);\n",
              "      fill: #174EA6;\n",
              "    }\n",
              "\n",
              "    [theme=dark] .colab-df-convert {\n",
              "      background-color: #3B4455;\n",
              "      fill: #D2E3FC;\n",
              "    }\n",
              "\n",
              "    [theme=dark] .colab-df-convert:hover {\n",
              "      background-color: #434B5C;\n",
              "      box-shadow: 0px 1px 3px 1px rgba(0, 0, 0, 0.15);\n",
              "      filter: drop-shadow(0px 1px 2px rgba(0, 0, 0, 0.3));\n",
              "      fill: #FFFFFF;\n",
              "    }\n",
              "  </style>\n",
              "\n",
              "      <script>\n",
              "        const buttonEl =\n",
              "          document.querySelector('#df-7f382194-f2fc-4552-801c-60aafe05d8a8 button.colab-df-convert');\n",
              "        buttonEl.style.display =\n",
              "          google.colab.kernel.accessAllowed ? 'block' : 'none';\n",
              "\n",
              "        async function convertToInteractive(key) {\n",
              "          const element = document.querySelector('#df-7f382194-f2fc-4552-801c-60aafe05d8a8');\n",
              "          const dataTable =\n",
              "            await google.colab.kernel.invokeFunction('convertToInteractive',\n",
              "                                                     [key], {});\n",
              "          if (!dataTable) return;\n",
              "\n",
              "          const docLinkHtml = 'Like what you see? Visit the ' +\n",
              "            '<a target=\"_blank\" href=https://colab.research.google.com/notebooks/data_table.ipynb>data table notebook</a>'\n",
              "            + ' to learn more about interactive tables.';\n",
              "          element.innerHTML = '';\n",
              "          dataTable['output_type'] = 'display_data';\n",
              "          await google.colab.output.renderOutput(dataTable, element);\n",
              "          const docLink = document.createElement('div');\n",
              "          docLink.innerHTML = docLinkHtml;\n",
              "          element.appendChild(docLink);\n",
              "        }\n",
              "      </script>\n",
              "    </div>\n",
              "  </div>\n",
              "  "
            ]
          },
          "metadata": {},
          "execution_count": 19
        }
      ],
      "source": [
        "import pandas as pd # импортируем библиотеку pandas\n",
        "df = pd.read_csv('bank_customer_reliability.csv') # чтение данных из файла и сохранение в переменной df\n",
        "df.head(30) # вывод на экран первых 30 строк таблицы"
      ]
    },
    {
      "cell_type": "markdown",
      "id": "b9322e1a",
      "metadata": {
        "id": "b9322e1a"
      },
      "source": [
        "Рассмотрим общую информацию по данным датафрейма при помощи метода `info`"
      ]
    },
    {
      "cell_type": "code",
      "execution_count": null,
      "id": "0ddaf672",
      "metadata": {
        "id": "0ddaf672",
        "outputId": "a8a2b7a1-2b63-4157-c472-37cfdc848a48"
      },
      "outputs": [
        {
          "name": "stdout",
          "output_type": "stream",
          "text": [
            "<class 'pandas.core.frame.DataFrame'>\n",
            "RangeIndex: 21525 entries, 0 to 21524\n",
            "Data columns (total 12 columns):\n",
            " #   Column            Non-Null Count  Dtype  \n",
            "---  ------            --------------  -----  \n",
            " 0   children          21525 non-null  int64  \n",
            " 1   days_employed     19351 non-null  float64\n",
            " 2   dob_years         21525 non-null  int64  \n",
            " 3   education         21525 non-null  object \n",
            " 4   education_id      21525 non-null  int64  \n",
            " 5   family_status     21525 non-null  object \n",
            " 6   family_status_id  21525 non-null  int64  \n",
            " 7   gender            21525 non-null  object \n",
            " 8   income_type       21525 non-null  object \n",
            " 9   debt              21525 non-null  int64  \n",
            " 10  total_income      19351 non-null  float64\n",
            " 11  purpose           21525 non-null  object \n",
            "dtypes: float64(2), int64(5), object(5)\n",
            "memory usage: 2.0+ MB\n"
          ]
        }
      ],
      "source": [
        "df.info() # получение общей информации о данных в таблице df"
      ]
    },
    {
      "cell_type": "markdown",
      "id": "0f8f127c",
      "metadata": {
        "id": "0f8f127c"
      },
      "source": [
        "Изучим содержимое первого столбца датафрейма."
      ]
    },
    {
      "cell_type": "code",
      "execution_count": null,
      "id": "cf84c397",
      "metadata": {
        "scrolled": true,
        "id": "cf84c397",
        "outputId": "f8705a8b-afd4-43c8-a1dc-600bec3d7aef"
      },
      "outputs": [
        {
          "data": {
            "text/plain": [
              " 0     14149\n",
              " 1      4818\n",
              " 2      2055\n",
              " 3       330\n",
              " 20       76\n",
              "-1        47\n",
              " 4        41\n",
              " 5         9\n",
              "Name: children, dtype: int64"
            ]
          },
          "execution_count": 37,
          "metadata": {},
          "output_type": "execute_result"
        }
      ],
      "source": [
        "df['children'].value_counts() # выведем на экран распределение заемщиков по количеству детей в порядке убывания."
      ]
    },
    {
      "cell_type": "markdown",
      "id": "730eae66",
      "metadata": {
        "id": "730eae66"
      },
      "source": [
        "Исходя из общей информации о данных таблицы, имеются пропуски значений в столбцах 'days_employed' и 'total income'.\n",
        "Следующим этапом проверим долю пропущенных значений в данных указанных столбцов."
      ]
    },
    {
      "cell_type": "code",
      "execution_count": null,
      "id": "6b12490b",
      "metadata": {
        "id": "6b12490b",
        "outputId": "4854f40c-bdfe-4243-ceec-a1f8c758b12f"
      },
      "outputs": [
        {
          "data": {
            "text/plain": [
              "'Количество пропущенных значений в столбце days_employed: 10.1%'"
            ]
          },
          "metadata": {},
          "output_type": "display_data"
        },
        {
          "data": {
            "text/plain": [
              "'Количество пропущенных значений в столбце total_income: 10.1%'"
            ]
          },
          "metadata": {},
          "output_type": "display_data"
        }
      ],
      "source": [
        "days_employed_isna = df['days_employed'].isna().sum()/len(df) # определяем долю пропущенных значений в столбце days_employed\n",
        "total_income_isna = df['total_income'].isna().sum()/len(df) # определяем долю пропущенных значений в столбце total_income\n",
        "display ('Количество пропущенных значений в столбце days_employed: {:.1%}'.format(days_employed_isna)) \n",
        "display ('Количество пропущенных значений в столбце total_income: {:.1%}'.format(total_income_isna))"
      ]
    },
    {
      "cell_type": "markdown",
      "id": "3bd52fe9",
      "metadata": {
        "id": "3bd52fe9"
      },
      "source": [
        "Доля пропусков в значениях столбцов 'days_employed' и 'total income' совпадает, что может свидетельствовать о том, что пропущенные значения относятся к безработным людям, не имевшим занятости на момент подачи заявки на кредит и, соответственно, не имевших дохода."
      ]
    },
    {
      "cell_type": "markdown",
      "id": "fe3a9f56",
      "metadata": {
        "id": "fe3a9f56"
      },
      "source": [
        "### Шаг 2.1 Проверка данных на аномалии и исправления."
      ]
    },
    {
      "cell_type": "markdown",
      "id": "5b98a191",
      "metadata": {
        "id": "5b98a191"
      },
      "source": [
        "В ходе изучения данных таблицы были обнаружены аномальные значения для столбца `days_employed`, а именно:  \n",
        "    - встречается стаж работы с отрицательными значениями;  \n",
        "        - а также слишком большие значения стажа работы - 100 и более лет.  \n",
        "            Такие аномалии скорее всего связаны с ошибками занесения или выгрузки данных. Для проведения дальнейшего анализа поменяем отрицательные значения на положительные, а слишком большие значения менять не будем, принимая их как стаж, достаточный для выдачи кредита по умолчанию. В данном случае такие действия допустимы, поскольку анализ надежности клиентов не будет производиться на основании стажа их работы.  \n",
        "                Также встречаются различия в регистрах записи данных в столбце 'education'. Для дальнейшего анализа данных приведем все значения к одному регистру (данный пункт исправим при работе с неявными дубликатами).  \n",
        "                    В столбце children встречаются отрицательные значения, что наверняка вызвано технической ошибкой или человеческим фактором при вводе данных, количество детей в 20 человек наверняка также является ошибкой, заменим это значение на 2 ух детей.\n",
        "    "
      ]
    },
    {
      "cell_type": "code",
      "execution_count": null,
      "id": "42d14631",
      "metadata": {
        "scrolled": true,
        "id": "42d14631",
        "outputId": "cad619a1-c805-4f55-a48d-42d0d5b58f44"
      },
      "outputs": [
        {
          "data": {
            "text/html": [
              "<div>\n",
              "<style scoped>\n",
              "    .dataframe tbody tr th:only-of-type {\n",
              "        vertical-align: middle;\n",
              "    }\n",
              "\n",
              "    .dataframe tbody tr th {\n",
              "        vertical-align: top;\n",
              "    }\n",
              "\n",
              "    .dataframe thead th {\n",
              "        text-align: right;\n",
              "    }\n",
              "</style>\n",
              "<table border=\"1\" class=\"dataframe\">\n",
              "  <thead>\n",
              "    <tr style=\"text-align: right;\">\n",
              "      <th></th>\n",
              "      <th>children</th>\n",
              "      <th>days_employed</th>\n",
              "      <th>dob_years</th>\n",
              "      <th>education</th>\n",
              "      <th>education_id</th>\n",
              "      <th>family_status</th>\n",
              "      <th>family_status_id</th>\n",
              "      <th>gender</th>\n",
              "      <th>income_type</th>\n",
              "      <th>debt</th>\n",
              "      <th>total_income</th>\n",
              "      <th>purpose</th>\n",
              "    </tr>\n",
              "  </thead>\n",
              "  <tbody>\n",
              "    <tr>\n",
              "      <th>0</th>\n",
              "      <td>1</td>\n",
              "      <td>8437.673028</td>\n",
              "      <td>42</td>\n",
              "      <td>высшее</td>\n",
              "      <td>0</td>\n",
              "      <td>женат / замужем</td>\n",
              "      <td>0</td>\n",
              "      <td>F</td>\n",
              "      <td>сотрудник</td>\n",
              "      <td>0</td>\n",
              "      <td>253875.639453</td>\n",
              "      <td>покупка жилья</td>\n",
              "    </tr>\n",
              "    <tr>\n",
              "      <th>1</th>\n",
              "      <td>1</td>\n",
              "      <td>4024.803754</td>\n",
              "      <td>36</td>\n",
              "      <td>среднее</td>\n",
              "      <td>1</td>\n",
              "      <td>женат / замужем</td>\n",
              "      <td>0</td>\n",
              "      <td>F</td>\n",
              "      <td>сотрудник</td>\n",
              "      <td>0</td>\n",
              "      <td>112080.014102</td>\n",
              "      <td>приобретение автомобиля</td>\n",
              "    </tr>\n",
              "    <tr>\n",
              "      <th>2</th>\n",
              "      <td>0</td>\n",
              "      <td>5623.422610</td>\n",
              "      <td>33</td>\n",
              "      <td>Среднее</td>\n",
              "      <td>1</td>\n",
              "      <td>женат / замужем</td>\n",
              "      <td>0</td>\n",
              "      <td>M</td>\n",
              "      <td>сотрудник</td>\n",
              "      <td>0</td>\n",
              "      <td>145885.952297</td>\n",
              "      <td>покупка жилья</td>\n",
              "    </tr>\n",
              "    <tr>\n",
              "      <th>3</th>\n",
              "      <td>3</td>\n",
              "      <td>4124.747207</td>\n",
              "      <td>32</td>\n",
              "      <td>среднее</td>\n",
              "      <td>1</td>\n",
              "      <td>женат / замужем</td>\n",
              "      <td>0</td>\n",
              "      <td>M</td>\n",
              "      <td>сотрудник</td>\n",
              "      <td>0</td>\n",
              "      <td>267628.550329</td>\n",
              "      <td>дополнительное образование</td>\n",
              "    </tr>\n",
              "    <tr>\n",
              "      <th>4</th>\n",
              "      <td>0</td>\n",
              "      <td>340266.072047</td>\n",
              "      <td>53</td>\n",
              "      <td>среднее</td>\n",
              "      <td>1</td>\n",
              "      <td>гражданский брак</td>\n",
              "      <td>1</td>\n",
              "      <td>F</td>\n",
              "      <td>пенсионер</td>\n",
              "      <td>0</td>\n",
              "      <td>158616.077870</td>\n",
              "      <td>сыграть свадьбу</td>\n",
              "    </tr>\n",
              "    <tr>\n",
              "      <th>5</th>\n",
              "      <td>0</td>\n",
              "      <td>926.185831</td>\n",
              "      <td>27</td>\n",
              "      <td>высшее</td>\n",
              "      <td>0</td>\n",
              "      <td>гражданский брак</td>\n",
              "      <td>1</td>\n",
              "      <td>M</td>\n",
              "      <td>компаньон</td>\n",
              "      <td>0</td>\n",
              "      <td>255763.565419</td>\n",
              "      <td>покупка жилья</td>\n",
              "    </tr>\n",
              "    <tr>\n",
              "      <th>6</th>\n",
              "      <td>0</td>\n",
              "      <td>2879.202052</td>\n",
              "      <td>43</td>\n",
              "      <td>высшее</td>\n",
              "      <td>0</td>\n",
              "      <td>женат / замужем</td>\n",
              "      <td>0</td>\n",
              "      <td>F</td>\n",
              "      <td>компаньон</td>\n",
              "      <td>0</td>\n",
              "      <td>240525.971920</td>\n",
              "      <td>операции с жильем</td>\n",
              "    </tr>\n",
              "    <tr>\n",
              "      <th>7</th>\n",
              "      <td>0</td>\n",
              "      <td>152.779569</td>\n",
              "      <td>50</td>\n",
              "      <td>СРЕДНЕЕ</td>\n",
              "      <td>1</td>\n",
              "      <td>женат / замужем</td>\n",
              "      <td>0</td>\n",
              "      <td>M</td>\n",
              "      <td>сотрудник</td>\n",
              "      <td>0</td>\n",
              "      <td>135823.934197</td>\n",
              "      <td>образование</td>\n",
              "    </tr>\n",
              "    <tr>\n",
              "      <th>8</th>\n",
              "      <td>2</td>\n",
              "      <td>6929.865299</td>\n",
              "      <td>35</td>\n",
              "      <td>ВЫСШЕЕ</td>\n",
              "      <td>0</td>\n",
              "      <td>гражданский брак</td>\n",
              "      <td>1</td>\n",
              "      <td>F</td>\n",
              "      <td>сотрудник</td>\n",
              "      <td>0</td>\n",
              "      <td>95856.832424</td>\n",
              "      <td>на проведение свадьбы</td>\n",
              "    </tr>\n",
              "    <tr>\n",
              "      <th>9</th>\n",
              "      <td>0</td>\n",
              "      <td>2188.756445</td>\n",
              "      <td>41</td>\n",
              "      <td>среднее</td>\n",
              "      <td>1</td>\n",
              "      <td>женат / замужем</td>\n",
              "      <td>0</td>\n",
              "      <td>M</td>\n",
              "      <td>сотрудник</td>\n",
              "      <td>0</td>\n",
              "      <td>144425.938277</td>\n",
              "      <td>покупка жилья для семьи</td>\n",
              "    </tr>\n",
              "  </tbody>\n",
              "</table>\n",
              "</div>"
            ],
            "text/plain": [
              "   children  days_employed  dob_years education  education_id  \\\n",
              "0         1    8437.673028         42    высшее             0   \n",
              "1         1    4024.803754         36   среднее             1   \n",
              "2         0    5623.422610         33   Среднее             1   \n",
              "3         3    4124.747207         32   среднее             1   \n",
              "4         0  340266.072047         53   среднее             1   \n",
              "5         0     926.185831         27    высшее             0   \n",
              "6         0    2879.202052         43    высшее             0   \n",
              "7         0     152.779569         50   СРЕДНЕЕ             1   \n",
              "8         2    6929.865299         35    ВЫСШЕЕ             0   \n",
              "9         0    2188.756445         41   среднее             1   \n",
              "\n",
              "      family_status  family_status_id gender income_type  debt   total_income  \\\n",
              "0   женат / замужем                 0      F   сотрудник     0  253875.639453   \n",
              "1   женат / замужем                 0      F   сотрудник     0  112080.014102   \n",
              "2   женат / замужем                 0      M   сотрудник     0  145885.952297   \n",
              "3   женат / замужем                 0      M   сотрудник     0  267628.550329   \n",
              "4  гражданский брак                 1      F   пенсионер     0  158616.077870   \n",
              "5  гражданский брак                 1      M   компаньон     0  255763.565419   \n",
              "6   женат / замужем                 0      F   компаньон     0  240525.971920   \n",
              "7   женат / замужем                 0      M   сотрудник     0  135823.934197   \n",
              "8  гражданский брак                 1      F   сотрудник     0   95856.832424   \n",
              "9   женат / замужем                 0      M   сотрудник     0  144425.938277   \n",
              "\n",
              "                      purpose  \n",
              "0               покупка жилья  \n",
              "1     приобретение автомобиля  \n",
              "2               покупка жилья  \n",
              "3  дополнительное образование  \n",
              "4             сыграть свадьбу  \n",
              "5               покупка жилья  \n",
              "6           операции с жильем  \n",
              "7                 образование  \n",
              "8       на проведение свадьбы  \n",
              "9     покупка жилья для семьи  "
            ]
          },
          "execution_count": 39,
          "metadata": {},
          "output_type": "execute_result"
        }
      ],
      "source": [
        "df['days_employed'] = abs(df['days_employed']) # поменяем отрицательные значения в столбце 'days_employed' на положительные\n",
        "df['children'] = abs(df['children']) # поменяем отрицательные значения в столбце 'children' на положительные\n",
        "df['children'] = df['children'].replace(20,2) # измеенение количества детей в 20 человек на 2ух детей\n",
        "df.head(10) # выведем 10 первых значений из измененной таблицы"
      ]
    },
    {
      "cell_type": "markdown",
      "id": "7f6665e8",
      "metadata": {
        "id": "7f6665e8"
      },
      "source": [
        "### Шаг 2.2 Заполнение пропусков"
      ]
    },
    {
      "cell_type": "markdown",
      "id": "feadfb53",
      "metadata": {
        "id": "feadfb53"
      },
      "source": [
        "Чтобы заполнить пропущенные данные в столбцах `days_employed` и `total_income`\t, будем пользоваться медианными значениями в столбцах. Это поможет избежать влияния критически минимальных и максимальных значений по столбцам."
      ]
    },
    {
      "cell_type": "code",
      "execution_count": null,
      "id": "8479c908",
      "metadata": {
        "id": "8479c908",
        "outputId": "ae58d48b-1b99-432c-eecc-192754c7ec76"
      },
      "outputs": [
        {
          "name": "stdout",
          "output_type": "stream",
          "text": [
            "<class 'pandas.core.frame.DataFrame'>\n",
            "RangeIndex: 21525 entries, 0 to 21524\n",
            "Data columns (total 12 columns):\n",
            " #   Column            Non-Null Count  Dtype  \n",
            "---  ------            --------------  -----  \n",
            " 0   children          21525 non-null  int64  \n",
            " 1   days_employed     21525 non-null  float64\n",
            " 2   dob_years         21525 non-null  int64  \n",
            " 3   education         21525 non-null  object \n",
            " 4   education_id      21525 non-null  int64  \n",
            " 5   family_status     21525 non-null  object \n",
            " 6   family_status_id  21525 non-null  int64  \n",
            " 7   gender            21525 non-null  object \n",
            " 8   income_type       21525 non-null  object \n",
            " 9   debt              21525 non-null  int64  \n",
            " 10  total_income      21525 non-null  float64\n",
            " 11  purpose           21525 non-null  object \n",
            "dtypes: float64(2), int64(5), object(5)\n",
            "memory usage: 2.0+ MB\n"
          ]
        }
      ],
      "source": [
        "days_employed_median = df['days_employed'].median() #подсчитаем медианное значение для столбца 'days_employed'\n",
        "df['days_employed'] = df['days_employed'].fillna(days_employed_median) #заполним пропущенные данные в столбце 'days_employed' медианными значениями\n",
        "total_income_median= df['total_income'].median() #подсчитаем медианное значение для столбца 'total_income'\n",
        "df['total_income'] = df['total_income'].fillna(total_income_median)#заполним пропущенные данные в столбце 'total_income' медианными значениями\n",
        "df.info() # проверим результат заполнения пропущенных значений в таблице"
      ]
    },
    {
      "cell_type": "markdown",
      "id": "3cce0b2a",
      "metadata": {
        "id": "3cce0b2a"
      },
      "source": [
        "*Как следует из общей информации о данных в таблице с преобразованными данными, все пропущенные ячейки были заполнены.*"
      ]
    },
    {
      "cell_type": "markdown",
      "id": "9ac8d8b5",
      "metadata": {
        "id": "9ac8d8b5"
      },
      "source": [
        "### Шаг 2.3. Изменение типов данных."
      ]
    },
    {
      "cell_type": "markdown",
      "id": "d993fbc5",
      "metadata": {
        "id": "d993fbc5"
      },
      "source": [
        "Для корректного подсчета доходов заемщиков изменим тип данных в столбце `total_income` на `int`, также поменяем тип данных в колонке со стажем на целочисленные значения."
      ]
    },
    {
      "cell_type": "code",
      "execution_count": null,
      "id": "7006248e",
      "metadata": {
        "id": "7006248e",
        "outputId": "7ef96b31-423c-4fab-fa98-afda3f242f17"
      },
      "outputs": [
        {
          "data": {
            "text/html": [
              "<div>\n",
              "<style scoped>\n",
              "    .dataframe tbody tr th:only-of-type {\n",
              "        vertical-align: middle;\n",
              "    }\n",
              "\n",
              "    .dataframe tbody tr th {\n",
              "        vertical-align: top;\n",
              "    }\n",
              "\n",
              "    .dataframe thead th {\n",
              "        text-align: right;\n",
              "    }\n",
              "</style>\n",
              "<table border=\"1\" class=\"dataframe\">\n",
              "  <thead>\n",
              "    <tr style=\"text-align: right;\">\n",
              "      <th></th>\n",
              "      <th>children</th>\n",
              "      <th>days_employed</th>\n",
              "      <th>dob_years</th>\n",
              "      <th>education</th>\n",
              "      <th>education_id</th>\n",
              "      <th>family_status</th>\n",
              "      <th>family_status_id</th>\n",
              "      <th>gender</th>\n",
              "      <th>income_type</th>\n",
              "      <th>debt</th>\n",
              "      <th>total_income</th>\n",
              "      <th>purpose</th>\n",
              "    </tr>\n",
              "  </thead>\n",
              "  <tbody>\n",
              "    <tr>\n",
              "      <th>0</th>\n",
              "      <td>1</td>\n",
              "      <td>8437</td>\n",
              "      <td>42</td>\n",
              "      <td>высшее</td>\n",
              "      <td>0</td>\n",
              "      <td>женат / замужем</td>\n",
              "      <td>0</td>\n",
              "      <td>F</td>\n",
              "      <td>сотрудник</td>\n",
              "      <td>0</td>\n",
              "      <td>253875</td>\n",
              "      <td>покупка жилья</td>\n",
              "    </tr>\n",
              "    <tr>\n",
              "      <th>1</th>\n",
              "      <td>1</td>\n",
              "      <td>4024</td>\n",
              "      <td>36</td>\n",
              "      <td>среднее</td>\n",
              "      <td>1</td>\n",
              "      <td>женат / замужем</td>\n",
              "      <td>0</td>\n",
              "      <td>F</td>\n",
              "      <td>сотрудник</td>\n",
              "      <td>0</td>\n",
              "      <td>112080</td>\n",
              "      <td>приобретение автомобиля</td>\n",
              "    </tr>\n",
              "    <tr>\n",
              "      <th>2</th>\n",
              "      <td>0</td>\n",
              "      <td>5623</td>\n",
              "      <td>33</td>\n",
              "      <td>Среднее</td>\n",
              "      <td>1</td>\n",
              "      <td>женат / замужем</td>\n",
              "      <td>0</td>\n",
              "      <td>M</td>\n",
              "      <td>сотрудник</td>\n",
              "      <td>0</td>\n",
              "      <td>145885</td>\n",
              "      <td>покупка жилья</td>\n",
              "    </tr>\n",
              "    <tr>\n",
              "      <th>3</th>\n",
              "      <td>3</td>\n",
              "      <td>4124</td>\n",
              "      <td>32</td>\n",
              "      <td>среднее</td>\n",
              "      <td>1</td>\n",
              "      <td>женат / замужем</td>\n",
              "      <td>0</td>\n",
              "      <td>M</td>\n",
              "      <td>сотрудник</td>\n",
              "      <td>0</td>\n",
              "      <td>267628</td>\n",
              "      <td>дополнительное образование</td>\n",
              "    </tr>\n",
              "    <tr>\n",
              "      <th>4</th>\n",
              "      <td>0</td>\n",
              "      <td>340266</td>\n",
              "      <td>53</td>\n",
              "      <td>среднее</td>\n",
              "      <td>1</td>\n",
              "      <td>гражданский брак</td>\n",
              "      <td>1</td>\n",
              "      <td>F</td>\n",
              "      <td>пенсионер</td>\n",
              "      <td>0</td>\n",
              "      <td>158616</td>\n",
              "      <td>сыграть свадьбу</td>\n",
              "    </tr>\n",
              "    <tr>\n",
              "      <th>5</th>\n",
              "      <td>0</td>\n",
              "      <td>926</td>\n",
              "      <td>27</td>\n",
              "      <td>высшее</td>\n",
              "      <td>0</td>\n",
              "      <td>гражданский брак</td>\n",
              "      <td>1</td>\n",
              "      <td>M</td>\n",
              "      <td>компаньон</td>\n",
              "      <td>0</td>\n",
              "      <td>255763</td>\n",
              "      <td>покупка жилья</td>\n",
              "    </tr>\n",
              "    <tr>\n",
              "      <th>6</th>\n",
              "      <td>0</td>\n",
              "      <td>2879</td>\n",
              "      <td>43</td>\n",
              "      <td>высшее</td>\n",
              "      <td>0</td>\n",
              "      <td>женат / замужем</td>\n",
              "      <td>0</td>\n",
              "      <td>F</td>\n",
              "      <td>компаньон</td>\n",
              "      <td>0</td>\n",
              "      <td>240525</td>\n",
              "      <td>операции с жильем</td>\n",
              "    </tr>\n",
              "    <tr>\n",
              "      <th>7</th>\n",
              "      <td>0</td>\n",
              "      <td>152</td>\n",
              "      <td>50</td>\n",
              "      <td>СРЕДНЕЕ</td>\n",
              "      <td>1</td>\n",
              "      <td>женат / замужем</td>\n",
              "      <td>0</td>\n",
              "      <td>M</td>\n",
              "      <td>сотрудник</td>\n",
              "      <td>0</td>\n",
              "      <td>135823</td>\n",
              "      <td>образование</td>\n",
              "    </tr>\n",
              "    <tr>\n",
              "      <th>8</th>\n",
              "      <td>2</td>\n",
              "      <td>6929</td>\n",
              "      <td>35</td>\n",
              "      <td>ВЫСШЕЕ</td>\n",
              "      <td>0</td>\n",
              "      <td>гражданский брак</td>\n",
              "      <td>1</td>\n",
              "      <td>F</td>\n",
              "      <td>сотрудник</td>\n",
              "      <td>0</td>\n",
              "      <td>95856</td>\n",
              "      <td>на проведение свадьбы</td>\n",
              "    </tr>\n",
              "    <tr>\n",
              "      <th>9</th>\n",
              "      <td>0</td>\n",
              "      <td>2188</td>\n",
              "      <td>41</td>\n",
              "      <td>среднее</td>\n",
              "      <td>1</td>\n",
              "      <td>женат / замужем</td>\n",
              "      <td>0</td>\n",
              "      <td>M</td>\n",
              "      <td>сотрудник</td>\n",
              "      <td>0</td>\n",
              "      <td>144425</td>\n",
              "      <td>покупка жилья для семьи</td>\n",
              "    </tr>\n",
              "  </tbody>\n",
              "</table>\n",
              "</div>"
            ],
            "text/plain": [
              "   children  days_employed  dob_years education  education_id  \\\n",
              "0         1           8437         42    высшее             0   \n",
              "1         1           4024         36   среднее             1   \n",
              "2         0           5623         33   Среднее             1   \n",
              "3         3           4124         32   среднее             1   \n",
              "4         0         340266         53   среднее             1   \n",
              "5         0            926         27    высшее             0   \n",
              "6         0           2879         43    высшее             0   \n",
              "7         0            152         50   СРЕДНЕЕ             1   \n",
              "8         2           6929         35    ВЫСШЕЕ             0   \n",
              "9         0           2188         41   среднее             1   \n",
              "\n",
              "      family_status  family_status_id gender income_type  debt  total_income  \\\n",
              "0   женат / замужем                 0      F   сотрудник     0        253875   \n",
              "1   женат / замужем                 0      F   сотрудник     0        112080   \n",
              "2   женат / замужем                 0      M   сотрудник     0        145885   \n",
              "3   женат / замужем                 0      M   сотрудник     0        267628   \n",
              "4  гражданский брак                 1      F   пенсионер     0        158616   \n",
              "5  гражданский брак                 1      M   компаньон     0        255763   \n",
              "6   женат / замужем                 0      F   компаньон     0        240525   \n",
              "7   женат / замужем                 0      M   сотрудник     0        135823   \n",
              "8  гражданский брак                 1      F   сотрудник     0         95856   \n",
              "9   женат / замужем                 0      M   сотрудник     0        144425   \n",
              "\n",
              "                      purpose  \n",
              "0               покупка жилья  \n",
              "1     приобретение автомобиля  \n",
              "2               покупка жилья  \n",
              "3  дополнительное образование  \n",
              "4             сыграть свадьбу  \n",
              "5               покупка жилья  \n",
              "6           операции с жильем  \n",
              "7                 образование  \n",
              "8       на проведение свадьбы  \n",
              "9     покупка жилья для семьи  "
            ]
          },
          "execution_count": 41,
          "metadata": {},
          "output_type": "execute_result"
        }
      ],
      "source": [
        "df['total_income'] = df['total_income'].astype('int') # замена данных в колонке 'total_income' на целочисленные значения\n",
        "df ['days_employed'] = df['days_employed'].astype('int') # замена данных в колонке 'days_employed' на целочисленные значения\n",
        "df.head(10) # вывод 10 первых срок таблицы на экран"
      ]
    },
    {
      "cell_type": "markdown",
      "id": "88d7fd78",
      "metadata": {
        "id": "88d7fd78"
      },
      "source": [
        "### Шаг 2.4. Удаление дубликатов."
      ]
    },
    {
      "cell_type": "markdown",
      "id": "5cf925b3",
      "metadata": {
        "id": "5cf925b3"
      },
      "source": [
        "Проверим столбцы на наличие явных дубликатов."
      ]
    },
    {
      "cell_type": "code",
      "execution_count": null,
      "id": "f2278ede",
      "metadata": {
        "scrolled": false,
        "id": "f2278ede",
        "outputId": "76e14ced-dd91-41b2-d576-c30a4179f656"
      },
      "outputs": [
        {
          "data": {
            "text/plain": [
              "54"
            ]
          },
          "execution_count": 42,
          "metadata": {},
          "output_type": "execute_result"
        }
      ],
      "source": [
        "df.duplicated().sum() #проверка таблицы данных на наличие повторяющихся строк"
      ]
    },
    {
      "cell_type": "markdown",
      "id": "b03a8dee",
      "metadata": {
        "id": "b03a8dee"
      },
      "source": [
        "**Вывод**: найдены явные дубликаты, они образовались скорее всего из-за технической ошибки.\n",
        "    Следующим шагом произведем их удаление."
      ]
    },
    {
      "cell_type": "code",
      "execution_count": null,
      "id": "72d807e6",
      "metadata": {
        "id": "72d807e6",
        "outputId": "37ab8b00-0b52-4121-ac2d-9f881b7bf667"
      },
      "outputs": [
        {
          "data": {
            "text/plain": [
              "0"
            ]
          },
          "execution_count": 43,
          "metadata": {},
          "output_type": "execute_result"
        }
      ],
      "source": [
        "df = df.drop_duplicates().reset_index(drop = True) # удаление явных дубликатов \n",
        "df.duplicated().sum()"
      ]
    },
    {
      "cell_type": "markdown",
      "id": "3ae35045",
      "metadata": {
        "id": "3ae35045"
      },
      "source": [
        "Мы избавились от явных дубликатов, теперь перейдем к поиску неявных."
      ]
    },
    {
      "cell_type": "code",
      "execution_count": null,
      "id": "9afe5f75",
      "metadata": {
        "id": "9afe5f75",
        "outputId": "1fd142d7-aedb-4ba3-f7a2-4a802795d9d7"
      },
      "outputs": [
        {
          "data": {
            "text/plain": [
              "array(['ВЫСШЕЕ', 'Высшее', 'НАЧАЛЬНОЕ', 'НЕОКОНЧЕННОЕ ВЫСШЕЕ',\n",
              "       'Начальное', 'Неоконченное высшее', 'СРЕДНЕЕ', 'Среднее',\n",
              "       'УЧЕНАЯ СТЕПЕНЬ', 'Ученая степень', 'высшее', 'начальное',\n",
              "       'неоконченное высшее', 'среднее', 'ученая степень'], dtype=object)"
            ]
          },
          "execution_count": 44,
          "metadata": {},
          "output_type": "execute_result"
        }
      ],
      "source": [
        "df['education'].sort_values().unique() # проверка неявных дубликатов в столбце 'education'"
      ]
    },
    {
      "cell_type": "markdown",
      "id": "a5ffa6d1",
      "metadata": {
        "id": "a5ffa6d1"
      },
      "source": [
        "В столбце `education` встречаются различия в регистрах записи данных . Для дальнейшего анализа данных приведем все значения к одному регистру."
      ]
    },
    {
      "cell_type": "code",
      "execution_count": null,
      "id": "a35c4621",
      "metadata": {
        "scrolled": true,
        "id": "a35c4621",
        "outputId": "f16f16f3-eaed-4e10-c0b7-fbd777a5ef66"
      },
      "outputs": [
        {
          "data": {
            "text/html": [
              "<div>\n",
              "<style scoped>\n",
              "    .dataframe tbody tr th:only-of-type {\n",
              "        vertical-align: middle;\n",
              "    }\n",
              "\n",
              "    .dataframe tbody tr th {\n",
              "        vertical-align: top;\n",
              "    }\n",
              "\n",
              "    .dataframe thead th {\n",
              "        text-align: right;\n",
              "    }\n",
              "</style>\n",
              "<table border=\"1\" class=\"dataframe\">\n",
              "  <thead>\n",
              "    <tr style=\"text-align: right;\">\n",
              "      <th></th>\n",
              "      <th>children</th>\n",
              "      <th>days_employed</th>\n",
              "      <th>dob_years</th>\n",
              "      <th>education</th>\n",
              "      <th>education_id</th>\n",
              "      <th>family_status</th>\n",
              "      <th>family_status_id</th>\n",
              "      <th>gender</th>\n",
              "      <th>income_type</th>\n",
              "      <th>debt</th>\n",
              "      <th>total_income</th>\n",
              "      <th>purpose</th>\n",
              "    </tr>\n",
              "  </thead>\n",
              "  <tbody>\n",
              "    <tr>\n",
              "      <th>0</th>\n",
              "      <td>1</td>\n",
              "      <td>8437</td>\n",
              "      <td>42</td>\n",
              "      <td>высшее</td>\n",
              "      <td>0</td>\n",
              "      <td>женат / замужем</td>\n",
              "      <td>0</td>\n",
              "      <td>F</td>\n",
              "      <td>сотрудник</td>\n",
              "      <td>0</td>\n",
              "      <td>253875</td>\n",
              "      <td>покупка жилья</td>\n",
              "    </tr>\n",
              "    <tr>\n",
              "      <th>1</th>\n",
              "      <td>1</td>\n",
              "      <td>4024</td>\n",
              "      <td>36</td>\n",
              "      <td>среднее</td>\n",
              "      <td>1</td>\n",
              "      <td>женат / замужем</td>\n",
              "      <td>0</td>\n",
              "      <td>F</td>\n",
              "      <td>сотрудник</td>\n",
              "      <td>0</td>\n",
              "      <td>112080</td>\n",
              "      <td>приобретение автомобиля</td>\n",
              "    </tr>\n",
              "    <tr>\n",
              "      <th>2</th>\n",
              "      <td>0</td>\n",
              "      <td>5623</td>\n",
              "      <td>33</td>\n",
              "      <td>среднее</td>\n",
              "      <td>1</td>\n",
              "      <td>женат / замужем</td>\n",
              "      <td>0</td>\n",
              "      <td>M</td>\n",
              "      <td>сотрудник</td>\n",
              "      <td>0</td>\n",
              "      <td>145885</td>\n",
              "      <td>покупка жилья</td>\n",
              "    </tr>\n",
              "    <tr>\n",
              "      <th>3</th>\n",
              "      <td>3</td>\n",
              "      <td>4124</td>\n",
              "      <td>32</td>\n",
              "      <td>среднее</td>\n",
              "      <td>1</td>\n",
              "      <td>женат / замужем</td>\n",
              "      <td>0</td>\n",
              "      <td>M</td>\n",
              "      <td>сотрудник</td>\n",
              "      <td>0</td>\n",
              "      <td>267628</td>\n",
              "      <td>дополнительное образование</td>\n",
              "    </tr>\n",
              "    <tr>\n",
              "      <th>4</th>\n",
              "      <td>0</td>\n",
              "      <td>340266</td>\n",
              "      <td>53</td>\n",
              "      <td>среднее</td>\n",
              "      <td>1</td>\n",
              "      <td>гражданский брак</td>\n",
              "      <td>1</td>\n",
              "      <td>F</td>\n",
              "      <td>пенсионер</td>\n",
              "      <td>0</td>\n",
              "      <td>158616</td>\n",
              "      <td>сыграть свадьбу</td>\n",
              "    </tr>\n",
              "    <tr>\n",
              "      <th>5</th>\n",
              "      <td>0</td>\n",
              "      <td>926</td>\n",
              "      <td>27</td>\n",
              "      <td>высшее</td>\n",
              "      <td>0</td>\n",
              "      <td>гражданский брак</td>\n",
              "      <td>1</td>\n",
              "      <td>M</td>\n",
              "      <td>компаньон</td>\n",
              "      <td>0</td>\n",
              "      <td>255763</td>\n",
              "      <td>покупка жилья</td>\n",
              "    </tr>\n",
              "    <tr>\n",
              "      <th>6</th>\n",
              "      <td>0</td>\n",
              "      <td>2879</td>\n",
              "      <td>43</td>\n",
              "      <td>высшее</td>\n",
              "      <td>0</td>\n",
              "      <td>женат / замужем</td>\n",
              "      <td>0</td>\n",
              "      <td>F</td>\n",
              "      <td>компаньон</td>\n",
              "      <td>0</td>\n",
              "      <td>240525</td>\n",
              "      <td>операции с жильем</td>\n",
              "    </tr>\n",
              "    <tr>\n",
              "      <th>7</th>\n",
              "      <td>0</td>\n",
              "      <td>152</td>\n",
              "      <td>50</td>\n",
              "      <td>среднее</td>\n",
              "      <td>1</td>\n",
              "      <td>женат / замужем</td>\n",
              "      <td>0</td>\n",
              "      <td>M</td>\n",
              "      <td>сотрудник</td>\n",
              "      <td>0</td>\n",
              "      <td>135823</td>\n",
              "      <td>образование</td>\n",
              "    </tr>\n",
              "    <tr>\n",
              "      <th>8</th>\n",
              "      <td>2</td>\n",
              "      <td>6929</td>\n",
              "      <td>35</td>\n",
              "      <td>высшее</td>\n",
              "      <td>0</td>\n",
              "      <td>гражданский брак</td>\n",
              "      <td>1</td>\n",
              "      <td>F</td>\n",
              "      <td>сотрудник</td>\n",
              "      <td>0</td>\n",
              "      <td>95856</td>\n",
              "      <td>на проведение свадьбы</td>\n",
              "    </tr>\n",
              "    <tr>\n",
              "      <th>9</th>\n",
              "      <td>0</td>\n",
              "      <td>2188</td>\n",
              "      <td>41</td>\n",
              "      <td>среднее</td>\n",
              "      <td>1</td>\n",
              "      <td>женат / замужем</td>\n",
              "      <td>0</td>\n",
              "      <td>M</td>\n",
              "      <td>сотрудник</td>\n",
              "      <td>0</td>\n",
              "      <td>144425</td>\n",
              "      <td>покупка жилья для семьи</td>\n",
              "    </tr>\n",
              "  </tbody>\n",
              "</table>\n",
              "</div>"
            ],
            "text/plain": [
              "   children  days_employed  dob_years education  education_id  \\\n",
              "0         1           8437         42    высшее             0   \n",
              "1         1           4024         36   среднее             1   \n",
              "2         0           5623         33   среднее             1   \n",
              "3         3           4124         32   среднее             1   \n",
              "4         0         340266         53   среднее             1   \n",
              "5         0            926         27    высшее             0   \n",
              "6         0           2879         43    высшее             0   \n",
              "7         0            152         50   среднее             1   \n",
              "8         2           6929         35    высшее             0   \n",
              "9         0           2188         41   среднее             1   \n",
              "\n",
              "      family_status  family_status_id gender income_type  debt  total_income  \\\n",
              "0   женат / замужем                 0      F   сотрудник     0        253875   \n",
              "1   женат / замужем                 0      F   сотрудник     0        112080   \n",
              "2   женат / замужем                 0      M   сотрудник     0        145885   \n",
              "3   женат / замужем                 0      M   сотрудник     0        267628   \n",
              "4  гражданский брак                 1      F   пенсионер     0        158616   \n",
              "5  гражданский брак                 1      M   компаньон     0        255763   \n",
              "6   женат / замужем                 0      F   компаньон     0        240525   \n",
              "7   женат / замужем                 0      M   сотрудник     0        135823   \n",
              "8  гражданский брак                 1      F   сотрудник     0         95856   \n",
              "9   женат / замужем                 0      M   сотрудник     0        144425   \n",
              "\n",
              "                      purpose  \n",
              "0               покупка жилья  \n",
              "1     приобретение автомобиля  \n",
              "2               покупка жилья  \n",
              "3  дополнительное образование  \n",
              "4             сыграть свадьбу  \n",
              "5               покупка жилья  \n",
              "6           операции с жильем  \n",
              "7                 образование  \n",
              "8       на проведение свадьбы  \n",
              "9     покупка жилья для семьи  "
            ]
          },
          "execution_count": 45,
          "metadata": {},
          "output_type": "execute_result"
        }
      ],
      "source": [
        "df['education'] = df['education'].str.lower() #приведем данные в столбце 'education' к нижнему регистру\n",
        "df.head(10) # выведем 10 первых значений из измененной таблицы"
      ]
    },
    {
      "cell_type": "markdown",
      "id": "9eccc1bf",
      "metadata": {
        "id": "9eccc1bf"
      },
      "source": [
        "Проверим оставшиеся столбцы с катеригориальными данными на предмет наличия неявных дубликатов."
      ]
    },
    {
      "cell_type": "code",
      "execution_count": null,
      "id": "52e64b7a",
      "metadata": {
        "id": "52e64b7a",
        "outputId": "2111e1eb-d247-4379-dd25-adb0e27929e6"
      },
      "outputs": [
        {
          "data": {
            "text/plain": [
              "array(['автомобили', 'автомобиль', 'высшее образование',\n",
              "       'дополнительное образование', 'жилье',\n",
              "       'заняться высшим образованием', 'заняться образованием',\n",
              "       'на покупку автомобиля', 'на покупку подержанного автомобиля',\n",
              "       'на покупку своего автомобиля', 'на проведение свадьбы',\n",
              "       'недвижимость', 'образование', 'операции с жильем',\n",
              "       'операции с коммерческой недвижимостью',\n",
              "       'операции с недвижимостью', 'операции со своей недвижимостью',\n",
              "       'покупка жилой недвижимости', 'покупка жилья',\n",
              "       'покупка жилья для сдачи', 'покупка жилья для семьи',\n",
              "       'покупка коммерческой недвижимости', 'покупка недвижимости',\n",
              "       'покупка своего жилья', 'получение высшего образования',\n",
              "       'получение дополнительного образования', 'получение образования',\n",
              "       'приобретение автомобиля', 'профильное образование',\n",
              "       'ремонт жилью', 'свадьба', 'свой автомобиль',\n",
              "       'сделка с автомобилем', 'сделка с подержанным автомобилем',\n",
              "       'строительство жилой недвижимости', 'строительство недвижимости',\n",
              "       'строительство собственной недвижимости', 'сыграть свадьбу'],\n",
              "      dtype=object)"
            ]
          },
          "execution_count": 46,
          "metadata": {},
          "output_type": "execute_result"
        }
      ],
      "source": [
        "df['family_status'].sort_values().unique() # проверка неявных дубликатов в столбце 'family_satus'\n",
        "df['income_type'].sort_values().unique() # проверка неявных дубликатов в столбце 'income_type'\n",
        "df['purpose'].sort_values().unique() # проверка неявных дубликатов в столбце 'purpose'"
      ]
    },
    {
      "cell_type": "markdown",
      "id": "4cd9edf0",
      "metadata": {
        "id": "4cd9edf0"
      },
      "source": [
        "Столбцы `family_status` и `income_type` не содержат дубликатов, в столбце `purpose`\n",
        "присутствуют многочисленные неявные дубликаты, их удалим при проведении категоризации по целям кредита.\n"
      ]
    },
    {
      "cell_type": "markdown",
      "id": "128962d1",
      "metadata": {
        "id": "128962d1"
      },
      "source": [
        "### Шаг 2.5. Формирование дополнительных датафреймов словарей, декомпозиция исходного датафрейма."
      ]
    },
    {
      "cell_type": "markdown",
      "id": "e8312501",
      "metadata": {
        "id": "e8312501"
      },
      "source": [
        "Создадим дополнительные датафреймы словарей по показателям образования и семейного положения."
      ]
    },
    {
      "cell_type": "code",
      "execution_count": null,
      "id": "08b4d2dc",
      "metadata": {
        "id": "08b4d2dc"
      },
      "outputs": [],
      "source": [
        "df_education = df[['education','education_id']] #создание датафрейма по показателю образования\n",
        "df_family = df[['family_status','family_status_id']]  #создание датафрейма по показателю семейного положения"
      ]
    },
    {
      "cell_type": "markdown",
      "id": "b219a499",
      "metadata": {
        "id": "b219a499"
      },
      "source": [
        "Поскольку в обеих таблицах много явных дубликатов, удалим их, используя метод drop_duplicates() и создав новую индексацию строк."
      ]
    },
    {
      "cell_type": "code",
      "execution_count": null,
      "id": "153cd402",
      "metadata": {
        "id": "153cd402",
        "outputId": "5d93ca06-4d5e-49ab-e760-547a2e805152"
      },
      "outputs": [
        {
          "data": {
            "text/html": [
              "<div>\n",
              "<style scoped>\n",
              "    .dataframe tbody tr th:only-of-type {\n",
              "        vertical-align: middle;\n",
              "    }\n",
              "\n",
              "    .dataframe tbody tr th {\n",
              "        vertical-align: top;\n",
              "    }\n",
              "\n",
              "    .dataframe thead th {\n",
              "        text-align: right;\n",
              "    }\n",
              "</style>\n",
              "<table border=\"1\" class=\"dataframe\">\n",
              "  <thead>\n",
              "    <tr style=\"text-align: right;\">\n",
              "      <th></th>\n",
              "      <th>education</th>\n",
              "      <th>education_id</th>\n",
              "    </tr>\n",
              "  </thead>\n",
              "  <tbody>\n",
              "    <tr>\n",
              "      <th>0</th>\n",
              "      <td>высшее</td>\n",
              "      <td>0</td>\n",
              "    </tr>\n",
              "    <tr>\n",
              "      <th>1</th>\n",
              "      <td>среднее</td>\n",
              "      <td>1</td>\n",
              "    </tr>\n",
              "    <tr>\n",
              "      <th>2</th>\n",
              "      <td>неоконченное высшее</td>\n",
              "      <td>2</td>\n",
              "    </tr>\n",
              "    <tr>\n",
              "      <th>3</th>\n",
              "      <td>начальное</td>\n",
              "      <td>3</td>\n",
              "    </tr>\n",
              "    <tr>\n",
              "      <th>4</th>\n",
              "      <td>ученая степень</td>\n",
              "      <td>4</td>\n",
              "    </tr>\n",
              "  </tbody>\n",
              "</table>\n",
              "</div>"
            ],
            "text/plain": [
              "             education  education_id\n",
              "0               высшее             0\n",
              "1              среднее             1\n",
              "2  неоконченное высшее             2\n",
              "3            начальное             3\n",
              "4       ученая степень             4"
            ]
          },
          "execution_count": 49,
          "metadata": {},
          "output_type": "execute_result"
        }
      ],
      "source": [
        "df_education = df_education.drop_duplicates().reset_index(drop = True) #удаление явных дубликатов из датафрейма df_education\n",
        "df_family = df_family.drop_duplicates().reset_index(drop = True) #удаление явных дубликатов из датафрейма df_efamily\n",
        "df_education #вывод на экран полученного датафрейма df_education\n"
      ]
    },
    {
      "cell_type": "code",
      "execution_count": null,
      "id": "d4b7fd71",
      "metadata": {
        "id": "d4b7fd71",
        "outputId": "ff53e7a4-7592-40cc-bb62-f3a9020ecf74"
      },
      "outputs": [
        {
          "data": {
            "text/html": [
              "<div>\n",
              "<style scoped>\n",
              "    .dataframe tbody tr th:only-of-type {\n",
              "        vertical-align: middle;\n",
              "    }\n",
              "\n",
              "    .dataframe tbody tr th {\n",
              "        vertical-align: top;\n",
              "    }\n",
              "\n",
              "    .dataframe thead th {\n",
              "        text-align: right;\n",
              "    }\n",
              "</style>\n",
              "<table border=\"1\" class=\"dataframe\">\n",
              "  <thead>\n",
              "    <tr style=\"text-align: right;\">\n",
              "      <th></th>\n",
              "      <th>family_status</th>\n",
              "      <th>family_status_id</th>\n",
              "    </tr>\n",
              "  </thead>\n",
              "  <tbody>\n",
              "    <tr>\n",
              "      <th>0</th>\n",
              "      <td>женат / замужем</td>\n",
              "      <td>0</td>\n",
              "    </tr>\n",
              "    <tr>\n",
              "      <th>1</th>\n",
              "      <td>гражданский брак</td>\n",
              "      <td>1</td>\n",
              "    </tr>\n",
              "    <tr>\n",
              "      <th>2</th>\n",
              "      <td>вдовец / вдова</td>\n",
              "      <td>2</td>\n",
              "    </tr>\n",
              "    <tr>\n",
              "      <th>3</th>\n",
              "      <td>в разводе</td>\n",
              "      <td>3</td>\n",
              "    </tr>\n",
              "    <tr>\n",
              "      <th>4</th>\n",
              "      <td>Не женат / не замужем</td>\n",
              "      <td>4</td>\n",
              "    </tr>\n",
              "  </tbody>\n",
              "</table>\n",
              "</div>"
            ],
            "text/plain": [
              "           family_status  family_status_id\n",
              "0        женат / замужем                 0\n",
              "1       гражданский брак                 1\n",
              "2         вдовец / вдова                 2\n",
              "3              в разводе                 3\n",
              "4  Не женат / не замужем                 4"
            ]
          },
          "execution_count": 50,
          "metadata": {},
          "output_type": "execute_result"
        }
      ],
      "source": [
        "df_family #вывод на экран полученного датафрейма df_family"
      ]
    },
    {
      "cell_type": "markdown",
      "id": "ba072db9",
      "metadata": {
        "id": "ba072db9"
      },
      "source": [
        "Изменим исходный датафрейм путем удаления столбцов с данными `education` и `family_status`, к этим данным сможем обратиться через созданные словари."
      ]
    },
    {
      "cell_type": "code",
      "execution_count": null,
      "id": "ce44427b",
      "metadata": {
        "id": "ce44427b",
        "outputId": "37c5234e-d818-49d2-a4db-033ed00624da"
      },
      "outputs": [
        {
          "data": {
            "text/html": [
              "<div>\n",
              "<style scoped>\n",
              "    .dataframe tbody tr th:only-of-type {\n",
              "        vertical-align: middle;\n",
              "    }\n",
              "\n",
              "    .dataframe tbody tr th {\n",
              "        vertical-align: top;\n",
              "    }\n",
              "\n",
              "    .dataframe thead th {\n",
              "        text-align: right;\n",
              "    }\n",
              "</style>\n",
              "<table border=\"1\" class=\"dataframe\">\n",
              "  <thead>\n",
              "    <tr style=\"text-align: right;\">\n",
              "      <th></th>\n",
              "      <th>children</th>\n",
              "      <th>days_employed</th>\n",
              "      <th>dob_years</th>\n",
              "      <th>education_id</th>\n",
              "      <th>family_status_id</th>\n",
              "      <th>gender</th>\n",
              "      <th>income_type</th>\n",
              "      <th>debt</th>\n",
              "      <th>total_income</th>\n",
              "      <th>purpose</th>\n",
              "    </tr>\n",
              "  </thead>\n",
              "  <tbody>\n",
              "    <tr>\n",
              "      <th>0</th>\n",
              "      <td>1</td>\n",
              "      <td>8437</td>\n",
              "      <td>42</td>\n",
              "      <td>0</td>\n",
              "      <td>0</td>\n",
              "      <td>F</td>\n",
              "      <td>сотрудник</td>\n",
              "      <td>0</td>\n",
              "      <td>253875</td>\n",
              "      <td>покупка жилья</td>\n",
              "    </tr>\n",
              "    <tr>\n",
              "      <th>1</th>\n",
              "      <td>1</td>\n",
              "      <td>4024</td>\n",
              "      <td>36</td>\n",
              "      <td>1</td>\n",
              "      <td>0</td>\n",
              "      <td>F</td>\n",
              "      <td>сотрудник</td>\n",
              "      <td>0</td>\n",
              "      <td>112080</td>\n",
              "      <td>приобретение автомобиля</td>\n",
              "    </tr>\n",
              "    <tr>\n",
              "      <th>2</th>\n",
              "      <td>0</td>\n",
              "      <td>5623</td>\n",
              "      <td>33</td>\n",
              "      <td>1</td>\n",
              "      <td>0</td>\n",
              "      <td>M</td>\n",
              "      <td>сотрудник</td>\n",
              "      <td>0</td>\n",
              "      <td>145885</td>\n",
              "      <td>покупка жилья</td>\n",
              "    </tr>\n",
              "    <tr>\n",
              "      <th>3</th>\n",
              "      <td>3</td>\n",
              "      <td>4124</td>\n",
              "      <td>32</td>\n",
              "      <td>1</td>\n",
              "      <td>0</td>\n",
              "      <td>M</td>\n",
              "      <td>сотрудник</td>\n",
              "      <td>0</td>\n",
              "      <td>267628</td>\n",
              "      <td>дополнительное образование</td>\n",
              "    </tr>\n",
              "    <tr>\n",
              "      <th>4</th>\n",
              "      <td>0</td>\n",
              "      <td>340266</td>\n",
              "      <td>53</td>\n",
              "      <td>1</td>\n",
              "      <td>1</td>\n",
              "      <td>F</td>\n",
              "      <td>пенсионер</td>\n",
              "      <td>0</td>\n",
              "      <td>158616</td>\n",
              "      <td>сыграть свадьбу</td>\n",
              "    </tr>\n",
              "  </tbody>\n",
              "</table>\n",
              "</div>"
            ],
            "text/plain": [
              "   children  days_employed  dob_years  education_id  family_status_id gender  \\\n",
              "0         1           8437         42             0                 0      F   \n",
              "1         1           4024         36             1                 0      F   \n",
              "2         0           5623         33             1                 0      M   \n",
              "3         3           4124         32             1                 0      M   \n",
              "4         0         340266         53             1                 1      F   \n",
              "\n",
              "  income_type  debt  total_income                     purpose  \n",
              "0   сотрудник     0        253875               покупка жилья  \n",
              "1   сотрудник     0        112080     приобретение автомобиля  \n",
              "2   сотрудник     0        145885               покупка жилья  \n",
              "3   сотрудник     0        267628  дополнительное образование  \n",
              "4   пенсионер     0        158616             сыграть свадьбу  "
            ]
          },
          "execution_count": 51,
          "metadata": {},
          "output_type": "execute_result"
        }
      ],
      "source": [
        "df = df[['children','days_employed','dob_years',\n",
        "        'education_id','family_status_id','gender', \n",
        "        'income_type','debt','total_income','purpose']]\n",
        "df.head()"
      ]
    },
    {
      "cell_type": "markdown",
      "id": "96686c86",
      "metadata": {
        "id": "96686c86"
      },
      "source": [
        "### Шаг 2.6. Категоризация дохода."
      ]
    },
    {
      "cell_type": "markdown",
      "id": "59634921",
      "metadata": {
        "id": "59634921"
      },
      "source": [
        "Для категоризации кредитополучателей по уровню дохода создадим 5 категорий, каждому кредитополучателю присвоим соответсвующую его доходу группу:\n",
        "* 0–30000 — 'E';\n",
        "* 30001–50000 — 'D';\n",
        "* 50001–200000 — 'C';\n",
        "* 200001–1000000 — 'B';\n",
        "* 1000001 и выше — 'A'.\n",
        "\n",
        "Данные по группам доходов поместим в дополнительный столбец `total_income_category`"
      ]
    },
    {
      "cell_type": "code",
      "execution_count": null,
      "id": "33819b13",
      "metadata": {
        "scrolled": true,
        "id": "33819b13",
        "outputId": "d03c3020-5b02-4665-b78c-8d44d7c1ef4c"
      },
      "outputs": [
        {
          "data": {
            "text/html": [
              "<div>\n",
              "<style scoped>\n",
              "    .dataframe tbody tr th:only-of-type {\n",
              "        vertical-align: middle;\n",
              "    }\n",
              "\n",
              "    .dataframe tbody tr th {\n",
              "        vertical-align: top;\n",
              "    }\n",
              "\n",
              "    .dataframe thead th {\n",
              "        text-align: right;\n",
              "    }\n",
              "</style>\n",
              "<table border=\"1\" class=\"dataframe\">\n",
              "  <thead>\n",
              "    <tr style=\"text-align: right;\">\n",
              "      <th></th>\n",
              "      <th>children</th>\n",
              "      <th>days_employed</th>\n",
              "      <th>dob_years</th>\n",
              "      <th>education_id</th>\n",
              "      <th>family_status_id</th>\n",
              "      <th>gender</th>\n",
              "      <th>income_type</th>\n",
              "      <th>debt</th>\n",
              "      <th>total_income</th>\n",
              "      <th>purpose</th>\n",
              "      <th>total_income_category</th>\n",
              "    </tr>\n",
              "  </thead>\n",
              "  <tbody>\n",
              "    <tr>\n",
              "      <th>21461</th>\n",
              "      <td>1</td>\n",
              "      <td>467</td>\n",
              "      <td>28</td>\n",
              "      <td>1</td>\n",
              "      <td>0</td>\n",
              "      <td>F</td>\n",
              "      <td>сотрудник</td>\n",
              "      <td>1</td>\n",
              "      <td>109486</td>\n",
              "      <td>заняться образованием</td>\n",
              "      <td>C</td>\n",
              "    </tr>\n",
              "    <tr>\n",
              "      <th>21462</th>\n",
              "      <td>0</td>\n",
              "      <td>914</td>\n",
              "      <td>42</td>\n",
              "      <td>0</td>\n",
              "      <td>0</td>\n",
              "      <td>F</td>\n",
              "      <td>компаньон</td>\n",
              "      <td>0</td>\n",
              "      <td>322807</td>\n",
              "      <td>покупка своего жилья</td>\n",
              "      <td>B</td>\n",
              "    </tr>\n",
              "    <tr>\n",
              "      <th>21463</th>\n",
              "      <td>0</td>\n",
              "      <td>404</td>\n",
              "      <td>42</td>\n",
              "      <td>0</td>\n",
              "      <td>1</td>\n",
              "      <td>F</td>\n",
              "      <td>компаньон</td>\n",
              "      <td>0</td>\n",
              "      <td>178059</td>\n",
              "      <td>на покупку своего автомобиля</td>\n",
              "      <td>C</td>\n",
              "    </tr>\n",
              "    <tr>\n",
              "      <th>21464</th>\n",
              "      <td>0</td>\n",
              "      <td>373995</td>\n",
              "      <td>59</td>\n",
              "      <td>1</td>\n",
              "      <td>0</td>\n",
              "      <td>F</td>\n",
              "      <td>пенсионер</td>\n",
              "      <td>0</td>\n",
              "      <td>153864</td>\n",
              "      <td>сделка с автомобилем</td>\n",
              "      <td>C</td>\n",
              "    </tr>\n",
              "    <tr>\n",
              "      <th>21465</th>\n",
              "      <td>1</td>\n",
              "      <td>2351</td>\n",
              "      <td>37</td>\n",
              "      <td>4</td>\n",
              "      <td>3</td>\n",
              "      <td>M</td>\n",
              "      <td>сотрудник</td>\n",
              "      <td>0</td>\n",
              "      <td>115949</td>\n",
              "      <td>покупка коммерческой недвижимости</td>\n",
              "      <td>C</td>\n",
              "    </tr>\n",
              "    <tr>\n",
              "      <th>21466</th>\n",
              "      <td>1</td>\n",
              "      <td>4529</td>\n",
              "      <td>43</td>\n",
              "      <td>1</td>\n",
              "      <td>1</td>\n",
              "      <td>F</td>\n",
              "      <td>компаньон</td>\n",
              "      <td>0</td>\n",
              "      <td>224791</td>\n",
              "      <td>операции с жильем</td>\n",
              "      <td>B</td>\n",
              "    </tr>\n",
              "    <tr>\n",
              "      <th>21467</th>\n",
              "      <td>0</td>\n",
              "      <td>343937</td>\n",
              "      <td>67</td>\n",
              "      <td>1</td>\n",
              "      <td>0</td>\n",
              "      <td>F</td>\n",
              "      <td>пенсионер</td>\n",
              "      <td>0</td>\n",
              "      <td>155999</td>\n",
              "      <td>сделка с автомобилем</td>\n",
              "      <td>C</td>\n",
              "    </tr>\n",
              "    <tr>\n",
              "      <th>21468</th>\n",
              "      <td>1</td>\n",
              "      <td>2113</td>\n",
              "      <td>38</td>\n",
              "      <td>1</td>\n",
              "      <td>1</td>\n",
              "      <td>M</td>\n",
              "      <td>сотрудник</td>\n",
              "      <td>1</td>\n",
              "      <td>89672</td>\n",
              "      <td>недвижимость</td>\n",
              "      <td>C</td>\n",
              "    </tr>\n",
              "    <tr>\n",
              "      <th>21469</th>\n",
              "      <td>3</td>\n",
              "      <td>3112</td>\n",
              "      <td>38</td>\n",
              "      <td>1</td>\n",
              "      <td>0</td>\n",
              "      <td>M</td>\n",
              "      <td>сотрудник</td>\n",
              "      <td>1</td>\n",
              "      <td>244093</td>\n",
              "      <td>на покупку своего автомобиля</td>\n",
              "      <td>B</td>\n",
              "    </tr>\n",
              "    <tr>\n",
              "      <th>21470</th>\n",
              "      <td>2</td>\n",
              "      <td>1984</td>\n",
              "      <td>40</td>\n",
              "      <td>1</td>\n",
              "      <td>0</td>\n",
              "      <td>F</td>\n",
              "      <td>сотрудник</td>\n",
              "      <td>0</td>\n",
              "      <td>82047</td>\n",
              "      <td>на покупку автомобиля</td>\n",
              "      <td>C</td>\n",
              "    </tr>\n",
              "  </tbody>\n",
              "</table>\n",
              "</div>"
            ],
            "text/plain": [
              "       children  days_employed  dob_years  education_id  family_status_id  \\\n",
              "21461         1            467         28             1                 0   \n",
              "21462         0            914         42             0                 0   \n",
              "21463         0            404         42             0                 1   \n",
              "21464         0         373995         59             1                 0   \n",
              "21465         1           2351         37             4                 3   \n",
              "21466         1           4529         43             1                 1   \n",
              "21467         0         343937         67             1                 0   \n",
              "21468         1           2113         38             1                 1   \n",
              "21469         3           3112         38             1                 0   \n",
              "21470         2           1984         40             1                 0   \n",
              "\n",
              "      gender income_type  debt  total_income  \\\n",
              "21461      F   сотрудник     1        109486   \n",
              "21462      F   компаньон     0        322807   \n",
              "21463      F   компаньон     0        178059   \n",
              "21464      F   пенсионер     0        153864   \n",
              "21465      M   сотрудник     0        115949   \n",
              "21466      F   компаньон     0        224791   \n",
              "21467      F   пенсионер     0        155999   \n",
              "21468      M   сотрудник     1         89672   \n",
              "21469      M   сотрудник     1        244093   \n",
              "21470      F   сотрудник     0         82047   \n",
              "\n",
              "                                 purpose total_income_category  \n",
              "21461              заняться образованием                     C  \n",
              "21462               покупка своего жилья                     B  \n",
              "21463       на покупку своего автомобиля                     C  \n",
              "21464               сделка с автомобилем                     C  \n",
              "21465  покупка коммерческой недвижимости                     C  \n",
              "21466                  операции с жильем                     B  \n",
              "21467               сделка с автомобилем                     C  \n",
              "21468                       недвижимость                     C  \n",
              "21469       на покупку своего автомобиля                     B  \n",
              "21470              на покупку автомобиля                     C  "
            ]
          },
          "execution_count": 52,
          "metadata": {},
          "output_type": "execute_result"
        }
      ],
      "source": [
        "def income_category(income): #создадим функцию для сортировки заемщиков по уровню дохода\n",
        "    if income <= 30000:\n",
        "        return 'E'\n",
        "    if income <= 50000:\n",
        "        return 'D'\n",
        "    if income <= 200000:\n",
        "        return 'C'\n",
        "    if income <= 1000000:\n",
        "        return 'B'\n",
        "    return 'A'\n",
        "df['total_income_category'] = df['total_income'].apply(income_category)\n",
        "df.tail(10)\n",
        "    "
      ]
    },
    {
      "cell_type": "code",
      "execution_count": null,
      "id": "b66c1c94",
      "metadata": {
        "scrolled": true,
        "id": "b66c1c94",
        "outputId": "07c735bd-ab76-4a87-bfb8-4e8b979ca77c"
      },
      "outputs": [
        {
          "data": {
            "text/plain": [
              "C    16033\n",
              "B     5041\n",
              "D      350\n",
              "A       25\n",
              "E       22\n",
              "Name: total_income_category, dtype: int64"
            ]
          },
          "execution_count": 53,
          "metadata": {},
          "output_type": "execute_result"
        }
      ],
      "source": [
        "df['total_income_category'].value_counts() # подсчет полученных категорий по уровню дохода"
      ]
    },
    {
      "cell_type": "markdown",
      "id": "84b1ed72",
      "metadata": {
        "id": "84b1ed72"
      },
      "source": [
        "*Как видно из полученого столбца, большинство заявителей имеют доход в пределах 50001–200000 руб.*"
      ]
    },
    {
      "cell_type": "markdown",
      "id": "3d73c979",
      "metadata": {
        "id": "3d73c979"
      },
      "source": [
        "### Шаг 2.7. Категоризация целей кредита."
      ]
    },
    {
      "cell_type": "markdown",
      "id": "52e95e23",
      "metadata": {
        "id": "52e95e23"
      },
      "source": [
        "Для категоризации заемщиков по целям кредита создадим дополнительный столбец `purpose_category`. Данные в столбце будем присваивать в зависимости от целей, указанных в столбце `purpose`. Все цели будут соотнесены по четырем категориям:\n",
        "* 'операции с автомобилем',\n",
        "* 'операции с недвижимостью',\n",
        "* 'проведение свадьбы',\n",
        "* 'получение образования'."
      ]
    },
    {
      "cell_type": "code",
      "execution_count": null,
      "id": "eed3e7d1",
      "metadata": {
        "scrolled": true,
        "id": "eed3e7d1",
        "outputId": "723042d4-6daa-4062-88ad-e1b6ca34e5ba"
      },
      "outputs": [
        {
          "data": {
            "text/html": [
              "<div>\n",
              "<style scoped>\n",
              "    .dataframe tbody tr th:only-of-type {\n",
              "        vertical-align: middle;\n",
              "    }\n",
              "\n",
              "    .dataframe tbody tr th {\n",
              "        vertical-align: top;\n",
              "    }\n",
              "\n",
              "    .dataframe thead th {\n",
              "        text-align: right;\n",
              "    }\n",
              "</style>\n",
              "<table border=\"1\" class=\"dataframe\">\n",
              "  <thead>\n",
              "    <tr style=\"text-align: right;\">\n",
              "      <th></th>\n",
              "      <th>children</th>\n",
              "      <th>days_employed</th>\n",
              "      <th>dob_years</th>\n",
              "      <th>education_id</th>\n",
              "      <th>family_status_id</th>\n",
              "      <th>gender</th>\n",
              "      <th>income_type</th>\n",
              "      <th>debt</th>\n",
              "      <th>total_income</th>\n",
              "      <th>purpose</th>\n",
              "      <th>total_income_category</th>\n",
              "      <th>purpose_category</th>\n",
              "    </tr>\n",
              "  </thead>\n",
              "  <tbody>\n",
              "    <tr>\n",
              "      <th>0</th>\n",
              "      <td>1</td>\n",
              "      <td>8437</td>\n",
              "      <td>42</td>\n",
              "      <td>0</td>\n",
              "      <td>0</td>\n",
              "      <td>F</td>\n",
              "      <td>сотрудник</td>\n",
              "      <td>0</td>\n",
              "      <td>253875</td>\n",
              "      <td>покупка жилья</td>\n",
              "      <td>B</td>\n",
              "      <td>операции с недвижимостью</td>\n",
              "    </tr>\n",
              "    <tr>\n",
              "      <th>1</th>\n",
              "      <td>1</td>\n",
              "      <td>4024</td>\n",
              "      <td>36</td>\n",
              "      <td>1</td>\n",
              "      <td>0</td>\n",
              "      <td>F</td>\n",
              "      <td>сотрудник</td>\n",
              "      <td>0</td>\n",
              "      <td>112080</td>\n",
              "      <td>приобретение автомобиля</td>\n",
              "      <td>C</td>\n",
              "      <td>операции с автомобилем</td>\n",
              "    </tr>\n",
              "    <tr>\n",
              "      <th>2</th>\n",
              "      <td>0</td>\n",
              "      <td>5623</td>\n",
              "      <td>33</td>\n",
              "      <td>1</td>\n",
              "      <td>0</td>\n",
              "      <td>M</td>\n",
              "      <td>сотрудник</td>\n",
              "      <td>0</td>\n",
              "      <td>145885</td>\n",
              "      <td>покупка жилья</td>\n",
              "      <td>C</td>\n",
              "      <td>операции с недвижимостью</td>\n",
              "    </tr>\n",
              "    <tr>\n",
              "      <th>3</th>\n",
              "      <td>3</td>\n",
              "      <td>4124</td>\n",
              "      <td>32</td>\n",
              "      <td>1</td>\n",
              "      <td>0</td>\n",
              "      <td>M</td>\n",
              "      <td>сотрудник</td>\n",
              "      <td>0</td>\n",
              "      <td>267628</td>\n",
              "      <td>дополнительное образование</td>\n",
              "      <td>B</td>\n",
              "      <td>получение образования</td>\n",
              "    </tr>\n",
              "    <tr>\n",
              "      <th>4</th>\n",
              "      <td>0</td>\n",
              "      <td>340266</td>\n",
              "      <td>53</td>\n",
              "      <td>1</td>\n",
              "      <td>1</td>\n",
              "      <td>F</td>\n",
              "      <td>пенсионер</td>\n",
              "      <td>0</td>\n",
              "      <td>158616</td>\n",
              "      <td>сыграть свадьбу</td>\n",
              "      <td>C</td>\n",
              "      <td>проведение свадьбы</td>\n",
              "    </tr>\n",
              "    <tr>\n",
              "      <th>5</th>\n",
              "      <td>0</td>\n",
              "      <td>926</td>\n",
              "      <td>27</td>\n",
              "      <td>0</td>\n",
              "      <td>1</td>\n",
              "      <td>M</td>\n",
              "      <td>компаньон</td>\n",
              "      <td>0</td>\n",
              "      <td>255763</td>\n",
              "      <td>покупка жилья</td>\n",
              "      <td>B</td>\n",
              "      <td>операции с недвижимостью</td>\n",
              "    </tr>\n",
              "    <tr>\n",
              "      <th>6</th>\n",
              "      <td>0</td>\n",
              "      <td>2879</td>\n",
              "      <td>43</td>\n",
              "      <td>0</td>\n",
              "      <td>0</td>\n",
              "      <td>F</td>\n",
              "      <td>компаньон</td>\n",
              "      <td>0</td>\n",
              "      <td>240525</td>\n",
              "      <td>операции с жильем</td>\n",
              "      <td>B</td>\n",
              "      <td>операции с недвижимостью</td>\n",
              "    </tr>\n",
              "    <tr>\n",
              "      <th>7</th>\n",
              "      <td>0</td>\n",
              "      <td>152</td>\n",
              "      <td>50</td>\n",
              "      <td>1</td>\n",
              "      <td>0</td>\n",
              "      <td>M</td>\n",
              "      <td>сотрудник</td>\n",
              "      <td>0</td>\n",
              "      <td>135823</td>\n",
              "      <td>образование</td>\n",
              "      <td>C</td>\n",
              "      <td>получение образования</td>\n",
              "    </tr>\n",
              "    <tr>\n",
              "      <th>8</th>\n",
              "      <td>2</td>\n",
              "      <td>6929</td>\n",
              "      <td>35</td>\n",
              "      <td>0</td>\n",
              "      <td>1</td>\n",
              "      <td>F</td>\n",
              "      <td>сотрудник</td>\n",
              "      <td>0</td>\n",
              "      <td>95856</td>\n",
              "      <td>на проведение свадьбы</td>\n",
              "      <td>C</td>\n",
              "      <td>проведение свадьбы</td>\n",
              "    </tr>\n",
              "    <tr>\n",
              "      <th>9</th>\n",
              "      <td>0</td>\n",
              "      <td>2188</td>\n",
              "      <td>41</td>\n",
              "      <td>1</td>\n",
              "      <td>0</td>\n",
              "      <td>M</td>\n",
              "      <td>сотрудник</td>\n",
              "      <td>0</td>\n",
              "      <td>144425</td>\n",
              "      <td>покупка жилья для семьи</td>\n",
              "      <td>C</td>\n",
              "      <td>операции с недвижимостью</td>\n",
              "    </tr>\n",
              "  </tbody>\n",
              "</table>\n",
              "</div>"
            ],
            "text/plain": [
              "   children  days_employed  dob_years  education_id  family_status_id gender  \\\n",
              "0         1           8437         42             0                 0      F   \n",
              "1         1           4024         36             1                 0      F   \n",
              "2         0           5623         33             1                 0      M   \n",
              "3         3           4124         32             1                 0      M   \n",
              "4         0         340266         53             1                 1      F   \n",
              "5         0            926         27             0                 1      M   \n",
              "6         0           2879         43             0                 0      F   \n",
              "7         0            152         50             1                 0      M   \n",
              "8         2           6929         35             0                 1      F   \n",
              "9         0           2188         41             1                 0      M   \n",
              "\n",
              "  income_type  debt  total_income                     purpose  \\\n",
              "0   сотрудник     0        253875               покупка жилья   \n",
              "1   сотрудник     0        112080     приобретение автомобиля   \n",
              "2   сотрудник     0        145885               покупка жилья   \n",
              "3   сотрудник     0        267628  дополнительное образование   \n",
              "4   пенсионер     0        158616             сыграть свадьбу   \n",
              "5   компаньон     0        255763               покупка жилья   \n",
              "6   компаньон     0        240525           операции с жильем   \n",
              "7   сотрудник     0        135823                 образование   \n",
              "8   сотрудник     0         95856       на проведение свадьбы   \n",
              "9   сотрудник     0        144425     покупка жилья для семьи   \n",
              "\n",
              "  total_income_category          purpose_category  \n",
              "0                     B  операции с недвижимостью  \n",
              "1                     C    операции с автомобилем  \n",
              "2                     C  операции с недвижимостью  \n",
              "3                     B     получение образования  \n",
              "4                     C        проведение свадьбы  \n",
              "5                     B  операции с недвижимостью  \n",
              "6                     B  операции с недвижимостью  \n",
              "7                     C     получение образования  \n",
              "8                     C        проведение свадьбы  \n",
              "9                     C  операции с недвижимостью  "
            ]
          },
          "execution_count": 54,
          "metadata": {},
          "output_type": "execute_result"
        }
      ],
      "source": [
        "def purpose_category_creation(purpose): # создание функции для удаления неявных дубликатов из столбца purpose\n",
        "    if 'авто' in purpose: \n",
        "        return 'операции с автомобилем'\n",
        "    if 'образовани'in purpose:\n",
        "        return 'получение образования'\n",
        "    if 'жиль'  in purpose or 'недвижим' in purpose:\n",
        "        return 'операции с недвижимостью'\n",
        "    if 'свадьб'in purpose:\n",
        "        return 'проведение свадьбы'\n",
        "    return 'нет категории'\n",
        "df['purpose_category'] = df['purpose'].apply(purpose_category_creation)\n",
        "df.head(10)\n"
      ]
    },
    {
      "cell_type": "code",
      "execution_count": null,
      "id": "5d866d23",
      "metadata": {
        "id": "5d866d23",
        "outputId": "a9d2d049-89a0-4076-8ded-ef5d81e1b541"
      },
      "outputs": [
        {
          "data": {
            "text/plain": [
              "операции с недвижимостью    10814\n",
              "операции с автомобилем       4308\n",
              "получение образования        4014\n",
              "проведение свадьбы           2335\n",
              "Name: purpose_category, dtype: int64"
            ]
          },
          "execution_count": 55,
          "metadata": {},
          "output_type": "execute_result"
        }
      ],
      "source": [
        "df['purpose_category'].value_counts() # подсчет количества полученных категорий по целям кредита"
      ]
    },
    {
      "cell_type": "markdown",
      "id": "ba85a0e0",
      "metadata": {
        "id": "ba85a0e0"
      },
      "source": [
        "*Для большинства заявителей целью получения кредита являются операции с недвижимостью; операции с автомобилем и получение образования делят второе место, наименьшее число случаев кредитования относится к свадебным событиям*"
      ]
    },
    {
      "cell_type": "markdown",
      "id": "d1c8f50e",
      "metadata": {
        "id": "d1c8f50e"
      },
      "source": [
        "### Ответы на вопросы."
      ]
    },
    {
      "cell_type": "markdown",
      "id": "d52bce6d",
      "metadata": {
        "id": "d52bce6d"
      },
      "source": [
        "***Вопрос 1***: Проверим гипотезу о влиянии количества детей на возврат кредита в срок. Для этого сгруппируем данные по столбцу `children` и подсчитаем количество случаев невыплаты кредита в срок для каждой группы. Для выполнения задачи будем использовать сводную таблицу."
      ]
    },
    {
      "cell_type": "code",
      "execution_count": null,
      "id": "5d025f95",
      "metadata": {
        "scrolled": true,
        "id": "5d025f95",
        "outputId": "858c21fe-b845-450d-f679-3e4a0cea55b2"
      },
      "outputs": [
        {
          "data": {
            "text/html": [
              "<div>\n",
              "<style scoped>\n",
              "    .dataframe tbody tr th:only-of-type {\n",
              "        vertical-align: middle;\n",
              "    }\n",
              "\n",
              "    .dataframe tbody tr th {\n",
              "        vertical-align: top;\n",
              "    }\n",
              "\n",
              "    .dataframe thead tr th {\n",
              "        text-align: left;\n",
              "    }\n",
              "\n",
              "    .dataframe thead tr:last-of-type th {\n",
              "        text-align: right;\n",
              "    }\n",
              "</style>\n",
              "<table border=\"1\" class=\"dataframe\">\n",
              "  <thead>\n",
              "    <tr>\n",
              "      <th></th>\n",
              "      <th>sum</th>\n",
              "      <th>count</th>\n",
              "      <th>debt_ratio</th>\n",
              "    </tr>\n",
              "    <tr>\n",
              "      <th></th>\n",
              "      <th>debt</th>\n",
              "      <th>debt</th>\n",
              "      <th></th>\n",
              "    </tr>\n",
              "    <tr>\n",
              "      <th>children</th>\n",
              "      <th></th>\n",
              "      <th></th>\n",
              "      <th></th>\n",
              "    </tr>\n",
              "  </thead>\n",
              "  <tbody>\n",
              "    <tr>\n",
              "      <th>0</th>\n",
              "      <td>1063</td>\n",
              "      <td>14107</td>\n",
              "      <td>7.54</td>\n",
              "    </tr>\n",
              "    <tr>\n",
              "      <th>1</th>\n",
              "      <td>445</td>\n",
              "      <td>4856</td>\n",
              "      <td>9.16</td>\n",
              "    </tr>\n",
              "    <tr>\n",
              "      <th>2</th>\n",
              "      <td>202</td>\n",
              "      <td>2128</td>\n",
              "      <td>9.49</td>\n",
              "    </tr>\n",
              "    <tr>\n",
              "      <th>3</th>\n",
              "      <td>27</td>\n",
              "      <td>330</td>\n",
              "      <td>8.18</td>\n",
              "    </tr>\n",
              "    <tr>\n",
              "      <th>4</th>\n",
              "      <td>4</td>\n",
              "      <td>41</td>\n",
              "      <td>9.76</td>\n",
              "    </tr>\n",
              "    <tr>\n",
              "      <th>5</th>\n",
              "      <td>0</td>\n",
              "      <td>9</td>\n",
              "      <td>0.00</td>\n",
              "    </tr>\n",
              "  </tbody>\n",
              "</table>\n",
              "</div>"
            ],
            "text/plain": [
              "           sum  count debt_ratio\n",
              "          debt   debt           \n",
              "children                        \n",
              "0         1063  14107       7.54\n",
              "1          445   4856       9.16\n",
              "2          202   2128       9.49\n",
              "3           27    330       8.18\n",
              "4            4     41       9.76\n",
              "5            0      9       0.00"
            ]
          },
          "execution_count": 60,
          "metadata": {},
          "output_type": "execute_result"
        }
      ],
      "source": [
        "children_vs_debt = df.pivot_table(index=['children'],values='debt', aggfunc=[ 'sum', 'count']) # подсчитаем количество случаев возникновения задолженности в зависимости от количества детей в семье\n",
        "                                                                                               # и добавим столбец с общим числом заемщиков по каждой категории\n",
        "#children_vs_debt['with_debt_ratio'] = children_vs_debt['sum']/df['debt'].sum() # добавим столбец с данными по доле просрочек категории в общем числе просрочек \n",
        "#children_vs_debt['total_ratio'] = children_vs_debt['count']/df['debt'].count() # добавим столбец с данными по доле категории в общем числе заемщиков\n",
        "children_vs_debt['debt_ratio'] = (children_vs_debt['sum']/children_vs_debt['count']*100).round(2) #находим процент должников в общем числе заемщиков по каждой группе\n",
        "children_vs_debt"
      ]
    },
    {
      "cell_type": "markdown",
      "id": "639cc08c",
      "metadata": {
        "id": "639cc08c"
      },
      "source": [
        "Построив сводную таблицу, мы получили общее количсество должников и заемщиков по каждой категории, а также нашли процентное долю должников в общем количестве заемщиков по каждой категории. Как видно из соотношения долей, наличие детей увеличивает риск невозврата кредита, особенно большой риск создают заемщики с четырьм детьми. "
      ]
    },
    {
      "cell_type": "markdown",
      "id": "a73893f3",
      "metadata": {
        "id": "a73893f3"
      },
      "source": [
        "***Вопрос 2***: Проверим гипотезу о влиянии семейного положения на возврат кредита в срок. Для этого сгруппируем данные по столбцу `family_status_id` и подсчитаем количество случаев невыплаты кредита в срок для каждой группы. Для выполнения задачи будем использовать сводную таблицу."
      ]
    },
    {
      "cell_type": "code",
      "execution_count": null,
      "id": "329b3c79",
      "metadata": {
        "scrolled": true,
        "id": "329b3c79",
        "outputId": "c8c26697-5b67-4372-e335-493c32cf6a6e"
      },
      "outputs": [
        {
          "data": {
            "text/html": [
              "<div>\n",
              "<style scoped>\n",
              "    .dataframe tbody tr th:only-of-type {\n",
              "        vertical-align: middle;\n",
              "    }\n",
              "\n",
              "    .dataframe tbody tr th {\n",
              "        vertical-align: top;\n",
              "    }\n",
              "\n",
              "    .dataframe thead tr th {\n",
              "        text-align: left;\n",
              "    }\n",
              "\n",
              "    .dataframe thead tr:last-of-type th {\n",
              "        text-align: right;\n",
              "    }\n",
              "</style>\n",
              "<table border=\"1\" class=\"dataframe\">\n",
              "  <thead>\n",
              "    <tr>\n",
              "      <th></th>\n",
              "      <th>sum</th>\n",
              "      <th>count</th>\n",
              "      <th>debt_ratio</th>\n",
              "    </tr>\n",
              "    <tr>\n",
              "      <th></th>\n",
              "      <th>debt</th>\n",
              "      <th>debt</th>\n",
              "      <th></th>\n",
              "    </tr>\n",
              "    <tr>\n",
              "      <th>family_status_id</th>\n",
              "      <th></th>\n",
              "      <th></th>\n",
              "      <th></th>\n",
              "    </tr>\n",
              "  </thead>\n",
              "  <tbody>\n",
              "    <tr>\n",
              "      <th>0</th>\n",
              "      <td>931</td>\n",
              "      <td>12344</td>\n",
              "      <td>7.54</td>\n",
              "    </tr>\n",
              "    <tr>\n",
              "      <th>1</th>\n",
              "      <td>388</td>\n",
              "      <td>4163</td>\n",
              "      <td>9.32</td>\n",
              "    </tr>\n",
              "    <tr>\n",
              "      <th>2</th>\n",
              "      <td>63</td>\n",
              "      <td>959</td>\n",
              "      <td>6.57</td>\n",
              "    </tr>\n",
              "    <tr>\n",
              "      <th>3</th>\n",
              "      <td>85</td>\n",
              "      <td>1195</td>\n",
              "      <td>7.11</td>\n",
              "    </tr>\n",
              "    <tr>\n",
              "      <th>4</th>\n",
              "      <td>274</td>\n",
              "      <td>2810</td>\n",
              "      <td>9.75</td>\n",
              "    </tr>\n",
              "  </tbody>\n",
              "</table>\n",
              "</div>"
            ],
            "text/plain": [
              "                  sum  count debt_ratio\n",
              "                 debt   debt           \n",
              "family_status_id                       \n",
              "0                 931  12344       7.54\n",
              "1                 388   4163       9.32\n",
              "2                  63    959       6.57\n",
              "3                  85   1195       7.11\n",
              "4                 274   2810       9.75"
            ]
          },
          "execution_count": 59,
          "metadata": {},
          "output_type": "execute_result"
        }
      ],
      "source": [
        "family_status_debt = df.pivot_table(index = ['family_status_id'], values ='debt', aggfunc = ['sum','count']) # подсчитаем количество случаев возникновения задолженности в зависимости от семейного положения\n",
        "                                                                                               # и добавим столбец с общим числом заемщиков по каждой категории\n",
        "#family_status_debt['with_debt_ratio'] = family_status_debt['sum']/df['debt'].sum() # добавим столбец с данными  по доле просрочек категории в общем числе просрочек \n",
        "#family_status_debt['total_income_ratio'] = family_status_debt['count']/df['debt'].count() # добавим столбец с данными по доле категории в общем числе заемщиков\n",
        "family_status_debt['debt_ratio'] = (family_status_debt['sum']/family_status_debt['count']*100).round(2) #находим процент должников в общем числе заемщиков по каждой группе\n",
        "family_status_debt"
      ]
    },
    {
      "cell_type": "markdown",
      "id": "fa6ba6b4",
      "metadata": {
        "id": "fa6ba6b4"
      },
      "source": [
        "При помощи построения сводной таблицы мы нашли количество должников и общее количество заемщиков по каждой категории, процентное соотношение между ними показывает, что наиболее неблагонадежными являются заемщики из категорий 1 и 4 - состоящие в гражданском браке, либо холостые соответсвенно."
      ]
    },
    {
      "cell_type": "markdown",
      "id": "5801c708",
      "metadata": {
        "id": "5801c708"
      },
      "source": [
        "***Вопрос 3***: Есть ли зависимость между уровнем дохода и возвратом кредита в срок? Проверим данную гипотезу путем группировки случаев задолженностей по столбцу `total_income_category` методом `grouped `"
      ]
    },
    {
      "cell_type": "code",
      "execution_count": null,
      "id": "589b9467",
      "metadata": {
        "scrolled": true,
        "id": "589b9467",
        "outputId": "af515651-8f67-4583-a947-b470f64043b4"
      },
      "outputs": [
        {
          "data": {
            "text/html": [
              "<div>\n",
              "<style scoped>\n",
              "    .dataframe tbody tr th:only-of-type {\n",
              "        vertical-align: middle;\n",
              "    }\n",
              "\n",
              "    .dataframe tbody tr th {\n",
              "        vertical-align: top;\n",
              "    }\n",
              "\n",
              "    .dataframe thead tr th {\n",
              "        text-align: left;\n",
              "    }\n",
              "\n",
              "    .dataframe thead tr:last-of-type th {\n",
              "        text-align: right;\n",
              "    }\n",
              "</style>\n",
              "<table border=\"1\" class=\"dataframe\">\n",
              "  <thead>\n",
              "    <tr>\n",
              "      <th></th>\n",
              "      <th colspan=\"2\" halign=\"left\">debt</th>\n",
              "      <th>debt_ratio</th>\n",
              "    </tr>\n",
              "    <tr>\n",
              "      <th></th>\n",
              "      <th>sum</th>\n",
              "      <th>count</th>\n",
              "      <th></th>\n",
              "    </tr>\n",
              "    <tr>\n",
              "      <th>total_income_category</th>\n",
              "      <th></th>\n",
              "      <th></th>\n",
              "      <th></th>\n",
              "    </tr>\n",
              "  </thead>\n",
              "  <tbody>\n",
              "    <tr>\n",
              "      <th>A</th>\n",
              "      <td>2</td>\n",
              "      <td>25</td>\n",
              "      <td>8.00</td>\n",
              "    </tr>\n",
              "    <tr>\n",
              "      <th>B</th>\n",
              "      <td>356</td>\n",
              "      <td>5041</td>\n",
              "      <td>7.06</td>\n",
              "    </tr>\n",
              "    <tr>\n",
              "      <th>C</th>\n",
              "      <td>1360</td>\n",
              "      <td>16033</td>\n",
              "      <td>8.48</td>\n",
              "    </tr>\n",
              "    <tr>\n",
              "      <th>D</th>\n",
              "      <td>21</td>\n",
              "      <td>350</td>\n",
              "      <td>6.00</td>\n",
              "    </tr>\n",
              "    <tr>\n",
              "      <th>E</th>\n",
              "      <td>2</td>\n",
              "      <td>22</td>\n",
              "      <td>9.09</td>\n",
              "    </tr>\n",
              "  </tbody>\n",
              "</table>\n",
              "</div>"
            ],
            "text/plain": [
              "                       debt        debt_ratio\n",
              "                        sum  count           \n",
              "total_income_category                        \n",
              "A                         2     25       8.00\n",
              "B                       356   5041       7.06\n",
              "C                      1360  16033       8.48\n",
              "D                        21    350       6.00\n",
              "E                         2     22       9.09"
            ]
          },
          "execution_count": 64,
          "metadata": {},
          "output_type": "execute_result"
        }
      ],
      "source": [
        "income_grouped = df.groupby('total_income_category')[['debt']].agg({'debt':['sum','count']}) #создадим таблицу сгруппированную по категориям дохода и подсчитаем общее количество задолженностей по каждой группе, \n",
        "                                                                                             #для сравнения добавим общее число заемщиков в каждой группе\n",
        "#income_grouped['with_debt_ratio'] = income_grouped['debt']['sum']/df['debt'].sum() # добавим столбец с данными по доле просрочек категории в общем числе просрочек \n",
        "#income_grouped['total_income_ratio'] = income_grouped['debt']['count']/df['debt'].count() # добавим столбец с данными по доле категории в общем числе заемщиков\n",
        "income_grouped['debt_ratio'] = (income_grouped['debt']['sum']/income_grouped['debt']['count']*100).round(2) #находим процент должников в общем числе заемщиков по каждой группе\n",
        "income_grouped                                                                                                                        "
      ]
    },
    {
      "cell_type": "markdown",
      "id": "b3f6723c",
      "metadata": {
        "id": "b3f6723c"
      },
      "source": [
        "  Для определения наименее надежной категории заемщиков по уровню дохода мы подсчитали доли должников в общем количестве заемщиков по каждой категории. Как видно из процентных соотношений, наибольшую долю неблагонадежных кредиторов составляют заемщиуи категории `E`с доходом от `0 до 30000 руб.`"
      ]
    },
    {
      "cell_type": "markdown",
      "id": "b2c60fae",
      "metadata": {
        "id": "b2c60fae"
      },
      "source": [
        "***Вопрос 4***: Как разные цели кредита влияют на его возврат в срок. Данную задачу выполним при помощи группировки данных по столбцу `purpose_category`"
      ]
    },
    {
      "cell_type": "code",
      "execution_count": null,
      "id": "572004a4",
      "metadata": {
        "scrolled": true,
        "id": "572004a4",
        "outputId": "b2ada3a2-6db0-489e-b275-b3854ca14edd"
      },
      "outputs": [
        {
          "data": {
            "text/html": [
              "<div>\n",
              "<style scoped>\n",
              "    .dataframe tbody tr th:only-of-type {\n",
              "        vertical-align: middle;\n",
              "    }\n",
              "\n",
              "    .dataframe tbody tr th {\n",
              "        vertical-align: top;\n",
              "    }\n",
              "\n",
              "    .dataframe thead tr th {\n",
              "        text-align: left;\n",
              "    }\n",
              "\n",
              "    .dataframe thead tr:last-of-type th {\n",
              "        text-align: right;\n",
              "    }\n",
              "</style>\n",
              "<table border=\"1\" class=\"dataframe\">\n",
              "  <thead>\n",
              "    <tr>\n",
              "      <th></th>\n",
              "      <th colspan=\"2\" halign=\"left\">debt</th>\n",
              "      <th>debt_ratio</th>\n",
              "    </tr>\n",
              "    <tr>\n",
              "      <th></th>\n",
              "      <th>sum</th>\n",
              "      <th>count</th>\n",
              "      <th></th>\n",
              "    </tr>\n",
              "    <tr>\n",
              "      <th>purpose_category</th>\n",
              "      <th></th>\n",
              "      <th></th>\n",
              "      <th></th>\n",
              "    </tr>\n",
              "  </thead>\n",
              "  <tbody>\n",
              "    <tr>\n",
              "      <th>операции с автомобилем</th>\n",
              "      <td>403</td>\n",
              "      <td>4308</td>\n",
              "      <td>9.35</td>\n",
              "    </tr>\n",
              "    <tr>\n",
              "      <th>операции с недвижимостью</th>\n",
              "      <td>782</td>\n",
              "      <td>10814</td>\n",
              "      <td>7.23</td>\n",
              "    </tr>\n",
              "    <tr>\n",
              "      <th>получение образования</th>\n",
              "      <td>370</td>\n",
              "      <td>4014</td>\n",
              "      <td>9.22</td>\n",
              "    </tr>\n",
              "    <tr>\n",
              "      <th>проведение свадьбы</th>\n",
              "      <td>186</td>\n",
              "      <td>2335</td>\n",
              "      <td>7.97</td>\n",
              "    </tr>\n",
              "  </tbody>\n",
              "</table>\n",
              "</div>"
            ],
            "text/plain": [
              "                         debt        debt_ratio\n",
              "                          sum  count           \n",
              "purpose_category                               \n",
              "операции с автомобилем    403   4308       9.35\n",
              "операции с недвижимостью  782  10814       7.23\n",
              "получение образования     370   4014       9.22\n",
              "проведение свадьбы        186   2335       7.97"
            ]
          },
          "execution_count": 63,
          "metadata": {},
          "output_type": "execute_result"
        }
      ],
      "source": [
        "purpose_grouped = df.groupby('purpose_category')[['debt']].agg({'debt':['sum','count']}) #создадим таблицу сгруппированную по категориям дохода и подсчитаем общее количество задолженностей по каждой группе, \n",
        "                                                                                        #для сравнения добавим общее число заемщиков в каждой группе\n",
        "#purpose_grouped['with_debt_ratio'] = purpose_grouped['debt']['sum']/df['debt'].sum() # добавим столбец с данными для каждой категории по доле просрочек категории в общем числе просрочек \n",
        "#purpose_grouped['total_purposes_ratio'] = purpose_grouped['debt']['count']/df['debt'].count() # добавим столбец с данными по доле категории в общем числе заемщиков\n",
        "purpose_grouped['debt_ratio'] = (purpose_grouped['debt']['sum']/purpose_grouped['debt']['count']*100).round(2) #находим процент должников в общем числе заемщиков по каждой группе\n",
        "purpose_grouped         "
      ]
    },
    {
      "cell_type": "markdown",
      "id": "00e9ad4f",
      "metadata": {
        "id": "00e9ad4f"
      },
      "source": [
        " Процент неблагонадежных заемщиков был посчитан как отношение количества должников к общему количеству заемщиков по каждой категории, подтвердилось утверждение о том, что наиболее рискованными являются цели кредита на операции с автомобилем и на образование."
      ]
    },
    {
      "cell_type": "markdown",
      "id": "c505b392",
      "metadata": {
        "id": "c505b392"
      },
      "source": [
        "## Общий вывод: в ходе исследования были проверены гипотезы о влиянии различных факторов на нарушение сроков погашения кредитов. В результате проведенного анализа были выявлены наибольшие риски просрочки выплаты кредитов для следующих групп: \n",
        "* лица с детьмми( особенно те, у которых четверо детей);\n",
        "* люди не состоящие в браке или состоящие в гражданском браке;<span style='background-color:#7FFFD4'> \n",
        "* лица с доходом в диапазоне  <span style='background-color:#7FFFD4'> 0 - 30000 руб.\n",
        "* лица, берущие кредиты на операции с автомобилями или на образование.<span style='background-color:#7FFFD4'> \n",
        "\n"
      ]
    },
    {
      "cell_type": "code",
      "execution_count": null,
      "id": "586987da",
      "metadata": {
        "id": "586987da"
      },
      "outputs": [],
      "source": []
    }
  ],
  "metadata": {
    "ExecuteTimeLog": [
      {
        "duration": 417,
        "start_time": "2022-03-26T18:23:43.377Z"
      },
      {
        "duration": 56,
        "start_time": "2022-03-26T18:24:00.831Z"
      },
      {
        "duration": 66,
        "start_time": "2022-03-26T18:28:51.787Z"
      },
      {
        "duration": 67,
        "start_time": "2022-03-26T18:29:43.390Z"
      },
      {
        "duration": 61,
        "start_time": "2022-03-26T18:30:29.925Z"
      },
      {
        "duration": 66,
        "start_time": "2022-03-26T18:31:37.727Z"
      },
      {
        "duration": 65,
        "start_time": "2022-03-26T18:35:07.493Z"
      },
      {
        "duration": 15,
        "start_time": "2022-03-26T18:35:10.261Z"
      },
      {
        "duration": 5,
        "start_time": "2022-03-26T18:38:04.558Z"
      },
      {
        "duration": 5,
        "start_time": "2022-03-26T18:40:53.620Z"
      },
      {
        "duration": 80,
        "start_time": "2022-03-26T18:45:01.005Z"
      },
      {
        "duration": 82,
        "start_time": "2022-03-26T18:45:12.206Z"
      },
      {
        "duration": 4,
        "start_time": "2022-03-26T18:45:37.760Z"
      },
      {
        "duration": 4,
        "start_time": "2022-03-26T18:45:42.131Z"
      },
      {
        "duration": 108,
        "start_time": "2022-03-26T18:46:03.502Z"
      },
      {
        "duration": 79,
        "start_time": "2022-03-26T18:46:15.999Z"
      },
      {
        "duration": 77,
        "start_time": "2022-03-26T18:46:29.304Z"
      },
      {
        "duration": 83,
        "start_time": "2022-03-26T18:49:01.934Z"
      },
      {
        "duration": 76,
        "start_time": "2022-03-26T18:49:05.841Z"
      },
      {
        "duration": 81,
        "start_time": "2022-03-26T18:50:26.733Z"
      },
      {
        "duration": 78,
        "start_time": "2022-03-26T18:51:22.647Z"
      },
      {
        "duration": 9,
        "start_time": "2022-03-26T18:53:48.330Z"
      },
      {
        "duration": 7,
        "start_time": "2022-03-26T18:54:11.051Z"
      },
      {
        "duration": 5,
        "start_time": "2022-03-26T18:54:28.811Z"
      },
      {
        "duration": 7,
        "start_time": "2022-03-26T18:56:49.813Z"
      },
      {
        "duration": 135,
        "start_time": "2022-03-27T18:26:48.426Z"
      },
      {
        "duration": 721,
        "start_time": "2022-03-27T18:45:09.268Z"
      },
      {
        "duration": 31,
        "start_time": "2022-03-27T19:02:22.378Z"
      },
      {
        "duration": 93,
        "start_time": "2022-03-27T19:02:36.134Z"
      },
      {
        "duration": 112,
        "start_time": "2022-03-27T19:05:25.919Z"
      },
      {
        "duration": 33,
        "start_time": "2022-03-27T19:05:39.325Z"
      },
      {
        "duration": 32,
        "start_time": "2022-03-27T19:06:27.763Z"
      },
      {
        "duration": 23,
        "start_time": "2022-03-27T19:07:10.013Z"
      },
      {
        "duration": 21,
        "start_time": "2022-03-27T19:15:39.116Z"
      },
      {
        "duration": 11,
        "start_time": "2022-03-27T19:15:56.015Z"
      },
      {
        "duration": 32,
        "start_time": "2022-03-27T19:17:54.907Z"
      },
      {
        "duration": 36,
        "start_time": "2022-03-27T19:20:45.808Z"
      },
      {
        "duration": 35,
        "start_time": "2022-03-27T19:21:44.675Z"
      },
      {
        "duration": 48,
        "start_time": "2022-03-28T10:25:02.944Z"
      },
      {
        "duration": 503,
        "start_time": "2022-03-28T10:25:11.085Z"
      },
      {
        "duration": 26,
        "start_time": "2022-03-28T10:25:19.318Z"
      },
      {
        "duration": 5,
        "start_time": "2022-03-28T10:25:22.165Z"
      },
      {
        "duration": 70,
        "start_time": "2022-03-28T10:25:54.173Z"
      },
      {
        "duration": 25,
        "start_time": "2022-03-28T10:26:10.922Z"
      },
      {
        "duration": 6,
        "start_time": "2022-03-28T10:26:27.490Z"
      },
      {
        "duration": 16,
        "start_time": "2022-03-28T10:26:43.635Z"
      },
      {
        "duration": 46,
        "start_time": "2022-03-28T10:30:33.662Z"
      },
      {
        "duration": 19,
        "start_time": "2022-03-28T10:31:09.176Z"
      },
      {
        "duration": 64,
        "start_time": "2022-03-28T10:31:57.749Z"
      },
      {
        "duration": 22,
        "start_time": "2022-03-28T10:32:03.548Z"
      },
      {
        "duration": 93,
        "start_time": "2022-03-28T10:51:37.116Z"
      },
      {
        "duration": 27,
        "start_time": "2022-03-28T10:53:57.519Z"
      },
      {
        "duration": 14,
        "start_time": "2022-03-28T10:54:05.389Z"
      },
      {
        "duration": 28,
        "start_time": "2022-03-28T10:54:26.904Z"
      },
      {
        "duration": 43,
        "start_time": "2022-03-28T11:01:17.399Z"
      },
      {
        "duration": 6,
        "start_time": "2022-03-28T11:01:45.288Z"
      },
      {
        "duration": 7,
        "start_time": "2022-03-28T11:04:57.857Z"
      },
      {
        "duration": 34,
        "start_time": "2022-03-28T11:08:07.808Z"
      },
      {
        "duration": 18,
        "start_time": "2022-03-28T11:08:23.357Z"
      },
      {
        "duration": 23,
        "start_time": "2022-03-28T11:08:29.532Z"
      },
      {
        "duration": 14,
        "start_time": "2022-03-28T11:09:16.487Z"
      },
      {
        "duration": 97,
        "start_time": "2022-03-28T11:13:37.292Z"
      },
      {
        "duration": 1908,
        "start_time": "2022-03-28T11:14:00.574Z"
      },
      {
        "duration": 14,
        "start_time": "2022-03-28T11:14:17.631Z"
      },
      {
        "duration": 22,
        "start_time": "2022-03-28T11:14:51.849Z"
      },
      {
        "duration": 23,
        "start_time": "2022-03-28T11:15:06.954Z"
      },
      {
        "duration": 67,
        "start_time": "2022-03-28T12:25:19.397Z"
      },
      {
        "duration": 631,
        "start_time": "2022-03-28T12:25:30.369Z"
      },
      {
        "duration": 21,
        "start_time": "2022-03-28T12:25:42.887Z"
      },
      {
        "duration": 41,
        "start_time": "2022-03-28T12:26:03.633Z"
      },
      {
        "duration": 96,
        "start_time": "2022-03-28T12:28:00.215Z"
      },
      {
        "duration": 183,
        "start_time": "2022-03-28T12:34:54.089Z"
      },
      {
        "duration": 28,
        "start_time": "2022-03-28T12:35:19.348Z"
      },
      {
        "duration": 188,
        "start_time": "2022-03-28T12:36:56.255Z"
      },
      {
        "duration": 21,
        "start_time": "2022-03-28T12:40:29.020Z"
      },
      {
        "duration": 42,
        "start_time": "2022-03-28T12:40:51.229Z"
      },
      {
        "duration": 26,
        "start_time": "2022-03-28T12:41:07.581Z"
      },
      {
        "duration": 101,
        "start_time": "2022-03-28T12:42:09.302Z"
      },
      {
        "duration": 45,
        "start_time": "2022-03-28T12:42:22.780Z"
      },
      {
        "duration": 54,
        "start_time": "2022-03-28T12:43:45.281Z"
      },
      {
        "duration": 97,
        "start_time": "2022-03-28T12:44:15.185Z"
      },
      {
        "duration": 68,
        "start_time": "2022-03-28T12:44:30.910Z"
      },
      {
        "duration": 122,
        "start_time": "2022-03-28T12:45:02.022Z"
      },
      {
        "duration": 37,
        "start_time": "2022-03-28T12:45:50.171Z"
      },
      {
        "duration": 83,
        "start_time": "2022-03-28T12:48:37.059Z"
      },
      {
        "duration": 15,
        "start_time": "2022-03-28T12:55:54.540Z"
      },
      {
        "duration": 3005,
        "start_time": "2022-03-28T12:56:12.584Z"
      },
      {
        "duration": 0,
        "start_time": "2022-03-28T12:57:00.810Z"
      },
      {
        "duration": 97,
        "start_time": "2022-03-28T12:57:03.591Z"
      },
      {
        "duration": 10,
        "start_time": "2022-03-28T12:57:03.691Z"
      },
      {
        "duration": 12,
        "start_time": "2022-03-28T12:57:03.704Z"
      },
      {
        "duration": 26,
        "start_time": "2022-03-28T12:57:03.750Z"
      },
      {
        "duration": 30,
        "start_time": "2022-03-28T12:57:03.779Z"
      },
      {
        "duration": 52,
        "start_time": "2022-03-28T12:57:03.812Z"
      },
      {
        "duration": 28,
        "start_time": "2022-03-28T12:57:03.870Z"
      },
      {
        "duration": 20,
        "start_time": "2022-03-28T12:57:03.900Z"
      },
      {
        "duration": 48,
        "start_time": "2022-03-28T12:57:03.945Z"
      },
      {
        "duration": 107,
        "start_time": "2022-03-28T12:57:03.997Z"
      },
      {
        "duration": 3134,
        "start_time": "2022-03-28T12:57:04.107Z"
      },
      {
        "duration": 25,
        "start_time": "2022-03-28T12:57:48.900Z"
      },
      {
        "duration": 37,
        "start_time": "2022-03-28T12:58:10.548Z"
      },
      {
        "duration": 33,
        "start_time": "2022-03-28T12:58:39.292Z"
      },
      {
        "duration": 45,
        "start_time": "2022-03-28T13:01:30.596Z"
      },
      {
        "duration": 54,
        "start_time": "2022-03-28T13:05:20.965Z"
      },
      {
        "duration": 62,
        "start_time": "2022-03-28T13:07:20.939Z"
      },
      {
        "duration": 67,
        "start_time": "2022-03-28T13:07:34.962Z"
      },
      {
        "duration": 67,
        "start_time": "2022-03-28T13:08:33.964Z"
      },
      {
        "duration": 28,
        "start_time": "2022-03-28T13:10:09.096Z"
      },
      {
        "duration": 13,
        "start_time": "2022-03-28T13:32:39.320Z"
      },
      {
        "duration": 13,
        "start_time": "2022-03-28T13:32:52.691Z"
      },
      {
        "duration": 20,
        "start_time": "2022-03-28T13:33:00.032Z"
      },
      {
        "duration": 14,
        "start_time": "2022-03-28T13:33:03.622Z"
      },
      {
        "duration": 15,
        "start_time": "2022-03-28T13:33:12.056Z"
      },
      {
        "duration": 14,
        "start_time": "2022-03-28T13:33:27.824Z"
      },
      {
        "duration": 24,
        "start_time": "2022-03-28T13:40:03.052Z"
      },
      {
        "duration": 19,
        "start_time": "2022-03-28T13:40:25.878Z"
      },
      {
        "duration": 15,
        "start_time": "2022-03-28T13:40:35.727Z"
      },
      {
        "duration": 18,
        "start_time": "2022-03-28T13:40:46.143Z"
      },
      {
        "duration": 17,
        "start_time": "2022-03-28T13:40:54.632Z"
      },
      {
        "duration": 15,
        "start_time": "2022-03-28T13:42:09.070Z"
      },
      {
        "duration": 12,
        "start_time": "2022-03-28T13:42:45.540Z"
      },
      {
        "duration": 17,
        "start_time": "2022-03-28T13:46:19.709Z"
      },
      {
        "duration": 14,
        "start_time": "2022-03-28T13:46:45.011Z"
      },
      {
        "duration": 3202,
        "start_time": "2022-03-28T13:58:16.332Z"
      },
      {
        "duration": 2865,
        "start_time": "2022-03-28T13:58:25.590Z"
      },
      {
        "duration": 20,
        "start_time": "2022-03-28T13:58:59.996Z"
      },
      {
        "duration": 76,
        "start_time": "2022-03-28T17:06:04.999Z"
      },
      {
        "duration": 654,
        "start_time": "2022-03-28T17:06:13.383Z"
      },
      {
        "duration": 32,
        "start_time": "2022-03-28T17:06:20.169Z"
      },
      {
        "duration": 40,
        "start_time": "2022-03-28T17:06:59.128Z"
      },
      {
        "duration": 89,
        "start_time": "2022-03-28T17:07:12.423Z"
      },
      {
        "duration": 11,
        "start_time": "2022-03-28T17:07:12.515Z"
      },
      {
        "duration": 10,
        "start_time": "2022-03-28T17:07:12.529Z"
      },
      {
        "duration": 56,
        "start_time": "2022-03-28T17:07:12.541Z"
      },
      {
        "duration": 24,
        "start_time": "2022-03-28T17:07:12.600Z"
      },
      {
        "duration": 20,
        "start_time": "2022-03-28T17:07:12.626Z"
      },
      {
        "duration": 50,
        "start_time": "2022-03-28T17:07:12.648Z"
      },
      {
        "duration": 19,
        "start_time": "2022-03-28T17:07:12.700Z"
      },
      {
        "duration": 53,
        "start_time": "2022-03-28T17:07:12.722Z"
      },
      {
        "duration": 52,
        "start_time": "2022-03-28T17:07:12.777Z"
      },
      {
        "duration": 95,
        "start_time": "2022-03-28T17:07:12.831Z"
      },
      {
        "duration": 14,
        "start_time": "2022-03-28T17:07:12.928Z"
      },
      {
        "duration": 36,
        "start_time": "2022-03-28T17:07:12.944Z"
      },
      {
        "duration": 9,
        "start_time": "2022-03-28T17:07:12.983Z"
      },
      {
        "duration": 17,
        "start_time": "2022-03-28T17:07:12.994Z"
      },
      {
        "duration": 64,
        "start_time": "2022-03-28T17:07:13.013Z"
      },
      {
        "duration": 38,
        "start_time": "2022-03-28T17:07:23.569Z"
      },
      {
        "duration": 39,
        "start_time": "2022-03-28T17:07:31.235Z"
      },
      {
        "duration": 47,
        "start_time": "2022-03-28T17:07:50.528Z"
      },
      {
        "duration": 33,
        "start_time": "2022-03-28T17:08:03.406Z"
      },
      {
        "duration": 39,
        "start_time": "2022-03-28T17:08:07.710Z"
      },
      {
        "duration": 50,
        "start_time": "2022-03-28T17:08:30.027Z"
      },
      {
        "duration": 73,
        "start_time": "2022-03-28T17:19:28.640Z"
      },
      {
        "duration": 27,
        "start_time": "2022-03-28T17:51:26.360Z"
      },
      {
        "duration": 117,
        "start_time": "2022-03-28T18:20:10.999Z"
      },
      {
        "duration": 129,
        "start_time": "2022-03-28T18:20:27.077Z"
      },
      {
        "duration": 4,
        "start_time": "2022-03-28T18:20:40.560Z"
      },
      {
        "duration": 4,
        "start_time": "2022-03-28T18:20:48.922Z"
      },
      {
        "duration": 87,
        "start_time": "2022-03-28T18:24:19.383Z"
      },
      {
        "duration": 41,
        "start_time": "2022-03-28T18:24:42.664Z"
      },
      {
        "duration": 13,
        "start_time": "2022-03-28T18:24:58.872Z"
      },
      {
        "duration": 45,
        "start_time": "2022-03-28T18:25:11.022Z"
      },
      {
        "duration": 30,
        "start_time": "2022-03-28T18:26:39.969Z"
      },
      {
        "duration": 39,
        "start_time": "2022-03-28T18:27:01.578Z"
      },
      {
        "duration": 43,
        "start_time": "2022-03-29T10:49:47.805Z"
      },
      {
        "duration": 426,
        "start_time": "2022-03-29T10:49:55.494Z"
      },
      {
        "duration": 5,
        "start_time": "2022-03-29T10:49:55.921Z"
      },
      {
        "duration": 5,
        "start_time": "2022-03-29T10:49:55.928Z"
      },
      {
        "duration": 13,
        "start_time": "2022-03-29T10:49:55.935Z"
      },
      {
        "duration": 17,
        "start_time": "2022-03-29T10:49:55.949Z"
      },
      {
        "duration": 25,
        "start_time": "2022-03-29T10:49:55.967Z"
      },
      {
        "duration": 18,
        "start_time": "2022-03-29T10:49:55.993Z"
      },
      {
        "duration": 15,
        "start_time": "2022-03-29T10:49:56.012Z"
      },
      {
        "duration": 17,
        "start_time": "2022-03-29T10:49:56.029Z"
      },
      {
        "duration": 35,
        "start_time": "2022-03-29T10:49:56.081Z"
      },
      {
        "duration": 47,
        "start_time": "2022-03-29T10:49:56.117Z"
      },
      {
        "duration": 22,
        "start_time": "2022-03-29T10:49:56.165Z"
      },
      {
        "duration": 12,
        "start_time": "2022-03-29T10:49:56.189Z"
      },
      {
        "duration": 6,
        "start_time": "2022-03-29T10:49:56.202Z"
      },
      {
        "duration": 11,
        "start_time": "2022-03-29T10:49:56.209Z"
      },
      {
        "duration": 20,
        "start_time": "2022-03-29T10:49:56.222Z"
      },
      {
        "duration": 2,
        "start_time": "2022-03-29T10:49:56.244Z"
      },
      {
        "duration": 49,
        "start_time": "2022-03-29T10:49:56.248Z"
      },
      {
        "duration": 68,
        "start_time": "2022-03-29T13:49:34.889Z"
      },
      {
        "duration": 700,
        "start_time": "2022-03-29T13:49:39.606Z"
      },
      {
        "duration": 14,
        "start_time": "2022-03-29T13:49:40.309Z"
      },
      {
        "duration": 12,
        "start_time": "2022-03-29T13:49:40.326Z"
      },
      {
        "duration": 23,
        "start_time": "2022-03-29T13:49:40.368Z"
      },
      {
        "duration": 26,
        "start_time": "2022-03-29T13:49:40.395Z"
      },
      {
        "duration": 54,
        "start_time": "2022-03-29T13:49:40.424Z"
      },
      {
        "duration": 29,
        "start_time": "2022-03-29T13:49:40.480Z"
      },
      {
        "duration": 20,
        "start_time": "2022-03-29T13:49:40.512Z"
      },
      {
        "duration": 59,
        "start_time": "2022-03-29T13:49:40.535Z"
      },
      {
        "duration": 72,
        "start_time": "2022-03-29T13:49:40.597Z"
      },
      {
        "duration": 80,
        "start_time": "2022-03-29T13:49:40.671Z"
      },
      {
        "duration": 15,
        "start_time": "2022-03-29T13:49:40.768Z"
      },
      {
        "duration": 22,
        "start_time": "2022-03-29T13:49:40.786Z"
      },
      {
        "duration": 9,
        "start_time": "2022-03-29T13:49:40.813Z"
      },
      {
        "duration": 67,
        "start_time": "2022-03-29T13:49:40.824Z"
      },
      {
        "duration": 45,
        "start_time": "2022-03-29T13:49:40.894Z"
      },
      {
        "duration": 29,
        "start_time": "2022-03-29T13:49:40.941Z"
      },
      {
        "duration": 44,
        "start_time": "2022-03-29T13:49:40.973Z"
      },
      {
        "duration": 28,
        "start_time": "2022-03-29T13:53:30.513Z"
      },
      {
        "duration": 67,
        "start_time": "2022-03-29T14:26:16.585Z"
      },
      {
        "duration": 568,
        "start_time": "2022-03-29T14:27:12.989Z"
      },
      {
        "duration": 8,
        "start_time": "2022-03-29T14:27:13.560Z"
      },
      {
        "duration": 19,
        "start_time": "2022-03-29T14:27:13.570Z"
      },
      {
        "duration": 22,
        "start_time": "2022-03-29T14:27:13.591Z"
      },
      {
        "duration": 26,
        "start_time": "2022-03-29T14:27:13.616Z"
      },
      {
        "duration": 53,
        "start_time": "2022-03-29T14:27:13.645Z"
      },
      {
        "duration": 28,
        "start_time": "2022-03-29T14:27:13.700Z"
      },
      {
        "duration": 19,
        "start_time": "2022-03-29T14:27:13.731Z"
      },
      {
        "duration": 29,
        "start_time": "2022-03-29T14:27:13.781Z"
      },
      {
        "duration": 55,
        "start_time": "2022-03-29T14:27:13.813Z"
      },
      {
        "duration": 74,
        "start_time": "2022-03-29T14:27:13.883Z"
      },
      {
        "duration": 30,
        "start_time": "2022-03-29T14:27:13.959Z"
      },
      {
        "duration": 20,
        "start_time": "2022-03-29T14:27:13.992Z"
      },
      {
        "duration": 8,
        "start_time": "2022-03-29T14:27:14.016Z"
      },
      {
        "duration": 20,
        "start_time": "2022-03-29T14:27:14.027Z"
      },
      {
        "duration": 57,
        "start_time": "2022-03-29T14:27:14.049Z"
      },
      {
        "duration": 8,
        "start_time": "2022-03-29T14:27:14.108Z"
      },
      {
        "duration": 35,
        "start_time": "2022-03-29T14:27:14.118Z"
      },
      {
        "duration": 27,
        "start_time": "2022-03-29T14:27:52.456Z"
      },
      {
        "duration": 86,
        "start_time": "2022-03-29T14:28:55.813Z"
      },
      {
        "duration": 9,
        "start_time": "2022-03-29T14:28:55.902Z"
      },
      {
        "duration": 10,
        "start_time": "2022-03-29T14:28:55.913Z"
      },
      {
        "duration": 21,
        "start_time": "2022-03-29T14:28:55.926Z"
      },
      {
        "duration": 23,
        "start_time": "2022-03-29T14:28:55.983Z"
      },
      {
        "duration": 20,
        "start_time": "2022-03-29T14:28:56.008Z"
      },
      {
        "duration": 53,
        "start_time": "2022-03-29T14:28:56.030Z"
      },
      {
        "duration": 19,
        "start_time": "2022-03-29T14:28:56.086Z"
      },
      {
        "duration": 28,
        "start_time": "2022-03-29T14:28:56.107Z"
      },
      {
        "duration": 74,
        "start_time": "2022-03-29T14:28:56.138Z"
      },
      {
        "duration": 112,
        "start_time": "2022-03-29T14:28:56.214Z"
      },
      {
        "duration": 0,
        "start_time": "2022-03-29T14:28:56.328Z"
      },
      {
        "duration": 0,
        "start_time": "2022-03-29T14:28:56.330Z"
      },
      {
        "duration": 0,
        "start_time": "2022-03-29T14:28:56.331Z"
      },
      {
        "duration": 0,
        "start_time": "2022-03-29T14:28:56.333Z"
      },
      {
        "duration": 28,
        "start_time": "2022-03-29T14:28:56.550Z"
      },
      {
        "duration": 4,
        "start_time": "2022-03-29T14:28:56.580Z"
      },
      {
        "duration": 32,
        "start_time": "2022-03-29T14:28:56.586Z"
      },
      {
        "duration": 50,
        "start_time": "2022-03-29T14:30:05.439Z"
      },
      {
        "duration": 46,
        "start_time": "2022-03-29T14:30:35.047Z"
      },
      {
        "duration": 29,
        "start_time": "2022-03-29T14:30:58.479Z"
      },
      {
        "duration": 568,
        "start_time": "2022-03-29T14:32:00.889Z"
      },
      {
        "duration": 511,
        "start_time": "2022-03-29T14:32:16.856Z"
      },
      {
        "duration": 31,
        "start_time": "2022-03-29T14:32:26.863Z"
      },
      {
        "duration": 29,
        "start_time": "2022-03-29T14:32:59.195Z"
      },
      {
        "duration": 32,
        "start_time": "2022-03-29T14:36:07.145Z"
      },
      {
        "duration": 28,
        "start_time": "2022-03-29T14:36:32.781Z"
      },
      {
        "duration": 235,
        "start_time": "2022-03-29T14:38:38.092Z"
      },
      {
        "duration": 28,
        "start_time": "2022-03-29T14:38:49.564Z"
      },
      {
        "duration": 6,
        "start_time": "2022-03-29T14:40:37.363Z"
      },
      {
        "duration": 33,
        "start_time": "2022-03-29T14:41:38.843Z"
      },
      {
        "duration": 7,
        "start_time": "2022-03-29T14:42:17.285Z"
      },
      {
        "duration": 31,
        "start_time": "2022-03-29T14:42:34.986Z"
      },
      {
        "duration": 5,
        "start_time": "2022-03-29T14:42:52.819Z"
      },
      {
        "duration": 6,
        "start_time": "2022-03-29T14:43:35.922Z"
      },
      {
        "duration": 32,
        "start_time": "2022-03-29T14:44:07.002Z"
      },
      {
        "duration": 31,
        "start_time": "2022-03-29T14:52:02.584Z"
      },
      {
        "duration": 81,
        "start_time": "2022-03-29T14:52:18.756Z"
      },
      {
        "duration": 9,
        "start_time": "2022-03-29T14:52:18.840Z"
      },
      {
        "duration": 33,
        "start_time": "2022-03-29T14:52:18.852Z"
      },
      {
        "duration": 25,
        "start_time": "2022-03-29T14:52:18.887Z"
      },
      {
        "duration": 33,
        "start_time": "2022-03-29T14:52:18.915Z"
      },
      {
        "duration": 49,
        "start_time": "2022-03-29T14:52:18.950Z"
      },
      {
        "duration": 30,
        "start_time": "2022-03-29T14:52:19.001Z"
      },
      {
        "duration": 20,
        "start_time": "2022-03-29T14:52:19.033Z"
      },
      {
        "duration": 28,
        "start_time": "2022-03-29T14:52:19.082Z"
      },
      {
        "duration": 50,
        "start_time": "2022-03-29T14:52:19.112Z"
      },
      {
        "duration": 118,
        "start_time": "2022-03-29T14:52:19.182Z"
      },
      {
        "duration": 0,
        "start_time": "2022-03-29T14:52:19.302Z"
      },
      {
        "duration": 0,
        "start_time": "2022-03-29T14:52:19.304Z"
      },
      {
        "duration": 0,
        "start_time": "2022-03-29T14:52:19.306Z"
      },
      {
        "duration": 0,
        "start_time": "2022-03-29T14:52:19.307Z"
      },
      {
        "duration": 0,
        "start_time": "2022-03-29T14:52:19.309Z"
      },
      {
        "duration": 0,
        "start_time": "2022-03-29T14:52:19.311Z"
      },
      {
        "duration": 29,
        "start_time": "2022-03-29T14:52:30.023Z"
      },
      {
        "duration": 27,
        "start_time": "2022-03-29T14:53:31.625Z"
      },
      {
        "duration": 27,
        "start_time": "2022-03-29T14:54:36.502Z"
      },
      {
        "duration": 28,
        "start_time": "2022-03-29T14:55:27.223Z"
      },
      {
        "duration": 27,
        "start_time": "2022-03-29T14:55:56.895Z"
      },
      {
        "duration": 27,
        "start_time": "2022-03-29T14:56:09.838Z"
      },
      {
        "duration": 35,
        "start_time": "2022-03-29T14:57:01.599Z"
      },
      {
        "duration": 28,
        "start_time": "2022-03-29T14:57:40.518Z"
      },
      {
        "duration": 2115,
        "start_time": "2022-03-29T14:59:02.726Z"
      },
      {
        "duration": 34,
        "start_time": "2022-03-29T14:59:23.651Z"
      },
      {
        "duration": 9,
        "start_time": "2022-03-29T14:59:44.758Z"
      },
      {
        "duration": 10,
        "start_time": "2022-03-29T15:01:37.900Z"
      },
      {
        "duration": 10,
        "start_time": "2022-03-29T15:02:45.260Z"
      },
      {
        "duration": 35,
        "start_time": "2022-03-29T15:02:59.660Z"
      },
      {
        "duration": 31,
        "start_time": "2022-03-29T15:04:25.141Z"
      },
      {
        "duration": 13,
        "start_time": "2022-03-29T15:04:39.469Z"
      },
      {
        "duration": 9,
        "start_time": "2022-03-29T15:05:17.862Z"
      },
      {
        "duration": 104,
        "start_time": "2022-03-29T15:08:42.790Z"
      },
      {
        "duration": 4,
        "start_time": "2022-03-29T15:09:20.329Z"
      },
      {
        "duration": 69,
        "start_time": "2022-03-29T15:18:23.939Z"
      },
      {
        "duration": 23,
        "start_time": "2022-03-29T15:29:50.218Z"
      },
      {
        "duration": 23,
        "start_time": "2022-03-29T15:31:48.155Z"
      },
      {
        "duration": 19,
        "start_time": "2022-03-29T15:32:25.906Z"
      },
      {
        "duration": 21,
        "start_time": "2022-03-29T15:32:34.058Z"
      },
      {
        "duration": 23,
        "start_time": "2022-03-29T15:33:48.499Z"
      },
      {
        "duration": 22,
        "start_time": "2022-03-29T15:34:16.121Z"
      },
      {
        "duration": 20,
        "start_time": "2022-03-29T15:35:34.787Z"
      },
      {
        "duration": 1849,
        "start_time": "2022-03-29T15:44:03.320Z"
      },
      {
        "duration": 14,
        "start_time": "2022-03-29T15:44:55.144Z"
      },
      {
        "duration": 10,
        "start_time": "2022-03-29T15:45:20.272Z"
      },
      {
        "duration": 10,
        "start_time": "2022-03-29T15:45:44.855Z"
      },
      {
        "duration": 10,
        "start_time": "2022-03-29T15:45:59.007Z"
      },
      {
        "duration": 11,
        "start_time": "2022-03-29T16:01:46.766Z"
      },
      {
        "duration": 10,
        "start_time": "2022-03-29T16:03:22.824Z"
      },
      {
        "duration": 9,
        "start_time": "2022-03-29T16:03:39.614Z"
      },
      {
        "duration": 10,
        "start_time": "2022-03-29T16:03:46.461Z"
      },
      {
        "duration": 10,
        "start_time": "2022-03-29T16:04:21.295Z"
      },
      {
        "duration": 88,
        "start_time": "2022-03-29T16:04:27.423Z"
      },
      {
        "duration": 1767,
        "start_time": "2022-03-29T16:04:30.470Z"
      },
      {
        "duration": 1815,
        "start_time": "2022-03-29T16:04:53.144Z"
      },
      {
        "duration": 1923,
        "start_time": "2022-03-29T16:05:08.531Z"
      },
      {
        "duration": 1815,
        "start_time": "2022-03-29T16:05:30.787Z"
      },
      {
        "duration": 20,
        "start_time": "2022-03-29T16:05:51.452Z"
      },
      {
        "duration": 1782,
        "start_time": "2022-03-29T16:09:28.034Z"
      },
      {
        "duration": 22,
        "start_time": "2022-03-29T16:09:46.319Z"
      },
      {
        "duration": 21,
        "start_time": "2022-03-29T16:10:28.157Z"
      },
      {
        "duration": 18,
        "start_time": "2022-03-29T16:10:35.627Z"
      },
      {
        "duration": 78,
        "start_time": "2022-03-29T16:10:45.848Z"
      },
      {
        "duration": 9,
        "start_time": "2022-03-29T16:10:45.929Z"
      },
      {
        "duration": 13,
        "start_time": "2022-03-29T16:10:45.941Z"
      },
      {
        "duration": 22,
        "start_time": "2022-03-29T16:10:45.983Z"
      },
      {
        "duration": 39,
        "start_time": "2022-03-29T16:10:46.008Z"
      },
      {
        "duration": 34,
        "start_time": "2022-03-29T16:10:46.050Z"
      },
      {
        "duration": 27,
        "start_time": "2022-03-29T16:10:46.086Z"
      },
      {
        "duration": 19,
        "start_time": "2022-03-29T16:10:46.115Z"
      },
      {
        "duration": 61,
        "start_time": "2022-03-29T16:10:46.137Z"
      },
      {
        "duration": 53,
        "start_time": "2022-03-29T16:10:46.201Z"
      },
      {
        "duration": 5,
        "start_time": "2022-03-29T16:10:46.257Z"
      },
      {
        "duration": 52,
        "start_time": "2022-03-29T16:10:46.265Z"
      },
      {
        "duration": 19,
        "start_time": "2022-03-29T16:10:46.320Z"
      },
      {
        "duration": 24,
        "start_time": "2022-03-29T16:10:46.342Z"
      },
      {
        "duration": 34,
        "start_time": "2022-03-29T16:10:46.368Z"
      },
      {
        "duration": 34,
        "start_time": "2022-03-29T16:10:46.404Z"
      },
      {
        "duration": 19,
        "start_time": "2022-03-29T16:10:46.441Z"
      },
      {
        "duration": 52,
        "start_time": "2022-03-29T16:10:46.462Z"
      },
      {
        "duration": 9,
        "start_time": "2022-03-29T16:10:46.518Z"
      },
      {
        "duration": 46,
        "start_time": "2022-03-29T16:10:46.529Z"
      },
      {
        "duration": 10,
        "start_time": "2022-03-29T16:11:20.287Z"
      },
      {
        "duration": 18,
        "start_time": "2022-03-29T16:11:34.467Z"
      },
      {
        "duration": 80,
        "start_time": "2022-03-29T16:11:41.265Z"
      },
      {
        "duration": 9,
        "start_time": "2022-03-29T16:11:41.347Z"
      },
      {
        "duration": 28,
        "start_time": "2022-03-29T16:11:41.359Z"
      },
      {
        "duration": 30,
        "start_time": "2022-03-29T16:11:41.389Z"
      },
      {
        "duration": 22,
        "start_time": "2022-03-29T16:11:41.423Z"
      },
      {
        "duration": 45,
        "start_time": "2022-03-29T16:11:41.448Z"
      },
      {
        "duration": 33,
        "start_time": "2022-03-29T16:11:41.496Z"
      },
      {
        "duration": 20,
        "start_time": "2022-03-29T16:11:41.531Z"
      },
      {
        "duration": 29,
        "start_time": "2022-03-29T16:11:41.582Z"
      },
      {
        "duration": 69,
        "start_time": "2022-03-29T16:11:41.613Z"
      },
      {
        "duration": 5,
        "start_time": "2022-03-29T16:11:41.684Z"
      },
      {
        "duration": 69,
        "start_time": "2022-03-29T16:11:41.691Z"
      },
      {
        "duration": 45,
        "start_time": "2022-03-29T16:11:41.762Z"
      },
      {
        "duration": 11,
        "start_time": "2022-03-29T16:11:41.811Z"
      },
      {
        "duration": 61,
        "start_time": "2022-03-29T16:11:41.825Z"
      },
      {
        "duration": 51,
        "start_time": "2022-03-29T16:11:41.888Z"
      },
      {
        "duration": 26,
        "start_time": "2022-03-29T16:11:41.941Z"
      },
      {
        "duration": 46,
        "start_time": "2022-03-29T16:11:41.969Z"
      },
      {
        "duration": 47,
        "start_time": "2022-03-29T16:11:42.018Z"
      },
      {
        "duration": 47,
        "start_time": "2022-03-29T16:11:42.067Z"
      },
      {
        "duration": 50,
        "start_time": "2022-03-29T17:28:58.760Z"
      },
      {
        "duration": 8,
        "start_time": "2022-03-29T17:29:02.830Z"
      },
      {
        "duration": 483,
        "start_time": "2022-03-29T17:29:06.359Z"
      },
      {
        "duration": 16,
        "start_time": "2022-03-29T17:29:09.791Z"
      },
      {
        "duration": 17,
        "start_time": "2022-03-29T17:29:18.543Z"
      },
      {
        "duration": 68,
        "start_time": "2022-03-29T17:29:31.235Z"
      },
      {
        "duration": 8,
        "start_time": "2022-03-29T17:29:31.305Z"
      },
      {
        "duration": 8,
        "start_time": "2022-03-29T17:29:31.314Z"
      },
      {
        "duration": 16,
        "start_time": "2022-03-29T17:29:31.323Z"
      },
      {
        "duration": 21,
        "start_time": "2022-03-29T17:29:31.342Z"
      },
      {
        "duration": 49,
        "start_time": "2022-03-29T17:29:31.364Z"
      },
      {
        "duration": 21,
        "start_time": "2022-03-29T17:29:31.415Z"
      },
      {
        "duration": 16,
        "start_time": "2022-03-29T17:29:31.438Z"
      },
      {
        "duration": 51,
        "start_time": "2022-03-29T17:29:31.456Z"
      },
      {
        "duration": 44,
        "start_time": "2022-03-29T17:29:31.509Z"
      },
      {
        "duration": 3,
        "start_time": "2022-03-29T17:29:31.555Z"
      },
      {
        "duration": 16,
        "start_time": "2022-03-29T17:29:31.560Z"
      },
      {
        "duration": 37,
        "start_time": "2022-03-29T17:29:31.578Z"
      },
      {
        "duration": 7,
        "start_time": "2022-03-29T17:29:31.618Z"
      },
      {
        "duration": 24,
        "start_time": "2022-03-29T17:29:31.626Z"
      },
      {
        "duration": 24,
        "start_time": "2022-03-29T17:29:31.652Z"
      },
      {
        "duration": 25,
        "start_time": "2022-03-29T17:29:31.678Z"
      },
      {
        "duration": 23,
        "start_time": "2022-03-29T17:29:31.705Z"
      },
      {
        "duration": 13,
        "start_time": "2022-03-29T17:29:31.729Z"
      },
      {
        "duration": 18,
        "start_time": "2022-03-29T17:29:31.744Z"
      },
      {
        "duration": 32,
        "start_time": "2022-03-29T17:30:13.758Z"
      },
      {
        "duration": 6,
        "start_time": "2022-03-29T17:30:33.041Z"
      },
      {
        "duration": 70,
        "start_time": "2022-03-29T17:30:53.829Z"
      },
      {
        "duration": 6,
        "start_time": "2022-03-29T17:30:55.903Z"
      },
      {
        "duration": 16,
        "start_time": "2022-03-29T17:31:34.761Z"
      },
      {
        "duration": 13,
        "start_time": "2022-03-29T17:31:40.727Z"
      },
      {
        "duration": 10,
        "start_time": "2022-03-29T17:36:08.662Z"
      },
      {
        "duration": 16,
        "start_time": "2022-03-29T17:37:22.952Z"
      },
      {
        "duration": 13,
        "start_time": "2022-03-29T17:47:26.300Z"
      },
      {
        "duration": 11,
        "start_time": "2022-03-29T17:47:43.357Z"
      },
      {
        "duration": 68,
        "start_time": "2022-03-29T17:47:47.586Z"
      },
      {
        "duration": 6,
        "start_time": "2022-03-29T17:47:47.656Z"
      },
      {
        "duration": 13,
        "start_time": "2022-03-29T17:47:47.663Z"
      },
      {
        "duration": 7,
        "start_time": "2022-03-29T17:47:47.702Z"
      },
      {
        "duration": 21,
        "start_time": "2022-03-29T17:47:47.710Z"
      },
      {
        "duration": 19,
        "start_time": "2022-03-29T17:47:47.732Z"
      },
      {
        "duration": 14,
        "start_time": "2022-03-29T17:47:47.753Z"
      },
      {
        "duration": 21,
        "start_time": "2022-03-29T17:47:47.800Z"
      },
      {
        "duration": 16,
        "start_time": "2022-03-29T17:47:47.823Z"
      },
      {
        "duration": 22,
        "start_time": "2022-03-29T17:47:47.842Z"
      },
      {
        "duration": 78,
        "start_time": "2022-03-29T17:47:47.865Z"
      },
      {
        "duration": 5,
        "start_time": "2022-03-29T17:47:47.945Z"
      },
      {
        "duration": 16,
        "start_time": "2022-03-29T17:47:47.952Z"
      },
      {
        "duration": 39,
        "start_time": "2022-03-29T17:47:47.971Z"
      },
      {
        "duration": 8,
        "start_time": "2022-03-29T17:47:48.013Z"
      },
      {
        "duration": 18,
        "start_time": "2022-03-29T17:47:48.023Z"
      },
      {
        "duration": 29,
        "start_time": "2022-03-29T17:47:48.043Z"
      },
      {
        "duration": 12,
        "start_time": "2022-03-29T17:47:48.100Z"
      },
      {
        "duration": 31,
        "start_time": "2022-03-29T17:47:48.114Z"
      },
      {
        "duration": 13,
        "start_time": "2022-03-29T17:47:48.147Z"
      },
      {
        "duration": 42,
        "start_time": "2022-03-29T17:47:48.162Z"
      },
      {
        "duration": 12,
        "start_time": "2022-03-29T17:47:48.206Z"
      },
      {
        "duration": 0,
        "start_time": "2022-03-29T17:47:48.220Z"
      },
      {
        "duration": 10,
        "start_time": "2022-03-29T17:48:03.827Z"
      },
      {
        "duration": 11,
        "start_time": "2022-03-29T17:48:15.139Z"
      },
      {
        "duration": 95,
        "start_time": "2022-03-29T17:48:30.554Z"
      },
      {
        "duration": 6,
        "start_time": "2022-03-29T17:48:30.652Z"
      },
      {
        "duration": 9,
        "start_time": "2022-03-29T17:48:30.660Z"
      },
      {
        "duration": 31,
        "start_time": "2022-03-29T17:48:30.671Z"
      },
      {
        "duration": 16,
        "start_time": "2022-03-29T17:48:30.704Z"
      },
      {
        "duration": 20,
        "start_time": "2022-03-29T17:48:30.721Z"
      },
      {
        "duration": 15,
        "start_time": "2022-03-29T17:48:30.743Z"
      },
      {
        "duration": 54,
        "start_time": "2022-03-29T17:48:30.760Z"
      },
      {
        "duration": 17,
        "start_time": "2022-03-29T17:48:30.816Z"
      },
      {
        "duration": 26,
        "start_time": "2022-03-29T17:48:30.836Z"
      },
      {
        "duration": 65,
        "start_time": "2022-03-29T17:48:30.864Z"
      },
      {
        "duration": 3,
        "start_time": "2022-03-29T17:48:30.931Z"
      },
      {
        "duration": 22,
        "start_time": "2022-03-29T17:48:30.936Z"
      },
      {
        "duration": 18,
        "start_time": "2022-03-29T17:48:30.959Z"
      },
      {
        "duration": 23,
        "start_time": "2022-03-29T17:48:30.979Z"
      },
      {
        "duration": 18,
        "start_time": "2022-03-29T17:48:31.004Z"
      },
      {
        "duration": 24,
        "start_time": "2022-03-29T17:48:31.024Z"
      },
      {
        "duration": 17,
        "start_time": "2022-03-29T17:48:31.050Z"
      },
      {
        "duration": 54,
        "start_time": "2022-03-29T17:48:31.069Z"
      },
      {
        "duration": 16,
        "start_time": "2022-03-29T17:48:31.125Z"
      },
      {
        "duration": 21,
        "start_time": "2022-03-29T17:48:31.144Z"
      },
      {
        "duration": 11,
        "start_time": "2022-03-29T17:48:31.167Z"
      },
      {
        "duration": 0,
        "start_time": "2022-03-29T17:48:31.180Z"
      },
      {
        "duration": 8,
        "start_time": "2022-03-29T17:49:03.291Z"
      },
      {
        "duration": 10,
        "start_time": "2022-03-29T18:09:30.946Z"
      },
      {
        "duration": 10,
        "start_time": "2022-03-29T18:10:24.985Z"
      },
      {
        "duration": 74,
        "start_time": "2022-03-29T18:14:32.126Z"
      },
      {
        "duration": 651,
        "start_time": "2022-03-29T18:14:39.388Z"
      },
      {
        "duration": 7,
        "start_time": "2022-03-29T18:14:40.042Z"
      },
      {
        "duration": 14,
        "start_time": "2022-03-29T18:14:40.051Z"
      },
      {
        "duration": 9,
        "start_time": "2022-03-29T18:14:40.067Z"
      },
      {
        "duration": 22,
        "start_time": "2022-03-29T18:14:40.079Z"
      },
      {
        "duration": 57,
        "start_time": "2022-03-29T18:14:40.103Z"
      },
      {
        "duration": 20,
        "start_time": "2022-03-29T18:14:40.162Z"
      },
      {
        "duration": 25,
        "start_time": "2022-03-29T18:14:40.184Z"
      },
      {
        "duration": 48,
        "start_time": "2022-03-29T18:14:40.211Z"
      },
      {
        "duration": 30,
        "start_time": "2022-03-29T18:14:40.261Z"
      },
      {
        "duration": 72,
        "start_time": "2022-03-29T18:14:40.294Z"
      },
      {
        "duration": 4,
        "start_time": "2022-03-29T18:14:40.368Z"
      },
      {
        "duration": 20,
        "start_time": "2022-03-29T18:14:40.375Z"
      },
      {
        "duration": 46,
        "start_time": "2022-03-29T18:14:40.398Z"
      },
      {
        "duration": 8,
        "start_time": "2022-03-29T18:14:40.446Z"
      },
      {
        "duration": 20,
        "start_time": "2022-03-29T18:14:40.456Z"
      },
      {
        "duration": 27,
        "start_time": "2022-03-29T18:14:40.478Z"
      },
      {
        "duration": 39,
        "start_time": "2022-03-29T18:14:40.507Z"
      },
      {
        "duration": 28,
        "start_time": "2022-03-29T18:14:40.548Z"
      },
      {
        "duration": 9,
        "start_time": "2022-03-29T18:14:40.579Z"
      },
      {
        "duration": 57,
        "start_time": "2022-03-29T18:14:40.591Z"
      },
      {
        "duration": 49,
        "start_time": "2022-03-29T18:14:40.651Z"
      },
      {
        "duration": 0,
        "start_time": "2022-03-29T18:14:40.703Z"
      },
      {
        "duration": 0,
        "start_time": "2022-03-29T18:14:40.705Z"
      },
      {
        "duration": 11,
        "start_time": "2022-03-29T18:16:17.180Z"
      },
      {
        "duration": 9,
        "start_time": "2022-03-29T18:19:25.952Z"
      },
      {
        "duration": 15,
        "start_time": "2022-03-29T18:19:34.670Z"
      },
      {
        "duration": 8,
        "start_time": "2022-03-29T18:19:42.713Z"
      },
      {
        "duration": 37,
        "start_time": "2022-03-29T18:25:00.640Z"
      },
      {
        "duration": 21,
        "start_time": "2022-03-29T18:25:58.136Z"
      },
      {
        "duration": 22,
        "start_time": "2022-03-29T18:26:42.838Z"
      },
      {
        "duration": 24,
        "start_time": "2022-03-29T18:27:12.616Z"
      },
      {
        "duration": 27,
        "start_time": "2022-03-29T18:27:31.351Z"
      },
      {
        "duration": 10,
        "start_time": "2022-03-29T18:36:43.190Z"
      },
      {
        "duration": 11,
        "start_time": "2022-03-29T18:38:52.741Z"
      },
      {
        "duration": 19,
        "start_time": "2022-03-29T18:39:00.869Z"
      },
      {
        "duration": 17,
        "start_time": "2022-03-29T18:41:13.901Z"
      },
      {
        "duration": 34,
        "start_time": "2022-03-29T18:41:20.932Z"
      },
      {
        "duration": 17,
        "start_time": "2022-03-29T18:43:54.988Z"
      },
      {
        "duration": 17,
        "start_time": "2022-03-29T18:44:00.963Z"
      },
      {
        "duration": 39,
        "start_time": "2022-03-29T18:44:06.939Z"
      },
      {
        "duration": 27,
        "start_time": "2022-03-29T18:45:21.682Z"
      },
      {
        "duration": 26,
        "start_time": "2022-03-29T18:46:00.976Z"
      },
      {
        "duration": 28,
        "start_time": "2022-03-29T18:46:19.649Z"
      },
      {
        "duration": 11,
        "start_time": "2022-03-29T18:47:10.110Z"
      },
      {
        "duration": 10,
        "start_time": "2022-03-29T18:47:37.491Z"
      },
      {
        "duration": 12,
        "start_time": "2022-03-29T18:47:57.663Z"
      },
      {
        "duration": 215,
        "start_time": "2022-03-29T18:53:32.269Z"
      },
      {
        "duration": 8,
        "start_time": "2022-03-29T19:11:22.261Z"
      },
      {
        "duration": 84,
        "start_time": "2022-03-30T12:28:39.862Z"
      },
      {
        "duration": 647,
        "start_time": "2022-03-30T12:28:43.072Z"
      },
      {
        "duration": 22,
        "start_time": "2022-03-30T12:28:45.984Z"
      },
      {
        "duration": 28,
        "start_time": "2022-03-30T13:18:50.804Z"
      },
      {
        "duration": 19,
        "start_time": "2022-03-30T13:19:03.232Z"
      },
      {
        "duration": 2602,
        "start_time": "2022-03-30T13:19:07.534Z"
      },
      {
        "duration": 0,
        "start_time": "2022-03-30T13:19:10.139Z"
      },
      {
        "duration": 104,
        "start_time": "2022-03-30T13:19:14.820Z"
      },
      {
        "duration": 59,
        "start_time": "2022-03-30T13:19:14.928Z"
      },
      {
        "duration": 7,
        "start_time": "2022-03-30T13:19:14.990Z"
      },
      {
        "duration": 7,
        "start_time": "2022-03-30T13:19:15.000Z"
      },
      {
        "duration": 20,
        "start_time": "2022-03-30T13:19:15.010Z"
      },
      {
        "duration": 63,
        "start_time": "2022-03-30T13:19:15.033Z"
      },
      {
        "duration": 25,
        "start_time": "2022-03-30T13:19:15.098Z"
      },
      {
        "duration": 63,
        "start_time": "2022-03-30T13:19:15.125Z"
      },
      {
        "duration": 28,
        "start_time": "2022-03-30T13:19:15.190Z"
      },
      {
        "duration": 20,
        "start_time": "2022-03-30T13:19:15.221Z"
      },
      {
        "duration": 61,
        "start_time": "2022-03-30T13:19:15.243Z"
      },
      {
        "duration": 64,
        "start_time": "2022-03-30T13:19:15.307Z"
      },
      {
        "duration": 7,
        "start_time": "2022-03-30T13:19:15.374Z"
      },
      {
        "duration": 21,
        "start_time": "2022-03-30T13:19:15.384Z"
      },
      {
        "duration": 23,
        "start_time": "2022-03-30T13:19:15.407Z"
      },
      {
        "duration": 41,
        "start_time": "2022-03-30T13:19:15.433Z"
      },
      {
        "duration": 27,
        "start_time": "2022-03-30T13:19:15.477Z"
      },
      {
        "duration": 28,
        "start_time": "2022-03-30T13:19:15.507Z"
      },
      {
        "duration": 51,
        "start_time": "2022-03-30T13:19:15.538Z"
      },
      {
        "duration": 32,
        "start_time": "2022-03-30T13:19:15.591Z"
      },
      {
        "duration": 16,
        "start_time": "2022-03-30T13:19:15.626Z"
      },
      {
        "duration": 49,
        "start_time": "2022-03-30T13:19:15.644Z"
      },
      {
        "duration": 9,
        "start_time": "2022-03-30T13:19:15.695Z"
      },
      {
        "duration": 14,
        "start_time": "2022-03-30T13:19:15.706Z"
      },
      {
        "duration": 10,
        "start_time": "2022-03-30T13:19:15.722Z"
      },
      {
        "duration": 145,
        "start_time": "2022-03-30T13:28:08.303Z"
      },
      {
        "duration": 24,
        "start_time": "2022-03-30T13:29:24.887Z"
      },
      {
        "duration": 8,
        "start_time": "2022-03-30T13:35:18.090Z"
      },
      {
        "duration": 110,
        "start_time": "2022-03-30T13:41:15.667Z"
      },
      {
        "duration": 27,
        "start_time": "2022-03-30T13:41:15.780Z"
      },
      {
        "duration": 7,
        "start_time": "2022-03-30T13:41:15.809Z"
      },
      {
        "duration": 5,
        "start_time": "2022-03-30T13:41:15.819Z"
      },
      {
        "duration": 9,
        "start_time": "2022-03-30T13:41:15.825Z"
      },
      {
        "duration": 64,
        "start_time": "2022-03-30T13:41:15.836Z"
      },
      {
        "duration": 26,
        "start_time": "2022-03-30T13:41:15.902Z"
      },
      {
        "duration": 63,
        "start_time": "2022-03-30T13:41:15.930Z"
      },
      {
        "duration": 32,
        "start_time": "2022-03-30T13:41:15.995Z"
      },
      {
        "duration": 54,
        "start_time": "2022-03-30T13:41:16.031Z"
      },
      {
        "duration": 31,
        "start_time": "2022-03-30T13:41:16.088Z"
      },
      {
        "duration": 86,
        "start_time": "2022-03-30T13:41:16.121Z"
      },
      {
        "duration": 4,
        "start_time": "2022-03-30T13:41:16.210Z"
      },
      {
        "duration": 22,
        "start_time": "2022-03-30T13:41:16.216Z"
      },
      {
        "duration": 47,
        "start_time": "2022-03-30T13:41:16.240Z"
      },
      {
        "duration": 10,
        "start_time": "2022-03-30T13:41:16.289Z"
      },
      {
        "duration": 17,
        "start_time": "2022-03-30T13:41:16.301Z"
      },
      {
        "duration": 66,
        "start_time": "2022-03-30T13:41:16.320Z"
      },
      {
        "duration": 10,
        "start_time": "2022-03-30T13:41:16.388Z"
      },
      {
        "duration": 31,
        "start_time": "2022-03-30T13:41:16.400Z"
      },
      {
        "duration": 10,
        "start_time": "2022-03-30T13:41:16.433Z"
      },
      {
        "duration": 23,
        "start_time": "2022-03-30T13:41:16.476Z"
      },
      {
        "duration": 9,
        "start_time": "2022-03-30T13:41:16.501Z"
      },
      {
        "duration": 12,
        "start_time": "2022-03-30T13:41:16.513Z"
      },
      {
        "duration": 56,
        "start_time": "2022-03-30T13:41:16.528Z"
      },
      {
        "duration": 611,
        "start_time": "2022-03-30T17:29:23.449Z"
      },
      {
        "duration": 23,
        "start_time": "2022-03-30T17:29:24.063Z"
      },
      {
        "duration": 13,
        "start_time": "2022-03-30T17:29:24.088Z"
      },
      {
        "duration": 4,
        "start_time": "2022-03-30T17:29:24.105Z"
      },
      {
        "duration": 34,
        "start_time": "2022-03-30T17:29:24.111Z"
      },
      {
        "duration": 23,
        "start_time": "2022-03-30T17:29:24.147Z"
      },
      {
        "duration": 24,
        "start_time": "2022-03-30T17:29:24.172Z"
      },
      {
        "duration": 57,
        "start_time": "2022-03-30T17:29:24.198Z"
      },
      {
        "duration": 28,
        "start_time": "2022-03-30T17:29:24.257Z"
      },
      {
        "duration": 19,
        "start_time": "2022-03-30T17:29:24.289Z"
      },
      {
        "duration": 58,
        "start_time": "2022-03-30T17:29:24.310Z"
      },
      {
        "duration": 56,
        "start_time": "2022-03-30T17:29:24.371Z"
      },
      {
        "duration": 4,
        "start_time": "2022-03-30T17:29:24.442Z"
      },
      {
        "duration": 21,
        "start_time": "2022-03-30T17:29:24.448Z"
      },
      {
        "duration": 19,
        "start_time": "2022-03-30T17:29:24.471Z"
      },
      {
        "duration": 8,
        "start_time": "2022-03-30T17:29:24.492Z"
      },
      {
        "duration": 51,
        "start_time": "2022-03-30T17:29:24.503Z"
      },
      {
        "duration": 28,
        "start_time": "2022-03-30T17:29:24.556Z"
      },
      {
        "duration": 9,
        "start_time": "2022-03-30T17:29:24.586Z"
      },
      {
        "duration": 56,
        "start_time": "2022-03-30T17:29:24.597Z"
      },
      {
        "duration": 10,
        "start_time": "2022-03-30T17:29:24.656Z"
      },
      {
        "duration": 23,
        "start_time": "2022-03-30T17:29:24.669Z"
      },
      {
        "duration": 7,
        "start_time": "2022-03-30T17:29:24.695Z"
      },
      {
        "duration": 45,
        "start_time": "2022-03-30T17:29:24.705Z"
      },
      {
        "duration": 14,
        "start_time": "2022-03-30T17:29:24.752Z"
      },
      {
        "duration": 13,
        "start_time": "2022-03-30T17:30:00.988Z"
      },
      {
        "duration": 16,
        "start_time": "2022-03-30T17:30:07.602Z"
      },
      {
        "duration": 26,
        "start_time": "2022-03-30T17:38:52.201Z"
      },
      {
        "duration": 247,
        "start_time": "2022-03-30T17:40:38.361Z"
      },
      {
        "duration": 66,
        "start_time": "2022-03-30T17:41:33.083Z"
      },
      {
        "duration": 3229,
        "start_time": "2022-03-30T17:43:15.428Z"
      },
      {
        "duration": 2953,
        "start_time": "2022-03-30T17:43:25.417Z"
      },
      {
        "duration": 3280,
        "start_time": "2022-03-30T17:43:36.811Z"
      },
      {
        "duration": 3008,
        "start_time": "2022-03-30T17:43:51.015Z"
      },
      {
        "duration": 101,
        "start_time": "2022-03-30T17:43:57.746Z"
      },
      {
        "duration": 22,
        "start_time": "2022-03-30T17:43:57.850Z"
      },
      {
        "duration": 7,
        "start_time": "2022-03-30T17:43:57.875Z"
      },
      {
        "duration": 7,
        "start_time": "2022-03-30T17:43:57.886Z"
      },
      {
        "duration": 9,
        "start_time": "2022-03-30T17:43:57.944Z"
      },
      {
        "duration": 23,
        "start_time": "2022-03-30T17:43:57.955Z"
      },
      {
        "duration": 69,
        "start_time": "2022-03-30T17:43:57.980Z"
      },
      {
        "duration": 22,
        "start_time": "2022-03-30T17:43:58.051Z"
      },
      {
        "duration": 91,
        "start_time": "2022-03-30T17:43:58.075Z"
      },
      {
        "duration": 50,
        "start_time": "2022-03-30T17:43:58.170Z"
      },
      {
        "duration": 39,
        "start_time": "2022-03-30T17:43:58.222Z"
      },
      {
        "duration": 37,
        "start_time": "2022-03-30T17:43:58.263Z"
      },
      {
        "duration": 79,
        "start_time": "2022-03-30T17:43:58.302Z"
      },
      {
        "duration": 4,
        "start_time": "2022-03-30T17:43:58.386Z"
      },
      {
        "duration": 23,
        "start_time": "2022-03-30T17:43:58.393Z"
      },
      {
        "duration": 46,
        "start_time": "2022-03-30T17:43:58.419Z"
      },
      {
        "duration": 9,
        "start_time": "2022-03-30T17:43:58.467Z"
      },
      {
        "duration": 21,
        "start_time": "2022-03-30T17:43:58.478Z"
      },
      {
        "duration": 64,
        "start_time": "2022-03-30T17:43:58.501Z"
      },
      {
        "duration": 13,
        "start_time": "2022-03-30T17:43:58.568Z"
      },
      {
        "duration": 29,
        "start_time": "2022-03-30T17:43:58.584Z"
      },
      {
        "duration": 10,
        "start_time": "2022-03-30T17:43:58.644Z"
      },
      {
        "duration": 35,
        "start_time": "2022-03-30T17:43:58.656Z"
      },
      {
        "duration": 10,
        "start_time": "2022-03-30T17:43:58.694Z"
      },
      {
        "duration": 42,
        "start_time": "2022-03-30T17:43:58.706Z"
      },
      {
        "duration": 19,
        "start_time": "2022-03-30T17:43:58.750Z"
      },
      {
        "duration": 2962,
        "start_time": "2022-03-30T17:45:15.324Z"
      },
      {
        "duration": 3079,
        "start_time": "2022-03-30T17:45:23.568Z"
      },
      {
        "duration": 102,
        "start_time": "2022-03-30T17:45:31.212Z"
      },
      {
        "duration": 58,
        "start_time": "2022-03-30T17:45:31.318Z"
      },
      {
        "duration": 7,
        "start_time": "2022-03-30T17:45:31.380Z"
      },
      {
        "duration": 6,
        "start_time": "2022-03-30T17:45:31.391Z"
      },
      {
        "duration": 45,
        "start_time": "2022-03-30T17:45:31.399Z"
      },
      {
        "duration": 24,
        "start_time": "2022-03-30T17:45:31.446Z"
      },
      {
        "duration": 28,
        "start_time": "2022-03-30T17:45:31.472Z"
      },
      {
        "duration": 24,
        "start_time": "2022-03-30T17:45:31.543Z"
      },
      {
        "duration": 35,
        "start_time": "2022-03-30T17:45:31.569Z"
      },
      {
        "duration": 95,
        "start_time": "2022-03-30T17:45:31.619Z"
      },
      {
        "duration": 42,
        "start_time": "2022-03-30T17:45:31.717Z"
      },
      {
        "duration": 53,
        "start_time": "2022-03-30T17:45:31.762Z"
      },
      {
        "duration": 71,
        "start_time": "2022-03-30T17:45:31.818Z"
      },
      {
        "duration": 4,
        "start_time": "2022-03-30T17:45:31.892Z"
      },
      {
        "duration": 45,
        "start_time": "2022-03-30T17:45:31.898Z"
      },
      {
        "duration": 36,
        "start_time": "2022-03-30T17:45:31.947Z"
      },
      {
        "duration": 14,
        "start_time": "2022-03-30T17:45:31.987Z"
      },
      {
        "duration": 51,
        "start_time": "2022-03-30T17:45:32.004Z"
      },
      {
        "duration": 29,
        "start_time": "2022-03-30T17:45:32.058Z"
      },
      {
        "duration": 10,
        "start_time": "2022-03-30T17:45:32.090Z"
      },
      {
        "duration": 66,
        "start_time": "2022-03-30T17:45:32.102Z"
      },
      {
        "duration": 22,
        "start_time": "2022-03-30T17:45:32.170Z"
      },
      {
        "duration": 30,
        "start_time": "2022-03-30T17:45:32.195Z"
      },
      {
        "duration": 22,
        "start_time": "2022-03-30T17:45:32.228Z"
      },
      {
        "duration": 14,
        "start_time": "2022-03-30T17:45:32.253Z"
      },
      {
        "duration": 20,
        "start_time": "2022-03-30T17:45:32.269Z"
      },
      {
        "duration": 17,
        "start_time": "2022-03-30T17:46:22.284Z"
      },
      {
        "duration": 18,
        "start_time": "2022-03-30T17:47:54.584Z"
      },
      {
        "duration": 8,
        "start_time": "2022-03-30T17:49:53.871Z"
      },
      {
        "duration": 184,
        "start_time": "2022-03-30T17:51:09.639Z"
      },
      {
        "duration": 209,
        "start_time": "2022-03-30T17:51:28.125Z"
      },
      {
        "duration": 11,
        "start_time": "2022-03-30T17:52:03.991Z"
      },
      {
        "duration": 10,
        "start_time": "2022-03-30T17:53:10.990Z"
      },
      {
        "duration": 8,
        "start_time": "2022-03-30T17:53:27.446Z"
      },
      {
        "duration": 8,
        "start_time": "2022-03-30T17:54:39.304Z"
      },
      {
        "duration": 10,
        "start_time": "2022-03-30T17:55:19.888Z"
      },
      {
        "duration": 8,
        "start_time": "2022-03-30T17:55:27.485Z"
      },
      {
        "duration": 14,
        "start_time": "2022-03-30T17:56:24.670Z"
      },
      {
        "duration": 9,
        "start_time": "2022-03-30T17:56:40.997Z"
      },
      {
        "duration": 10,
        "start_time": "2022-03-30T17:57:39.265Z"
      },
      {
        "duration": 5,
        "start_time": "2022-03-30T17:58:04.767Z"
      },
      {
        "duration": 5,
        "start_time": "2022-03-30T17:58:07.518Z"
      },
      {
        "duration": 8,
        "start_time": "2022-03-30T17:58:13.597Z"
      },
      {
        "duration": 8,
        "start_time": "2022-03-30T18:03:44.443Z"
      },
      {
        "duration": 7,
        "start_time": "2022-03-30T18:03:56.741Z"
      },
      {
        "duration": 11,
        "start_time": "2022-03-30T18:04:04.940Z"
      },
      {
        "duration": 9,
        "start_time": "2022-03-30T18:09:40.053Z"
      },
      {
        "duration": 11,
        "start_time": "2022-03-30T18:16:16.591Z"
      },
      {
        "duration": 99,
        "start_time": "2022-03-30T18:16:39.989Z"
      },
      {
        "duration": 20,
        "start_time": "2022-03-30T18:16:40.090Z"
      },
      {
        "duration": 32,
        "start_time": "2022-03-30T18:16:40.112Z"
      },
      {
        "duration": 6,
        "start_time": "2022-03-30T18:16:40.146Z"
      },
      {
        "duration": 9,
        "start_time": "2022-03-30T18:16:40.155Z"
      },
      {
        "duration": 26,
        "start_time": "2022-03-30T18:16:40.166Z"
      },
      {
        "duration": 58,
        "start_time": "2022-03-30T18:16:40.195Z"
      },
      {
        "duration": 20,
        "start_time": "2022-03-30T18:16:40.255Z"
      },
      {
        "duration": 28,
        "start_time": "2022-03-30T18:16:40.277Z"
      },
      {
        "duration": 77,
        "start_time": "2022-03-30T18:16:40.308Z"
      },
      {
        "duration": 20,
        "start_time": "2022-03-30T18:16:40.387Z"
      },
      {
        "duration": 46,
        "start_time": "2022-03-30T18:16:40.409Z"
      },
      {
        "duration": 49,
        "start_time": "2022-03-30T18:16:40.457Z"
      },
      {
        "duration": 4,
        "start_time": "2022-03-30T18:16:40.511Z"
      },
      {
        "duration": 13,
        "start_time": "2022-03-30T18:16:40.543Z"
      },
      {
        "duration": 21,
        "start_time": "2022-03-30T18:16:40.558Z"
      },
      {
        "duration": 8,
        "start_time": "2022-03-30T18:16:40.581Z"
      },
      {
        "duration": 56,
        "start_time": "2022-03-30T18:16:40.591Z"
      },
      {
        "duration": 28,
        "start_time": "2022-03-30T18:16:40.649Z"
      },
      {
        "duration": 10,
        "start_time": "2022-03-30T18:16:40.679Z"
      },
      {
        "duration": 58,
        "start_time": "2022-03-30T18:16:40.691Z"
      },
      {
        "duration": 10,
        "start_time": "2022-03-30T18:16:40.751Z"
      },
      {
        "duration": 21,
        "start_time": "2022-03-30T18:16:40.763Z"
      },
      {
        "duration": 17,
        "start_time": "2022-03-30T18:16:40.786Z"
      },
      {
        "duration": 41,
        "start_time": "2022-03-30T18:16:40.805Z"
      },
      {
        "duration": 8,
        "start_time": "2022-03-30T18:16:40.848Z"
      },
      {
        "duration": 10,
        "start_time": "2022-03-30T18:16:40.858Z"
      },
      {
        "duration": 10,
        "start_time": "2022-03-30T18:16:40.870Z"
      },
      {
        "duration": 62,
        "start_time": "2022-03-30T18:16:40.882Z"
      },
      {
        "duration": 7,
        "start_time": "2022-03-30T18:17:26.620Z"
      },
      {
        "duration": 9,
        "start_time": "2022-03-30T18:24:58.577Z"
      },
      {
        "duration": 13,
        "start_time": "2022-03-30T18:28:31.387Z"
      },
      {
        "duration": 13,
        "start_time": "2022-03-30T18:28:44.468Z"
      },
      {
        "duration": 2509,
        "start_time": "2022-03-30T18:29:52.840Z"
      },
      {
        "duration": 2266,
        "start_time": "2022-03-30T18:30:14.290Z"
      },
      {
        "duration": 152,
        "start_time": "2022-03-30T18:30:52.015Z"
      },
      {
        "duration": 32,
        "start_time": "2022-03-30T18:30:52.169Z"
      },
      {
        "duration": 9,
        "start_time": "2022-03-30T18:30:52.204Z"
      },
      {
        "duration": 5,
        "start_time": "2022-03-30T18:30:52.245Z"
      },
      {
        "duration": 10,
        "start_time": "2022-03-30T18:30:52.252Z"
      },
      {
        "duration": 24,
        "start_time": "2022-03-30T18:30:52.265Z"
      },
      {
        "duration": 72,
        "start_time": "2022-03-30T18:30:52.292Z"
      },
      {
        "duration": 21,
        "start_time": "2022-03-30T18:30:52.366Z"
      },
      {
        "duration": 56,
        "start_time": "2022-03-30T18:30:52.390Z"
      },
      {
        "duration": 93,
        "start_time": "2022-03-30T18:30:52.454Z"
      },
      {
        "duration": 21,
        "start_time": "2022-03-30T18:30:52.550Z"
      },
      {
        "duration": 34,
        "start_time": "2022-03-30T18:30:52.574Z"
      },
      {
        "duration": 81,
        "start_time": "2022-03-30T18:30:52.643Z"
      },
      {
        "duration": 19,
        "start_time": "2022-03-30T18:30:52.727Z"
      },
      {
        "duration": 101,
        "start_time": "2022-03-30T18:30:52.750Z"
      },
      {
        "duration": 33,
        "start_time": "2022-03-30T18:30:52.854Z"
      },
      {
        "duration": 10,
        "start_time": "2022-03-30T18:30:52.890Z"
      },
      {
        "duration": 41,
        "start_time": "2022-03-30T18:30:52.903Z"
      },
      {
        "duration": 33,
        "start_time": "2022-03-30T18:30:52.947Z"
      },
      {
        "duration": 16,
        "start_time": "2022-03-30T18:30:52.982Z"
      },
      {
        "duration": 73,
        "start_time": "2022-03-30T18:30:53.000Z"
      },
      {
        "duration": 16,
        "start_time": "2022-03-30T18:30:53.076Z"
      },
      {
        "duration": 53,
        "start_time": "2022-03-30T18:30:53.094Z"
      },
      {
        "duration": 19,
        "start_time": "2022-03-30T18:30:53.149Z"
      },
      {
        "duration": 9,
        "start_time": "2022-03-30T18:30:53.171Z"
      },
      {
        "duration": 11,
        "start_time": "2022-03-30T18:30:53.182Z"
      },
      {
        "duration": 50,
        "start_time": "2022-03-30T18:30:53.195Z"
      },
      {
        "duration": 11,
        "start_time": "2022-03-30T18:30:53.250Z"
      },
      {
        "duration": 45,
        "start_time": "2022-03-30T18:39:52.379Z"
      },
      {
        "duration": 6,
        "start_time": "2022-03-30T18:39:56.111Z"
      },
      {
        "duration": 483,
        "start_time": "2022-03-30T18:39:59.443Z"
      },
      {
        "duration": 15,
        "start_time": "2022-03-30T18:39:59.928Z"
      },
      {
        "duration": 5,
        "start_time": "2022-03-30T18:39:59.945Z"
      },
      {
        "duration": 3,
        "start_time": "2022-03-30T18:39:59.964Z"
      },
      {
        "duration": 8,
        "start_time": "2022-03-30T18:39:59.969Z"
      },
      {
        "duration": 14,
        "start_time": "2022-03-30T18:39:59.979Z"
      },
      {
        "duration": 19,
        "start_time": "2022-03-30T18:39:59.994Z"
      },
      {
        "duration": 16,
        "start_time": "2022-03-30T18:40:00.014Z"
      },
      {
        "duration": 18,
        "start_time": "2022-03-30T18:40:00.062Z"
      },
      {
        "duration": 31,
        "start_time": "2022-03-30T18:40:00.082Z"
      },
      {
        "duration": 15,
        "start_time": "2022-03-30T18:40:00.115Z"
      },
      {
        "duration": 46,
        "start_time": "2022-03-30T18:40:00.132Z"
      },
      {
        "duration": 39,
        "start_time": "2022-03-30T18:40:00.180Z"
      },
      {
        "duration": 3,
        "start_time": "2022-03-30T18:40:00.222Z"
      },
      {
        "duration": 16,
        "start_time": "2022-03-30T18:40:00.227Z"
      },
      {
        "duration": 14,
        "start_time": "2022-03-30T18:40:00.262Z"
      },
      {
        "duration": 7,
        "start_time": "2022-03-30T18:40:00.278Z"
      },
      {
        "duration": 15,
        "start_time": "2022-03-30T18:40:00.286Z"
      },
      {
        "duration": 18,
        "start_time": "2022-03-30T18:40:00.302Z"
      },
      {
        "duration": 7,
        "start_time": "2022-03-30T18:40:00.322Z"
      },
      {
        "duration": 20,
        "start_time": "2022-03-30T18:40:00.364Z"
      },
      {
        "duration": 11,
        "start_time": "2022-03-30T18:40:00.386Z"
      },
      {
        "duration": 17,
        "start_time": "2022-03-30T18:40:00.399Z"
      },
      {
        "duration": 11,
        "start_time": "2022-03-30T18:40:00.418Z"
      },
      {
        "duration": 32,
        "start_time": "2022-03-30T18:40:00.431Z"
      },
      {
        "duration": 5,
        "start_time": "2022-03-30T18:40:00.465Z"
      },
      {
        "duration": 10,
        "start_time": "2022-03-30T18:40:00.472Z"
      },
      {
        "duration": 5,
        "start_time": "2022-03-30T18:40:00.485Z"
      },
      {
        "duration": 1420,
        "start_time": "2022-03-30T18:40:00.491Z"
      },
      {
        "duration": 0,
        "start_time": "2022-03-30T18:40:01.912Z"
      },
      {
        "duration": 0,
        "start_time": "2022-03-30T18:40:01.913Z"
      },
      {
        "duration": 121,
        "start_time": "2022-03-30T18:42:07.478Z"
      },
      {
        "duration": 8,
        "start_time": "2022-03-30T18:42:22.371Z"
      },
      {
        "duration": 11,
        "start_time": "2022-03-30T18:42:39.372Z"
      },
      {
        "duration": 12,
        "start_time": "2022-03-30T18:43:15.453Z"
      },
      {
        "duration": 10,
        "start_time": "2022-03-30T18:43:22.375Z"
      },
      {
        "duration": 5,
        "start_time": "2022-03-30T18:43:31.411Z"
      },
      {
        "duration": 6,
        "start_time": "2022-03-30T18:44:36.622Z"
      },
      {
        "duration": 611,
        "start_time": "2022-03-31T09:37:57.207Z"
      },
      {
        "duration": 32,
        "start_time": "2022-03-31T09:37:57.820Z"
      },
      {
        "duration": 8,
        "start_time": "2022-03-31T09:37:57.854Z"
      },
      {
        "duration": 15,
        "start_time": "2022-03-31T09:37:57.865Z"
      },
      {
        "duration": 10,
        "start_time": "2022-03-31T09:37:57.881Z"
      },
      {
        "duration": 53,
        "start_time": "2022-03-31T09:37:57.893Z"
      },
      {
        "duration": 26,
        "start_time": "2022-03-31T09:37:57.953Z"
      },
      {
        "duration": 22,
        "start_time": "2022-03-31T09:37:57.981Z"
      },
      {
        "duration": 62,
        "start_time": "2022-03-31T09:37:58.005Z"
      },
      {
        "duration": 47,
        "start_time": "2022-03-31T09:37:58.073Z"
      },
      {
        "duration": 38,
        "start_time": "2022-03-31T09:37:58.122Z"
      },
      {
        "duration": 29,
        "start_time": "2022-03-31T09:37:58.163Z"
      },
      {
        "duration": 84,
        "start_time": "2022-03-31T09:37:58.194Z"
      },
      {
        "duration": 4,
        "start_time": "2022-03-31T09:37:58.281Z"
      },
      {
        "duration": 26,
        "start_time": "2022-03-31T09:37:58.287Z"
      },
      {
        "duration": 31,
        "start_time": "2022-03-31T09:37:58.316Z"
      },
      {
        "duration": 12,
        "start_time": "2022-03-31T09:37:58.350Z"
      },
      {
        "duration": 37,
        "start_time": "2022-03-31T09:37:58.364Z"
      },
      {
        "duration": 30,
        "start_time": "2022-03-31T09:37:58.403Z"
      },
      {
        "duration": 12,
        "start_time": "2022-03-31T09:37:58.443Z"
      },
      {
        "duration": 35,
        "start_time": "2022-03-31T09:37:58.457Z"
      },
      {
        "duration": 11,
        "start_time": "2022-03-31T09:37:58.494Z"
      },
      {
        "duration": 49,
        "start_time": "2022-03-31T09:37:58.507Z"
      },
      {
        "duration": 15,
        "start_time": "2022-03-31T09:37:58.558Z"
      },
      {
        "duration": 7,
        "start_time": "2022-03-31T09:37:58.575Z"
      },
      {
        "duration": 20,
        "start_time": "2022-03-31T09:37:58.584Z"
      },
      {
        "duration": 40,
        "start_time": "2022-03-31T09:37:58.606Z"
      },
      {
        "duration": 17,
        "start_time": "2022-03-31T09:37:58.651Z"
      },
      {
        "duration": 6,
        "start_time": "2022-03-31T09:37:58.670Z"
      },
      {
        "duration": 19,
        "start_time": "2022-03-31T09:37:58.678Z"
      },
      {
        "duration": 22,
        "start_time": "2022-03-31T09:37:58.699Z"
      },
      {
        "duration": 33,
        "start_time": "2022-03-31T09:37:58.723Z"
      },
      {
        "duration": 92,
        "start_time": "2022-03-31T09:38:47.185Z"
      },
      {
        "duration": 22,
        "start_time": "2022-03-31T09:38:47.279Z"
      },
      {
        "duration": 40,
        "start_time": "2022-03-31T09:38:47.303Z"
      },
      {
        "duration": 5,
        "start_time": "2022-03-31T09:38:47.346Z"
      },
      {
        "duration": 11,
        "start_time": "2022-03-31T09:38:47.353Z"
      },
      {
        "duration": 23,
        "start_time": "2022-03-31T09:38:47.366Z"
      },
      {
        "duration": 69,
        "start_time": "2022-03-31T09:38:47.392Z"
      },
      {
        "duration": 21,
        "start_time": "2022-03-31T09:38:47.463Z"
      },
      {
        "duration": 26,
        "start_time": "2022-03-31T09:38:47.487Z"
      },
      {
        "duration": 48,
        "start_time": "2022-03-31T09:38:47.543Z"
      },
      {
        "duration": 20,
        "start_time": "2022-03-31T09:38:47.593Z"
      },
      {
        "duration": 55,
        "start_time": "2022-03-31T09:38:47.616Z"
      },
      {
        "duration": 70,
        "start_time": "2022-03-31T09:38:47.673Z"
      },
      {
        "duration": 4,
        "start_time": "2022-03-31T09:38:47.748Z"
      },
      {
        "duration": 30,
        "start_time": "2022-03-31T09:38:47.754Z"
      },
      {
        "duration": 21,
        "start_time": "2022-03-31T09:38:47.787Z"
      },
      {
        "duration": 40,
        "start_time": "2022-03-31T09:38:47.810Z"
      },
      {
        "duration": 19,
        "start_time": "2022-03-31T09:38:47.854Z"
      },
      {
        "duration": 30,
        "start_time": "2022-03-31T09:38:47.876Z"
      },
      {
        "duration": 48,
        "start_time": "2022-03-31T09:38:47.908Z"
      },
      {
        "duration": 28,
        "start_time": "2022-03-31T09:38:47.959Z"
      },
      {
        "duration": 13,
        "start_time": "2022-03-31T09:38:47.989Z"
      },
      {
        "duration": 45,
        "start_time": "2022-03-31T09:38:48.004Z"
      },
      {
        "duration": 20,
        "start_time": "2022-03-31T09:38:48.052Z"
      },
      {
        "duration": 8,
        "start_time": "2022-03-31T09:38:48.074Z"
      },
      {
        "duration": 8,
        "start_time": "2022-03-31T09:38:48.084Z"
      },
      {
        "duration": 59,
        "start_time": "2022-03-31T09:38:48.094Z"
      },
      {
        "duration": 16,
        "start_time": "2022-03-31T09:38:48.159Z"
      },
      {
        "duration": 7,
        "start_time": "2022-03-31T09:38:48.177Z"
      },
      {
        "duration": 10,
        "start_time": "2022-03-31T09:38:48.186Z"
      },
      {
        "duration": 58,
        "start_time": "2022-03-31T09:38:48.198Z"
      },
      {
        "duration": 17,
        "start_time": "2022-03-31T09:38:48.258Z"
      },
      {
        "duration": 13,
        "start_time": "2022-03-31T09:39:24.974Z"
      },
      {
        "duration": 17,
        "start_time": "2022-03-31T09:39:36.286Z"
      },
      {
        "duration": 18,
        "start_time": "2022-03-31T09:39:56.726Z"
      },
      {
        "duration": 146,
        "start_time": "2022-03-31T09:44:24.012Z"
      },
      {
        "duration": 25,
        "start_time": "2022-03-31T09:44:40.532Z"
      },
      {
        "duration": 20,
        "start_time": "2022-03-31T09:47:25.573Z"
      },
      {
        "duration": 12,
        "start_time": "2022-03-31T10:14:47.106Z"
      },
      {
        "duration": 69,
        "start_time": "2022-03-31T10:14:58.933Z"
      },
      {
        "duration": 634,
        "start_time": "2022-03-31T10:15:04.049Z"
      },
      {
        "duration": 21,
        "start_time": "2022-03-31T10:15:04.686Z"
      },
      {
        "duration": 7,
        "start_time": "2022-03-31T10:15:04.709Z"
      },
      {
        "duration": 4,
        "start_time": "2022-03-31T10:15:04.719Z"
      },
      {
        "duration": 11,
        "start_time": "2022-03-31T10:15:04.725Z"
      },
      {
        "duration": 30,
        "start_time": "2022-03-31T10:15:04.767Z"
      },
      {
        "duration": 24,
        "start_time": "2022-03-31T10:15:04.799Z"
      },
      {
        "duration": 53,
        "start_time": "2022-03-31T10:15:04.824Z"
      },
      {
        "duration": 27,
        "start_time": "2022-03-31T10:15:04.880Z"
      },
      {
        "duration": 76,
        "start_time": "2022-03-31T10:15:04.911Z"
      },
      {
        "duration": 20,
        "start_time": "2022-03-31T10:15:04.990Z"
      },
      {
        "duration": 28,
        "start_time": "2022-03-31T10:15:05.012Z"
      },
      {
        "duration": 56,
        "start_time": "2022-03-31T10:15:05.067Z"
      },
      {
        "duration": 4,
        "start_time": "2022-03-31T10:15:05.125Z"
      },
      {
        "duration": 44,
        "start_time": "2022-03-31T10:15:05.132Z"
      },
      {
        "duration": 39,
        "start_time": "2022-03-31T10:15:05.179Z"
      },
      {
        "duration": 27,
        "start_time": "2022-03-31T10:15:05.220Z"
      },
      {
        "duration": 30,
        "start_time": "2022-03-31T10:15:05.250Z"
      },
      {
        "duration": 33,
        "start_time": "2022-03-31T10:15:05.283Z"
      },
      {
        "duration": 26,
        "start_time": "2022-03-31T10:15:05.319Z"
      },
      {
        "duration": 46,
        "start_time": "2022-03-31T10:15:05.348Z"
      },
      {
        "duration": 10,
        "start_time": "2022-03-31T10:15:05.397Z"
      },
      {
        "duration": 40,
        "start_time": "2022-03-31T10:15:05.410Z"
      },
      {
        "duration": 32,
        "start_time": "2022-03-31T10:15:05.453Z"
      },
      {
        "duration": 13,
        "start_time": "2022-03-31T10:15:05.487Z"
      },
      {
        "duration": 12,
        "start_time": "2022-03-31T10:15:05.502Z"
      },
      {
        "duration": 40,
        "start_time": "2022-03-31T10:15:05.516Z"
      },
      {
        "duration": 21,
        "start_time": "2022-03-31T10:15:05.568Z"
      },
      {
        "duration": 9,
        "start_time": "2022-03-31T10:15:05.593Z"
      },
      {
        "duration": 9,
        "start_time": "2022-03-31T10:15:05.605Z"
      },
      {
        "duration": 2901,
        "start_time": "2022-03-31T10:15:05.616Z"
      },
      {
        "duration": 0,
        "start_time": "2022-03-31T10:15:08.519Z"
      },
      {
        "duration": 1983,
        "start_time": "2022-03-31T10:17:23.756Z"
      },
      {
        "duration": 2099,
        "start_time": "2022-03-31T10:18:13.945Z"
      },
      {
        "duration": 29,
        "start_time": "2022-03-31T10:19:19.298Z"
      },
      {
        "duration": 18,
        "start_time": "2022-03-31T10:19:46.195Z"
      },
      {
        "duration": 16,
        "start_time": "2022-03-31T10:20:18.538Z"
      },
      {
        "duration": 92,
        "start_time": "2022-03-31T10:20:24.496Z"
      },
      {
        "duration": 20,
        "start_time": "2022-03-31T10:20:24.590Z"
      },
      {
        "duration": 6,
        "start_time": "2022-03-31T10:20:24.613Z"
      },
      {
        "duration": 7,
        "start_time": "2022-03-31T10:20:24.623Z"
      },
      {
        "duration": 8,
        "start_time": "2022-03-31T10:20:24.669Z"
      },
      {
        "duration": 21,
        "start_time": "2022-03-31T10:20:24.680Z"
      },
      {
        "duration": 24,
        "start_time": "2022-03-31T10:20:24.704Z"
      },
      {
        "duration": 57,
        "start_time": "2022-03-31T10:20:24.730Z"
      },
      {
        "duration": 26,
        "start_time": "2022-03-31T10:20:24.790Z"
      },
      {
        "duration": 74,
        "start_time": "2022-03-31T10:20:24.820Z"
      },
      {
        "duration": 19,
        "start_time": "2022-03-31T10:20:24.897Z"
      },
      {
        "duration": 28,
        "start_time": "2022-03-31T10:20:24.919Z"
      },
      {
        "duration": 47,
        "start_time": "2022-03-31T10:20:24.968Z"
      },
      {
        "duration": 5,
        "start_time": "2022-03-31T10:20:25.017Z"
      },
      {
        "duration": 17,
        "start_time": "2022-03-31T10:20:25.024Z"
      },
      {
        "duration": 23,
        "start_time": "2022-03-31T10:20:25.068Z"
      },
      {
        "duration": 10,
        "start_time": "2022-03-31T10:20:25.093Z"
      },
      {
        "duration": 21,
        "start_time": "2022-03-31T10:20:25.105Z"
      },
      {
        "duration": 65,
        "start_time": "2022-03-31T10:20:25.129Z"
      },
      {
        "duration": 12,
        "start_time": "2022-03-31T10:20:25.197Z"
      },
      {
        "duration": 28,
        "start_time": "2022-03-31T10:20:25.212Z"
      },
      {
        "duration": 10,
        "start_time": "2022-03-31T10:20:25.267Z"
      },
      {
        "duration": 21,
        "start_time": "2022-03-31T10:20:25.280Z"
      },
      {
        "duration": 18,
        "start_time": "2022-03-31T10:20:25.303Z"
      },
      {
        "duration": 47,
        "start_time": "2022-03-31T10:20:25.323Z"
      },
      {
        "duration": 11,
        "start_time": "2022-03-31T10:20:25.372Z"
      },
      {
        "duration": 20,
        "start_time": "2022-03-31T10:20:25.385Z"
      },
      {
        "duration": 57,
        "start_time": "2022-03-31T10:20:25.411Z"
      },
      {
        "duration": 8,
        "start_time": "2022-03-31T10:20:25.470Z"
      },
      {
        "duration": 9,
        "start_time": "2022-03-31T10:20:25.481Z"
      },
      {
        "duration": 20,
        "start_time": "2022-03-31T10:20:25.493Z"
      },
      {
        "duration": 0,
        "start_time": "2022-03-31T10:20:25.516Z"
      },
      {
        "duration": 19,
        "start_time": "2022-03-31T10:20:54.819Z"
      },
      {
        "duration": 17,
        "start_time": "2022-03-31T10:21:25.127Z"
      },
      {
        "duration": 40,
        "start_time": "2022-03-31T10:21:57.131Z"
      },
      {
        "duration": 14,
        "start_time": "2022-03-31T10:36:53.810Z"
      },
      {
        "duration": 20,
        "start_time": "2022-03-31T10:37:33.401Z"
      },
      {
        "duration": 16,
        "start_time": "2022-03-31T10:37:40.391Z"
      },
      {
        "duration": 123,
        "start_time": "2022-03-31T10:37:42.557Z"
      },
      {
        "duration": 30,
        "start_time": "2022-03-31T10:37:42.683Z"
      },
      {
        "duration": 9,
        "start_time": "2022-03-31T10:37:42.716Z"
      },
      {
        "duration": 42,
        "start_time": "2022-03-31T10:37:42.728Z"
      },
      {
        "duration": 9,
        "start_time": "2022-03-31T10:37:42.773Z"
      },
      {
        "duration": 27,
        "start_time": "2022-03-31T10:37:42.784Z"
      },
      {
        "duration": 70,
        "start_time": "2022-03-31T10:37:42.815Z"
      },
      {
        "duration": 24,
        "start_time": "2022-03-31T10:37:42.888Z"
      },
      {
        "duration": 58,
        "start_time": "2022-03-31T10:37:42.914Z"
      },
      {
        "duration": 52,
        "start_time": "2022-03-31T10:37:42.976Z"
      },
      {
        "duration": 41,
        "start_time": "2022-03-31T10:37:43.030Z"
      },
      {
        "duration": 32,
        "start_time": "2022-03-31T10:37:43.074Z"
      },
      {
        "duration": 106,
        "start_time": "2022-03-31T10:37:43.110Z"
      },
      {
        "duration": 6,
        "start_time": "2022-03-31T10:37:43.219Z"
      },
      {
        "duration": 41,
        "start_time": "2022-03-31T10:37:43.228Z"
      },
      {
        "duration": 22,
        "start_time": "2022-03-31T10:37:43.271Z"
      },
      {
        "duration": 10,
        "start_time": "2022-03-31T10:37:43.295Z"
      },
      {
        "duration": 61,
        "start_time": "2022-03-31T10:37:43.307Z"
      },
      {
        "duration": 47,
        "start_time": "2022-03-31T10:37:43.371Z"
      },
      {
        "duration": 11,
        "start_time": "2022-03-31T10:37:43.421Z"
      },
      {
        "duration": 61,
        "start_time": "2022-03-31T10:37:43.435Z"
      },
      {
        "duration": 15,
        "start_time": "2022-03-31T10:37:43.498Z"
      },
      {
        "duration": 53,
        "start_time": "2022-03-31T10:37:43.516Z"
      },
      {
        "duration": 19,
        "start_time": "2022-03-31T10:37:43.572Z"
      },
      {
        "duration": 9,
        "start_time": "2022-03-31T10:37:43.593Z"
      },
      {
        "duration": 8,
        "start_time": "2022-03-31T10:37:43.604Z"
      },
      {
        "duration": 64,
        "start_time": "2022-03-31T10:37:43.615Z"
      },
      {
        "duration": 17,
        "start_time": "2022-03-31T10:37:43.684Z"
      },
      {
        "duration": 8,
        "start_time": "2022-03-31T10:37:43.703Z"
      },
      {
        "duration": 11,
        "start_time": "2022-03-31T10:37:43.714Z"
      },
      {
        "duration": 67,
        "start_time": "2022-03-31T10:37:43.728Z"
      },
      {
        "duration": 15,
        "start_time": "2022-03-31T10:37:43.797Z"
      },
      {
        "duration": 32,
        "start_time": "2022-03-31T10:38:53.049Z"
      },
      {
        "duration": 31,
        "start_time": "2022-03-31T10:39:20.024Z"
      },
      {
        "duration": 37,
        "start_time": "2022-03-31T10:52:25.750Z"
      },
      {
        "duration": 21,
        "start_time": "2022-03-31T10:53:55.517Z"
      },
      {
        "duration": 29,
        "start_time": "2022-03-31T10:54:57.518Z"
      },
      {
        "duration": 2744,
        "start_time": "2022-03-31T10:56:37.994Z"
      },
      {
        "duration": 3220,
        "start_time": "2022-03-31T10:57:38.183Z"
      },
      {
        "duration": 38,
        "start_time": "2022-03-31T10:58:16.303Z"
      },
      {
        "duration": 36,
        "start_time": "2022-03-31T10:58:44.829Z"
      },
      {
        "duration": 47,
        "start_time": "2022-03-31T10:59:00.837Z"
      },
      {
        "duration": 28,
        "start_time": "2022-03-31T10:59:10.493Z"
      },
      {
        "duration": 28,
        "start_time": "2022-03-31T10:59:20.093Z"
      },
      {
        "duration": 38,
        "start_time": "2022-03-31T10:59:27.798Z"
      },
      {
        "duration": 49,
        "start_time": "2022-03-31T11:01:44.726Z"
      },
      {
        "duration": 124,
        "start_time": "2022-03-31T11:03:20.367Z"
      },
      {
        "duration": 54,
        "start_time": "2022-03-31T11:03:51.534Z"
      },
      {
        "duration": 91,
        "start_time": "2022-03-31T11:15:34.978Z"
      },
      {
        "duration": 85,
        "start_time": "2022-03-31T11:15:47.707Z"
      },
      {
        "duration": 102,
        "start_time": "2022-03-31T11:16:02.763Z"
      },
      {
        "duration": 103,
        "start_time": "2022-03-31T12:32:33.946Z"
      },
      {
        "duration": 32,
        "start_time": "2022-03-31T12:32:34.053Z"
      },
      {
        "duration": 6,
        "start_time": "2022-03-31T12:32:34.088Z"
      },
      {
        "duration": 13,
        "start_time": "2022-03-31T12:32:34.096Z"
      },
      {
        "duration": 17,
        "start_time": "2022-03-31T12:32:34.112Z"
      },
      {
        "duration": 52,
        "start_time": "2022-03-31T12:32:34.131Z"
      },
      {
        "duration": 27,
        "start_time": "2022-03-31T12:32:34.186Z"
      },
      {
        "duration": 54,
        "start_time": "2022-03-31T12:32:34.215Z"
      },
      {
        "duration": 27,
        "start_time": "2022-03-31T12:32:34.272Z"
      },
      {
        "duration": 73,
        "start_time": "2022-03-31T12:32:34.302Z"
      },
      {
        "duration": 23,
        "start_time": "2022-03-31T12:32:34.378Z"
      },
      {
        "duration": 28,
        "start_time": "2022-03-31T12:32:34.404Z"
      },
      {
        "duration": 79,
        "start_time": "2022-03-31T12:32:34.434Z"
      },
      {
        "duration": 4,
        "start_time": "2022-03-31T12:32:34.518Z"
      },
      {
        "duration": 17,
        "start_time": "2022-03-31T12:32:34.524Z"
      },
      {
        "duration": 40,
        "start_time": "2022-03-31T12:32:34.544Z"
      },
      {
        "duration": 9,
        "start_time": "2022-03-31T12:32:34.587Z"
      },
      {
        "duration": 18,
        "start_time": "2022-03-31T12:32:34.598Z"
      },
      {
        "duration": 64,
        "start_time": "2022-03-31T12:32:34.619Z"
      },
      {
        "duration": 9,
        "start_time": "2022-03-31T12:32:34.686Z"
      },
      {
        "duration": 50,
        "start_time": "2022-03-31T12:32:34.697Z"
      },
      {
        "duration": 19,
        "start_time": "2022-03-31T12:32:34.749Z"
      },
      {
        "duration": 46,
        "start_time": "2022-03-31T12:32:34.770Z"
      },
      {
        "duration": 50,
        "start_time": "2022-03-31T12:32:34.818Z"
      },
      {
        "duration": 28,
        "start_time": "2022-03-31T12:32:34.871Z"
      },
      {
        "duration": 28,
        "start_time": "2022-03-31T12:32:34.902Z"
      },
      {
        "duration": 11,
        "start_time": "2022-03-31T12:36:46.126Z"
      },
      {
        "duration": 10,
        "start_time": "2022-03-31T12:36:49.462Z"
      },
      {
        "duration": 44,
        "start_time": "2022-03-31T12:36:58.935Z"
      },
      {
        "duration": 7,
        "start_time": "2022-03-31T12:39:34.597Z"
      },
      {
        "duration": 6,
        "start_time": "2022-03-31T12:39:57.317Z"
      },
      {
        "duration": 7,
        "start_time": "2022-03-31T12:40:01.728Z"
      },
      {
        "duration": 94,
        "start_time": "2022-03-31T12:40:52.374Z"
      },
      {
        "duration": 21,
        "start_time": "2022-03-31T12:40:52.471Z"
      },
      {
        "duration": 7,
        "start_time": "2022-03-31T12:40:52.494Z"
      },
      {
        "duration": 10,
        "start_time": "2022-03-31T12:40:52.759Z"
      },
      {
        "duration": 22,
        "start_time": "2022-03-31T12:40:52.772Z"
      },
      {
        "duration": 24,
        "start_time": "2022-03-31T12:40:52.796Z"
      },
      {
        "duration": 60,
        "start_time": "2022-03-31T12:40:52.822Z"
      },
      {
        "duration": 30,
        "start_time": "2022-03-31T12:40:52.885Z"
      },
      {
        "duration": 67,
        "start_time": "2022-03-31T12:40:52.917Z"
      },
      {
        "duration": 19,
        "start_time": "2022-03-31T12:40:52.986Z"
      },
      {
        "duration": 31,
        "start_time": "2022-03-31T12:40:53.007Z"
      },
      {
        "duration": 50,
        "start_time": "2022-03-31T12:40:53.068Z"
      },
      {
        "duration": 4,
        "start_time": "2022-03-31T12:40:53.120Z"
      },
      {
        "duration": 41,
        "start_time": "2022-03-31T12:40:53.126Z"
      },
      {
        "duration": 21,
        "start_time": "2022-03-31T12:40:53.170Z"
      },
      {
        "duration": 9,
        "start_time": "2022-03-31T12:40:53.193Z"
      },
      {
        "duration": 17,
        "start_time": "2022-03-31T12:40:53.207Z"
      },
      {
        "duration": 64,
        "start_time": "2022-03-31T12:40:53.227Z"
      },
      {
        "duration": 15,
        "start_time": "2022-03-31T12:40:53.293Z"
      },
      {
        "duration": 57,
        "start_time": "2022-03-31T12:40:53.310Z"
      },
      {
        "duration": 10,
        "start_time": "2022-03-31T12:40:53.370Z"
      },
      {
        "duration": 40,
        "start_time": "2022-03-31T12:40:53.382Z"
      },
      {
        "duration": 68,
        "start_time": "2022-03-31T12:40:53.424Z"
      },
      {
        "duration": 29,
        "start_time": "2022-03-31T12:40:53.495Z"
      },
      {
        "duration": 59,
        "start_time": "2022-03-31T12:40:53.526Z"
      },
      {
        "duration": 29,
        "start_time": "2022-03-31T12:45:09.030Z"
      },
      {
        "duration": 22,
        "start_time": "2022-03-31T12:45:15.377Z"
      },
      {
        "duration": 15,
        "start_time": "2022-03-31T12:51:39.964Z"
      },
      {
        "duration": 102,
        "start_time": "2022-03-31T12:51:47.793Z"
      },
      {
        "duration": 19,
        "start_time": "2022-03-31T12:51:47.898Z"
      },
      {
        "duration": 6,
        "start_time": "2022-03-31T12:51:47.920Z"
      },
      {
        "duration": 42,
        "start_time": "2022-03-31T12:51:47.928Z"
      },
      {
        "duration": 23,
        "start_time": "2022-03-31T12:51:47.974Z"
      },
      {
        "duration": 22,
        "start_time": "2022-03-31T12:51:47.999Z"
      },
      {
        "duration": 52,
        "start_time": "2022-03-31T12:51:48.023Z"
      },
      {
        "duration": 23,
        "start_time": "2022-03-31T12:51:48.077Z"
      },
      {
        "duration": 71,
        "start_time": "2022-03-31T12:51:48.102Z"
      },
      {
        "duration": 20,
        "start_time": "2022-03-31T12:51:48.175Z"
      },
      {
        "duration": 28,
        "start_time": "2022-03-31T12:51:48.197Z"
      },
      {
        "duration": 76,
        "start_time": "2022-03-31T12:51:48.228Z"
      },
      {
        "duration": 4,
        "start_time": "2022-03-31T12:51:48.306Z"
      },
      {
        "duration": 11,
        "start_time": "2022-03-31T12:51:48.314Z"
      },
      {
        "duration": 42,
        "start_time": "2022-03-31T12:51:48.327Z"
      },
      {
        "duration": 8,
        "start_time": "2022-03-31T12:51:48.372Z"
      },
      {
        "duration": 17,
        "start_time": "2022-03-31T12:51:48.382Z"
      },
      {
        "duration": 27,
        "start_time": "2022-03-31T12:51:48.401Z"
      },
      {
        "duration": 45,
        "start_time": "2022-03-31T12:51:48.430Z"
      },
      {
        "duration": 30,
        "start_time": "2022-03-31T12:51:48.477Z"
      },
      {
        "duration": 9,
        "start_time": "2022-03-31T12:51:48.509Z"
      },
      {
        "duration": 60,
        "start_time": "2022-03-31T12:51:48.521Z"
      },
      {
        "duration": 35,
        "start_time": "2022-03-31T12:51:48.584Z"
      },
      {
        "duration": 54,
        "start_time": "2022-03-31T12:51:48.621Z"
      },
      {
        "duration": 30,
        "start_time": "2022-03-31T12:51:48.677Z"
      },
      {
        "duration": 46,
        "start_time": "2022-03-31T12:56:28.165Z"
      },
      {
        "duration": 35,
        "start_time": "2022-03-31T13:02:19.020Z"
      },
      {
        "duration": 29,
        "start_time": "2022-03-31T13:17:04.699Z"
      },
      {
        "duration": 15,
        "start_time": "2022-03-31T17:01:49.720Z"
      },
      {
        "duration": 9,
        "start_time": "2022-03-31T17:02:03.350Z"
      },
      {
        "duration": 134,
        "start_time": "2022-03-31T17:03:06.041Z"
      },
      {
        "duration": 11,
        "start_time": "2022-03-31T17:03:12.181Z"
      },
      {
        "duration": 7,
        "start_time": "2022-03-31T17:03:26.594Z"
      },
      {
        "duration": 41,
        "start_time": "2022-03-31T17:04:21.366Z"
      },
      {
        "duration": 19,
        "start_time": "2022-03-31T17:04:54.209Z"
      },
      {
        "duration": 139,
        "start_time": "2022-03-31T17:07:27.871Z"
      },
      {
        "duration": 31,
        "start_time": "2022-03-31T17:07:37.495Z"
      },
      {
        "duration": 36,
        "start_time": "2022-03-31T17:07:58.104Z"
      },
      {
        "duration": 49,
        "start_time": "2022-03-31T17:08:06.060Z"
      },
      {
        "duration": 597,
        "start_time": "2022-04-11T15:31:04.033Z"
      },
      {
        "duration": 19,
        "start_time": "2022-04-11T15:37:02.731Z"
      },
      {
        "duration": 19,
        "start_time": "2022-04-11T15:37:41.203Z"
      },
      {
        "duration": 33,
        "start_time": "2022-04-11T15:37:42.077Z"
      },
      {
        "duration": 16,
        "start_time": "2022-04-11T15:37:57.565Z"
      },
      {
        "duration": 23,
        "start_time": "2022-04-11T15:37:59.283Z"
      },
      {
        "duration": 70,
        "start_time": "2022-04-11T15:39:40.486Z"
      },
      {
        "duration": 6,
        "start_time": "2022-04-11T15:41:30.960Z"
      },
      {
        "duration": 22,
        "start_time": "2022-04-11T15:41:32.214Z"
      },
      {
        "duration": 10,
        "start_time": "2022-04-11T15:41:33.262Z"
      },
      {
        "duration": 13,
        "start_time": "2022-04-11T15:41:34.662Z"
      },
      {
        "duration": 13,
        "start_time": "2022-04-11T15:41:48.822Z"
      },
      {
        "duration": 20,
        "start_time": "2022-04-11T15:41:50.727Z"
      },
      {
        "duration": 11,
        "start_time": "2022-04-11T15:41:53.912Z"
      },
      {
        "duration": 34,
        "start_time": "2022-04-11T15:42:12.502Z"
      },
      {
        "duration": 494,
        "start_time": "2022-04-11T15:47:30.336Z"
      },
      {
        "duration": 18,
        "start_time": "2022-04-11T15:47:30.832Z"
      },
      {
        "duration": 5,
        "start_time": "2022-04-11T15:47:30.852Z"
      },
      {
        "duration": 11,
        "start_time": "2022-04-11T15:47:30.860Z"
      },
      {
        "duration": 48,
        "start_time": "2022-04-11T15:47:30.873Z"
      },
      {
        "duration": 19,
        "start_time": "2022-04-11T15:47:30.923Z"
      },
      {
        "duration": 14,
        "start_time": "2022-04-11T15:47:30.944Z"
      },
      {
        "duration": 48,
        "start_time": "2022-04-11T15:47:30.960Z"
      },
      {
        "duration": 40,
        "start_time": "2022-04-11T15:47:31.014Z"
      },
      {
        "duration": 17,
        "start_time": "2022-04-11T15:47:31.056Z"
      },
      {
        "duration": 45,
        "start_time": "2022-04-11T15:47:31.074Z"
      },
      {
        "duration": 131,
        "start_time": "2022-04-11T15:47:31.121Z"
      },
      {
        "duration": 59,
        "start_time": "2022-04-11T15:47:31.255Z"
      },
      {
        "duration": 43,
        "start_time": "2022-04-11T15:47:31.316Z"
      },
      {
        "duration": 38,
        "start_time": "2022-04-11T15:47:31.361Z"
      },
      {
        "duration": 7,
        "start_time": "2022-04-11T15:47:31.402Z"
      },
      {
        "duration": 15,
        "start_time": "2022-04-11T15:47:31.414Z"
      },
      {
        "duration": 24,
        "start_time": "2022-04-11T15:47:31.431Z"
      },
      {
        "duration": 19,
        "start_time": "2022-04-11T15:47:31.457Z"
      },
      {
        "duration": 41,
        "start_time": "2022-04-11T15:47:31.478Z"
      },
      {
        "duration": 8,
        "start_time": "2022-04-11T15:47:31.521Z"
      },
      {
        "duration": 32,
        "start_time": "2022-04-11T15:47:33.524Z"
      },
      {
        "duration": 5,
        "start_time": "2022-04-11T15:50:24.603Z"
      },
      {
        "duration": 10,
        "start_time": "2022-04-11T15:50:47.251Z"
      },
      {
        "duration": 3479,
        "start_time": "2022-04-11T15:52:15.624Z"
      },
      {
        "duration": 28,
        "start_time": "2022-04-11T15:52:37.956Z"
      },
      {
        "duration": 36,
        "start_time": "2022-04-11T15:52:54.119Z"
      },
      {
        "duration": 26,
        "start_time": "2022-04-11T15:53:10.425Z"
      },
      {
        "duration": 26,
        "start_time": "2022-04-11T15:56:10.962Z"
      },
      {
        "duration": 6,
        "start_time": "2022-04-11T16:06:15.061Z"
      },
      {
        "duration": 28,
        "start_time": "2022-04-11T16:07:17.945Z"
      },
      {
        "duration": 52,
        "start_time": "2022-04-11T19:13:06.244Z"
      },
      {
        "duration": 8,
        "start_time": "2022-04-11T19:13:09.807Z"
      },
      {
        "duration": 505,
        "start_time": "2022-04-11T19:13:15.467Z"
      },
      {
        "duration": 18,
        "start_time": "2022-04-11T19:13:15.973Z"
      },
      {
        "duration": 6,
        "start_time": "2022-04-11T19:13:15.993Z"
      },
      {
        "duration": 11,
        "start_time": "2022-04-11T19:13:16.000Z"
      },
      {
        "duration": 42,
        "start_time": "2022-04-11T19:13:16.013Z"
      },
      {
        "duration": 22,
        "start_time": "2022-04-11T19:13:16.057Z"
      },
      {
        "duration": 15,
        "start_time": "2022-04-11T19:13:16.081Z"
      },
      {
        "duration": 60,
        "start_time": "2022-04-11T19:13:16.099Z"
      },
      {
        "duration": 37,
        "start_time": "2022-04-11T19:13:16.161Z"
      },
      {
        "duration": 39,
        "start_time": "2022-04-11T19:13:16.200Z"
      },
      {
        "duration": 26,
        "start_time": "2022-04-11T19:13:16.241Z"
      },
      {
        "duration": 44,
        "start_time": "2022-04-11T19:13:16.269Z"
      },
      {
        "duration": 6,
        "start_time": "2022-04-11T19:13:16.333Z"
      },
      {
        "duration": 18,
        "start_time": "2022-04-11T19:13:16.344Z"
      },
      {
        "duration": 20,
        "start_time": "2022-04-11T19:13:16.363Z"
      },
      {
        "duration": 7,
        "start_time": "2022-04-11T19:13:16.384Z"
      },
      {
        "duration": 22,
        "start_time": "2022-04-11T19:13:16.393Z"
      },
      {
        "duration": 31,
        "start_time": "2022-04-11T19:13:16.417Z"
      },
      {
        "duration": 7,
        "start_time": "2022-04-11T19:13:16.452Z"
      },
      {
        "duration": 31,
        "start_time": "2022-04-11T19:13:16.461Z"
      },
      {
        "duration": 13,
        "start_time": "2022-04-11T19:13:16.494Z"
      },
      {
        "duration": 41,
        "start_time": "2022-04-11T19:13:16.509Z"
      },
      {
        "duration": 5,
        "start_time": "2022-04-11T19:13:16.552Z"
      },
      {
        "duration": 29,
        "start_time": "2022-04-11T19:13:16.559Z"
      },
      {
        "duration": 15,
        "start_time": "2022-04-11T19:13:16.590Z"
      },
      {
        "duration": 49,
        "start_time": "2022-04-11T19:13:16.607Z"
      },
      {
        "duration": 17,
        "start_time": "2022-04-11T19:15:41.845Z"
      },
      {
        "duration": 18,
        "start_time": "2022-04-11T19:16:38.763Z"
      },
      {
        "duration": 20,
        "start_time": "2022-04-11T19:25:16.220Z"
      },
      {
        "duration": 48,
        "start_time": "2022-04-11T19:29:53.299Z"
      },
      {
        "duration": 2630,
        "start_time": "2022-04-11T19:30:19.632Z"
      },
      {
        "duration": 2411,
        "start_time": "2022-04-11T19:32:02.913Z"
      },
      {
        "duration": 82,
        "start_time": "2022-04-11T19:32:10.518Z"
      },
      {
        "duration": 41,
        "start_time": "2022-04-11T19:32:10.602Z"
      },
      {
        "duration": 6,
        "start_time": "2022-04-11T19:32:10.645Z"
      },
      {
        "duration": 7,
        "start_time": "2022-04-11T19:32:10.654Z"
      },
      {
        "duration": 19,
        "start_time": "2022-04-11T19:32:10.663Z"
      },
      {
        "duration": 19,
        "start_time": "2022-04-11T19:32:10.684Z"
      },
      {
        "duration": 20,
        "start_time": "2022-04-11T19:32:10.731Z"
      },
      {
        "duration": 25,
        "start_time": "2022-04-11T19:32:10.753Z"
      },
      {
        "duration": 53,
        "start_time": "2022-04-11T19:32:10.780Z"
      },
      {
        "duration": 18,
        "start_time": "2022-04-11T19:32:10.839Z"
      },
      {
        "duration": 22,
        "start_time": "2022-04-11T19:32:10.859Z"
      },
      {
        "duration": 71,
        "start_time": "2022-04-11T19:32:10.882Z"
      },
      {
        "duration": 3,
        "start_time": "2022-04-11T19:32:10.954Z"
      },
      {
        "duration": 14,
        "start_time": "2022-04-11T19:32:10.959Z"
      },
      {
        "duration": 17,
        "start_time": "2022-04-11T19:32:10.975Z"
      },
      {
        "duration": 10,
        "start_time": "2022-04-11T19:32:10.994Z"
      },
      {
        "duration": 34,
        "start_time": "2022-04-11T19:32:11.006Z"
      },
      {
        "duration": 24,
        "start_time": "2022-04-11T19:32:11.042Z"
      },
      {
        "duration": 8,
        "start_time": "2022-04-11T19:32:11.068Z"
      },
      {
        "duration": 24,
        "start_time": "2022-04-11T19:32:11.077Z"
      },
      {
        "duration": 8,
        "start_time": "2022-04-11T19:32:11.103Z"
      },
      {
        "duration": 62,
        "start_time": "2022-04-11T19:32:11.112Z"
      },
      {
        "duration": 5,
        "start_time": "2022-04-11T19:32:11.175Z"
      },
      {
        "duration": 2349,
        "start_time": "2022-04-11T19:32:11.181Z"
      },
      {
        "duration": 0,
        "start_time": "2022-04-11T19:32:13.532Z"
      },
      {
        "duration": 0,
        "start_time": "2022-04-11T19:32:13.534Z"
      },
      {
        "duration": 24,
        "start_time": "2022-04-11T19:33:39.893Z"
      },
      {
        "duration": 24,
        "start_time": "2022-04-11T19:38:29.201Z"
      },
      {
        "duration": 159,
        "start_time": "2022-04-11T19:50:01.622Z"
      },
      {
        "duration": 149,
        "start_time": "2022-04-11T19:50:10.358Z"
      },
      {
        "duration": 19,
        "start_time": "2022-04-11T19:52:50.448Z"
      },
      {
        "duration": 18,
        "start_time": "2022-04-11T19:52:52.982Z"
      }
    ],
    "kernelspec": {
      "display_name": "Python 3 (ipykernel)",
      "language": "python",
      "name": "python3"
    },
    "language_info": {
      "codemirror_mode": {
        "name": "ipython",
        "version": 3
      },
      "file_extension": ".py",
      "mimetype": "text/x-python",
      "name": "python",
      "nbconvert_exporter": "python",
      "pygments_lexer": "ipython3",
      "version": "3.9.5"
    },
    "toc": {
      "base_numbering": 1,
      "nav_menu": {
        "height": "411.302px",
        "width": "982.292px"
      },
      "number_sections": true,
      "sideBar": true,
      "skip_h1_title": true,
      "title_cell": "Table of Contents",
      "title_sidebar": "Contents",
      "toc_cell": false,
      "toc_position": {},
      "toc_section_display": true,
      "toc_window_display": false
    },
    "colab": {
      "provenance": [],
      "collapsed_sections": []
    }
  },
  "nbformat": 4,
  "nbformat_minor": 5
}