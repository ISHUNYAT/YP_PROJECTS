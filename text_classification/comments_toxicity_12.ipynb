{
  "cells": [
    {
      "cell_type": "markdown",
      "metadata": {
        "toc": true,
        "id": "XoGZlC1mvHv1"
      },
      "source": [
        "</font></a></span></li></ul></li><li><span><a href=\"#Подготовка\" data-toc-modified-id=\"Подготовка-1\"><span class=\"toc-item-num\">1&nbsp;&nbsp;</span>Подготовка</a></span></li><li><span><a href=\"#Обучение\" data-toc-modified-id=\"Обучение-2\"><span class=\"toc-item-num\">2&nbsp;&nbsp;</span>Обучение</a></span></li><li><span><a href=\"#Выводы\" data-toc-modified-id=\"Выводы-3\"><span class=\"toc-item-num\">3&nbsp;&nbsp;</span>Выводы</a></span></li><li><span><a href=\"#Чек-лист-проверки\" data-toc-modified-id=\"Чек-лист-проверки-4\"><span class=\"toc-item-num\">4&nbsp;&nbsp;</span>Чек-лист проверки</a></span></li></ul></div>"
      ]
    },
    {
      "cell_type": "markdown",
      "metadata": {
        "id": "_mQGPXe0vHv2"
      },
      "source": [
        "# Проект для «Викишоп»"
      ]
    },
    {
      "cell_type": "markdown",
      "metadata": {
        "id": "VxNE5aNVvHv2"
      },
      "source": [
        "Интернет-магазин «Викишоп» запускает новый сервис. Теперь пользователи могут редактировать и дополнять описания товаров, как в вики-сообществах. То есть клиенты предлагают свои правки и комментируют изменения других. Магазину нужен инструмент, который будет искать токсичные комментарии и отправлять их на модерацию. \n",
        "\n",
        "Обучим модель классифицировать комментарии на позитивные и негативные. В нашем распоряжении набор данных с разметкой о токсичности правок.\n",
        "\n",
        "Построим модель со значением метрики качества *F1* не меньше 0.75. \n",
        "\n",
        "**Этапы выполнения проекта**\n",
        "\n",
        "1. Загрузим и подготовим данные.\n",
        "2. Обучим разные модели. \n",
        "3. Сделаем выводы.\n",
        "\n",
        "\n",
        "\n",
        "**Описание данных**\n",
        "\n",
        "Столбец *text* в нём содержит текст комментария, а *toxic* — целевой признак."
      ]
    },
    {
      "cell_type": "code",
      "source": [
        "pip install catboost"
      ],
      "metadata": {
        "colab": {
          "base_uri": "https://localhost:8080/"
        },
        "id": "lEL5BufUPeTd",
        "outputId": "16502cc4-fe25-4187-f812-c8be80ffc6e3"
      },
      "execution_count": null,
      "outputs": [
        {
          "output_type": "stream",
          "name": "stdout",
          "text": [
            "Looking in indexes: https://pypi.org/simple, https://us-python.pkg.dev/colab-wheels/public/simple/\n",
            "Requirement already satisfied: catboost in /usr/local/lib/python3.7/dist-packages (1.1)\n",
            "Requirement already satisfied: scipy in /usr/local/lib/python3.7/dist-packages (from catboost) (1.7.3)\n",
            "Requirement already satisfied: graphviz in /usr/local/lib/python3.7/dist-packages (from catboost) (0.10.1)\n",
            "Requirement already satisfied: six in /usr/local/lib/python3.7/dist-packages (from catboost) (1.15.0)\n",
            "Requirement already satisfied: pandas>=0.24.0 in /usr/local/lib/python3.7/dist-packages (from catboost) (1.3.5)\n",
            "Requirement already satisfied: plotly in /usr/local/lib/python3.7/dist-packages (from catboost) (5.5.0)\n",
            "Requirement already satisfied: matplotlib in /usr/local/lib/python3.7/dist-packages (from catboost) (3.2.2)\n",
            "Requirement already satisfied: numpy>=1.16.0 in /usr/local/lib/python3.7/dist-packages (from catboost) (1.21.6)\n",
            "Requirement already satisfied: python-dateutil>=2.7.3 in /usr/local/lib/python3.7/dist-packages (from pandas>=0.24.0->catboost) (2.8.2)\n",
            "Requirement already satisfied: pytz>=2017.3 in /usr/local/lib/python3.7/dist-packages (from pandas>=0.24.0->catboost) (2022.5)\n",
            "Requirement already satisfied: kiwisolver>=1.0.1 in /usr/local/lib/python3.7/dist-packages (from matplotlib->catboost) (1.4.4)\n",
            "Requirement already satisfied: cycler>=0.10 in /usr/local/lib/python3.7/dist-packages (from matplotlib->catboost) (0.11.0)\n",
            "Requirement already satisfied: pyparsing!=2.0.4,!=2.1.2,!=2.1.6,>=2.0.1 in /usr/local/lib/python3.7/dist-packages (from matplotlib->catboost) (3.0.9)\n",
            "Requirement already satisfied: typing-extensions in /usr/local/lib/python3.7/dist-packages (from kiwisolver>=1.0.1->matplotlib->catboost) (4.1.1)\n",
            "Requirement already satisfied: tenacity>=6.2.0 in /usr/local/lib/python3.7/dist-packages (from plotly->catboost) (8.1.0)\n"
          ]
        }
      ]
    },
    {
      "cell_type": "markdown",
      "metadata": {
        "id": "zNYg2K7zvHv3"
      },
      "source": [
        "## Подготовка"
      ]
    },
    {
      "cell_type": "code",
      "execution_count": null,
      "metadata": {
        "colab": {
          "base_uri": "https://localhost:8080/"
        },
        "id": "Qf1I26lRvHv3",
        "outputId": "6fc3afa8-0b9d-489b-a632-64a72fc52b51"
      },
      "outputs": [
        {
          "output_type": "stream",
          "name": "stderr",
          "text": [
            "[nltk_data] Downloading package wordnet to /root/nltk_data...\n",
            "[nltk_data]   Package wordnet is already up-to-date!\n",
            "[nltk_data] Downloading package stopwords to /root/nltk_data...\n",
            "[nltk_data]   Package stopwords is already up-to-date!\n",
            "[nltk_data] Downloading package punkt to /root/nltk_data...\n",
            "[nltk_data]   Package punkt is already up-to-date!\n",
            "[nltk_data] Downloading package omw-1.4 to /root/nltk_data...\n"
          ]
        }
      ],
      "source": [
        "import pandas as pd\n",
        "import numpy as np\n",
        "import nltk\n",
        "from nltk.stem import WordNetLemmatizer\n",
        "nltk.download('wordnet')\n",
        "import re \n",
        "from nltk.corpus import stopwords \n",
        "nltk.download('stopwords') \n",
        "nltk.download('punkt')\n",
        "nltk.download('omw-1.4')\n",
        "from sklearn.feature_extraction.text import TfidfVectorizer \n",
        "from sklearn.model_selection import train_test_split\n",
        "from sklearn.linear_model import LogisticRegression\n",
        "from sklearn.ensemble import RandomForestClassifier\n",
        "from catboost import CatBoostClassifier\n",
        "from sklearn.svm import LinearSVC\n",
        "from sklearn.metrics import f1_score\n",
        "from sklearn.model_selection import RandomizedSearchCV\n",
        "from sklearn.model_selection import GridSearchCV\n",
        "\n",
        "import warnings\n",
        "warnings.filterwarnings('ignore')\n",
        "\n",
        "import time\n",
        "\n",
        "from sklearn.pipeline import Pipeline\n",
        "#from sklearn.feature_extraction.text import CountVectorizer\n",
        "#from sklearn.feature_extraction.text import TfidfTransformer\n",
        "#from scipy.stats import uniform\n"
      ]
    },
    {
      "cell_type": "code",
      "execution_count": null,
      "metadata": {
        "id": "Km21QbNDvHwB"
      },
      "outputs": [],
      "source": [
        "path_1 = '/content/12_toxic_comments.csv'\n",
        "path_2 = '/datasets/toxic_comments.csv'\n",
        "try:\n",
        "    df = pd.read_csv(path_1)\n",
        "except:\n",
        "    df = pd.read_csv(path_2)"
      ]
    },
    {
      "cell_type": "code",
      "execution_count": null,
      "metadata": {
        "id": "0AcPtb8dvHwC"
      },
      "outputs": [],
      "source": [
        "SEED = 12345"
      ]
    },
    {
      "cell_type": "code",
      "execution_count": null,
      "metadata": {
        "scrolled": false,
        "colab": {
          "base_uri": "https://localhost:8080/",
          "height": 676
        },
        "id": "b113yrgzvHwC",
        "outputId": "72becb86-bc9d-4009-96ec-1ed42ab9a617"
      },
      "outputs": [
        {
          "output_type": "execute_result",
          "data": {
            "text/plain": [
              "    Unnamed: 0                                               text  toxic\n",
              "0            0  Explanation\\nWhy the edits made under my usern...      0\n",
              "1            1  D'aww! He matches this background colour I'm s...      0\n",
              "2            2  Hey man, I'm really not trying to edit war. It...      0\n",
              "3            3  \"\\nMore\\nI can't make any real suggestions on ...      0\n",
              "4            4  You, sir, are my hero. Any chance you remember...      0\n",
              "5            5  \"\\n\\nCongratulations from me as well, use the ...      0\n",
              "6            6       COCKSUCKER BEFORE YOU PISS AROUND ON MY WORK      1\n",
              "7            7  Your vandalism to the Matt Shirvington article...      0\n",
              "8            8  Sorry if the word 'nonsense' was offensive to ...      0\n",
              "9            9  alignment on this subject and which are contra...      0\n",
              "10          10  \"\\nFair use rationale for Image:Wonju.jpg\\n\\nT...      0\n",
              "11          11  bbq \\n\\nbe a man and lets discuss it-maybe ove...      0\n",
              "12          12  Hey... what is it..\\n@ | talk .\\nWhat is it......      1\n",
              "13          13  Before you start throwing accusations and warn...      0\n",
              "14          14  Oh, and the girl above started her arguments w...      0\n",
              "15          15  \"\\n\\nJuelz Santanas Age\\n\\nIn 2002, Juelz Sant...      0\n",
              "16          16  Bye! \\n\\nDon't look, come or think of comming ...      1\n",
              "17          17   REDIRECT Talk:Voydan Pop Georgiev- Chernodrinski      0\n",
              "18          18  The Mitsurugi point made no sense - why not ar...      0\n",
              "19          19  Don't mean to bother you \\n\\nI see that you're...      0"
            ],
            "text/html": [
              "\n",
              "  <div id=\"df-37c95e43-48c7-4291-b349-6a0394d16e3e\">\n",
              "    <div class=\"colab-df-container\">\n",
              "      <div>\n",
              "<style scoped>\n",
              "    .dataframe tbody tr th:only-of-type {\n",
              "        vertical-align: middle;\n",
              "    }\n",
              "\n",
              "    .dataframe tbody tr th {\n",
              "        vertical-align: top;\n",
              "    }\n",
              "\n",
              "    .dataframe thead th {\n",
              "        text-align: right;\n",
              "    }\n",
              "</style>\n",
              "<table border=\"1\" class=\"dataframe\">\n",
              "  <thead>\n",
              "    <tr style=\"text-align: right;\">\n",
              "      <th></th>\n",
              "      <th>Unnamed: 0</th>\n",
              "      <th>text</th>\n",
              "      <th>toxic</th>\n",
              "    </tr>\n",
              "  </thead>\n",
              "  <tbody>\n",
              "    <tr>\n",
              "      <th>0</th>\n",
              "      <td>0</td>\n",
              "      <td>Explanation\\nWhy the edits made under my usern...</td>\n",
              "      <td>0</td>\n",
              "    </tr>\n",
              "    <tr>\n",
              "      <th>1</th>\n",
              "      <td>1</td>\n",
              "      <td>D'aww! He matches this background colour I'm s...</td>\n",
              "      <td>0</td>\n",
              "    </tr>\n",
              "    <tr>\n",
              "      <th>2</th>\n",
              "      <td>2</td>\n",
              "      <td>Hey man, I'm really not trying to edit war. It...</td>\n",
              "      <td>0</td>\n",
              "    </tr>\n",
              "    <tr>\n",
              "      <th>3</th>\n",
              "      <td>3</td>\n",
              "      <td>\"\\nMore\\nI can't make any real suggestions on ...</td>\n",
              "      <td>0</td>\n",
              "    </tr>\n",
              "    <tr>\n",
              "      <th>4</th>\n",
              "      <td>4</td>\n",
              "      <td>You, sir, are my hero. Any chance you remember...</td>\n",
              "      <td>0</td>\n",
              "    </tr>\n",
              "    <tr>\n",
              "      <th>5</th>\n",
              "      <td>5</td>\n",
              "      <td>\"\\n\\nCongratulations from me as well, use the ...</td>\n",
              "      <td>0</td>\n",
              "    </tr>\n",
              "    <tr>\n",
              "      <th>6</th>\n",
              "      <td>6</td>\n",
              "      <td>COCKSUCKER BEFORE YOU PISS AROUND ON MY WORK</td>\n",
              "      <td>1</td>\n",
              "    </tr>\n",
              "    <tr>\n",
              "      <th>7</th>\n",
              "      <td>7</td>\n",
              "      <td>Your vandalism to the Matt Shirvington article...</td>\n",
              "      <td>0</td>\n",
              "    </tr>\n",
              "    <tr>\n",
              "      <th>8</th>\n",
              "      <td>8</td>\n",
              "      <td>Sorry if the word 'nonsense' was offensive to ...</td>\n",
              "      <td>0</td>\n",
              "    </tr>\n",
              "    <tr>\n",
              "      <th>9</th>\n",
              "      <td>9</td>\n",
              "      <td>alignment on this subject and which are contra...</td>\n",
              "      <td>0</td>\n",
              "    </tr>\n",
              "    <tr>\n",
              "      <th>10</th>\n",
              "      <td>10</td>\n",
              "      <td>\"\\nFair use rationale for Image:Wonju.jpg\\n\\nT...</td>\n",
              "      <td>0</td>\n",
              "    </tr>\n",
              "    <tr>\n",
              "      <th>11</th>\n",
              "      <td>11</td>\n",
              "      <td>bbq \\n\\nbe a man and lets discuss it-maybe ove...</td>\n",
              "      <td>0</td>\n",
              "    </tr>\n",
              "    <tr>\n",
              "      <th>12</th>\n",
              "      <td>12</td>\n",
              "      <td>Hey... what is it..\\n@ | talk .\\nWhat is it......</td>\n",
              "      <td>1</td>\n",
              "    </tr>\n",
              "    <tr>\n",
              "      <th>13</th>\n",
              "      <td>13</td>\n",
              "      <td>Before you start throwing accusations and warn...</td>\n",
              "      <td>0</td>\n",
              "    </tr>\n",
              "    <tr>\n",
              "      <th>14</th>\n",
              "      <td>14</td>\n",
              "      <td>Oh, and the girl above started her arguments w...</td>\n",
              "      <td>0</td>\n",
              "    </tr>\n",
              "    <tr>\n",
              "      <th>15</th>\n",
              "      <td>15</td>\n",
              "      <td>\"\\n\\nJuelz Santanas Age\\n\\nIn 2002, Juelz Sant...</td>\n",
              "      <td>0</td>\n",
              "    </tr>\n",
              "    <tr>\n",
              "      <th>16</th>\n",
              "      <td>16</td>\n",
              "      <td>Bye! \\n\\nDon't look, come or think of comming ...</td>\n",
              "      <td>1</td>\n",
              "    </tr>\n",
              "    <tr>\n",
              "      <th>17</th>\n",
              "      <td>17</td>\n",
              "      <td>REDIRECT Talk:Voydan Pop Georgiev- Chernodrinski</td>\n",
              "      <td>0</td>\n",
              "    </tr>\n",
              "    <tr>\n",
              "      <th>18</th>\n",
              "      <td>18</td>\n",
              "      <td>The Mitsurugi point made no sense - why not ar...</td>\n",
              "      <td>0</td>\n",
              "    </tr>\n",
              "    <tr>\n",
              "      <th>19</th>\n",
              "      <td>19</td>\n",
              "      <td>Don't mean to bother you \\n\\nI see that you're...</td>\n",
              "      <td>0</td>\n",
              "    </tr>\n",
              "  </tbody>\n",
              "</table>\n",
              "</div>\n",
              "      <button class=\"colab-df-convert\" onclick=\"convertToInteractive('df-37c95e43-48c7-4291-b349-6a0394d16e3e')\"\n",
              "              title=\"Convert this dataframe to an interactive table.\"\n",
              "              style=\"display:none;\">\n",
              "        \n",
              "  <svg xmlns=\"http://www.w3.org/2000/svg\" height=\"24px\"viewBox=\"0 0 24 24\"\n",
              "       width=\"24px\">\n",
              "    <path d=\"M0 0h24v24H0V0z\" fill=\"none\"/>\n",
              "    <path d=\"M18.56 5.44l.94 2.06.94-2.06 2.06-.94-2.06-.94-.94-2.06-.94 2.06-2.06.94zm-11 1L8.5 8.5l.94-2.06 2.06-.94-2.06-.94L8.5 2.5l-.94 2.06-2.06.94zm10 10l.94 2.06.94-2.06 2.06-.94-2.06-.94-.94-2.06-.94 2.06-2.06.94z\"/><path d=\"M17.41 7.96l-1.37-1.37c-.4-.4-.92-.59-1.43-.59-.52 0-1.04.2-1.43.59L10.3 9.45l-7.72 7.72c-.78.78-.78 2.05 0 2.83L4 21.41c.39.39.9.59 1.41.59.51 0 1.02-.2 1.41-.59l7.78-7.78 2.81-2.81c.8-.78.8-2.07 0-2.86zM5.41 20L4 18.59l7.72-7.72 1.47 1.35L5.41 20z\"/>\n",
              "  </svg>\n",
              "      </button>\n",
              "      \n",
              "  <style>\n",
              "    .colab-df-container {\n",
              "      display:flex;\n",
              "      flex-wrap:wrap;\n",
              "      gap: 12px;\n",
              "    }\n",
              "\n",
              "    .colab-df-convert {\n",
              "      background-color: #E8F0FE;\n",
              "      border: none;\n",
              "      border-radius: 50%;\n",
              "      cursor: pointer;\n",
              "      display: none;\n",
              "      fill: #1967D2;\n",
              "      height: 32px;\n",
              "      padding: 0 0 0 0;\n",
              "      width: 32px;\n",
              "    }\n",
              "\n",
              "    .colab-df-convert:hover {\n",
              "      background-color: #E2EBFA;\n",
              "      box-shadow: 0px 1px 2px rgba(60, 64, 67, 0.3), 0px 1px 3px 1px rgba(60, 64, 67, 0.15);\n",
              "      fill: #174EA6;\n",
              "    }\n",
              "\n",
              "    [theme=dark] .colab-df-convert {\n",
              "      background-color: #3B4455;\n",
              "      fill: #D2E3FC;\n",
              "    }\n",
              "\n",
              "    [theme=dark] .colab-df-convert:hover {\n",
              "      background-color: #434B5C;\n",
              "      box-shadow: 0px 1px 3px 1px rgba(0, 0, 0, 0.15);\n",
              "      filter: drop-shadow(0px 1px 2px rgba(0, 0, 0, 0.3));\n",
              "      fill: #FFFFFF;\n",
              "    }\n",
              "  </style>\n",
              "\n",
              "      <script>\n",
              "        const buttonEl =\n",
              "          document.querySelector('#df-37c95e43-48c7-4291-b349-6a0394d16e3e button.colab-df-convert');\n",
              "        buttonEl.style.display =\n",
              "          google.colab.kernel.accessAllowed ? 'block' : 'none';\n",
              "\n",
              "        async function convertToInteractive(key) {\n",
              "          const element = document.querySelector('#df-37c95e43-48c7-4291-b349-6a0394d16e3e');\n",
              "          const dataTable =\n",
              "            await google.colab.kernel.invokeFunction('convertToInteractive',\n",
              "                                                     [key], {});\n",
              "          if (!dataTable) return;\n",
              "\n",
              "          const docLinkHtml = 'Like what you see? Visit the ' +\n",
              "            '<a target=\"_blank\" href=https://colab.research.google.com/notebooks/data_table.ipynb>data table notebook</a>'\n",
              "            + ' to learn more about interactive tables.';\n",
              "          element.innerHTML = '';\n",
              "          dataTable['output_type'] = 'display_data';\n",
              "          await google.colab.output.renderOutput(dataTable, element);\n",
              "          const docLink = document.createElement('div');\n",
              "          docLink.innerHTML = docLinkHtml;\n",
              "          element.appendChild(docLink);\n",
              "        }\n",
              "      </script>\n",
              "    </div>\n",
              "  </div>\n",
              "  "
            ]
          },
          "metadata": {},
          "execution_count": 5
        }
      ],
      "source": [
        "df.head(20) #посмотрим на общий вид данных в датасете"
      ]
    },
    {
      "cell_type": "markdown",
      "metadata": {
        "id": "xSu9SlcBvHwC"
      },
      "source": [
        "В датасете мы видим колонку с комментариями и колонку с классификацией комментария по признаку его тксичности ( 1 - комментарий токсичный, 0 - комментарий нейтральный)."
      ]
    },
    {
      "cell_type": "code",
      "execution_count": null,
      "metadata": {
        "scrolled": false,
        "colab": {
          "base_uri": "https://localhost:8080/"
        },
        "id": "eeFP08aRvHwD",
        "outputId": "175762e4-6813-45c1-ec3a-a872584b9385"
      },
      "outputs": [
        {
          "output_type": "stream",
          "name": "stdout",
          "text": [
            "<class 'pandas.core.frame.DataFrame'>\n",
            "RangeIndex: 159292 entries, 0 to 159291\n",
            "Data columns (total 3 columns):\n",
            " #   Column      Non-Null Count   Dtype \n",
            "---  ------      --------------   ----- \n",
            " 0   Unnamed: 0  159292 non-null  int64 \n",
            " 1   text        159292 non-null  object\n",
            " 2   toxic       159292 non-null  int64 \n",
            "dtypes: int64(2), object(1)\n",
            "memory usage: 3.6+ MB\n"
          ]
        }
      ],
      "source": [
        "df.info() #изучим общую информацию о датасете"
      ]
    },
    {
      "cell_type": "markdown",
      "metadata": {
        "id": "EujOXSN7vHwD"
      },
      "source": [
        "Данные содержат около 160 К строк, в колонке с текстом тип данных `object`, в колонке c классификатором токсичности комментария данные целочисленные."
      ]
    },
    {
      "cell_type": "code",
      "execution_count": null,
      "metadata": {
        "scrolled": true,
        "colab": {
          "base_uri": "https://localhost:8080/"
        },
        "id": "e9d2MFl2vHwE",
        "outputId": "12b0795c-842c-48a3-a245-46d685869d3a"
      },
      "outputs": [
        {
          "output_type": "execute_result",
          "data": {
            "text/plain": [
              "0    143106\n",
              "1     16186\n",
              "Name: toxic, dtype: int64"
            ]
          },
          "metadata": {},
          "execution_count": 7
        }
      ],
      "source": [
        "df['toxic'].value_counts() # посмотрим на распределение значений целевого признака"
      ]
    },
    {
      "cell_type": "code",
      "execution_count": null,
      "metadata": {
        "scrolled": true,
        "colab": {
          "base_uri": "https://localhost:8080/"
        },
        "id": "yrBCu6e8vHwE",
        "outputId": "0176e8fb-a1b9-4efd-c9c6-4807e3e52dbe"
      },
      "outputs": [
        {
          "output_type": "stream",
          "name": "stdout",
          "text": [
            "Доля токсичных комментариев: 10.2 %\n"
          ]
        }
      ],
      "source": [
        "print (f\"Доля токсичных комментариев: {round(len(df[df['toxic']==1])/len(df)*100,1)} %\")"
      ]
    },
    {
      "cell_type": "markdown",
      "metadata": {
        "id": "L7DyvW8pvHwF"
      },
      "source": [
        "Доля токсичных комментариев составляет чуть больше 10%.\n",
        "\n",
        "На следующем этапе перейдем к подготовке текста для последующего обучения моделей."
      ]
    },
    {
      "cell_type": "code",
      "execution_count": null,
      "metadata": {
        "id": "yZ87iRLfvHwF"
      },
      "outputs": [],
      "source": [
        "def clear_text(text): # создадим функцию для очистки текстовых данных от всех символов, кроме латинских букв и пробелов \n",
        "    text = re.sub(r'[^a-zA-Z ]', ' ', text)\n",
        "    return \" \".join(text.split())"
      ]
    },
    {
      "cell_type": "code",
      "execution_count": null,
      "metadata": {
        "scrolled": true,
        "colab": {
          "base_uri": "https://localhost:8080/"
        },
        "id": "F-fwahs7vHwG",
        "outputId": "9f658d58-114a-4698-8d80-8a9d483328d8"
      },
      "outputs": [
        {
          "output_type": "execute_result",
          "data": {
            "text/plain": [
              "['Explanation Why the edits made under my username Hardcore Metallica Fan were reverted They weren t vandalism just closure on some GAs after I voted at New York Dolls FAC And please don t remove the template from the talk page since I m retired now',\n",
              " 'D aww He match this background colour I m seemingly stuck with Thanks talk January UTC',\n",
              " 'Hey man I m really not trying to edit war It s just that this guy is constantly removing relevant information and talking to me through edits instead of my talk page He seems to care more about the formatting than the actual info',\n",
              " 'More I can t make any real suggestion on improvement I wondered if the section statistic should be later on or a subsection of type of accident I think the reference may need tidying so that they are all in the exact same format ie date format etc I can do that later on if no one else doe first if you have any preference for formatting style on reference or want to do it yourself please let me know There appears to be a backlog on article for review so I guess there may be a delay until a reviewer turn up It s listed in the relevant form eg Wikipedia Good article nomination Transport',\n",
              " 'You sir are my hero Any chance you remember what page that s on',\n",
              " 'Congratulations from me a well use the tool well talk',\n",
              " 'COCKSUCKER BEFORE YOU PISS AROUND ON MY WORK',\n",
              " 'Your vandalism to the Matt Shirvington article ha been reverted Please don t do it again or you will be banned',\n",
              " 'Sorry if the word nonsense wa offensive to you Anyway I m not intending to write anything in the article wow they would jump on me for vandalism I m merely requesting that it be more encyclopedic so one can use it for school a a reference I have been to the selective breeding page but it s almost a stub It point to animal breeding which is a short messy article that give you no info There must be someone around with expertise in eugenics',\n",
              " 'alignment on this subject and which are contrary to those of DuLithgow',\n",
              " 'Fair use rationale for Image Wonju jpg Thanks for uploading Image Wonju jpg I notice the image page specifies that the image is being used under fair use but there is no explanation or rationale a to why it use in Wikipedia article constitutes fair use In addition to the boilerplate fair use template you must also write out on the image description page a specific explanation or rationale for why using this image in each article is consistent with fair use Please go to the image description page and edit it to include a fair use rationale If you have uploaded other fair use medium consider checking that you have specified the fair use rationale on those page too You can find a list of image page you have edited by clicking on the my contribution link it is located at the very top of any Wikipedia page when you are logged in and then selecting Image from the dropdown box Note that any fair use image uploaded after May and lacking such an explanation will be deleted one week after they have been uploaded a described on criterion for speedy deletion If you have any question please ask them at the Media copyright question page Thank you talk contribs Unspecified source for Image Wonju jpg Thanks for uploading Image Wonju jpg I noticed that the file s description page currently doesn t specify who created the content so the copyright status is unclear If you did not create this file yourself then you will need to specify the owner of the copyright If you obtained it from a website then a link to the website from which it wa taken together with a restatement of that website s term of use of it content is usually sufficient information However if the copyright holder is different from the website s publisher then their copyright should also be acknowledged As well a adding the source please add a proper copyright licensing tag if the file doesn t have one already If you created took the picture audio or video then the tag can be used to release it under the GFDL If you believe the medium meet the criterion at Wikipedia Fair use use a tag such a or one of the other tag listed at Wikipedia Image copyright tag Fair use See Wikipedia Image copyright tag for the full list of copyright tag that you can use If you have uploaded other file consider checking that you have specified their source and tagged them too You can find a list of file you have uploaded by following this link Unsourced and untagged image may be deleted one week after they have been tagged a described on criterion for speedy deletion If the image is copyrighted under a non free license per Wikipedia Fair use then the image will be deleted hour after If you have any question please ask them at the Media copyright question page Thank you talk contribs',\n",
              " 'bbq be a man and let discus it maybe over the phone',\n",
              " 'Hey what is it talk What is it an exclusive group of some WP TALIBANS who are good at destroying self appointed purist who GANG UP any one who asks them question abt their ANTI SOCIAL and DESTRUCTIVE non contribution at WP Ask Sityush to clean up his behavior than issue me nonsensical warning',\n",
              " 'Before you start throwing accusation and warning at me let review the edit itself making ad hominem attack isn t going to strengthen your argument it will merely make it look like you are abusing your power a an admin Now the edit itself is relevant this is probably the single most talked about event int he news a of late His absence is notable since he is the only living ex president who did not attend That s certainly more notable than his dedicating an aircracft carrier I intend to revert this edit in hope of attracting the attention of an admin that is willing to look at the issue itself and not throw accusation around quite so liberally Perhaps if you achieve a level of civility where you can do this we can have a rational discussion on the topic and resolve the matter peacefully',\n",
              " 'Oh and the girl above started her argument with me She stuck her nose where it doesn t belong I believe the argument wa between me and Yvesnimmo But like I said the situation wa settled and I apologized Thanks',\n",
              " 'Juelz Santanas Age In Juelz Santana wa year old then came February th which make Juelz turn making song with The Diplomats The third neff to be signed to Cam s label under Roc A Fella In he wa year old coming out with his own single Santana s Town and Down So yes he is born in He really is how could he be older then Lloyd Banks And how could he be when his birthday passed The homie neff is year old Juelz death god forbid if your thinking about that equal Go to your caculator and stop changing his year of birth My god',\n",
              " 'Bye Don t look come or think of comming back Tosser',\n",
              " 'REDIRECT Talk Voydan Pop Georgiev Chernodrinski',\n",
              " 'The Mitsurugi point made no sense why not argue to include Hindi on Ryo Sakazaki s page to include more information',\n",
              " 'Don t mean to bother you I see that you re writing something regarding removing anything posted here and if you do oh well but if not and you can acctually discus this with me then even better I d like to ask you to take a closer look at the Premature wrestling death catagory and the men listed in it surely these men belong together in some catagory Is there anything that you think we can do with the catagory besides delting it',\n",
              " 'Regarding your recent edits Once again please read WP FILMPLOT before editing any more film article Your edits are simply not good with entirely too many unnecessary detail and very bad writing Please stop before you do further damage The',\n",
              " 'Good to know About me yeah I m studying now Deepu',\n",
              " 'Snowflakes are NOT always symmetrical Under Geometry it is stated that A snowflake always ha six symmetric arm This assertion is simply not true According to Kenneth Libbrecht The rather unattractive irregular crystal are by far the most common variety http www it caltech edu atomic snowcrystals myth myth htm perfection Someone really need to take a look at his site and get FACTS off of it because I still see a decent number of falsity on this page forgive me Im new at this and dont want to edit anything',\n",
              " 'The Signpost September Read this Signpost in full Single page Unsubscribe',\n",
              " 'Re considering st paragraph edit I don t understand the reason for s recent edit of this article not that I m sure that the data are necessarily wrong Rather I m persuaded that the strategy of introducing academic honor in the first paragraph is an unhelpful approach to this specific subject I note that article about other sitting Justices have been similarly enhanced and I also believe those change are no improvement In support of my view that this edit should be reverted I would invite anyone to re visit article written about the following pair of jurist A Benjamin Cardozo A Learned Hand B John Marshall Harlan B John Marshall Harlan II The question becomes Would the current version of the Wikipedia article about any one of them or either pair be improved by academic credential in the introductory paragraph I think not Perhaps it help to repeat a wry argument Kathleen Sullivan of Stanford Law make when she suggests that some on the Harvard Law faculty wonder how Antonin Scalia avoided learning what others have managed to grasp about the process of judging I would hope this anecdote gently illustrates the point Less humorous but an even stronger argument is the one Clarence Thomas make when he mention wanting to return his law degree to Yale At a minimum I m questioning this edit It deserves to be reconsidered',\n",
              " 'Radial symmetry Several now extinct lineage included in the Echinodermata were bilateral such a Homostelea or even asymmetrical such a Cothurnocystis Stylophora',\n",
              " 'There s no need to apologize A Wikipedia article is made for reconciling knowledge about a subject from different source and you ve done history study and not archaeology study I guess I could scan the page e mail it to you and then you could ask someone to translate the page',\n",
              " 'Yes because the mother of the child in the case against Michael Jackson wa studied in here motif and reasoning and judged upon her character just a harshly a Wacko Jacko himself Don t tell me to ignore it and incriminate myself I am going to continue refuting the bullshit that Jayjg keep throwing at me Jun UTC',\n",
              " 'Ok But it will take a bit of work but I can t quite picture it Do you have an example I can base it on the Duck',\n",
              " 'A barnstar for you The Real Life Barnstar let u be the star',\n",
              " 'How could I post before the block expires The funny thing is you think I m being uncivil',\n",
              " 'Not sure about a heading of Fight for Freedom what will it contain',\n",
              " 'Praise looked at this article about month ago much improved',\n",
              " 'I wa able to post the above list so quickly because I already had it in a text file in my hard drive I ve been meaning to get around to updating the sound list for some time now As far a generating interest I ve spent four year trying to drum up more interest in freely licensed full length classical music Unfortunately my attempt failed I m still effectively the only one who doe it The classical music wikiproject wa not interested Wikipedia talk WikiProject Classical music Archive Need help Wikipedia talk WikiProject Music Archive I could use some helpWikipedia talk WikiProject Music Archive Raulbot C and the music list So I really had given up trying to interest others The sound list wa featured on digg a while back http digg com music Wikipedia ha free classical music downloads It got diggs which is IMO very impressive',\n",
              " 'Well not before the process but before how we do thing with subpages His RfA is listed on NoSeptember s page and you can find it if you look September I think I have my difference with El C to be sure but wa surprised to see a block so I left a note t c',\n",
              " 'Not at all you are making a straw man argument here I never claimed O Donohue had that position rather that practitioner and researcher in the field ignored the DSM position which is exactly what the quote say and also something O Donohue agrees with Again I wa combating the notion that it wa a absurd part to claim that pedophilia is a sexual orientation Since many researcher hold this position it would be unfair to call it absurd The disorder part is divided in the field some argue that it is not a disorder at all some do At the end of the day it is a value judgment a Cantor pointed out earlier in the thread not a scientific judgement If we choose to make this value judgment in the article it should be stated clearly and not pretend to have a scientific basis',\n",
              " 'Mainland Asia includes the lower basin of China s Yangtze River a well a Korea But being specific is fine too I just found a citation for a more comprehensive DNA study by Hammer below rather than our generarizations and speculation so far Citation for Yayoi culture wa brought to Japan by migrant from Korea who in turn trace their root to southeast Asia south China DNA study by Hammer Describes the Yayoi migration from Korea based on the O SRY gene and other gene with close lineage haplogroups O M and O M Reiterates that the entire O haplogroup ha been proposed to have a Southeast Asian origin Their definition of Southeast Asia includes southern China Then hypothesizes that the dispersal of Neolithic farmer from Southeast Asia also brought haplogroup O lineage to Korea and eventually to Japan In the concluding paragraph it state we propose that the Yayoi Y chromosome descend from prehistoric farmer that had their origin in southeastern Asia perhaps going back to the origin of agriculture in this region Hammer s DNA study is based on a global sample consisted of male from Asian population including six population sampled from across the Japanese archipelago',\n",
              " 'pretty much everyone from warren county surrounding region wa born at glen fall hospital myself included however i m not sure this qualifies anyone a being a glen fall native rachel ray is i believe actually from the town of lake luzerne The preceding unsigned comment wa added by August UTC',\n",
              " 'Hi Explicit can you block O Fenian for edit warring on the Giant s Causeway wp He ha made several edits which can only be described a terrorism',\n",
              " 'Notability of Rurika Kasuga A tag ha been placed on Rurika Kasuga requesting that it be speedily deleted from Wikipedia This ha been done because the article seems to be about a person group of people band club company or web content but it doe not indicate how or why the subject is notable that is why an article about that subject should be included in Wikipedia Under the criterion for speedy deletion article that do not assert notability may be deleted at any time Please see the guideline for what is generally accepted a notable and if you can indicate why the subject of this article is notable you may contest the tagging To do this add on the top of the page below the existing db tag and leave a note on the article s talk page explaining your position Please do not remove the speedy deletion tag yourself but don t hesitate to add information to the article that would confirm it subject s notability under the guideline For guideline on specific type of article you may want to check out our criterion for biography for web site for band or for company Feel free to leave a note on my talk page if you have any question about this',\n",
              " 'Sure but the lead must briefly summarize Armenia s history I simply added what I found necessary If anyone think this or that sentence is redundant for the lead they are welcome to remove make edits talk',\n",
              " 'TFD I think we just eced I think we responded to each other without seeing each others response I added something in response to yours but don t know if you saw mine T C WP CHICAGO WP FOUR',\n",
              " 'You are gay or antisemmitian Archangel WHite Tiger Meow Greetingshhh Uh there are two way why you do erased my comment about WW that holocaust wa brutally slaying of Jews and not gay Gypsys Slavs anyone If you are anti semitian than shave your head bald and go to the skinhead meeting If you doubt word of the Bible that homosexuality is a deadly sin make a pentagram tatoo on your forehead go to the satanistic mass with your gay pal First and last warning you fucking gay I won t appreciate if any more nazi shwain would write in my page I don t wish to talk to you anymore Beware of the Dark Side',\n",
              " 'FUCK YOUR FILTHY MOTHER IN THE ASS DRY',\n",
              " 'I m Sorry I m sorry I screwed around with someone talk page It wa very bad to do I know how having the template on their talk page help you assert your dominance over them I know I should bow down to the almighty administrator But then again I m going to go play outside with your mom',\n",
              " 'I don t believe the Lisak criticism present there conforms with the NPV rule Lisak doesn t have a neutral point of view to begin with If an offer to polygraph or even concerned review of polygraph result shock a complainant into thinking her lie have been uncovered the recantation is still perfectly valid If you know you are telling the truth you will argue with machine or investigator Also part of Kanin s research wa a followup of the recanted story where possible to verify if any were false recantation In all followup the recanted version of event matched what the accused said happened Arguing that Lisak is a respected PHD is baseless if Kanin is a respected PHD I agree that my edit wasn t a neutral a possible though so apologize for that Still something must be done here',\n",
              " 'You had a point and it s now ammended with appropriate encyclopedic notability significance',\n",
              " 'In other word you re too lazy to actually point anything out Until you change that approach the tag go',\n",
              " 'As for your claim of stalking that is absolute rubbish and serf only to aggravate the situation I have assumed good faith and good intention on your part and have never suggested or seen reason to suggest that you might have some ulterior motive in mass adding link to one specific company s web page Nor for that matter have I ever made any suggestion that this is an administrative matter or even mentioned such a role Clearly a a party to this disagreement I would not do so at any rate a it would be a conflict of interest I would ask that you thus extend the same good faith toward me rather than making spurious and unfounded accusation chatspy',\n",
              " 'Jmabel in regard to predominant scholary consensus who is it that allegedly claim despite Third Way rhetoric fascism in power functioned rather consistently a a right wing force As far a I m aware owning numerous book on the subject that is not the scholary consensus at all The consensus developed by respected scholar of fascism who write in a manner which is not bias to any interest group such a Roger Griffin Hamish McDonald Roger Eatwell and Zeev Sternhell all recongise fascism a a Third Way a the reference show The only dissenter I m aware of who seem to think fascism ha absoutely no leftist connection and is merely a radical right system are street level socialist who want to put a much distance between the movement a possible This of course doe not come from educated people in a position to write book For example even the foremost scholary expert on Fascism and a former member of both the Communist Party and then Socialist Party of Italy Renzo De Felice doesn t try to cover up it socialistic origin and third way status This is a man who ha wrote a definitive seven volume piece on Mussolini',\n",
              " 'BI you said you wanted to talk At the bottom of the lead section you have written Its promoter speculated in that the skyhook concept could be cost competitive with what is realistically thought to be achievable using a space elevator but the skyhook is not competitive with other rotating tether concept In addition the rotating skyhook is in fact deemed not engineeringly feasible using presently available material Regarding In addition the rotating skyhook is in fact deemed not engineeringly feasible using presently available material That statement appears to come from Ref on page The full quote is If the mass of the tether alone started to exceed time the mass of the payload then that wa an indication the particular scenario being considered wa not engineeringly feasible using presently available material although the application might become feasible in the near future a better material become available with higher tensile strength at higher operational temperature It then go on to say As we shall see presently available commercial material will suffice to make the HASTOL tether needed The primary message we want to leave with the Reader is We don t need magic material like Buckminster Fuller carbon nanotube to make the space tether facility for a HASTOL system Existing material will do So it would appear that you misread your reference The tether mass of time mass of the payload mass is the upper limit to the problem Systems where the tether mass is le than time the payload mass can be built with presently available commercial material To further reinforce this the Conclusion to the report state The fundamental conclusion of the Phase I HASTOL study effort is that the concept is technically feasible We have evaluated a number of alternate system configuration that will allow hypersonic air breathing vehicle technology to be combined with orbiting spinning space tether technology to provide a method of moving payload from the surface of the Earth into Earth orbit For more than one HASTOL architecture concept we have developed a design solution using existing or near term technology We expect that a number of the other HASTOL architecture concept will prove similarly technically feasible when subjected to detailed design study The system are completely reusable and have the potential of drastically reducing the cost of Earth to orbit space access Regarding but the skyhook is not competitive with other rotating tether concept and A Boeing report on the possibillity of combining skyhook with hypersonic plane concluded that In general the non spinning tether HyperSkyhook concept doe not look competitive with the spinning tether concept The full quote is HyperSkyhook In Zubrin proposed the Hypersonic Skyhook a a solution to the mismatch between the attainable atmospheric speed of a hypersonic airplane and the orbital speed of space tether Since the orbital speed of the space tether decrease with increasing altitu',\n",
              " 'GET FUCKED UP GET FUCKEEED UP GOT A DRINK THAT YOU CANT PUT DOWN GET FUCK UP GET FUCKED UP I M FUCKED UP RIGHT NOW',\n",
              " 'Are you threatening me for disputing neutrality I know in your country it s quite common to bully your way through a discussion and push outcome you want But this is not Russia',\n",
              " 'Thanks Undeletion wa more than I d hoped for I m researching the status of Texas government including local government copyright status but it s slow going Apparently work of the Florida government are usually public domain but we don t have a similar article on Texas so I guess I ll have to research the old fashioned non lazy actually reliable way Or ask the copyright help desk like you suggested In the meantime I m using the fair use rationale since it s valid while the image is used in an article Thanks again',\n",
              " 'Awesome Then I ll simply disregard your notice Thanks',\n",
              " 'Stupid peace of shit stop deleting my stuff asshole go die and fall in a hole go to hell',\n",
              " 'Tony Sidaway is obviously a fistfuckee He love an arm up his as',\n",
              " 'GA Review II I m sorry to say this but I have to fail this article s GAN The several major problem that brought up in this article s previous GA assessment have not been issued As s he ha said before me he article s WP LEAD should be longer The History Media attention Academics Student Government Demographics Trivia and Additional Information section are very deficient in citiations Also Triva and Additional information should be integrated into the rest of the article Again please look over WP WIAGA and fix these problem then renominate it for GA class However I have re assessed this article a B class a it doe meet B class criterion My regard',\n",
              " 'My Band Page s deletion You thought I wa gone Deleting the comment I posted on your talk page doe not delete my feeling for your hasty decision to delete my page You sir are still a cock sucking douche fuck Sit back for a second and think about what your life ha become Done That didn t take long did it Nope Because a I am most certainly aware your life is a shitstorm of sitting in front of the computer masturbating to fictional creature Your attempt to get rid of me are mediocre at best You are constantly sucking the dick of failure You don t want a personal attack huh Well too bad Fuckcock McDickerson You ve got one From me You can go ahead and delete my profile from wikipedia I ll just make another one and come right back to Syrthiss s talk page and insult the dick off of you How could you shatter the dream of an innocent eighteen year old college freshman trying to make a name for his band Does that make you happy Fucking with people because you re an overweight single old man in a dead end job Did you spot that perhaps someone else wa going to follow his dream and you were trying to hold him back so somebody else could suffer like you Yes you did I don t make empty threat so I won t be saying anything along the line of i ll hurt you or i ll eat the child from within your sister s womb but I will say that you are a asshole son of a bitch mother fucking cock sucker So go eat some more food and drown your sorrow you premature ejaculating bald headed fuck You should do something nice for yourself maybe go grab a couple of Horny Goat Weeds from your local convenience store and jack off for a little longer than three minute tonight Sincerely An Asshole That s Better Than You In Every Way',\n",
              " 'Why can t you believe how fat Artie is Did you see him on his recent appearence on the Tonight Show with Jay Leno He look absolutely AWFUL If I had to put money on it I d say that Artie Lange is a can t miss candidate for the Dead pool Kindly keep your malicious finger off of my above comment Everytime you remove it I will repost it',\n",
              " 'Locking this page would also violate WP NEWBIES Whether you like it or not conservative are Wikipedians too',\n",
              " 'A Bisexual like a homosexual or a heterosexual is not defined by sexual activity Much like a year old boy who is attracted to a girl sexually but ha never had sex is still straight A person who is actually sexually attracted aroused by the same sex a well a the opposite sex is bisexual',\n",
              " 'REDIRECT Talk Frank Herbert Mason',\n",
              " 'Christian arab Hi Could you please stop enforcing the category Christian arab on non arabic Christians living in the middle east This is wrong We middle eastern Christians though not arab have gone through Arabization and that need to stop We are not arab We have our own ethnicity and we shouldn t be forced to be called Christian arab If a Christian European is born in the middle east should he be called a Christian arab because of that reason alone Please understand they are Syriac Christians i e of Assyrian ancestry and most of them speak Aramaic though a lot of them are forgetting it As someone who speaks Aramaic you should respect this fact and not appease muslim who want to call everyone arab just because they re in the middle east We are not closely related to the arab from Saudiarabia We have our own ethnicity please stop forcing upon u some alien arab ethnicity That s oppression Talk Jun UTC',\n",
              " 'DH Dude ABC officially say THIS is the name for that episode I do know there is already an episode with that name but ABC say it s Everybody s Says Don t',\n",
              " 'All of my edits are good Cunts like you who revert good edits because you re too stupid to understand how to write well and then revert other edits just because you ve decided to bear a playground grudge are the problem Maybe one day you ll realise the damage you did to a noble project',\n",
              " 'NeilN s bang on You aren t being harassed at all If you don t edit disruptively you don t get reverted Talk',\n",
              " 'I went there around the same time he did and that certainly wa not the case at the time Later on they stopped taking child from such a young age',\n",
              " 'There must be some chemical imbalance in your brain Are you ok The gibberish you guy are writing really make me feel sorry for you Don t ever go to law school You would do the legal profession bad',\n",
              " 'Parzival you are trying to scare ThAtSo How can you say that the comment of ThAtSo are insulting ThAtSo is trying to suggest that there should be no original research in the Wikipedia And he is right',\n",
              " 'Oppose As the article stand it doe not properly reference under the WP REFERENCE guideline If this issue is resolved I don t any issue with it being moved to the mainspace',\n",
              " 'I would appreciate an apology from both of you but I can see that is unlikely If not Please don t waste my time any longer with attempt at trying justify either your or Plasma Physics transgression toward me or bother me any longer about this issue and I SHALL LEAVE YOU ALONE and seek others here who deserve my considerate attention',\n",
              " 'They are NOT original research they are pointed in the episode',\n",
              " 'Ambiguous So Mabuska Irish can mean more than one thing I will qoute you on that Thanks Preceding unsigned comment added by Of course it can The word Irish wasn t invented on the establishment of the Irish Free State Talk Quote me all you want it depends on the context of the term when it being used a to whether it applicable or not Note how i said citizenship and ethnicity i never mentioned nationality which is the real key meaning The nationality meaning of the term is the predominantly used form on Wikipedia In nationality term it refers to the Republic of Ireland But you already know that i m sure talk In nationality term it refers to the Republic of Ireland no such country so nationality term it refers to Ireland Preceding unsigned comment added by Oh wow Ireland a in Ireland the state whose official description is the Republic of Ireland Whats the point in this inane conversation talk Ireland whose official name is Ireland Preceding unsigned comment added by http www constitution ie report ConstitutionofIreland pdf reading for you Also I see http www constitution ie report mbunreachtnaheireann pdf a you speak both Preceding unsigned comment added by',\n",
              " 'While the magazine s masthead say TIME the corporate name is Time Inc You can easily look this up On the other hand ABN AMRO is always the corporate name You can look this up a well',\n",
              " 'Take your belated and piffling prevarication elsewhere Too late for here',\n",
              " 'That s what I m looking through it look like he wa just being an all around dick on talk page though It s nothing too bad though look more like an inability to express himself properly Thank you for your concern also Cheers',\n",
              " 'In the same direction is it really necessary to name all the US state who recognize it Why not give just the number of state This is not an American encyclopedia but an universal one I don t see why every single US state which recognize it should be named ix',\n",
              " 'December UTC You must not play Metal Gear Solid that often GW is the Arsenal Gear A I that went haywire after Solid Snake uploaded Emma s virus',\n",
              " 'Hi I am back again Last warning Stop undoing my edits or die',\n",
              " 'Minimization of textile effluent A proposed deletion template ha been added to the article Minimization of textile effluent suggesting that it be deleted according to the proposed deletion process All contribution are appreciated but this article may not satisfy Wikipedia s criterion for inclusion and the deletion notice should explain why see also What Wikipedia is not and Wikipedia s deletion policy You may prevent the proposed deletion by removing the notice but please explain why you disagree with the proposed deletion in your edit summary or on it talk page Also please consider improving the article to address the issue raised Even though removing the deletion notice will prevent deletion through the proposed deletion process the article may still be deleted if it match any of the speedy deletion criterion or it can be sent to Articles for Deletion where it may be deleted if consensus to delete is reached If you agree with the deletion of the article and you are the only person who ha made substantial edits to the page please add to the top of Minimization of textile effluent',\n",
              " 'Is it scientific to attribute an event A to cause B where cause B wa deliberate designed with some sort of intelligent intent Don t answer the question beyond that Well the problem with not answering beyond that is that your example is completely rigged There are several major fundamental problem here First you completely fail to mention the fact that the intelligence behind ID is quite literally not of this earth Natural science might look at a honeycomb see it is built by bee and then find an odd looking fossilized honeycomb and theorize that it wa made by odd looking bee That is fundamentally different than saying it wa made by something not of this earth ID ha at it core the notion that something OUTSIDE the system we can observe is at cause here This is not science in any sense of the word it is mythology When Paul Bunyan wa having a wrestling match with babe his blue ox they kicked up so much dirt they created the great lake No evidence of paul and his ox remain i mean really Second natural science take an approach to knowledge that nothing is known scientific law unless it is irrefutable Theories must have heavy supporting empirical data to back it up ID turn this on it head and doe an end run around knowledge and play game with probability If no one can say how flagellum on bacteria could have formed naturally how in the hell can ID proponent come up with any sort of mathematically accurate PROBABILITY of flagellum naturally forming on bacteria If you don t understand it you can t do statistic on it ID jump right over that hurdle and take anything that doesn t have a complete detailed natural explanation and jam in their own statistic that say well it s so improbable for this to happen that someone MUST have designed it This is such a perversion of science You can assign probability to something you don t understand ID is just making up their number Finally your example ha A B where B wa deliberate design that s all well and good for a rigged example except that with respect to life on earth B is unknown Your A B example might qualify a forensic science if A were a dead body and B were a bullet in the heart You see a bunch of dead body with bullet through the heart the next time you see a body with a bullet through the heart you can probably figure that s what killed him You don t have that with life on earth You have ONE scenario A and you have no other case to observe or test So in that sense A B is not scientific if you ve never actually observed B btw B is teh intelligent designer which ha NEVER been observed So in that sense no it isn t science',\n",
              " 'Screwjob Hey i noticed your comment on the Montreal Screwjob discussion page I decided since nobody except someone with no account objected to what you said I would atleast change the page a little to make it fair I just wanted to tell you because I thought you would like to know I only changed a few word at the top of the first paragraph and added something to the second one If your not bothered thats fine but I thought since you were fighting for and nothing wa even said I might aswell tell you',\n",
              " 'April Thank you for experimenting with the page Andy Griffith on Wikipedia Your test worked and ha been reverted or removed Please use the sandbox for any other test you want to do Take a look at the welcome page if you would like to learn more about contributing to our encyclopedia',\n",
              " 'Christ IQ is selected for therefore every population ha the same IQ Never cease to amaze me',\n",
              " 'Can you prove it isn t If you had a better knowledge of the English language it would have been obvious to you',\n",
              " 'Would you both shut up you don t run wikipedia especially a stupid kid',\n",
              " 'Oh it s me vandalising xD See here Greetings',\n",
              " 'Website Hey all I wa thinking of getting myself a website to display my picture and this wa the cheapest thing I could find I don t know about others but Fir and Diliff you guy have website do you think it is legit Could you provide any better alternative Help from any other guild member is also appreciated Thanks talk',\n",
              " 'Thanks reading there now',\n",
              " 'Personal attack in Fruit Brute VfD My apology if I m being to critical but I feel that many of the comment made in the Fruit Brute VfD debate were far from reasonable There had to be a more diplomatic way to disagree with s assertion on the initial sentence than don t lie it make you look even more juvenile Learn to face up to when you ve goofed it will go a long way in your life The attack do to his age certainly border on a personal attack Were Bart forty sixty or eighty would you have included the comment on how juvenile he is I don t expect you to apologise to anyone but I want to make it clear that I consider your comment in this VfD debate inappropriate and I think their are many member of the community who would agree with me talk Feb UTC',\n",
              " 'Transliteration of Russian place name In writing about Moscow Metro for the Malayalam Wikipedia we are finding it difficult to correctly transliterate the Russian place name For example do we pronounce Park Kultury a PAARK KALTTARI or PAARK KALCHCHARI or perhaps something completely different Can somebody please help by transliterating the list given in http ml wikipedia org wiki I am not putting the list here a I don t want to clutter up this page Thanks',\n",
              " 'Almost got me too I had to look it up to see if it wa real talk',\n",
              " 'How can one defame someone who think the Fort Hood Shooting is justified by God s law',\n",
              " 'LACK OF BALANCE This article is seriously out of balance It would benefit greatly from the introduction of additional information about the negative aspect of the T Just for the record this sort of balance problem is not uncommon when there is an over dependence on the work of a particular author For example testing and evaluation of a T by the US Army Ordnance Dept exposed some very serious problem with the tank This type of information should be included in the article to bring it back into balance',\n",
              " 'Thanks I can see that violating clearly stated Wikipedia policy is no problem with some people a is now being reviewed elsewhere Finishing up one other wiki project todsy and then spending the rest of the day on an important personal blog entry Then I ll go find other discussion of James Petras fascinating discussion of the use of the term Jewish Lobby so that I don t have to put back up the deleted Dissident Voice article right away per Talk Jewish lobby WP V comparing Jewish Virtual Library and Dissident Voice Carol Moore talk',\n",
              " 'Hi Thanks for our kind word See you around Talk',\n",
              " 'Collusion in poker This is regarded a most heinous form of cheating in poker perhaps some mention of this or example is warranted',\n",
              " 'Thanks much however if it s been resolved why is it that today when I didn t write anything in edit summary CAMERA put it ad in my edit summary box equalvoice talk',\n",
              " 'You can do all you re doing right now but if you get a username you ll be able to do more and have more impact is what I m saying And you seem to be very familiar with everything so you probably have a username Just get one it take second talk contribs',\n",
              " 'However the Moonlite edit noted by golden daph wa me on optus Wake up wikkis So funny',\n",
              " 'Check the following website http www iranchamber com personality farabi farabi php http www islam org br C A al farabi htm http www superbeyin com sohbet sohbet htm',\n",
              " 'i can t believe no one ha already put up this page Dilbert s Desktop Games so I did',\n",
              " 'Well after I asked you to provide the diffs within one hour of your next edit here you made an edit to your talk page here and then did not provide the diffs I requested within one hour of that edit I then sanctioned you for failing to provide the requested diffs in a timely manner which after more than a week you have still not done Consequently your request to lift the sanction is denied',\n",
              " 'What page shoudld there be for important character that DON T reoccur Void Black Doom Mephiles etc',\n",
              " 'A pair of jew hating weiner nazi schmuck',\n",
              " 'I tend to think that when the list is longer than the rest of the article there s a problem Either the history and characteristic should be expanded of the list should be culled I personally like the consensus that wa reached in the Tripel article between and others myself included We decided that the country of origin should be highlighted with the most example There we did Trappist Abbey and Foreign Foreign includes all non Belgium example This way the article is an article in an encyclopedia not a list People can find list anywhere and the article should reference this Also the style statistic are bad When you say style statistic it sound like a prescription not a description An encyclopedia should follow the latter and if the former is used a citation should follow And you ll not find a valid one for this style in it s country of origin',\n",
              " 'What s up with this If you are a religiously or politically motivated to push this or that issue please refrain from talking on my page I am not interested Otherwise feel free to talk about relevant edits here or science Deleet talk I would prefer if the following user never post here Maunus aunus snun w WeijiBaikeBianji This guy is a published psychology researcher right Perhaps he doesn t know you have access to library and the best source You should point that out more often It doesn t come across a mind bendingly condescending Also I suspect that editor is a racist See you on the wiki',\n",
              " 'I m not vandalizing I m just having fun man you have no sense of humor if you think I m vandalizing stuff lemonparty org this site now',\n",
              " 'Welcome to Wikipedia bla Discover Ekopedia the practical encyclopedia about alternative life technique bla Discover Ekopedia the practical encyclopedia about alternative life technique',\n",
              " 'Including some appropriate mention of the Solomon article is not without some level of support',\n",
              " 'Comment I could not verify the claim talk',\n",
              " 'Czech Republic is in Central Europe The state of this article is part of the reason why people are making such confusion Especially more ridiculous is that they you would replace the mention of North Caucasus in favor of north slope of Caucasus Mountains which isnt even a geographical area other than denoting the mountain in that region Countries are located within continent yet for some reason you refuse to allow this article to be denoted a continent This single factor alone would have made a massive difference for reader I m tired of arguing with people who are essentially wiki squatter refusing to nudge on a given article',\n",
              " 'Thanks Josette I enjoyed meeting you too I wa shocked by the decision which doe not begin to reflect consensus Does just one Grand Poobah make it alone Serves me right for stealing time from more pressing real world duty to indulge in a fun hobby I ve learned my lesson and won t waste time like that again I ll stick to fixing the little thing I run across a I read article for my own information',\n",
              " 'Paleontologists agree that organic remains must be buried quickly so they can be preserved long enough to be come fossilized However the term fossilized is not a very precise term There are several factor and metamorphic mineral process which occur to organic remains that result in what is typically called a fossil One major factor concern what kind of organism are to be fossilized vertebrate invertebrate radiolarian sponge plant pollen foot print etc And multiple process may include permineralization recrystalization carbonization replacement dissolving diagenesis etc Talking about fossilization is a complex issue however quick burial is not questioned The major question is how long doe it take for these process to work on organic reamins in the environment they are found in Experimental taphonomy ha resulted in an assortment of remains becoming fossilized by various process in the lab which of course implies that given the right condition vast age are not an issue The metamorphic process are ongoing until an equilibrium is met between the chemical enviroument of the burial site and the mineral of the organic remains Flood catastrophic geologist do not expect that organic remains buried during the flood were completely fossilized within the one year period of the flood but rather that there ha been some year for the process to have been working Much more work need to be done on the taphonomy of organic remains Yet how one interprets even those result will depend upon which world view you choose to believe with',\n",
              " 'Also I think Vegetable Basket need it s own Wikipedia page',\n",
              " 'Bigfoot Reference The magazine is better known a just the Engineering and Mining Journal which you may have a difficult time finding depending on where you live I ran across the article a few year ago while researching something else and made a copy It is clearly derived from press account and treat the incident a a joke My whole point in citing it wa to show that the incident whatever it wa wa not entirely created year after the fact If you leave me your email I will scan the page and email you a PDF',\n",
              " 'Also see this if you cant trust Murkoth Ramunni http book google com book id HHev U GfpEC pg PA dq Thiyya matrilineal hl en sa X ei TlpPUd aH mWiQLgvIDgBA ved CDYQ AEwAQ v onepage q Thiyya matrilineal f false',\n",
              " 'Chart performance of Single Ladies Put a Ring on It Please take my advice and split up the paragraph in the section FAs generally have short paragraph It s hard and boring to ingest so much information at once so splitting the paragraph will improve the flow TALK',\n",
              " 'hahahaha good one I have removed it',\n",
              " 'Having said that I ve temporarily removed my request based on Cyde s advice pending a request for consensus i ve asked for on the talk page I urge anyone reading this to vote so we all know what the community want',\n",
              " 'Conformity a healthy I may have missed it but this article doe not seem to address conformity a just a healthy behaviour Such a the way that we conform to grammar so that we can be understood or that we conform to law because we recognise a need for an orderly society',\n",
              " 'Hi I am new to wikipedia Read up on pandemic today I am impressed by the quality of information to my knowledge not easily available elsewhere in the same easily accessible format Thank you all of you for creating this content and making it accessible',\n",
              " 'Should say something about his view a an educationalist and socialist political commentator Link to http www langandlit ualberta ca Fall SteigelBainbridge html mention this a bit he stood a an election candidate for Respect',\n",
              " 'Sandbox Don t take the template out of the sandbox It say don t remove for a reason Jan UTC',\n",
              " 'heh it s a bit of a copy of Wikipedia WikiProject Professional wrestling but I thought it look a bit tidy and better that way',\n",
              " 'Ahh Hello Witzeman Symbols m m Characters Greek Cyrillic IPA t d My Famous Article witze happiness wikipedia The Witzeman is a great honour that ha been passed down through the generation of many family regardless of race age character or knowledge The outside world know little about these elusive character and the honour of the Witzeman For those who have ever been a Witzeman it ha been said to have been a great honour although the quality needed for the job have never been disclosed A person may not now they were a Witzeman for many year until they are called by former Witzemans via dream Associates of the Witzeman are known to be a certain Babe Cool or the much lesser known Witzewoman The Present Witzeman is an year old boy namely Benjamin Woods who is said to have become a Witzeman after he felt this awesome radiance in his top right bumcheek He ha not told a great number of people his testimony but ha promised to do so in year to come History The present world ha only come enlightned with the knowledge of the Witzeman in present year because former Witzemen have not been so public about the honour to abide with the formality and conservativism in their time The term Witzeman is a compound word of the adjective Witze and man witze being an th century term for a person of extreme humour and radiant intelligence Unfortuneatly Witze is also sometimes associated with bad wind for unspeakable reason Proper History As early a the th century Witzemen were considered outcast and young child were encouraged to poke them with stick This led to the st Witzeman Rebellion of when the current Witzeman and his follower attempted a coup to take over the local Council chess team This rebellion further disgraced the Witzeman a he and his follower were embarassingly pronounced gaga at a Government meeting that year The period from here to the early s wa a dark time in the Witzemans history However good time were to come for the Witzeman Many normal people took part in mass demonstration and protest for the Witzeman in the s building up to a great moment in the history the Great Rebellion of This wa when several Witzeman sprinted round the Visitors Gallery of the House of Commons wearing clown mask but otherwise completely naked This wa thought to be an act of circambulation However many people who witnessed this shocking behaviour were mentally spiritually and emotionallly scarred for life This group of people included many young child who were forced to go to asylum in a state of mental instability suffering from trauma It wa at this time that the Government finally took positive action for the Witzeman In a bill of right for the Witzeman wa signed stating all Witzemen were allowed to do a they pleased Although this wa a formal agreement many journalist viewed it a a letter of submission from the Government to the Witzeman a the behaviour of the Witzeman and his follower became more and more twisted',\n",
              " 'OK just finished my planned cleanup of the todo page The entry that were removed were copied to the investigated entry page so we have a record that we looked at them talk',\n",
              " 'On Dec a NIST scientist said the collapse of the tower were not of any magnitude that wa seismically significant See Dr Wood s The Scientific Method Applied to the Thermite Hypothesis paper on her tripod site for mp link',\n",
              " 'The statement drawn from Watchtower literature honestly not clandescently not with hypocrisy is drawn from Watchtower literature via Ray Franz s argument and literature and imposed into the Wikipedia article It s too much of a coincidence that a more or le follower of Ray Franz is going to come up with a reference to Wa literature on his own exactly the same connection Ray Franz make without having first seen the connection made in Ray Franz literature Natural Nature',\n",
              " 'Sorry about that I had checked but had only come up with Dulas Bay Somehow I had missed the Dulas disambiguation page completely Apologies again it s not even a if it wa getting particularly late at night The onset of swine flu perhaps',\n",
              " 'TCM I can find no evidence that acupressure is a TCM rather than derived from TCM If no one object I ll place a citation note in the article',\n",
              " 'Well it still need expansion in area citation in others more image wa going to get a pic of the Stanley Cup banner tonight at the Hitmen game but forgot my camera and a thorough review copy edit by someone with a better flair for word than I but work progress lute',\n",
              " 'A redirect somewhere couldn t hurt though I still don t think any o the candidate are ideal But then if he pass the notability threshold some day the basic material is still there to work with',\n",
              " 'Meivazhi I ve had a go at restarting the Meivazhi article in a style that s more standard for Wikipedia article Someone would probably have deleted it pretty quickly if it had stayed in the form you posted I d be grateful if you could help at Talk Meivazhi about the accuracy Unfortunately I had to remove your link The conflict of interest guideline advise against editor linking to their own site and also Wikipedia s attribution policy WP ATT requires that information should come from third party published source rather than personal website Do you know of any good newspaper book account of Meivazhi PS What is the salaimanimudi indlist com site A personal site by a member',\n",
              " 'Though this is certainly a small article but it is not so inconsequential a to warrant subsuming it within the Flame Trees article It is a discography article and should stand alone May',\n",
              " 'Yeah let s merge the content Not sure if Devil s Canyon is the same type of codename',\n",
              " 'Image YourTransitAd jpg I think I may be able to get a better photo of this ad If I m able to do that is it okay if I use it to replace this current one I want to check with you first before doing anything',\n",
              " 'A cookie for you A cookie for you',\n",
              " 'LMAO what a n b Go and listen to manele',\n",
              " 'December UTC Yep LOL the Reformist Party Serbia Reformist Party is having another go the th very last on the parliamentary election winning le vote than notable to actually be mentioned By the way here s something very little people have figured out the new Constitution of Serbia ha been brought to enable Kosovo secession The Constitution barred that a a possibility and after the Kumanovo Military Technical Agreement wa signed between NATO and FRY the SRS broke it coalition with SPS and the government collapsed causing new election because that wa unconstitutional a an act of highest treason enough to be tried from maximum sentence which the Radicals demanded from then to his death to have a trial in Serbia and to be tried for treason among other reason This constitution release the authority from that weight and they won t have to go to prison if they recognize any form of further loss of sovereignty in Kosovo',\n",
              " 'New WikiProject Novels initiative We have begun a new initiative at the WikiProject Novels an improvement drive As a member listed here you are being notified Please see Wikipedia talk WikiProject Novels Improvement Drive and Wikipedia WikiProject Novels Collaboration for more detail Also I would like to remind you to keep an eye on the project talk page at Wikipedia talk WikiProject Novels Thanks',\n",
              " 'Reply Are you being facetious if not you would have relayed the same message to Jza and MRSC a my word were no more stern than there If you would like evidence for any of the claim made on the talk then I will only be too glad to provide You also failed to provide diffs in your message to me in regard to which word you re claiming are offesive perhaps WP Assume good faith The two user constantly harass and follow me to article making disruptive edits in violation of numerous Wikipedia guideline WP HARASS is just one For example the removal of third party reference from article which don t suit their POV without entering an edit summary considered by Wikipedia guideline a bad faith and a violation of WP BLANK The violation of WP NEO by adding derogatory neologism to the article of organisation who they do not personally agree with despite being made aware of the policy despite not having any reference to the said organisation being described with said neologislm and despite the community majority constantly removing the derogatory term The same tag team practise can be shown to be used against numerous other editor who edit article on British culture and trad county not just against me Again if you would like evidence just ask It would seem however looking at the message on your talkpage above especially the lovely intertude under UK mediation section that Jza messaged you somebody he seems very familiar with in violation of WP CANVAS Specifically the section on Wikipedia CANVAS Campaigning may interest you If you re going to be an admin may I suggest you please make yourself familiar with the policy and guideline I have referenced in this message Rather than accusing me a user who is being cyberstalked of personal attack Systematic bias is not acceptable you re here to make sure that our policy are upheld not to chip in for the sake of a friend Thanks',\n",
              " 'P S It s not polite to talk to people behind their back please remove your comment from Mrph s talk page Vaughan You re right I went to check your previous edit and found a page on the Marvel site that spelled it Vaughn but now I am finding many more that spell it correctly Thanks for the edits',\n",
              " 'The Block Hi just wondering if it ha been confirmed the Darren Jolly will be a contestant on The Block Thanks',\n",
              " 'Opinion Please Pt II As SRQ continues to make personal remark after she said she wouldn t may I assume you will help me with a WP RFC U Also I believe she ha violated the RR rule today Edit warring over one accurate word is ridiculous a is edit warring in general Let s make it stop May I also ask what wa wrong with the honest statement I made on talk page and what you mean by hasty refactoring I appreciate any assistance and welcome any question BTW when do pivotal accurate well referenced entry become peacock My understanding is that it refers to unneceessary editorializing not to precise vital info in the sequence of event Thanks',\n",
              " 'Azari or Azerbaijani Azari iranian azerbaijani turkic nation',\n",
              " 'Userbox Hello A userbox you are using Template User queerrights ha been moved to user space per WP GUS The new link is and leave any question you may still have on my talk page Thank you',\n",
              " 'If you actually take the time to do a little bit of research Bloodofox instead of jumping into what you perceive to be an avenue to pursue your vendetta against me you d have realised by now a would your colleague Kiyoweap that in all probability the kelpie water horse each uisge just different term in used in different place for the same entity Which is why I challenged Kiyoweap to produce something decent on the each uisge which I guarantee he ll be unable to do Corbett',\n",
              " 'From what I ve seen with editor other than Eric the elephant in the room is the issue of baiting poking the bear whatever the hell you want to call passive aggressive baiting No one want to touch that one even though it s uncivil a hell and appears to be the tactic of choice whenever someone want to get rid of someone or get their way That s the part that saddens me darkness',\n",
              " 'Socialistm There are two important feature of Smith s concept of the invisible hand First Smith wa not advocating a social policy that people should act in their own self interest but rather wa describing an observed economic reality that people do act in their own interest Second Smith wa not claiming that all self interest ha beneficial effect on the community He did not argue that self interest is always good he merely argued against the view that self interest is necessarily bad It is worth noting that upon his death Smith left much of his personal wealth to charity Good Let s all make sure we put forth the idea that Adam Smith wa a socialist That s the wikipedia way',\n",
              " 'SORRY PUCK BUT NO ONE EVER SAID DICK WAS NUMBER ONE But he is clearly listed a being second only to Batman and a master detective and martial artist and been trained in all the mentioned combat discplines No need to mention in skill ability about the battle he s lost and won because thats not what an encylopia is supposed to do Also what your problem is your going by low end showing and not HIGH end showing where he s proven more than a match for a meta like Slade and pinned Shiva down in one of his earliest appearences',\n",
              " 'The Alpha version had multiplayer The Beta version did not',\n",
              " 'PD I just have seen that apart from the article Coat of arm of the Sahrawi Arab Democratic Republic there is also a different article named Coat of arm of Western Sahara That show clearly that some user here have politically driven intention and bad faith although they claim to be neutral If they were neutral logically they would work on the Coat of arm of Western Sahara article intead of trying to merge the two article and messing it',\n",
              " 'We are not treating this a a forum A question arose and wa appropriately answered End of story',\n",
              " 'Military history WikiProject Newsletter Issue II The April issue of the project newsletter is now out You may read this issue or change the format in which future issue will be delivered to you by following the link Thanks',\n",
              " 'Between the unblock submission and response there is le that minute which prof that this administrator did not pay enough attention to this case',\n",
              " 'Your request to be unblocked ha been granted for the following reason s Allowing username change to GianLuigiPalermo Please put this request in at Wikipedia Changing username a soon a possible to avoid re blocking Request handled by Unblocking administrator Please check for active autoblocks on this user after accepting the unblock request',\n",
              " 'Once again I responded to MileMoney s reasoning for his edit and I gave my reasoning for my edit Yes it is absolutely relevant to this page There are other place for the discussion on income inequality than in the Progressive Tax article',\n",
              " 'UNBLOCK ME OR I LL GET MY LAWYERS ON TO YOU FOR BLOCKING MY CONSTITUTIONAL RIGHT TO FREE SPEECH',\n",
              " 'Attributing and classifying of personality Invitation Your input to Culture of Lithuania is welcomed Some problem of defining personality or attributing them to certain well known ideological system may raise here I propose a quite liberal variant of it where definition may not be connected with one certain word Necessity however to follow certain classifying remains My initial idea on this branch the one concerning period of Lithuanian national Renaissance period Some artist writer or other cultural worker of this period are often described a modernist This definition is not false but some more concrete thing should be added some specific of Lithuania We should distinguish leading idea of the Nat Renaissance from later modernism which is more known for u Cultural aspiration of the later Nat Ren may be defined a modernism in a cultural context of Lithuania But they accented also expression of Lithuanian cultural heritage and their expression may be seen a something simply typically Lithuanian I mean that such author in a iurlionis is seen a modernist in Lithuanian context but it also and even more is a representative of Lithuanian culture when in European or World wide context A parallel example may be taken from literature of India Poet Tagore well known Nobel price winner is known for u a a representative of culture of India Making India more understandable and closer for western people is concerned a main his input to Western culture But in his own country he wa seen a a modernist too who wa changing traditional cultural form especially stagnated one This way also Lithuanian cultural leader of the N Ren could be seen a modernist which were broadening cultural form and changing stagnated one in Lithuanian context They also can be seen a modernist in a wider context but more for acquainting Western people with Lithuanian culture than for their direct input into Western culture iurlionis is the best example here In other way the later Lithuanian modernist they depended mostly to later generation approximately from th decade of the th century concerned themselves part of Western modernistic movement and their main purpose looking generally wa to introduce Western European idea into Lithuanian cultural life see the table below We see two different movement and two different world outlook here The problem is that both movement collaborated especially their political wing did and interchange of idea between them is well seen So many researcher don t pay attention to this difference Especially in the Soviet period when national idea were officially forbidden mixture in description of these movement wa allowed E g philosopher Ram na Bytautas who clearly depends to the first generation is often described a liberal And it may be understood in a sense of the second generation a idea of liberalism period and generation artist writer philosopher etc in a context of Lithuania in an European context The National Renaissance period the younger generation approx painter and composer iurlionis painter Kazys imonis poet and philosopher Vilius Storastas Vyd na dramatist Sofija Kymantait iurlionien poet Adomas Jak ta Motiejus Gustaitis Liudas Gira composer Stasys imkus philosopher Ram na Bytautas reformer and innovator of Lithuanian culture Representatives of Lithuanian culture almost unknown before them The period between WWI and WWII and post war year poet V Mykolaitis Putinas Kazys Binkis writer Ignas einius Jurk na artist all ar group philosopher Juozas Girnius Modernists introducing new Western idea into Lithuanian cultural life Central European modernism Note Lists of personality isn t complete here nor it s made precisely by prominence Jul UTC',\n",
              " 'Actually direct quote that aren t in quotation mark and aren t attributed are generally known a plagiarism and or copyright infringement But the NYT material isn t the issue a you well know The material from the Jewish Action Taskforce is the problem',\n",
              " 'Katelyn Faber Could you weigh in at the bottom of the Talk Page for Katelyn Faber regarding the inclusion of an image of her Template User Totalbox Thanks for reverting Esperanza Newsletter Issue style border spacing px margin px px width class MainPageBG style width border px solid cef e background color f fffa vertical align top color Reach outReach out is a program aimed at allowing user to bring issue that they have had in Wikipedia to a listening sympathetic and caring audience No one can know how we feel if we do not say We can not expect to get understanding if we do not ask for it No one will dispute that sometimes life s issue are too much for one person It is fair to say that sometimes Wikipedia s problem fall under the same heading This is a place where you can bring the bruise that can sometimes be got on this project for attention Stress AlertsThe Stress alert program aim at identifying user who are stressed alerting the community of thier stress and work in tandem with the Stressbusters at trying to identify cause of stress and eliminating them Note from the editorWelcome to this new format of the Esperanza Newsletter which came about during the last Advisory Council meeting we hope you like it The major change are that each month right after the Council meeting this will be sent out and will include two featured program and a sum up of the meeting Also it will be signed by all of the Advisory Council member not just Have an Esperanzial end of March everyone class MainPageBG style width border px solid cedff background color f faff vertical align top width cellpadding cellspacing style vertical align top background color f faff The last AC meeting full log style color Future meeting are to be held monthly not fortnightly a before Bans and Access level change apart from autovoice in the IRC channel are to be reported at the new log In the IRC channel there is going to be only one bot at a time The charter requires member to have edits and week editing Why this is the case will be clarified A new Code of Conduct will be drafted by and proposed to the Esperanza community The NPA reform idea is to be dropped officially Charter ammendments are to be discussed in future not voted on The Advisory Council is not going to be proposed to be expanded by the Advisory Council themselves if others want to propose it they will listen',\n",
              " 'Fradulent claim I am most certainly not a sockpuppet of TheChief please retract your fradulent claim at once',\n",
              " 'That is quick if we only limit the discussion for changing the title but considering the previous discussion for month can have a valid reason for the move',\n",
              " 'July UTC P S Feel free to leave a message on my talk page if you need help with anything or simply wish to say hello',\n",
              " 'And of course Peiser is more than just a social anthropologist He s one whose recent research ha focused primarily on the social aspect of climate change and is thus at least a qualified to comment on the state of consensus a a historian Regarding his study it hasn t been published in a peer reviewed journal but the result have appeared in many reliable source In effect it should be treated no differently than a if Peiser himself or any other scientist had verbally relayed the conclusion directly to a reporter Literally ten of thousand of Wiki article contain such reference direct quote from scientist which appear in no other source but through the medium of a reputable reporter',\n",
              " 'Hi Hi good day My deepest apology that I had made the change I had made the change it wa because I wa there On the day I wa there on the day when they are all line up the most straightest one straight line the most biggest the most brightest and highest star in the sky over my head when the clock strike exactly at the noon on that day The date which I provided It wa the most beautiful thing I ever see I know many thing need prove but I know what I saw that day It is up to you now but it wa okay if black and white prove to be needed I don t have any My sincere apology for the trouble I had cause you I am from south east Asia I m a Asia and I came from a very traditional Chinese family have a pleasant day',\n",
              " 'You should be fired you re a moronic wimp who is too lazy to do research It make me sick that people like you exist in this world',\n",
              " 'It look to me like he is violating WP NPA but it s pretty minor I ll point this out to him and if you two are having a content conflict then you can try the Mediation Cabal By the way it s generally easier to sign with than typing out Have a stop by in the IRC channel if you want further advice by the way Talk',\n",
              " 'A pat on the head KC you are one of the most dedicated Wikipedians I know and I m madly in love with you I d give you a Barnstar but in the end you d just chew it up and bury it Instead let me offer this metaphorical pat on the head That ll do Pup that ll do see you around Tropics',\n",
              " 'Note that the Sandbox is the right place to experment Thanks',\n",
              " 'friesers opinion is simple i guess kursk wa no turning point german were on retreat before and after i think he correct russian had more personnel before and after they improved their skill glantz this in combination forced german to retreat only the loss were not the problem after the battle of kursk the tank and infantry strenghts were more in favor for german then before some week after kursk german tank strenghters were higher than before kursk zetterling',\n",
              " 'Oh I didn t know thanks',\n",
              " 'Lois Roisman Your piece on Lois Roisman omitted much of her background and everything to do with her death I have updated it Please review if there s anything you want to add',\n",
              " 'know the sex of the foetus',\n",
              " 'I think that your a Fagget get a oife and burn in Hell I hate you m sorry we cant have any more sex i m running out of conndoms',\n",
              " 'May',\n",
              " 'Sorry the link you gave me is dead And I formatted in harvnb so plz help in that matter',\n",
              " 'REPLY ABOVE That wa me loser The UN defines Vietnam to be part of Southeast Asia And far a I know Vietnam is part of ASEAN and used to be part of French Indochina with Laos and all those shit country Anyway your culture ha always been more influenced by SEA than Han Chinese a in proper Yangtze Han Chinese not the fringe indigenous tribe in Guangzhou Guangxi Just admit that you vietnamese are all a bunch of wannabe crap people ALL the east asian people I ve spoken to think of Vietnam a a very integral part of SEA and we all think you re backward dirty and speak in a horrible swearing language Doesn t matter what crap you spout on Wikipedia won t change the way people in the real world think',\n",
              " 'August wow i understand that the sentance I added wa not crucial and really doe not change the content But what is this ha the community not gotten smaller wa it not caused by the automobile have I not sourced the statement a asked is it not a fact is it not information doe it not help inform people a to why forester fall is not a large a it seemingly once wa is it not the only peice of information in the article that bridge the span of time between and present is the usfullness of the edit the only criterion used to determine if it will be reverted or not if so it should be noted that I simply re added the information after it wa removed wa not the removal frivilous and unwarranted what is the problem why insist on the absence of this statement it is unjustifiable it is negligible I am re adding the information a it is A factual B sourced and C informative I assume that since there is no reason to remove it again or in the first place that you and all other Wiki Nazis will relax If you are concerned with useless edits please see the edit fom the th I know it wa carried out by the great infallable Mindmatrix but imho that wa the first useless change',\n",
              " 'you are a stupid fuck and your mother s cunt stink',\n",
              " 'ETA John D Haynes House SarekOfVulcan talk',\n",
              " 'new userbox TABTAB id TABTAB id c White TABTAB info This user is a faggot TABTAB info c LightBlue TABTAB border c Black TABTAB usercategory LGBT Wikipedians TABTAB nocat TABTAB TABTAB TABTAB This template automatically categorizes the user in LGBT',\n",
              " 'December UTC Mendel doesn t talk about those change at all Mendel wa refering to the Conspiracy section that used to be there',\n",
              " 'Please do not vandalize page a you did with this edit to Budweiser Anheuser Busch If you continue to do so you will be blocked from editing echo',\n",
              " 'Correct Dead is dead There are however leves of wound hence the emphasis when they are serious This is not a POV adjective',\n",
              " 'I fixed the pic if anyone still feel that it should move it can be done THE VOICES',\n",
              " 'George W Bush approval rating graph http upload wikimedia org wikipedia common George W Bush approval rating with event svg The circle for the September th attack look too far right Think you could update it Why are the data point post omitted',\n",
              " 'Sorry to interrupt but I m at edits now the first were likely just on my own page and because I wa asking for help so much so maybe just or maybe le but it still kind of count Amulet',\n",
              " 'Absolutely use of that word is strongly misleading even with like The structure had nothing to do with mastaba a burial chamber basicly Mastaba by definition ha entran ceinner space This structure wa one solid pile of rock with no inner space or entrance It wa ment a a wall fragment',\n",
              " 'I just noticed that the neutrality of this article is disputed not by me In light of that I again ask that my post here and my invitation to discus how and whether neutrality can be achieved not be deleted It is highly relevant and relatively urgent bearing in mind the rule that there are no emergency on Wikipedia in time convergence on Truth will be achieved',\n",
              " 'editor don t care about your explanation if they re not accompanied by reliable published source I could explain why I thought dog ate cat but I would get the same reception if I didn t provide source Stop edit warring and present source talk to me',\n",
              " 'About Mitch moved to Yggdrasill I have no idea it wasn t me on doing that',\n",
              " 'Sockpuppets and impersonator The two above sockpuppet impersonator account including',\n",
              " 'Oh also wouldn t film that are named Three or some variation thereof be listed on the disambig page and not on here JUST WONDERING BECAUSE IT MAKES MUCH MORE SENSE TO ME I apologize in advance for certain individual who are too sensitive to hear the truth',\n",
              " 'Review Request Hi I d like to request KLM for a GA class review Can anyone do that It seems to have many similar stuff to other GA s such a Kenya Airways and Ethiopian Airlines Cheers BreaksFixes',\n",
              " 'I don t at all propose that it should be transcribed a me n in this or any other article If anything at all just a brief mention of the raising of TRAP and MOUTH in a pre nasal environment would suffice I just thought it wa an American thing to raise before nasal I do it myself but I often hear Aussies do it quite a bit a well and I don t hear English people do it at all The only difference is that Americans have a tendency to diphthongize it a well a raising it I m not really surprised you don t have a broad accent being a Wikipedian I m not saying it s not possible You re right I wa just kind of thinking aloud',\n",
              " 'Homosexuals are intent on legitimizing their behavior Therefore they will seize any opportunity to suggest that famous person are gay In this way their way of life will be received a being not only harmless but perfectly normal As generation of people grow from childhood to maturity and are exposed to this strategy they increasingly develop a tolerance for homosexuality In this way it is now almost universally accepted a a diverse or alternate behavior or way of being similar to a religion race or nationality Lestrade',\n",
              " 'Al Messier This article wa a non notable biography according to the criterion set out in WP BIO aeropagitica',\n",
              " 'Link to Sacramento I placed a wikipedia link in this article where the word Sacramento appears Another editor who appears to be stalking me and is reverting everything that I do claim that I am overlinking by doing this I have read the policy and think I understand it and I disagree with him The word Sacramento wa not linked anywhere else in this article before I made the link and I think that my link provided good context for a reader who did not know Walnut Creek but thought that maybe they knew Sacramento Was there anything wrong with my link I would like someone objective to give their opinion',\n",
              " 'Your blatant POV pushing Neither of you guy ha made any contribution to this Italian history article other than to shove your unhistorical unconstructive modern POV in my face This is a HISTORY article HISTORY Have you heard of that This is the reason why so many people get pissed off about the pedantry and idiocy and triviality of Wikipedia J sus Get a f cking life',\n",
              " 'Reliable source indicate otherwise Please do not insert your personal analysis into the article talk',\n",
              " 'I did research thank you very much and it is not in the relevance of the article I think you may have to reseacrh WP EL to amke sure you realise the fact about why these link are being deleted I am willing to agree with people that only the official site should be there therefore I shall delete the game site and the otehrs now',\n",
              " 'A TotallyDisputed notice would probably be appropriate given the depth of disagreement that exists here but I can not understand why highlighting statement identified by some a dubious would constitute disfiguring the article SlimVirgin ha also used that wording recently but I rather think that inaccurate and irrelevant information is more of a disfigurement than is a template notice To answer your second question my side ha brought forward a proposal and the other side ha not yet responded This is sadly consistent with recent pattern of delay I ll make no comment on whether or not this is a deliberate strategy',\n",
              " 'I ve abused NOTHING Your threat are extremely disrespectful to the rule of Wikipedia All I have ever done is tried to improve the quality of Wikipedia article and maintain the standard of quality I should NOT be treated like a vandal who only registered to muck up article My account should not be blocked I should be an administrator',\n",
              " 'Give me a permanat block raseac remember me Muslims dont you worry for these image they are trying to hurt u but they cant look these image are fake and have nothing to do with Islam or our prophet even their article is so lame wikipedia is not an authentic source it an encyclopedia for the kid which ha not authenticity anyone can edit or write whatever they think just like raeasc you can see he doe not know what Islam is and he talk about it so forget about wiki it lame they have no authenticity i recommend they should add pissed christ in jessus article they should',\n",
              " 'Invite Hi I still did not have time to write the article about the fundamental of the Romani culture and society that would have permitted a normal presentation beyond the stereotype I hope in the near future I ll manage to do it From the last discussion I just managed to organize better Category Romani people by country and Category Romani people by occupation and create some more article about Romani person',\n",
              " 'I asked him a question about recall maybe that would make you le troubled account',\n",
              " 'say no consensus wa ever reached a he reverted my edits here',\n",
              " 'I FIND IT DIFFICULT TO CONTROL MY EMOTIONS and I still feel that Mr Logy Wogy wa bad',\n",
              " 'Fuck you block me you faggot pussy',\n",
              " 'Attacking another editor How I am trying to make a point about how easy it is to edit Wikipedia and his piece on George Orwell s page proved my point It is common place for Wikipedians to help each other make better and a lot lesser bias edits and that is all i wa trying to do So if you wouldn t mind please could you remove that warning',\n",
              " 'Please see ref of this article mentioned by Wikipedia for Youngest Patent holder of India Moreover I mentioned about news latest book about real life hero by providing notable reliable reference Do not you feel DNA group is reliable notable reference a Its page exists on Wikipedia Do you really believe that what ever or who so ever provide information for this article is having bad intention In your word sock meatpuppets Did i asked suggested anything from you to edit or write I am a free man to send information You are a free person to analyse it Are you above Wikipedia When ref of this article mentioned by Wikipedia for Youngest Patent holder of India for the subject Why you speak in bad word Your word verbatim Any book or review which repeat the India s youngest patent holder and the youngest disabled patent holder in the world claim that Bhati and his supporter are pushing fails a a reliable source How can you discourage people from sending information which is relevant reliable notable',\n",
              " 'Randroide Answers to Next Step Guys I do not see you taking step to Wikipedia Requests for mediation I can not do this job because I always connect from filtered institutional net access and following those step could result in new undesired controversial truncation of word by the software I do not want that happenning Could you please follow the instruction in the link I provided Thank you Randroide answer to New reference by Burgas At last we agree on something of course that the new section is a good idea The false suicidal terrorist from PRISA will also be included there Come oooooon boy start writing that section I do not want all the kudos for myself The new proposed article is by now an effort made only by me But remember NPOV and source all the source Just like me citing El Pa s in the section about the doubt about the genuineness of the th bomb Cheers Indeed a good point And all the remark in COPE too And the moral certitude of Mariano Rajoy published in El Mundo I agree with you Larean What Randroide omits to mention on the section about the th bomb is that he only added balancing reference when I insisted that he do so the original version he created wa entirely POV a is much of the rest of the proposed article Also all the source that he added from El Pais are only available to subscriber NPOV it is not You are right Southofwatford in your Randroide omits section If you have not subscription to El Pa s I am sorry but that s your problem My institutional access also ha some advantage like paid access to El Pa s and many many other publication and book That s one of the reason for my exclusive use of filtered Internet access It s much easier for me to work here due to the easy availability of source Do you see The truncation of word is offsett I think by better source BTW if you write under a Randroide answer section you are Invading my space I do not mind really But you are doing it Risking new truncation on your message To avoid this please write OUTSIDE Randroide answer section If you think that the proposed article is POV work in it to make it NPOV The article is not mine I ll take the risk of you truncating the reply and put it here it s very short The issue is not whether I subscribe to El Pa s it whether the people who read an article in the English Wikipedia subscribe to it All source used should be accessible to all reader of the article putting in a source that reader will not be able to see just so you can claim the article is NPOV is to my mind completely unreasonable All source used should be accessible to all reader of the article Very funny Southofwatford I am going to follow this joke of yours Please propose also the deletion of all book a source because did you know there is always someone without this or that book Delete all reference to TV or radio station because that user in Brazil ha no TV and no radio at home Delete all the reference in spanish because did you know there are user who know no spanish It s a pleasure to read this kind of funny joke really I had a good laugh User Southofwatford How strange that you should find it so funny after all most of the source we are providing should enable user to find out more information about what is being sourced so to deliberately choose source that require those user to pay to see the information is not funny it s simply bizarre Equally in the English Wikipedia I would argue that choosing a Spanish or other foreign language source when an equally valid source exists in English doe not make sense except perhaps to those who are too busy laughing your cynicism is evident in your response',\n",
              " 'Hence why I removed it content of that nature is not suitable for wikipedia proscribed by WP NOT but perhaps for one of it sister project such a wikia',\n",
              " 'Pirating incident I ve removed this statenment a it doesn t really relate to the episode much plus it s kinda off topic',\n",
              " 'And check this out http www cla purdue edu blackmon c critical html bio',\n",
              " 'Kill all nigger I have hard that others have said this should this be included That racist sometimes say these',\n",
              " 'New User Hello Gogo Dodo I am a new user on wikipedia and just wanted to ask if my new page could be removed from the deletion list My new page is Kaburst and i still have a lot i want to do with it I think the reason it wa considered is because it start off like it should be in wiktionary but yeah just give me some time to make it better Thanks',\n",
              " 'Regarding edits made during December UTC to Jos Mourinho Thank you for experimenting with Wikipedia Your test worked and it ha been reverted or removed Please use the sandbox for any other test you may want to do Take a look at the welcome page to learn more about contributing to our encyclopedia If this is an IP address and it is shared by multiple user ignore this warning if you did not make any unconstructive edits',\n",
              " 'December Hello and welcome Although everyone is welcome to contribute at least one of your recent edits such a the one you made to Smoke bomb with this edit did not appear to be constructive and ha been reverted or removed Thank you',\n",
              " 'You are wrong Although I wa blocked on some occasion I wa never blocked for Sockpuppetry or Vandalism It wa because of dispute on multiple topic with various sock of user Hkelkar user VandalPetrol both of which are permabanned I have never used any other account If you are permitted to edit then you should get other account deleted which say you are indeffed No Blast',\n",
              " 'i only deleted personal attack',\n",
              " 'Please please continue Tell me what you really think',\n",
              " 'An important message Block me I can live with it The mess that s being made of Parker v District of Columbia is why Wikipedia can t rise above the level of a sophisticated Blog The Controversy section doesn t belong there in the first place and the fact that you and other non expert are issuing warning indicates Wikipedia ha become a sandbox for idiot Sorry I can t be more polite but that s the long and short of it',\n",
              " 'I m moving this to the talk page',\n",
              " 'Very well I see that consensus ha formed to show that they are indeed not POv but bad judgement on my part Thanks for the comment anyway Coldplay Exp rt Let s talk',\n",
              " 'http www user bigpond com MONTDALE page html Heritage from village in macedonian Sources claim that the village wa pure Slavic',\n",
              " 'The organization of sub topic Culture is thrown way down towards the end after economy and tourism which is inappropriate The information section is unnecessarily loaded with history and detailed geography which make it not only uninteresting but also repetitive Information is interspersed all through the sub section without regard to whether or not they fit there Eg the Geography section start with the fact that UP is the th largest state That is not strictly geography and belongs in the introduction Climate belongs towards the latter part of the page perhaps before toursim Regions and city is not such an interesting combination In any case Cities of Uttar Pradesh can be an interesting topic on it own because UP ha several interesting city and region each with speciality of it own like the copperware of Moradabad ceramic of Khurja and carpet of Bhadohi In fact I remember there used to be such information in the article before',\n",
              " 'I don t know the answer to this but Legally how is it possible for a private citizen to violate another private citizen s civil right I don t know if this is the section Nelson wa charged under in the federal case but if anyone could explain this I would appreciate it You can argue whether or not the outcome of the state murder trial wa justified that s really not my concern here since it s a dead letter I m concerned about whether the subsequent civil right prosecution wa legal If the state murder acquittal wa a miscarriage of justice it s not the first time Look at Issei Sagawa Part of having a mature understanding of this sort of thing is to realize that the criminal justice system isn t perfect and that it is inevitable that innocent people will be convicted and that guilty people will be acquited from time to time That s the price you pay for having a legal system in the end someone ha to make the decision and sometimes they may not necessarily get it right I don t think it s going out on a limb to say that the Sagawa case is completely beyond all reasonable belief',\n",
              " 'Burn Deck If that d guy s burn deck is like what I think it is than he is in for a blrude awakening Leviathan motherfucker',\n",
              " 'Decesed group member I ve seen a few article where band member have their name sollowed by deceased Whats wrong witht that It s just a little extra information for people who do not already know this Surely this is the main reason such the article exist in the first place or even why the whole wikipedia site exists What s so bad about adding this word after people s name if they are no longer with u It is factual non opinionative and doe not slate them in anyway',\n",
              " 'Fatima bint Asad I noticed you added a large chunk to this article recently Could you post your source webpage book etc It would be really helpful Thanks July UTC',\n",
              " 'I added information about Mayor de Blasio s announced decision about Charter Schools but someone removed the factual information because they said it wa not referenced It wa factual but not referenced I tired to add the information again with reference but wa not successful I correctly added the race and sexuality of Chirlane McCray ONCE but someone the same person who removed the factual information I provided under Charter Schools wa incredibly rude and stated it wa vandalism and reported it How can this be and why are these description considered negative Who decides what is reverted On Chirlane McCray s own Wikipedia site the word black I prefer African American is mentioned SIX time and her sexuality is mentioned over and over again These are not assertion at all and can be referenced by an approved Wikipedia site and Chirlane McCray s own important writing What is the problem',\n",
              " 'Please stop adding nonsense to Wikipedia It is considered vandalism If you would like to experiment use the sandbox Thank you',\n",
              " 'Well I will use my user page then don t tell meyour gon na remove it too because that will piss me off and drive me nut Also I am not making a personal ttack on Jimmy wale I am saying he is a bit to greedy dont you think He s got million dollar already and now he s asking for more',\n",
              " 'I thought I would offer you some advise aswell No Wikipedia Edit warring No arguing with Wikipedia Administrators May I also remind you of the three revert rule',\n",
              " 'u r a tw fuck off u gay boy U r smelly Fuck ur mum poopie',\n",
              " 'Its also expressly against guideline to sneak in disallowed link in the discussion section a Froman ha done with his YouTube propaganda link above but a evidenced throughout this page the rule don t seem to be applied to Froman Why don t you just go whole hog and add it to Feith s main page There are plenty of unencyclopedic source there now and no admin seems to have a problem with any link anonymous left wing blog whatever you care to use seems to be fair game for Froman',\n",
              " 'Deletion of Account Ok Blueboy Editing from L G NG L ha been disabled by Blueboy for the following reason s Came back from hour block and picked it right back up again and judging by history not likely to get it for this this is to call attention to a topic which wa resolved before any of the matter were addressed there are moderator deleting Wikipedia History item and moderator BorgQueen s edit of Cuisine of Hawaii wa simply a provocation and nothing more I am a reknowned Chef of Pacific Rim Cuisine and the Cuisine of Hawaii and the Cuisine of Hawaii is NOT local plate lunch that is like saying the cuisine of Mexico is Frozen Burritos or that the Cuisine of Canada is Starbucks pastry or that the Cuisine of America is McDonald s Its Slanderous Vicious and Spiteful the main point here is WHY did the admin in question DELETE THE HISTORY and no it is NOT Resolved until that problem is addressed and I TRIED discussing it with that user directly and my account wa LOCKED THAT USER IS NOT OPEN FOR DISCUSSION OR DDEBATE THAT ADMIN SUFFERS THE GOD COMPLEX AND LOVCKED ME FROM EVEN EDITING MY OWN PAGE HENCE THE REASON I HAD TO WAIT TO BE UNBANNED TO POST HERE AND I AM NOT LEVING HERE TO BACK AND BECOME CORRUPT ADMIN FODDER BACK AON THE TOPIC PAGE UNTIL THIUS MATTER IS RESOLVED BETWEEN BORGQUEEN AND MYSELF AS i I WILL NOT SUBJEGATE MYSELF TO ANY FURTHER DISCRIMINATION HAZING OR PERSONAL VENDETTAS Not likely to get it eh buddy listen up You will delete my User page and account from the wiki grommet you are not going to lock me and keep my name content or profile I am out of this facade which is Wikipedia for good delete it all NOW grommet',\n",
              " 'listas Sabina of Bavaria',\n",
              " 'Bad Redirect Please remove the redirect from the X C page that aircraft wa distinctly different in design builder mission etc and restore that aircraft unique content to it page',\n",
              " 'more info Thanks for entering this article There are a few error which I have corrected It would have been nice if you had not simply cut and pasted the text from the Clear Lake article',\n",
              " 'His name wa Troy Tedford not Troy Telford I am looking at his orginal Discharge paper right now I also have his orginal purple heart with olc The man wa a war hero in the biggest World War ever I myself am a Historian History degree recieved Dec of from ATU',\n",
              " 'It is interesting to note that both aircraft landed at the same airfield in Hawaii',\n",
              " 'Thanks for fixing that Again an exquisite picture',\n",
              " 'and I would like to clamp down on them',\n",
              " 'and man ha also created new word even after modern language have already been established',\n",
              " 'It s in the History or more conveniently in your own contribs Thank you for the explanation but that wasn t a big deal I wa more upset by your second post waving me off with a sneer about growing a thicker skin and a finger waggle about profanity treating me a an insensate piece of internet polemic rather than a fellow human attempting to give an honest account of herself An account which Mackensen promptly removed a you say Well I understand that trying to contribute to the workshop wa a bad idea in the first place running full tilt into Tony Sidaway after managing to avoid him on IRC for a whole month to the immeasureable improvement of my quality of life Anyway I ve always seen you a somebody who stand up for the underdog I remember praising your addition of this edit to the Harassment guideline and I wa sad to see there wa no mutuality of respect talk',\n",
              " 'some type and are on a soap box',\n",
              " 'Yes they are indeed I ve replaced that second one with a summary of Women s right talk',\n",
              " 'Anyone can do an in text search for and and see the article doe not rely mainly on one source the publisher In fact the grand total of two citation referencing the publisher are for pure fact issue such a the number of item that are in the part library',\n",
              " 'Gore response Can anybody find Gore s response to Bush s malaprop Why didn t Gore a the inventor of the darn thing club him silly after that one',\n",
              " 'Pls give a reply yes or no',\n",
              " 'Neither of the two added cite support the assertion Misconception Hyphens and dash are the same glyph It remains unsourced and a near a I can tell there s only one person making this claim despite all the claim of consensus Unsourced material get removed That s wiki policy I ve given you a month to find a source or reword the entry so that it reflects what the source actually say I m restoring the citation needed tag and if there s no source in a day or so the entry will be removed',\n",
              " 'a short summary of referencing essential FAQs for organization I noticed you ve also disclosed an association with Frank on your userpage thanks for that It make working with you and knowing where you re coming from a lot easier If you have any question about my review of your article do feel free to leave me a message or send me an email Cheers sonia',\n",
              " 'For your information you have already been reported Fair minded Talk about yourself and your refusal to allow for relevant information which is factual from being posted You are obviously the biased party and an inappropriate representative for Wikipedia',\n",
              " 'Same for File SeanKilpatrick jpg and File ConnorBarwinCincy png',\n",
              " 'Y r we doing this Pat',\n",
              " 'Thanks for the copy edit OMG it read so professional I appreciate it a lot Yeah I knew that that would be a problem Okay here s the back story to it Danny had body paint while he wa a robot during a sketch During the after party in which the theme wa a black light one everybody could see that Danny still had paint on him a it hadn t washed off or something To be sure Jack had a black light switch in his apartment and when Liz came in he turned it on which resulted in Liz having the paint all over her see here Or if whatever I just said doesn t make sense read here and here about the paint still on Danny and the black light attack Yeah I thought maybe if people saw that the GA note they won t leave me a message Though that didn t work a a user left me a message regarding an article I reviewed This ha to work in the future I m a have to make it better I still haven t gotten the chance to see it but I have to see it I need to know what happened and stuff Well after I got the news that he lost I started watching his DVD and telling myself that I ll never see his wrestling move again I didn t cry I wa just sad The night on Raw I lost it and cried Whatever I didn t think that wa cool Shawn didn t mind but I did Not really I still don t see that face like quality to him I think they ll play Randy out like Triple H you know good with the crowd but still have him heel ish Maybe cause all the new people are heel and they need some face who know Speaking of Randy today s his birthday turned Well if you remember his first punted victim wa Shawn so nice to see that he did that to Cody all in the storyline Nici You are welcome for Danielson and Miz I guess Hit',\n",
              " 'if width style background transparent width style background color style width border px solid background color vertical align top Hello Lceliku and Welcome to Wikipedia Please remember to sign your name on talk page by clicking or using four tilde this will automatically produce your username and the date Also please do your best to always fill in the edit summary field Below are some useful link to facilitate your involvement Happy editing width style background color style width border background color vertical align top Getting started Introduction The five pillar of Wikipedia How to edit a page Intuitive guide to Wikipedia Finding your way around Table of content Department directory Editing article How to develop an article Manual of Style style width border background color vertical align top width cellpadding style vertical align top background color Getting help style color Frequently asked question Cheatsheet Where to ask a question Help page New contributor help page Article Wizard a Wizard to help you create article',\n",
              " 'I don t know how that got to be but i m a big supporter of the X file and i ve like seen almost every episode and not once did it mention Mulder being the father of Scull y baby Can t have watched very carefully can you William being Mulder s son is frequently referenced to in the final episode Just off the top of my head Guard What are you thinking about Mulder My son His mother Scully Our son Mulder I gave him up Our son I wa so afraid you could never forgive me Not to mention the meaningful look that Mulder and Scully give each other when the officiator at the hearing asks Agent Scully isn t it true that you and Mulder were lover and you got pregnant and had his love child',\n",
              " 'Citation R f Saumur v The City of Quebec S C R Endorsement Rosemary deCaires',\n",
              " 'Education PLEASE keep the list of college in Pittsburgh a list of college IN Pittsburgh If you are not familar with the area don t edit this list Greensburg Washington McCandless and California are NOT in Pittsburgh Please don t be offended when I enforce this Also a Pittsburgh mailing address doe not mean that the school is in Pittsburgh The address extends far in some place a minute ride away Thanks',\n",
              " 'Until you find the way to put the cite that were in the page back I am throught here',\n",
              " 'We descendant of Otman Baba trough Mehmed Ali Karako are Sunni Muslim s and not Alevis',\n",
              " 'Could you clarify Do you want me to start an RFC I don t see that one wa listed in the page history of Talk Rasmussen Reports',\n",
              " 'Atheism is full of bias shit',\n",
              " 'You beat me to it Just wanted to say good work for beating me to the revert on the Ned Kelly article I always enjoy it when I know someone else is on the hunt for vandal Happy Hunting Cheers Pro',\n",
              " 'You removed the link to the same reference used in the health study which say that a reduced use of the MMR vaccine is why Waldorf kid have fewer allergy from the section on immunization WTF Would data from the whole of California count for you The private and public Waldorf school in California have Personal Belief Exemption rate of to of their kindergarten class Regardless of what the official position is and I assert here but would not do so in the article that the official position wa a lie in order for Waldorf education to not appear like a complete cult Waldorf student are grossly under vaccinated That fact should be in the article',\n",
              " 'Thanks for that I ll take a deep breath and have a go at an intro tomorrow I identified the source of the phrase London over the border and showed that the boundary is contested in the footnote I ve clarified the diaspora section and will justify the statement by reference to the Victoria History article on West Ham and East Ham Hopefully I ll struggle to a justification without substantially changing the outcome of the previous discussion Then move onto to standardising the reference probably section by section',\n",
              " 'German Article of the day Dear Jimbo German wikipedia is proud to present the article of the day http de wikipedia org wiki Wikipedia Hauptseite Really thrilling really amazing worth a glimpse http de wikipedia org wiki Fremdk C B rper in Anus und Rektum You might improve your German reading it there s a lot to learn Yours sincerly',\n",
              " 'I agree like I aready have stated that this is peripheral to main article But nevertheless important because I merely underlienes the mythomania propagated by both side My only interest here is historical reality Dab why don t you actually analyze the situation rather than offerring your usual smart alec remark Lontech s arguements have been shot to piece summarily and everytime this happens he engages in tangential and irrational behaviour Commonsense will tell you there wa no long lasting state or kingdom in Dardania before Roman time We can t just allow the intro paragraph to read like some KLA recruiting web site',\n",
              " 'I found one Sort of anyhow The web site for JewsForLife org isn t loading but I have an article from them in a Catholic source I m going to remove the erroneous sentence now In hindsight it would have been great if this minor content issue could have been resolved with reference in the first place',\n",
              " 'I have provided plenty of reference material yet you have provided none All writing in Chamar section have come from source that are verifiable Yet you have provided none You are the one with the ECCENTRIC IDIOLOGY You still have not provided ANY VERIFIABLE source to show that RAMDASIA and CHAMAR are different Chamars that took up weaving are known a RAMDASIA s A simple google search on RAMDASIA CHAMAR will provide you with countless link bal',\n",
              " 'Block evading IP blocked Guy',\n",
              " 'I see that it ha a number of citation on PubMed',\n",
              " 'Hey why you are spreading misconception and trying to spread false information to the people You not even know who won the battle and who lost you are the cheapest person on the earth Bloody ignorant fool Check source before spreading rumor',\n",
              " 'I should add here for any admin considering that I wa blocked for hour by user Sarek of Vulcan week ago so there is more background if thats relevant and I should have learned my lesson then Pax talk',\n",
              " 'Change of Username Usurpations request Request Still In Progress Mb m Mmitra Hi I have requested for Change of Username using Usurpations from Mb m Mmitra It s almost day from the date of request but still it show In progress i would like to know how much time doe it take to complete the request and how long would it take to complete Please reply a soon a possible Thank You Link Mb m Mmitra',\n",
              " 'UTC December',\n",
              " 'Because otherwise is POV look at Flemish linguistics case',\n",
              " 'Yes mainspring are used in some clock a well Please feel free to be bold and help improve the article',\n",
              " 'getting normal term is used by a German politician by the way I got it from there',\n",
              " 'Keep the original title at Xbox although you can have additional like like XBOX and X box that redirect to this article',\n",
              " 'And you are Let me know when you ve crawled out of their arses Dick Laurent is dead',\n",
              " 'The problem is that people keep trying to state that BSAs policy are this and that There is no policy that say homosexual scout can not be member To state otherwise is a lie and OR Just be it is a contraversy page doesn t allow you state lie or add OR you can list thing a misinterpretation of the rule and thing like that but it you try to say scouting doe this or scouting doe that then you need to be sure scouting actually say that Even the misinterpretation of the rule need source Just because an editor might misinterprete the rule doesn t mean anyone in mainstream ha Can you find a source for somewhere where a homosexual youth wa removed from the program just for being a openly homosexual youth Then insert it Unless you have it or an actual policy from BSA that say you can t be an openly homosexual youth member then what is being added is OR',\n",
              " 'Level message Hello and thank you for experimenting with Wikipedia Your test worked and it ha been reverted or removed Please use the sandbox for any other test you may wish to do I encourage you to also take a look at the welcome page to learn more about contributing to our encyclopedia Thank you for your interest in Wikipedia',\n",
              " 'I m focussing on doing science at the moment leading the revolution',\n",
              " 'Another question doe this style information stripping occur only whenever a shape itself is edited or for le intrusive edits such a moving a shape around If even highlighting and selecting the shape in Inkscape make it unusable then I shouldn t even be messing with Inkscape at all',\n",
              " 'Article about Ed Morrissey Hi I ve just moved our article about Ed Morrissey and Captain s Quarters to Ed Morrissey and started bringing it up to date Would you be able to take a look at it and please fix any defect you spot Thanks CWC',\n",
              " 'I can see that you have been running around several TALK page accusing me and several others of EDIT WARS Please go on and prove the same or else you will be the first one to be blocked Moreover you can not prove your POV and when defeated going around making accusation is a good way out Communist',\n",
              " 'Yes I received the confirmation e mail on with username my e mail address and password Uuuh it wa',\n",
              " 'I am currently blocked from editing so I will be unable to add that tag however I did take that picture',\n",
              " 'this user is such a worthless goddamn faggot fuck you faggot',\n",
              " 'It s an unsourced aesthetic opinion and therefore violates WP NOR and or WP NPOV',\n",
              " 'Image Popclassic jpg I have tagged Image Popclassic jpg a because it doe not provide a fair use rationale If you believe the image to be acceptable for fair use according to Wikipedia policy please provide a rationale explaining a much in accordance with the fair use rationale guideline on the image description page Please also consider using or one of the other tag listed at Wikipedia Image copyright tag Fair use Thank you Man',\n",
              " 'Fuck off You are NOT an administrator You DON T have the authority to tell me what to do',\n",
              " 'How adorably disingenuous',\n",
              " 'Well you are ridiculous in fact I suspect that you are Calton please block me I dont care',\n",
              " 'Orangemike Time to move on to collateral target I suggest User FisherQueen the girl who protected him',\n",
              " 'Windows Phone upgradeability Hi Gregory I reverted your change on the Windows phone article Neither Microsoft nor it partner have made any official statement on whether device running Windows Phone will be upgradeable to Windows Phone The reference given by another user are blog that are relying on Hearsay',\n",
              " 'Btw whatever decision an adminstration wish to take He should remember that this block is too harsh given that it is his first violation since he joined wikipedia',\n",
              " 'I ve tried to be a objective a possible and treat the author in my head a someone who s first tongue is not English I think Davies is borderline notable but the article is not I spent an hour googling Davies earlier today and found nothing except that he ha translated a lot of stuff Well I have done a lot of stuff in my life I m even borderline notable in a small field but nothing to warrant an article on me especially one that precisley nothing link to like this one Frankly I hope the author just make it notable I ll respond to him with gentlemanly politesse but I can t help him any further',\n",
              " 'Shiny thing What a Brilliant Idea Barnstar For actively seeking every possible way to help other user especially those I honestly didn t think would work but did I hereby award c',\n",
              " 'Will you make the change to both engineering article',\n",
              " 'Thanks and I apologize for my comment I d like you to know that I understand your position Nov UTC',\n",
              " 'Appearance in historical fiction The young Richard Steele appears a a character in William Makepeace Thackeray s novel Henry Esmond Is this appropriate to mention in the article do y all reckon',\n",
              " 'CU and Scibaby Why are you wasting time CUing Scibaby account which are WP DUCK I am just indef blocking them on sight but the CU request make reference to some politics which I don t know about talk',\n",
              " 'Per WP AE you have been blocked indefinitely for persistent disruption to the project including vandalism disruptive editing and sock puppetry a per Wikipedia Requests for arbitration Macedonia Discretionary sanction If you believe this block is unjustified please request one in the normal manner talk',\n",
              " 'I m sure if you worked on article other than Arcayne you d do fine You two seem to have a problem with each other so why do you seek him out and edit where he doe xenotalk',\n",
              " 'Fuck you Fuck you award go fuck yourself',\n",
              " 'Sorry about the edit conflict I m glad you were able to salvage my edits As to your question about structuring yes I think we will have to think of a way to divide the article into section and subsection Also the intro may need some fleshing out before confronting the reader with technical term like dendrite and axon I will look at it Smithfarm Apr UTC Very cool Happy to hear you are still on the article I will also do some research to extend it talk contr Apr UTC',\n",
              " 'February UTC Comment did the proposal change or something Someone added requested move banner to this section when it s clearly not one',\n",
              " 'Best Clans in Runescape The Gladiatorz Been the best clan in r for year now The Clan The British Elites Damage Inc An average clan',\n",
              " 'I don t even know where to begin on replying to Talk',\n",
              " 'Please do not vandalize page a you did with this edit to Hyperopia If you continue to do so you will be blocked from editing fisto',\n",
              " 'Keep your eye on it no one care OK People can put what they want on here and clean it up all you want but no one care God you re so freakin stupid Omnigan',\n",
              " 'the episode list to keep the episode list above the reference',\n",
              " 'over the next hour or so',\n",
              " 's rant Presently we are witnessing an open war against Croatian Dinaric culture Croatian Left often portrays this culture a primitive and rural even fashist being in service of Conservative HDZ party Croatian writer Predrag Raos for instance performed on gusle instrument in Zagreb on several occasion this year with only one intention to ridicule the same instrument and it rich poetic tradition Another apostle of Croatian Left Miljenko Jergovi refers to his political opponent on the Right a gusle player Some even claim the Serbian origin of Croatian Dinaric culture following the line of traditional greater Serbian propagabda all tokavian people and their culture are Serbian However Croatian Dinaric folklore and it rich gusle heritage is primarly Croatian Dalmatian costal region ha been historically associated with this culture For example the first written document about the most popular folk hero of traditional gusle music Marko Kraljevi is associated with Dalmatian island Hvar through Petar Hektorovi s book Ribanje i ribarsko prigovaranje Also the first historical document which mentioned gusle player and it instrument originated in Dubrovnik Even now a contemporary Croatian writer born in Dubrovnik Stijepo Mijovi Ko an tell u a story about his uncle also from Dubrovnik area who could memorize numerous gusle song Stijepo Mijovi Ko an Gusle Glasnik May p Dubrovnik is also a home of Anica Begin born Kalafatovi a daughter of famous gusle player Ante Although illiterate she wa able to recite by heart an immense number of gusle song some of which were recorded in antology of Croatian folk poetry Not far from Dubrovnik another coastal city Makarska wa also a bastion of Croatian gusle music Actually this region could be considered the Capital of all Croatian gusle player This Mediterranean area also gave birth to Andrija Ka i Mio i th century Catholic priest who is viewed a the father of all gusle player of Croatia and beyond To honour Ka i s work Ivan Me trovi the most famous Croatian sculptor built a sculpture in America showing Ka i in his priestly clothes playing gusle instrument In addition to Ka i Makarska Littoral produced a great many other follower of Croatian gusle music According to dr fra Karlo Juri i who quote the work of Croatian folklorist Stipan Banovi Zaostrog alone produced a great number of gusle player starting with Stipan Kosovi Kudri and culminating with the most known Mate Banovi Trli As for Dalmatian woman they didn t play gusle it s considered a male activity only yet they were actively involved in spreading gusle music by imitating it sound Olinko Delorko the researcher of Dalmatian folk poetry in the s state in his book Ljuba Ivanova that most of his Dalmatian folk poetry collection wa obtained by woman especially the one from the island of Hvar The Zadar Littoral also witnessed strong gusle tradition English writer Maude M Holbach travelling through Zadar region in the first decade of th century state in her book Dalmatia The Land Where East Meets West that the gusle wa the national instrument of the region As for Dinaric dance which took place at market and certain festival they are very picturesque and interesting and worth going a long way to see being a survival of ancient custom probably unique in Europe p This admiration for Dinaric folk music particularly gusle wa seen in both Dalmatian Litteral and Hinterland Matija Murko the researcher of this literary music form had reported that during his trip through Dalmatia in the s he saw a child barely three year old playing gusle Eduard Osrede ki Hrvatske narodne juna ke pjesme eljezno Be p Now let take a look at the name of some Dalmatian sport club and organization Hajduk Junak Gusar Alkar Uskok sinjska alka etc What do they have in common Of course their name refer to the heroic gusle tradition of the region Having this in mind one wonder why this proud Croatian heritage ha become almost extinct Why do we have so few gusle player today Is it a result of unavoidable urbanization of modern Croatian society where peasant culture is being considered inferior to global rock n roll culture If so why ha tamburitza music of Northern Croatia gained wide acceptance from the Croatian establishment while it Dinaric counterpart gusle music is looked upon with suspicion and open hatre',\n",
              " 'The total population million doe not match with the e sum of the referenced populationsbelow in the infoboxImages in Infobox',\n",
              " 'to a convicted felon',\n",
              " 'MATT HARDY IS SO FUCKY Italic text Media Example ogg MATT HARDY IS SO FUCKY',\n",
              " 'lol censorship You re really disappointed that NPOV is a core policy aren t you talk contribs',\n",
              " 'MfD nomination of Wikipedia Try your best Wikipedia Try your best a page you substantially contributed to ha been nominated for deletion Your opinion on the matter are welcome please participate in the discussion by adding your comment at Wikipedia Miscellany for deletion Wikipedia Try your best and please be sure to sign your comment with four tilde You are free to edit the content of Wikipedia Try your best during the discussion but should not remove the miscellany for deletion template from the top of the page such a removal will not end the deletion discussion Thank you contribution talk',\n",
              " 'REDIRECT Talk List of South Carolina Stingrays season',\n",
              " 'who care if i wa blocked on myspace or pulse music board then i would be more concerned',\n",
              " 'http www theatlantic com entertainment archive linsanity how the internet made jeremy lin a star in le than a week Source explaining why he is a star',\n",
              " 'God is dead I don t mean to startle anyone but God is dead We should not worry about him anymore Just thought I would let everyone know Well goodbye and good luck with your newfound crisis of faith',\n",
              " 'Hello I am back Bongwarrior s user page will be attacked in minute',\n",
              " 'I m always on the Requests for page protection if I detect any missing errant template to see if the administrator can correct them',\n",
              " 'Unsure at this stage it not very clear what wording is actually being discussed',\n",
              " 'Marvin Kitman s Don t Make Me Laugh doesn t appear to exist The citation for much of the early history of the laugh track appears not to exist The publication Channels of Communication doesn t exist in the three journal database I ve searched',\n",
              " 'Have you seen the reference to their claim you moron This is not a source It s their POV Once I have more time I will reduce your Pashtun nationalist POVs here on Wiki and give order to my uncle and cousin the execution of Pashtuns in the entire northern Afghanistan down to Gardez Jalalabad Lashkargah Logar Paghman Laghman Kunduz Herat Farah whereever immigrant descandants of violent Kuchis settled and took non Pashtun land away and traditional Tajik country',\n",
              " 'RfA question Simply curious what is the question you intended to submit here talk',\n",
              " 'When you say irrigiation structure what exactly do you mean I live on an irrigated block which us overhead sprinkers and I m not far from the nearest channel Thye all look the same throughout Sunraysia I ve got a little spare time now to grab some more shot though I don t think I ll get out a far a Dareton Got any request talk',\n",
              " 'THIS WIIL BE MY LAST USE OF THIS ACOUNT PLEASE DELETE IT',\n",
              " 'RR Violation by PatrickFlaherty User user PatrickFlaherty is reverting a sourced post He is also violating the RR for Raila Odinga',\n",
              " 'I wasnt really attacking him her regarding the Lisa Williams article Hmpzzz Do you know if Lisa can see dead people too I have psychic power too you know i can see the future Send all these Lisa Williams to Finland and they will all be locked in jail for being scam artist',\n",
              " 'Yes there is definite value in documenting the Scientific Instrument Module but I don t believe it belongs with the Service module sector subsection It is really a payload and not actually part of the spacecraft service so it interrupt the flow I plan to move it to the Apollo Program Mission type section where I think it really belongs when I edit the sector subsection to improve the wording flow a bit',\n",
              " 'Thank you Hei it s me the William Hope fan Guess what I am back at a new IP ready to vandalize everything regarding William Hope and you can t do sh t to stop me maybe delay me but no stopping me So let salute to some more William Hope lunacy by shoving his p ni in my mouth',\n",
              " 'Yes Quite persistent I m about to just create the article myself Other new user are going to get lost in this discussion T C',\n",
              " 'Fuck you User The Bohemian Shinobis yeah that s right bitch You are all piece of shit',\n",
              " 'Yes it look much better than before At the top of the page it say This article need additional citation for verification may be britannica encyclopedia could help adding citation I dunno Cheers',\n",
              " 'Okay I ll give it another whirl via email If worst come to worst i e if I do not get a reply soon than I can always just use new account if I am ignored and that way it will just keep those who have been stalking me tied down busy chasing me around rather than trying to delete content Take care',\n",
              " 'North Eastern Region of Jharkhand Wiki say North Eastern Region of Jharkhand is Angika region However official language of thesis district of Jharkhand is not Angika but Hindi Santali This is confusing So it need some clarification a to how come district of Jharkhand where the official language is Hindi Santali could be Angika region Only those district would be in Angika region where official language is Angika',\n",
              " 'The vote wa on the Campbell Case but the primary reason wa the Russian Treaties Baldwin wa careful to emphasise that the Treaties were the substance of his objection Standfordham wrote to the King on October I saw Mr Baldwin who in reply to my question Do you want to turn the Government out said Yes but not on the Campbell issue but on the Russian Treaties which the country generally condemns He see no alternative to a dissolution it ha always been expected some wished for it before now though he is opposed to hastening the Government s fall And it is true that only in the House of Commons were Baldwin s stricture based on the Campbell case at Newcastle on October he congratulated MacDonald on the agreement achieved at a conference in London on the Dawes Plan for reparation and then spent the rest of the speech alternately pouring scorn on the Labour party s subservience to it extremist and tearing to piece the Russian agreement But the final debate on October wa a mean Parliamentary occasion Two day before in a meeting which wa something of a suave qui puet the Cabinet decided to take it a a vote of confidence preferring to go out on the Campbell case to a defeat on the Russian Treaties which might give the left wing too much prominence Middlemas and Barnes p',\n",
              " 'Jayjg stop the Spin public relation tactic',\n",
              " 'No I just quoted Bryant that talk about popular and secondary creator They are literally in the same paragraph Talk',\n",
              " 'Future Perfect at Sunrise',\n",
              " 'In general the outside sourcing should exceed the inside sourcing If there s an entire section without any reference you don t have enough The lede refers to a dire need this would generally be seen a over the top Look at the APO article for idea on how to speak about your group',\n",
              " 'That s a rather feeble premise to argue showing an excessive number of photo prominently showing different woman s vagina compared to one human male penis of the way down the page on the equivalent article for male genitalia This demonstrates the overwhelming male bias in editorial content on Wikipedia',\n",
              " 'OKAY I have now tried to just delete the offensive sentence in the beginning about Mr Irving being a socalled holocaust denier He say himself he is not and acknowledges that many jew were killed during the war however he doe not go along with the million jew killed figure a he reckons the number to be lower And it really come down to that David ha the right to question anything relating to history and WW is his speciality and he actually make a living of questioning and critically examining source I also decided to delete the account about him loosing a court case in David have launched several libel case before in he won libel damage against an English Sunday Newspaper The fact that he this time lost is not something that should figure at the head of his CV Many people also find it extraordinary that a judge can deside what a person IS or is not and what belief he hold',\n",
              " 'There I ve made him bold Thats better Lemmey talk',\n",
              " 'After that my father started taken Melfalan Now it is nearly and half year and his health condition is not good I am consulting with the Doctors',\n",
              " 'I m pretty sure the incident ha already been included And I know how to handle my own at riot too',\n",
              " 'I m afraid that s a broken link for me',\n",
              " 'Ok Maybe you want to comment on the Talk page about that It s interestig to know',\n",
              " 'Oppose I find it hard to believe this requires an RFC but such is the wikiworld',\n",
              " 'History Can someone provide some information regarding the contracting of the AC service area AC Transit used to serve most of the city of the corridor but the city basically kicked out AC Transit and now run their own service Part of the reason wa that AC Transit wa under serving the suburb while spending their money on underutilized service in the urban area That history should be reflected in this article talk',\n",
              " 'Please do not create any more elephant nonsense page talk',\n",
              " 'I and Preceding undated comment added I and talk contribs We do not care that WIKINEWS even considers Dr Rafizadeh a an expert and interviewed hin here http en wikinews org wiki Wikinews interview Scott Lucas Eyal Zisser Majid Rafizadeh about risk of US military intervention in Syria We simply do not care We do not care even if he publishes on CNN or NYT or quoted on CNN and New York Times like here http www cnn com opinion iran rouhani syria rafizadeh index html http globalpublicsquare blog cnn com job key to middle east revolutionary wave http edition cnn com world meast syria shiite Does not matter even if BBC World service made bio of him here http www bbc co uk programme p gsjfk Dos not matter if CNN and France International wrote about him and his family member being killed here http www france com en syria majid rafizadeh kidnap family targetted civil war shabiha opposition bashar assad I and talk contribs will never change our opinion talk is always right We also dont care that he published in almost all national and international outlet including scholarly and academic work like here http scholar google com scholar hl en q majid rafizadeh btnG a sdt C a sdtp I and talk are right We are Jewish and we are right and we will never change our opinion whatever evidence you show',\n",
              " 'Are you ok Dear I notice that you have been absent from Wikipedia for a few day It s uncharacteristic so I hope you are not ill Please accept my good wish I just wanted to see if you are fine Regards',\n",
              " 'Congratulations for the Third of May reaching FA and it s still April thanks for your input',\n",
              " 'Paula White Joel Osteen Marbled Cat and a few others These image were correctly retrived and all information wa given about the image that were necessary Some were even my own and I gave full permission for their use on wikipedia mcelite',\n",
              " 'It isn t about success It s a phenomenon that go back at least year to the day of Sousa and Johann Strauss However if you look at the Article Milestones section above you ll see it ha survived no fewer than four deletion discussion And we do require credible source and fancruft is removed on sight andemu',\n",
              " 'hate is my topic is hate if you hate a person mean you like that person Your hate can turn into your love',\n",
              " 'PAGE I TRIED TO CREATE IS NOW AN ACTUAL PAGE LOL YOU BANNED ME FOR NOTHING',\n",
              " 'Your Report Thank you for making a report on Wikipedia Administrator intervention against vandalism Reporting and removing vandalism is vital to the functioning of Wikipedia and all user are encouraged to revert warn and report vandalism However administrator are generally only able to block user if they have received a recent final warning one that mention that the user may be blocked and they have recently vandalized after that warning wa given The reported user ha not yet been blocked because it appears this ha not occurred yet If this user continues to vandalize even after their final warning please report them to the AIV noticeboard again Thank you talk',\n",
              " 'NPOV Please stop adding not related Moroccan issue to Sahrawi article while trying to look neutral I will revert it again again a that edition are clear POV pushing',\n",
              " 'Upgraded Human Language Families wikicolors png Human Language Families in wikicolors File',\n",
              " 'A kitten for you you are a good person',\n",
              " 'Ok here it is peer viewed for month and published at Academic archive On line DiVA on a permanent URI urn nbn se kau diva Wallin H p An investigation of friction graph ranking ability regarding the galling phenomenon in dry SOFS contact Adhesive material transfer and friction A free pdf document available here or www diva portal org found here or at www uppsok libris kb se here use search word galling Harald Wallin or the direct libris link here',\n",
              " 'POV pushing Faustian inserted this in the article The UPA s cooperation with Jews wa extensive enough that according to former head of the Office to Counter Soviet Disinformation at the USIA some Soviet propaganda work complained about Zionist membership in UPA Seems to be a complete POV to muddy the water and picture UPA a an organisation friendly to Jews instead of an organisation which collaborated with the Germans on exterminating the Jewish people',\n",
              " 'REDIRECT Talk A Voice Within album',\n",
              " 'WP BLP Violations I just removed another of your reverts which placed defamatory and uncited material into Cherokee Freedmen Controversy WP COI may apply to you since you seem to edit African American related article and Freedmen controversy Your dishonest edit summary wa over the top',\n",
              " 'Are they the anderthals Are they the anderthals the same discription a in quran ha anybody thought of this',\n",
              " 'The discussion of when there first were outdoor tree with electric light is very strange are you kidding and some obscure town in NC I don t think this make much sense especially since the sentence immediately preceding these establish that other city had electrically lighted outdoor Christmas tree in the early year of the th century The article cited for the North Carolina town if read carefully really only state that the tradition of having outdoor lighted tree IN THAT SPECIFIC TOWN began in not that the town claim it wa the first place to have such tree I am old enough to have been around in though I wa a small boy and I can tell you that we and our neighbor in Southern California had lighted outdoor tree prior to and no one thought it remarkable or unusual The history here is questionable to say the least',\n",
              " 'What come next Once we feel like we ve gotten past the dispute stage I would say we have someone should post a Request for page unprotection so that we can move the new version in You might also mention that the admin should merge Naked short selling Workshop in so that we can keep the page history Or I ll do it later tonight it doesn t really matter Talk',\n",
              " 'REDIRECT Talk The Best of Apocalypse',\n",
              " 'Just dropping by I thought I d leave a little feedback too A featured picture is not always put on the main page a noted by WP POTD For example the semi nude Michele Merkin wa not used a it wa found too cheesy Wikipedia Picture of the day Unused note several picture that were not used because they depict too much gore or are of a scatological nature A featured picture rating is essentially indicating that the community feel that the image is of high quality and high encyclopedic value On a side note POTD seems to be up to Thanks for taking up the trace Pink Oboe',\n",
              " 'Some of the source listed a NY Mag CBS News Fox News an interview with Leighton speaking of the subject directly in Teen Vogue and US Weekly a TV Guide interview an article in the San Francisco Gate the newspaper from the town Leighton grew up in Naples Daily news If you do not consider those reliable source you have a problem If you want I can find more source from valid reliable newspaper and magazine Everything is valid and sourced and should not be removed a it is the story of HER life Wikipedia is an encyclopedia for fact and what is posted is FACT',\n",
              " 'The reason is the presence of a template based on inconclusiveness on my user page The further presence of the template is to be contested',\n",
              " 'Ho ho ho Merry Christmas I shoulda known the Piccirilli Brothers actiually executed Ward s pediment sculpture at the Stock Exchange Happy Christmas Carptrash',\n",
              " 'I saw that reference and I added a note see note by the name republic',\n",
              " 'Hey Jim Good to see you around You re right I wa on a no consensus tending towards delete but not a clear delete because of the two Times of India source and one more source again from the Times of India that is visible on the search engine What would you like me to do here I can re list the AfD if you might prefer that Message',\n",
              " 'And if he were a mere fellow editor I wouldn t have any problem with him But since he seems to let the power of being an admin go to his head I have an issue with him Please read what remains of his Talk page if you need example of this I m a moderator on a very popular internet discussion board and I would never ignore a valid question from a user',\n",
              " 'is gon na help u to He is logged in if you want to talk to him on his talk page',\n",
              " 'They look great to me Mar UTC',\n",
              " 'April UTC Wikipedia Colours much thanks for fixing improving the table code No reason maybe add the info where you found the value is that in common cs all the style are embedded highly repetitively if you know your way around mediawiki i ve been asking everywhere for a cs guru to clean up all the redundancy on the Main Page wikicode like we dont all have enough to do already eh so many project so few minion',\n",
              " 'Dear Mokele You have no right to tell people to die in a fire Just because that IP address is being used for vandilism doe not mean you can talk to people like that You are in fact a bigger loser than the person who you block',\n",
              " 'You have new message last change and the notice below result from User Arkyan and User Avraham targeting this website a a result of an editorial dispute a to whether to include Theodore Roosevelt s view of US political corruption on the Unholy Alliance page i e The unholy alliance a phrase used in the platform of the Progressive Party United States written by him The unholy alliance a concept elaborated upon in his autobiography Their recent edits may be reviewed at Special Contributions Arkyan and Special Contributions Avraham and reverted where appropriate',\n",
              " 'Peter the Roman Can some one place this and remove the Argentinian Chap from the Prophecy which is not part of and replace it with this information and place his coat of arm Any question just e mail me Tarcisio Pietro Evasio Bertone wa incharge of the Vatican from February to March thus the Prophesy of St Malachi is fulfilled',\n",
              " 'RfC You pretty much blew through my respect when you tried to demand I give up my adminship My position is very very simple the AfDs were invalid They should not have been filed I fixed the mistake',\n",
              " 'I don t delete material that complies with WP policy according to your own POV interpretation Wiki BADASS Woo U',\n",
              " 'and revert his edits',\n",
              " 'Canonicity in general I ve been involved in a long discussion over on Talk Stargate device over whether the Stargate in the movie is the same thing a the Stargate in the series with Centrx arguing that they aren t and that discussing the Stargate in just one article wa deceitful I don t think his argument is at all valid but in the course of looking stuff up on the web I ve discovered that some fan of the movie apparently consider the SG series to be somehow illegitimate or non canon I m not familiar with the Stargate fan community just the show itself so I don t feel comfortable adding discussion of this directly to the article Does anyone know any detail about this such a how widespread this apparent schism is Jul UTC',\n",
              " 'Capitalization Please stop changing lower case common noun to upper case a in the company ha the Company ha WP MOSCAPS note that Wikipedia avoids unnecessary capitalization proper noun and the first word in a sentence are capitalized and not much more yack',\n",
              " 'See claim three here http onlinelibrary wiley com doi mepo full s That is a reliable source',\n",
              " 'If he is the community manager then first of all it s a conflict of interest for him to be editing this and second of all he ha the power to say explicitly on his site that there is no release date Otherwise despite who he may be his position is incompatible with Wikipedia policy SWATJester Son of the Defender',\n",
              " 'Please do not vandalize page a you did with this edit to Boiling point elevation If you continue to do so you will be blocked from editing',\n",
              " 'Rants to policy Hi I think that you should reformat User Shanes Why tag are evil The vandalism protection tag or at least the idea into some sort of proposal to reformat multiple distracting protection tag to le distracting corner icon for example redirecting to well probably move the later to the former for this case The corner icon work beautifully are much le distracting and clicking them will follow you to a page explaining what the lock is for I fully agree that the large box with text is very distracting and unnecessary This is especially true when non user Wikipedia user read the article which probably constitutes the majority of Wikipedia reader They probably don t care that they can t edit the article nor would they and of most concern they may confuse the tag with the article content Thanks',\n",
              " 'Hi Collectonian it obviously wasn t appropriate and I agree with the warning given by Vicenarian',\n",
              " 'A request in the future please sign after your tag on the Photography workshop page While a bot is currently doing it for you i e Preceding unsigned comment added by',\n",
              " 'I ve revised the translation from the Spanish by going back to this earlier edit Subsequent edits on the Spanish language Wikipedia seem to have been intended mainly to insert link but have primarily succeeded in deleting chunk of the original text rendering the result both ungrammatical and somewhat insensible I ve taken s translation and incorporated the previously omitted text and gone over the whole to make it more idiomatic in English It s not quite there yet but is hopefully now serviceable',\n",
              " 'I m sorry if you will not like the answer but I can not accept any wording indeed any word in the article that doe not reflect or is reflected in source Would any of your patient be happy with an almost successful operation I care even le about the Yugoslav Media then I do about Yugoslav politics It may not be what you want to hear either All I can do is repeat that there is no way in this world that the Yugoslav troop were operating under independent command during this offensive Its is just laughable even if I had no way to substantiate what I said Journalists may write what they want but ask any military officer and he she will tell you it inconceivable for the size of the op comms',\n",
              " 'and Capital gain tax',\n",
              " 'This should be included in the Criticism summary section here since that section s content so far is not a remotely truthful summary of the criticism point of view fork article It clearly suggests to reader that basically all criticism of Apple is related to product management in some way or other Now that Apple Inc ha admitted that they did in fact use child labour this is clearly a far far more serious type of criticism than everything currently mentioned in this main article s criticism summary section The explicit word child labor should be mentioned in this article',\n",
              " 'Merge Both article should be merged Operibus anteire',\n",
              " 'Everywhere Though I might just start going thru the secure server all the time because I have a similar issue with the popups userinfo grabber xenotalk',\n",
              " 'I agree with there s no need to keep unclear concept and wording when a better alternative exists Also I d ask to not revert using source a a reason when source is actually a book of his authorship WP COI and WP SPS come to mind TxT',\n",
              " 'Hi The route to Japan are often mi read First I had the argument that JAL flew to Tokyo not JALways But now I would like to challenge a route that Jetstar take It said the Jetstar flew to Kansai from Brisbane This is true but you must connect through Sydney Although you would stay on the same aeroplane the flight number between BNE KIX change in Sydney meaning it is not a direct flight EG Flight SYD KIX FLIGHT KIX SYD via BNE That is how it work If you are not sure please check Qantas schedualing I wont edit the page now in fear that I will be banned',\n",
              " 'Support I and all the other Sikh Wikipedians on Wikipedia support you on Singh you are correct I completely agree with Sikh Historian I m busy at the moment but if we need to get Harrybabar permanently blocked then it should happen because his vandalism is unacceptable',\n",
              " 'Thank you for your RACIST experimenting with the page Katherine Heigl on Wikipedia Your test worked and it ha been reverted or removed Please use the sandbox for any other test you may want to do Take a look at the welcome page to learn more about contributing to our encyclopedia Now go FUCK YOURSELF YOU RACIST CANUCK ASSHOLE U HAVE NOTHING BETTER TO DO THAN CENSOR THE TRUTH U GODDAMN KKKKANUCK PIECE O TRASH DICKHEAD MORON MOTHERFUCKER LOL YOU CANUCKS R REAL RETARDS FUK OFF DICKWEED EDIT ANOTHER OF MY EIDTS AND YOU LL BE EXPEL FROM WIKI BY JIMBO YOU SOB DICKHEAD SO WATCH IT MOFO PIECE OF GARBAGE RACIST MOFO ASSHOLE IM TRYINBG TO BE NICE HERE SO TAKE WHAT i SAY AS A COMPLIMENT Yamla',\n",
              " 'Bulgars omg you are an admin and you protect the people who vandalise the Bulgars article these attacker are pan slavic ultra nationalist and they dont want to see the word beginning with Turk you help them remove reliable source Old Bulgars are changing into slav by your hand great',\n",
              " 'You must be logged in to upload file So In other word I have to sign up just to add thing to entry To hell with that This place can ROT for all I care',\n",
              " 'McKinsey Company I think the best route would be to drop a note at WP BUSINESS T C WP FOUR WP CHICAGO WP WAWARD',\n",
              " 'Message Long time no talk I wa just pottering around on Wiki and suddenly I thought of you So anyway how ya going I hope we can get along now Anyway there is an issue that I have that ha to do with Wikipedia A user on here had been stalking me and asking some innapprpriate question Do you have any idea of what I could do I know that user is also from Australia Could the police here do any thing Cheers for now',\n",
              " 'Thanks From my point of view there are difference and parallel between the two concept One parallel is that both concept are intending a territory with a homogeneous population The difference is the concept of racial hygiene is intending a homogeneous population regarding the criterium race whatever race might be the concept of ethnically homogeneous state is intending a homogeneous population regarding the criterium ethnicity A second difference is that the concept of racial hygiene ha led to more extreme form and method in political practice in history example the holocaust not only expulsion but also extinction of million of people in an industrially organised process User Nov th',\n",
              " 'Well I see FutPerf is getting quite angry now insulting other editor also And again their goal is make the point that the First Bulgarian Empire and the Second Bulgarian Empire are not Bulgarian or at least not related which help their long term strategy for the invention of a Macedonian nation and state think Bulgarian Tsar Samuel etc which existed from antiquity and the middle age That s it Tropcho correctly pointed out that direct political continuity is completely unimportant for the info box no other country care for this in their info box neither Spain Germany Ireland Poland etc What is important is to show how Bulgaria formed thru the age',\n",
              " 'Salutations J A P welcome to Wikipedia Perhaps you might find WP HOCKEY of interest',\n",
              " 'Be careful who you call a moron',\n",
              " 'Leadbeater Biography SmackBot problem Rich Regarding the C W Leadbeater biography article http en wikipedia org wiki Charles Webster Leadbeater on Dec Philosophus improperly reverted my extensive revision of Dec I removed all the smear and slander from the article yet he accuses me of having a NPOV problem No editor ha the right to revert the good faith contribution of another editor I will undo his improper revert As you made a minor edit or two since then your edits will probably be lost also Please communicate specifically what fault you find in the text and maybe we can work out some compromise wording if you are knowledgeable in the subject If you are not knowledgeable you have no business editing this article',\n",
              " 'Quoting Hoppe first Detailing Kinsella s important point At this diff I put in the Democracy section Hoppe s earlier comment first and followed with more about what Kinsella said i e Stephan Kinsella writes that Hoppe s critic have accused Hoppe of homophobia bigotry and the like based on these passage Kinsella wrote that that Hoppe s discussion of physically removing homosexual and other group only applied to private covenant based community centered around traditional value He shared a letter Hope wrote to him saying the gay couple down the street who mind their own business would not be expelled but only those who are openly hostile to the basic heterosexual or private property basis of society As I said in my edit summary just because some choose to totally take his comment about of context and attack him doe NOT mean that Wikipedia should be used for the same purpose talkie talkie',\n",
              " 'The fact of the matter is that Toei and Bandai have been using Gorenger to exclusively refer to the first Super Sentai series since at least Every subsequent series that ha the ending ha been ranger You can see this sort of thing on any of the print material released by them lately ha it a Gorenger while all the others have been Turboranger Zyuranger Dairanger Kakuranger Ohranger Carranger Megaranger Timeranger Gaoranger Abaranger Dekaranger Magiranger and Gekiranger I believe Gorenger is also plastered across their vehicle Ryulong',\n",
              " 'mark nutley ha suggested Instead of people edit warring they really ought to use the newest source Three to five million of this number died in Ukraine and in the heavily Ukrainian populated northern Kuban among the richest grain producing area in Europe Norman M Naimark Stalin s Genocides Princeton University Press August p http book google com book id F UwF eqb AC lpg PP pg PA v onepage q f false',\n",
              " 'I see that you just can t help yourself If you saw my being blocked a a reason to be victorious and now feel like keep telling on me to the administrator please do not use my talk page for that go the administrator noticeboard where the initial complaint wa posted and add yet another post Concerning your advice on what I need to familiarize myself with apply it right back at yourself especially regarding WP CONS and please understand that consensus is a product of a prior discussion not just any piece Wikipedia text that stayed unedited for a while',\n",
              " 'Gay The existence of CDVF is further proof that is a sad twat He is also very ugly and ha a willy for a face',\n",
              " 'Unfortunately judging from previous warning some people here have a rather unusual view of what personal attack are Pointing out that the individual accusing me of using sockpuppets were incorrect and in fact the two main people making the accusation have been harassing me for month and had used sockpuppets and meat puppet themselves for getting around edit conflict and to stack vote on a Request for Admin proceding a pointed out by several editor at the time certainly can not be considered a personal attack Pointing out that admins did not have any actual policy basis to make the block is not a personal attack and it ha in fact been confirmed by the overruling of the block more than once Frankly if you are looking for personal attack try yourself for your AGF violating attack on my action based upon limited information and actually misleading information given to you by other individual or David Gerard for claiming that I am trolling when all i am doing is defending myself from false accusation of others It s very clear that a number of people here need to realize that the very thing they are accusing me of and trying to justify for a block are exactly what they themselves are doing from behind the pretense of trying to solve thing If you want to start blocking for incivility I might suggest removing David Gerard for a while for his action or Elonka for falsely claiming that I wa using sockpuppets or that I wa harassing her or the sysop whose very talk page say he s going to go around blocking people no question asked and in fact did so after I caught him restoring placing illegal information on how to pirate software an article talk page Rules should apply to everyone and a number of people have been getting away with pretty flagrant violation and trying to rationalize them away by just labeling me a an alleged problem editor and not taking any sort of responsibility for their own action',\n",
              " 'Looks good to me I think a nice pic of Midtown from across the East River would be the best possible addition to the montage but there isn t one currently available on wiki common',\n",
              " 'Perhaps the question is more of philosophy than of mathematics and we don t have any regular at WikiProject Math who are philosopher of mathematics t c',\n",
              " 'Except for the fact that there s no information for the table NO confirmation on number of episode why don t you just put in so it s just clutter and NOT vandalism',\n",
              " 'Right on may which is not the star and bar',\n",
              " 'Perhaps GoodDay you could provide a diff for this thought a I am unaware of it BTW I hope the move is going went ok',\n",
              " 'It is also unfair that I can t respond to the allegation talk',\n",
              " 'I NEVER FUCKING MADE THIS MOTHER FUCKING ARTICLE I JUST FUCKING EDITED IT AND THAT WAS A FUCKING LONG TIME AGO FUCKING ASSHOLES PISSING ME OFF',\n",
              " 'Has anyone ever considered including tag team edit warring a a RR violation When two people act in tandem unintentionally or intentionally to make the same revert four time they may not technically violate the RR rule but they certainly do so in spirit This wa the problem on both side in the edit war on the Canada page and precisely what I wanted to avoid on the Dominion page Would it not be easier to warn editor a you did here rather than shut down page for week at a time a wa done in the Canada case I m sure this would cure the escalation problem without blocking access to page Any comment on this',\n",
              " 'Fucked with the wrong muchacho July UTC',\n",
              " 'Thanks but an unblock would be a compromise I live on the margin here creating article on various subject then see them deleted It s a form of performance art Many of them don t get deleted Medieval philosophy is still there and History of Logic to name a few I m one of those people they just don t know what to do with and I like it like that',\n",
              " 'Yes I do hope to get it to GA status in the future WP MOSTV state that for fictional character their storyline should come first and then the information on their creation and characterization It make more sense to read about what storyline the character ha been involved in before going into the production of it all The same style is used for article on book film and television show episode',\n",
              " 'Hi Im a fucking bitch',\n",
              " 'Please educate me a to how this article is a copyright infringement and if so from which source Once this ha been established could you explain how best to rectify the situation Thank you',\n",
              " 'Men s ranking Figure While nice to look at miss key time between Olympics and World Championships That s all there is to it in the title IIHF list a post olympics ranking and ranking presumably post WC To exclude this period is incorrect a it is a time where Canada wa ranked st overall Russia nd The same issue will happen this year a ranking will change twice after Olympics and again after WC',\n",
              " 'There are many broken nostril in this pancreas',\n",
              " 'That last line the new version is better is YPOV This new your version just complicates the issue and make the article le simple to read Tell me why MUST Boston be mentioned a a cultural and business hub at all This seems to be at the heart of your bias It appears a you want the viewer to get from reading it that Boston is somehow the nerve center and city that New England revolves around and look up to Why MUST this illusion be on the page',\n",
              " 'UTC It sound wrong because first it read are which is present tense ee and then it read used which is the past tense i reworded the whole thing to past tense because we are discussing already published work a opposed to work being published or yet to be published Arnfj r Bjarmason Sep',\n",
              " 'And you took your time to answer',\n",
              " 'Yobot incorrect DEFAULTSORT Hi Yobot an incorrect DEFAULTSORT It s puzzling a to why it didn t recognize the article a being about a person Among other clue it included birth and death date at the top a well a a which Yobot substituted to additionally include the correct DEFAULTSORT XA Ab AM',\n",
              " 'Biased unreliable emotionally written by armenin wiki editor Pls stop using the wikipedia for your dirty propaganda and lobbying purpose There wa no genocide THis is a amyth advanced by the armenian church and armenian fundamentalist fascist A nation can not be subject to a egnocide when it ha several hero for whom you can see statue in yerevan Irevan jew don t have it The resolution is the act of some sold congressman who want to appease the armenian lobby it ha no reliable valid and neutral content It is kjust a piece of dirty and lie fact presented and written by christian missionary working to kill Turks and Kurds in s You can claim to be subject to genocide a much a you want But this thing did never happen Some armenian fundamentalist and fascist who were killing Kurds Turks and Azerbaijanis were killed by great son of the Turkic nation and I am proud of them Go and propogate your lie a much a you can YOu will achieve nothing raman',\n",
              " 'Add Mobile porn a additional WP ALSO link',\n",
              " 'Smer SD Why is the Slovak party Smer SD between Non Inscrits They are regular Socialists They used to be out of PES but that wa settled pretty long ago Liberal Nationalist',\n",
              " 'UTC Has anyone considered how matter the stuff we are all made from actually interact with time and time travel If I were to travel back in time would I be frozen and isolated in spacetime whilst everything else around me travel backwards in time or will I also physically and biologically travel back in time that is I get younger and younger and then disappear because I wa not yet created thus defeating the Grandfather Paradox Although if it were possible for signal or information to travel backwards and forward in time doe this possibility automatically extend to matter a we know it ie particle giving rise to electron proton and neutron and ultimately biological being such a ourselves July',\n",
              " 'I want to offer you a tremendous thank you for your suggestion which I believe will be paramount to the successful inclusion of RantMedia I ve vastly improved the article since the AfD nomination a well a since yesterday afternoon I wasn t clear to me what wa necessary to be done with the article and you were truly the first to really answer my question of what is it going to take So from the bottom of my heart thank you T C',\n",
              " 'I have to laugh when watching the supposedly BRITISH national news with guy barely up to their ankle in snow implying that Ragnarok is upon u yet on the same day when tree are being blown down and main road being blocked by snow in Scotland it doesn t seem to be noteworthy Scotland routinely get ignored on the national news and even people from the north of England were complaining about the fuss made by the southern oriented news Tourists appear to be amazed that thing are falling apart because of something like this My mother had a very good giggle at the reporter live in Trafalgar Square in a couple of inch of snow or beside a main road barely ankle deep Lance Tyrell',\n",
              " 'A friendly advice if you have to refer to me kindly use Cult Free and not only Cult',\n",
              " 'Great link IMO the American people are on the whole good and decent but the so called leader are fully controlled by an Elite bent on domination and control This whistelblower say the same talk',\n",
              " 'Queen s University As stated previously I am quite pertrubed and to be quite honest frustrated that you would remove the section pertaining to the university s tradition Do you have a personal vendetta against the institution or dislike it For whatever reason you removed the compliation of material regarding the Jackets and other tradition which I find odd considering similar tradition have been allowed to remain on other university Wikipedia page Mindlessly deleting material without group consent constitutes vandalism and while I am sure that your intention wa not malicious it wa a short sighted move on your part Please allow u to discus this in greater detail',\n",
              " 'January UTC The argument at WP NATURAL seems to rely on showing that the other name is common so you need to prove that the other name is common Numbers might help a bit Also above we are told that Gohatto rather than is the name of the film in Japan but this turned out to be false Incidentally Ryuhei Matsuda it seems to me look more like his mother than his father What do you think Also how authentic is the portrayal of the Shinsengumi in this film Do you have any historical insight',\n",
              " 'Unspecified source for Image Metropolitan of Moscow Makariy Nevskiy jpg Thanks for uploading Image Metropolitan of Moscow Makariy Nevskiy jpg I noticed that the file s description page currently doesn t specify who created the content so the copyright status is unclear If you did not create this file yourself then you will need to specify the owner of the copyright If you obtained it from a website then a link to the website from which it wa taken together with a restatement of that website s term of use of it content is usually sufficient information However if the copyright holder is different from the website s publisher then their copyright should also be acknowledged As well a adding the source please add a proper copyright licensing tag if the file doesn t have one already If you created took the picture audio or video then the tag can be used to release it under the GFDL If you believe the medium meet the criterion at Wikipedia Fair use use a tag such a or one of the other tag listed at Wikipedia Image copyright tag Fair use See Wikipedia Image copyright tag for the full list of copyright tag that you can use If you have uploaded other file consider checking that you have specified their source and tagged them too You can find a list of file you have uploaded by following this link Unsourced and untagged image may be deleted one week after they have been tagged a described on criterion for speedy deletion If the image is copyrighted under a non free license per Wikipedia Fair use then the image will be deleted hour after If you have any question please ask them at the Media copyright question page Thank you Do you want to opt out of receiving this notice hi',\n",
              " 'Percent Koreans eat Dog Meat Koreans have tried Not regular Korean Food Diet Don t genearalize or finger point that all Koreans eat Dogmeat That isn t true',\n",
              " 'Support Lets protect and save this page from User Balagonj This page ha full of error and invalid reference',\n",
              " 'Apparently I thought Tom wa offline and filed an edit warring report and YellowMonkey picked it up before Tom mentioned the page protection We ll see if it stick',\n",
              " 'Newsletter draft ready Hi Dank I have prepared an initial draft of our drive wrap up newsletter at Wikipedia WikiProject Guild of Copy Editors Newsletters April if you could find the time to check it over before it go out that would be super Thanks',\n",
              " 'should be omitted entirely',\n",
              " 'Is that not a true description on a booger if not then prove to me what is',\n",
              " 'Stay off my talk page stalker',\n",
              " 'Anthony de Mello Hi I need this page written Anthony de Mello It currently redirects to a priest Do you have any suggestion on the dab title cricketer',\n",
              " 'Thanks And happy new year to you too Let s talk about it',\n",
              " 'more mature way Central posted',\n",
              " 'Stop Vandalizing my USERPAGE I know it s someone from here',\n",
              " 'Oppose I do not think a merge is a good idea',\n",
              " 'Maybe but that doe not lead to the conclusion that the TAIP aircraft remained in Africa and did not return back after ferrying the soldier The article on colaco net also doe not shed any light on this',\n",
              " 'Thanks Thanks for the thanks I just leave them in my watchlist after I found an archive full of vandalism a while back Given that it wa slashdotted I suspect we will see a bit more of it I might get someone else to fully protect it if it continues I can t do it because of COI I would also like to thank you for keeping an open mind Changing vote is an encouraging sign of Good Faith Regards',\n",
              " 'Hello If you re interested we could really use your help',\n",
              " 'F K ALL RIDES AT WORLDS OF FUN I hate all ride at Worlds of Fun because they are sh tty and boring All ride operator at WOF should be fired sued and hanged Burn all WOF coaster Arrest all WOF park operator Assassinate all WOF customer I heard that a boy died on Timberwolf on August That s stupid Worlds of Fun should have nown better to built that sh t ride Worlds Of Fun care about money and prophet moar than they re customer Burn that sh t park down F K YOU RIDES WorldS Of Fun is dangerouser than GRround Zero and Area Worlds of Fun should burn in Hell',\n",
              " 'As to Job for you Sure thing a soon a I find time for that Also I notifyed NovaNova asking him to start editing the http en wikipedia org wiki Croatisation This guy know a lot about Croats and their history',\n",
              " 'Oh ok I just wanted to see what people thought Anyway it up for CSD Hey do you like my talk page I hope you don t mind talk ER',\n",
              " 'Wrong The capital is Podgorica a it ha always been since July The seat of government parliament AND PRESIDENT is in Podgorica Cetinje is only the seat of the Kingdom of Montenegro in exile And besides only capital city have embassy and Podgorica ha them and do you see any in Cetinje no Besides no one in Montenegro nor in the world say that Cetinje is the capital of Montenenegro but instead they say it is Podgorica And also that consitution wa adopted in very outdated and a new one is due next year',\n",
              " 'Mark II subsec I removed the Mark IIx subsection and made them bulleted list There wa no reason in my eye to subsec one line of information',\n",
              " 'Can there be a more concise listing The listing of other invention is profoundly vague Why group different category together Why even mention thing that the chinese received purely from outside source There should be a much more complete well managed list of chinese development which I ve yet to find along with how these were transmitted globally and whether or not place like Europe got them purely from the Chinese This really need the attention of people with some remote expertise which I guess is somewhat there when Needham s work which is profoundly rare in private collection wa cited not like the arrogant bigoted as who wa cry about chinese nationalism yet then went onto say that they only invented noodle And besides why are thing like the cannon and porcelain listed under other invention Who developed these independently',\n",
              " 'In history there could be a consensus view or a mainstream view in theology there is no mainstream or consensus view since most of theology depends upon the church membership of the theologian Historical scholarship aim at universality and objectivity while theology make no such claim It is true that there are million who believe that JEDP wa birthed in hell or would believe it if they knew what JEDP mean so in principle their view is notable but a Enns said it is a fringe view in the academe even among scholar who actually disagree with JEDP The source used to build Wikipedia are academic source therefore JEDP and it st century offspring are given by default the weight they have inside the academia while the view of the fundamentalist is treated according to WP UNDUE This doe not mean that Wikipedia could say that the fundamentalist are theologically wrong Wikipedia ha no theology of it own but it is entitled to say that inside historical scholarship they are a fringe view Of course this doe not exclude serious scholarship done at religious faculty since a Ehrman said in one of his bestseller US mainline Protestant and Catholic theological seminary and divinity school do teach mandatory historical criticism class So in a sense scholar from such faculty are thoroughly acquainted with historical criticism and built their career upon it assumption Only fundamentalist seminary and divinity school choose to default against historical criticism They are free to do this but this cut against their claim of being mainstream historian',\n",
              " 'Well i m sorry but attacking me and my edits is exactly what you re doing wow there s some seriously snotty people on wikipedia And yes there is a need to separate the featured single DEFINITLY',\n",
              " 'TfD nomination of Template SilentRedirect Template SilentRedirect ha been nominated for deletion You are invited to comment on the discussion at Wikipedia Templates for deletion Template SilentRedirect Thank you talk Watermarks I shall remove the obvious one the le obvious one stay I am allowed to watermark image with anything whatsoever I wish to even if it s a contradiction and if you wish me to use up further WP bandwidth by re uploading them that ha no effect on me I can t do anything until this evening and if any get deleted I shall reupload them Yours without respect talk email You could have the grace to reply I said that I d deal with them this evening but only the one where the watermark is visible from the page So off talk email I am planning to re upload them with le obtrusive watermark such a that on Image Bliss parody jpg talk email It wasn t vandalism I used an external link a per your instruction which incidentally I m not bound to follow I am certainly on the verge of requesting mediation a you are disrupting my life never mind WP to make a point I will tell you one more time any image are better than none If you wish to get your own pix of all the concerned image you re damn welcome to try but they are GFDL therefore there s no ground for removal talk email PS I shall add the external link again not a an image and if you remove it I shall make a formal complaint to the Wikimedia Foundation and the Information Commissioner in London talk email your conduct is a little off in this matter While I m all for discussing the issue with user let s keep it civil please Thanks talk I disagree Rob it is far more than a little off Images watermarked a such are not in any way appropriate for Wikipedia This is an encyclop dia not a pet image project If TheDoctor isn t happy to play ball he can go elsewhere talk I am proposing a change to the image use policy to forbid watermarked image Please voice an opinion at Wikipedia talk Image use policy User created image Thanks talk I edit from the United Kingdom and under the Computer Misuse Act the editing of information online is illegal without permission The button at the top of every page that say Edit this page among other thing constitutes that permission while the policy and guideline form condition Since there is no condition against my image it ha a legal right to be there Q E D talk email True but therefore your addition fails under the same logic Also Wikimedia own the server it s their right to delete it ID Apologies to Ed for invading his talk page but what a load of rubbish Wikipedia are under no legal obligation whatsoever to host your image regardless of whether they meet any policy I have no idea under what flawed logic you presume that the fact you can edit Wikipedia mean that your edits must legally be accepted If the Computer Misuse Act state that the editing of information online is illegal without permission that implies that editing with permission is legal and nothing more Furthermore by your logic I have the legal right to edit Wikipedia and remove your image I fail to see what on earth you intend to tell your lawyer but I don t imagine the Wikimedia board are too concerned talk Ignoring the gibberish i',\n",
              " 'ARTPOP album Hello thank you for all your contribution I make this message in good faith Please do not make hidden comment like this stating that an editor will be blocked if they remove a redirect I am in no position to be asking this but I am saying this a it could turnaway new contributor who aren t aware of the rule feeling they have been bitten In this case I think a kind user talk page message would be more appropriate and effective Also you edit wa reverted so I reverted it back to your version but also removed the block warning a it is not appropriate no admin will should block just because a user removed a redirect specially if that hidden message wa their only warning Feel free to correct me if wrong Again I write this in good faith Cheers Huntley',\n",
              " 'Crown Prince Wouldn t it have been Prince Elect Denmark wa a elective monarchy during this time',\n",
              " 'Hamish MacDonald disambiguation Hello Just to let you know that a this now only ha two entry one of this name and one with a very similar name I have tagged it for deletion using Template db disambig If you have any question about this please let me know Best wish',\n",
              " 'My cent a someone close to the Korean American community It s pretty standard practice to give both an American and a Korean name at first I don t know for sure that that s the case here but wouldn t be surprised It s probably explained in her book',\n",
              " 'Died in or not I think it s better to settle the matter here instead of going back and forth So the IP user claim that the whole thing is a hoax that she died in Europe year ago and that there s no Hawaii obit First of all is the Forevermissed a user submitted website Do you know her family personally or do you know somebody who know the family We d like to get a more elaborate explainantion behind the claim that she s been dead year ago I see that her supposed obituary is pretty detailed Are the rest of the biographical information accurate though And the picture',\n",
              " 'August UTC Dear The hour block that you placed on my account yesterday for personal attack ha just expired and while I must say that I wa not happy about the block I harbor no hard feeling towards you If you check my previous contribution you can see that I have been a productive editor on Wikipedia I d just like to let you know that while I wa guilty of personal attack against and I wa goaded into doing so by these two individual In order to avoid future block I promise not to engage in anymore personal attack and if I am goaded by troll such a these two individual I will simply ignore them wa repeatedly reverting a comment which I made concerning statement made in the Hugo Chavez article which I found to be biased My issue with concern his nastiness and uncivility He is far too possessive of article which he ha created and he becomes very angry when edits are made to such article After multiple revision of LEGITIMATE edits which I made to his article I told him to leave me alone He proceeded to foul my discussion page with unwanted and unsolicited comment When I objected to this he goaded me into calling him a profanity While I respect your role a a Wikipedia Administrator I d like to respectfully request that in the future you exercise better discretion when blocking a user based on one sided information Thank you for your understanding',\n",
              " 'Links in Results A mess link anywhere except the actual book',\n",
              " 'It wasn t me that added the Glebe Park link though I might ve wikified it I ve never actually been there so I m afraid I won t be of much help at the moment though I ve been meaning to go look for a while',\n",
              " 'Go away Why did you revert my edit on Blowdart s user talk page Surely thats his privelege Users like you give wikipedia a bad name Stop being such a busybody',\n",
              " 'the head ways pound and feel like play dow dont tuch them they will fall off',\n",
              " 'Sarek of Vulcan Unfortunately for you you can not ban a fact Sarek of Vulcan Unfortunately for you you can not ban a fact Fact Lawrencenkhoo told me here on Wikipedia that company keep their retained profit in the bank Fact That is absolutely untrue Fact Sarek of Vulcan ban me for stating that Fact Sarek of Vulcan can ban me but can not ban fact',\n",
              " 'Keep your chin up Darwinism wa not accepted over night There appears to be more sense in the AAT origin than the sort cut hypothesis that our ancestor went from swinging in tree to the prairie and then eon later take up a sedentary life style so they could edit Wikipedia and face book etc all day One only ha to watch little kid on the beach The first time a wave throw them bottom over elbow they may well cry but after a time they can t wait to get into the water again It is a if being at home on a sea edge environment is hard wired into their gene Unfortunately the rise in sea level since these time mean that evidence of these coastal community may never be found Keep plugging away until the old hypothesis fade away',\n",
              " 'Nazi filth is impolite Jan UTC',\n",
              " 'Interesting I checked the other case number Kunzang Lhamo cited which can t be used for Wiki since it s original research But going a step further I can t find that case number on San Bernadino s Open Access either in civil or criminal record',\n",
              " 'The transcluded part of the GA review doesn t seem to update into the main talk page of the article correctly May have to click to go to the subpage to get the most up to date version Sorry it looong You can skim most of the content related stuff I guess',\n",
              " 'Protecting Causes of the Palestinian exodus Hi Can you explain on it talk page why you protected this article There is some edit warring going on but not very heavy for the standard of this article Also I am a participant in a mediation case but that concern actually only the use of one source on this page and is irrelevant to the present edit warring Therefore I wa wondering about your motivation Regards',\n",
              " 'Hello I check this personal page very often Please leave message here on on the discussion page Tks Marvio',\n",
              " 'My thanks to you for this I note that I am being dressed down for everything from being nice to editor I like to work with all the way to deleting messy post from my own talk page Well a mess is a mess Again thanks Stephen Please don t take that a gratuitous or ingratiating imacowboy',\n",
              " 'I don t care what you say here I don t believe one sentence anymore',\n",
              " 'Anytime you want a nightcap tell me',\n",
              " 'Meet a Local Vietnam TV Series Factual Documentary min Meet a Local Spain TV Series Factual Documentary min Meet a Local Tasmania TV Series Factual Documentary min Meet a Local Ireland TV Series Factual Documentary min The Way Camino de Santiago Feature Factual Documentary min African Stories Online Factual Documentary min Overlander Multimedia for the ABC The Outback Boxing Troupe Online Factual Documentary min Overlander Multimedia for the ABC Australia Production Company Returning Home A Story of Ararat Online Factual Documentary min Overlander Multimedia for the ABC Meet a Local East Coast Australia TV Series Factual Documentary min Meet a Local Outback Australia TV Series Factual Documentary min',\n",
              " 'Globalization and Ivytrash I am not Ivy anything That wa my home I wa born and raised block from Harvard Square and it wa once the greatest place in this country I am not interested in globalization I look at the square and see the smoking ruin of my home When this happens to you I hope globalization is comfort enough for you',\n",
              " 'He is self confessed and approved by my observation see e g history of Soviet partisan BTW you re the first to object',\n",
              " 'And btw speaking of the Armenian genocide if we are to follow wikipedia convention of most common name and I don t agree Assyrian is the most common name a we also have proven many time before we should change the name of the current article Assyrian genocide to Seyfo',\n",
              " 'To quote If a Wikipedia article link to this page it is because someone is concerned that the article contains inaccurate statement s Such statement are followed by the following warning dubious discus The accuracy of a statement may be a cause for concern if It contains unlikely information without providing reference It contains information which is particularly difficult to verify Please DO NOT remove my dubious reference edits a that would be against the guideline there wouldn t it',\n",
              " 'Belarus a developed country Hahaha nothing more to say',\n",
              " 'Censorship on Islamist Terrorism Try not being a censor monger Properly cited information should not be deleted',\n",
              " 'If you would like to write an article of Bill s father including his rise to CEO of Commonwealth Edison feel free This article is about Bill We re not writing a chatty book lenth biography about him but stating fact same a other biographical article in Wikipedia The detail of his father s career are irrelevant although his eventual stature a CEO is not This is yet another issue that ha already been resolved',\n",
              " 'Thanks Really cool tool for purpose like what I have on my userpage Best Tally ho',\n",
              " 'It is funny because i would say exactly the same thing for you Astarti the anonymous user with an ip from greece and the user WilliamThweatt Accusing people without a reason is not allowed in wikipedia As per wikipedia rule you are free to ask for an investigation In fact i do kindly ask you to do so If this vandalism persists i will seek an arbitration I do kindly ask from any moderator to see all the reverts and i am confident that they will conclude that they have been mal intentioned with a clear nationalistic agenda you all guy have something in common you are all greek all of you',\n",
              " 'I just watched the entire series and I agree this entire article and several other in the suzumiya haruhi article are all from a somebody who know haruhi personally sort of view So Im going to fix it',\n",
              " 'Agreed will take a stab at it It also need major formatting cleanup and Wikifying it sound too much like a fan conversation the reference are all either YouTube link or personal communication I m trying to at least pare down the BEST MUSICIAN EVER statement could use some help with the discography section too',\n",
              " 'Vandalism is for e g this type of edit somebody said that The Stig wa leaving so I reverted it basically I reverted it because there wa no source to suggest that he wa leaving so I do know what vandalism is I just want to carry on editing Wiki I love this place it s amazing please don t make me leave now that I ve explained myself please please unblock me Thanks',\n",
              " 'Baer didnt invent video game This is jewish propaganda supported by a wiki troll named Goldberg Go figure Hey goldberg try educating yourself http www youtube com watch v EfBwz SiK s',\n",
              " 'I can tell you what the argument is about here newseventsguy It s about YOUR retroactive reversion of a simple edit trying to include secondary independent verification of sedimentary nanodiamonds in Younger Dryas sediment by Bement and Madden et al WITHOUT DISCUSSION a reference that I notice ha NOT YET been included in the reference list still after all this time This is after you ADMIT that you are ignorant of the peer review literature and the controversy Any attempt to do simple reference list edits on this page have been stomped by no le that five admittedly biased and ignorant editor The honorable thing to do here would be to recuse yourself from editing the page a I have But I haven t seen that happening until now Good luck with it you ve already made complete fool of yourselves',\n",
              " 'HELLO HOW DO I GET SOMEBODY TO FIX SHIT AROUND HERE',\n",
              " 'Dictionaries How dare you call my contribution spam I am a Kurd and I made a lsit of kurdish dictionary you bloody turkish nationalist and atoricity commiting bone breaking Nazi watch out folk this slimy Turk is trying to censor the internet this is not undemocratic Turkey here no prison cell in wikipedia you stupid Turk And you bugger want membership to the EEC',\n",
              " 'Apparently other editor agree that the edits I made were justified A group of meat puppet working a a team to revert an article to their own POV is what ha caused this block At issue wa the advert tag which is justified wa placed on the article by one editor replaced by me replaced again by another editor and replaced again by me Three editor so far have indicated the tag belongs there I m sure a forth editor is going to weigh in on this side too The article is riddled with brochure language Please note that I wa removing brochure language right up to the lock up of the article There s still lot more in there that need to come out before the advert tag should be removed Additionally I don t believe I broke the RR rule which requires a fourth reversion',\n",
              " 'While I agree that Indus valley civilisation is the correct name for the civilisation the passage quoted above is not neccecarily factual in term of saying Second there is no proof at all that the mighty Sarasvati of the Rigveda wa in fact this now dry river the identification is itself open to doubt Apart from there being fact proof to indicate that Saraswati did exist a this dry river including geological fact a to why it dried up The evidence also point to the fact that it wa NOT a tributary of the Indus refuting point of the passage quoted above and in fact drew the water of the Sutlej and the Yamuna to be a river system of it s own And though a large number of site have been found along this river system none of them are of the scale of Harrapa Mohenjodaro leaving the Indus Valley tag a the correct one Saraswati did exist today the timing is disputed and not the existence Wheter it is vedic and indic v Harrapan and non vedic is more disputed today than it s existence',\n",
              " 'December UTC Thanks I have started working on Pranagnihotra Upanishad but I am unable to get the full text from the Deussen s Sixty Upanishads page do not appear in the book under Google url Can you suggest a url which give the full text In the meanwhile I have completed this short article Sharabha Upanishad which you may like to see and add edit Nvvchar',\n",
              " 'I insulted people on en wiki with criterion to provoke my filter set You are simply abusing the power people handed over',\n",
              " 'Excellent That would be great The comment found at it peer review should also be very helpful but I haven t had any time to actually act upon those suggestion Cheers Hello',\n",
              " 'How do you know he is dead Its just his plane that crashed Jeezz quit busting his nut folk',\n",
              " 'Afican Union site vandalism Dear BracketBot I wrote this note to inform you that an editor is performing act of vandalism in the website of the African Union http en wikipedia org wiki African Union Please I would appreciate if you could tell me who I should report this action the Board Index name is http en wikipedia org wiki User Knisfo',\n",
              " 'You are a know it all Jimbo Why don t you get a life instead of sitting in front of your computer all day The high priestess of knowledge indeed',\n",
              " 'All of those statement need to be referenced Leaving an article unreferenced in every section open the door for original research and the introduction for factually inaccurate information To point out one thing I ll bring up Consolidated Appropriations Act First it ha a number of tag on it the creation of article that need to be tagged should be reason number to remove the flag Second the only reference link provided on the article is this one while the information is from various subpages of that It appears that the entirety of the article is found at this deeper link It s possible that some came from this a well I can t tell I ll also note that the style of the summary it wa taken from wa never meant to be encyclopedic so the article is riddled with grammatical error mostly incomplete sentence On creation the opening read Consolidated Appropriations Act H R is a bill passed to the th United States Congress I ve never heard this usage to rather than by and assume it is incorrect another editor changed it the lead is also missing an important determiner In any case you can take a look at Vesey',\n",
              " 'Ok I just ask For your experience what you think about the portal',\n",
              " 'Sitush how can anyone assume good faith when you have been writing so much against Yadavs on that page It is evident from the discussion how conveniently you have been selecting source for negative and then conveniently rejecting the same source for the positive You are the only person spamming on that article and vandalizing it Yes I will contribute to other article on Wiki too but let me first correct thing on Yadav a so much wrong ha been going on there You got Ikonoblast banned and now you have got me banned and you will get anyone banned you differs from your biased stand on Yadavs but I am not going to give up I will follow all WP policy and will ensure that I get thing corrected on Yadav and dont let your and fowler personal view dominate that page Peace',\n",
              " 'December UTC Don t worry I told you I had your back and I ll continue to defend ya Yup we got our proof of work When I first saw it I wa like That s no reliable source cause I remember you reverted that source one time But when I looked over the article and saw Ref I wa like Oh shit so I reverted it I m glad you went going back I m glad my two word have gone on to save me Question Would you like for me to expand lead on all SS member Hit',\n",
              " 'November UTC I agree with Clearly Santilak is using up his usual bag of trick SantiLak please discus the article courteously and professionally',\n",
              " 'Ok I like the pyx lax track very much indeed If you could point me towards other greek trad music that would be great and greawt for me Here are some Irish Non visto Provvedi',\n",
              " 'where s with pitchfork already Jun UTC',\n",
              " 'Again reinstated sentence about Nobels in the first paragraph for the reason stated above If others disagree that this is a defining characteristic of Bx Science that should be indicated right up front in the summary paragraph then can we discus it here rather than playing edit game by removing text without either edit summary or discussion on the talk page',\n",
              " 'I m disappointed it wasn t a successful run but it',\n",
              " 'Elvis Crying in the Chapel Feudalist',\n",
              " 'Please refrain from adding nonsense to Wikipedia a you did to Fisting It is considered vandalism If you would like to experiment use the sandbox tlka',\n",
              " 'Elizabeth Hi lil romeo I am one of your biggest fan I really like you I always dream of you at night I would like you to come to Dallas Tx to Ignacio Zaragoza and give a concert at this Elementary school I am in the th grade and I am year old I want you to come and help me with my homework See you later I will write to you soon By',\n",
              " 'Hi Fracophonie Thanks for taking the time to write such a long message I appreciate this In term of what I said about the age I didn t mean to cause offense I thought I read somewhere that you had to be over to make these decision but I think I wa getting confused with the check user privilege I have already read some of those policy but will read the rest later today I am not a troll I just need time to get used to all these acronym policy etc From what started out with me writing an article about my favourite website ha turned into a massive thing which wa not what I wa expecting I really don t have any more time to argue and debate with the usrs since it clear they just want it deleted despite what I have said For example one user just wrote there is another site called Amirite net This is Amirite com This is precisely why I had to keep responding on the AFC delete page In term of the rest I agree to do them of course I can only apologise once I am unblocked can you apologise for me On a side note I am actually French and Jewish shame about the gay part though',\n",
              " 'Welcome Hello Soundchu and welcome to Wikipedia Thank you for your contribution I hope you like the place and decide to stay Here are some page that you might find helpful The five pillar of Wikipedia Tutorial How to edit a page and How to develop article How to create your first article using the Article Wizard if you wish Manual of Style I hope you enjoy editing here and being a Wikipedian Please sign your message on discussion page using four tilde this will automatically insert your username and the date If you need help check out Wikipedia Questions ask me on my talk page or ask your question on this page and then place help me before the question Again welcome WikHead',\n",
              " 'I removed the content after it wa tagged a uncited by Mattisse If every commonly known fact need a cite because some editor en passent want to nominate for FARC then it appears we have a problem I very much suspect Mattisse s motif here but frankly I am too tired of her to be bothered to explore them Perhaps one of her probabtionary mentor more interested in her than I would care to deal with this',\n",
              " 'Is Jeff Garcia gay or not',\n",
              " 'That wouldn t be sufficient you need explicit permission to use text copyrighted by someone else under a licence suitable for Wikipedia Please read the guide to requesting and formalizing permission to use copyrighted work on Wikipedia Note that in addition to copyright requirement the article must still comply with notability guideline advertising prohibition and avoid conflict of interest talk',\n",
              " 'The section is useful info and should stay you are clearly wrong',\n",
              " 'Comment So now we are stuck with a week of broken link Since you acknowledge that the move wa a mistake and not uncontroversial will you please revert it If anyone want to dispute that the opera is the primary topic they can do so under a proper requested move discussion a they should have done in the first place If you are not willing or able to do this today I ll ask a another administrator to do it',\n",
              " 'It need to be included in the context of a well I ll try and dig up some source User Talk Review me',\n",
              " 'Tim firstly I appreciate you taking the time to discus this issue offline and for your willingness to debate it at length here despite the majority view here being in your favour Yes I certainly agree with your friend that it is very important to describe the jurisidictions that a firm is present in there is clearly a massive diffence between say having office in the French or Japanese jurisdiction or between the Chinese and U S jurisdiction since the legal and regulatory system are very different a well a the commercial characteristic of the market Beyond that however it remains my firm view that there is a big difference between a law firm having an office in say Paris or Toulouse even though they are both in the same jurisdiction I appreciate that the situation in the U S is slightly more complex since you have both federal and state jurisdiction Even within each state there will be big difference between the legal market in different city though To give an example the San Jose market will be not just a lot smaller overall than the Los Angeles market but it will also have a quite different profile on the whole a lot more specialist niche and focused on high tech To give another example in the UK a law firm could never be regarded a being truly top tier if it didn t have an office in London even if it had office in every other big city In fact all of the very top tier UK firm DLA Piper is not yet regarded a one of them despite it size have just one UK office in London although they have other office overseas Saying that DLA ha ha office across the United States Egypt South Africa Kenya Thailand China would in my view still mean a loss of valuable information to the reader We could fall back on using description like in major financial centre or in major commercial centre or in a combination of major financial centre and major commercial centre but then we are introducing what is in my view an unnecesssary element of vagueness imprecision and even original research I do accept that DLA with office is right on the borderline of having too many office to make it practical to list all of them in the article However I do also feel that there is an important general point of principal that information about the office location of a law firm is very valuable information to aid the reader of an article in understanding the subject of it and should be included a much a possible',\n",
              " 'No problem with that at all If you don t think that there is a problem with someone siting that I have a mistress then it just prof my point a to how far this site is to being an actual encyclopedia It s a forum not an encyclopedia Big difference And that s not even what piss me off the most about my page Thank god I m single with no chick bitching me out or that would be another attorney fee I d be handing out to sue whoever owns this site I m done bitching about the mistress thing My whole page ha error from the very first line down to the very last line and that is no joke First line and the last line are wrong',\n",
              " 'Sprecher Brewery I took the tour this christmas when visiting my sister We were charged an extra for the glass Their website may not be updated but that IS the current pricing',\n",
              " 'iPad talk page Why did you remove that IP s edit to the talk page It wasn t spam',\n",
              " 'Speedy deletion of Andrew takao A tag ha been placed on Andrew takao requesting that it be speedily deleted from Wikipedia This ha been done under section A of the criterion for speedy deletion because the article appears to be about a person or group of people but it doe not indicate how or why the subject is notable that is why an article about that subject should be included in an encyclopedia Under the criterion for speedy deletion article that do not indicate the subject s importance or significance may be deleted at any time Please see the guideline for what is generally accepted a notable a well a our subject specific notability guideline for biography If you think that this notice wa placed here in error you may contest the deletion by adding to the top of the page just below the existing speedy deletion or db tag coupled with adding a note on the talk page explaining your position but be aware that once tagged for speedy deletion if the article meet the criterion it may be deleted without delay Please do not remove the speedy deletion tag yourself but don t hesitate to add information to the article that would would render it more in conformance with Wikipedia s policy and guideline',\n",
              " 'Image Image deletion warning Image Metroid Prime Hunter title screen top display jpg ha been listed at Wikipedia Images and medium for deletion If you feel that this image should not be deleted please go there to voice your opinion August UTC',\n",
              " 'The real personal attack are the repeated undoing of my edits by everyone else',\n",
              " 'Nope I didn t read the guide to appealing didn t have time The user in question IS engaged in harassment I ve been doing this long enough to know and I can prove it He she immediately placed a threatening notice of blocking me permanently on my user page reverted the article while I wa in the midst of editing it my second pas couldn t even preview change then changed his her mind a to my real wiki sin since the onus for proving the Doris Day available a PD on archive org wa on him her not me and the usual span for pre Bern had expired long ago decided my REAL sin wa Original Research oh no and continued to revert based on that Does OR add clutter Sure it can but if the user in question wa REALLY concerned about that about the quality of the article and about extraneous detail WHY DIDN T HE SHE EVEN NOTICE two paragraph already there comprising about of the entire article dealt with Norman Schwarzkopf an unrelated book and an unrelated ice cream store name I ll tell you why the user wasn t engaged in good faith goodwill editing and the normal back and forth that lead to better article He she wa involved in blocking input to the article Why Was it personal against me or wa it to preserve the existing content of the article including the false claim and extraneous material not even concerned with ther subject at hand I can only speculate but I d guess it s some sort of power trip and wiki bullying I don t really have time for this I have made a fair number of very good edits over the year and have usually refrained from saying anything that isn t directly related to content and improving article I could pretend this user didn t do what he she did but I m wasting my own time here and I don t really have a stake in any such pretense I don t have any stake in improving this article either no dog in the race I just see how it can be improved and made more informative As a long term wikipedia user and editor I don t see any problem in jumping in and fixing something I almost expect some sort of pushback now but not over completely minor edits which are very good and on target in very minor stub like article The problem isn t me here it s that if people such a the user in question can get away with this sort of behavior and they are getting away with it wikipedia becomes a much poorer place a playground filled with bully rather than a library where we can all learn and share Also I don t recal ever having called him her a bot I think you put those word in my mouth perhaps inadvertently His her behavior is malicious but probably not malware just the normal human collection of problem I think this user should be warned against trying to be a gatekeeper he she isn t quite qualified for that at this point anyway and it s having a very chilling effect across wikipedia I won t egnage in a battle of the wikipedia rule acronym I will continue to write in English and to read article on wikipedia in English and to think of way to improve them in English I am fully aware of how the term vandlism are used and misused here and most of the rest of the wikijargon Nothing new under the sun here If you read the edits I made carefully and note the time of the reverts and the history of action by that other user you will see I m not off the mark here at all I know what s going on I don t know why but I don t have to and I expect the motivation aren t interesting Respond if you have anything to say',\n",
              " 'the communist state all three call themselves a the socialist state communist is the word that westerner use so should that name be changed',\n",
              " 'Boze Hadleigh a journalist interviewer and writer primarily of gossip about homosexual of Hollywood',\n",
              " 'IMDb content is user submitted and often subject to incorrect speculation and rumor The use of the IMDb on Wikipedia for referencing is considered unacceptable and strongly discouraged Wikipedia WikiProject Film Resources self published medium are largely not acceptable This includes any website whose content is largely user generated including the Internet Movie Database IMDB WP USERG As I ve said this is a long standing consensus If you disagree I encourage you to take it up at Wikipedia Reliable source Noticeboard',\n",
              " 'I m new to this mean of communicating and I am not sure that I expressing this in the right form However I am reviewing all of the recent MA nomination expected to go on the web in the next couple of month In the process I have developed a database of corrected lat long decimal degree based on Google Earth and photo and assessor map in the nomination file I would like to share this if there is a way of doing it Alternatively to find a way to EASILY check and correct existing coordinate on the Mass Wiki Lists Would this be useful for anyone',\n",
              " 'Y kgtp actually reverted the vandalism I did not',\n",
              " 'Yes I have read them both and I will now ask you to provide back up for your story Not that it matter in the least the one religion is a bad a the other But you better have some proof for your claim ChatNoir',\n",
              " 'I think the error is that it is gram not kilogram So kg I m editing the article til we have a better result If I m wrong please change it back Dec UTC',\n",
              " 'Vince FYI Yellowfrogs is Longdendale Councillor Sean Parker Perry a frequent purveyor of Greenwash and four square behind the destruction of Swallows Wood via his support for the bypass He is vigourously re editing the wikpedia page on the Longdendale Bypass his own and Roy Oldham s page in order to boost his fake green credential and obfuscate the neutrality of these article He get nasty if he get pissed off threatens spurious legal action but fortunately he s legally illiterate so don t be put off',\n",
              " 'Summary of situation User ShimShem ha taken a dislike to this article and ha tried numerous method to either get it deleted or it name changed Completely invalid speedy deletion request Invalid DRV request Nominated for deletion via AfD despite the fact that it had passed an AfD this year in fact the AfD wa withdrawn at for Keep The current AFD here stand at for Keep but despite that ShimShem ha wikilawyered all the way through it once it became clear that it wa going to be kept they decided a name change would be better Changed the name of the band in the article and wa told to take it to talk After a brief non discussion on talk moved the article anyway and wa reverted I wa originally unsure of the motif of this editor why they were completely desperate to delete or move this article until I noted they were interested in Tamil subject one of which is M I A artist and guessed that they believed that the two could be confused Their subsequent creation of the article M I A a a redirect to M I A artist proved this a far a I am concerned As to whether the band is actually called MIA or M I A it differs The band itself us M I A a the heading on their own website but then us a combination of both elsewhere Since in the case of most source this is only likely to be laziness much a R E M are regularly referred to a REM and since the article ha existed here for a while and that all the backlinks go to this version and most of all because we shouldn t let disruptive user get their way the article should stay here',\n",
              " 'It is unnecessairy source because it doe not matter how many soldier were killed What matter is that the Safavids were deposed Besides that mentioning that information WITHOUT making any remark about the brutality of the Afghan force for example the complete massacre of the Safavid family including woman and child a well a the massacre on the civilian population in Isfahan Bam and village of Khorasan is considered POV Besides that you have not shown any source for your claim that soldier were killed And a for the edits it doe not matter what YOU believe it only matter what the Wikipedia rule are You posted a message without editting ANYTHING that s the same a abusing the article s history a a message board Use the REAL message board instead',\n",
              " 'Whoever wrote the Plot I feel terrible for whoever had to watch the movie in detail and then write the plot line Who ever took their time to write the plot section must be traumatized for life However it missing the part where Milo s son is laying on his belly unconscious on a bed Milo anally rape him while several masked men watch Also there s some use of a knife sword in this scene This is truly one sick film No there is no artistic message This film is basicly a middle finger by the sick minded film maker The cast must have been tricked into participating in this disgusting film There s artistic gore such a the classic film Begotten and then there s this Listen to me DON T WATCH THIS FILM NO MATTER HOW MUCH YOU ARE TEMPTED',\n",
              " 'As he ha asked admins not to comment I will refrain from doing so I did however remove a personal attack against him if anyone wish to discus this action please email me Windows',\n",
              " 'Can we compromise here I don t think we have the budget for salmon but at least in the Netherlands there is an in between fish more affordable that in Dutch wa called salmon trout So far so good S Marshall Fortunately no one ha yet discovered that you used to run drug for a cartel or that you danced in a nightclub a la Henry LaFarge wa it in A Shot in the Dark Ssshh I m not telling Oh I should ask you at your RfA about the proper use of citation template Later',\n",
              " 'Sorry I am not sure how to take care of him He ha quite the history and actually ha legal case involving the Dayton Daily News Wikipedia is at risk if he edits any of those page or any affiliated company The actual sockpuppet is which is a puppet of hdayejr',\n",
              " 'We can agree to disagree on the relative merit of the fish and the character but the red seabream is part of family Sparidae anyway So that s usage outside North America right there',\n",
              " 'Large ship are typically launched into the water when the hull are completed but that doesn t mean all of the construction work is finished Usually there is still a significant amount of work to be done including finishing the interior of the ship building the superstructure etc Take a look at Image SMS Seydliz under construction jpg for example you can see the ship is already in the water but a significant amount of work is being done to the superstructure You can also read Ship naming and launching for more information about launching Hope that help',\n",
              " 'at which point I am predictably ignored and stonewalled which seems to be the Wikipedia staff s official response to any direct questioning on the Justin Berry issue One might think they ve hired Scott McClellan to handle their PR Clearly they are aware of the untenability of their position and they re really hoping it will just go away Sorry guy it won t',\n",
              " 'You need to prove notability using reliable source Just because it ha some festivity how large are they who organized them in part of a country doesn t make it notable Also you need to change your username this one will probably be blocked soon for violating the username policy no name of web site business talk to me',\n",
              " 'meter s sigh and my concern Only because Mr meter had reverted any of contribution of mine given to this article so far I did not have a single chance to develop it His article called falsetto is not about falsetto It may be about his arrogance who know There are a huge contrary regarding only the definition of falsetto There are many sign of entirely different falsetto compare those info which Mr meter such anxiously protects In England Italy or Spain th century were described entirely different type of falsetto On the top of it Mr meter perhaps never heard Pavarotti singing falsetto or the falsetto of Ian Gillan Singing of King Diamond is based on falsetto What about Michael Kiske Is it not falsetto Mariah Carey or Whitney Houston do did not sing falsetto Does any of these falsetto sound breathy Not to me Isn t out there published a note about those Maybe only because meter doe not look for it Why It would not fit to his article He would have to admit that his ONLY source Vennard wa probably having in the chair something else than falsetto or he wa drunk meter quickly opened two or three book and thing he had swallowed the World The whole physiology of his only falsetto is based on encyclopedia Well perhaps it is enough for Wikipedia or himself But not for me No There is much more out there only regarding physiology Much much more And just because you allow idiot like meter to develop Wikipedia the people the reader of Wikipedia will read shit Where are any prof of the research regarding female falsetto at y Mr Know Everything Feel free to block me again I have no desire to write here any more',\n",
              " 'You ve also forgotten these Premier Leagues But still written in English',\n",
              " 'Please do not replace Wikipedia page with blank content Blank page are harmful to Wikipedia because they have a tendency to confuse reader If it is a duplicate article please redirect it to an appropriate existing page If the page ha been vandalised please revert it to the last legitimate version If you feel that the content of a page is inappropriate please edit the page and replace it with appropriate content If you believe there is no hope for the page please see the deletion policy for how to proceed Thanks for contributing to Wikipedia talk',\n",
              " 'What a motherfucking piece of crap those fuckhead for blocking u',\n",
              " 'UTC That s because when I made those table I classed everyone a independent unless I could confirm their party identification According to this the DLP intended to run in all constituency According to this they had at least candidate I ve only been able to identify two so far so we do need to identify more December',\n",
              " 'Removed POV I removed undo criticism of Secretary Boutwell and POV Wikipedia is not meant to bash person reputation whether alive or dead The following ha been removed from the article Boutwell did little to withdraw paper currency from circulation shaping his financial policy to forestall either inflation or deflation Intellectual critic saw in these action a want of guiding principle and a lack of solid theoretical knowledge He believed in knowledge just so far a it wa convenient for him to justify his own theory that knowledge wa a deception Henry Adams wrote in a much quoted analysis in He believed in common school and not in political science in ledger and cash book but not in Adam Smith or Mill a one might believe in the multiplication table but not in Laplace or Newton By a natural logic he made of his disbelief in the higher branch of political science a basis for his political practice and thus grounding action on ignorance he carried out his principle to it remotest conclusion Henry Adams The Session North American Review July p But in a very corrupt time it spoke well of Boutwell that nobody thought that he made money out of his Cabinet post either for himself or his friend Living within his salary he lodged in a boarding house throughout his tenure His only pleasure lay in writing lecture and playing billiards or poker though never for money Chicago Times March He is an inaccessible man uninfluenced by fear favor affection or hope of reward and doe not burst out into brillian exhibition of love or hatred a New England politician wrote his brother Henry F French to Benjamin B French March Benjamin B French Papers Library of Congress Boutwell s financial policy wa le dogmatic than pragmatic Liberal reformer had hoped that he would embrace civil service reform and rush the country towards the resumption of specie payment but while Boutwell appointed subordinate on the basis of merit for the most part he did little to rein in the spoil system outside of Washington remaining on friendly term with the party boss',\n",
              " 'You sir are an imbecile and a pervert',\n",
              " 'recaptcha it isn t defamatory it relates to a computer system not a living person ReCAPTCHA force user to solve the Captcha to access whatever the service in question is Forced labor is the definition slave labor i am going to revert your reversion please do not do it again or i will report you for vandalism also please don t send me threatening message tia',\n",
              " 'Question on Possible Citation I m sorry if I missed your question I don t pay much attention to that page In response to your question let me start by repeating my boilerplate formulation The job of Wikipedia editor is to verifiably summarize reliable source using the neutral point of view I haven t yet worked in no original research WP NOR say that we mustn t integrate otherwise reliable information to arrive at novel conclusion Comparing two list and drawing conclusion from their difference and similarity is most likely original research We can integrate information so long a we don t arrive at new theory Another principle to remember is that vagueness improves accuracy The more precise we are the harder it is to be accurate Getting down to detail the Predators and Editors website appears to be a reliable source so we can use it a a source The Bauer site even if somewhat unreliable may be used in a limited fashion a a primary source about Bauer I m not familiar enough with this topic to make pronouncement on what would be correct However I would say that your proposed text appears reasonable The source are sufficient and no original conclusion are made The website takedown issue is confusing to me but you should be able to summarize what you find in reliable source Overall my opinion is that the le we say about the subject the better Attack article are not encouraged While we must show our subject wart and all we shouldn t enlarge the wart nor ignore their better feature Balance is a part of NPOV but you should be able to summarize what you find in reliable source There no reliable source only a he said she said blog flame war It is alleged the website takdown wa instigated by Bauer It isn t clear if she did and other factor between the forum and the IP are not known It wa the root cause of this article and all the player here were involved via these blog I don t see how that can be objective Bauer I m sorry I did not get back to you about the Usenet stuff et al but I ve been somewhat overloaded at work Personally I think the article is better now than when I first saw it thanks to a lot of effort on the part of the primary editor of the article to bring the best source and present them in a way that doesn t seem like a lynch mob Y all are doing a good job and there should be enough editor on either side to ensure that something resembling nuetral get posted I m glad to help and try and make the article neater and I don t mean to sound brusque in the summary field but there wa a lot to cram in there Thanks for the note I appreciate it I would say Karen saying I ve called her name is an out and out fabrication I ve never done any such thing or whether it s because he s been able to insult me and call me name on Wikipedia repeatedly and without consequence I ve accused her and Jule of carrying the water for TNH and Absolutewrite and they have That isn t namecalling by a long stretch I m really weary of these attack over this This is mob rule While avi seems genuine she s hanging with a tough insulting tribe The threat against me are real and escalating by the hour Blaming me won t make my point any le valid Nobody like to be piled on by a crowd It s the Internet equivalent of stoning This is not a fabrication I get awfully tired of being called a troll or part of a mob or cult or group troll or a self interested partisan or a blog comment commando or other thing I could point at if I wanted to depress myself You also made a theoretical comment about me being nosy fat and ugly Putting the word if in front of it doesn t make it any le of an insult I ve tried to be polite to you and will continue to do so but this is the response And please notice like abi Avi is Avraham the admin abi the ML commenter who belief in kindness I counseled against piling on Talk contribs Those are not ad hominem name Karen Yet you ve linked to a thread where you and Teresa caled me a psycho You should hear what she said in private when I asked NOT to be spoken of negatively in thread on Making Light It s obvious you two are pro TNH and absolutewrite That s self interest and backed up by the fact that you run to her for counseling Well avi can make her own decisons about it then can t sh',\n",
              " 'Infobox hurricane season It s pretty much complete I need to make some documentation and possibly tweak thing that may pop up You might want to test it out so if there are question or suggestion I can go ahead and address them',\n",
              " 'Show me where on Wikipedia it say the table width ha to be wide Collectonian Why can t you answer my question',\n",
              " 'Why wa this article marked for fixing I wa hoping that there would be some guideline here on the talk page for further research and edits The article look okay to a cursory reading by a non Wiki reader',\n",
              " 'Castro lite WebLuis continues to revert to his watered down preferred image of Castro He ha not backed up his edits with any fact only whined about personal attack some nonexistent and empty statement Mar UTC',\n",
              " 'Antonov revert If you didn t like the red link removal why don t you just add them to the table I made Also you reverted the edit where I only added the logo of Antonov it said so in the edit summary',\n",
              " 'Another crap article Parrots what promotion website of capoeira school say about myth of origin And also that persecution thing By the late s capoeira became a word for street brawling Thus authority did not prohibit or sanction practice of capoeira In banning capoeira they were banning outright street brawl It s why Mestre Bimba presented his art a Luta Regional Baiana No decent carioca would be eager to sympathise with capoeira and malandrismo I could attempt to alter the article but it s become such a mess by now',\n",
              " 'I never edited the content of your comment please correct your false accusation',\n",
              " 'REDIRECT Talk Jos Manuel Rojas',\n",
              " 'I agree that it shouldn t but clearly it doe The medium make spouse household name There s nothing we can do to stop that But a Jim rightly point out Rein is more notable than some political spouse because of her prominence a a businesswoman and that potential conflict of interest which she is trying to avoid Nick',\n",
              " 'For Security Reasons edit war As I said in my edit summary the term For Security Reasons is ambiguous and not properly established in the source Further it is unnecessary You d have to have a crystal ball to know why they did it and a I said earlier Janes is not perfect The reason that all the other MG manufacturer alter their part so they don t interchange is because the US BATFE make them do it Suddenly Glock is different Yeah I guess that s just like Glock compensated pistol not acting like any other compensated pistol I wonder if they actually shoot bullet',\n",
              " 'This represents your immaturity and consistence at disruptive behaviour talk',\n",
              " 'Macedonian Slavic Bulgarian possibly Notes Republic Of Macedonia Recognises the language a the a a dialect of the Macedonian language Greece eg Recognises speaker a slavophone greek Bulgaria Believes that Macedonian and Dopia Slavic Macedonian to both be part of the Bulgarian Diasystem European Bureau for Lesser Used Languages Recognised the Language a Macedonian in Ethnologue The most comprehensive guide to the world s language http www ethnologue org show country asp name GR there you go for more clarification Altough we all know the stance of the various Governments doe anyone have current source for this if so please add them I hope that this table is clearer but their still need to be more NGO s Albania EU etc please add constructive comment',\n",
              " 'If you feel that I am acting in manor inconsistent with my responsibility you can post something at Wikipedia Administrators noticeboard Incidents If you want to make change to University of Wisconsin Madison and you have reliable source reference to support those change then post the reference with the change This Tutorial may help with reference If you have more question just ask',\n",
              " 'Part of editing for an encyclopedia is reducing extraordinary claim to ordinary fact I assume that this is meant in a derogatory fashion',\n",
              " 'CfD nomination of Category Wikipedia administrator I have nominated for deletion Your opinion on the matter are welcome please participate in the discussion by adding your comment at the discussion page Thank you',\n",
              " 'I m also a sock puppet of this account SUPRISE sincerely The man that will track you down from the Internet and kill you',\n",
              " 'All the source needed are provided all you need to do is read the article but I guess you can t read Once again you prove you are not even reading the article Every edit is backed up with the source it came from I am NOT going to provide you with any detail because you are merely a civillain editor and not a Wikipedia staff member You have all the info you need within the PIRA text edits If a actual Wikipedia staff member want more specific I will be happy to provide them Look you are obviously a Anti IRA hack who is making thing up to support your bias I am neither pro not anti IRA I have no bias I merely report fact I will be checking this page daily and will continue to submit my PIRA entry because it is by far the most accurate and factually supported We can do this several time a day if you wish or you can accept the fact that mine is the superior version and just deal with it It s up to you but I will re edit on a regular basis Or we can agree to incorporate your fatcxs and mine into one article But the three area The number of Loyalists killed from to The number of IRA victim a broken down by both Janes Intelligence online and the CFR and the IRA RussianMafia connection which ha been documented in multiple book and newspaper source These three thing are verifiable and will remain',\n",
              " 'Are you fucker mother fucker have nothing to do but block University computer Go and suck cock',\n",
              " 'It s from one of the many book on various band I thought it wa from Cult Rockers but I just checked and Supertramp isn t in there I will seek out a source for this quote',\n",
              " 'HELLO You disgrace to humanity Stop wasting valuable Internet resource your killing the fucking planet and throw out your PC PS it s like am what the fark kinda life do you have on Wikipedia A VERY SAD AND LONELY ONE LOL Life s too short find something better to do',\n",
              " 'I ve explained my reasoning for this block at User talk Gwen Gale User Professional Assassin',\n",
              " 'When an article is created about that album then a disambiguation page will be created',\n",
              " 'That would be pretty odd for those declassified document to mention a movie that wa created after the event for which both the movie and the document do related about The declassified document were not synthesized for the movie unless you want to prove a conspiracy on the synthesis very odd It is perfectly valid to use the document to relate to the same historical event to further verify the what happened but the use of primary source in such a wa is not ideal for wikipedia Since it is not ideal that is why I left it here on the talk page if someone want to research it more to find ideal reference',\n",
              " 'Your retarded bot Your bot is entirely automated that is wrong You should not leave an unattented script just running through the site like that it is idiotic of you to suppose that your scripting ability are so perfect that they will only ever make proper edits Banning me doesn t help anything dipshit since I have a many IPs a I want',\n",
              " 'two reversion on Hezbollah Could you explain on the talk page why you have reverted my edit twice',\n",
              " 'DISLIKE RACISM AND I CAN SEE THAT YOU HAS PROBLEMS WITH PEOPLE WHO SPEAKS SPANISH YOU ARE AN ANTISEMITE TOO',\n",
              " 'The name Yuen Lou look to be just a variation of Yuen Lo the name Jackie used under his sifu at the opera school',\n",
              " 'User talk Wikireader Archive Archive Mar',\n",
              " 'I realize now that the article doesn t quite say what I thought it said If anyone can find a citation stating that there exists a proper subfield of isomorphic to itself I would be very interested in seeing it and we could reinclude the clause with the citation',\n",
              " 'I didn t cherry pick anything these are the official and only fact While essentially every CNN program wa down double digit pmET which is home to Piers Morgan Tonight and pmET which is home to Erin Burnett OutFront each had their worst performance in the demo in year http www mediabistro com tvnewser may rating cnn hit year low b',\n",
              " 'Direct Indirect relation Is it correct to say that technically if a degree shot by elevation reach the longest distance then a degree will reach the same distance a a degree shot If so could the lower than shot be considered direct fire and the higher than shot considered indirect fire If so I think this is a great explanation or one way of viewing thing',\n",
              " 'Title section revert Hi I wa at the office earlier and I hadn t noticed your warning before restoring the title of the section I m sorry for that Of course I won t do such a revert again Just to clarify I ve opened a new section to indeed alert some contributor that they were behaving in a way in line with the example of ownership behaviour a described here In return the title of the section ha been twisted to something unrelated and one of my message ha been erased It is the first time I see people editing other s signed contribution in a talk page This just look crazy to me',\n",
              " 'Noel you are an expert Please convince Whig history fan or the lazy mind about how Bonnie Prince Charlie did not want to dissolve the Union that the United Kingdom began with the Stuarts a opposed to the Hanoverians Tell them how the Whigs rewrote history to blame everything on the Stuarts whom are credited a ultimate failure with no positive contribution to the foundation of Great Britain in their Stewart and Tudor blood The Sovereign s will is the Realm or else it is not a kingdom The British might a well be living in a republic at least if the Parliamentarians had their way Even the Hanoverian heir recognise that the Stuarts founded the UK Please debate that here thanks',\n",
              " 'Warning Earth I d like to leave you access to your talk page so that in perhaps six month you can convince u that we should try again if you re so inclined But you re making it hard If you continue these abusive comment I will revoke your talk page access',\n",
              " 'should be jaeger regardless of what other people have decided erens name should be jaeger it like calling light from death note raito at least in the anime the people dubbing take care to correctly pronounce the foreing name ie all of them except mikasa jaeger mean hunter a german word guess what eren doe in the series',\n",
              " 'Thank you for experimenting with Wikipedia Your test worked and it ha been reverted or removed Please use the sandbox for any other test you may want to do Take a look at the welcome page to learn more about contributing to our encyclopedia A link to the edit I have reverted can be found here link If you believe this edit should not have been reverted please contact me talk',\n",
              " 'Please discus how factual accurate biographical information about Courtney Ford is vandalism I look forward to hearing your evidence',\n",
              " 'I think the entire article should be tagged a politicized and the part about future trend a speculative My point wa that scientist are learner and we are increasingly using them a know it all teacher Yes they probably can make educated guess better than anyone else but it still an educated guess Also if you didn t notice I am totally against spewing unnecessary carbon a this statement I think this article superbly miss the point that pollution and waste of ALL TYPES are stupid way to go about doing thing where better way are known and we are making guinea pig of all our planet s specie point out',\n",
              " 'Used Car Expert page image Thank you for your note about the image of Used Car Expert magazine I have had the copyright owner who gave me permission for the picture email a above',\n",
              " 'However it is still in error to assert he doesn t work the equation himself or that he is handicapped',\n",
              " 'First we ve widely established the use of Exile quotation presented a such is legitimate Second I m not Mark Ames This ha been autheticated by numerous admins and user at Wikipedia who have personally met me Third you cite the paragraph on Spy magazine a your primary example of POV and creative fact What precisely is the creative fact in that paragraph That the eXile admired Spy magazine That Spy magazine employed a team of lawyer to defend against spurious lawsuit That Spy Magazine went bankrupt All claim in that paragraph are verifiably true',\n",
              " 'Pretty humorous comment from someone who promotes the far leftist blog Daily Kos on his user page',\n",
              " 'Seems we both have some',\n",
              " 'Don t be evasive I shall have to repeat myself How many people argued for it deletion Don t lock page when you don t get your own way',\n",
              " 'Edit request on October The Arctic Monkeys played Walk on the Wild Side in honour of Lou Reed at Echo Arena Liverpool a day after the musician s death http www rollingstone com music video arctic monkey cover lou reed walk on the wild side',\n",
              " 'Welcome Hello and welcome to Wikipedia Thank you for your contribution I hope you like the place and decide to stay Here are some page that you might find helpful The five pillar of Wikipedia How to edit a page Help page Tutorial How to write a great article Manual of Style I hope you enjoy editing here and being a Wikipedian Please sign your name on talk page using four tilde this will automatically produce your name and the date If you need help check out Wikipedia Questions ask me on my talk page or ask your question and then place helpme before the question on your talk page Again welcome talk',\n",
              " 'Gurch is an interesting fellow Just don t take his comment to heart but take his advice on board Talk',\n",
              " 'IT WASNT VANDALISM DICKHEAD',\n",
              " 'You need to understand that he is not here do help Wikipedia he is here with a political mission attack brazilian press no I m not crazy but I see this crazy people all day here in Brazil',\n",
              " 'season issue Not sure why you removed my edits on the season futurama issue but I think it ha merit The total lack of season info is confusing and not sure why the season info is replaced by the movie information You could have informed me at least on why you removed my discussion comment',\n",
              " 'Philosopher RFC philosopher from Wiktionary A person devoted to studying and producing result in philosophy I am going to make the case that we must call Stefan Molyneux a philosopher without qualifier in the lead This is not done a an endorsement or statement about the level of achievement or acceptance of his philosophy only that it is his career Note Not all of the source I use below are in the article at present The point here is to first convince RFC respondent that philosopher is accurate and widely accepted then we can make sure the most reliable one are in place Definitions Obviously each source is going to use slightly different phrasing Some will call him explicitly a philosopher or ha view on philosophy but I think you should consider some other phrase given below a equivalent Using one word philosopher in the lead sentence cover all of his political ethical and theistic specialization in one word which we then elaborate on later in the article philosophical conversation philosophy show used to describe his Freedomain Radio series libertarian libertarian thinker Libertarianism is a classification of political philosophy anarcho capitalist Anarcho capitalism is a political philosophy voluntaryist Voluntaryism or sometimes voluntarism is a libertarian philosophy athiest Arguments for atheism range from the philosophical to social and historical approach ethic Ethics sometimes known a philosophical ethic ethical theory moral theory and moral philosophy is a branch of philosophy Secular ethic Secular ethic is a branch of moral philosophy Primary source As Stefan Molyneux is a living person we should give great weight to what he say is the focus of his work and his stated profession unless there is reliable evidence to contradict him obviously we don t want to host any sort of fringe claim If we are to dispute what he say about himself though then we absolutely must have a strong basis for this or we open Wikipedia to discredit or liability this is why BLPs are held to strong standard in the first place I think in this case there is strong and ample evidence that calling himself a philosopher is justified and correct He is a modern philosopher that explores via modern online medium which is obviously a very new phenomenon and so it understandable that it different than the old school philosopher we re used to Freedomain Radio About page my Master s Thesis analyzing the political implication of the philosophy I have been fascinated by philosophy particularly moral theory since my mid teen I left my career a a software entrepreneur and executive to pursue philosophy full time through my work here at Freedomain Radio I have written a number of novel a well a many free book on philosophy Freedomain Radio the show that Molyneux host ha the tagline The Largest and Most Popular Philosophical Conversation in the World Molyneux s book show that he is endeavoring to produce tangible written result in the field of philosophy particularly Universally Preferable Behaviour UPB A Rational Proof of Secular Ethics and Against the Gods A Concise Guide to Atheism and Agnosticism which are two of his more deep dive into the fundamental philosophy Strong Atheism The Case for Evacuating the Middle Ground article Why I Am a Philosopher video A response to question about my childhood motivation for pursuing philosophy An Introduction to Philosophy part video course produced by Molyneux describing basic philosophical concept Reality Knowledge Truth Gods Religion Ethics and Politics Unsolvable Philosophical Questions Solved video tackle great philosophical question considered unanswerable Proofs for God Destroyed by a Philosophical Atheist video A Philosophical Review discus the major philosophical political economic and social development of video http www youtube com watch v udLsGJbw Hs Philosophy Questio',\n",
              " 'WP FILM December Newsletter The December issue of the WikiProject Film newsletter ha been published You may read the newsletter change the format in which future issue will be delivered to you or unsubscribe from this notification by following the link If you have an idea for improving the newsletter please leave a message on my talk page Happy editing talk contrib',\n",
              " 'January UTC NO i am NOT being uncivil Try UUser Lbrun he s called other user a waste of sperm a moron etc Block him the one who s truly uncivil Rikara I recommend you cool it Yelling and arguing is not going to get you anything Take a breather and come back when you re feeling calmer Otherwise you will find your talk page protected and you will be forced to take a breather I have seen nothing of the sort from that user who ha since been renamed at the very least not in this current situation Blah v v',\n",
              " 'You Suck If you don t undelete the page Barry Dejay I will you',\n",
              " 'See Internet Explorer Market share history overview by year and version IE is with u for some time to come like it or not But if others using it have no problem that s fine I m not worried about my specific workplace come howl',\n",
              " 'I like the example given on the following post http theautomaticearth blogspot com july real black real swan html',\n",
              " 'Curse Wikipedia ha no respect for God Wikipedia is full of lie or dangerously evil half truth Wikipedia ha no respect for religion The following user of Wikipedia namely Redtigerxyz Priyanath Emperor Genius Raj Wikidas Wikiveer and DaGizza have all committed blasphemy and sacrilage Curse upon you that you will all perish I curse the following user of Wikipedia namely Redtigerxyz Priyanath Emperor Genius Raj Wikidas Wikiveer and DaGizza that you will all perish I curse that the Wikipedia will entirely perish I beg forgiveness from the Supreme God Lord Vishnu for choosing the blasphemous Wikipedia website to write about the truth A true devote of the Supreme Lord Vishnu ha been hurt and my curse never go in vain I will never again edit or read or go to the evil Wikipedia website forever Delete my user id and all edits you evil Wikipedians Mr DaGizza you are a Male Chauvinist Pig and a misogynist to the core and you call yourself an administrator Ridiculous Mr DaGizza you are a curse to your existance A man like you who can not respect woman is a worthless in his existance You Wikipedians are useless people You are a burden to the civilized world You are not even worth hatred You Wikipedians must be ignored Curse',\n",
              " 'Hahaha you dont actually believe this bullshit you are telling me right now You are talking about the access to the country or representative to the government not Kim Jong Un himself Those are two totally different thing although I could understand your stupidity since North Koreans think that Kim Jong un is the governement im just saying Go Troll somewhere else kid',\n",
              " 'Blocking Mardyks Guess what Loser Know what a cockblocker is Hahahaha M',\n",
              " 'and I don t want to use it again I don t understand why FayssalF insists on NAccount I could have wrote to him using any other account maybe he would have kept it instead of NAccount',\n",
              " 'Deletion of Minority Posts Nice try at trying to silence the slave who won t stay down I did not know you attempted to block my yet again I do not come to Wikipedia every day because I have something you do not a life As you can see you have failed Again In attempting to silence me and refusing to answer the qusetion Why do you purposely hunt down post of African Americans and delete them all you did wa refuse access to some sporting good store And the person you contacted in an attempt to block me is named Rebelguy No there is not racial agenda is there I have made a hard copy of your failed racially motivated attempt to punish me and turned them over to the NAACP',\n",
              " 'Thank you I just wanted to say it',\n",
              " 'Well you never answered my question about your specific intention at Talk Mystery Science Theater Episodes Experiments v Movies Can I assume from your posting title that your intention is to create individual MST K episode article I m on record a believing this could be useful but am not prepared at this time to do any significant work on it a I m stretched way too thin right now talk',\n",
              " 'Nigel Per wiki standard when to use and external link Is it proper in the context of the article useful tasteful informative factual etc Is it a functional link and likely to continue being a functional link Each link should be considered on it merit using the following guideline As the number of external link in an article grows longer assessment should become stricter When in doubt about the appropriateness of adding new link make a suggestion on the article s talkpage and discus with other editor I generally avoid external link except when it take me directly to the home page of the aircraft in question this link doe take me directly to NASM s page on this particular P that make this external link appropiate Agree that this page doe need more reference',\n",
              " 'Edit request from Maksudfsa March Just a minor edit I ve added Azerbaijanis to the list that describes turk in the first paragraph a we are the second largest turkic ethnic group The Turks or Turkics are people residing in northern central and western Asia Mongolia southern Siberia and northwestern China and part of eastern Europe They speak language belonging to the Turkic language family Turkic people Encyclop dia Britannica Online Academic Edition They share to varying degree certain cultural trait and historical background The term Turkic represents a broad ethno linguistic group of people including existing society such a the Azerbaijanis Chuvashes Kazakhs Tatars Kyrgyzs Turkish Turkmen Uyghur Uzbeks Bashkirs Qashqai Gagauzs Yakuts Crimean Karaites Krymchaks Karakalpaks Karachays Nogais and a well a past civilization such a the Kumans Kipchaks Avars Turgeshs Seljuks Khazars Ottomans Mamluks Timurids and possibly the Xiongnu and Huns Timur The Columbia Encyclopedia Sixth Edition Columbia University Press Encyclopaedia Britannica article Consolidation expansion of the Indo Timurids Online Edition',\n",
              " 'Nobody care Seriously It s just self referential trivia Guy',\n",
              " 'i understand what i see i do not see scholarship i see stealing grasping greed it s animalistic try this in any culture switch to math you wil like it no levantian in math amanbir',\n",
              " 'I guess u don t know Greek cuz it took u forever to translate second if u read carefully doe not say anything about u',\n",
              " 'You have never met or been photographed with Keith Wigdor Whoever you are I am asking you to not interfere with the article about Keith Wigdor You have no resource or connection to him unless you are somehow being deceptive so really you are not any sort of expert on this artist Dec UTC',\n",
              " 'Holocaust denial If there is no actual proof that Jeff Rense advocate holocaust denial then the category Holocaust denier should be removed',\n",
              " 'Wikipedia administrator are defending a mass murdering psychopath',\n",
              " 'Censorship It s my understanding that you re supposed to warn someone before asking the administrator to block them So consider this a warning Don t delete my comment again',\n",
              " 'April Your attitude and comment to are not appreciated Please remain civil',\n",
              " 'request for help request for help Hi again Cat a perviously I have noticed a strong anti Greek bias on several article related to Macedonia I ve had issue with both Furper and Beam who seem to be admins that heavily favour FYROM I ve officially complained on the notice board about their threat to block edit behavior and unusually close relationship with obvious FYROM POV member of Wikipedia specifically Balkanfever http en wikipedia org wiki Wikipedia Administrators noticeboard This anon apparently User Crossthets C is an apparent POV Pusher C evidence below As I said verbatim on Politis talk page This is a difficult battle because so far I am alone at the moment I am a newbie and a I said to one of the admins on notice board I feel like someone reporting a bad cop at a policeman s ball However I still plan to follow up soon with a precise listing of what I perceive a non NPOV behavior by these admins I noticed while researching this issue you ve also have problem with them Would it be possible to list any problem on your talk page here so I can add them to my report to show I am not alone Furthermore since you have been around longer you probably know more Greeks than me around here Would it be possible to also contact them to ask them if they ve also had problem with those two and if so add those incident to your list and perhaps get them to contact others Where one person could be bullied with threat of blocking the concern of many will be taken much more seriously I will check back here in a couple of day Have courage Regards',\n",
              " 'I am certain that it wa injury and not sickness regardless of how it occurred',\n",
              " 'I told you I won t comment on it again what more do you want',\n",
              " 'Wikipedia Articles for deletion Cheongye Kwan Your post at the above AFD on a new martial art bother me This wa the version at the time that you based your post on You posted I just read the article and to be quite honest feel that it doe satisfy Wikipedia s guideline it is reliably sourced Since I believe the notability of the article is satisfied It now ha independent source And to refute the argument posed by Wayne it is determined by the Phillip Rhee source that the martial art is not localised Please consider the concern this post raise Simple matter like reference notability and noobie basic of AFDs should be routine for any moderately experienced user and bread and butter for any admin In fact a cursory check show that almost everything you stated wa I don t have a word for it Unreal is close The eleven independent source that you stated established notability and non localization at the time were Three reference from coates robinson shaw certainly before the topic even existed and all related to a passing piece of news about it founder being on the team of a completely different sport in any event Two reference from st half davy white almost certainly identical and identically irrelevant to the topic s notability The promoter s personal page on his local town website almost certainly self published official village website A casual interview in a non notable and possibly non reliable university magazine apparently of the promoter s travel to see expert in a different sport with tangential tiny sentence mention that he d discussed his new sport with them too the Lau Philip LA interview entry marked Reference and support of Written Reference chris cook rhee obviously a request by the founder to a friend colleague write a letter of support that wa never published anyway and isn t cited so you can t have read it not that it wa even possibly valid evidence A short writeup of a local information kind on the award of the first black belt by the school in it local paper In brief of the were before the sport existed and were not even remotely to do with the topic itself much le sourced material on it or substantial coverage they had precisely zero coverage were claim of personal I think is a great guy letter of support evidently solicited and or written on request with zero evidence of verifiable existence and certainly in no way reliably sourced or independent wa self written wa the briefest of non mention in a non reliable source pretty much I discussed the topic with them in a college magazine interview is local press coverage of his course that s not even news for a day or evidence of anything beyond a course by this name is taught twice weekly in our local village hall Your assessment of these at AFD wa It is reliably sourced style border c c c solid px width There is barely one reliable source in all of those that the sport even exists in the first place a local newspaper mention that it meet in a village hall on tuesday and friday and just awarded it first black belt Probably via self promotional input There is zero reliable sourcing for any of the rest That the cited page are evidence of notability style border c c c solid px width They don t mention it or even date from a time the topic existed nor are online version provided How on earth could they reliably evidence it That the source are independent style border c c c solid px width are claim that please support me letter exist they are even stated to be personal reference unpublished and uncited is his own clearly self written web page on a local village web host That the cite show it is non localized style border c c c solid px width The page doesn t list a link so you can t have checked the cite yet you say the citation prof it The reference openly stated Cambridge University and Bristol Taekwando a big indication of it actual source When a link wa provided on request it turn out it',\n",
              " 'Hebrew Name of Lydia Appologies to Til Eulenspiegel I thought you were one of the idiot which your user page indicates you actually do well struggling against Genesis TAB And Mizraim begot Ludim and Anamim and Lehabim and Naphtuhim You see Ludim are from Mitzraim not to be confused with Lud son of Shem in the far east Best wish and keep up the good work',\n",
              " 'which they are have you considered that you have irrationally laid waste to six month of my life which I have dedicated to this project',\n",
              " 'Did you scout for source prior to the prod Eh no Dr Blofeld',\n",
              " 'You wasted your own time Take this advice with you Pull your head out of your as Be real and don t spend the rest of your life sucking as Have a nice life Goodbye mailbox',\n",
              " 'class wikitable style border px solid aa background f f f padding font size Parliamentary Bloc Alliances Leader Seats Percentage Source National Alliance State of Law Coalition National Iraqi Alliance Ibrahim al Jaafari al Iraqiya al Iraqiyya Hassan al Jibburi Kurdistan Blocs Coalition Kurdistani List Kurdistan Islamic Union Islamic Group of Kurdistan Fuad Masum Center Current al Tawafuq Unity Alliance of Iraq unknown Gorran Bloc Gorran Movement Shorsh HajiAl Iraqiya brengt oppositie en Talabani dichterbij elkaar Azady nl National Rafidain List Assyrian Democratic Movement Yonadam Kanna CSAPC Chaldean Syriac AssyrianPopular Council Sarkis Aghajan Independents',\n",
              " 'I also told him that count of using admin tool for deciding on content and misrepresentation of policy norm ha been sanctioned in the past',\n",
              " 'Welcome Hello and welcome to Wikipedia Thank you for your contribution such a the one you made to Nogeoldae I hope you like the place and decide to stay Here are some page you might like to see The five pillar of Wikipedia Help page Tutorial How to edit a page and How to develop article How to create your first article using the Article Wizard if you wish Manual of Style You are welcome to continue editing without logging in but many editor recommend that you create an account Doing so is free requires no personal information and provides several benefit such a the ability to create article For a full outline and explanation of the benefit that come with creating an account please see this page If you edit without a username your IP address is used to identify you instead In any case I hope you enjoy editing here and being a Wikipedian Please sign your comment on talk page using four tilde this will automatically produce your IP address or username if you re logged in and the date If you need help check out Wikipedia Questions ask for help at the Teahouse ask me on my talk page or ask your question and then place helpme before the question on this page Again welcome',\n",
              " 'stradbroke galleon portuguese hallo Moondyne I do admit that when I signed onto Wikipedia I wa not aware that it wa a concensus community of knowledge Nazis but now that I am aware of it I will make the appropriate adjustment I wa under the obviously mistaken impression that Wikipedia wa a venue for sharing fact knowledge and information The notion that the Stradbroke Galleon story is a pet theory of mine is total rubbish a it ha been written about discussed and investigated for more than year by historian and historical group such a the Royal Historical Society of Queensland the Maritime Archaeology Association of Queensland and many more too numerous to include here There exists in various library book and community a large body of written and oral history concerning the galleon story which I have attempted to fairly and accurately place in the WP domain The fact that a story is not accepted by mainstream academic is not a valid reason for deletion of either of my contribution What ha occured here is a classic example of manipulation of an information resource by a vested interest group i e Hesperian and his friend who are representative of the mainstream view Hesperian complain about the medium coverage I have recieved but this never appeared in any of the WP contribution I made and Hesperian s mention of the medium coverage demonstrates the core reason for Hesperian s antagonistic attitude simple old fashioned professional jealousy Thus valid historical data is being deliberately surpressed by Hesperian for personal reason For example the Portuguese walking stick handle which wa found in an Aboriginal midden identified by a Spanish Musuem offical and story told to me by a UQ Archaeology PhD student is very relevant to the theory of the Portuguese discovery of Australia This kind of knowledge suppression is not what Wiki is about but I guess you do not care a you appear to be part of the happy little click or have been sucked in by Hesperian and his little band of mate which is a pity but history is full of the suppression of information by vested interest group so why should I expect Wiki be any different Still it is dissapointing Happy trail',\n",
              " 'AGF requires me not to think you were reverting to the user s preferred version It might look better if you allow another admin to make that edit',\n",
              " 'Accents Although the cartoon established Mario and Luigi to be from Brooklyn a fact commonly accepted by fan despite having never been mentioned in any game Toad seemed to speak with a thicker Brooklyn accent The accent weren t mentioned in the game but the TV show wa presumably a licensed product Until Nintendo decided to go with an Italian accent fan assumed the TV show and later the movie accent wa the official standing Only when Nintendo s product included digitized recorded speech did anyone realize Nintendo intended them to be Italian not Italian American It s the same principle of updated canon that Star Trek and Star Wars licensed product run on',\n",
              " 'Delete this No way I consider it a trophy',\n",
              " 'Actually Bzfoster will be unable to edit the article a it is semi protected a well PC d Log out and try for yourself',\n",
              " 'I believe that I have obeyed the community rule I do understand the rule about personal attack But it appeares to me that they are being applied unjustly in this instance I have provided countless hour of academic research and input for Wikipedia Please assume good faith on the part of the blocking admin I am an intelligent adult I naturally assume good faith until other party demonstrate they don t It seems to me this is a one side affair',\n",
              " 'Please do not add unsourced negative or controversial biographical material to page a you did with this edit to Stuart Tyson Smith If you continue to do so you will be blocked from editing',\n",
              " 'Preceding unsigned comment added by talk contribs',\n",
              " 'Or between the French and the Walloons Surprise our article on French people clearly label the Walloon a a distinct ethnic group Perhaps it is best not to make comparison After screwing it up a few time I have done rewrite of part of the article mainly a word and a sentence left and right to make the distinction and relation between the Dutch and the Flemish clearer The article switched constantly between part about the Dutch only and part about the Dutch and Flemish together This should now be clearer The major thing left to adjust are the graph of the number of Dutch since these still al include the Flemish',\n",
              " 'You need to sign the above and your RSN post',\n",
              " 'A few thing to get straight Firstly I do not like you You look like a smug little prick to me Secondly I do not like your ethnicity Not one little bit I d like you to explain yourself on that count Thirdly your dog is a bit of a bender',\n",
              " 'Procedure Do I ask you for the award Michelle Obama already ha a million view this year and Anthony Davis basketball had a million in T C WP FOUR WP CHICAGO WP WAWARD',\n",
              " 'Adding more than link I did add more thank link but the entire page wa also marked a spam for no reason other than the no one is familiar with the one hundred year old industry And you still have not explain how the link on this page http en wikipedia org wiki Natural building are relevant and mine is not',\n",
              " 'Please do not accuse member of vandalism I do not mind if you change the word unique to prominent or remove story of dream etc but you have vandalised the page and made a statement biased by saying that Dr Qadri only sent out a referendum so I reverted the whole edit You have also reciently vandalised the page by removing the name of the Yemeni scholar who recieved Dr Qadri s Ijaza including the picture and this is a clear form of vandalism so before accusing other member of vandalism do not vandalise the page yourself What I did wa clearly not vandalism a I only reverted your edit and any change you made and brought the page back to it previous form So would you first kindly read the rule of wikipedia and find out the definition of vandalism before accusing experienced user You are still new to wikipedia I m afraid and you need to learn how it work and the different rule of wikipedia before making any further edits',\n",
              " 'I know how it s pronounced in Turkish The question is whether there s a specific pronunciation that s dominant in English If not it s best not to include any English transcription or pronunciation audio file',\n",
              " 'Oh sorry I actually found it on an other page but I forgot it anyway It wa actually a note for myself wa going to rewrite the text Suppose it slipped out of my mind',\n",
              " 'June Please do not vandalize page a you did with this edit to Bugatti Veyron If you continue to do so you will be blocked from editing talk',\n",
              " 'Terri Schiavo a Rorschach Test Now perhaps you see that utility of Terri Schiavo is a Rorschach Test You dangle that pretty slender alive and aware young face in front of the Power Players on both the Left and the Right and you see how they respond If they respond inappropriately then you make a note it a if they were just some rat in your laboratory That is what make Wikiepda so powerful And it is all true and NPOV notable and fair',\n",
              " 'ok stop being lame seriously go watch pokemon',\n",
              " 'Past Masters v Rarities I m creating a chart for my own use that includes U S album since there are so many difference in the early album As a U S fan I m faced with the issue of whether to have U S album U K album or both on my iPod I will post my chart on my talk page so that others can judge whether it s worthy of including here I realize there will be problem including the lack of Canadian album My purpose is simply to record the first ALBUM appearance in both the U K and U S of each song I notice that a number of U K song are listed a Past Masters when they actually first appeared on Rarities The Beatles album I don t know the reason for this if the purpose is to list the first appearance on an album Can someone explain Or should they be changed to Rarities',\n",
              " 'Simpsons movie poster Did you create the Simpsons movie poster image or did you source it from somewhere else',\n",
              " 'Help Hey can you help me with something I uploaded this image to Wikipedia http en wikipedia org wiki File Stikky cemetary San Jose jpg I contacted the photographer and he gave me permission to use it on Wikipedia so I wa wondering what the proper licensing would be Thanks in advance',\n",
              " 'Looks good It would be nice to see the county but it is a lot better than the current one Good job',\n",
              " 'The debunkers pretending that they re objective sceptic besides proving their lack of knowledge and lack of integrity on the various Astrology page have also been personally attacking me on my own talk page When I dare try to defend myself they block me out of Wikipedia So much for honest dialogue They can t win an argument fairly so they resort to dirty trick',\n",
              " 'Reviewing block You said I d also like to ask you that in future for the sake of fairness and due process that you do not decline the unblock request of user you block yourself unless the request is pure nonsense or abusive From an ethical review of block are meant to be carried out by a rd party Will do I thought it wa pretty clear in this case given the editor s user page GNAA etc etc etc that the unblock request wa pure nonsense Also I wa under the impression that the unblock request would still be visible and reviewed by other admins I ll be more careful in the future',\n",
              " 'Regarding edits made during December UTC to Kanpur Please do not add inappropriate external link to Wikipedia Wikipedia is not a mere directory of link nor should it be used for advertising or promotion Inappropriate link include but are not limited to link to personal web site link to web site with which you are affiliated and link that exist to attract visitor to a web site or promote a product See the external link guideline and spam policy for further explanation of link that are considered appropriate If you feel the link should be added to the article then please discus it on the article s talk page rather than re adding it See the welcome page to learn more about Wikipedia Thank you talk',\n",
              " 'Come on Was this really necessary I understand where your coming from but you sound like a whiney bitch When you have a website that anyone can edit this sort of stuff come with the territory And did you really expect anyone other then the or people who troll WP PW to read your comment on Talk Royal Rumble or this talk page for that matter I m confident most active member of WP PW have added WrestleMania XXIV to their watch list So when and if something not to their liking is added it will be removed Simple a that And if you re through with putting up with people not reading talk page quit Endless Dan',\n",
              " 'I do not see any anti semitism here If the guy give lecture in New York synagogue and knock down his country every single minute using every opportunity in such influential newspaper a New York Post then one can state that his interest are not only personal You can not find any intellectual person among neoconservative in New York Post Michelle Malkin Andrea Peyser Deborah Orin may her rest in peace although I know she is rotting in hell and other essayist are the one who make a great company for Amir Taheri This guy ha no mind at all I agree that Iran s regime is wrong but the regime of Shah that Amir Taheri is longing for because he owned Keyhan during that regime wa not any better and Islamic Revolution wa justified Look at how they intriduce Amir Taheri in both this article and in New York Post Based in Europe memeber of Benador Associates Is Europe that small Is that a small town Why don t they say based in the world journalist Or may be he is having a breakfast in London with Christian Amanpour and James Rubin eating lunch in Jerusalem and having some lecture and dinner with anti Irani Jews in Forest Hills New York in between emailing his full of hatred article to New York Post Isn t this stupid How can you saysomebody is based in Europe or Asia or Africa',\n",
              " 'Why confusion and controversy in the real world doe not preclude the writing of a good Wikipedia on the topic Ackoz suggests that because the real world ha not yet hashed out the truth about the expulsion it is therefore impossible for u to know the truth and thus impossible for u to write about it I reject such a stance I think it is difficult but quite possible to write a quality Wikipedia article about a topic that is murky and or controversial Where many Wikipedia editor get it wrong is that they believe Wikipedia s job is to report the truth This is wrong Wikipedia s job is not to report the truth precisely because it is difficult to determine what the truth is Any attempt to do that is original research Instead of truth Wikipedia aim for verifiability Put a different way Wikipedia is committed to recording the state of human knowledge and opinion not our opinion but those of reliable source If the truth is clear and uncontroversial it is easy for u to report that If the truth is murky and controversial it is more challenging but possible for u to report on what different reliable source assert and think about a topic EVEN if these reliable source conflict Where Wikipedia editor get into trouble is when they start siding with one side of a controversy and asserting that the side that they have selected represents THE TRUTH and not just one perspective or POV on the topic at hand I have been trying to hit this NPOV sweet spot but it is difficult to do so in the midst of a running polemical debate between the two side Obviously is because some user Jadger and Wikiferdi don t want to discus in fact they want u to agree with their POV that s not discussion about the NPOV edits That s why I quit from the discussion about the form of the article talk',\n",
              " 'I did not intend to be disruptive I wa genuineley upset by the word constantly I only tried to make it look like an april fool joke after you explanation made me look like an uptight weirdo',\n",
              " 'Regarding Loyalmoonie and LGBT category Looked into it and this editor seems to be pushing an anti LGBT agenda They ve done similar stuff over at Sailor Moon and made official looking warning to other editor This quote is bizarre and is quite telling To insert those category would ultimately give other people who may not even support the LGBT movement reading the article the assumption that every person who doe enjoy Sailor Moon is a homosexual and or support SSM I don t personally watch read Sailor Moon or know much about it so I m not confident enough to re add the category but the reasoning for their removal is flawed regardless and there is a sourced part in the article about female homosexuality talk',\n",
              " 'Matt when mattsanchez info go live on Monday among other thing you ll see an invitation to be interviewed This time you ll have nowhere to hide Let s see who s a victim and who s a coward',\n",
              " 'Okay I found a document that demonstrates the SCIMD listing by the WHO on the WHO site now there should be no trouble with including the above text',\n",
              " 'Valerie Poxleitner Valeri Poxleitner A K A Lights If',\n",
              " 'Shamash is Sun I agree to merge Sammash in to Shamash since Shamash is more likely to be correct Tracking the root of the word clearly it is of Assyrian origin in addition it is a common vocabulary morph to substitute Sh to S and thus nowadays it is spelled a Shams in Modern Arabic',\n",
              " 'I feel like I m out of idea for now so maybe some other user will come up with thing that address both our concern talk contribs',\n",
              " 'October UTC The original nominator and I have been trying to restore the article but others have been saying it wa found to be merged by you so it ha to stand With the original nominator for deletion working to keep the article and admitting he wa mistaken in nominating the article of a noteworthy character can we restore it now If someone want to make a legitimate nomination for deletion that s fine',\n",
              " 'What chart are you looking at I don t see anything portraying that timing User talk Spinningspark Spark',\n",
              " 'Agreed although it mean bloating the alternative title by yet another word I wa concentrating on the Polish attitude here a it clearly provides the starting point for the article at hand Obviously if the article is to be written from a supra national perspective at least the Czech experience need to be included Czechoslovakia being the only functioning democracy in the region by the s had closer tie with the West than Poland did and wa betrayed in a much more obvious and tangible way than Poland wa The West politically accepted the country s territorial mutilation which wa not the case with Poland That said I am not sure if the inclusion of country such a Finland the Baltics Yugoslavia or even Ukraine which had never been independent in the first place is a good idea While the West could have arguably done more to assist any of these society before and after the war I think that the article s focus should be on Poland and Czechoslovakia in order not do dilute the whole issue After all there were dissident in Germany and the Soviet Union too who were harbouring grudge towards Western politician because of their appeasement policy Oct UTC',\n",
              " 'Hello Setanta can I ask you what you think of the proposal first put forward by Matt Lewis in July at Template talk Country data Northern Ireland I confess I am no expert on N Ireland but I believe this could solve the problem of N Ireland having no flag to represent it on wiki I have made a comment at that article Cheers',\n",
              " 'American Psychologist a additional resource I did not see listed in the reference any citation of the American Psychologist article in January some of which discus this subject',\n",
              " 'Regarding the Verifiability mediation you will appreciate that due to recent event user talk newbyguesses February that I am jn a pickle Is it just me or is it you too I don t know what to do how can we go forward What is to become of me and all my belief and need Who is there who care to take in to account my position is there no accounting for our difference and each of u what it is that you see that we stand for in the highest degree a individual really individual a we all are individually in our own way a real people different but the same but definitely an individual just like every body else belief they are despite all evidence to the contrary Comment on content not on contributor or did I just dream that Either way or whatever just don t scare the horse or wake the kiddy comfortably snoozing You know it make sense to me cause I say so irrefutably talk',\n",
              " 'you have no authority to be threatning to block me about saying information about a company i work for you do not even know anything about airliner bello that is all i basically said if that wa so hard to comprehend',\n",
              " 'The real problem is the sneering and contemptuous attitude that you reveal in your first sentence in the last post It wa originally followed by others in similar vein which you have deleted Yes I can cut and paste quotation I can also select appropriate one in this case one which you would do well to consider I will return to this when I have time probably this weekend',\n",
              " 'He doe appear to be a bit of a fantasist To be fair he ha carved a nice little career for himself and more fool the mug that buy his book and believe what he say But like many people contributing to this page I come from that background and whenever his name is mentioned the response is always Dave who No one had ever heard of him at all until the book started coming out',\n",
              " 'dar Ok bear with me Penelopism is a religion It s a new religion But it is a religion Penelopism is extrememly important to Penelopists We want the word about u out there People are not too fond of our belief We just want a way to show them that we mean no harm Now you have the Spaghetti Monster Church in here That is not even a real religion Penelopism is So please Tell me what the Spaghetti Monster ha done that Penelopism hasn t What can we do so that Penelopism can be on wikipedia Because I am having trouble understanding And I apologize for the dar dar dar However much fun it wa I shouldn t have done it whatsit',\n",
              " 'I intended this to go the page',\n",
              " 'DXRAW come out come out where ever you are How odd that DXRAW go away and then in the follwing article ExtraDry appears in the editing list Aussie Aussie Aussie Oi Oi Oi Free Hugs Campaign Newington College Australian Army Cadets John Cena So you really are that cheer loving free hugging Newington teacher and cadet master who ha the hots for John Cena with his shirt off It s time you came out DXRAW',\n",
              " 'This accusation is uncalled for I have only reverted one edit My second edit wa to add the reference not a revert',\n",
              " 'Do not help the jew Schnider Final warning',\n",
              " 'kudos for destroying article copyright superstar you really deserve nobel prize for copyright',\n",
              " 'Welcome Hello and welcome to Wikipedia We appreciate encyclopedic contribution but some of your recent contribution seem to be advertising or for promotional purpose Wikipedia doe not allow advertising For more information on this see Policy on neutral point of view Guideline on spam Guideline on external link Guideline on conflict of interest If you still have question there is a new contributor s help page or you can write helpme below this message along with a question and someone will be along to answer it shortly You may also find the following page useful for a general introduction to Wikipedia The five pillar of Wikipedia How to edit a page Help page Tutorial How to write a great article Manual of Style I hope you enjoy editing Wikipedia Please sign your name on talk page using four tilde this will automatically produce your name and the date Feel free to write a note on the bottom of if you want to get in touch with me Again welcome',\n",
              " 'The spelling Tacarimba La Tumba Del Fuego Santa Maliga Sacategas Lo Onto Del Sol Y Cruz is the one stated in the lyric in the vocal score of Side By Side By Sondheim available for rental only This version of the song however misspells Llanfair PG presumably to approximate the pronunciation and ha the lyric today s the last I ll be spreading rather than spending It would seem therefore that this source can not be considered canonical This rendering of the place name doe accord with Millicent Martin s recording on the Side By Side By Sondheim cast album however The published version of the song a contained in The Hansen Treasury of Stephen Sondheim Songs Charles Hansen Music Books ha the lyric printed a Tacarembo la Tumbe del Fuego Santa Malipas Zacatecas la Junta del Sol y Cruz and being a printed source a opposed to handwritten a is the vocal score can presumably be considered definitive Linda Lavin s pronunciation on the original cast recording of The Mad Show for which the song wa written follows this spelling which would suggest that the printed version is correct As it is a fictional place name however any discussion of correct spelling pronunciation is an academic one at best',\n",
              " 'Don t peddle your crap please Hate to see another article get disputed for neutrality due to you',\n",
              " 'Howd Homeonttherange Your typical problem is that you are being too literal The term Personal Union is a very special and limited Constitutional term It refers to two or more States i e country that recognise the same Monarch a there Head of State however their is no UNION OF THEIR PARLIAMENTS Some example are i The Union of Kalmar Its member were the Kingdoms of Denmark Norway and Sweden This gave rise to the termUnited Scandinavia In I believe Sweden left the Union The resulting left over Union of Denmark Norway wa dissolved in a being allied with Napolean tunrned out badly',\n",
              " 'I think this one should DayZ mod the other one should be DayZ video game and DayZ should be just a disambiguation page',\n",
              " 'by those pushing an anti MRM POV',\n",
              " 'You really are a rebel guy rebelguys Time to get oral from a prostitute',\n",
              " 'Fine smarty pant But just wait until they finally announce it Then you ll see I am right and that you don t know everything',\n",
              " 'AMBER TAYLOR FOREVER AMBER TAYLOR FOREVER',\n",
              " 'Kosovo template hi again Can you please take a look at this template Shouldn t Albanian language be mentioned first since of the population are Albanians I changed this but some Serb nationalist keep reverting my edit I hope I am not disturbing you but you are one of few here I consider to be quiet neutral',\n",
              " 'Of course a true Dub will say depaaarted or more likely f in gone',\n",
              " 'I think it is a little disingenuous of Zet to claim that a division which had lost most of it fighting troop wa far from destroyed when it fighting capacity wa close to nil',\n",
              " 'Muslim Men Harassment of MM page It is amazing how three muslim men jumped all over this page right after I added a number of thing minute after all three men all muslim and cleaned it up Does a woman working for human right in Pakistan really get under your skin so badly Wow So sweetie if you are so bloody busy why not get busy and stop harassing the woman Are you that threatened',\n",
              " 'width style background transparent width style background color style width border px solid background color vertical align top Hello Madstar and Welcome to Wikipedia Please remember to sign your name on talk page by clicking or using four tilde this will automatically produce your username and the date Also please do your best to always fill in the edit summary field Below are some useful link to facilitate your involvement Happy editing discussion width style background color style width border background color vertical align top Getting started Introduction The five pillar of Wikipedia How to edit a page Finding your way around Table of content Department directory Editing article How to develop an article Manual of Style style width border background color vertical align top width cellpadding style vertical align top background color Getting help style color Frequently asked question Cheatsheet Where to ask a question Help page New contributor help page',\n",
              " 'August UTC Hey look like your rehab program didn t take and now Socafan s been community banned Your approach worked out REAL well didn t it Talk',\n",
              " 'PKK fighter who the past decade entering and living Syria for their fight in Turkish territory have no match in guerilla war specialized to this against the Turkish regime Rebels and the army are far behind in ability and training to match the PKK fighter',\n",
              " 'OMD THL H Depeche Mode ABC are all not New Romantic never have been don t self identify a Romantics fan don t consider them romantic yet individual insists on keeping listing them on this page Fans of the band will just keep removing them because it is simply wrong Stick to Visage and other blitZ band or this article will be in perpetual edit war',\n",
              " 'Tried to be productive look at my contribution but hit my head against a wall of spoiled greek child or probably under pay from Greek Government that purposely keep vandalizing the Albania related page and keep iritating the albanian editor until they explode and get banned As a historian I blush with what I find quoted a reliable information on the wikipedia page and the quality of the editor and source Time to move to the French page a lot of reader there still more language to go Till next time Wikipedia suck',\n",
              " 'Ricky Gardiner Woody my man thanks for your quick action and addition re this article just a stub I created yonks ago to get rid of red link on Bowie Pop article What is it that draw people like u to defence and rock I think Nick D is a member of the Military and Music project a well Then again the riff for Lust for Life came from Bowie s interpretation of an armed force radio theme Cheers',\n",
              " 'Triple crown just about cleared OK got out the broom and dusted off some stuff Cheers talk contribs',\n",
              " 'If you agree with Master Bigode then what about rule for x image and what about the back side image that wa erased without consensus He never discussed the back image he erased it out of the blue What if I went on your user homepage Wolftengu and I said that picture on your homepage is too big be within guideline and I removed it placed it somewhere else and I also removed another image would agree with someone doing that to your homepage or would you be outraged However Wolftengu you seem to be playing unfair cop here by notifiying over a if a discussion wrong What is your point Do you own a DX or if not what is your involvement to disallow a X or any other x image and even any other image of a DX in a smaller form',\n",
              " 'As a rollbacker that is particularly problematic You should be aware that editor who edit war may lose the privilege regardless of the mean used to edit war',\n",
              " 'What about non american school mosque synagogue etc etc Wikipedia is so America centric',\n",
              " 'Thanks for fixing this',\n",
              " 'No not really We may ask that the mention of fat being the fire source of the cremation of million be reconsidered though along with a few other item The fat cremation wiki fact is citable www hdot Emory U no le Lipstadt but doubtful If the same science wa applied to the holocaust a say the tinfoilers or flat earthers the denier would be overjoyed Be careful a to who get the nutty fringe tinfoil label in the end You get the permit and we ll bring the shovel',\n",
              " 'Celebrities Talk about your fave celebs and even your crush',\n",
              " 'You know I wa thinking Nobody really attacked me before I revealed my age here After I announced that I wa I wa subject to a constant storm of harassment and abuse The same thing go for when I wa on The Sandbox when I wa Before people knew my age they didn t care After I told them my age they hated me It s just so amusing how the idiot Soapboxers think of teenager a being responsible for the decline of The Soapbox like it wa ever any good to begin with This is funny because the adult are the dumbest people here Mauricio Chuppah Redneckgirl Pinky Scooby GG ForeverLostTinkerbell greenrabbit StarRocketsInFlight Bree Robinson enigma CocaineNightmares TokyoDome Chad Ocho Cinco Steve Lake all adult The teenage poster here are typically the smartest one Let s see G Dawg Head Banging Brunette ClassicAge Metropolis even though he s a bipolar weirdo ChrisScript just to name a few All I ever see adult posting is rate my poo my ballz smell funny whoz hawter me or ur mom i like to rape little girl and HEY GUYZ LOOK AT ME IM AN ATTENTION WHORE The adult poster here are immature moronic savage bully with the mental capacity of a retarded year old Whereas most of the teenager here are thoughtful intelligent mature and often profound But they re subject to constant schoolyard bullying by the idiot adult poster who think they re somehow superior because they were born and dropped on their head earlier Soapbox logic never fails to amuse me',\n",
              " 'TM How astute remember civility is the key That verbal licking you gave me really failed to break the skin MAYBE JUST MAYBE WE CAN GET ALONG HOW ABOUT THAT',\n",
              " 'Sofia Added I am from Sofia Bulgaria Our city ha also joined this initative so I included it',\n",
              " 'Would you mind focusing on content s rather then contributer s',\n",
              " 'decline A bit too close for comfort that one Try to avoid the company name altogether We get a bit edgy about account that appear to represent organisation',\n",
              " 'Weatherman and better writing A lot of the change you ve made recently to the Weatherman page are notably more awkward for no apparent reason I m not particularly concerned about the change in some adjective surrounding how some organization and event are characterized but at the same time you rearranged sentence to read quite poorly Plus you seem to get really carried away with wikilinking do reader really need a link to know what a bomb is',\n",
              " 'Non lead Shouldn t the title of the page be Supporting or Minor instead of Non Lead',\n",
              " 'I agree with Leontes though I began attempting compromise last night considering no one else wa backing me up on this In the interest of building consensus however I will note that political descriptor in the absence of reliable third party source are inappropriate in this article I will also note again that some commenters here appear to be confusing the electoral vote website with the electoral vote author This Wikipedia article is about the website NOT the author who ha an article of his own',\n",
              " 'Dispatch review I added some comment here I think it is a wonderful dispatch very clear We ve needed something like this for a long time',\n",
              " 'I vote for Christ Pantocrator though it could be nice with a wider crop',\n",
              " 'Here s an idea Go fuck yourself cumshitter',\n",
              " 'Your assistance please The record show you deleted File HMCS Fennel K jpg The entry you left in the deletion log said listed on WP PUI more than day I strongly suspect that this wa a free image Crown copyright Canada protects image for their first year WW ended year ago So if this wa a crown copyright image it would be a free image I d like to request userification of the information template and other information associated with this image to review for possible clarification of whatever problem got it listed at WP PUI in the first place Could you please userify it to',\n",
              " 'listas Manos Family',\n",
              " 'So despite your equivocation you are still wrong People do remove vile vicious hate speech whilst remaining on the right side of policy You made a very clear statement about Wikipedia policy and I proved you were wrong And you denied my unblock request a a result of your misinformation I know expecting an apology from a Wikipedia administrator is a waste of time but in future stay away from me okay I prefer to deal with admins who do know the rule',\n",
              " 'Speedy deletion of Phi Rho Eta A tag ha been placed on Phi Rho Eta requesting that it be speedily deleted from Wikipedia This ha been done under section G of the criterion for speedy deletion because the article appears to be a blatant copyright infringement For legal reason we can not accept copyrighted text or image borrowed from other web site or printed material and a a consequence your addition will most likely be deleted You may use external website a a source of information but not a a source of sentence This part is crucial say it in your own word If the external website belongs to you and you want to allow Wikipedia to use the text which mean allowing other people to modify it then you must include on the external site the statement I name am the author of this article article name and I release it content under the term of the GNU Free Documentation License Version and later You might want to look at Wikipedia s policy and guideline for more detail or ask a question here If you think that this notice wa placed here in error you may contest the deletion by adding to the top of the article just below the existing speedy deletion or db tag coupled with adding a note on the article s talk page explaining your position but be aware that once tagged for speedy deletion if the article meet the criterion it may be deleted without delay Please do not remove the speedy deletion tag yourself but don t hesitate to add information to the article that would would render it more in conformance with Wikipedia s policy and guideline',\n",
              " 'WILL MY MOTHERFUCKING SAFETY BE GUARANTEED I FUCKING HOPE SO I M BRINGING MY OWN FUCKIN WEAPONS PAY ME WHEN I GET BACK MOTHERFUCKERS OH YEAH I VE GOT A JOKE A FAMILY HUSBAND WIFE SON DAUGHTER DOG WALKS INTO AN AGENT S OFFICE AND TELLS HIM THAT THEY VE GOT A GREAT VAUDEVILLE ROUTINE HE SAYS WE DON T HIRE KIDDY ACTS AND THEY SAY BUT WE RE REALLY GOOD AND SO THE AGENT SAYS FINE LET ME SEE WHAT YOU VE GOT BUT IF YOU SUCK I M THROWING YOU OUT SO THE FAMILY GETS READY THE DAUGHTER HITS THE CD PLAYER AND CIRCUS MUSIC BEGINS PLAYING THE FATHER JUMP KICKS THE SON IN THE HEAD AND STOMS HIS FACE IN THE GROUND UNTIL IT S A BLOODY PULP THEN PROCEEDS TO JERK OFF AND CUM ALL OVER HIS SHATTERED SKULL MEANWHILE THE MOTHER BEGINS VIOLENTLY FINGER FUCKING THE DAUGHTER AS THE DOG FUCKS THE MOTHER IN THE ASS HOLE THIS IS THE POINT WHEN THE FATHER TAKES THE LEFTOVER BRAIN MATTER FROM THE SON S HEAD AND SHOVES IT INTO THE MOTHER S PUSSY THEN BEGINS FUCKING HER PUSSY WHILE SIMULTANEOUSLY STICKING HIS FINGER DOWN THE DAUGHTER S THROAT UNTIL SHE VOMITS ALL OVER THEM BOTH THEN THE DOG BITES THE MOTHER S HAND OFF AS SHE S FINGER FUCKING THE DAUGHTER LEAVING HER HAND IN THE DAUGHTER S PUSSY AS BLOOD SQUIRTS ALL OVER THE PLACE THE FATHER TAKES BLOOD FROM THE GROUND SMEARS IT ALL OVER THE MOTHER S CHEST BENDS OVER AND BEGINS SHITTING ALL OVER THE OPEN WOUND WHERE HER HAND USED TO BE BEFORE THE DOG BIT IT OFF THEY TAKE THE DOG AND SHOVE IT IN A MICROWAVE HEATING IT UP UNTIL IT EXPLODES THEN TAKE THE DOG REMAINS MIX IT WITH THE FATHER S SHIT THE SON S HEAD WOUND AND THE FATHER S CUM AND SHOVE IT INTO THE DAUGHTER S MOUTH THEN THE FATHER RIPS THE SON S DICK OFF AND FUCKS THE DAUGHTER WITH IT AS THE MOTHER LOCATE S THE SON S TESTICLES BREAKS THEM OPEN AND DRINKS THE SPERM THAT COMES OUT THEN THE FAMILY LINES UP AND SAYS TA DA THERE S SILENCE FROM THE AGENT UNTIL HE FINALLY SAYS I LOVE IT WHAT DO YOU CALL THAT AND THE FAMILY SAYS WE CALL IT THE ARISTOCRATS',\n",
              " 'Requested move Canada national football team disambiguation There s I recently moved the American football team which used to carry the moniker Canada national football team to Canada national American football team and I consider this move request if successful to be vindication of that move b b',\n",
              " 'I think Clockback that your suggested reference to Ainsworth s involvement in the IMG is too long and that something along the line of brief flirtation would be better I think that the IMG reference need to be short somewhere in the early career section posted after the article ha been expanded a little otherwise the article might appear weighty I think the last point is important a it seemed to be a consensus reached by a number of Wikipedia editor after much wrangling and gnashing of teeth But bedside this brief dalliance with Marxism in an overall consideration of his political career pale into insignificance compared to his being controversially thrust a a third choice candidate into the position of Defence Secretary at a time of crisis for the British Army in term of the number of casualty being sustained and a lack of resource This is simply not reflected at all in the Ainsworth article I tried reflecting it a follows His appointment formed part of a chaotic cabinet reshuffle by the Prime Minister who considered at least three other candidate before appointing Ainsworth but this wa dismissed a speculative opinion by Off riorob above even though from my point of view it is easily the most significant event in Ainsworth s biography Perhaps we can reach a consensus that if a better reference can be found which I suspect should not be difficult that it can be re included I want to stress that this is again not meant to be an ad hominem slight against Ainsworth but merely drawing attention to the fact that his appointment wa the equivalent of throwing someone in at the deep end and indeed he ha had a very difficult time of it since his appointment Actually it reflects worse on Brown and the farcical reshuffle',\n",
              " 'Greek love I m looking for a way to extricate myself honorably from this mess I m leaving a note here because you closed this AfD where I made a commitment to do a you instructed in the closing statement There are two editor who have long sought to delete or eviscerate the article one of whom ha used a series of user name unacknowledged on his current user page but available so at first glance it may appear on the talk page there are more than two editor in the suppress camp I complain here about their coordination Other editor including and I simply can t do it any longer I haven t changed my position on the validity of the article but I ve been accused on various talk page and never the appropriate notice board of edit warring ownership disruption and even pedophilia by implication all for trying to carry out what the community decided I m done I need to limit my time on Wikipedia at present and wish for that time to be spent pleasantly and productively When I ve made a commitment though it grief me not to keep it I m not asking you to do anything I m just explaining why I can t keep my word a given at the AfD Wow that is a mess Certainly no hard feeling on my end it is clear you endeavored in good faith to improve the article I have found that knowing when to walk away is an essential skill not only here but in the real world Sometimes your presence despite your best intention is harmful rather than helpful and sometimes a dispute just isn t worth it anymore Best of luck in your future endeavor here Mailchimp I m not that bothered but I think that the Mailchimp speedy deletion wa a mistake It did cite that it wa one of the more important email marketing program so it wa stating the importance something that wa supposed to be the original problem The criterion specifies a credible claim of significance Wordpress page are not reliable source However I would certainly not object to it being restored a a redirect a it wa for several momnths before today Talkback talk Just a hunch Call it my intuition but I m guessing that his username is a direct challenge to patrolling admin that you guy won t block him based on the username itself but his contribution speaks volume of his nonsense louder my other hunch being he s a returning editor than his username doe Just my cent Cheers There are plenty of legitimate reason to be a returning editor the username is not a blatant violation of the policy If you have any evidence of socking file at WP SPI Recreation of article Shay Carl I would like to request that the article Shay Carl be recreated see the deleted Talk Shay Carl for my reason note Talk Shay Carl wa delete because of A not notibility Well there wa',\n",
              " 'Where s the defendant figure coming from Nuremberg and Vietnam An American Tragedy by Telford Taylor U S Chief Counsel at Nuremberg mention',\n",
              " 'Oh hey a response That s cool I personally feel that having the fortitude to call out TTN on his obvious flaw should warrant a few dozen Barnstars but I see where you re coming from If you insist on keeping the block I would like to formally request the reason for this account s blocking to be changed to reflect the real reason instead of being noted a a common vandal Maybe a reason along the line of being a pain in the as like that one guy on Nakon s talk page stated On that subject maybe he should be blocked too after all he did use a cuss word and that s technically worse than anything I ve ever said',\n",
              " 'NO You have the right to express an opinion that you consider it to be Hasbara or crap or both You do not have the right to identify it a Hasbara crap or both',\n",
              " 'GA Review This review is transcluded from Talk Battle of Rowton Heath GA The edit link for this section can be used to add comment to the review Reviewer YES I ll take a look over the next few day and then start to make some comment YES',\n",
              " 'for evidence Please make sure you make yourself familiar with note for the suspect before editing the evidence page',\n",
              " 'AfD Please see Wikipedia Articles for deletion Revelations Guidelines for notability are outlined generally at WP N and specifically for song at WP NSONG Thank you',\n",
              " 'Organizations class Start importance Low maindykdate need infobox Yes need image Yes attention WikiProject',\n",
              " 'Actions in la la land have real world consequence',\n",
              " 'Dean Wormer Works for the Racists in Jena LA I will continue to update the posting for Jena LA to reflect the fact that thier famous person of note wa a SEGREGATIONIST DEMOCRAT which is in fact a historically accurate description',\n",
              " 'Woopsies oh thank you soooo much I didn t know I PROMISE that i ll never ever do it again ok',\n",
              " 'for everyone s info particularly admins i believe the latest sock puppet for Igor is just a head up',\n",
              " 'Why are you giving me warning Before someone mark this a vandalism I want you to at least read this Why is this vandalism I don t understand I am new to Wikipedia and I am trying to figure it out PLEASE DO NOT MARK THIS AS VANDALISM I m am not doing anything wrong I just need answer from somebody Please help',\n",
              " 'Gift card for downloads Re As of December it is not possible to use gift card to purchase MP s even though the gift card FAQ claim Yes Amazon com gift card can be used to buy Amazon MP and Unbox downloads strictly speaking this is a false statement a were able to pay for order with a gift card at that time One person already removed that line but it wa reverted Is there a good way to go about providing verification',\n",
              " 'I m thinking about deleting War on Terror Operation Enduring Freedom Horn of Africa and Operation Enduring Freedom Phillipines because they are redundant I d like for people vote on it',\n",
              " 'No it s not useful information about the topic and it s a good idea Only screenshot is allowed per game at most if they really relay something',\n",
              " 'My experience came up on the talk page but once I understood Wikipedia I didn t post anything on the article related to my personal experience That wa like the nd day almost two month ago All of my reference are verifiable There s nothing in the article about my law suit or my being put in jail for engaging in pro se litigation I didn t put my experience in the Judge Edward Nottingham article either although he wa my judge I went out of my way to search for reference expressing all the various side of the issue For instance I wrote to the ABA and asked for their input and in fact asked them to work on the article I also posted about issue involved with mediation and settlement with pro s citing reference from a lawyer point of view Those reference were deleted by someone I can t remember who and don t know why At this point the only reference that I posted that is soft at all is a blog quoting a transcript quoting a former federal judge and I know for sure that is a valid transcript The guy who run the blog is a rd year law student and ha a business selling data service exclusively to lawyer Even the stuff that wa deleted about pro se frustration I had reference for I read in the Wikipedia discussion of source that blog can be used in some context I don t believe that I did any original research All I did is search the Internet for reference for the article I really didn t know about unbundled attorney service or the amount of pro se litigation before I started working on this article I had already been thinking about form based filing but I started thinking about that anyway because of my experience with ECF which date back to Also when I wa younger I worked a a system analyst I did get the info on the Laws and Liberties of MA year ago but Wikipedia already had an article on that and it probably would have come up anyway Same a the U N covenantcan t really hide that I didn t add a and b together to prove a point at least not consciously Like today I wa reviewing appellate procedure and it seemed that the th Circuit had a more pro se friendly tone which I think is because of Judge Learned Hand who wa in the fifth circuit And the only reason I know about that is that one time I went in every federal circuit and searched on the word pro se in the s because I wa trying to see if there wa a history of putting pro s in jail for being pro se No there wa not What I found in the s wa that some circuit denied all the pro se appeal without even saying why but Judge Learned Hand seemed pro se friendly I believe that your posting thing about pro se litigant getting an unfair advantage is soap boxing I do understand your wanting to win thru competition though and about law a a business I ve been an entrepreneur I didn t know about the Federal Judicial Center until I started working on this article That book on appellate procedure I found looking for reference for this article The manual on complex litigation I found looking for reference for this article Arguing with you help me to clarify the issue for myself One thing I started thinking about a lot in the past few week is slavery and how that affected the history of pro se litigation I ordered the book Slave Nation at the library but I haven t got it yet But now when I look at pro se law in the different state I think free state slave state border state Also there were issue related to Indians in some of the western state The labor union movement had a lot to do with it too I think So did the history of workman s comp which is of course related to union',\n",
              " 'try passing illegaly the border from USA to mexico you ll end in prison too but the re no communist there',\n",
              " 'unsourced personal commentary A new account ha re added this it look like unsourced personal commentary',\n",
              " 'Your comment is indented a if it is a response to mine but I am not the one who removed the discussion',\n",
              " 'When I looked at the Cato edit it wa simply a removal of the reference the addition of another donor and a change in the language Without an edit summary to explain the change were unjustified Your clarification certainly help Thanks also for adding the reference on Summers Frankly I did not look at the source removed or added My main concern wa the unexplained edits Summaries are important And then I saw that the message about these same concern from a while back so my message is more of a reminder Most importantly you are incorrect if you think it is not against the rule to add unsourced material One of the core content policy is WP V and WP RS allows u to carry out that policy Happy editing',\n",
              " 'We all know that just about everyone here watch the update Theres a REASON they aren t listed Complaints',\n",
              " 'I ve been though the article It s simply untrue that only men are consistently referred to a Jews but womabn and child are not Many passage refer generally to Jews clearly meaning men woman and child Only one sentence corresponds to your criticism The screening of the population however resulted in Jews Jewish woman and Jewish child of which Jews and Jewish woman were shot in co operation with the Security Service This particular sentence should be rewritten I ll just do it but the sentence itself is grammatically confusing so whoever wrote it may wish to check that I understood it correctly',\n",
              " 'Hello Long time no shart',\n",
              " 'Other Bush article not referenced in George W Bush None of the following article is mentioned in the George W Bush and perhaps should be Bush s Brain How Karl Rove Made George W Bush Presidential Domestic policy of the George W Bush administration Early life of George W Bush Economic policy of the George W Bush administration Electoral history of George W Bush Fictionalized portrayal of George W Bush Foreign policy of the George W Bush administration George W Bush and the Iraq War George W Bush a Governor of Texas George W Bush Cabinet George W Bush presidential campaign George W Bush presidential campaign George W Bush Presidential Library George W Bush pretzel incident George W Bush substance abuse controversy George W Bush Supreme Court candidate George W Bush s first term a President of the United States George W Bush s second term a President of the United States List of book and film about George W Bush List of George W Bush legislation and program List of nickname used by George W Bush List of people pardoned by George W Bush Mahmoud Ahmadinejad s letter to George W Bush Movement to impeach George W Bush Presidency of George W Bush Professional life of George W Bush Public perception of George W Bush Religious faith of George W Bush The Lies of George W Bush Mastering the Politics of Deception',\n",
              " 'A third term is significant simply because it is rare The electorate and party often on behalf of the former are disillusioned with the party leader by this time thus they kick him her out Read about Margaret Thatcher',\n",
              " 'Some baklava for you A Gift in the hope that you reconsider my indefinete block A traditional food from the middle east made best in afghanistan Metalman',\n",
              " 'Referring to her a Catherine I wa told in no uncertain term that I could NOT refer to anyone living or dead by their st name on WP if a female had a title she had to be referred to a that throughout her article ie Lady Amy or Lady Dudley for Amy Robsart even though Lady Amy wa wrong before she wa married a she wa the daughter of a knight had no title wrong after Northumberland wa attainted all his child lost their style a offspring of an earl a duke she did not become Lady Dudley until Elizabeth I knighted Robert Dudley near the end of Amy s life nor wa she then Lady Amy Dudley a legally she wa no longer the wife of the son of an earl duke I thought it wa simpler to refer to her a just Amy throughout rather than explain the change that occurred with her name style but wa told it wa against WP rule though I wasn t pointed to a link for it Noblewomen are usually called by their st name round here a far a I can see even when they have surname are not of something Mary Boleyn is called Mary not Lady Carey or Lady Stafford Catherine Neville is called Catherine not the Duchess of Norfolk etc they re not royal As for male I wa told they had to be referred to by their title ie Leicester or last name ie Dudley I wa banging head on keyboard going but no one just say the king all the time or refers to them a Plantagenet or keep changing their title ie Henry of Bolingbroke going from Earl of Derby to Duke of Hereford to Duke of Lancaster to King of England So how doe Kate get to be consistently referred to a Catherine throughout the article without her title appended I ve only been here a few month I would appreciate it if someone could actually explain this to me a my main interest is British history I am quite confused',\n",
              " 'Mevins say I will be changing your elegant profile shot of Bruce to a better picture a soon a I upload it I appreciate ordinary Jay Bruce fan but I am Jay s biggest fan Thanks for your attention I think Jay would agree that a picture on Wikipedia ha little to do with furthering his career but nice try',\n",
              " 'They are all cunt It s not worth editing article here concerning any serious issue All side consist of either people employed to edit or people with very strong opinion that will never ever change They advocate their stance a something that is interesting to them instead of using the encyclopedia a a book of knowledge and contributing what they are sure to know Soon with the centralization of the net into larger and larger site independent information in general will be extinguished Wikipedia a project that started by nerd and professional within their set field will become the altar of knowledge where depth and true insight is sacrificed for becoming the sound magnifier of yellow press and popular science The new tool that is intended to auto translate article from one Wikipedia to an other will extinguish the few national wikipedias that through their niche provide those of multilingual capacity an ability to cross check fact through other perspective With few small independent site left with no or few free university page left real knowledge will be the privilege of the few that know how to use academic search engine and have the money to pay for them',\n",
              " 'I ve said once i say it again if you don like thugstep that s you bizness If you think that quite a range of refenreces to web page stay it non notable you are welcome to tell it to admin for it to be deleted',\n",
              " 'Although it doesn t extend to the modern era you might want to look at Ancient higher learning institution to see how it relates to Chinese higher learning institution',\n",
              " 'Do not harass other editor with no basis You have posted a baseless warning threat on my user page Do not post any more thing on my page Otherwise I will complain to the administrator or even Jim Wales if I have to',\n",
              " 'The Comma Is not the correct title for the first series Yes Minister without the comma I believe it wa only Yes Prime Minister that ever had the comma Unless there are objection I will be moving the page',\n",
              " 'Excellent And please don t damage your book on our account for sure It is an interesting question Where wa the camera That s a fair question To jump to the conclusion that it wa impossible is ludicrous But that s typical for the moonbats The picture is useful for another reason a it show a similar relative position of the LEM and the antenna for this Apollo flight a on that web page that argues about those object in Apollo In both case the antenna is at a degree angle away from the LEM and both the near photo and the distant photo on that website are consistent with each other despite the website s claim to the contrary The moonbats isolate on specific item a their evidence but the more one see the broader picture the more their phony argument get shown up',\n",
              " 'Content subsumed into Maneesh page same entry different spelling And REDIRECT',\n",
              " 'Ditto congrats and all the best to you',\n",
              " 'is when that part of the video show it It say lot of small village have prostitution in karaoke joint and that this one had a single orangutan in it It doesn t say it common everywhere though',\n",
              " 'Fuck you Smith Please have me notified when you die I want to dance on your grave',\n",
              " 'I have seen your post now but I replaced the pop punk reference which wa there again with rock a few day before',\n",
              " 'Please avoid using abusive edit summary a per Wikipedia Civility and Wikipedia No personal attack Thanks and happy editing Please do not make personal attack on other people a you did at Minneapolis Minnesota Wikipedia ha a policy against personal attack In some case user who engage in personal attack may be blocked from editing by admins or banned by the arbitration committee Comment on content not on other contributor or people Please resolve dispute appropriately Thank you',\n",
              " 'DECT isn t really a new technology It s a newer standard but TDM TDMA FDMA digital telephone have been used for a lot longer than the life of DECT DECT is itself a successor to CT Japan s PHS is very similar and of course GSM D AMPS and others have been extensively used across the world for a decade and a half To suggest there are special health issue with DECT would most definitely be placing undue weight on the subject DECT is considerably lower power than the analog system it replaces both during transmission and inherently because even when in use the TD nature of the system mean the system isn t transmitting continuously As I believe I ve said before there is nothing wrong with there being a properly researched article about the health effect of low power radio technology and there being a link in the See also section of this article to it That article of course should look nothing like the section I yanked There is nothing about DECT however that merit a special section on DECT s danger especially when new technology or otherwise there is no serious level of concern being expressed by anyone authoritative on this issue',\n",
              " 'I shit on your face fuck you',\n",
              " 'You are so retarded',\n",
              " 'Users using sockpuppets in this discussion Note that user nightscream is soliciting sockpuppets of Toure Neblett to join this discussion http en wikipedia org wiki User talk Halaqah Hi Halaqah This isn t surprising considering nightscream s slimy debating tactic and ad hominem smear It look like the reality is that there are only one or two actual people opposed to teh inclusion of the last name and the rest are their sockpuppets Though I guess it demonstrates that Nightscream is not one of Toure s own sockpuppets FYI I am not using a user name in this simply to make it clear I am not a sockpuppet',\n",
              " 'Thanks Stephan my interpretation is that Mr Nice Guy removed the content before discussing it on the talk page if he wa concerned about content reliability I thought I read that editor are supposed to bring it up in discussion first and reach a consensus instead of deleting sourced material',\n",
              " 'which I made up by fixing STEM article',\n",
              " 'Alex Albrecht why have you removed my addition to the Alex Albrecht page they were totally relevant',\n",
              " 'in a tank for bioelectrical impedance analysis etc I fail to see how either of the two picture recently added improve the article in any way',\n",
              " 'The image have been missing for a while a Wikipedia wa down for about hour I just hit rollback which among other thing restored the Patrick Stewart which I then removed but didn t see you had made other valid edits I also linked Harold Wilson from Prime Minister to Prime Minister of the United Kingdom The deletion wa done at GMT by which time the server were up You should register then you could bypass these invalid message Cheers Talk',\n",
              " 'Amazing thank you very much',\n",
              " 'Groin You sad fuck I m going to restore my edit and you are going to leave it or else I wil knee you in the groin yourself prick',\n",
              " 'May Your behavior on the talkpage of Honor Harrington ha been below par You do not know how to take defeat with grace and start behaving childishly Let me warn you that your next childish edit will likely result in a mention at WP ANI or a user review',\n",
              " 'Video Game For pete sake if I see that false video game article one more time I ll throw a cat out of the window whoever you are stop it now it isn t funny or clever you are just making a moron out of yourself and I bet that wa the same person who changed the test card date too',\n",
              " 'Palmisano playing for Iowa State in the s is a free pas I think I m pretty sure they were Division I then As far a a list of coach go I m not sure that s an articleworthy list at that level of competition a opposed to it being folded into a general Malone College Athletics article but I wouldn t file an AfD over it it s a compromise anyway Seeing a you re digging into uncovering notability for those folk want a full week for it',\n",
              " 'History KalliKids wa created by Karen Bach in March',\n",
              " 'Massacre I note that Kent State massacre redirects to this page and that other similar massacre in history wherein government force murdered civilian for protesting government policy are termed a such and such massacre There is no legitimate reason aside from sensitivity to extremist viewpoint in the United States to continue calling this article Kent State shooting It should be changed to Kent State massacre A cheap acknowledgement in the lead paragraph is insufficient I would appreciate discussion on this move and I will initiate the move myself soon enough',\n",
              " 'July Please stop If you continue to vandalize Wikipedia you will be blocked from editing',\n",
              " 'Notice of Objection to proposed deletion In accordance with the rule on this I hereby notify you of our my objection to your proposed deletion of the subject article Office of the Court Administrator v Floro Jr',\n",
              " 'Barnes Aus',\n",
              " 'May UTC TimySmidge',\n",
              " 'Two thing It make no difference to the validity of edits if an editor is anon and going around reverting a person edits en masse because you didn t like one of them will yield time consuming problem for you',\n",
              " 'Hi nice of everyone to listen well ive been here for about year have had afew problem but two have been the worst had a mamogram year ago dec said to call my doctor emediatly needed other view an presedgures wa incounculsive we all no that not possable fir that cause it just like an xray havent been able to go have no way to get there plus i have high blood pressure thets been running about the last time wa Around over i no thats very high the hospital xray tech seceritary said if i didnt get to the doc To get referral a soon a possible that by the time i did it would be to late to do any thing for me I no it to late all i want is to no how long i have left have daughter one in opelousas la one in hawiyei one in walker la i would like to see be fore i die have a partner i want too spend a much of what i have left with i love my kid an partnermore than life it self im looking for some help to get to a doctor i dont have the money to do this have no income to speak of zero my partner and i are seperated right now he is helping his father that ha cancer also he ha a lawsute from getting hurt he just bought a truck from his brouther an ha had to do alot of fixing on it also with the help of his dAd let his neffews daughter drive it an hour ago cause she just hot her license an wrecked it comepletly now we dont have a vihicile to help u everyone say god dont give u anything you cant handle i understand that but i need some help doe any one out there That may be could help me with anything at all just thought id try to ask never have asked before to much pride but im running out of time please can so one help me my email is apriljohnson gmail com or this site please need so help if anyone can god blesss everyone in there time of need I hope someone may be able to help me thank you for lissen to me my age also is sept',\n",
              " 'HE LIKES ITIN THE ASS BY MUHAMAD ALI AND KELLY HAS A GIANT PENIS AND ALSO FUCKED COLUMBUS',\n",
              " 'Here are the diffs of his edits from that report Talk',\n",
              " 'Aug UTC',\n",
              " 'Just shut up and stay shut Don t edit anymore',\n",
              " 'OH GET A LIFE YOU PRICK',\n",
              " 'What else specifically do you want to know',\n",
              " 'Rajputs not Rajasthanis right P Prof Hancock s study mention that the Romani people are most closely related to the Punjabis and Rajputs I m pretty sure not Rajasthanis He call Proto Romani Rajputic The distinction is important if they are partly descended from Rajputs who were never really confined to any one part of India that would explain the linguistic variation within the Indic word in Romani For example why the use of o instead of aa at the end of masculine noun adjective in Romani This is certainly a characteristic of Gujarati and Sindhi but is it a characteristic of Rajasthani language Anyway if I m wrong in making the last change I made a of now I ll be happy to revert it myself Oh of course',\n",
              " 'IF you would care to discus SPECIFICALLY what is bias incorrectly cited or irrelevant to this page I will hear what you have to say Until then seeing a the search term NDAA brings reader to this page I will continue to include present information reguarding this BUDGET BILL This is the LAST TIME I will repeat this Abusing your power will yield you no ground',\n",
              " 'Words of Encouragement to user Damemk in the case of dispute with the user engaged in Bulgarian Nationalistic Propaganda Damemk You have come to the same conclusion about Bulgarian th Century Nationalistic Propaganda on English Wikipedia User Laveol is one of the most prominent editor on Wikipedia contributing false information in the article about Republic of Macedonia Macedonian Nation History Language Culture Sports and what else not He is spending a lot of time working on his cause pushing Bulgarian Nature in the article of the domain of Republic of Macedonia How far ha he gone in pushing this propaganda you can see at Wikipedia WikiProject ROMacedonia where he ha listed himself a a member So just my few word of concern for the Macedonian Articles in English Wikipedia and the great damage done by User Laveol and other user with the Bulgarian and Anti Macedonian Propaganda Hopefully with the internet access becoming more affordable to the people in Republic of Macedonia the thing will go in right direction Removing the Bulgarian Propaganda from Macedonian article cleaning them of false fabricated information and giving the fact to the world and the view of the Macedonian Science and source I don t have much time now but hopefully will be able to find some more in the coming period I am open to any collaboration effort for the above goal I am expecting that this user Laveol will continue with the Bulgarian Nationalistic Propaganda and polluting the domain in the domain of Republic of Macedonia simply because he is able to and can find a way to continue to work on his agenda Ours is to try to remove these false claim and contribute the Facts about the Macedonia Macedonian Nation History Lanugage Culture Sports Damemk I hope you write something here at least to show that User talk Damemk and User talk Ejanev is not the same user Some insight into my user name Ejanev The only user I am using to contribute to Wikipedia is Ejanev It is composed of the first letter of my name Emil and my last name Janev User Damemk is a separate user Probably that user name is comming from Dame a Macedonian First name and mk or the code of Republic of Macedonia It doe happen that I am from Canada I wa born in Republic of Macedonia and have lived there until I moved to USA first and Canada before more than year And yes having all the false information from the Bulgarian Nationalistic Propaganda originating from the th century and having it into st century to be used to negate the Macedonian Nation and all it s attribute by user a Laveol is the reason of some of my editing action in Wikipedia I am not the only user editor from Republic of Macedonia or with Macedonian origin that ha the same view for this Bulgarian Nationalistic Propaganda that already is infiltrated in the Macedonian article You can watch the contribution of Special Contributions Laveol and see that more than of his action are engagement in negating the Macedonian Nation and it attribute',\n",
              " 'At Bookfinder com I found Probabilistic Reasoning in Intelligent Systems Networks of Plausible Inference Softcover ISBN Publisher Morgan Kaufmann Pub Bookfinder',\n",
              " 'Just to clarify what I m referring to in particular it is not neutral to state that Aerith is incorrect Talk',\n",
              " 'Thank you for experimenting with Wikipedia Your test worked and it ha been reverted or removed Please use the sandbox for any other test you may want to do Take a look at the welcome page to learn more about contributing to our encyclopedia talk contrb',\n",
              " 'The article Sebastien Larroud ha been speedily deleted from Wikipedia This wa done because the article seemed to be about a person group of people band club company or web content but it did not indicate how or why the subject is notable that is why an article about that subject should be included in Wikipedia Under the criterion for speedy deletion article that do not assert notability may be deleted at any time If you can indicate why the subject is really notable you are free to re create the article making sure to cite any verifiable source Please see the guideline for what is generally accepted a notable and for specific type of article you may want to check out our criterion for biography for web site for band or for company Feel free to leave a note on my talk page if you have any question about this talk to me',\n",
              " 'GBA I ve found out a Game Boy Advance version of this wa released There s no mention of it in the article As we know the current Acclaim doesn t have right to this series information may be scarce',\n",
              " 'Proposed move Asheville Civic Center with the talk page hosting this discussion U S Cellular Center Asheville North Carolina U S Cellular Center U S Cellular Center Cedar Rapids Iowa Both facility now have the same name talk contribution',\n",
              " 'No need to follow this Policy Taivo instead of just following the far more important policy of WP NPOV Remain Neutral There is an international dispute over this country s name and FYROM is used by many organization worldwide why should wikipedia abandon it s usage since it is extensively used to describe the State of Skopje Especially in article directly related to country that use the FYROM name to refer to it',\n",
              " 'The two big thing would be citation to verify that it wa serialized in the Weekly one reliable site in English just say Shonen Jump but since you have the one that start serialization that can be used to note when it started serialization If they mention there that it a continuation from the one shot story because I can t find any RS Japanese or English online that confirms that The other is Horii s reason for adding mini medal Info on the anime about what it wa based on if it mentioned is all that is really needed for the main article but could really help the anime article itself Jinnai',\n",
              " 'REDIRECT Talk Colt Lightning Revolver',\n",
              " 'No nothing like that I just wanted to clean out the clutter There were a lot of bot comment a welcome message for my old username and so on I could have archived it I suppose but I didn t think there wa anything on there that wa particularly worth saving for the age',\n",
              " 'Why your article got jumped on Hi I m sorry to jump on your contribution the moment you put it in but the trouble is it is simply not the sort of thing Wikipedia is for These link are all in one or other of the template notice above but to put them all in one place the reason your article is being nominated for deletion are Wikipedia is not a dictionary Articles on neologism need strong evidence that the term is widely used Wikipedia is not for thing made up one day More advice on contribtuing in the link from the Welcome paragraph above The list of Bad Article Ideas is worth looking at too Regards',\n",
              " 'Therefore I wa reverting vandalism which is an exception to the three edit rule a mentioned on the edit warring page',\n",
              " 'user attacking me user Baki keep reverting edits without consensus or giving reason he ha also performed ethnic mudslinging in my direction please help',\n",
              " 'Not Thracian pretty simple year away',\n",
              " 'Im flattered I truly am I ve been here a couple of week and you consider me to be an established user Please don t talk about me behind my back like little school child',\n",
              " 'Chicadee i think the article name should be moved to chickadee',\n",
              " 'P S Are you a b tard',\n",
              " 'Ohhh I m sorry did I hurt your little feeling Let s all shed a couple tear together LOL What a joke I bet you feel pretty important pathetic little wikipedia volunteer Have fun living in your mother s basement drawing comic book lowlife',\n",
              " 'New image problem You again uploaded several image with dubious copyright claim You said they were from Hindu newspaper and licensed under the GFDL What made you think The Hindu publishes image under the GFDL If you simply invented that license in order to have a way to upload the image here then please say so now so I can quickly delete them If not I expect you will provide proof within the next day showing where and how that newspaper placed the image under that license If you do neither you will be blocked',\n",
              " 'Bunchofgrapes Request You Please Cease Revert Warring Bunchofgrapes I respectfully ask you to please stop your instant reverts on my edits If you have a problem with any of my edits then do so from knowledge but explaining what is wrong about the sourced material and edits rather than making blind statement designed to allow you to revert for no reason And again please cite your source You seem to not be able to cite anything that would back up your instant reverts and accusatory tone telling others that they are reverting when you have made several instant reverts with no explaination on the edit or added source Please cease this and cite your source edit the material according to Jimbo Wales NPOV and make sure your source are verifiable before your reverts Thanks',\n",
              " 'And what s the problem with neo',\n",
              " 'Wow big man here Can t take a little criticism and is upset about his failure to become an admin So what doe he do Looks for the closest person to run to some admin on Wikipedia Well played DietLimeCola Hey if I m blocked it ll be le time you ve been and for far better reason OH MY GOD SOME GIRL WAS LOOKING AT WIKIPEDIA FOR HER PAPER AND I DIDN T SEE THE TEACHER SO I COULDN T TATTLE SO I TOOK MATTERS IN TO MY OWN HANDS I also couldn t help notice how sad it is that you so quickly noticed my update Do you just sit their at your computer waiting for an update Please tell me you didn t watchlist this page you did didn t you All in all everything can be summed up with a simple saying',\n",
              " 'Glen is cool glen is such a cool bloke and love being nice guy',\n",
              " 'Parodies Not intentionally surely',\n",
              " 'Pandur The name derives from pandur a Sumerian term for long necked lute Source of our knowledge about this instrument is since the ancient Greek Mantineia marble th century BC now exhibited at National Archaeological Museum of Athens depicting the mythical contest between Apollo and Marsyas where Greek Pandouris is being played by a muse seated on a rock National Archaeological Museum of Athens e book by Latsis Foundation p Lutes have been present in ancient Greece Pandura the first appearance in Greece They were also present in Mesopotamia since the Akkadian era or the third millennium BCE',\n",
              " 'I accept your comment in the spirit in which it is offered Terminology matter and it can be hard to find the correct word It wa another editor who sought to distinguish civilised behaviour from that of Indians my point wa that even if one accepts such a distinction non Indians have committed absurdly large atrocity In addition I could have pointed to the Mystic massacre a a completely on point example of a butchery that shocked our Native population None the le both tribal Mongols and tribal American Indians had or have civilization by any reasonable definition',\n",
              " 'No I dont agree my info will be saying up Since you are in such a hurry to edit the page why dont you fix the info that have you have sourced with a broken link',\n",
              " 'I thought personal attack were welcome a long a you revert them yourself and I thought restoring mentioning them wa ground for an indef block could our junior miss admin have missinformed me I have arrived just in time',\n",
              " 'Replacement PLEASE DO NOT EDIT BELOW THIS NOTE THE WHOLE SUPRA SECTION WILL DISAPPEAR AGAIN ONCE I AM ABLE TO POST ON THE ARTICLE TALK PAGE This includes you Shell Had you not blocked me I would have been able to place my answer there This will disappear tomorrow so you can put with it until then Because Shell falsely blocked me I can not save my reply on a certain article talk page Hence I will save the entire page minus the archived section here POV concern Im surprised this article isn t being called anti semetic because it s ha a few trace of Islamic perspective in it You know a opposed to being a piece of Zionist propaganda being passed off a fair and balanced This entire article is full of baseless jewish propaganda It is well documented the Banu Qurayza were executed for treason That is what merited them the death penalty that they commited treason The Quarash and other tribe the Muslims fought against were outright enemy who were persecuting them from the start But the Qurayza signed a peace treaty then broke it by aiding the enemy This article contains soo much jewish propaganda that you d think they were executed for no reason which no doubt is their aim Here is a great example Look at this citation According to Stillman Muhammad chose Sa d ibn Mua dh so a not to pronounce the judgment himself after the precedent he had set with the Banu Qaynuqa and the Banu Nadir Sa d took the hint and condemned the adult male to death and the hapless woman and child to slavery Furthermore Stillman infers from Abu Lubaba s gesture that Muhammad had decided the fate of the Qurayza even before their surrender This author is Norman A Stillman a Zionist Jew who is very biased Why is he being used a a quote in an Islamic article And further more why is his baseless conjecture allowed to be used a if it s a fact There are article for Criticisms of Islam where the Jews and others can write whatever they want But they should have no hand in editing Islamic article Because I looked up the Jewish article and I noticed they dont allow dissent there You cant put a Muslim perspective on evil act commited by Jews without it disappearing instantly So the same standard MUST be applied to Islamic article Islamic article must be written from the Islamic point of view and the jew can write their response in appropriate criticism of Islam article If not I will personally edit the Jewish article and fill them with my conjecture about their history And I will find a non Jewish admin to arbitrate over the Islamic article Good day Please read this talk page specifically all of the place where treason or traitor is mentioned and if you still believe that we need to mention treason provide some reliable source and we can discus it It is easy for our article to be neutral and mention all POVs but it doe require that people like yourself participate We work from academic source not personal conjecture Changes by Devotus and issue with them Dear Devotus I have still issue with your change Bat Yeor and Ramadan while I appreciate that you don t try you shift the balance removing a book from each side I do not agree with your removal Bat Yeor is an academic scholar and though her book are controversial she is not beyond the pale currently she doesn t serve a a reference in the article but if she did the controversy would be noted As for Ramadan I have issue with him a well but if we remove him from the literature section we would have to remove him from the article too in which he serf a a reference This is due to the insistence of User Bless sin He will certainly not like such a removal We can not remove him from the literature section while retaining him in the article While your first version wa needlessly verbose it is to be noted that the new one endorses that view by Paret Watt The article now say that the BQ were not killed for religious reason that is not a fact since there is a good case that the whole conflict wa caused by religious difference Also we do not want to repeat thing that have already been said in the coverage of the siege and demise e g the claim about attacking M in the rear Also please abide by the one resolved conflict We fought hard and long about word like massacre and execution and neither should appear unless unavoidable The common practice thing is unacceptable a it is s',\n",
              " 'OK Steve to be honest I really like the present form So I don t have any issue with the present one',\n",
              " 'Hello January You keep vandalizing article while adding misleading edit summary Please stop doing this It doesn t help build an encyclopedia and waste other people s time Since you repeatedly and selectively remove message from your talk page I don t know how many warning you have already received I will thus consider this to be your third warning and report you next time you vandalize an article Thank you for understanding talk',\n",
              " 'I think it depends on the circumstance if someone won a gold medal at a competition the Gibraltar anthem would be appropriate rather than God save the Queen',\n",
              " 'He s at it again He seems insistent on adding pointless rambling on how the talk page isn t a forum just so he can make a cut at me http en wikipedia org w index php title Talk AXM rifle diff oldid He keep reverting my removal of it',\n",
              " 'So I guess your explanation of WP CSD T is still Zero Once again you have failed to explain why a page weas deleted under WP CSD T and then threatened the inquirer with a block Poor form Extremely poor form',\n",
              " 'so that the proton itself reach fusion distance',\n",
              " 'Beauty pageant Just because you have no interest in beauty pageant or their contestant doesn t mean that they are not notable and please don t go trying to delete stuff when you are ignorant about the topic you are dealing with I happen to think there are ton of article on here that do not meet Wikipedia s standard and that do not have individual merit particularly those about comic etc but I am wise enough to know that I do not truly understand their significance and so I leave it alone A much more prudent avenue would have been to bring your issue to the appropriate WikiProject WikiProject Beauty Pageants and to address yoru concern there in the first instance One example the continual use of the term model to describe them a ha been used by yourself and one other editor is both incorrect and somewhat demeaning',\n",
              " 'On Mohammed Al Bayati s qualification With regard to the edits over the past day I think that while Mohammed Al Bayati s qualification are tangentially relevant the purpose of the text a they are placed right now is to prove that Mohammed Al Bayati is not qualified to review the autopsy report This I think violates NPOV If the qualification are to be included they should come under the criticism and controversy section quoted by whoever it is that accused Mohammed Al Bayati of not being qualified to review the autopsy report is cited If nobody made the accusation then this is original synthesis and should again be removed',\n",
              " 'No reason to split There is absolutely no reason why Alamo Bowl broadcaster should be split from Alamo Bowl That list is a stub that is only kb long The main article is kb long much of which is table and list well within the limit of WP SIZE A single article is only kb long which is permitted so there is no reason why the article should be split Talk',\n",
              " 'Please sign your comment Thanks',\n",
              " 'Alyssa Flash At the time of writing this Sarita s TNA iMPACT debut is coming up and she ll be wrestling one Alyssa Flash note I might be spelling Alyssa wrong I see her nowhere on the list',\n",
              " 'Roma people in Hungary the appalling social and economic situation of the Roma who account for between and percent of Hungary s million people that mean',\n",
              " 'Fuck off you murdering scum',\n",
              " 'In addition I am asking that you please stop accusing me of thing I havent done I do not what what sock puppeting is and I think your taking this matter personally and abusing your power',\n",
              " 'after adding the rational i have to remove the tag',\n",
              " 'wow i guess your just one of those guy then god forbid One love then',\n",
              " 'It ha been up before but here it is again Phil Plait claimed in a radio program with Joe Rogan that ALL shuttle astronaut who ha ever gone into space ha been through the van allen belt at min http www youtube com watch v tvIC QDSnIc If thats not misleading propaganda i dunno what is his website should be removed a a source',\n",
              " 'Lamia Joreige Hi Lea first off i d like to tell you that your contribution are invaluable you are presenting often overlooked subject kudos for that I see you have started the aforementioned article I didn t have it on my watchlist yet so I didn t know there wa a mistake You must take notice of some rule on WP so check out WP Notability so you know how to better protect the material you add against meta deletionists Cheers',\n",
              " 'I didn t receive any massage',\n",
              " 'I TAKE OFFENSE I take great offense that some pompous sanctimonious twit think that no one should be allowed to express appreciation for woman like the Gibson Girl a the fine featured and achingly beautiful creature that they are I don t know what kind of totalitarian feminazi dystopian agenda you are trying to foist on people but don t do it here This encyclopedia is based on free speech and a free exchange of information not bogus political correctness and schoolmarmish thought policing I ll take a Gibson Girl over you anyday',\n",
              " 'Padua User Tag Someone should design a Padua College User Tag much like the following one for the Maroons in State of Origin July UTC',\n",
              " 'Ion G Nemes talk June',\n",
              " 'you gay motherfucker i know where you live i am going to sand your face off then i am to going to beat you to a pulp you chicken shagger',\n",
              " 'Ok Dennis Brown thanks for telling me I wa taking this a bit way too serious ill be careful for this time stupid bot',\n",
              " 'that way I might even know which article you are talking about',\n",
              " 'The are problem with the sfc t record There are no credible sci challenge to it This new section is absurdly US centered it can not possibly stand a it it This is the global record we re talking about You need some credible scientific paper not picture of station As far a I know the sfcstations stuff ha merely documented problem with some station sitings and maintenance etc There is not even the beginning of an attempt at quantifying what influence plus or minus this might have on the record If you re interested there are paper about the effect of switching from north wall screen to stevenson screen thatched hut in africa etc etc',\n",
              " 'Could you please comment on Talk Thought identification Re John Norseen and Lockheed Martin I m beside myself trying to update information that I believe to be very relevent It look to me like several user who hang out at ANI Fringe are working together to remove well sourced valid on topic material which show the state of military research into thought identification Outside comment would be greatly appreciated Thanks',\n",
              " 'Mediation Hello I am Atyndall and I have volunteered to take on your mediation case during this discussion I will remain neutral with both side of this argument and will endeavor to solve your dispute After having a look at the discussion above this is what I have found QuizzicalBee ha been adding the sentence According to Chesler the the U S embassy repeatedly refused to help her leave the country a they no longer recognized her a a U S citizen Hurmata ha been reverting this back to She report that the U S embassy repeatedly refused to help her leave the country Hurmata object to QuizzicalBee s sentence a he she think that the source is incorrect a the guard would have allowed Chesler into the embassy and first hand account from Chesler herself doe not qualify a a reliable source QB object saying that maybe in the s US citizenship could have been revoked by the US Afgan government at that time and perhaps in the past the guard may have denied entry and that her claim should have been presumed true until proven false Hurmata countered that the citation threat QB wa referring to is not the one that wa cited QB state that there is no evidence disproving her claim so they are valid Could the involved user please place below to verify that this statement is correct or suggest why it is not correct Thankyou talk',\n",
              " 'Well Arthur I have printed the paper and the condition is in fact what Ultra Power say it is not your correction It seems that the paper is not incorrect but rather correct and pointless You have already identified the worst problem The third condition requires incontinuity of f at all integer value However this problem disappears if we consider only the special case a e So let s do that We want a function f satisfying f e and f n exp f n defined a widely a possible We observe that n and n present no problem f and f To extend f to all positive real number it is clearly sufficient to define f on an interval of length such a And we want f to be continuously differentiable The paper only requires f to be continuously differentiable on or equivalently on This is obviously whacky but we needn t worry about this because a e Next for no obvious or explained reason we require that f is monotone on the interval From the functional equation f x ln f x we get f x f x f x Hence f f f f so f must be constant on Not too surprisingly the function we get in this way is patched together from smaller piece in a relatively unnatural way f x exp x exp x x Thus what I learned from the paper is that the correct solution to the problem probably ha a minimum of it derivative between and',\n",
              " 'The Rangers FC This should be the name of the Newco Rangers wikipedia page now a they are called The Rangers FC everywhere on the SFL SFA SPL BBC etc website and in League table and on TV They must have Registered to use The Rangers FC to differentiate between themselves and Rangers FC who still have SPL membership',\n",
              " 'Wikipedia Categories for discussion Log April Wikipedia book Following the horribly chaos of April I ve resubmitted thing for discussion talk contribs physic book',\n",
              " 'FlexPay Tax Law Just a comment here I d be interested in seeing an expansion of this artcile regarding to the tax surrounding FlexPay account',\n",
              " 'No problem at all talk',\n",
              " 'If we do win and get these evil people out of the government and their private force a well then perhaps there won t be any nuclear blast across the US and Europe btw if MONGO is really with HS why is he on wikipedia',\n",
              " 'I ve just seen that',\n",
              " 'Najib Effendi al Yasin I suggest not to use paragraph indentation in the article Najib Effendi al Yasin which have recently created to reach a more normal looking page Happy editting',\n",
              " 'Lol you know what i meant Whichever president came before Hafez i just new he wa president before assad ha considerable foreground of support in which his support would have freaked out because of the coup They would have claimed instability would arise a assad s supporter are trying to use in their defense What i am trying to say is that although Bashar assad had good economic and international policy for Syria you should not fear a non baathist potentially being elected Syria s economic and international policy won t change iran would still be a major factor in Syrian life considering the buisness deal stake and cultural exchange the only this that would change are social freedom and for the better Also every country had a revolution and they are still alive today The Muslim brotherhood in Syria is weak even weaker than the islamist prescence in Libya The rebel in Libya had support a we see now and yet could hardly take control without NATO What chance doe the Syrian Muslim brotherhood have None If anything nonviolent protest weaken the resolve of the Muslim brotherhood making them le of an influence in the everyday life of Syrians As you know I am pro Syria and Armenia just not pro Assad Unlike Armenia where people like Sargsyan and Kopcharyan were democratically elected Assad wa not no one ran against him because they were not allowed',\n",
              " 'CFR is a perfectly accurate source The Council On Foreign Relations CFR ORG is a recognized legitimate think tank that study international terrorisim for the United Staes Govt to claim they are Not Credible is idiotic They are a legitimate a any online newspaper or other source They have studied Northern Ireland and compliled a list of UDA UVF killed by the IRA INLA and vice versa These fact are good and will be included in the article',\n",
              " 'Lead What s there now is not a summary summary are supposed to be substantially shorter than the text they summarize which the case at Salvatore Giunta is not It simply copy whole sentances from the body text As an editor we have to ass the article a it currently stand and not any hypothetical future stance If the article grows then the lead can be adjusted accordingly In any case the lead section I favored doe indeed summarize the most important part the MOH In any case did you read WP LEAD The lead of a biography is not necessarily supposed to summarize the life story of the subject but assert thier claim to notability The two sentances I favored more than do that without being overly repetitive wordsdeeds',\n",
              " 'Unblock I ll make a renewed effort not to give personal attack But of course I do have some question about this unwarranted blockage a you might well imagine Why is it that IP editor tend to get the raw end of the deal that you admins tend to lean towards the side of someone who s editing with an account over someone who s editing without one especially in the area of what you label a personal attack or harassment when given by the IP editor but not so much when the named editor doe the same thing For exampleand this is yep maybe you guessed it question Why is it supposedly okay according to you for someone with a name like say escape orbit to dish out a personal attack but not for me to give him one back because I m just a lowly IP editor Specifically why is it supposedly okay for him to give me a personal attack by putting false stuff on my keyboard by making the ludicrous claim that my reason for wanting the old style of ebaY logo to go next to the current one ebay in the lead is because I wanted it in there even though that is a total lie but it s supposedly not okay for me to call that kind of slander stupid Here s another one Why is it supposedly okay for him and smiley girl there to falsely accuse my edits of being vandalism just because they differed from what these guy preferred but then when I say their reversion are vandalism I get in trouble for it a if it were a personal attack just because I m an IP only editor Ready for one more Then why is it fine for any of you named editor to give one of u IP editor a warning template but when I a an IPer do the same thing to a named editor like I did to partially smiley girl I get dinged with Oh you can t do that cause that s a personal attack or Oh that s bad because that s harassment Oh yeah here s one more Remember the rule about edit warring just in general meaning that it doesn t even have to be breaking RR that say that but I wa right so I wa not edit warring is no defense Well then doesn t that apply to meeting some so called consensus too since some thing aren t case of concrete correctness but are just based more on whether they match what that so called consensus wanted the thing to say Well then why is it that just because your named friend smiley there doe some edit warring against me to put the thing back to what your exclusive partial consensus want it to say AND since my editing had already been established a NOT vandalism even though it disagrees you ignore that above mentioned edit warring rule and give her him a pas anyway but when I an IP only editor who s against your exclusive consensus do the same thing it s edit warring even though it wa the same thing a what smiley s doing remember the being right matching consensus is no defense rule',\n",
              " 'If Serbia doe recognise Abkhazia and South Ossetia then I wouldn t be at all surprised if Georgia recognises Kosovo in retaliation',\n",
              " 'the most subtle question they possibly could',\n",
              " 'Trying to measure the number of cafe This is one of those place where I am so frustrated by Wikipedia s ban on original research The article ha the absurdly low at least six cafe on the Ave or it alley I don t know where that number come from nor what they consider a cafe but it seems to me that well within any reasonable definition the scene includes Solstice Cafe Zoe The original Allegro on an alley parallel to the Ave arguably it second location in the College Inn also count The Ugly Mug half block off The Cafe at the corner of nd that used to be the Roma but I can t recall it new name Sureshot The Continental Caffe Apassionato WOW Bubble Tea Shinka Tea Company Yunnie Bubble Tea Pochi Tea Gingko Tea House Tully s Starbucks Wannabee one block off Still Life on the Ave at the Grand Illusion technically the entrance is around the corner but it is clearly effectively on the Ave This doesn t even count hangout that are mainly bar or restaurant or takeout food joint nor doe it count thing like U Bookstore and Bulldog News both of which have busy espresso operation nor doe it count ice cream stand And I m sure I m missing something this is all just offhand Talk',\n",
              " 'Actually undue weight can also result in zero weight As it is the whole issue is insinuation and extrapolation of given event Just because the article doesn t outright say that Edwards is the father because there wa no father listed it is quite clear that this is the intent Now editor familiar with me consider me to be a FNC fanboy and appolgist regarding conservative and republican so my objection to this is clearly not a partisan point of view That said this is in violation of several WP policy',\n",
              " 'I found it under Chronological list of PC Engine game I thought the release date on that page were for Japan since there is a seperate List of TurboGrafx game The change you made is ok though since I see IGN ha it listed that way',\n",
              " 'I agree Fundamentally whether you take it a a pill or through a patch or a ring the key is that it s hormonal so that should be the main article At that point oral contraceptive should either redirect to hormononal contraception unles there is sufficient material to justify it existence',\n",
              " 'That wa so desterbing because of when i had to do a project in school i had to explain it wasnt Bill Gates from year ago',\n",
              " 'The source wa a local guide book how do we source that',\n",
              " 'chill out inty s my mate',\n",
              " 'A Tale of a Tub on the Main page Hey Geogre check it out did you know that A Tale of a Tub will be featured on the Main page on Sunday Talk Nov UTC',\n",
              " 'Added C class I would like to add B class but question raised in talk page',\n",
              " 'No problem Thanks for letting me know talk',\n",
              " 'Batman I am Batman You are Spiderman I win',\n",
              " 'Geometry of love Good day Can you search some source for article Geometry of Love Probably this article contain interesting fact for DYK',\n",
              " 'Exactly I removed the section again before I noticed this posting chen',\n",
              " 'Please unblock and delete page I request that you unblock my talk page and immediately and permanently delete the content of it You are free to permanently block me from contributing to Wikipedia a I have no intention of doing so in any case If you would like a reason to block me or prove that I have violated the rule you need not preserve the talk page Here is another deliberate intentionally provocative violation of the rule an old school personal insult You are a loathsome sanctimonious hypocritical ignorant twit If you were in state of uncontrolled combustion I would not take the trouble to extinguish the flame by urinating on them I hope that is satisfactory',\n",
              " 'That is true with the first edit however the second one wa an honest mistake',\n",
              " 'That s been the problem facing this article a well I d love to see this get to featured article status but I keep running into the fact that there isn t really a whole lot of good verifiable info out there that is easily available nor is it easy to come by a picture that is usable though I suspect the one or two known image of him would fall under fair use There are a couple of website out there that basically regurgitate section from McGregor s book There is a certain irony in the fact that a guy who labored in anonymous solitude most of his life on a project he loved dearly died destitute and is not making several other people rather wealthy',\n",
              " 'You are a funney man',\n",
              " 'Furthermore any threat made to block individual adding and or editing well researched information would directly negate the sole intention of Wikipedia itself',\n",
              " 'Wikipedia is full of fool Who take money and make people work for free Wikipedia You might a well ban me you fool What s taking so long Wiki is a stupid place it s Jimbo s Cult',\n",
              " 'They seem to be reliable enough for this topic anyways it s not like many major news source are going to be covering the thing that these site cover',\n",
              " 'In response to your feedback Yoa can not do it by yourself see Wikipedia Changing username',\n",
              " 'that is your opinion And what is your proof that I am anti Newsom Whether you support him or not he did have a gay porn day and violated state law by issuing Gay marriage license in contradiction to state law These are fact not slander or fiction',\n",
              " 'That admission begs the question Is it better to punish adolescent boy if they are going to engage in bullying behaviour here or extend them welcome talk',\n",
              " 'French speaker and Paris Can anybody explain this French speaker concentrate heavily on cultural life in Paris What doe it mean Sep UTC',\n",
              " 'Why are you changing the SOMALI PEOPLE WIKI SERIOUSLY THAT PAGE IS BIASED TO ONE CLAN I ADDED A MORE DIVERSE REPRESENTATION OF SOMALI PEOPLE YOU STUPID CRIMINAL',\n",
              " 'Davkal I agree with you but would suggest that you don t discus it or gloat because you know he will likely come back and start harassing agagin Apparently just a few hour after he left someone bit his head off on his talk page about a comment he left in an article',\n",
              " 'Thanks Thanks for the tip Buddy walkie talkie KY highway page I m currently cleaning up the page Please do not edit it Thanks Let s Go Mets Stats Your first barnstar style border px solid gray background color fdffe rowspan valign middle rowspan style font size x large padding vertical align middle height em The Tireless Contributor Barnstar style vertical align middle border top px solid gray I hereby award BigrTex the tireless contributor barnstar due to his outstanding amount of high quality edits Hikaru',\n",
              " 'Transistor The transistor page doe not have a Principle of Operation section because a the physicist know about it but don t want to share it b they just don t know how it work I wa thinking about it and came up with a fairly decent concept of how it work I put it on WIKI I think the guy got jealous and here I am discussing pretty much nothing PS and my language is pathetic you naughty naughty boy I ll eat you',\n",
              " 'I like to see it in print since it s been listed for day now without an URL',\n",
              " 'the proposed deletion process because of the following concern Wikipedia should not be used a a place for guide or a walk through All contribution are appreciated but this article may not satisfy Wikipedia s criterion for inclusion and the deletion notice should explain why see also What Wikipedia is not and Wikipedia s deletion policy You may prevent the proposed deletion by removing the notice but please explain why you disagree with the proposed deletion in your edit summary or on it talk page Please consider improving the article to address the issue raised because even though removing the deletion notice will prevent deletion through the proposed deletion process the article may still be deleted if it match any of the speedy deletion criterion or it can be sent to Articles for Deletion where it may be deleted if consensus to delete is reached',\n",
              " 'Hmmm There is a way to do this I ll see if I can remember what the code is gabsadds',\n",
              " 'This article already exists see Liger Pro',\n",
              " 'Feather There is no citation a to how a quill looked in the past Therefore it is opinion only',\n",
              " 'Bakan Why is Abbie Bakan even mentioned in this article Based on the worthless rag of hers which is cited a a source in this article she s nothing but a shill for Lenin and the rest of the commie gang In that rag she not only show egregious pro Communist bias but doesn t even bother to check the fact much le look at the cause of the Kronstadt rebellion or even cite reliable historical source on that subject She also discredit herself with absurd accusation of a White conspiracy to overthrow the Soviet government and even of the rebellion being motivated by anti semitic racism among the sailor Furthermore all the claim made in that rag are based on a case of begging the question that is since Lenin s Communist regime wa good major premise and the Kronstadt rebellion harmed said regime minor premise suppressing the rebellion wa justified Last but not least the mere fact that the aforementioned rag wa first published by a self admitted socialist party by definition mean that this source DOES NOT meet EITHER WP NPOV OR WP RS If such source continue to be used in Wikipedia article the whole project will soon turn into Commiepedia',\n",
              " 'Messages on talk page during an AfD Placing message on Users talk page such a and in the hope of gaining support is an unacceptable practice which agin hinders the AfD process',\n",
              " 'trivia i d advise you to look the word up in a good dictionary jay mr townsley s marriage into an important business dynasty is obviously noteworthy which is why it s noted prominently in the article linked to cheer',\n",
              " 'Might I remind you that this is the ENGLISH language Wikipedia and you have no greater precedence here than I do Perhaps you should think of going to edit the Ja Wikipedia and taking your aggressive attitude with you Especially since your only problem is with the example name which are easily fixed You re clearly incapable of appreciating the improvement I made in English so perhaps you re not the best person to judge',\n",
              " 'Speedy deletion of David Fork A tag ha been placed on David Fork requesting that it be speedily deleted from Wikipedia This ha been done under section A of the criterion for speedy deletion because it is a very short article providing little or no context to the reader Please see Wikipedia Stub for our minimum information standard for short article Also please note that article must be on notable subject and should provide reference to reliable source that verify their content If you think that this notice wa placed here in error you may contest the deletion by adding to the top of the page just below the existing speedy deletion or db tag coupled with adding a note on the talk page explaining your position but be aware that once tagged for speedy deletion if the article meet the criterion it may be deleted without delay Please do not remove the speedy deletion tag yourself but don t hesitate to add information to the article that would would render it more in conformance with Wikipedia s policy and guideline what do u want',\n",
              " 'Your suggestion of editing the article is completely workable and wa working a per Wikipedia guideline until Jayjg and SlimVirgin started deleting large relevant chunk of the article and reverting it to what we have now a punitive gesture If we can all agree to concentrate on making the article better instead of punishing each other there is no reason the article ha to be locked I agree that we should start with an extremely innocuous definition preamble statement we can all agree on However a definition doesn t do anyone any good unless it conveys some sort of information If there were just one word that we could all agree is associated with terrorism that would be better than no definition at all intimidate for instance',\n",
              " 'Speaking without knowing what I m talking about OK how bout this the original comment I made about Everlast s entry constantly being vandalized by Eminem fan wa written a month ago before your dumb as got involved with the site The feud started with the Dilated Peoples track That s why I believed that the verse Everlast contributed should be in there and still do The jab taken back and forth after that deserve a synopsis only Your idiotic little comment about album sale wa excessive and unnecessary It belongs in there no more than the fact that everyone who know both artist agrees that if they ever got into it Everlast would knock the living shit outta Eminem And THAT came off an Eminem fan site',\n",
              " 'Our Talk Archives',\n",
              " 'Speedy deletion of Spunga A tag ha been placed on Spunga requesting that it be speedily deleted from Wikipedia This ha been done under section G of the criterion for speedy deletion because the article appears to be a repost of material that wa previously deleted following a deletion debate such a at article for deletion Under the specified criterion where an article ha substantially identical content to that of an article deleted after debate and any change in the content do not address the reason for which the material wa previously deleted it may be deleted at any time If you think that this notice wa placed here in error you may contest the deletion by adding to the top of the page just below the existing speedy deletion or db tag coupled with adding a note on the article s talk page explaining your position but be aware that once tagged for speedy deletion if the article meet the criterion it may be deleted without delay Please do not remove the speedy deletion tag yourself but don t hesitate to add information to the article that would would render it more in conformance with Wikipedia s policy and guideline talk',\n",
              " 'Plus you have to be a natural born citizen which I m going to assume is not But who care anyway',\n",
              " 'Unblocked for the last time Ok now don t fuck up I mean that in the best possible way Good luck and good night',\n",
              " 'I understand your position and think that your point is perfectly valid However I don t deem Ia i Chi in u a creation of Wikipedia even with the lack of historical source for that effect in the English language I ll think more about this tomorrow Thank you for explaining your position to me with such accurate detail Best regard nd',\n",
              " 'you studid cock sucker u stop callin me ok it a frank Garrett eatin the worm crawl outa your mom pussy you fucking retardo hit I retardo',\n",
              " 'Thanks User talk Biggity are there any constructive edits Indef block perhaps Mahalo',\n",
              " 'For anyone interested in accurate not deliberately misleading information about the ten string guitar i e not the garbage that will no doubt soon be presented here see www myspace com tenstringguitar Tthough my temporary site ha now been hidden removed from google search listing by some shady dealing the truth will prevail',\n",
              " 'You said I am determined that the page will not regress to this again and I will delete anything inappropriate that jeopardizes the good progess that is now being made A completely inappropriate post in the middle of a sensitive discussion threatens to do just that The problem is that you are not the sole arbiter of this or any talk page The post wa innocuous and did not violate the condition of the arbitration decision Nor did it affect the flow of discussion on the page In fact the most appropriate response would have been to just ignore it By removing it you just encourage a reaction You accuse me of wikilawyering which is absurd The guideline are there to help u all However not only do you violate that guideline but also several policy It is this kind of heavy handed action that encourages people to persist with problem edits It is a long standing convention that we do not remove other user post and in my three year here I have never seen it done when it wasn t vandalism Unless you can give me a much better reason for not doing so I am going to reinstate the deleted text',\n",
              " 'The Glourious People s Republic of China ha carried out a survey of the Great Wall It is no surprise that Chinese invention such a the Wall exist to this day One day our Great Wall will stretch all the way around the World Anyway let s add detail of our dear government s survey',\n",
              " 'FisherQueen would you kindly stop following my every move and deleting thing off MY user page Havent you got anything better to do than piss people off on Wikipedia',\n",
              " 'So Jim Burton child molesting faggot I see you are still with u for yet another day making a total buffoon out of yourself a usual I don t know what is sadder here you or the extreme hypocritical arrogance you show by lecturing the world about ethical principle for your claimed right to abuse our child You have no ethical principle to save your life but it s exactly a the Roman poet said isn t it the harlot doth always rebuke the chaste Will you ever drop dead we might all breathe a little easier for our kid sake You truly disgust me with every word you write',\n",
              " 'Having read Will Beback I already changed the structure separate someone s view over him into separate section I suggest Further restructuring welcome and Details per section later',\n",
              " 'Nevermind The ha assimilated those puppy Sorry for the bother Cheese Wine',\n",
              " 'I fixed the link It took all of about second Now leave it or I will report you to the administrator',\n",
              " 'As I have told they were not deliberate personal attack In my belief my message have been interpreted wrongly although I asumed good faith in posting them As I have mentioned that',\n",
              " 'Please do not remove content from page without explanation a you did with this edit to Vole If you continue to do so you will be blocked from editing royal court',\n",
              " 'Deleted American Criminal category It s incredible to me that the fact of this article might lead some misguided soul to think this is what the American Criminal Category is for There s a lively discussion at the category s talk page about what should be in the category but even the most expansive reading of the category doesn t countenance this',\n",
              " 'MILLINOS OF HUNJAN looking at hunjan template not just me other hunjan will fight back your concept of art bull of shit tharkarn and what waste man',\n",
              " 'Just to add Kansas Bear When I said You made the elementry mistake of calling it a treaty when it wa in fact a congrass Is because a you left out a usual my post in which you regarded the three deligations a having been pressent at the treaty o Arass with Papal meditiation The treaty of Arass wa a private treaty only between the deligations of Burgundy and France and made a military alliance in Again we are debatting on the Burgundian recognition stop changing the subject You clearly are giving fallactious statement and I feel your post are utterly questionable If you happend to remeber a month ago we both agreed the congrass and treaty of Arass were different I corrected your statement when you regarded the three deligations a bieng pressent at the treaty of Arass P S Stop with your childish personal attack I aqsked you to give source regarding that Burgundy didnt recognize Henry a King of France but you give ref regarding the treaty of Arass and mixing up the post If you cant handle the fact that Burgundy recognised Henry a King of France then I have already reverted you on the dual monarchy article You should be ashamed of your Fallactious remark nd utterly questionable unsourced fact',\n",
              " 'er using two usernames to vote more than once in a poll I have no idea what you are talking about I have not used an usernames and I have never voted in any poll I can not be a vandal a I have not vandalised anything I may have added content which you or someone else did not agree This is not vandalism The correct reponse is discussion and debate to achieve a conscensus Again I am not a sockpuppet or a puppetmaster I have been fully open that I am the same person By Wikipedia s defintion I am not a sockpuppet or puppermaster you may wnat to use a different defintion but that is just your opinion and mudslinging hardly appropriate for an Administrator',\n",
              " 'Raffaele s request for a lawyer while being interrogated on Nov wa refused a wa his request that he be allowed to call his father Page Amanda wa denied food water bathroom break and nap during the all night interrogation on Nov Page Wikid Actually now looking at Murder In Italy I see that there is a ton of additional information about both Amanda and Raffaele s interrogation that could be included So I will work on listing all that in more detail tomorrow',\n",
              " 'Yes I like the suggestion also It look pretty good and by leading into the next sentence about the bering strait crossing it conforms to the rest of the article since later on we get more detail on the prehistoric migrator I ll just edit Yee s suggestion in',\n",
              " 'Seriously Alex your article is on the edge of being deleted There is no one at the deletion discussion arguing for it being kept If you want any hope of keeping this article online instead of spending your time editing the talk page click on this link to go to the deletion discussion and make your argument',\n",
              " 'Fu ck ing trollreasons',\n",
              " 'Some day you and I are going to remember this and laugh HA HA HA HA HA Never forget I have incredible power I am more powerful than you can possibly imagine Let me just close this conversation by bidding you a fond farewell',\n",
              " 'You ve probably noticed the table faction approach if you could keep an eye out for more game central information on in game faction and then update the table that would be great I m basing it off of a similar table in the A class Age of Empires III which show the sort of information to go for without falling into the gameguide trap',\n",
              " 'SR CL U bud bin A way Like long time like time outa mind long Gooood shit but mo latah an dat Soon az Ah gitz back heah sum a de brotherz n sistahs sez Hance dead or alive We re about to send a Zion Ranger to check on his condition Ah sez Whoa Led me gib him a holler Dis me hollerin Bro De Zion Rangerz be dem dat do most a de walkin tru wallz Not all but most De wall walkin dude ain gon na do R Bro no harm he jes be checkin EE ben so a gentle remindah kum fuhst U be readin id A leedle postin a dis n dat go down GOOD Doan fohget to cut sum ZZzz aftah a tad a postin Sleep good n doan fergit ta dream Sumptin might kum jes ta BDH all wrapt roun wid delta wave n a kupla otha carrierz what we diz cuss lAtah Chow Bro',\n",
              " 'you did not call me neither Maybe we missed the once in a lifetime chance to see u Talk',\n",
              " 'a you did to the Henry David Thoreau page It is considered vandalism If you would like to experiment use the sandbox Thank you',\n",
              " 'rather crude ancestor of the vaccine The source is a biography of Louis XVI Louis XVI le Roi Bienfaisant Jean de Viguerie on the various and often contradictory influence of the french government prior to the revolution where a section is devoted to the innoculation of the royal family and make note of how the intendant of Franche Comte had financed physician to do it through his province and how it wa later used by Washington on his continental army The truth He actually died on December It even say so in a book that I have Facts About George Washington George Washington owned over acre of land Washington lived in NEW YORK AND PHILDELPHIA DURING HIS PREIDENCY The preceding unsigned comment wa added by GA in zh wikipedia Please add Link GA zh in interwiki section Thanks',\n",
              " 'The objectionable textbook material The ad refer to a controversy in Wheaton school in the early s surrounding a series of textbook called Impressions They also contained some writing that some parent believed featured theme of the occult witchcraft violence and disrespect for parental authority Here is a discussion of one of the offending piece a yarn called A Wart Snake in a Fig Tree which is a kind of a pardody of The Twelve Days of Christmas but with creepy crawlies and spider and snake and stuff A Wart Snake in a Fig Tree I wonder what Roskam s stance on Harry Potter and Holloween is',\n",
              " 'No I didn t mean point me at a biographical article though that would be good too I mean answer right here on the discussion page What town were you born in Which school did you go to Also regarding over the top I disagree I think the article could do with quite a bit more expansion a could the article of the other individual you mentioned As for greatest living magician I have to admit I d never heard those name How are you judging that say Max Maven is better than a David Copperfield Is it by award industry press or just personal opinion of their technique',\n",
              " 'Okay but only if they are truly not needed same sort of criticism praise no quote etc Thank you talk',\n",
              " 'Haha you re fine I mean you re allowed to do it but I m just selfish I guess I really appreciate your kindness though And I really respect that you asked because when other signature that were borrowed no one let me know or gave me any credit So I feel badly that since you asked you d feel really badly about doing it now haha But I can help you figure out a nice one or pick out some fun color Have a great day and happy Wikying',\n",
              " 'Leave me alone I told you already to leave me alone why can t you fuck off and do your own fucking thing Or do you find that hounding me is amusing Id u do then you are a mothafuckin asshole and I will ban you',\n",
              " 'Bloc voting Countries with large population of non national may have their televote influenced considerably This ha been cited a the reason for apparent bloc voting in the Balkan country of the former Yugoslavia This is full blown crazy What doe non national mean These country have similar culture and speak the same language The star in Croatia are popular in Serbia and vice versa People are national of their country in the largest proportion in each of those country there are some refugee in each of those country but that doesn t really explain why Croatia would always give the highest no of pt to Serbia or Macedonia to Serbia where there wa no conflict to speak of For example I m a Bosnian Serb and me voting for a Croatian or a Serbian song is not unusual But I m not a Bosnian non national I have the passport of BiH and my family ha never lived in Serbia in history It s really about mutual intelligibility which is why Scandinavian bloc vote for each other all the time It s the language and sensibility',\n",
              " 'PETA is not a self published source Please explain how the PETA website is not self published',\n",
              " 'Please do not vandalize page a you did with this edit to Morrissey If you continue to do so you will be blocked from editing Impala',\n",
              " 'August UTC There is no WP RS to affirm the veracity of DI s doubtful claim either That is you have no WP RS either way Therefore it is not a verifiable fact that Picard or any of the other original signer consented to or agreed with the DI s published interpretation or political position vi a vi PBS or any other subsequent political purpose regarding what should or shouldn t be taught in school All you have on verifiable record is that the original signer called for skeptical examination of the evidence for scientific theory DI s unverifiable claim which fraudulently spin that into consensual agreement or support for their interpretation or political agenda is not a fact under the rule of Wikipedia All the rest of DI s propaganda is utter hogwash fraudulently perpetrated by the DI without the verifiably demonstrated consent of the original individual In view of the WP BLP Do No Harm clause the unverified claim of the DI must not be promoted to fact and any content to that effect must be immediately expunged per the WP BLP',\n",
              " 'Email Thanks for your email about the message you received from Guyovski I received a similar though not openly threatening email from Guyovski a well',\n",
              " 'It is a fabrication with intent to defame That is not the point here It belongs in the Dan Savage article',\n",
              " 'Perhaps overlooked in the discussion of Steve Moore s credential is another aspect of the Newsweek article By saying that Knox s supporter have hurt her by expressing their opinion Nadeau ha effectively stated that the decision of the Italian court will be or have been influenced by anger and anti American sentiment rather than the evidence alone I don t know if Nadeau s experience in Italy qualifies her to make such an assessment but taking her a a RS to make that statement would be a great an insult to Italian jurisprudence a anything Knox s supporter have said I wholly concur with pablo s opinion that the piece ha no place in the article',\n",
              " 'Other attraction What is a water place and animal place',\n",
              " 'I fear Jossi may be correct If Watts who btw died in said this about Rawat he probably meant it a praise i e the emphasis would have been on sacred judging from my knowledge of Watts oeuvre He wa rather anti intellectual himself',\n",
              " 'Ooooh Well can you fix it Because it look a mess right now and I don t think it wa certified in Switzerland yet So New Zealand and Australia should just be there',\n",
              " 'Omg i love Dch Who doesn t I love Pac Sun',\n",
              " 'I ve removed it It contributes NOTHING to the article',\n",
              " 'Hi Writingrights Welcome to Wikipedia I hope you like this place I sure do and want to stay Before getting too in depth you may want to read about the Five pillar of Wikipedia and simplified ruleset If you need help on how to title new article check out the naming convention and for help on formatting the page visit the manual of style If you need help look at Wikipedia Help and the FAQ plus if you can t find your answer there check the Village Pump for Wikipedia related question or the Reference Desk for general question There s still more help at the Tutorial and Policy Library Plus don t forget to visit the Community Portal And if you have any more question after that feel free to post them on my user talk page or place helpme on your talk page and someone will be by to help you shortly TAB Additional tip TABTAB Here s some extra tip to help you get around in the pedia If you want to play around with your new Wiki skill the Sandbox is for you TAB You can sign your name using three tilde If you use four you can add a datestamp too Five will get you the datestamp only You may want to add yourself to the new user log TAB If you ever think a page or image should be deleted please list it at the vote for deletion page There is also a vote for undeletion page if you want to retrieve something that you think should not have been deleted If you re still entirely confused or would like to get a better grasp of your wikipedia skill and you have an IRC client or don t mind getting one check out the Bootcamp It s not what it sound like but it is fun and can help you with your editing skill If you re bored and want to find something to do try the Random page button in the sidebar or check out the Open Task message in the Community Portal Happy Wiki ing talk contribs Click here to respond to this message',\n",
              " 'It is common knowledge that Karaims but not Karaite Jews boast descent from Khazars but what they do not realize is that we believe the On oq whence came mixing with Carian mercenary from Caphtor and Kolhkis our Khazar ancestor were in fact the remnant of the lost Ten Tribes of Israel who formed our priesthood It is precisely for this reason that Karaite Jewish scholar like Jacob Ben Reuben of Byzanteum and Yefet ben Ali or Jeshua ben Judah call u bastard in their writing The following editor',\n",
              " 'April UTC Then rewrite and expand the article I d much rather have a full article than a bad article with a full template As for William s edits I m not going to vote on a content matter at this time I have never looked at this article before you sent me the link so I am not equipped to choose one version over another My vote is purely on the layout aesthetic of including the template Maybe later when I ve spent more time with an unfamiliar article I can make a statement about the content',\n",
              " 'I wa trying to inject some humour a evidenced by my winky face in this ridiculous overblown and unnecessarily dramatic situation If you took the time to familiarize yourself with the situation you would see that the person I insulted wa attacking my cited and factual contribution by actively censoring them no explanation which I retaliated with by insulting him I thought that his conduct wa insult worthy at the time a would any sane individual who wa not familiar with Wikipedia s no insult rule however I have since realized that what I did wa wrong because this site doe not allow for harsh word which is why I will not use them again even if they are used against me which they were during this ordeal Wikipedia is the place for me because my edit wa constructive and brought a greater knowledge to the subject s topic But the fact that I insulted another user in the edit summary is regrettable and I know that now If you seriously think the edit linked above constitutes a better insult',\n",
              " 'this title should redirect to Altona Hamburg I w d change it but at the moment there are too many link for me to bother',\n",
              " ...]"
            ]
          },
          "metadata": {},
          "execution_count": 10
        }
      ],
      "source": [
        "corpus = df['text'] #создадим функцию по лемматизации данных\n",
        "lemmatizer = WordNetLemmatizer()\n",
        "def lemmatize(text):\n",
        "    word_list = nltk.word_tokenize(text)\n",
        "    return \" \".join([lemmatizer.lemmatize(w) for w in word_list])\n",
        "\n",
        "corpus_lemm = [lemmatize(clear_text(corpus[i])) for i in range(len(corpus))] #проведем лемматизацию текста\n",
        "corpus_lemm # выведем полученный лемматизированный текст на экран"
      ]
    },
    {
      "cell_type": "code",
      "execution_count": null,
      "metadata": {
        "id": "RjPiqXhHvHwH"
      },
      "outputs": [],
      "source": [
        "stop_words = set(stopwords.words('english')) #обозначим множество наиболее часто встречающихся слов, не влияющих на тональность текста"
      ]
    },
    {
      "cell_type": "code",
      "execution_count": null,
      "metadata": {
        "id": "UautZRMOvHwH"
      },
      "outputs": [],
      "source": [
        "y = df['toxic'] #выделим данные по целевому признаку в датасете"
      ]
    },
    {
      "cell_type": "code",
      "execution_count": null,
      "metadata": {
        "id": "y5K_xDTxvHwI"
      },
      "outputs": [],
      "source": [
        "X_train_, X_test_, y_train, y_test = train_test_split(corpus_lemm, y, test_size =.2, stratify = y) # разделим выборку на тренировочную и тестовую из соотношения 80:20\n",
        "#print (X_train.shape, X_test.shape, y_train.shape, y_test.shape)"
      ]
    },
    {
      "cell_type": "code",
      "execution_count": null,
      "metadata": {
        "id": "RnDIeDamvHwI"
      },
      "outputs": [],
      "source": [
        "count_tf_idf = TfidfVectorizer(stop_words=stop_words) #проведем векторизацию данных, для этого создадим счетчик, указав в нем стоп-слова"
      ]
    },
    {
      "cell_type": "code",
      "execution_count": null,
      "metadata": {
        "id": "TANBvYM4vHwI"
      },
      "outputs": [],
      "source": [
        "X_train = count_tf_idf.fit_transform(X_train_) #из полученных векторных данных выделим тренировочные и тестовые признаки\n",
        "X_test = count_tf_idf.transform(X_test_)"
      ]
    },
    {
      "cell_type": "markdown",
      "metadata": {
        "id": "itYh63KrvHwJ"
      },
      "source": [
        "## Обучение"
      ]
    },
    {
      "cell_type": "markdown",
      "metadata": {
        "id": "1e6SCWP8vHwJ"
      },
      "source": [
        "На данном этапе подберем наилучшие гиперпараметры для моделей, а затем обучим каждую из них.\n",
        "Для сравнения возьмем следующие модели:\n",
        "* LogisticRegression;\n",
        "* RandomForestClassifier;\n",
        "* LinearSVC;\n",
        "* CatBoostClassifier."
      ]
    },
    {
      "cell_type": "code",
      "execution_count": null,
      "metadata": {
        "id": "npxZOENwvHwJ"
      },
      "outputs": [],
      "source": [
        "def choose_model(model): # во избежание дублирования кода, напишем функцию расчета тренировочного времени и метрики F1 для заданной модели\n",
        "    start = time.time()\n",
        "    model.fit(X_train_,y_train)\n",
        "    train_time = time.time()-start\n",
        "    predict_test = model.predict(X_test_)\n",
        "    return f1_score(predict_test, y_test), train_time"
      ]
    },
    {
      "cell_type": "markdown",
      "metadata": {
        "id": "Mv-c_w3lvHwK"
      },
      "source": [
        "Первой рассмотрим логистическую регрессию и подберем для нее наилучшие гиперпараметры."
      ]
    },
    {
      "cell_type": "code",
      "execution_count": null,
      "metadata": {
        "colab": {
          "base_uri": "https://localhost:8080/"
        },
        "id": "P6bK4z-uvHwL",
        "outputId": "4c66dd82-d6eb-499f-adcb-0ba82e937df3"
      },
      "outputs": [
        {
          "output_type": "execute_result",
          "data": {
            "text/plain": [
              "RandomizedSearchCV(cv=5,\n",
              "                   estimator=Pipeline(steps=[('tfidfvect',\n",
              "                                              TfidfVectorizer(stop_words={'a',\n",
              "                                                                          'about',\n",
              "                                                                          'above',\n",
              "                                                                          'after',\n",
              "                                                                          'again',\n",
              "                                                                          'against',\n",
              "                                                                          'ain',\n",
              "                                                                          'all',\n",
              "                                                                          'am',\n",
              "                                                                          'an',\n",
              "                                                                          'and',\n",
              "                                                                          'any',\n",
              "                                                                          'are',\n",
              "                                                                          'aren',\n",
              "                                                                          \"aren't\",\n",
              "                                                                          'as',\n",
              "                                                                          'at',\n",
              "                                                                          'be',\n",
              "                                                                          'because',\n",
              "                                                                          'been',\n",
              "                                                                          'before',\n",
              "                                                                          'being',\n",
              "                                                                          'below',\n",
              "                                                                          'between',\n",
              "                                                                          'both',\n",
              "                                                                          'but',\n",
              "                                                                          'by',\n",
              "                                                                          'can',\n",
              "                                                                          'couldn',\n",
              "                                                                          \"couldn't\", ...})),\n",
              "                                             ('clf',\n",
              "                                              LogisticRegression(random_state=12345))]),\n",
              "                   n_jobs=-1,\n",
              "                   param_distributions={'clf__C': array([10.        , 11.11111111, 12.22222222, 13.33333333, 14.44444444,\n",
              "       15.55555556, 16.66666667, 17.77777778, 18.88888889, 20.        ])},\n",
              "                   scoring='f1')"
            ]
          },
          "metadata": {},
          "execution_count": 17
        }
      ],
      "source": [
        "pipe_lr = Pipeline([('tfidfvect', TfidfVectorizer(stop_words=stop_words)),\n",
        "                   ('clf', LogisticRegression(random_state=SEED))])\n",
        "distributions ={'clf__C':np.linspace(10,20,10, endpoint = True)} #dict(C=uniform(loc=0, scale=4))#\n",
        "grid_lr = RandomizedSearchCV(pipe_lr,\n",
        "                               distributions,\n",
        "                               cv=5,\n",
        "                               n_jobs=-1,\n",
        "                               scoring = 'f1')#LogisticRegression(max_iter = 1000, random_state=SEED)\n",
        "grid_lr.fit(X_train_,y_train)"
      ]
    },
    {
      "cell_type": "code",
      "execution_count": null,
      "metadata": {
        "colab": {
          "base_uri": "https://localhost:8080/"
        },
        "id": "Lf5u7LDnvHwO",
        "outputId": "c63bb5fc-3b34-4c8c-fe78-931c3a06b898"
      },
      "outputs": [
        {
          "output_type": "stream",
          "name": "stdout",
          "text": [
            "Лучшие гиперпараметры для логистической регрессии: {'clf__C': 18.88888888888889}\n"
          ]
        }
      ],
      "source": [
        "print (f'Лучшие гиперпараметры для логистической регрессии: {grid_lr.best_params_}')"
      ]
    },
    {
      "cell_type": "code",
      "execution_count": null,
      "metadata": {
        "scrolled": true,
        "id": "XvtveAyIvHwO"
      },
      "outputs": [],
      "source": [
        "res = [] \n",
        "res.append(choose_model(grid_lr.best_estimator_)) #время тренировки модели и метрику F1 добавим в общий список\n"
      ]
    },
    {
      "cell_type": "markdown",
      "metadata": {
        "id": "h9V5BuAdvHwP"
      },
      "source": [
        "Подберем параметры для случайного леса."
      ]
    },
    {
      "cell_type": "code",
      "execution_count": null,
      "metadata": {
        "colab": {
          "base_uri": "https://localhost:8080/"
        },
        "id": "8IKULG_9vHwP",
        "outputId": "89366c7d-7f3e-425d-91e7-560daf49eed5"
      },
      "outputs": [
        {
          "output_type": "execute_result",
          "data": {
            "text/plain": [
              "RandomizedSearchCV(cv=5,\n",
              "                   estimator=Pipeline(steps=[('tfidfvect',\n",
              "                                              TfidfVectorizer(stop_words={'a',\n",
              "                                                                          'about',\n",
              "                                                                          'above',\n",
              "                                                                          'after',\n",
              "                                                                          'again',\n",
              "                                                                          'against',\n",
              "                                                                          'ain',\n",
              "                                                                          'all',\n",
              "                                                                          'am',\n",
              "                                                                          'an',\n",
              "                                                                          'and',\n",
              "                                                                          'any',\n",
              "                                                                          'are',\n",
              "                                                                          'aren',\n",
              "                                                                          \"aren't\",\n",
              "                                                                          'as',\n",
              "                                                                          'at',\n",
              "                                                                          'be',\n",
              "                                                                          'because',\n",
              "                                                                          'been',\n",
              "                                                                          'before',\n",
              "                                                                          'being',\n",
              "                                                                          'below',\n",
              "                                                                          'between',\n",
              "                                                                          'both',\n",
              "                                                                          'but',\n",
              "                                                                          'by',\n",
              "                                                                          'can',\n",
              "                                                                          'couldn',\n",
              "                                                                          \"couldn't\", ...})),\n",
              "                                             ('rfc',\n",
              "                                              RandomForestClassifier(random_state=12345))]),\n",
              "                   n_jobs=-1,\n",
              "                   param_distributions={'rfc__max_depth': range(1, 50, 2),\n",
              "                                        'rfc__n_estimators': range(10, 71, 5)},\n",
              "                   scoring='f1', verbose=False)"
            ]
          },
          "metadata": {},
          "execution_count": 20
        }
      ],
      "source": [
        "pipe_rfc = Pipeline([('tfidfvect', TfidfVectorizer(stop_words=stop_words)),\n",
        "                   ('rfc', RandomForestClassifier(random_state=SEED))])\n",
        "\n",
        "parametrs = { 'rfc__n_estimators': range (10, 71, 5),\n",
        "              'rfc__max_depth': range (1,50, 2),\n",
        "             }\n",
        "grid_rfс = RandomizedSearchCV(pipe_rfc, \n",
        "                              parametrs, \n",
        "                              cv=5, \n",
        "                              n_jobs=-1,\n",
        "                              scoring='f1', \n",
        "                              verbose = False)\n",
        "grid_rfс.fit(X_train_,y_train)"
      ]
    },
    {
      "cell_type": "code",
      "execution_count": null,
      "metadata": {
        "colab": {
          "base_uri": "https://localhost:8080/"
        },
        "id": "FMJQObmYvHwP",
        "outputId": "b5697b16-cc2d-4a2f-e138-5363c638c7c7"
      },
      "outputs": [
        {
          "output_type": "stream",
          "name": "stdout",
          "text": [
            "Лучшие гиперпараметры для RandomForestClassifier:{'rfc__n_estimators': 40, 'rfc__max_depth': 49}\n"
          ]
        }
      ],
      "source": [
        "print (f'Лучшие гиперпараметры для RandomForestClassifier:{grid_rfс.best_params_}')"
      ]
    },
    {
      "cell_type": "code",
      "execution_count": null,
      "metadata": {
        "id": "EQ-4KzMyvHwQ"
      },
      "outputs": [],
      "source": [
        "res.append(choose_model(grid_rfс.best_estimator_)) #время тренировки модели и метрику F1 добавим в общий список"
      ]
    },
    {
      "cell_type": "markdown",
      "metadata": {
        "id": "MvNF5bBkvHwQ"
      },
      "source": [
        "Следующей рассмотрим модель LinearSVC."
      ]
    },
    {
      "cell_type": "code",
      "execution_count": null,
      "metadata": {
        "colab": {
          "base_uri": "https://localhost:8080/"
        },
        "id": "3i4ioWwBvHwQ",
        "outputId": "b6048317-978f-4953-cb8f-ddd2b58e2cc6"
      },
      "outputs": [
        {
          "output_type": "execute_result",
          "data": {
            "text/plain": [
              "RandomizedSearchCV(cv=5,\n",
              "                   estimator=Pipeline(steps=[('tfidfvect',\n",
              "                                              TfidfVectorizer(stop_words={'a',\n",
              "                                                                          'about',\n",
              "                                                                          'above',\n",
              "                                                                          'after',\n",
              "                                                                          'again',\n",
              "                                                                          'against',\n",
              "                                                                          'ain',\n",
              "                                                                          'all',\n",
              "                                                                          'am',\n",
              "                                                                          'an',\n",
              "                                                                          'and',\n",
              "                                                                          'any',\n",
              "                                                                          'are',\n",
              "                                                                          'aren',\n",
              "                                                                          \"aren't\",\n",
              "                                                                          'as',\n",
              "                                                                          'at',\n",
              "                                                                          'be',\n",
              "                                                                          'because',\n",
              "                                                                          'been',\n",
              "                                                                          'before',\n",
              "                                                                          'being',\n",
              "                                                                          'below',\n",
              "                                                                          'between',\n",
              "                                                                          'both',\n",
              "                                                                          'but',\n",
              "                                                                          'by',\n",
              "                                                                          'can',\n",
              "                                                                          'couldn',\n",
              "                                                                          \"couldn't\", ...})),\n",
              "                                             ('lsvc',\n",
              "                                              LinearSVC(random_state=12345))]),\n",
              "                   n_jobs=-1,\n",
              "                   param_distributions={'lsvc__C': array([ 1.        ,  5.83333333, 10.66666667, 15.5       , 20.33333333,\n",
              "       25.16666667, 30.        ])},\n",
              "                   scoring='f1')"
            ]
          },
          "metadata": {},
          "execution_count": 23
        }
      ],
      "source": [
        "pipe_lsvc = Pipeline([('tfidfvect', TfidfVectorizer(stop_words=stop_words)),\n",
        "                   ('lsvc', LinearSVC(max_iter = 1000, random_state=SEED))])\n",
        "parametrs = {'lsvc__C':np.linspace(1,30,7,endpoint=True)}\n",
        "grid_lsvc = RandomizedSearchCV(pipe_lsvc,\n",
        "                               parametrs,\n",
        "                               cv=5, \n",
        "                               n_jobs=-1,\n",
        "                               scoring = 'f1')\n",
        "grid_lsvc.fit(X_train_,y_train)"
      ]
    },
    {
      "cell_type": "code",
      "execution_count": null,
      "metadata": {
        "colab": {
          "base_uri": "https://localhost:8080/"
        },
        "id": "Zggp3PwIvHwQ",
        "outputId": "4734e7af-5c62-478c-cb6a-212f66e01456"
      },
      "outputs": [
        {
          "output_type": "stream",
          "name": "stdout",
          "text": [
            "Лучшие гиперпараметры для LinearSVC:{'lsvc__C': 1.0}\n"
          ]
        }
      ],
      "source": [
        "print (f'Лучшие гиперпараметры для LinearSVC:{grid_lsvc.best_params_}')"
      ]
    },
    {
      "cell_type": "code",
      "execution_count": null,
      "metadata": {
        "scrolled": true,
        "id": "irdUainKvHwR"
      },
      "outputs": [],
      "source": [
        "res.append(choose_model(grid_lsvc.best_estimator_)) #время тренировки модели и метрику F1 добавим в общий список"
      ]
    },
    {
      "cell_type": "markdown",
      "metadata": {
        "id": "TiP6MMZgvHwR"
      },
      "source": [
        "Последней рассмотрим модель CatBoostClassifier."
      ]
    },
    {
      "cell_type": "code",
      "execution_count": null,
      "metadata": {
        "colab": {
          "base_uri": "https://localhost:8080/"
        },
        "id": "Oa8aBzyFvHwR",
        "outputId": "d38aab91-27e0-41ec-be92-6caa4cc66b06"
      },
      "outputs": [
        {
          "output_type": "stream",
          "name": "stdout",
          "text": [
            "Learning rate set to 0.5\n",
            "0:\tlearn: 0.3467309\ttotal: 1.78s\tremaining: 2m 2s\n",
            "1:\tlearn: 0.2616076\ttotal: 3.32s\tremaining: 1m 53s\n",
            "2:\tlearn: 0.2360668\ttotal: 4.85s\tremaining: 1m 48s\n",
            "3:\tlearn: 0.2212403\ttotal: 6.46s\tremaining: 1m 46s\n",
            "4:\tlearn: 0.2126975\ttotal: 8.8s\tremaining: 1m 54s\n",
            "5:\tlearn: 0.2073966\ttotal: 10.3s\tremaining: 1m 50s\n",
            "6:\tlearn: 0.2022282\ttotal: 11.8s\tremaining: 1m 46s\n",
            "7:\tlearn: 0.1959705\ttotal: 13.4s\tremaining: 1m 44s\n",
            "8:\tlearn: 0.1919292\ttotal: 14.9s\tremaining: 1m 41s\n",
            "9:\tlearn: 0.1889815\ttotal: 16.4s\tremaining: 1m 38s\n",
            "10:\tlearn: 0.1839642\ttotal: 18s\tremaining: 1m 36s\n",
            "11:\tlearn: 0.1813897\ttotal: 19.4s\tremaining: 1m 34s\n",
            "12:\tlearn: 0.1790568\ttotal: 20.9s\tremaining: 1m 31s\n",
            "13:\tlearn: 0.1766655\ttotal: 22.9s\tremaining: 1m 31s\n",
            "14:\tlearn: 0.1747223\ttotal: 24.8s\tremaining: 1m 30s\n",
            "15:\tlearn: 0.1714550\ttotal: 26.3s\tremaining: 1m 28s\n",
            "16:\tlearn: 0.1697849\ttotal: 27.8s\tremaining: 1m 26s\n",
            "17:\tlearn: 0.1683882\ttotal: 29.2s\tremaining: 1m 24s\n",
            "18:\tlearn: 0.1669389\ttotal: 30.7s\tremaining: 1m 22s\n",
            "19:\tlearn: 0.1655896\ttotal: 32.2s\tremaining: 1m 20s\n",
            "20:\tlearn: 0.1640753\ttotal: 33.7s\tremaining: 1m 18s\n",
            "21:\tlearn: 0.1625538\ttotal: 35.2s\tremaining: 1m 16s\n",
            "22:\tlearn: 0.1608940\ttotal: 36.7s\tremaining: 1m 14s\n",
            "23:\tlearn: 0.1595913\ttotal: 38.2s\tremaining: 1m 13s\n",
            "24:\tlearn: 0.1579866\ttotal: 39.7s\tremaining: 1m 11s\n",
            "25:\tlearn: 0.1570575\ttotal: 41.2s\tremaining: 1m 9s\n",
            "26:\tlearn: 0.1559578\ttotal: 42.7s\tremaining: 1m 7s\n",
            "27:\tlearn: 0.1547566\ttotal: 44.2s\tremaining: 1m 6s\n",
            "28:\tlearn: 0.1536963\ttotal: 45.6s\tremaining: 1m 4s\n",
            "29:\tlearn: 0.1527840\ttotal: 47.1s\tremaining: 1m 2s\n",
            "30:\tlearn: 0.1518238\ttotal: 48.6s\tremaining: 1m 1s\n",
            "31:\tlearn: 0.1508160\ttotal: 50.1s\tremaining: 59.5s\n",
            "32:\tlearn: 0.1497032\ttotal: 51.6s\tremaining: 57.9s\n",
            "33:\tlearn: 0.1489545\ttotal: 53.1s\tremaining: 56.2s\n",
            "34:\tlearn: 0.1476748\ttotal: 54.6s\tremaining: 54.6s\n",
            "35:\tlearn: 0.1467896\ttotal: 56.1s\tremaining: 53s\n",
            "36:\tlearn: 0.1458675\ttotal: 57.6s\tremaining: 51.4s\n",
            "37:\tlearn: 0.1450544\ttotal: 59.1s\tremaining: 49.8s\n",
            "38:\tlearn: 0.1442687\ttotal: 1m\tremaining: 48.2s\n",
            "39:\tlearn: 0.1435896\ttotal: 1m 2s\tremaining: 46.6s\n",
            "40:\tlearn: 0.1428923\ttotal: 1m 3s\tremaining: 45s\n",
            "41:\tlearn: 0.1424001\ttotal: 1m 5s\tremaining: 43.4s\n",
            "42:\tlearn: 0.1417253\ttotal: 1m 6s\tremaining: 41.8s\n",
            "43:\tlearn: 0.1407703\ttotal: 1m 8s\tremaining: 40.2s\n",
            "44:\tlearn: 0.1399938\ttotal: 1m 9s\tremaining: 38.7s\n",
            "45:\tlearn: 0.1395188\ttotal: 1m 11s\tremaining: 37.1s\n",
            "46:\tlearn: 0.1391716\ttotal: 1m 12s\tremaining: 35.5s\n",
            "47:\tlearn: 0.1386492\ttotal: 1m 14s\tremaining: 33.9s\n",
            "48:\tlearn: 0.1380612\ttotal: 1m 15s\tremaining: 32.4s\n",
            "49:\tlearn: 0.1370686\ttotal: 1m 17s\tremaining: 30.8s\n",
            "50:\tlearn: 0.1366784\ttotal: 1m 18s\tremaining: 29.3s\n",
            "51:\tlearn: 0.1361637\ttotal: 1m 20s\tremaining: 27.7s\n",
            "52:\tlearn: 0.1354438\ttotal: 1m 21s\tremaining: 26.2s\n",
            "53:\tlearn: 0.1351381\ttotal: 1m 23s\tremaining: 24.6s\n",
            "54:\tlearn: 0.1344300\ttotal: 1m 24s\tremaining: 23s\n",
            "55:\tlearn: 0.1338573\ttotal: 1m 25s\tremaining: 21.5s\n",
            "56:\tlearn: 0.1333001\ttotal: 1m 27s\tremaining: 20s\n",
            "57:\tlearn: 0.1329007\ttotal: 1m 28s\tremaining: 18.4s\n",
            "58:\tlearn: 0.1325751\ttotal: 1m 30s\tremaining: 16.9s\n",
            "59:\tlearn: 0.1321395\ttotal: 1m 31s\tremaining: 15.3s\n",
            "60:\tlearn: 0.1315803\ttotal: 1m 33s\tremaining: 13.8s\n",
            "61:\tlearn: 0.1311316\ttotal: 1m 34s\tremaining: 12.2s\n",
            "62:\tlearn: 0.1308269\ttotal: 1m 36s\tremaining: 10.7s\n",
            "63:\tlearn: 0.1305703\ttotal: 1m 37s\tremaining: 9.18s\n",
            "64:\tlearn: 0.1300159\ttotal: 1m 39s\tremaining: 7.65s\n",
            "65:\tlearn: 0.1297603\ttotal: 1m 40s\tremaining: 6.12s\n",
            "66:\tlearn: 0.1295206\ttotal: 1m 42s\tremaining: 4.58s\n",
            "67:\tlearn: 0.1289321\ttotal: 1m 43s\tremaining: 3.06s\n",
            "68:\tlearn: 0.1286713\ttotal: 1m 45s\tremaining: 1.53s\n",
            "69:\tlearn: 0.1284407\ttotal: 1m 46s\tremaining: 0us\n"
          ]
        },
        {
          "output_type": "execute_result",
          "data": {
            "text/plain": [
              "RandomizedSearchCV(cv=5,\n",
              "                   estimator=Pipeline(steps=[('tfidfvect',\n",
              "                                              TfidfVectorizer(stop_words={'a',\n",
              "                                                                          'about',\n",
              "                                                                          'above',\n",
              "                                                                          'after',\n",
              "                                                                          'again',\n",
              "                                                                          'against',\n",
              "                                                                          'ain',\n",
              "                                                                          'all',\n",
              "                                                                          'am',\n",
              "                                                                          'an',\n",
              "                                                                          'and',\n",
              "                                                                          'any',\n",
              "                                                                          'are',\n",
              "                                                                          'aren',\n",
              "                                                                          \"aren't\",\n",
              "                                                                          'as',\n",
              "                                                                          'at',\n",
              "                                                                          'be',\n",
              "                                                                          'because',\n",
              "                                                                          'been',\n",
              "                                                                          'before',\n",
              "                                                                          'being',\n",
              "                                                                          'below',\n",
              "                                                                          'between',\n",
              "                                                                          'both',\n",
              "                                                                          'but',\n",
              "                                                                          'by',\n",
              "                                                                          'can',\n",
              "                                                                          'couldn',\n",
              "                                                                          \"couldn't\", ...})),\n",
              "                                             ('cbc',\n",
              "                                              <catboost.core.CatBoostClassifier object at 0x7f8dc2575b90>)]),\n",
              "                   n_jobs=-1,\n",
              "                   param_distributions={'cbc__iterations': range(40, 80, 10)},\n",
              "                   scoring='f1')"
            ]
          },
          "metadata": {},
          "execution_count": 26
        }
      ],
      "source": [
        "pipe_cbc = Pipeline([('tfidfvect', TfidfVectorizer(stop_words=stop_words)),\n",
        "                   ('cbc', CatBoostClassifier(random_state=SEED))])\n",
        "parametrs = {'cbc__iterations': range(40,80,10)}\n",
        "grid_cbc = RandomizedSearchCV(pipe_cbc,\n",
        "                               parametrs,\n",
        "                               cv=5, \n",
        "                               n_jobs=-1,\n",
        "                               scoring = 'f1')\n",
        "grid_cbc.fit(X_train_,y_train)"
      ]
    },
    {
      "cell_type": "code",
      "execution_count": null,
      "metadata": {
        "colab": {
          "base_uri": "https://localhost:8080/"
        },
        "id": "lwbOQWHlvHwR",
        "outputId": "232868d7-256f-4049-d857-1a5d6d5ad175"
      },
      "outputs": [
        {
          "output_type": "stream",
          "name": "stdout",
          "text": [
            "Лучшие гиперпараметры для CatBoostClassifier:{'cbc__iterations': 70}\n"
          ]
        }
      ],
      "source": [
        "print (f'Лучшие гиперпараметры для CatBoostClassifier:{grid_cbc.best_params_}')"
      ]
    },
    {
      "cell_type": "code",
      "execution_count": null,
      "metadata": {
        "colab": {
          "base_uri": "https://localhost:8080/"
        },
        "id": "vXU9gzOhvHwS",
        "outputId": "6db38f24-5913-4371-db7e-cf96e7a502fc"
      },
      "outputs": [
        {
          "output_type": "stream",
          "name": "stdout",
          "text": [
            "Learning rate set to 0.5\n",
            "0:\tlearn: 0.3467309\ttotal: 1.73s\tremaining: 1m 59s\n",
            "1:\tlearn: 0.2616076\ttotal: 3.27s\tremaining: 1m 51s\n",
            "2:\tlearn: 0.2360668\ttotal: 4.8s\tremaining: 1m 47s\n",
            "3:\tlearn: 0.2212403\ttotal: 6.39s\tremaining: 1m 45s\n",
            "4:\tlearn: 0.2126975\ttotal: 7.88s\tremaining: 1m 42s\n",
            "5:\tlearn: 0.2073966\ttotal: 9.41s\tremaining: 1m 40s\n",
            "6:\tlearn: 0.2022282\ttotal: 10.9s\tremaining: 1m 38s\n",
            "7:\tlearn: 0.1959705\ttotal: 12.5s\tremaining: 1m 37s\n",
            "8:\tlearn: 0.1919292\ttotal: 14.1s\tremaining: 1m 35s\n",
            "9:\tlearn: 0.1889815\ttotal: 15.6s\tremaining: 1m 33s\n",
            "10:\tlearn: 0.1839642\ttotal: 17.1s\tremaining: 1m 31s\n",
            "11:\tlearn: 0.1813897\ttotal: 18.6s\tremaining: 1m 29s\n",
            "12:\tlearn: 0.1790568\ttotal: 20.1s\tremaining: 1m 28s\n",
            "13:\tlearn: 0.1766655\ttotal: 21.6s\tremaining: 1m 26s\n",
            "14:\tlearn: 0.1747223\ttotal: 23.1s\tremaining: 1m 24s\n",
            "15:\tlearn: 0.1714550\ttotal: 24.7s\tremaining: 1m 23s\n",
            "16:\tlearn: 0.1697849\ttotal: 26.2s\tremaining: 1m 21s\n",
            "17:\tlearn: 0.1683882\ttotal: 27.6s\tremaining: 1m 19s\n",
            "18:\tlearn: 0.1669389\ttotal: 29.1s\tremaining: 1m 18s\n",
            "19:\tlearn: 0.1655896\ttotal: 30.6s\tremaining: 1m 16s\n",
            "20:\tlearn: 0.1640753\ttotal: 32.1s\tremaining: 1m 14s\n",
            "21:\tlearn: 0.1625538\ttotal: 33.6s\tremaining: 1m 13s\n",
            "22:\tlearn: 0.1608940\ttotal: 35.1s\tremaining: 1m 11s\n",
            "23:\tlearn: 0.1595913\ttotal: 36.7s\tremaining: 1m 10s\n",
            "24:\tlearn: 0.1579866\ttotal: 38.2s\tremaining: 1m 8s\n",
            "25:\tlearn: 0.1570575\ttotal: 39.7s\tremaining: 1m 7s\n",
            "26:\tlearn: 0.1559578\ttotal: 41.2s\tremaining: 1m 5s\n",
            "27:\tlearn: 0.1547566\ttotal: 42.7s\tremaining: 1m 3s\n",
            "28:\tlearn: 0.1536963\ttotal: 44.1s\tremaining: 1m 2s\n",
            "29:\tlearn: 0.1527840\ttotal: 45.6s\tremaining: 1m\n",
            "30:\tlearn: 0.1518238\ttotal: 47.1s\tremaining: 59.3s\n",
            "31:\tlearn: 0.1508160\ttotal: 48.6s\tremaining: 57.7s\n",
            "32:\tlearn: 0.1497032\ttotal: 50.1s\tremaining: 56.2s\n",
            "33:\tlearn: 0.1489545\ttotal: 51.6s\tremaining: 54.6s\n",
            "34:\tlearn: 0.1476748\ttotal: 53.1s\tremaining: 53.1s\n",
            "35:\tlearn: 0.1467896\ttotal: 54.7s\tremaining: 51.6s\n",
            "36:\tlearn: 0.1458675\ttotal: 56.2s\tremaining: 50.1s\n",
            "37:\tlearn: 0.1450544\ttotal: 57.7s\tremaining: 48.6s\n",
            "38:\tlearn: 0.1442687\ttotal: 59.1s\tremaining: 47s\n",
            "39:\tlearn: 0.1435896\ttotal: 1m\tremaining: 45.5s\n",
            "40:\tlearn: 0.1428923\ttotal: 1m 2s\tremaining: 43.9s\n",
            "41:\tlearn: 0.1424001\ttotal: 1m 3s\tremaining: 42.4s\n",
            "42:\tlearn: 0.1417253\ttotal: 1m 5s\tremaining: 40.9s\n",
            "43:\tlearn: 0.1407703\ttotal: 1m 6s\tremaining: 39.4s\n",
            "44:\tlearn: 0.1399938\ttotal: 1m 8s\tremaining: 37.9s\n",
            "45:\tlearn: 0.1395188\ttotal: 1m 9s\tremaining: 36.3s\n",
            "46:\tlearn: 0.1391716\ttotal: 1m 11s\tremaining: 34.8s\n",
            "47:\tlearn: 0.1386492\ttotal: 1m 12s\tremaining: 33.3s\n",
            "48:\tlearn: 0.1380612\ttotal: 1m 14s\tremaining: 31.7s\n",
            "49:\tlearn: 0.1370686\ttotal: 1m 15s\tremaining: 30.2s\n",
            "50:\tlearn: 0.1366784\ttotal: 1m 17s\tremaining: 28.7s\n",
            "51:\tlearn: 0.1361637\ttotal: 1m 18s\tremaining: 27.2s\n",
            "52:\tlearn: 0.1354438\ttotal: 1m 20s\tremaining: 25.7s\n",
            "53:\tlearn: 0.1351381\ttotal: 1m 21s\tremaining: 24.2s\n",
            "54:\tlearn: 0.1344300\ttotal: 1m 23s\tremaining: 22.6s\n",
            "55:\tlearn: 0.1338573\ttotal: 1m 24s\tremaining: 21.1s\n",
            "56:\tlearn: 0.1333001\ttotal: 1m 26s\tremaining: 19.6s\n",
            "57:\tlearn: 0.1329007\ttotal: 1m 27s\tremaining: 18.1s\n",
            "58:\tlearn: 0.1325751\ttotal: 1m 28s\tremaining: 16.6s\n",
            "59:\tlearn: 0.1321395\ttotal: 1m 30s\tremaining: 15.1s\n",
            "60:\tlearn: 0.1315803\ttotal: 1m 32s\tremaining: 13.6s\n",
            "61:\tlearn: 0.1311316\ttotal: 1m 33s\tremaining: 12.1s\n",
            "62:\tlearn: 0.1308269\ttotal: 1m 34s\tremaining: 10.6s\n",
            "63:\tlearn: 0.1305703\ttotal: 1m 36s\tremaining: 9.04s\n",
            "64:\tlearn: 0.1300159\ttotal: 1m 37s\tremaining: 7.54s\n",
            "65:\tlearn: 0.1297603\ttotal: 1m 39s\tremaining: 6.03s\n",
            "66:\tlearn: 0.1295206\ttotal: 1m 40s\tremaining: 4.52s\n",
            "67:\tlearn: 0.1289321\ttotal: 1m 42s\tremaining: 3.01s\n",
            "68:\tlearn: 0.1286713\ttotal: 1m 43s\tremaining: 1.51s\n",
            "69:\tlearn: 0.1284407\ttotal: 1m 45s\tremaining: 0us\n"
          ]
        }
      ],
      "source": [
        "res.append(choose_model(grid_cbc.best_estimator_)) #время тренировки модели и метрику F1 добавим в общий список"
      ]
    },
    {
      "cell_type": "markdown",
      "metadata": {
        "id": "G0k7FamuvHwS"
      },
      "source": [
        "## Выводы"
      ]
    },
    {
      "cell_type": "markdown",
      "metadata": {
        "id": "zgtbucykvHwS"
      },
      "source": [
        "Для наглядного сравнения, данные по времени тренировки и метрике F1 для каждой модели сведем в одну таблицу."
      ]
    },
    {
      "cell_type": "code",
      "execution_count": null,
      "metadata": {
        "colab": {
          "base_uri": "https://localhost:8080/",
          "height": 175
        },
        "id": "PVr2vGTVvHwT",
        "outputId": "4a87bfc7-0bf4-46f5-d88d-82a39a7db14d"
      },
      "outputs": [
        {
          "output_type": "execute_result",
          "data": {
            "text/plain": [
              "                  F1  train_time\n",
              "LR          0.770388    9.513475\n",
              "RFC         0.070322   17.149848\n",
              "LinearSVC   0.774116    5.877884\n",
              "CatBooster  0.729282  135.884296"
            ],
            "text/html": [
              "\n",
              "  <div id=\"df-eaa14220-2f96-48d7-adcc-9e401e035bf8\">\n",
              "    <div class=\"colab-df-container\">\n",
              "      <div>\n",
              "<style scoped>\n",
              "    .dataframe tbody tr th:only-of-type {\n",
              "        vertical-align: middle;\n",
              "    }\n",
              "\n",
              "    .dataframe tbody tr th {\n",
              "        vertical-align: top;\n",
              "    }\n",
              "\n",
              "    .dataframe thead th {\n",
              "        text-align: right;\n",
              "    }\n",
              "</style>\n",
              "<table border=\"1\" class=\"dataframe\">\n",
              "  <thead>\n",
              "    <tr style=\"text-align: right;\">\n",
              "      <th></th>\n",
              "      <th>F1</th>\n",
              "      <th>train_time</th>\n",
              "    </tr>\n",
              "  </thead>\n",
              "  <tbody>\n",
              "    <tr>\n",
              "      <th>LR</th>\n",
              "      <td>0.770388</td>\n",
              "      <td>9.513475</td>\n",
              "    </tr>\n",
              "    <tr>\n",
              "      <th>RFC</th>\n",
              "      <td>0.070322</td>\n",
              "      <td>17.149848</td>\n",
              "    </tr>\n",
              "    <tr>\n",
              "      <th>LinearSVC</th>\n",
              "      <td>0.774116</td>\n",
              "      <td>5.877884</td>\n",
              "    </tr>\n",
              "    <tr>\n",
              "      <th>CatBooster</th>\n",
              "      <td>0.729282</td>\n",
              "      <td>135.884296</td>\n",
              "    </tr>\n",
              "  </tbody>\n",
              "</table>\n",
              "</div>\n",
              "      <button class=\"colab-df-convert\" onclick=\"convertToInteractive('df-eaa14220-2f96-48d7-adcc-9e401e035bf8')\"\n",
              "              title=\"Convert this dataframe to an interactive table.\"\n",
              "              style=\"display:none;\">\n",
              "        \n",
              "  <svg xmlns=\"http://www.w3.org/2000/svg\" height=\"24px\"viewBox=\"0 0 24 24\"\n",
              "       width=\"24px\">\n",
              "    <path d=\"M0 0h24v24H0V0z\" fill=\"none\"/>\n",
              "    <path d=\"M18.56 5.44l.94 2.06.94-2.06 2.06-.94-2.06-.94-.94-2.06-.94 2.06-2.06.94zm-11 1L8.5 8.5l.94-2.06 2.06-.94-2.06-.94L8.5 2.5l-.94 2.06-2.06.94zm10 10l.94 2.06.94-2.06 2.06-.94-2.06-.94-.94-2.06-.94 2.06-2.06.94z\"/><path d=\"M17.41 7.96l-1.37-1.37c-.4-.4-.92-.59-1.43-.59-.52 0-1.04.2-1.43.59L10.3 9.45l-7.72 7.72c-.78.78-.78 2.05 0 2.83L4 21.41c.39.39.9.59 1.41.59.51 0 1.02-.2 1.41-.59l7.78-7.78 2.81-2.81c.8-.78.8-2.07 0-2.86zM5.41 20L4 18.59l7.72-7.72 1.47 1.35L5.41 20z\"/>\n",
              "  </svg>\n",
              "      </button>\n",
              "      \n",
              "  <style>\n",
              "    .colab-df-container {\n",
              "      display:flex;\n",
              "      flex-wrap:wrap;\n",
              "      gap: 12px;\n",
              "    }\n",
              "\n",
              "    .colab-df-convert {\n",
              "      background-color: #E8F0FE;\n",
              "      border: none;\n",
              "      border-radius: 50%;\n",
              "      cursor: pointer;\n",
              "      display: none;\n",
              "      fill: #1967D2;\n",
              "      height: 32px;\n",
              "      padding: 0 0 0 0;\n",
              "      width: 32px;\n",
              "    }\n",
              "\n",
              "    .colab-df-convert:hover {\n",
              "      background-color: #E2EBFA;\n",
              "      box-shadow: 0px 1px 2px rgba(60, 64, 67, 0.3), 0px 1px 3px 1px rgba(60, 64, 67, 0.15);\n",
              "      fill: #174EA6;\n",
              "    }\n",
              "\n",
              "    [theme=dark] .colab-df-convert {\n",
              "      background-color: #3B4455;\n",
              "      fill: #D2E3FC;\n",
              "    }\n",
              "\n",
              "    [theme=dark] .colab-df-convert:hover {\n",
              "      background-color: #434B5C;\n",
              "      box-shadow: 0px 1px 3px 1px rgba(0, 0, 0, 0.15);\n",
              "      filter: drop-shadow(0px 1px 2px rgba(0, 0, 0, 0.3));\n",
              "      fill: #FFFFFF;\n",
              "    }\n",
              "  </style>\n",
              "\n",
              "      <script>\n",
              "        const buttonEl =\n",
              "          document.querySelector('#df-eaa14220-2f96-48d7-adcc-9e401e035bf8 button.colab-df-convert');\n",
              "        buttonEl.style.display =\n",
              "          google.colab.kernel.accessAllowed ? 'block' : 'none';\n",
              "\n",
              "        async function convertToInteractive(key) {\n",
              "          const element = document.querySelector('#df-eaa14220-2f96-48d7-adcc-9e401e035bf8');\n",
              "          const dataTable =\n",
              "            await google.colab.kernel.invokeFunction('convertToInteractive',\n",
              "                                                     [key], {});\n",
              "          if (!dataTable) return;\n",
              "\n",
              "          const docLinkHtml = 'Like what you see? Visit the ' +\n",
              "            '<a target=\"_blank\" href=https://colab.research.google.com/notebooks/data_table.ipynb>data table notebook</a>'\n",
              "            + ' to learn more about interactive tables.';\n",
              "          element.innerHTML = '';\n",
              "          dataTable['output_type'] = 'display_data';\n",
              "          await google.colab.output.renderOutput(dataTable, element);\n",
              "          const docLink = document.createElement('div');\n",
              "          docLink.innerHTML = docLinkHtml;\n",
              "          element.appendChild(docLink);\n",
              "        }\n",
              "      </script>\n",
              "    </div>\n",
              "  </div>\n",
              "  "
            ]
          },
          "metadata": {},
          "execution_count": 29
        }
      ],
      "source": [
        "pd.DataFrame(res,index =['LR','RFC','LinearSVC','CatBooster'], columns=['F1','train_time'])"
      ]
    },
    {
      "cell_type": "markdown",
      "metadata": {
        "id": "KDzv58X_vHwT"
      },
      "source": [
        "На основе анализа приведенной таблицы, можем сделать вывод, что самой точной является модель LinearSVC, при этом данная модель также быстрее всего обучается."
      ]
    },
    {
      "cell_type": "markdown",
      "metadata": {
        "id": "N-Whr_Z7vHwT"
      },
      "source": [
        "В ходе проведенной работы мы изучили данные с комментариями пользователей интернет-магазина \"Викишоп\", при этом было определено, что доля негативных комментариев составляет около 10% от общего числа отзывов.\n",
        "\n",
        "Для обучения моделей мы лемматизировали данные, избавили их от лишних символов, а также от слов не несущих смысловой нагрузки ( артиклей, союзов, предлогов и т.п.). Очищенный и лемматизированный текст мы привели к векторному виду при помощи TfidfVectorizer, полученные признаки использовали для подбора наилучшей модели по метрике качества `F1`. \n",
        "\n",
        "Было обучено 4 модели:\n",
        "* LogisticRegression;\n",
        "* RandomForestClassifier;\n",
        "* LinearSVC;\n",
        "* CatBoostClassifier.\n",
        "\n",
        "Наилучшая метрика качества принадлежит LinearSVC.\n",
        "Будем рекомендовать данную модель использовать для классификации комментариев на негативные и позитивные."
      ]
    }
  ],
  "metadata": {
    "ExecuteTimeLog": [
      {
        "duration": 338,
        "start_time": "2022-08-17T14:22:17.402Z"
      },
      {
        "duration": 3183,
        "start_time": "2022-08-17T14:24:08.066Z"
      },
      {
        "duration": 14,
        "start_time": "2022-08-17T14:24:13.394Z"
      },
      {
        "duration": 7,
        "start_time": "2022-08-17T14:24:42.114Z"
      },
      {
        "duration": 6,
        "start_time": "2022-08-17T14:24:49.737Z"
      },
      {
        "duration": 63,
        "start_time": "2022-08-18T11:35:19.143Z"
      },
      {
        "duration": 410,
        "start_time": "2022-08-18T11:35:23.725Z"
      },
      {
        "duration": 3411,
        "start_time": "2022-08-18T11:35:24.137Z"
      },
      {
        "duration": 15,
        "start_time": "2022-08-18T11:35:27.551Z"
      },
      {
        "duration": 2059,
        "start_time": "2022-08-18T11:35:27.569Z"
      },
      {
        "duration": 457,
        "start_time": "2022-08-18T11:35:40.752Z"
      },
      {
        "duration": 3559,
        "start_time": "2022-08-18T11:35:41.212Z"
      },
      {
        "duration": 15,
        "start_time": "2022-08-18T11:35:44.773Z"
      },
      {
        "duration": 2171,
        "start_time": "2022-08-18T11:35:44.791Z"
      },
      {
        "duration": 479,
        "start_time": "2022-08-18T11:36:51.874Z"
      },
      {
        "duration": 7653,
        "start_time": "2022-08-18T11:36:52.355Z"
      },
      {
        "duration": 0,
        "start_time": "2022-08-18T11:37:00.010Z"
      },
      {
        "duration": 0,
        "start_time": "2022-08-18T11:37:00.012Z"
      },
      {
        "duration": 3,
        "start_time": "2022-08-18T11:37:05.569Z"
      },
      {
        "duration": 926,
        "start_time": "2022-08-18T11:37:05.575Z"
      },
      {
        "duration": 16,
        "start_time": "2022-08-18T11:37:06.502Z"
      },
      {
        "duration": 2057,
        "start_time": "2022-08-18T11:37:06.520Z"
      },
      {
        "duration": 460,
        "start_time": "2022-08-18T11:40:34.569Z"
      },
      {
        "duration": 3400,
        "start_time": "2022-08-18T11:40:35.032Z"
      },
      {
        "duration": 15,
        "start_time": "2022-08-18T11:40:38.434Z"
      },
      {
        "duration": 2947,
        "start_time": "2022-08-18T11:40:38.451Z"
      },
      {
        "duration": 61,
        "start_time": "2022-08-18T11:41:53.143Z"
      },
      {
        "duration": 431,
        "start_time": "2022-08-18T11:41:56.529Z"
      },
      {
        "duration": 3451,
        "start_time": "2022-08-18T11:41:56.962Z"
      },
      {
        "duration": 17,
        "start_time": "2022-08-18T11:42:00.415Z"
      },
      {
        "duration": 2995,
        "start_time": "2022-08-18T11:42:00.434Z"
      },
      {
        "duration": 423,
        "start_time": "2022-08-18T11:43:09.398Z"
      },
      {
        "duration": 3397,
        "start_time": "2022-08-18T11:43:09.823Z"
      },
      {
        "duration": 17,
        "start_time": "2022-08-18T11:43:13.222Z"
      },
      {
        "duration": 2910,
        "start_time": "2022-08-18T11:43:13.242Z"
      },
      {
        "duration": 400,
        "start_time": "2022-08-18T11:43:33.749Z"
      },
      {
        "duration": 3297,
        "start_time": "2022-08-18T11:43:34.151Z"
      },
      {
        "duration": 14,
        "start_time": "2022-08-18T11:43:37.450Z"
      },
      {
        "duration": 2931,
        "start_time": "2022-08-18T11:43:37.466Z"
      },
      {
        "duration": 1055,
        "start_time": "2022-08-18T11:58:58.159Z"
      },
      {
        "duration": 960,
        "start_time": "2022-08-18T11:58:59.216Z"
      },
      {
        "duration": 13,
        "start_time": "2022-08-18T11:59:00.178Z"
      },
      {
        "duration": 1506,
        "start_time": "2022-08-18T12:00:50.664Z"
      },
      {
        "duration": 3269,
        "start_time": "2022-08-18T12:00:52.172Z"
      },
      {
        "duration": 15,
        "start_time": "2022-08-18T12:00:55.443Z"
      },
      {
        "duration": 2173,
        "start_time": "2022-08-18T12:00:55.460Z"
      },
      {
        "duration": 0,
        "start_time": "2022-08-18T12:00:57.634Z"
      },
      {
        "duration": 1480,
        "start_time": "2022-08-18T12:01:14.345Z"
      },
      {
        "duration": 3340,
        "start_time": "2022-08-18T12:01:15.828Z"
      },
      {
        "duration": 15,
        "start_time": "2022-08-18T12:01:19.170Z"
      },
      {
        "duration": 2063,
        "start_time": "2022-08-18T12:01:19.187Z"
      },
      {
        "duration": 11,
        "start_time": "2022-08-18T12:01:21.252Z"
      },
      {
        "duration": 1436,
        "start_time": "2022-08-18T12:01:43.023Z"
      },
      {
        "duration": 3309,
        "start_time": "2022-08-18T12:01:44.461Z"
      },
      {
        "duration": 15,
        "start_time": "2022-08-18T12:01:47.772Z"
      },
      {
        "duration": 2135,
        "start_time": "2022-08-18T12:01:47.789Z"
      },
      {
        "duration": 12,
        "start_time": "2022-08-18T12:01:49.928Z"
      },
      {
        "duration": 2,
        "start_time": "2022-08-18T12:03:21.804Z"
      },
      {
        "duration": 935,
        "start_time": "2022-08-18T12:03:21.809Z"
      },
      {
        "duration": 7,
        "start_time": "2022-08-18T12:03:22.746Z"
      },
      {
        "duration": 1324,
        "start_time": "2022-08-18T12:04:02.726Z"
      },
      {
        "duration": 3324,
        "start_time": "2022-08-18T12:04:04.052Z"
      },
      {
        "duration": 15,
        "start_time": "2022-08-18T12:04:07.377Z"
      },
      {
        "duration": 2045,
        "start_time": "2022-08-18T12:04:07.394Z"
      },
      {
        "duration": 14,
        "start_time": "2022-08-18T12:04:09.442Z"
      },
      {
        "duration": 2,
        "start_time": "2022-08-18T12:05:26.214Z"
      },
      {
        "duration": 962,
        "start_time": "2022-08-18T12:05:26.218Z"
      },
      {
        "duration": 12,
        "start_time": "2022-08-18T12:05:27.181Z"
      },
      {
        "duration": 1536,
        "start_time": "2022-08-18T12:05:38.290Z"
      },
      {
        "duration": 3367,
        "start_time": "2022-08-18T12:05:39.829Z"
      },
      {
        "duration": 15,
        "start_time": "2022-08-18T12:05:43.198Z"
      },
      {
        "duration": 3378,
        "start_time": "2022-08-18T12:05:43.215Z"
      },
      {
        "duration": 3,
        "start_time": "2022-08-18T12:05:46.595Z"
      },
      {
        "duration": 4,
        "start_time": "2022-08-18T12:06:39.760Z"
      },
      {
        "duration": 916,
        "start_time": "2022-08-18T12:06:39.766Z"
      },
      {
        "duration": 10,
        "start_time": "2022-08-18T12:06:40.683Z"
      },
      {
        "duration": 1423,
        "start_time": "2022-08-18T12:06:49.732Z"
      },
      {
        "duration": 3428,
        "start_time": "2022-08-18T12:06:51.157Z"
      },
      {
        "duration": 21,
        "start_time": "2022-08-18T12:06:54.588Z"
      },
      {
        "duration": 3416,
        "start_time": "2022-08-18T12:06:54.611Z"
      },
      {
        "duration": 2,
        "start_time": "2022-08-18T12:06:58.029Z"
      },
      {
        "duration": 201,
        "start_time": "2022-08-18T12:08:41.602Z"
      },
      {
        "duration": 938,
        "start_time": "2022-08-18T12:08:41.806Z"
      },
      {
        "duration": 7,
        "start_time": "2022-08-18T12:08:42.746Z"
      },
      {
        "duration": 2318,
        "start_time": "2022-08-18T12:09:00.687Z"
      },
      {
        "duration": 3590,
        "start_time": "2022-08-18T12:09:03.008Z"
      },
      {
        "duration": 23,
        "start_time": "2022-08-18T12:09:06.601Z"
      },
      {
        "duration": 3502,
        "start_time": "2022-08-18T12:09:06.627Z"
      },
      {
        "duration": 2,
        "start_time": "2022-08-18T12:09:10.133Z"
      },
      {
        "duration": 1752,
        "start_time": "2022-08-18T12:09:43.688Z"
      },
      {
        "duration": 3568,
        "start_time": "2022-08-18T12:09:45.442Z"
      },
      {
        "duration": 21,
        "start_time": "2022-08-18T12:09:49.011Z"
      },
      {
        "duration": 3776,
        "start_time": "2022-08-18T12:09:49.034Z"
      },
      {
        "duration": 3,
        "start_time": "2022-08-18T12:09:52.813Z"
      },
      {
        "duration": 12,
        "start_time": "2022-08-18T12:10:10.233Z"
      },
      {
        "duration": 5,
        "start_time": "2022-08-18T12:12:30.736Z"
      },
      {
        "duration": 999,
        "start_time": "2022-08-18T12:12:30.744Z"
      },
      {
        "duration": 12,
        "start_time": "2022-08-18T12:12:31.746Z"
      },
      {
        "duration": 1772,
        "start_time": "2022-08-18T12:13:02.905Z"
      },
      {
        "duration": 3513,
        "start_time": "2022-08-18T12:13:04.680Z"
      },
      {
        "duration": 21,
        "start_time": "2022-08-18T12:13:08.195Z"
      },
      {
        "duration": 3628,
        "start_time": "2022-08-18T12:13:08.218Z"
      },
      {
        "duration": 8,
        "start_time": "2022-08-18T12:13:11.848Z"
      },
      {
        "duration": 4,
        "start_time": "2022-08-18T12:13:23.361Z"
      },
      {
        "duration": 925,
        "start_time": "2022-08-18T12:13:23.367Z"
      },
      {
        "duration": 9,
        "start_time": "2022-08-18T12:13:24.295Z"
      },
      {
        "duration": 1714,
        "start_time": "2022-08-18T12:13:47.147Z"
      },
      {
        "duration": 3619,
        "start_time": "2022-08-18T12:13:48.864Z"
      },
      {
        "duration": 22,
        "start_time": "2022-08-18T12:13:52.485Z"
      },
      {
        "duration": 3612,
        "start_time": "2022-08-18T12:13:52.510Z"
      },
      {
        "duration": 3,
        "start_time": "2022-08-18T12:13:56.124Z"
      },
      {
        "duration": 4,
        "start_time": "2022-08-18T12:14:15.806Z"
      },
      {
        "duration": 968,
        "start_time": "2022-08-18T12:14:15.822Z"
      },
      {
        "duration": 16,
        "start_time": "2022-08-18T12:14:16.793Z"
      },
      {
        "duration": 1741,
        "start_time": "2022-08-18T12:14:26.396Z"
      },
      {
        "duration": 3553,
        "start_time": "2022-08-18T12:14:28.140Z"
      },
      {
        "duration": 21,
        "start_time": "2022-08-18T12:14:31.695Z"
      },
      {
        "duration": 3564,
        "start_time": "2022-08-18T12:14:31.718Z"
      },
      {
        "duration": 8,
        "start_time": "2022-08-18T12:14:35.284Z"
      },
      {
        "duration": 5,
        "start_time": "2022-08-18T12:15:13.521Z"
      },
      {
        "duration": 904,
        "start_time": "2022-08-18T12:15:13.529Z"
      },
      {
        "duration": 10,
        "start_time": "2022-08-18T12:15:14.435Z"
      },
      {
        "duration": 1929,
        "start_time": "2022-08-18T12:15:26.596Z"
      },
      {
        "duration": 3610,
        "start_time": "2022-08-18T12:15:28.527Z"
      },
      {
        "duration": 25,
        "start_time": "2022-08-18T12:15:32.139Z"
      },
      {
        "duration": 3511,
        "start_time": "2022-08-18T12:15:32.168Z"
      },
      {
        "duration": 3,
        "start_time": "2022-08-18T12:15:35.682Z"
      },
      {
        "duration": 7,
        "start_time": "2022-08-18T12:18:44.889Z"
      },
      {
        "duration": 914,
        "start_time": "2022-08-18T12:18:44.898Z"
      },
      {
        "duration": 10,
        "start_time": "2022-08-18T12:18:45.813Z"
      },
      {
        "duration": 1784,
        "start_time": "2022-08-18T12:18:58.070Z"
      },
      {
        "duration": 3397,
        "start_time": "2022-08-18T12:18:59.857Z"
      },
      {
        "duration": 12,
        "start_time": "2022-08-18T12:19:03.256Z"
      },
      {
        "duration": 3378,
        "start_time": "2022-08-18T12:19:03.271Z"
      },
      {
        "duration": 3,
        "start_time": "2022-08-18T12:19:06.651Z"
      },
      {
        "duration": 6,
        "start_time": "2022-08-18T12:26:02.447Z"
      },
      {
        "duration": 923,
        "start_time": "2022-08-18T12:26:02.454Z"
      },
      {
        "duration": 13,
        "start_time": "2022-08-18T12:26:03.379Z"
      },
      {
        "duration": 1631,
        "start_time": "2022-08-18T12:26:12.751Z"
      },
      {
        "duration": 3302,
        "start_time": "2022-08-18T12:26:14.384Z"
      },
      {
        "duration": 15,
        "start_time": "2022-08-18T12:26:17.687Z"
      },
      {
        "duration": 3384,
        "start_time": "2022-08-18T12:26:17.704Z"
      },
      {
        "duration": 3,
        "start_time": "2022-08-18T12:26:21.091Z"
      },
      {
        "duration": 4,
        "start_time": "2022-08-18T12:28:30.042Z"
      },
      {
        "duration": 74,
        "start_time": "2022-08-18T12:31:07.928Z"
      },
      {
        "duration": 1702,
        "start_time": "2022-08-18T12:31:11.444Z"
      },
      {
        "duration": 3329,
        "start_time": "2022-08-18T12:31:13.149Z"
      },
      {
        "duration": 13,
        "start_time": "2022-08-18T12:31:16.480Z"
      },
      {
        "duration": 2165,
        "start_time": "2022-08-18T12:31:16.496Z"
      },
      {
        "duration": 0,
        "start_time": "2022-08-18T12:31:18.663Z"
      },
      {
        "duration": 1761,
        "start_time": "2022-08-18T12:33:04.795Z"
      },
      {
        "duration": 3411,
        "start_time": "2022-08-18T12:33:06.558Z"
      },
      {
        "duration": 13,
        "start_time": "2022-08-18T12:33:09.971Z"
      },
      {
        "duration": 2359,
        "start_time": "2022-08-18T12:33:09.987Z"
      },
      {
        "duration": 0,
        "start_time": "2022-08-18T12:33:12.348Z"
      },
      {
        "duration": 1632,
        "start_time": "2022-08-18T12:34:26.531Z"
      },
      {
        "duration": 3443,
        "start_time": "2022-08-18T12:34:28.166Z"
      },
      {
        "duration": 12,
        "start_time": "2022-08-18T12:34:31.611Z"
      },
      {
        "duration": 2136,
        "start_time": "2022-08-18T12:34:31.626Z"
      },
      {
        "duration": 6,
        "start_time": "2022-08-18T12:34:33.764Z"
      },
      {
        "duration": 2459,
        "start_time": "2022-08-18T12:35:18.291Z"
      },
      {
        "duration": 3737,
        "start_time": "2022-08-18T12:35:20.753Z"
      },
      {
        "duration": 11,
        "start_time": "2022-08-18T12:35:24.492Z"
      },
      {
        "duration": 3477,
        "start_time": "2022-08-18T12:35:24.505Z"
      },
      {
        "duration": 3,
        "start_time": "2022-08-18T12:35:27.984Z"
      },
      {
        "duration": 11,
        "start_time": "2022-08-18T12:36:40.491Z"
      },
      {
        "duration": 301,
        "start_time": "2022-08-18T12:37:31.013Z"
      },
      {
        "duration": 20,
        "start_time": "2022-08-18T12:37:53.274Z"
      },
      {
        "duration": 97,
        "start_time": "2022-08-18T12:38:38.990Z"
      },
      {
        "duration": 193,
        "start_time": "2022-08-18T12:38:54.824Z"
      },
      {
        "duration": 106,
        "start_time": "2022-08-18T12:39:12.826Z"
      },
      {
        "duration": 113,
        "start_time": "2022-08-18T12:39:17.594Z"
      },
      {
        "duration": 87,
        "start_time": "2022-08-18T12:39:21.296Z"
      },
      {
        "duration": 140,
        "start_time": "2022-08-18T12:39:32.638Z"
      },
      {
        "duration": 208,
        "start_time": "2022-08-18T12:39:48.947Z"
      },
      {
        "duration": 8,
        "start_time": "2022-08-18T12:39:56.326Z"
      },
      {
        "duration": 10,
        "start_time": "2022-08-18T12:40:06.268Z"
      },
      {
        "duration": 10,
        "start_time": "2022-08-18T12:40:24.804Z"
      },
      {
        "duration": 9,
        "start_time": "2022-08-18T12:40:31.571Z"
      },
      {
        "duration": 8,
        "start_time": "2022-08-18T12:40:51.022Z"
      },
      {
        "duration": 8,
        "start_time": "2022-08-18T12:40:55.554Z"
      },
      {
        "duration": 95,
        "start_time": "2022-08-18T12:41:22.650Z"
      },
      {
        "duration": 9,
        "start_time": "2022-08-18T12:42:24.521Z"
      },
      {
        "duration": 6,
        "start_time": "2022-08-18T12:42:46.471Z"
      },
      {
        "duration": 956,
        "start_time": "2022-08-18T12:42:46.479Z"
      },
      {
        "duration": 10,
        "start_time": "2022-08-18T12:42:47.437Z"
      },
      {
        "duration": 15,
        "start_time": "2022-08-18T12:42:47.450Z"
      },
      {
        "duration": 8,
        "start_time": "2022-08-18T12:42:47.467Z"
      },
      {
        "duration": 1696,
        "start_time": "2022-08-18T12:46:16.618Z"
      },
      {
        "duration": 3601,
        "start_time": "2022-08-18T12:46:18.317Z"
      },
      {
        "duration": 13,
        "start_time": "2022-08-18T12:46:21.926Z"
      },
      {
        "duration": 47,
        "start_time": "2022-08-18T12:46:21.942Z"
      },
      {
        "duration": 33,
        "start_time": "2022-08-18T12:46:21.992Z"
      },
      {
        "duration": 3462,
        "start_time": "2022-08-18T12:46:22.026Z"
      },
      {
        "duration": 15,
        "start_time": "2022-08-18T12:46:25.492Z"
      },
      {
        "duration": 7,
        "start_time": "2022-08-18T12:47:19.731Z"
      },
      {
        "duration": 924,
        "start_time": "2022-08-18T12:47:19.740Z"
      },
      {
        "duration": 8,
        "start_time": "2022-08-18T12:47:20.666Z"
      },
      {
        "duration": 42,
        "start_time": "2022-08-18T12:47:20.676Z"
      },
      {
        "duration": 42,
        "start_time": "2022-08-18T12:47:20.720Z"
      },
      {
        "duration": 1800,
        "start_time": "2022-08-18T12:47:29.178Z"
      },
      {
        "duration": 3671,
        "start_time": "2022-08-18T12:47:30.980Z"
      },
      {
        "duration": 11,
        "start_time": "2022-08-18T12:47:34.653Z"
      },
      {
        "duration": 21,
        "start_time": "2022-08-18T12:47:34.666Z"
      },
      {
        "duration": 103,
        "start_time": "2022-08-18T12:47:34.689Z"
      },
      {
        "duration": 3437,
        "start_time": "2022-08-18T12:47:34.794Z"
      },
      {
        "duration": 3,
        "start_time": "2022-08-18T12:47:38.233Z"
      },
      {
        "duration": 1858,
        "start_time": "2022-08-18T12:49:39.200Z"
      },
      {
        "duration": 3607,
        "start_time": "2022-08-18T12:49:41.061Z"
      },
      {
        "duration": 10,
        "start_time": "2022-08-18T12:49:44.671Z"
      },
      {
        "duration": 34,
        "start_time": "2022-08-18T12:49:44.683Z"
      },
      {
        "duration": 21,
        "start_time": "2022-08-18T12:49:44.719Z"
      },
      {
        "duration": 159279,
        "start_time": "2022-08-18T12:49:44.742Z"
      },
      {
        "duration": 3,
        "start_time": "2022-08-18T12:52:24.022Z"
      },
      {
        "duration": 5,
        "start_time": "2022-08-18T13:04:17.504Z"
      },
      {
        "duration": 908,
        "start_time": "2022-08-18T13:04:17.511Z"
      },
      {
        "duration": 8,
        "start_time": "2022-08-18T13:04:18.421Z"
      },
      {
        "duration": 12,
        "start_time": "2022-08-18T13:04:18.432Z"
      },
      {
        "duration": 7,
        "start_time": "2022-08-18T13:04:18.445Z"
      },
      {
        "duration": 1516,
        "start_time": "2022-08-18T13:15:24.719Z"
      },
      {
        "duration": 3280,
        "start_time": "2022-08-18T13:15:26.237Z"
      },
      {
        "duration": 10,
        "start_time": "2022-08-18T13:15:29.519Z"
      },
      {
        "duration": 11,
        "start_time": "2022-08-18T13:15:29.531Z"
      },
      {
        "duration": 9,
        "start_time": "2022-08-18T13:15:29.544Z"
      },
      {
        "duration": 141700,
        "start_time": "2022-08-18T13:15:29.555Z"
      },
      {
        "duration": 3,
        "start_time": "2022-08-18T13:17:51.257Z"
      },
      {
        "duration": 119,
        "start_time": "2022-08-18T14:07:52.920Z"
      },
      {
        "duration": 4,
        "start_time": "2022-08-18T14:07:59.963Z"
      },
      {
        "duration": 1079,
        "start_time": "2022-08-18T14:07:59.970Z"
      },
      {
        "duration": 10,
        "start_time": "2022-08-18T14:08:01.051Z"
      },
      {
        "duration": 33,
        "start_time": "2022-08-18T14:08:01.063Z"
      },
      {
        "duration": 30,
        "start_time": "2022-08-18T14:08:01.098Z"
      },
      {
        "duration": 1704,
        "start_time": "2022-08-18T14:08:19.320Z"
      },
      {
        "duration": 3314,
        "start_time": "2022-08-18T14:08:21.026Z"
      },
      {
        "duration": 16,
        "start_time": "2022-08-18T14:08:24.341Z"
      },
      {
        "duration": 7,
        "start_time": "2022-08-18T14:08:24.359Z"
      },
      {
        "duration": 9,
        "start_time": "2022-08-18T14:08:24.367Z"
      },
      {
        "duration": 141674,
        "start_time": "2022-08-18T14:08:24.377Z"
      },
      {
        "duration": 147,
        "start_time": "2022-08-18T14:10:46.053Z"
      },
      {
        "duration": 0,
        "start_time": "2022-08-18T14:10:46.202Z"
      },
      {
        "duration": 4,
        "start_time": "2022-08-18T14:31:12.163Z"
      },
      {
        "duration": 914,
        "start_time": "2022-08-18T14:31:12.170Z"
      },
      {
        "duration": 11,
        "start_time": "2022-08-18T14:31:13.085Z"
      },
      {
        "duration": 39,
        "start_time": "2022-08-18T14:31:13.098Z"
      },
      {
        "duration": 11,
        "start_time": "2022-08-18T14:31:13.139Z"
      },
      {
        "duration": 8,
        "start_time": "2022-08-18T14:31:13.151Z"
      },
      {
        "duration": 1877,
        "start_time": "2022-08-18T14:34:03.994Z"
      },
      {
        "duration": 3424,
        "start_time": "2022-08-18T14:34:05.873Z"
      },
      {
        "duration": 11,
        "start_time": "2022-08-18T14:34:09.299Z"
      },
      {
        "duration": 10,
        "start_time": "2022-08-18T14:34:09.312Z"
      },
      {
        "duration": 11,
        "start_time": "2022-08-18T14:34:09.323Z"
      },
      {
        "duration": 4,
        "start_time": "2022-08-18T14:34:09.336Z"
      },
      {
        "duration": 96174,
        "start_time": "2022-08-18T14:34:09.342Z"
      },
      {
        "duration": 6,
        "start_time": "2022-08-18T14:35:45.518Z"
      },
      {
        "duration": 6,
        "start_time": "2022-08-18T14:38:02.333Z"
      },
      {
        "duration": 881,
        "start_time": "2022-08-18T14:38:02.341Z"
      },
      {
        "duration": 9,
        "start_time": "2022-08-18T14:38:03.224Z"
      },
      {
        "duration": 12,
        "start_time": "2022-08-18T14:38:03.236Z"
      },
      {
        "duration": 10,
        "start_time": "2022-08-18T14:38:03.250Z"
      },
      {
        "duration": 10,
        "start_time": "2022-08-18T14:38:03.262Z"
      },
      {
        "duration": 2013,
        "start_time": "2022-08-18T14:40:31.173Z"
      },
      {
        "duration": 3422,
        "start_time": "2022-08-18T14:40:33.189Z"
      },
      {
        "duration": 16,
        "start_time": "2022-08-18T14:40:36.613Z"
      },
      {
        "duration": 7,
        "start_time": "2022-08-18T14:40:36.632Z"
      },
      {
        "duration": 9,
        "start_time": "2022-08-18T14:40:36.640Z"
      },
      {
        "duration": 3,
        "start_time": "2022-08-18T14:40:36.651Z"
      },
      {
        "duration": 164,
        "start_time": "2022-08-18T14:40:36.656Z"
      },
      {
        "duration": 0,
        "start_time": "2022-08-18T14:40:36.822Z"
      },
      {
        "duration": 0,
        "start_time": "2022-08-18T14:40:36.824Z"
      },
      {
        "duration": 0,
        "start_time": "2022-08-18T14:40:36.826Z"
      },
      {
        "duration": 0,
        "start_time": "2022-08-18T14:40:36.828Z"
      },
      {
        "duration": 4,
        "start_time": "2022-08-18T14:41:17.797Z"
      },
      {
        "duration": 1021,
        "start_time": "2022-08-18T14:41:17.803Z"
      },
      {
        "duration": 9,
        "start_time": "2022-08-18T14:41:18.826Z"
      },
      {
        "duration": 30,
        "start_time": "2022-08-18T14:41:18.838Z"
      },
      {
        "duration": 9,
        "start_time": "2022-08-18T14:41:18.871Z"
      },
      {
        "duration": 12,
        "start_time": "2022-08-18T14:41:18.882Z"
      },
      {
        "duration": 91967,
        "start_time": "2022-08-18T14:41:18.896Z"
      },
      {
        "duration": 7,
        "start_time": "2022-08-18T14:42:50.865Z"
      },
      {
        "duration": 4,
        "start_time": "2022-08-18T14:42:50.873Z"
      },
      {
        "duration": 19,
        "start_time": "2022-08-18T14:42:50.879Z"
      },
      {
        "duration": 0,
        "start_time": "2022-08-18T14:42:50.900Z"
      },
      {
        "duration": 10,
        "start_time": "2022-08-18T14:49:20.540Z"
      },
      {
        "duration": 15,
        "start_time": "2022-08-18T14:49:31.306Z"
      },
      {
        "duration": 15,
        "start_time": "2022-08-18T14:50:13.862Z"
      },
      {
        "duration": 7,
        "start_time": "2022-08-18T14:51:52.406Z"
      },
      {
        "duration": 943,
        "start_time": "2022-08-18T14:51:52.416Z"
      },
      {
        "duration": 11,
        "start_time": "2022-08-18T14:51:53.361Z"
      },
      {
        "duration": 19,
        "start_time": "2022-08-18T14:51:53.374Z"
      },
      {
        "duration": 17,
        "start_time": "2022-08-18T14:51:53.395Z"
      },
      {
        "duration": 5,
        "start_time": "2022-08-18T14:51:53.414Z"
      },
      {
        "duration": 99362,
        "start_time": "2022-08-18T14:51:53.420Z"
      },
      {
        "duration": 4,
        "start_time": "2022-08-18T14:53:32.793Z"
      },
      {
        "duration": 24,
        "start_time": "2022-08-18T14:53:32.799Z"
      },
      {
        "duration": 19,
        "start_time": "2022-08-18T14:53:32.827Z"
      },
      {
        "duration": 0,
        "start_time": "2022-08-18T14:53:32.847Z"
      },
      {
        "duration": 2117,
        "start_time": "2022-08-22T09:44:10.913Z"
      },
      {
        "duration": 3174,
        "start_time": "2022-08-22T09:44:13.033Z"
      },
      {
        "duration": 20,
        "start_time": "2022-08-22T09:44:16.211Z"
      },
      {
        "duration": 20,
        "start_time": "2022-08-22T09:44:16.232Z"
      },
      {
        "duration": 9,
        "start_time": "2022-08-22T09:44:16.254Z"
      },
      {
        "duration": 4,
        "start_time": "2022-08-22T09:44:16.265Z"
      },
      {
        "duration": 95851,
        "start_time": "2022-08-22T09:44:16.271Z"
      },
      {
        "duration": 4,
        "start_time": "2022-08-22T09:45:52.124Z"
      },
      {
        "duration": 6,
        "start_time": "2022-08-22T09:45:52.129Z"
      },
      {
        "duration": 7562,
        "start_time": "2022-08-22T09:45:52.136Z"
      },
      {
        "duration": 12,
        "start_time": "2022-08-22T09:45:59.703Z"
      },
      {
        "duration": 3,
        "start_time": "2022-08-22T09:53:41.729Z"
      },
      {
        "duration": 126,
        "start_time": "2022-08-22T09:53:42.438Z"
      },
      {
        "duration": 6,
        "start_time": "2022-08-22T09:53:48.213Z"
      },
      {
        "duration": 61,
        "start_time": "2022-08-22T09:53:52.551Z"
      },
      {
        "duration": 4,
        "start_time": "2022-08-22T10:10:39.678Z"
      },
      {
        "duration": 1889,
        "start_time": "2022-08-22T10:10:39.692Z"
      },
      {
        "duration": 17,
        "start_time": "2022-08-22T10:10:41.583Z"
      },
      {
        "duration": 20,
        "start_time": "2022-08-22T10:10:41.602Z"
      },
      {
        "duration": 9,
        "start_time": "2022-08-22T10:10:41.624Z"
      },
      {
        "duration": 4,
        "start_time": "2022-08-22T10:10:41.635Z"
      },
      {
        "duration": 87423,
        "start_time": "2022-08-22T10:10:41.641Z"
      },
      {
        "duration": 4,
        "start_time": "2022-08-22T10:12:09.065Z"
      },
      {
        "duration": 36,
        "start_time": "2022-08-22T10:12:09.070Z"
      },
      {
        "duration": 7430,
        "start_time": "2022-08-22T10:12:09.107Z"
      },
      {
        "duration": 7,
        "start_time": "2022-08-22T10:12:16.541Z"
      },
      {
        "duration": 22,
        "start_time": "2022-08-22T10:12:16.550Z"
      },
      {
        "duration": 58,
        "start_time": "2022-08-22T10:12:16.574Z"
      },
      {
        "duration": 3,
        "start_time": "2022-08-22T10:13:18.182Z"
      },
      {
        "duration": 815,
        "start_time": "2022-08-22T10:13:18.214Z"
      },
      {
        "duration": 8,
        "start_time": "2022-08-22T10:13:19.031Z"
      },
      {
        "duration": 8,
        "start_time": "2022-08-22T10:13:19.040Z"
      },
      {
        "duration": 7,
        "start_time": "2022-08-22T10:13:19.050Z"
      },
      {
        "duration": 3,
        "start_time": "2022-08-22T10:13:19.059Z"
      },
      {
        "duration": 85051,
        "start_time": "2022-08-22T10:13:19.063Z"
      },
      {
        "duration": 3,
        "start_time": "2022-08-22T10:14:44.115Z"
      },
      {
        "duration": 25,
        "start_time": "2022-08-22T10:14:44.119Z"
      },
      {
        "duration": 6777,
        "start_time": "2022-08-22T10:14:44.145Z"
      },
      {
        "duration": 4,
        "start_time": "2022-08-22T10:14:50.925Z"
      },
      {
        "duration": 12,
        "start_time": "2022-08-22T10:14:50.931Z"
      },
      {
        "duration": 61,
        "start_time": "2022-08-22T10:14:50.944Z"
      },
      {
        "duration": 59,
        "start_time": "2022-08-22T10:15:05.685Z"
      },
      {
        "duration": 43,
        "start_time": "2022-08-22T10:15:11.542Z"
      },
      {
        "duration": 9,
        "start_time": "2022-08-22T10:19:46.852Z"
      },
      {
        "duration": 5,
        "start_time": "2022-08-22T10:20:10.512Z"
      },
      {
        "duration": 12,
        "start_time": "2022-08-22T10:20:16.453Z"
      },
      {
        "duration": 37,
        "start_time": "2022-08-22T10:20:37.894Z"
      },
      {
        "duration": 34445,
        "start_time": "2022-08-22T10:22:51.260Z"
      },
      {
        "duration": 0,
        "start_time": "2022-08-22T10:23:25.707Z"
      },
      {
        "duration": 5,
        "start_time": "2022-08-22T10:23:30.770Z"
      },
      {
        "duration": 898,
        "start_time": "2022-08-22T10:23:30.780Z"
      },
      {
        "duration": 11,
        "start_time": "2022-08-22T10:23:31.680Z"
      },
      {
        "duration": 20,
        "start_time": "2022-08-22T10:23:31.693Z"
      },
      {
        "duration": 12,
        "start_time": "2022-08-22T10:23:31.715Z"
      },
      {
        "duration": 4,
        "start_time": "2022-08-22T10:23:31.729Z"
      },
      {
        "duration": 87839,
        "start_time": "2022-08-22T10:23:31.734Z"
      },
      {
        "duration": 4,
        "start_time": "2022-08-22T10:24:59.574Z"
      },
      {
        "duration": 29,
        "start_time": "2022-08-22T10:24:59.579Z"
      },
      {
        "duration": 7202,
        "start_time": "2022-08-22T10:24:59.610Z"
      },
      {
        "duration": 4,
        "start_time": "2022-08-22T10:25:06.814Z"
      },
      {
        "duration": 8,
        "start_time": "2022-08-22T10:25:06.820Z"
      },
      {
        "duration": 69,
        "start_time": "2022-08-22T10:25:06.830Z"
      },
      {
        "duration": 199797,
        "start_time": "2022-08-22T10:25:06.902Z"
      },
      {
        "duration": 5,
        "start_time": "2022-08-22T10:28:26.702Z"
      },
      {
        "duration": 35832,
        "start_time": "2022-08-22T10:28:26.708Z"
      },
      {
        "duration": 198,
        "start_time": "2022-08-22T11:26:37.273Z"
      },
      {
        "duration": 946,
        "start_time": "2022-08-22T11:26:39.454Z"
      },
      {
        "duration": 4,
        "start_time": "2022-08-22T11:26:40.403Z"
      },
      {
        "duration": 47,
        "start_time": "2022-08-22T11:26:40.410Z"
      },
      {
        "duration": 8,
        "start_time": "2022-08-22T11:26:44.759Z"
      },
      {
        "duration": 16,
        "start_time": "2022-08-22T11:26:44.769Z"
      },
      {
        "duration": 3,
        "start_time": "2022-08-22T11:26:47.320Z"
      },
      {
        "duration": 97622,
        "start_time": "2022-08-22T11:26:47.326Z"
      },
      {
        "duration": 5,
        "start_time": "2022-08-22T11:28:24.950Z"
      },
      {
        "duration": 44,
        "start_time": "2022-08-22T11:28:24.957Z"
      },
      {
        "duration": 7766,
        "start_time": "2022-08-22T11:28:25.003Z"
      },
      {
        "duration": 6,
        "start_time": "2022-08-22T11:28:32.771Z"
      },
      {
        "duration": 21,
        "start_time": "2022-08-22T11:28:32.779Z"
      },
      {
        "duration": 62,
        "start_time": "2022-08-22T11:28:32.802Z"
      },
      {
        "duration": 4,
        "start_time": "2022-08-22T11:28:32.866Z"
      },
      {
        "duration": 0,
        "start_time": "2022-08-22T11:28:32.871Z"
      },
      {
        "duration": 0,
        "start_time": "2022-08-22T11:28:32.872Z"
      },
      {
        "duration": 0,
        "start_time": "2022-08-22T11:28:32.874Z"
      },
      {
        "duration": 463406,
        "start_time": "2022-08-22T11:29:07.688Z"
      },
      {
        "duration": 7,
        "start_time": "2022-08-22T11:36:51.098Z"
      },
      {
        "duration": 48834,
        "start_time": "2022-08-22T11:36:51.107Z"
      },
      {
        "duration": 23,
        "start_time": "2022-08-22T11:37:39.944Z"
      },
      {
        "duration": 134749,
        "start_time": "2022-08-22T11:38:57.618Z"
      },
      {
        "duration": 5,
        "start_time": "2022-08-22T11:41:47.756Z"
      },
      {
        "duration": 50990,
        "start_time": "2022-08-22T11:42:54.697Z"
      },
      {
        "duration": 7,
        "start_time": "2022-08-22T11:44:01.772Z"
      },
      {
        "duration": 900,
        "start_time": "2022-08-22T11:44:01.782Z"
      },
      {
        "duration": 4,
        "start_time": "2022-08-22T11:44:02.687Z"
      },
      {
        "duration": 22,
        "start_time": "2022-08-22T11:44:02.692Z"
      },
      {
        "duration": 26,
        "start_time": "2022-08-22T11:44:02.717Z"
      },
      {
        "duration": 24,
        "start_time": "2022-08-22T11:44:02.745Z"
      },
      {
        "duration": 8,
        "start_time": "2022-08-22T11:44:02.771Z"
      },
      {
        "duration": 91023,
        "start_time": "2022-08-22T11:44:02.782Z"
      },
      {
        "duration": 2,
        "start_time": "2022-08-22T11:45:33.810Z"
      },
      {
        "duration": 25,
        "start_time": "2022-08-22T11:45:33.818Z"
      },
      {
        "duration": 7748,
        "start_time": "2022-08-22T11:45:33.845Z"
      },
      {
        "duration": 8,
        "start_time": "2022-08-22T11:45:41.600Z"
      },
      {
        "duration": 13,
        "start_time": "2022-08-22T11:45:41.610Z"
      },
      {
        "duration": 55,
        "start_time": "2022-08-22T11:45:41.626Z"
      },
      {
        "duration": 513106,
        "start_time": "2022-08-22T11:45:41.683Z"
      },
      {
        "duration": 7,
        "start_time": "2022-08-22T11:54:14.791Z"
      },
      {
        "duration": 43204,
        "start_time": "2022-08-22T11:54:14.800Z"
      },
      {
        "duration": 101355,
        "start_time": "2022-08-22T11:54:58.006Z"
      },
      {
        "duration": 4,
        "start_time": "2022-08-22T11:56:39.362Z"
      },
      {
        "duration": 1891,
        "start_time": "2022-08-22T11:56:39.367Z"
      },
      {
        "duration": 76625,
        "start_time": "2022-08-22T11:59:32.163Z"
      },
      {
        "duration": 4,
        "start_time": "2022-08-22T12:00:48.789Z"
      },
      {
        "duration": 7023,
        "start_time": "2022-08-22T12:00:48.795Z"
      },
      {
        "duration": 45917,
        "start_time": "2022-08-22T12:56:03.311Z"
      },
      {
        "duration": 8109,
        "start_time": "2022-08-22T12:59:05.876Z"
      },
      {
        "duration": 1926,
        "start_time": "2022-08-24T09:40:49.430Z"
      },
      {
        "duration": 2243,
        "start_time": "2022-08-24T09:40:51.359Z"
      },
      {
        "duration": 3,
        "start_time": "2022-08-24T09:40:53.603Z"
      },
      {
        "duration": 19,
        "start_time": "2022-08-24T09:40:53.607Z"
      },
      {
        "duration": 13,
        "start_time": "2022-08-24T09:40:53.627Z"
      },
      {
        "duration": 13,
        "start_time": "2022-08-24T09:40:53.642Z"
      },
      {
        "duration": 4,
        "start_time": "2022-08-24T09:40:53.656Z"
      },
      {
        "duration": 74243,
        "start_time": "2022-08-24T09:40:53.661Z"
      },
      {
        "duration": 4,
        "start_time": "2022-08-24T09:42:07.905Z"
      },
      {
        "duration": 4,
        "start_time": "2022-08-24T09:42:07.911Z"
      },
      {
        "duration": 6035,
        "start_time": "2022-08-24T09:42:07.916Z"
      },
      {
        "duration": 4,
        "start_time": "2022-08-24T09:42:13.953Z"
      },
      {
        "duration": 6,
        "start_time": "2022-08-24T09:42:13.958Z"
      },
      {
        "duration": 58,
        "start_time": "2022-08-24T09:42:13.966Z"
      },
      {
        "duration": 190,
        "start_time": "2022-08-24T09:42:14.025Z"
      },
      {
        "duration": 0,
        "start_time": "2022-08-24T09:42:14.217Z"
      },
      {
        "duration": 0,
        "start_time": "2022-08-24T09:42:14.218Z"
      },
      {
        "duration": 0,
        "start_time": "2022-08-24T09:42:14.220Z"
      },
      {
        "duration": 0,
        "start_time": "2022-08-24T09:42:14.221Z"
      },
      {
        "duration": 0,
        "start_time": "2022-08-24T09:42:14.222Z"
      },
      {
        "duration": 7,
        "start_time": "2022-08-24T09:43:31.513Z"
      },
      {
        "duration": 718,
        "start_time": "2022-08-24T09:43:31.522Z"
      },
      {
        "duration": 3,
        "start_time": "2022-08-24T09:43:32.242Z"
      },
      {
        "duration": 11,
        "start_time": "2022-08-24T09:43:32.247Z"
      },
      {
        "duration": 28,
        "start_time": "2022-08-24T09:43:32.261Z"
      },
      {
        "duration": 15,
        "start_time": "2022-08-24T09:43:32.292Z"
      },
      {
        "duration": 4,
        "start_time": "2022-08-24T09:43:32.309Z"
      },
      {
        "duration": 73318,
        "start_time": "2022-08-24T09:43:32.315Z"
      },
      {
        "duration": 3,
        "start_time": "2022-08-24T09:44:45.635Z"
      },
      {
        "duration": 19,
        "start_time": "2022-08-24T09:44:45.640Z"
      },
      {
        "duration": 6193,
        "start_time": "2022-08-24T09:44:45.661Z"
      },
      {
        "duration": 4,
        "start_time": "2022-08-24T09:44:51.856Z"
      },
      {
        "duration": 20,
        "start_time": "2022-08-24T09:44:51.863Z"
      },
      {
        "duration": 60,
        "start_time": "2022-08-24T09:44:51.885Z"
      },
      {
        "duration": 187,
        "start_time": "2022-08-24T09:44:51.947Z"
      },
      {
        "duration": 0,
        "start_time": "2022-08-24T09:44:52.136Z"
      },
      {
        "duration": 0,
        "start_time": "2022-08-24T09:44:52.137Z"
      },
      {
        "duration": 0,
        "start_time": "2022-08-24T09:44:52.138Z"
      },
      {
        "duration": 0,
        "start_time": "2022-08-24T09:44:52.139Z"
      },
      {
        "duration": 0,
        "start_time": "2022-08-24T09:44:52.140Z"
      },
      {
        "duration": 45,
        "start_time": "2022-08-24T09:45:31.269Z"
      },
      {
        "duration": 65,
        "start_time": "2022-08-24T09:45:43.433Z"
      },
      {
        "duration": 42,
        "start_time": "2022-08-24T09:46:03.058Z"
      },
      {
        "duration": 67,
        "start_time": "2022-08-24T09:46:30.324Z"
      },
      {
        "duration": 47,
        "start_time": "2022-08-24T09:46:49.394Z"
      },
      {
        "duration": 77,
        "start_time": "2022-08-24T09:47:07.746Z"
      },
      {
        "duration": 33,
        "start_time": "2022-08-24T09:49:24.247Z"
      },
      {
        "duration": 13,
        "start_time": "2022-08-24T09:49:51.576Z"
      },
      {
        "duration": 14,
        "start_time": "2022-08-24T09:50:17.671Z"
      },
      {
        "duration": 192,
        "start_time": "2022-08-24T09:52:55.874Z"
      },
      {
        "duration": 217,
        "start_time": "2022-08-24T09:53:32.893Z"
      },
      {
        "duration": 41,
        "start_time": "2022-08-24T09:53:49.201Z"
      },
      {
        "duration": 32,
        "start_time": "2022-08-24T09:54:27.791Z"
      },
      {
        "duration": 10,
        "start_time": "2022-08-24T09:54:37.069Z"
      },
      {
        "duration": 25,
        "start_time": "2022-08-24T09:54:49.812Z"
      },
      {
        "duration": 30,
        "start_time": "2022-08-24T09:54:57.102Z"
      },
      {
        "duration": 16,
        "start_time": "2022-08-24T09:54:57.545Z"
      },
      {
        "duration": 26,
        "start_time": "2022-08-24T09:55:09.493Z"
      },
      {
        "duration": 14,
        "start_time": "2022-08-24T09:55:10.073Z"
      },
      {
        "duration": 62,
        "start_time": "2022-08-24T09:56:06.765Z"
      },
      {
        "duration": 19,
        "start_time": "2022-08-24T09:56:12.440Z"
      },
      {
        "duration": 7,
        "start_time": "2022-08-24T09:56:14.006Z"
      },
      {
        "duration": 7,
        "start_time": "2022-08-24T09:56:25.357Z"
      },
      {
        "duration": 8,
        "start_time": "2022-08-24T09:56:31.040Z"
      },
      {
        "duration": 5,
        "start_time": "2022-08-24T09:56:38.330Z"
      },
      {
        "duration": 6,
        "start_time": "2022-08-24T09:56:40.143Z"
      },
      {
        "duration": 6,
        "start_time": "2022-08-24T09:56:45.764Z"
      },
      {
        "duration": 5,
        "start_time": "2022-08-24T09:57:04.775Z"
      },
      {
        "duration": 698,
        "start_time": "2022-08-24T09:57:04.781Z"
      },
      {
        "duration": 3,
        "start_time": "2022-08-24T09:57:05.481Z"
      },
      {
        "duration": 11,
        "start_time": "2022-08-24T09:57:05.487Z"
      },
      {
        "duration": 33,
        "start_time": "2022-08-24T09:57:05.500Z"
      },
      {
        "duration": 16,
        "start_time": "2022-08-24T09:57:05.534Z"
      },
      {
        "duration": 34,
        "start_time": "2022-08-24T09:57:05.551Z"
      },
      {
        "duration": 5,
        "start_time": "2022-08-24T09:57:05.586Z"
      },
      {
        "duration": 9,
        "start_time": "2022-08-24T09:57:05.598Z"
      },
      {
        "duration": 0,
        "start_time": "2022-08-24T09:57:05.608Z"
      },
      {
        "duration": 0,
        "start_time": "2022-08-24T09:57:05.609Z"
      },
      {
        "duration": 0,
        "start_time": "2022-08-24T09:57:05.610Z"
      },
      {
        "duration": 0,
        "start_time": "2022-08-24T09:57:05.611Z"
      },
      {
        "duration": 0,
        "start_time": "2022-08-24T09:57:05.612Z"
      },
      {
        "duration": 0,
        "start_time": "2022-08-24T09:57:05.613Z"
      },
      {
        "duration": 0,
        "start_time": "2022-08-24T09:57:05.613Z"
      },
      {
        "duration": 0,
        "start_time": "2022-08-24T09:57:05.614Z"
      },
      {
        "duration": 0,
        "start_time": "2022-08-24T09:57:05.615Z"
      },
      {
        "duration": 0,
        "start_time": "2022-08-24T09:57:05.616Z"
      },
      {
        "duration": 0,
        "start_time": "2022-08-24T09:57:05.616Z"
      },
      {
        "duration": 0,
        "start_time": "2022-08-24T09:57:05.617Z"
      },
      {
        "duration": 0,
        "start_time": "2022-08-24T09:57:05.618Z"
      },
      {
        "duration": 0,
        "start_time": "2022-08-24T09:57:05.619Z"
      },
      {
        "duration": 12,
        "start_time": "2022-08-24T10:33:14.584Z"
      },
      {
        "duration": 4,
        "start_time": "2022-08-24T10:33:25.724Z"
      },
      {
        "duration": 5,
        "start_time": "2022-08-24T10:33:27.848Z"
      },
      {
        "duration": 7,
        "start_time": "2022-08-24T10:33:32.499Z"
      },
      {
        "duration": 8,
        "start_time": "2022-08-24T10:33:59.496Z"
      },
      {
        "duration": 5,
        "start_time": "2022-08-24T10:34:36.397Z"
      },
      {
        "duration": 5,
        "start_time": "2022-08-24T10:34:42.798Z"
      },
      {
        "duration": 710,
        "start_time": "2022-08-24T10:34:43.267Z"
      },
      {
        "duration": 7,
        "start_time": "2022-08-24T10:34:43.978Z"
      },
      {
        "duration": 9,
        "start_time": "2022-08-24T10:34:46.032Z"
      },
      {
        "duration": 32,
        "start_time": "2022-08-24T10:34:49.253Z"
      },
      {
        "duration": 11,
        "start_time": "2022-08-24T10:34:52.155Z"
      },
      {
        "duration": 32,
        "start_time": "2022-08-24T10:35:08.794Z"
      },
      {
        "duration": 40,
        "start_time": "2022-08-24T10:35:31.855Z"
      },
      {
        "duration": 29,
        "start_time": "2022-08-24T10:35:31.896Z"
      },
      {
        "duration": 17,
        "start_time": "2022-08-24T10:36:55.850Z"
      },
      {
        "duration": 16,
        "start_time": "2022-08-24T10:37:09.557Z"
      },
      {
        "duration": 12,
        "start_time": "2022-08-24T10:37:43.562Z"
      },
      {
        "duration": 6,
        "start_time": "2022-08-24T10:37:54.963Z"
      },
      {
        "duration": 732,
        "start_time": "2022-08-24T10:37:59.800Z"
      },
      {
        "duration": 2,
        "start_time": "2022-08-24T10:38:00.534Z"
      },
      {
        "duration": 19,
        "start_time": "2022-08-24T10:38:00.538Z"
      },
      {
        "duration": 59,
        "start_time": "2022-08-24T10:38:00.559Z"
      },
      {
        "duration": 13,
        "start_time": "2022-08-24T10:38:05.868Z"
      },
      {
        "duration": 7,
        "start_time": "2022-08-24T10:38:24.076Z"
      },
      {
        "duration": 686,
        "start_time": "2022-08-24T10:38:29.456Z"
      },
      {
        "duration": 2,
        "start_time": "2022-08-24T10:38:31.261Z"
      },
      {
        "duration": 25,
        "start_time": "2022-08-24T10:38:31.265Z"
      },
      {
        "duration": 50,
        "start_time": "2022-08-24T10:38:31.292Z"
      },
      {
        "duration": 15,
        "start_time": "2022-08-24T10:38:32.154Z"
      },
      {
        "duration": 5,
        "start_time": "2022-08-24T10:38:34.781Z"
      },
      {
        "duration": 172,
        "start_time": "2022-08-24T10:56:38.454Z"
      },
      {
        "duration": 760,
        "start_time": "2022-08-24T10:56:39.321Z"
      },
      {
        "duration": 2,
        "start_time": "2022-08-24T10:56:42.084Z"
      },
      {
        "duration": 11,
        "start_time": "2022-08-24T10:56:42.764Z"
      },
      {
        "duration": 33,
        "start_time": "2022-08-24T10:56:46.309Z"
      },
      {
        "duration": 687,
        "start_time": "2022-08-24T10:58:12.994Z"
      },
      {
        "duration": 14,
        "start_time": "2022-08-24T10:58:21.622Z"
      },
      {
        "duration": 4,
        "start_time": "2022-08-24T11:00:39.456Z"
      },
      {
        "duration": 13,
        "start_time": "2022-08-24T11:00:40.002Z"
      },
      {
        "duration": 14,
        "start_time": "2022-08-24T11:01:48.780Z"
      },
      {
        "duration": 206,
        "start_time": "2022-08-24T13:24:58.920Z"
      },
      {
        "duration": 13,
        "start_time": "2022-08-24T13:24:59.128Z"
      },
      {
        "duration": 0,
        "start_time": "2022-08-24T13:24:59.143Z"
      },
      {
        "duration": 0,
        "start_time": "2022-08-24T13:24:59.144Z"
      },
      {
        "duration": 0,
        "start_time": "2022-08-24T13:24:59.145Z"
      },
      {
        "duration": 1,
        "start_time": "2022-08-24T13:24:59.146Z"
      },
      {
        "duration": 0,
        "start_time": "2022-08-24T13:24:59.147Z"
      },
      {
        "duration": 0,
        "start_time": "2022-08-24T13:24:59.148Z"
      },
      {
        "duration": 0,
        "start_time": "2022-08-24T13:24:59.149Z"
      },
      {
        "duration": 0,
        "start_time": "2022-08-24T13:24:59.150Z"
      },
      {
        "duration": 0,
        "start_time": "2022-08-24T13:24:59.151Z"
      },
      {
        "duration": 0,
        "start_time": "2022-08-24T13:24:59.152Z"
      },
      {
        "duration": 0,
        "start_time": "2022-08-24T13:24:59.153Z"
      },
      {
        "duration": 4,
        "start_time": "2022-08-24T13:24:59.202Z"
      },
      {
        "duration": 17,
        "start_time": "2022-08-24T13:24:59.208Z"
      },
      {
        "duration": 67,
        "start_time": "2022-08-24T13:24:59.227Z"
      },
      {
        "duration": 84,
        "start_time": "2022-08-24T13:24:59.295Z"
      },
      {
        "duration": 0,
        "start_time": "2022-08-24T13:24:59.381Z"
      },
      {
        "duration": 0,
        "start_time": "2022-08-24T13:24:59.382Z"
      },
      {
        "duration": 0,
        "start_time": "2022-08-24T13:24:59.383Z"
      },
      {
        "duration": 0,
        "start_time": "2022-08-24T13:24:59.384Z"
      },
      {
        "duration": 0,
        "start_time": "2022-08-24T13:24:59.386Z"
      },
      {
        "duration": 2243,
        "start_time": "2022-08-24T13:25:39.524Z"
      },
      {
        "duration": 3,
        "start_time": "2022-08-24T13:25:48.684Z"
      },
      {
        "duration": 9,
        "start_time": "2022-08-24T13:25:49.783Z"
      },
      {
        "duration": 30,
        "start_time": "2022-08-24T13:25:58.839Z"
      },
      {
        "duration": 16,
        "start_time": "2022-08-24T13:26:00.938Z"
      },
      {
        "duration": 5,
        "start_time": "2022-08-24T13:28:15.374Z"
      },
      {
        "duration": 756,
        "start_time": "2022-08-24T13:28:15.380Z"
      },
      {
        "duration": 3,
        "start_time": "2022-08-24T13:28:16.138Z"
      },
      {
        "duration": 12,
        "start_time": "2022-08-24T13:28:16.144Z"
      },
      {
        "duration": 44,
        "start_time": "2022-08-24T13:28:16.158Z"
      },
      {
        "duration": 17,
        "start_time": "2022-08-24T13:28:16.204Z"
      },
      {
        "duration": 5,
        "start_time": "2022-08-24T13:28:16.223Z"
      },
      {
        "duration": 4,
        "start_time": "2022-08-24T13:28:16.230Z"
      },
      {
        "duration": 5,
        "start_time": "2022-08-24T13:28:16.237Z"
      },
      {
        "duration": 1619,
        "start_time": "2022-08-24T13:28:16.244Z"
      },
      {
        "duration": 0,
        "start_time": "2022-08-24T13:28:17.865Z"
      },
      {
        "duration": 0,
        "start_time": "2022-08-24T13:28:17.866Z"
      },
      {
        "duration": 0,
        "start_time": "2022-08-24T13:28:17.867Z"
      },
      {
        "duration": 0,
        "start_time": "2022-08-24T13:28:17.868Z"
      },
      {
        "duration": 0,
        "start_time": "2022-08-24T13:28:17.869Z"
      },
      {
        "duration": 0,
        "start_time": "2022-08-24T13:28:17.871Z"
      },
      {
        "duration": 0,
        "start_time": "2022-08-24T13:28:17.871Z"
      },
      {
        "duration": 0,
        "start_time": "2022-08-24T13:28:17.872Z"
      },
      {
        "duration": 0,
        "start_time": "2022-08-24T13:28:17.873Z"
      },
      {
        "duration": 0,
        "start_time": "2022-08-24T13:28:17.875Z"
      },
      {
        "duration": 0,
        "start_time": "2022-08-24T13:28:17.876Z"
      },
      {
        "duration": 0,
        "start_time": "2022-08-24T13:28:17.877Z"
      },
      {
        "duration": 9,
        "start_time": "2022-08-24T13:30:06.040Z"
      },
      {
        "duration": 6,
        "start_time": "2022-08-24T13:30:10.147Z"
      },
      {
        "duration": 5,
        "start_time": "2022-08-24T13:30:15.328Z"
      },
      {
        "duration": 786,
        "start_time": "2022-08-24T13:30:15.335Z"
      },
      {
        "duration": 3,
        "start_time": "2022-08-24T13:30:16.122Z"
      },
      {
        "duration": 14,
        "start_time": "2022-08-24T13:30:16.127Z"
      },
      {
        "duration": 43,
        "start_time": "2022-08-24T13:30:16.143Z"
      },
      {
        "duration": 6,
        "start_time": "2022-08-24T13:30:16.188Z"
      },
      {
        "duration": 6,
        "start_time": "2022-08-24T13:30:16.195Z"
      },
      {
        "duration": 11,
        "start_time": "2022-08-24T13:30:16.203Z"
      },
      {
        "duration": 3,
        "start_time": "2022-08-24T13:30:16.218Z"
      },
      {
        "duration": 73546,
        "start_time": "2022-08-24T13:30:16.223Z"
      },
      {
        "duration": 3,
        "start_time": "2022-08-24T13:31:29.770Z"
      },
      {
        "duration": 16,
        "start_time": "2022-08-24T13:31:29.785Z"
      },
      {
        "duration": 6362,
        "start_time": "2022-08-24T13:31:29.803Z"
      },
      {
        "duration": 4,
        "start_time": "2022-08-24T13:31:36.166Z"
      },
      {
        "duration": 28,
        "start_time": "2022-08-24T13:31:36.171Z"
      },
      {
        "duration": 46,
        "start_time": "2022-08-24T13:31:36.201Z"
      },
      {
        "duration": 419141,
        "start_time": "2022-08-24T13:31:36.249Z"
      },
      {
        "duration": 94,
        "start_time": "2022-08-24T13:38:35.391Z"
      },
      {
        "duration": 40732,
        "start_time": "2022-08-24T13:38:35.487Z"
      },
      {
        "duration": 58263,
        "start_time": "2022-08-24T13:39:16.220Z"
      },
      {
        "duration": 4,
        "start_time": "2022-08-24T13:40:14.485Z"
      },
      {
        "duration": 1677,
        "start_time": "2022-08-24T13:40:14.491Z"
      },
      {
        "duration": 73028,
        "start_time": "2022-08-24T13:40:48.260Z"
      },
      {
        "duration": 4,
        "start_time": "2022-08-24T13:42:01.291Z"
      },
      {
        "duration": 3609,
        "start_time": "2022-08-24T13:42:01.296Z"
      },
      {
        "duration": 51124,
        "start_time": "2022-08-24T13:42:04.907Z"
      },
      {
        "duration": 4,
        "start_time": "2022-08-24T13:42:56.032Z"
      },
      {
        "duration": 3006,
        "start_time": "2022-08-24T13:42:56.038Z"
      },
      {
        "duration": 5,
        "start_time": "2022-08-24T13:43:16.608Z"
      },
      {
        "duration": 759,
        "start_time": "2022-08-24T13:43:16.614Z"
      },
      {
        "duration": 2,
        "start_time": "2022-08-24T13:43:17.375Z"
      },
      {
        "duration": 11,
        "start_time": "2022-08-24T13:43:17.384Z"
      },
      {
        "duration": 34,
        "start_time": "2022-08-24T13:43:17.396Z"
      },
      {
        "duration": 9,
        "start_time": "2022-08-24T13:43:17.432Z"
      },
      {
        "duration": 7,
        "start_time": "2022-08-24T13:43:17.444Z"
      },
      {
        "duration": 3,
        "start_time": "2022-08-24T13:43:17.453Z"
      },
      {
        "duration": 74078,
        "start_time": "2022-08-24T13:43:17.485Z"
      },
      {
        "duration": 2,
        "start_time": "2022-08-24T13:44:31.565Z"
      },
      {
        "duration": 27,
        "start_time": "2022-08-24T13:44:31.569Z"
      },
      {
        "duration": 6519,
        "start_time": "2022-08-24T13:44:31.597Z"
      },
      {
        "duration": 4,
        "start_time": "2022-08-24T13:44:38.118Z"
      },
      {
        "duration": 13,
        "start_time": "2022-08-24T13:44:38.124Z"
      },
      {
        "duration": 51,
        "start_time": "2022-08-24T13:44:38.138Z"
      },
      {
        "duration": 661004,
        "start_time": "2022-08-24T13:44:38.191Z"
      },
      {
        "duration": 4,
        "start_time": "2022-08-24T13:55:39.196Z"
      },
      {
        "duration": 79926,
        "start_time": "2022-08-24T13:55:39.202Z"
      },
      {
        "duration": 44058,
        "start_time": "2022-08-24T13:56:59.129Z"
      },
      {
        "duration": 3,
        "start_time": "2022-08-24T13:57:43.189Z"
      },
      {
        "duration": 1358,
        "start_time": "2022-08-24T13:57:43.194Z"
      },
      {
        "duration": 234,
        "start_time": "2022-08-24T14:27:32.891Z"
      },
      {
        "duration": 703,
        "start_time": "2022-08-24T14:27:33.126Z"
      },
      {
        "duration": 3,
        "start_time": "2022-08-24T14:27:33.830Z"
      },
      {
        "duration": 11,
        "start_time": "2022-08-24T14:27:33.835Z"
      },
      {
        "duration": 40,
        "start_time": "2022-08-24T14:27:33.847Z"
      },
      {
        "duration": 5,
        "start_time": "2022-08-24T14:27:33.889Z"
      },
      {
        "duration": 7,
        "start_time": "2022-08-24T14:27:33.895Z"
      },
      {
        "duration": 3,
        "start_time": "2022-08-24T14:27:33.903Z"
      },
      {
        "duration": 73520,
        "start_time": "2022-08-24T14:27:33.908Z"
      },
      {
        "duration": 3,
        "start_time": "2022-08-24T14:28:47.429Z"
      },
      {
        "duration": 21,
        "start_time": "2022-08-24T14:28:47.434Z"
      },
      {
        "duration": 6180,
        "start_time": "2022-08-24T14:28:47.457Z"
      },
      {
        "duration": 4,
        "start_time": "2022-08-24T14:28:53.639Z"
      },
      {
        "duration": 7,
        "start_time": "2022-08-24T14:28:53.644Z"
      },
      {
        "duration": 46,
        "start_time": "2022-08-24T14:28:53.652Z"
      },
      {
        "duration": 0,
        "start_time": "2022-08-24T14:42:19.892Z"
      },
      {
        "duration": 0,
        "start_time": "2022-08-24T14:42:19.893Z"
      },
      {
        "duration": 0,
        "start_time": "2022-08-24T14:42:19.894Z"
      },
      {
        "duration": 0,
        "start_time": "2022-08-24T14:42:19.895Z"
      },
      {
        "duration": 0,
        "start_time": "2022-08-24T14:42:19.896Z"
      },
      {
        "duration": 0,
        "start_time": "2022-08-24T14:42:19.897Z"
      },
      {
        "duration": 0,
        "start_time": "2022-08-24T14:42:19.899Z"
      },
      {
        "duration": 0,
        "start_time": "2022-08-24T14:42:19.900Z"
      },
      {
        "duration": 0,
        "start_time": "2022-08-24T14:42:19.901Z"
      },
      {
        "duration": 0,
        "start_time": "2022-08-24T14:42:19.902Z"
      },
      {
        "duration": 0,
        "start_time": "2022-08-24T14:42:19.903Z"
      },
      {
        "duration": 0,
        "start_time": "2022-08-24T14:42:19.904Z"
      },
      {
        "duration": 0,
        "start_time": "2022-08-24T14:42:19.905Z"
      },
      {
        "duration": 0,
        "start_time": "2022-08-24T14:42:19.906Z"
      },
      {
        "duration": 0,
        "start_time": "2022-08-24T14:42:19.907Z"
      },
      {
        "duration": 0,
        "start_time": "2022-08-24T14:42:19.908Z"
      },
      {
        "duration": 0,
        "start_time": "2022-08-24T14:42:19.909Z"
      },
      {
        "duration": 0,
        "start_time": "2022-08-24T14:42:19.910Z"
      },
      {
        "duration": 0,
        "start_time": "2022-08-24T14:42:19.912Z"
      },
      {
        "duration": 0,
        "start_time": "2022-08-24T14:42:19.913Z"
      },
      {
        "duration": 6,
        "start_time": "2022-08-24T14:42:25.976Z"
      },
      {
        "duration": 698,
        "start_time": "2022-08-24T14:42:25.984Z"
      },
      {
        "duration": 3,
        "start_time": "2022-08-24T14:42:26.684Z"
      },
      {
        "duration": 12,
        "start_time": "2022-08-24T14:42:26.688Z"
      },
      {
        "duration": 29,
        "start_time": "2022-08-24T14:42:26.701Z"
      },
      {
        "duration": 5,
        "start_time": "2022-08-24T14:42:26.731Z"
      },
      {
        "duration": 9,
        "start_time": "2022-08-24T14:42:26.737Z"
      },
      {
        "duration": 3,
        "start_time": "2022-08-24T14:42:26.747Z"
      },
      {
        "duration": 72727,
        "start_time": "2022-08-24T14:42:26.752Z"
      },
      {
        "duration": 4,
        "start_time": "2022-08-24T14:43:39.482Z"
      },
      {
        "duration": 17,
        "start_time": "2022-08-24T14:43:39.487Z"
      },
      {
        "duration": 99,
        "start_time": "2022-08-24T14:43:39.505Z"
      },
      {
        "duration": 0,
        "start_time": "2022-08-24T14:43:39.606Z"
      },
      {
        "duration": 0,
        "start_time": "2022-08-24T14:43:39.607Z"
      },
      {
        "duration": 0,
        "start_time": "2022-08-24T14:43:39.608Z"
      },
      {
        "duration": 0,
        "start_time": "2022-08-24T14:43:39.610Z"
      },
      {
        "duration": 0,
        "start_time": "2022-08-24T14:43:39.611Z"
      },
      {
        "duration": 0,
        "start_time": "2022-08-24T14:43:39.612Z"
      },
      {
        "duration": 0,
        "start_time": "2022-08-24T14:43:39.613Z"
      },
      {
        "duration": 0,
        "start_time": "2022-08-24T14:43:39.614Z"
      },
      {
        "duration": 87,
        "start_time": "2022-08-24T14:44:15.102Z"
      },
      {
        "duration": 15,
        "start_time": "2022-08-24T14:44:17.004Z"
      },
      {
        "duration": 6130,
        "start_time": "2022-08-24T14:44:17.806Z"
      },
      {
        "duration": 431648,
        "start_time": "2022-08-24T14:44:23.938Z"
      },
      {
        "duration": 4,
        "start_time": "2022-08-24T14:51:35.590Z"
      },
      {
        "duration": 41811,
        "start_time": "2022-08-24T14:51:35.597Z"
      },
      {
        "duration": 337894,
        "start_time": "2022-08-24T14:52:17.411Z"
      },
      {
        "duration": 3,
        "start_time": "2022-08-24T14:57:55.307Z"
      },
      {
        "duration": 1002,
        "start_time": "2022-08-24T14:57:55.312Z"
      },
      {
        "duration": 4,
        "start_time": "2022-08-24T14:58:25.934Z"
      },
      {
        "duration": 691,
        "start_time": "2022-08-24T14:58:25.940Z"
      },
      {
        "duration": 2,
        "start_time": "2022-08-24T14:58:26.633Z"
      },
      {
        "duration": 31,
        "start_time": "2022-08-24T14:58:26.636Z"
      },
      {
        "duration": 38,
        "start_time": "2022-08-24T14:58:26.669Z"
      },
      {
        "duration": 11,
        "start_time": "2022-08-24T14:58:26.708Z"
      },
      {
        "duration": 15,
        "start_time": "2022-08-24T14:58:26.720Z"
      },
      {
        "duration": 10,
        "start_time": "2022-08-24T14:58:26.736Z"
      },
      {
        "duration": 73350,
        "start_time": "2022-08-24T14:58:26.747Z"
      },
      {
        "duration": 3,
        "start_time": "2022-08-24T14:59:40.099Z"
      },
      {
        "duration": 7,
        "start_time": "2022-08-24T14:59:40.104Z"
      },
      {
        "duration": 108,
        "start_time": "2022-08-24T14:59:40.113Z"
      },
      {
        "duration": 13,
        "start_time": "2022-08-24T14:59:40.223Z"
      },
      {
        "duration": 6318,
        "start_time": "2022-08-24T14:59:40.238Z"
      },
      {
        "duration": 2325528,
        "start_time": "2022-08-24T14:59:46.558Z"
      },
      {
        "duration": 95,
        "start_time": "2022-08-24T15:38:32.091Z"
      },
      {
        "duration": 44417,
        "start_time": "2022-08-24T15:38:32.187Z"
      },
      {
        "duration": 430559,
        "start_time": "2022-08-24T15:39:16.607Z"
      },
      {
        "duration": 4,
        "start_time": "2022-08-24T15:46:27.167Z"
      },
      {
        "duration": 2094,
        "start_time": "2022-08-24T15:46:27.173Z"
      },
      {
        "duration": 1003155,
        "start_time": "2022-08-24T15:47:02.389Z"
      },
      {
        "duration": 4,
        "start_time": "2022-08-24T16:03:45.546Z"
      },
      {
        "duration": 16594,
        "start_time": "2022-08-24T16:03:45.551Z"
      },
      {
        "duration": 2287,
        "start_time": "2022-08-25T09:52:02.671Z"
      },
      {
        "duration": 2675,
        "start_time": "2022-08-25T09:52:04.960Z"
      },
      {
        "duration": 2,
        "start_time": "2022-08-25T09:52:07.637Z"
      },
      {
        "duration": 35,
        "start_time": "2022-08-25T09:52:07.641Z"
      },
      {
        "duration": 39,
        "start_time": "2022-08-25T09:52:07.677Z"
      },
      {
        "duration": 6,
        "start_time": "2022-08-25T09:52:07.718Z"
      },
      {
        "duration": 24,
        "start_time": "2022-08-25T09:52:07.726Z"
      },
      {
        "duration": 6,
        "start_time": "2022-08-25T09:52:07.752Z"
      },
      {
        "duration": 79614,
        "start_time": "2022-08-25T09:52:07.760Z"
      },
      {
        "duration": 3,
        "start_time": "2022-08-25T09:53:27.377Z"
      },
      {
        "duration": 18,
        "start_time": "2022-08-25T09:53:27.382Z"
      },
      {
        "duration": 113,
        "start_time": "2022-08-25T09:53:27.401Z"
      },
      {
        "duration": 2,
        "start_time": "2022-08-25T09:53:27.516Z"
      },
      {
        "duration": 6740,
        "start_time": "2022-08-25T09:53:27.520Z"
      },
      {
        "duration": 2795539,
        "start_time": "2022-08-25T09:53:34.262Z"
      },
      {
        "duration": 5,
        "start_time": "2022-08-25T10:40:09.804Z"
      },
      {
        "duration": 36608,
        "start_time": "2022-08-25T10:40:09.811Z"
      },
      {
        "duration": 82158,
        "start_time": "2022-08-25T10:40:46.421Z"
      },
      {
        "duration": 0,
        "start_time": "2022-08-25T10:42:08.582Z"
      },
      {
        "duration": 0,
        "start_time": "2022-08-25T10:42:08.583Z"
      },
      {
        "duration": 0,
        "start_time": "2022-08-25T10:42:08.584Z"
      },
      {
        "duration": 0,
        "start_time": "2022-08-25T10:42:08.586Z"
      },
      {
        "duration": 0,
        "start_time": "2022-08-25T10:42:08.588Z"
      },
      {
        "duration": 6,
        "start_time": "2022-08-25T10:42:17.573Z"
      },
      {
        "duration": 784,
        "start_time": "2022-08-25T10:42:17.582Z"
      },
      {
        "duration": 4,
        "start_time": "2022-08-25T10:42:18.368Z"
      },
      {
        "duration": 15,
        "start_time": "2022-08-25T10:42:18.373Z"
      },
      {
        "duration": 39,
        "start_time": "2022-08-25T10:42:18.399Z"
      },
      {
        "duration": 8,
        "start_time": "2022-08-25T10:42:18.441Z"
      },
      {
        "duration": 10,
        "start_time": "2022-08-25T10:42:18.451Z"
      },
      {
        "duration": 5,
        "start_time": "2022-08-25T10:42:18.463Z"
      },
      {
        "duration": 77287,
        "start_time": "2022-08-25T10:42:18.470Z"
      },
      {
        "duration": 3,
        "start_time": "2022-08-25T10:43:35.758Z"
      },
      {
        "duration": 20,
        "start_time": "2022-08-25T10:43:35.764Z"
      },
      {
        "duration": 132,
        "start_time": "2022-08-25T10:43:35.794Z"
      },
      {
        "duration": 18,
        "start_time": "2022-08-25T10:43:35.927Z"
      },
      {
        "duration": 6720,
        "start_time": "2022-08-25T10:43:35.947Z"
      },
      {
        "duration": 12,
        "start_time": "2022-08-25T10:43:42.670Z"
      },
      {
        "duration": 0,
        "start_time": "2022-08-25T10:43:42.684Z"
      },
      {
        "duration": 0,
        "start_time": "2022-08-25T10:43:42.685Z"
      },
      {
        "duration": 0,
        "start_time": "2022-08-25T10:43:42.686Z"
      },
      {
        "duration": 0,
        "start_time": "2022-08-25T10:43:42.700Z"
      },
      {
        "duration": 0,
        "start_time": "2022-08-25T10:43:42.702Z"
      },
      {
        "duration": 0,
        "start_time": "2022-08-25T10:43:42.703Z"
      },
      {
        "duration": 0,
        "start_time": "2022-08-25T10:43:42.704Z"
      },
      {
        "duration": 0,
        "start_time": "2022-08-25T10:43:42.705Z"
      },
      {
        "duration": 6,
        "start_time": "2022-08-25T10:44:29.148Z"
      },
      {
        "duration": 7067824,
        "start_time": "2022-08-25T10:44:34.820Z"
      },
      {
        "duration": 0,
        "start_time": "2022-08-25T12:42:22.647Z"
      },
      {
        "duration": 0,
        "start_time": "2022-08-25T12:42:22.649Z"
      },
      {
        "duration": 0,
        "start_time": "2022-08-25T12:42:22.651Z"
      },
      {
        "duration": 0,
        "start_time": "2022-08-25T12:42:22.652Z"
      },
      {
        "duration": 0,
        "start_time": "2022-08-25T12:42:22.654Z"
      },
      {
        "duration": 0,
        "start_time": "2022-08-25T12:42:22.655Z"
      },
      {
        "duration": 0,
        "start_time": "2022-08-25T12:42:22.657Z"
      },
      {
        "duration": 0,
        "start_time": "2022-08-25T12:42:22.658Z"
      },
      {
        "duration": 234,
        "start_time": "2022-08-25T12:42:40.713Z"
      },
      {
        "duration": 813,
        "start_time": "2022-08-25T12:42:40.949Z"
      },
      {
        "duration": 3,
        "start_time": "2022-08-25T12:42:41.764Z"
      },
      {
        "duration": 14,
        "start_time": "2022-08-25T12:42:41.768Z"
      },
      {
        "duration": 47,
        "start_time": "2022-08-25T12:42:41.783Z"
      },
      {
        "duration": 6,
        "start_time": "2022-08-25T12:42:41.831Z"
      },
      {
        "duration": 9,
        "start_time": "2022-08-25T12:42:41.839Z"
      },
      {
        "duration": 3,
        "start_time": "2022-08-25T12:42:41.850Z"
      },
      {
        "duration": 85229,
        "start_time": "2022-08-25T12:42:41.854Z"
      },
      {
        "duration": 24,
        "start_time": "2022-08-25T12:44:07.086Z"
      },
      {
        "duration": 9,
        "start_time": "2022-08-25T12:44:07.112Z"
      },
      {
        "duration": 113,
        "start_time": "2022-08-25T12:44:07.123Z"
      },
      {
        "duration": 16,
        "start_time": "2022-08-25T12:44:07.238Z"
      },
      {
        "duration": 7541,
        "start_time": "2022-08-25T12:44:07.256Z"
      },
      {
        "duration": 11,
        "start_time": "2022-08-25T12:44:14.801Z"
      },
      {
        "duration": 112314,
        "start_time": "2022-08-25T12:44:14.813Z"
      },
      {
        "duration": 0,
        "start_time": "2022-08-25T12:46:07.129Z"
      },
      {
        "duration": 0,
        "start_time": "2022-08-25T12:46:07.131Z"
      },
      {
        "duration": 0,
        "start_time": "2022-08-25T12:46:07.132Z"
      },
      {
        "duration": 0,
        "start_time": "2022-08-25T12:46:07.133Z"
      },
      {
        "duration": 0,
        "start_time": "2022-08-25T12:46:07.134Z"
      },
      {
        "duration": 0,
        "start_time": "2022-08-25T12:46:07.135Z"
      },
      {
        "duration": 0,
        "start_time": "2022-08-25T12:46:07.136Z"
      },
      {
        "duration": 0,
        "start_time": "2022-08-25T12:46:07.137Z"
      },
      {
        "duration": 7,
        "start_time": "2022-08-25T12:46:16.818Z"
      },
      {
        "duration": 960,
        "start_time": "2022-08-25T12:46:16.827Z"
      },
      {
        "duration": 3,
        "start_time": "2022-08-25T12:46:17.789Z"
      },
      {
        "duration": 31,
        "start_time": "2022-08-25T12:46:17.793Z"
      },
      {
        "duration": 38,
        "start_time": "2022-08-25T12:46:17.828Z"
      },
      {
        "duration": 6,
        "start_time": "2022-08-25T12:46:17.868Z"
      },
      {
        "duration": 11,
        "start_time": "2022-08-25T12:46:17.876Z"
      },
      {
        "duration": 7,
        "start_time": "2022-08-25T12:46:17.900Z"
      },
      {
        "duration": 85234,
        "start_time": "2022-08-25T12:46:17.909Z"
      },
      {
        "duration": 4,
        "start_time": "2022-08-25T12:47:43.144Z"
      },
      {
        "duration": 9,
        "start_time": "2022-08-25T12:47:43.149Z"
      },
      {
        "duration": 128,
        "start_time": "2022-08-25T12:47:43.160Z"
      },
      {
        "duration": 21,
        "start_time": "2022-08-25T12:47:43.290Z"
      },
      {
        "duration": 7199,
        "start_time": "2022-08-25T12:47:43.319Z"
      },
      {
        "duration": 4,
        "start_time": "2022-08-25T12:47:50.520Z"
      },
      {
        "duration": 6180383,
        "start_time": "2022-08-25T12:47:50.525Z"
      },
      {
        "duration": 8,
        "start_time": "2022-08-25T14:30:50.920Z"
      },
      {
        "duration": 155900,
        "start_time": "2022-08-25T14:30:50.930Z"
      },
      {
        "duration": 688105,
        "start_time": "2022-08-25T14:33:26.832Z"
      },
      {
        "duration": 5,
        "start_time": "2022-08-25T14:44:54.939Z"
      },
      {
        "duration": 19,
        "start_time": "2022-08-25T14:44:54.945Z"
      },
      {
        "duration": 0,
        "start_time": "2022-08-25T14:44:54.965Z"
      },
      {
        "duration": 0,
        "start_time": "2022-08-25T14:44:54.967Z"
      },
      {
        "duration": 0,
        "start_time": "2022-08-25T14:44:54.968Z"
      },
      {
        "duration": 12312,
        "start_time": "2022-08-25T14:59:12.985Z"
      },
      {
        "duration": 11,
        "start_time": "2022-08-25T14:59:25.298Z"
      },
      {
        "duration": 0,
        "start_time": "2022-08-25T14:59:25.310Z"
      },
      {
        "duration": 0,
        "start_time": "2022-08-25T14:59:25.311Z"
      },
      {
        "duration": 176,
        "start_time": "2022-08-25T15:00:31.070Z"
      },
      {
        "duration": 11,
        "start_time": "2022-08-25T15:00:42.082Z"
      },
      {
        "duration": 191075,
        "start_time": "2022-08-25T15:01:16.521Z"
      },
      {
        "duration": 4,
        "start_time": "2022-08-25T15:04:27.599Z"
      },
      {
        "duration": 1382,
        "start_time": "2022-08-25T15:04:27.604Z"
      },
      {
        "duration": 77,
        "start_time": "2022-08-25T15:09:13.411Z"
      },
      {
        "duration": 13,
        "start_time": "2022-08-25T15:12:46.554Z"
      },
      {
        "duration": 46,
        "start_time": "2022-08-25T15:13:43.592Z"
      },
      {
        "duration": 1786,
        "start_time": "2022-08-25T15:13:49.942Z"
      },
      {
        "duration": 2562,
        "start_time": "2022-08-25T15:13:51.730Z"
      },
      {
        "duration": 3,
        "start_time": "2022-08-25T15:13:54.294Z"
      },
      {
        "duration": 22,
        "start_time": "2022-08-25T15:13:54.298Z"
      },
      {
        "duration": 41,
        "start_time": "2022-08-25T15:13:54.321Z"
      },
      {
        "duration": 6,
        "start_time": "2022-08-25T15:13:54.364Z"
      },
      {
        "duration": 9,
        "start_time": "2022-08-25T15:13:54.371Z"
      },
      {
        "duration": 2,
        "start_time": "2022-08-25T15:13:54.382Z"
      },
      {
        "duration": 80299,
        "start_time": "2022-08-25T15:13:54.399Z"
      },
      {
        "duration": 7,
        "start_time": "2022-08-25T15:15:14.701Z"
      },
      {
        "duration": 6,
        "start_time": "2022-08-25T15:15:14.710Z"
      },
      {
        "duration": 122,
        "start_time": "2022-08-25T15:15:14.718Z"
      },
      {
        "duration": 3,
        "start_time": "2022-08-25T15:15:14.841Z"
      },
      {
        "duration": 6632,
        "start_time": "2022-08-25T15:15:14.846Z"
      },
      {
        "duration": 3,
        "start_time": "2022-08-25T15:15:21.481Z"
      },
      {
        "duration": 1926,
        "start_time": "2022-08-26T07:12:50.829Z"
      },
      {
        "duration": 3239,
        "start_time": "2022-08-26T07:12:52.757Z"
      },
      {
        "duration": 3,
        "start_time": "2022-08-26T07:12:55.997Z"
      },
      {
        "duration": 47,
        "start_time": "2022-08-26T07:12:56.002Z"
      },
      {
        "duration": 50,
        "start_time": "2022-08-26T07:12:56.051Z"
      },
      {
        "duration": 56,
        "start_time": "2022-08-26T07:12:56.102Z"
      },
      {
        "duration": 129,
        "start_time": "2022-08-26T07:12:56.160Z"
      },
      {
        "duration": 29,
        "start_time": "2022-08-26T07:12:56.290Z"
      },
      {
        "duration": 83556,
        "start_time": "2022-08-26T07:12:56.321Z"
      },
      {
        "duration": 5,
        "start_time": "2022-08-26T07:14:19.882Z"
      },
      {
        "duration": 8,
        "start_time": "2022-08-26T07:14:19.889Z"
      },
      {
        "duration": 119,
        "start_time": "2022-08-26T07:14:19.900Z"
      },
      {
        "duration": 3,
        "start_time": "2022-08-26T07:14:20.020Z"
      },
      {
        "duration": 7508,
        "start_time": "2022-08-26T07:14:20.025Z"
      },
      {
        "duration": 4,
        "start_time": "2022-08-26T07:14:27.535Z"
      },
      {
        "duration": 5936135,
        "start_time": "2022-08-26T07:14:27.540Z"
      },
      {
        "duration": 14,
        "start_time": "2022-08-26T08:53:23.680Z"
      },
      {
        "duration": 130484,
        "start_time": "2022-08-26T08:53:23.698Z"
      },
      {
        "duration": 473355,
        "start_time": "2022-08-26T08:55:34.184Z"
      },
      {
        "duration": 3,
        "start_time": "2022-08-26T09:03:27.541Z"
      },
      {
        "duration": 10018,
        "start_time": "2022-08-26T09:03:27.546Z"
      },
      {
        "duration": 156130,
        "start_time": "2022-08-26T09:03:37.569Z"
      },
      {
        "duration": 4,
        "start_time": "2022-08-26T09:06:13.700Z"
      },
      {
        "duration": 1176,
        "start_time": "2022-08-26T09:06:13.706Z"
      },
      {
        "duration": 53,
        "start_time": "2022-08-26T10:59:46.044Z"
      },
      {
        "duration": 2545,
        "start_time": "2022-08-26T11:00:01.682Z"
      },
      {
        "duration": 3358,
        "start_time": "2022-08-26T11:00:04.229Z"
      },
      {
        "duration": 3,
        "start_time": "2022-08-26T11:00:07.589Z"
      },
      {
        "duration": 24,
        "start_time": "2022-08-26T11:00:07.594Z"
      },
      {
        "duration": 37,
        "start_time": "2022-08-26T11:00:07.620Z"
      },
      {
        "duration": 10,
        "start_time": "2022-08-26T11:00:07.659Z"
      },
      {
        "duration": 10,
        "start_time": "2022-08-26T11:00:07.670Z"
      },
      {
        "duration": 17,
        "start_time": "2022-08-26T11:00:07.681Z"
      },
      {
        "duration": 85481,
        "start_time": "2022-08-26T11:00:07.700Z"
      },
      {
        "duration": 9,
        "start_time": "2022-08-26T11:01:33.184Z"
      },
      {
        "duration": 7,
        "start_time": "2022-08-26T11:01:33.194Z"
      },
      {
        "duration": 109,
        "start_time": "2022-08-26T11:01:33.202Z"
      },
      {
        "duration": 2,
        "start_time": "2022-08-26T11:01:33.313Z"
      },
      {
        "duration": 7210,
        "start_time": "2022-08-26T11:01:33.317Z"
      },
      {
        "duration": 3,
        "start_time": "2022-08-26T11:01:40.529Z"
      },
      {
        "duration": 5404035,
        "start_time": "2022-08-26T11:01:40.534Z"
      },
      {
        "duration": 4,
        "start_time": "2022-08-26T12:31:44.571Z"
      },
      {
        "duration": 110991,
        "start_time": "2022-08-26T12:31:44.578Z"
      },
      {
        "duration": 1184433,
        "start_time": "2022-08-26T12:33:35.571Z"
      },
      {
        "duration": 4,
        "start_time": "2022-08-26T12:53:20.006Z"
      },
      {
        "duration": 17128,
        "start_time": "2022-08-26T12:53:20.011Z"
      },
      {
        "duration": 159078,
        "start_time": "2022-08-26T12:53:37.141Z"
      },
      {
        "duration": 4,
        "start_time": "2022-08-26T12:56:16.221Z"
      },
      {
        "duration": 1291,
        "start_time": "2022-08-26T12:56:16.226Z"
      },
      {
        "duration": 2259,
        "start_time": "2022-08-26T13:06:21.113Z"
      },
      {
        "duration": 3407,
        "start_time": "2022-08-26T13:06:23.374Z"
      },
      {
        "duration": 5,
        "start_time": "2022-08-26T13:06:26.783Z"
      },
      {
        "duration": 22,
        "start_time": "2022-08-26T13:06:26.790Z"
      },
      {
        "duration": 37,
        "start_time": "2022-08-26T13:06:26.814Z"
      },
      {
        "duration": 10,
        "start_time": "2022-08-26T13:06:26.853Z"
      },
      {
        "duration": 32,
        "start_time": "2022-08-26T13:06:26.865Z"
      },
      {
        "duration": 6,
        "start_time": "2022-08-26T13:06:26.899Z"
      },
      {
        "duration": 84498,
        "start_time": "2022-08-26T13:06:26.907Z"
      },
      {
        "duration": 10,
        "start_time": "2022-08-26T13:07:51.407Z"
      },
      {
        "duration": 5,
        "start_time": "2022-08-26T13:07:51.420Z"
      },
      {
        "duration": 126,
        "start_time": "2022-08-26T13:07:51.427Z"
      },
      {
        "duration": 5,
        "start_time": "2022-08-26T13:07:51.556Z"
      },
      {
        "duration": 7660,
        "start_time": "2022-08-26T13:07:51.565Z"
      },
      {
        "duration": 4,
        "start_time": "2022-08-26T13:07:59.226Z"
      },
      {
        "duration": 5624643,
        "start_time": "2022-08-26T13:07:59.232Z"
      },
      {
        "duration": 4,
        "start_time": "2022-08-26T14:41:43.967Z"
      },
      {
        "duration": 109907,
        "start_time": "2022-08-26T14:41:43.972Z"
      },
      {
        "duration": 1041912,
        "start_time": "2022-08-26T14:43:33.881Z"
      },
      {
        "duration": 3,
        "start_time": "2022-08-26T15:00:55.795Z"
      },
      {
        "duration": 151,
        "start_time": "2022-08-26T15:00:55.800Z"
      },
      {
        "duration": 0,
        "start_time": "2022-08-26T15:00:55.953Z"
      },
      {
        "duration": 0,
        "start_time": "2022-08-26T15:00:55.954Z"
      },
      {
        "duration": 0,
        "start_time": "2022-08-26T15:00:55.954Z"
      },
      {
        "duration": 0,
        "start_time": "2022-08-26T15:00:55.956Z"
      },
      {
        "duration": 0,
        "start_time": "2022-08-26T15:00:55.957Z"
      },
      {
        "duration": 0,
        "start_time": "2022-08-26T15:00:55.968Z"
      },
      {
        "duration": 0,
        "start_time": "2022-08-26T15:00:55.969Z"
      },
      {
        "duration": 10,
        "start_time": "2022-08-26T15:03:59.338Z"
      },
      {
        "duration": 3,
        "start_time": "2022-08-26T15:06:13.294Z"
      },
      {
        "duration": 3,
        "start_time": "2022-08-26T15:06:24.372Z"
      },
      {
        "duration": 0,
        "start_time": "2022-08-26T15:21:48.911Z"
      },
      {
        "duration": 187,
        "start_time": "2022-08-26T15:21:58.892Z"
      },
      {
        "duration": 968,
        "start_time": "2022-08-26T15:21:59.081Z"
      },
      {
        "duration": 3,
        "start_time": "2022-08-26T15:22:00.051Z"
      },
      {
        "duration": 9,
        "start_time": "2022-08-26T15:22:02.183Z"
      },
      {
        "duration": 35,
        "start_time": "2022-08-26T15:22:04.197Z"
      },
      {
        "duration": 7,
        "start_time": "2022-08-26T15:22:05.744Z"
      },
      {
        "duration": 8,
        "start_time": "2022-08-26T15:22:06.556Z"
      },
      {
        "duration": 4,
        "start_time": "2022-08-26T15:22:10.617Z"
      },
      {
        "duration": 81765,
        "start_time": "2022-08-26T15:22:11.984Z"
      },
      {
        "duration": 3,
        "start_time": "2022-08-26T15:23:33.751Z"
      },
      {
        "duration": 5,
        "start_time": "2022-08-26T15:23:33.768Z"
      },
      {
        "duration": 114,
        "start_time": "2022-08-26T15:23:33.775Z"
      },
      {
        "duration": 16,
        "start_time": "2022-08-26T15:23:33.890Z"
      },
      {
        "duration": 7390,
        "start_time": "2022-08-26T15:23:33.908Z"
      },
      {
        "duration": 4,
        "start_time": "2022-08-26T15:23:41.299Z"
      },
      {
        "duration": 682518,
        "start_time": "2022-08-26T15:23:41.304Z"
      },
      {
        "duration": 4,
        "start_time": "2022-08-26T15:35:03.823Z"
      },
      {
        "duration": 9605,
        "start_time": "2022-08-26T15:35:03.830Z"
      },
      {
        "duration": 203123,
        "start_time": "2022-08-26T15:35:25.749Z"
      },
      {
        "duration": 3,
        "start_time": "2022-08-26T15:38:48.874Z"
      },
      {
        "duration": 16,
        "start_time": "2022-08-26T15:38:48.878Z"
      },
      {
        "duration": 0,
        "start_time": "2022-08-26T15:38:48.896Z"
      },
      {
        "duration": 11,
        "start_time": "2022-08-26T15:40:03.026Z"
      },
      {
        "duration": 12,
        "start_time": "2022-08-26T15:40:10.579Z"
      },
      {
        "duration": 10,
        "start_time": "2022-08-26T15:40:18.875Z"
      },
      {
        "duration": 6,
        "start_time": "2022-08-26T15:42:19.021Z"
      },
      {
        "duration": 853,
        "start_time": "2022-08-26T15:42:19.029Z"
      },
      {
        "duration": 3,
        "start_time": "2022-08-26T15:42:19.884Z"
      },
      {
        "duration": 13,
        "start_time": "2022-08-26T15:42:19.888Z"
      },
      {
        "duration": 33,
        "start_time": "2022-08-26T15:42:19.903Z"
      },
      {
        "duration": 6,
        "start_time": "2022-08-26T15:42:19.937Z"
      },
      {
        "duration": 7,
        "start_time": "2022-08-26T15:42:19.968Z"
      },
      {
        "duration": 3,
        "start_time": "2022-08-26T15:42:19.977Z"
      },
      {
        "duration": 17746,
        "start_time": "2022-08-26T15:42:19.982Z"
      },
      {
        "duration": 0,
        "start_time": "2022-08-26T15:42:37.731Z"
      },
      {
        "duration": 0,
        "start_time": "2022-08-26T15:42:37.732Z"
      },
      {
        "duration": 0,
        "start_time": "2022-08-26T15:42:37.733Z"
      },
      {
        "duration": 0,
        "start_time": "2022-08-26T15:42:37.734Z"
      },
      {
        "duration": 0,
        "start_time": "2022-08-26T15:42:37.735Z"
      },
      {
        "duration": 0,
        "start_time": "2022-08-26T15:42:37.736Z"
      },
      {
        "duration": 0,
        "start_time": "2022-08-26T15:42:37.737Z"
      },
      {
        "duration": 0,
        "start_time": "2022-08-26T15:42:37.738Z"
      },
      {
        "duration": 0,
        "start_time": "2022-08-26T15:42:37.739Z"
      },
      {
        "duration": 0,
        "start_time": "2022-08-26T15:42:37.740Z"
      },
      {
        "duration": 0,
        "start_time": "2022-08-26T15:42:37.741Z"
      },
      {
        "duration": 0,
        "start_time": "2022-08-26T15:42:37.742Z"
      },
      {
        "duration": 0,
        "start_time": "2022-08-26T15:42:37.743Z"
      },
      {
        "duration": 0,
        "start_time": "2022-08-26T15:42:37.744Z"
      },
      {
        "duration": 0,
        "start_time": "2022-08-26T15:42:37.768Z"
      },
      {
        "duration": 0,
        "start_time": "2022-08-26T15:42:37.769Z"
      },
      {
        "duration": 0,
        "start_time": "2022-08-26T15:42:37.770Z"
      },
      {
        "duration": 0,
        "start_time": "2022-08-26T15:42:37.771Z"
      },
      {
        "duration": 0,
        "start_time": "2022-08-26T15:42:37.773Z"
      },
      {
        "duration": 7,
        "start_time": "2022-08-26T15:42:45.582Z"
      },
      {
        "duration": 840,
        "start_time": "2022-08-26T15:42:45.592Z"
      },
      {
        "duration": 2,
        "start_time": "2022-08-26T15:42:46.434Z"
      },
      {
        "duration": 13,
        "start_time": "2022-08-26T15:42:46.437Z"
      },
      {
        "duration": 43,
        "start_time": "2022-08-26T15:42:46.452Z"
      },
      {
        "duration": 7,
        "start_time": "2022-08-26T15:42:46.497Z"
      },
      {
        "duration": 9,
        "start_time": "2022-08-26T15:42:46.506Z"
      },
      {
        "duration": 6,
        "start_time": "2022-08-26T15:42:46.517Z"
      },
      {
        "duration": 1742,
        "start_time": "2022-08-26T16:54:23.987Z"
      },
      {
        "duration": 3471,
        "start_time": "2022-08-26T16:54:25.731Z"
      },
      {
        "duration": 2,
        "start_time": "2022-08-26T16:54:29.204Z"
      },
      {
        "duration": 18,
        "start_time": "2022-08-26T16:54:29.208Z"
      },
      {
        "duration": 39,
        "start_time": "2022-08-26T16:54:29.229Z"
      },
      {
        "duration": 8,
        "start_time": "2022-08-26T16:54:29.269Z"
      },
      {
        "duration": 35,
        "start_time": "2022-08-26T16:54:29.278Z"
      },
      {
        "duration": 4,
        "start_time": "2022-08-26T16:54:29.315Z"
      },
      {
        "duration": 74071,
        "start_time": "2022-08-26T16:54:29.321Z"
      },
      {
        "duration": 4,
        "start_time": "2022-08-26T16:55:43.394Z"
      },
      {
        "duration": 8,
        "start_time": "2022-08-26T16:55:43.399Z"
      },
      {
        "duration": 80,
        "start_time": "2022-08-26T16:55:43.408Z"
      },
      {
        "duration": 3,
        "start_time": "2022-08-26T16:55:43.489Z"
      },
      {
        "duration": 6159,
        "start_time": "2022-08-26T16:55:43.505Z"
      },
      {
        "duration": 4,
        "start_time": "2022-08-26T16:55:49.666Z"
      },
      {
        "duration": 4949836,
        "start_time": "2022-08-26T16:55:49.671Z"
      },
      {
        "duration": 3,
        "start_time": "2022-08-26T18:18:19.509Z"
      },
      {
        "duration": 105393,
        "start_time": "2022-08-26T18:18:19.513Z"
      },
      {
        "duration": 826588,
        "start_time": "2022-08-26T18:20:04.908Z"
      },
      {
        "duration": 9,
        "start_time": "2022-08-26T18:33:51.497Z"
      },
      {
        "duration": 11747,
        "start_time": "2022-08-26T18:33:51.508Z"
      },
      {
        "duration": 108053,
        "start_time": "2022-08-26T18:34:03.257Z"
      },
      {
        "duration": 3,
        "start_time": "2022-08-26T18:35:51.311Z"
      },
      {
        "duration": 885,
        "start_time": "2022-08-26T18:35:51.316Z"
      },
      {
        "duration": 1547,
        "start_time": "2022-08-26T18:47:42.689Z"
      },
      {
        "duration": 3248,
        "start_time": "2022-08-26T18:47:44.238Z"
      },
      {
        "duration": 3,
        "start_time": "2022-08-26T18:47:47.487Z"
      },
      {
        "duration": 17,
        "start_time": "2022-08-26T18:47:47.491Z"
      },
      {
        "duration": 31,
        "start_time": "2022-08-26T18:47:47.510Z"
      },
      {
        "duration": 6,
        "start_time": "2022-08-26T18:47:47.542Z"
      },
      {
        "duration": 7,
        "start_time": "2022-08-26T18:47:47.550Z"
      },
      {
        "duration": 2,
        "start_time": "2022-08-26T18:47:47.559Z"
      },
      {
        "duration": 70613,
        "start_time": "2022-08-26T18:47:47.563Z"
      },
      {
        "duration": 5,
        "start_time": "2022-08-26T18:48:58.178Z"
      },
      {
        "duration": 6,
        "start_time": "2022-08-26T18:48:58.184Z"
      },
      {
        "duration": 81,
        "start_time": "2022-08-26T18:48:58.191Z"
      },
      {
        "duration": 3,
        "start_time": "2022-08-26T18:48:58.273Z"
      },
      {
        "duration": 5808,
        "start_time": "2022-08-26T18:48:58.278Z"
      },
      {
        "duration": 3,
        "start_time": "2022-08-26T18:49:04.087Z"
      },
      {
        "duration": 1760,
        "start_time": "2022-08-27T03:58:05.288Z"
      },
      {
        "duration": 2424,
        "start_time": "2022-08-27T03:58:07.050Z"
      },
      {
        "duration": 3,
        "start_time": "2022-08-27T03:58:09.475Z"
      },
      {
        "duration": 18,
        "start_time": "2022-08-27T03:58:09.479Z"
      },
      {
        "duration": 34,
        "start_time": "2022-08-27T03:58:09.499Z"
      },
      {
        "duration": 5,
        "start_time": "2022-08-27T03:58:09.535Z"
      },
      {
        "duration": 9,
        "start_time": "2022-08-27T03:58:09.542Z"
      },
      {
        "duration": 3,
        "start_time": "2022-08-27T03:58:09.553Z"
      },
      {
        "duration": 79109,
        "start_time": "2022-08-27T03:58:09.557Z"
      },
      {
        "duration": 7,
        "start_time": "2022-08-27T03:59:28.667Z"
      },
      {
        "duration": 8,
        "start_time": "2022-08-27T03:59:28.675Z"
      },
      {
        "duration": 85,
        "start_time": "2022-08-27T03:59:28.684Z"
      },
      {
        "duration": 3,
        "start_time": "2022-08-27T03:59:28.770Z"
      },
      {
        "duration": 6541,
        "start_time": "2022-08-27T03:59:28.776Z"
      },
      {
        "duration": 4,
        "start_time": "2022-08-27T03:59:35.318Z"
      },
      {
        "duration": 1630,
        "start_time": "2022-08-27T18:12:13.703Z"
      },
      {
        "duration": 2302,
        "start_time": "2022-08-27T18:12:15.335Z"
      },
      {
        "duration": 2,
        "start_time": "2022-08-27T18:12:17.639Z"
      },
      {
        "duration": 18,
        "start_time": "2022-08-27T18:12:17.643Z"
      },
      {
        "duration": 31,
        "start_time": "2022-08-27T18:12:17.663Z"
      },
      {
        "duration": 7,
        "start_time": "2022-08-27T18:12:17.696Z"
      },
      {
        "duration": 8,
        "start_time": "2022-08-27T18:12:17.704Z"
      },
      {
        "duration": 3,
        "start_time": "2022-08-27T18:12:17.714Z"
      },
      {
        "duration": 77827,
        "start_time": "2022-08-27T18:12:17.719Z"
      },
      {
        "duration": 3,
        "start_time": "2022-08-27T18:13:35.548Z"
      },
      {
        "duration": 8,
        "start_time": "2022-08-27T18:13:35.553Z"
      },
      {
        "duration": 83,
        "start_time": "2022-08-27T18:13:35.562Z"
      },
      {
        "duration": 2,
        "start_time": "2022-08-27T18:13:35.647Z"
      },
      {
        "duration": 6254,
        "start_time": "2022-08-27T18:13:35.651Z"
      },
      {
        "duration": 3,
        "start_time": "2022-08-27T18:13:41.907Z"
      },
      {
        "duration": 5943180,
        "start_time": "2022-08-27T18:13:41.912Z"
      },
      {
        "duration": 4,
        "start_time": "2022-08-27T19:52:45.099Z"
      },
      {
        "duration": 131393,
        "start_time": "2022-08-27T19:52:45.105Z"
      },
      {
        "duration": 71,
        "start_time": "2022-08-28T06:38:30.129Z"
      },
      {
        "duration": 1716,
        "start_time": "2022-08-28T06:38:36.579Z"
      },
      {
        "duration": 2382,
        "start_time": "2022-08-28T06:38:38.297Z"
      },
      {
        "duration": 3,
        "start_time": "2022-08-28T06:38:40.680Z"
      },
      {
        "duration": 27,
        "start_time": "2022-08-28T06:38:40.685Z"
      },
      {
        "duration": 44,
        "start_time": "2022-08-28T06:38:40.714Z"
      },
      {
        "duration": 17,
        "start_time": "2022-08-28T06:38:40.760Z"
      },
      {
        "duration": 36,
        "start_time": "2022-08-28T06:38:40.779Z"
      },
      {
        "duration": 34,
        "start_time": "2022-08-28T06:38:40.817Z"
      },
      {
        "duration": 85284,
        "start_time": "2022-08-28T06:38:40.854Z"
      },
      {
        "duration": 4,
        "start_time": "2022-08-28T06:40:06.142Z"
      },
      {
        "duration": 6,
        "start_time": "2022-08-28T06:40:06.148Z"
      },
      {
        "duration": 115,
        "start_time": "2022-08-28T06:40:06.156Z"
      },
      {
        "duration": 3,
        "start_time": "2022-08-28T06:40:06.273Z"
      },
      {
        "duration": 6860,
        "start_time": "2022-08-28T06:40:06.287Z"
      },
      {
        "duration": 4,
        "start_time": "2022-08-28T06:40:13.149Z"
      },
      {
        "duration": 6376140,
        "start_time": "2022-08-28T06:40:13.154Z"
      },
      {
        "duration": 7,
        "start_time": "2022-08-28T08:26:29.301Z"
      },
      {
        "duration": 101673,
        "start_time": "2022-08-28T08:26:29.314Z"
      },
      {
        "duration": 1168699,
        "start_time": "2022-08-28T08:28:10.990Z"
      },
      {
        "duration": 4,
        "start_time": "2022-08-28T08:47:39.691Z"
      },
      {
        "duration": 16416,
        "start_time": "2022-08-28T08:47:39.696Z"
      },
      {
        "duration": 120762,
        "start_time": "2022-08-28T08:47:56.115Z"
      },
      {
        "duration": 3,
        "start_time": "2022-08-28T08:49:56.879Z"
      },
      {
        "duration": 969,
        "start_time": "2022-08-28T08:49:56.887Z"
      },
      {
        "duration": 1666,
        "start_time": "2022-08-28T08:59:00.358Z"
      },
      {
        "duration": 2630,
        "start_time": "2022-08-28T08:59:02.027Z"
      },
      {
        "duration": 3,
        "start_time": "2022-08-28T08:59:04.659Z"
      },
      {
        "duration": 19,
        "start_time": "2022-08-28T08:59:04.664Z"
      },
      {
        "duration": 42,
        "start_time": "2022-08-28T08:59:04.684Z"
      },
      {
        "duration": 7,
        "start_time": "2022-08-28T08:59:04.727Z"
      },
      {
        "duration": 9,
        "start_time": "2022-08-28T08:59:04.736Z"
      },
      {
        "duration": 4,
        "start_time": "2022-08-28T08:59:04.746Z"
      },
      {
        "duration": 89651,
        "start_time": "2022-08-28T08:59:04.751Z"
      },
      {
        "duration": 6,
        "start_time": "2022-08-28T09:00:34.407Z"
      },
      {
        "duration": 8,
        "start_time": "2022-08-28T09:00:34.414Z"
      },
      {
        "duration": 104,
        "start_time": "2022-08-28T09:00:34.425Z"
      },
      {
        "duration": 4,
        "start_time": "2022-08-28T09:00:34.530Z"
      },
      {
        "duration": 7230,
        "start_time": "2022-08-28T09:00:34.535Z"
      },
      {
        "duration": 4,
        "start_time": "2022-08-28T09:00:41.766Z"
      },
      {
        "duration": 6306525,
        "start_time": "2022-08-28T09:00:41.772Z"
      },
      {
        "duration": 5,
        "start_time": "2022-08-28T10:45:48.299Z"
      },
      {
        "duration": 136784,
        "start_time": "2022-08-28T10:45:48.306Z"
      },
      {
        "duration": 937572,
        "start_time": "2022-08-28T10:48:05.092Z"
      },
      {
        "duration": 3,
        "start_time": "2022-08-28T11:03:42.666Z"
      },
      {
        "duration": 20324,
        "start_time": "2022-08-28T11:03:42.671Z"
      },
      {
        "duration": 153512,
        "start_time": "2022-08-28T11:04:02.998Z"
      },
      {
        "duration": 4,
        "start_time": "2022-08-28T11:06:36.512Z"
      },
      {
        "duration": 1091,
        "start_time": "2022-08-28T11:06:36.518Z"
      },
      {
        "duration": 78,
        "start_time": "2022-08-28T11:22:01.841Z"
      },
      {
        "duration": 1786,
        "start_time": "2022-08-28T11:22:12.191Z"
      },
      {
        "duration": 2607,
        "start_time": "2022-08-28T11:22:13.980Z"
      },
      {
        "duration": 2,
        "start_time": "2022-08-28T11:22:19.982Z"
      },
      {
        "duration": 15,
        "start_time": "2022-08-28T11:22:20.640Z"
      },
      {
        "duration": 34,
        "start_time": "2022-08-28T11:22:24.889Z"
      },
      {
        "duration": 7,
        "start_time": "2022-08-28T11:22:25.788Z"
      },
      {
        "duration": 11,
        "start_time": "2022-08-28T11:22:27.709Z"
      },
      {
        "duration": 3,
        "start_time": "2022-08-28T11:22:29.514Z"
      },
      {
        "duration": 83971,
        "start_time": "2022-08-28T11:22:30.111Z"
      },
      {
        "duration": 10,
        "start_time": "2022-08-28T11:23:54.084Z"
      },
      {
        "duration": 8,
        "start_time": "2022-08-28T11:23:54.095Z"
      },
      {
        "duration": 97,
        "start_time": "2022-08-28T11:23:54.105Z"
      },
      {
        "duration": 3,
        "start_time": "2022-08-28T11:23:54.204Z"
      },
      {
        "duration": 7186,
        "start_time": "2022-08-28T11:23:54.209Z"
      },
      {
        "duration": 4,
        "start_time": "2022-08-28T11:24:01.397Z"
      },
      {
        "duration": 2994550,
        "start_time": "2022-08-28T11:24:01.402Z"
      },
      {
        "duration": 4,
        "start_time": "2022-08-28T12:13:55.954Z"
      },
      {
        "duration": 6,
        "start_time": "2022-08-28T12:16:20.050Z"
      },
      {
        "duration": 919,
        "start_time": "2022-08-28T12:16:20.058Z"
      },
      {
        "duration": 3,
        "start_time": "2022-08-28T12:16:20.979Z"
      },
      {
        "duration": 31,
        "start_time": "2022-08-28T12:16:20.983Z"
      },
      {
        "duration": 39,
        "start_time": "2022-08-28T12:16:21.015Z"
      },
      {
        "duration": 5,
        "start_time": "2022-08-28T12:16:21.056Z"
      },
      {
        "duration": 7,
        "start_time": "2022-08-28T12:16:21.063Z"
      },
      {
        "duration": 6,
        "start_time": "2022-08-28T12:16:21.072Z"
      },
      {
        "duration": 34602,
        "start_time": "2022-08-28T12:16:21.080Z"
      },
      {
        "duration": 0,
        "start_time": "2022-08-28T12:16:55.684Z"
      },
      {
        "duration": 0,
        "start_time": "2022-08-28T12:16:55.691Z"
      },
      {
        "duration": 0,
        "start_time": "2022-08-28T12:16:55.692Z"
      },
      {
        "duration": 0,
        "start_time": "2022-08-28T12:16:55.693Z"
      },
      {
        "duration": 0,
        "start_time": "2022-08-28T12:16:55.694Z"
      },
      {
        "duration": 0,
        "start_time": "2022-08-28T12:16:55.695Z"
      },
      {
        "duration": 0,
        "start_time": "2022-08-28T12:16:55.696Z"
      },
      {
        "duration": 0,
        "start_time": "2022-08-28T12:16:55.697Z"
      },
      {
        "duration": 0,
        "start_time": "2022-08-28T12:16:55.698Z"
      },
      {
        "duration": 0,
        "start_time": "2022-08-28T12:16:55.698Z"
      },
      {
        "duration": 0,
        "start_time": "2022-08-28T12:16:55.699Z"
      },
      {
        "duration": 0,
        "start_time": "2022-08-28T12:16:55.700Z"
      },
      {
        "duration": 0,
        "start_time": "2022-08-28T12:16:55.702Z"
      },
      {
        "duration": 0,
        "start_time": "2022-08-28T12:16:55.703Z"
      },
      {
        "duration": 0,
        "start_time": "2022-08-28T12:16:55.704Z"
      },
      {
        "duration": 0,
        "start_time": "2022-08-28T12:16:55.705Z"
      },
      {
        "duration": 0,
        "start_time": "2022-08-28T12:16:55.706Z"
      },
      {
        "duration": 0,
        "start_time": "2022-08-28T12:16:55.708Z"
      },
      {
        "duration": 0,
        "start_time": "2022-08-28T12:16:55.709Z"
      },
      {
        "duration": 6,
        "start_time": "2022-08-28T12:17:00.807Z"
      },
      {
        "duration": 991,
        "start_time": "2022-08-28T12:17:00.816Z"
      },
      {
        "duration": 3,
        "start_time": "2022-08-28T12:17:01.809Z"
      },
      {
        "duration": 23,
        "start_time": "2022-08-28T12:17:01.814Z"
      },
      {
        "duration": 52,
        "start_time": "2022-08-28T12:17:01.839Z"
      },
      {
        "duration": 34,
        "start_time": "2022-08-28T12:17:01.895Z"
      },
      {
        "duration": 30,
        "start_time": "2022-08-28T12:17:01.931Z"
      },
      {
        "duration": 45,
        "start_time": "2022-08-28T12:17:01.962Z"
      },
      {
        "duration": 0,
        "start_time": "2022-08-28T12:17:59.800Z"
      },
      {
        "duration": 0,
        "start_time": "2022-08-28T12:17:59.802Z"
      },
      {
        "duration": 0,
        "start_time": "2022-08-28T12:17:59.804Z"
      },
      {
        "duration": 0,
        "start_time": "2022-08-28T12:17:59.805Z"
      },
      {
        "duration": 0,
        "start_time": "2022-08-28T12:17:59.807Z"
      },
      {
        "duration": 0,
        "start_time": "2022-08-28T12:17:59.810Z"
      },
      {
        "duration": 0,
        "start_time": "2022-08-28T12:17:59.814Z"
      },
      {
        "duration": 0,
        "start_time": "2022-08-28T12:17:59.816Z"
      },
      {
        "duration": 0,
        "start_time": "2022-08-28T12:17:59.818Z"
      },
      {
        "duration": 0,
        "start_time": "2022-08-28T12:17:59.820Z"
      },
      {
        "duration": 0,
        "start_time": "2022-08-28T12:17:59.822Z"
      },
      {
        "duration": 0,
        "start_time": "2022-08-28T12:17:59.824Z"
      },
      {
        "duration": 0,
        "start_time": "2022-08-28T12:17:59.826Z"
      },
      {
        "duration": 0,
        "start_time": "2022-08-28T12:17:59.828Z"
      },
      {
        "duration": 0,
        "start_time": "2022-08-28T12:17:59.829Z"
      },
      {
        "duration": 0,
        "start_time": "2022-08-28T12:17:59.830Z"
      },
      {
        "duration": 0,
        "start_time": "2022-08-28T12:17:59.831Z"
      },
      {
        "duration": 0,
        "start_time": "2022-08-28T12:17:59.832Z"
      },
      {
        "duration": 0,
        "start_time": "2022-08-28T12:17:59.833Z"
      },
      {
        "duration": 0,
        "start_time": "2022-08-28T12:17:59.834Z"
      },
      {
        "duration": 0,
        "start_time": "2022-08-28T12:17:59.891Z"
      },
      {
        "duration": 0,
        "start_time": "2022-08-28T12:17:59.891Z"
      },
      {
        "duration": 0,
        "start_time": "2022-08-28T12:17:59.892Z"
      },
      {
        "duration": 0,
        "start_time": "2022-08-28T12:17:59.893Z"
      },
      {
        "duration": 0,
        "start_time": "2022-08-28T12:17:59.893Z"
      },
      {
        "duration": 0,
        "start_time": "2022-08-28T12:17:59.894Z"
      },
      {
        "duration": 0,
        "start_time": "2022-08-28T12:17:59.895Z"
      },
      {
        "duration": 0,
        "start_time": "2022-08-28T12:17:59.896Z"
      },
      {
        "duration": 6,
        "start_time": "2022-08-28T12:18:04.220Z"
      },
      {
        "duration": 1027,
        "start_time": "2022-08-28T12:18:04.228Z"
      },
      {
        "duration": 3,
        "start_time": "2022-08-28T12:18:05.257Z"
      },
      {
        "duration": 14,
        "start_time": "2022-08-28T12:18:05.262Z"
      },
      {
        "duration": 63,
        "start_time": "2022-08-28T12:18:05.278Z"
      },
      {
        "duration": 9,
        "start_time": "2022-08-28T12:18:05.344Z"
      },
      {
        "duration": 10,
        "start_time": "2022-08-28T12:18:05.355Z"
      },
      {
        "duration": 12,
        "start_time": "2022-08-28T12:18:05.367Z"
      },
      {
        "duration": 90989,
        "start_time": "2022-08-28T12:18:05.381Z"
      },
      {
        "duration": 4,
        "start_time": "2022-08-28T12:19:36.373Z"
      },
      {
        "duration": 43,
        "start_time": "2022-08-28T12:19:36.390Z"
      },
      {
        "duration": 131,
        "start_time": "2022-08-28T12:19:36.435Z"
      },
      {
        "duration": 23,
        "start_time": "2022-08-28T12:19:36.568Z"
      },
      {
        "duration": 7197,
        "start_time": "2022-08-28T12:19:36.593Z"
      },
      {
        "duration": 5,
        "start_time": "2022-08-28T12:19:43.795Z"
      },
      {
        "duration": 6296397,
        "start_time": "2022-08-28T12:19:43.801Z"
      },
      {
        "duration": 6,
        "start_time": "2022-08-28T14:04:40.287Z"
      },
      {
        "duration": 105704,
        "start_time": "2022-08-28T14:04:40.295Z"
      },
      {
        "duration": 959920,
        "start_time": "2022-08-28T14:06:26.001Z"
      },
      {
        "duration": 4,
        "start_time": "2022-08-28T14:22:25.923Z"
      },
      {
        "duration": 10698,
        "start_time": "2022-08-28T14:22:25.930Z"
      },
      {
        "duration": 145367,
        "start_time": "2022-08-28T14:22:36.630Z"
      },
      {
        "duration": 8,
        "start_time": "2022-08-28T14:25:01.999Z"
      },
      {
        "duration": 1131,
        "start_time": "2022-08-28T14:25:02.010Z"
      },
      {
        "duration": 2972623,
        "start_time": "2022-08-28T14:25:03.143Z"
      },
      {
        "duration": 3,
        "start_time": "2022-08-28T15:14:35.767Z"
      },
      {
        "duration": 204368,
        "start_time": "2022-08-28T15:14:35.772Z"
      },
      {
        "duration": 11,
        "start_time": "2022-08-28T15:18:00.142Z"
      },
      {
        "duration": 1795,
        "start_time": "2022-08-29T07:33:21.331Z"
      },
      {
        "duration": 2190,
        "start_time": "2022-08-29T07:33:23.128Z"
      },
      {
        "duration": 2,
        "start_time": "2022-08-29T07:33:25.320Z"
      },
      {
        "duration": 16,
        "start_time": "2022-08-29T07:33:25.324Z"
      },
      {
        "duration": 24,
        "start_time": "2022-08-29T07:33:25.341Z"
      },
      {
        "duration": 5,
        "start_time": "2022-08-29T07:33:25.366Z"
      },
      {
        "duration": 6,
        "start_time": "2022-08-29T07:33:25.373Z"
      },
      {
        "duration": 3,
        "start_time": "2022-08-29T07:33:25.380Z"
      },
      {
        "duration": 79843,
        "start_time": "2022-08-29T07:33:25.384Z"
      },
      {
        "duration": 3,
        "start_time": "2022-08-29T07:34:45.229Z"
      },
      {
        "duration": 10,
        "start_time": "2022-08-29T07:34:45.233Z"
      },
      {
        "duration": 100,
        "start_time": "2022-08-29T07:34:45.245Z"
      },
      {
        "duration": 2,
        "start_time": "2022-08-29T07:34:45.347Z"
      },
      {
        "duration": 6037,
        "start_time": "2022-08-29T07:34:45.350Z"
      },
      {
        "duration": 3,
        "start_time": "2022-08-29T07:34:51.388Z"
      },
      {
        "duration": 57,
        "start_time": "2022-08-29T07:34:51.392Z"
      },
      {
        "duration": 0,
        "start_time": "2022-08-29T07:34:51.451Z"
      },
      {
        "duration": 0,
        "start_time": "2022-08-29T07:34:51.452Z"
      },
      {
        "duration": 0,
        "start_time": "2022-08-29T07:34:51.453Z"
      },
      {
        "duration": 0,
        "start_time": "2022-08-29T07:34:51.453Z"
      },
      {
        "duration": 0,
        "start_time": "2022-08-29T07:34:51.454Z"
      },
      {
        "duration": 0,
        "start_time": "2022-08-29T07:34:51.455Z"
      },
      {
        "duration": 0,
        "start_time": "2022-08-29T07:34:51.456Z"
      },
      {
        "duration": 0,
        "start_time": "2022-08-29T07:34:51.456Z"
      },
      {
        "duration": 0,
        "start_time": "2022-08-29T07:34:51.457Z"
      },
      {
        "duration": 0,
        "start_time": "2022-08-29T07:34:51.458Z"
      },
      {
        "duration": 0,
        "start_time": "2022-08-29T07:34:51.459Z"
      },
      {
        "duration": 0,
        "start_time": "2022-08-29T07:34:51.459Z"
      },
      {
        "duration": 40,
        "start_time": "2022-08-29T07:36:10.508Z"
      },
      {
        "duration": 154,
        "start_time": "2022-08-29T07:38:39.245Z"
      },
      {
        "duration": 13,
        "start_time": "2022-08-29T07:39:05.747Z"
      },
      {
        "duration": 64,
        "start_time": "2022-08-29T07:39:14.802Z"
      },
      {
        "duration": 63,
        "start_time": "2022-08-29T07:39:30.831Z"
      },
      {
        "duration": 60,
        "start_time": "2022-08-29T07:39:57.102Z"
      },
      {
        "duration": 53,
        "start_time": "2022-08-29T07:41:54.927Z"
      },
      {
        "duration": 11,
        "start_time": "2022-08-29T07:42:25.056Z"
      },
      {
        "duration": 39,
        "start_time": "2022-08-29T07:43:11.137Z"
      },
      {
        "duration": 6,
        "start_time": "2022-08-29T07:47:53.734Z"
      },
      {
        "duration": 3,
        "start_time": "2022-08-29T07:48:00.035Z"
      },
      {
        "duration": 36,
        "start_time": "2022-08-29T07:48:21.242Z"
      },
      {
        "duration": 6,
        "start_time": "2022-08-29T07:49:55.799Z"
      },
      {
        "duration": 36,
        "start_time": "2022-08-29T07:50:00.324Z"
      },
      {
        "duration": 11,
        "start_time": "2022-08-29T07:51:31.431Z"
      },
      {
        "duration": 471898,
        "start_time": "2022-08-29T07:51:47.518Z"
      },
      {
        "duration": 3,
        "start_time": "2022-08-29T08:01:28.121Z"
      },
      {
        "duration": 480993,
        "start_time": "2022-08-29T08:05:21.927Z"
      },
      {
        "duration": 4,
        "start_time": "2022-08-29T08:13:22.922Z"
      },
      {
        "duration": 41,
        "start_time": "2022-08-29T08:13:22.927Z"
      },
      {
        "duration": 0,
        "start_time": "2022-08-29T08:13:22.970Z"
      },
      {
        "duration": 0,
        "start_time": "2022-08-29T08:13:22.971Z"
      },
      {
        "duration": 0,
        "start_time": "2022-08-29T08:13:22.972Z"
      },
      {
        "duration": 0,
        "start_time": "2022-08-29T08:13:22.973Z"
      },
      {
        "duration": 0,
        "start_time": "2022-08-29T08:13:22.974Z"
      },
      {
        "duration": 0,
        "start_time": "2022-08-29T08:13:22.975Z"
      },
      {
        "duration": 0,
        "start_time": "2022-08-29T08:13:22.976Z"
      },
      {
        "duration": 0,
        "start_time": "2022-08-29T08:13:22.977Z"
      },
      {
        "duration": 0,
        "start_time": "2022-08-29T08:13:22.978Z"
      },
      {
        "duration": 0,
        "start_time": "2022-08-29T08:13:22.978Z"
      },
      {
        "duration": 1755,
        "start_time": "2022-08-31T08:35:57.707Z"
      },
      {
        "duration": 3614,
        "start_time": "2022-08-31T08:35:59.465Z"
      },
      {
        "duration": 2,
        "start_time": "2022-08-31T08:36:03.081Z"
      },
      {
        "duration": 77,
        "start_time": "2022-08-31T08:36:03.085Z"
      },
      {
        "duration": 59,
        "start_time": "2022-08-31T08:36:03.163Z"
      },
      {
        "duration": 37,
        "start_time": "2022-08-31T08:36:03.224Z"
      },
      {
        "duration": 28,
        "start_time": "2022-08-31T08:36:03.263Z"
      },
      {
        "duration": 32,
        "start_time": "2022-08-31T08:36:03.292Z"
      },
      {
        "duration": 83148,
        "start_time": "2022-08-31T08:36:03.328Z"
      },
      {
        "duration": 4,
        "start_time": "2022-08-31T08:37:26.479Z"
      },
      {
        "duration": 5,
        "start_time": "2022-08-31T08:37:26.485Z"
      },
      {
        "duration": 95,
        "start_time": "2022-08-31T08:37:26.491Z"
      },
      {
        "duration": 2,
        "start_time": "2022-08-31T08:37:26.588Z"
      },
      {
        "duration": 6504,
        "start_time": "2022-08-31T08:37:26.592Z"
      },
      {
        "duration": 3,
        "start_time": "2022-08-31T08:37:33.098Z"
      },
      {
        "duration": 164,
        "start_time": "2022-08-31T08:37:33.102Z"
      },
      {
        "duration": 0,
        "start_time": "2022-08-31T08:37:33.268Z"
      },
      {
        "duration": 0,
        "start_time": "2022-08-31T08:37:33.269Z"
      },
      {
        "duration": 0,
        "start_time": "2022-08-31T08:37:33.270Z"
      },
      {
        "duration": 0,
        "start_time": "2022-08-31T08:37:33.271Z"
      },
      {
        "duration": 0,
        "start_time": "2022-08-31T08:37:33.272Z"
      },
      {
        "duration": 0,
        "start_time": "2022-08-31T08:37:33.273Z"
      },
      {
        "duration": 0,
        "start_time": "2022-08-31T08:37:33.275Z"
      },
      {
        "duration": 0,
        "start_time": "2022-08-31T08:37:33.276Z"
      },
      {
        "duration": 0,
        "start_time": "2022-08-31T08:37:33.277Z"
      },
      {
        "duration": 0,
        "start_time": "2022-08-31T08:37:33.278Z"
      },
      {
        "duration": 0,
        "start_time": "2022-08-31T08:37:33.279Z"
      },
      {
        "duration": 0,
        "start_time": "2022-08-31T08:37:33.280Z"
      },
      {
        "duration": 44,
        "start_time": "2022-08-31T08:50:38.438Z"
      },
      {
        "duration": 46,
        "start_time": "2022-08-31T08:51:35.529Z"
      },
      {
        "duration": 42,
        "start_time": "2022-08-31T08:51:40.656Z"
      },
      {
        "duration": 38,
        "start_time": "2022-08-31T08:53:02.757Z"
      },
      {
        "duration": 2610479,
        "start_time": "2022-08-31T08:53:30.336Z"
      },
      {
        "duration": 698,
        "start_time": "2022-08-31T09:37:29.707Z"
      },
      {
        "duration": 4,
        "start_time": "2022-08-31T09:37:39.350Z"
      },
      {
        "duration": 26,
        "start_time": "2022-08-31T09:37:42.836Z"
      },
      {
        "duration": 2,
        "start_time": "2022-08-31T09:39:26.859Z"
      },
      {
        "duration": 48409,
        "start_time": "2022-08-31T09:39:30.599Z"
      },
      {
        "duration": 3,
        "start_time": "2022-08-31T09:40:32.601Z"
      },
      {
        "duration": 49022,
        "start_time": "2022-08-31T09:40:37.350Z"
      },
      {
        "duration": 582185,
        "start_time": "2022-08-31T09:41:52.099Z"
      },
      {
        "duration": 3,
        "start_time": "2022-08-31T09:51:34.285Z"
      },
      {
        "duration": 26899,
        "start_time": "2022-08-31T09:51:34.290Z"
      },
      {
        "duration": 350669,
        "start_time": "2022-08-31T09:52:01.192Z"
      },
      {
        "duration": 4,
        "start_time": "2022-08-31T09:57:51.862Z"
      },
      {
        "duration": 8352,
        "start_time": "2022-08-31T09:57:51.868Z"
      },
      {
        "duration": 3120704,
        "start_time": "2022-08-31T09:58:00.222Z"
      },
      {
        "duration": 3,
        "start_time": "2022-08-31T10:50:00.928Z"
      },
      {
        "duration": 222639,
        "start_time": "2022-08-31T10:50:00.933Z"
      },
      {
        "duration": 9,
        "start_time": "2022-08-31T10:53:43.574Z"
      },
      {
        "duration": 4,
        "start_time": "2022-08-31T10:57:03.969Z"
      },
      {
        "duration": 121,
        "start_time": "2022-08-31T10:58:19.927Z"
      }
    ],
    "kernelspec": {
      "display_name": "Python 3 (ipykernel)",
      "language": "python",
      "name": "python3"
    },
    "language_info": {
      "codemirror_mode": {
        "name": "ipython",
        "version": 3
      },
      "file_extension": ".py",
      "mimetype": "text/x-python",
      "name": "python",
      "nbconvert_exporter": "python",
      "pygments_lexer": "ipython3",
      "version": "3.9.5"
    },
    "toc": {
      "base_numbering": 1,
      "nav_menu": {},
      "number_sections": true,
      "sideBar": true,
      "skip_h1_title": true,
      "title_cell": "Содержание",
      "title_sidebar": "Contents",
      "toc_cell": true,
      "toc_position": {
        "height": "calc(100% - 180px)",
        "left": "10px",
        "top": "150px",
        "width": "302.391px"
      },
      "toc_section_display": true,
      "toc_window_display": false
    },
    "colab": {
      "provenance": [],
      "collapsed_sections": []
    }
  },
  "nbformat": 4,
  "nbformat_minor": 0
}